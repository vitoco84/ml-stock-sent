{
 "cells": [
  {
   "metadata": {},
   "cell_type": "markdown",
   "source": "# Train and Tune Linear Regression Model without Sentiment",
   "id": "bd80e59f059773ef"
  },
  {
   "cell_type": "code",
   "id": "initial_id",
   "metadata": {
    "collapsed": true,
    "ExecuteTime": {
     "end_time": "2025-08-22T16:50:58.300325Z",
     "start_time": "2025-08-22T16:50:57.101100Z"
    }
   },
   "source": [
    "from pathlib import Path\n",
    "\n",
    "import optuna\n",
    "import optuna.visualization as vis\n",
    "import pandas as pd\n",
    "\n",
    "from src.config import Config\n",
    "from src.data import time_series_split\n",
    "from src.models.linreg import LinearElasticNet\n",
    "from src.preprocessing import get_preprocessor\n",
    "from src.train import ModelTrainer\n",
    "from src.utils import set_seed"
   ],
   "outputs": [],
   "execution_count": 1
  },
  {
   "metadata": {
    "ExecuteTime": {
     "end_time": "2025-08-22T16:50:59.380741Z",
     "start_time": "2025-08-22T16:50:58.305327Z"
    }
   },
   "cell_type": "code",
   "source": [
    "cfg = Config(Path(\"../config/config.yaml\"))\n",
    "rng = set_seed(cfg.runtime.seed)\n",
    "horizon = 30"
   ],
   "id": "4950ca6a4471af88",
   "outputs": [
    {
     "name": "stderr",
     "output_type": "stream",
     "text": [
      "2025-08-22 18:50:59,378 - INFO - src.utils - Global random seed set to 42\n"
     ]
    }
   ],
   "execution_count": 2
  },
  {
   "metadata": {
    "ExecuteTime": {
     "end_time": "2025-08-22T16:50:59.508901Z",
     "start_time": "2025-08-22T16:50:59.482412Z"
    }
   },
   "cell_type": "code",
   "source": [
    "df_full = pd.read_csv(Path(cfg.data.processed_dir) / cfg.data.name_features_full)\n",
    "df_full"
   ],
   "id": "ab993085317eb140",
   "outputs": [
    {
     "data": {
      "text/plain": [
       "            date          open          high           low         close  \\\n",
       "0     2008-09-16  10905.620117  11093.219727  10742.700195  11059.019531   \n",
       "1     2008-09-17  11056.580078  11057.309570  10595.900391  10609.660156   \n",
       "2     2008-09-18  10609.009766  11076.440430  10459.440430  11019.690430   \n",
       "3     2008-09-19  11027.509766  11483.049805  11026.700195  11388.440430   \n",
       "4     2008-09-22  11394.419922  11394.580078  10992.200195  11015.690430   \n",
       "...          ...           ...           ...           ...           ...   \n",
       "1958  2016-06-27  17355.210938  17355.210938  17063.080078  17140.240234   \n",
       "1959  2016-06-28  17190.509766  17409.720703  17190.509766  17409.720703   \n",
       "1960  2016-06-29  17456.019531  17704.509766  17456.019531  17694.679688   \n",
       "1961  2016-06-30  17712.759766  17930.609375  17711.800781  17929.990234   \n",
       "1962  2016-07-01  17924.240234  18002.380859  17916.910156  17949.369141   \n",
       "\n",
       "         volume     adj_close       pos       neu       neg  ...    sma_10  \\\n",
       "0     494760000  11059.019531  0.037859  0.649857  0.312283  ... -0.004057   \n",
       "1     463200000  10609.660156  0.020132  0.695084  0.284784  ... -0.008344   \n",
       "2     488060000  11019.690430  0.076621  0.751735  0.171643  ... -0.001518   \n",
       "3     655110000  11388.440430  0.000513  0.772076  0.227411  ...  0.001482   \n",
       "4     213210000  11015.690430  0.100864  0.619301  0.279835  ... -0.004396   \n",
       "...         ...           ...       ...       ...       ...  ...       ...   \n",
       "1958  138740000  17140.240234  0.065429  0.684537  0.250034  ... -0.003397   \n",
       "1959  112190000  17409.720703  0.086932  0.714076  0.198991  ... -0.001511   \n",
       "1960  106380000  17694.679688  0.114712  0.673349  0.211939  ...  0.000309   \n",
       "1961  133030000  17929.990234  0.040575  0.727080  0.232345  ...  0.001104   \n",
       "1962   82160000  17949.369141  0.043626  0.752016  0.204358  ...  0.001539   \n",
       "\n",
       "        ema_10    lag_25    sma_25    ema_25  quarter  dow    q_mean  \\\n",
       "0    -0.003995  0.004085 -0.002534 -0.002034        3    1 -0.002886   \n",
       "1    -0.010810 -0.011943 -0.003716 -0.005068        3    2 -0.002280   \n",
       "2    -0.001951 -0.009451 -0.001821 -0.001761        3    3 -0.003732   \n",
       "3     0.004389  0.007168 -0.000791  0.000906        3    4 -0.002244   \n",
       "4    -0.002460  0.003778 -0.002273 -0.001724        3    0 -0.001032   \n",
       "...        ...       ...       ...       ...      ...  ...       ...   \n",
       "1958 -0.006286  0.003752 -0.000833 -0.002734        2    0  0.000002   \n",
       "1959 -0.002307 -0.000458 -0.000191 -0.001324        2    1 -0.000028   \n",
       "1960  0.001064  0.012110 -0.000026  0.000027        2    2  0.000003   \n",
       "1961  0.003273  0.008182  0.000175  0.001041        2    3  0.000036   \n",
       "1962  0.002874 -0.001302  0.000271  0.001044        3    4  0.000046   \n",
       "\n",
       "         q_std    q_skew  \n",
       "0     0.016242 -0.717302  \n",
       "1     0.016211 -0.771974  \n",
       "2     0.017596 -0.770069  \n",
       "3     0.018976 -0.421549  \n",
       "4     0.019745 -0.341408  \n",
       "...        ...       ...  \n",
       "1958  0.009594 -0.183067  \n",
       "1959  0.009608 -0.180243  \n",
       "1960  0.009624 -0.180164  \n",
       "1961  0.009641 -0.179361  \n",
       "1962  0.012306 -0.836425  \n",
       "\n",
       "[1963 rows x 77 columns]"
      ],
      "text/html": [
       "<div>\n",
       "<style scoped>\n",
       "    .dataframe tbody tr th:only-of-type {\n",
       "        vertical-align: middle;\n",
       "    }\n",
       "\n",
       "    .dataframe tbody tr th {\n",
       "        vertical-align: top;\n",
       "    }\n",
       "\n",
       "    .dataframe thead th {\n",
       "        text-align: right;\n",
       "    }\n",
       "</style>\n",
       "<table border=\"1\" class=\"dataframe\">\n",
       "  <thead>\n",
       "    <tr style=\"text-align: right;\">\n",
       "      <th></th>\n",
       "      <th>date</th>\n",
       "      <th>open</th>\n",
       "      <th>high</th>\n",
       "      <th>low</th>\n",
       "      <th>close</th>\n",
       "      <th>volume</th>\n",
       "      <th>adj_close</th>\n",
       "      <th>pos</th>\n",
       "      <th>neu</th>\n",
       "      <th>neg</th>\n",
       "      <th>...</th>\n",
       "      <th>sma_10</th>\n",
       "      <th>ema_10</th>\n",
       "      <th>lag_25</th>\n",
       "      <th>sma_25</th>\n",
       "      <th>ema_25</th>\n",
       "      <th>quarter</th>\n",
       "      <th>dow</th>\n",
       "      <th>q_mean</th>\n",
       "      <th>q_std</th>\n",
       "      <th>q_skew</th>\n",
       "    </tr>\n",
       "  </thead>\n",
       "  <tbody>\n",
       "    <tr>\n",
       "      <th>0</th>\n",
       "      <td>2008-09-16</td>\n",
       "      <td>10905.620117</td>\n",
       "      <td>11093.219727</td>\n",
       "      <td>10742.700195</td>\n",
       "      <td>11059.019531</td>\n",
       "      <td>494760000</td>\n",
       "      <td>11059.019531</td>\n",
       "      <td>0.037859</td>\n",
       "      <td>0.649857</td>\n",
       "      <td>0.312283</td>\n",
       "      <td>...</td>\n",
       "      <td>-0.004057</td>\n",
       "      <td>-0.003995</td>\n",
       "      <td>0.004085</td>\n",
       "      <td>-0.002534</td>\n",
       "      <td>-0.002034</td>\n",
       "      <td>3</td>\n",
       "      <td>1</td>\n",
       "      <td>-0.002886</td>\n",
       "      <td>0.016242</td>\n",
       "      <td>-0.717302</td>\n",
       "    </tr>\n",
       "    <tr>\n",
       "      <th>1</th>\n",
       "      <td>2008-09-17</td>\n",
       "      <td>11056.580078</td>\n",
       "      <td>11057.309570</td>\n",
       "      <td>10595.900391</td>\n",
       "      <td>10609.660156</td>\n",
       "      <td>463200000</td>\n",
       "      <td>10609.660156</td>\n",
       "      <td>0.020132</td>\n",
       "      <td>0.695084</td>\n",
       "      <td>0.284784</td>\n",
       "      <td>...</td>\n",
       "      <td>-0.008344</td>\n",
       "      <td>-0.010810</td>\n",
       "      <td>-0.011943</td>\n",
       "      <td>-0.003716</td>\n",
       "      <td>-0.005068</td>\n",
       "      <td>3</td>\n",
       "      <td>2</td>\n",
       "      <td>-0.002280</td>\n",
       "      <td>0.016211</td>\n",
       "      <td>-0.771974</td>\n",
       "    </tr>\n",
       "    <tr>\n",
       "      <th>2</th>\n",
       "      <td>2008-09-18</td>\n",
       "      <td>10609.009766</td>\n",
       "      <td>11076.440430</td>\n",
       "      <td>10459.440430</td>\n",
       "      <td>11019.690430</td>\n",
       "      <td>488060000</td>\n",
       "      <td>11019.690430</td>\n",
       "      <td>0.076621</td>\n",
       "      <td>0.751735</td>\n",
       "      <td>0.171643</td>\n",
       "      <td>...</td>\n",
       "      <td>-0.001518</td>\n",
       "      <td>-0.001951</td>\n",
       "      <td>-0.009451</td>\n",
       "      <td>-0.001821</td>\n",
       "      <td>-0.001761</td>\n",
       "      <td>3</td>\n",
       "      <td>3</td>\n",
       "      <td>-0.003732</td>\n",
       "      <td>0.017596</td>\n",
       "      <td>-0.770069</td>\n",
       "    </tr>\n",
       "    <tr>\n",
       "      <th>3</th>\n",
       "      <td>2008-09-19</td>\n",
       "      <td>11027.509766</td>\n",
       "      <td>11483.049805</td>\n",
       "      <td>11026.700195</td>\n",
       "      <td>11388.440430</td>\n",
       "      <td>655110000</td>\n",
       "      <td>11388.440430</td>\n",
       "      <td>0.000513</td>\n",
       "      <td>0.772076</td>\n",
       "      <td>0.227411</td>\n",
       "      <td>...</td>\n",
       "      <td>0.001482</td>\n",
       "      <td>0.004389</td>\n",
       "      <td>0.007168</td>\n",
       "      <td>-0.000791</td>\n",
       "      <td>0.000906</td>\n",
       "      <td>3</td>\n",
       "      <td>4</td>\n",
       "      <td>-0.002244</td>\n",
       "      <td>0.018976</td>\n",
       "      <td>-0.421549</td>\n",
       "    </tr>\n",
       "    <tr>\n",
       "      <th>4</th>\n",
       "      <td>2008-09-22</td>\n",
       "      <td>11394.419922</td>\n",
       "      <td>11394.580078</td>\n",
       "      <td>10992.200195</td>\n",
       "      <td>11015.690430</td>\n",
       "      <td>213210000</td>\n",
       "      <td>11015.690430</td>\n",
       "      <td>0.100864</td>\n",
       "      <td>0.619301</td>\n",
       "      <td>0.279835</td>\n",
       "      <td>...</td>\n",
       "      <td>-0.004396</td>\n",
       "      <td>-0.002460</td>\n",
       "      <td>0.003778</td>\n",
       "      <td>-0.002273</td>\n",
       "      <td>-0.001724</td>\n",
       "      <td>3</td>\n",
       "      <td>0</td>\n",
       "      <td>-0.001032</td>\n",
       "      <td>0.019745</td>\n",
       "      <td>-0.341408</td>\n",
       "    </tr>\n",
       "    <tr>\n",
       "      <th>...</th>\n",
       "      <td>...</td>\n",
       "      <td>...</td>\n",
       "      <td>...</td>\n",
       "      <td>...</td>\n",
       "      <td>...</td>\n",
       "      <td>...</td>\n",
       "      <td>...</td>\n",
       "      <td>...</td>\n",
       "      <td>...</td>\n",
       "      <td>...</td>\n",
       "      <td>...</td>\n",
       "      <td>...</td>\n",
       "      <td>...</td>\n",
       "      <td>...</td>\n",
       "      <td>...</td>\n",
       "      <td>...</td>\n",
       "      <td>...</td>\n",
       "      <td>...</td>\n",
       "      <td>...</td>\n",
       "      <td>...</td>\n",
       "      <td>...</td>\n",
       "    </tr>\n",
       "    <tr>\n",
       "      <th>1958</th>\n",
       "      <td>2016-06-27</td>\n",
       "      <td>17355.210938</td>\n",
       "      <td>17355.210938</td>\n",
       "      <td>17063.080078</td>\n",
       "      <td>17140.240234</td>\n",
       "      <td>138740000</td>\n",
       "      <td>17140.240234</td>\n",
       "      <td>0.065429</td>\n",
       "      <td>0.684537</td>\n",
       "      <td>0.250034</td>\n",
       "      <td>...</td>\n",
       "      <td>-0.003397</td>\n",
       "      <td>-0.006286</td>\n",
       "      <td>0.003752</td>\n",
       "      <td>-0.000833</td>\n",
       "      <td>-0.002734</td>\n",
       "      <td>2</td>\n",
       "      <td>0</td>\n",
       "      <td>0.000002</td>\n",
       "      <td>0.009594</td>\n",
       "      <td>-0.183067</td>\n",
       "    </tr>\n",
       "    <tr>\n",
       "      <th>1959</th>\n",
       "      <td>2016-06-28</td>\n",
       "      <td>17190.509766</td>\n",
       "      <td>17409.720703</td>\n",
       "      <td>17190.509766</td>\n",
       "      <td>17409.720703</td>\n",
       "      <td>112190000</td>\n",
       "      <td>17409.720703</td>\n",
       "      <td>0.086932</td>\n",
       "      <td>0.714076</td>\n",
       "      <td>0.198991</td>\n",
       "      <td>...</td>\n",
       "      <td>-0.001511</td>\n",
       "      <td>-0.002307</td>\n",
       "      <td>-0.000458</td>\n",
       "      <td>-0.000191</td>\n",
       "      <td>-0.001324</td>\n",
       "      <td>2</td>\n",
       "      <td>1</td>\n",
       "      <td>-0.000028</td>\n",
       "      <td>0.009608</td>\n",
       "      <td>-0.180243</td>\n",
       "    </tr>\n",
       "    <tr>\n",
       "      <th>1960</th>\n",
       "      <td>2016-06-29</td>\n",
       "      <td>17456.019531</td>\n",
       "      <td>17704.509766</td>\n",
       "      <td>17456.019531</td>\n",
       "      <td>17694.679688</td>\n",
       "      <td>106380000</td>\n",
       "      <td>17694.679688</td>\n",
       "      <td>0.114712</td>\n",
       "      <td>0.673349</td>\n",
       "      <td>0.211939</td>\n",
       "      <td>...</td>\n",
       "      <td>0.000309</td>\n",
       "      <td>0.001064</td>\n",
       "      <td>0.012110</td>\n",
       "      <td>-0.000026</td>\n",
       "      <td>0.000027</td>\n",
       "      <td>2</td>\n",
       "      <td>2</td>\n",
       "      <td>0.000003</td>\n",
       "      <td>0.009624</td>\n",
       "      <td>-0.180164</td>\n",
       "    </tr>\n",
       "    <tr>\n",
       "      <th>1961</th>\n",
       "      <td>2016-06-30</td>\n",
       "      <td>17712.759766</td>\n",
       "      <td>17930.609375</td>\n",
       "      <td>17711.800781</td>\n",
       "      <td>17929.990234</td>\n",
       "      <td>133030000</td>\n",
       "      <td>17929.990234</td>\n",
       "      <td>0.040575</td>\n",
       "      <td>0.727080</td>\n",
       "      <td>0.232345</td>\n",
       "      <td>...</td>\n",
       "      <td>0.001104</td>\n",
       "      <td>0.003273</td>\n",
       "      <td>0.008182</td>\n",
       "      <td>0.000175</td>\n",
       "      <td>0.001041</td>\n",
       "      <td>2</td>\n",
       "      <td>3</td>\n",
       "      <td>0.000036</td>\n",
       "      <td>0.009641</td>\n",
       "      <td>-0.179361</td>\n",
       "    </tr>\n",
       "    <tr>\n",
       "      <th>1962</th>\n",
       "      <td>2016-07-01</td>\n",
       "      <td>17924.240234</td>\n",
       "      <td>18002.380859</td>\n",
       "      <td>17916.910156</td>\n",
       "      <td>17949.369141</td>\n",
       "      <td>82160000</td>\n",
       "      <td>17949.369141</td>\n",
       "      <td>0.043626</td>\n",
       "      <td>0.752016</td>\n",
       "      <td>0.204358</td>\n",
       "      <td>...</td>\n",
       "      <td>0.001539</td>\n",
       "      <td>0.002874</td>\n",
       "      <td>-0.001302</td>\n",
       "      <td>0.000271</td>\n",
       "      <td>0.001044</td>\n",
       "      <td>3</td>\n",
       "      <td>4</td>\n",
       "      <td>0.000046</td>\n",
       "      <td>0.012306</td>\n",
       "      <td>-0.836425</td>\n",
       "    </tr>\n",
       "  </tbody>\n",
       "</table>\n",
       "<p>1963 rows × 77 columns</p>\n",
       "</div>"
      ]
     },
     "execution_count": 3,
     "metadata": {},
     "output_type": "execute_result"
    }
   ],
   "execution_count": 3
  },
  {
   "metadata": {
    "ExecuteTime": {
     "end_time": "2025-08-22T16:50:59.539728Z",
     "start_time": "2025-08-22T16:50:59.534856Z"
    }
   },
   "cell_type": "code",
   "source": "train, val, test, forecast = time_series_split(df_full, train_ratio=0.8, val_ratio=0.1, horizon=horizon)",
   "id": "f722820728e9d6e5",
   "outputs": [],
   "execution_count": 4
  },
  {
   "metadata": {
    "ExecuteTime": {
     "end_time": "2025-08-22T16:50:59.626113Z",
     "start_time": "2025-08-22T16:50:59.621438Z"
    }
   },
   "cell_type": "code",
   "source": [
    "drop_cols = [\"open\", \"high\", \"low\", \"close\", \"volume\", \"adj_close\"]\n",
    "target_cols = [c for c in df_full.columns if c == \"target\" or c.startswith(\"target_\")]\n",
    "sentiment_cols = [\"pos\", \"neg\", \"neu\", \"pos_minus_neg\"] + [c for c in df_full.columns if c.startswith(\"emb_\")]\n",
    "\n",
    "feature_cols = [c for c in df_full.columns if c not in target_cols + [\"date\"] + drop_cols + sentiment_cols]\n",
    "\n",
    "X_train, y_train = train[feature_cols], train[target_cols]\n",
    "X_val, y_val = val[feature_cols], val[target_cols]\n",
    "X_test, y_test = test[feature_cols], test[target_cols]\n",
    "X_forecast = forecast[feature_cols]"
   ],
   "id": "d3a9d216c01dbafa",
   "outputs": [],
   "execution_count": 5
  },
  {
   "metadata": {
    "ExecuteTime": {
     "end_time": "2025-08-22T16:50:59.708273Z",
     "start_time": "2025-08-22T16:50:59.696113Z"
    }
   },
   "cell_type": "code",
   "source": "X_test.to_parquet(Path(cfg.data.processed_dir) / \"X_test_wo_sent_30.parquet\", index=False)",
   "id": "9c69710e7cd458d",
   "outputs": [],
   "execution_count": 6
  },
  {
   "metadata": {
    "ExecuteTime": {
     "end_time": "2025-08-22T16:50:59.782409Z",
     "start_time": "2025-08-22T16:50:59.779041Z"
    }
   },
   "cell_type": "code",
   "source": "preprocessor, _ = get_preprocessor(X_train)",
   "id": "5f4b3fd6eea35c77",
   "outputs": [],
   "execution_count": 7
  },
  {
   "metadata": {
    "ExecuteTime": {
     "end_time": "2025-08-22T16:50:59.828079Z",
     "start_time": "2025-08-22T16:50:59.824522Z"
    }
   },
   "cell_type": "code",
   "source": [
    "model = LinearElasticNet(\n",
    "    horizon=horizon,\n",
    "    multioutput=True,\n",
    "    random_state=cfg.runtime.seed,\n",
    "    max_iter=2000\n",
    ")\n",
    "\n",
    "trainer = ModelTrainer(\n",
    "    model=model,\n",
    "    name=\"enet_mo_wo_sent_30\",\n",
    "    config={\n",
    "        \"optimization_metric\": \"rmse\",\n",
    "        \"gap\": 0,\n",
    "        \"seed\": cfg.runtime.seed\n",
    "    },\n",
    "    preprocessor=preprocessor,\n",
    "    y_scale=True\n",
    ")"
   ],
   "id": "3304676125d0bd0e",
   "outputs": [
    {
     "name": "stderr",
     "output_type": "stream",
     "text": [
      "2025-08-22 18:50:59,826 - INFO - ModelTrainer - Initialized ModelTrainer for model: enet_mo_wo_sent_30\n"
     ]
    }
   ],
   "execution_count": 8
  },
  {
   "metadata": {
    "ExecuteTime": {
     "end_time": "2025-08-22T16:51:08.539527Z",
     "start_time": "2025-08-22T16:50:59.906578Z"
    }
   },
   "cell_type": "code",
   "source": [
    "study = optuna.create_study(\n",
    "    direction=\"minimize\",\n",
    "    sampler=optuna.samplers.TPESampler(seed=cfg.runtime.seed),\n",
    "    pruner=optuna.pruners.MedianPruner(n_warmup_steps=2)\n",
    ")\n",
    "\n",
    "study.optimize(lambda trial: trainer.objective(trial, X_train, y_train), n_trials=30)\n",
    "\n",
    "best_params = study.best_trial.user_attrs[\"best_params\"]\n",
    "\n",
    "pd.Series(best_params).to_csv(Path(cfg.data.processed_dir) / cfg.model.best_params_enet_mo_best_wo_sent_30)\n",
    "print(\"Best params:\", best_params)"
   ],
   "id": "dc62c1ee85c97fe9",
   "outputs": [
    {
     "name": "stderr",
     "output_type": "stream",
     "text": [
      "[I 2025-08-22 18:50:59,908] A new study created in memory with name: no-name-8916826a-5b8a-4919-963e-060a57e5c867\n",
      "D:\\IntelliJ\\ml-stock-sent\\.venv\\Lib\\site-packages\\sklearn\\linear_model\\_coordinate_descent.py:695: ConvergenceWarning: Objective did not converge. You might want to increase the number of iterations, check the scale of the features or consider increasing regularisation. Duality gap: 9.993e+01, tolerance: 3.880e-02\n",
      "  model = cd_fast.enet_coordinate_descent(\n",
      "D:\\IntelliJ\\ml-stock-sent\\.venv\\Lib\\site-packages\\sklearn\\linear_model\\_coordinate_descent.py:695: ConvergenceWarning: Objective did not converge. You might want to increase the number of iterations, check the scale of the features or consider increasing regularisation. Duality gap: 5.537e+00, tolerance: 3.880e-02\n",
      "  model = cd_fast.enet_coordinate_descent(\n",
      "D:\\IntelliJ\\ml-stock-sent\\.venv\\Lib\\site-packages\\sklearn\\linear_model\\_coordinate_descent.py:695: ConvergenceWarning: Objective did not converge. You might want to increase the number of iterations, check the scale of the features or consider increasing regularisation. Duality gap: 6.144e+01, tolerance: 3.880e-02\n",
      "  model = cd_fast.enet_coordinate_descent(\n",
      "D:\\IntelliJ\\ml-stock-sent\\.venv\\Lib\\site-packages\\sklearn\\linear_model\\_coordinate_descent.py:695: ConvergenceWarning: Objective did not converge. You might want to increase the number of iterations, check the scale of the features or consider increasing regularisation. Duality gap: 3.337e+01, tolerance: 3.880e-02\n",
      "  model = cd_fast.enet_coordinate_descent(\n",
      "D:\\IntelliJ\\ml-stock-sent\\.venv\\Lib\\site-packages\\sklearn\\linear_model\\_coordinate_descent.py:695: ConvergenceWarning: Objective did not converge. You might want to increase the number of iterations, check the scale of the features or consider increasing regularisation. Duality gap: 4.023e-01, tolerance: 3.880e-02\n",
      "  model = cd_fast.enet_coordinate_descent(\n",
      "D:\\IntelliJ\\ml-stock-sent\\.venv\\Lib\\site-packages\\sklearn\\linear_model\\_coordinate_descent.py:695: ConvergenceWarning: Objective did not converge. You might want to increase the number of iterations, check the scale of the features or consider increasing regularisation. Duality gap: 9.193e+01, tolerance: 3.880e-02\n",
      "  model = cd_fast.enet_coordinate_descent(\n",
      "D:\\IntelliJ\\ml-stock-sent\\.venv\\Lib\\site-packages\\sklearn\\linear_model\\_coordinate_descent.py:695: ConvergenceWarning: Objective did not converge. You might want to increase the number of iterations, check the scale of the features or consider increasing regularisation. Duality gap: 2.087e+01, tolerance: 3.880e-02\n",
      "  model = cd_fast.enet_coordinate_descent(\n",
      "D:\\IntelliJ\\ml-stock-sent\\.venv\\Lib\\site-packages\\sklearn\\linear_model\\_coordinate_descent.py:695: ConvergenceWarning: Objective did not converge. You might want to increase the number of iterations, check the scale of the features or consider increasing regularisation. Duality gap: 1.348e+00, tolerance: 3.880e-02\n",
      "  model = cd_fast.enet_coordinate_descent(\n",
      "D:\\IntelliJ\\ml-stock-sent\\.venv\\Lib\\site-packages\\sklearn\\linear_model\\_coordinate_descent.py:695: ConvergenceWarning: Objective did not converge. You might want to increase the number of iterations, check the scale of the features or consider increasing regularisation. Duality gap: 5.470e+01, tolerance: 3.880e-02\n",
      "  model = cd_fast.enet_coordinate_descent(\n",
      "D:\\IntelliJ\\ml-stock-sent\\.venv\\Lib\\site-packages\\sklearn\\linear_model\\_coordinate_descent.py:695: ConvergenceWarning: Objective did not converge. You might want to increase the number of iterations, check the scale of the features or consider increasing regularisation. Duality gap: 6.663e+01, tolerance: 3.880e-02\n",
      "  model = cd_fast.enet_coordinate_descent(\n",
      "D:\\IntelliJ\\ml-stock-sent\\.venv\\Lib\\site-packages\\sklearn\\linear_model\\_coordinate_descent.py:695: ConvergenceWarning: Objective did not converge. You might want to increase the number of iterations, check the scale of the features or consider increasing regularisation. Duality gap: 1.037e+01, tolerance: 3.880e-02\n",
      "  model = cd_fast.enet_coordinate_descent(\n",
      "D:\\IntelliJ\\ml-stock-sent\\.venv\\Lib\\site-packages\\sklearn\\linear_model\\_coordinate_descent.py:695: ConvergenceWarning: Objective did not converge. You might want to increase the number of iterations, check the scale of the features or consider increasing regularisation. Duality gap: 1.038e+02, tolerance: 3.880e-02\n",
      "  model = cd_fast.enet_coordinate_descent(\n",
      "D:\\IntelliJ\\ml-stock-sent\\.venv\\Lib\\site-packages\\sklearn\\linear_model\\_coordinate_descent.py:695: ConvergenceWarning: Objective did not converge. You might want to increase the number of iterations, check the scale of the features or consider increasing regularisation. Duality gap: 1.211e+02, tolerance: 3.880e-02\n",
      "  model = cd_fast.enet_coordinate_descent(\n",
      "D:\\IntelliJ\\ml-stock-sent\\.venv\\Lib\\site-packages\\sklearn\\linear_model\\_coordinate_descent.py:695: ConvergenceWarning: Objective did not converge. You might want to increase the number of iterations, check the scale of the features or consider increasing regularisation. Duality gap: 4.524e+00, tolerance: 3.880e-02\n",
      "  model = cd_fast.enet_coordinate_descent(\n",
      "D:\\IntelliJ\\ml-stock-sent\\.venv\\Lib\\site-packages\\sklearn\\linear_model\\_coordinate_descent.py:695: ConvergenceWarning: Objective did not converge. You might want to increase the number of iterations, check the scale of the features or consider increasing regularisation. Duality gap: 9.571e+01, tolerance: 3.880e-02\n",
      "  model = cd_fast.enet_coordinate_descent(\n",
      "D:\\IntelliJ\\ml-stock-sent\\.venv\\Lib\\site-packages\\sklearn\\linear_model\\_coordinate_descent.py:695: ConvergenceWarning: Objective did not converge. You might want to increase the number of iterations, check the scale of the features or consider increasing regularisation. Duality gap: 6.704e+01, tolerance: 3.880e-02\n",
      "  model = cd_fast.enet_coordinate_descent(\n",
      "D:\\IntelliJ\\ml-stock-sent\\.venv\\Lib\\site-packages\\sklearn\\linear_model\\_coordinate_descent.py:695: ConvergenceWarning: Objective did not converge. You might want to increase the number of iterations, check the scale of the features or consider increasing regularisation. Duality gap: 9.518e+01, tolerance: 3.880e-02\n",
      "  model = cd_fast.enet_coordinate_descent(\n",
      "D:\\IntelliJ\\ml-stock-sent\\.venv\\Lib\\site-packages\\sklearn\\linear_model\\_coordinate_descent.py:695: ConvergenceWarning: Objective did not converge. You might want to increase the number of iterations, check the scale of the features or consider increasing regularisation. Duality gap: 4.794e+01, tolerance: 3.880e-02\n",
      "  model = cd_fast.enet_coordinate_descent(\n",
      "D:\\IntelliJ\\ml-stock-sent\\.venv\\Lib\\site-packages\\sklearn\\linear_model\\_coordinate_descent.py:695: ConvergenceWarning: Objective did not converge. You might want to increase the number of iterations, check the scale of the features or consider increasing regularisation. Duality gap: 1.350e+02, tolerance: 3.880e-02\n",
      "  model = cd_fast.enet_coordinate_descent(\n",
      "D:\\IntelliJ\\ml-stock-sent\\.venv\\Lib\\site-packages\\sklearn\\linear_model\\_coordinate_descent.py:695: ConvergenceWarning: Objective did not converge. You might want to increase the number of iterations, check the scale of the features or consider increasing regularisation. Duality gap: 9.299e+00, tolerance: 3.880e-02\n",
      "  model = cd_fast.enet_coordinate_descent(\n",
      "D:\\IntelliJ\\ml-stock-sent\\.venv\\Lib\\site-packages\\sklearn\\linear_model\\_coordinate_descent.py:695: ConvergenceWarning: Objective did not converge. You might want to increase the number of iterations, check the scale of the features or consider increasing regularisation. Duality gap: 2.877e+01, tolerance: 3.880e-02\n",
      "  model = cd_fast.enet_coordinate_descent(\n",
      "D:\\IntelliJ\\ml-stock-sent\\.venv\\Lib\\site-packages\\sklearn\\linear_model\\_coordinate_descent.py:695: ConvergenceWarning: Objective did not converge. You might want to increase the number of iterations, check the scale of the features or consider increasing regularisation. Duality gap: 6.532e+01, tolerance: 3.880e-02\n",
      "  model = cd_fast.enet_coordinate_descent(\n",
      "D:\\IntelliJ\\ml-stock-sent\\.venv\\Lib\\site-packages\\sklearn\\linear_model\\_coordinate_descent.py:695: ConvergenceWarning: Objective did not converge. You might want to increase the number of iterations, check the scale of the features or consider increasing regularisation. Duality gap: 9.323e+01, tolerance: 3.880e-02\n",
      "  model = cd_fast.enet_coordinate_descent(\n",
      "D:\\IntelliJ\\ml-stock-sent\\.venv\\Lib\\site-packages\\sklearn\\linear_model\\_coordinate_descent.py:695: ConvergenceWarning: Objective did not converge. You might want to increase the number of iterations, check the scale of the features or consider increasing regularisation. Duality gap: 9.206e+01, tolerance: 3.880e-02\n",
      "  model = cd_fast.enet_coordinate_descent(\n",
      "D:\\IntelliJ\\ml-stock-sent\\.venv\\Lib\\site-packages\\sklearn\\linear_model\\_coordinate_descent.py:695: ConvergenceWarning: Objective did not converge. You might want to increase the number of iterations, check the scale of the features or consider increasing regularisation. Duality gap: 2.797e+01, tolerance: 3.880e-02\n",
      "  model = cd_fast.enet_coordinate_descent(\n",
      "D:\\IntelliJ\\ml-stock-sent\\.venv\\Lib\\site-packages\\sklearn\\linear_model\\_coordinate_descent.py:695: ConvergenceWarning: Objective did not converge. You might want to increase the number of iterations, check the scale of the features or consider increasing regularisation. Duality gap: 1.489e+01, tolerance: 3.880e-02\n",
      "  model = cd_fast.enet_coordinate_descent(\n",
      "D:\\IntelliJ\\ml-stock-sent\\.venv\\Lib\\site-packages\\sklearn\\linear_model\\_coordinate_descent.py:695: ConvergenceWarning: Objective did not converge. You might want to increase the number of iterations, check the scale of the features or consider increasing regularisation. Duality gap: 7.875e+01, tolerance: 3.880e-02\n",
      "  model = cd_fast.enet_coordinate_descent(\n",
      "D:\\IntelliJ\\ml-stock-sent\\.venv\\Lib\\site-packages\\sklearn\\linear_model\\_coordinate_descent.py:695: ConvergenceWarning: Objective did not converge. You might want to increase the number of iterations, check the scale of the features or consider increasing regularisation. Duality gap: 7.876e+01, tolerance: 3.880e-02\n",
      "  model = cd_fast.enet_coordinate_descent(\n",
      "D:\\IntelliJ\\ml-stock-sent\\.venv\\Lib\\site-packages\\sklearn\\linear_model\\_coordinate_descent.py:695: ConvergenceWarning: Objective did not converge. You might want to increase the number of iterations, check the scale of the features or consider increasing regularisation. Duality gap: 1.795e+01, tolerance: 3.880e-02\n",
      "  model = cd_fast.enet_coordinate_descent(\n",
      "D:\\IntelliJ\\ml-stock-sent\\.venv\\Lib\\site-packages\\sklearn\\linear_model\\_coordinate_descent.py:695: ConvergenceWarning: Objective did not converge. You might want to increase the number of iterations, check the scale of the features or consider increasing regularisation. Duality gap: 1.620e+02, tolerance: 7.740e-02\n",
      "  model = cd_fast.enet_coordinate_descent(\n",
      "D:\\IntelliJ\\ml-stock-sent\\.venv\\Lib\\site-packages\\sklearn\\linear_model\\_coordinate_descent.py:695: ConvergenceWarning: Objective did not converge. You might want to increase the number of iterations, check the scale of the features or consider increasing regularisation. Duality gap: 2.413e+01, tolerance: 7.740e-02\n",
      "  model = cd_fast.enet_coordinate_descent(\n",
      "D:\\IntelliJ\\ml-stock-sent\\.venv\\Lib\\site-packages\\sklearn\\linear_model\\_coordinate_descent.py:695: ConvergenceWarning: Objective did not converge. You might want to increase the number of iterations, check the scale of the features or consider increasing regularisation. Duality gap: 9.424e+01, tolerance: 7.740e-02\n",
      "  model = cd_fast.enet_coordinate_descent(\n",
      "D:\\IntelliJ\\ml-stock-sent\\.venv\\Lib\\site-packages\\sklearn\\linear_model\\_coordinate_descent.py:695: ConvergenceWarning: Objective did not converge. You might want to increase the number of iterations, check the scale of the features or consider increasing regularisation. Duality gap: 1.543e+02, tolerance: 7.740e-02\n",
      "  model = cd_fast.enet_coordinate_descent(\n",
      "D:\\IntelliJ\\ml-stock-sent\\.venv\\Lib\\site-packages\\sklearn\\linear_model\\_coordinate_descent.py:695: ConvergenceWarning: Objective did not converge. You might want to increase the number of iterations, check the scale of the features or consider increasing regularisation. Duality gap: 9.011e+01, tolerance: 7.740e-02\n",
      "  model = cd_fast.enet_coordinate_descent(\n",
      "D:\\IntelliJ\\ml-stock-sent\\.venv\\Lib\\site-packages\\sklearn\\linear_model\\_coordinate_descent.py:695: ConvergenceWarning: Objective did not converge. You might want to increase the number of iterations, check the scale of the features or consider increasing regularisation. Duality gap: 1.478e+02, tolerance: 7.740e-02\n",
      "  model = cd_fast.enet_coordinate_descent(\n",
      "D:\\IntelliJ\\ml-stock-sent\\.venv\\Lib\\site-packages\\sklearn\\linear_model\\_coordinate_descent.py:695: ConvergenceWarning: Objective did not converge. You might want to increase the number of iterations, check the scale of the features or consider increasing regularisation. Duality gap: 9.796e-01, tolerance: 7.740e-02\n",
      "  model = cd_fast.enet_coordinate_descent(\n",
      "D:\\IntelliJ\\ml-stock-sent\\.venv\\Lib\\site-packages\\sklearn\\linear_model\\_coordinate_descent.py:695: ConvergenceWarning: Objective did not converge. You might want to increase the number of iterations, check the scale of the features or consider increasing regularisation. Duality gap: 1.132e+02, tolerance: 7.740e-02\n",
      "  model = cd_fast.enet_coordinate_descent(\n",
      "D:\\IntelliJ\\ml-stock-sent\\.venv\\Lib\\site-packages\\sklearn\\linear_model\\_coordinate_descent.py:695: ConvergenceWarning: Objective did not converge. You might want to increase the number of iterations, check the scale of the features or consider increasing regularisation. Duality gap: 1.395e+02, tolerance: 7.740e-02\n",
      "  model = cd_fast.enet_coordinate_descent(\n",
      "D:\\IntelliJ\\ml-stock-sent\\.venv\\Lib\\site-packages\\sklearn\\linear_model\\_coordinate_descent.py:695: ConvergenceWarning: Objective did not converge. You might want to increase the number of iterations, check the scale of the features or consider increasing regularisation. Duality gap: 2.134e+01, tolerance: 7.740e-02\n",
      "  model = cd_fast.enet_coordinate_descent(\n",
      "D:\\IntelliJ\\ml-stock-sent\\.venv\\Lib\\site-packages\\sklearn\\linear_model\\_coordinate_descent.py:695: ConvergenceWarning: Objective did not converge. You might want to increase the number of iterations, check the scale of the features or consider increasing regularisation. Duality gap: 1.873e+02, tolerance: 7.740e-02\n",
      "  model = cd_fast.enet_coordinate_descent(\n",
      "D:\\IntelliJ\\ml-stock-sent\\.venv\\Lib\\site-packages\\sklearn\\linear_model\\_coordinate_descent.py:695: ConvergenceWarning: Objective did not converge. You might want to increase the number of iterations, check the scale of the features or consider increasing regularisation. Duality gap: 2.329e+02, tolerance: 7.740e-02\n",
      "  model = cd_fast.enet_coordinate_descent(\n",
      "D:\\IntelliJ\\ml-stock-sent\\.venv\\Lib\\site-packages\\sklearn\\linear_model\\_coordinate_descent.py:695: ConvergenceWarning: Objective did not converge. You might want to increase the number of iterations, check the scale of the features or consider increasing regularisation. Duality gap: 2.215e+01, tolerance: 7.740e-02\n",
      "  model = cd_fast.enet_coordinate_descent(\n",
      "D:\\IntelliJ\\ml-stock-sent\\.venv\\Lib\\site-packages\\sklearn\\linear_model\\_coordinate_descent.py:695: ConvergenceWarning: Objective did not converge. You might want to increase the number of iterations, check the scale of the features or consider increasing regularisation. Duality gap: 1.967e+02, tolerance: 7.740e-02\n",
      "  model = cd_fast.enet_coordinate_descent(\n",
      "D:\\IntelliJ\\ml-stock-sent\\.venv\\Lib\\site-packages\\sklearn\\linear_model\\_coordinate_descent.py:695: ConvergenceWarning: Objective did not converge. You might want to increase the number of iterations, check the scale of the features or consider increasing regularisation. Duality gap: 2.153e+02, tolerance: 7.740e-02\n",
      "  model = cd_fast.enet_coordinate_descent(\n",
      "D:\\IntelliJ\\ml-stock-sent\\.venv\\Lib\\site-packages\\sklearn\\linear_model\\_coordinate_descent.py:695: ConvergenceWarning: Objective did not converge. You might want to increase the number of iterations, check the scale of the features or consider increasing regularisation. Duality gap: 8.803e+01, tolerance: 7.740e-02\n",
      "  model = cd_fast.enet_coordinate_descent(\n",
      "D:\\IntelliJ\\ml-stock-sent\\.venv\\Lib\\site-packages\\sklearn\\linear_model\\_coordinate_descent.py:695: ConvergenceWarning: Objective did not converge. You might want to increase the number of iterations, check the scale of the features or consider increasing regularisation. Duality gap: 1.231e-01, tolerance: 7.740e-02\n",
      "  model = cd_fast.enet_coordinate_descent(\n",
      "D:\\IntelliJ\\ml-stock-sent\\.venv\\Lib\\site-packages\\sklearn\\linear_model\\_coordinate_descent.py:695: ConvergenceWarning: Objective did not converge. You might want to increase the number of iterations, check the scale of the features or consider increasing regularisation. Duality gap: 2.204e+02, tolerance: 7.740e-02\n",
      "  model = cd_fast.enet_coordinate_descent(\n",
      "D:\\IntelliJ\\ml-stock-sent\\.venv\\Lib\\site-packages\\sklearn\\linear_model\\_coordinate_descent.py:695: ConvergenceWarning: Objective did not converge. You might want to increase the number of iterations, check the scale of the features or consider increasing regularisation. Duality gap: 3.992e+01, tolerance: 7.740e-02\n",
      "  model = cd_fast.enet_coordinate_descent(\n",
      "D:\\IntelliJ\\ml-stock-sent\\.venv\\Lib\\site-packages\\sklearn\\linear_model\\_coordinate_descent.py:695: ConvergenceWarning: Objective did not converge. You might want to increase the number of iterations, check the scale of the features or consider increasing regularisation. Duality gap: 6.688e+01, tolerance: 7.740e-02\n",
      "  model = cd_fast.enet_coordinate_descent(\n",
      "D:\\IntelliJ\\ml-stock-sent\\.venv\\Lib\\site-packages\\sklearn\\linear_model\\_coordinate_descent.py:695: ConvergenceWarning: Objective did not converge. You might want to increase the number of iterations, check the scale of the features or consider increasing regularisation. Duality gap: 1.123e+01, tolerance: 7.740e-02\n",
      "  model = cd_fast.enet_coordinate_descent(\n",
      "D:\\IntelliJ\\ml-stock-sent\\.venv\\Lib\\site-packages\\sklearn\\linear_model\\_coordinate_descent.py:695: ConvergenceWarning: Objective did not converge. You might want to increase the number of iterations, check the scale of the features or consider increasing regularisation. Duality gap: 1.377e+02, tolerance: 7.740e-02\n",
      "  model = cd_fast.enet_coordinate_descent(\n",
      "D:\\IntelliJ\\ml-stock-sent\\.venv\\Lib\\site-packages\\sklearn\\linear_model\\_coordinate_descent.py:695: ConvergenceWarning: Objective did not converge. You might want to increase the number of iterations, check the scale of the features or consider increasing regularisation. Duality gap: 1.432e+02, tolerance: 7.740e-02\n",
      "  model = cd_fast.enet_coordinate_descent(\n",
      "D:\\IntelliJ\\ml-stock-sent\\.venv\\Lib\\site-packages\\sklearn\\linear_model\\_coordinate_descent.py:695: ConvergenceWarning: Objective did not converge. You might want to increase the number of iterations, check the scale of the features or consider increasing regularisation. Duality gap: 4.252e+01, tolerance: 7.740e-02\n",
      "  model = cd_fast.enet_coordinate_descent(\n",
      "D:\\IntelliJ\\ml-stock-sent\\.venv\\Lib\\site-packages\\sklearn\\linear_model\\_coordinate_descent.py:695: ConvergenceWarning: Objective did not converge. You might want to increase the number of iterations, check the scale of the features or consider increasing regularisation. Duality gap: 1.414e+01, tolerance: 7.740e-02\n",
      "  model = cd_fast.enet_coordinate_descent(\n",
      "D:\\IntelliJ\\ml-stock-sent\\.venv\\Lib\\site-packages\\sklearn\\linear_model\\_coordinate_descent.py:695: ConvergenceWarning: Objective did not converge. You might want to increase the number of iterations, check the scale of the features or consider increasing regularisation. Duality gap: 1.474e+02, tolerance: 7.740e-02\n",
      "  model = cd_fast.enet_coordinate_descent(\n",
      "D:\\IntelliJ\\ml-stock-sent\\.venv\\Lib\\site-packages\\sklearn\\linear_model\\_coordinate_descent.py:695: ConvergenceWarning: Objective did not converge. You might want to increase the number of iterations, check the scale of the features or consider increasing regularisation. Duality gap: 1.477e+02, tolerance: 7.740e-02\n",
      "  model = cd_fast.enet_coordinate_descent(\n",
      "D:\\IntelliJ\\ml-stock-sent\\.venv\\Lib\\site-packages\\sklearn\\linear_model\\_coordinate_descent.py:695: ConvergenceWarning: Objective did not converge. You might want to increase the number of iterations, check the scale of the features or consider increasing regularisation. Duality gap: 4.582e+00, tolerance: 7.740e-02\n",
      "  model = cd_fast.enet_coordinate_descent(\n",
      "D:\\IntelliJ\\ml-stock-sent\\.venv\\Lib\\site-packages\\sklearn\\linear_model\\_coordinate_descent.py:695: ConvergenceWarning: Objective did not converge. You might want to increase the number of iterations, check the scale of the features or consider increasing regularisation. Duality gap: 1.108e+02, tolerance: 1.160e-01\n",
      "  model = cd_fast.enet_coordinate_descent(\n",
      "D:\\IntelliJ\\ml-stock-sent\\.venv\\Lib\\site-packages\\sklearn\\linear_model\\_coordinate_descent.py:695: ConvergenceWarning: Objective did not converge. You might want to increase the number of iterations, check the scale of the features or consider increasing regularisation. Duality gap: 6.000e+01, tolerance: 1.160e-01\n",
      "  model = cd_fast.enet_coordinate_descent(\n",
      "D:\\IntelliJ\\ml-stock-sent\\.venv\\Lib\\site-packages\\sklearn\\linear_model\\_coordinate_descent.py:695: ConvergenceWarning: Objective did not converge. You might want to increase the number of iterations, check the scale of the features or consider increasing regularisation. Duality gap: 2.066e+02, tolerance: 1.160e-01\n",
      "  model = cd_fast.enet_coordinate_descent(\n",
      "D:\\IntelliJ\\ml-stock-sent\\.venv\\Lib\\site-packages\\sklearn\\linear_model\\_coordinate_descent.py:695: ConvergenceWarning: Objective did not converge. You might want to increase the number of iterations, check the scale of the features or consider increasing regularisation. Duality gap: 1.759e+02, tolerance: 1.160e-01\n",
      "  model = cd_fast.enet_coordinate_descent(\n",
      "D:\\IntelliJ\\ml-stock-sent\\.venv\\Lib\\site-packages\\sklearn\\linear_model\\_coordinate_descent.py:695: ConvergenceWarning: Objective did not converge. You might want to increase the number of iterations, check the scale of the features or consider increasing regularisation. Duality gap: 2.127e+02, tolerance: 1.160e-01\n",
      "  model = cd_fast.enet_coordinate_descent(\n",
      "D:\\IntelliJ\\ml-stock-sent\\.venv\\Lib\\site-packages\\sklearn\\linear_model\\_coordinate_descent.py:695: ConvergenceWarning: Objective did not converge. You might want to increase the number of iterations, check the scale of the features or consider increasing regularisation. Duality gap: 9.584e+00, tolerance: 1.160e-01\n",
      "  model = cd_fast.enet_coordinate_descent(\n",
      "D:\\IntelliJ\\ml-stock-sent\\.venv\\Lib\\site-packages\\sklearn\\linear_model\\_coordinate_descent.py:695: ConvergenceWarning: Objective did not converge. You might want to increase the number of iterations, check the scale of the features or consider increasing regularisation. Duality gap: 1.303e+02, tolerance: 1.160e-01\n",
      "  model = cd_fast.enet_coordinate_descent(\n",
      "D:\\IntelliJ\\ml-stock-sent\\.venv\\Lib\\site-packages\\sklearn\\linear_model\\_coordinate_descent.py:695: ConvergenceWarning: Objective did not converge. You might want to increase the number of iterations, check the scale of the features or consider increasing regularisation. Duality gap: 1.616e+02, tolerance: 1.160e-01\n",
      "  model = cd_fast.enet_coordinate_descent(\n",
      "D:\\IntelliJ\\ml-stock-sent\\.venv\\Lib\\site-packages\\sklearn\\linear_model\\_coordinate_descent.py:695: ConvergenceWarning: Objective did not converge. You might want to increase the number of iterations, check the scale of the features or consider increasing regularisation. Duality gap: 1.203e+01, tolerance: 1.160e-01\n",
      "  model = cd_fast.enet_coordinate_descent(\n",
      "D:\\IntelliJ\\ml-stock-sent\\.venv\\Lib\\site-packages\\sklearn\\linear_model\\_coordinate_descent.py:695: ConvergenceWarning: Objective did not converge. You might want to increase the number of iterations, check the scale of the features or consider increasing regularisation. Duality gap: 2.439e+02, tolerance: 1.160e-01\n",
      "  model = cd_fast.enet_coordinate_descent(\n",
      "D:\\IntelliJ\\ml-stock-sent\\.venv\\Lib\\site-packages\\sklearn\\linear_model\\_coordinate_descent.py:695: ConvergenceWarning: Objective did not converge. You might want to increase the number of iterations, check the scale of the features or consider increasing regularisation. Duality gap: 3.102e+02, tolerance: 1.160e-01\n",
      "  model = cd_fast.enet_coordinate_descent(\n",
      "D:\\IntelliJ\\ml-stock-sent\\.venv\\Lib\\site-packages\\sklearn\\linear_model\\_coordinate_descent.py:695: ConvergenceWarning: Objective did not converge. You might want to increase the number of iterations, check the scale of the features or consider increasing regularisation. Duality gap: 2.913e+01, tolerance: 1.160e-01\n",
      "  model = cd_fast.enet_coordinate_descent(\n",
      "D:\\IntelliJ\\ml-stock-sent\\.venv\\Lib\\site-packages\\sklearn\\linear_model\\_coordinate_descent.py:695: ConvergenceWarning: Objective did not converge. You might want to increase the number of iterations, check the scale of the features or consider increasing regularisation. Duality gap: 2.557e+02, tolerance: 1.160e-01\n",
      "  model = cd_fast.enet_coordinate_descent(\n",
      "D:\\IntelliJ\\ml-stock-sent\\.venv\\Lib\\site-packages\\sklearn\\linear_model\\_coordinate_descent.py:695: ConvergenceWarning: Objective did not converge. You might want to increase the number of iterations, check the scale of the features or consider increasing regularisation. Duality gap: 2.762e+02, tolerance: 1.160e-01\n",
      "  model = cd_fast.enet_coordinate_descent(\n",
      "D:\\IntelliJ\\ml-stock-sent\\.venv\\Lib\\site-packages\\sklearn\\linear_model\\_coordinate_descent.py:695: ConvergenceWarning: Objective did not converge. You might want to increase the number of iterations, check the scale of the features or consider increasing regularisation. Duality gap: 7.121e+01, tolerance: 1.160e-01\n",
      "  model = cd_fast.enet_coordinate_descent(\n",
      "D:\\IntelliJ\\ml-stock-sent\\.venv\\Lib\\site-packages\\sklearn\\linear_model\\_coordinate_descent.py:695: ConvergenceWarning: Objective did not converge. You might want to increase the number of iterations, check the scale of the features or consider increasing regularisation. Duality gap: 2.846e+02, tolerance: 1.160e-01\n",
      "  model = cd_fast.enet_coordinate_descent(\n",
      "D:\\IntelliJ\\ml-stock-sent\\.venv\\Lib\\site-packages\\sklearn\\linear_model\\_coordinate_descent.py:695: ConvergenceWarning: Objective did not converge. You might want to increase the number of iterations, check the scale of the features or consider increasing regularisation. Duality gap: 1.336e+02, tolerance: 1.160e-01\n",
      "  model = cd_fast.enet_coordinate_descent(\n",
      "D:\\IntelliJ\\ml-stock-sent\\.venv\\Lib\\site-packages\\sklearn\\linear_model\\_coordinate_descent.py:695: ConvergenceWarning: Objective did not converge. You might want to increase the number of iterations, check the scale of the features or consider increasing regularisation. Duality gap: 8.517e+01, tolerance: 1.160e-01\n",
      "  model = cd_fast.enet_coordinate_descent(\n",
      "D:\\IntelliJ\\ml-stock-sent\\.venv\\Lib\\site-packages\\sklearn\\linear_model\\_coordinate_descent.py:695: ConvergenceWarning: Objective did not converge. You might want to increase the number of iterations, check the scale of the features or consider increasing regularisation. Duality gap: 5.323e+01, tolerance: 1.160e-01\n",
      "  model = cd_fast.enet_coordinate_descent(\n",
      "D:\\IntelliJ\\ml-stock-sent\\.venv\\Lib\\site-packages\\sklearn\\linear_model\\_coordinate_descent.py:695: ConvergenceWarning: Objective did not converge. You might want to increase the number of iterations, check the scale of the features or consider increasing regularisation. Duality gap: 1.677e+02, tolerance: 1.160e-01\n",
      "  model = cd_fast.enet_coordinate_descent(\n",
      "D:\\IntelliJ\\ml-stock-sent\\.venv\\Lib\\site-packages\\sklearn\\linear_model\\_coordinate_descent.py:695: ConvergenceWarning: Objective did not converge. You might want to increase the number of iterations, check the scale of the features or consider increasing regularisation. Duality gap: 2.194e+02, tolerance: 1.160e-01\n",
      "  model = cd_fast.enet_coordinate_descent(\n",
      "D:\\IntelliJ\\ml-stock-sent\\.venv\\Lib\\site-packages\\sklearn\\linear_model\\_coordinate_descent.py:695: ConvergenceWarning: Objective did not converge. You might want to increase the number of iterations, check the scale of the features or consider increasing regularisation. Duality gap: 2.148e+02, tolerance: 1.160e-01\n",
      "  model = cd_fast.enet_coordinate_descent(\n",
      "D:\\IntelliJ\\ml-stock-sent\\.venv\\Lib\\site-packages\\sklearn\\linear_model\\_coordinate_descent.py:695: ConvergenceWarning: Objective did not converge. You might want to increase the number of iterations, check the scale of the features or consider increasing regularisation. Duality gap: 2.815e+01, tolerance: 1.160e-01\n",
      "  model = cd_fast.enet_coordinate_descent(\n",
      "[I 2025-08-22 18:51:00,336] Trial 0 finished with value: 0.009733881960129078 and parameters: {'alpha': 0.0001329291894316216, 'l1_ratio': 0.9507143064099162, 'selection': 'cyclic', 'max_iter': 1500}. Best is trial 0 with value: 0.009733881960129078.\n",
      "D:\\IntelliJ\\ml-stock-sent\\.venv\\Lib\\site-packages\\sklearn\\linear_model\\_coordinate_descent.py:695: ConvergenceWarning: Objective did not converge. You might want to increase the number of iterations, check the scale of the features or consider increasing regularisation. Duality gap: 1.639e+02, tolerance: 3.880e-02\n",
      "  model = cd_fast.enet_coordinate_descent(\n",
      "D:\\IntelliJ\\ml-stock-sent\\.venv\\Lib\\site-packages\\sklearn\\linear_model\\_coordinate_descent.py:695: ConvergenceWarning: Objective did not converge. You might want to increase the number of iterations, check the scale of the features or consider increasing regularisation. Duality gap: 1.155e+02, tolerance: 3.880e-02\n",
      "  model = cd_fast.enet_coordinate_descent(\n",
      "D:\\IntelliJ\\ml-stock-sent\\.venv\\Lib\\site-packages\\sklearn\\linear_model\\_coordinate_descent.py:695: ConvergenceWarning: Objective did not converge. You might want to increase the number of iterations, check the scale of the features or consider increasing regularisation. Duality gap: 1.569e+02, tolerance: 3.880e-02\n",
      "  model = cd_fast.enet_coordinate_descent(\n",
      "D:\\IntelliJ\\ml-stock-sent\\.venv\\Lib\\site-packages\\sklearn\\linear_model\\_coordinate_descent.py:695: ConvergenceWarning: Objective did not converge. You might want to increase the number of iterations, check the scale of the features or consider increasing regularisation. Duality gap: 1.482e+02, tolerance: 3.880e-02\n",
      "  model = cd_fast.enet_coordinate_descent(\n",
      "D:\\IntelliJ\\ml-stock-sent\\.venv\\Lib\\site-packages\\sklearn\\linear_model\\_coordinate_descent.py:695: ConvergenceWarning: Objective did not converge. You might want to increase the number of iterations, check the scale of the features or consider increasing regularisation. Duality gap: 8.750e+01, tolerance: 3.880e-02\n",
      "  model = cd_fast.enet_coordinate_descent(\n",
      "D:\\IntelliJ\\ml-stock-sent\\.venv\\Lib\\site-packages\\sklearn\\linear_model\\_coordinate_descent.py:695: ConvergenceWarning: Objective did not converge. You might want to increase the number of iterations, check the scale of the features or consider increasing regularisation. Duality gap: 1.674e+02, tolerance: 3.880e-02\n",
      "  model = cd_fast.enet_coordinate_descent(\n",
      "D:\\IntelliJ\\ml-stock-sent\\.venv\\Lib\\site-packages\\sklearn\\linear_model\\_coordinate_descent.py:695: ConvergenceWarning: Objective did not converge. You might want to increase the number of iterations, check the scale of the features or consider increasing regularisation. Duality gap: 1.424e+02, tolerance: 3.880e-02\n",
      "  model = cd_fast.enet_coordinate_descent(\n",
      "D:\\IntelliJ\\ml-stock-sent\\.venv\\Lib\\site-packages\\sklearn\\linear_model\\_coordinate_descent.py:695: ConvergenceWarning: Objective did not converge. You might want to increase the number of iterations, check the scale of the features or consider increasing regularisation. Duality gap: 9.887e+01, tolerance: 3.880e-02\n",
      "  model = cd_fast.enet_coordinate_descent(\n",
      "D:\\IntelliJ\\ml-stock-sent\\.venv\\Lib\\site-packages\\sklearn\\linear_model\\_coordinate_descent.py:695: ConvergenceWarning: Objective did not converge. You might want to increase the number of iterations, check the scale of the features or consider increasing regularisation. Duality gap: 1.538e+02, tolerance: 3.880e-02\n",
      "  model = cd_fast.enet_coordinate_descent(\n",
      "D:\\IntelliJ\\ml-stock-sent\\.venv\\Lib\\site-packages\\sklearn\\linear_model\\_coordinate_descent.py:695: ConvergenceWarning: Objective did not converge. You might want to increase the number of iterations, check the scale of the features or consider increasing regularisation. Duality gap: 1.597e+02, tolerance: 3.880e-02\n",
      "  model = cd_fast.enet_coordinate_descent(\n",
      "D:\\IntelliJ\\ml-stock-sent\\.venv\\Lib\\site-packages\\sklearn\\linear_model\\_coordinate_descent.py:695: ConvergenceWarning: Objective did not converge. You might want to increase the number of iterations, check the scale of the features or consider increasing regularisation. Duality gap: 1.123e+02, tolerance: 3.880e-02\n",
      "  model = cd_fast.enet_coordinate_descent(\n",
      "D:\\IntelliJ\\ml-stock-sent\\.venv\\Lib\\site-packages\\sklearn\\linear_model\\_coordinate_descent.py:695: ConvergenceWarning: Objective did not converge. You might want to increase the number of iterations, check the scale of the features or consider increasing regularisation. Duality gap: 1.120e+02, tolerance: 3.880e-02\n",
      "  model = cd_fast.enet_coordinate_descent(\n",
      "D:\\IntelliJ\\ml-stock-sent\\.venv\\Lib\\site-packages\\sklearn\\linear_model\\_coordinate_descent.py:695: ConvergenceWarning: Objective did not converge. You might want to increase the number of iterations, check the scale of the features or consider increasing regularisation. Duality gap: 1.665e+02, tolerance: 3.880e-02\n",
      "  model = cd_fast.enet_coordinate_descent(\n",
      "D:\\IntelliJ\\ml-stock-sent\\.venv\\Lib\\site-packages\\sklearn\\linear_model\\_coordinate_descent.py:695: ConvergenceWarning: Objective did not converge. You might want to increase the number of iterations, check the scale of the features or consider increasing regularisation. Duality gap: 1.711e+02, tolerance: 3.880e-02\n",
      "  model = cd_fast.enet_coordinate_descent(\n",
      "D:\\IntelliJ\\ml-stock-sent\\.venv\\Lib\\site-packages\\sklearn\\linear_model\\_coordinate_descent.py:695: ConvergenceWarning: Objective did not converge. You might want to increase the number of iterations, check the scale of the features or consider increasing regularisation. Duality gap: 1.155e+02, tolerance: 3.880e-02\n",
      "  model = cd_fast.enet_coordinate_descent(\n",
      "D:\\IntelliJ\\ml-stock-sent\\.venv\\Lib\\site-packages\\sklearn\\linear_model\\_coordinate_descent.py:695: ConvergenceWarning: Objective did not converge. You might want to increase the number of iterations, check the scale of the features or consider increasing regularisation. Duality gap: 1.618e+02, tolerance: 3.880e-02\n",
      "  model = cd_fast.enet_coordinate_descent(\n",
      "D:\\IntelliJ\\ml-stock-sent\\.venv\\Lib\\site-packages\\sklearn\\linear_model\\_coordinate_descent.py:695: ConvergenceWarning: Objective did not converge. You might want to increase the number of iterations, check the scale of the features or consider increasing regularisation. Duality gap: 1.591e+02, tolerance: 3.880e-02\n",
      "  model = cd_fast.enet_coordinate_descent(\n",
      "D:\\IntelliJ\\ml-stock-sent\\.venv\\Lib\\site-packages\\sklearn\\linear_model\\_coordinate_descent.py:695: ConvergenceWarning: Objective did not converge. You might want to increase the number of iterations, check the scale of the features or consider increasing regularisation. Duality gap: 1.618e+02, tolerance: 3.880e-02\n",
      "  model = cd_fast.enet_coordinate_descent(\n",
      "D:\\IntelliJ\\ml-stock-sent\\.venv\\Lib\\site-packages\\sklearn\\linear_model\\_coordinate_descent.py:695: ConvergenceWarning: Objective did not converge. You might want to increase the number of iterations, check the scale of the features or consider increasing regularisation. Duality gap: 1.500e+02, tolerance: 3.880e-02\n",
      "  model = cd_fast.enet_coordinate_descent(\n",
      "D:\\IntelliJ\\ml-stock-sent\\.venv\\Lib\\site-packages\\sklearn\\linear_model\\_coordinate_descent.py:695: ConvergenceWarning: Objective did not converge. You might want to increase the number of iterations, check the scale of the features or consider increasing regularisation. Duality gap: 1.712e+02, tolerance: 3.880e-02\n",
      "  model = cd_fast.enet_coordinate_descent(\n",
      "D:\\IntelliJ\\ml-stock-sent\\.venv\\Lib\\site-packages\\sklearn\\linear_model\\_coordinate_descent.py:695: ConvergenceWarning: Objective did not converge. You might want to increase the number of iterations, check the scale of the features or consider increasing regularisation. Duality gap: 1.412e+02, tolerance: 3.880e-02\n",
      "  model = cd_fast.enet_coordinate_descent(\n",
      "D:\\IntelliJ\\ml-stock-sent\\.venv\\Lib\\site-packages\\sklearn\\linear_model\\_coordinate_descent.py:695: ConvergenceWarning: Objective did not converge. You might want to increase the number of iterations, check the scale of the features or consider increasing regularisation. Duality gap: 1.364e+02, tolerance: 3.880e-02\n",
      "  model = cd_fast.enet_coordinate_descent(\n",
      "D:\\IntelliJ\\ml-stock-sent\\.venv\\Lib\\site-packages\\sklearn\\linear_model\\_coordinate_descent.py:695: ConvergenceWarning: Objective did not converge. You might want to increase the number of iterations, check the scale of the features or consider increasing regularisation. Duality gap: 1.584e+02, tolerance: 3.880e-02\n",
      "  model = cd_fast.enet_coordinate_descent(\n",
      "D:\\IntelliJ\\ml-stock-sent\\.venv\\Lib\\site-packages\\sklearn\\linear_model\\_coordinate_descent.py:695: ConvergenceWarning: Objective did not converge. You might want to increase the number of iterations, check the scale of the features or consider increasing regularisation. Duality gap: 1.647e+02, tolerance: 3.880e-02\n",
      "  model = cd_fast.enet_coordinate_descent(\n",
      "D:\\IntelliJ\\ml-stock-sent\\.venv\\Lib\\site-packages\\sklearn\\linear_model\\_coordinate_descent.py:695: ConvergenceWarning: Objective did not converge. You might want to increase the number of iterations, check the scale of the features or consider increasing regularisation. Duality gap: 1.646e+02, tolerance: 3.880e-02\n",
      "  model = cd_fast.enet_coordinate_descent(\n",
      "D:\\IntelliJ\\ml-stock-sent\\.venv\\Lib\\site-packages\\sklearn\\linear_model\\_coordinate_descent.py:695: ConvergenceWarning: Objective did not converge. You might want to increase the number of iterations, check the scale of the features or consider increasing regularisation. Duality gap: 1.502e+02, tolerance: 3.880e-02\n",
      "  model = cd_fast.enet_coordinate_descent(\n",
      "D:\\IntelliJ\\ml-stock-sent\\.venv\\Lib\\site-packages\\sklearn\\linear_model\\_coordinate_descent.py:695: ConvergenceWarning: Objective did not converge. You might want to increase the number of iterations, check the scale of the features or consider increasing regularisation. Duality gap: 1.233e+02, tolerance: 3.880e-02\n",
      "  model = cd_fast.enet_coordinate_descent(\n",
      "D:\\IntelliJ\\ml-stock-sent\\.venv\\Lib\\site-packages\\sklearn\\linear_model\\_coordinate_descent.py:695: ConvergenceWarning: Objective did not converge. You might want to increase the number of iterations, check the scale of the features or consider increasing regularisation. Duality gap: 1.612e+02, tolerance: 3.880e-02\n",
      "  model = cd_fast.enet_coordinate_descent(\n",
      "D:\\IntelliJ\\ml-stock-sent\\.venv\\Lib\\site-packages\\sklearn\\linear_model\\_coordinate_descent.py:695: ConvergenceWarning: Objective did not converge. You might want to increase the number of iterations, check the scale of the features or consider increasing regularisation. Duality gap: 1.587e+02, tolerance: 3.880e-02\n",
      "  model = cd_fast.enet_coordinate_descent(\n",
      "D:\\IntelliJ\\ml-stock-sent\\.venv\\Lib\\site-packages\\sklearn\\linear_model\\_coordinate_descent.py:695: ConvergenceWarning: Objective did not converge. You might want to increase the number of iterations, check the scale of the features or consider increasing regularisation. Duality gap: 1.463e+02, tolerance: 3.880e-02\n",
      "  model = cd_fast.enet_coordinate_descent(\n",
      "D:\\IntelliJ\\ml-stock-sent\\.venv\\Lib\\site-packages\\sklearn\\linear_model\\_coordinate_descent.py:695: ConvergenceWarning: Objective did not converge. You might want to increase the number of iterations, check the scale of the features or consider increasing regularisation. Duality gap: 3.115e+02, tolerance: 7.740e-02\n",
      "  model = cd_fast.enet_coordinate_descent(\n",
      "D:\\IntelliJ\\ml-stock-sent\\.venv\\Lib\\site-packages\\sklearn\\linear_model\\_coordinate_descent.py:695: ConvergenceWarning: Objective did not converge. You might want to increase the number of iterations, check the scale of the features or consider increasing regularisation. Duality gap: 2.567e+02, tolerance: 7.740e-02\n",
      "  model = cd_fast.enet_coordinate_descent(\n",
      "D:\\IntelliJ\\ml-stock-sent\\.venv\\Lib\\site-packages\\sklearn\\linear_model\\_coordinate_descent.py:695: ConvergenceWarning: Objective did not converge. You might want to increase the number of iterations, check the scale of the features or consider increasing regularisation. Duality gap: 2.882e+02, tolerance: 7.740e-02\n",
      "  model = cd_fast.enet_coordinate_descent(\n",
      "D:\\IntelliJ\\ml-stock-sent\\.venv\\Lib\\site-packages\\sklearn\\linear_model\\_coordinate_descent.py:695: ConvergenceWarning: Objective did not converge. You might want to increase the number of iterations, check the scale of the features or consider increasing regularisation. Duality gap: 3.121e+02, tolerance: 7.740e-02\n",
      "  model = cd_fast.enet_coordinate_descent(\n",
      "D:\\IntelliJ\\ml-stock-sent\\.venv\\Lib\\site-packages\\sklearn\\linear_model\\_coordinate_descent.py:695: ConvergenceWarning: Objective did not converge. You might want to increase the number of iterations, check the scale of the features or consider increasing regularisation. Duality gap: 2.789e+02, tolerance: 7.740e-02\n",
      "  model = cd_fast.enet_coordinate_descent(\n",
      "D:\\IntelliJ\\ml-stock-sent\\.venv\\Lib\\site-packages\\sklearn\\linear_model\\_coordinate_descent.py:695: ConvergenceWarning: Objective did not converge. You might want to increase the number of iterations, check the scale of the features or consider increasing regularisation. Duality gap: 3.078e+02, tolerance: 7.740e-02\n",
      "  model = cd_fast.enet_coordinate_descent(\n",
      "D:\\IntelliJ\\ml-stock-sent\\.venv\\Lib\\site-packages\\sklearn\\linear_model\\_coordinate_descent.py:695: ConvergenceWarning: Objective did not converge. You might want to increase the number of iterations, check the scale of the features or consider increasing regularisation. Duality gap: 9.382e+01, tolerance: 7.740e-02\n",
      "  model = cd_fast.enet_coordinate_descent(\n",
      "D:\\IntelliJ\\ml-stock-sent\\.venv\\Lib\\site-packages\\sklearn\\linear_model\\_coordinate_descent.py:695: ConvergenceWarning: Objective did not converge. You might want to increase the number of iterations, check the scale of the features or consider increasing regularisation. Duality gap: 1.616e+02, tolerance: 7.740e-02\n",
      "  model = cd_fast.enet_coordinate_descent(\n",
      "D:\\IntelliJ\\ml-stock-sent\\.venv\\Lib\\site-packages\\sklearn\\linear_model\\_coordinate_descent.py:695: ConvergenceWarning: Objective did not converge. You might want to increase the number of iterations, check the scale of the features or consider increasing regularisation. Duality gap: 2.905e+02, tolerance: 7.740e-02\n",
      "  model = cd_fast.enet_coordinate_descent(\n",
      "D:\\IntelliJ\\ml-stock-sent\\.venv\\Lib\\site-packages\\sklearn\\linear_model\\_coordinate_descent.py:695: ConvergenceWarning: Objective did not converge. You might want to increase the number of iterations, check the scale of the features or consider increasing regularisation. Duality gap: 3.055e+02, tolerance: 7.740e-02\n",
      "  model = cd_fast.enet_coordinate_descent(\n",
      "D:\\IntelliJ\\ml-stock-sent\\.venv\\Lib\\site-packages\\sklearn\\linear_model\\_coordinate_descent.py:695: ConvergenceWarning: Objective did not converge. You might want to increase the number of iterations, check the scale of the features or consider increasing regularisation. Duality gap: 1.867e+02, tolerance: 7.740e-02\n",
      "  model = cd_fast.enet_coordinate_descent(\n",
      "D:\\IntelliJ\\ml-stock-sent\\.venv\\Lib\\site-packages\\sklearn\\linear_model\\_coordinate_descent.py:695: ConvergenceWarning: Objective did not converge. You might want to increase the number of iterations, check the scale of the features or consider increasing regularisation. Duality gap: 1.164e+02, tolerance: 7.740e-02\n",
      "  model = cd_fast.enet_coordinate_descent(\n",
      "D:\\IntelliJ\\ml-stock-sent\\.venv\\Lib\\site-packages\\sklearn\\linear_model\\_coordinate_descent.py:695: ConvergenceWarning: Objective did not converge. You might want to increase the number of iterations, check the scale of the features or consider increasing regularisation. Duality gap: 3.213e+02, tolerance: 7.740e-02\n",
      "  model = cd_fast.enet_coordinate_descent(\n",
      "D:\\IntelliJ\\ml-stock-sent\\.venv\\Lib\\site-packages\\sklearn\\linear_model\\_coordinate_descent.py:695: ConvergenceWarning: Objective did not converge. You might want to increase the number of iterations, check the scale of the features or consider increasing regularisation. Duality gap: 3.375e+02, tolerance: 7.740e-02\n",
      "  model = cd_fast.enet_coordinate_descent(\n",
      "D:\\IntelliJ\\ml-stock-sent\\.venv\\Lib\\site-packages\\sklearn\\linear_model\\_coordinate_descent.py:695: ConvergenceWarning: Objective did not converge. You might want to increase the number of iterations, check the scale of the features or consider increasing regularisation. Duality gap: 2.714e+02, tolerance: 7.740e-02\n",
      "  model = cd_fast.enet_coordinate_descent(\n",
      "D:\\IntelliJ\\ml-stock-sent\\.venv\\Lib\\site-packages\\sklearn\\linear_model\\_coordinate_descent.py:695: ConvergenceWarning: Objective did not converge. You might want to increase the number of iterations, check the scale of the features or consider increasing regularisation. Duality gap: 3.216e+02, tolerance: 7.740e-02\n",
      "  model = cd_fast.enet_coordinate_descent(\n",
      "D:\\IntelliJ\\ml-stock-sent\\.venv\\Lib\\site-packages\\sklearn\\linear_model\\_coordinate_descent.py:695: ConvergenceWarning: Objective did not converge. You might want to increase the number of iterations, check the scale of the features or consider increasing regularisation. Duality gap: 3.323e+02, tolerance: 7.740e-02\n",
      "  model = cd_fast.enet_coordinate_descent(\n",
      "D:\\IntelliJ\\ml-stock-sent\\.venv\\Lib\\site-packages\\sklearn\\linear_model\\_coordinate_descent.py:695: ConvergenceWarning: Objective did not converge. You might want to increase the number of iterations, check the scale of the features or consider increasing regularisation. Duality gap: 2.463e+02, tolerance: 7.740e-02\n",
      "  model = cd_fast.enet_coordinate_descent(\n",
      "D:\\IntelliJ\\ml-stock-sent\\.venv\\Lib\\site-packages\\sklearn\\linear_model\\_coordinate_descent.py:695: ConvergenceWarning: Objective did not converge. You might want to increase the number of iterations, check the scale of the features or consider increasing regularisation. Duality gap: 7.953e+01, tolerance: 7.740e-02\n",
      "  model = cd_fast.enet_coordinate_descent(\n",
      "D:\\IntelliJ\\ml-stock-sent\\.venv\\Lib\\site-packages\\sklearn\\linear_model\\_coordinate_descent.py:695: ConvergenceWarning: Objective did not converge. You might want to increase the number of iterations, check the scale of the features or consider increasing regularisation. Duality gap: 3.332e+02, tolerance: 7.740e-02\n",
      "  model = cd_fast.enet_coordinate_descent(\n",
      "D:\\IntelliJ\\ml-stock-sent\\.venv\\Lib\\site-packages\\sklearn\\linear_model\\_coordinate_descent.py:695: ConvergenceWarning: Objective did not converge. You might want to increase the number of iterations, check the scale of the features or consider increasing regularisation. Duality gap: 2.783e+02, tolerance: 7.740e-02\n",
      "  model = cd_fast.enet_coordinate_descent(\n",
      "D:\\IntelliJ\\ml-stock-sent\\.venv\\Lib\\site-packages\\sklearn\\linear_model\\_coordinate_descent.py:695: ConvergenceWarning: Objective did not converge. You might want to increase the number of iterations, check the scale of the features or consider increasing regularisation. Duality gap: 2.705e+02, tolerance: 7.740e-02\n",
      "  model = cd_fast.enet_coordinate_descent(\n",
      "D:\\IntelliJ\\ml-stock-sent\\.venv\\Lib\\site-packages\\sklearn\\linear_model\\_coordinate_descent.py:695: ConvergenceWarning: Objective did not converge. You might want to increase the number of iterations, check the scale of the features or consider increasing regularisation. Duality gap: 1.538e+02, tolerance: 7.740e-02\n",
      "  model = cd_fast.enet_coordinate_descent(\n",
      "D:\\IntelliJ\\ml-stock-sent\\.venv\\Lib\\site-packages\\sklearn\\linear_model\\_coordinate_descent.py:695: ConvergenceWarning: Objective did not converge. You might want to increase the number of iterations, check the scale of the features or consider increasing regularisation. Duality gap: 3.060e+02, tolerance: 7.740e-02\n",
      "  model = cd_fast.enet_coordinate_descent(\n",
      "D:\\IntelliJ\\ml-stock-sent\\.venv\\Lib\\site-packages\\sklearn\\linear_model\\_coordinate_descent.py:695: ConvergenceWarning: Objective did not converge. You might want to increase the number of iterations, check the scale of the features or consider increasing regularisation. Duality gap: 3.106e+02, tolerance: 7.740e-02\n",
      "  model = cd_fast.enet_coordinate_descent(\n",
      "D:\\IntelliJ\\ml-stock-sent\\.venv\\Lib\\site-packages\\sklearn\\linear_model\\_coordinate_descent.py:695: ConvergenceWarning: Objective did not converge. You might want to increase the number of iterations, check the scale of the features or consider increasing regularisation. Duality gap: 2.690e+02, tolerance: 7.740e-02\n",
      "  model = cd_fast.enet_coordinate_descent(\n",
      "D:\\IntelliJ\\ml-stock-sent\\.venv\\Lib\\site-packages\\sklearn\\linear_model\\_coordinate_descent.py:695: ConvergenceWarning: Objective did not converge. You might want to increase the number of iterations, check the scale of the features or consider increasing regularisation. Duality gap: 6.506e+01, tolerance: 7.740e-02\n",
      "  model = cd_fast.enet_coordinate_descent(\n",
      "D:\\IntelliJ\\ml-stock-sent\\.venv\\Lib\\site-packages\\sklearn\\linear_model\\_coordinate_descent.py:695: ConvergenceWarning: Objective did not converge. You might want to increase the number of iterations, check the scale of the features or consider increasing regularisation. Duality gap: 3.093e+02, tolerance: 7.740e-02\n",
      "  model = cd_fast.enet_coordinate_descent(\n",
      "D:\\IntelliJ\\ml-stock-sent\\.venv\\Lib\\site-packages\\sklearn\\linear_model\\_coordinate_descent.py:695: ConvergenceWarning: Objective did not converge. You might want to increase the number of iterations, check the scale of the features or consider increasing regularisation. Duality gap: 3.058e+02, tolerance: 7.740e-02\n",
      "  model = cd_fast.enet_coordinate_descent(\n",
      "D:\\IntelliJ\\ml-stock-sent\\.venv\\Lib\\site-packages\\sklearn\\linear_model\\_coordinate_descent.py:695: ConvergenceWarning: Objective did not converge. You might want to increase the number of iterations, check the scale of the features or consider increasing regularisation. Duality gap: 1.753e+02, tolerance: 7.740e-02\n",
      "  model = cd_fast.enet_coordinate_descent(\n",
      "D:\\IntelliJ\\ml-stock-sent\\.venv\\Lib\\site-packages\\sklearn\\linear_model\\_coordinate_descent.py:695: ConvergenceWarning: Objective did not converge. You might want to increase the number of iterations, check the scale of the features or consider increasing regularisation. Duality gap: 3.807e+02, tolerance: 1.160e-01\n",
      "  model = cd_fast.enet_coordinate_descent(\n",
      "D:\\IntelliJ\\ml-stock-sent\\.venv\\Lib\\site-packages\\sklearn\\linear_model\\_coordinate_descent.py:695: ConvergenceWarning: Objective did not converge. You might want to increase the number of iterations, check the scale of the features or consider increasing regularisation. Duality gap: 2.808e+01, tolerance: 1.160e-01\n",
      "  model = cd_fast.enet_coordinate_descent(\n",
      "D:\\IntelliJ\\ml-stock-sent\\.venv\\Lib\\site-packages\\sklearn\\linear_model\\_coordinate_descent.py:695: ConvergenceWarning: Objective did not converge. You might want to increase the number of iterations, check the scale of the features or consider increasing regularisation. Duality gap: 3.509e+02, tolerance: 1.160e-01\n",
      "  model = cd_fast.enet_coordinate_descent(\n",
      "D:\\IntelliJ\\ml-stock-sent\\.venv\\Lib\\site-packages\\sklearn\\linear_model\\_coordinate_descent.py:695: ConvergenceWarning: Objective did not converge. You might want to increase the number of iterations, check the scale of the features or consider increasing regularisation. Duality gap: 4.380e+02, tolerance: 1.160e-01\n",
      "  model = cd_fast.enet_coordinate_descent(\n",
      "D:\\IntelliJ\\ml-stock-sent\\.venv\\Lib\\site-packages\\sklearn\\linear_model\\_coordinate_descent.py:695: ConvergenceWarning: Objective did not converge. You might want to increase the number of iterations, check the scale of the features or consider increasing regularisation. Duality gap: 4.196e+02, tolerance: 1.160e-01\n",
      "  model = cd_fast.enet_coordinate_descent(\n",
      "D:\\IntelliJ\\ml-stock-sent\\.venv\\Lib\\site-packages\\sklearn\\linear_model\\_coordinate_descent.py:695: ConvergenceWarning: Objective did not converge. You might want to increase the number of iterations, check the scale of the features or consider increasing regularisation. Duality gap: 4.412e+02, tolerance: 1.160e-01\n",
      "  model = cd_fast.enet_coordinate_descent(\n",
      "D:\\IntelliJ\\ml-stock-sent\\.venv\\Lib\\site-packages\\sklearn\\linear_model\\_coordinate_descent.py:695: ConvergenceWarning: Objective did not converge. You might want to increase the number of iterations, check the scale of the features or consider increasing regularisation. Duality gap: 4.946e+01, tolerance: 1.160e-01\n",
      "  model = cd_fast.enet_coordinate_descent(\n",
      "D:\\IntelliJ\\ml-stock-sent\\.venv\\Lib\\site-packages\\sklearn\\linear_model\\_coordinate_descent.py:695: ConvergenceWarning: Objective did not converge. You might want to increase the number of iterations, check the scale of the features or consider increasing regularisation. Duality gap: 6.075e+01, tolerance: 1.160e-01\n",
      "  model = cd_fast.enet_coordinate_descent(\n",
      "D:\\IntelliJ\\ml-stock-sent\\.venv\\Lib\\site-packages\\sklearn\\linear_model\\_coordinate_descent.py:695: ConvergenceWarning: Objective did not converge. You might want to increase the number of iterations, check the scale of the features or consider increasing regularisation. Duality gap: 3.914e+02, tolerance: 1.160e-01\n",
      "  model = cd_fast.enet_coordinate_descent(\n",
      "D:\\IntelliJ\\ml-stock-sent\\.venv\\Lib\\site-packages\\sklearn\\linear_model\\_coordinate_descent.py:695: ConvergenceWarning: Objective did not converge. You might want to increase the number of iterations, check the scale of the features or consider increasing regularisation. Duality gap: 4.177e+02, tolerance: 1.160e-01\n",
      "  model = cd_fast.enet_coordinate_descent(\n",
      "D:\\IntelliJ\\ml-stock-sent\\.venv\\Lib\\site-packages\\sklearn\\linear_model\\_coordinate_descent.py:695: ConvergenceWarning: Objective did not converge. You might want to increase the number of iterations, check the scale of the features or consider increasing regularisation. Duality gap: 1.643e+02, tolerance: 1.160e-01\n",
      "  model = cd_fast.enet_coordinate_descent(\n",
      "D:\\IntelliJ\\ml-stock-sent\\.venv\\Lib\\site-packages\\sklearn\\linear_model\\_coordinate_descent.py:695: ConvergenceWarning: Objective did not converge. You might want to increase the number of iterations, check the scale of the features or consider increasing regularisation. Duality gap: 7.656e+00, tolerance: 1.160e-01\n",
      "  model = cd_fast.enet_coordinate_descent(\n",
      "D:\\IntelliJ\\ml-stock-sent\\.venv\\Lib\\site-packages\\sklearn\\linear_model\\_coordinate_descent.py:695: ConvergenceWarning: Objective did not converge. You might want to increase the number of iterations, check the scale of the features or consider increasing regularisation. Duality gap: 4.552e+02, tolerance: 1.160e-01\n",
      "  model = cd_fast.enet_coordinate_descent(\n",
      "D:\\IntelliJ\\ml-stock-sent\\.venv\\Lib\\site-packages\\sklearn\\linear_model\\_coordinate_descent.py:695: ConvergenceWarning: Objective did not converge. You might want to increase the number of iterations, check the scale of the features or consider increasing regularisation. Duality gap: 4.848e+02, tolerance: 1.160e-01\n",
      "  model = cd_fast.enet_coordinate_descent(\n",
      "D:\\IntelliJ\\ml-stock-sent\\.venv\\Lib\\site-packages\\sklearn\\linear_model\\_coordinate_descent.py:695: ConvergenceWarning: Objective did not converge. You might want to increase the number of iterations, check the scale of the features or consider increasing regularisation. Duality gap: 3.256e+02, tolerance: 1.160e-01\n",
      "  model = cd_fast.enet_coordinate_descent(\n",
      "D:\\IntelliJ\\ml-stock-sent\\.venv\\Lib\\site-packages\\sklearn\\linear_model\\_coordinate_descent.py:695: ConvergenceWarning: Objective did not converge. You might want to increase the number of iterations, check the scale of the features or consider increasing regularisation. Duality gap: 4.568e+02, tolerance: 1.160e-01\n",
      "  model = cd_fast.enet_coordinate_descent(\n",
      "D:\\IntelliJ\\ml-stock-sent\\.venv\\Lib\\site-packages\\sklearn\\linear_model\\_coordinate_descent.py:695: ConvergenceWarning: Objective did not converge. You might want to increase the number of iterations, check the scale of the features or consider increasing regularisation. Duality gap: 4.713e+02, tolerance: 1.160e-01\n",
      "  model = cd_fast.enet_coordinate_descent(\n",
      "D:\\IntelliJ\\ml-stock-sent\\.venv\\Lib\\site-packages\\sklearn\\linear_model\\_coordinate_descent.py:695: ConvergenceWarning: Objective did not converge. You might want to increase the number of iterations, check the scale of the features or consider increasing regularisation. Duality gap: 3.610e+02, tolerance: 1.160e-01\n",
      "  model = cd_fast.enet_coordinate_descent(\n",
      "D:\\IntelliJ\\ml-stock-sent\\.venv\\Lib\\site-packages\\sklearn\\linear_model\\_coordinate_descent.py:695: ConvergenceWarning: Objective did not converge. You might want to increase the number of iterations, check the scale of the features or consider increasing regularisation. Duality gap: 1.867e+01, tolerance: 1.160e-01\n",
      "  model = cd_fast.enet_coordinate_descent(\n",
      "D:\\IntelliJ\\ml-stock-sent\\.venv\\Lib\\site-packages\\sklearn\\linear_model\\_coordinate_descent.py:695: ConvergenceWarning: Objective did not converge. You might want to increase the number of iterations, check the scale of the features or consider increasing regularisation. Duality gap: 4.729e+02, tolerance: 1.160e-01\n",
      "  model = cd_fast.enet_coordinate_descent(\n",
      "D:\\IntelliJ\\ml-stock-sent\\.venv\\Lib\\site-packages\\sklearn\\linear_model\\_coordinate_descent.py:695: ConvergenceWarning: Objective did not converge. You might want to increase the number of iterations, check the scale of the features or consider increasing regularisation. Duality gap: 3.413e+02, tolerance: 1.160e-01\n",
      "  model = cd_fast.enet_coordinate_descent(\n",
      "D:\\IntelliJ\\ml-stock-sent\\.venv\\Lib\\site-packages\\sklearn\\linear_model\\_coordinate_descent.py:695: ConvergenceWarning: Objective did not converge. You might want to increase the number of iterations, check the scale of the features or consider increasing regularisation. Duality gap: 3.972e+02, tolerance: 1.160e-01\n",
      "  model = cd_fast.enet_coordinate_descent(\n",
      "D:\\IntelliJ\\ml-stock-sent\\.venv\\Lib\\site-packages\\sklearn\\linear_model\\_coordinate_descent.py:695: ConvergenceWarning: Objective did not converge. You might want to increase the number of iterations, check the scale of the features or consider increasing regularisation. Duality gap: 2.986e+01, tolerance: 1.160e-01\n",
      "  model = cd_fast.enet_coordinate_descent(\n",
      "D:\\IntelliJ\\ml-stock-sent\\.venv\\Lib\\site-packages\\sklearn\\linear_model\\_coordinate_descent.py:695: ConvergenceWarning: Objective did not converge. You might want to increase the number of iterations, check the scale of the features or consider increasing regularisation. Duality gap: 3.816e+02, tolerance: 1.160e-01\n",
      "  model = cd_fast.enet_coordinate_descent(\n",
      "D:\\IntelliJ\\ml-stock-sent\\.venv\\Lib\\site-packages\\sklearn\\linear_model\\_coordinate_descent.py:695: ConvergenceWarning: Objective did not converge. You might want to increase the number of iterations, check the scale of the features or consider increasing regularisation. Duality gap: 2.972e+02, tolerance: 1.160e-01\n",
      "  model = cd_fast.enet_coordinate_descent(\n",
      "D:\\IntelliJ\\ml-stock-sent\\.venv\\Lib\\site-packages\\sklearn\\linear_model\\_coordinate_descent.py:695: ConvergenceWarning: Objective did not converge. You might want to increase the number of iterations, check the scale of the features or consider increasing regularisation. Duality gap: 4.299e+02, tolerance: 1.160e-01\n",
      "  model = cd_fast.enet_coordinate_descent(\n",
      "D:\\IntelliJ\\ml-stock-sent\\.venv\\Lib\\site-packages\\sklearn\\linear_model\\_coordinate_descent.py:695: ConvergenceWarning: Objective did not converge. You might want to increase the number of iterations, check the scale of the features or consider increasing regularisation. Duality gap: 1.169e+02, tolerance: 1.160e-01\n",
      "  model = cd_fast.enet_coordinate_descent(\n",
      "D:\\IntelliJ\\ml-stock-sent\\.venv\\Lib\\site-packages\\sklearn\\linear_model\\_coordinate_descent.py:695: ConvergenceWarning: Objective did not converge. You might want to increase the number of iterations, check the scale of the features or consider increasing regularisation. Duality gap: 4.477e+02, tolerance: 1.160e-01\n",
      "  model = cd_fast.enet_coordinate_descent(\n",
      "D:\\IntelliJ\\ml-stock-sent\\.venv\\Lib\\site-packages\\sklearn\\linear_model\\_coordinate_descent.py:695: ConvergenceWarning: Objective did not converge. You might want to increase the number of iterations, check the scale of the features or consider increasing regularisation. Duality gap: 4.402e+02, tolerance: 1.160e-01\n",
      "  model = cd_fast.enet_coordinate_descent(\n",
      "D:\\IntelliJ\\ml-stock-sent\\.venv\\Lib\\site-packages\\sklearn\\linear_model\\_coordinate_descent.py:695: ConvergenceWarning: Objective did not converge. You might want to increase the number of iterations, check the scale of the features or consider increasing regularisation. Duality gap: 2.920e+02, tolerance: 1.160e-01\n",
      "  model = cd_fast.enet_coordinate_descent(\n",
      "[I 2025-08-22 18:51:01,509] Trial 1 finished with value: 0.009755928825263034 and parameters: {'alpha': 2.9375384576328295e-05, 'l1_ratio': 0.05808361216819946, 'selection': 'cyclic', 'max_iter': 4000}. Best is trial 0 with value: 0.009733881960129078.\n",
      "D:\\IntelliJ\\ml-stock-sent\\.venv\\Lib\\site-packages\\sklearn\\linear_model\\_coordinate_descent.py:695: ConvergenceWarning: Objective did not converge. You might want to increase the number of iterations, check the scale of the features or consider increasing regularisation. Duality gap: 1.693e+02, tolerance: 3.880e-02\n",
      "  model = cd_fast.enet_coordinate_descent(\n",
      "D:\\IntelliJ\\ml-stock-sent\\.venv\\Lib\\site-packages\\sklearn\\linear_model\\_coordinate_descent.py:695: ConvergenceWarning: Objective did not converge. You might want to increase the number of iterations, check the scale of the features or consider increasing regularisation. Duality gap: 1.401e+02, tolerance: 3.880e-02\n",
      "  model = cd_fast.enet_coordinate_descent(\n",
      "D:\\IntelliJ\\ml-stock-sent\\.venv\\Lib\\site-packages\\sklearn\\linear_model\\_coordinate_descent.py:695: ConvergenceWarning: Objective did not converge. You might want to increase the number of iterations, check the scale of the features or consider increasing regularisation. Duality gap: 1.656e+02, tolerance: 3.880e-02\n",
      "  model = cd_fast.enet_coordinate_descent(\n",
      "D:\\IntelliJ\\ml-stock-sent\\.venv\\Lib\\site-packages\\sklearn\\linear_model\\_coordinate_descent.py:695: ConvergenceWarning: Objective did not converge. You might want to increase the number of iterations, check the scale of the features or consider increasing regularisation. Duality gap: 1.604e+02, tolerance: 3.880e-02\n",
      "  model = cd_fast.enet_coordinate_descent(\n",
      "D:\\IntelliJ\\ml-stock-sent\\.venv\\Lib\\site-packages\\sklearn\\linear_model\\_coordinate_descent.py:695: ConvergenceWarning: Objective did not converge. You might want to increase the number of iterations, check the scale of the features or consider increasing regularisation. Duality gap: 1.141e+02, tolerance: 3.880e-02\n",
      "  model = cd_fast.enet_coordinate_descent(\n",
      "D:\\IntelliJ\\ml-stock-sent\\.venv\\Lib\\site-packages\\sklearn\\linear_model\\_coordinate_descent.py:695: ConvergenceWarning: Objective did not converge. You might want to increase the number of iterations, check the scale of the features or consider increasing regularisation. Duality gap: 1.742e+02, tolerance: 3.880e-02\n",
      "  model = cd_fast.enet_coordinate_descent(\n",
      "D:\\IntelliJ\\ml-stock-sent\\.venv\\Lib\\site-packages\\sklearn\\linear_model\\_coordinate_descent.py:695: ConvergenceWarning: Objective did not converge. You might want to increase the number of iterations, check the scale of the features or consider increasing regularisation. Duality gap: 1.562e+02, tolerance: 3.880e-02\n",
      "  model = cd_fast.enet_coordinate_descent(\n",
      "D:\\IntelliJ\\ml-stock-sent\\.venv\\Lib\\site-packages\\sklearn\\linear_model\\_coordinate_descent.py:695: ConvergenceWarning: Objective did not converge. You might want to increase the number of iterations, check the scale of the features or consider increasing regularisation. Duality gap: 9.878e+01, tolerance: 3.880e-02\n",
      "  model = cd_fast.enet_coordinate_descent(\n",
      "D:\\IntelliJ\\ml-stock-sent\\.venv\\Lib\\site-packages\\sklearn\\linear_model\\_coordinate_descent.py:695: ConvergenceWarning: Objective did not converge. You might want to increase the number of iterations, check the scale of the features or consider increasing regularisation. Duality gap: 1.630e+02, tolerance: 3.880e-02\n",
      "  model = cd_fast.enet_coordinate_descent(\n",
      "D:\\IntelliJ\\ml-stock-sent\\.venv\\Lib\\site-packages\\sklearn\\linear_model\\_coordinate_descent.py:695: ConvergenceWarning: Objective did not converge. You might want to increase the number of iterations, check the scale of the features or consider increasing regularisation. Duality gap: 1.674e+02, tolerance: 3.880e-02\n",
      "  model = cd_fast.enet_coordinate_descent(\n",
      "D:\\IntelliJ\\ml-stock-sent\\.venv\\Lib\\site-packages\\sklearn\\linear_model\\_coordinate_descent.py:695: ConvergenceWarning: Objective did not converge. You might want to increase the number of iterations, check the scale of the features or consider increasing regularisation. Duality gap: 1.312e+02, tolerance: 3.880e-02\n",
      "  model = cd_fast.enet_coordinate_descent(\n",
      "D:\\IntelliJ\\ml-stock-sent\\.venv\\Lib\\site-packages\\sklearn\\linear_model\\_coordinate_descent.py:695: ConvergenceWarning: Objective did not converge. You might want to increase the number of iterations, check the scale of the features or consider increasing regularisation. Duality gap: 1.329e+02, tolerance: 3.880e-02\n",
      "  model = cd_fast.enet_coordinate_descent(\n",
      "D:\\IntelliJ\\ml-stock-sent\\.venv\\Lib\\site-packages\\sklearn\\linear_model\\_coordinate_descent.py:695: ConvergenceWarning: Objective did not converge. You might want to increase the number of iterations, check the scale of the features or consider increasing regularisation. Duality gap: 1.718e+02, tolerance: 3.880e-02\n",
      "  model = cd_fast.enet_coordinate_descent(\n",
      "D:\\IntelliJ\\ml-stock-sent\\.venv\\Lib\\site-packages\\sklearn\\linear_model\\_coordinate_descent.py:695: ConvergenceWarning: Objective did not converge. You might want to increase the number of iterations, check the scale of the features or consider increasing regularisation. Duality gap: 1.751e+02, tolerance: 3.880e-02\n",
      "  model = cd_fast.enet_coordinate_descent(\n",
      "D:\\IntelliJ\\ml-stock-sent\\.venv\\Lib\\site-packages\\sklearn\\linear_model\\_coordinate_descent.py:695: ConvergenceWarning: Objective did not converge. You might want to increase the number of iterations, check the scale of the features or consider increasing regularisation. Duality gap: 1.288e+02, tolerance: 3.880e-02\n",
      "  model = cd_fast.enet_coordinate_descent(\n",
      "D:\\IntelliJ\\ml-stock-sent\\.venv\\Lib\\site-packages\\sklearn\\linear_model\\_coordinate_descent.py:695: ConvergenceWarning: Objective did not converge. You might want to increase the number of iterations, check the scale of the features or consider increasing regularisation. Duality gap: 1.673e+02, tolerance: 3.880e-02\n",
      "  model = cd_fast.enet_coordinate_descent(\n",
      "D:\\IntelliJ\\ml-stock-sent\\.venv\\Lib\\site-packages\\sklearn\\linear_model\\_coordinate_descent.py:695: ConvergenceWarning: Objective did not converge. You might want to increase the number of iterations, check the scale of the features or consider increasing regularisation. Duality gap: 1.670e+02, tolerance: 3.880e-02\n",
      "  model = cd_fast.enet_coordinate_descent(\n",
      "D:\\IntelliJ\\ml-stock-sent\\.venv\\Lib\\site-packages\\sklearn\\linear_model\\_coordinate_descent.py:695: ConvergenceWarning: Objective did not converge. You might want to increase the number of iterations, check the scale of the features or consider increasing regularisation. Duality gap: 1.674e+02, tolerance: 3.880e-02\n",
      "  model = cd_fast.enet_coordinate_descent(\n",
      "D:\\IntelliJ\\ml-stock-sent\\.venv\\Lib\\site-packages\\sklearn\\linear_model\\_coordinate_descent.py:695: ConvergenceWarning: Objective did not converge. You might want to increase the number of iterations, check the scale of the features or consider increasing regularisation. Duality gap: 1.604e+02, tolerance: 3.880e-02\n",
      "  model = cd_fast.enet_coordinate_descent(\n",
      "D:\\IntelliJ\\ml-stock-sent\\.venv\\Lib\\site-packages\\sklearn\\linear_model\\_coordinate_descent.py:695: ConvergenceWarning: Objective did not converge. You might want to increase the number of iterations, check the scale of the features or consider increasing regularisation. Duality gap: 1.741e+02, tolerance: 3.880e-02\n",
      "  model = cd_fast.enet_coordinate_descent(\n",
      "D:\\IntelliJ\\ml-stock-sent\\.venv\\Lib\\site-packages\\sklearn\\linear_model\\_coordinate_descent.py:695: ConvergenceWarning: Objective did not converge. You might want to increase the number of iterations, check the scale of the features or consider increasing regularisation. Duality gap: 1.507e+02, tolerance: 3.880e-02\n",
      "  model = cd_fast.enet_coordinate_descent(\n",
      "D:\\IntelliJ\\ml-stock-sent\\.venv\\Lib\\site-packages\\sklearn\\linear_model\\_coordinate_descent.py:695: ConvergenceWarning: Objective did not converge. You might want to increase the number of iterations, check the scale of the features or consider increasing regularisation. Duality gap: 1.545e+02, tolerance: 3.880e-02\n",
      "  model = cd_fast.enet_coordinate_descent(\n",
      "D:\\IntelliJ\\ml-stock-sent\\.venv\\Lib\\site-packages\\sklearn\\linear_model\\_coordinate_descent.py:695: ConvergenceWarning: Objective did not converge. You might want to increase the number of iterations, check the scale of the features or consider increasing regularisation. Duality gap: 1.661e+02, tolerance: 3.880e-02\n",
      "  model = cd_fast.enet_coordinate_descent(\n",
      "D:\\IntelliJ\\ml-stock-sent\\.venv\\Lib\\site-packages\\sklearn\\linear_model\\_coordinate_descent.py:695: ConvergenceWarning: Objective did not converge. You might want to increase the number of iterations, check the scale of the features or consider increasing regularisation. Duality gap: 1.706e+02, tolerance: 3.880e-02\n",
      "  model = cd_fast.enet_coordinate_descent(\n",
      "D:\\IntelliJ\\ml-stock-sent\\.venv\\Lib\\site-packages\\sklearn\\linear_model\\_coordinate_descent.py:695: ConvergenceWarning: Objective did not converge. You might want to increase the number of iterations, check the scale of the features or consider increasing regularisation. Duality gap: 1.707e+02, tolerance: 3.880e-02\n",
      "  model = cd_fast.enet_coordinate_descent(\n",
      "D:\\IntelliJ\\ml-stock-sent\\.venv\\Lib\\site-packages\\sklearn\\linear_model\\_coordinate_descent.py:695: ConvergenceWarning: Objective did not converge. You might want to increase the number of iterations, check the scale of the features or consider increasing regularisation. Duality gap: 1.636e+02, tolerance: 3.880e-02\n",
      "  model = cd_fast.enet_coordinate_descent(\n",
      "D:\\IntelliJ\\ml-stock-sent\\.venv\\Lib\\site-packages\\sklearn\\linear_model\\_coordinate_descent.py:695: ConvergenceWarning: Objective did not converge. You might want to increase the number of iterations, check the scale of the features or consider increasing regularisation. Duality gap: 1.439e+02, tolerance: 3.880e-02\n",
      "  model = cd_fast.enet_coordinate_descent(\n",
      "D:\\IntelliJ\\ml-stock-sent\\.venv\\Lib\\site-packages\\sklearn\\linear_model\\_coordinate_descent.py:695: ConvergenceWarning: Objective did not converge. You might want to increase the number of iterations, check the scale of the features or consider increasing regularisation. Duality gap: 1.684e+02, tolerance: 3.880e-02\n",
      "  model = cd_fast.enet_coordinate_descent(\n",
      "D:\\IntelliJ\\ml-stock-sent\\.venv\\Lib\\site-packages\\sklearn\\linear_model\\_coordinate_descent.py:695: ConvergenceWarning: Objective did not converge. You might want to increase the number of iterations, check the scale of the features or consider increasing regularisation. Duality gap: 1.657e+02, tolerance: 3.880e-02\n",
      "  model = cd_fast.enet_coordinate_descent(\n",
      "D:\\IntelliJ\\ml-stock-sent\\.venv\\Lib\\site-packages\\sklearn\\linear_model\\_coordinate_descent.py:695: ConvergenceWarning: Objective did not converge. You might want to increase the number of iterations, check the scale of the features or consider increasing regularisation. Duality gap: 1.562e+02, tolerance: 3.880e-02\n",
      "  model = cd_fast.enet_coordinate_descent(\n",
      "D:\\IntelliJ\\ml-stock-sent\\.venv\\Lib\\site-packages\\sklearn\\linear_model\\_coordinate_descent.py:695: ConvergenceWarning: Objective did not converge. You might want to increase the number of iterations, check the scale of the features or consider increasing regularisation. Duality gap: 3.429e+02, tolerance: 7.740e-02\n",
      "  model = cd_fast.enet_coordinate_descent(\n",
      "D:\\IntelliJ\\ml-stock-sent\\.venv\\Lib\\site-packages\\sklearn\\linear_model\\_coordinate_descent.py:695: ConvergenceWarning: Objective did not converge. You might want to increase the number of iterations, check the scale of the features or consider increasing regularisation. Duality gap: 3.131e+02, tolerance: 7.740e-02\n",
      "  model = cd_fast.enet_coordinate_descent(\n",
      "D:\\IntelliJ\\ml-stock-sent\\.venv\\Lib\\site-packages\\sklearn\\linear_model\\_coordinate_descent.py:695: ConvergenceWarning: Objective did not converge. You might want to increase the number of iterations, check the scale of the features or consider increasing regularisation. Duality gap: 3.340e+02, tolerance: 7.740e-02\n",
      "  model = cd_fast.enet_coordinate_descent(\n",
      "D:\\IntelliJ\\ml-stock-sent\\.venv\\Lib\\site-packages\\sklearn\\linear_model\\_coordinate_descent.py:695: ConvergenceWarning: Objective did not converge. You might want to increase the number of iterations, check the scale of the features or consider increasing regularisation. Duality gap: 3.471e+02, tolerance: 7.740e-02\n",
      "  model = cd_fast.enet_coordinate_descent(\n",
      "D:\\IntelliJ\\ml-stock-sent\\.venv\\Lib\\site-packages\\sklearn\\linear_model\\_coordinate_descent.py:695: ConvergenceWarning: Objective did not converge. You might want to increase the number of iterations, check the scale of the features or consider increasing regularisation. Duality gap: 3.299e+02, tolerance: 7.740e-02\n",
      "  model = cd_fast.enet_coordinate_descent(\n",
      "D:\\IntelliJ\\ml-stock-sent\\.venv\\Lib\\site-packages\\sklearn\\linear_model\\_coordinate_descent.py:695: ConvergenceWarning: Objective did not converge. You might want to increase the number of iterations, check the scale of the features or consider increasing regularisation. Duality gap: 3.457e+02, tolerance: 7.740e-02\n",
      "  model = cd_fast.enet_coordinate_descent(\n",
      "D:\\IntelliJ\\ml-stock-sent\\.venv\\Lib\\site-packages\\sklearn\\linear_model\\_coordinate_descent.py:695: ConvergenceWarning: Objective did not converge. You might want to increase the number of iterations, check the scale of the features or consider increasing regularisation. Duality gap: 1.614e+02, tolerance: 7.740e-02\n",
      "  model = cd_fast.enet_coordinate_descent(\n",
      "D:\\IntelliJ\\ml-stock-sent\\.venv\\Lib\\site-packages\\sklearn\\linear_model\\_coordinate_descent.py:695: ConvergenceWarning: Objective did not converge. You might want to increase the number of iterations, check the scale of the features or consider increasing regularisation. Duality gap: 2.494e+02, tolerance: 7.740e-02\n",
      "  model = cd_fast.enet_coordinate_descent(\n",
      "D:\\IntelliJ\\ml-stock-sent\\.venv\\Lib\\site-packages\\sklearn\\linear_model\\_coordinate_descent.py:695: ConvergenceWarning: Objective did not converge. You might want to increase the number of iterations, check the scale of the features or consider increasing regularisation. Duality gap: 3.332e+02, tolerance: 7.740e-02\n",
      "  model = cd_fast.enet_coordinate_descent(\n",
      "D:\\IntelliJ\\ml-stock-sent\\.venv\\Lib\\site-packages\\sklearn\\linear_model\\_coordinate_descent.py:695: ConvergenceWarning: Objective did not converge. You might want to increase the number of iterations, check the scale of the features or consider increasing regularisation. Duality gap: 3.428e+02, tolerance: 7.740e-02\n",
      "  model = cd_fast.enet_coordinate_descent(\n",
      "D:\\IntelliJ\\ml-stock-sent\\.venv\\Lib\\site-packages\\sklearn\\linear_model\\_coordinate_descent.py:695: ConvergenceWarning: Objective did not converge. You might want to increase the number of iterations, check the scale of the features or consider increasing regularisation. Duality gap: 2.598e+02, tolerance: 7.740e-02\n",
      "  model = cd_fast.enet_coordinate_descent(\n",
      "D:\\IntelliJ\\ml-stock-sent\\.venv\\Lib\\site-packages\\sklearn\\linear_model\\_coordinate_descent.py:695: ConvergenceWarning: Objective did not converge. You might want to increase the number of iterations, check the scale of the features or consider increasing regularisation. Duality gap: 2.041e+02, tolerance: 7.740e-02\n",
      "  model = cd_fast.enet_coordinate_descent(\n",
      "D:\\IntelliJ\\ml-stock-sent\\.venv\\Lib\\site-packages\\sklearn\\linear_model\\_coordinate_descent.py:695: ConvergenceWarning: Objective did not converge. You might want to increase the number of iterations, check the scale of the features or consider increasing regularisation. Duality gap: 3.492e+02, tolerance: 7.740e-02\n",
      "  model = cd_fast.enet_coordinate_descent(\n",
      "D:\\IntelliJ\\ml-stock-sent\\.venv\\Lib\\site-packages\\sklearn\\linear_model\\_coordinate_descent.py:695: ConvergenceWarning: Objective did not converge. You might want to increase the number of iterations, check the scale of the features or consider increasing regularisation. Duality gap: 3.575e+02, tolerance: 7.740e-02\n",
      "  model = cd_fast.enet_coordinate_descent(\n",
      "D:\\IntelliJ\\ml-stock-sent\\.venv\\Lib\\site-packages\\sklearn\\linear_model\\_coordinate_descent.py:695: ConvergenceWarning: Objective did not converge. You might want to increase the number of iterations, check the scale of the features or consider increasing regularisation. Duality gap: 3.234e+02, tolerance: 7.740e-02\n",
      "  model = cd_fast.enet_coordinate_descent(\n",
      "D:\\IntelliJ\\ml-stock-sent\\.venv\\Lib\\site-packages\\sklearn\\linear_model\\_coordinate_descent.py:695: ConvergenceWarning: Objective did not converge. You might want to increase the number of iterations, check the scale of the features or consider increasing regularisation. Duality gap: 3.470e+02, tolerance: 7.740e-02\n",
      "  model = cd_fast.enet_coordinate_descent(\n",
      "D:\\IntelliJ\\ml-stock-sent\\.venv\\Lib\\site-packages\\sklearn\\linear_model\\_coordinate_descent.py:695: ConvergenceWarning: Objective did not converge. You might want to increase the number of iterations, check the scale of the features or consider increasing regularisation. Duality gap: 3.550e+02, tolerance: 7.740e-02\n",
      "  model = cd_fast.enet_coordinate_descent(\n",
      "D:\\IntelliJ\\ml-stock-sent\\.venv\\Lib\\site-packages\\sklearn\\linear_model\\_coordinate_descent.py:695: ConvergenceWarning: Objective did not converge. You might want to increase the number of iterations, check the scale of the features or consider increasing regularisation. Duality gap: 3.075e+02, tolerance: 7.740e-02\n",
      "  model = cd_fast.enet_coordinate_descent(\n",
      "D:\\IntelliJ\\ml-stock-sent\\.venv\\Lib\\site-packages\\sklearn\\linear_model\\_coordinate_descent.py:695: ConvergenceWarning: Objective did not converge. You might want to increase the number of iterations, check the scale of the features or consider increasing regularisation. Duality gap: 1.524e+02, tolerance: 7.740e-02\n",
      "  model = cd_fast.enet_coordinate_descent(\n",
      "D:\\IntelliJ\\ml-stock-sent\\.venv\\Lib\\site-packages\\sklearn\\linear_model\\_coordinate_descent.py:695: ConvergenceWarning: Objective did not converge. You might want to increase the number of iterations, check the scale of the features or consider increasing regularisation. Duality gap: 3.549e+02, tolerance: 7.740e-02\n",
      "  model = cd_fast.enet_coordinate_descent(\n",
      "D:\\IntelliJ\\ml-stock-sent\\.venv\\Lib\\site-packages\\sklearn\\linear_model\\_coordinate_descent.py:695: ConvergenceWarning: Objective did not converge. You might want to increase the number of iterations, check the scale of the features or consider increasing regularisation. Duality gap: 3.282e+02, tolerance: 7.740e-02\n",
      "  model = cd_fast.enet_coordinate_descent(\n",
      "D:\\IntelliJ\\ml-stock-sent\\.venv\\Lib\\site-packages\\sklearn\\linear_model\\_coordinate_descent.py:695: ConvergenceWarning: Objective did not converge. You might want to increase the number of iterations, check the scale of the features or consider increasing regularisation. Duality gap: 3.268e+02, tolerance: 7.740e-02\n",
      "  model = cd_fast.enet_coordinate_descent(\n",
      "D:\\IntelliJ\\ml-stock-sent\\.venv\\Lib\\site-packages\\sklearn\\linear_model\\_coordinate_descent.py:695: ConvergenceWarning: Objective did not converge. You might want to increase the number of iterations, check the scale of the features or consider increasing regularisation. Duality gap: 2.380e+02, tolerance: 7.740e-02\n",
      "  model = cd_fast.enet_coordinate_descent(\n",
      "D:\\IntelliJ\\ml-stock-sent\\.venv\\Lib\\site-packages\\sklearn\\linear_model\\_coordinate_descent.py:695: ConvergenceWarning: Objective did not converge. You might want to increase the number of iterations, check the scale of the features or consider increasing regularisation. Duality gap: 3.431e+02, tolerance: 7.740e-02\n",
      "  model = cd_fast.enet_coordinate_descent(\n",
      "D:\\IntelliJ\\ml-stock-sent\\.venv\\Lib\\site-packages\\sklearn\\linear_model\\_coordinate_descent.py:695: ConvergenceWarning: Objective did not converge. You might want to increase the number of iterations, check the scale of the features or consider increasing regularisation. Duality gap: 3.459e+02, tolerance: 7.740e-02\n",
      "  model = cd_fast.enet_coordinate_descent(\n",
      "D:\\IntelliJ\\ml-stock-sent\\.venv\\Lib\\site-packages\\sklearn\\linear_model\\_coordinate_descent.py:695: ConvergenceWarning: Objective did not converge. You might want to increase the number of iterations, check the scale of the features or consider increasing regularisation. Duality gap: 3.260e+02, tolerance: 7.740e-02\n",
      "  model = cd_fast.enet_coordinate_descent(\n",
      "D:\\IntelliJ\\ml-stock-sent\\.venv\\Lib\\site-packages\\sklearn\\linear_model\\_coordinate_descent.py:695: ConvergenceWarning: Objective did not converge. You might want to increase the number of iterations, check the scale of the features or consider increasing regularisation. Duality gap: 1.500e+02, tolerance: 7.740e-02\n",
      "  model = cd_fast.enet_coordinate_descent(\n",
      "D:\\IntelliJ\\ml-stock-sent\\.venv\\Lib\\site-packages\\sklearn\\linear_model\\_coordinate_descent.py:695: ConvergenceWarning: Objective did not converge. You might want to increase the number of iterations, check the scale of the features or consider increasing regularisation. Duality gap: 3.441e+02, tolerance: 7.740e-02\n",
      "  model = cd_fast.enet_coordinate_descent(\n",
      "D:\\IntelliJ\\ml-stock-sent\\.venv\\Lib\\site-packages\\sklearn\\linear_model\\_coordinate_descent.py:695: ConvergenceWarning: Objective did not converge. You might want to increase the number of iterations, check the scale of the features or consider increasing regularisation. Duality gap: 3.407e+02, tolerance: 7.740e-02\n",
      "  model = cd_fast.enet_coordinate_descent(\n",
      "D:\\IntelliJ\\ml-stock-sent\\.venv\\Lib\\site-packages\\sklearn\\linear_model\\_coordinate_descent.py:695: ConvergenceWarning: Objective did not converge. You might want to increase the number of iterations, check the scale of the features or consider increasing regularisation. Duality gap: 2.650e+02, tolerance: 7.740e-02\n",
      "  model = cd_fast.enet_coordinate_descent(\n",
      "D:\\IntelliJ\\ml-stock-sent\\.venv\\Lib\\site-packages\\sklearn\\linear_model\\_coordinate_descent.py:695: ConvergenceWarning: Objective did not converge. You might want to increase the number of iterations, check the scale of the features or consider increasing regularisation. Duality gap: 4.854e+02, tolerance: 1.160e-01\n",
      "  model = cd_fast.enet_coordinate_descent(\n",
      "D:\\IntelliJ\\ml-stock-sent\\.venv\\Lib\\site-packages\\sklearn\\linear_model\\_coordinate_descent.py:695: ConvergenceWarning: Objective did not converge. You might want to increase the number of iterations, check the scale of the features or consider increasing regularisation. Duality gap: 3.285e+01, tolerance: 1.160e-01\n",
      "  model = cd_fast.enet_coordinate_descent(\n",
      "D:\\IntelliJ\\ml-stock-sent\\.venv\\Lib\\site-packages\\sklearn\\linear_model\\_coordinate_descent.py:695: ConvergenceWarning: Objective did not converge. You might want to increase the number of iterations, check the scale of the features or consider increasing regularisation. Duality gap: 4.727e+02, tolerance: 1.160e-01\n",
      "  model = cd_fast.enet_coordinate_descent(\n",
      "D:\\IntelliJ\\ml-stock-sent\\.venv\\Lib\\site-packages\\sklearn\\linear_model\\_coordinate_descent.py:695: ConvergenceWarning: Objective did not converge. You might want to increase the number of iterations, check the scale of the features or consider increasing regularisation. Duality gap: 5.171e+02, tolerance: 1.160e-01\n",
      "  model = cd_fast.enet_coordinate_descent(\n",
      "D:\\IntelliJ\\ml-stock-sent\\.venv\\Lib\\site-packages\\sklearn\\linear_model\\_coordinate_descent.py:695: ConvergenceWarning: Objective did not converge. You might want to increase the number of iterations, check the scale of the features or consider increasing regularisation. Duality gap: 5.070e+02, tolerance: 1.160e-01\n",
      "  model = cd_fast.enet_coordinate_descent(\n",
      "D:\\IntelliJ\\ml-stock-sent\\.venv\\Lib\\site-packages\\sklearn\\linear_model\\_coordinate_descent.py:695: ConvergenceWarning: Objective did not converge. You might want to increase the number of iterations, check the scale of the features or consider increasing regularisation. Duality gap: 5.182e+02, tolerance: 1.160e-01\n",
      "  model = cd_fast.enet_coordinate_descent(\n",
      "D:\\IntelliJ\\ml-stock-sent\\.venv\\Lib\\site-packages\\sklearn\\linear_model\\_coordinate_descent.py:695: ConvergenceWarning: Objective did not converge. You might want to increase the number of iterations, check the scale of the features or consider increasing regularisation. Duality gap: 9.477e+01, tolerance: 1.160e-01\n",
      "  model = cd_fast.enet_coordinate_descent(\n",
      "D:\\IntelliJ\\ml-stock-sent\\.venv\\Lib\\site-packages\\sklearn\\linear_model\\_coordinate_descent.py:695: ConvergenceWarning: Objective did not converge. You might want to increase the number of iterations, check the scale of the features or consider increasing regularisation. Duality gap: 7.404e+01, tolerance: 1.160e-01\n",
      "  model = cd_fast.enet_coordinate_descent(\n",
      "D:\\IntelliJ\\ml-stock-sent\\.venv\\Lib\\site-packages\\sklearn\\linear_model\\_coordinate_descent.py:695: ConvergenceWarning: Objective did not converge. You might want to increase the number of iterations, check the scale of the features or consider increasing regularisation. Duality gap: 4.922e+02, tolerance: 1.160e-01\n",
      "  model = cd_fast.enet_coordinate_descent(\n",
      "D:\\IntelliJ\\ml-stock-sent\\.venv\\Lib\\site-packages\\sklearn\\linear_model\\_coordinate_descent.py:695: ConvergenceWarning: Objective did not converge. You might want to increase the number of iterations, check the scale of the features or consider increasing regularisation. Duality gap: 5.063e+02, tolerance: 1.160e-01\n",
      "  model = cd_fast.enet_coordinate_descent(\n",
      "D:\\IntelliJ\\ml-stock-sent\\.venv\\Lib\\site-packages\\sklearn\\linear_model\\_coordinate_descent.py:695: ConvergenceWarning: Objective did not converge. You might want to increase the number of iterations, check the scale of the features or consider increasing regularisation. Duality gap: 3.329e+02, tolerance: 1.160e-01\n",
      "  model = cd_fast.enet_coordinate_descent(\n",
      "D:\\IntelliJ\\ml-stock-sent\\.venv\\Lib\\site-packages\\sklearn\\linear_model\\_coordinate_descent.py:695: ConvergenceWarning: Objective did not converge. You might want to increase the number of iterations, check the scale of the features or consider increasing regularisation. Duality gap: 4.805e+00, tolerance: 1.160e-01\n",
      "  model = cd_fast.enet_coordinate_descent(\n",
      "D:\\IntelliJ\\ml-stock-sent\\.venv\\Lib\\site-packages\\sklearn\\linear_model\\_coordinate_descent.py:695: ConvergenceWarning: Objective did not converge. You might want to increase the number of iterations, check the scale of the features or consider increasing regularisation. Duality gap: 5.208e+02, tolerance: 1.160e-01\n",
      "  model = cd_fast.enet_coordinate_descent(\n",
      "D:\\IntelliJ\\ml-stock-sent\\.venv\\Lib\\site-packages\\sklearn\\linear_model\\_coordinate_descent.py:695: ConvergenceWarning: Objective did not converge. You might want to increase the number of iterations, check the scale of the features or consider increasing regularisation. Duality gap: 5.353e+02, tolerance: 1.160e-01\n",
      "  model = cd_fast.enet_coordinate_descent(\n",
      "D:\\IntelliJ\\ml-stock-sent\\.venv\\Lib\\site-packages\\sklearn\\linear_model\\_coordinate_descent.py:695: ConvergenceWarning: Objective did not converge. You might want to increase the number of iterations, check the scale of the features or consider increasing regularisation. Duality gap: 4.354e+02, tolerance: 1.160e-01\n",
      "  model = cd_fast.enet_coordinate_descent(\n",
      "D:\\IntelliJ\\ml-stock-sent\\.venv\\Lib\\site-packages\\sklearn\\linear_model\\_coordinate_descent.py:695: ConvergenceWarning: Objective did not converge. You might want to increase the number of iterations, check the scale of the features or consider increasing regularisation. Duality gap: 5.179e+02, tolerance: 1.160e-01\n",
      "  model = cd_fast.enet_coordinate_descent(\n",
      "D:\\IntelliJ\\ml-stock-sent\\.venv\\Lib\\site-packages\\sklearn\\linear_model\\_coordinate_descent.py:695: ConvergenceWarning: Objective did not converge. You might want to increase the number of iterations, check the scale of the features or consider increasing regularisation. Duality gap: 5.287e+02, tolerance: 1.160e-01\n",
      "  model = cd_fast.enet_coordinate_descent(\n",
      "D:\\IntelliJ\\ml-stock-sent\\.venv\\Lib\\site-packages\\sklearn\\linear_model\\_coordinate_descent.py:695: ConvergenceWarning: Objective did not converge. You might want to increase the number of iterations, check the scale of the features or consider increasing regularisation. Duality gap: 4.749e+02, tolerance: 1.160e-01\n",
      "  model = cd_fast.enet_coordinate_descent(\n",
      "D:\\IntelliJ\\ml-stock-sent\\.venv\\Lib\\site-packages\\sklearn\\linear_model\\_coordinate_descent.py:695: ConvergenceWarning: Objective did not converge. You might want to increase the number of iterations, check the scale of the features or consider increasing regularisation. Duality gap: 6.708e+01, tolerance: 1.160e-01\n",
      "  model = cd_fast.enet_coordinate_descent(\n",
      "D:\\IntelliJ\\ml-stock-sent\\.venv\\Lib\\site-packages\\sklearn\\linear_model\\_coordinate_descent.py:695: ConvergenceWarning: Objective did not converge. You might want to increase the number of iterations, check the scale of the features or consider increasing regularisation. Duality gap: 5.288e+02, tolerance: 1.160e-01\n",
      "  model = cd_fast.enet_coordinate_descent(\n",
      "D:\\IntelliJ\\ml-stock-sent\\.venv\\Lib\\site-packages\\sklearn\\linear_model\\_coordinate_descent.py:695: ConvergenceWarning: Objective did not converge. You might want to increase the number of iterations, check the scale of the features or consider increasing regularisation. Duality gap: 4.620e+02, tolerance: 1.160e-01\n",
      "  model = cd_fast.enet_coordinate_descent(\n",
      "D:\\IntelliJ\\ml-stock-sent\\.venv\\Lib\\site-packages\\sklearn\\linear_model\\_coordinate_descent.py:695: ConvergenceWarning: Objective did not converge. You might want to increase the number of iterations, check the scale of the features or consider increasing regularisation. Duality gap: 4.993e+02, tolerance: 1.160e-01\n",
      "  model = cd_fast.enet_coordinate_descent(\n",
      "D:\\IntelliJ\\ml-stock-sent\\.venv\\Lib\\site-packages\\sklearn\\linear_model\\_coordinate_descent.py:695: ConvergenceWarning: Objective did not converge. You might want to increase the number of iterations, check the scale of the features or consider increasing regularisation. Duality gap: 8.356e+01, tolerance: 1.160e-01\n",
      "  model = cd_fast.enet_coordinate_descent(\n",
      "D:\\IntelliJ\\ml-stock-sent\\.venv\\Lib\\site-packages\\sklearn\\linear_model\\_coordinate_descent.py:695: ConvergenceWarning: Objective did not converge. You might want to increase the number of iterations, check the scale of the features or consider increasing regularisation. Duality gap: 4.885e+02, tolerance: 1.160e-01\n",
      "  model = cd_fast.enet_coordinate_descent(\n",
      "D:\\IntelliJ\\ml-stock-sent\\.venv\\Lib\\site-packages\\sklearn\\linear_model\\_coordinate_descent.py:695: ConvergenceWarning: Objective did not converge. You might want to increase the number of iterations, check the scale of the features or consider increasing regularisation. Duality gap: 4.445e+02, tolerance: 1.160e-01\n",
      "  model = cd_fast.enet_coordinate_descent(\n",
      "D:\\IntelliJ\\ml-stock-sent\\.venv\\Lib\\site-packages\\sklearn\\linear_model\\_coordinate_descent.py:695: ConvergenceWarning: Objective did not converge. You might want to increase the number of iterations, check the scale of the features or consider increasing regularisation. Duality gap: 5.161e+02, tolerance: 1.160e-01\n",
      "  model = cd_fast.enet_coordinate_descent(\n",
      "D:\\IntelliJ\\ml-stock-sent\\.venv\\Lib\\site-packages\\sklearn\\linear_model\\_coordinate_descent.py:695: ConvergenceWarning: Objective did not converge. You might want to increase the number of iterations, check the scale of the features or consider increasing regularisation. Duality gap: 2.353e+02, tolerance: 1.160e-01\n",
      "  model = cd_fast.enet_coordinate_descent(\n",
      "D:\\IntelliJ\\ml-stock-sent\\.venv\\Lib\\site-packages\\sklearn\\linear_model\\_coordinate_descent.py:695: ConvergenceWarning: Objective did not converge. You might want to increase the number of iterations, check the scale of the features or consider increasing regularisation. Duality gap: 5.198e+02, tolerance: 1.160e-01\n",
      "  model = cd_fast.enet_coordinate_descent(\n",
      "D:\\IntelliJ\\ml-stock-sent\\.venv\\Lib\\site-packages\\sklearn\\linear_model\\_coordinate_descent.py:695: ConvergenceWarning: Objective did not converge. You might want to increase the number of iterations, check the scale of the features or consider increasing regularisation. Duality gap: 5.146e+02, tolerance: 1.160e-01\n",
      "  model = cd_fast.enet_coordinate_descent(\n",
      "D:\\IntelliJ\\ml-stock-sent\\.venv\\Lib\\site-packages\\sklearn\\linear_model\\_coordinate_descent.py:695: ConvergenceWarning: Objective did not converge. You might want to increase the number of iterations, check the scale of the features or consider increasing regularisation. Duality gap: 4.393e+02, tolerance: 1.160e-01\n",
      "  model = cd_fast.enet_coordinate_descent(\n",
      "[I 2025-08-22 18:51:01,937] Trial 2 finished with value: 0.009747240803740894 and parameters: {'alpha': 1.1527987128232396e-05, 'l1_ratio': 0.9699098521619943, 'selection': 'cyclic', 'max_iter': 1500}. Best is trial 0 with value: 0.009733881960129078.\n",
      "D:\\IntelliJ\\ml-stock-sent\\.venv\\Lib\\site-packages\\sklearn\\linear_model\\_coordinate_descent.py:695: ConvergenceWarning: Objective did not converge. You might want to increase the number of iterations, check the scale of the features or consider increasing regularisation. Duality gap: 1.641e+02, tolerance: 3.880e-02\n",
      "  model = cd_fast.enet_coordinate_descent(\n",
      "D:\\IntelliJ\\ml-stock-sent\\.venv\\Lib\\site-packages\\sklearn\\linear_model\\_coordinate_descent.py:695: ConvergenceWarning: Objective did not converge. You might want to increase the number of iterations, check the scale of the features or consider increasing regularisation. Duality gap: 1.140e+02, tolerance: 3.880e-02\n",
      "  model = cd_fast.enet_coordinate_descent(\n",
      "D:\\IntelliJ\\ml-stock-sent\\.venv\\Lib\\site-packages\\sklearn\\linear_model\\_coordinate_descent.py:695: ConvergenceWarning: Objective did not converge. You might want to increase the number of iterations, check the scale of the features or consider increasing regularisation. Duality gap: 1.568e+02, tolerance: 3.880e-02\n",
      "  model = cd_fast.enet_coordinate_descent(\n",
      "D:\\IntelliJ\\ml-stock-sent\\.venv\\Lib\\site-packages\\sklearn\\linear_model\\_coordinate_descent.py:695: ConvergenceWarning: Objective did not converge. You might want to increase the number of iterations, check the scale of the features or consider increasing regularisation. Duality gap: 1.479e+02, tolerance: 3.880e-02\n",
      "  model = cd_fast.enet_coordinate_descent(\n",
      "D:\\IntelliJ\\ml-stock-sent\\.venv\\Lib\\site-packages\\sklearn\\linear_model\\_coordinate_descent.py:695: ConvergenceWarning: Objective did not converge. You might want to increase the number of iterations, check the scale of the features or consider increasing regularisation. Duality gap: 8.557e+01, tolerance: 3.880e-02\n",
      "  model = cd_fast.enet_coordinate_descent(\n",
      "D:\\IntelliJ\\ml-stock-sent\\.venv\\Lib\\site-packages\\sklearn\\linear_model\\_coordinate_descent.py:695: ConvergenceWarning: Objective did not converge. You might want to increase the number of iterations, check the scale of the features or consider increasing regularisation. Duality gap: 1.676e+02, tolerance: 3.880e-02\n",
      "  model = cd_fast.enet_coordinate_descent(\n",
      "D:\\IntelliJ\\ml-stock-sent\\.venv\\Lib\\site-packages\\sklearn\\linear_model\\_coordinate_descent.py:695: ConvergenceWarning: Objective did not converge. You might want to increase the number of iterations, check the scale of the features or consider increasing regularisation. Duality gap: 1.419e+02, tolerance: 3.880e-02\n",
      "  model = cd_fast.enet_coordinate_descent(\n",
      "D:\\IntelliJ\\ml-stock-sent\\.venv\\Lib\\site-packages\\sklearn\\linear_model\\_coordinate_descent.py:695: ConvergenceWarning: Objective did not converge. You might want to increase the number of iterations, check the scale of the features or consider increasing regularisation. Duality gap: 6.579e+01, tolerance: 3.880e-02\n",
      "  model = cd_fast.enet_coordinate_descent(\n",
      "D:\\IntelliJ\\ml-stock-sent\\.venv\\Lib\\site-packages\\sklearn\\linear_model\\_coordinate_descent.py:695: ConvergenceWarning: Objective did not converge. You might want to increase the number of iterations, check the scale of the features or consider increasing regularisation. Duality gap: 1.538e+02, tolerance: 3.880e-02\n",
      "  model = cd_fast.enet_coordinate_descent(\n",
      "D:\\IntelliJ\\ml-stock-sent\\.venv\\Lib\\site-packages\\sklearn\\linear_model\\_coordinate_descent.py:695: ConvergenceWarning: Objective did not converge. You might want to increase the number of iterations, check the scale of the features or consider increasing regularisation. Duality gap: 1.597e+02, tolerance: 3.880e-02\n",
      "  model = cd_fast.enet_coordinate_descent(\n",
      "D:\\IntelliJ\\ml-stock-sent\\.venv\\Lib\\site-packages\\sklearn\\linear_model\\_coordinate_descent.py:695: ConvergenceWarning: Objective did not converge. You might want to increase the number of iterations, check the scale of the features or consider increasing regularisation. Duality gap: 1.096e+02, tolerance: 3.880e-02\n",
      "  model = cd_fast.enet_coordinate_descent(\n",
      "D:\\IntelliJ\\ml-stock-sent\\.venv\\Lib\\site-packages\\sklearn\\linear_model\\_coordinate_descent.py:695: ConvergenceWarning: Objective did not converge. You might want to increase the number of iterations, check the scale of the features or consider increasing regularisation. Duality gap: 1.118e+02, tolerance: 3.880e-02\n",
      "  model = cd_fast.enet_coordinate_descent(\n",
      "D:\\IntelliJ\\ml-stock-sent\\.venv\\Lib\\site-packages\\sklearn\\linear_model\\_coordinate_descent.py:695: ConvergenceWarning: Objective did not converge. You might want to increase the number of iterations, check the scale of the features or consider increasing regularisation. Duality gap: 1.667e+02, tolerance: 3.880e-02\n",
      "  model = cd_fast.enet_coordinate_descent(\n",
      "D:\\IntelliJ\\ml-stock-sent\\.venv\\Lib\\site-packages\\sklearn\\linear_model\\_coordinate_descent.py:695: ConvergenceWarning: Objective did not converge. You might want to increase the number of iterations, check the scale of the features or consider increasing regularisation. Duality gap: 1.713e+02, tolerance: 3.880e-02\n",
      "  model = cd_fast.enet_coordinate_descent(\n",
      "D:\\IntelliJ\\ml-stock-sent\\.venv\\Lib\\site-packages\\sklearn\\linear_model\\_coordinate_descent.py:695: ConvergenceWarning: Objective did not converge. You might want to increase the number of iterations, check the scale of the features or consider increasing regularisation. Duality gap: 1.146e+02, tolerance: 3.880e-02\n",
      "  model = cd_fast.enet_coordinate_descent(\n",
      "D:\\IntelliJ\\ml-stock-sent\\.venv\\Lib\\site-packages\\sklearn\\linear_model\\_coordinate_descent.py:695: ConvergenceWarning: Objective did not converge. You might want to increase the number of iterations, check the scale of the features or consider increasing regularisation. Duality gap: 1.619e+02, tolerance: 3.880e-02\n",
      "  model = cd_fast.enet_coordinate_descent(\n",
      "D:\\IntelliJ\\ml-stock-sent\\.venv\\Lib\\site-packages\\sklearn\\linear_model\\_coordinate_descent.py:695: ConvergenceWarning: Objective did not converge. You might want to increase the number of iterations, check the scale of the features or consider increasing regularisation. Duality gap: 1.592e+02, tolerance: 3.880e-02\n",
      "  model = cd_fast.enet_coordinate_descent(\n",
      "D:\\IntelliJ\\ml-stock-sent\\.venv\\Lib\\site-packages\\sklearn\\linear_model\\_coordinate_descent.py:695: ConvergenceWarning: Objective did not converge. You might want to increase the number of iterations, check the scale of the features or consider increasing regularisation. Duality gap: 1.620e+02, tolerance: 3.880e-02\n",
      "  model = cd_fast.enet_coordinate_descent(\n",
      "D:\\IntelliJ\\ml-stock-sent\\.venv\\Lib\\site-packages\\sklearn\\linear_model\\_coordinate_descent.py:695: ConvergenceWarning: Objective did not converge. You might want to increase the number of iterations, check the scale of the features or consider increasing regularisation. Duality gap: 1.500e+02, tolerance: 3.880e-02\n",
      "  model = cd_fast.enet_coordinate_descent(\n",
      "D:\\IntelliJ\\ml-stock-sent\\.venv\\Lib\\site-packages\\sklearn\\linear_model\\_coordinate_descent.py:695: ConvergenceWarning: Objective did not converge. You might want to increase the number of iterations, check the scale of the features or consider increasing regularisation. Duality gap: 1.714e+02, tolerance: 3.880e-02\n",
      "  model = cd_fast.enet_coordinate_descent(\n",
      "D:\\IntelliJ\\ml-stock-sent\\.venv\\Lib\\site-packages\\sklearn\\linear_model\\_coordinate_descent.py:695: ConvergenceWarning: Objective did not converge. You might want to increase the number of iterations, check the scale of the features or consider increasing regularisation. Duality gap: 1.300e+02, tolerance: 3.880e-02\n",
      "  model = cd_fast.enet_coordinate_descent(\n",
      "D:\\IntelliJ\\ml-stock-sent\\.venv\\Lib\\site-packages\\sklearn\\linear_model\\_coordinate_descent.py:695: ConvergenceWarning: Objective did not converge. You might want to increase the number of iterations, check the scale of the features or consider increasing regularisation. Duality gap: 1.385e+02, tolerance: 3.880e-02\n",
      "  model = cd_fast.enet_coordinate_descent(\n",
      "D:\\IntelliJ\\ml-stock-sent\\.venv\\Lib\\site-packages\\sklearn\\linear_model\\_coordinate_descent.py:695: ConvergenceWarning: Objective did not converge. You might want to increase the number of iterations, check the scale of the features or consider increasing regularisation. Duality gap: 1.584e+02, tolerance: 3.880e-02\n",
      "  model = cd_fast.enet_coordinate_descent(\n",
      "D:\\IntelliJ\\ml-stock-sent\\.venv\\Lib\\site-packages\\sklearn\\linear_model\\_coordinate_descent.py:695: ConvergenceWarning: Objective did not converge. You might want to increase the number of iterations, check the scale of the features or consider increasing regularisation. Duality gap: 1.648e+02, tolerance: 3.880e-02\n",
      "  model = cd_fast.enet_coordinate_descent(\n",
      "D:\\IntelliJ\\ml-stock-sent\\.venv\\Lib\\site-packages\\sklearn\\linear_model\\_coordinate_descent.py:695: ConvergenceWarning: Objective did not converge. You might want to increase the number of iterations, check the scale of the features or consider increasing regularisation. Duality gap: 1.648e+02, tolerance: 3.880e-02\n",
      "  model = cd_fast.enet_coordinate_descent(\n",
      "D:\\IntelliJ\\ml-stock-sent\\.venv\\Lib\\site-packages\\sklearn\\linear_model\\_coordinate_descent.py:695: ConvergenceWarning: Objective did not converge. You might want to increase the number of iterations, check the scale of the features or consider increasing regularisation. Duality gap: 1.500e+02, tolerance: 3.880e-02\n",
      "  model = cd_fast.enet_coordinate_descent(\n",
      "D:\\IntelliJ\\ml-stock-sent\\.venv\\Lib\\site-packages\\sklearn\\linear_model\\_coordinate_descent.py:695: ConvergenceWarning: Objective did not converge. You might want to increase the number of iterations, check the scale of the features or consider increasing regularisation. Duality gap: 1.230e+02, tolerance: 3.880e-02\n",
      "  model = cd_fast.enet_coordinate_descent(\n",
      "D:\\IntelliJ\\ml-stock-sent\\.venv\\Lib\\site-packages\\sklearn\\linear_model\\_coordinate_descent.py:695: ConvergenceWarning: Objective did not converge. You might want to increase the number of iterations, check the scale of the features or consider increasing regularisation. Duality gap: 1.611e+02, tolerance: 3.880e-02\n",
      "  model = cd_fast.enet_coordinate_descent(\n",
      "D:\\IntelliJ\\ml-stock-sent\\.venv\\Lib\\site-packages\\sklearn\\linear_model\\_coordinate_descent.py:695: ConvergenceWarning: Objective did not converge. You might want to increase the number of iterations, check the scale of the features or consider increasing regularisation. Duality gap: 1.587e+02, tolerance: 3.880e-02\n",
      "  model = cd_fast.enet_coordinate_descent(\n",
      "D:\\IntelliJ\\ml-stock-sent\\.venv\\Lib\\site-packages\\sklearn\\linear_model\\_coordinate_descent.py:695: ConvergenceWarning: Objective did not converge. You might want to increase the number of iterations, check the scale of the features or consider increasing regularisation. Duality gap: 1.438e+02, tolerance: 3.880e-02\n",
      "  model = cd_fast.enet_coordinate_descent(\n",
      "D:\\IntelliJ\\ml-stock-sent\\.venv\\Lib\\site-packages\\sklearn\\linear_model\\_coordinate_descent.py:695: ConvergenceWarning: Objective did not converge. You might want to increase the number of iterations, check the scale of the features or consider increasing regularisation. Duality gap: 3.253e+02, tolerance: 7.740e-02\n",
      "  model = cd_fast.enet_coordinate_descent(\n",
      "D:\\IntelliJ\\ml-stock-sent\\.venv\\Lib\\site-packages\\sklearn\\linear_model\\_coordinate_descent.py:695: ConvergenceWarning: Objective did not converge. You might want to increase the number of iterations, check the scale of the features or consider increasing regularisation. Duality gap: 2.763e+02, tolerance: 7.740e-02\n",
      "  model = cd_fast.enet_coordinate_descent(\n",
      "D:\\IntelliJ\\ml-stock-sent\\.venv\\Lib\\site-packages\\sklearn\\linear_model\\_coordinate_descent.py:695: ConvergenceWarning: Objective did not converge. You might want to increase the number of iterations, check the scale of the features or consider increasing regularisation. Duality gap: 3.069e+02, tolerance: 7.740e-02\n",
      "  model = cd_fast.enet_coordinate_descent(\n",
      "D:\\IntelliJ\\ml-stock-sent\\.venv\\Lib\\site-packages\\sklearn\\linear_model\\_coordinate_descent.py:695: ConvergenceWarning: Objective did not converge. You might want to increase the number of iterations, check the scale of the features or consider increasing regularisation. Duality gap: 3.276e+02, tolerance: 7.740e-02\n",
      "  model = cd_fast.enet_coordinate_descent(\n",
      "D:\\IntelliJ\\ml-stock-sent\\.venv\\Lib\\site-packages\\sklearn\\linear_model\\_coordinate_descent.py:695: ConvergenceWarning: Objective did not converge. You might want to increase the number of iterations, check the scale of the features or consider increasing regularisation. Duality gap: 3.003e+02, tolerance: 7.740e-02\n",
      "  model = cd_fast.enet_coordinate_descent(\n",
      "D:\\IntelliJ\\ml-stock-sent\\.venv\\Lib\\site-packages\\sklearn\\linear_model\\_coordinate_descent.py:695: ConvergenceWarning: Objective did not converge. You might want to increase the number of iterations, check the scale of the features or consider increasing regularisation. Duality gap: 3.243e+02, tolerance: 7.740e-02\n",
      "  model = cd_fast.enet_coordinate_descent(\n",
      "D:\\IntelliJ\\ml-stock-sent\\.venv\\Lib\\site-packages\\sklearn\\linear_model\\_coordinate_descent.py:695: ConvergenceWarning: Objective did not converge. You might want to increase the number of iterations, check the scale of the features or consider increasing regularisation. Duality gap: 1.033e+02, tolerance: 7.740e-02\n",
      "  model = cd_fast.enet_coordinate_descent(\n",
      "D:\\IntelliJ\\ml-stock-sent\\.venv\\Lib\\site-packages\\sklearn\\linear_model\\_coordinate_descent.py:695: ConvergenceWarning: Objective did not converge. You might want to increase the number of iterations, check the scale of the features or consider increasing regularisation. Duality gap: 1.914e+02, tolerance: 7.740e-02\n",
      "  model = cd_fast.enet_coordinate_descent(\n",
      "D:\\IntelliJ\\ml-stock-sent\\.venv\\Lib\\site-packages\\sklearn\\linear_model\\_coordinate_descent.py:695: ConvergenceWarning: Objective did not converge. You might want to increase the number of iterations, check the scale of the features or consider increasing regularisation. Duality gap: 3.084e+02, tolerance: 7.740e-02\n",
      "  model = cd_fast.enet_coordinate_descent(\n",
      "D:\\IntelliJ\\ml-stock-sent\\.venv\\Lib\\site-packages\\sklearn\\linear_model\\_coordinate_descent.py:695: ConvergenceWarning: Objective did not converge. You might want to increase the number of iterations, check the scale of the features or consider increasing regularisation. Duality gap: 3.215e+02, tolerance: 7.740e-02\n",
      "  model = cd_fast.enet_coordinate_descent(\n",
      "D:\\IntelliJ\\ml-stock-sent\\.venv\\Lib\\site-packages\\sklearn\\linear_model\\_coordinate_descent.py:695: ConvergenceWarning: Objective did not converge. You might want to increase the number of iterations, check the scale of the features or consider increasing regularisation. Duality gap: 1.939e+02, tolerance: 7.740e-02\n",
      "  model = cd_fast.enet_coordinate_descent(\n",
      "D:\\IntelliJ\\ml-stock-sent\\.venv\\Lib\\site-packages\\sklearn\\linear_model\\_coordinate_descent.py:695: ConvergenceWarning: Objective did not converge. You might want to increase the number of iterations, check the scale of the features or consider increasing regularisation. Duality gap: 1.402e+02, tolerance: 7.740e-02\n",
      "  model = cd_fast.enet_coordinate_descent(\n",
      "D:\\IntelliJ\\ml-stock-sent\\.venv\\Lib\\site-packages\\sklearn\\linear_model\\_coordinate_descent.py:695: ConvergenceWarning: Objective did not converge. You might want to increase the number of iterations, check the scale of the features or consider increasing regularisation. Duality gap: 3.338e+02, tolerance: 7.740e-02\n",
      "  model = cd_fast.enet_coordinate_descent(\n",
      "D:\\IntelliJ\\ml-stock-sent\\.venv\\Lib\\site-packages\\sklearn\\linear_model\\_coordinate_descent.py:695: ConvergenceWarning: Objective did not converge. You might want to increase the number of iterations, check the scale of the features or consider increasing regularisation. Duality gap: 3.464e+02, tolerance: 7.740e-02\n",
      "  model = cd_fast.enet_coordinate_descent(\n",
      "D:\\IntelliJ\\ml-stock-sent\\.venv\\Lib\\site-packages\\sklearn\\linear_model\\_coordinate_descent.py:695: ConvergenceWarning: Objective did not converge. You might want to increase the number of iterations, check the scale of the features or consider increasing regularisation. Duality gap: 2.916e+02, tolerance: 7.740e-02\n",
      "  model = cd_fast.enet_coordinate_descent(\n",
      "D:\\IntelliJ\\ml-stock-sent\\.venv\\Lib\\site-packages\\sklearn\\linear_model\\_coordinate_descent.py:695: ConvergenceWarning: Objective did not converge. You might want to increase the number of iterations, check the scale of the features or consider increasing regularisation. Duality gap: 3.329e+02, tolerance: 7.740e-02\n",
      "  model = cd_fast.enet_coordinate_descent(\n",
      "D:\\IntelliJ\\ml-stock-sent\\.venv\\Lib\\site-packages\\sklearn\\linear_model\\_coordinate_descent.py:695: ConvergenceWarning: Objective did not converge. You might want to increase the number of iterations, check the scale of the features or consider increasing regularisation. Duality gap: 3.425e+02, tolerance: 7.740e-02\n",
      "  model = cd_fast.enet_coordinate_descent(\n",
      "D:\\IntelliJ\\ml-stock-sent\\.venv\\Lib\\site-packages\\sklearn\\linear_model\\_coordinate_descent.py:695: ConvergenceWarning: Objective did not converge. You might want to increase the number of iterations, check the scale of the features or consider increasing regularisation. Duality gap: 2.695e+02, tolerance: 7.740e-02\n",
      "  model = cd_fast.enet_coordinate_descent(\n",
      "D:\\IntelliJ\\ml-stock-sent\\.venv\\Lib\\site-packages\\sklearn\\linear_model\\_coordinate_descent.py:695: ConvergenceWarning: Objective did not converge. You might want to increase the number of iterations, check the scale of the features or consider increasing regularisation. Duality gap: 9.189e+01, tolerance: 7.740e-02\n",
      "  model = cd_fast.enet_coordinate_descent(\n",
      "D:\\IntelliJ\\ml-stock-sent\\.venv\\Lib\\site-packages\\sklearn\\linear_model\\_coordinate_descent.py:695: ConvergenceWarning: Objective did not converge. You might want to increase the number of iterations, check the scale of the features or consider increasing regularisation. Duality gap: 3.430e+02, tolerance: 7.740e-02\n",
      "  model = cd_fast.enet_coordinate_descent(\n",
      "D:\\IntelliJ\\ml-stock-sent\\.venv\\Lib\\site-packages\\sklearn\\linear_model\\_coordinate_descent.py:695: ConvergenceWarning: Objective did not converge. You might want to increase the number of iterations, check the scale of the features or consider increasing regularisation. Duality gap: 2.983e+02, tolerance: 7.740e-02\n",
      "  model = cd_fast.enet_coordinate_descent(\n",
      "D:\\IntelliJ\\ml-stock-sent\\.venv\\Lib\\site-packages\\sklearn\\linear_model\\_coordinate_descent.py:695: ConvergenceWarning: Objective did not converge. You might want to increase the number of iterations, check the scale of the features or consider increasing regularisation. Duality gap: 2.935e+02, tolerance: 7.740e-02\n",
      "  model = cd_fast.enet_coordinate_descent(\n",
      "D:\\IntelliJ\\ml-stock-sent\\.venv\\Lib\\site-packages\\sklearn\\linear_model\\_coordinate_descent.py:695: ConvergenceWarning: Objective did not converge. You might want to increase the number of iterations, check the scale of the features or consider increasing regularisation. Duality gap: 1.816e+02, tolerance: 7.740e-02\n",
      "  model = cd_fast.enet_coordinate_descent(\n",
      "D:\\IntelliJ\\ml-stock-sent\\.venv\\Lib\\site-packages\\sklearn\\linear_model\\_coordinate_descent.py:695: ConvergenceWarning: Objective did not converge. You might want to increase the number of iterations, check the scale of the features or consider increasing regularisation. Duality gap: 3.219e+02, tolerance: 7.740e-02\n",
      "  model = cd_fast.enet_coordinate_descent(\n",
      "D:\\IntelliJ\\ml-stock-sent\\.venv\\Lib\\site-packages\\sklearn\\linear_model\\_coordinate_descent.py:695: ConvergenceWarning: Objective did not converge. You might want to increase the number of iterations, check the scale of the features or consider increasing regularisation. Duality gap: 3.258e+02, tolerance: 7.740e-02\n",
      "  model = cd_fast.enet_coordinate_descent(\n",
      "D:\\IntelliJ\\ml-stock-sent\\.venv\\Lib\\site-packages\\sklearn\\linear_model\\_coordinate_descent.py:695: ConvergenceWarning: Objective did not converge. You might want to increase the number of iterations, check the scale of the features or consider increasing regularisation. Duality gap: 2.913e+02, tolerance: 7.740e-02\n",
      "  model = cd_fast.enet_coordinate_descent(\n",
      "D:\\IntelliJ\\ml-stock-sent\\.venv\\Lib\\site-packages\\sklearn\\linear_model\\_coordinate_descent.py:695: ConvergenceWarning: Objective did not converge. You might want to increase the number of iterations, check the scale of the features or consider increasing regularisation. Duality gap: 9.598e+01, tolerance: 7.740e-02\n",
      "  model = cd_fast.enet_coordinate_descent(\n",
      "D:\\IntelliJ\\ml-stock-sent\\.venv\\Lib\\site-packages\\sklearn\\linear_model\\_coordinate_descent.py:695: ConvergenceWarning: Objective did not converge. You might want to increase the number of iterations, check the scale of the features or consider increasing regularisation. Duality gap: 3.246e+02, tolerance: 7.740e-02\n",
      "  model = cd_fast.enet_coordinate_descent(\n",
      "D:\\IntelliJ\\ml-stock-sent\\.venv\\Lib\\site-packages\\sklearn\\linear_model\\_coordinate_descent.py:695: ConvergenceWarning: Objective did not converge. You might want to increase the number of iterations, check the scale of the features or consider increasing regularisation. Duality gap: 3.210e+02, tolerance: 7.740e-02\n",
      "  model = cd_fast.enet_coordinate_descent(\n",
      "D:\\IntelliJ\\ml-stock-sent\\.venv\\Lib\\site-packages\\sklearn\\linear_model\\_coordinate_descent.py:695: ConvergenceWarning: Objective did not converge. You might want to increase the number of iterations, check the scale of the features or consider increasing regularisation. Duality gap: 2.069e+02, tolerance: 7.740e-02\n",
      "  model = cd_fast.enet_coordinate_descent(\n",
      "D:\\IntelliJ\\ml-stock-sent\\.venv\\Lib\\site-packages\\sklearn\\linear_model\\_coordinate_descent.py:695: ConvergenceWarning: Objective did not converge. You might want to increase the number of iterations, check the scale of the features or consider increasing regularisation. Duality gap: 4.337e+02, tolerance: 1.160e-01\n",
      "  model = cd_fast.enet_coordinate_descent(\n",
      "D:\\IntelliJ\\ml-stock-sent\\.venv\\Lib\\site-packages\\sklearn\\linear_model\\_coordinate_descent.py:695: ConvergenceWarning: Objective did not converge. You might want to increase the number of iterations, check the scale of the features or consider increasing regularisation. Duality gap: 1.305e+01, tolerance: 1.160e-01\n",
      "  model = cd_fast.enet_coordinate_descent(\n",
      "D:\\IntelliJ\\ml-stock-sent\\.venv\\Lib\\site-packages\\sklearn\\linear_model\\_coordinate_descent.py:695: ConvergenceWarning: Objective did not converge. You might want to increase the number of iterations, check the scale of the features or consider increasing regularisation. Duality gap: 4.120e+02, tolerance: 1.160e-01\n",
      "  model = cd_fast.enet_coordinate_descent(\n",
      "D:\\IntelliJ\\ml-stock-sent\\.venv\\Lib\\site-packages\\sklearn\\linear_model\\_coordinate_descent.py:695: ConvergenceWarning: Objective did not converge. You might want to increase the number of iterations, check the scale of the features or consider increasing regularisation. Duality gap: 4.802e+02, tolerance: 1.160e-01\n",
      "  model = cd_fast.enet_coordinate_descent(\n",
      "D:\\IntelliJ\\ml-stock-sent\\.venv\\Lib\\site-packages\\sklearn\\linear_model\\_coordinate_descent.py:695: ConvergenceWarning: Objective did not converge. You might want to increase the number of iterations, check the scale of the features or consider increasing regularisation. Duality gap: 4.656e+02, tolerance: 1.160e-01\n",
      "  model = cd_fast.enet_coordinate_descent(\n",
      "D:\\IntelliJ\\ml-stock-sent\\.venv\\Lib\\site-packages\\sklearn\\linear_model\\_coordinate_descent.py:695: ConvergenceWarning: Objective did not converge. You might want to increase the number of iterations, check the scale of the features or consider increasing regularisation. Duality gap: 4.818e+02, tolerance: 1.160e-01\n",
      "  model = cd_fast.enet_coordinate_descent(\n",
      "D:\\IntelliJ\\ml-stock-sent\\.venv\\Lib\\site-packages\\sklearn\\linear_model\\_coordinate_descent.py:695: ConvergenceWarning: Objective did not converge. You might want to increase the number of iterations, check the scale of the features or consider increasing regularisation. Duality gap: 4.719e+01, tolerance: 1.160e-01\n",
      "  model = cd_fast.enet_coordinate_descent(\n",
      "D:\\IntelliJ\\ml-stock-sent\\.venv\\Lib\\site-packages\\sklearn\\linear_model\\_coordinate_descent.py:695: ConvergenceWarning: Objective did not converge. You might want to increase the number of iterations, check the scale of the features or consider increasing regularisation. Duality gap: 2.845e+01, tolerance: 1.160e-01\n",
      "  model = cd_fast.enet_coordinate_descent(\n",
      "D:\\IntelliJ\\ml-stock-sent\\.venv\\Lib\\site-packages\\sklearn\\linear_model\\_coordinate_descent.py:695: ConvergenceWarning: Objective did not converge. You might want to increase the number of iterations, check the scale of the features or consider increasing regularisation. Duality gap: 4.434e+02, tolerance: 1.160e-01\n",
      "  model = cd_fast.enet_coordinate_descent(\n",
      "D:\\IntelliJ\\ml-stock-sent\\.venv\\Lib\\site-packages\\sklearn\\linear_model\\_coordinate_descent.py:695: ConvergenceWarning: Objective did not converge. You might want to increase the number of iterations, check the scale of the features or consider increasing regularisation. Duality gap: 4.640e+02, tolerance: 1.160e-01\n",
      "  model = cd_fast.enet_coordinate_descent(\n",
      "D:\\IntelliJ\\ml-stock-sent\\.venv\\Lib\\site-packages\\sklearn\\linear_model\\_coordinate_descent.py:695: ConvergenceWarning: Objective did not converge. You might want to increase the number of iterations, check the scale of the features or consider increasing regularisation. Duality gap: 2.355e+02, tolerance: 1.160e-01\n",
      "  model = cd_fast.enet_coordinate_descent(\n",
      "D:\\IntelliJ\\ml-stock-sent\\.venv\\Lib\\site-packages\\sklearn\\linear_model\\_coordinate_descent.py:695: ConvergenceWarning: Objective did not converge. You might want to increase the number of iterations, check the scale of the features or consider increasing regularisation. Duality gap: 1.930e+00, tolerance: 1.160e-01\n",
      "  model = cd_fast.enet_coordinate_descent(\n",
      "D:\\IntelliJ\\ml-stock-sent\\.venv\\Lib\\site-packages\\sklearn\\linear_model\\_coordinate_descent.py:695: ConvergenceWarning: Objective did not converge. You might want to increase the number of iterations, check the scale of the features or consider increasing regularisation. Duality gap: 4.902e+02, tolerance: 1.160e-01\n",
      "  model = cd_fast.enet_coordinate_descent(\n",
      "D:\\IntelliJ\\ml-stock-sent\\.venv\\Lib\\site-packages\\sklearn\\linear_model\\_coordinate_descent.py:695: ConvergenceWarning: Objective did not converge. You might want to increase the number of iterations, check the scale of the features or consider increasing regularisation. Duality gap: 5.125e+02, tolerance: 1.160e-01\n",
      "  model = cd_fast.enet_coordinate_descent(\n",
      "D:\\IntelliJ\\ml-stock-sent\\.venv\\Lib\\site-packages\\sklearn\\linear_model\\_coordinate_descent.py:695: ConvergenceWarning: Objective did not converge. You might want to increase the number of iterations, check the scale of the features or consider increasing regularisation. Duality gap: 3.730e+02, tolerance: 1.160e-01\n",
      "  model = cd_fast.enet_coordinate_descent(\n",
      "D:\\IntelliJ\\ml-stock-sent\\.venv\\Lib\\site-packages\\sklearn\\linear_model\\_coordinate_descent.py:695: ConvergenceWarning: Objective did not converge. You might want to increase the number of iterations, check the scale of the features or consider increasing regularisation. Duality gap: 4.899e+02, tolerance: 1.160e-01\n",
      "  model = cd_fast.enet_coordinate_descent(\n",
      "D:\\IntelliJ\\ml-stock-sent\\.venv\\Lib\\site-packages\\sklearn\\linear_model\\_coordinate_descent.py:695: ConvergenceWarning: Objective did not converge. You might want to increase the number of iterations, check the scale of the features or consider increasing regularisation. Duality gap: 5.023e+02, tolerance: 1.160e-01\n",
      "  model = cd_fast.enet_coordinate_descent(\n",
      "D:\\IntelliJ\\ml-stock-sent\\.venv\\Lib\\site-packages\\sklearn\\linear_model\\_coordinate_descent.py:695: ConvergenceWarning: Objective did not converge. You might want to increase the number of iterations, check the scale of the features or consider increasing regularisation. Duality gap: 4.178e+02, tolerance: 1.160e-01\n",
      "  model = cd_fast.enet_coordinate_descent(\n",
      "D:\\IntelliJ\\ml-stock-sent\\.venv\\Lib\\site-packages\\sklearn\\linear_model\\_coordinate_descent.py:695: ConvergenceWarning: Objective did not converge. You might want to increase the number of iterations, check the scale of the features or consider increasing regularisation. Duality gap: 5.034e+02, tolerance: 1.160e-01\n",
      "  model = cd_fast.enet_coordinate_descent(\n",
      "D:\\IntelliJ\\ml-stock-sent\\.venv\\Lib\\site-packages\\sklearn\\linear_model\\_coordinate_descent.py:695: ConvergenceWarning: Objective did not converge. You might want to increase the number of iterations, check the scale of the features or consider increasing regularisation. Duality gap: 3.973e+02, tolerance: 1.160e-01\n",
      "  model = cd_fast.enet_coordinate_descent(\n",
      "D:\\IntelliJ\\ml-stock-sent\\.venv\\Lib\\site-packages\\sklearn\\linear_model\\_coordinate_descent.py:695: ConvergenceWarning: Objective did not converge. You might want to increase the number of iterations, check the scale of the features or consider increasing regularisation. Duality gap: 4.500e+02, tolerance: 1.160e-01\n",
      "  model = cd_fast.enet_coordinate_descent(\n",
      "D:\\IntelliJ\\ml-stock-sent\\.venv\\Lib\\site-packages\\sklearn\\linear_model\\_coordinate_descent.py:695: ConvergenceWarning: Objective did not converge. You might want to increase the number of iterations, check the scale of the features or consider increasing regularisation. Duality gap: 2.949e+01, tolerance: 1.160e-01\n",
      "  model = cd_fast.enet_coordinate_descent(\n",
      "D:\\IntelliJ\\ml-stock-sent\\.venv\\Lib\\site-packages\\sklearn\\linear_model\\_coordinate_descent.py:695: ConvergenceWarning: Objective did not converge. You might want to increase the number of iterations, check the scale of the features or consider increasing regularisation. Duality gap: 4.348e+02, tolerance: 1.160e-01\n",
      "  model = cd_fast.enet_coordinate_descent(\n",
      "D:\\IntelliJ\\ml-stock-sent\\.venv\\Lib\\site-packages\\sklearn\\linear_model\\_coordinate_descent.py:695: ConvergenceWarning: Objective did not converge. You might want to increase the number of iterations, check the scale of the features or consider increasing regularisation. Duality gap: 3.672e+02, tolerance: 1.160e-01\n",
      "  model = cd_fast.enet_coordinate_descent(\n",
      "D:\\IntelliJ\\ml-stock-sent\\.venv\\Lib\\site-packages\\sklearn\\linear_model\\_coordinate_descent.py:695: ConvergenceWarning: Objective did not converge. You might want to increase the number of iterations, check the scale of the features or consider increasing regularisation. Duality gap: 4.748e+02, tolerance: 1.160e-01\n",
      "  model = cd_fast.enet_coordinate_descent(\n",
      "D:\\IntelliJ\\ml-stock-sent\\.venv\\Lib\\site-packages\\sklearn\\linear_model\\_coordinate_descent.py:695: ConvergenceWarning: Objective did not converge. You might want to increase the number of iterations, check the scale of the features or consider increasing regularisation. Duality gap: 1.450e+02, tolerance: 1.160e-01\n",
      "  model = cd_fast.enet_coordinate_descent(\n",
      "D:\\IntelliJ\\ml-stock-sent\\.venv\\Lib\\site-packages\\sklearn\\linear_model\\_coordinate_descent.py:695: ConvergenceWarning: Objective did not converge. You might want to increase the number of iterations, check the scale of the features or consider increasing regularisation. Duality gap: 4.861e+02, tolerance: 1.160e-01\n",
      "  model = cd_fast.enet_coordinate_descent(\n",
      "D:\\IntelliJ\\ml-stock-sent\\.venv\\Lib\\site-packages\\sklearn\\linear_model\\_coordinate_descent.py:695: ConvergenceWarning: Objective did not converge. You might want to increase the number of iterations, check the scale of the features or consider increasing regularisation. Duality gap: 4.800e+02, tolerance: 1.160e-01\n",
      "  model = cd_fast.enet_coordinate_descent(\n",
      "D:\\IntelliJ\\ml-stock-sent\\.venv\\Lib\\site-packages\\sklearn\\linear_model\\_coordinate_descent.py:695: ConvergenceWarning: Objective did not converge. You might want to increase the number of iterations, check the scale of the features or consider increasing regularisation. Duality gap: 3.600e+02, tolerance: 1.160e-01\n",
      "  model = cd_fast.enet_coordinate_descent(\n",
      "[I 2025-08-22 18:51:02,481] Trial 3 finished with value: 0.009749446209008888 and parameters: {'alpha': 3.5498788321965036e-05, 'l1_ratio': 0.3042422429595377, 'selection': 'cyclic', 'max_iter': 2000}. Best is trial 0 with value: 0.009733881960129078.\n",
      "D:\\IntelliJ\\ml-stock-sent\\.venv\\Lib\\site-packages\\sklearn\\linear_model\\_coordinate_descent.py:695: ConvergenceWarning: Objective did not converge. You might want to increase the number of iterations, check the scale of the features or consider increasing regularisation. Duality gap: 2.023e+01, tolerance: 3.880e-02\n",
      "  model = cd_fast.enet_coordinate_descent(\n",
      "D:\\IntelliJ\\ml-stock-sent\\.venv\\Lib\\site-packages\\sklearn\\linear_model\\_coordinate_descent.py:695: ConvergenceWarning: Objective did not converge. You might want to increase the number of iterations, check the scale of the features or consider increasing regularisation. Duality gap: 2.248e-01, tolerance: 3.880e-02\n",
      "  model = cd_fast.enet_coordinate_descent(\n",
      "D:\\IntelliJ\\ml-stock-sent\\.venv\\Lib\\site-packages\\sklearn\\linear_model\\_coordinate_descent.py:695: ConvergenceWarning: Objective did not converge. You might want to increase the number of iterations, check the scale of the features or consider increasing regularisation. Duality gap: 5.566e+00, tolerance: 3.880e-02\n",
      "  model = cd_fast.enet_coordinate_descent(\n",
      "D:\\IntelliJ\\ml-stock-sent\\.venv\\Lib\\site-packages\\sklearn\\linear_model\\_coordinate_descent.py:695: ConvergenceWarning: Objective did not converge. You might want to increase the number of iterations, check the scale of the features or consider increasing regularisation. Duality gap: 2.353e+00, tolerance: 3.880e-02\n",
      "  model = cd_fast.enet_coordinate_descent(\n",
      "D:\\IntelliJ\\ml-stock-sent\\.venv\\Lib\\site-packages\\sklearn\\linear_model\\_coordinate_descent.py:695: ConvergenceWarning: Objective did not converge. You might want to increase the number of iterations, check the scale of the features or consider increasing regularisation. Duality gap: 6.109e-01, tolerance: 3.880e-02\n",
      "  model = cd_fast.enet_coordinate_descent(\n",
      "D:\\IntelliJ\\ml-stock-sent\\.venv\\Lib\\site-packages\\sklearn\\linear_model\\_coordinate_descent.py:695: ConvergenceWarning: Objective did not converge. You might want to increase the number of iterations, check the scale of the features or consider increasing regularisation. Duality gap: 1.741e+01, tolerance: 3.880e-02\n",
      "  model = cd_fast.enet_coordinate_descent(\n",
      "D:\\IntelliJ\\ml-stock-sent\\.venv\\Lib\\site-packages\\sklearn\\linear_model\\_coordinate_descent.py:695: ConvergenceWarning: Objective did not converge. You might want to increase the number of iterations, check the scale of the features or consider increasing regularisation. Duality gap: 4.685e+00, tolerance: 3.880e-02\n",
      "  model = cd_fast.enet_coordinate_descent(\n",
      "D:\\IntelliJ\\ml-stock-sent\\.venv\\Lib\\site-packages\\sklearn\\linear_model\\_coordinate_descent.py:695: ConvergenceWarning: Objective did not converge. You might want to increase the number of iterations, check the scale of the features or consider increasing regularisation. Duality gap: 1.104e+01, tolerance: 3.880e-02\n",
      "  model = cd_fast.enet_coordinate_descent(\n",
      "D:\\IntelliJ\\ml-stock-sent\\.venv\\Lib\\site-packages\\sklearn\\linear_model\\_coordinate_descent.py:695: ConvergenceWarning: Objective did not converge. You might want to increase the number of iterations, check the scale of the features or consider increasing regularisation. Duality gap: 1.312e+01, tolerance: 3.880e-02\n",
      "  model = cd_fast.enet_coordinate_descent(\n",
      "D:\\IntelliJ\\ml-stock-sent\\.venv\\Lib\\site-packages\\sklearn\\linear_model\\_coordinate_descent.py:695: ConvergenceWarning: Objective did not converge. You might want to increase the number of iterations, check the scale of the features or consider increasing regularisation. Duality gap: 7.998e-02, tolerance: 3.880e-02\n",
      "  model = cd_fast.enet_coordinate_descent(\n",
      "D:\\IntelliJ\\ml-stock-sent\\.venv\\Lib\\site-packages\\sklearn\\linear_model\\_coordinate_descent.py:695: ConvergenceWarning: Objective did not converge. You might want to increase the number of iterations, check the scale of the features or consider increasing regularisation. Duality gap: 2.332e+01, tolerance: 3.880e-02\n",
      "  model = cd_fast.enet_coordinate_descent(\n",
      "D:\\IntelliJ\\ml-stock-sent\\.venv\\Lib\\site-packages\\sklearn\\linear_model\\_coordinate_descent.py:695: ConvergenceWarning: Objective did not converge. You might want to increase the number of iterations, check the scale of the features or consider increasing regularisation. Duality gap: 3.419e+01, tolerance: 3.880e-02\n",
      "  model = cd_fast.enet_coordinate_descent(\n",
      "D:\\IntelliJ\\ml-stock-sent\\.venv\\Lib\\site-packages\\sklearn\\linear_model\\_coordinate_descent.py:695: ConvergenceWarning: Objective did not converge. You might want to increase the number of iterations, check the scale of the features or consider increasing regularisation. Duality gap: 1.288e-01, tolerance: 3.880e-02\n",
      "  model = cd_fast.enet_coordinate_descent(\n",
      "D:\\IntelliJ\\ml-stock-sent\\.venv\\Lib\\site-packages\\sklearn\\linear_model\\_coordinate_descent.py:695: ConvergenceWarning: Objective did not converge. You might want to increase the number of iterations, check the scale of the features or consider increasing regularisation. Duality gap: 1.796e+01, tolerance: 3.880e-02\n",
      "  model = cd_fast.enet_coordinate_descent(\n",
      "D:\\IntelliJ\\ml-stock-sent\\.venv\\Lib\\site-packages\\sklearn\\linear_model\\_coordinate_descent.py:695: ConvergenceWarning: Objective did not converge. You might want to increase the number of iterations, check the scale of the features or consider increasing regularisation. Duality gap: 5.415e+00, tolerance: 3.880e-02\n",
      "  model = cd_fast.enet_coordinate_descent(\n",
      "D:\\IntelliJ\\ml-stock-sent\\.venv\\Lib\\site-packages\\sklearn\\linear_model\\_coordinate_descent.py:695: ConvergenceWarning: Objective did not converge. You might want to increase the number of iterations, check the scale of the features or consider increasing regularisation. Duality gap: 1.559e+01, tolerance: 3.880e-02\n",
      "  model = cd_fast.enet_coordinate_descent(\n",
      "D:\\IntelliJ\\ml-stock-sent\\.venv\\Lib\\site-packages\\sklearn\\linear_model\\_coordinate_descent.py:695: ConvergenceWarning: Objective did not converge. You might want to increase the number of iterations, check the scale of the features or consider increasing regularisation. Duality gap: 3.550e+00, tolerance: 3.880e-02\n",
      "  model = cd_fast.enet_coordinate_descent(\n",
      "D:\\IntelliJ\\ml-stock-sent\\.venv\\Lib\\site-packages\\sklearn\\linear_model\\_coordinate_descent.py:695: ConvergenceWarning: Objective did not converge. You might want to increase the number of iterations, check the scale of the features or consider increasing regularisation. Duality gap: 4.941e+01, tolerance: 3.880e-02\n",
      "  model = cd_fast.enet_coordinate_descent(\n",
      "D:\\IntelliJ\\ml-stock-sent\\.venv\\Lib\\site-packages\\sklearn\\linear_model\\_coordinate_descent.py:695: ConvergenceWarning: Objective did not converge. You might want to increase the number of iterations, check the scale of the features or consider increasing regularisation. Duality gap: 7.583e-01, tolerance: 3.880e-02\n",
      "  model = cd_fast.enet_coordinate_descent(\n",
      "D:\\IntelliJ\\ml-stock-sent\\.venv\\Lib\\site-packages\\sklearn\\linear_model\\_coordinate_descent.py:695: ConvergenceWarning: Objective did not converge. You might want to increase the number of iterations, check the scale of the features or consider increasing regularisation. Duality gap: 2.401e+00, tolerance: 3.880e-02\n",
      "  model = cd_fast.enet_coordinate_descent(\n",
      "D:\\IntelliJ\\ml-stock-sent\\.venv\\Lib\\site-packages\\sklearn\\linear_model\\_coordinate_descent.py:695: ConvergenceWarning: Objective did not converge. You might want to increase the number of iterations, check the scale of the features or consider increasing regularisation. Duality gap: 6.244e+00, tolerance: 3.880e-02\n",
      "  model = cd_fast.enet_coordinate_descent(\n",
      "D:\\IntelliJ\\ml-stock-sent\\.venv\\Lib\\site-packages\\sklearn\\linear_model\\_coordinate_descent.py:695: ConvergenceWarning: Objective did not converge. You might want to increase the number of iterations, check the scale of the features or consider increasing regularisation. Duality gap: 1.341e+01, tolerance: 3.880e-02\n",
      "  model = cd_fast.enet_coordinate_descent(\n",
      "D:\\IntelliJ\\ml-stock-sent\\.venv\\Lib\\site-packages\\sklearn\\linear_model\\_coordinate_descent.py:695: ConvergenceWarning: Objective did not converge. You might want to increase the number of iterations, check the scale of the features or consider increasing regularisation. Duality gap: 1.202e+01, tolerance: 3.880e-02\n",
      "  model = cd_fast.enet_coordinate_descent(\n",
      "D:\\IntelliJ\\ml-stock-sent\\.venv\\Lib\\site-packages\\sklearn\\linear_model\\_coordinate_descent.py:695: ConvergenceWarning: Objective did not converge. You might want to increase the number of iterations, check the scale of the features or consider increasing regularisation. Duality gap: 1.477e+00, tolerance: 3.880e-02\n",
      "  model = cd_fast.enet_coordinate_descent(\n",
      "D:\\IntelliJ\\ml-stock-sent\\.venv\\Lib\\site-packages\\sklearn\\linear_model\\_coordinate_descent.py:695: ConvergenceWarning: Objective did not converge. You might want to increase the number of iterations, check the scale of the features or consider increasing regularisation. Duality gap: 3.070e+00, tolerance: 3.880e-02\n",
      "  model = cd_fast.enet_coordinate_descent(\n",
      "D:\\IntelliJ\\ml-stock-sent\\.venv\\Lib\\site-packages\\sklearn\\linear_model\\_coordinate_descent.py:695: ConvergenceWarning: Objective did not converge. You might want to increase the number of iterations, check the scale of the features or consider increasing regularisation. Duality gap: 9.016e+00, tolerance: 3.880e-02\n",
      "  model = cd_fast.enet_coordinate_descent(\n",
      "D:\\IntelliJ\\ml-stock-sent\\.venv\\Lib\\site-packages\\sklearn\\linear_model\\_coordinate_descent.py:695: ConvergenceWarning: Objective did not converge. You might want to increase the number of iterations, check the scale of the features or consider increasing regularisation. Duality gap: 1.103e+01, tolerance: 3.880e-02\n",
      "  model = cd_fast.enet_coordinate_descent(\n",
      "D:\\IntelliJ\\ml-stock-sent\\.venv\\Lib\\site-packages\\sklearn\\linear_model\\_coordinate_descent.py:695: ConvergenceWarning: Objective did not converge. You might want to increase the number of iterations, check the scale of the features or consider increasing regularisation. Duality gap: 9.491e-01, tolerance: 3.880e-02\n",
      "  model = cd_fast.enet_coordinate_descent(\n",
      "D:\\IntelliJ\\ml-stock-sent\\.venv\\Lib\\site-packages\\sklearn\\linear_model\\_coordinate_descent.py:695: ConvergenceWarning: Objective did not converge. You might want to increase the number of iterations, check the scale of the features or consider increasing regularisation. Duality gap: 1.972e+01, tolerance: 7.740e-02\n",
      "  model = cd_fast.enet_coordinate_descent(\n",
      "D:\\IntelliJ\\ml-stock-sent\\.venv\\Lib\\site-packages\\sklearn\\linear_model\\_coordinate_descent.py:695: ConvergenceWarning: Objective did not converge. You might want to increase the number of iterations, check the scale of the features or consider increasing regularisation. Duality gap: 1.966e+00, tolerance: 7.740e-02\n",
      "  model = cd_fast.enet_coordinate_descent(\n",
      "D:\\IntelliJ\\ml-stock-sent\\.venv\\Lib\\site-packages\\sklearn\\linear_model\\_coordinate_descent.py:695: ConvergenceWarning: Objective did not converge. You might want to increase the number of iterations, check the scale of the features or consider increasing regularisation. Duality gap: 6.604e+00, tolerance: 7.740e-02\n",
      "  model = cd_fast.enet_coordinate_descent(\n",
      "D:\\IntelliJ\\ml-stock-sent\\.venv\\Lib\\site-packages\\sklearn\\linear_model\\_coordinate_descent.py:695: ConvergenceWarning: Objective did not converge. You might want to increase the number of iterations, check the scale of the features or consider increasing regularisation. Duality gap: 2.030e+01, tolerance: 7.740e-02\n",
      "  model = cd_fast.enet_coordinate_descent(\n",
      "D:\\IntelliJ\\ml-stock-sent\\.venv\\Lib\\site-packages\\sklearn\\linear_model\\_coordinate_descent.py:695: ConvergenceWarning: Objective did not converge. You might want to increase the number of iterations, check the scale of the features or consider increasing regularisation. Duality gap: 8.457e+00, tolerance: 7.740e-02\n",
      "  model = cd_fast.enet_coordinate_descent(\n",
      "D:\\IntelliJ\\ml-stock-sent\\.venv\\Lib\\site-packages\\sklearn\\linear_model\\_coordinate_descent.py:695: ConvergenceWarning: Objective did not converge. You might want to increase the number of iterations, check the scale of the features or consider increasing regularisation. Duality gap: 2.194e+01, tolerance: 7.740e-02\n",
      "  model = cd_fast.enet_coordinate_descent(\n",
      "D:\\IntelliJ\\ml-stock-sent\\.venv\\Lib\\site-packages\\sklearn\\linear_model\\_coordinate_descent.py:695: ConvergenceWarning: Objective did not converge. You might want to increase the number of iterations, check the scale of the features or consider increasing regularisation. Duality gap: 2.138e-01, tolerance: 7.740e-02\n",
      "  model = cd_fast.enet_coordinate_descent(\n",
      "D:\\IntelliJ\\ml-stock-sent\\.venv\\Lib\\site-packages\\sklearn\\linear_model\\_coordinate_descent.py:695: ConvergenceWarning: Objective did not converge. You might want to increase the number of iterations, check the scale of the features or consider increasing regularisation. Duality gap: 1.389e+01, tolerance: 7.740e-02\n",
      "  model = cd_fast.enet_coordinate_descent(\n",
      "D:\\IntelliJ\\ml-stock-sent\\.venv\\Lib\\site-packages\\sklearn\\linear_model\\_coordinate_descent.py:695: ConvergenceWarning: Objective did not converge. You might want to increase the number of iterations, check the scale of the features or consider increasing regularisation. Duality gap: 1.450e+01, tolerance: 7.740e-02\n",
      "  model = cd_fast.enet_coordinate_descent(\n",
      "D:\\IntelliJ\\ml-stock-sent\\.venv\\Lib\\site-packages\\sklearn\\linear_model\\_coordinate_descent.py:695: ConvergenceWarning: Objective did not converge. You might want to increase the number of iterations, check the scale of the features or consider increasing regularisation. Duality gap: 5.423e-01, tolerance: 7.740e-02\n",
      "  model = cd_fast.enet_coordinate_descent(\n",
      "D:\\IntelliJ\\ml-stock-sent\\.venv\\Lib\\site-packages\\sklearn\\linear_model\\_coordinate_descent.py:695: ConvergenceWarning: Objective did not converge. You might want to increase the number of iterations, check the scale of the features or consider increasing regularisation. Duality gap: 3.503e+01, tolerance: 7.740e-02\n",
      "  model = cd_fast.enet_coordinate_descent(\n",
      "D:\\IntelliJ\\ml-stock-sent\\.venv\\Lib\\site-packages\\sklearn\\linear_model\\_coordinate_descent.py:695: ConvergenceWarning: Objective did not converge. You might want to increase the number of iterations, check the scale of the features or consider increasing regularisation. Duality gap: 5.483e+01, tolerance: 7.740e-02\n",
      "  model = cd_fast.enet_coordinate_descent(\n",
      "D:\\IntelliJ\\ml-stock-sent\\.venv\\Lib\\site-packages\\sklearn\\linear_model\\_coordinate_descent.py:695: ConvergenceWarning: Objective did not converge. You might want to increase the number of iterations, check the scale of the features or consider increasing regularisation. Duality gap: 5.073e+00, tolerance: 7.740e-02\n",
      "  model = cd_fast.enet_coordinate_descent(\n",
      "D:\\IntelliJ\\ml-stock-sent\\.venv\\Lib\\site-packages\\sklearn\\linear_model\\_coordinate_descent.py:695: ConvergenceWarning: Objective did not converge. You might want to increase the number of iterations, check the scale of the features or consider increasing regularisation. Duality gap: 3.747e+01, tolerance: 7.740e-02\n",
      "  model = cd_fast.enet_coordinate_descent(\n",
      "D:\\IntelliJ\\ml-stock-sent\\.venv\\Lib\\site-packages\\sklearn\\linear_model\\_coordinate_descent.py:695: ConvergenceWarning: Objective did not converge. You might want to increase the number of iterations, check the scale of the features or consider increasing regularisation. Duality gap: 4.422e+01, tolerance: 7.740e-02\n",
      "  model = cd_fast.enet_coordinate_descent(\n",
      "D:\\IntelliJ\\ml-stock-sent\\.venv\\Lib\\site-packages\\sklearn\\linear_model\\_coordinate_descent.py:695: ConvergenceWarning: Objective did not converge. You might want to increase the number of iterations, check the scale of the features or consider increasing regularisation. Duality gap: 6.833e+00, tolerance: 7.740e-02\n",
      "  model = cd_fast.enet_coordinate_descent(\n",
      "D:\\IntelliJ\\ml-stock-sent\\.venv\\Lib\\site-packages\\sklearn\\linear_model\\_coordinate_descent.py:695: ConvergenceWarning: Objective did not converge. You might want to increase the number of iterations, check the scale of the features or consider increasing regularisation. Duality gap: 2.385e-01, tolerance: 7.740e-02\n",
      "  model = cd_fast.enet_coordinate_descent(\n",
      "D:\\IntelliJ\\ml-stock-sent\\.venv\\Lib\\site-packages\\sklearn\\linear_model\\_coordinate_descent.py:695: ConvergenceWarning: Objective did not converge. You might want to increase the number of iterations, check the scale of the features or consider increasing regularisation. Duality gap: 4.699e+01, tolerance: 7.740e-02\n",
      "  model = cd_fast.enet_coordinate_descent(\n",
      "D:\\IntelliJ\\ml-stock-sent\\.venv\\Lib\\site-packages\\sklearn\\linear_model\\_coordinate_descent.py:695: ConvergenceWarning: Objective did not converge. You might want to increase the number of iterations, check the scale of the features or consider increasing regularisation. Duality gap: 3.078e-01, tolerance: 7.740e-02\n",
      "  model = cd_fast.enet_coordinate_descent(\n",
      "D:\\IntelliJ\\ml-stock-sent\\.venv\\Lib\\site-packages\\sklearn\\linear_model\\_coordinate_descent.py:695: ConvergenceWarning: Objective did not converge. You might want to increase the number of iterations, check the scale of the features or consider increasing regularisation. Duality gap: 8.049e-01, tolerance: 7.740e-02\n",
      "  model = cd_fast.enet_coordinate_descent(\n",
      "D:\\IntelliJ\\ml-stock-sent\\.venv\\Lib\\site-packages\\sklearn\\linear_model\\_coordinate_descent.py:695: ConvergenceWarning: Objective did not converge. You might want to increase the number of iterations, check the scale of the features or consider increasing regularisation. Duality gap: 1.673e+01, tolerance: 7.740e-02\n",
      "  model = cd_fast.enet_coordinate_descent(\n",
      "D:\\IntelliJ\\ml-stock-sent\\.venv\\Lib\\site-packages\\sklearn\\linear_model\\_coordinate_descent.py:695: ConvergenceWarning: Objective did not converge. You might want to increase the number of iterations, check the scale of the features or consider increasing regularisation. Duality gap: 2.704e+01, tolerance: 7.740e-02\n",
      "  model = cd_fast.enet_coordinate_descent(\n",
      "D:\\IntelliJ\\ml-stock-sent\\.venv\\Lib\\site-packages\\sklearn\\linear_model\\_coordinate_descent.py:695: ConvergenceWarning: Objective did not converge. You might want to increase the number of iterations, check the scale of the features or consider increasing regularisation. Duality gap: 8.541e-01, tolerance: 7.740e-02\n",
      "  model = cd_fast.enet_coordinate_descent(\n",
      "D:\\IntelliJ\\ml-stock-sent\\.venv\\Lib\\site-packages\\sklearn\\linear_model\\_coordinate_descent.py:695: ConvergenceWarning: Objective did not converge. You might want to increase the number of iterations, check the scale of the features or consider increasing regularisation. Duality gap: 1.475e+01, tolerance: 7.740e-02\n",
      "  model = cd_fast.enet_coordinate_descent(\n",
      "D:\\IntelliJ\\ml-stock-sent\\.venv\\Lib\\site-packages\\sklearn\\linear_model\\_coordinate_descent.py:695: ConvergenceWarning: Objective did not converge. You might want to increase the number of iterations, check the scale of the features or consider increasing regularisation. Duality gap: 1.820e+01, tolerance: 7.740e-02\n",
      "  model = cd_fast.enet_coordinate_descent(\n",
      "D:\\IntelliJ\\ml-stock-sent\\.venv\\Lib\\site-packages\\sklearn\\linear_model\\_coordinate_descent.py:695: ConvergenceWarning: Objective did not converge. You might want to increase the number of iterations, check the scale of the features or consider increasing regularisation. Duality gap: 1.150e+00, tolerance: 7.740e-02\n",
      "  model = cd_fast.enet_coordinate_descent(\n",
      "D:\\IntelliJ\\ml-stock-sent\\.venv\\Lib\\site-packages\\sklearn\\linear_model\\_coordinate_descent.py:695: ConvergenceWarning: Objective did not converge. You might want to increase the number of iterations, check the scale of the features or consider increasing regularisation. Duality gap: 7.312e+00, tolerance: 1.160e-01\n",
      "  model = cd_fast.enet_coordinate_descent(\n",
      "D:\\IntelliJ\\ml-stock-sent\\.venv\\Lib\\site-packages\\sklearn\\linear_model\\_coordinate_descent.py:695: ConvergenceWarning: Objective did not converge. You might want to increase the number of iterations, check the scale of the features or consider increasing regularisation. Duality gap: 2.682e+00, tolerance: 1.160e-01\n",
      "  model = cd_fast.enet_coordinate_descent(\n",
      "D:\\IntelliJ\\ml-stock-sent\\.venv\\Lib\\site-packages\\sklearn\\linear_model\\_coordinate_descent.py:695: ConvergenceWarning: Objective did not converge. You might want to increase the number of iterations, check the scale of the features or consider increasing regularisation. Duality gap: 2.558e+01, tolerance: 1.160e-01\n",
      "  model = cd_fast.enet_coordinate_descent(\n",
      "D:\\IntelliJ\\ml-stock-sent\\.venv\\Lib\\site-packages\\sklearn\\linear_model\\_coordinate_descent.py:695: ConvergenceWarning: Objective did not converge. You might want to increase the number of iterations, check the scale of the features or consider increasing regularisation. Duality gap: 1.902e+01, tolerance: 1.160e-01\n",
      "  model = cd_fast.enet_coordinate_descent(\n",
      "D:\\IntelliJ\\ml-stock-sent\\.venv\\Lib\\site-packages\\sklearn\\linear_model\\_coordinate_descent.py:695: ConvergenceWarning: Objective did not converge. You might want to increase the number of iterations, check the scale of the features or consider increasing regularisation. Duality gap: 2.894e+01, tolerance: 1.160e-01\n",
      "  model = cd_fast.enet_coordinate_descent(\n",
      "D:\\IntelliJ\\ml-stock-sent\\.venv\\Lib\\site-packages\\sklearn\\linear_model\\_coordinate_descent.py:695: ConvergenceWarning: Objective did not converge. You might want to increase the number of iterations, check the scale of the features or consider increasing regularisation. Duality gap: 1.192e+01, tolerance: 1.160e-01\n",
      "  model = cd_fast.enet_coordinate_descent(\n",
      "D:\\IntelliJ\\ml-stock-sent\\.venv\\Lib\\site-packages\\sklearn\\linear_model\\_coordinate_descent.py:695: ConvergenceWarning: Objective did not converge. You might want to increase the number of iterations, check the scale of the features or consider increasing regularisation. Duality gap: 1.076e+01, tolerance: 1.160e-01\n",
      "  model = cd_fast.enet_coordinate_descent(\n",
      "D:\\IntelliJ\\ml-stock-sent\\.venv\\Lib\\site-packages\\sklearn\\linear_model\\_coordinate_descent.py:695: ConvergenceWarning: Objective did not converge. You might want to increase the number of iterations, check the scale of the features or consider increasing regularisation. Duality gap: 4.004e+01, tolerance: 1.160e-01\n",
      "  model = cd_fast.enet_coordinate_descent(\n",
      "D:\\IntelliJ\\ml-stock-sent\\.venv\\Lib\\site-packages\\sklearn\\linear_model\\_coordinate_descent.py:695: ConvergenceWarning: Objective did not converge. You might want to increase the number of iterations, check the scale of the features or consider increasing regularisation. Duality gap: 5.844e+01, tolerance: 1.160e-01\n",
      "  model = cd_fast.enet_coordinate_descent(\n",
      "D:\\IntelliJ\\ml-stock-sent\\.venv\\Lib\\site-packages\\sklearn\\linear_model\\_coordinate_descent.py:695: ConvergenceWarning: Objective did not converge. You might want to increase the number of iterations, check the scale of the features or consider increasing regularisation. Duality gap: 2.562e+00, tolerance: 1.160e-01\n",
      "  model = cd_fast.enet_coordinate_descent(\n",
      "D:\\IntelliJ\\ml-stock-sent\\.venv\\Lib\\site-packages\\sklearn\\linear_model\\_coordinate_descent.py:695: ConvergenceWarning: Objective did not converge. You might want to increase the number of iterations, check the scale of the features or consider increasing regularisation. Duality gap: 3.526e+01, tolerance: 1.160e-01\n",
      "  model = cd_fast.enet_coordinate_descent(\n",
      "D:\\IntelliJ\\ml-stock-sent\\.venv\\Lib\\site-packages\\sklearn\\linear_model\\_coordinate_descent.py:695: ConvergenceWarning: Objective did not converge. You might want to increase the number of iterations, check the scale of the features or consider increasing regularisation. Duality gap: 4.386e+01, tolerance: 1.160e-01\n",
      "  model = cd_fast.enet_coordinate_descent(\n",
      "D:\\IntelliJ\\ml-stock-sent\\.venv\\Lib\\site-packages\\sklearn\\linear_model\\_coordinate_descent.py:695: ConvergenceWarning: Objective did not converge. You might want to increase the number of iterations, check the scale of the features or consider increasing regularisation. Duality gap: 1.155e+01, tolerance: 1.160e-01\n",
      "  model = cd_fast.enet_coordinate_descent(\n",
      "D:\\IntelliJ\\ml-stock-sent\\.venv\\Lib\\site-packages\\sklearn\\linear_model\\_coordinate_descent.py:695: ConvergenceWarning: Objective did not converge. You might want to increase the number of iterations, check the scale of the features or consider increasing regularisation. Duality gap: 4.715e+01, tolerance: 1.160e-01\n",
      "  model = cd_fast.enet_coordinate_descent(\n",
      "D:\\IntelliJ\\ml-stock-sent\\.venv\\Lib\\site-packages\\sklearn\\linear_model\\_coordinate_descent.py:695: ConvergenceWarning: Objective did not converge. You might want to increase the number of iterations, check the scale of the features or consider increasing regularisation. Duality gap: 2.813e+00, tolerance: 1.160e-01\n",
      "  model = cd_fast.enet_coordinate_descent(\n",
      "D:\\IntelliJ\\ml-stock-sent\\.venv\\Lib\\site-packages\\sklearn\\linear_model\\_coordinate_descent.py:695: ConvergenceWarning: Objective did not converge. You might want to increase the number of iterations, check the scale of the features or consider increasing regularisation. Duality gap: 1.167e+01, tolerance: 1.160e-01\n",
      "  model = cd_fast.enet_coordinate_descent(\n",
      "D:\\IntelliJ\\ml-stock-sent\\.venv\\Lib\\site-packages\\sklearn\\linear_model\\_coordinate_descent.py:695: ConvergenceWarning: Objective did not converge. You might want to increase the number of iterations, check the scale of the features or consider increasing regularisation. Duality gap: 8.986e+00, tolerance: 1.160e-01\n",
      "  model = cd_fast.enet_coordinate_descent(\n",
      "D:\\IntelliJ\\ml-stock-sent\\.venv\\Lib\\site-packages\\sklearn\\linear_model\\_coordinate_descent.py:695: ConvergenceWarning: Objective did not converge. You might want to increase the number of iterations, check the scale of the features or consider increasing regularisation. Duality gap: 7.378e+00, tolerance: 1.160e-01\n",
      "  model = cd_fast.enet_coordinate_descent(\n",
      "D:\\IntelliJ\\ml-stock-sent\\.venv\\Lib\\site-packages\\sklearn\\linear_model\\_coordinate_descent.py:695: ConvergenceWarning: Objective did not converge. You might want to increase the number of iterations, check the scale of the features or consider increasing regularisation. Duality gap: 1.404e+01, tolerance: 1.160e-01\n",
      "  model = cd_fast.enet_coordinate_descent(\n",
      "D:\\IntelliJ\\ml-stock-sent\\.venv\\Lib\\site-packages\\sklearn\\linear_model\\_coordinate_descent.py:695: ConvergenceWarning: Objective did not converge. You might want to increase the number of iterations, check the scale of the features or consider increasing regularisation. Duality gap: 2.376e+01, tolerance: 1.160e-01\n",
      "  model = cd_fast.enet_coordinate_descent(\n",
      "D:\\IntelliJ\\ml-stock-sent\\.venv\\Lib\\site-packages\\sklearn\\linear_model\\_coordinate_descent.py:695: ConvergenceWarning: Objective did not converge. You might want to increase the number of iterations, check the scale of the features or consider increasing regularisation. Duality gap: 2.586e+01, tolerance: 1.160e-01\n",
      "  model = cd_fast.enet_coordinate_descent(\n",
      "D:\\IntelliJ\\ml-stock-sent\\.venv\\Lib\\site-packages\\sklearn\\linear_model\\_coordinate_descent.py:695: ConvergenceWarning: Objective did not converge. You might want to increase the number of iterations, check the scale of the features or consider increasing regularisation. Duality gap: 2.614e+00, tolerance: 1.160e-01\n",
      "  model = cd_fast.enet_coordinate_descent(\n",
      "[I 2025-08-22 18:51:03,269] Trial 4 finished with value: 0.009724349107862398 and parameters: {'alpha': 0.000684792009557478, 'l1_ratio': 0.13949386065204183, 'selection': 'random', 'max_iter': 3000}. Best is trial 4 with value: 0.009724349107862398.\n",
      "D:\\IntelliJ\\ml-stock-sent\\.venv\\Lib\\site-packages\\sklearn\\linear_model\\_coordinate_descent.py:695: ConvergenceWarning: Objective did not converge. You might want to increase the number of iterations, check the scale of the features or consider increasing regularisation. Duality gap: 2.384e+00, tolerance: 3.880e-02\n",
      "  model = cd_fast.enet_coordinate_descent(\n",
      "D:\\IntelliJ\\ml-stock-sent\\.venv\\Lib\\site-packages\\sklearn\\linear_model\\_coordinate_descent.py:695: ConvergenceWarning: Objective did not converge. You might want to increase the number of iterations, check the scale of the features or consider increasing regularisation. Duality gap: 1.143e+01, tolerance: 3.880e-02\n",
      "  model = cd_fast.enet_coordinate_descent(\n",
      "D:\\IntelliJ\\ml-stock-sent\\.venv\\Lib\\site-packages\\sklearn\\linear_model\\_coordinate_descent.py:695: ConvergenceWarning: Objective did not converge. You might want to increase the number of iterations, check the scale of the features or consider increasing regularisation. Duality gap: 4.165e-01, tolerance: 3.880e-02\n",
      "  model = cd_fast.enet_coordinate_descent(\n",
      "D:\\IntelliJ\\ml-stock-sent\\.venv\\Lib\\site-packages\\sklearn\\linear_model\\_coordinate_descent.py:695: ConvergenceWarning: Objective did not converge. You might want to increase the number of iterations, check the scale of the features or consider increasing regularisation. Duality gap: 4.172e+00, tolerance: 3.880e-02\n",
      "  model = cd_fast.enet_coordinate_descent(\n",
      "D:\\IntelliJ\\ml-stock-sent\\.venv\\Lib\\site-packages\\sklearn\\linear_model\\_coordinate_descent.py:695: ConvergenceWarning: Objective did not converge. You might want to increase the number of iterations, check the scale of the features or consider increasing regularisation. Duality gap: 3.817e+00, tolerance: 3.880e-02\n",
      "  model = cd_fast.enet_coordinate_descent(\n",
      "D:\\IntelliJ\\ml-stock-sent\\.venv\\Lib\\site-packages\\sklearn\\linear_model\\_coordinate_descent.py:695: ConvergenceWarning: Objective did not converge. You might want to increase the number of iterations, check the scale of the features or consider increasing regularisation. Duality gap: 1.729e-01, tolerance: 3.880e-02\n",
      "  model = cd_fast.enet_coordinate_descent(\n",
      "D:\\IntelliJ\\ml-stock-sent\\.venv\\Lib\\site-packages\\sklearn\\linear_model\\_coordinate_descent.py:695: ConvergenceWarning: Objective did not converge. You might want to increase the number of iterations, check the scale of the features or consider increasing regularisation. Duality gap: 2.846e-01, tolerance: 3.880e-02\n",
      "  model = cd_fast.enet_coordinate_descent(\n",
      "D:\\IntelliJ\\ml-stock-sent\\.venv\\Lib\\site-packages\\sklearn\\linear_model\\_coordinate_descent.py:695: ConvergenceWarning: Objective did not converge. You might want to increase the number of iterations, check the scale of the features or consider increasing regularisation. Duality gap: 8.064e+00, tolerance: 3.880e-02\n",
      "  model = cd_fast.enet_coordinate_descent(\n",
      "D:\\IntelliJ\\ml-stock-sent\\.venv\\Lib\\site-packages\\sklearn\\linear_model\\_coordinate_descent.py:695: ConvergenceWarning: Objective did not converge. You might want to increase the number of iterations, check the scale of the features or consider increasing regularisation. Duality gap: 9.702e+00, tolerance: 3.880e-02\n",
      "  model = cd_fast.enet_coordinate_descent(\n",
      "D:\\IntelliJ\\ml-stock-sent\\.venv\\Lib\\site-packages\\sklearn\\linear_model\\_coordinate_descent.py:695: ConvergenceWarning: Objective did not converge. You might want to increase the number of iterations, check the scale of the features or consider increasing regularisation. Duality gap: 2.852e-01, tolerance: 3.880e-02\n",
      "  model = cd_fast.enet_coordinate_descent(\n",
      "D:\\IntelliJ\\ml-stock-sent\\.venv\\Lib\\site-packages\\sklearn\\linear_model\\_coordinate_descent.py:695: ConvergenceWarning: Objective did not converge. You might want to increase the number of iterations, check the scale of the features or consider increasing regularisation. Duality gap: 4.568e+00, tolerance: 3.880e-02\n",
      "  model = cd_fast.enet_coordinate_descent(\n",
      "D:\\IntelliJ\\ml-stock-sent\\.venv\\Lib\\site-packages\\sklearn\\linear_model\\_coordinate_descent.py:695: ConvergenceWarning: Objective did not converge. You might want to increase the number of iterations, check the scale of the features or consider increasing regularisation. Duality gap: 1.293e+01, tolerance: 3.880e-02\n",
      "  model = cd_fast.enet_coordinate_descent(\n",
      "D:\\IntelliJ\\ml-stock-sent\\.venv\\Lib\\site-packages\\sklearn\\linear_model\\_coordinate_descent.py:695: ConvergenceWarning: Objective did not converge. You might want to increase the number of iterations, check the scale of the features or consider increasing regularisation. Duality gap: 2.153e-01, tolerance: 3.880e-02\n",
      "  model = cd_fast.enet_coordinate_descent(\n",
      "D:\\IntelliJ\\ml-stock-sent\\.venv\\Lib\\site-packages\\sklearn\\linear_model\\_coordinate_descent.py:695: ConvergenceWarning: Objective did not converge. You might want to increase the number of iterations, check the scale of the features or consider increasing regularisation. Duality gap: 3.114e+01, tolerance: 3.880e-02\n",
      "  model = cd_fast.enet_coordinate_descent(\n",
      "D:\\IntelliJ\\ml-stock-sent\\.venv\\Lib\\site-packages\\sklearn\\linear_model\\_coordinate_descent.py:695: ConvergenceWarning: Objective did not converge. You might want to increase the number of iterations, check the scale of the features or consider increasing regularisation. Duality gap: 8.807e+00, tolerance: 3.880e-02\n",
      "  model = cd_fast.enet_coordinate_descent(\n",
      "D:\\IntelliJ\\ml-stock-sent\\.venv\\Lib\\site-packages\\sklearn\\linear_model\\_coordinate_descent.py:695: ConvergenceWarning: Objective did not converge. You might want to increase the number of iterations, check the scale of the features or consider increasing regularisation. Duality gap: 6.024e+00, tolerance: 3.880e-02\n",
      "  model = cd_fast.enet_coordinate_descent(\n",
      "D:\\IntelliJ\\ml-stock-sent\\.venv\\Lib\\site-packages\\sklearn\\linear_model\\_coordinate_descent.py:695: ConvergenceWarning: Objective did not converge. You might want to increase the number of iterations, check the scale of the features or consider increasing regularisation. Duality gap: 6.032e+00, tolerance: 3.880e-02\n",
      "  model = cd_fast.enet_coordinate_descent(\n",
      "D:\\IntelliJ\\ml-stock-sent\\.venv\\Lib\\site-packages\\sklearn\\linear_model\\_coordinate_descent.py:695: ConvergenceWarning: Objective did not converge. You might want to increase the number of iterations, check the scale of the features or consider increasing regularisation. Duality gap: 1.163e+00, tolerance: 7.740e-02\n",
      "  model = cd_fast.enet_coordinate_descent(\n",
      "D:\\IntelliJ\\ml-stock-sent\\.venv\\Lib\\site-packages\\sklearn\\linear_model\\_coordinate_descent.py:695: ConvergenceWarning: Objective did not converge. You might want to increase the number of iterations, check the scale of the features or consider increasing regularisation. Duality gap: 4.504e-01, tolerance: 7.740e-02\n",
      "  model = cd_fast.enet_coordinate_descent(\n",
      "D:\\IntelliJ\\ml-stock-sent\\.venv\\Lib\\site-packages\\sklearn\\linear_model\\_coordinate_descent.py:695: ConvergenceWarning: Objective did not converge. You might want to increase the number of iterations, check the scale of the features or consider increasing regularisation. Duality gap: 4.099e-01, tolerance: 7.740e-02\n",
      "  model = cd_fast.enet_coordinate_descent(\n",
      "D:\\IntelliJ\\ml-stock-sent\\.venv\\Lib\\site-packages\\sklearn\\linear_model\\_coordinate_descent.py:695: ConvergenceWarning: Objective did not converge. You might want to increase the number of iterations, check the scale of the features or consider increasing regularisation. Duality gap: 5.216e+00, tolerance: 7.740e-02\n",
      "  model = cd_fast.enet_coordinate_descent(\n",
      "D:\\IntelliJ\\ml-stock-sent\\.venv\\Lib\\site-packages\\sklearn\\linear_model\\_coordinate_descent.py:695: ConvergenceWarning: Objective did not converge. You might want to increase the number of iterations, check the scale of the features or consider increasing regularisation. Duality gap: 2.645e+00, tolerance: 7.740e-02\n",
      "  model = cd_fast.enet_coordinate_descent(\n",
      "D:\\IntelliJ\\ml-stock-sent\\.venv\\Lib\\site-packages\\sklearn\\linear_model\\_coordinate_descent.py:695: ConvergenceWarning: Objective did not converge. You might want to increase the number of iterations, check the scale of the features or consider increasing regularisation. Duality gap: 5.153e+00, tolerance: 7.740e-02\n",
      "  model = cd_fast.enet_coordinate_descent(\n",
      "D:\\IntelliJ\\ml-stock-sent\\.venv\\Lib\\site-packages\\sklearn\\linear_model\\_coordinate_descent.py:695: ConvergenceWarning: Objective did not converge. You might want to increase the number of iterations, check the scale of the features or consider increasing regularisation. Duality gap: 1.118e+01, tolerance: 7.740e-02\n",
      "  model = cd_fast.enet_coordinate_descent(\n",
      "D:\\IntelliJ\\ml-stock-sent\\.venv\\Lib\\site-packages\\sklearn\\linear_model\\_coordinate_descent.py:695: ConvergenceWarning: Objective did not converge. You might want to increase the number of iterations, check the scale of the features or consider increasing regularisation. Duality gap: 2.950e+01, tolerance: 7.740e-02\n",
      "  model = cd_fast.enet_coordinate_descent(\n",
      "D:\\IntelliJ\\ml-stock-sent\\.venv\\Lib\\site-packages\\sklearn\\linear_model\\_coordinate_descent.py:695: ConvergenceWarning: Objective did not converge. You might want to increase the number of iterations, check the scale of the features or consider increasing regularisation. Duality gap: 4.245e-01, tolerance: 7.740e-02\n",
      "  model = cd_fast.enet_coordinate_descent(\n",
      "D:\\IntelliJ\\ml-stock-sent\\.venv\\Lib\\site-packages\\sklearn\\linear_model\\_coordinate_descent.py:695: ConvergenceWarning: Objective did not converge. You might want to increase the number of iterations, check the scale of the features or consider increasing regularisation. Duality gap: 1.995e+01, tolerance: 7.740e-02\n",
      "  model = cd_fast.enet_coordinate_descent(\n",
      "D:\\IntelliJ\\ml-stock-sent\\.venv\\Lib\\site-packages\\sklearn\\linear_model\\_coordinate_descent.py:695: ConvergenceWarning: Objective did not converge. You might want to increase the number of iterations, check the scale of the features or consider increasing regularisation. Duality gap: 2.720e+01, tolerance: 7.740e-02\n",
      "  model = cd_fast.enet_coordinate_descent(\n",
      "D:\\IntelliJ\\ml-stock-sent\\.venv\\Lib\\site-packages\\sklearn\\linear_model\\_coordinate_descent.py:695: ConvergenceWarning: Objective did not converge. You might want to increase the number of iterations, check the scale of the features or consider increasing regularisation. Duality gap: 5.013e-01, tolerance: 7.740e-02\n",
      "  model = cd_fast.enet_coordinate_descent(\n",
      "D:\\IntelliJ\\ml-stock-sent\\.venv\\Lib\\site-packages\\sklearn\\linear_model\\_coordinate_descent.py:695: ConvergenceWarning: Objective did not converge. You might want to increase the number of iterations, check the scale of the features or consider increasing regularisation. Duality gap: 2.880e+01, tolerance: 7.740e-02\n",
      "  model = cd_fast.enet_coordinate_descent(\n",
      "D:\\IntelliJ\\ml-stock-sent\\.venv\\Lib\\site-packages\\sklearn\\linear_model\\_coordinate_descent.py:695: ConvergenceWarning: Objective did not converge. You might want to increase the number of iterations, check the scale of the features or consider increasing regularisation. Duality gap: 5.443e-01, tolerance: 7.740e-02\n",
      "  model = cd_fast.enet_coordinate_descent(\n",
      "D:\\IntelliJ\\ml-stock-sent\\.venv\\Lib\\site-packages\\sklearn\\linear_model\\_coordinate_descent.py:695: ConvergenceWarning: Objective did not converge. You might want to increase the number of iterations, check the scale of the features or consider increasing regularisation. Duality gap: 2.605e+00, tolerance: 7.740e-02\n",
      "  model = cd_fast.enet_coordinate_descent(\n",
      "D:\\IntelliJ\\ml-stock-sent\\.venv\\Lib\\site-packages\\sklearn\\linear_model\\_coordinate_descent.py:695: ConvergenceWarning: Objective did not converge. You might want to increase the number of iterations, check the scale of the features or consider increasing regularisation. Duality gap: 8.577e+00, tolerance: 7.740e-02\n",
      "  model = cd_fast.enet_coordinate_descent(\n",
      "D:\\IntelliJ\\ml-stock-sent\\.venv\\Lib\\site-packages\\sklearn\\linear_model\\_coordinate_descent.py:695: ConvergenceWarning: Objective did not converge. You might want to increase the number of iterations, check the scale of the features or consider increasing regularisation. Duality gap: 1.485e+01, tolerance: 7.740e-02\n",
      "  model = cd_fast.enet_coordinate_descent(\n",
      "D:\\IntelliJ\\ml-stock-sent\\.venv\\Lib\\site-packages\\sklearn\\linear_model\\_coordinate_descent.py:695: ConvergenceWarning: Objective did not converge. You might want to increase the number of iterations, check the scale of the features or consider increasing regularisation. Duality gap: 6.909e-01, tolerance: 7.740e-02\n",
      "  model = cd_fast.enet_coordinate_descent(\n",
      "D:\\IntelliJ\\ml-stock-sent\\.venv\\Lib\\site-packages\\sklearn\\linear_model\\_coordinate_descent.py:695: ConvergenceWarning: Objective did not converge. You might want to increase the number of iterations, check the scale of the features or consider increasing regularisation. Duality gap: 1.054e+00, tolerance: 1.160e-01\n",
      "  model = cd_fast.enet_coordinate_descent(\n",
      "D:\\IntelliJ\\ml-stock-sent\\.venv\\Lib\\site-packages\\sklearn\\linear_model\\_coordinate_descent.py:695: ConvergenceWarning: Objective did not converge. You might want to increase the number of iterations, check the scale of the features or consider increasing regularisation. Duality gap: 7.401e+00, tolerance: 1.160e-01\n",
      "  model = cd_fast.enet_coordinate_descent(\n",
      "D:\\IntelliJ\\ml-stock-sent\\.venv\\Lib\\site-packages\\sklearn\\linear_model\\_coordinate_descent.py:695: ConvergenceWarning: Objective did not converge. You might want to increase the number of iterations, check the scale of the features or consider increasing regularisation. Duality gap: 4.087e+00, tolerance: 1.160e-01\n",
      "  model = cd_fast.enet_coordinate_descent(\n",
      "D:\\IntelliJ\\ml-stock-sent\\.venv\\Lib\\site-packages\\sklearn\\linear_model\\_coordinate_descent.py:695: ConvergenceWarning: Objective did not converge. You might want to increase the number of iterations, check the scale of the features or consider increasing regularisation. Duality gap: 4.102e+00, tolerance: 1.160e-01\n",
      "  model = cd_fast.enet_coordinate_descent(\n",
      "D:\\IntelliJ\\ml-stock-sent\\.venv\\Lib\\site-packages\\sklearn\\linear_model\\_coordinate_descent.py:695: ConvergenceWarning: Objective did not converge. You might want to increase the number of iterations, check the scale of the features or consider increasing regularisation. Duality gap: 9.840e+00, tolerance: 1.160e-01\n",
      "  model = cd_fast.enet_coordinate_descent(\n",
      "D:\\IntelliJ\\ml-stock-sent\\.venv\\Lib\\site-packages\\sklearn\\linear_model\\_coordinate_descent.py:695: ConvergenceWarning: Objective did not converge. You might want to increase the number of iterations, check the scale of the features or consider increasing regularisation. Duality gap: 2.504e+01, tolerance: 1.160e-01\n",
      "  model = cd_fast.enet_coordinate_descent(\n",
      "D:\\IntelliJ\\ml-stock-sent\\.venv\\Lib\\site-packages\\sklearn\\linear_model\\_coordinate_descent.py:695: ConvergenceWarning: Objective did not converge. You might want to increase the number of iterations, check the scale of the features or consider increasing regularisation. Duality gap: 2.073e+01, tolerance: 1.160e-01\n",
      "  model = cd_fast.enet_coordinate_descent(\n",
      "D:\\IntelliJ\\ml-stock-sent\\.venv\\Lib\\site-packages\\sklearn\\linear_model\\_coordinate_descent.py:695: ConvergenceWarning: Objective did not converge. You might want to increase the number of iterations, check the scale of the features or consider increasing regularisation. Duality gap: 1.635e+01, tolerance: 1.160e-01\n",
      "  model = cd_fast.enet_coordinate_descent(\n",
      "D:\\IntelliJ\\ml-stock-sent\\.venv\\Lib\\site-packages\\sklearn\\linear_model\\_coordinate_descent.py:695: ConvergenceWarning: Objective did not converge. You might want to increase the number of iterations, check the scale of the features or consider increasing regularisation. Duality gap: 1.719e+00, tolerance: 1.160e-01\n",
      "  model = cd_fast.enet_coordinate_descent(\n",
      "D:\\IntelliJ\\ml-stock-sent\\.venv\\Lib\\site-packages\\sklearn\\linear_model\\_coordinate_descent.py:695: ConvergenceWarning: Objective did not converge. You might want to increase the number of iterations, check the scale of the features or consider increasing regularisation. Duality gap: 2.026e+01, tolerance: 1.160e-01\n",
      "  model = cd_fast.enet_coordinate_descent(\n",
      "D:\\IntelliJ\\ml-stock-sent\\.venv\\Lib\\site-packages\\sklearn\\linear_model\\_coordinate_descent.py:695: ConvergenceWarning: Objective did not converge. You might want to increase the number of iterations, check the scale of the features or consider increasing regularisation. Duality gap: 3.109e+00, tolerance: 1.160e-01\n",
      "  model = cd_fast.enet_coordinate_descent(\n",
      "D:\\IntelliJ\\ml-stock-sent\\.venv\\Lib\\site-packages\\sklearn\\linear_model\\_coordinate_descent.py:695: ConvergenceWarning: Objective did not converge. You might want to increase the number of iterations, check the scale of the features or consider increasing regularisation. Duality gap: 4.966e+00, tolerance: 1.160e-01\n",
      "  model = cd_fast.enet_coordinate_descent(\n",
      "D:\\IntelliJ\\ml-stock-sent\\.venv\\Lib\\site-packages\\sklearn\\linear_model\\_coordinate_descent.py:695: ConvergenceWarning: Objective did not converge. You might want to increase the number of iterations, check the scale of the features or consider increasing regularisation. Duality gap: 1.828e+00, tolerance: 1.160e-01\n",
      "  model = cd_fast.enet_coordinate_descent(\n",
      "[I 2025-08-22 18:51:03,525] Trial 5 finished with value: 0.009681467254697214 and parameters: {'alpha': 0.0022673986523780395, 'l1_ratio': 0.19967378215835974, 'selection': 'random', 'max_iter': 1000}. Best is trial 5 with value: 0.009681467254697214.\n",
      "D:\\IntelliJ\\ml-stock-sent\\.venv\\Lib\\site-packages\\sklearn\\linear_model\\_coordinate_descent.py:695: ConvergenceWarning: Objective did not converge. You might want to increase the number of iterations, check the scale of the features or consider increasing regularisation. Duality gap: 1.941e+00, tolerance: 3.880e-02\n",
      "  model = cd_fast.enet_coordinate_descent(\n",
      "D:\\IntelliJ\\ml-stock-sent\\.venv\\Lib\\site-packages\\sklearn\\linear_model\\_coordinate_descent.py:695: ConvergenceWarning: Objective did not converge. You might want to increase the number of iterations, check the scale of the features or consider increasing regularisation. Duality gap: 3.777e-01, tolerance: 3.880e-02\n",
      "  model = cd_fast.enet_coordinate_descent(\n",
      "D:\\IntelliJ\\ml-stock-sent\\.venv\\Lib\\site-packages\\sklearn\\linear_model\\_coordinate_descent.py:695: ConvergenceWarning: Objective did not converge. You might want to increase the number of iterations, check the scale of the features or consider increasing regularisation. Duality gap: 1.257e-01, tolerance: 3.880e-02\n",
      "  model = cd_fast.enet_coordinate_descent(\n",
      "D:\\IntelliJ\\ml-stock-sent\\.venv\\Lib\\site-packages\\sklearn\\linear_model\\_coordinate_descent.py:695: ConvergenceWarning: Objective did not converge. You might want to increase the number of iterations, check the scale of the features or consider increasing regularisation. Duality gap: 1.516e+00, tolerance: 3.880e-02\n",
      "  model = cd_fast.enet_coordinate_descent(\n",
      "D:\\IntelliJ\\ml-stock-sent\\.venv\\Lib\\site-packages\\sklearn\\linear_model\\_coordinate_descent.py:695: ConvergenceWarning: Objective did not converge. You might want to increase the number of iterations, check the scale of the features or consider increasing regularisation. Duality gap: 3.245e-01, tolerance: 3.880e-02\n",
      "  model = cd_fast.enet_coordinate_descent(\n",
      "D:\\IntelliJ\\ml-stock-sent\\.venv\\Lib\\site-packages\\sklearn\\linear_model\\_coordinate_descent.py:695: ConvergenceWarning: Objective did not converge. You might want to increase the number of iterations, check the scale of the features or consider increasing regularisation. Duality gap: 9.058e-01, tolerance: 3.880e-02\n",
      "  model = cd_fast.enet_coordinate_descent(\n",
      "D:\\IntelliJ\\ml-stock-sent\\.venv\\Lib\\site-packages\\sklearn\\linear_model\\_coordinate_descent.py:695: ConvergenceWarning: Objective did not converge. You might want to increase the number of iterations, check the scale of the features or consider increasing regularisation. Duality gap: 1.030e+00, tolerance: 3.880e-02\n",
      "  model = cd_fast.enet_coordinate_descent(\n",
      "D:\\IntelliJ\\ml-stock-sent\\.venv\\Lib\\site-packages\\sklearn\\linear_model\\_coordinate_descent.py:695: ConvergenceWarning: Objective did not converge. You might want to increase the number of iterations, check the scale of the features or consider increasing regularisation. Duality gap: 2.347e+00, tolerance: 3.880e-02\n",
      "  model = cd_fast.enet_coordinate_descent(\n",
      "D:\\IntelliJ\\ml-stock-sent\\.venv\\Lib\\site-packages\\sklearn\\linear_model\\_coordinate_descent.py:695: ConvergenceWarning: Objective did not converge. You might want to increase the number of iterations, check the scale of the features or consider increasing regularisation. Duality gap: 4.127e+00, tolerance: 3.880e-02\n",
      "  model = cd_fast.enet_coordinate_descent(\n",
      "D:\\IntelliJ\\ml-stock-sent\\.venv\\Lib\\site-packages\\sklearn\\linear_model\\_coordinate_descent.py:695: ConvergenceWarning: Objective did not converge. You might want to increase the number of iterations, check the scale of the features or consider increasing regularisation. Duality gap: 9.254e-01, tolerance: 3.880e-02\n",
      "  model = cd_fast.enet_coordinate_descent(\n",
      "D:\\IntelliJ\\ml-stock-sent\\.venv\\Lib\\site-packages\\sklearn\\linear_model\\_coordinate_descent.py:695: ConvergenceWarning: Objective did not converge. You might want to increase the number of iterations, check the scale of the features or consider increasing regularisation. Duality gap: 1.392e+00, tolerance: 3.880e-02\n",
      "  model = cd_fast.enet_coordinate_descent(\n",
      "D:\\IntelliJ\\ml-stock-sent\\.venv\\Lib\\site-packages\\sklearn\\linear_model\\_coordinate_descent.py:695: ConvergenceWarning: Objective did not converge. You might want to increase the number of iterations, check the scale of the features or consider increasing regularisation. Duality gap: 2.102e-01, tolerance: 3.880e-02\n",
      "  model = cd_fast.enet_coordinate_descent(\n",
      "D:\\IntelliJ\\ml-stock-sent\\.venv\\Lib\\site-packages\\sklearn\\linear_model\\_coordinate_descent.py:695: ConvergenceWarning: Objective did not converge. You might want to increase the number of iterations, check the scale of the features or consider increasing regularisation. Duality gap: 7.224e+00, tolerance: 3.880e-02\n",
      "  model = cd_fast.enet_coordinate_descent(\n",
      "D:\\IntelliJ\\ml-stock-sent\\.venv\\Lib\\site-packages\\sklearn\\linear_model\\_coordinate_descent.py:695: ConvergenceWarning: Objective did not converge. You might want to increase the number of iterations, check the scale of the features or consider increasing regularisation. Duality gap: 1.451e-01, tolerance: 3.880e-02\n",
      "  model = cd_fast.enet_coordinate_descent(\n",
      "D:\\IntelliJ\\ml-stock-sent\\.venv\\Lib\\site-packages\\sklearn\\linear_model\\_coordinate_descent.py:695: ConvergenceWarning: Objective did not converge. You might want to increase the number of iterations, check the scale of the features or consider increasing regularisation. Duality gap: 4.095e-01, tolerance: 3.880e-02\n",
      "  model = cd_fast.enet_coordinate_descent(\n",
      "D:\\IntelliJ\\ml-stock-sent\\.venv\\Lib\\site-packages\\sklearn\\linear_model\\_coordinate_descent.py:695: ConvergenceWarning: Objective did not converge. You might want to increase the number of iterations, check the scale of the features or consider increasing regularisation. Duality gap: 1.106e+00, tolerance: 3.880e-02\n",
      "  model = cd_fast.enet_coordinate_descent(\n",
      "D:\\IntelliJ\\ml-stock-sent\\.venv\\Lib\\site-packages\\sklearn\\linear_model\\_coordinate_descent.py:695: ConvergenceWarning: Objective did not converge. You might want to increase the number of iterations, check the scale of the features or consider increasing regularisation. Duality gap: 9.534e-01, tolerance: 3.880e-02\n",
      "  model = cd_fast.enet_coordinate_descent(\n",
      "D:\\IntelliJ\\ml-stock-sent\\.venv\\Lib\\site-packages\\sklearn\\linear_model\\_coordinate_descent.py:695: ConvergenceWarning: Objective did not converge. You might want to increase the number of iterations, check the scale of the features or consider increasing regularisation. Duality gap: 1.919e-01, tolerance: 3.880e-02\n",
      "  model = cd_fast.enet_coordinate_descent(\n",
      "D:\\IntelliJ\\ml-stock-sent\\.venv\\Lib\\site-packages\\sklearn\\linear_model\\_coordinate_descent.py:695: ConvergenceWarning: Objective did not converge. You might want to increase the number of iterations, check the scale of the features or consider increasing regularisation. Duality gap: 6.814e-01, tolerance: 3.880e-02\n",
      "  model = cd_fast.enet_coordinate_descent(\n",
      "D:\\IntelliJ\\ml-stock-sent\\.venv\\Lib\\site-packages\\sklearn\\linear_model\\_coordinate_descent.py:695: ConvergenceWarning: Objective did not converge. You might want to increase the number of iterations, check the scale of the features or consider increasing regularisation. Duality gap: 8.650e-01, tolerance: 3.880e-02\n",
      "  model = cd_fast.enet_coordinate_descent(\n",
      "D:\\IntelliJ\\ml-stock-sent\\.venv\\Lib\\site-packages\\sklearn\\linear_model\\_coordinate_descent.py:695: ConvergenceWarning: Objective did not converge. You might want to increase the number of iterations, check the scale of the features or consider increasing regularisation. Duality gap: 1.109e+00, tolerance: 7.740e-02\n",
      "  model = cd_fast.enet_coordinate_descent(\n",
      "D:\\IntelliJ\\ml-stock-sent\\.venv\\Lib\\site-packages\\sklearn\\linear_model\\_coordinate_descent.py:695: ConvergenceWarning: Objective did not converge. You might want to increase the number of iterations, check the scale of the features or consider increasing regularisation. Duality gap: 3.005e-01, tolerance: 7.740e-02\n",
      "  model = cd_fast.enet_coordinate_descent(\n",
      "D:\\IntelliJ\\ml-stock-sent\\.venv\\Lib\\site-packages\\sklearn\\linear_model\\_coordinate_descent.py:695: ConvergenceWarning: Objective did not converge. You might want to increase the number of iterations, check the scale of the features or consider increasing regularisation. Duality gap: 1.181e+00, tolerance: 7.740e-02\n",
      "  model = cd_fast.enet_coordinate_descent(\n",
      "D:\\IntelliJ\\ml-stock-sent\\.venv\\Lib\\site-packages\\sklearn\\linear_model\\_coordinate_descent.py:695: ConvergenceWarning: Objective did not converge. You might want to increase the number of iterations, check the scale of the features or consider increasing regularisation. Duality gap: 4.022e-01, tolerance: 7.740e-02\n",
      "  model = cd_fast.enet_coordinate_descent(\n",
      "D:\\IntelliJ\\ml-stock-sent\\.venv\\Lib\\site-packages\\sklearn\\linear_model\\_coordinate_descent.py:695: ConvergenceWarning: Objective did not converge. You might want to increase the number of iterations, check the scale of the features or consider increasing regularisation. Duality gap: 1.291e+00, tolerance: 7.740e-02\n",
      "  model = cd_fast.enet_coordinate_descent(\n",
      "D:\\IntelliJ\\ml-stock-sent\\.venv\\Lib\\site-packages\\sklearn\\linear_model\\_coordinate_descent.py:695: ConvergenceWarning: Objective did not converge. You might want to increase the number of iterations, check the scale of the features or consider increasing regularisation. Duality gap: 7.295e-01, tolerance: 7.740e-02\n",
      "  model = cd_fast.enet_coordinate_descent(\n",
      "D:\\IntelliJ\\ml-stock-sent\\.venv\\Lib\\site-packages\\sklearn\\linear_model\\_coordinate_descent.py:695: ConvergenceWarning: Objective did not converge. You might want to increase the number of iterations, check the scale of the features or consider increasing regularisation. Duality gap: 7.367e-01, tolerance: 7.740e-02\n",
      "  model = cd_fast.enet_coordinate_descent(\n",
      "D:\\IntelliJ\\ml-stock-sent\\.venv\\Lib\\site-packages\\sklearn\\linear_model\\_coordinate_descent.py:695: ConvergenceWarning: Objective did not converge. You might want to increase the number of iterations, check the scale of the features or consider increasing regularisation. Duality gap: 2.409e+00, tolerance: 7.740e-02\n",
      "  model = cd_fast.enet_coordinate_descent(\n",
      "D:\\IntelliJ\\ml-stock-sent\\.venv\\Lib\\site-packages\\sklearn\\linear_model\\_coordinate_descent.py:695: ConvergenceWarning: Objective did not converge. You might want to increase the number of iterations, check the scale of the features or consider increasing regularisation. Duality gap: 4.421e+00, tolerance: 7.740e-02\n",
      "  model = cd_fast.enet_coordinate_descent(\n",
      "D:\\IntelliJ\\ml-stock-sent\\.venv\\Lib\\site-packages\\sklearn\\linear_model\\_coordinate_descent.py:695: ConvergenceWarning: Objective did not converge. You might want to increase the number of iterations, check the scale of the features or consider increasing regularisation. Duality gap: 7.964e-01, tolerance: 7.740e-02\n",
      "  model = cd_fast.enet_coordinate_descent(\n",
      "D:\\IntelliJ\\ml-stock-sent\\.venv\\Lib\\site-packages\\sklearn\\linear_model\\_coordinate_descent.py:695: ConvergenceWarning: Objective did not converge. You might want to increase the number of iterations, check the scale of the features or consider increasing regularisation. Duality gap: 3.338e+00, tolerance: 7.740e-02\n",
      "  model = cd_fast.enet_coordinate_descent(\n",
      "D:\\IntelliJ\\ml-stock-sent\\.venv\\Lib\\site-packages\\sklearn\\linear_model\\_coordinate_descent.py:695: ConvergenceWarning: Objective did not converge. You might want to increase the number of iterations, check the scale of the features or consider increasing regularisation. Duality gap: 3.391e-01, tolerance: 7.740e-02\n",
      "  model = cd_fast.enet_coordinate_descent(\n",
      "D:\\IntelliJ\\ml-stock-sent\\.venv\\Lib\\site-packages\\sklearn\\linear_model\\_coordinate_descent.py:695: ConvergenceWarning: Objective did not converge. You might want to increase the number of iterations, check the scale of the features or consider increasing regularisation. Duality gap: 3.549e+00, tolerance: 7.740e-02\n",
      "  model = cd_fast.enet_coordinate_descent(\n",
      "D:\\IntelliJ\\ml-stock-sent\\.venv\\Lib\\site-packages\\sklearn\\linear_model\\_coordinate_descent.py:695: ConvergenceWarning: Objective did not converge. You might want to increase the number of iterations, check the scale of the features or consider increasing regularisation. Duality gap: 8.946e-01, tolerance: 7.740e-02\n",
      "  model = cd_fast.enet_coordinate_descent(\n",
      "D:\\IntelliJ\\ml-stock-sent\\.venv\\Lib\\site-packages\\sklearn\\linear_model\\_coordinate_descent.py:695: ConvergenceWarning: Objective did not converge. You might want to increase the number of iterations, check the scale of the features or consider increasing regularisation. Duality gap: 1.740e+00, tolerance: 7.740e-02\n",
      "  model = cd_fast.enet_coordinate_descent(\n",
      "D:\\IntelliJ\\ml-stock-sent\\.venv\\Lib\\site-packages\\sklearn\\linear_model\\_coordinate_descent.py:695: ConvergenceWarning: Objective did not converge. You might want to increase the number of iterations, check the scale of the features or consider increasing regularisation. Duality gap: 7.604e-01, tolerance: 7.740e-02\n",
      "  model = cd_fast.enet_coordinate_descent(\n",
      "D:\\IntelliJ\\ml-stock-sent\\.venv\\Lib\\site-packages\\sklearn\\linear_model\\_coordinate_descent.py:695: ConvergenceWarning: Objective did not converge. You might want to increase the number of iterations, check the scale of the features or consider increasing regularisation. Duality gap: 9.160e-01, tolerance: 7.740e-02\n",
      "  model = cd_fast.enet_coordinate_descent(\n",
      "D:\\IntelliJ\\ml-stock-sent\\.venv\\Lib\\site-packages\\sklearn\\linear_model\\_coordinate_descent.py:695: ConvergenceWarning: Objective did not converge. You might want to increase the number of iterations, check the scale of the features or consider increasing regularisation. Duality gap: 1.259e+00, tolerance: 1.160e-01\n",
      "  model = cd_fast.enet_coordinate_descent(\n",
      "D:\\IntelliJ\\ml-stock-sent\\.venv\\Lib\\site-packages\\sklearn\\linear_model\\_coordinate_descent.py:695: ConvergenceWarning: Objective did not converge. You might want to increase the number of iterations, check the scale of the features or consider increasing regularisation. Duality gap: 8.522e-01, tolerance: 1.160e-01\n",
      "  model = cd_fast.enet_coordinate_descent(\n",
      "D:\\IntelliJ\\ml-stock-sent\\.venv\\Lib\\site-packages\\sklearn\\linear_model\\_coordinate_descent.py:695: ConvergenceWarning: Objective did not converge. You might want to increase the number of iterations, check the scale of the features or consider increasing regularisation. Duality gap: 1.460e+00, tolerance: 1.160e-01\n",
      "  model = cd_fast.enet_coordinate_descent(\n",
      "D:\\IntelliJ\\ml-stock-sent\\.venv\\Lib\\site-packages\\sklearn\\linear_model\\_coordinate_descent.py:695: ConvergenceWarning: Objective did not converge. You might want to increase the number of iterations, check the scale of the features or consider increasing regularisation. Duality gap: 4.763e-01, tolerance: 1.160e-01\n",
      "  model = cd_fast.enet_coordinate_descent(\n",
      "D:\\IntelliJ\\ml-stock-sent\\.venv\\Lib\\site-packages\\sklearn\\linear_model\\_coordinate_descent.py:695: ConvergenceWarning: Objective did not converge. You might want to increase the number of iterations, check the scale of the features or consider increasing regularisation. Duality gap: 4.018e-01, tolerance: 1.160e-01\n",
      "  model = cd_fast.enet_coordinate_descent(\n",
      "D:\\IntelliJ\\ml-stock-sent\\.venv\\Lib\\site-packages\\sklearn\\linear_model\\_coordinate_descent.py:695: ConvergenceWarning: Objective did not converge. You might want to increase the number of iterations, check the scale of the features or consider increasing regularisation. Duality gap: 2.214e+00, tolerance: 1.160e-01\n",
      "  model = cd_fast.enet_coordinate_descent(\n",
      "D:\\IntelliJ\\ml-stock-sent\\.venv\\Lib\\site-packages\\sklearn\\linear_model\\_coordinate_descent.py:695: ConvergenceWarning: Objective did not converge. You might want to increase the number of iterations, check the scale of the features or consider increasing regularisation. Duality gap: 3.681e+00, tolerance: 1.160e-01\n",
      "  model = cd_fast.enet_coordinate_descent(\n",
      "D:\\IntelliJ\\ml-stock-sent\\.venv\\Lib\\site-packages\\sklearn\\linear_model\\_coordinate_descent.py:695: ConvergenceWarning: Objective did not converge. You might want to increase the number of iterations, check the scale of the features or consider increasing regularisation. Duality gap: 9.192e-01, tolerance: 1.160e-01\n",
      "  model = cd_fast.enet_coordinate_descent(\n",
      "D:\\IntelliJ\\ml-stock-sent\\.venv\\Lib\\site-packages\\sklearn\\linear_model\\_coordinate_descent.py:695: ConvergenceWarning: Objective did not converge. You might want to increase the number of iterations, check the scale of the features or consider increasing regularisation. Duality gap: 2.556e+00, tolerance: 1.160e-01\n",
      "  model = cd_fast.enet_coordinate_descent(\n",
      "D:\\IntelliJ\\ml-stock-sent\\.venv\\Lib\\site-packages\\sklearn\\linear_model\\_coordinate_descent.py:695: ConvergenceWarning: Objective did not converge. You might want to increase the number of iterations, check the scale of the features or consider increasing regularisation. Duality gap: 4.969e-01, tolerance: 1.160e-01\n",
      "  model = cd_fast.enet_coordinate_descent(\n",
      "D:\\IntelliJ\\ml-stock-sent\\.venv\\Lib\\site-packages\\sklearn\\linear_model\\_coordinate_descent.py:695: ConvergenceWarning: Objective did not converge. You might want to increase the number of iterations, check the scale of the features or consider increasing regularisation. Duality gap: 2.721e+00, tolerance: 1.160e-01\n",
      "  model = cd_fast.enet_coordinate_descent(\n",
      "D:\\IntelliJ\\ml-stock-sent\\.venv\\Lib\\site-packages\\sklearn\\linear_model\\_coordinate_descent.py:695: ConvergenceWarning: Objective did not converge. You might want to increase the number of iterations, check the scale of the features or consider increasing regularisation. Duality gap: 4.591e-01, tolerance: 1.160e-01\n",
      "  model = cd_fast.enet_coordinate_descent(\n",
      "D:\\IntelliJ\\ml-stock-sent\\.venv\\Lib\\site-packages\\sklearn\\linear_model\\_coordinate_descent.py:695: ConvergenceWarning: Objective did not converge. You might want to increase the number of iterations, check the scale of the features or consider increasing regularisation. Duality gap: 5.987e-01, tolerance: 1.160e-01\n",
      "  model = cd_fast.enet_coordinate_descent(\n",
      "D:\\IntelliJ\\ml-stock-sent\\.venv\\Lib\\site-packages\\sklearn\\linear_model\\_coordinate_descent.py:695: ConvergenceWarning: Objective did not converge. You might want to increase the number of iterations, check the scale of the features or consider increasing regularisation. Duality gap: 1.152e+00, tolerance: 1.160e-01\n",
      "  model = cd_fast.enet_coordinate_descent(\n",
      "D:\\IntelliJ\\ml-stock-sent\\.venv\\Lib\\site-packages\\sklearn\\linear_model\\_coordinate_descent.py:695: ConvergenceWarning: Objective did not converge. You might want to increase the number of iterations, check the scale of the features or consider increasing regularisation. Duality gap: 1.266e+00, tolerance: 1.160e-01\n",
      "  model = cd_fast.enet_coordinate_descent(\n",
      "[I 2025-08-22 18:51:04,666] Trial 6 finished with value: 0.009723421802829384 and parameters: {'alpha': 0.0006647135865318024, 'l1_ratio': 0.17052412368729153, 'selection': 'random', 'max_iter': 5000}. Best is trial 5 with value: 0.009681467254697214.\n",
      "[I 2025-08-22 18:51:04,871] Trial 7 finished with value: 0.009655559109134576 and parameters: {'alpha': 0.002661901888489057, 'l1_ratio': 0.3046137691733707, 'selection': 'random', 'max_iter': 2500}. Best is trial 7 with value: 0.009655559109134576.\n",
      "D:\\IntelliJ\\ml-stock-sent\\.venv\\Lib\\site-packages\\sklearn\\linear_model\\_coordinate_descent.py:695: ConvergenceWarning: Objective did not converge. You might want to increase the number of iterations, check the scale of the features or consider increasing regularisation. Duality gap: 1.685e+02, tolerance: 3.880e-02\n",
      "  model = cd_fast.enet_coordinate_descent(\n",
      "D:\\IntelliJ\\ml-stock-sent\\.venv\\Lib\\site-packages\\sklearn\\linear_model\\_coordinate_descent.py:695: ConvergenceWarning: Objective did not converge. You might want to increase the number of iterations, check the scale of the features or consider increasing regularisation. Duality gap: 1.237e+02, tolerance: 3.880e-02\n",
      "  model = cd_fast.enet_coordinate_descent(\n",
      "D:\\IntelliJ\\ml-stock-sent\\.venv\\Lib\\site-packages\\sklearn\\linear_model\\_coordinate_descent.py:695: ConvergenceWarning: Objective did not converge. You might want to increase the number of iterations, check the scale of the features or consider increasing regularisation. Duality gap: 1.619e+02, tolerance: 3.880e-02\n",
      "  model = cd_fast.enet_coordinate_descent(\n",
      "D:\\IntelliJ\\ml-stock-sent\\.venv\\Lib\\site-packages\\sklearn\\linear_model\\_coordinate_descent.py:695: ConvergenceWarning: Objective did not converge. You might want to increase the number of iterations, check the scale of the features or consider increasing regularisation. Duality gap: 1.582e+02, tolerance: 3.880e-02\n",
      "  model = cd_fast.enet_coordinate_descent(\n",
      "D:\\IntelliJ\\ml-stock-sent\\.venv\\Lib\\site-packages\\sklearn\\linear_model\\_coordinate_descent.py:695: ConvergenceWarning: Objective did not converge. You might want to increase the number of iterations, check the scale of the features or consider increasing regularisation. Duality gap: 1.367e+02, tolerance: 3.880e-02\n",
      "  model = cd_fast.enet_coordinate_descent(\n",
      "D:\\IntelliJ\\ml-stock-sent\\.venv\\Lib\\site-packages\\sklearn\\linear_model\\_coordinate_descent.py:695: ConvergenceWarning: Objective did not converge. You might want to increase the number of iterations, check the scale of the features or consider increasing regularisation. Duality gap: 1.745e+02, tolerance: 3.880e-02\n",
      "  model = cd_fast.enet_coordinate_descent(\n",
      "D:\\IntelliJ\\ml-stock-sent\\.venv\\Lib\\site-packages\\sklearn\\linear_model\\_coordinate_descent.py:695: ConvergenceWarning: Objective did not converge. You might want to increase the number of iterations, check the scale of the features or consider increasing regularisation. Duality gap: 1.588e+02, tolerance: 3.880e-02\n",
      "  model = cd_fast.enet_coordinate_descent(\n",
      "D:\\IntelliJ\\ml-stock-sent\\.venv\\Lib\\site-packages\\sklearn\\linear_model\\_coordinate_descent.py:695: ConvergenceWarning: Objective did not converge. You might want to increase the number of iterations, check the scale of the features or consider increasing regularisation. Duality gap: 7.515e+01, tolerance: 3.880e-02\n",
      "  model = cd_fast.enet_coordinate_descent(\n",
      "D:\\IntelliJ\\ml-stock-sent\\.venv\\Lib\\site-packages\\sklearn\\linear_model\\_coordinate_descent.py:695: ConvergenceWarning: Objective did not converge. You might want to increase the number of iterations, check the scale of the features or consider increasing regularisation. Duality gap: 1.639e+02, tolerance: 3.880e-02\n",
      "  model = cd_fast.enet_coordinate_descent(\n",
      "D:\\IntelliJ\\ml-stock-sent\\.venv\\Lib\\site-packages\\sklearn\\linear_model\\_coordinate_descent.py:695: ConvergenceWarning: Objective did not converge. You might want to increase the number of iterations, check the scale of the features or consider increasing regularisation. Duality gap: 1.676e+02, tolerance: 3.880e-02\n",
      "  model = cd_fast.enet_coordinate_descent(\n",
      "D:\\IntelliJ\\ml-stock-sent\\.venv\\Lib\\site-packages\\sklearn\\linear_model\\_coordinate_descent.py:695: ConvergenceWarning: Objective did not converge. You might want to increase the number of iterations, check the scale of the features or consider increasing regularisation. Duality gap: 1.281e+02, tolerance: 3.880e-02\n",
      "  model = cd_fast.enet_coordinate_descent(\n",
      "D:\\IntelliJ\\ml-stock-sent\\.venv\\Lib\\site-packages\\sklearn\\linear_model\\_coordinate_descent.py:695: ConvergenceWarning: Objective did not converge. You might want to increase the number of iterations, check the scale of the features or consider increasing regularisation. Duality gap: 1.155e+02, tolerance: 3.880e-02\n",
      "  model = cd_fast.enet_coordinate_descent(\n",
      "D:\\IntelliJ\\ml-stock-sent\\.venv\\Lib\\site-packages\\sklearn\\linear_model\\_coordinate_descent.py:695: ConvergenceWarning: Objective did not converge. You might want to increase the number of iterations, check the scale of the features or consider increasing regularisation. Duality gap: 1.718e+02, tolerance: 3.880e-02\n",
      "  model = cd_fast.enet_coordinate_descent(\n",
      "D:\\IntelliJ\\ml-stock-sent\\.venv\\Lib\\site-packages\\sklearn\\linear_model\\_coordinate_descent.py:695: ConvergenceWarning: Objective did not converge. You might want to increase the number of iterations, check the scale of the features or consider increasing regularisation. Duality gap: 1.750e+02, tolerance: 3.880e-02\n",
      "  model = cd_fast.enet_coordinate_descent(\n",
      "D:\\IntelliJ\\ml-stock-sent\\.venv\\Lib\\site-packages\\sklearn\\linear_model\\_coordinate_descent.py:695: ConvergenceWarning: Objective did not converge. You might want to increase the number of iterations, check the scale of the features or consider increasing regularisation. Duality gap: 1.177e+02, tolerance: 3.880e-02\n",
      "  model = cd_fast.enet_coordinate_descent(\n",
      "D:\\IntelliJ\\ml-stock-sent\\.venv\\Lib\\site-packages\\sklearn\\linear_model\\_coordinate_descent.py:695: ConvergenceWarning: Objective did not converge. You might want to increase the number of iterations, check the scale of the features or consider increasing regularisation. Duality gap: 1.661e+02, tolerance: 3.880e-02\n",
      "  model = cd_fast.enet_coordinate_descent(\n",
      "D:\\IntelliJ\\ml-stock-sent\\.venv\\Lib\\site-packages\\sklearn\\linear_model\\_coordinate_descent.py:695: ConvergenceWarning: Objective did not converge. You might want to increase the number of iterations, check the scale of the features or consider increasing regularisation. Duality gap: 1.640e+02, tolerance: 3.880e-02\n",
      "  model = cd_fast.enet_coordinate_descent(\n",
      "D:\\IntelliJ\\ml-stock-sent\\.venv\\Lib\\site-packages\\sklearn\\linear_model\\_coordinate_descent.py:695: ConvergenceWarning: Objective did not converge. You might want to increase the number of iterations, check the scale of the features or consider increasing regularisation. Duality gap: 1.676e+02, tolerance: 3.880e-02\n",
      "  model = cd_fast.enet_coordinate_descent(\n",
      "D:\\IntelliJ\\ml-stock-sent\\.venv\\Lib\\site-packages\\sklearn\\linear_model\\_coordinate_descent.py:695: ConvergenceWarning: Objective did not converge. You might want to increase the number of iterations, check the scale of the features or consider increasing regularisation. Duality gap: 1.589e+02, tolerance: 3.880e-02\n",
      "  model = cd_fast.enet_coordinate_descent(\n",
      "D:\\IntelliJ\\ml-stock-sent\\.venv\\Lib\\site-packages\\sklearn\\linear_model\\_coordinate_descent.py:695: ConvergenceWarning: Objective did not converge. You might want to increase the number of iterations, check the scale of the features or consider increasing regularisation. Duality gap: 1.741e+02, tolerance: 3.880e-02\n",
      "  model = cd_fast.enet_coordinate_descent(\n",
      "D:\\IntelliJ\\ml-stock-sent\\.venv\\Lib\\site-packages\\sklearn\\linear_model\\_coordinate_descent.py:695: ConvergenceWarning: Objective did not converge. You might want to increase the number of iterations, check the scale of the features or consider increasing regularisation. Duality gap: 1.372e+02, tolerance: 3.880e-02\n",
      "  model = cd_fast.enet_coordinate_descent(\n",
      "D:\\IntelliJ\\ml-stock-sent\\.venv\\Lib\\site-packages\\sklearn\\linear_model\\_coordinate_descent.py:695: ConvergenceWarning: Objective did not converge. You might want to increase the number of iterations, check the scale of the features or consider increasing regularisation. Duality gap: 1.564e+02, tolerance: 3.880e-02\n",
      "  model = cd_fast.enet_coordinate_descent(\n",
      "D:\\IntelliJ\\ml-stock-sent\\.venv\\Lib\\site-packages\\sklearn\\linear_model\\_coordinate_descent.py:695: ConvergenceWarning: Objective did not converge. You might want to increase the number of iterations, check the scale of the features or consider increasing regularisation. Duality gap: 1.624e+02, tolerance: 3.880e-02\n",
      "  model = cd_fast.enet_coordinate_descent(\n",
      "D:\\IntelliJ\\ml-stock-sent\\.venv\\Lib\\site-packages\\sklearn\\linear_model\\_coordinate_descent.py:695: ConvergenceWarning: Objective did not converge. You might want to increase the number of iterations, check the scale of the features or consider increasing regularisation. Duality gap: 1.692e+02, tolerance: 3.880e-02\n",
      "  model = cd_fast.enet_coordinate_descent(\n",
      "D:\\IntelliJ\\ml-stock-sent\\.venv\\Lib\\site-packages\\sklearn\\linear_model\\_coordinate_descent.py:695: ConvergenceWarning: Objective did not converge. You might want to increase the number of iterations, check the scale of the features or consider increasing regularisation. Duality gap: 1.700e+02, tolerance: 3.880e-02\n",
      "  model = cd_fast.enet_coordinate_descent(\n",
      "D:\\IntelliJ\\ml-stock-sent\\.venv\\Lib\\site-packages\\sklearn\\linear_model\\_coordinate_descent.py:695: ConvergenceWarning: Objective did not converge. You might want to increase the number of iterations, check the scale of the features or consider increasing regularisation. Duality gap: 1.612e+02, tolerance: 3.880e-02\n",
      "  model = cd_fast.enet_coordinate_descent(\n",
      "D:\\IntelliJ\\ml-stock-sent\\.venv\\Lib\\site-packages\\sklearn\\linear_model\\_coordinate_descent.py:695: ConvergenceWarning: Objective did not converge. You might want to increase the number of iterations, check the scale of the features or consider increasing regularisation. Duality gap: 1.563e+02, tolerance: 3.880e-02\n",
      "  model = cd_fast.enet_coordinate_descent(\n",
      "D:\\IntelliJ\\ml-stock-sent\\.venv\\Lib\\site-packages\\sklearn\\linear_model\\_coordinate_descent.py:695: ConvergenceWarning: Objective did not converge. You might want to increase the number of iterations, check the scale of the features or consider increasing regularisation. Duality gap: 1.664e+02, tolerance: 3.880e-02\n",
      "  model = cd_fast.enet_coordinate_descent(\n",
      "D:\\IntelliJ\\ml-stock-sent\\.venv\\Lib\\site-packages\\sklearn\\linear_model\\_coordinate_descent.py:695: ConvergenceWarning: Objective did not converge. You might want to increase the number of iterations, check the scale of the features or consider increasing regularisation. Duality gap: 1.642e+02, tolerance: 3.880e-02\n",
      "  model = cd_fast.enet_coordinate_descent(\n",
      "D:\\IntelliJ\\ml-stock-sent\\.venv\\Lib\\site-packages\\sklearn\\linear_model\\_coordinate_descent.py:695: ConvergenceWarning: Objective did not converge. You might want to increase the number of iterations, check the scale of the features or consider increasing regularisation. Duality gap: 1.463e+02, tolerance: 3.880e-02\n",
      "  model = cd_fast.enet_coordinate_descent(\n",
      "D:\\IntelliJ\\ml-stock-sent\\.venv\\Lib\\site-packages\\sklearn\\linear_model\\_coordinate_descent.py:695: ConvergenceWarning: Objective did not converge. You might want to increase the number of iterations, check the scale of the features or consider increasing regularisation. Duality gap: 3.422e+02, tolerance: 7.740e-02\n",
      "  model = cd_fast.enet_coordinate_descent(\n",
      "D:\\IntelliJ\\ml-stock-sent\\.venv\\Lib\\site-packages\\sklearn\\linear_model\\_coordinate_descent.py:695: ConvergenceWarning: Objective did not converge. You might want to increase the number of iterations, check the scale of the features or consider increasing regularisation. Duality gap: 2.911e+02, tolerance: 7.740e-02\n",
      "  model = cd_fast.enet_coordinate_descent(\n",
      "D:\\IntelliJ\\ml-stock-sent\\.venv\\Lib\\site-packages\\sklearn\\linear_model\\_coordinate_descent.py:695: ConvergenceWarning: Objective did not converge. You might want to increase the number of iterations, check the scale of the features or consider increasing regularisation. Duality gap: 3.293e+02, tolerance: 7.740e-02\n",
      "  model = cd_fast.enet_coordinate_descent(\n",
      "D:\\IntelliJ\\ml-stock-sent\\.venv\\Lib\\site-packages\\sklearn\\linear_model\\_coordinate_descent.py:695: ConvergenceWarning: Objective did not converge. You might want to increase the number of iterations, check the scale of the features or consider increasing regularisation. Duality gap: 3.486e+02, tolerance: 7.740e-02\n",
      "  model = cd_fast.enet_coordinate_descent(\n",
      "D:\\IntelliJ\\ml-stock-sent\\.venv\\Lib\\site-packages\\sklearn\\linear_model\\_coordinate_descent.py:695: ConvergenceWarning: Objective did not converge. You might want to increase the number of iterations, check the scale of the features or consider increasing regularisation. Duality gap: 3.349e+02, tolerance: 7.740e-02\n",
      "  model = cd_fast.enet_coordinate_descent(\n",
      "D:\\IntelliJ\\ml-stock-sent\\.venv\\Lib\\site-packages\\sklearn\\linear_model\\_coordinate_descent.py:695: ConvergenceWarning: Objective did not converge. You might want to increase the number of iterations, check the scale of the features or consider increasing regularisation. Duality gap: 3.493e+02, tolerance: 7.740e-02\n",
      "  model = cd_fast.enet_coordinate_descent(\n",
      "D:\\IntelliJ\\ml-stock-sent\\.venv\\Lib\\site-packages\\sklearn\\linear_model\\_coordinate_descent.py:695: ConvergenceWarning: Objective did not converge. You might want to increase the number of iterations, check the scale of the features or consider increasing regularisation. Duality gap: 1.528e+02, tolerance: 7.740e-02\n",
      "  model = cd_fast.enet_coordinate_descent(\n",
      "D:\\IntelliJ\\ml-stock-sent\\.venv\\Lib\\site-packages\\sklearn\\linear_model\\_coordinate_descent.py:695: ConvergenceWarning: Objective did not converge. You might want to increase the number of iterations, check the scale of the features or consider increasing regularisation. Duality gap: 2.713e+02, tolerance: 7.740e-02\n",
      "  model = cd_fast.enet_coordinate_descent(\n",
      "D:\\IntelliJ\\ml-stock-sent\\.venv\\Lib\\site-packages\\sklearn\\linear_model\\_coordinate_descent.py:695: ConvergenceWarning: Objective did not converge. You might want to increase the number of iterations, check the scale of the features or consider increasing regularisation. Duality gap: 3.375e+02, tolerance: 7.740e-02\n",
      "  model = cd_fast.enet_coordinate_descent(\n",
      "D:\\IntelliJ\\ml-stock-sent\\.venv\\Lib\\site-packages\\sklearn\\linear_model\\_coordinate_descent.py:695: ConvergenceWarning: Objective did not converge. You might want to increase the number of iterations, check the scale of the features or consider increasing regularisation. Duality gap: 3.447e+02, tolerance: 7.740e-02\n",
      "  model = cd_fast.enet_coordinate_descent(\n",
      "D:\\IntelliJ\\ml-stock-sent\\.venv\\Lib\\site-packages\\sklearn\\linear_model\\_coordinate_descent.py:695: ConvergenceWarning: Objective did not converge. You might want to increase the number of iterations, check the scale of the features or consider increasing regularisation. Duality gap: 2.541e+02, tolerance: 7.740e-02\n",
      "  model = cd_fast.enet_coordinate_descent(\n",
      "D:\\IntelliJ\\ml-stock-sent\\.venv\\Lib\\site-packages\\sklearn\\linear_model\\_coordinate_descent.py:695: ConvergenceWarning: Objective did not converge. You might want to increase the number of iterations, check the scale of the features or consider increasing regularisation. Duality gap: 2.349e+02, tolerance: 7.740e-02\n",
      "  model = cd_fast.enet_coordinate_descent(\n",
      "D:\\IntelliJ\\ml-stock-sent\\.venv\\Lib\\site-packages\\sklearn\\linear_model\\_coordinate_descent.py:695: ConvergenceWarning: Objective did not converge. You might want to increase the number of iterations, check the scale of the features or consider increasing regularisation. Duality gap: 3.515e+02, tolerance: 7.740e-02\n",
      "  model = cd_fast.enet_coordinate_descent(\n",
      "D:\\IntelliJ\\ml-stock-sent\\.venv\\Lib\\site-packages\\sklearn\\linear_model\\_coordinate_descent.py:695: ConvergenceWarning: Objective did not converge. You might want to increase the number of iterations, check the scale of the features or consider increasing regularisation. Duality gap: 3.586e+02, tolerance: 7.740e-02\n",
      "  model = cd_fast.enet_coordinate_descent(\n",
      "D:\\IntelliJ\\ml-stock-sent\\.venv\\Lib\\site-packages\\sklearn\\linear_model\\_coordinate_descent.py:695: ConvergenceWarning: Objective did not converge. You might want to increase the number of iterations, check the scale of the features or consider increasing regularisation. Duality gap: 3.151e+02, tolerance: 7.740e-02\n",
      "  model = cd_fast.enet_coordinate_descent(\n",
      "D:\\IntelliJ\\ml-stock-sent\\.venv\\Lib\\site-packages\\sklearn\\linear_model\\_coordinate_descent.py:695: ConvergenceWarning: Objective did not converge. You might want to increase the number of iterations, check the scale of the features or consider increasing regularisation. Duality gap: 3.482e+02, tolerance: 7.740e-02\n",
      "  model = cd_fast.enet_coordinate_descent(\n",
      "D:\\IntelliJ\\ml-stock-sent\\.venv\\Lib\\site-packages\\sklearn\\linear_model\\_coordinate_descent.py:695: ConvergenceWarning: Objective did not converge. You might want to increase the number of iterations, check the scale of the features or consider increasing regularisation. Duality gap: 3.559e+02, tolerance: 7.740e-02\n",
      "  model = cd_fast.enet_coordinate_descent(\n",
      "D:\\IntelliJ\\ml-stock-sent\\.venv\\Lib\\site-packages\\sklearn\\linear_model\\_coordinate_descent.py:695: ConvergenceWarning: Objective did not converge. You might want to increase the number of iterations, check the scale of the features or consider increasing regularisation. Duality gap: 3.196e+02, tolerance: 7.740e-02\n",
      "  model = cd_fast.enet_coordinate_descent(\n",
      "D:\\IntelliJ\\ml-stock-sent\\.venv\\Lib\\site-packages\\sklearn\\linear_model\\_coordinate_descent.py:695: ConvergenceWarning: Objective did not converge. You might want to increase the number of iterations, check the scale of the features or consider increasing regularisation. Duality gap: 1.586e+02, tolerance: 7.740e-02\n",
      "  model = cd_fast.enet_coordinate_descent(\n",
      "D:\\IntelliJ\\ml-stock-sent\\.venv\\Lib\\site-packages\\sklearn\\linear_model\\_coordinate_descent.py:695: ConvergenceWarning: Objective did not converge. You might want to increase the number of iterations, check the scale of the features or consider increasing regularisation. Duality gap: 3.559e+02, tolerance: 7.740e-02\n",
      "  model = cd_fast.enet_coordinate_descent(\n",
      "D:\\IntelliJ\\ml-stock-sent\\.venv\\Lib\\site-packages\\sklearn\\linear_model\\_coordinate_descent.py:695: ConvergenceWarning: Objective did not converge. You might want to increase the number of iterations, check the scale of the features or consider increasing regularisation. Duality gap: 3.156e+02, tolerance: 7.740e-02\n",
      "  model = cd_fast.enet_coordinate_descent(\n",
      "D:\\IntelliJ\\ml-stock-sent\\.venv\\Lib\\site-packages\\sklearn\\linear_model\\_coordinate_descent.py:695: ConvergenceWarning: Objective did not converge. You might want to increase the number of iterations, check the scale of the features or consider increasing regularisation. Duality gap: 3.346e+02, tolerance: 7.740e-02\n",
      "  model = cd_fast.enet_coordinate_descent(\n",
      "D:\\IntelliJ\\ml-stock-sent\\.venv\\Lib\\site-packages\\sklearn\\linear_model\\_coordinate_descent.py:695: ConvergenceWarning: Objective did not converge. You might want to increase the number of iterations, check the scale of the features or consider increasing regularisation. Duality gap: 1.161e+02, tolerance: 7.740e-02\n",
      "  model = cd_fast.enet_coordinate_descent(\n",
      "D:\\IntelliJ\\ml-stock-sent\\.venv\\Lib\\site-packages\\sklearn\\linear_model\\_coordinate_descent.py:695: ConvergenceWarning: Objective did not converge. You might want to increase the number of iterations, check the scale of the features or consider increasing regularisation. Duality gap: 3.457e+02, tolerance: 7.740e-02\n",
      "  model = cd_fast.enet_coordinate_descent(\n",
      "D:\\IntelliJ\\ml-stock-sent\\.venv\\Lib\\site-packages\\sklearn\\linear_model\\_coordinate_descent.py:695: ConvergenceWarning: Objective did not converge. You might want to increase the number of iterations, check the scale of the features or consider increasing regularisation. Duality gap: 3.500e+02, tolerance: 7.740e-02\n",
      "  model = cd_fast.enet_coordinate_descent(\n",
      "D:\\IntelliJ\\ml-stock-sent\\.venv\\Lib\\site-packages\\sklearn\\linear_model\\_coordinate_descent.py:695: ConvergenceWarning: Objective did not converge. You might want to increase the number of iterations, check the scale of the features or consider increasing regularisation. Duality gap: 3.205e+02, tolerance: 7.740e-02\n",
      "  model = cd_fast.enet_coordinate_descent(\n",
      "D:\\IntelliJ\\ml-stock-sent\\.venv\\Lib\\site-packages\\sklearn\\linear_model\\_coordinate_descent.py:695: ConvergenceWarning: Objective did not converge. You might want to increase the number of iterations, check the scale of the features or consider increasing regularisation. Duality gap: 1.350e+02, tolerance: 7.740e-02\n",
      "  model = cd_fast.enet_coordinate_descent(\n",
      "D:\\IntelliJ\\ml-stock-sent\\.venv\\Lib\\site-packages\\sklearn\\linear_model\\_coordinate_descent.py:695: ConvergenceWarning: Objective did not converge. You might want to increase the number of iterations, check the scale of the features or consider increasing regularisation. Duality gap: 3.424e+02, tolerance: 7.740e-02\n",
      "  model = cd_fast.enet_coordinate_descent(\n",
      "D:\\IntelliJ\\ml-stock-sent\\.venv\\Lib\\site-packages\\sklearn\\linear_model\\_coordinate_descent.py:695: ConvergenceWarning: Objective did not converge. You might want to increase the number of iterations, check the scale of the features or consider increasing regularisation. Duality gap: 3.412e+02, tolerance: 7.740e-02\n",
      "  model = cd_fast.enet_coordinate_descent(\n",
      "D:\\IntelliJ\\ml-stock-sent\\.venv\\Lib\\site-packages\\sklearn\\linear_model\\_coordinate_descent.py:695: ConvergenceWarning: Objective did not converge. You might want to increase the number of iterations, check the scale of the features or consider increasing regularisation. Duality gap: 3.053e+02, tolerance: 7.740e-02\n",
      "  model = cd_fast.enet_coordinate_descent(\n",
      "[I 2025-08-22 18:51:05,172] Trial 8 pruned. \n",
      "D:\\IntelliJ\\ml-stock-sent\\.venv\\Lib\\site-packages\\sklearn\\linear_model\\_coordinate_descent.py:695: ConvergenceWarning: Objective did not converge. You might want to increase the number of iterations, check the scale of the features or consider increasing regularisation. Duality gap: 3.206e+01, tolerance: 3.880e-02\n",
      "  model = cd_fast.enet_coordinate_descent(\n",
      "D:\\IntelliJ\\ml-stock-sent\\.venv\\Lib\\site-packages\\sklearn\\linear_model\\_coordinate_descent.py:695: ConvergenceWarning: Objective did not converge. You might want to increase the number of iterations, check the scale of the features or consider increasing regularisation. Duality gap: 3.582e+00, tolerance: 3.880e-02\n",
      "  model = cd_fast.enet_coordinate_descent(\n",
      "D:\\IntelliJ\\ml-stock-sent\\.venv\\Lib\\site-packages\\sklearn\\linear_model\\_coordinate_descent.py:695: ConvergenceWarning: Objective did not converge. You might want to increase the number of iterations, check the scale of the features or consider increasing regularisation. Duality gap: 1.842e+01, tolerance: 3.880e-02\n",
      "  model = cd_fast.enet_coordinate_descent(\n",
      "D:\\IntelliJ\\ml-stock-sent\\.venv\\Lib\\site-packages\\sklearn\\linear_model\\_coordinate_descent.py:695: ConvergenceWarning: Objective did not converge. You might want to increase the number of iterations, check the scale of the features or consider increasing regularisation. Duality gap: 6.956e+00, tolerance: 3.880e-02\n",
      "  model = cd_fast.enet_coordinate_descent(\n",
      "D:\\IntelliJ\\ml-stock-sent\\.venv\\Lib\\site-packages\\sklearn\\linear_model\\_coordinate_descent.py:695: ConvergenceWarning: Objective did not converge. You might want to increase the number of iterations, check the scale of the features or consider increasing regularisation. Duality gap: 2.146e+01, tolerance: 3.880e-02\n",
      "  model = cd_fast.enet_coordinate_descent(\n",
      "D:\\IntelliJ\\ml-stock-sent\\.venv\\Lib\\site-packages\\sklearn\\linear_model\\_coordinate_descent.py:695: ConvergenceWarning: Objective did not converge. You might want to increase the number of iterations, check the scale of the features or consider increasing regularisation. Duality gap: 2.492e+01, tolerance: 3.880e-02\n",
      "  model = cd_fast.enet_coordinate_descent(\n",
      "D:\\IntelliJ\\ml-stock-sent\\.venv\\Lib\\site-packages\\sklearn\\linear_model\\_coordinate_descent.py:695: ConvergenceWarning: Objective did not converge. You might want to increase the number of iterations, check the scale of the features or consider increasing regularisation. Duality gap: 3.373e+01, tolerance: 3.880e-02\n",
      "  model = cd_fast.enet_coordinate_descent(\n",
      "D:\\IntelliJ\\ml-stock-sent\\.venv\\Lib\\site-packages\\sklearn\\linear_model\\_coordinate_descent.py:695: ConvergenceWarning: Objective did not converge. You might want to increase the number of iterations, check the scale of the features or consider increasing regularisation. Duality gap: 5.602e+01, tolerance: 3.880e-02\n",
      "  model = cd_fast.enet_coordinate_descent(\n",
      "D:\\IntelliJ\\ml-stock-sent\\.venv\\Lib\\site-packages\\sklearn\\linear_model\\_coordinate_descent.py:695: ConvergenceWarning: Objective did not converge. You might want to increase the number of iterations, check the scale of the features or consider increasing regularisation. Duality gap: 3.005e+01, tolerance: 3.880e-02\n",
      "  model = cd_fast.enet_coordinate_descent(\n",
      "D:\\IntelliJ\\ml-stock-sent\\.venv\\Lib\\site-packages\\sklearn\\linear_model\\_coordinate_descent.py:695: ConvergenceWarning: Objective did not converge. You might want to increase the number of iterations, check the scale of the features or consider increasing regularisation. Duality gap: 4.016e+00, tolerance: 3.880e-02\n",
      "  model = cd_fast.enet_coordinate_descent(\n",
      "D:\\IntelliJ\\ml-stock-sent\\.venv\\Lib\\site-packages\\sklearn\\linear_model\\_coordinate_descent.py:695: ConvergenceWarning: Objective did not converge. You might want to increase the number of iterations, check the scale of the features or consider increasing regularisation. Duality gap: 4.462e+01, tolerance: 3.880e-02\n",
      "  model = cd_fast.enet_coordinate_descent(\n",
      "D:\\IntelliJ\\ml-stock-sent\\.venv\\Lib\\site-packages\\sklearn\\linear_model\\_coordinate_descent.py:695: ConvergenceWarning: Objective did not converge. You might want to increase the number of iterations, check the scale of the features or consider increasing regularisation. Duality gap: 8.039e+01, tolerance: 3.880e-02\n",
      "  model = cd_fast.enet_coordinate_descent(\n",
      "D:\\IntelliJ\\ml-stock-sent\\.venv\\Lib\\site-packages\\sklearn\\linear_model\\_coordinate_descent.py:695: ConvergenceWarning: Objective did not converge. You might want to increase the number of iterations, check the scale of the features or consider increasing regularisation. Duality gap: 2.430e-01, tolerance: 3.880e-02\n",
      "  model = cd_fast.enet_coordinate_descent(\n",
      "D:\\IntelliJ\\ml-stock-sent\\.venv\\Lib\\site-packages\\sklearn\\linear_model\\_coordinate_descent.py:695: ConvergenceWarning: Objective did not converge. You might want to increase the number of iterations, check the scale of the features or consider increasing regularisation. Duality gap: 2.826e-01, tolerance: 3.880e-02\n",
      "  model = cd_fast.enet_coordinate_descent(\n",
      "D:\\IntelliJ\\ml-stock-sent\\.venv\\Lib\\site-packages\\sklearn\\linear_model\\_coordinate_descent.py:695: ConvergenceWarning: Objective did not converge. You might want to increase the number of iterations, check the scale of the features or consider increasing regularisation. Duality gap: 6.639e-01, tolerance: 3.880e-02\n",
      "  model = cd_fast.enet_coordinate_descent(\n",
      "D:\\IntelliJ\\ml-stock-sent\\.venv\\Lib\\site-packages\\sklearn\\linear_model\\_coordinate_descent.py:695: ConvergenceWarning: Objective did not converge. You might want to increase the number of iterations, check the scale of the features or consider increasing regularisation. Duality gap: 1.585e+01, tolerance: 3.880e-02\n",
      "  model = cd_fast.enet_coordinate_descent(\n",
      "D:\\IntelliJ\\ml-stock-sent\\.venv\\Lib\\site-packages\\sklearn\\linear_model\\_coordinate_descent.py:695: ConvergenceWarning: Objective did not converge. You might want to increase the number of iterations, check the scale of the features or consider increasing regularisation. Duality gap: 3.477e+01, tolerance: 3.880e-02\n",
      "  model = cd_fast.enet_coordinate_descent(\n",
      "D:\\IntelliJ\\ml-stock-sent\\.venv\\Lib\\site-packages\\sklearn\\linear_model\\_coordinate_descent.py:695: ConvergenceWarning: Objective did not converge. You might want to increase the number of iterations, check the scale of the features or consider increasing regularisation. Duality gap: 1.836e+00, tolerance: 3.880e-02\n",
      "  model = cd_fast.enet_coordinate_descent(\n",
      "D:\\IntelliJ\\ml-stock-sent\\.venv\\Lib\\site-packages\\sklearn\\linear_model\\_coordinate_descent.py:695: ConvergenceWarning: Objective did not converge. You might want to increase the number of iterations, check the scale of the features or consider increasing regularisation. Duality gap: 3.352e+00, tolerance: 3.880e-02\n",
      "  model = cd_fast.enet_coordinate_descent(\n",
      "D:\\IntelliJ\\ml-stock-sent\\.venv\\Lib\\site-packages\\sklearn\\linear_model\\_coordinate_descent.py:695: ConvergenceWarning: Objective did not converge. You might want to increase the number of iterations, check the scale of the features or consider increasing regularisation. Duality gap: 1.363e+01, tolerance: 3.880e-02\n",
      "  model = cd_fast.enet_coordinate_descent(\n",
      "D:\\IntelliJ\\ml-stock-sent\\.venv\\Lib\\site-packages\\sklearn\\linear_model\\_coordinate_descent.py:695: ConvergenceWarning: Objective did not converge. You might want to increase the number of iterations, check the scale of the features or consider increasing regularisation. Duality gap: 2.809e-01, tolerance: 3.880e-02\n",
      "  model = cd_fast.enet_coordinate_descent(\n",
      "D:\\IntelliJ\\ml-stock-sent\\.venv\\Lib\\site-packages\\sklearn\\linear_model\\_coordinate_descent.py:695: ConvergenceWarning: Objective did not converge. You might want to increase the number of iterations, check the scale of the features or consider increasing regularisation. Duality gap: 3.569e+01, tolerance: 7.740e-02\n",
      "  model = cd_fast.enet_coordinate_descent(\n",
      "D:\\IntelliJ\\ml-stock-sent\\.venv\\Lib\\site-packages\\sklearn\\linear_model\\_coordinate_descent.py:695: ConvergenceWarning: Objective did not converge. You might want to increase the number of iterations, check the scale of the features or consider increasing regularisation. Duality gap: 8.983e-01, tolerance: 7.740e-02\n",
      "  model = cd_fast.enet_coordinate_descent(\n",
      "D:\\IntelliJ\\ml-stock-sent\\.venv\\Lib\\site-packages\\sklearn\\linear_model\\_coordinate_descent.py:695: ConvergenceWarning: Objective did not converge. You might want to increase the number of iterations, check the scale of the features or consider increasing regularisation. Duality gap: 2.606e+00, tolerance: 7.740e-02\n",
      "  model = cd_fast.enet_coordinate_descent(\n",
      "D:\\IntelliJ\\ml-stock-sent\\.venv\\Lib\\site-packages\\sklearn\\linear_model\\_coordinate_descent.py:695: ConvergenceWarning: Objective did not converge. You might want to increase the number of iterations, check the scale of the features or consider increasing regularisation. Duality gap: 3.322e+01, tolerance: 7.740e-02\n",
      "  model = cd_fast.enet_coordinate_descent(\n",
      "D:\\IntelliJ\\ml-stock-sent\\.venv\\Lib\\site-packages\\sklearn\\linear_model\\_coordinate_descent.py:695: ConvergenceWarning: Objective did not converge. You might want to increase the number of iterations, check the scale of the features or consider increasing regularisation. Duality gap: 4.186e+01, tolerance: 7.740e-02\n",
      "  model = cd_fast.enet_coordinate_descent(\n",
      "D:\\IntelliJ\\ml-stock-sent\\.venv\\Lib\\site-packages\\sklearn\\linear_model\\_coordinate_descent.py:695: ConvergenceWarning: Objective did not converge. You might want to increase the number of iterations, check the scale of the features or consider increasing regularisation. Duality gap: 1.310e+01, tolerance: 7.740e-02\n",
      "  model = cd_fast.enet_coordinate_descent(\n",
      "D:\\IntelliJ\\ml-stock-sent\\.venv\\Lib\\site-packages\\sklearn\\linear_model\\_coordinate_descent.py:695: ConvergenceWarning: Objective did not converge. You might want to increase the number of iterations, check the scale of the features or consider increasing regularisation. Duality gap: 1.739e+01, tolerance: 7.740e-02\n",
      "  model = cd_fast.enet_coordinate_descent(\n",
      "D:\\IntelliJ\\ml-stock-sent\\.venv\\Lib\\site-packages\\sklearn\\linear_model\\_coordinate_descent.py:695: ConvergenceWarning: Objective did not converge. You might want to increase the number of iterations, check the scale of the features or consider increasing regularisation. Duality gap: 6.965e+01, tolerance: 7.740e-02\n",
      "  model = cd_fast.enet_coordinate_descent(\n",
      "D:\\IntelliJ\\ml-stock-sent\\.venv\\Lib\\site-packages\\sklearn\\linear_model\\_coordinate_descent.py:695: ConvergenceWarning: Objective did not converge. You might want to increase the number of iterations, check the scale of the features or consider increasing regularisation. Duality gap: 1.077e+02, tolerance: 7.740e-02\n",
      "  model = cd_fast.enet_coordinate_descent(\n",
      "D:\\IntelliJ\\ml-stock-sent\\.venv\\Lib\\site-packages\\sklearn\\linear_model\\_coordinate_descent.py:695: ConvergenceWarning: Objective did not converge. You might want to increase the number of iterations, check the scale of the features or consider increasing regularisation. Duality gap: 8.375e+00, tolerance: 7.740e-02\n",
      "  model = cd_fast.enet_coordinate_descent(\n",
      "D:\\IntelliJ\\ml-stock-sent\\.venv\\Lib\\site-packages\\sklearn\\linear_model\\_coordinate_descent.py:695: ConvergenceWarning: Objective did not converge. You might want to increase the number of iterations, check the scale of the features or consider increasing regularisation. Duality gap: 6.800e+01, tolerance: 7.740e-02\n",
      "  model = cd_fast.enet_coordinate_descent(\n",
      "D:\\IntelliJ\\ml-stock-sent\\.venv\\Lib\\site-packages\\sklearn\\linear_model\\_coordinate_descent.py:695: ConvergenceWarning: Objective did not converge. You might want to increase the number of iterations, check the scale of the features or consider increasing regularisation. Duality gap: 7.717e+01, tolerance: 7.740e-02\n",
      "  model = cd_fast.enet_coordinate_descent(\n",
      "D:\\IntelliJ\\ml-stock-sent\\.venv\\Lib\\site-packages\\sklearn\\linear_model\\_coordinate_descent.py:695: ConvergenceWarning: Objective did not converge. You might want to increase the number of iterations, check the scale of the features or consider increasing regularisation. Duality gap: 1.111e+01, tolerance: 7.740e-02\n",
      "  model = cd_fast.enet_coordinate_descent(\n",
      "D:\\IntelliJ\\ml-stock-sent\\.venv\\Lib\\site-packages\\sklearn\\linear_model\\_coordinate_descent.py:695: ConvergenceWarning: Objective did not converge. You might want to increase the number of iterations, check the scale of the features or consider increasing regularisation. Duality gap: 4.261e-01, tolerance: 7.740e-02\n",
      "  model = cd_fast.enet_coordinate_descent(\n",
      "D:\\IntelliJ\\ml-stock-sent\\.venv\\Lib\\site-packages\\sklearn\\linear_model\\_coordinate_descent.py:695: ConvergenceWarning: Objective did not converge. You might want to increase the number of iterations, check the scale of the features or consider increasing regularisation. Duality gap: 9.521e+01, tolerance: 7.740e-02\n",
      "  model = cd_fast.enet_coordinate_descent(\n",
      "D:\\IntelliJ\\ml-stock-sent\\.venv\\Lib\\site-packages\\sklearn\\linear_model\\_coordinate_descent.py:695: ConvergenceWarning: Objective did not converge. You might want to increase the number of iterations, check the scale of the features or consider increasing regularisation. Duality gap: 7.246e+00, tolerance: 7.740e-02\n",
      "  model = cd_fast.enet_coordinate_descent(\n",
      "D:\\IntelliJ\\ml-stock-sent\\.venv\\Lib\\site-packages\\sklearn\\linear_model\\_coordinate_descent.py:695: ConvergenceWarning: Objective did not converge. You might want to increase the number of iterations, check the scale of the features or consider increasing regularisation. Duality gap: 2.194e+01, tolerance: 7.740e-02\n",
      "  model = cd_fast.enet_coordinate_descent(\n",
      "D:\\IntelliJ\\ml-stock-sent\\.venv\\Lib\\site-packages\\sklearn\\linear_model\\_coordinate_descent.py:695: ConvergenceWarning: Objective did not converge. You might want to increase the number of iterations, check the scale of the features or consider increasing regularisation. Duality gap: 5.329e+00, tolerance: 7.740e-02\n",
      "  model = cd_fast.enet_coordinate_descent(\n",
      "D:\\IntelliJ\\ml-stock-sent\\.venv\\Lib\\site-packages\\sklearn\\linear_model\\_coordinate_descent.py:695: ConvergenceWarning: Objective did not converge. You might want to increase the number of iterations, check the scale of the features or consider increasing regularisation. Duality gap: 6.023e+01, tolerance: 7.740e-02\n",
      "  model = cd_fast.enet_coordinate_descent(\n",
      "D:\\IntelliJ\\ml-stock-sent\\.venv\\Lib\\site-packages\\sklearn\\linear_model\\_coordinate_descent.py:695: ConvergenceWarning: Objective did not converge. You might want to increase the number of iterations, check the scale of the features or consider increasing regularisation. Duality gap: 1.656e+01, tolerance: 7.740e-02\n",
      "  model = cd_fast.enet_coordinate_descent(\n",
      "D:\\IntelliJ\\ml-stock-sent\\.venv\\Lib\\site-packages\\sklearn\\linear_model\\_coordinate_descent.py:695: ConvergenceWarning: Objective did not converge. You might want to increase the number of iterations, check the scale of the features or consider increasing regularisation. Duality gap: 2.931e+01, tolerance: 7.740e-02\n",
      "  model = cd_fast.enet_coordinate_descent(\n",
      "D:\\IntelliJ\\ml-stock-sent\\.venv\\Lib\\site-packages\\sklearn\\linear_model\\_coordinate_descent.py:695: ConvergenceWarning: Objective did not converge. You might want to increase the number of iterations, check the scale of the features or consider increasing regularisation. Duality gap: 1.379e+00, tolerance: 1.160e-01\n",
      "  model = cd_fast.enet_coordinate_descent(\n",
      "D:\\IntelliJ\\ml-stock-sent\\.venv\\Lib\\site-packages\\sklearn\\linear_model\\_coordinate_descent.py:695: ConvergenceWarning: Objective did not converge. You might want to increase the number of iterations, check the scale of the features or consider increasing regularisation. Duality gap: 4.511e+01, tolerance: 1.160e-01\n",
      "  model = cd_fast.enet_coordinate_descent(\n",
      "D:\\IntelliJ\\ml-stock-sent\\.venv\\Lib\\site-packages\\sklearn\\linear_model\\_coordinate_descent.py:695: ConvergenceWarning: Objective did not converge. You might want to increase the number of iterations, check the scale of the features or consider increasing regularisation. Duality gap: 3.578e+01, tolerance: 1.160e-01\n",
      "  model = cd_fast.enet_coordinate_descent(\n",
      "D:\\IntelliJ\\ml-stock-sent\\.venv\\Lib\\site-packages\\sklearn\\linear_model\\_coordinate_descent.py:695: ConvergenceWarning: Objective did not converge. You might want to increase the number of iterations, check the scale of the features or consider increasing regularisation. Duality gap: 5.988e+01, tolerance: 1.160e-01\n",
      "  model = cd_fast.enet_coordinate_descent(\n",
      "D:\\IntelliJ\\ml-stock-sent\\.venv\\Lib\\site-packages\\sklearn\\linear_model\\_coordinate_descent.py:695: ConvergenceWarning: Objective did not converge. You might want to increase the number of iterations, check the scale of the features or consider increasing regularisation. Duality gap: 1.343e+00, tolerance: 1.160e-01\n",
      "  model = cd_fast.enet_coordinate_descent(\n",
      "D:\\IntelliJ\\ml-stock-sent\\.venv\\Lib\\site-packages\\sklearn\\linear_model\\_coordinate_descent.py:695: ConvergenceWarning: Objective did not converge. You might want to increase the number of iterations, check the scale of the features or consider increasing regularisation. Duality gap: 4.655e+01, tolerance: 1.160e-01\n",
      "  model = cd_fast.enet_coordinate_descent(\n",
      "D:\\IntelliJ\\ml-stock-sent\\.venv\\Lib\\site-packages\\sklearn\\linear_model\\_coordinate_descent.py:695: ConvergenceWarning: Objective did not converge. You might want to increase the number of iterations, check the scale of the features or consider increasing regularisation. Duality gap: 8.133e+01, tolerance: 1.160e-01\n",
      "  model = cd_fast.enet_coordinate_descent(\n",
      "D:\\IntelliJ\\ml-stock-sent\\.venv\\Lib\\site-packages\\sklearn\\linear_model\\_coordinate_descent.py:695: ConvergenceWarning: Objective did not converge. You might want to increase the number of iterations, check the scale of the features or consider increasing regularisation. Duality gap: 1.274e+02, tolerance: 1.160e-01\n",
      "  model = cd_fast.enet_coordinate_descent(\n",
      "D:\\IntelliJ\\ml-stock-sent\\.venv\\Lib\\site-packages\\sklearn\\linear_model\\_coordinate_descent.py:695: ConvergenceWarning: Objective did not converge. You might want to increase the number of iterations, check the scale of the features or consider increasing regularisation. Duality gap: 2.081e+00, tolerance: 1.160e-01\n",
      "  model = cd_fast.enet_coordinate_descent(\n",
      "D:\\IntelliJ\\ml-stock-sent\\.venv\\Lib\\site-packages\\sklearn\\linear_model\\_coordinate_descent.py:695: ConvergenceWarning: Objective did not converge. You might want to increase the number of iterations, check the scale of the features or consider increasing regularisation. Duality gap: 9.733e+01, tolerance: 1.160e-01\n",
      "  model = cd_fast.enet_coordinate_descent(\n",
      "D:\\IntelliJ\\ml-stock-sent\\.venv\\Lib\\site-packages\\sklearn\\linear_model\\_coordinate_descent.py:695: ConvergenceWarning: Objective did not converge. You might want to increase the number of iterations, check the scale of the features or consider increasing regularisation. Duality gap: 1.039e+02, tolerance: 1.160e-01\n",
      "  model = cd_fast.enet_coordinate_descent(\n",
      "D:\\IntelliJ\\ml-stock-sent\\.venv\\Lib\\site-packages\\sklearn\\linear_model\\_coordinate_descent.py:695: ConvergenceWarning: Objective did not converge. You might want to increase the number of iterations, check the scale of the features or consider increasing regularisation. Duality gap: 2.102e+01, tolerance: 1.160e-01\n",
      "  model = cd_fast.enet_coordinate_descent(\n",
      "D:\\IntelliJ\\ml-stock-sent\\.venv\\Lib\\site-packages\\sklearn\\linear_model\\_coordinate_descent.py:695: ConvergenceWarning: Objective did not converge. You might want to increase the number of iterations, check the scale of the features or consider increasing regularisation. Duality gap: 1.076e+02, tolerance: 1.160e-01\n",
      "  model = cd_fast.enet_coordinate_descent(\n",
      "D:\\IntelliJ\\ml-stock-sent\\.venv\\Lib\\site-packages\\sklearn\\linear_model\\_coordinate_descent.py:695: ConvergenceWarning: Objective did not converge. You might want to increase the number of iterations, check the scale of the features or consider increasing regularisation. Duality gap: 2.364e+00, tolerance: 1.160e-01\n",
      "  model = cd_fast.enet_coordinate_descent(\n",
      "D:\\IntelliJ\\ml-stock-sent\\.venv\\Lib\\site-packages\\sklearn\\linear_model\\_coordinate_descent.py:695: ConvergenceWarning: Objective did not converge. You might want to increase the number of iterations, check the scale of the features or consider increasing regularisation. Duality gap: 4.790e+00, tolerance: 1.160e-01\n",
      "  model = cd_fast.enet_coordinate_descent(\n",
      "D:\\IntelliJ\\ml-stock-sent\\.venv\\Lib\\site-packages\\sklearn\\linear_model\\_coordinate_descent.py:695: ConvergenceWarning: Objective did not converge. You might want to increase the number of iterations, check the scale of the features or consider increasing regularisation. Duality gap: 3.683e+01, tolerance: 1.160e-01\n",
      "  model = cd_fast.enet_coordinate_descent(\n",
      "D:\\IntelliJ\\ml-stock-sent\\.venv\\Lib\\site-packages\\sklearn\\linear_model\\_coordinate_descent.py:695: ConvergenceWarning: Objective did not converge. You might want to increase the number of iterations, check the scale of the features or consider increasing regularisation. Duality gap: 1.345e+01, tolerance: 1.160e-01\n",
      "  model = cd_fast.enet_coordinate_descent(\n",
      "D:\\IntelliJ\\ml-stock-sent\\.venv\\Lib\\site-packages\\sklearn\\linear_model\\_coordinate_descent.py:695: ConvergenceWarning: Objective did not converge. You might want to increase the number of iterations, check the scale of the features or consider increasing regularisation. Duality gap: 1.017e+01, tolerance: 1.160e-01\n",
      "  model = cd_fast.enet_coordinate_descent(\n",
      "D:\\IntelliJ\\ml-stock-sent\\.venv\\Lib\\site-packages\\sklearn\\linear_model\\_coordinate_descent.py:695: ConvergenceWarning: Objective did not converge. You might want to increase the number of iterations, check the scale of the features or consider increasing regularisation. Duality gap: 4.005e+01, tolerance: 1.160e-01\n",
      "  model = cd_fast.enet_coordinate_descent(\n",
      "D:\\IntelliJ\\ml-stock-sent\\.venv\\Lib\\site-packages\\sklearn\\linear_model\\_coordinate_descent.py:695: ConvergenceWarning: Objective did not converge. You might want to increase the number of iterations, check the scale of the features or consider increasing regularisation. Duality gap: 4.702e+01, tolerance: 1.160e-01\n",
      "  model = cd_fast.enet_coordinate_descent(\n",
      "[I 2025-08-22 18:51:05,565] Trial 9 finished with value: 0.00970796015612718 and parameters: {'alpha': 0.0009717775305059633, 'l1_ratio': 0.31171107608941095, 'selection': 'random', 'max_iter': 1500}. Best is trial 7 with value: 0.009655559109134576.\n",
      "[I 2025-08-22 18:51:05,653] Trial 10 finished with value: 0.009379369531052057 and parameters: {'alpha': 0.008497299964731178, 'l1_ratio': 0.6998750099215975, 'selection': 'random', 'max_iter': 3000}. Best is trial 10 with value: 0.009379369531052057.\n",
      "[I 2025-08-22 18:51:05,744] Trial 11 finished with value: 0.009367618460634683 and parameters: {'alpha': 0.008824147590799242, 'l1_ratio': 0.7079433547659902, 'selection': 'random', 'max_iter': 3000}. Best is trial 11 with value: 0.009367618460634683.\n",
      "[I 2025-08-22 18:51:05,830] Trial 12 finished with value: 0.009378749948528185 and parameters: {'alpha': 0.008139542321876818, 'l1_ratio': 0.738405544725021, 'selection': 'random', 'max_iter': 3500}. Best is trial 11 with value: 0.009367618460634683.\n",
      "[I 2025-08-22 18:51:05,925] Trial 13 finished with value: 0.00940139827298458 and parameters: {'alpha': 0.0074844192404758675, 'l1_ratio': 0.730352981378769, 'selection': 'random', 'max_iter': 4000}. Best is trial 11 with value: 0.009367618460634683.\n",
      "[I 2025-08-22 18:51:06,043] Trial 14 finished with value: 0.00956275317261747 and parameters: {'alpha': 0.003340905718018985, 'l1_ratio': 0.7271853834930091, 'selection': 'random', 'max_iter': 4000}. Best is trial 11 with value: 0.009367618460634683.\n",
      "D:\\IntelliJ\\ml-stock-sent\\.venv\\Lib\\site-packages\\sklearn\\linear_model\\_coordinate_descent.py:695: ConvergenceWarning: Objective did not converge. You might want to increase the number of iterations, check the scale of the features or consider increasing regularisation. Duality gap: 9.375e+01, tolerance: 3.880e-02\n",
      "  model = cd_fast.enet_coordinate_descent(\n",
      "D:\\IntelliJ\\ml-stock-sent\\.venv\\Lib\\site-packages\\sklearn\\linear_model\\_coordinate_descent.py:695: ConvergenceWarning: Objective did not converge. You might want to increase the number of iterations, check the scale of the features or consider increasing regularisation. Duality gap: 7.131e+00, tolerance: 3.880e-02\n",
      "  model = cd_fast.enet_coordinate_descent(\n",
      "D:\\IntelliJ\\ml-stock-sent\\.venv\\Lib\\site-packages\\sklearn\\linear_model\\_coordinate_descent.py:695: ConvergenceWarning: Objective did not converge. You might want to increase the number of iterations, check the scale of the features or consider increasing regularisation. Duality gap: 5.241e+01, tolerance: 3.880e-02\n",
      "  model = cd_fast.enet_coordinate_descent(\n",
      "D:\\IntelliJ\\ml-stock-sent\\.venv\\Lib\\site-packages\\sklearn\\linear_model\\_coordinate_descent.py:695: ConvergenceWarning: Objective did not converge. You might want to increase the number of iterations, check the scale of the features or consider increasing regularisation. Duality gap: 3.306e+01, tolerance: 3.880e-02\n",
      "  model = cd_fast.enet_coordinate_descent(\n",
      "D:\\IntelliJ\\ml-stock-sent\\.venv\\Lib\\site-packages\\sklearn\\linear_model\\_coordinate_descent.py:695: ConvergenceWarning: Objective did not converge. You might want to increase the number of iterations, check the scale of the features or consider increasing regularisation. Duality gap: 1.073e+01, tolerance: 3.880e-02\n",
      "  model = cd_fast.enet_coordinate_descent(\n",
      "D:\\IntelliJ\\ml-stock-sent\\.venv\\Lib\\site-packages\\sklearn\\linear_model\\_coordinate_descent.py:695: ConvergenceWarning: Objective did not converge. You might want to increase the number of iterations, check the scale of the features or consider increasing regularisation. Duality gap: 9.209e+01, tolerance: 3.880e-02\n",
      "  model = cd_fast.enet_coordinate_descent(\n",
      "D:\\IntelliJ\\ml-stock-sent\\.venv\\Lib\\site-packages\\sklearn\\linear_model\\_coordinate_descent.py:695: ConvergenceWarning: Objective did not converge. You might want to increase the number of iterations, check the scale of the features or consider increasing regularisation. Duality gap: 2.985e+01, tolerance: 3.880e-02\n",
      "  model = cd_fast.enet_coordinate_descent(\n",
      "D:\\IntelliJ\\ml-stock-sent\\.venv\\Lib\\site-packages\\sklearn\\linear_model\\_coordinate_descent.py:695: ConvergenceWarning: Objective did not converge. You might want to increase the number of iterations, check the scale of the features or consider increasing regularisation. Duality gap: 2.345e-01, tolerance: 3.880e-02\n",
      "  model = cd_fast.enet_coordinate_descent(\n",
      "D:\\IntelliJ\\ml-stock-sent\\.venv\\Lib\\site-packages\\sklearn\\linear_model\\_coordinate_descent.py:695: ConvergenceWarning: Objective did not converge. You might want to increase the number of iterations, check the scale of the features or consider increasing regularisation. Duality gap: 5.991e+01, tolerance: 3.880e-02\n",
      "  model = cd_fast.enet_coordinate_descent(\n",
      "D:\\IntelliJ\\ml-stock-sent\\.venv\\Lib\\site-packages\\sklearn\\linear_model\\_coordinate_descent.py:695: ConvergenceWarning: Objective did not converge. You might want to increase the number of iterations, check the scale of the features or consider increasing regularisation. Duality gap: 6.690e+01, tolerance: 3.880e-02\n",
      "  model = cd_fast.enet_coordinate_descent(\n",
      "D:\\IntelliJ\\ml-stock-sent\\.venv\\Lib\\site-packages\\sklearn\\linear_model\\_coordinate_descent.py:695: ConvergenceWarning: Objective did not converge. You might want to increase the number of iterations, check the scale of the features or consider increasing regularisation. Duality gap: 9.347e-01, tolerance: 3.880e-02\n",
      "  model = cd_fast.enet_coordinate_descent(\n",
      "D:\\IntelliJ\\ml-stock-sent\\.venv\\Lib\\site-packages\\sklearn\\linear_model\\_coordinate_descent.py:695: ConvergenceWarning: Objective did not converge. You might want to increase the number of iterations, check the scale of the features or consider increasing regularisation. Duality gap: 4.699e+00, tolerance: 3.880e-02\n",
      "  model = cd_fast.enet_coordinate_descent(\n",
      "D:\\IntelliJ\\ml-stock-sent\\.venv\\Lib\\site-packages\\sklearn\\linear_model\\_coordinate_descent.py:695: ConvergenceWarning: Objective did not converge. You might want to increase the number of iterations, check the scale of the features or consider increasing regularisation. Duality gap: 1.014e+02, tolerance: 3.880e-02\n",
      "  model = cd_fast.enet_coordinate_descent(\n",
      "D:\\IntelliJ\\ml-stock-sent\\.venv\\Lib\\site-packages\\sklearn\\linear_model\\_coordinate_descent.py:695: ConvergenceWarning: Objective did not converge. You might want to increase the number of iterations, check the scale of the features or consider increasing regularisation. Duality gap: 1.167e+02, tolerance: 3.880e-02\n",
      "  model = cd_fast.enet_coordinate_descent(\n",
      "D:\\IntelliJ\\ml-stock-sent\\.venv\\Lib\\site-packages\\sklearn\\linear_model\\_coordinate_descent.py:695: ConvergenceWarning: Objective did not converge. You might want to increase the number of iterations, check the scale of the features or consider increasing regularisation. Duality gap: 3.951e+00, tolerance: 3.880e-02\n",
      "  model = cd_fast.enet_coordinate_descent(\n",
      "D:\\IntelliJ\\ml-stock-sent\\.venv\\Lib\\site-packages\\sklearn\\linear_model\\_coordinate_descent.py:695: ConvergenceWarning: Objective did not converge. You might want to increase the number of iterations, check the scale of the features or consider increasing regularisation. Duality gap: 8.782e+01, tolerance: 3.880e-02\n",
      "  model = cd_fast.enet_coordinate_descent(\n",
      "D:\\IntelliJ\\ml-stock-sent\\.venv\\Lib\\site-packages\\sklearn\\linear_model\\_coordinate_descent.py:695: ConvergenceWarning: Objective did not converge. You might want to increase the number of iterations, check the scale of the features or consider increasing regularisation. Duality gap: 5.785e+01, tolerance: 3.880e-02\n",
      "  model = cd_fast.enet_coordinate_descent(\n",
      "D:\\IntelliJ\\ml-stock-sent\\.venv\\Lib\\site-packages\\sklearn\\linear_model\\_coordinate_descent.py:695: ConvergenceWarning: Objective did not converge. You might want to increase the number of iterations, check the scale of the features or consider increasing regularisation. Duality gap: 9.501e+01, tolerance: 3.880e-02\n",
      "  model = cd_fast.enet_coordinate_descent(\n",
      "D:\\IntelliJ\\ml-stock-sent\\.venv\\Lib\\site-packages\\sklearn\\linear_model\\_coordinate_descent.py:695: ConvergenceWarning: Objective did not converge. You might want to increase the number of iterations, check the scale of the features or consider increasing regularisation. Duality gap: 4.600e+01, tolerance: 3.880e-02\n",
      "  model = cd_fast.enet_coordinate_descent(\n",
      "D:\\IntelliJ\\ml-stock-sent\\.venv\\Lib\\site-packages\\sklearn\\linear_model\\_coordinate_descent.py:695: ConvergenceWarning: Objective did not converge. You might want to increase the number of iterations, check the scale of the features or consider increasing regularisation. Duality gap: 1.300e+02, tolerance: 3.880e-02\n",
      "  model = cd_fast.enet_coordinate_descent(\n",
      "D:\\IntelliJ\\ml-stock-sent\\.venv\\Lib\\site-packages\\sklearn\\linear_model\\_coordinate_descent.py:695: ConvergenceWarning: Objective did not converge. You might want to increase the number of iterations, check the scale of the features or consider increasing regularisation. Duality gap: 1.378e+01, tolerance: 3.880e-02\n",
      "  model = cd_fast.enet_coordinate_descent(\n",
      "D:\\IntelliJ\\ml-stock-sent\\.venv\\Lib\\site-packages\\sklearn\\linear_model\\_coordinate_descent.py:695: ConvergenceWarning: Objective did not converge. You might want to increase the number of iterations, check the scale of the features or consider increasing regularisation. Duality gap: 3.405e+01, tolerance: 3.880e-02\n",
      "  model = cd_fast.enet_coordinate_descent(\n",
      "D:\\IntelliJ\\ml-stock-sent\\.venv\\Lib\\site-packages\\sklearn\\linear_model\\_coordinate_descent.py:695: ConvergenceWarning: Objective did not converge. You might want to increase the number of iterations, check the scale of the features or consider increasing regularisation. Duality gap: 5.509e+01, tolerance: 3.880e-02\n",
      "  model = cd_fast.enet_coordinate_descent(\n",
      "D:\\IntelliJ\\ml-stock-sent\\.venv\\Lib\\site-packages\\sklearn\\linear_model\\_coordinate_descent.py:695: ConvergenceWarning: Objective did not converge. You might want to increase the number of iterations, check the scale of the features or consider increasing regularisation. Duality gap: 8.451e+01, tolerance: 3.880e-02\n",
      "  model = cd_fast.enet_coordinate_descent(\n",
      "D:\\IntelliJ\\ml-stock-sent\\.venv\\Lib\\site-packages\\sklearn\\linear_model\\_coordinate_descent.py:695: ConvergenceWarning: Objective did not converge. You might want to increase the number of iterations, check the scale of the features or consider increasing regularisation. Duality gap: 8.774e+01, tolerance: 3.880e-02\n",
      "  model = cd_fast.enet_coordinate_descent(\n",
      "D:\\IntelliJ\\ml-stock-sent\\.venv\\Lib\\site-packages\\sklearn\\linear_model\\_coordinate_descent.py:695: ConvergenceWarning: Objective did not converge. You might want to increase the number of iterations, check the scale of the features or consider increasing regularisation. Duality gap: 2.828e+01, tolerance: 3.880e-02\n",
      "  model = cd_fast.enet_coordinate_descent(\n",
      "D:\\IntelliJ\\ml-stock-sent\\.venv\\Lib\\site-packages\\sklearn\\linear_model\\_coordinate_descent.py:695: ConvergenceWarning: Objective did not converge. You might want to increase the number of iterations, check the scale of the features or consider increasing regularisation. Duality gap: 3.455e+01, tolerance: 3.880e-02\n",
      "  model = cd_fast.enet_coordinate_descent(\n",
      "D:\\IntelliJ\\ml-stock-sent\\.venv\\Lib\\site-packages\\sklearn\\linear_model\\_coordinate_descent.py:695: ConvergenceWarning: Objective did not converge. You might want to increase the number of iterations, check the scale of the features or consider increasing regularisation. Duality gap: 7.008e+01, tolerance: 3.880e-02\n",
      "  model = cd_fast.enet_coordinate_descent(\n",
      "D:\\IntelliJ\\ml-stock-sent\\.venv\\Lib\\site-packages\\sklearn\\linear_model\\_coordinate_descent.py:695: ConvergenceWarning: Objective did not converge. You might want to increase the number of iterations, check the scale of the features or consider increasing regularisation. Duality gap: 6.886e+01, tolerance: 3.880e-02\n",
      "  model = cd_fast.enet_coordinate_descent(\n",
      "D:\\IntelliJ\\ml-stock-sent\\.venv\\Lib\\site-packages\\sklearn\\linear_model\\_coordinate_descent.py:695: ConvergenceWarning: Objective did not converge. You might want to increase the number of iterations, check the scale of the features or consider increasing regularisation. Duality gap: 2.172e+01, tolerance: 3.880e-02\n",
      "  model = cd_fast.enet_coordinate_descent(\n",
      "D:\\IntelliJ\\ml-stock-sent\\.venv\\Lib\\site-packages\\sklearn\\linear_model\\_coordinate_descent.py:695: ConvergenceWarning: Objective did not converge. You might want to increase the number of iterations, check the scale of the features or consider increasing regularisation. Duality gap: 1.393e+02, tolerance: 7.740e-02\n",
      "  model = cd_fast.enet_coordinate_descent(\n",
      "D:\\IntelliJ\\ml-stock-sent\\.venv\\Lib\\site-packages\\sklearn\\linear_model\\_coordinate_descent.py:695: ConvergenceWarning: Objective did not converge. You might want to increase the number of iterations, check the scale of the features or consider increasing regularisation. Duality gap: 7.455e+01, tolerance: 7.740e-02\n",
      "  model = cd_fast.enet_coordinate_descent(\n",
      "D:\\IntelliJ\\ml-stock-sent\\.venv\\Lib\\site-packages\\sklearn\\linear_model\\_coordinate_descent.py:695: ConvergenceWarning: Objective did not converge. You might want to increase the number of iterations, check the scale of the features or consider increasing regularisation. Duality gap: 1.406e+02, tolerance: 7.740e-02\n",
      "  model = cd_fast.enet_coordinate_descent(\n",
      "D:\\IntelliJ\\ml-stock-sent\\.venv\\Lib\\site-packages\\sklearn\\linear_model\\_coordinate_descent.py:695: ConvergenceWarning: Objective did not converge. You might want to increase the number of iterations, check the scale of the features or consider increasing regularisation. Duality gap: 8.803e+01, tolerance: 7.740e-02\n",
      "  model = cd_fast.enet_coordinate_descent(\n",
      "D:\\IntelliJ\\ml-stock-sent\\.venv\\Lib\\site-packages\\sklearn\\linear_model\\_coordinate_descent.py:695: ConvergenceWarning: Objective did not converge. You might want to increase the number of iterations, check the scale of the features or consider increasing regularisation. Duality gap: 1.425e+02, tolerance: 7.740e-02\n",
      "  model = cd_fast.enet_coordinate_descent(\n",
      "D:\\IntelliJ\\ml-stock-sent\\.venv\\Lib\\site-packages\\sklearn\\linear_model\\_coordinate_descent.py:695: ConvergenceWarning: Objective did not converge. You might want to increase the number of iterations, check the scale of the features or consider increasing regularisation. Duality gap: 6.199e+00, tolerance: 7.740e-02\n",
      "  model = cd_fast.enet_coordinate_descent(\n",
      "D:\\IntelliJ\\ml-stock-sent\\.venv\\Lib\\site-packages\\sklearn\\linear_model\\_coordinate_descent.py:695: ConvergenceWarning: Objective did not converge. You might want to increase the number of iterations, check the scale of the features or consider increasing regularisation. Duality gap: 1.101e+02, tolerance: 7.740e-02\n",
      "  model = cd_fast.enet_coordinate_descent(\n",
      "D:\\IntelliJ\\ml-stock-sent\\.venv\\Lib\\site-packages\\sklearn\\linear_model\\_coordinate_descent.py:695: ConvergenceWarning: Objective did not converge. You might want to increase the number of iterations, check the scale of the features or consider increasing regularisation. Duality gap: 1.241e+02, tolerance: 7.740e-02\n",
      "  model = cd_fast.enet_coordinate_descent(\n",
      "D:\\IntelliJ\\ml-stock-sent\\.venv\\Lib\\site-packages\\sklearn\\linear_model\\_coordinate_descent.py:695: ConvergenceWarning: Objective did not converge. You might want to increase the number of iterations, check the scale of the features or consider increasing regularisation. Duality gap: 1.345e+01, tolerance: 7.740e-02\n",
      "  model = cd_fast.enet_coordinate_descent(\n",
      "D:\\IntelliJ\\ml-stock-sent\\.venv\\Lib\\site-packages\\sklearn\\linear_model\\_coordinate_descent.py:695: ConvergenceWarning: Objective did not converge. You might want to increase the number of iterations, check the scale of the features or consider increasing regularisation. Duality gap: 1.780e+02, tolerance: 7.740e-02\n",
      "  model = cd_fast.enet_coordinate_descent(\n",
      "D:\\IntelliJ\\ml-stock-sent\\.venv\\Lib\\site-packages\\sklearn\\linear_model\\_coordinate_descent.py:695: ConvergenceWarning: Objective did not converge. You might want to increase the number of iterations, check the scale of the features or consider increasing regularisation. Duality gap: 2.151e+02, tolerance: 7.740e-02\n",
      "  model = cd_fast.enet_coordinate_descent(\n",
      "D:\\IntelliJ\\ml-stock-sent\\.venv\\Lib\\site-packages\\sklearn\\linear_model\\_coordinate_descent.py:695: ConvergenceWarning: Objective did not converge. You might want to increase the number of iterations, check the scale of the features or consider increasing regularisation. Duality gap: 2.231e+01, tolerance: 7.740e-02\n",
      "  model = cd_fast.enet_coordinate_descent(\n",
      "D:\\IntelliJ\\ml-stock-sent\\.venv\\Lib\\site-packages\\sklearn\\linear_model\\_coordinate_descent.py:695: ConvergenceWarning: Objective did not converge. You might want to increase the number of iterations, check the scale of the features or consider increasing regularisation. Duality gap: 1.782e+02, tolerance: 7.740e-02\n",
      "  model = cd_fast.enet_coordinate_descent(\n",
      "D:\\IntelliJ\\ml-stock-sent\\.venv\\Lib\\site-packages\\sklearn\\linear_model\\_coordinate_descent.py:695: ConvergenceWarning: Objective did not converge. You might want to increase the number of iterations, check the scale of the features or consider increasing regularisation. Duality gap: 1.977e+02, tolerance: 7.740e-02\n",
      "  model = cd_fast.enet_coordinate_descent(\n",
      "D:\\IntelliJ\\ml-stock-sent\\.venv\\Lib\\site-packages\\sklearn\\linear_model\\_coordinate_descent.py:695: ConvergenceWarning: Objective did not converge. You might want to increase the number of iterations, check the scale of the features or consider increasing regularisation. Duality gap: 7.297e+01, tolerance: 7.740e-02\n",
      "  model = cd_fast.enet_coordinate_descent(\n",
      "D:\\IntelliJ\\ml-stock-sent\\.venv\\Lib\\site-packages\\sklearn\\linear_model\\_coordinate_descent.py:695: ConvergenceWarning: Objective did not converge. You might want to increase the number of iterations, check the scale of the features or consider increasing regularisation. Duality gap: 2.038e+02, tolerance: 7.740e-02\n",
      "  model = cd_fast.enet_coordinate_descent(\n",
      "D:\\IntelliJ\\ml-stock-sent\\.venv\\Lib\\site-packages\\sklearn\\linear_model\\_coordinate_descent.py:695: ConvergenceWarning: Objective did not converge. You might want to increase the number of iterations, check the scale of the features or consider increasing regularisation. Duality gap: 3.180e+01, tolerance: 7.740e-02\n",
      "  model = cd_fast.enet_coordinate_descent(\n",
      "D:\\IntelliJ\\ml-stock-sent\\.venv\\Lib\\site-packages\\sklearn\\linear_model\\_coordinate_descent.py:695: ConvergenceWarning: Objective did not converge. You might want to increase the number of iterations, check the scale of the features or consider increasing regularisation. Duality gap: 7.392e+01, tolerance: 7.740e-02\n",
      "  model = cd_fast.enet_coordinate_descent(\n",
      "D:\\IntelliJ\\ml-stock-sent\\.venv\\Lib\\site-packages\\sklearn\\linear_model\\_coordinate_descent.py:695: ConvergenceWarning: Objective did not converge. You might want to increase the number of iterations, check the scale of the features or consider increasing regularisation. Duality gap: 2.778e-01, tolerance: 7.740e-02\n",
      "  model = cd_fast.enet_coordinate_descent(\n",
      "D:\\IntelliJ\\ml-stock-sent\\.venv\\Lib\\site-packages\\sklearn\\linear_model\\_coordinate_descent.py:695: ConvergenceWarning: Objective did not converge. You might want to increase the number of iterations, check the scale of the features or consider increasing regularisation. Duality gap: 1.300e+02, tolerance: 7.740e-02\n",
      "  model = cd_fast.enet_coordinate_descent(\n",
      "D:\\IntelliJ\\ml-stock-sent\\.venv\\Lib\\site-packages\\sklearn\\linear_model\\_coordinate_descent.py:695: ConvergenceWarning: Objective did not converge. You might want to increase the number of iterations, check the scale of the features or consider increasing regularisation. Duality gap: 1.437e+02, tolerance: 7.740e-02\n",
      "  model = cd_fast.enet_coordinate_descent(\n",
      "D:\\IntelliJ\\ml-stock-sent\\.venv\\Lib\\site-packages\\sklearn\\linear_model\\_coordinate_descent.py:695: ConvergenceWarning: Objective did not converge. You might want to increase the number of iterations, check the scale of the features or consider increasing regularisation. Duality gap: 3.785e+01, tolerance: 7.740e-02\n",
      "  model = cd_fast.enet_coordinate_descent(\n",
      "D:\\IntelliJ\\ml-stock-sent\\.venv\\Lib\\site-packages\\sklearn\\linear_model\\_coordinate_descent.py:695: ConvergenceWarning: Objective did not converge. You might want to increase the number of iterations, check the scale of the features or consider increasing regularisation. Duality gap: 1.237e+02, tolerance: 7.740e-02\n",
      "  model = cd_fast.enet_coordinate_descent(\n",
      "D:\\IntelliJ\\ml-stock-sent\\.venv\\Lib\\site-packages\\sklearn\\linear_model\\_coordinate_descent.py:695: ConvergenceWarning: Objective did not converge. You might want to increase the number of iterations, check the scale of the features or consider increasing regularisation. Duality gap: 1.311e+02, tolerance: 7.740e-02\n",
      "  model = cd_fast.enet_coordinate_descent(\n",
      "D:\\IntelliJ\\ml-stock-sent\\.venv\\Lib\\site-packages\\sklearn\\linear_model\\_coordinate_descent.py:695: ConvergenceWarning: Objective did not converge. You might want to increase the number of iterations, check the scale of the features or consider increasing regularisation. Duality gap: 2.335e+01, tolerance: 7.740e-02\n",
      "  model = cd_fast.enet_coordinate_descent(\n",
      "[I 2025-08-22 18:51:06,509] Trial 15 pruned. \n",
      "[I 2025-08-22 18:51:06,600] Trial 16 finished with value: 0.00931508333660515 and parameters: {'alpha': 0.009311403260660715, 'l1_ratio': 0.8397646127079323, 'selection': 'random', 'max_iter': 5000}. Best is trial 16 with value: 0.00931508333660515.\n",
      "D:\\IntelliJ\\ml-stock-sent\\.venv\\Lib\\site-packages\\sklearn\\linear_model\\_coordinate_descent.py:695: ConvergenceWarning: Objective did not converge. You might want to increase the number of iterations, check the scale of the features or consider increasing regularisation. Duality gap: 3.244e-01, tolerance: 3.880e-02\n",
      "  model = cd_fast.enet_coordinate_descent(\n",
      "[I 2025-08-22 18:51:06,826] Trial 17 finished with value: 0.009654558480115115 and parameters: {'alpha': 0.0013676884615026344, 'l1_ratio': 0.8225751278328804, 'selection': 'random', 'max_iter': 5000}. Best is trial 16 with value: 0.00931508333660515.\n",
      "D:\\IntelliJ\\ml-stock-sent\\.venv\\Lib\\site-packages\\sklearn\\linear_model\\_coordinate_descent.py:695: ConvergenceWarning: Objective did not converge. You might want to increase the number of iterations, check the scale of the features or consider increasing regularisation. Duality gap: 2.716e-01, tolerance: 3.880e-02\n",
      "  model = cd_fast.enet_coordinate_descent(\n",
      "D:\\IntelliJ\\ml-stock-sent\\.venv\\Lib\\site-packages\\sklearn\\linear_model\\_coordinate_descent.py:695: ConvergenceWarning: Objective did not converge. You might want to increase the number of iterations, check the scale of the features or consider increasing regularisation. Duality gap: 6.634e-02, tolerance: 3.880e-02\n",
      "  model = cd_fast.enet_coordinate_descent(\n",
      "D:\\IntelliJ\\ml-stock-sent\\.venv\\Lib\\site-packages\\sklearn\\linear_model\\_coordinate_descent.py:695: ConvergenceWarning: Objective did not converge. You might want to increase the number of iterations, check the scale of the features or consider increasing regularisation. Duality gap: 1.775e-01, tolerance: 3.880e-02\n",
      "  model = cd_fast.enet_coordinate_descent(\n",
      "D:\\IntelliJ\\ml-stock-sent\\.venv\\Lib\\site-packages\\sklearn\\linear_model\\_coordinate_descent.py:695: ConvergenceWarning: Objective did not converge. You might want to increase the number of iterations, check the scale of the features or consider increasing regularisation. Duality gap: 3.408e-01, tolerance: 3.880e-02\n",
      "  model = cd_fast.enet_coordinate_descent(\n",
      "D:\\IntelliJ\\ml-stock-sent\\.venv\\Lib\\site-packages\\sklearn\\linear_model\\_coordinate_descent.py:695: ConvergenceWarning: Objective did not converge. You might want to increase the number of iterations, check the scale of the features or consider increasing regularisation. Duality gap: 3.975e-01, tolerance: 3.880e-02\n",
      "  model = cd_fast.enet_coordinate_descent(\n",
      "D:\\IntelliJ\\ml-stock-sent\\.venv\\Lib\\site-packages\\sklearn\\linear_model\\_coordinate_descent.py:695: ConvergenceWarning: Objective did not converge. You might want to increase the number of iterations, check the scale of the features or consider increasing regularisation. Duality gap: 2.495e-01, tolerance: 3.880e-02\n",
      "  model = cd_fast.enet_coordinate_descent(\n",
      "D:\\IntelliJ\\ml-stock-sent\\.venv\\Lib\\site-packages\\sklearn\\linear_model\\_coordinate_descent.py:695: ConvergenceWarning: Objective did not converge. You might want to increase the number of iterations, check the scale of the features or consider increasing regularisation. Duality gap: 7.506e-02, tolerance: 3.880e-02\n",
      "  model = cd_fast.enet_coordinate_descent(\n",
      "D:\\IntelliJ\\ml-stock-sent\\.venv\\Lib\\site-packages\\sklearn\\linear_model\\_coordinate_descent.py:695: ConvergenceWarning: Objective did not converge. You might want to increase the number of iterations, check the scale of the features or consider increasing regularisation. Duality gap: 2.385e-01, tolerance: 3.880e-02\n",
      "  model = cd_fast.enet_coordinate_descent(\n",
      "D:\\IntelliJ\\ml-stock-sent\\.venv\\Lib\\site-packages\\sklearn\\linear_model\\_coordinate_descent.py:695: ConvergenceWarning: Objective did not converge. You might want to increase the number of iterations, check the scale of the features or consider increasing regularisation. Duality gap: 1.470e+00, tolerance: 3.880e-02\n",
      "  model = cd_fast.enet_coordinate_descent(\n",
      "D:\\IntelliJ\\ml-stock-sent\\.venv\\Lib\\site-packages\\sklearn\\linear_model\\_coordinate_descent.py:695: ConvergenceWarning: Objective did not converge. You might want to increase the number of iterations, check the scale of the features or consider increasing regularisation. Duality gap: 7.449e-02, tolerance: 3.880e-02\n",
      "  model = cd_fast.enet_coordinate_descent(\n",
      "D:\\IntelliJ\\ml-stock-sent\\.venv\\Lib\\site-packages\\sklearn\\linear_model\\_coordinate_descent.py:695: ConvergenceWarning: Objective did not converge. You might want to increase the number of iterations, check the scale of the features or consider increasing regularisation. Duality gap: 2.239e-01, tolerance: 3.880e-02\n",
      "  model = cd_fast.enet_coordinate_descent(\n",
      "D:\\IntelliJ\\ml-stock-sent\\.venv\\Lib\\site-packages\\sklearn\\linear_model\\_coordinate_descent.py:695: ConvergenceWarning: Objective did not converge. You might want to increase the number of iterations, check the scale of the features or consider increasing regularisation. Duality gap: 1.754e-01, tolerance: 3.880e-02\n",
      "  model = cd_fast.enet_coordinate_descent(\n",
      "D:\\IntelliJ\\ml-stock-sent\\.venv\\Lib\\site-packages\\sklearn\\linear_model\\_coordinate_descent.py:695: ConvergenceWarning: Objective did not converge. You might want to increase the number of iterations, check the scale of the features or consider increasing regularisation. Duality gap: 1.177e-01, tolerance: 3.880e-02\n",
      "  model = cd_fast.enet_coordinate_descent(\n",
      "D:\\IntelliJ\\ml-stock-sent\\.venv\\Lib\\site-packages\\sklearn\\linear_model\\_coordinate_descent.py:695: ConvergenceWarning: Objective did not converge. You might want to increase the number of iterations, check the scale of the features or consider increasing regularisation. Duality gap: 1.388e-01, tolerance: 3.880e-02\n",
      "  model = cd_fast.enet_coordinate_descent(\n",
      "D:\\IntelliJ\\ml-stock-sent\\.venv\\Lib\\site-packages\\sklearn\\linear_model\\_coordinate_descent.py:695: ConvergenceWarning: Objective did not converge. You might want to increase the number of iterations, check the scale of the features or consider increasing regularisation. Duality gap: 1.129e-01, tolerance: 7.740e-02\n",
      "  model = cd_fast.enet_coordinate_descent(\n",
      "D:\\IntelliJ\\ml-stock-sent\\.venv\\Lib\\site-packages\\sklearn\\linear_model\\_coordinate_descent.py:695: ConvergenceWarning: Objective did not converge. You might want to increase the number of iterations, check the scale of the features or consider increasing regularisation. Duality gap: 1.005e-01, tolerance: 7.740e-02\n",
      "  model = cd_fast.enet_coordinate_descent(\n",
      "D:\\IntelliJ\\ml-stock-sent\\.venv\\Lib\\site-packages\\sklearn\\linear_model\\_coordinate_descent.py:695: ConvergenceWarning: Objective did not converge. You might want to increase the number of iterations, check the scale of the features or consider increasing regularisation. Duality gap: 9.141e-02, tolerance: 7.740e-02\n",
      "  model = cd_fast.enet_coordinate_descent(\n",
      "D:\\IntelliJ\\ml-stock-sent\\.venv\\Lib\\site-packages\\sklearn\\linear_model\\_coordinate_descent.py:695: ConvergenceWarning: Objective did not converge. You might want to increase the number of iterations, check the scale of the features or consider increasing regularisation. Duality gap: 1.597e-01, tolerance: 7.740e-02\n",
      "  model = cd_fast.enet_coordinate_descent(\n",
      "D:\\IntelliJ\\ml-stock-sent\\.venv\\Lib\\site-packages\\sklearn\\linear_model\\_coordinate_descent.py:695: ConvergenceWarning: Objective did not converge. You might want to increase the number of iterations, check the scale of the features or consider increasing regularisation. Duality gap: 4.501e-01, tolerance: 7.740e-02\n",
      "  model = cd_fast.enet_coordinate_descent(\n",
      "D:\\IntelliJ\\ml-stock-sent\\.venv\\Lib\\site-packages\\sklearn\\linear_model\\_coordinate_descent.py:695: ConvergenceWarning: Objective did not converge. You might want to increase the number of iterations, check the scale of the features or consider increasing regularisation. Duality gap: 1.085e-01, tolerance: 7.740e-02\n",
      "  model = cd_fast.enet_coordinate_descent(\n",
      "D:\\IntelliJ\\ml-stock-sent\\.venv\\Lib\\site-packages\\sklearn\\linear_model\\_coordinate_descent.py:695: ConvergenceWarning: Objective did not converge. You might want to increase the number of iterations, check the scale of the features or consider increasing regularisation. Duality gap: 3.053e-01, tolerance: 7.740e-02\n",
      "  model = cd_fast.enet_coordinate_descent(\n",
      "D:\\IntelliJ\\ml-stock-sent\\.venv\\Lib\\site-packages\\sklearn\\linear_model\\_coordinate_descent.py:695: ConvergenceWarning: Objective did not converge. You might want to increase the number of iterations, check the scale of the features or consider increasing regularisation. Duality gap: 3.650e-01, tolerance: 7.740e-02\n",
      "  model = cd_fast.enet_coordinate_descent(\n",
      "D:\\IntelliJ\\ml-stock-sent\\.venv\\Lib\\site-packages\\sklearn\\linear_model\\_coordinate_descent.py:695: ConvergenceWarning: Objective did not converge. You might want to increase the number of iterations, check the scale of the features or consider increasing regularisation. Duality gap: 8.387e-02, tolerance: 7.740e-02\n",
      "  model = cd_fast.enet_coordinate_descent(\n",
      "D:\\IntelliJ\\ml-stock-sent\\.venv\\Lib\\site-packages\\sklearn\\linear_model\\_coordinate_descent.py:695: ConvergenceWarning: Objective did not converge. You might want to increase the number of iterations, check the scale of the features or consider increasing regularisation. Duality gap: 8.891e-02, tolerance: 7.740e-02\n",
      "  model = cd_fast.enet_coordinate_descent(\n",
      "[I 2025-08-22 18:51:07,344] Trial 18 pruned. \n",
      "[I 2025-08-22 18:51:07,454] Trial 19 finished with value: 0.009501679989207203 and parameters: {'alpha': 0.004093070096130725, 'l1_ratio': 0.8682029448652756, 'selection': 'random', 'max_iter': 2500}. Best is trial 16 with value: 0.00931508333660515.\n",
      "[I 2025-08-22 18:51:07,577] Trial 20 finished with value: 0.009581567115452988 and parameters: {'alpha': 0.004395179065384886, 'l1_ratio': 0.43176332178088295, 'selection': 'random', 'max_iter': 4500}. Best is trial 16 with value: 0.00931508333660515.\n",
      "[I 2025-08-22 18:51:07,664] Trial 21 finished with value: 0.009369240159657328 and parameters: {'alpha': 0.007682128940117, 'l1_ratio': 0.8260103684298197, 'selection': 'random', 'max_iter': 3500}. Best is trial 16 with value: 0.00931508333660515.\n",
      "[I 2025-08-22 18:51:07,764] Trial 22 finished with value: 0.009435309311019413 and parameters: {'alpha': 0.005621073832012195, 'l1_ratio': 0.8612865966559918, 'selection': 'random', 'max_iter': 3500}. Best is trial 16 with value: 0.00931508333660515.\n",
      "[I 2025-08-22 18:51:07,850] Trial 23 finished with value: 0.00935862090662042 and parameters: {'alpha': 0.009959467074729632, 'l1_ratio': 0.6405083170113313, 'selection': 'random', 'max_iter': 2500}. Best is trial 16 with value: 0.00931508333660515.\n",
      "[I 2025-08-22 18:51:07,957] Trial 24 pruned. \n",
      "[I 2025-08-22 18:51:08,055] Trial 25 finished with value: 0.009436271758471624 and parameters: {'alpha': 0.009730478973506125, 'l1_ratio': 0.4397293848467698, 'selection': 'random', 'max_iter': 3000}. Best is trial 16 with value: 0.00931508333660515.\n",
      "D:\\IntelliJ\\ml-stock-sent\\.venv\\Lib\\site-packages\\sklearn\\linear_model\\_coordinate_descent.py:695: ConvergenceWarning: Objective did not converge. You might want to increase the number of iterations, check the scale of the features or consider increasing regularisation. Duality gap: 8.003e-02, tolerance: 3.880e-02\n",
      "  model = cd_fast.enet_coordinate_descent(\n",
      "[I 2025-08-22 18:51:08,165] Trial 26 pruned. \n",
      "[I 2025-08-22 18:51:08,282] Trial 27 finished with value: 0.009506541412204488 and parameters: {'alpha': 0.004353213057831364, 'l1_ratio': 0.782862743295693, 'selection': 'random', 'max_iter': 3000}. Best is trial 16 with value: 0.00931508333660515.\n",
      "[I 2025-08-22 18:51:08,382] Trial 28 finished with value: 0.009455151355205691 and parameters: {'alpha': 0.004905801310100165, 'l1_ratio': 0.9103379902364029, 'selection': 'random', 'max_iter': 2500}. Best is trial 16 with value: 0.00931508333660515.\n",
      "D:\\IntelliJ\\ml-stock-sent\\.venv\\Lib\\site-packages\\sklearn\\linear_model\\_coordinate_descent.py:695: ConvergenceWarning: Objective did not converge. You might want to increase the number of iterations, check the scale of the features or consider increasing regularisation. Duality gap: 4.885e+01, tolerance: 3.880e-02\n",
      "  model = cd_fast.enet_coordinate_descent(\n",
      "D:\\IntelliJ\\ml-stock-sent\\.venv\\Lib\\site-packages\\sklearn\\linear_model\\_coordinate_descent.py:695: ConvergenceWarning: Objective did not converge. You might want to increase the number of iterations, check the scale of the features or consider increasing regularisation. Duality gap: 4.171e+00, tolerance: 3.880e-02\n",
      "  model = cd_fast.enet_coordinate_descent(\n",
      "D:\\IntelliJ\\ml-stock-sent\\.venv\\Lib\\site-packages\\sklearn\\linear_model\\_coordinate_descent.py:695: ConvergenceWarning: Objective did not converge. You might want to increase the number of iterations, check the scale of the features or consider increasing regularisation. Duality gap: 3.392e+01, tolerance: 3.880e-02\n",
      "  model = cd_fast.enet_coordinate_descent(\n",
      "D:\\IntelliJ\\ml-stock-sent\\.venv\\Lib\\site-packages\\sklearn\\linear_model\\_coordinate_descent.py:695: ConvergenceWarning: Objective did not converge. You might want to increase the number of iterations, check the scale of the features or consider increasing regularisation. Duality gap: 4.851e+00, tolerance: 3.880e-02\n",
      "  model = cd_fast.enet_coordinate_descent(\n",
      "D:\\IntelliJ\\ml-stock-sent\\.venv\\Lib\\site-packages\\sklearn\\linear_model\\_coordinate_descent.py:695: ConvergenceWarning: Objective did not converge. You might want to increase the number of iterations, check the scale of the features or consider increasing regularisation. Duality gap: 1.531e+01, tolerance: 3.880e-02\n",
      "  model = cd_fast.enet_coordinate_descent(\n",
      "D:\\IntelliJ\\ml-stock-sent\\.venv\\Lib\\site-packages\\sklearn\\linear_model\\_coordinate_descent.py:695: ConvergenceWarning: Objective did not converge. You might want to increase the number of iterations, check the scale of the features or consider increasing regularisation. Duality gap: 3.419e+01, tolerance: 3.880e-02\n",
      "  model = cd_fast.enet_coordinate_descent(\n",
      "D:\\IntelliJ\\ml-stock-sent\\.venv\\Lib\\site-packages\\sklearn\\linear_model\\_coordinate_descent.py:695: ConvergenceWarning: Objective did not converge. You might want to increase the number of iterations, check the scale of the features or consider increasing regularisation. Duality gap: 5.135e+01, tolerance: 3.880e-02\n",
      "  model = cd_fast.enet_coordinate_descent(\n",
      "D:\\IntelliJ\\ml-stock-sent\\.venv\\Lib\\site-packages\\sklearn\\linear_model\\_coordinate_descent.py:695: ConvergenceWarning: Objective did not converge. You might want to increase the number of iterations, check the scale of the features or consider increasing regularisation. Duality gap: 7.857e+01, tolerance: 3.880e-02\n",
      "  model = cd_fast.enet_coordinate_descent(\n",
      "D:\\IntelliJ\\ml-stock-sent\\.venv\\Lib\\site-packages\\sklearn\\linear_model\\_coordinate_descent.py:695: ConvergenceWarning: Objective did not converge. You might want to increase the number of iterations, check the scale of the features or consider increasing regularisation. Duality gap: 4.650e+01, tolerance: 3.880e-02\n",
      "  model = cd_fast.enet_coordinate_descent(\n",
      "D:\\IntelliJ\\ml-stock-sent\\.venv\\Lib\\site-packages\\sklearn\\linear_model\\_coordinate_descent.py:695: ConvergenceWarning: Objective did not converge. You might want to increase the number of iterations, check the scale of the features or consider increasing regularisation. Duality gap: 9.618e+00, tolerance: 3.880e-02\n",
      "  model = cd_fast.enet_coordinate_descent(\n",
      "D:\\IntelliJ\\ml-stock-sent\\.venv\\Lib\\site-packages\\sklearn\\linear_model\\_coordinate_descent.py:695: ConvergenceWarning: Objective did not converge. You might want to increase the number of iterations, check the scale of the features or consider increasing regularisation. Duality gap: 3.789e+01, tolerance: 3.880e-02\n",
      "  model = cd_fast.enet_coordinate_descent(\n",
      "D:\\IntelliJ\\ml-stock-sent\\.venv\\Lib\\site-packages\\sklearn\\linear_model\\_coordinate_descent.py:695: ConvergenceWarning: Objective did not converge. You might want to increase the number of iterations, check the scale of the features or consider increasing regularisation. Duality gap: 1.016e+02, tolerance: 3.880e-02\n",
      "  model = cd_fast.enet_coordinate_descent(\n",
      "D:\\IntelliJ\\ml-stock-sent\\.venv\\Lib\\site-packages\\sklearn\\linear_model\\_coordinate_descent.py:695: ConvergenceWarning: Objective did not converge. You might want to increase the number of iterations, check the scale of the features or consider increasing regularisation. Duality gap: 4.241e-01, tolerance: 3.880e-02\n",
      "  model = cd_fast.enet_coordinate_descent(\n",
      "D:\\IntelliJ\\ml-stock-sent\\.venv\\Lib\\site-packages\\sklearn\\linear_model\\_coordinate_descent.py:695: ConvergenceWarning: Objective did not converge. You might want to increase the number of iterations, check the scale of the features or consider increasing regularisation. Duality gap: 1.723e-01, tolerance: 3.880e-02\n",
      "  model = cd_fast.enet_coordinate_descent(\n",
      "D:\\IntelliJ\\ml-stock-sent\\.venv\\Lib\\site-packages\\sklearn\\linear_model\\_coordinate_descent.py:695: ConvergenceWarning: Objective did not converge. You might want to increase the number of iterations, check the scale of the features or consider increasing regularisation. Duality gap: 2.279e+00, tolerance: 3.880e-02\n",
      "  model = cd_fast.enet_coordinate_descent(\n",
      "D:\\IntelliJ\\ml-stock-sent\\.venv\\Lib\\site-packages\\sklearn\\linear_model\\_coordinate_descent.py:695: ConvergenceWarning: Objective did not converge. You might want to increase the number of iterations, check the scale of the features or consider increasing regularisation. Duality gap: 3.146e+01, tolerance: 3.880e-02\n",
      "  model = cd_fast.enet_coordinate_descent(\n",
      "D:\\IntelliJ\\ml-stock-sent\\.venv\\Lib\\site-packages\\sklearn\\linear_model\\_coordinate_descent.py:695: ConvergenceWarning: Objective did not converge. You might want to increase the number of iterations, check the scale of the features or consider increasing regularisation. Duality gap: 3.140e+01, tolerance: 3.880e-02\n",
      "  model = cd_fast.enet_coordinate_descent(\n",
      "D:\\IntelliJ\\ml-stock-sent\\.venv\\Lib\\site-packages\\sklearn\\linear_model\\_coordinate_descent.py:695: ConvergenceWarning: Objective did not converge. You might want to increase the number of iterations, check the scale of the features or consider increasing regularisation. Duality gap: 2.824e-01, tolerance: 3.880e-02\n",
      "  model = cd_fast.enet_coordinate_descent(\n",
      "D:\\IntelliJ\\ml-stock-sent\\.venv\\Lib\\site-packages\\sklearn\\linear_model\\_coordinate_descent.py:695: ConvergenceWarning: Objective did not converge. You might want to increase the number of iterations, check the scale of the features or consider increasing regularisation. Duality gap: 2.064e+01, tolerance: 3.880e-02\n",
      "  model = cd_fast.enet_coordinate_descent(\n",
      "D:\\IntelliJ\\ml-stock-sent\\.venv\\Lib\\site-packages\\sklearn\\linear_model\\_coordinate_descent.py:695: ConvergenceWarning: Objective did not converge. You might want to increase the number of iterations, check the scale of the features or consider increasing regularisation. Duality gap: 2.147e+01, tolerance: 3.880e-02\n",
      "  model = cd_fast.enet_coordinate_descent(\n",
      "D:\\IntelliJ\\ml-stock-sent\\.venv\\Lib\\site-packages\\sklearn\\linear_model\\_coordinate_descent.py:695: ConvergenceWarning: Objective did not converge. You might want to increase the number of iterations, check the scale of the features or consider increasing regularisation. Duality gap: 2.065e+00, tolerance: 3.880e-02\n",
      "  model = cd_fast.enet_coordinate_descent(\n",
      "D:\\IntelliJ\\ml-stock-sent\\.venv\\Lib\\site-packages\\sklearn\\linear_model\\_coordinate_descent.py:695: ConvergenceWarning: Objective did not converge. You might want to increase the number of iterations, check the scale of the features or consider increasing regularisation. Duality gap: 5.778e+01, tolerance: 7.740e-02\n",
      "  model = cd_fast.enet_coordinate_descent(\n",
      "D:\\IntelliJ\\ml-stock-sent\\.venv\\Lib\\site-packages\\sklearn\\linear_model\\_coordinate_descent.py:695: ConvergenceWarning: Objective did not converge. You might want to increase the number of iterations, check the scale of the features or consider increasing regularisation. Duality gap: 5.272e-01, tolerance: 7.740e-02\n",
      "  model = cd_fast.enet_coordinate_descent(\n",
      "D:\\IntelliJ\\ml-stock-sent\\.venv\\Lib\\site-packages\\sklearn\\linear_model\\_coordinate_descent.py:695: ConvergenceWarning: Objective did not converge. You might want to increase the number of iterations, check the scale of the features or consider increasing regularisation. Duality gap: 1.506e+00, tolerance: 7.740e-02\n",
      "  model = cd_fast.enet_coordinate_descent(\n",
      "D:\\IntelliJ\\ml-stock-sent\\.venv\\Lib\\site-packages\\sklearn\\linear_model\\_coordinate_descent.py:695: ConvergenceWarning: Objective did not converge. You might want to increase the number of iterations, check the scale of the features or consider increasing regularisation. Duality gap: 5.131e+01, tolerance: 7.740e-02\n",
      "  model = cd_fast.enet_coordinate_descent(\n",
      "D:\\IntelliJ\\ml-stock-sent\\.venv\\Lib\\site-packages\\sklearn\\linear_model\\_coordinate_descent.py:695: ConvergenceWarning: Objective did not converge. You might want to increase the number of iterations, check the scale of the features or consider increasing regularisation. Duality gap: 2.289e+00, tolerance: 7.740e-02\n",
      "  model = cd_fast.enet_coordinate_descent(\n",
      "D:\\IntelliJ\\ml-stock-sent\\.venv\\Lib\\site-packages\\sklearn\\linear_model\\_coordinate_descent.py:695: ConvergenceWarning: Objective did not converge. You might want to increase the number of iterations, check the scale of the features or consider increasing regularisation. Duality gap: 4.933e+01, tolerance: 7.740e-02\n",
      "  model = cd_fast.enet_coordinate_descent(\n",
      "D:\\IntelliJ\\ml-stock-sent\\.venv\\Lib\\site-packages\\sklearn\\linear_model\\_coordinate_descent.py:695: ConvergenceWarning: Objective did not converge. You might want to increase the number of iterations, check the scale of the features or consider increasing regularisation. Duality gap: 2.123e+01, tolerance: 7.740e-02\n",
      "  model = cd_fast.enet_coordinate_descent(\n",
      "D:\\IntelliJ\\ml-stock-sent\\.venv\\Lib\\site-packages\\sklearn\\linear_model\\_coordinate_descent.py:695: ConvergenceWarning: Objective did not converge. You might want to increase the number of iterations, check the scale of the features or consider increasing regularisation. Duality gap: 2.421e+01, tolerance: 7.740e-02\n",
      "  model = cd_fast.enet_coordinate_descent(\n",
      "D:\\IntelliJ\\ml-stock-sent\\.venv\\Lib\\site-packages\\sklearn\\linear_model\\_coordinate_descent.py:695: ConvergenceWarning: Objective did not converge. You might want to increase the number of iterations, check the scale of the features or consider increasing regularisation. Duality gap: 8.939e+01, tolerance: 7.740e-02\n",
      "  model = cd_fast.enet_coordinate_descent(\n",
      "D:\\IntelliJ\\ml-stock-sent\\.venv\\Lib\\site-packages\\sklearn\\linear_model\\_coordinate_descent.py:695: ConvergenceWarning: Objective did not converge. You might want to increase the number of iterations, check the scale of the features or consider increasing regularisation. Duality gap: 1.477e+02, tolerance: 7.740e-02\n",
      "  model = cd_fast.enet_coordinate_descent(\n",
      "D:\\IntelliJ\\ml-stock-sent\\.venv\\Lib\\site-packages\\sklearn\\linear_model\\_coordinate_descent.py:695: ConvergenceWarning: Objective did not converge. You might want to increase the number of iterations, check the scale of the features or consider increasing regularisation. Duality gap: 7.543e+00, tolerance: 7.740e-02\n",
      "  model = cd_fast.enet_coordinate_descent(\n",
      "D:\\IntelliJ\\ml-stock-sent\\.venv\\Lib\\site-packages\\sklearn\\linear_model\\_coordinate_descent.py:695: ConvergenceWarning: Objective did not converge. You might want to increase the number of iterations, check the scale of the features or consider increasing regularisation. Duality gap: 9.487e+01, tolerance: 7.740e-02\n",
      "  model = cd_fast.enet_coordinate_descent(\n",
      "D:\\IntelliJ\\ml-stock-sent\\.venv\\Lib\\site-packages\\sklearn\\linear_model\\_coordinate_descent.py:695: ConvergenceWarning: Objective did not converge. You might want to increase the number of iterations, check the scale of the features or consider increasing regularisation. Duality gap: 1.251e+02, tolerance: 7.740e-02\n",
      "  model = cd_fast.enet_coordinate_descent(\n",
      "D:\\IntelliJ\\ml-stock-sent\\.venv\\Lib\\site-packages\\sklearn\\linear_model\\_coordinate_descent.py:695: ConvergenceWarning: Objective did not converge. You might want to increase the number of iterations, check the scale of the features or consider increasing regularisation. Duality gap: 7.169e+00, tolerance: 7.740e-02\n",
      "  model = cd_fast.enet_coordinate_descent(\n",
      "D:\\IntelliJ\\ml-stock-sent\\.venv\\Lib\\site-packages\\sklearn\\linear_model\\_coordinate_descent.py:695: ConvergenceWarning: Objective did not converge. You might want to increase the number of iterations, check the scale of the features or consider increasing regularisation. Duality gap: 3.026e-01, tolerance: 7.740e-02\n",
      "  model = cd_fast.enet_coordinate_descent(\n",
      "D:\\IntelliJ\\ml-stock-sent\\.venv\\Lib\\site-packages\\sklearn\\linear_model\\_coordinate_descent.py:695: ConvergenceWarning: Objective did not converge. You might want to increase the number of iterations, check the scale of the features or consider increasing regularisation. Duality gap: 1.303e+02, tolerance: 7.740e-02\n",
      "  model = cd_fast.enet_coordinate_descent(\n",
      "D:\\IntelliJ\\ml-stock-sent\\.venv\\Lib\\site-packages\\sklearn\\linear_model\\_coordinate_descent.py:695: ConvergenceWarning: Objective did not converge. You might want to increase the number of iterations, check the scale of the features or consider increasing regularisation. Duality gap: 5.696e+00, tolerance: 7.740e-02\n",
      "  model = cd_fast.enet_coordinate_descent(\n",
      "D:\\IntelliJ\\ml-stock-sent\\.venv\\Lib\\site-packages\\sklearn\\linear_model\\_coordinate_descent.py:695: ConvergenceWarning: Objective did not converge. You might want to increase the number of iterations, check the scale of the features or consider increasing regularisation. Duality gap: 9.271e-01, tolerance: 7.740e-02\n",
      "  model = cd_fast.enet_coordinate_descent(\n",
      "D:\\IntelliJ\\ml-stock-sent\\.venv\\Lib\\site-packages\\sklearn\\linear_model\\_coordinate_descent.py:695: ConvergenceWarning: Objective did not converge. You might want to increase the number of iterations, check the scale of the features or consider increasing regularisation. Duality gap: 1.892e+00, tolerance: 7.740e-02\n",
      "  model = cd_fast.enet_coordinate_descent(\n",
      "D:\\IntelliJ\\ml-stock-sent\\.venv\\Lib\\site-packages\\sklearn\\linear_model\\_coordinate_descent.py:695: ConvergenceWarning: Objective did not converge. You might want to increase the number of iterations, check the scale of the features or consider increasing regularisation. Duality gap: 2.540e+01, tolerance: 7.740e-02\n",
      "  model = cd_fast.enet_coordinate_descent(\n",
      "D:\\IntelliJ\\ml-stock-sent\\.venv\\Lib\\site-packages\\sklearn\\linear_model\\_coordinate_descent.py:695: ConvergenceWarning: Objective did not converge. You might want to increase the number of iterations, check the scale of the features or consider increasing regularisation. Duality gap: 7.657e+01, tolerance: 7.740e-02\n",
      "  model = cd_fast.enet_coordinate_descent(\n",
      "D:\\IntelliJ\\ml-stock-sent\\.venv\\Lib\\site-packages\\sklearn\\linear_model\\_coordinate_descent.py:695: ConvergenceWarning: Objective did not converge. You might want to increase the number of iterations, check the scale of the features or consider increasing regularisation. Duality gap: 2.928e+01, tolerance: 7.740e-02\n",
      "  model = cd_fast.enet_coordinate_descent(\n",
      "D:\\IntelliJ\\ml-stock-sent\\.venv\\Lib\\site-packages\\sklearn\\linear_model\\_coordinate_descent.py:695: ConvergenceWarning: Objective did not converge. You might want to increase the number of iterations, check the scale of the features or consider increasing regularisation. Duality gap: 4.592e+01, tolerance: 7.740e-02\n",
      "  model = cd_fast.enet_coordinate_descent(\n",
      "[I 2025-08-22 18:51:08,535] Trial 29 pruned. \n"
     ]
    },
    {
     "name": "stdout",
     "output_type": "stream",
     "text": [
      "Best params: {'alpha': 0.009311403260660715, 'l1_ratio': 0.8397646127079323, 'selection': 'random', 'max_iter': 5000, 'random_state': 42}\n"
     ]
    }
   ],
   "execution_count": 9
  },
  {
   "metadata": {
    "ExecuteTime": {
     "end_time": "2025-08-22T16:51:08.909667Z",
     "start_time": "2025-08-22T16:51:08.613792Z"
    }
   },
   "cell_type": "code",
   "source": [
    "best_model = model.__class__(**{**model.get_params(), **best_params})\n",
    "\n",
    "final_trainer = ModelTrainer(\n",
    "    model=best_model,\n",
    "    name=\"enet_mo_wo_sent_30\",\n",
    "    config={\n",
    "        \"optimization_metric\": \"rmse\",\n",
    "        \"gap\": 0,\n",
    "        \"seed\": cfg.runtime.seed,\n",
    "    },\n",
    "    preprocessor=preprocessor,\n",
    "    y_scale=True,\n",
    ")\n",
    "\n",
    "trainer.fit(X_train, y_train)\n",
    "# trainer.fit(X_train, y_train, X_val, y_val)"
   ],
   "id": "254127800f4b616d",
   "outputs": [
    {
     "name": "stderr",
     "output_type": "stream",
     "text": [
      "2025-08-22 18:51:08,616 - INFO - ModelTrainer - Initialized ModelTrainer for model: enet_mo_wo_sent_30\n",
      "2025-08-22 18:51:08,616 - INFO - ModelTrainer - Starting model training...\n",
      "D:\\IntelliJ\\ml-stock-sent\\.venv\\Lib\\site-packages\\sklearn\\linear_model\\_coordinate_descent.py:695: ConvergenceWarning: Objective did not converge. You might want to increase the number of iterations, check the scale of the features or consider increasing regularisation. Duality gap: 1.723e-01, tolerance: 1.546e-01\n",
      "  model = cd_fast.enet_coordinate_descent(\n",
      "D:\\IntelliJ\\ml-stock-sent\\.venv\\Lib\\site-packages\\sklearn\\linear_model\\_coordinate_descent.py:695: ConvergenceWarning: Objective did not converge. You might want to increase the number of iterations, check the scale of the features or consider increasing regularisation. Duality gap: 4.225e-01, tolerance: 1.546e-01\n",
      "  model = cd_fast.enet_coordinate_descent(\n",
      "D:\\IntelliJ\\ml-stock-sent\\.venv\\Lib\\site-packages\\sklearn\\linear_model\\_coordinate_descent.py:695: ConvergenceWarning: Objective did not converge. You might want to increase the number of iterations, check the scale of the features or consider increasing regularisation. Duality gap: 2.366e-01, tolerance: 1.546e-01\n",
      "  model = cd_fast.enet_coordinate_descent(\n",
      "D:\\IntelliJ\\ml-stock-sent\\.venv\\Lib\\site-packages\\sklearn\\linear_model\\_coordinate_descent.py:695: ConvergenceWarning: Objective did not converge. You might want to increase the number of iterations, check the scale of the features or consider increasing regularisation. Duality gap: 3.352e-01, tolerance: 1.546e-01\n",
      "  model = cd_fast.enet_coordinate_descent(\n"
     ]
    }
   ],
   "execution_count": 10
  },
  {
   "metadata": {
    "ExecuteTime": {
     "end_time": "2025-08-22T16:51:08.936083Z",
     "start_time": "2025-08-22T16:51:08.915169Z"
    }
   },
   "cell_type": "code",
   "source": [
    "results = {\n",
    "    \"train\": trainer.evaluate(X_train, y_train),\n",
    "    \"val\": trainer.evaluate(X_val, y_val),\n",
    "    \"test\": trainer.evaluate(X_test, y_test)\n",
    "}\n",
    "\n",
    "meta = {\n",
    "    \"model\": \"enet_mo_wo_sent_30\",\n",
    "    \"with_sentiment\": False,\n",
    "    \"horizon\": horizon\n",
    "}\n",
    "\n",
    "flat_rows = []\n",
    "for split, metrics in results.items():\n",
    "    row = {\"split\": split, **meta, **metrics}\n",
    "    flat_rows.append(row)\n",
    "\n",
    "results_df = pd.DataFrame(flat_rows)\n",
    "\n",
    "results_df.to_csv(Path(cfg.data.processed_dir) / cfg.data.results_direct_multi_step_wo_sent, index=False)\n",
    "results_df"
   ],
   "id": "16fe0b27fe0bc961",
   "outputs": [
    {
     "name": "stderr",
     "output_type": "stream",
     "text": [
      "2025-08-22 18:51:08,916 - INFO - ModelTrainer - Evaluating model...\n",
      "2025-08-22 18:51:08,922 - INFO - ModelTrainer - Evaluating model...\n",
      "2025-08-22 18:51:08,926 - INFO - ModelTrainer - Evaluating model...\n"
     ]
    },
    {
     "data": {
      "text/plain": [
       "   split               model  with_sentiment  horizon       mae       mse  \\\n",
       "0  train  enet_mo_wo_sent_30           False       30  0.008050  0.000158   \n",
       "1    val  enet_mo_wo_sent_30           False       30  0.006830  0.000088   \n",
       "2   test  enet_mo_wo_sent_30           False       30  0.007675  0.000102   \n",
       "\n",
       "       rmse     smape        r2  \n",
       "0  0.012557  1.621333  0.022639  \n",
       "1  0.009380  1.636823 -0.036224  \n",
       "2  0.010080  1.626652 -0.039766  "
      ],
      "text/html": [
       "<div>\n",
       "<style scoped>\n",
       "    .dataframe tbody tr th:only-of-type {\n",
       "        vertical-align: middle;\n",
       "    }\n",
       "\n",
       "    .dataframe tbody tr th {\n",
       "        vertical-align: top;\n",
       "    }\n",
       "\n",
       "    .dataframe thead th {\n",
       "        text-align: right;\n",
       "    }\n",
       "</style>\n",
       "<table border=\"1\" class=\"dataframe\">\n",
       "  <thead>\n",
       "    <tr style=\"text-align: right;\">\n",
       "      <th></th>\n",
       "      <th>split</th>\n",
       "      <th>model</th>\n",
       "      <th>with_sentiment</th>\n",
       "      <th>horizon</th>\n",
       "      <th>mae</th>\n",
       "      <th>mse</th>\n",
       "      <th>rmse</th>\n",
       "      <th>smape</th>\n",
       "      <th>r2</th>\n",
       "    </tr>\n",
       "  </thead>\n",
       "  <tbody>\n",
       "    <tr>\n",
       "      <th>0</th>\n",
       "      <td>train</td>\n",
       "      <td>enet_mo_wo_sent_30</td>\n",
       "      <td>False</td>\n",
       "      <td>30</td>\n",
       "      <td>0.008050</td>\n",
       "      <td>0.000158</td>\n",
       "      <td>0.012557</td>\n",
       "      <td>1.621333</td>\n",
       "      <td>0.022639</td>\n",
       "    </tr>\n",
       "    <tr>\n",
       "      <th>1</th>\n",
       "      <td>val</td>\n",
       "      <td>enet_mo_wo_sent_30</td>\n",
       "      <td>False</td>\n",
       "      <td>30</td>\n",
       "      <td>0.006830</td>\n",
       "      <td>0.000088</td>\n",
       "      <td>0.009380</td>\n",
       "      <td>1.636823</td>\n",
       "      <td>-0.036224</td>\n",
       "    </tr>\n",
       "    <tr>\n",
       "      <th>2</th>\n",
       "      <td>test</td>\n",
       "      <td>enet_mo_wo_sent_30</td>\n",
       "      <td>False</td>\n",
       "      <td>30</td>\n",
       "      <td>0.007675</td>\n",
       "      <td>0.000102</td>\n",
       "      <td>0.010080</td>\n",
       "      <td>1.626652</td>\n",
       "      <td>-0.039766</td>\n",
       "    </tr>\n",
       "  </tbody>\n",
       "</table>\n",
       "</div>"
      ]
     },
     "execution_count": 11,
     "metadata": {},
     "output_type": "execute_result"
    }
   ],
   "execution_count": 11
  },
  {
   "metadata": {
    "ExecuteTime": {
     "end_time": "2025-08-22T16:51:08.965432Z",
     "start_time": "2025-08-22T16:51:08.960198Z"
    }
   },
   "cell_type": "code",
   "source": "model_path = trainer.save()",
   "id": "329d43d831997cc6",
   "outputs": [],
   "execution_count": 12
  },
  {
   "metadata": {
    "ExecuteTime": {
     "end_time": "2025-08-22T16:51:09.862408Z",
     "start_time": "2025-08-22T16:51:09.031146Z"
    }
   },
   "cell_type": "code",
   "source": [
    "vis.plot_optimization_history(study).show()\n",
    "vis.plot_param_importances(study).show()"
   ],
   "id": "783d8aee0e43008c",
   "outputs": [
    {
     "data": {
      "application/vnd.plotly.v1+json": {
       "data": [
        {
         "mode": "markers",
         "name": "Objective Value",
         "x": [
          0,
          1,
          2,
          3,
          4,
          5,
          6,
          7,
          9,
          10,
          11,
          12,
          13,
          14,
          16,
          17,
          19,
          20,
          21,
          22,
          23,
          25,
          27,
          28
         ],
         "y": [
          0.009733881960129078,
          0.009755928825263034,
          0.009747240803740894,
          0.009749446209008888,
          0.009724349107862398,
          0.009681467254697214,
          0.009723421802829384,
          0.009655559109134576,
          0.00970796015612718,
          0.009379369531052057,
          0.009367618460634683,
          0.009378749948528185,
          0.00940139827298458,
          0.00956275317261747,
          0.00931508333660515,
          0.009654558480115115,
          0.009501679989207203,
          0.009581567115452988,
          0.009369240159657328,
          0.009435309311019413,
          0.00935862090662042,
          0.009436271758471624,
          0.009506541412204488,
          0.009455151355205691
         ],
         "type": "scatter"
        },
        {
         "mode": "lines",
         "name": "Best Value",
         "x": [
          0,
          1,
          2,
          3,
          4,
          5,
          6,
          7,
          8,
          9,
          10,
          11,
          12,
          13,
          14,
          15,
          16,
          17,
          18,
          19,
          20,
          21,
          22,
          23,
          24,
          25,
          26,
          27,
          28,
          29
         ],
         "y": [
          0.009733881960129078,
          0.009733881960129078,
          0.009733881960129078,
          0.009733881960129078,
          0.009724349107862398,
          0.009681467254697214,
          0.009681467254697214,
          0.009655559109134576,
          0.009655559109134576,
          0.009655559109134576,
          0.009379369531052057,
          0.009367618460634683,
          0.009367618460634683,
          0.009367618460634683,
          0.009367618460634683,
          0.009367618460634683,
          0.00931508333660515,
          0.00931508333660515,
          0.00931508333660515,
          0.00931508333660515,
          0.00931508333660515,
          0.00931508333660515,
          0.00931508333660515,
          0.00931508333660515,
          0.00931508333660515,
          0.00931508333660515,
          0.00931508333660515,
          0.00931508333660515,
          0.00931508333660515,
          0.00931508333660515
         ],
         "type": "scatter"
        },
        {
         "marker": {
          "color": "#cccccc"
         },
         "mode": "markers",
         "name": "Infeasible Trial",
         "showlegend": false,
         "x": [],
         "y": [],
         "type": "scatter"
        }
       ],
       "layout": {
        "title": {
         "text": "Optimization History Plot"
        },
        "xaxis": {
         "title": {
          "text": "Trial"
         }
        },
        "yaxis": {
         "title": {
          "text": "Objective Value"
         }
        },
        "template": {
         "data": {
          "histogram2dcontour": [
           {
            "type": "histogram2dcontour",
            "colorbar": {
             "outlinewidth": 0,
             "ticks": ""
            },
            "colorscale": [
             [
              0.0,
              "#0d0887"
             ],
             [
              0.1111111111111111,
              "#46039f"
             ],
             [
              0.2222222222222222,
              "#7201a8"
             ],
             [
              0.3333333333333333,
              "#9c179e"
             ],
             [
              0.4444444444444444,
              "#bd3786"
             ],
             [
              0.5555555555555556,
              "#d8576b"
             ],
             [
              0.6666666666666666,
              "#ed7953"
             ],
             [
              0.7777777777777778,
              "#fb9f3a"
             ],
             [
              0.8888888888888888,
              "#fdca26"
             ],
             [
              1.0,
              "#f0f921"
             ]
            ]
           }
          ],
          "choropleth": [
           {
            "type": "choropleth",
            "colorbar": {
             "outlinewidth": 0,
             "ticks": ""
            }
           }
          ],
          "histogram2d": [
           {
            "type": "histogram2d",
            "colorbar": {
             "outlinewidth": 0,
             "ticks": ""
            },
            "colorscale": [
             [
              0.0,
              "#0d0887"
             ],
             [
              0.1111111111111111,
              "#46039f"
             ],
             [
              0.2222222222222222,
              "#7201a8"
             ],
             [
              0.3333333333333333,
              "#9c179e"
             ],
             [
              0.4444444444444444,
              "#bd3786"
             ],
             [
              0.5555555555555556,
              "#d8576b"
             ],
             [
              0.6666666666666666,
              "#ed7953"
             ],
             [
              0.7777777777777778,
              "#fb9f3a"
             ],
             [
              0.8888888888888888,
              "#fdca26"
             ],
             [
              1.0,
              "#f0f921"
             ]
            ]
           }
          ],
          "heatmap": [
           {
            "type": "heatmap",
            "colorbar": {
             "outlinewidth": 0,
             "ticks": ""
            },
            "colorscale": [
             [
              0.0,
              "#0d0887"
             ],
             [
              0.1111111111111111,
              "#46039f"
             ],
             [
              0.2222222222222222,
              "#7201a8"
             ],
             [
              0.3333333333333333,
              "#9c179e"
             ],
             [
              0.4444444444444444,
              "#bd3786"
             ],
             [
              0.5555555555555556,
              "#d8576b"
             ],
             [
              0.6666666666666666,
              "#ed7953"
             ],
             [
              0.7777777777777778,
              "#fb9f3a"
             ],
             [
              0.8888888888888888,
              "#fdca26"
             ],
             [
              1.0,
              "#f0f921"
             ]
            ]
           }
          ],
          "contourcarpet": [
           {
            "type": "contourcarpet",
            "colorbar": {
             "outlinewidth": 0,
             "ticks": ""
            }
           }
          ],
          "contour": [
           {
            "type": "contour",
            "colorbar": {
             "outlinewidth": 0,
             "ticks": ""
            },
            "colorscale": [
             [
              0.0,
              "#0d0887"
             ],
             [
              0.1111111111111111,
              "#46039f"
             ],
             [
              0.2222222222222222,
              "#7201a8"
             ],
             [
              0.3333333333333333,
              "#9c179e"
             ],
             [
              0.4444444444444444,
              "#bd3786"
             ],
             [
              0.5555555555555556,
              "#d8576b"
             ],
             [
              0.6666666666666666,
              "#ed7953"
             ],
             [
              0.7777777777777778,
              "#fb9f3a"
             ],
             [
              0.8888888888888888,
              "#fdca26"
             ],
             [
              1.0,
              "#f0f921"
             ]
            ]
           }
          ],
          "surface": [
           {
            "type": "surface",
            "colorbar": {
             "outlinewidth": 0,
             "ticks": ""
            },
            "colorscale": [
             [
              0.0,
              "#0d0887"
             ],
             [
              0.1111111111111111,
              "#46039f"
             ],
             [
              0.2222222222222222,
              "#7201a8"
             ],
             [
              0.3333333333333333,
              "#9c179e"
             ],
             [
              0.4444444444444444,
              "#bd3786"
             ],
             [
              0.5555555555555556,
              "#d8576b"
             ],
             [
              0.6666666666666666,
              "#ed7953"
             ],
             [
              0.7777777777777778,
              "#fb9f3a"
             ],
             [
              0.8888888888888888,
              "#fdca26"
             ],
             [
              1.0,
              "#f0f921"
             ]
            ]
           }
          ],
          "mesh3d": [
           {
            "type": "mesh3d",
            "colorbar": {
             "outlinewidth": 0,
             "ticks": ""
            }
           }
          ],
          "scatter": [
           {
            "fillpattern": {
             "fillmode": "overlay",
             "size": 10,
             "solidity": 0.2
            },
            "type": "scatter"
           }
          ],
          "parcoords": [
           {
            "type": "parcoords",
            "line": {
             "colorbar": {
              "outlinewidth": 0,
              "ticks": ""
             }
            }
           }
          ],
          "scatterpolargl": [
           {
            "type": "scatterpolargl",
            "marker": {
             "colorbar": {
              "outlinewidth": 0,
              "ticks": ""
             }
            }
           }
          ],
          "bar": [
           {
            "error_x": {
             "color": "#2a3f5f"
            },
            "error_y": {
             "color": "#2a3f5f"
            },
            "marker": {
             "line": {
              "color": "#E5ECF6",
              "width": 0.5
             },
             "pattern": {
              "fillmode": "overlay",
              "size": 10,
              "solidity": 0.2
             }
            },
            "type": "bar"
           }
          ],
          "scattergeo": [
           {
            "type": "scattergeo",
            "marker": {
             "colorbar": {
              "outlinewidth": 0,
              "ticks": ""
             }
            }
           }
          ],
          "scatterpolar": [
           {
            "type": "scatterpolar",
            "marker": {
             "colorbar": {
              "outlinewidth": 0,
              "ticks": ""
             }
            }
           }
          ],
          "histogram": [
           {
            "marker": {
             "pattern": {
              "fillmode": "overlay",
              "size": 10,
              "solidity": 0.2
             }
            },
            "type": "histogram"
           }
          ],
          "scattergl": [
           {
            "type": "scattergl",
            "marker": {
             "colorbar": {
              "outlinewidth": 0,
              "ticks": ""
             }
            }
           }
          ],
          "scatter3d": [
           {
            "type": "scatter3d",
            "line": {
             "colorbar": {
              "outlinewidth": 0,
              "ticks": ""
             }
            },
            "marker": {
             "colorbar": {
              "outlinewidth": 0,
              "ticks": ""
             }
            }
           }
          ],
          "scattermap": [
           {
            "type": "scattermap",
            "marker": {
             "colorbar": {
              "outlinewidth": 0,
              "ticks": ""
             }
            }
           }
          ],
          "scattermapbox": [
           {
            "type": "scattermapbox",
            "marker": {
             "colorbar": {
              "outlinewidth": 0,
              "ticks": ""
             }
            }
           }
          ],
          "scatterternary": [
           {
            "type": "scatterternary",
            "marker": {
             "colorbar": {
              "outlinewidth": 0,
              "ticks": ""
             }
            }
           }
          ],
          "scattercarpet": [
           {
            "type": "scattercarpet",
            "marker": {
             "colorbar": {
              "outlinewidth": 0,
              "ticks": ""
             }
            }
           }
          ],
          "carpet": [
           {
            "aaxis": {
             "endlinecolor": "#2a3f5f",
             "gridcolor": "white",
             "linecolor": "white",
             "minorgridcolor": "white",
             "startlinecolor": "#2a3f5f"
            },
            "baxis": {
             "endlinecolor": "#2a3f5f",
             "gridcolor": "white",
             "linecolor": "white",
             "minorgridcolor": "white",
             "startlinecolor": "#2a3f5f"
            },
            "type": "carpet"
           }
          ],
          "table": [
           {
            "cells": {
             "fill": {
              "color": "#EBF0F8"
             },
             "line": {
              "color": "white"
             }
            },
            "header": {
             "fill": {
              "color": "#C8D4E3"
             },
             "line": {
              "color": "white"
             }
            },
            "type": "table"
           }
          ],
          "barpolar": [
           {
            "marker": {
             "line": {
              "color": "#E5ECF6",
              "width": 0.5
             },
             "pattern": {
              "fillmode": "overlay",
              "size": 10,
              "solidity": 0.2
             }
            },
            "type": "barpolar"
           }
          ],
          "pie": [
           {
            "automargin": true,
            "type": "pie"
           }
          ]
         },
         "layout": {
          "autotypenumbers": "strict",
          "colorway": [
           "#636efa",
           "#EF553B",
           "#00cc96",
           "#ab63fa",
           "#FFA15A",
           "#19d3f3",
           "#FF6692",
           "#B6E880",
           "#FF97FF",
           "#FECB52"
          ],
          "font": {
           "color": "#2a3f5f"
          },
          "hovermode": "closest",
          "hoverlabel": {
           "align": "left"
          },
          "paper_bgcolor": "white",
          "plot_bgcolor": "#E5ECF6",
          "polar": {
           "bgcolor": "#E5ECF6",
           "angularaxis": {
            "gridcolor": "white",
            "linecolor": "white",
            "ticks": ""
           },
           "radialaxis": {
            "gridcolor": "white",
            "linecolor": "white",
            "ticks": ""
           }
          },
          "ternary": {
           "bgcolor": "#E5ECF6",
           "aaxis": {
            "gridcolor": "white",
            "linecolor": "white",
            "ticks": ""
           },
           "baxis": {
            "gridcolor": "white",
            "linecolor": "white",
            "ticks": ""
           },
           "caxis": {
            "gridcolor": "white",
            "linecolor": "white",
            "ticks": ""
           }
          },
          "coloraxis": {
           "colorbar": {
            "outlinewidth": 0,
            "ticks": ""
           }
          },
          "colorscale": {
           "sequential": [
            [
             0.0,
             "#0d0887"
            ],
            [
             0.1111111111111111,
             "#46039f"
            ],
            [
             0.2222222222222222,
             "#7201a8"
            ],
            [
             0.3333333333333333,
             "#9c179e"
            ],
            [
             0.4444444444444444,
             "#bd3786"
            ],
            [
             0.5555555555555556,
             "#d8576b"
            ],
            [
             0.6666666666666666,
             "#ed7953"
            ],
            [
             0.7777777777777778,
             "#fb9f3a"
            ],
            [
             0.8888888888888888,
             "#fdca26"
            ],
            [
             1.0,
             "#f0f921"
            ]
           ],
           "sequentialminus": [
            [
             0.0,
             "#0d0887"
            ],
            [
             0.1111111111111111,
             "#46039f"
            ],
            [
             0.2222222222222222,
             "#7201a8"
            ],
            [
             0.3333333333333333,
             "#9c179e"
            ],
            [
             0.4444444444444444,
             "#bd3786"
            ],
            [
             0.5555555555555556,
             "#d8576b"
            ],
            [
             0.6666666666666666,
             "#ed7953"
            ],
            [
             0.7777777777777778,
             "#fb9f3a"
            ],
            [
             0.8888888888888888,
             "#fdca26"
            ],
            [
             1.0,
             "#f0f921"
            ]
           ],
           "diverging": [
            [
             0,
             "#8e0152"
            ],
            [
             0.1,
             "#c51b7d"
            ],
            [
             0.2,
             "#de77ae"
            ],
            [
             0.3,
             "#f1b6da"
            ],
            [
             0.4,
             "#fde0ef"
            ],
            [
             0.5,
             "#f7f7f7"
            ],
            [
             0.6,
             "#e6f5d0"
            ],
            [
             0.7,
             "#b8e186"
            ],
            [
             0.8,
             "#7fbc41"
            ],
            [
             0.9,
             "#4d9221"
            ],
            [
             1,
             "#276419"
            ]
           ]
          },
          "xaxis": {
           "gridcolor": "white",
           "linecolor": "white",
           "ticks": "",
           "title": {
            "standoff": 15
           },
           "zerolinecolor": "white",
           "automargin": true,
           "zerolinewidth": 2
          },
          "yaxis": {
           "gridcolor": "white",
           "linecolor": "white",
           "ticks": "",
           "title": {
            "standoff": 15
           },
           "zerolinecolor": "white",
           "automargin": true,
           "zerolinewidth": 2
          },
          "scene": {
           "xaxis": {
            "backgroundcolor": "#E5ECF6",
            "gridcolor": "white",
            "linecolor": "white",
            "showbackground": true,
            "ticks": "",
            "zerolinecolor": "white",
            "gridwidth": 2
           },
           "yaxis": {
            "backgroundcolor": "#E5ECF6",
            "gridcolor": "white",
            "linecolor": "white",
            "showbackground": true,
            "ticks": "",
            "zerolinecolor": "white",
            "gridwidth": 2
           },
           "zaxis": {
            "backgroundcolor": "#E5ECF6",
            "gridcolor": "white",
            "linecolor": "white",
            "showbackground": true,
            "ticks": "",
            "zerolinecolor": "white",
            "gridwidth": 2
           }
          },
          "shapedefaults": {
           "line": {
            "color": "#2a3f5f"
           }
          },
          "annotationdefaults": {
           "arrowcolor": "#2a3f5f",
           "arrowhead": 0,
           "arrowwidth": 1
          },
          "geo": {
           "bgcolor": "white",
           "landcolor": "#E5ECF6",
           "subunitcolor": "white",
           "showland": true,
           "showlakes": true,
           "lakecolor": "white"
          },
          "title": {
           "x": 0.05
          },
          "mapbox": {
           "style": "light"
          }
         }
        }
       },
       "config": {
        "plotlyServerURL": "https://plot.ly"
       }
      }
     },
     "metadata": {},
     "output_type": "display_data"
    },
    {
     "data": {
      "application/vnd.plotly.v1+json": {
       "data": [
        {
         "cliponaxis": false,
         "hovertemplate": [
          "selection (CategoricalDistribution): 9.517470590476449e-05<extra></extra>",
          "max_iter (IntDistribution): 0.005614042233104767<extra></extra>",
          "l1_ratio (FloatDistribution): 0.008634895329034196<extra></extra>",
          "alpha (FloatDistribution): 0.9856558877319562<extra></extra>"
         ],
         "name": "Objective Value",
         "orientation": "h",
         "text": [
          "<0.01",
          "<0.01",
          "<0.01",
          "0.99"
         ],
         "textposition": "outside",
         "x": [
          9.517470590476449E-5,
          0.005614042233104767,
          0.008634895329034196,
          0.9856558877319562
         ],
         "y": [
          "selection",
          "max_iter",
          "l1_ratio",
          "alpha"
         ],
         "type": "bar"
        }
       ],
       "layout": {
        "title": {
         "text": "Hyperparameter Importances"
        },
        "xaxis": {
         "title": {
          "text": "Hyperparameter Importance"
         }
        },
        "yaxis": {
         "title": {
          "text": "Hyperparameter"
         }
        },
        "template": {
         "data": {
          "histogram2dcontour": [
           {
            "type": "histogram2dcontour",
            "colorbar": {
             "outlinewidth": 0,
             "ticks": ""
            },
            "colorscale": [
             [
              0.0,
              "#0d0887"
             ],
             [
              0.1111111111111111,
              "#46039f"
             ],
             [
              0.2222222222222222,
              "#7201a8"
             ],
             [
              0.3333333333333333,
              "#9c179e"
             ],
             [
              0.4444444444444444,
              "#bd3786"
             ],
             [
              0.5555555555555556,
              "#d8576b"
             ],
             [
              0.6666666666666666,
              "#ed7953"
             ],
             [
              0.7777777777777778,
              "#fb9f3a"
             ],
             [
              0.8888888888888888,
              "#fdca26"
             ],
             [
              1.0,
              "#f0f921"
             ]
            ]
           }
          ],
          "choropleth": [
           {
            "type": "choropleth",
            "colorbar": {
             "outlinewidth": 0,
             "ticks": ""
            }
           }
          ],
          "histogram2d": [
           {
            "type": "histogram2d",
            "colorbar": {
             "outlinewidth": 0,
             "ticks": ""
            },
            "colorscale": [
             [
              0.0,
              "#0d0887"
             ],
             [
              0.1111111111111111,
              "#46039f"
             ],
             [
              0.2222222222222222,
              "#7201a8"
             ],
             [
              0.3333333333333333,
              "#9c179e"
             ],
             [
              0.4444444444444444,
              "#bd3786"
             ],
             [
              0.5555555555555556,
              "#d8576b"
             ],
             [
              0.6666666666666666,
              "#ed7953"
             ],
             [
              0.7777777777777778,
              "#fb9f3a"
             ],
             [
              0.8888888888888888,
              "#fdca26"
             ],
             [
              1.0,
              "#f0f921"
             ]
            ]
           }
          ],
          "heatmap": [
           {
            "type": "heatmap",
            "colorbar": {
             "outlinewidth": 0,
             "ticks": ""
            },
            "colorscale": [
             [
              0.0,
              "#0d0887"
             ],
             [
              0.1111111111111111,
              "#46039f"
             ],
             [
              0.2222222222222222,
              "#7201a8"
             ],
             [
              0.3333333333333333,
              "#9c179e"
             ],
             [
              0.4444444444444444,
              "#bd3786"
             ],
             [
              0.5555555555555556,
              "#d8576b"
             ],
             [
              0.6666666666666666,
              "#ed7953"
             ],
             [
              0.7777777777777778,
              "#fb9f3a"
             ],
             [
              0.8888888888888888,
              "#fdca26"
             ],
             [
              1.0,
              "#f0f921"
             ]
            ]
           }
          ],
          "contourcarpet": [
           {
            "type": "contourcarpet",
            "colorbar": {
             "outlinewidth": 0,
             "ticks": ""
            }
           }
          ],
          "contour": [
           {
            "type": "contour",
            "colorbar": {
             "outlinewidth": 0,
             "ticks": ""
            },
            "colorscale": [
             [
              0.0,
              "#0d0887"
             ],
             [
              0.1111111111111111,
              "#46039f"
             ],
             [
              0.2222222222222222,
              "#7201a8"
             ],
             [
              0.3333333333333333,
              "#9c179e"
             ],
             [
              0.4444444444444444,
              "#bd3786"
             ],
             [
              0.5555555555555556,
              "#d8576b"
             ],
             [
              0.6666666666666666,
              "#ed7953"
             ],
             [
              0.7777777777777778,
              "#fb9f3a"
             ],
             [
              0.8888888888888888,
              "#fdca26"
             ],
             [
              1.0,
              "#f0f921"
             ]
            ]
           }
          ],
          "surface": [
           {
            "type": "surface",
            "colorbar": {
             "outlinewidth": 0,
             "ticks": ""
            },
            "colorscale": [
             [
              0.0,
              "#0d0887"
             ],
             [
              0.1111111111111111,
              "#46039f"
             ],
             [
              0.2222222222222222,
              "#7201a8"
             ],
             [
              0.3333333333333333,
              "#9c179e"
             ],
             [
              0.4444444444444444,
              "#bd3786"
             ],
             [
              0.5555555555555556,
              "#d8576b"
             ],
             [
              0.6666666666666666,
              "#ed7953"
             ],
             [
              0.7777777777777778,
              "#fb9f3a"
             ],
             [
              0.8888888888888888,
              "#fdca26"
             ],
             [
              1.0,
              "#f0f921"
             ]
            ]
           }
          ],
          "mesh3d": [
           {
            "type": "mesh3d",
            "colorbar": {
             "outlinewidth": 0,
             "ticks": ""
            }
           }
          ],
          "scatter": [
           {
            "fillpattern": {
             "fillmode": "overlay",
             "size": 10,
             "solidity": 0.2
            },
            "type": "scatter"
           }
          ],
          "parcoords": [
           {
            "type": "parcoords",
            "line": {
             "colorbar": {
              "outlinewidth": 0,
              "ticks": ""
             }
            }
           }
          ],
          "scatterpolargl": [
           {
            "type": "scatterpolargl",
            "marker": {
             "colorbar": {
              "outlinewidth": 0,
              "ticks": ""
             }
            }
           }
          ],
          "bar": [
           {
            "error_x": {
             "color": "#2a3f5f"
            },
            "error_y": {
             "color": "#2a3f5f"
            },
            "marker": {
             "line": {
              "color": "#E5ECF6",
              "width": 0.5
             },
             "pattern": {
              "fillmode": "overlay",
              "size": 10,
              "solidity": 0.2
             }
            },
            "type": "bar"
           }
          ],
          "scattergeo": [
           {
            "type": "scattergeo",
            "marker": {
             "colorbar": {
              "outlinewidth": 0,
              "ticks": ""
             }
            }
           }
          ],
          "scatterpolar": [
           {
            "type": "scatterpolar",
            "marker": {
             "colorbar": {
              "outlinewidth": 0,
              "ticks": ""
             }
            }
           }
          ],
          "histogram": [
           {
            "marker": {
             "pattern": {
              "fillmode": "overlay",
              "size": 10,
              "solidity": 0.2
             }
            },
            "type": "histogram"
           }
          ],
          "scattergl": [
           {
            "type": "scattergl",
            "marker": {
             "colorbar": {
              "outlinewidth": 0,
              "ticks": ""
             }
            }
           }
          ],
          "scatter3d": [
           {
            "type": "scatter3d",
            "line": {
             "colorbar": {
              "outlinewidth": 0,
              "ticks": ""
             }
            },
            "marker": {
             "colorbar": {
              "outlinewidth": 0,
              "ticks": ""
             }
            }
           }
          ],
          "scattermap": [
           {
            "type": "scattermap",
            "marker": {
             "colorbar": {
              "outlinewidth": 0,
              "ticks": ""
             }
            }
           }
          ],
          "scattermapbox": [
           {
            "type": "scattermapbox",
            "marker": {
             "colorbar": {
              "outlinewidth": 0,
              "ticks": ""
             }
            }
           }
          ],
          "scatterternary": [
           {
            "type": "scatterternary",
            "marker": {
             "colorbar": {
              "outlinewidth": 0,
              "ticks": ""
             }
            }
           }
          ],
          "scattercarpet": [
           {
            "type": "scattercarpet",
            "marker": {
             "colorbar": {
              "outlinewidth": 0,
              "ticks": ""
             }
            }
           }
          ],
          "carpet": [
           {
            "aaxis": {
             "endlinecolor": "#2a3f5f",
             "gridcolor": "white",
             "linecolor": "white",
             "minorgridcolor": "white",
             "startlinecolor": "#2a3f5f"
            },
            "baxis": {
             "endlinecolor": "#2a3f5f",
             "gridcolor": "white",
             "linecolor": "white",
             "minorgridcolor": "white",
             "startlinecolor": "#2a3f5f"
            },
            "type": "carpet"
           }
          ],
          "table": [
           {
            "cells": {
             "fill": {
              "color": "#EBF0F8"
             },
             "line": {
              "color": "white"
             }
            },
            "header": {
             "fill": {
              "color": "#C8D4E3"
             },
             "line": {
              "color": "white"
             }
            },
            "type": "table"
           }
          ],
          "barpolar": [
           {
            "marker": {
             "line": {
              "color": "#E5ECF6",
              "width": 0.5
             },
             "pattern": {
              "fillmode": "overlay",
              "size": 10,
              "solidity": 0.2
             }
            },
            "type": "barpolar"
           }
          ],
          "pie": [
           {
            "automargin": true,
            "type": "pie"
           }
          ]
         },
         "layout": {
          "autotypenumbers": "strict",
          "colorway": [
           "#636efa",
           "#EF553B",
           "#00cc96",
           "#ab63fa",
           "#FFA15A",
           "#19d3f3",
           "#FF6692",
           "#B6E880",
           "#FF97FF",
           "#FECB52"
          ],
          "font": {
           "color": "#2a3f5f"
          },
          "hovermode": "closest",
          "hoverlabel": {
           "align": "left"
          },
          "paper_bgcolor": "white",
          "plot_bgcolor": "#E5ECF6",
          "polar": {
           "bgcolor": "#E5ECF6",
           "angularaxis": {
            "gridcolor": "white",
            "linecolor": "white",
            "ticks": ""
           },
           "radialaxis": {
            "gridcolor": "white",
            "linecolor": "white",
            "ticks": ""
           }
          },
          "ternary": {
           "bgcolor": "#E5ECF6",
           "aaxis": {
            "gridcolor": "white",
            "linecolor": "white",
            "ticks": ""
           },
           "baxis": {
            "gridcolor": "white",
            "linecolor": "white",
            "ticks": ""
           },
           "caxis": {
            "gridcolor": "white",
            "linecolor": "white",
            "ticks": ""
           }
          },
          "coloraxis": {
           "colorbar": {
            "outlinewidth": 0,
            "ticks": ""
           }
          },
          "colorscale": {
           "sequential": [
            [
             0.0,
             "#0d0887"
            ],
            [
             0.1111111111111111,
             "#46039f"
            ],
            [
             0.2222222222222222,
             "#7201a8"
            ],
            [
             0.3333333333333333,
             "#9c179e"
            ],
            [
             0.4444444444444444,
             "#bd3786"
            ],
            [
             0.5555555555555556,
             "#d8576b"
            ],
            [
             0.6666666666666666,
             "#ed7953"
            ],
            [
             0.7777777777777778,
             "#fb9f3a"
            ],
            [
             0.8888888888888888,
             "#fdca26"
            ],
            [
             1.0,
             "#f0f921"
            ]
           ],
           "sequentialminus": [
            [
             0.0,
             "#0d0887"
            ],
            [
             0.1111111111111111,
             "#46039f"
            ],
            [
             0.2222222222222222,
             "#7201a8"
            ],
            [
             0.3333333333333333,
             "#9c179e"
            ],
            [
             0.4444444444444444,
             "#bd3786"
            ],
            [
             0.5555555555555556,
             "#d8576b"
            ],
            [
             0.6666666666666666,
             "#ed7953"
            ],
            [
             0.7777777777777778,
             "#fb9f3a"
            ],
            [
             0.8888888888888888,
             "#fdca26"
            ],
            [
             1.0,
             "#f0f921"
            ]
           ],
           "diverging": [
            [
             0,
             "#8e0152"
            ],
            [
             0.1,
             "#c51b7d"
            ],
            [
             0.2,
             "#de77ae"
            ],
            [
             0.3,
             "#f1b6da"
            ],
            [
             0.4,
             "#fde0ef"
            ],
            [
             0.5,
             "#f7f7f7"
            ],
            [
             0.6,
             "#e6f5d0"
            ],
            [
             0.7,
             "#b8e186"
            ],
            [
             0.8,
             "#7fbc41"
            ],
            [
             0.9,
             "#4d9221"
            ],
            [
             1,
             "#276419"
            ]
           ]
          },
          "xaxis": {
           "gridcolor": "white",
           "linecolor": "white",
           "ticks": "",
           "title": {
            "standoff": 15
           },
           "zerolinecolor": "white",
           "automargin": true,
           "zerolinewidth": 2
          },
          "yaxis": {
           "gridcolor": "white",
           "linecolor": "white",
           "ticks": "",
           "title": {
            "standoff": 15
           },
           "zerolinecolor": "white",
           "automargin": true,
           "zerolinewidth": 2
          },
          "scene": {
           "xaxis": {
            "backgroundcolor": "#E5ECF6",
            "gridcolor": "white",
            "linecolor": "white",
            "showbackground": true,
            "ticks": "",
            "zerolinecolor": "white",
            "gridwidth": 2
           },
           "yaxis": {
            "backgroundcolor": "#E5ECF6",
            "gridcolor": "white",
            "linecolor": "white",
            "showbackground": true,
            "ticks": "",
            "zerolinecolor": "white",
            "gridwidth": 2
           },
           "zaxis": {
            "backgroundcolor": "#E5ECF6",
            "gridcolor": "white",
            "linecolor": "white",
            "showbackground": true,
            "ticks": "",
            "zerolinecolor": "white",
            "gridwidth": 2
           }
          },
          "shapedefaults": {
           "line": {
            "color": "#2a3f5f"
           }
          },
          "annotationdefaults": {
           "arrowcolor": "#2a3f5f",
           "arrowhead": 0,
           "arrowwidth": 1
          },
          "geo": {
           "bgcolor": "white",
           "landcolor": "#E5ECF6",
           "subunitcolor": "white",
           "showland": true,
           "showlakes": true,
           "lakecolor": "white"
          },
          "title": {
           "x": 0.05
          },
          "mapbox": {
           "style": "light"
          }
         }
        }
       },
       "config": {
        "plotlyServerURL": "https://plot.ly"
       }
      }
     },
     "metadata": {},
     "output_type": "display_data"
    }
   ],
   "execution_count": 13
  },
  {
   "metadata": {
    "ExecuteTime": {
     "end_time": "2025-08-22T16:51:09.926759Z",
     "start_time": "2025-08-22T16:51:09.916059Z"
    }
   },
   "cell_type": "code",
   "source": [
    "with_sentiment = pd.read_csv(Path(cfg.data.processed_dir) / cfg.data.results_direct_multi_step)\n",
    "without_sentiment = pd.read_csv(Path(cfg.data.processed_dir) / cfg.data.results_direct_multi_step_wo_sent)\n",
    "\n",
    "with_sentiment[\"sentiment\"] = \"with\"\n",
    "without_sentiment[\"sentiment\"] = \"without\"\n",
    "\n",
    "results = pd.concat([with_sentiment, without_sentiment], ignore_index=True)\n",
    "\n",
    "pivot = results.pivot(index=\"split\", columns=\"sentiment\", values=[\"mae\", \"mse\", \"rmse\", \"smape\", \"r2\"]).round(8)\n",
    "display(pivot)"
   ],
   "id": "38f12682f9bd9468",
   "outputs": [
    {
     "data": {
      "text/plain": [
       "                mae                 mse                rmse            \\\n",
       "sentiment      with   without      with   without      with   without   \n",
       "split                                                                   \n",
       "test       0.007771  0.007675  0.000103  0.000102  0.010127  0.010080   \n",
       "train      0.008057  0.008050  0.000156  0.000158  0.012483  0.012557   \n",
       "val        0.006952  0.006830  0.000090  0.000088  0.009488  0.009380   \n",
       "\n",
       "              smape                  r2            \n",
       "sentiment      with   without      with   without  \n",
       "split                                              \n",
       "test       1.592334  1.626652 -0.050532 -0.039766  \n",
       "train      1.560783  1.621333  0.034152  0.022639  \n",
       "val        1.601506  1.636823 -0.060672 -0.036224  "
      ],
      "text/html": [
       "<div>\n",
       "<style scoped>\n",
       "    .dataframe tbody tr th:only-of-type {\n",
       "        vertical-align: middle;\n",
       "    }\n",
       "\n",
       "    .dataframe tbody tr th {\n",
       "        vertical-align: top;\n",
       "    }\n",
       "\n",
       "    .dataframe thead tr th {\n",
       "        text-align: left;\n",
       "    }\n",
       "\n",
       "    .dataframe thead tr:last-of-type th {\n",
       "        text-align: right;\n",
       "    }\n",
       "</style>\n",
       "<table border=\"1\" class=\"dataframe\">\n",
       "  <thead>\n",
       "    <tr>\n",
       "      <th></th>\n",
       "      <th colspan=\"2\" halign=\"left\">mae</th>\n",
       "      <th colspan=\"2\" halign=\"left\">mse</th>\n",
       "      <th colspan=\"2\" halign=\"left\">rmse</th>\n",
       "      <th colspan=\"2\" halign=\"left\">smape</th>\n",
       "      <th colspan=\"2\" halign=\"left\">r2</th>\n",
       "    </tr>\n",
       "    <tr>\n",
       "      <th>sentiment</th>\n",
       "      <th>with</th>\n",
       "      <th>without</th>\n",
       "      <th>with</th>\n",
       "      <th>without</th>\n",
       "      <th>with</th>\n",
       "      <th>without</th>\n",
       "      <th>with</th>\n",
       "      <th>without</th>\n",
       "      <th>with</th>\n",
       "      <th>without</th>\n",
       "    </tr>\n",
       "    <tr>\n",
       "      <th>split</th>\n",
       "      <th></th>\n",
       "      <th></th>\n",
       "      <th></th>\n",
       "      <th></th>\n",
       "      <th></th>\n",
       "      <th></th>\n",
       "      <th></th>\n",
       "      <th></th>\n",
       "      <th></th>\n",
       "      <th></th>\n",
       "    </tr>\n",
       "  </thead>\n",
       "  <tbody>\n",
       "    <tr>\n",
       "      <th>test</th>\n",
       "      <td>0.007771</td>\n",
       "      <td>0.007675</td>\n",
       "      <td>0.000103</td>\n",
       "      <td>0.000102</td>\n",
       "      <td>0.010127</td>\n",
       "      <td>0.010080</td>\n",
       "      <td>1.592334</td>\n",
       "      <td>1.626652</td>\n",
       "      <td>-0.050532</td>\n",
       "      <td>-0.039766</td>\n",
       "    </tr>\n",
       "    <tr>\n",
       "      <th>train</th>\n",
       "      <td>0.008057</td>\n",
       "      <td>0.008050</td>\n",
       "      <td>0.000156</td>\n",
       "      <td>0.000158</td>\n",
       "      <td>0.012483</td>\n",
       "      <td>0.012557</td>\n",
       "      <td>1.560783</td>\n",
       "      <td>1.621333</td>\n",
       "      <td>0.034152</td>\n",
       "      <td>0.022639</td>\n",
       "    </tr>\n",
       "    <tr>\n",
       "      <th>val</th>\n",
       "      <td>0.006952</td>\n",
       "      <td>0.006830</td>\n",
       "      <td>0.000090</td>\n",
       "      <td>0.000088</td>\n",
       "      <td>0.009488</td>\n",
       "      <td>0.009380</td>\n",
       "      <td>1.601506</td>\n",
       "      <td>1.636823</td>\n",
       "      <td>-0.060672</td>\n",
       "      <td>-0.036224</td>\n",
       "    </tr>\n",
       "  </tbody>\n",
       "</table>\n",
       "</div>"
      ]
     },
     "metadata": {},
     "output_type": "display_data"
    }
   ],
   "execution_count": 14
  }
 ],
 "metadata": {
  "kernelspec": {
   "display_name": "Python 3",
   "language": "python",
   "name": "python3"
  },
  "language_info": {
   "codemirror_mode": {
    "name": "ipython",
    "version": 2
   },
   "file_extension": ".py",
   "mimetype": "text/x-python",
   "name": "python",
   "nbconvert_exporter": "python",
   "pygments_lexer": "ipython2",
   "version": "2.7.6"
  }
 },
 "nbformat": 4,
 "nbformat_minor": 5
}

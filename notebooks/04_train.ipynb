{
 "cells": [
  {
   "metadata": {},
   "cell_type": "markdown",
   "source": "# Train and Tune the Models",
   "id": "950d0a291168f9e"
  },
  {
   "cell_type": "code",
   "id": "initial_id",
   "metadata": {
    "collapsed": true,
    "ExecuteTime": {
     "end_time": "2025-08-17T15:37:40.594532Z",
     "start_time": "2025-08-17T15:37:38.602616Z"
    }
   },
   "source": [
    "import os\n",
    "\n",
    "import optuna\n",
    "\n",
    "from src.config import Config\n",
    "from src.data import time_series_split\n",
    "from src.models.classical import LinearElasticNet\n",
    "from src.preprocessing import get_preprocessor\n",
    "from src.train import ModelTrainer\n",
    "from src.utils import load_csv, set_seed\n",
    "\n",
    "from pathlib import Path"
   ],
   "outputs": [],
   "execution_count": 1
  },
  {
   "metadata": {
    "ExecuteTime": {
     "end_time": "2025-08-17T15:37:40.600674Z",
     "start_time": "2025-08-17T15:37:40.598034Z"
    }
   },
   "cell_type": "code",
   "source": "os.environ[\"WANDB_MODE\"] = \"offline\"",
   "id": "8c25f77290a7dd86",
   "outputs": [],
   "execution_count": 2
  },
  {
   "metadata": {
    "ExecuteTime": {
     "end_time": "2025-08-17T15:37:41.562830Z",
     "start_time": "2025-08-17T15:37:40.603682Z"
    }
   },
   "cell_type": "code",
   "source": [
    "cfg = Config(\"../config/config.yaml\")\n",
    "rng = set_seed(cfg.runtime.seed)"
   ],
   "id": "814fc30de23a20b1",
   "outputs": [
    {
     "name": "stderr",
     "output_type": "stream",
     "text": [
      "2025-08-17 17:37:41,561 - INFO - src.utils - Global random seed set to 42\n"
     ]
    }
   ],
   "execution_count": 3
  },
  {
   "metadata": {
    "ExecuteTime": {
     "end_time": "2025-08-17T15:37:41.643360Z",
     "start_time": "2025-08-17T15:37:41.620253Z"
    }
   },
   "cell_type": "code",
   "source": [
    "df_full = load_csv(str(os.path.join(cfg.data.processed_dir, cfg.data.name_features_full)))\n",
    "df_ml = df_full.drop(columns=[\"open\", \"high\", \"low\", \"close\", \"volume\", \"adj_close\"]).copy()\n",
    "df_ml"
   ],
   "id": "d7f8651a59ccd39c",
   "outputs": [
    {
     "data": {
      "text/plain": [
       "            date       pos       neu       neg  pos_minus_neg     emb_0  \\\n",
       "0     2008-09-16  0.649857  0.037859  0.312283       0.337574 -0.379048   \n",
       "1     2008-09-17  0.695084  0.020132  0.284784       0.410300 -0.580982   \n",
       "2     2008-09-18  0.751735  0.076621  0.171643       0.580092 -0.516051   \n",
       "3     2008-09-19  0.772076  0.000513  0.227411       0.544664 -0.425247   \n",
       "4     2008-09-22  0.619301  0.100864  0.279835       0.339466 -0.391367   \n",
       "...          ...       ...       ...       ...            ...       ...   \n",
       "1958  2016-06-27  0.684537  0.065429  0.250034       0.434503 -0.126545   \n",
       "1959  2016-06-28  0.714076  0.086932  0.198991       0.515085 -0.035628   \n",
       "1960  2016-06-29  0.673349  0.114712  0.211939       0.461410 -0.183834   \n",
       "1961  2016-06-30  0.727080  0.040575  0.232345       0.494736 -0.142834   \n",
       "1962  2016-07-01  0.752016  0.043626  0.204358       0.547657 -0.086177   \n",
       "\n",
       "         emb_1     emb_2     emb_3     emb_4  ...    sma_10    ema_10  \\\n",
       "0    -0.198304 -0.910614  0.791118  0.318494  ... -0.004057 -0.003995   \n",
       "1    -0.311309 -0.798957  0.784174  0.422490  ... -0.008344 -0.010810   \n",
       "2    -0.407941 -0.825400  0.645514  0.481609  ... -0.001518 -0.001951   \n",
       "3    -0.328038 -0.681346  0.687526  0.308910  ...  0.001482  0.004389   \n",
       "4    -0.223390 -0.905261  0.678576  0.288859  ... -0.004396 -0.002460   \n",
       "...        ...       ...       ...       ...  ...       ...       ...   \n",
       "1958 -0.069503 -0.505809  0.675737  0.537852  ... -0.003397 -0.006286   \n",
       "1959  0.026517 -0.447723  0.623409  0.638349  ... -0.001511 -0.002307   \n",
       "1960 -0.045571 -0.742004  0.678196  0.518598  ...  0.000309  0.001064   \n",
       "1961 -0.103121 -0.675863  0.680667  0.464056  ...  0.001104  0.003273   \n",
       "1962  0.007075 -0.717136  0.513033  0.448127  ...  0.001539  0.002874   \n",
       "\n",
       "        lag_25    sma_25    ema_25  quarter  dow    q_mean     q_std    q_skew  \n",
       "0     0.004085 -0.002534 -0.002034        3    1  0.000048  0.012294 -0.837789  \n",
       "1    -0.011943 -0.003716 -0.005068        3    2  0.000048  0.012294 -0.837789  \n",
       "2    -0.009451 -0.001821 -0.001761        3    3  0.000048  0.012294 -0.837789  \n",
       "3     0.007168 -0.000791  0.000906        3    4  0.000048  0.012294 -0.837789  \n",
       "4     0.003778 -0.002273 -0.001724        3    0  0.000048  0.012294 -0.837789  \n",
       "...        ...       ...       ...      ...  ...       ...       ...       ...  \n",
       "1958  0.003752 -0.000833 -0.002734        2    0  0.000062  0.009649 -0.181613  \n",
       "1959 -0.000458 -0.000191 -0.001324        2    1  0.000062  0.009649 -0.181613  \n",
       "1960  0.012110 -0.000026  0.000027        2    2  0.000062  0.009649 -0.181613  \n",
       "1961  0.008182  0.000175  0.001041        2    3  0.000062  0.009649 -0.181613  \n",
       "1962 -0.001302  0.000271  0.001044        3    4  0.000048  0.012294 -0.837789  \n",
       "\n",
       "[1963 rows x 42 columns]"
      ],
      "text/html": [
       "<div>\n",
       "<style scoped>\n",
       "    .dataframe tbody tr th:only-of-type {\n",
       "        vertical-align: middle;\n",
       "    }\n",
       "\n",
       "    .dataframe tbody tr th {\n",
       "        vertical-align: top;\n",
       "    }\n",
       "\n",
       "    .dataframe thead th {\n",
       "        text-align: right;\n",
       "    }\n",
       "</style>\n",
       "<table border=\"1\" class=\"dataframe\">\n",
       "  <thead>\n",
       "    <tr style=\"text-align: right;\">\n",
       "      <th></th>\n",
       "      <th>date</th>\n",
       "      <th>pos</th>\n",
       "      <th>neu</th>\n",
       "      <th>neg</th>\n",
       "      <th>pos_minus_neg</th>\n",
       "      <th>emb_0</th>\n",
       "      <th>emb_1</th>\n",
       "      <th>emb_2</th>\n",
       "      <th>emb_3</th>\n",
       "      <th>emb_4</th>\n",
       "      <th>...</th>\n",
       "      <th>sma_10</th>\n",
       "      <th>ema_10</th>\n",
       "      <th>lag_25</th>\n",
       "      <th>sma_25</th>\n",
       "      <th>ema_25</th>\n",
       "      <th>quarter</th>\n",
       "      <th>dow</th>\n",
       "      <th>q_mean</th>\n",
       "      <th>q_std</th>\n",
       "      <th>q_skew</th>\n",
       "    </tr>\n",
       "  </thead>\n",
       "  <tbody>\n",
       "    <tr>\n",
       "      <th>0</th>\n",
       "      <td>2008-09-16</td>\n",
       "      <td>0.649857</td>\n",
       "      <td>0.037859</td>\n",
       "      <td>0.312283</td>\n",
       "      <td>0.337574</td>\n",
       "      <td>-0.379048</td>\n",
       "      <td>-0.198304</td>\n",
       "      <td>-0.910614</td>\n",
       "      <td>0.791118</td>\n",
       "      <td>0.318494</td>\n",
       "      <td>...</td>\n",
       "      <td>-0.004057</td>\n",
       "      <td>-0.003995</td>\n",
       "      <td>0.004085</td>\n",
       "      <td>-0.002534</td>\n",
       "      <td>-0.002034</td>\n",
       "      <td>3</td>\n",
       "      <td>1</td>\n",
       "      <td>0.000048</td>\n",
       "      <td>0.012294</td>\n",
       "      <td>-0.837789</td>\n",
       "    </tr>\n",
       "    <tr>\n",
       "      <th>1</th>\n",
       "      <td>2008-09-17</td>\n",
       "      <td>0.695084</td>\n",
       "      <td>0.020132</td>\n",
       "      <td>0.284784</td>\n",
       "      <td>0.410300</td>\n",
       "      <td>-0.580982</td>\n",
       "      <td>-0.311309</td>\n",
       "      <td>-0.798957</td>\n",
       "      <td>0.784174</td>\n",
       "      <td>0.422490</td>\n",
       "      <td>...</td>\n",
       "      <td>-0.008344</td>\n",
       "      <td>-0.010810</td>\n",
       "      <td>-0.011943</td>\n",
       "      <td>-0.003716</td>\n",
       "      <td>-0.005068</td>\n",
       "      <td>3</td>\n",
       "      <td>2</td>\n",
       "      <td>0.000048</td>\n",
       "      <td>0.012294</td>\n",
       "      <td>-0.837789</td>\n",
       "    </tr>\n",
       "    <tr>\n",
       "      <th>2</th>\n",
       "      <td>2008-09-18</td>\n",
       "      <td>0.751735</td>\n",
       "      <td>0.076621</td>\n",
       "      <td>0.171643</td>\n",
       "      <td>0.580092</td>\n",
       "      <td>-0.516051</td>\n",
       "      <td>-0.407941</td>\n",
       "      <td>-0.825400</td>\n",
       "      <td>0.645514</td>\n",
       "      <td>0.481609</td>\n",
       "      <td>...</td>\n",
       "      <td>-0.001518</td>\n",
       "      <td>-0.001951</td>\n",
       "      <td>-0.009451</td>\n",
       "      <td>-0.001821</td>\n",
       "      <td>-0.001761</td>\n",
       "      <td>3</td>\n",
       "      <td>3</td>\n",
       "      <td>0.000048</td>\n",
       "      <td>0.012294</td>\n",
       "      <td>-0.837789</td>\n",
       "    </tr>\n",
       "    <tr>\n",
       "      <th>3</th>\n",
       "      <td>2008-09-19</td>\n",
       "      <td>0.772076</td>\n",
       "      <td>0.000513</td>\n",
       "      <td>0.227411</td>\n",
       "      <td>0.544664</td>\n",
       "      <td>-0.425247</td>\n",
       "      <td>-0.328038</td>\n",
       "      <td>-0.681346</td>\n",
       "      <td>0.687526</td>\n",
       "      <td>0.308910</td>\n",
       "      <td>...</td>\n",
       "      <td>0.001482</td>\n",
       "      <td>0.004389</td>\n",
       "      <td>0.007168</td>\n",
       "      <td>-0.000791</td>\n",
       "      <td>0.000906</td>\n",
       "      <td>3</td>\n",
       "      <td>4</td>\n",
       "      <td>0.000048</td>\n",
       "      <td>0.012294</td>\n",
       "      <td>-0.837789</td>\n",
       "    </tr>\n",
       "    <tr>\n",
       "      <th>4</th>\n",
       "      <td>2008-09-22</td>\n",
       "      <td>0.619301</td>\n",
       "      <td>0.100864</td>\n",
       "      <td>0.279835</td>\n",
       "      <td>0.339466</td>\n",
       "      <td>-0.391367</td>\n",
       "      <td>-0.223390</td>\n",
       "      <td>-0.905261</td>\n",
       "      <td>0.678576</td>\n",
       "      <td>0.288859</td>\n",
       "      <td>...</td>\n",
       "      <td>-0.004396</td>\n",
       "      <td>-0.002460</td>\n",
       "      <td>0.003778</td>\n",
       "      <td>-0.002273</td>\n",
       "      <td>-0.001724</td>\n",
       "      <td>3</td>\n",
       "      <td>0</td>\n",
       "      <td>0.000048</td>\n",
       "      <td>0.012294</td>\n",
       "      <td>-0.837789</td>\n",
       "    </tr>\n",
       "    <tr>\n",
       "      <th>...</th>\n",
       "      <td>...</td>\n",
       "      <td>...</td>\n",
       "      <td>...</td>\n",
       "      <td>...</td>\n",
       "      <td>...</td>\n",
       "      <td>...</td>\n",
       "      <td>...</td>\n",
       "      <td>...</td>\n",
       "      <td>...</td>\n",
       "      <td>...</td>\n",
       "      <td>...</td>\n",
       "      <td>...</td>\n",
       "      <td>...</td>\n",
       "      <td>...</td>\n",
       "      <td>...</td>\n",
       "      <td>...</td>\n",
       "      <td>...</td>\n",
       "      <td>...</td>\n",
       "      <td>...</td>\n",
       "      <td>...</td>\n",
       "      <td>...</td>\n",
       "    </tr>\n",
       "    <tr>\n",
       "      <th>1958</th>\n",
       "      <td>2016-06-27</td>\n",
       "      <td>0.684537</td>\n",
       "      <td>0.065429</td>\n",
       "      <td>0.250034</td>\n",
       "      <td>0.434503</td>\n",
       "      <td>-0.126545</td>\n",
       "      <td>-0.069503</td>\n",
       "      <td>-0.505809</td>\n",
       "      <td>0.675737</td>\n",
       "      <td>0.537852</td>\n",
       "      <td>...</td>\n",
       "      <td>-0.003397</td>\n",
       "      <td>-0.006286</td>\n",
       "      <td>0.003752</td>\n",
       "      <td>-0.000833</td>\n",
       "      <td>-0.002734</td>\n",
       "      <td>2</td>\n",
       "      <td>0</td>\n",
       "      <td>0.000062</td>\n",
       "      <td>0.009649</td>\n",
       "      <td>-0.181613</td>\n",
       "    </tr>\n",
       "    <tr>\n",
       "      <th>1959</th>\n",
       "      <td>2016-06-28</td>\n",
       "      <td>0.714076</td>\n",
       "      <td>0.086932</td>\n",
       "      <td>0.198991</td>\n",
       "      <td>0.515085</td>\n",
       "      <td>-0.035628</td>\n",
       "      <td>0.026517</td>\n",
       "      <td>-0.447723</td>\n",
       "      <td>0.623409</td>\n",
       "      <td>0.638349</td>\n",
       "      <td>...</td>\n",
       "      <td>-0.001511</td>\n",
       "      <td>-0.002307</td>\n",
       "      <td>-0.000458</td>\n",
       "      <td>-0.000191</td>\n",
       "      <td>-0.001324</td>\n",
       "      <td>2</td>\n",
       "      <td>1</td>\n",
       "      <td>0.000062</td>\n",
       "      <td>0.009649</td>\n",
       "      <td>-0.181613</td>\n",
       "    </tr>\n",
       "    <tr>\n",
       "      <th>1960</th>\n",
       "      <td>2016-06-29</td>\n",
       "      <td>0.673349</td>\n",
       "      <td>0.114712</td>\n",
       "      <td>0.211939</td>\n",
       "      <td>0.461410</td>\n",
       "      <td>-0.183834</td>\n",
       "      <td>-0.045571</td>\n",
       "      <td>-0.742004</td>\n",
       "      <td>0.678196</td>\n",
       "      <td>0.518598</td>\n",
       "      <td>...</td>\n",
       "      <td>0.000309</td>\n",
       "      <td>0.001064</td>\n",
       "      <td>0.012110</td>\n",
       "      <td>-0.000026</td>\n",
       "      <td>0.000027</td>\n",
       "      <td>2</td>\n",
       "      <td>2</td>\n",
       "      <td>0.000062</td>\n",
       "      <td>0.009649</td>\n",
       "      <td>-0.181613</td>\n",
       "    </tr>\n",
       "    <tr>\n",
       "      <th>1961</th>\n",
       "      <td>2016-06-30</td>\n",
       "      <td>0.727080</td>\n",
       "      <td>0.040575</td>\n",
       "      <td>0.232345</td>\n",
       "      <td>0.494736</td>\n",
       "      <td>-0.142834</td>\n",
       "      <td>-0.103121</td>\n",
       "      <td>-0.675863</td>\n",
       "      <td>0.680667</td>\n",
       "      <td>0.464056</td>\n",
       "      <td>...</td>\n",
       "      <td>0.001104</td>\n",
       "      <td>0.003273</td>\n",
       "      <td>0.008182</td>\n",
       "      <td>0.000175</td>\n",
       "      <td>0.001041</td>\n",
       "      <td>2</td>\n",
       "      <td>3</td>\n",
       "      <td>0.000062</td>\n",
       "      <td>0.009649</td>\n",
       "      <td>-0.181613</td>\n",
       "    </tr>\n",
       "    <tr>\n",
       "      <th>1962</th>\n",
       "      <td>2016-07-01</td>\n",
       "      <td>0.752016</td>\n",
       "      <td>0.043626</td>\n",
       "      <td>0.204358</td>\n",
       "      <td>0.547657</td>\n",
       "      <td>-0.086177</td>\n",
       "      <td>0.007075</td>\n",
       "      <td>-0.717136</td>\n",
       "      <td>0.513033</td>\n",
       "      <td>0.448127</td>\n",
       "      <td>...</td>\n",
       "      <td>0.001539</td>\n",
       "      <td>0.002874</td>\n",
       "      <td>-0.001302</td>\n",
       "      <td>0.000271</td>\n",
       "      <td>0.001044</td>\n",
       "      <td>3</td>\n",
       "      <td>4</td>\n",
       "      <td>0.000048</td>\n",
       "      <td>0.012294</td>\n",
       "      <td>-0.837789</td>\n",
       "    </tr>\n",
       "  </tbody>\n",
       "</table>\n",
       "<p>1963 rows × 42 columns</p>\n",
       "</div>"
      ]
     },
     "execution_count": 4,
     "metadata": {},
     "output_type": "execute_result"
    }
   ],
   "execution_count": 4
  },
  {
   "metadata": {
    "ExecuteTime": {
     "end_time": "2025-08-17T15:37:41.672237Z",
     "start_time": "2025-08-17T15:37:41.668592Z"
    }
   },
   "cell_type": "code",
   "source": "train, val, test, forecast = time_series_split(df_ml, train_ratio=0.8, val_ratio=0.1, horizon=30)",
   "id": "8cef05aa196e294f",
   "outputs": [],
   "execution_count": 5
  },
  {
   "metadata": {
    "ExecuteTime": {
     "end_time": "2025-08-17T15:37:41.780494Z",
     "start_time": "2025-08-17T15:37:41.777028Z"
    }
   },
   "cell_type": "code",
   "source": [
    "X_train, y_train = train.drop(columns=[\"date\", \"target\"]), train[\"target\"]\n",
    "X_val, y_val = val.drop(columns=[\"date\", \"target\"]), val[\"target\"]\n",
    "X_test, y_test = test.drop(columns=[\"date\", \"target\"]), test[\"target\"]\n",
    "X_forecast = forecast.drop(columns=[\"date\", \"target\"])"
   ],
   "id": "5acae1bc061db276",
   "outputs": [],
   "execution_count": 6
  },
  {
   "metadata": {
    "ExecuteTime": {
     "end_time": "2025-08-17T15:37:41.848934Z",
     "start_time": "2025-08-17T15:37:41.846109Z"
    }
   },
   "cell_type": "code",
   "source": [
    "model = LinearElasticNet(horizon=30)\n",
    "preprocessor, _ = get_preprocessor(X_train)\n",
    "\n",
    "config = {\n",
    "    \"model\": \"linear_elasticnet\",\n",
    "    \"optimization_metric\": \"rmse\"\n",
    "}\n",
    "\n",
    "trainer = ModelTrainer(\n",
    "    model=model,\n",
    "    name=\"linear_elasticnet\",\n",
    "    config=config,\n",
    "    preprocessor=preprocessor,\n",
    "    output_path=cfg.data.models_dir\n",
    ")"
   ],
   "id": "42a82702696477d0",
   "outputs": [
    {
     "name": "stderr",
     "output_type": "stream",
     "text": [
      "2025-08-17 17:37:41,847 - INFO - ModelTrainer - Initialized ModelTrainer for model: linear_elasticnet\n"
     ]
    }
   ],
   "execution_count": 7
  },
  {
   "metadata": {
    "ExecuteTime": {
     "end_time": "2025-08-17T15:37:43.724566Z",
     "start_time": "2025-08-17T15:37:41.889597Z"
    }
   },
   "cell_type": "code",
   "source": [
    "from optuna.integration.wandb import WeightsAndBiasesCallback\n",
    "\n",
    "opt_metric = config.get(\"optimization_metric\", \"rmse\")\n",
    "\n",
    "wandb_callback = WeightsAndBiasesCallback(\n",
    "    metric_name=opt_metric,\n",
    "    wandb_kwargs={\n",
    "        \"project\": \"stock_forecasting\",\n",
    "        \"name\": \"optuna_tuning_run\",\n",
    "        \"tags\": [\"optuna\", \"linear_elasticnet\"],\n",
    "        \"dir\": Path(\"../data/models\").resolve()\n",
    "    }\n",
    ")"
   ],
   "id": "ffe7394f2d0159bb",
   "outputs": [
    {
     "name": "stderr",
     "output_type": "stream",
     "text": [
      "C:\\Users\\Vito\\AppData\\Local\\Temp\\ipykernel_1920\\3329073828.py:5: ExperimentalWarning: WeightsAndBiasesCallback is experimental (supported from v2.9.0). The interface can change in the future.\n",
      "  wandb_callback = WeightsAndBiasesCallback(\n"
     ]
    },
    {
     "data": {
      "text/plain": [
       "<IPython.core.display.HTML object>"
      ],
      "text/html": [
       "Tracking run with wandb version 0.21.1"
      ]
     },
     "metadata": {},
     "output_type": "display_data"
    },
    {
     "data": {
      "text/plain": [
       "<IPython.core.display.HTML object>"
      ],
      "text/html": [
       "W&B syncing is set to <code>`offline`<code> in this directory. Run <code>`wandb online`<code> or set <code>WANDB_MODE=online<code> to enable cloud syncing.<br>Run data is saved locally in <code>D:\\IntelliJ\\ml-stock-sent\\data\\models\\wandb\\offline-run-20250817_173742-sh84psaj</code>"
      ]
     },
     "metadata": {},
     "output_type": "display_data"
    }
   ],
   "execution_count": 8
  },
  {
   "metadata": {
    "ExecuteTime": {
     "end_time": "2025-08-17T15:37:45.385370Z",
     "start_time": "2025-08-17T15:37:43.773233Z"
    }
   },
   "cell_type": "code",
   "source": [
    "study = optuna.create_study(direction=\"minimize\")\n",
    "study.optimize(\n",
    "    lambda trial: trainer.objective(trial, X_train, y_train, n_splits=5),\n",
    "    n_trials=30,\n",
    "    callbacks=[wandb_callback]\n",
    ")\n",
    "\n",
    "best_params = study.best_params\n",
    "print(\"Best params:\", best_params)"
   ],
   "id": "a0b77a5f89dab585",
   "outputs": [
    {
     "name": "stderr",
     "output_type": "stream",
     "text": [
      "[I 2025-08-17 17:37:43,774] A new study created in memory with name: no-name-7f556138-b9b1-47ba-af37-e75391729e55\n",
      "2025-08-17 17:37:43,794 - INFO - ModelTrainer - Running Optuna trial with params: {'alpha': 0.5409265632025744, 'l1_ratio': 0.7386036441619197}\n",
      "2025-08-17 17:37:43,842 - INFO - LinearElasticNet - Starting model training...\n",
      "2025-08-17 17:37:43,921 - INFO - LinearElasticNet - Starting model training...\n",
      "2025-08-17 17:37:43,931 - INFO - LinearElasticNet - Starting model training...\n",
      "2025-08-17 17:37:43,941 - INFO - LinearElasticNet - Starting model training...\n",
      "2025-08-17 17:37:43,955 - INFO - LinearElasticNet - Starting model training...\n",
      "[I 2025-08-17 17:37:43,957] Trial 0 finished with value: 0.00884624960386469 and parameters: {'alpha': 0.5409265632025744, 'l1_ratio': 0.7386036441619197}. Best is trial 0 with value: 0.00884624960386469.\n",
      "2025-08-17 17:37:43,958 - INFO - ModelTrainer - Running Optuna trial with params: {'alpha': 0.2674380549248838, 'l1_ratio': 0.28154023978642273}\n",
      "2025-08-17 17:37:43,966 - INFO - LinearElasticNet - Starting model training...\n",
      "2025-08-17 17:37:43,975 - INFO - LinearElasticNet - Starting model training...\n",
      "2025-08-17 17:37:43,984 - INFO - LinearElasticNet - Starting model training...\n",
      "2025-08-17 17:37:43,993 - INFO - LinearElasticNet - Starting model training...\n",
      "2025-08-17 17:37:44,002 - INFO - LinearElasticNet - Starting model training...\n",
      "[I 2025-08-17 17:37:44,005] Trial 1 finished with value: 0.00884624960386469 and parameters: {'alpha': 0.2674380549248838, 'l1_ratio': 0.28154023978642273}. Best is trial 0 with value: 0.00884624960386469.\n",
      "2025-08-17 17:37:44,006 - INFO - ModelTrainer - Running Optuna trial with params: {'alpha': 0.5101997333086252, 'l1_ratio': 0.5947027551555589}\n",
      "2025-08-17 17:37:44,012 - INFO - LinearElasticNet - Starting model training...\n",
      "2025-08-17 17:37:44,021 - INFO - LinearElasticNet - Starting model training...\n",
      "2025-08-17 17:37:44,030 - INFO - LinearElasticNet - Starting model training...\n",
      "2025-08-17 17:37:44,039 - INFO - LinearElasticNet - Starting model training...\n",
      "2025-08-17 17:37:44,048 - INFO - LinearElasticNet - Starting model training...\n",
      "[I 2025-08-17 17:37:44,051] Trial 2 finished with value: 0.00884624960386469 and parameters: {'alpha': 0.5101997333086252, 'l1_ratio': 0.5947027551555589}. Best is trial 0 with value: 0.00884624960386469.\n",
      "2025-08-17 17:37:44,051 - INFO - ModelTrainer - Running Optuna trial with params: {'alpha': 0.7791528632932672, 'l1_ratio': 0.4082007533105835}\n",
      "2025-08-17 17:37:44,058 - INFO - LinearElasticNet - Starting model training...\n",
      "2025-08-17 17:37:44,067 - INFO - LinearElasticNet - Starting model training...\n",
      "2025-08-17 17:37:44,075 - INFO - LinearElasticNet - Starting model training...\n",
      "2025-08-17 17:37:44,084 - INFO - LinearElasticNet - Starting model training...\n",
      "2025-08-17 17:37:44,093 - INFO - LinearElasticNet - Starting model training...\n",
      "[I 2025-08-17 17:37:44,096] Trial 3 finished with value: 0.00884624960386469 and parameters: {'alpha': 0.7791528632932672, 'l1_ratio': 0.4082007533105835}. Best is trial 0 with value: 0.00884624960386469.\n",
      "2025-08-17 17:37:44,096 - INFO - ModelTrainer - Running Optuna trial with params: {'alpha': 0.005375862114780044, 'l1_ratio': 0.9723395375957944}\n",
      "2025-08-17 17:37:44,104 - INFO - LinearElasticNet - Starting model training...\n",
      "2025-08-17 17:37:44,112 - INFO - LinearElasticNet - Starting model training...\n",
      "2025-08-17 17:37:44,120 - INFO - LinearElasticNet - Starting model training...\n",
      "2025-08-17 17:37:44,129 - INFO - LinearElasticNet - Starting model training...\n",
      "2025-08-17 17:37:44,138 - INFO - LinearElasticNet - Starting model training...\n",
      "[I 2025-08-17 17:37:44,140] Trial 4 finished with value: 0.00884624960386469 and parameters: {'alpha': 0.005375862114780044, 'l1_ratio': 0.9723395375957944}. Best is trial 0 with value: 0.00884624960386469.\n",
      "2025-08-17 17:37:44,141 - INFO - ModelTrainer - Running Optuna trial with params: {'alpha': 0.0017464076668009636, 'l1_ratio': 0.3219309038257666}\n",
      "2025-08-17 17:37:44,148 - INFO - LinearElasticNet - Starting model training...\n",
      "2025-08-17 17:37:44,156 - INFO - LinearElasticNet - Starting model training...\n",
      "2025-08-17 17:37:44,165 - INFO - LinearElasticNet - Starting model training...\n",
      "2025-08-17 17:37:44,174 - INFO - LinearElasticNet - Starting model training...\n",
      "2025-08-17 17:37:44,183 - INFO - LinearElasticNet - Starting model training...\n",
      "[I 2025-08-17 17:37:44,186] Trial 5 finished with value: 0.009057247600195072 and parameters: {'alpha': 0.0017464076668009636, 'l1_ratio': 0.3219309038257666}. Best is trial 0 with value: 0.00884624960386469.\n",
      "2025-08-17 17:37:44,187 - INFO - ModelTrainer - Running Optuna trial with params: {'alpha': 0.0015810280017105986, 'l1_ratio': 0.5161003770855856}\n",
      "2025-08-17 17:37:44,194 - INFO - LinearElasticNet - Starting model training...\n",
      "2025-08-17 17:37:44,203 - INFO - LinearElasticNet - Starting model training...\n",
      "2025-08-17 17:37:44,212 - INFO - LinearElasticNet - Starting model training...\n",
      "2025-08-17 17:37:44,221 - INFO - LinearElasticNet - Starting model training...\n",
      "2025-08-17 17:37:44,230 - INFO - LinearElasticNet - Starting model training...\n",
      "[I 2025-08-17 17:37:44,232] Trial 6 finished with value: 0.008967235434757179 and parameters: {'alpha': 0.0015810280017105986, 'l1_ratio': 0.5161003770855856}. Best is trial 0 with value: 0.00884624960386469.\n",
      "2025-08-17 17:37:44,233 - INFO - ModelTrainer - Running Optuna trial with params: {'alpha': 0.0006421936792565018, 'l1_ratio': 0.8027991400661764}\n",
      "2025-08-17 17:37:44,240 - INFO - LinearElasticNet - Starting model training...\n",
      "2025-08-17 17:37:44,248 - INFO - LinearElasticNet - Starting model training...\n",
      "2025-08-17 17:37:44,257 - INFO - LinearElasticNet - Starting model training...\n",
      "2025-08-17 17:37:44,266 - INFO - LinearElasticNet - Starting model training...\n",
      "2025-08-17 17:37:44,275 - INFO - LinearElasticNet - Starting model training...\n",
      "[I 2025-08-17 17:37:44,278] Trial 7 finished with value: 0.0090812321348638 and parameters: {'alpha': 0.0006421936792565018, 'l1_ratio': 0.8027991400661764}. Best is trial 0 with value: 0.00884624960386469.\n",
      "2025-08-17 17:37:44,279 - INFO - ModelTrainer - Running Optuna trial with params: {'alpha': 0.06752649658508894, 'l1_ratio': 0.5181796299541719}\n",
      "2025-08-17 17:37:44,285 - INFO - LinearElasticNet - Starting model training...\n",
      "2025-08-17 17:37:44,294 - INFO - LinearElasticNet - Starting model training...\n",
      "2025-08-17 17:37:44,302 - INFO - LinearElasticNet - Starting model training...\n",
      "2025-08-17 17:37:44,311 - INFO - LinearElasticNet - Starting model training...\n",
      "2025-08-17 17:37:44,320 - INFO - LinearElasticNet - Starting model training...\n",
      "[I 2025-08-17 17:37:44,322] Trial 8 finished with value: 0.00884624960386469 and parameters: {'alpha': 0.06752649658508894, 'l1_ratio': 0.5181796299541719}. Best is trial 0 with value: 0.00884624960386469.\n",
      "2025-08-17 17:37:44,323 - INFO - ModelTrainer - Running Optuna trial with params: {'alpha': 0.02055476923960391, 'l1_ratio': 0.11276394088442976}\n",
      "2025-08-17 17:37:44,331 - INFO - LinearElasticNet - Starting model training...\n",
      "2025-08-17 17:37:44,340 - INFO - LinearElasticNet - Starting model training...\n",
      "2025-08-17 17:37:44,348 - INFO - LinearElasticNet - Starting model training...\n",
      "2025-08-17 17:37:44,357 - INFO - LinearElasticNet - Starting model training...\n",
      "2025-08-17 17:37:44,367 - INFO - LinearElasticNet - Starting model training...\n",
      "[I 2025-08-17 17:37:44,369] Trial 9 finished with value: 0.008861528148645575 and parameters: {'alpha': 0.02055476923960391, 'l1_ratio': 0.11276394088442976}. Best is trial 0 with value: 0.00884624960386469.\n",
      "2025-08-17 17:37:44,374 - INFO - ModelTrainer - Running Optuna trial with params: {'alpha': 9.911471970562742, 'l1_ratio': 0.7316631883831411}\n",
      "2025-08-17 17:37:44,381 - INFO - LinearElasticNet - Starting model training...\n",
      "2025-08-17 17:37:44,390 - INFO - LinearElasticNet - Starting model training...\n",
      "2025-08-17 17:37:44,399 - INFO - LinearElasticNet - Starting model training...\n",
      "2025-08-17 17:37:44,408 - INFO - LinearElasticNet - Starting model training...\n",
      "2025-08-17 17:37:44,417 - INFO - LinearElasticNet - Starting model training...\n",
      "[I 2025-08-17 17:37:44,419] Trial 10 finished with value: 0.00884624960386469 and parameters: {'alpha': 9.911471970562742, 'l1_ratio': 0.7316631883831411}. Best is trial 0 with value: 0.00884624960386469.\n",
      "2025-08-17 17:37:44,424 - INFO - ModelTrainer - Running Optuna trial with params: {'alpha': 0.3919459805924047, 'l1_ratio': 0.1733571239017505}\n",
      "2025-08-17 17:37:44,431 - INFO - LinearElasticNet - Starting model training...\n",
      "2025-08-17 17:37:44,439 - INFO - LinearElasticNet - Starting model training...\n",
      "2025-08-17 17:37:44,448 - INFO - LinearElasticNet - Starting model training...\n",
      "2025-08-17 17:37:44,457 - INFO - LinearElasticNet - Starting model training...\n",
      "2025-08-17 17:37:44,467 - INFO - LinearElasticNet - Starting model training...\n",
      "[I 2025-08-17 17:37:44,469] Trial 11 finished with value: 0.00884624960386469 and parameters: {'alpha': 0.3919459805924047, 'l1_ratio': 0.1733571239017505}. Best is trial 0 with value: 0.00884624960386469.\n",
      "2025-08-17 17:37:44,473 - INFO - ModelTrainer - Running Optuna trial with params: {'alpha': 6.899583877063066, 'l1_ratio': 0.29632417064757516}\n",
      "2025-08-17 17:37:44,480 - INFO - LinearElasticNet - Starting model training...\n",
      "2025-08-17 17:37:44,489 - INFO - LinearElasticNet - Starting model training...\n",
      "2025-08-17 17:37:44,498 - INFO - LinearElasticNet - Starting model training...\n",
      "2025-08-17 17:37:44,507 - INFO - LinearElasticNet - Starting model training...\n",
      "2025-08-17 17:37:44,516 - INFO - LinearElasticNet - Starting model training...\n",
      "[I 2025-08-17 17:37:44,519] Trial 12 finished with value: 0.00884624960386469 and parameters: {'alpha': 6.899583877063066, 'l1_ratio': 0.29632417064757516}. Best is trial 0 with value: 0.00884624960386469.\n",
      "2025-08-17 17:37:44,523 - INFO - ModelTrainer - Running Optuna trial with params: {'alpha': 0.0856848487144601, 'l1_ratio': 0.7003549276739975}\n",
      "2025-08-17 17:37:44,531 - INFO - LinearElasticNet - Starting model training...\n",
      "2025-08-17 17:37:44,540 - INFO - LinearElasticNet - Starting model training...\n",
      "2025-08-17 17:37:44,548 - INFO - LinearElasticNet - Starting model training...\n",
      "2025-08-17 17:37:44,558 - INFO - LinearElasticNet - Starting model training...\n",
      "2025-08-17 17:37:44,567 - INFO - LinearElasticNet - Starting model training...\n",
      "[I 2025-08-17 17:37:44,570] Trial 13 finished with value: 0.00884624960386469 and parameters: {'alpha': 0.0856848487144601, 'l1_ratio': 0.7003549276739975}. Best is trial 0 with value: 0.00884624960386469.\n",
      "2025-08-17 17:37:44,574 - INFO - ModelTrainer - Running Optuna trial with params: {'alpha': 1.72103037029337, 'l1_ratio': 0.014700823141427621}\n",
      "2025-08-17 17:37:44,581 - INFO - LinearElasticNet - Starting model training...\n",
      "2025-08-17 17:37:44,590 - INFO - LinearElasticNet - Starting model training...\n",
      "2025-08-17 17:37:44,599 - INFO - LinearElasticNet - Starting model training...\n",
      "2025-08-17 17:37:44,608 - INFO - LinearElasticNet - Starting model training...\n",
      "2025-08-17 17:37:44,617 - INFO - LinearElasticNet - Starting model training...\n",
      "[I 2025-08-17 17:37:44,619] Trial 14 finished with value: 0.00884624960386469 and parameters: {'alpha': 1.72103037029337, 'l1_ratio': 0.014700823141427621}. Best is trial 0 with value: 0.00884624960386469.\n",
      "2025-08-17 17:37:44,624 - INFO - ModelTrainer - Running Optuna trial with params: {'alpha': 0.13055528662662813, 'l1_ratio': 0.9422487419902761}\n",
      "2025-08-17 17:37:44,631 - INFO - LinearElasticNet - Starting model training...\n",
      "2025-08-17 17:37:44,640 - INFO - LinearElasticNet - Starting model training...\n",
      "2025-08-17 17:37:44,648 - INFO - LinearElasticNet - Starting model training...\n",
      "2025-08-17 17:37:44,658 - INFO - LinearElasticNet - Starting model training...\n",
      "2025-08-17 17:37:44,668 - INFO - LinearElasticNet - Starting model training...\n",
      "[I 2025-08-17 17:37:44,670] Trial 15 finished with value: 0.00884624960386469 and parameters: {'alpha': 0.13055528662662813, 'l1_ratio': 0.9422487419902761}. Best is trial 0 with value: 0.00884624960386469.\n",
      "2025-08-17 17:37:44,674 - INFO - ModelTrainer - Running Optuna trial with params: {'alpha': 0.022714604157391356, 'l1_ratio': 0.838005410617138}\n",
      "2025-08-17 17:37:44,681 - INFO - LinearElasticNet - Starting model training...\n",
      "2025-08-17 17:37:44,690 - INFO - LinearElasticNet - Starting model training...\n",
      "2025-08-17 17:37:44,699 - INFO - LinearElasticNet - Starting model training...\n",
      "2025-08-17 17:37:44,708 - INFO - LinearElasticNet - Starting model training...\n",
      "2025-08-17 17:37:44,717 - INFO - LinearElasticNet - Starting model training...\n",
      "[I 2025-08-17 17:37:44,719] Trial 16 finished with value: 0.00884624960386469 and parameters: {'alpha': 0.022714604157391356, 'l1_ratio': 0.838005410617138}. Best is trial 0 with value: 0.00884624960386469.\n",
      "2025-08-17 17:37:44,723 - INFO - ModelTrainer - Running Optuna trial with params: {'alpha': 0.00010854313580069813, 'l1_ratio': 0.6344591433845512}\n",
      "2025-08-17 17:37:44,729 - INFO - LinearElasticNet - Starting model training...\n",
      "2025-08-17 17:37:44,738 - INFO - LinearElasticNet - Starting model training...\n",
      "2025-08-17 17:37:44,747 - INFO - LinearElasticNet - Starting model training...\n",
      "2025-08-17 17:37:44,757 - INFO - LinearElasticNet - Starting model training...\n",
      "2025-08-17 17:37:44,768 - INFO - LinearElasticNet - Starting model training...\n",
      "[I 2025-08-17 17:37:44,771] Trial 17 finished with value: 0.009572860644659353 and parameters: {'alpha': 0.00010854313580069813, 'l1_ratio': 0.6344591433845512}. Best is trial 0 with value: 0.00884624960386469.\n",
      "2025-08-17 17:37:44,775 - INFO - ModelTrainer - Running Optuna trial with params: {'alpha': 1.9612162314366424, 'l1_ratio': 0.39426278918481994}\n",
      "2025-08-17 17:37:44,782 - INFO - LinearElasticNet - Starting model training...\n",
      "2025-08-17 17:37:44,791 - INFO - LinearElasticNet - Starting model training...\n",
      "2025-08-17 17:37:44,800 - INFO - LinearElasticNet - Starting model training...\n",
      "2025-08-17 17:37:44,808 - INFO - LinearElasticNet - Starting model training...\n",
      "2025-08-17 17:37:44,818 - INFO - LinearElasticNet - Starting model training...\n",
      "[I 2025-08-17 17:37:44,820] Trial 18 finished with value: 0.00884624960386469 and parameters: {'alpha': 1.9612162314366424, 'l1_ratio': 0.39426278918481994}. Best is trial 0 with value: 0.00884624960386469.\n",
      "2025-08-17 17:37:44,824 - INFO - ModelTrainer - Running Optuna trial with params: {'alpha': 0.1906811548763151, 'l1_ratio': 0.19962119382900312}\n",
      "2025-08-17 17:37:44,831 - INFO - LinearElasticNet - Starting model training...\n",
      "2025-08-17 17:37:44,840 - INFO - LinearElasticNet - Starting model training...\n",
      "2025-08-17 17:37:44,849 - INFO - LinearElasticNet - Starting model training...\n",
      "2025-08-17 17:37:44,858 - INFO - LinearElasticNet - Starting model training...\n",
      "2025-08-17 17:37:44,868 - INFO - LinearElasticNet - Starting model training...\n",
      "[I 2025-08-17 17:37:44,870] Trial 19 finished with value: 0.00884624960386469 and parameters: {'alpha': 0.1906811548763151, 'l1_ratio': 0.19962119382900312}. Best is trial 0 with value: 0.00884624960386469.\n",
      "2025-08-17 17:37:44,874 - INFO - ModelTrainer - Running Optuna trial with params: {'alpha': 2.0143897886620867, 'l1_ratio': 0.4198781599421998}\n",
      "2025-08-17 17:37:44,881 - INFO - LinearElasticNet - Starting model training...\n",
      "2025-08-17 17:37:44,890 - INFO - LinearElasticNet - Starting model training...\n",
      "2025-08-17 17:37:44,899 - INFO - LinearElasticNet - Starting model training...\n",
      "2025-08-17 17:37:44,909 - INFO - LinearElasticNet - Starting model training...\n",
      "2025-08-17 17:37:44,919 - INFO - LinearElasticNet - Starting model training...\n",
      "[I 2025-08-17 17:37:44,921] Trial 20 finished with value: 0.00884624960386469 and parameters: {'alpha': 2.0143897886620867, 'l1_ratio': 0.4198781599421998}. Best is trial 0 with value: 0.00884624960386469.\n",
      "2025-08-17 17:37:44,926 - INFO - ModelTrainer - Running Optuna trial with params: {'alpha': 0.3867508965985113, 'l1_ratio': 0.6026423502417699}\n",
      "2025-08-17 17:37:44,934 - INFO - LinearElasticNet - Starting model training...\n",
      "2025-08-17 17:37:44,942 - INFO - LinearElasticNet - Starting model training...\n",
      "2025-08-17 17:37:44,953 - INFO - LinearElasticNet - Starting model training...\n",
      "2025-08-17 17:37:44,961 - INFO - LinearElasticNet - Starting model training...\n",
      "2025-08-17 17:37:44,971 - INFO - LinearElasticNet - Starting model training...\n",
      "[I 2025-08-17 17:37:44,973] Trial 21 finished with value: 0.00884624960386469 and parameters: {'alpha': 0.3867508965985113, 'l1_ratio': 0.6026423502417699}. Best is trial 0 with value: 0.00884624960386469.\n",
      "2025-08-17 17:37:44,978 - INFO - ModelTrainer - Running Optuna trial with params: {'alpha': 0.7048194470018634, 'l1_ratio': 0.6264626199223433}\n",
      "2025-08-17 17:37:44,986 - INFO - LinearElasticNet - Starting model training...\n",
      "2025-08-17 17:37:44,995 - INFO - LinearElasticNet - Starting model training...\n",
      "2025-08-17 17:37:45,005 - INFO - LinearElasticNet - Starting model training...\n",
      "2025-08-17 17:37:45,015 - INFO - LinearElasticNet - Starting model training...\n",
      "2025-08-17 17:37:45,025 - INFO - LinearElasticNet - Starting model training...\n",
      "[I 2025-08-17 17:37:45,027] Trial 22 finished with value: 0.00884624960386469 and parameters: {'alpha': 0.7048194470018634, 'l1_ratio': 0.6264626199223433}. Best is trial 0 with value: 0.00884624960386469.\n",
      "2025-08-17 17:37:45,031 - INFO - ModelTrainer - Running Optuna trial with params: {'alpha': 0.04699723557270265, 'l1_ratio': 0.8748488072442584}\n",
      "2025-08-17 17:37:45,040 - INFO - LinearElasticNet - Starting model training...\n",
      "2025-08-17 17:37:45,049 - INFO - LinearElasticNet - Starting model training...\n",
      "2025-08-17 17:37:45,058 - INFO - LinearElasticNet - Starting model training...\n",
      "2025-08-17 17:37:45,066 - INFO - LinearElasticNet - Starting model training...\n",
      "2025-08-17 17:37:45,076 - INFO - LinearElasticNet - Starting model training...\n",
      "[I 2025-08-17 17:37:45,079] Trial 23 finished with value: 0.00884624960386469 and parameters: {'alpha': 0.04699723557270265, 'l1_ratio': 0.8748488072442584}. Best is trial 0 with value: 0.00884624960386469.\n",
      "2025-08-17 17:37:45,083 - INFO - ModelTrainer - Running Optuna trial with params: {'alpha': 0.260679173832471, 'l1_ratio': 0.7399759218214067}\n",
      "2025-08-17 17:37:45,090 - INFO - LinearElasticNet - Starting model training...\n",
      "2025-08-17 17:37:45,098 - INFO - LinearElasticNet - Starting model training...\n",
      "2025-08-17 17:37:45,107 - INFO - LinearElasticNet - Starting model training...\n",
      "2025-08-17 17:37:45,116 - INFO - LinearElasticNet - Starting model training...\n",
      "2025-08-17 17:37:45,126 - INFO - LinearElasticNet - Starting model training...\n",
      "[I 2025-08-17 17:37:45,128] Trial 24 finished with value: 0.00884624960386469 and parameters: {'alpha': 0.260679173832471, 'l1_ratio': 0.7399759218214067}. Best is trial 0 with value: 0.00884624960386469.\n",
      "2025-08-17 17:37:45,133 - INFO - ModelTrainer - Running Optuna trial with params: {'alpha': 0.8721410099415188, 'l1_ratio': 0.5456900580868468}\n",
      "2025-08-17 17:37:45,140 - INFO - LinearElasticNet - Starting model training...\n",
      "2025-08-17 17:37:45,148 - INFO - LinearElasticNet - Starting model training...\n",
      "2025-08-17 17:37:45,157 - INFO - LinearElasticNet - Starting model training...\n",
      "2025-08-17 17:37:45,166 - INFO - LinearElasticNet - Starting model training...\n",
      "2025-08-17 17:37:45,175 - INFO - LinearElasticNet - Starting model training...\n",
      "[I 2025-08-17 17:37:45,178] Trial 25 finished with value: 0.00884624960386469 and parameters: {'alpha': 0.8721410099415188, 'l1_ratio': 0.5456900580868468}. Best is trial 0 with value: 0.00884624960386469.\n",
      "2025-08-17 17:37:45,182 - INFO - ModelTrainer - Running Optuna trial with params: {'alpha': 3.900670322597086, 'l1_ratio': 0.3194593233526969}\n",
      "2025-08-17 17:37:45,189 - INFO - LinearElasticNet - Starting model training...\n",
      "2025-08-17 17:37:45,197 - INFO - LinearElasticNet - Starting model training...\n",
      "2025-08-17 17:37:45,206 - INFO - LinearElasticNet - Starting model training...\n",
      "2025-08-17 17:37:45,215 - INFO - LinearElasticNet - Starting model training...\n",
      "2025-08-17 17:37:45,224 - INFO - LinearElasticNet - Starting model training...\n",
      "[I 2025-08-17 17:37:45,226] Trial 26 finished with value: 0.00884624960386469 and parameters: {'alpha': 3.900670322597086, 'l1_ratio': 0.3194593233526969}. Best is trial 0 with value: 0.00884624960386469.\n",
      "2025-08-17 17:37:45,230 - INFO - ModelTrainer - Running Optuna trial with params: {'alpha': 0.014017918887965074, 'l1_ratio': 0.44723670484324}\n",
      "2025-08-17 17:37:45,238 - INFO - LinearElasticNet - Starting model training...\n",
      "2025-08-17 17:37:45,246 - INFO - LinearElasticNet - Starting model training...\n",
      "2025-08-17 17:37:45,255 - INFO - LinearElasticNet - Starting model training...\n",
      "2025-08-17 17:37:45,265 - INFO - LinearElasticNet - Starting model training...\n",
      "2025-08-17 17:37:45,274 - INFO - LinearElasticNet - Starting model training...\n",
      "[I 2025-08-17 17:37:45,276] Trial 27 finished with value: 0.00884624960386469 and parameters: {'alpha': 0.014017918887965074, 'l1_ratio': 0.44723670484324}. Best is trial 0 with value: 0.00884624960386469.\n",
      "2025-08-17 17:37:45,281 - INFO - ModelTrainer - Running Optuna trial with params: {'alpha': 0.15894778770324194, 'l1_ratio': 0.6898837844238375}\n",
      "2025-08-17 17:37:45,288 - INFO - LinearElasticNet - Starting model training...\n",
      "2025-08-17 17:37:45,298 - INFO - LinearElasticNet - Starting model training...\n",
      "2025-08-17 17:37:45,308 - INFO - LinearElasticNet - Starting model training...\n",
      "2025-08-17 17:37:45,317 - INFO - LinearElasticNet - Starting model training...\n",
      "2025-08-17 17:37:45,327 - INFO - LinearElasticNet - Starting model training...\n",
      "[I 2025-08-17 17:37:45,329] Trial 28 finished with value: 0.00884624960386469 and parameters: {'alpha': 0.15894778770324194, 'l1_ratio': 0.6898837844238375}. Best is trial 0 with value: 0.00884624960386469.\n",
      "2025-08-17 17:37:45,333 - INFO - ModelTrainer - Running Optuna trial with params: {'alpha': 0.8694874529512168, 'l1_ratio': 0.25613344655033865}\n",
      "2025-08-17 17:37:45,341 - INFO - LinearElasticNet - Starting model training...\n",
      "2025-08-17 17:37:45,350 - INFO - LinearElasticNet - Starting model training...\n",
      "2025-08-17 17:37:45,359 - INFO - LinearElasticNet - Starting model training...\n",
      "2025-08-17 17:37:45,369 - INFO - LinearElasticNet - Starting model training...\n",
      "2025-08-17 17:37:45,379 - INFO - LinearElasticNet - Starting model training...\n",
      "[I 2025-08-17 17:37:45,381] Trial 29 finished with value: 0.00884624960386469 and parameters: {'alpha': 0.8694874529512168, 'l1_ratio': 0.25613344655033865}. Best is trial 0 with value: 0.00884624960386469.\n"
     ]
    },
    {
     "name": "stdout",
     "output_type": "stream",
     "text": [
      "Best params: {'alpha': 0.5409265632025744, 'l1_ratio': 0.7386036441619197}\n"
     ]
    }
   ],
   "execution_count": 9
  },
  {
   "metadata": {
    "ExecuteTime": {
     "end_time": "2025-08-17T15:37:45.443882Z",
     "start_time": "2025-08-17T15:37:45.432880Z"
    }
   },
   "cell_type": "code",
   "source": [
    "best_model = LinearElasticNet(horizon=30, **best_params)\n",
    "trainer = ModelTrainer(best_model, name=\"lin_reg_best\", config=best_params, preprocessor=preprocessor)\n",
    "trainer.fit(X_train, y_train)"
   ],
   "id": "56526b925c2a8fd4",
   "outputs": [
    {
     "name": "stderr",
     "output_type": "stream",
     "text": [
      "2025-08-17 17:37:45,434 - INFO - ModelTrainer - Initialized ModelTrainer for model: lin_reg_best\n",
      "2025-08-17 17:37:45,434 - INFO - ModelTrainer - Starting model training...\n",
      "2025-08-17 17:37:45,441 - INFO - LinearElasticNet - Starting model training...\n"
     ]
    }
   ],
   "execution_count": 10
  },
  {
   "metadata": {
    "ExecuteTime": {
     "end_time": "2025-08-17T15:37:45.462381Z",
     "start_time": "2025-08-17T15:37:45.455381Z"
    }
   },
   "cell_type": "code",
   "source": [
    "eval_metrics = trainer.evaluate(X_test, y_test)\n",
    "print(eval_metrics)"
   ],
   "id": "b0e1c9963bea836f",
   "outputs": [
    {
     "name": "stderr",
     "output_type": "stream",
     "text": [
      "2025-08-17 17:37:45,456 - INFO - ModelTrainer - Evaluating model...\n"
     ]
    },
    {
     "name": "stdout",
     "output_type": "stream",
     "text": [
      "{'mae': 0.007289961857065401, 'mse': 9.201939141539391e-05, 'rmse': 0.009592673840770045, 'smape': 1.7216313113091284, 'r2': -1.8458624130079926e-05}\n"
     ]
    }
   ],
   "execution_count": 11
  },
  {
   "metadata": {
    "ExecuteTime": {
     "end_time": "2025-08-17T15:37:46.200798Z",
     "start_time": "2025-08-17T15:37:45.477883Z"
    }
   },
   "cell_type": "code",
   "source": [
    "import optuna.visualization as vis\n",
    "\n",
    "vis.plot_optimization_history(study).show()\n",
    "vis.plot_param_importances(study).show()\n",
    "vis.plot_contour(study)\n",
    "vis.plot_parallel_coordinate(study)"
   ],
   "id": "a61fe5b8026e70ce",
   "outputs": [
    {
     "data": {
      "application/vnd.plotly.v1+json": {
       "data": [
        {
         "mode": "markers",
         "name": "Objective Value",
         "x": [
          0,
          1,
          2,
          3,
          4,
          5,
          6,
          7,
          8,
          9,
          10,
          11,
          12,
          13,
          14,
          15,
          16,
          17,
          18,
          19,
          20,
          21,
          22,
          23,
          24,
          25,
          26,
          27,
          28,
          29
         ],
         "y": [
          0.00884624960386469,
          0.00884624960386469,
          0.00884624960386469,
          0.00884624960386469,
          0.00884624960386469,
          0.009057247600195072,
          0.008967235434757179,
          0.0090812321348638,
          0.00884624960386469,
          0.008861528148645575,
          0.00884624960386469,
          0.00884624960386469,
          0.00884624960386469,
          0.00884624960386469,
          0.00884624960386469,
          0.00884624960386469,
          0.00884624960386469,
          0.009572860644659353,
          0.00884624960386469,
          0.00884624960386469,
          0.00884624960386469,
          0.00884624960386469,
          0.00884624960386469,
          0.00884624960386469,
          0.00884624960386469,
          0.00884624960386469,
          0.00884624960386469,
          0.00884624960386469,
          0.00884624960386469,
          0.00884624960386469
         ],
         "type": "scatter"
        },
        {
         "mode": "lines",
         "name": "Best Value",
         "x": [
          0,
          1,
          2,
          3,
          4,
          5,
          6,
          7,
          8,
          9,
          10,
          11,
          12,
          13,
          14,
          15,
          16,
          17,
          18,
          19,
          20,
          21,
          22,
          23,
          24,
          25,
          26,
          27,
          28,
          29
         ],
         "y": [
          0.00884624960386469,
          0.00884624960386469,
          0.00884624960386469,
          0.00884624960386469,
          0.00884624960386469,
          0.00884624960386469,
          0.00884624960386469,
          0.00884624960386469,
          0.00884624960386469,
          0.00884624960386469,
          0.00884624960386469,
          0.00884624960386469,
          0.00884624960386469,
          0.00884624960386469,
          0.00884624960386469,
          0.00884624960386469,
          0.00884624960386469,
          0.00884624960386469,
          0.00884624960386469,
          0.00884624960386469,
          0.00884624960386469,
          0.00884624960386469,
          0.00884624960386469,
          0.00884624960386469,
          0.00884624960386469,
          0.00884624960386469,
          0.00884624960386469,
          0.00884624960386469,
          0.00884624960386469,
          0.00884624960386469
         ],
         "type": "scatter"
        },
        {
         "marker": {
          "color": "#cccccc"
         },
         "mode": "markers",
         "name": "Infeasible Trial",
         "showlegend": false,
         "x": [],
         "y": [],
         "type": "scatter"
        }
       ],
       "layout": {
        "title": {
         "text": "Optimization History Plot"
        },
        "xaxis": {
         "title": {
          "text": "Trial"
         }
        },
        "yaxis": {
         "title": {
          "text": "Objective Value"
         }
        },
        "template": {
         "data": {
          "histogram2dcontour": [
           {
            "type": "histogram2dcontour",
            "colorbar": {
             "outlinewidth": 0,
             "ticks": ""
            },
            "colorscale": [
             [
              0.0,
              "#0d0887"
             ],
             [
              0.1111111111111111,
              "#46039f"
             ],
             [
              0.2222222222222222,
              "#7201a8"
             ],
             [
              0.3333333333333333,
              "#9c179e"
             ],
             [
              0.4444444444444444,
              "#bd3786"
             ],
             [
              0.5555555555555556,
              "#d8576b"
             ],
             [
              0.6666666666666666,
              "#ed7953"
             ],
             [
              0.7777777777777778,
              "#fb9f3a"
             ],
             [
              0.8888888888888888,
              "#fdca26"
             ],
             [
              1.0,
              "#f0f921"
             ]
            ]
           }
          ],
          "choropleth": [
           {
            "type": "choropleth",
            "colorbar": {
             "outlinewidth": 0,
             "ticks": ""
            }
           }
          ],
          "histogram2d": [
           {
            "type": "histogram2d",
            "colorbar": {
             "outlinewidth": 0,
             "ticks": ""
            },
            "colorscale": [
             [
              0.0,
              "#0d0887"
             ],
             [
              0.1111111111111111,
              "#46039f"
             ],
             [
              0.2222222222222222,
              "#7201a8"
             ],
             [
              0.3333333333333333,
              "#9c179e"
             ],
             [
              0.4444444444444444,
              "#bd3786"
             ],
             [
              0.5555555555555556,
              "#d8576b"
             ],
             [
              0.6666666666666666,
              "#ed7953"
             ],
             [
              0.7777777777777778,
              "#fb9f3a"
             ],
             [
              0.8888888888888888,
              "#fdca26"
             ],
             [
              1.0,
              "#f0f921"
             ]
            ]
           }
          ],
          "heatmap": [
           {
            "type": "heatmap",
            "colorbar": {
             "outlinewidth": 0,
             "ticks": ""
            },
            "colorscale": [
             [
              0.0,
              "#0d0887"
             ],
             [
              0.1111111111111111,
              "#46039f"
             ],
             [
              0.2222222222222222,
              "#7201a8"
             ],
             [
              0.3333333333333333,
              "#9c179e"
             ],
             [
              0.4444444444444444,
              "#bd3786"
             ],
             [
              0.5555555555555556,
              "#d8576b"
             ],
             [
              0.6666666666666666,
              "#ed7953"
             ],
             [
              0.7777777777777778,
              "#fb9f3a"
             ],
             [
              0.8888888888888888,
              "#fdca26"
             ],
             [
              1.0,
              "#f0f921"
             ]
            ]
           }
          ],
          "contourcarpet": [
           {
            "type": "contourcarpet",
            "colorbar": {
             "outlinewidth": 0,
             "ticks": ""
            }
           }
          ],
          "contour": [
           {
            "type": "contour",
            "colorbar": {
             "outlinewidth": 0,
             "ticks": ""
            },
            "colorscale": [
             [
              0.0,
              "#0d0887"
             ],
             [
              0.1111111111111111,
              "#46039f"
             ],
             [
              0.2222222222222222,
              "#7201a8"
             ],
             [
              0.3333333333333333,
              "#9c179e"
             ],
             [
              0.4444444444444444,
              "#bd3786"
             ],
             [
              0.5555555555555556,
              "#d8576b"
             ],
             [
              0.6666666666666666,
              "#ed7953"
             ],
             [
              0.7777777777777778,
              "#fb9f3a"
             ],
             [
              0.8888888888888888,
              "#fdca26"
             ],
             [
              1.0,
              "#f0f921"
             ]
            ]
           }
          ],
          "surface": [
           {
            "type": "surface",
            "colorbar": {
             "outlinewidth": 0,
             "ticks": ""
            },
            "colorscale": [
             [
              0.0,
              "#0d0887"
             ],
             [
              0.1111111111111111,
              "#46039f"
             ],
             [
              0.2222222222222222,
              "#7201a8"
             ],
             [
              0.3333333333333333,
              "#9c179e"
             ],
             [
              0.4444444444444444,
              "#bd3786"
             ],
             [
              0.5555555555555556,
              "#d8576b"
             ],
             [
              0.6666666666666666,
              "#ed7953"
             ],
             [
              0.7777777777777778,
              "#fb9f3a"
             ],
             [
              0.8888888888888888,
              "#fdca26"
             ],
             [
              1.0,
              "#f0f921"
             ]
            ]
           }
          ],
          "mesh3d": [
           {
            "type": "mesh3d",
            "colorbar": {
             "outlinewidth": 0,
             "ticks": ""
            }
           }
          ],
          "scatter": [
           {
            "fillpattern": {
             "fillmode": "overlay",
             "size": 10,
             "solidity": 0.2
            },
            "type": "scatter"
           }
          ],
          "parcoords": [
           {
            "type": "parcoords",
            "line": {
             "colorbar": {
              "outlinewidth": 0,
              "ticks": ""
             }
            }
           }
          ],
          "scatterpolargl": [
           {
            "type": "scatterpolargl",
            "marker": {
             "colorbar": {
              "outlinewidth": 0,
              "ticks": ""
             }
            }
           }
          ],
          "bar": [
           {
            "error_x": {
             "color": "#2a3f5f"
            },
            "error_y": {
             "color": "#2a3f5f"
            },
            "marker": {
             "line": {
              "color": "#E5ECF6",
              "width": 0.5
             },
             "pattern": {
              "fillmode": "overlay",
              "size": 10,
              "solidity": 0.2
             }
            },
            "type": "bar"
           }
          ],
          "scattergeo": [
           {
            "type": "scattergeo",
            "marker": {
             "colorbar": {
              "outlinewidth": 0,
              "ticks": ""
             }
            }
           }
          ],
          "scatterpolar": [
           {
            "type": "scatterpolar",
            "marker": {
             "colorbar": {
              "outlinewidth": 0,
              "ticks": ""
             }
            }
           }
          ],
          "histogram": [
           {
            "marker": {
             "pattern": {
              "fillmode": "overlay",
              "size": 10,
              "solidity": 0.2
             }
            },
            "type": "histogram"
           }
          ],
          "scattergl": [
           {
            "type": "scattergl",
            "marker": {
             "colorbar": {
              "outlinewidth": 0,
              "ticks": ""
             }
            }
           }
          ],
          "scatter3d": [
           {
            "type": "scatter3d",
            "line": {
             "colorbar": {
              "outlinewidth": 0,
              "ticks": ""
             }
            },
            "marker": {
             "colorbar": {
              "outlinewidth": 0,
              "ticks": ""
             }
            }
           }
          ],
          "scattermap": [
           {
            "type": "scattermap",
            "marker": {
             "colorbar": {
              "outlinewidth": 0,
              "ticks": ""
             }
            }
           }
          ],
          "scattermapbox": [
           {
            "type": "scattermapbox",
            "marker": {
             "colorbar": {
              "outlinewidth": 0,
              "ticks": ""
             }
            }
           }
          ],
          "scatterternary": [
           {
            "type": "scatterternary",
            "marker": {
             "colorbar": {
              "outlinewidth": 0,
              "ticks": ""
             }
            }
           }
          ],
          "scattercarpet": [
           {
            "type": "scattercarpet",
            "marker": {
             "colorbar": {
              "outlinewidth": 0,
              "ticks": ""
             }
            }
           }
          ],
          "carpet": [
           {
            "aaxis": {
             "endlinecolor": "#2a3f5f",
             "gridcolor": "white",
             "linecolor": "white",
             "minorgridcolor": "white",
             "startlinecolor": "#2a3f5f"
            },
            "baxis": {
             "endlinecolor": "#2a3f5f",
             "gridcolor": "white",
             "linecolor": "white",
             "minorgridcolor": "white",
             "startlinecolor": "#2a3f5f"
            },
            "type": "carpet"
           }
          ],
          "table": [
           {
            "cells": {
             "fill": {
              "color": "#EBF0F8"
             },
             "line": {
              "color": "white"
             }
            },
            "header": {
             "fill": {
              "color": "#C8D4E3"
             },
             "line": {
              "color": "white"
             }
            },
            "type": "table"
           }
          ],
          "barpolar": [
           {
            "marker": {
             "line": {
              "color": "#E5ECF6",
              "width": 0.5
             },
             "pattern": {
              "fillmode": "overlay",
              "size": 10,
              "solidity": 0.2
             }
            },
            "type": "barpolar"
           }
          ],
          "pie": [
           {
            "automargin": true,
            "type": "pie"
           }
          ]
         },
         "layout": {
          "autotypenumbers": "strict",
          "colorway": [
           "#636efa",
           "#EF553B",
           "#00cc96",
           "#ab63fa",
           "#FFA15A",
           "#19d3f3",
           "#FF6692",
           "#B6E880",
           "#FF97FF",
           "#FECB52"
          ],
          "font": {
           "color": "#2a3f5f"
          },
          "hovermode": "closest",
          "hoverlabel": {
           "align": "left"
          },
          "paper_bgcolor": "white",
          "plot_bgcolor": "#E5ECF6",
          "polar": {
           "bgcolor": "#E5ECF6",
           "angularaxis": {
            "gridcolor": "white",
            "linecolor": "white",
            "ticks": ""
           },
           "radialaxis": {
            "gridcolor": "white",
            "linecolor": "white",
            "ticks": ""
           }
          },
          "ternary": {
           "bgcolor": "#E5ECF6",
           "aaxis": {
            "gridcolor": "white",
            "linecolor": "white",
            "ticks": ""
           },
           "baxis": {
            "gridcolor": "white",
            "linecolor": "white",
            "ticks": ""
           },
           "caxis": {
            "gridcolor": "white",
            "linecolor": "white",
            "ticks": ""
           }
          },
          "coloraxis": {
           "colorbar": {
            "outlinewidth": 0,
            "ticks": ""
           }
          },
          "colorscale": {
           "sequential": [
            [
             0.0,
             "#0d0887"
            ],
            [
             0.1111111111111111,
             "#46039f"
            ],
            [
             0.2222222222222222,
             "#7201a8"
            ],
            [
             0.3333333333333333,
             "#9c179e"
            ],
            [
             0.4444444444444444,
             "#bd3786"
            ],
            [
             0.5555555555555556,
             "#d8576b"
            ],
            [
             0.6666666666666666,
             "#ed7953"
            ],
            [
             0.7777777777777778,
             "#fb9f3a"
            ],
            [
             0.8888888888888888,
             "#fdca26"
            ],
            [
             1.0,
             "#f0f921"
            ]
           ],
           "sequentialminus": [
            [
             0.0,
             "#0d0887"
            ],
            [
             0.1111111111111111,
             "#46039f"
            ],
            [
             0.2222222222222222,
             "#7201a8"
            ],
            [
             0.3333333333333333,
             "#9c179e"
            ],
            [
             0.4444444444444444,
             "#bd3786"
            ],
            [
             0.5555555555555556,
             "#d8576b"
            ],
            [
             0.6666666666666666,
             "#ed7953"
            ],
            [
             0.7777777777777778,
             "#fb9f3a"
            ],
            [
             0.8888888888888888,
             "#fdca26"
            ],
            [
             1.0,
             "#f0f921"
            ]
           ],
           "diverging": [
            [
             0,
             "#8e0152"
            ],
            [
             0.1,
             "#c51b7d"
            ],
            [
             0.2,
             "#de77ae"
            ],
            [
             0.3,
             "#f1b6da"
            ],
            [
             0.4,
             "#fde0ef"
            ],
            [
             0.5,
             "#f7f7f7"
            ],
            [
             0.6,
             "#e6f5d0"
            ],
            [
             0.7,
             "#b8e186"
            ],
            [
             0.8,
             "#7fbc41"
            ],
            [
             0.9,
             "#4d9221"
            ],
            [
             1,
             "#276419"
            ]
           ]
          },
          "xaxis": {
           "gridcolor": "white",
           "linecolor": "white",
           "ticks": "",
           "title": {
            "standoff": 15
           },
           "zerolinecolor": "white",
           "automargin": true,
           "zerolinewidth": 2
          },
          "yaxis": {
           "gridcolor": "white",
           "linecolor": "white",
           "ticks": "",
           "title": {
            "standoff": 15
           },
           "zerolinecolor": "white",
           "automargin": true,
           "zerolinewidth": 2
          },
          "scene": {
           "xaxis": {
            "backgroundcolor": "#E5ECF6",
            "gridcolor": "white",
            "linecolor": "white",
            "showbackground": true,
            "ticks": "",
            "zerolinecolor": "white",
            "gridwidth": 2
           },
           "yaxis": {
            "backgroundcolor": "#E5ECF6",
            "gridcolor": "white",
            "linecolor": "white",
            "showbackground": true,
            "ticks": "",
            "zerolinecolor": "white",
            "gridwidth": 2
           },
           "zaxis": {
            "backgroundcolor": "#E5ECF6",
            "gridcolor": "white",
            "linecolor": "white",
            "showbackground": true,
            "ticks": "",
            "zerolinecolor": "white",
            "gridwidth": 2
           }
          },
          "shapedefaults": {
           "line": {
            "color": "#2a3f5f"
           }
          },
          "annotationdefaults": {
           "arrowcolor": "#2a3f5f",
           "arrowhead": 0,
           "arrowwidth": 1
          },
          "geo": {
           "bgcolor": "white",
           "landcolor": "#E5ECF6",
           "subunitcolor": "white",
           "showland": true,
           "showlakes": true,
           "lakecolor": "white"
          },
          "title": {
           "x": 0.05
          },
          "mapbox": {
           "style": "light"
          }
         }
        }
       },
       "config": {
        "plotlyServerURL": "https://plot.ly"
       }
      }
     },
     "metadata": {},
     "output_type": "display_data"
    },
    {
     "data": {
      "application/vnd.plotly.v1+json": {
       "data": [
        {
         "cliponaxis": false,
         "hovertemplate": [
          "l1_ratio (FloatDistribution): 0.20255970055956105<extra></extra>",
          "alpha (FloatDistribution): 0.797440299440439<extra></extra>"
         ],
         "name": "Objective Value",
         "orientation": "h",
         "text": [
          "0.20",
          "0.80"
         ],
         "textposition": "outside",
         "x": [
          0.20255970055956105,
          0.797440299440439
         ],
         "y": [
          "l1_ratio",
          "alpha"
         ],
         "type": "bar"
        }
       ],
       "layout": {
        "title": {
         "text": "Hyperparameter Importances"
        },
        "xaxis": {
         "title": {
          "text": "Hyperparameter Importance"
         }
        },
        "yaxis": {
         "title": {
          "text": "Hyperparameter"
         }
        },
        "template": {
         "data": {
          "histogram2dcontour": [
           {
            "type": "histogram2dcontour",
            "colorbar": {
             "outlinewidth": 0,
             "ticks": ""
            },
            "colorscale": [
             [
              0.0,
              "#0d0887"
             ],
             [
              0.1111111111111111,
              "#46039f"
             ],
             [
              0.2222222222222222,
              "#7201a8"
             ],
             [
              0.3333333333333333,
              "#9c179e"
             ],
             [
              0.4444444444444444,
              "#bd3786"
             ],
             [
              0.5555555555555556,
              "#d8576b"
             ],
             [
              0.6666666666666666,
              "#ed7953"
             ],
             [
              0.7777777777777778,
              "#fb9f3a"
             ],
             [
              0.8888888888888888,
              "#fdca26"
             ],
             [
              1.0,
              "#f0f921"
             ]
            ]
           }
          ],
          "choropleth": [
           {
            "type": "choropleth",
            "colorbar": {
             "outlinewidth": 0,
             "ticks": ""
            }
           }
          ],
          "histogram2d": [
           {
            "type": "histogram2d",
            "colorbar": {
             "outlinewidth": 0,
             "ticks": ""
            },
            "colorscale": [
             [
              0.0,
              "#0d0887"
             ],
             [
              0.1111111111111111,
              "#46039f"
             ],
             [
              0.2222222222222222,
              "#7201a8"
             ],
             [
              0.3333333333333333,
              "#9c179e"
             ],
             [
              0.4444444444444444,
              "#bd3786"
             ],
             [
              0.5555555555555556,
              "#d8576b"
             ],
             [
              0.6666666666666666,
              "#ed7953"
             ],
             [
              0.7777777777777778,
              "#fb9f3a"
             ],
             [
              0.8888888888888888,
              "#fdca26"
             ],
             [
              1.0,
              "#f0f921"
             ]
            ]
           }
          ],
          "heatmap": [
           {
            "type": "heatmap",
            "colorbar": {
             "outlinewidth": 0,
             "ticks": ""
            },
            "colorscale": [
             [
              0.0,
              "#0d0887"
             ],
             [
              0.1111111111111111,
              "#46039f"
             ],
             [
              0.2222222222222222,
              "#7201a8"
             ],
             [
              0.3333333333333333,
              "#9c179e"
             ],
             [
              0.4444444444444444,
              "#bd3786"
             ],
             [
              0.5555555555555556,
              "#d8576b"
             ],
             [
              0.6666666666666666,
              "#ed7953"
             ],
             [
              0.7777777777777778,
              "#fb9f3a"
             ],
             [
              0.8888888888888888,
              "#fdca26"
             ],
             [
              1.0,
              "#f0f921"
             ]
            ]
           }
          ],
          "contourcarpet": [
           {
            "type": "contourcarpet",
            "colorbar": {
             "outlinewidth": 0,
             "ticks": ""
            }
           }
          ],
          "contour": [
           {
            "type": "contour",
            "colorbar": {
             "outlinewidth": 0,
             "ticks": ""
            },
            "colorscale": [
             [
              0.0,
              "#0d0887"
             ],
             [
              0.1111111111111111,
              "#46039f"
             ],
             [
              0.2222222222222222,
              "#7201a8"
             ],
             [
              0.3333333333333333,
              "#9c179e"
             ],
             [
              0.4444444444444444,
              "#bd3786"
             ],
             [
              0.5555555555555556,
              "#d8576b"
             ],
             [
              0.6666666666666666,
              "#ed7953"
             ],
             [
              0.7777777777777778,
              "#fb9f3a"
             ],
             [
              0.8888888888888888,
              "#fdca26"
             ],
             [
              1.0,
              "#f0f921"
             ]
            ]
           }
          ],
          "surface": [
           {
            "type": "surface",
            "colorbar": {
             "outlinewidth": 0,
             "ticks": ""
            },
            "colorscale": [
             [
              0.0,
              "#0d0887"
             ],
             [
              0.1111111111111111,
              "#46039f"
             ],
             [
              0.2222222222222222,
              "#7201a8"
             ],
             [
              0.3333333333333333,
              "#9c179e"
             ],
             [
              0.4444444444444444,
              "#bd3786"
             ],
             [
              0.5555555555555556,
              "#d8576b"
             ],
             [
              0.6666666666666666,
              "#ed7953"
             ],
             [
              0.7777777777777778,
              "#fb9f3a"
             ],
             [
              0.8888888888888888,
              "#fdca26"
             ],
             [
              1.0,
              "#f0f921"
             ]
            ]
           }
          ],
          "mesh3d": [
           {
            "type": "mesh3d",
            "colorbar": {
             "outlinewidth": 0,
             "ticks": ""
            }
           }
          ],
          "scatter": [
           {
            "fillpattern": {
             "fillmode": "overlay",
             "size": 10,
             "solidity": 0.2
            },
            "type": "scatter"
           }
          ],
          "parcoords": [
           {
            "type": "parcoords",
            "line": {
             "colorbar": {
              "outlinewidth": 0,
              "ticks": ""
             }
            }
           }
          ],
          "scatterpolargl": [
           {
            "type": "scatterpolargl",
            "marker": {
             "colorbar": {
              "outlinewidth": 0,
              "ticks": ""
             }
            }
           }
          ],
          "bar": [
           {
            "error_x": {
             "color": "#2a3f5f"
            },
            "error_y": {
             "color": "#2a3f5f"
            },
            "marker": {
             "line": {
              "color": "#E5ECF6",
              "width": 0.5
             },
             "pattern": {
              "fillmode": "overlay",
              "size": 10,
              "solidity": 0.2
             }
            },
            "type": "bar"
           }
          ],
          "scattergeo": [
           {
            "type": "scattergeo",
            "marker": {
             "colorbar": {
              "outlinewidth": 0,
              "ticks": ""
             }
            }
           }
          ],
          "scatterpolar": [
           {
            "type": "scatterpolar",
            "marker": {
             "colorbar": {
              "outlinewidth": 0,
              "ticks": ""
             }
            }
           }
          ],
          "histogram": [
           {
            "marker": {
             "pattern": {
              "fillmode": "overlay",
              "size": 10,
              "solidity": 0.2
             }
            },
            "type": "histogram"
           }
          ],
          "scattergl": [
           {
            "type": "scattergl",
            "marker": {
             "colorbar": {
              "outlinewidth": 0,
              "ticks": ""
             }
            }
           }
          ],
          "scatter3d": [
           {
            "type": "scatter3d",
            "line": {
             "colorbar": {
              "outlinewidth": 0,
              "ticks": ""
             }
            },
            "marker": {
             "colorbar": {
              "outlinewidth": 0,
              "ticks": ""
             }
            }
           }
          ],
          "scattermap": [
           {
            "type": "scattermap",
            "marker": {
             "colorbar": {
              "outlinewidth": 0,
              "ticks": ""
             }
            }
           }
          ],
          "scattermapbox": [
           {
            "type": "scattermapbox",
            "marker": {
             "colorbar": {
              "outlinewidth": 0,
              "ticks": ""
             }
            }
           }
          ],
          "scatterternary": [
           {
            "type": "scatterternary",
            "marker": {
             "colorbar": {
              "outlinewidth": 0,
              "ticks": ""
             }
            }
           }
          ],
          "scattercarpet": [
           {
            "type": "scattercarpet",
            "marker": {
             "colorbar": {
              "outlinewidth": 0,
              "ticks": ""
             }
            }
           }
          ],
          "carpet": [
           {
            "aaxis": {
             "endlinecolor": "#2a3f5f",
             "gridcolor": "white",
             "linecolor": "white",
             "minorgridcolor": "white",
             "startlinecolor": "#2a3f5f"
            },
            "baxis": {
             "endlinecolor": "#2a3f5f",
             "gridcolor": "white",
             "linecolor": "white",
             "minorgridcolor": "white",
             "startlinecolor": "#2a3f5f"
            },
            "type": "carpet"
           }
          ],
          "table": [
           {
            "cells": {
             "fill": {
              "color": "#EBF0F8"
             },
             "line": {
              "color": "white"
             }
            },
            "header": {
             "fill": {
              "color": "#C8D4E3"
             },
             "line": {
              "color": "white"
             }
            },
            "type": "table"
           }
          ],
          "barpolar": [
           {
            "marker": {
             "line": {
              "color": "#E5ECF6",
              "width": 0.5
             },
             "pattern": {
              "fillmode": "overlay",
              "size": 10,
              "solidity": 0.2
             }
            },
            "type": "barpolar"
           }
          ],
          "pie": [
           {
            "automargin": true,
            "type": "pie"
           }
          ]
         },
         "layout": {
          "autotypenumbers": "strict",
          "colorway": [
           "#636efa",
           "#EF553B",
           "#00cc96",
           "#ab63fa",
           "#FFA15A",
           "#19d3f3",
           "#FF6692",
           "#B6E880",
           "#FF97FF",
           "#FECB52"
          ],
          "font": {
           "color": "#2a3f5f"
          },
          "hovermode": "closest",
          "hoverlabel": {
           "align": "left"
          },
          "paper_bgcolor": "white",
          "plot_bgcolor": "#E5ECF6",
          "polar": {
           "bgcolor": "#E5ECF6",
           "angularaxis": {
            "gridcolor": "white",
            "linecolor": "white",
            "ticks": ""
           },
           "radialaxis": {
            "gridcolor": "white",
            "linecolor": "white",
            "ticks": ""
           }
          },
          "ternary": {
           "bgcolor": "#E5ECF6",
           "aaxis": {
            "gridcolor": "white",
            "linecolor": "white",
            "ticks": ""
           },
           "baxis": {
            "gridcolor": "white",
            "linecolor": "white",
            "ticks": ""
           },
           "caxis": {
            "gridcolor": "white",
            "linecolor": "white",
            "ticks": ""
           }
          },
          "coloraxis": {
           "colorbar": {
            "outlinewidth": 0,
            "ticks": ""
           }
          },
          "colorscale": {
           "sequential": [
            [
             0.0,
             "#0d0887"
            ],
            [
             0.1111111111111111,
             "#46039f"
            ],
            [
             0.2222222222222222,
             "#7201a8"
            ],
            [
             0.3333333333333333,
             "#9c179e"
            ],
            [
             0.4444444444444444,
             "#bd3786"
            ],
            [
             0.5555555555555556,
             "#d8576b"
            ],
            [
             0.6666666666666666,
             "#ed7953"
            ],
            [
             0.7777777777777778,
             "#fb9f3a"
            ],
            [
             0.8888888888888888,
             "#fdca26"
            ],
            [
             1.0,
             "#f0f921"
            ]
           ],
           "sequentialminus": [
            [
             0.0,
             "#0d0887"
            ],
            [
             0.1111111111111111,
             "#46039f"
            ],
            [
             0.2222222222222222,
             "#7201a8"
            ],
            [
             0.3333333333333333,
             "#9c179e"
            ],
            [
             0.4444444444444444,
             "#bd3786"
            ],
            [
             0.5555555555555556,
             "#d8576b"
            ],
            [
             0.6666666666666666,
             "#ed7953"
            ],
            [
             0.7777777777777778,
             "#fb9f3a"
            ],
            [
             0.8888888888888888,
             "#fdca26"
            ],
            [
             1.0,
             "#f0f921"
            ]
           ],
           "diverging": [
            [
             0,
             "#8e0152"
            ],
            [
             0.1,
             "#c51b7d"
            ],
            [
             0.2,
             "#de77ae"
            ],
            [
             0.3,
             "#f1b6da"
            ],
            [
             0.4,
             "#fde0ef"
            ],
            [
             0.5,
             "#f7f7f7"
            ],
            [
             0.6,
             "#e6f5d0"
            ],
            [
             0.7,
             "#b8e186"
            ],
            [
             0.8,
             "#7fbc41"
            ],
            [
             0.9,
             "#4d9221"
            ],
            [
             1,
             "#276419"
            ]
           ]
          },
          "xaxis": {
           "gridcolor": "white",
           "linecolor": "white",
           "ticks": "",
           "title": {
            "standoff": 15
           },
           "zerolinecolor": "white",
           "automargin": true,
           "zerolinewidth": 2
          },
          "yaxis": {
           "gridcolor": "white",
           "linecolor": "white",
           "ticks": "",
           "title": {
            "standoff": 15
           },
           "zerolinecolor": "white",
           "automargin": true,
           "zerolinewidth": 2
          },
          "scene": {
           "xaxis": {
            "backgroundcolor": "#E5ECF6",
            "gridcolor": "white",
            "linecolor": "white",
            "showbackground": true,
            "ticks": "",
            "zerolinecolor": "white",
            "gridwidth": 2
           },
           "yaxis": {
            "backgroundcolor": "#E5ECF6",
            "gridcolor": "white",
            "linecolor": "white",
            "showbackground": true,
            "ticks": "",
            "zerolinecolor": "white",
            "gridwidth": 2
           },
           "zaxis": {
            "backgroundcolor": "#E5ECF6",
            "gridcolor": "white",
            "linecolor": "white",
            "showbackground": true,
            "ticks": "",
            "zerolinecolor": "white",
            "gridwidth": 2
           }
          },
          "shapedefaults": {
           "line": {
            "color": "#2a3f5f"
           }
          },
          "annotationdefaults": {
           "arrowcolor": "#2a3f5f",
           "arrowhead": 0,
           "arrowwidth": 1
          },
          "geo": {
           "bgcolor": "white",
           "landcolor": "#E5ECF6",
           "subunitcolor": "white",
           "showland": true,
           "showlakes": true,
           "lakecolor": "white"
          },
          "title": {
           "x": 0.05
          },
          "mapbox": {
           "style": "light"
          }
         }
        }
       },
       "config": {
        "plotlyServerURL": "https://plot.ly"
       }
      }
     },
     "metadata": {},
     "output_type": "display_data"
    },
    {
     "data": {
      "application/vnd.plotly.v1+json": {
       "data": [
        {
         "dimensions": [
          {
           "label": "Objective Value",
           "range": [
            0.00884624960386469,
            0.009572860644659353
           ],
           "values": [
            0.00884624960386469,
            0.00884624960386469,
            0.00884624960386469,
            0.00884624960386469,
            0.00884624960386469,
            0.009057247600195072,
            0.008967235434757179,
            0.0090812321348638,
            0.00884624960386469,
            0.008861528148645575,
            0.00884624960386469,
            0.00884624960386469,
            0.00884624960386469,
            0.00884624960386469,
            0.00884624960386469,
            0.00884624960386469,
            0.00884624960386469,
            0.009572860644659353,
            0.00884624960386469,
            0.00884624960386469,
            0.00884624960386469,
            0.00884624960386469,
            0.00884624960386469,
            0.00884624960386469,
            0.00884624960386469,
            0.00884624960386469,
            0.00884624960386469,
            0.00884624960386469,
            0.00884624960386469,
            0.00884624960386469
           ]
          },
          {
           "label": "alpha",
           "range": [
            -3.9643976358497124,
            0.9961381571311987
           ],
           "ticktext": [
            "0.000109",
            "0.001",
            "0.01",
            "0.1",
            "1",
            "9.91"
           ],
           "tickvals": [
            -3.9643976358497124,
            -3,
            -2,
            -1,
            0,
            0.9961381571311987
           ],
           "values": [
            -0.266861691197905,
            -0.5727767950247524,
            -0.2922597727403854,
            -0.1083773290129676,
            -2.269551879008941,
            -2.7578543707242242,
            -2.8010604381761377,
            -3.1923339732596,
            -1.1705257817951835,
            -1.687087394511421,
            0.9961381571311987,
            -0.40677378488580224,
            0.8388228986582813,
            -1.0670959657248376,
            0.23578853420579826,
            -0.8842055374275064,
            -1.6436948271416099,
            -3.9643976358497124,
            0.2925254789011836,
            -0.7196922263962854,
            0.30414351124524647,
            -0.41256867080937165,
            -0.15192212160922816,
            -1.3279276869755534,
            -0.5838936640787994,
            -0.05941329157142017,
            0.5911392461007549,
            -1.8533164573080387,
            -0.7987455123856388,
            -0.06073668065766549
           ]
          },
          {
           "label": "l1_ratio",
           "range": [
            0.014700823141427621,
            0.9723395375957944
           ],
           "values": [
            0.7386036441619197,
            0.28154023978642273,
            0.5947027551555589,
            0.4082007533105835,
            0.9723395375957944,
            0.3219309038257666,
            0.5161003770855856,
            0.8027991400661764,
            0.5181796299541719,
            0.11276394088442976,
            0.7316631883831411,
            0.1733571239017505,
            0.29632417064757516,
            0.7003549276739975,
            0.014700823141427621,
            0.9422487419902761,
            0.838005410617138,
            0.6344591433845512,
            0.39426278918481994,
            0.19962119382900312,
            0.4198781599421998,
            0.6026423502417699,
            0.6264626199223433,
            0.8748488072442584,
            0.7399759218214067,
            0.5456900580868468,
            0.3194593233526969,
            0.44723670484324,
            0.6898837844238375,
            0.25613344655033865
           ]
          }
         ],
         "labelangle": 30,
         "labelside": "bottom",
         "line": {
          "color": [
           0.00884624960386469,
           0.00884624960386469,
           0.00884624960386469,
           0.00884624960386469,
           0.00884624960386469,
           0.009057247600195072,
           0.008967235434757179,
           0.0090812321348638,
           0.00884624960386469,
           0.008861528148645575,
           0.00884624960386469,
           0.00884624960386469,
           0.00884624960386469,
           0.00884624960386469,
           0.00884624960386469,
           0.00884624960386469,
           0.00884624960386469,
           0.009572860644659353,
           0.00884624960386469,
           0.00884624960386469,
           0.00884624960386469,
           0.00884624960386469,
           0.00884624960386469,
           0.00884624960386469,
           0.00884624960386469,
           0.00884624960386469,
           0.00884624960386469,
           0.00884624960386469,
           0.00884624960386469,
           0.00884624960386469
          ],
          "colorbar": {
           "title": {
            "text": "Objective Value"
           }
          },
          "colorscale": [
           [
            0.0,
            "rgb(247,251,255)"
           ],
           [
            0.125,
            "rgb(222,235,247)"
           ],
           [
            0.25,
            "rgb(198,219,239)"
           ],
           [
            0.375,
            "rgb(158,202,225)"
           ],
           [
            0.5,
            "rgb(107,174,214)"
           ],
           [
            0.625,
            "rgb(66,146,198)"
           ],
           [
            0.75,
            "rgb(33,113,181)"
           ],
           [
            0.875,
            "rgb(8,81,156)"
           ],
           [
            1.0,
            "rgb(8,48,107)"
           ]
          ],
          "reversescale": true,
          "showscale": true
         },
         "type": "parcoords"
        }
       ],
       "layout": {
        "title": {
         "text": "Parallel Coordinate Plot"
        },
        "template": {
         "data": {
          "histogram2dcontour": [
           {
            "type": "histogram2dcontour",
            "colorbar": {
             "outlinewidth": 0,
             "ticks": ""
            },
            "colorscale": [
             [
              0.0,
              "#0d0887"
             ],
             [
              0.1111111111111111,
              "#46039f"
             ],
             [
              0.2222222222222222,
              "#7201a8"
             ],
             [
              0.3333333333333333,
              "#9c179e"
             ],
             [
              0.4444444444444444,
              "#bd3786"
             ],
             [
              0.5555555555555556,
              "#d8576b"
             ],
             [
              0.6666666666666666,
              "#ed7953"
             ],
             [
              0.7777777777777778,
              "#fb9f3a"
             ],
             [
              0.8888888888888888,
              "#fdca26"
             ],
             [
              1.0,
              "#f0f921"
             ]
            ]
           }
          ],
          "choropleth": [
           {
            "type": "choropleth",
            "colorbar": {
             "outlinewidth": 0,
             "ticks": ""
            }
           }
          ],
          "histogram2d": [
           {
            "type": "histogram2d",
            "colorbar": {
             "outlinewidth": 0,
             "ticks": ""
            },
            "colorscale": [
             [
              0.0,
              "#0d0887"
             ],
             [
              0.1111111111111111,
              "#46039f"
             ],
             [
              0.2222222222222222,
              "#7201a8"
             ],
             [
              0.3333333333333333,
              "#9c179e"
             ],
             [
              0.4444444444444444,
              "#bd3786"
             ],
             [
              0.5555555555555556,
              "#d8576b"
             ],
             [
              0.6666666666666666,
              "#ed7953"
             ],
             [
              0.7777777777777778,
              "#fb9f3a"
             ],
             [
              0.8888888888888888,
              "#fdca26"
             ],
             [
              1.0,
              "#f0f921"
             ]
            ]
           }
          ],
          "heatmap": [
           {
            "type": "heatmap",
            "colorbar": {
             "outlinewidth": 0,
             "ticks": ""
            },
            "colorscale": [
             [
              0.0,
              "#0d0887"
             ],
             [
              0.1111111111111111,
              "#46039f"
             ],
             [
              0.2222222222222222,
              "#7201a8"
             ],
             [
              0.3333333333333333,
              "#9c179e"
             ],
             [
              0.4444444444444444,
              "#bd3786"
             ],
             [
              0.5555555555555556,
              "#d8576b"
             ],
             [
              0.6666666666666666,
              "#ed7953"
             ],
             [
              0.7777777777777778,
              "#fb9f3a"
             ],
             [
              0.8888888888888888,
              "#fdca26"
             ],
             [
              1.0,
              "#f0f921"
             ]
            ]
           }
          ],
          "contourcarpet": [
           {
            "type": "contourcarpet",
            "colorbar": {
             "outlinewidth": 0,
             "ticks": ""
            }
           }
          ],
          "contour": [
           {
            "type": "contour",
            "colorbar": {
             "outlinewidth": 0,
             "ticks": ""
            },
            "colorscale": [
             [
              0.0,
              "#0d0887"
             ],
             [
              0.1111111111111111,
              "#46039f"
             ],
             [
              0.2222222222222222,
              "#7201a8"
             ],
             [
              0.3333333333333333,
              "#9c179e"
             ],
             [
              0.4444444444444444,
              "#bd3786"
             ],
             [
              0.5555555555555556,
              "#d8576b"
             ],
             [
              0.6666666666666666,
              "#ed7953"
             ],
             [
              0.7777777777777778,
              "#fb9f3a"
             ],
             [
              0.8888888888888888,
              "#fdca26"
             ],
             [
              1.0,
              "#f0f921"
             ]
            ]
           }
          ],
          "surface": [
           {
            "type": "surface",
            "colorbar": {
             "outlinewidth": 0,
             "ticks": ""
            },
            "colorscale": [
             [
              0.0,
              "#0d0887"
             ],
             [
              0.1111111111111111,
              "#46039f"
             ],
             [
              0.2222222222222222,
              "#7201a8"
             ],
             [
              0.3333333333333333,
              "#9c179e"
             ],
             [
              0.4444444444444444,
              "#bd3786"
             ],
             [
              0.5555555555555556,
              "#d8576b"
             ],
             [
              0.6666666666666666,
              "#ed7953"
             ],
             [
              0.7777777777777778,
              "#fb9f3a"
             ],
             [
              0.8888888888888888,
              "#fdca26"
             ],
             [
              1.0,
              "#f0f921"
             ]
            ]
           }
          ],
          "mesh3d": [
           {
            "type": "mesh3d",
            "colorbar": {
             "outlinewidth": 0,
             "ticks": ""
            }
           }
          ],
          "scatter": [
           {
            "fillpattern": {
             "fillmode": "overlay",
             "size": 10,
             "solidity": 0.2
            },
            "type": "scatter"
           }
          ],
          "parcoords": [
           {
            "type": "parcoords",
            "line": {
             "colorbar": {
              "outlinewidth": 0,
              "ticks": ""
             }
            }
           }
          ],
          "scatterpolargl": [
           {
            "type": "scatterpolargl",
            "marker": {
             "colorbar": {
              "outlinewidth": 0,
              "ticks": ""
             }
            }
           }
          ],
          "bar": [
           {
            "error_x": {
             "color": "#2a3f5f"
            },
            "error_y": {
             "color": "#2a3f5f"
            },
            "marker": {
             "line": {
              "color": "#E5ECF6",
              "width": 0.5
             },
             "pattern": {
              "fillmode": "overlay",
              "size": 10,
              "solidity": 0.2
             }
            },
            "type": "bar"
           }
          ],
          "scattergeo": [
           {
            "type": "scattergeo",
            "marker": {
             "colorbar": {
              "outlinewidth": 0,
              "ticks": ""
             }
            }
           }
          ],
          "scatterpolar": [
           {
            "type": "scatterpolar",
            "marker": {
             "colorbar": {
              "outlinewidth": 0,
              "ticks": ""
             }
            }
           }
          ],
          "histogram": [
           {
            "marker": {
             "pattern": {
              "fillmode": "overlay",
              "size": 10,
              "solidity": 0.2
             }
            },
            "type": "histogram"
           }
          ],
          "scattergl": [
           {
            "type": "scattergl",
            "marker": {
             "colorbar": {
              "outlinewidth": 0,
              "ticks": ""
             }
            }
           }
          ],
          "scatter3d": [
           {
            "type": "scatter3d",
            "line": {
             "colorbar": {
              "outlinewidth": 0,
              "ticks": ""
             }
            },
            "marker": {
             "colorbar": {
              "outlinewidth": 0,
              "ticks": ""
             }
            }
           }
          ],
          "scattermap": [
           {
            "type": "scattermap",
            "marker": {
             "colorbar": {
              "outlinewidth": 0,
              "ticks": ""
             }
            }
           }
          ],
          "scattermapbox": [
           {
            "type": "scattermapbox",
            "marker": {
             "colorbar": {
              "outlinewidth": 0,
              "ticks": ""
             }
            }
           }
          ],
          "scatterternary": [
           {
            "type": "scatterternary",
            "marker": {
             "colorbar": {
              "outlinewidth": 0,
              "ticks": ""
             }
            }
           }
          ],
          "scattercarpet": [
           {
            "type": "scattercarpet",
            "marker": {
             "colorbar": {
              "outlinewidth": 0,
              "ticks": ""
             }
            }
           }
          ],
          "carpet": [
           {
            "aaxis": {
             "endlinecolor": "#2a3f5f",
             "gridcolor": "white",
             "linecolor": "white",
             "minorgridcolor": "white",
             "startlinecolor": "#2a3f5f"
            },
            "baxis": {
             "endlinecolor": "#2a3f5f",
             "gridcolor": "white",
             "linecolor": "white",
             "minorgridcolor": "white",
             "startlinecolor": "#2a3f5f"
            },
            "type": "carpet"
           }
          ],
          "table": [
           {
            "cells": {
             "fill": {
              "color": "#EBF0F8"
             },
             "line": {
              "color": "white"
             }
            },
            "header": {
             "fill": {
              "color": "#C8D4E3"
             },
             "line": {
              "color": "white"
             }
            },
            "type": "table"
           }
          ],
          "barpolar": [
           {
            "marker": {
             "line": {
              "color": "#E5ECF6",
              "width": 0.5
             },
             "pattern": {
              "fillmode": "overlay",
              "size": 10,
              "solidity": 0.2
             }
            },
            "type": "barpolar"
           }
          ],
          "pie": [
           {
            "automargin": true,
            "type": "pie"
           }
          ]
         },
         "layout": {
          "autotypenumbers": "strict",
          "colorway": [
           "#636efa",
           "#EF553B",
           "#00cc96",
           "#ab63fa",
           "#FFA15A",
           "#19d3f3",
           "#FF6692",
           "#B6E880",
           "#FF97FF",
           "#FECB52"
          ],
          "font": {
           "color": "#2a3f5f"
          },
          "hovermode": "closest",
          "hoverlabel": {
           "align": "left"
          },
          "paper_bgcolor": "white",
          "plot_bgcolor": "#E5ECF6",
          "polar": {
           "bgcolor": "#E5ECF6",
           "angularaxis": {
            "gridcolor": "white",
            "linecolor": "white",
            "ticks": ""
           },
           "radialaxis": {
            "gridcolor": "white",
            "linecolor": "white",
            "ticks": ""
           }
          },
          "ternary": {
           "bgcolor": "#E5ECF6",
           "aaxis": {
            "gridcolor": "white",
            "linecolor": "white",
            "ticks": ""
           },
           "baxis": {
            "gridcolor": "white",
            "linecolor": "white",
            "ticks": ""
           },
           "caxis": {
            "gridcolor": "white",
            "linecolor": "white",
            "ticks": ""
           }
          },
          "coloraxis": {
           "colorbar": {
            "outlinewidth": 0,
            "ticks": ""
           }
          },
          "colorscale": {
           "sequential": [
            [
             0.0,
             "#0d0887"
            ],
            [
             0.1111111111111111,
             "#46039f"
            ],
            [
             0.2222222222222222,
             "#7201a8"
            ],
            [
             0.3333333333333333,
             "#9c179e"
            ],
            [
             0.4444444444444444,
             "#bd3786"
            ],
            [
             0.5555555555555556,
             "#d8576b"
            ],
            [
             0.6666666666666666,
             "#ed7953"
            ],
            [
             0.7777777777777778,
             "#fb9f3a"
            ],
            [
             0.8888888888888888,
             "#fdca26"
            ],
            [
             1.0,
             "#f0f921"
            ]
           ],
           "sequentialminus": [
            [
             0.0,
             "#0d0887"
            ],
            [
             0.1111111111111111,
             "#46039f"
            ],
            [
             0.2222222222222222,
             "#7201a8"
            ],
            [
             0.3333333333333333,
             "#9c179e"
            ],
            [
             0.4444444444444444,
             "#bd3786"
            ],
            [
             0.5555555555555556,
             "#d8576b"
            ],
            [
             0.6666666666666666,
             "#ed7953"
            ],
            [
             0.7777777777777778,
             "#fb9f3a"
            ],
            [
             0.8888888888888888,
             "#fdca26"
            ],
            [
             1.0,
             "#f0f921"
            ]
           ],
           "diverging": [
            [
             0,
             "#8e0152"
            ],
            [
             0.1,
             "#c51b7d"
            ],
            [
             0.2,
             "#de77ae"
            ],
            [
             0.3,
             "#f1b6da"
            ],
            [
             0.4,
             "#fde0ef"
            ],
            [
             0.5,
             "#f7f7f7"
            ],
            [
             0.6,
             "#e6f5d0"
            ],
            [
             0.7,
             "#b8e186"
            ],
            [
             0.8,
             "#7fbc41"
            ],
            [
             0.9,
             "#4d9221"
            ],
            [
             1,
             "#276419"
            ]
           ]
          },
          "xaxis": {
           "gridcolor": "white",
           "linecolor": "white",
           "ticks": "",
           "title": {
            "standoff": 15
           },
           "zerolinecolor": "white",
           "automargin": true,
           "zerolinewidth": 2
          },
          "yaxis": {
           "gridcolor": "white",
           "linecolor": "white",
           "ticks": "",
           "title": {
            "standoff": 15
           },
           "zerolinecolor": "white",
           "automargin": true,
           "zerolinewidth": 2
          },
          "scene": {
           "xaxis": {
            "backgroundcolor": "#E5ECF6",
            "gridcolor": "white",
            "linecolor": "white",
            "showbackground": true,
            "ticks": "",
            "zerolinecolor": "white",
            "gridwidth": 2
           },
           "yaxis": {
            "backgroundcolor": "#E5ECF6",
            "gridcolor": "white",
            "linecolor": "white",
            "showbackground": true,
            "ticks": "",
            "zerolinecolor": "white",
            "gridwidth": 2
           },
           "zaxis": {
            "backgroundcolor": "#E5ECF6",
            "gridcolor": "white",
            "linecolor": "white",
            "showbackground": true,
            "ticks": "",
            "zerolinecolor": "white",
            "gridwidth": 2
           }
          },
          "shapedefaults": {
           "line": {
            "color": "#2a3f5f"
           }
          },
          "annotationdefaults": {
           "arrowcolor": "#2a3f5f",
           "arrowhead": 0,
           "arrowwidth": 1
          },
          "geo": {
           "bgcolor": "white",
           "landcolor": "#E5ECF6",
           "subunitcolor": "white",
           "showland": true,
           "showlakes": true,
           "lakecolor": "white"
          },
          "title": {
           "x": 0.05
          },
          "mapbox": {
           "style": "light"
          }
         }
        }
       },
       "config": {
        "plotlyServerURL": "https://plot.ly"
       }
      }
     },
     "metadata": {},
     "output_type": "display_data"
    }
   ],
   "execution_count": 12
  },
  {
   "metadata": {
    "ExecuteTime": {
     "end_time": "2025-08-17T15:37:46.509870Z",
     "start_time": "2025-08-17T15:37:46.204302Z"
    }
   },
   "cell_type": "code",
   "source": [
    "model_path = trainer.save()\n",
    "trainer.track_wandb(metrics=eval_metrics, model_path=model_path)"
   ],
   "id": "817e9d2fada076b8",
   "outputs": [
    {
     "data": {
      "text/plain": [
       "<IPython.core.display.HTML object>"
      ],
      "text/html": [
       "Finishing previous runs because reinit is set to 'default'."
      ]
     },
     "metadata": {},
     "output_type": "display_data"
    },
    {
     "data": {
      "text/plain": [
       "<IPython.core.display.HTML object>"
      ],
      "text/html": []
     },
     "metadata": {},
     "output_type": "display_data"
    },
    {
     "data": {
      "text/plain": [
       "<IPython.core.display.HTML object>"
      ],
      "text/html": [
       "<br>    <style><br>        .wandb-row {<br>            display: flex;<br>            flex-direction: row;<br>            flex-wrap: wrap;<br>            justify-content: flex-start;<br>            width: 100%;<br>        }<br>        .wandb-col {<br>            display: flex;<br>            flex-direction: column;<br>            flex-basis: 100%;<br>            flex: 1;<br>            padding: 10px;<br>        }<br>    </style><br><div class=\"wandb-row\"><div class=\"wandb-col\"><h3>Run history:</h3><br/><table class=\"wandb\"><tr><td>alpha</td><td>▁▁▁▂▁▁▁▁▁▁█▁▆▁▂▁▁▁▂▁▂▁▁▁▁▂▄▁▁▂</td></tr><tr><td>l1_ratio</td><td>▆▃▅▄█▃▅▇▅▂▆▂▃▆▁█▇▆▄▂▄▅▅▇▆▅▃▄▆▃</td></tr><tr><td>rmse</td><td>▁▁▁▁▁▃▂▃▁▁▁▁▁▁▁▁▁█▁▁▁▁▁▁▁▁▁▁▁▁</td></tr></table><br/></div><div class=\"wandb-col\"><h3>Run summary:</h3><br/><table class=\"wandb\"><tr><td>alpha</td><td>0.86949</td></tr><tr><td>l1_ratio</td><td>0.25613</td></tr><tr><td>rmse</td><td>0.00885</td></tr></table><br/></div></div>"
      ]
     },
     "metadata": {},
     "output_type": "display_data"
    },
    {
     "data": {
      "text/plain": [
       "<IPython.core.display.HTML object>"
      ],
      "text/html": [
       "You can sync this run to the cloud by running:<br><code>wandb sync D:\\IntelliJ\\ml-stock-sent\\data\\models\\wandb\\offline-run-20250817_173742-sh84psaj<code>"
      ]
     },
     "metadata": {},
     "output_type": "display_data"
    },
    {
     "data": {
      "text/plain": [
       "<IPython.core.display.HTML object>"
      ],
      "text/html": [
       "Find logs at: <code>D:\\IntelliJ\\ml-stock-sent\\data\\models\\wandb\\offline-run-20250817_173742-sh84psaj\\logs</code>"
      ]
     },
     "metadata": {},
     "output_type": "display_data"
    },
    {
     "data": {
      "text/plain": [
       "<IPython.core.display.HTML object>"
      ],
      "text/html": [
       "Tracking run with wandb version 0.21.1"
      ]
     },
     "metadata": {},
     "output_type": "display_data"
    },
    {
     "data": {
      "text/plain": [
       "<IPython.core.display.HTML object>"
      ],
      "text/html": [
       "W&B syncing is set to <code>`offline`<code> in this directory. Run <code>`wandb online`<code> or set <code>WANDB_MODE=online<code> to enable cloud syncing.<br>Run data is saved locally in <code>D:\\IntelliJ\\ml-stock-sent\\notebooks\\wandb\\offline-run-20250817_173746-y7ibdso5</code>"
      ]
     },
     "metadata": {},
     "output_type": "display_data"
    },
    {
     "data": {
      "text/plain": [
       "<IPython.core.display.HTML object>"
      ],
      "text/html": []
     },
     "metadata": {},
     "output_type": "display_data"
    },
    {
     "data": {
      "text/plain": [
       "<IPython.core.display.HTML object>"
      ],
      "text/html": [
       "<br>    <style><br>        .wandb-row {<br>            display: flex;<br>            flex-direction: row;<br>            flex-wrap: wrap;<br>            justify-content: flex-start;<br>            width: 100%;<br>        }<br>        .wandb-col {<br>            display: flex;<br>            flex-direction: column;<br>            flex-basis: 100%;<br>            flex: 1;<br>            padding: 10px;<br>        }<br>    </style><br><div class=\"wandb-row\"><div class=\"wandb-col\"><h3>Run history:</h3><br/><table class=\"wandb\"><tr><td>mae</td><td>▁</td></tr><tr><td>mse</td><td>▁</td></tr><tr><td>r2</td><td>▁</td></tr><tr><td>rmse</td><td>▁</td></tr><tr><td>smape</td><td>▁</td></tr></table><br/></div><div class=\"wandb-col\"><h3>Run summary:</h3><br/><table class=\"wandb\"><tr><td>mae</td><td>0.00729</td></tr><tr><td>mse</td><td>9e-05</td></tr><tr><td>r2</td><td>-2e-05</td></tr><tr><td>rmse</td><td>0.00959</td></tr><tr><td>smape</td><td>1.72163</td></tr></table><br/></div></div>"
      ]
     },
     "metadata": {},
     "output_type": "display_data"
    },
    {
     "data": {
      "text/plain": [
       "<IPython.core.display.HTML object>"
      ],
      "text/html": [
       "You can sync this run to the cloud by running:<br><code>wandb sync D:\\IntelliJ\\ml-stock-sent\\notebooks\\wandb\\offline-run-20250817_173746-y7ibdso5<code>"
      ]
     },
     "metadata": {},
     "output_type": "display_data"
    },
    {
     "data": {
      "text/plain": [
       "<IPython.core.display.HTML object>"
      ],
      "text/html": [
       "Find logs at: <code>.\\wandb\\offline-run-20250817_173746-y7ibdso5\\logs</code>"
      ]
     },
     "metadata": {},
     "output_type": "display_data"
    }
   ],
   "execution_count": 13
  },
  {
   "metadata": {
    "ExecuteTime": {
     "end_time": "2025-08-17T15:37:46.516868Z",
     "start_time": "2025-08-17T15:37:46.513370Z"
    }
   },
   "cell_type": "code",
   "source": [
    "import numpy as np\n",
    "\n",
    "\n",
    "print(\"Target variance:\", np.var(y_test))"
   ],
   "id": "802486427f7b5acd",
   "outputs": [
    {
     "name": "stdout",
     "output_type": "stream",
     "text": [
      "Target variance: 9.201769289538744e-05\n"
     ]
    }
   ],
   "execution_count": 14
  },
  {
   "metadata": {
    "ExecuteTime": {
     "end_time": "2025-08-17T15:37:46.589951Z",
     "start_time": "2025-08-17T15:37:46.527368Z"
    }
   },
   "cell_type": "code",
   "source": [
    "import pandas as pd\n",
    "from matplotlib import pyplot as plt\n",
    "\n",
    "\n",
    "def plot_forecast_from_predictions(\n",
    "        full_df: pd.DataFrame,\n",
    "        forecast_df: pd.DataFrame,\n",
    "        predicted_returns: np.ndarray,\n",
    "        price_col: str = \"adj_close\",\n",
    "        forecast_col: str = \"Forecasted Price\",\n",
    "        title: str = \"Forecasted Prices vs Actual\",\n",
    "        zoom_days: int = 180,\n",
    "        figsize=(14, 6)\n",
    "):\n",
    "    \"\"\"\n",
    "    Plot actual vs forecasted prices using predicted log returns from the model.\n",
    "\n",
    "    Parameters:\n",
    "    - full_df: The complete original DataFrame with prices.\n",
    "    - forecast_df: The subset used for forecasting (e.g., last horizon days).\n",
    "    - predicted_returns: Model's predicted log returns.\n",
    "    - price_col: Column name with actual prices.\n",
    "    - forecast_col: Name of column to store forecasted prices.\n",
    "    - title: Plot title.\n",
    "    - zoom_days: Days to show in the zoomed-in plot.\n",
    "    - figsize: Size of the plot.\n",
    "    \"\"\"\n",
    "    df = full_df.copy()\n",
    "    forecast_idx = forecast_df.index\n",
    "\n",
    "    # Get last known price\n",
    "    last_price = df.loc[forecast_idx[0] - 1, price_col]\n",
    "\n",
    "    # Convert log returns to prices\n",
    "    predicted_prices = [last_price]\n",
    "    for ret in predicted_returns:\n",
    "        predicted_prices.append(predicted_prices[-1] * np.exp(ret))\n",
    "    predicted_prices = predicted_prices[1:]\n",
    "\n",
    "    # Add forecast to DataFrame\n",
    "    df.loc[forecast_idx, forecast_col] = predicted_prices\n",
    "\n",
    "    # Zoomed view\n",
    "    zoom_start = max(df.index[-1] - zoom_days, 0)\n",
    "    df_zoom = df.iloc[zoom_start:]\n",
    "\n",
    "    # Plot\n",
    "    plt.figure(figsize=figsize)\n",
    "    plt.plot(df_zoom[price_col], label=\"Actual Price\", linewidth=2)\n",
    "    plt.plot(df_zoom[forecast_col], label=\"Forecasted Price\", linestyle=\"--\", color=\"orange\")\n",
    "    plt.axvline(x=forecast_idx[0], color=\"gray\", linestyle=\"--\", label=\"Forecast Start\")\n",
    "    plt.title(title)\n",
    "    plt.xlabel(\"Time\")\n",
    "    plt.ylabel(\"Price\")\n",
    "    plt.grid(True)\n",
    "    plt.legend()\n",
    "    plt.tight_layout()\n",
    "    plt.show()\n"
   ],
   "id": "bd6e44de4f1221ee",
   "outputs": [],
   "execution_count": 15
  },
  {
   "metadata": {
    "ExecuteTime": {
     "end_time": "2025-08-17T15:37:46.766317Z",
     "start_time": "2025-08-17T15:37:46.597459Z"
    }
   },
   "cell_type": "code",
   "source": [
    "# Predict future returns\n",
    "y_forecast_pred = trainer.predict(X_forecast)\n",
    "\n",
    "# Plot\n",
    "plot_forecast_from_predictions(\n",
    "    full_df=df_full,              # full dataset with 'adj_close'\n",
    "    forecast_df=forecast,        # forecast split\n",
    "    predicted_returns=y_forecast_pred.ravel(),  # flatten if 2D\n",
    "    price_col=\"adj_close\",\n",
    "    forecast_col=\"forecasted_price\"\n",
    ")"
   ],
   "id": "d855dba03e5e9b3b",
   "outputs": [
    {
     "data": {
      "text/plain": [
       "<Figure size 1400x600 with 1 Axes>"
      ],
      "image/png": "[encoded data removed]"
     },
     "metadata": {},
     "output_type": "display_data"
    }
   ],
   "execution_count": 16
  }
 ],
 "metadata": {
  "kernelspec": {
   "display_name": "Python 3",
   "language": "python",
   "name": "python3"
  },
  "language_info": {
   "codemirror_mode": {
    "name": "ipython",
    "version": 2
   },
   "file_extension": ".py",
   "mimetype": "text/x-python",
   "name": "python",
   "nbconvert_exporter": "python",
   "pygments_lexer": "ipython2",
   "version": "2.7.6"
  }
 },
 "nbformat": 4,
 "nbformat_minor": 5
}

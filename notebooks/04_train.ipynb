{
 "cells": [
  {
   "metadata": {},
   "cell_type": "markdown",
   "source": "# Train and Tune the Models",
   "id": "950d0a291168f9e"
  },
  {
   "cell_type": "code",
   "id": "initial_id",
   "metadata": {
    "collapsed": true,
    "ExecuteTime": {
     "end_time": "2025-08-17T07:44:57.490865Z",
     "start_time": "2025-08-17T07:44:55.476014Z"
    }
   },
   "source": [
    "import os\n",
    "\n",
    "import optuna\n",
    "\n",
    "from src.config import Config\n",
    "from src.data import time_series_split\n",
    "from src.models.classical import LinearElasticNet\n",
    "from src.preprocessing import get_preprocessor\n",
    "from src.train import ModelTrainer\n",
    "from src.utils import load_csv, set_seed\n",
    "\n",
    "from pathlib import Path"
   ],
   "outputs": [],
   "execution_count": 1
  },
  {
   "metadata": {
    "ExecuteTime": {
     "end_time": "2025-08-17T07:44:57.497104Z",
     "start_time": "2025-08-17T07:44:57.494369Z"
    }
   },
   "cell_type": "code",
   "source": "os.environ[\"WANDB_MODE\"] = \"offline\"",
   "id": "8c25f77290a7dd86",
   "outputs": [],
   "execution_count": 2
  },
  {
   "metadata": {
    "ExecuteTime": {
     "end_time": "2025-08-17T07:44:58.569760Z",
     "start_time": "2025-08-17T07:44:57.499608Z"
    }
   },
   "cell_type": "code",
   "source": [
    "cfg = Config(\"../config/config.yaml\")\n",
    "rng = set_seed(cfg.runtime.seed)"
   ],
   "id": "814fc30de23a20b1",
   "outputs": [],
   "execution_count": 3
  },
  {
   "metadata": {
    "ExecuteTime": {
     "end_time": "2025-08-17T07:44:58.636556Z",
     "start_time": "2025-08-17T07:44:58.613580Z"
    }
   },
   "cell_type": "code",
   "source": [
    "df_full = load_csv(str(os.path.join(cfg.data.processed_dir, cfg.data.name_features_full)))\n",
    "df_ml = df_full.drop(columns=[\"open\", \"high\", \"low\", \"close\", \"volume\", \"adj_close\"]).copy()\n",
    "df_ml"
   ],
   "id": "d7f8651a59ccd39c",
   "outputs": [
    {
     "data": {
      "text/plain": [
       "            date       pos       neu       neg  pos_minus_neg     emb_0  \\\n",
       "0     2008-08-08  0.723097  0.080308  0.196594       0.526503 -0.482626   \n",
       "1     2008-08-11  0.695768  0.168894  0.135338       0.560430 -0.566419   \n",
       "2     2008-08-12  0.696532  0.040929  0.262539       0.433994 -0.631328   \n",
       "3     2008-08-13  0.833299  0.003527  0.163175       0.670124 -0.369901   \n",
       "4     2008-08-14  0.928612  0.022426  0.048962       0.879650 -0.482822   \n",
       "...          ...       ...       ...       ...            ...       ...   \n",
       "1984  2016-06-27  0.684537  0.065429  0.250034       0.434503 -0.126545   \n",
       "1985  2016-06-28  0.714076  0.086932  0.198991       0.515085 -0.035628   \n",
       "1986  2016-06-29  0.673349  0.114712  0.211939       0.461410 -0.183834   \n",
       "1987  2016-06-30  0.727080  0.040575  0.232345       0.494736 -0.142834   \n",
       "1988  2016-07-01  0.752016  0.043626  0.204358       0.547657 -0.086177   \n",
       "\n",
       "         emb_1     emb_2     emb_3     emb_4  ...    sma_25    ema_25  \\\n",
       "0    -0.328239 -0.636478  0.627401  0.294770  ...       NaN       NaN   \n",
       "1    -0.423188 -0.652022  0.812345  0.474358  ...       NaN       NaN   \n",
       "2    -0.305491 -0.709601  0.736141  0.427515  ...       NaN       NaN   \n",
       "3    -0.184175 -0.789519  0.645993  0.350836  ...       NaN       NaN   \n",
       "4    -0.254288 -0.716074  0.775566  0.416154  ...       NaN       NaN   \n",
       "...        ...       ...       ...       ...  ...       ...       ...   \n",
       "1984 -0.069503 -0.505809  0.675737  0.537852  ... -0.000833 -0.002734   \n",
       "1985  0.026517 -0.447723  0.623409  0.638349  ... -0.000191 -0.001324   \n",
       "1986 -0.045571 -0.742004  0.678196  0.518598  ... -0.000026  0.000027   \n",
       "1987 -0.103121 -0.675863  0.680667  0.464056  ...  0.000175  0.001041   \n",
       "1988  0.007075 -0.717136  0.513033  0.448127  ...  0.000271  0.001044   \n",
       "\n",
       "        lag_50    sma_50    ema_50  quarter  dow    q_mean     q_std    q_skew  \n",
       "0          NaN       NaN       NaN        3    4  0.000048  0.012294 -0.837789  \n",
       "1          NaN       NaN       NaN        3    0  0.000048  0.012294 -0.837789  \n",
       "2          NaN       NaN       NaN        3    1  0.000048  0.012294 -0.837789  \n",
       "3          NaN       NaN       NaN        3    2  0.000048  0.012294 -0.837789  \n",
       "4          NaN       NaN       NaN        3    3  0.000048  0.012294 -0.837789  \n",
       "...        ...       ...       ...      ...  ...       ...       ...       ...  \n",
       "1984 -0.001617 -0.000865 -0.001261        2    0  0.000062  0.009649 -0.181613  \n",
       "1985  0.005944 -0.000671 -0.000600        2    1  0.000062  0.009649 -0.181613  \n",
       "1986  0.002742 -0.000402  0.000060        2    2  0.000062  0.009649 -0.181613  \n",
       "1987  0.002361 -0.000185  0.000576        2    3  0.000062  0.009649 -0.181613  \n",
       "1988 -0.006306 -0.000037  0.000596        3    4  0.000048  0.012294 -0.837789  \n",
       "\n",
       "[1989 rows x 45 columns]"
      ],
      "text/html": [
       "<div>\n",
       "<style scoped>\n",
       "    .dataframe tbody tr th:only-of-type {\n",
       "        vertical-align: middle;\n",
       "    }\n",
       "\n",
       "    .dataframe tbody tr th {\n",
       "        vertical-align: top;\n",
       "    }\n",
       "\n",
       "    .dataframe thead th {\n",
       "        text-align: right;\n",
       "    }\n",
       "</style>\n",
       "<table border=\"1\" class=\"dataframe\">\n",
       "  <thead>\n",
       "    <tr style=\"text-align: right;\">\n",
       "      <th></th>\n",
       "      <th>date</th>\n",
       "      <th>pos</th>\n",
       "      <th>neu</th>\n",
       "      <th>neg</th>\n",
       "      <th>pos_minus_neg</th>\n",
       "      <th>emb_0</th>\n",
       "      <th>emb_1</th>\n",
       "      <th>emb_2</th>\n",
       "      <th>emb_3</th>\n",
       "      <th>emb_4</th>\n",
       "      <th>...</th>\n",
       "      <th>sma_25</th>\n",
       "      <th>ema_25</th>\n",
       "      <th>lag_50</th>\n",
       "      <th>sma_50</th>\n",
       "      <th>ema_50</th>\n",
       "      <th>quarter</th>\n",
       "      <th>dow</th>\n",
       "      <th>q_mean</th>\n",
       "      <th>q_std</th>\n",
       "      <th>q_skew</th>\n",
       "    </tr>\n",
       "  </thead>\n",
       "  <tbody>\n",
       "    <tr>\n",
       "      <th>0</th>\n",
       "      <td>2008-08-08</td>\n",
       "      <td>0.723097</td>\n",
       "      <td>0.080308</td>\n",
       "      <td>0.196594</td>\n",
       "      <td>0.526503</td>\n",
       "      <td>-0.482626</td>\n",
       "      <td>-0.328239</td>\n",
       "      <td>-0.636478</td>\n",
       "      <td>0.627401</td>\n",
       "      <td>0.294770</td>\n",
       "      <td>...</td>\n",
       "      <td>NaN</td>\n",
       "      <td>NaN</td>\n",
       "      <td>NaN</td>\n",
       "      <td>NaN</td>\n",
       "      <td>NaN</td>\n",
       "      <td>3</td>\n",
       "      <td>4</td>\n",
       "      <td>0.000048</td>\n",
       "      <td>0.012294</td>\n",
       "      <td>-0.837789</td>\n",
       "    </tr>\n",
       "    <tr>\n",
       "      <th>1</th>\n",
       "      <td>2008-08-11</td>\n",
       "      <td>0.695768</td>\n",
       "      <td>0.168894</td>\n",
       "      <td>0.135338</td>\n",
       "      <td>0.560430</td>\n",
       "      <td>-0.566419</td>\n",
       "      <td>-0.423188</td>\n",
       "      <td>-0.652022</td>\n",
       "      <td>0.812345</td>\n",
       "      <td>0.474358</td>\n",
       "      <td>...</td>\n",
       "      <td>NaN</td>\n",
       "      <td>NaN</td>\n",
       "      <td>NaN</td>\n",
       "      <td>NaN</td>\n",
       "      <td>NaN</td>\n",
       "      <td>3</td>\n",
       "      <td>0</td>\n",
       "      <td>0.000048</td>\n",
       "      <td>0.012294</td>\n",
       "      <td>-0.837789</td>\n",
       "    </tr>\n",
       "    <tr>\n",
       "      <th>2</th>\n",
       "      <td>2008-08-12</td>\n",
       "      <td>0.696532</td>\n",
       "      <td>0.040929</td>\n",
       "      <td>0.262539</td>\n",
       "      <td>0.433994</td>\n",
       "      <td>-0.631328</td>\n",
       "      <td>-0.305491</td>\n",
       "      <td>-0.709601</td>\n",
       "      <td>0.736141</td>\n",
       "      <td>0.427515</td>\n",
       "      <td>...</td>\n",
       "      <td>NaN</td>\n",
       "      <td>NaN</td>\n",
       "      <td>NaN</td>\n",
       "      <td>NaN</td>\n",
       "      <td>NaN</td>\n",
       "      <td>3</td>\n",
       "      <td>1</td>\n",
       "      <td>0.000048</td>\n",
       "      <td>0.012294</td>\n",
       "      <td>-0.837789</td>\n",
       "    </tr>\n",
       "    <tr>\n",
       "      <th>3</th>\n",
       "      <td>2008-08-13</td>\n",
       "      <td>0.833299</td>\n",
       "      <td>0.003527</td>\n",
       "      <td>0.163175</td>\n",
       "      <td>0.670124</td>\n",
       "      <td>-0.369901</td>\n",
       "      <td>-0.184175</td>\n",
       "      <td>-0.789519</td>\n",
       "      <td>0.645993</td>\n",
       "      <td>0.350836</td>\n",
       "      <td>...</td>\n",
       "      <td>NaN</td>\n",
       "      <td>NaN</td>\n",
       "      <td>NaN</td>\n",
       "      <td>NaN</td>\n",
       "      <td>NaN</td>\n",
       "      <td>3</td>\n",
       "      <td>2</td>\n",
       "      <td>0.000048</td>\n",
       "      <td>0.012294</td>\n",
       "      <td>-0.837789</td>\n",
       "    </tr>\n",
       "    <tr>\n",
       "      <th>4</th>\n",
       "      <td>2008-08-14</td>\n",
       "      <td>0.928612</td>\n",
       "      <td>0.022426</td>\n",
       "      <td>0.048962</td>\n",
       "      <td>0.879650</td>\n",
       "      <td>-0.482822</td>\n",
       "      <td>-0.254288</td>\n",
       "      <td>-0.716074</td>\n",
       "      <td>0.775566</td>\n",
       "      <td>0.416154</td>\n",
       "      <td>...</td>\n",
       "      <td>NaN</td>\n",
       "      <td>NaN</td>\n",
       "      <td>NaN</td>\n",
       "      <td>NaN</td>\n",
       "      <td>NaN</td>\n",
       "      <td>3</td>\n",
       "      <td>3</td>\n",
       "      <td>0.000048</td>\n",
       "      <td>0.012294</td>\n",
       "      <td>-0.837789</td>\n",
       "    </tr>\n",
       "    <tr>\n",
       "      <th>...</th>\n",
       "      <td>...</td>\n",
       "      <td>...</td>\n",
       "      <td>...</td>\n",
       "      <td>...</td>\n",
       "      <td>...</td>\n",
       "      <td>...</td>\n",
       "      <td>...</td>\n",
       "      <td>...</td>\n",
       "      <td>...</td>\n",
       "      <td>...</td>\n",
       "      <td>...</td>\n",
       "      <td>...</td>\n",
       "      <td>...</td>\n",
       "      <td>...</td>\n",
       "      <td>...</td>\n",
       "      <td>...</td>\n",
       "      <td>...</td>\n",
       "      <td>...</td>\n",
       "      <td>...</td>\n",
       "      <td>...</td>\n",
       "      <td>...</td>\n",
       "    </tr>\n",
       "    <tr>\n",
       "      <th>1984</th>\n",
       "      <td>2016-06-27</td>\n",
       "      <td>0.684537</td>\n",
       "      <td>0.065429</td>\n",
       "      <td>0.250034</td>\n",
       "      <td>0.434503</td>\n",
       "      <td>-0.126545</td>\n",
       "      <td>-0.069503</td>\n",
       "      <td>-0.505809</td>\n",
       "      <td>0.675737</td>\n",
       "      <td>0.537852</td>\n",
       "      <td>...</td>\n",
       "      <td>-0.000833</td>\n",
       "      <td>-0.002734</td>\n",
       "      <td>-0.001617</td>\n",
       "      <td>-0.000865</td>\n",
       "      <td>-0.001261</td>\n",
       "      <td>2</td>\n",
       "      <td>0</td>\n",
       "      <td>0.000062</td>\n",
       "      <td>0.009649</td>\n",
       "      <td>-0.181613</td>\n",
       "    </tr>\n",
       "    <tr>\n",
       "      <th>1985</th>\n",
       "      <td>2016-06-28</td>\n",
       "      <td>0.714076</td>\n",
       "      <td>0.086932</td>\n",
       "      <td>0.198991</td>\n",
       "      <td>0.515085</td>\n",
       "      <td>-0.035628</td>\n",
       "      <td>0.026517</td>\n",
       "      <td>-0.447723</td>\n",
       "      <td>0.623409</td>\n",
       "      <td>0.638349</td>\n",
       "      <td>...</td>\n",
       "      <td>-0.000191</td>\n",
       "      <td>-0.001324</td>\n",
       "      <td>0.005944</td>\n",
       "      <td>-0.000671</td>\n",
       "      <td>-0.000600</td>\n",
       "      <td>2</td>\n",
       "      <td>1</td>\n",
       "      <td>0.000062</td>\n",
       "      <td>0.009649</td>\n",
       "      <td>-0.181613</td>\n",
       "    </tr>\n",
       "    <tr>\n",
       "      <th>1986</th>\n",
       "      <td>2016-06-29</td>\n",
       "      <td>0.673349</td>\n",
       "      <td>0.114712</td>\n",
       "      <td>0.211939</td>\n",
       "      <td>0.461410</td>\n",
       "      <td>-0.183834</td>\n",
       "      <td>-0.045571</td>\n",
       "      <td>-0.742004</td>\n",
       "      <td>0.678196</td>\n",
       "      <td>0.518598</td>\n",
       "      <td>...</td>\n",
       "      <td>-0.000026</td>\n",
       "      <td>0.000027</td>\n",
       "      <td>0.002742</td>\n",
       "      <td>-0.000402</td>\n",
       "      <td>0.000060</td>\n",
       "      <td>2</td>\n",
       "      <td>2</td>\n",
       "      <td>0.000062</td>\n",
       "      <td>0.009649</td>\n",
       "      <td>-0.181613</td>\n",
       "    </tr>\n",
       "    <tr>\n",
       "      <th>1987</th>\n",
       "      <td>2016-06-30</td>\n",
       "      <td>0.727080</td>\n",
       "      <td>0.040575</td>\n",
       "      <td>0.232345</td>\n",
       "      <td>0.494736</td>\n",
       "      <td>-0.142834</td>\n",
       "      <td>-0.103121</td>\n",
       "      <td>-0.675863</td>\n",
       "      <td>0.680667</td>\n",
       "      <td>0.464056</td>\n",
       "      <td>...</td>\n",
       "      <td>0.000175</td>\n",
       "      <td>0.001041</td>\n",
       "      <td>0.002361</td>\n",
       "      <td>-0.000185</td>\n",
       "      <td>0.000576</td>\n",
       "      <td>2</td>\n",
       "      <td>3</td>\n",
       "      <td>0.000062</td>\n",
       "      <td>0.009649</td>\n",
       "      <td>-0.181613</td>\n",
       "    </tr>\n",
       "    <tr>\n",
       "      <th>1988</th>\n",
       "      <td>2016-07-01</td>\n",
       "      <td>0.752016</td>\n",
       "      <td>0.043626</td>\n",
       "      <td>0.204358</td>\n",
       "      <td>0.547657</td>\n",
       "      <td>-0.086177</td>\n",
       "      <td>0.007075</td>\n",
       "      <td>-0.717136</td>\n",
       "      <td>0.513033</td>\n",
       "      <td>0.448127</td>\n",
       "      <td>...</td>\n",
       "      <td>0.000271</td>\n",
       "      <td>0.001044</td>\n",
       "      <td>-0.006306</td>\n",
       "      <td>-0.000037</td>\n",
       "      <td>0.000596</td>\n",
       "      <td>3</td>\n",
       "      <td>4</td>\n",
       "      <td>0.000048</td>\n",
       "      <td>0.012294</td>\n",
       "      <td>-0.837789</td>\n",
       "    </tr>\n",
       "  </tbody>\n",
       "</table>\n",
       "<p>1989 rows × 45 columns</p>\n",
       "</div>"
      ]
     },
     "execution_count": 4,
     "metadata": {},
     "output_type": "execute_result"
    }
   ],
   "execution_count": 4
  },
  {
   "metadata": {
    "ExecuteTime": {
     "end_time": "2025-08-17T07:44:58.668751Z",
     "start_time": "2025-08-17T07:44:58.664201Z"
    }
   },
   "cell_type": "code",
   "source": "train, val, test, forecast = time_series_split(df_ml, train_ratio=0.8, val_ratio=0.1, horizon=30)",
   "id": "8cef05aa196e294f",
   "outputs": [],
   "execution_count": 5
  },
  {
   "metadata": {
    "ExecuteTime": {
     "end_time": "2025-08-17T07:44:58.720178Z",
     "start_time": "2025-08-17T07:44:58.717225Z"
    }
   },
   "cell_type": "code",
   "source": [
    "X_train, y_train = train.drop(columns=[\"date\", \"target\"]), train[\"target\"]\n",
    "X_val, y_val = val.drop(columns=[\"date\", \"target\"]), val[\"target\"]\n",
    "X_test, y_test = test.drop(columns=[\"date\", \"target\"]), test[\"target\"]\n",
    "X_forecast = forecast.drop(columns=[\"date\", \"target\"])"
   ],
   "id": "5acae1bc061db276",
   "outputs": [],
   "execution_count": 6
  },
  {
   "metadata": {
    "ExecuteTime": {
     "end_time": "2025-08-17T07:44:58.788388Z",
     "start_time": "2025-08-17T07:44:58.785683Z"
    }
   },
   "cell_type": "code",
   "source": [
    "model = LinearElasticNet(horizon=30)\n",
    "preprocessor, _ = get_preprocessor(X_train)\n",
    "\n",
    "config = {\n",
    "    \"model\": \"linear_elasticnet\",\n",
    "    \"optimization_metric\": \"rmse\"\n",
    "}\n",
    "\n",
    "trainer = ModelTrainer(\n",
    "    model=model,\n",
    "    name=\"linear_elasticnet\",\n",
    "    config=config,\n",
    "    preprocessor=preprocessor,\n",
    "    output_path=cfg.data.models_dir\n",
    ")"
   ],
   "id": "42a82702696477d0",
   "outputs": [],
   "execution_count": 7
  },
  {
   "metadata": {
    "ExecuteTime": {
     "end_time": "2025-08-17T07:45:13.045991Z",
     "start_time": "2025-08-17T07:45:12.760421Z"
    }
   },
   "cell_type": "code",
   "source": [
    "from optuna.integration.wandb import WeightsAndBiasesCallback\n",
    "\n",
    "opt_metric = config.get(\"optimization_metric\", \"rmse\")\n",
    "\n",
    "wandb_callback = WeightsAndBiasesCallback(\n",
    "    metric_name=opt_metric,\n",
    "    wandb_kwargs={\n",
    "        \"project\": \"stock_forecasting\",\n",
    "        \"name\": \"optuna_tuning_run\",\n",
    "        \"tags\": [\"optuna\", \"linear_elasticnet\"],\n",
    "        \"dir\": Path(\"../data/models\").resolve()\n",
    "    }\n",
    ")"
   ],
   "id": "ffe7394f2d0159bb",
   "outputs": [
    {
     "name": "stderr",
     "output_type": "stream",
     "text": [
      "C:\\Users\\Vito\\AppData\\Local\\Temp\\ipykernel_13856\\3329073828.py:5: ExperimentalWarning: WeightsAndBiasesCallback is experimental (supported from v2.9.0). The interface can change in the future.\n",
      "  wandb_callback = WeightsAndBiasesCallback(\n"
     ]
    },
    {
     "data": {
      "text/plain": [
       "<IPython.core.display.HTML object>"
      ],
      "text/html": [
       "Finishing previous runs because reinit is set to 'default'."
      ]
     },
     "metadata": {},
     "output_type": "display_data"
    },
    {
     "data": {
      "text/plain": [
       "<IPython.core.display.HTML object>"
      ],
      "text/html": []
     },
     "metadata": {},
     "output_type": "display_data"
    },
    {
     "data": {
      "text/plain": [
       "<IPython.core.display.HTML object>"
      ],
      "text/html": [
       "You can sync this run to the cloud by running:<br><code>wandb sync D:\\IntelliJ\\ml-stock-sent\\data\\models\\wandb\\wandb\\offline-run-20250817_094459-3lsgcf9c<code>"
      ]
     },
     "metadata": {},
     "output_type": "display_data"
    },
    {
     "data": {
      "text/plain": [
       "<IPython.core.display.HTML object>"
      ],
      "text/html": [
       "Find logs at: <code>D:\\IntelliJ\\ml-stock-sent\\data\\models\\wandb\\wandb\\offline-run-20250817_094459-3lsgcf9c\\logs</code>"
      ]
     },
     "metadata": {},
     "output_type": "display_data"
    },
    {
     "data": {
      "text/plain": [
       "<IPython.core.display.HTML object>"
      ],
      "text/html": [
       "Tracking run with wandb version 0.21.1"
      ]
     },
     "metadata": {},
     "output_type": "display_data"
    },
    {
     "data": {
      "text/plain": [
       "<IPython.core.display.HTML object>"
      ],
      "text/html": [
       "W&B syncing is set to <code>`offline`<code> in this directory. Run <code>`wandb online`<code> or set <code>WANDB_MODE=online<code> to enable cloud syncing.<br>Run data is saved locally in <code>D:\\IntelliJ\\ml-stock-sent\\data\\models\\wandb\\offline-run-20250817_094512-3jkm7m3u</code>"
      ]
     },
     "metadata": {},
     "output_type": "display_data"
    }
   ],
   "execution_count": 9
  },
  {
   "metadata": {
    "ExecuteTime": {
     "end_time": "2025-08-17T07:45:21.461830Z",
     "start_time": "2025-08-17T07:45:19.884136Z"
    }
   },
   "cell_type": "code",
   "source": [
    "study = optuna.create_study(direction=\"minimize\")\n",
    "study.optimize(\n",
    "    lambda trial: trainer.objective(trial, X_train, y_train, n_splits=5),\n",
    "    n_trials=30,\n",
    "    callbacks=[wandb_callback]\n",
    ")\n",
    "\n",
    "best_params = study.best_params\n",
    "print(\"Best params:\", best_params)"
   ],
   "id": "a0b77a5f89dab585",
   "outputs": [
    {
     "name": "stderr",
     "output_type": "stream",
     "text": [
      "[I 2025-08-17 09:45:19,885] A new study created in memory with name: no-name-3627eab0-59c3-4ee0-ae33-08994d7d0662\n",
      "2025-08-17 09:45:19,886 - INFO - ModelTrainer - Running Optuna trial with params: {'alpha': 1.4661896418400024, 'l1_ratio': 0.9398973231547251}\n",
      "2025-08-17 09:45:19,913 - INFO - LinearElasticNet - Starting model training...\n",
      "2025-08-17 09:45:19,923 - INFO - LinearElasticNet - Starting model training...\n",
      "2025-08-17 09:45:19,932 - INFO - LinearElasticNet - Starting model training...\n",
      "2025-08-17 09:45:19,941 - INFO - LinearElasticNet - Starting model training...\n",
      "2025-08-17 09:45:19,954 - INFO - LinearElasticNet - Starting model training...\n",
      "[I 2025-08-17 09:45:19,956] Trial 0 finished with value: 0.008936553071680106 and parameters: {'alpha': 1.4661896418400024, 'l1_ratio': 0.9398973231547251}. Best is trial 0 with value: 0.008936553071680106.\n",
      "2025-08-17 09:45:19,957 - INFO - ModelTrainer - Running Optuna trial with params: {'alpha': 0.015166679968592289, 'l1_ratio': 0.2341311489492922}\n",
      "2025-08-17 09:45:19,964 - INFO - LinearElasticNet - Starting model training...\n",
      "2025-08-17 09:45:19,972 - INFO - LinearElasticNet - Starting model training...\n",
      "2025-08-17 09:45:19,981 - INFO - LinearElasticNet - Starting model training...\n",
      "2025-08-17 09:45:19,989 - INFO - LinearElasticNet - Starting model training...\n",
      "2025-08-17 09:45:20,000 - INFO - LinearElasticNet - Starting model training...\n",
      "[I 2025-08-17 09:45:20,002] Trial 1 finished with value: 0.008938396704666191 and parameters: {'alpha': 0.015166679968592289, 'l1_ratio': 0.2341311489492922}. Best is trial 0 with value: 0.008936553071680106.\n",
      "2025-08-17 09:45:20,003 - INFO - ModelTrainer - Running Optuna trial with params: {'alpha': 0.26208783454924384, 'l1_ratio': 0.5453208955134424}\n",
      "2025-08-17 09:45:20,011 - INFO - LinearElasticNet - Starting model training...\n",
      "2025-08-17 09:45:20,021 - INFO - LinearElasticNet - Starting model training...\n",
      "2025-08-17 09:45:20,032 - INFO - LinearElasticNet - Starting model training...\n",
      "2025-08-17 09:45:20,042 - INFO - LinearElasticNet - Starting model training...\n",
      "2025-08-17 09:45:20,053 - INFO - LinearElasticNet - Starting model training...\n",
      "[I 2025-08-17 09:45:20,055] Trial 2 finished with value: 0.008936553071680106 and parameters: {'alpha': 0.26208783454924384, 'l1_ratio': 0.5453208955134424}. Best is trial 0 with value: 0.008936553071680106.\n",
      "2025-08-17 09:45:20,056 - INFO - ModelTrainer - Running Optuna trial with params: {'alpha': 0.013905856130691714, 'l1_ratio': 0.42009669984912323}\n",
      "2025-08-17 09:45:20,064 - INFO - LinearElasticNet - Starting model training...\n",
      "2025-08-17 09:45:20,073 - INFO - LinearElasticNet - Starting model training...\n",
      "2025-08-17 09:45:20,084 - INFO - LinearElasticNet - Starting model training...\n",
      "2025-08-17 09:45:20,094 - INFO - LinearElasticNet - Starting model training...\n",
      "2025-08-17 09:45:20,104 - INFO - LinearElasticNet - Starting model training...\n",
      "[I 2025-08-17 09:45:20,107] Trial 3 finished with value: 0.008936553071680106 and parameters: {'alpha': 0.013905856130691714, 'l1_ratio': 0.42009669984912323}. Best is trial 0 with value: 0.008936553071680106.\n",
      "2025-08-17 09:45:20,108 - INFO - ModelTrainer - Running Optuna trial with params: {'alpha': 8.668961949166727, 'l1_ratio': 0.8582216404548515}\n",
      "2025-08-17 09:45:20,117 - INFO - LinearElasticNet - Starting model training...\n",
      "2025-08-17 09:45:20,127 - INFO - LinearElasticNet - Starting model training...\n",
      "2025-08-17 09:45:20,137 - INFO - LinearElasticNet - Starting model training...\n",
      "2025-08-17 09:45:20,147 - INFO - LinearElasticNet - Starting model training...\n",
      "2025-08-17 09:45:20,158 - INFO - LinearElasticNet - Starting model training...\n",
      "[I 2025-08-17 09:45:20,160] Trial 4 finished with value: 0.008936553071680106 and parameters: {'alpha': 8.668961949166727, 'l1_ratio': 0.8582216404548515}. Best is trial 0 with value: 0.008936553071680106.\n",
      "2025-08-17 09:45:20,161 - INFO - ModelTrainer - Running Optuna trial with params: {'alpha': 0.005330288598090724, 'l1_ratio': 0.8387464829597732}\n",
      "2025-08-17 09:45:20,170 - INFO - LinearElasticNet - Starting model training...\n",
      "2025-08-17 09:45:20,180 - INFO - LinearElasticNet - Starting model training...\n",
      "2025-08-17 09:45:20,190 - INFO - LinearElasticNet - Starting model training...\n",
      "2025-08-17 09:45:20,200 - INFO - LinearElasticNet - Starting model training...\n",
      "2025-08-17 09:45:20,211 - INFO - LinearElasticNet - Starting model training...\n",
      "[I 2025-08-17 09:45:20,213] Trial 5 finished with value: 0.008936553071680106 and parameters: {'alpha': 0.005330288598090724, 'l1_ratio': 0.8387464829597732}. Best is trial 0 with value: 0.008936553071680106.\n",
      "2025-08-17 09:45:20,214 - INFO - ModelTrainer - Running Optuna trial with params: {'alpha': 0.0060214391011138655, 'l1_ratio': 0.3006171445521443}\n",
      "2025-08-17 09:45:20,222 - INFO - LinearElasticNet - Starting model training...\n",
      "2025-08-17 09:45:20,232 - INFO - LinearElasticNet - Starting model training...\n",
      "2025-08-17 09:45:20,241 - INFO - LinearElasticNet - Starting model training...\n",
      "2025-08-17 09:45:20,251 - INFO - LinearElasticNet - Starting model training...\n",
      "2025-08-17 09:45:20,262 - INFO - LinearElasticNet - Starting model training...\n",
      "[I 2025-08-17 09:45:20,264] Trial 6 finished with value: 0.008974599595423627 and parameters: {'alpha': 0.0060214391011138655, 'l1_ratio': 0.3006171445521443}. Best is trial 0 with value: 0.008936553071680106.\n",
      "2025-08-17 09:45:20,265 - INFO - ModelTrainer - Running Optuna trial with params: {'alpha': 0.005769668917509071, 'l1_ratio': 0.590776160029991}\n",
      "2025-08-17 09:45:20,273 - INFO - LinearElasticNet - Starting model training...\n",
      "2025-08-17 09:45:20,283 - INFO - LinearElasticNet - Starting model training...\n",
      "2025-08-17 09:45:20,293 - INFO - LinearElasticNet - Starting model training...\n",
      "2025-08-17 09:45:20,303 - INFO - LinearElasticNet - Starting model training...\n",
      "2025-08-17 09:45:20,314 - INFO - LinearElasticNet - Starting model training...\n",
      "[I 2025-08-17 09:45:20,316] Trial 7 finished with value: 0.008939710563546708 and parameters: {'alpha': 0.005769668917509071, 'l1_ratio': 0.590776160029991}. Best is trial 0 with value: 0.008936553071680106.\n",
      "2025-08-17 09:45:20,317 - INFO - ModelTrainer - Running Optuna trial with params: {'alpha': 4.4756219134242325, 'l1_ratio': 0.06045044425555901}\n",
      "2025-08-17 09:45:20,325 - INFO - LinearElasticNet - Starting model training...\n",
      "2025-08-17 09:45:20,334 - INFO - LinearElasticNet - Starting model training...\n",
      "2025-08-17 09:45:20,344 - INFO - LinearElasticNet - Starting model training...\n",
      "2025-08-17 09:45:20,354 - INFO - LinearElasticNet - Starting model training...\n",
      "2025-08-17 09:45:20,363 - INFO - LinearElasticNet - Starting model training...\n",
      "[I 2025-08-17 09:45:20,365] Trial 8 finished with value: 0.008936553071680106 and parameters: {'alpha': 4.4756219134242325, 'l1_ratio': 0.06045044425555901}. Best is trial 0 with value: 0.008936553071680106.\n",
      "2025-08-17 09:45:20,367 - INFO - ModelTrainer - Running Optuna trial with params: {'alpha': 0.15981003523775136, 'l1_ratio': 0.6003055978086448}\n",
      "2025-08-17 09:45:20,375 - INFO - LinearElasticNet - Starting model training...\n",
      "2025-08-17 09:45:20,385 - INFO - LinearElasticNet - Starting model training...\n",
      "2025-08-17 09:45:20,394 - INFO - LinearElasticNet - Starting model training...\n",
      "2025-08-17 09:45:20,404 - INFO - LinearElasticNet - Starting model training...\n",
      "2025-08-17 09:45:20,414 - INFO - LinearElasticNet - Starting model training...\n",
      "[I 2025-08-17 09:45:20,416] Trial 9 finished with value: 0.008936553071680106 and parameters: {'alpha': 0.15981003523775136, 'l1_ratio': 0.6003055978086448}. Best is trial 0 with value: 0.008936553071680106.\n",
      "2025-08-17 09:45:20,421 - INFO - ModelTrainer - Running Optuna trial with params: {'alpha': 0.00023079652170633155, 'l1_ratio': 0.9916273439535722}\n",
      "2025-08-17 09:45:20,429 - INFO - LinearElasticNet - Starting model training...\n",
      "2025-08-17 09:45:20,438 - INFO - LinearElasticNet - Starting model training...\n",
      "2025-08-17 09:45:20,449 - INFO - LinearElasticNet - Starting model training...\n",
      "2025-08-17 09:45:20,459 - INFO - LinearElasticNet - Starting model training...\n",
      "2025-08-17 09:45:20,470 - INFO - LinearElasticNet - Starting model training...\n",
      "[I 2025-08-17 09:45:20,472] Trial 10 finished with value: 0.009761872253635477 and parameters: {'alpha': 0.00023079652170633155, 'l1_ratio': 0.9916273439535722}. Best is trial 0 with value: 0.008936553071680106.\n",
      "2025-08-17 09:45:20,477 - INFO - ModelTrainer - Running Optuna trial with params: {'alpha': 0.48179602279164296, 'l1_ratio': 0.7253812388036267}\n",
      "2025-08-17 09:45:20,485 - INFO - LinearElasticNet - Starting model training...\n",
      "2025-08-17 09:45:20,494 - INFO - LinearElasticNet - Starting model training...\n",
      "2025-08-17 09:45:20,503 - INFO - LinearElasticNet - Starting model training...\n",
      "2025-08-17 09:45:20,513 - INFO - LinearElasticNet - Starting model training...\n",
      "2025-08-17 09:45:20,522 - INFO - LinearElasticNet - Starting model training...\n",
      "[I 2025-08-17 09:45:20,524] Trial 11 finished with value: 0.008936553071680106 and parameters: {'alpha': 0.48179602279164296, 'l1_ratio': 0.7253812388036267}. Best is trial 0 with value: 0.008936553071680106.\n",
      "2025-08-17 09:45:20,528 - INFO - ModelTrainer - Running Optuna trial with params: {'alpha': 0.9005072413675441, 'l1_ratio': 0.9978831343378864}\n",
      "2025-08-17 09:45:20,535 - INFO - LinearElasticNet - Starting model training...\n",
      "2025-08-17 09:45:20,544 - INFO - LinearElasticNet - Starting model training...\n",
      "2025-08-17 09:45:20,553 - INFO - LinearElasticNet - Starting model training...\n",
      "2025-08-17 09:45:20,563 - INFO - LinearElasticNet - Starting model training...\n",
      "2025-08-17 09:45:20,573 - INFO - LinearElasticNet - Starting model training...\n",
      "[I 2025-08-17 09:45:20,575] Trial 12 finished with value: 0.008936553071680106 and parameters: {'alpha': 0.9005072413675441, 'l1_ratio': 0.9978831343378864}. Best is trial 0 with value: 0.008936553071680106.\n",
      "2025-08-17 09:45:20,578 - INFO - ModelTrainer - Running Optuna trial with params: {'alpha': 0.1085991650972773, 'l1_ratio': 0.7421406360532857}\n",
      "2025-08-17 09:45:20,586 - INFO - LinearElasticNet - Starting model training...\n",
      "2025-08-17 09:45:20,596 - INFO - LinearElasticNet - Starting model training...\n",
      "2025-08-17 09:45:20,605 - INFO - LinearElasticNet - Starting model training...\n",
      "2025-08-17 09:45:20,615 - INFO - LinearElasticNet - Starting model training...\n",
      "2025-08-17 09:45:20,625 - INFO - LinearElasticNet - Starting model training...\n",
      "[I 2025-08-17 09:45:20,627] Trial 13 finished with value: 0.008936553071680106 and parameters: {'alpha': 0.1085991650972773, 'l1_ratio': 0.7421406360532857}. Best is trial 0 with value: 0.008936553071680106.\n",
      "2025-08-17 09:45:20,631 - INFO - ModelTrainer - Running Optuna trial with params: {'alpha': 1.3694582969591125, 'l1_ratio': 0.44362715831292127}\n",
      "2025-08-17 09:45:20,639 - INFO - LinearElasticNet - Starting model training...\n",
      "2025-08-17 09:45:20,647 - INFO - LinearElasticNet - Starting model training...\n",
      "2025-08-17 09:45:20,657 - INFO - LinearElasticNet - Starting model training...\n",
      "2025-08-17 09:45:20,666 - INFO - LinearElasticNet - Starting model training...\n",
      "2025-08-17 09:45:20,675 - INFO - LinearElasticNet - Starting model training...\n",
      "[I 2025-08-17 09:45:20,677] Trial 14 finished with value: 0.008936553071680106 and parameters: {'alpha': 1.3694582969591125, 'l1_ratio': 0.44362715831292127}. Best is trial 0 with value: 0.008936553071680106.\n",
      "2025-08-17 09:45:20,682 - INFO - ModelTrainer - Running Optuna trial with params: {'alpha': 0.09345159207575174, 'l1_ratio': 0.013905057592156655}\n",
      "2025-08-17 09:45:20,689 - INFO - LinearElasticNet - Starting model training...\n",
      "2025-08-17 09:45:20,698 - INFO - LinearElasticNet - Starting model training...\n",
      "2025-08-17 09:45:20,707 - INFO - LinearElasticNet - Starting model training...\n",
      "2025-08-17 09:45:20,716 - INFO - LinearElasticNet - Starting model training...\n",
      "2025-08-17 09:45:20,726 - INFO - LinearElasticNet - Starting model training...\n",
      "[I 2025-08-17 09:45:20,728] Trial 15 finished with value: 0.009011952693304673 and parameters: {'alpha': 0.09345159207575174, 'l1_ratio': 0.013905057592156655}. Best is trial 0 with value: 0.008936553071680106.\n",
      "2025-08-17 09:45:20,732 - INFO - ModelTrainer - Running Optuna trial with params: {'alpha': 1.374010617491809, 'l1_ratio': 0.6163920116743756}\n",
      "2025-08-17 09:45:20,740 - INFO - LinearElasticNet - Starting model training...\n",
      "2025-08-17 09:45:20,749 - INFO - LinearElasticNet - Starting model training...\n",
      "2025-08-17 09:45:20,757 - INFO - LinearElasticNet - Starting model training...\n",
      "2025-08-17 09:45:20,766 - INFO - LinearElasticNet - Starting model training...\n",
      "2025-08-17 09:45:20,776 - INFO - LinearElasticNet - Starting model training...\n",
      "[I 2025-08-17 09:45:20,778] Trial 16 finished with value: 0.008936553071680106 and parameters: {'alpha': 1.374010617491809, 'l1_ratio': 0.6163920116743756}. Best is trial 0 with value: 0.008936553071680106.\n",
      "2025-08-17 09:45:20,782 - INFO - ModelTrainer - Running Optuna trial with params: {'alpha': 0.35533538404238557, 'l1_ratio': 0.303426062192112}\n",
      "2025-08-17 09:45:20,789 - INFO - LinearElasticNet - Starting model training...\n",
      "2025-08-17 09:45:20,798 - INFO - LinearElasticNet - Starting model training...\n",
      "2025-08-17 09:45:20,807 - INFO - LinearElasticNet - Starting model training...\n",
      "2025-08-17 09:45:20,816 - INFO - LinearElasticNet - Starting model training...\n",
      "2025-08-17 09:45:20,826 - INFO - LinearElasticNet - Starting model training...\n",
      "[I 2025-08-17 09:45:20,827] Trial 17 finished with value: 0.008936553071680106 and parameters: {'alpha': 0.35533538404238557, 'l1_ratio': 0.303426062192112}. Best is trial 0 with value: 0.008936553071680106.\n",
      "2025-08-17 09:45:20,831 - INFO - ModelTrainer - Running Optuna trial with params: {'alpha': 0.0010203310039006448, 'l1_ratio': 0.1476480667053589}\n",
      "2025-08-17 09:45:20,839 - INFO - LinearElasticNet - Starting model training...\n",
      "2025-08-17 09:45:20,848 - INFO - LinearElasticNet - Starting model training...\n",
      "2025-08-17 09:45:20,857 - INFO - LinearElasticNet - Starting model training...\n",
      "2025-08-17 09:45:20,868 - INFO - LinearElasticNet - Starting model training...\n",
      "2025-08-17 09:45:20,879 - INFO - LinearElasticNet - Starting model training...\n",
      "[I 2025-08-17 09:45:20,881] Trial 18 finished with value: 0.009891300936031189 and parameters: {'alpha': 0.0010203310039006448, 'l1_ratio': 0.1476480667053589}. Best is trial 0 with value: 0.008936553071680106.\n",
      "2025-08-17 09:45:20,886 - INFO - ModelTrainer - Running Optuna trial with params: {'alpha': 2.70836208182722, 'l1_ratio': 0.8560413783881752}\n",
      "2025-08-17 09:45:20,893 - INFO - LinearElasticNet - Starting model training...\n",
      "2025-08-17 09:45:20,902 - INFO - LinearElasticNet - Starting model training...\n",
      "2025-08-17 09:45:20,912 - INFO - LinearElasticNet - Starting model training...\n",
      "2025-08-17 09:45:20,921 - INFO - LinearElasticNet - Starting model training...\n",
      "2025-08-17 09:45:20,932 - INFO - LinearElasticNet - Starting model training...\n",
      "[I 2025-08-17 09:45:20,934] Trial 19 finished with value: 0.008936553071680106 and parameters: {'alpha': 2.70836208182722, 'l1_ratio': 0.8560413783881752}. Best is trial 0 with value: 0.008936553071680106.\n",
      "2025-08-17 09:45:20,938 - INFO - ModelTrainer - Running Optuna trial with params: {'alpha': 0.05083791918876341, 'l1_ratio': 0.4934046343473722}\n",
      "2025-08-17 09:45:20,945 - INFO - LinearElasticNet - Starting model training...\n",
      "2025-08-17 09:45:20,954 - INFO - LinearElasticNet - Starting model training...\n",
      "2025-08-17 09:45:20,963 - INFO - LinearElasticNet - Starting model training...\n",
      "2025-08-17 09:45:20,973 - INFO - LinearElasticNet - Starting model training...\n",
      "2025-08-17 09:45:20,983 - INFO - LinearElasticNet - Starting model training...\n",
      "[I 2025-08-17 09:45:20,985] Trial 20 finished with value: 0.008936553071680106 and parameters: {'alpha': 0.05083791918876341, 'l1_ratio': 0.4934046343473722}. Best is trial 0 with value: 0.008936553071680106.\n",
      "2025-08-17 09:45:20,989 - INFO - ModelTrainer - Running Optuna trial with params: {'alpha': 0.027462142171177574, 'l1_ratio': 0.41782451208817073}\n",
      "2025-08-17 09:45:20,996 - INFO - LinearElasticNet - Starting model training...\n",
      "2025-08-17 09:45:21,012 - INFO - LinearElasticNet - Starting model training...\n",
      "2025-08-17 09:45:21,020 - INFO - LinearElasticNet - Starting model training...\n",
      "2025-08-17 09:45:21,030 - INFO - LinearElasticNet - Starting model training...\n",
      "2025-08-17 09:45:21,039 - INFO - LinearElasticNet - Starting model training...\n",
      "[I 2025-08-17 09:45:21,041] Trial 21 finished with value: 0.008936553071680106 and parameters: {'alpha': 0.027462142171177574, 'l1_ratio': 0.41782451208817073}. Best is trial 0 with value: 0.008936553071680106.\n",
      "2025-08-17 09:45:21,046 - INFO - ModelTrainer - Running Optuna trial with params: {'alpha': 0.3344945184498347, 'l1_ratio': 0.3480611856841662}\n",
      "2025-08-17 09:45:21,054 - INFO - LinearElasticNet - Starting model training...\n",
      "2025-08-17 09:45:21,062 - INFO - LinearElasticNet - Starting model training...\n",
      "2025-08-17 09:45:21,071 - INFO - LinearElasticNet - Starting model training...\n",
      "2025-08-17 09:45:21,080 - INFO - LinearElasticNet - Starting model training...\n",
      "2025-08-17 09:45:21,090 - INFO - LinearElasticNet - Starting model training...\n",
      "[I 2025-08-17 09:45:21,092] Trial 22 finished with value: 0.008936553071680106 and parameters: {'alpha': 0.3344945184498347, 'l1_ratio': 0.3480611856841662}. Best is trial 0 with value: 0.008936553071680106.\n",
      "2025-08-17 09:45:21,096 - INFO - ModelTrainer - Running Optuna trial with params: {'alpha': 0.001551624154729951, 'l1_ratio': 0.7048427815014086}\n",
      "2025-08-17 09:45:21,104 - INFO - LinearElasticNet - Starting model training...\n",
      "2025-08-17 09:45:21,113 - INFO - LinearElasticNet - Starting model training...\n",
      "2025-08-17 09:45:21,123 - INFO - LinearElasticNet - Starting model training...\n",
      "2025-08-17 09:45:21,132 - INFO - LinearElasticNet - Starting model training...\n",
      "2025-08-17 09:45:21,141 - INFO - LinearElasticNet - Starting model training...\n",
      "[I 2025-08-17 09:45:21,144] Trial 23 finished with value: 0.009092474621816272 and parameters: {'alpha': 0.001551624154729951, 'l1_ratio': 0.7048427815014086}. Best is trial 0 with value: 0.008936553071680106.\n",
      "2025-08-17 09:45:21,148 - INFO - ModelTrainer - Running Optuna trial with params: {'alpha': 0.015574356870634002, 'l1_ratio': 0.5343117902373586}\n",
      "2025-08-17 09:45:21,156 - INFO - LinearElasticNet - Starting model training...\n",
      "2025-08-17 09:45:21,164 - INFO - LinearElasticNet - Starting model training...\n",
      "2025-08-17 09:45:21,174 - INFO - LinearElasticNet - Starting model training...\n",
      "2025-08-17 09:45:21,183 - INFO - LinearElasticNet - Starting model training...\n",
      "2025-08-17 09:45:21,193 - INFO - LinearElasticNet - Starting model training...\n",
      "[I 2025-08-17 09:45:21,195] Trial 24 finished with value: 0.008936553071680106 and parameters: {'alpha': 0.015574356870634002, 'l1_ratio': 0.5343117902373586}. Best is trial 0 with value: 0.008936553071680106.\n",
      "2025-08-17 09:45:21,199 - INFO - ModelTrainer - Running Optuna trial with params: {'alpha': 0.1949758340645294, 'l1_ratio': 0.4052577986539735}\n",
      "2025-08-17 09:45:21,207 - INFO - LinearElasticNet - Starting model training...\n",
      "2025-08-17 09:45:21,217 - INFO - LinearElasticNet - Starting model training...\n",
      "2025-08-17 09:45:21,226 - INFO - LinearElasticNet - Starting model training...\n",
      "2025-08-17 09:45:21,235 - INFO - LinearElasticNet - Starting model training...\n",
      "2025-08-17 09:45:21,245 - INFO - LinearElasticNet - Starting model training...\n",
      "[I 2025-08-17 09:45:21,247] Trial 25 finished with value: 0.008936553071680106 and parameters: {'alpha': 0.1949758340645294, 'l1_ratio': 0.4052577986539735}. Best is trial 0 with value: 0.008936553071680106.\n",
      "2025-08-17 09:45:21,251 - INFO - ModelTrainer - Running Optuna trial with params: {'alpha': 0.05732803633467421, 'l1_ratio': 0.19005606979573886}\n",
      "2025-08-17 09:45:21,259 - INFO - LinearElasticNet - Starting model training...\n",
      "2025-08-17 09:45:21,267 - INFO - LinearElasticNet - Starting model training...\n",
      "2025-08-17 09:45:21,276 - INFO - LinearElasticNet - Starting model training...\n",
      "2025-08-17 09:45:21,286 - INFO - LinearElasticNet - Starting model training...\n",
      "2025-08-17 09:45:21,296 - INFO - LinearElasticNet - Starting model training...\n",
      "[I 2025-08-17 09:45:21,298] Trial 26 finished with value: 0.008936553071680106 and parameters: {'alpha': 0.05732803633467421, 'l1_ratio': 0.19005606979573886}. Best is trial 0 with value: 0.008936553071680106.\n",
      "2025-08-17 09:45:21,302 - INFO - ModelTrainer - Running Optuna trial with params: {'alpha': 0.6594583017114755, 'l1_ratio': 0.9290786896217839}\n",
      "2025-08-17 09:45:21,309 - INFO - LinearElasticNet - Starting model training...\n",
      "2025-08-17 09:45:21,317 - INFO - LinearElasticNet - Starting model training...\n",
      "2025-08-17 09:45:21,327 - INFO - LinearElasticNet - Starting model training...\n",
      "2025-08-17 09:45:21,337 - INFO - LinearElasticNet - Starting model training...\n",
      "2025-08-17 09:45:21,346 - INFO - LinearElasticNet - Starting model training...\n",
      "[I 2025-08-17 09:45:21,348] Trial 27 finished with value: 0.008936553071680106 and parameters: {'alpha': 0.6594583017114755, 'l1_ratio': 0.9290786896217839}. Best is trial 0 with value: 0.008936553071680106.\n",
      "2025-08-17 09:45:21,353 - INFO - ModelTrainer - Running Optuna trial with params: {'alpha': 2.128740638423281, 'l1_ratio': 0.6872161564850165}\n",
      "2025-08-17 09:45:21,361 - INFO - LinearElasticNet - Starting model training...\n",
      "2025-08-17 09:45:21,370 - INFO - LinearElasticNet - Starting model training...\n",
      "2025-08-17 09:45:21,380 - INFO - LinearElasticNet - Starting model training...\n",
      "2025-08-17 09:45:21,390 - INFO - LinearElasticNet - Starting model training...\n",
      "2025-08-17 09:45:21,400 - INFO - LinearElasticNet - Starting model training...\n",
      "[I 2025-08-17 09:45:21,402] Trial 28 finished with value: 0.008936553071680106 and parameters: {'alpha': 2.128740638423281, 'l1_ratio': 0.6872161564850165}. Best is trial 0 with value: 0.008936553071680106.\n",
      "2025-08-17 09:45:21,406 - INFO - ModelTrainer - Running Optuna trial with params: {'alpha': 6.929906791169366, 'l1_ratio': 0.2314832650835953}\n",
      "2025-08-17 09:45:21,415 - INFO - LinearElasticNet - Starting model training...\n",
      "2025-08-17 09:45:21,424 - INFO - LinearElasticNet - Starting model training...\n",
      "2025-08-17 09:45:21,434 - INFO - LinearElasticNet - Starting model training...\n",
      "2025-08-17 09:45:21,445 - INFO - LinearElasticNet - Starting model training...\n",
      "2025-08-17 09:45:21,455 - INFO - LinearElasticNet - Starting model training...\n",
      "[I 2025-08-17 09:45:21,457] Trial 29 finished with value: 0.008936553071680106 and parameters: {'alpha': 6.929906791169366, 'l1_ratio': 0.2314832650835953}. Best is trial 0 with value: 0.008936553071680106.\n"
     ]
    },
    {
     "name": "stdout",
     "output_type": "stream",
     "text": [
      "Best params: {'alpha': 1.4661896418400024, 'l1_ratio': 0.9398973231547251}\n",
      "Best trial: {'alpha': 1.4661896418400024, 'l1_ratio': 0.9398973231547251}\n"
     ]
    }
   ],
   "execution_count": 10
  },
  {
   "metadata": {
    "ExecuteTime": {
     "end_time": "2025-08-17T07:45:38.329354Z",
     "start_time": "2025-08-17T07:45:38.318850Z"
    }
   },
   "cell_type": "code",
   "source": [
    "best_model = LinearElasticNet(horizon=30, **best_params)\n",
    "trainer = ModelTrainer(best_model, name=\"lin_reg_best\", config=best_params, preprocessor=preprocessor)\n",
    "trainer.fit(X_train, y_train)"
   ],
   "id": "56526b925c2a8fd4",
   "outputs": [
    {
     "name": "stderr",
     "output_type": "stream",
     "text": [
      "2025-08-17 09:45:38,319 - INFO - ModelTrainer - Starting model training...\n",
      "2025-08-17 09:45:38,326 - INFO - LinearElasticNet - Starting model training...\n"
     ]
    }
   ],
   "execution_count": 11
  },
  {
   "metadata": {
    "ExecuteTime": {
     "end_time": "2025-08-17T07:45:40.055938Z",
     "start_time": "2025-08-17T07:45:40.048950Z"
    }
   },
   "cell_type": "code",
   "source": [
    "eval_metrics = trainer.evaluate(X_test, y_test)\n",
    "print(eval_metrics)"
   ],
   "id": "b0e1c9963bea836f",
   "outputs": [
    {
     "name": "stderr",
     "output_type": "stream",
     "text": [
      "2025-08-17 09:45:40,049 - INFO - ModelTrainer - Evaluating model...\n"
     ]
    },
    {
     "name": "stdout",
     "output_type": "stream",
     "text": [
      "{'mae': 0.007272825545509099, 'mse': 9.133358088617656e-05, 'rmse': 0.009556860409474262, 'smape': 1.8163904321451736, 'r2': -0.00046888392077071295}\n"
     ]
    }
   ],
   "execution_count": 12
  },
  {
   "metadata": {
    "ExecuteTime": {
     "end_time": "2025-08-17T07:56:46.338237Z",
     "start_time": "2025-08-17T07:56:46.251221Z"
    }
   },
   "cell_type": "code",
   "source": [
    "import optuna.visualization as vis\n",
    "\n",
    "vis.plot_optimization_history(study).show()\n",
    "vis.plot_param_importances(study).show()\n",
    "vis.plot_contour(study)\n",
    "vis.plot_parallel_coordinate(study)"
   ],
   "id": "a61fe5b8026e70ce",
   "outputs": [
    {
     "data": {
      "application/vnd.plotly.v1+json": {
       "data": [
        {
         "mode": "markers",
         "name": "Objective Value",
         "x": [
          0,
          1,
          2,
          3,
          4,
          5,
          6,
          7,
          8,
          9,
          10,
          11,
          12,
          13,
          14,
          15,
          16,
          17,
          18,
          19,
          20,
          21,
          22,
          23,
          24,
          25,
          26,
          27,
          28,
          29
         ],
         "y": [
          0.008936553071680106,
          0.008938396704666191,
          0.008936553071680106,
          0.008936553071680106,
          0.008936553071680106,
          0.008936553071680106,
          0.008974599595423627,
          0.008939710563546708,
          0.008936553071680106,
          0.008936553071680106,
          0.009761872253635477,
          0.008936553071680106,
          0.008936553071680106,
          0.008936553071680106,
          0.008936553071680106,
          0.009011952693304673,
          0.008936553071680106,
          0.008936553071680106,
          0.009891300936031189,
          0.008936553071680106,
          0.008936553071680106,
          0.008936553071680106,
          0.008936553071680106,
          0.009092474621816272,
          0.008936553071680106,
          0.008936553071680106,
          0.008936553071680106,
          0.008936553071680106,
          0.008936553071680106,
          0.008936553071680106
         ],
         "type": "scatter"
        },
        {
         "mode": "lines",
         "name": "Best Value",
         "x": [
          0,
          1,
          2,
          3,
          4,
          5,
          6,
          7,
          8,
          9,
          10,
          11,
          12,
          13,
          14,
          15,
          16,
          17,
          18,
          19,
          20,
          21,
          22,
          23,
          24,
          25,
          26,
          27,
          28,
          29
         ],
         "y": [
          0.008936553071680106,
          0.008936553071680106,
          0.008936553071680106,
          0.008936553071680106,
          0.008936553071680106,
          0.008936553071680106,
          0.008936553071680106,
          0.008936553071680106,
          0.008936553071680106,
          0.008936553071680106,
          0.008936553071680106,
          0.008936553071680106,
          0.008936553071680106,
          0.008936553071680106,
          0.008936553071680106,
          0.008936553071680106,
          0.008936553071680106,
          0.008936553071680106,
          0.008936553071680106,
          0.008936553071680106,
          0.008936553071680106,
          0.008936553071680106,
          0.008936553071680106,
          0.008936553071680106,
          0.008936553071680106,
          0.008936553071680106,
          0.008936553071680106,
          0.008936553071680106,
          0.008936553071680106,
          0.008936553071680106
         ],
         "type": "scatter"
        },
        {
         "marker": {
          "color": "#cccccc"
         },
         "mode": "markers",
         "name": "Infeasible Trial",
         "showlegend": false,
         "x": [],
         "y": [],
         "type": "scatter"
        }
       ],
       "layout": {
        "title": {
         "text": "Optimization History Plot"
        },
        "xaxis": {
         "title": {
          "text": "Trial"
         }
        },
        "yaxis": {
         "title": {
          "text": "Objective Value"
         }
        },
        "template": {
         "data": {
          "histogram2dcontour": [
           {
            "type": "histogram2dcontour",
            "colorbar": {
             "outlinewidth": 0,
             "ticks": ""
            },
            "colorscale": [
             [
              0.0,
              "#0d0887"
             ],
             [
              0.1111111111111111,
              "#46039f"
             ],
             [
              0.2222222222222222,
              "#7201a8"
             ],
             [
              0.3333333333333333,
              "#9c179e"
             ],
             [
              0.4444444444444444,
              "#bd3786"
             ],
             [
              0.5555555555555556,
              "#d8576b"
             ],
             [
              0.6666666666666666,
              "#ed7953"
             ],
             [
              0.7777777777777778,
              "#fb9f3a"
             ],
             [
              0.8888888888888888,
              "#fdca26"
             ],
             [
              1.0,
              "#f0f921"
             ]
            ]
           }
          ],
          "choropleth": [
           {
            "type": "choropleth",
            "colorbar": {
             "outlinewidth": 0,
             "ticks": ""
            }
           }
          ],
          "histogram2d": [
           {
            "type": "histogram2d",
            "colorbar": {
             "outlinewidth": 0,
             "ticks": ""
            },
            "colorscale": [
             [
              0.0,
              "#0d0887"
             ],
             [
              0.1111111111111111,
              "#46039f"
             ],
             [
              0.2222222222222222,
              "#7201a8"
             ],
             [
              0.3333333333333333,
              "#9c179e"
             ],
             [
              0.4444444444444444,
              "#bd3786"
             ],
             [
              0.5555555555555556,
              "#d8576b"
             ],
             [
              0.6666666666666666,
              "#ed7953"
             ],
             [
              0.7777777777777778,
              "#fb9f3a"
             ],
             [
              0.8888888888888888,
              "#fdca26"
             ],
             [
              1.0,
              "#f0f921"
             ]
            ]
           }
          ],
          "heatmap": [
           {
            "type": "heatmap",
            "colorbar": {
             "outlinewidth": 0,
             "ticks": ""
            },
            "colorscale": [
             [
              0.0,
              "#0d0887"
             ],
             [
              0.1111111111111111,
              "#46039f"
             ],
             [
              0.2222222222222222,
              "#7201a8"
             ],
             [
              0.3333333333333333,
              "#9c179e"
             ],
             [
              0.4444444444444444,
              "#bd3786"
             ],
             [
              0.5555555555555556,
              "#d8576b"
             ],
             [
              0.6666666666666666,
              "#ed7953"
             ],
             [
              0.7777777777777778,
              "#fb9f3a"
             ],
             [
              0.8888888888888888,
              "#fdca26"
             ],
             [
              1.0,
              "#f0f921"
             ]
            ]
           }
          ],
          "contourcarpet": [
           {
            "type": "contourcarpet",
            "colorbar": {
             "outlinewidth": 0,
             "ticks": ""
            }
           }
          ],
          "contour": [
           {
            "type": "contour",
            "colorbar": {
             "outlinewidth": 0,
             "ticks": ""
            },
            "colorscale": [
             [
              0.0,
              "#0d0887"
             ],
             [
              0.1111111111111111,
              "#46039f"
             ],
             [
              0.2222222222222222,
              "#7201a8"
             ],
             [
              0.3333333333333333,
              "#9c179e"
             ],
             [
              0.4444444444444444,
              "#bd3786"
             ],
             [
              0.5555555555555556,
              "#d8576b"
             ],
             [
              0.6666666666666666,
              "#ed7953"
             ],
             [
              0.7777777777777778,
              "#fb9f3a"
             ],
             [
              0.8888888888888888,
              "#fdca26"
             ],
             [
              1.0,
              "#f0f921"
             ]
            ]
           }
          ],
          "surface": [
           {
            "type": "surface",
            "colorbar": {
             "outlinewidth": 0,
             "ticks": ""
            },
            "colorscale": [
             [
              0.0,
              "#0d0887"
             ],
             [
              0.1111111111111111,
              "#46039f"
             ],
             [
              0.2222222222222222,
              "#7201a8"
             ],
             [
              0.3333333333333333,
              "#9c179e"
             ],
             [
              0.4444444444444444,
              "#bd3786"
             ],
             [
              0.5555555555555556,
              "#d8576b"
             ],
             [
              0.6666666666666666,
              "#ed7953"
             ],
             [
              0.7777777777777778,
              "#fb9f3a"
             ],
             [
              0.8888888888888888,
              "#fdca26"
             ],
             [
              1.0,
              "#f0f921"
             ]
            ]
           }
          ],
          "mesh3d": [
           {
            "type": "mesh3d",
            "colorbar": {
             "outlinewidth": 0,
             "ticks": ""
            }
           }
          ],
          "scatter": [
           {
            "fillpattern": {
             "fillmode": "overlay",
             "size": 10,
             "solidity": 0.2
            },
            "type": "scatter"
           }
          ],
          "parcoords": [
           {
            "type": "parcoords",
            "line": {
             "colorbar": {
              "outlinewidth": 0,
              "ticks": ""
             }
            }
           }
          ],
          "scatterpolargl": [
           {
            "type": "scatterpolargl",
            "marker": {
             "colorbar": {
              "outlinewidth": 0,
              "ticks": ""
             }
            }
           }
          ],
          "bar": [
           {
            "error_x": {
             "color": "#2a3f5f"
            },
            "error_y": {
             "color": "#2a3f5f"
            },
            "marker": {
             "line": {
              "color": "#E5ECF6",
              "width": 0.5
             },
             "pattern": {
              "fillmode": "overlay",
              "size": 10,
              "solidity": 0.2
             }
            },
            "type": "bar"
           }
          ],
          "scattergeo": [
           {
            "type": "scattergeo",
            "marker": {
             "colorbar": {
              "outlinewidth": 0,
              "ticks": ""
             }
            }
           }
          ],
          "scatterpolar": [
           {
            "type": "scatterpolar",
            "marker": {
             "colorbar": {
              "outlinewidth": 0,
              "ticks": ""
             }
            }
           }
          ],
          "histogram": [
           {
            "marker": {
             "pattern": {
              "fillmode": "overlay",
              "size": 10,
              "solidity": 0.2
             }
            },
            "type": "histogram"
           }
          ],
          "scattergl": [
           {
            "type": "scattergl",
            "marker": {
             "colorbar": {
              "outlinewidth": 0,
              "ticks": ""
             }
            }
           }
          ],
          "scatter3d": [
           {
            "type": "scatter3d",
            "line": {
             "colorbar": {
              "outlinewidth": 0,
              "ticks": ""
             }
            },
            "marker": {
             "colorbar": {
              "outlinewidth": 0,
              "ticks": ""
             }
            }
           }
          ],
          "scattermap": [
           {
            "type": "scattermap",
            "marker": {
             "colorbar": {
              "outlinewidth": 0,
              "ticks": ""
             }
            }
           }
          ],
          "scattermapbox": [
           {
            "type": "scattermapbox",
            "marker": {
             "colorbar": {
              "outlinewidth": 0,
              "ticks": ""
             }
            }
           }
          ],
          "scatterternary": [
           {
            "type": "scatterternary",
            "marker": {
             "colorbar": {
              "outlinewidth": 0,
              "ticks": ""
             }
            }
           }
          ],
          "scattercarpet": [
           {
            "type": "scattercarpet",
            "marker": {
             "colorbar": {
              "outlinewidth": 0,
              "ticks": ""
             }
            }
           }
          ],
          "carpet": [
           {
            "aaxis": {
             "endlinecolor": "#2a3f5f",
             "gridcolor": "white",
             "linecolor": "white",
             "minorgridcolor": "white",
             "startlinecolor": "#2a3f5f"
            },
            "baxis": {
             "endlinecolor": "#2a3f5f",
             "gridcolor": "white",
             "linecolor": "white",
             "minorgridcolor": "white",
             "startlinecolor": "#2a3f5f"
            },
            "type": "carpet"
           }
          ],
          "table": [
           {
            "cells": {
             "fill": {
              "color": "#EBF0F8"
             },
             "line": {
              "color": "white"
             }
            },
            "header": {
             "fill": {
              "color": "#C8D4E3"
             },
             "line": {
              "color": "white"
             }
            },
            "type": "table"
           }
          ],
          "barpolar": [
           {
            "marker": {
             "line": {
              "color": "#E5ECF6",
              "width": 0.5
             },
             "pattern": {
              "fillmode": "overlay",
              "size": 10,
              "solidity": 0.2
             }
            },
            "type": "barpolar"
           }
          ],
          "pie": [
           {
            "automargin": true,
            "type": "pie"
           }
          ]
         },
         "layout": {
          "autotypenumbers": "strict",
          "colorway": [
           "#636efa",
           "#EF553B",
           "#00cc96",
           "#ab63fa",
           "#FFA15A",
           "#19d3f3",
           "#FF6692",
           "#B6E880",
           "#FF97FF",
           "#FECB52"
          ],
          "font": {
           "color": "#2a3f5f"
          },
          "hovermode": "closest",
          "hoverlabel": {
           "align": "left"
          },
          "paper_bgcolor": "white",
          "plot_bgcolor": "#E5ECF6",
          "polar": {
           "bgcolor": "#E5ECF6",
           "angularaxis": {
            "gridcolor": "white",
            "linecolor": "white",
            "ticks": ""
           },
           "radialaxis": {
            "gridcolor": "white",
            "linecolor": "white",
            "ticks": ""
           }
          },
          "ternary": {
           "bgcolor": "#E5ECF6",
           "aaxis": {
            "gridcolor": "white",
            "linecolor": "white",
            "ticks": ""
           },
           "baxis": {
            "gridcolor": "white",
            "linecolor": "white",
            "ticks": ""
           },
           "caxis": {
            "gridcolor": "white",
            "linecolor": "white",
            "ticks": ""
           }
          },
          "coloraxis": {
           "colorbar": {
            "outlinewidth": 0,
            "ticks": ""
           }
          },
          "colorscale": {
           "sequential": [
            [
             0.0,
             "#0d0887"
            ],
            [
             0.1111111111111111,
             "#46039f"
            ],
            [
             0.2222222222222222,
             "#7201a8"
            ],
            [
             0.3333333333333333,
             "#9c179e"
            ],
            [
             0.4444444444444444,
             "#bd3786"
            ],
            [
             0.5555555555555556,
             "#d8576b"
            ],
            [
             0.6666666666666666,
             "#ed7953"
            ],
            [
             0.7777777777777778,
             "#fb9f3a"
            ],
            [
             0.8888888888888888,
             "#fdca26"
            ],
            [
             1.0,
             "#f0f921"
            ]
           ],
           "sequentialminus": [
            [
             0.0,
             "#0d0887"
            ],
            [
             0.1111111111111111,
             "#46039f"
            ],
            [
             0.2222222222222222,
             "#7201a8"
            ],
            [
             0.3333333333333333,
             "#9c179e"
            ],
            [
             0.4444444444444444,
             "#bd3786"
            ],
            [
             0.5555555555555556,
             "#d8576b"
            ],
            [
             0.6666666666666666,
             "#ed7953"
            ],
            [
             0.7777777777777778,
             "#fb9f3a"
            ],
            [
             0.8888888888888888,
             "#fdca26"
            ],
            [
             1.0,
             "#f0f921"
            ]
           ],
           "diverging": [
            [
             0,
             "#8e0152"
            ],
            [
             0.1,
             "#c51b7d"
            ],
            [
             0.2,
             "#de77ae"
            ],
            [
             0.3,
             "#f1b6da"
            ],
            [
             0.4,
             "#fde0ef"
            ],
            [
             0.5,
             "#f7f7f7"
            ],
            [
             0.6,
             "#e6f5d0"
            ],
            [
             0.7,
             "#b8e186"
            ],
            [
             0.8,
             "#7fbc41"
            ],
            [
             0.9,
             "#4d9221"
            ],
            [
             1,
             "#276419"
            ]
           ]
          },
          "xaxis": {
           "gridcolor": "white",
           "linecolor": "white",
           "ticks": "",
           "title": {
            "standoff": 15
           },
           "zerolinecolor": "white",
           "automargin": true,
           "zerolinewidth": 2
          },
          "yaxis": {
           "gridcolor": "white",
           "linecolor": "white",
           "ticks": "",
           "title": {
            "standoff": 15
           },
           "zerolinecolor": "white",
           "automargin": true,
           "zerolinewidth": 2
          },
          "scene": {
           "xaxis": {
            "backgroundcolor": "#E5ECF6",
            "gridcolor": "white",
            "linecolor": "white",
            "showbackground": true,
            "ticks": "",
            "zerolinecolor": "white",
            "gridwidth": 2
           },
           "yaxis": {
            "backgroundcolor": "#E5ECF6",
            "gridcolor": "white",
            "linecolor": "white",
            "showbackground": true,
            "ticks": "",
            "zerolinecolor": "white",
            "gridwidth": 2
           },
           "zaxis": {
            "backgroundcolor": "#E5ECF6",
            "gridcolor": "white",
            "linecolor": "white",
            "showbackground": true,
            "ticks": "",
            "zerolinecolor": "white",
            "gridwidth": 2
           }
          },
          "shapedefaults": {
           "line": {
            "color": "#2a3f5f"
           }
          },
          "annotationdefaults": {
           "arrowcolor": "#2a3f5f",
           "arrowhead": 0,
           "arrowwidth": 1
          },
          "geo": {
           "bgcolor": "white",
           "landcolor": "#E5ECF6",
           "subunitcolor": "white",
           "showland": true,
           "showlakes": true,
           "lakecolor": "white"
          },
          "title": {
           "x": 0.05
          },
          "mapbox": {
           "style": "light"
          }
         }
        }
       },
       "config": {
        "plotlyServerURL": "https://plot.ly"
       }
      }
     },
     "metadata": {},
     "output_type": "display_data"
    },
    {
     "data": {
      "application/vnd.plotly.v1+json": {
       "data": [
        {
         "cliponaxis": false,
         "hovertemplate": [
          "l1_ratio (FloatDistribution): 0.46328912230563307<extra></extra>",
          "alpha (FloatDistribution): 0.5367108776943669<extra></extra>"
         ],
         "name": "Objective Value",
         "orientation": "h",
         "text": [
          "0.46",
          "0.54"
         ],
         "textposition": "outside",
         "x": [
          0.46328912230563307,
          0.5367108776943669
         ],
         "y": [
          "l1_ratio",
          "alpha"
         ],
         "type": "bar"
        }
       ],
       "layout": {
        "title": {
         "text": "Hyperparameter Importances"
        },
        "xaxis": {
         "title": {
          "text": "Hyperparameter Importance"
         }
        },
        "yaxis": {
         "title": {
          "text": "Hyperparameter"
         }
        },
        "template": {
         "data": {
          "histogram2dcontour": [
           {
            "type": "histogram2dcontour",
            "colorbar": {
             "outlinewidth": 0,
             "ticks": ""
            },
            "colorscale": [
             [
              0.0,
              "#0d0887"
             ],
             [
              0.1111111111111111,
              "#46039f"
             ],
             [
              0.2222222222222222,
              "#7201a8"
             ],
             [
              0.3333333333333333,
              "#9c179e"
             ],
             [
              0.4444444444444444,
              "#bd3786"
             ],
             [
              0.5555555555555556,
              "#d8576b"
             ],
             [
              0.6666666666666666,
              "#ed7953"
             ],
             [
              0.7777777777777778,
              "#fb9f3a"
             ],
             [
              0.8888888888888888,
              "#fdca26"
             ],
             [
              1.0,
              "#f0f921"
             ]
            ]
           }
          ],
          "choropleth": [
           {
            "type": "choropleth",
            "colorbar": {
             "outlinewidth": 0,
             "ticks": ""
            }
           }
          ],
          "histogram2d": [
           {
            "type": "histogram2d",
            "colorbar": {
             "outlinewidth": 0,
             "ticks": ""
            },
            "colorscale": [
             [
              0.0,
              "#0d0887"
             ],
             [
              0.1111111111111111,
              "#46039f"
             ],
             [
              0.2222222222222222,
              "#7201a8"
             ],
             [
              0.3333333333333333,
              "#9c179e"
             ],
             [
              0.4444444444444444,
              "#bd3786"
             ],
             [
              0.5555555555555556,
              "#d8576b"
             ],
             [
              0.6666666666666666,
              "#ed7953"
             ],
             [
              0.7777777777777778,
              "#fb9f3a"
             ],
             [
              0.8888888888888888,
              "#fdca26"
             ],
             [
              1.0,
              "#f0f921"
             ]
            ]
           }
          ],
          "heatmap": [
           {
            "type": "heatmap",
            "colorbar": {
             "outlinewidth": 0,
             "ticks": ""
            },
            "colorscale": [
             [
              0.0,
              "#0d0887"
             ],
             [
              0.1111111111111111,
              "#46039f"
             ],
             [
              0.2222222222222222,
              "#7201a8"
             ],
             [
              0.3333333333333333,
              "#9c179e"
             ],
             [
              0.4444444444444444,
              "#bd3786"
             ],
             [
              0.5555555555555556,
              "#d8576b"
             ],
             [
              0.6666666666666666,
              "#ed7953"
             ],
             [
              0.7777777777777778,
              "#fb9f3a"
             ],
             [
              0.8888888888888888,
              "#fdca26"
             ],
             [
              1.0,
              "#f0f921"
             ]
            ]
           }
          ],
          "contourcarpet": [
           {
            "type": "contourcarpet",
            "colorbar": {
             "outlinewidth": 0,
             "ticks": ""
            }
           }
          ],
          "contour": [
           {
            "type": "contour",
            "colorbar": {
             "outlinewidth": 0,
             "ticks": ""
            },
            "colorscale": [
             [
              0.0,
              "#0d0887"
             ],
             [
              0.1111111111111111,
              "#46039f"
             ],
             [
              0.2222222222222222,
              "#7201a8"
             ],
             [
              0.3333333333333333,
              "#9c179e"
             ],
             [
              0.4444444444444444,
              "#bd3786"
             ],
             [
              0.5555555555555556,
              "#d8576b"
             ],
             [
              0.6666666666666666,
              "#ed7953"
             ],
             [
              0.7777777777777778,
              "#fb9f3a"
             ],
             [
              0.8888888888888888,
              "#fdca26"
             ],
             [
              1.0,
              "#f0f921"
             ]
            ]
           }
          ],
          "surface": [
           {
            "type": "surface",
            "colorbar": {
             "outlinewidth": 0,
             "ticks": ""
            },
            "colorscale": [
             [
              0.0,
              "#0d0887"
             ],
             [
              0.1111111111111111,
              "#46039f"
             ],
             [
              0.2222222222222222,
              "#7201a8"
             ],
             [
              0.3333333333333333,
              "#9c179e"
             ],
             [
              0.4444444444444444,
              "#bd3786"
             ],
             [
              0.5555555555555556,
              "#d8576b"
             ],
             [
              0.6666666666666666,
              "#ed7953"
             ],
             [
              0.7777777777777778,
              "#fb9f3a"
             ],
             [
              0.8888888888888888,
              "#fdca26"
             ],
             [
              1.0,
              "#f0f921"
             ]
            ]
           }
          ],
          "mesh3d": [
           {
            "type": "mesh3d",
            "colorbar": {
             "outlinewidth": 0,
             "ticks": ""
            }
           }
          ],
          "scatter": [
           {
            "fillpattern": {
             "fillmode": "overlay",
             "size": 10,
             "solidity": 0.2
            },
            "type": "scatter"
           }
          ],
          "parcoords": [
           {
            "type": "parcoords",
            "line": {
             "colorbar": {
              "outlinewidth": 0,
              "ticks": ""
             }
            }
           }
          ],
          "scatterpolargl": [
           {
            "type": "scatterpolargl",
            "marker": {
             "colorbar": {
              "outlinewidth": 0,
              "ticks": ""
             }
            }
           }
          ],
          "bar": [
           {
            "error_x": {
             "color": "#2a3f5f"
            },
            "error_y": {
             "color": "#2a3f5f"
            },
            "marker": {
             "line": {
              "color": "#E5ECF6",
              "width": 0.5
             },
             "pattern": {
              "fillmode": "overlay",
              "size": 10,
              "solidity": 0.2
             }
            },
            "type": "bar"
           }
          ],
          "scattergeo": [
           {
            "type": "scattergeo",
            "marker": {
             "colorbar": {
              "outlinewidth": 0,
              "ticks": ""
             }
            }
           }
          ],
          "scatterpolar": [
           {
            "type": "scatterpolar",
            "marker": {
             "colorbar": {
              "outlinewidth": 0,
              "ticks": ""
             }
            }
           }
          ],
          "histogram": [
           {
            "marker": {
             "pattern": {
              "fillmode": "overlay",
              "size": 10,
              "solidity": 0.2
             }
            },
            "type": "histogram"
           }
          ],
          "scattergl": [
           {
            "type": "scattergl",
            "marker": {
             "colorbar": {
              "outlinewidth": 0,
              "ticks": ""
             }
            }
           }
          ],
          "scatter3d": [
           {
            "type": "scatter3d",
            "line": {
             "colorbar": {
              "outlinewidth": 0,
              "ticks": ""
             }
            },
            "marker": {
             "colorbar": {
              "outlinewidth": 0,
              "ticks": ""
             }
            }
           }
          ],
          "scattermap": [
           {
            "type": "scattermap",
            "marker": {
             "colorbar": {
              "outlinewidth": 0,
              "ticks": ""
             }
            }
           }
          ],
          "scattermapbox": [
           {
            "type": "scattermapbox",
            "marker": {
             "colorbar": {
              "outlinewidth": 0,
              "ticks": ""
             }
            }
           }
          ],
          "scatterternary": [
           {
            "type": "scatterternary",
            "marker": {
             "colorbar": {
              "outlinewidth": 0,
              "ticks": ""
             }
            }
           }
          ],
          "scattercarpet": [
           {
            "type": "scattercarpet",
            "marker": {
             "colorbar": {
              "outlinewidth": 0,
              "ticks": ""
             }
            }
           }
          ],
          "carpet": [
           {
            "aaxis": {
             "endlinecolor": "#2a3f5f",
             "gridcolor": "white",
             "linecolor": "white",
             "minorgridcolor": "white",
             "startlinecolor": "#2a3f5f"
            },
            "baxis": {
             "endlinecolor": "#2a3f5f",
             "gridcolor": "white",
             "linecolor": "white",
             "minorgridcolor": "white",
             "startlinecolor": "#2a3f5f"
            },
            "type": "carpet"
           }
          ],
          "table": [
           {
            "cells": {
             "fill": {
              "color": "#EBF0F8"
             },
             "line": {
              "color": "white"
             }
            },
            "header": {
             "fill": {
              "color": "#C8D4E3"
             },
             "line": {
              "color": "white"
             }
            },
            "type": "table"
           }
          ],
          "barpolar": [
           {
            "marker": {
             "line": {
              "color": "#E5ECF6",
              "width": 0.5
             },
             "pattern": {
              "fillmode": "overlay",
              "size": 10,
              "solidity": 0.2
             }
            },
            "type": "barpolar"
           }
          ],
          "pie": [
           {
            "automargin": true,
            "type": "pie"
           }
          ]
         },
         "layout": {
          "autotypenumbers": "strict",
          "colorway": [
           "#636efa",
           "#EF553B",
           "#00cc96",
           "#ab63fa",
           "#FFA15A",
           "#19d3f3",
           "#FF6692",
           "#B6E880",
           "#FF97FF",
           "#FECB52"
          ],
          "font": {
           "color": "#2a3f5f"
          },
          "hovermode": "closest",
          "hoverlabel": {
           "align": "left"
          },
          "paper_bgcolor": "white",
          "plot_bgcolor": "#E5ECF6",
          "polar": {
           "bgcolor": "#E5ECF6",
           "angularaxis": {
            "gridcolor": "white",
            "linecolor": "white",
            "ticks": ""
           },
           "radialaxis": {
            "gridcolor": "white",
            "linecolor": "white",
            "ticks": ""
           }
          },
          "ternary": {
           "bgcolor": "#E5ECF6",
           "aaxis": {
            "gridcolor": "white",
            "linecolor": "white",
            "ticks": ""
           },
           "baxis": {
            "gridcolor": "white",
            "linecolor": "white",
            "ticks": ""
           },
           "caxis": {
            "gridcolor": "white",
            "linecolor": "white",
            "ticks": ""
           }
          },
          "coloraxis": {
           "colorbar": {
            "outlinewidth": 0,
            "ticks": ""
           }
          },
          "colorscale": {
           "sequential": [
            [
             0.0,
             "#0d0887"
            ],
            [
             0.1111111111111111,
             "#46039f"
            ],
            [
             0.2222222222222222,
             "#7201a8"
            ],
            [
             0.3333333333333333,
             "#9c179e"
            ],
            [
             0.4444444444444444,
             "#bd3786"
            ],
            [
             0.5555555555555556,
             "#d8576b"
            ],
            [
             0.6666666666666666,
             "#ed7953"
            ],
            [
             0.7777777777777778,
             "#fb9f3a"
            ],
            [
             0.8888888888888888,
             "#fdca26"
            ],
            [
             1.0,
             "#f0f921"
            ]
           ],
           "sequentialminus": [
            [
             0.0,
             "#0d0887"
            ],
            [
             0.1111111111111111,
             "#46039f"
            ],
            [
             0.2222222222222222,
             "#7201a8"
            ],
            [
             0.3333333333333333,
             "#9c179e"
            ],
            [
             0.4444444444444444,
             "#bd3786"
            ],
            [
             0.5555555555555556,
             "#d8576b"
            ],
            [
             0.6666666666666666,
             "#ed7953"
            ],
            [
             0.7777777777777778,
             "#fb9f3a"
            ],
            [
             0.8888888888888888,
             "#fdca26"
            ],
            [
             1.0,
             "#f0f921"
            ]
           ],
           "diverging": [
            [
             0,
             "#8e0152"
            ],
            [
             0.1,
             "#c51b7d"
            ],
            [
             0.2,
             "#de77ae"
            ],
            [
             0.3,
             "#f1b6da"
            ],
            [
             0.4,
             "#fde0ef"
            ],
            [
             0.5,
             "#f7f7f7"
            ],
            [
             0.6,
             "#e6f5d0"
            ],
            [
             0.7,
             "#b8e186"
            ],
            [
             0.8,
             "#7fbc41"
            ],
            [
             0.9,
             "#4d9221"
            ],
            [
             1,
             "#276419"
            ]
           ]
          },
          "xaxis": {
           "gridcolor": "white",
           "linecolor": "white",
           "ticks": "",
           "title": {
            "standoff": 15
           },
           "zerolinecolor": "white",
           "automargin": true,
           "zerolinewidth": 2
          },
          "yaxis": {
           "gridcolor": "white",
           "linecolor": "white",
           "ticks": "",
           "title": {
            "standoff": 15
           },
           "zerolinecolor": "white",
           "automargin": true,
           "zerolinewidth": 2
          },
          "scene": {
           "xaxis": {
            "backgroundcolor": "#E5ECF6",
            "gridcolor": "white",
            "linecolor": "white",
            "showbackground": true,
            "ticks": "",
            "zerolinecolor": "white",
            "gridwidth": 2
           },
           "yaxis": {
            "backgroundcolor": "#E5ECF6",
            "gridcolor": "white",
            "linecolor": "white",
            "showbackground": true,
            "ticks": "",
            "zerolinecolor": "white",
            "gridwidth": 2
           },
           "zaxis": {
            "backgroundcolor": "#E5ECF6",
            "gridcolor": "white",
            "linecolor": "white",
            "showbackground": true,
            "ticks": "",
            "zerolinecolor": "white",
            "gridwidth": 2
           }
          },
          "shapedefaults": {
           "line": {
            "color": "#2a3f5f"
           }
          },
          "annotationdefaults": {
           "arrowcolor": "#2a3f5f",
           "arrowhead": 0,
           "arrowwidth": 1
          },
          "geo": {
           "bgcolor": "white",
           "landcolor": "#E5ECF6",
           "subunitcolor": "white",
           "showland": true,
           "showlakes": true,
           "lakecolor": "white"
          },
          "title": {
           "x": 0.05
          },
          "mapbox": {
           "style": "light"
          }
         }
        }
       },
       "config": {
        "plotlyServerURL": "https://plot.ly"
       }
      }
     },
     "metadata": {},
     "output_type": "display_data"
    },
    {
     "data": {
      "application/vnd.plotly.v1+json": {
       "data": [
        {
         "dimensions": [
          {
           "label": "Objective Value",
           "range": [
            0.008936553071680106,
            0.009891300936031189
           ],
           "values": [
            0.008936553071680106,
            0.008938396704666191,
            0.008936553071680106,
            0.008936553071680106,
            0.008936553071680106,
            0.008936553071680106,
            0.008974599595423627,
            0.008939710563546708,
            0.008936553071680106,
            0.008936553071680106,
            0.009761872253635477,
            0.008936553071680106,
            0.008936553071680106,
            0.008936553071680106,
            0.008936553071680106,
            0.009011952693304673,
            0.008936553071680106,
            0.008936553071680106,
            0.009891300936031189,
            0.008936553071680106,
            0.008936553071680106,
            0.008936553071680106,
            0.008936553071680106,
            0.009092474621816272,
            0.008936553071680106,
            0.008936553071680106,
            0.008936553071680106,
            0.008936553071680106,
            0.008936553071680106,
            0.008936553071680106
           ]
          },
          {
           "label": "alpha",
           "range": [
            -3.636770740642518,
            0.937967096698922
           ],
           "ticktext": [
            "0.000231",
            "0.001",
            "0.01",
            "0.1",
            "1",
            "8.67"
           ],
           "tickvals": [
            -3.636770740642518,
            -3,
            -2,
            -1,
            0,
            0.937967096698922
           ],
           "values": [
            0.1661901470295547,
            -1.8191094771647238,
            -0.5815531374309352,
            -1.8568022681166565,
            0.937967096698922,
            -2.2732492763082917,
            -2.2202997016024506,
            -2.238849107368407,
            0.6508533915629852,
            -0.7963959527345462,
            -3.636770740642518,
            -0.3171367894077712,
            -0.04551279048095968,
            -0.9641735135596874,
            0.13654881156164914,
            -1.029413295421329,
            0.1379900886917182,
            -0.4493615436246378,
            -2.991258916622737,
            0.4327067248682318,
            -1.2938122335572846,
            -1.5612655888459617,
            -0.4756109948662482,
            -2.8092134681901326,
            -1.807589878107098,
            -0.7100192131646531,
            -1.2416329339207866,
            -0.18081266017695752,
            0.328122751075155,
            0.8407273932910216
           ]
          },
          {
           "label": "l1_ratio",
           "range": [
            0.013905057592156655,
            0.9978831343378864
           ],
           "values": [
            0.9398973231547251,
            0.2341311489492922,
            0.5453208955134424,
            0.42009669984912323,
            0.8582216404548515,
            0.8387464829597732,
            0.3006171445521443,
            0.590776160029991,
            0.06045044425555901,
            0.6003055978086448,
            0.9916273439535722,
            0.7253812388036267,
            0.9978831343378864,
            0.7421406360532857,
            0.44362715831292127,
            0.013905057592156655,
            0.6163920116743756,
            0.303426062192112,
            0.1476480667053589,
            0.8560413783881752,
            0.4934046343473722,
            0.41782451208817073,
            0.3480611856841662,
            0.7048427815014086,
            0.5343117902373586,
            0.4052577986539735,
            0.19005606979573886,
            0.9290786896217839,
            0.6872161564850165,
            0.2314832650835953
           ]
          }
         ],
         "labelangle": 30,
         "labelside": "bottom",
         "line": {
          "color": [
           0.008936553071680106,
           0.008938396704666191,
           0.008936553071680106,
           0.008936553071680106,
           0.008936553071680106,
           0.008936553071680106,
           0.008974599595423627,
           0.008939710563546708,
           0.008936553071680106,
           0.008936553071680106,
           0.009761872253635477,
           0.008936553071680106,
           0.008936553071680106,
           0.008936553071680106,
           0.008936553071680106,
           0.009011952693304673,
           0.008936553071680106,
           0.008936553071680106,
           0.009891300936031189,
           0.008936553071680106,
           0.008936553071680106,
           0.008936553071680106,
           0.008936553071680106,
           0.009092474621816272,
           0.008936553071680106,
           0.008936553071680106,
           0.008936553071680106,
           0.008936553071680106,
           0.008936553071680106,
           0.008936553071680106
          ],
          "colorbar": {
           "title": {
            "text": "Objective Value"
           }
          },
          "colorscale": [
           [
            0.0,
            "rgb(247,251,255)"
           ],
           [
            0.125,
            "rgb(222,235,247)"
           ],
           [
            0.25,
            "rgb(198,219,239)"
           ],
           [
            0.375,
            "rgb(158,202,225)"
           ],
           [
            0.5,
            "rgb(107,174,214)"
           ],
           [
            0.625,
            "rgb(66,146,198)"
           ],
           [
            0.75,
            "rgb(33,113,181)"
           ],
           [
            0.875,
            "rgb(8,81,156)"
           ],
           [
            1.0,
            "rgb(8,48,107)"
           ]
          ],
          "reversescale": true,
          "showscale": true
         },
         "type": "parcoords"
        }
       ],
       "layout": {
        "title": {
         "text": "Parallel Coordinate Plot"
        },
        "template": {
         "data": {
          "histogram2dcontour": [
           {
            "type": "histogram2dcontour",
            "colorbar": {
             "outlinewidth": 0,
             "ticks": ""
            },
            "colorscale": [
             [
              0.0,
              "#0d0887"
             ],
             [
              0.1111111111111111,
              "#46039f"
             ],
             [
              0.2222222222222222,
              "#7201a8"
             ],
             [
              0.3333333333333333,
              "#9c179e"
             ],
             [
              0.4444444444444444,
              "#bd3786"
             ],
             [
              0.5555555555555556,
              "#d8576b"
             ],
             [
              0.6666666666666666,
              "#ed7953"
             ],
             [
              0.7777777777777778,
              "#fb9f3a"
             ],
             [
              0.8888888888888888,
              "#fdca26"
             ],
             [
              1.0,
              "#f0f921"
             ]
            ]
           }
          ],
          "choropleth": [
           {
            "type": "choropleth",
            "colorbar": {
             "outlinewidth": 0,
             "ticks": ""
            }
           }
          ],
          "histogram2d": [
           {
            "type": "histogram2d",
            "colorbar": {
             "outlinewidth": 0,
             "ticks": ""
            },
            "colorscale": [
             [
              0.0,
              "#0d0887"
             ],
             [
              0.1111111111111111,
              "#46039f"
             ],
             [
              0.2222222222222222,
              "#7201a8"
             ],
             [
              0.3333333333333333,
              "#9c179e"
             ],
             [
              0.4444444444444444,
              "#bd3786"
             ],
             [
              0.5555555555555556,
              "#d8576b"
             ],
             [
              0.6666666666666666,
              "#ed7953"
             ],
             [
              0.7777777777777778,
              "#fb9f3a"
             ],
             [
              0.8888888888888888,
              "#fdca26"
             ],
             [
              1.0,
              "#f0f921"
             ]
            ]
           }
          ],
          "heatmap": [
           {
            "type": "heatmap",
            "colorbar": {
             "outlinewidth": 0,
             "ticks": ""
            },
            "colorscale": [
             [
              0.0,
              "#0d0887"
             ],
             [
              0.1111111111111111,
              "#46039f"
             ],
             [
              0.2222222222222222,
              "#7201a8"
             ],
             [
              0.3333333333333333,
              "#9c179e"
             ],
             [
              0.4444444444444444,
              "#bd3786"
             ],
             [
              0.5555555555555556,
              "#d8576b"
             ],
             [
              0.6666666666666666,
              "#ed7953"
             ],
             [
              0.7777777777777778,
              "#fb9f3a"
             ],
             [
              0.8888888888888888,
              "#fdca26"
             ],
             [
              1.0,
              "#f0f921"
             ]
            ]
           }
          ],
          "contourcarpet": [
           {
            "type": "contourcarpet",
            "colorbar": {
             "outlinewidth": 0,
             "ticks": ""
            }
           }
          ],
          "contour": [
           {
            "type": "contour",
            "colorbar": {
             "outlinewidth": 0,
             "ticks": ""
            },
            "colorscale": [
             [
              0.0,
              "#0d0887"
             ],
             [
              0.1111111111111111,
              "#46039f"
             ],
             [
              0.2222222222222222,
              "#7201a8"
             ],
             [
              0.3333333333333333,
              "#9c179e"
             ],
             [
              0.4444444444444444,
              "#bd3786"
             ],
             [
              0.5555555555555556,
              "#d8576b"
             ],
             [
              0.6666666666666666,
              "#ed7953"
             ],
             [
              0.7777777777777778,
              "#fb9f3a"
             ],
             [
              0.8888888888888888,
              "#fdca26"
             ],
             [
              1.0,
              "#f0f921"
             ]
            ]
           }
          ],
          "surface": [
           {
            "type": "surface",
            "colorbar": {
             "outlinewidth": 0,
             "ticks": ""
            },
            "colorscale": [
             [
              0.0,
              "#0d0887"
             ],
             [
              0.1111111111111111,
              "#46039f"
             ],
             [
              0.2222222222222222,
              "#7201a8"
             ],
             [
              0.3333333333333333,
              "#9c179e"
             ],
             [
              0.4444444444444444,
              "#bd3786"
             ],
             [
              0.5555555555555556,
              "#d8576b"
             ],
             [
              0.6666666666666666,
              "#ed7953"
             ],
             [
              0.7777777777777778,
              "#fb9f3a"
             ],
             [
              0.8888888888888888,
              "#fdca26"
             ],
             [
              1.0,
              "#f0f921"
             ]
            ]
           }
          ],
          "mesh3d": [
           {
            "type": "mesh3d",
            "colorbar": {
             "outlinewidth": 0,
             "ticks": ""
            }
           }
          ],
          "scatter": [
           {
            "fillpattern": {
             "fillmode": "overlay",
             "size": 10,
             "solidity": 0.2
            },
            "type": "scatter"
           }
          ],
          "parcoords": [
           {
            "type": "parcoords",
            "line": {
             "colorbar": {
              "outlinewidth": 0,
              "ticks": ""
             }
            }
           }
          ],
          "scatterpolargl": [
           {
            "type": "scatterpolargl",
            "marker": {
             "colorbar": {
              "outlinewidth": 0,
              "ticks": ""
             }
            }
           }
          ],
          "bar": [
           {
            "error_x": {
             "color": "#2a3f5f"
            },
            "error_y": {
             "color": "#2a3f5f"
            },
            "marker": {
             "line": {
              "color": "#E5ECF6",
              "width": 0.5
             },
             "pattern": {
              "fillmode": "overlay",
              "size": 10,
              "solidity": 0.2
             }
            },
            "type": "bar"
           }
          ],
          "scattergeo": [
           {
            "type": "scattergeo",
            "marker": {
             "colorbar": {
              "outlinewidth": 0,
              "ticks": ""
             }
            }
           }
          ],
          "scatterpolar": [
           {
            "type": "scatterpolar",
            "marker": {
             "colorbar": {
              "outlinewidth": 0,
              "ticks": ""
             }
            }
           }
          ],
          "histogram": [
           {
            "marker": {
             "pattern": {
              "fillmode": "overlay",
              "size": 10,
              "solidity": 0.2
             }
            },
            "type": "histogram"
           }
          ],
          "scattergl": [
           {
            "type": "scattergl",
            "marker": {
             "colorbar": {
              "outlinewidth": 0,
              "ticks": ""
             }
            }
           }
          ],
          "scatter3d": [
           {
            "type": "scatter3d",
            "line": {
             "colorbar": {
              "outlinewidth": 0,
              "ticks": ""
             }
            },
            "marker": {
             "colorbar": {
              "outlinewidth": 0,
              "ticks": ""
             }
            }
           }
          ],
          "scattermap": [
           {
            "type": "scattermap",
            "marker": {
             "colorbar": {
              "outlinewidth": 0,
              "ticks": ""
             }
            }
           }
          ],
          "scattermapbox": [
           {
            "type": "scattermapbox",
            "marker": {
             "colorbar": {
              "outlinewidth": 0,
              "ticks": ""
             }
            }
           }
          ],
          "scatterternary": [
           {
            "type": "scatterternary",
            "marker": {
             "colorbar": {
              "outlinewidth": 0,
              "ticks": ""
             }
            }
           }
          ],
          "scattercarpet": [
           {
            "type": "scattercarpet",
            "marker": {
             "colorbar": {
              "outlinewidth": 0,
              "ticks": ""
             }
            }
           }
          ],
          "carpet": [
           {
            "aaxis": {
             "endlinecolor": "#2a3f5f",
             "gridcolor": "white",
             "linecolor": "white",
             "minorgridcolor": "white",
             "startlinecolor": "#2a3f5f"
            },
            "baxis": {
             "endlinecolor": "#2a3f5f",
             "gridcolor": "white",
             "linecolor": "white",
             "minorgridcolor": "white",
             "startlinecolor": "#2a3f5f"
            },
            "type": "carpet"
           }
          ],
          "table": [
           {
            "cells": {
             "fill": {
              "color": "#EBF0F8"
             },
             "line": {
              "color": "white"
             }
            },
            "header": {
             "fill": {
              "color": "#C8D4E3"
             },
             "line": {
              "color": "white"
             }
            },
            "type": "table"
           }
          ],
          "barpolar": [
           {
            "marker": {
             "line": {
              "color": "#E5ECF6",
              "width": 0.5
             },
             "pattern": {
              "fillmode": "overlay",
              "size": 10,
              "solidity": 0.2
             }
            },
            "type": "barpolar"
           }
          ],
          "pie": [
           {
            "automargin": true,
            "type": "pie"
           }
          ]
         },
         "layout": {
          "autotypenumbers": "strict",
          "colorway": [
           "#636efa",
           "#EF553B",
           "#00cc96",
           "#ab63fa",
           "#FFA15A",
           "#19d3f3",
           "#FF6692",
           "#B6E880",
           "#FF97FF",
           "#FECB52"
          ],
          "font": {
           "color": "#2a3f5f"
          },
          "hovermode": "closest",
          "hoverlabel": {
           "align": "left"
          },
          "paper_bgcolor": "white",
          "plot_bgcolor": "#E5ECF6",
          "polar": {
           "bgcolor": "#E5ECF6",
           "angularaxis": {
            "gridcolor": "white",
            "linecolor": "white",
            "ticks": ""
           },
           "radialaxis": {
            "gridcolor": "white",
            "linecolor": "white",
            "ticks": ""
           }
          },
          "ternary": {
           "bgcolor": "#E5ECF6",
           "aaxis": {
            "gridcolor": "white",
            "linecolor": "white",
            "ticks": ""
           },
           "baxis": {
            "gridcolor": "white",
            "linecolor": "white",
            "ticks": ""
           },
           "caxis": {
            "gridcolor": "white",
            "linecolor": "white",
            "ticks": ""
           }
          },
          "coloraxis": {
           "colorbar": {
            "outlinewidth": 0,
            "ticks": ""
           }
          },
          "colorscale": {
           "sequential": [
            [
             0.0,
             "#0d0887"
            ],
            [
             0.1111111111111111,
             "#46039f"
            ],
            [
             0.2222222222222222,
             "#7201a8"
            ],
            [
             0.3333333333333333,
             "#9c179e"
            ],
            [
             0.4444444444444444,
             "#bd3786"
            ],
            [
             0.5555555555555556,
             "#d8576b"
            ],
            [
             0.6666666666666666,
             "#ed7953"
            ],
            [
             0.7777777777777778,
             "#fb9f3a"
            ],
            [
             0.8888888888888888,
             "#fdca26"
            ],
            [
             1.0,
             "#f0f921"
            ]
           ],
           "sequentialminus": [
            [
             0.0,
             "#0d0887"
            ],
            [
             0.1111111111111111,
             "#46039f"
            ],
            [
             0.2222222222222222,
             "#7201a8"
            ],
            [
             0.3333333333333333,
             "#9c179e"
            ],
            [
             0.4444444444444444,
             "#bd3786"
            ],
            [
             0.5555555555555556,
             "#d8576b"
            ],
            [
             0.6666666666666666,
             "#ed7953"
            ],
            [
             0.7777777777777778,
             "#fb9f3a"
            ],
            [
             0.8888888888888888,
             "#fdca26"
            ],
            [
             1.0,
             "#f0f921"
            ]
           ],
           "diverging": [
            [
             0,
             "#8e0152"
            ],
            [
             0.1,
             "#c51b7d"
            ],
            [
             0.2,
             "#de77ae"
            ],
            [
             0.3,
             "#f1b6da"
            ],
            [
             0.4,
             "#fde0ef"
            ],
            [
             0.5,
             "#f7f7f7"
            ],
            [
             0.6,
             "#e6f5d0"
            ],
            [
             0.7,
             "#b8e186"
            ],
            [
             0.8,
             "#7fbc41"
            ],
            [
             0.9,
             "#4d9221"
            ],
            [
             1,
             "#276419"
            ]
           ]
          },
          "xaxis": {
           "gridcolor": "white",
           "linecolor": "white",
           "ticks": "",
           "title": {
            "standoff": 15
           },
           "zerolinecolor": "white",
           "automargin": true,
           "zerolinewidth": 2
          },
          "yaxis": {
           "gridcolor": "white",
           "linecolor": "white",
           "ticks": "",
           "title": {
            "standoff": 15
           },
           "zerolinecolor": "white",
           "automargin": true,
           "zerolinewidth": 2
          },
          "scene": {
           "xaxis": {
            "backgroundcolor": "#E5ECF6",
            "gridcolor": "white",
            "linecolor": "white",
            "showbackground": true,
            "ticks": "",
            "zerolinecolor": "white",
            "gridwidth": 2
           },
           "yaxis": {
            "backgroundcolor": "#E5ECF6",
            "gridcolor": "white",
            "linecolor": "white",
            "showbackground": true,
            "ticks": "",
            "zerolinecolor": "white",
            "gridwidth": 2
           },
           "zaxis": {
            "backgroundcolor": "#E5ECF6",
            "gridcolor": "white",
            "linecolor": "white",
            "showbackground": true,
            "ticks": "",
            "zerolinecolor": "white",
            "gridwidth": 2
           }
          },
          "shapedefaults": {
           "line": {
            "color": "#2a3f5f"
           }
          },
          "annotationdefaults": {
           "arrowcolor": "#2a3f5f",
           "arrowhead": 0,
           "arrowwidth": 1
          },
          "geo": {
           "bgcolor": "white",
           "landcolor": "#E5ECF6",
           "subunitcolor": "white",
           "showland": true,
           "showlakes": true,
           "lakecolor": "white"
          },
          "title": {
           "x": 0.05
          },
          "mapbox": {
           "style": "light"
          }
         }
        }
       },
       "config": {
        "plotlyServerURL": "https://plot.ly"
       }
      }
     },
     "metadata": {},
     "output_type": "display_data"
    }
   ],
   "execution_count": 16
  },
  {
   "metadata": {
    "ExecuteTime": {
     "end_time": "2025-08-17T07:57:23.190662Z",
     "start_time": "2025-08-17T07:57:22.914630Z"
    }
   },
   "cell_type": "code",
   "source": [
    "model_path = trainer.save()\n",
    "trainer.track_wandb(metrics=eval_metrics, model_path=model_path)"
   ],
   "id": "817e9d2fada076b8",
   "outputs": [
    {
     "data": {
      "text/plain": [
       "<IPython.core.display.HTML object>"
      ],
      "text/html": [
       "Finishing previous runs because reinit is set to 'default'."
      ]
     },
     "metadata": {},
     "output_type": "display_data"
    },
    {
     "data": {
      "text/plain": [
       "<IPython.core.display.HTML object>"
      ],
      "text/html": []
     },
     "metadata": {},
     "output_type": "display_data"
    },
    {
     "data": {
      "text/plain": [
       "<IPython.core.display.HTML object>"
      ],
      "text/html": [
       "<br>    <style><br>        .wandb-row {<br>            display: flex;<br>            flex-direction: row;<br>            flex-wrap: wrap;<br>            justify-content: flex-start;<br>            width: 100%;<br>        }<br>        .wandb-col {<br>            display: flex;<br>            flex-direction: column;<br>            flex-basis: 100%;<br>            flex: 1;<br>            padding: 10px;<br>        }<br>    </style><br><div class=\"wandb-row\"><div class=\"wandb-col\"><h3>Run history:</h3><br/><table class=\"wandb\"><tr><td>mae</td><td>▁</td></tr><tr><td>mse</td><td>▁</td></tr><tr><td>r2</td><td>▁</td></tr><tr><td>rmse</td><td>▁</td></tr><tr><td>smape</td><td>▁</td></tr></table><br/></div><div class=\"wandb-col\"><h3>Run summary:</h3><br/><table class=\"wandb\"><tr><td>mae</td><td>0.00727</td></tr><tr><td>mse</td><td>9e-05</td></tr><tr><td>r2</td><td>-0.00047</td></tr><tr><td>rmse</td><td>0.00956</td></tr><tr><td>smape</td><td>1.81639</td></tr></table><br/></div></div>"
      ]
     },
     "metadata": {},
     "output_type": "display_data"
    },
    {
     "data": {
      "text/plain": [
       "<IPython.core.display.HTML object>"
      ],
      "text/html": [
       "You can sync this run to the cloud by running:<br><code>wandb sync D:\\IntelliJ\\ml-stock-sent\\notebooks\\wandb\\offline-run-20250817_094649-1vff82dx<code>"
      ]
     },
     "metadata": {},
     "output_type": "display_data"
    },
    {
     "data": {
      "text/plain": [
       "<IPython.core.display.HTML object>"
      ],
      "text/html": [
       "Find logs at: <code>.\\wandb\\offline-run-20250817_094649-1vff82dx\\logs</code>"
      ]
     },
     "metadata": {},
     "output_type": "display_data"
    },
    {
     "data": {
      "text/plain": [
       "<IPython.core.display.HTML object>"
      ],
      "text/html": [
       "Tracking run with wandb version 0.21.1"
      ]
     },
     "metadata": {},
     "output_type": "display_data"
    },
    {
     "data": {
      "text/plain": [
       "<IPython.core.display.HTML object>"
      ],
      "text/html": [
       "W&B syncing is set to <code>`offline`<code> in this directory. Run <code>`wandb online`<code> or set <code>WANDB_MODE=online<code> to enable cloud syncing.<br>Run data is saved locally in <code>D:\\IntelliJ\\ml-stock-sent\\notebooks\\wandb\\offline-run-20250817_095722-g1qfdy2a</code>"
      ]
     },
     "metadata": {},
     "output_type": "display_data"
    },
    {
     "data": {
      "text/plain": [
       "<IPython.core.display.HTML object>"
      ],
      "text/html": []
     },
     "metadata": {},
     "output_type": "display_data"
    },
    {
     "data": {
      "text/plain": [
       "<IPython.core.display.HTML object>"
      ],
      "text/html": [
       "<br>    <style><br>        .wandb-row {<br>            display: flex;<br>            flex-direction: row;<br>            flex-wrap: wrap;<br>            justify-content: flex-start;<br>            width: 100%;<br>        }<br>        .wandb-col {<br>            display: flex;<br>            flex-direction: column;<br>            flex-basis: 100%;<br>            flex: 1;<br>            padding: 10px;<br>        }<br>    </style><br><div class=\"wandb-row\"><div class=\"wandb-col\"><h3>Run history:</h3><br/><table class=\"wandb\"><tr><td>mae</td><td>▁</td></tr><tr><td>mse</td><td>▁</td></tr><tr><td>r2</td><td>▁</td></tr><tr><td>rmse</td><td>▁</td></tr><tr><td>smape</td><td>▁</td></tr></table><br/></div><div class=\"wandb-col\"><h3>Run summary:</h3><br/><table class=\"wandb\"><tr><td>mae</td><td>0.00727</td></tr><tr><td>mse</td><td>9e-05</td></tr><tr><td>r2</td><td>-0.00047</td></tr><tr><td>rmse</td><td>0.00956</td></tr><tr><td>smape</td><td>1.81639</td></tr></table><br/></div></div>"
      ]
     },
     "metadata": {},
     "output_type": "display_data"
    },
    {
     "data": {
      "text/plain": [
       "<IPython.core.display.HTML object>"
      ],
      "text/html": [
       "You can sync this run to the cloud by running:<br><code>wandb sync D:\\IntelliJ\\ml-stock-sent\\notebooks\\wandb\\offline-run-20250817_095722-g1qfdy2a<code>"
      ]
     },
     "metadata": {},
     "output_type": "display_data"
    },
    {
     "data": {
      "text/plain": [
       "<IPython.core.display.HTML object>"
      ],
      "text/html": [
       "Find logs at: <code>.\\wandb\\offline-run-20250817_095722-g1qfdy2a\\logs</code>"
      ]
     },
     "metadata": {},
     "output_type": "display_data"
    }
   ],
   "execution_count": 17
  },
  {
   "metadata": {},
   "cell_type": "code",
   "source": [
    "import numpy as np\n",
    "\n",
    "\n",
    "print(\"Target variance:\", np.var(y_test))"
   ],
   "id": "802486427f7b5acd",
   "outputs": [],
   "execution_count": null
  },
  {
   "metadata": {},
   "cell_type": "code",
   "source": [
    "import pandas as pd\n",
    "from matplotlib import pyplot as plt\n",
    "\n",
    "\n",
    "def plot_forecast_from_predictions(\n",
    "        full_df: pd.DataFrame,\n",
    "        forecast_df: pd.DataFrame,\n",
    "        predicted_returns: np.ndarray,\n",
    "        price_col: str = \"adj_close\",\n",
    "        forecast_col: str = \"Forecasted Price\",\n",
    "        title: str = \"Forecasted Prices vs Actual\",\n",
    "        zoom_days: int = 180,\n",
    "        figsize=(14, 6)\n",
    "):\n",
    "    \"\"\"\n",
    "    Plot actual vs forecasted prices using predicted log returns from the model.\n",
    "\n",
    "    Parameters:\n",
    "    - full_df: The complete original DataFrame with prices.\n",
    "    - forecast_df: The subset used for forecasting (e.g., last horizon days).\n",
    "    - predicted_returns: Model's predicted log returns.\n",
    "    - price_col: Column name with actual prices.\n",
    "    - forecast_col: Name of column to store forecasted prices.\n",
    "    - title: Plot title.\n",
    "    - zoom_days: Days to show in the zoomed-in plot.\n",
    "    - figsize: Size of the plot.\n",
    "    \"\"\"\n",
    "    df = full_df.copy()\n",
    "    forecast_idx = forecast_df.index\n",
    "\n",
    "    # Get last known price\n",
    "    last_price = df.loc[forecast_idx[0] - 1, price_col]\n",
    "\n",
    "    # Convert log returns to prices\n",
    "    predicted_prices = [last_price]\n",
    "    for ret in predicted_returns:\n",
    "        predicted_prices.append(predicted_prices[-1] * np.exp(ret))\n",
    "    predicted_prices = predicted_prices[1:]\n",
    "\n",
    "    # Add forecast to DataFrame\n",
    "    df.loc[forecast_idx, forecast_col] = predicted_prices\n",
    "\n",
    "    # Zoomed view\n",
    "    zoom_start = max(df.index[-1] - zoom_days, 0)\n",
    "    df_zoom = df.iloc[zoom_start:]\n",
    "\n",
    "    # Plot\n",
    "    plt.figure(figsize=figsize)\n",
    "    plt.plot(df_zoom[price_col], label=\"Actual Price\", linewidth=2)\n",
    "    plt.plot(df_zoom[forecast_col], label=\"Forecasted Price\", linestyle=\"--\", color=\"orange\")\n",
    "    plt.axvline(x=forecast_idx[0], color=\"gray\", linestyle=\"--\", label=\"Forecast Start\")\n",
    "    plt.title(title)\n",
    "    plt.xlabel(\"Time\")\n",
    "    plt.ylabel(\"Price\")\n",
    "    plt.grid(True)\n",
    "    plt.legend()\n",
    "    plt.tight_layout()\n",
    "    plt.show()\n"
   ],
   "id": "bd6e44de4f1221ee",
   "outputs": [],
   "execution_count": null
  },
  {
   "metadata": {},
   "cell_type": "code",
   "source": [
    "# Predict future returns\n",
    "y_forecast_pred = trainer.predict(X_forecast)\n",
    "\n",
    "# Plot\n",
    "plot_forecast_from_predictions(\n",
    "    full_df=df_full,              # full dataset with 'adj_close'\n",
    "    forecast_df=forecast,        # forecast split\n",
    "    predicted_returns=y_forecast_pred.ravel(),  # flatten if 2D\n",
    "    price_col=\"adj_close\",\n",
    "    forecast_col=\"forecasted_price\"\n",
    ")"
   ],
   "id": "d855dba03e5e9b3b",
   "outputs": [],
   "execution_count": null
  }
 ],
 "metadata": {
  "kernelspec": {
   "display_name": "Python 3",
   "language": "python",
   "name": "python3"
  },
  "language_info": {
   "codemirror_mode": {
    "name": "ipython",
    "version": 2
   },
   "file_extension": ".py",
   "mimetype": "text/x-python",
   "name": "python",
   "nbconvert_exporter": "python",
   "pygments_lexer": "ipython2",
   "version": "2.7.6"
  }
 },
 "nbformat": 4,
 "nbformat_minor": 5
}

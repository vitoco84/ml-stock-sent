{
 "cells": [
  {
   "metadata": {},
   "cell_type": "markdown",
   "source": "# SHAP",
   "id": "ad50a1fb839238d"
  },
  {
   "cell_type": "code",
   "id": "initial_id",
   "metadata": {
    "collapsed": true,
    "ExecuteTime": {
     "end_time": "2025-08-23T18:37:26.418638Z",
     "start_time": "2025-08-23T18:37:23.352535Z"
    }
   },
   "source": [
    "from pathlib import Path\n",
    "\n",
    "import numpy as np\n",
    "import pandas as pd\n",
    "import shap\n",
    "\n",
    "from src.config import Config\n",
    "from src.evaluation import SHAPExplainer\n",
    "from src.train import ModelTrainer"
   ],
   "outputs": [],
   "execution_count": 1
  },
  {
   "metadata": {
    "ExecuteTime": {
     "end_time": "2025-08-23T18:37:26.428155Z",
     "start_time": "2025-08-23T18:37:26.423141Z"
    }
   },
   "cell_type": "code",
   "source": "cfg = Config(Path(\"../config/config.yaml\"))",
   "id": "56eb4aea66b442b2",
   "outputs": [],
   "execution_count": 2
  },
  {
   "metadata": {
    "ExecuteTime": {
     "end_time": "2025-08-23T18:37:27.162434Z",
     "start_time": "2025-08-23T18:37:26.431659Z"
    }
   },
   "cell_type": "code",
   "source": [
    "model_path = Path(cfg.model.path_dir) / cfg.model.enet_mo_best_30\n",
    "model, preprocessor, y_scaler, _ = ModelTrainer.load(str(model_path))\n",
    "\n",
    "X_test = pd.read_parquet(Path(cfg.data.processed_dir) / \"X_test_30.parquet\")\n",
    "X_test_proc = preprocessor.transform(X_test)\n",
    "\n",
    "feature_names = preprocessor.get_feature_names_out()\n",
    "\n",
    "explainer = SHAPExplainer(\n",
    "    model=model,\n",
    "    preprocessor=preprocessor,\n",
    "    background_data=X_test.sample(n=100, random_state=cfg.runtime.seed),\n",
    "    mode=\"linear\",\n",
    ")\n",
    "\n",
    "shap_values = explainer.explain(X_test)\n",
    "\n",
    "shap.summary_plot(\n",
    "    shap_values[0],\n",
    "    X_test_proc,\n",
    "    feature_names=feature_names,\n",
    "    show=True\n",
    ")"
   ],
   "id": "a96cfc66601a04b6",
   "outputs": [
    {
     "ename": "ValueError",
     "evalue": "columns are missing: {'ema_5', 'sma_10', 'q_std', 'sma_25', 'sma_5', 'l_bollinger', 'lag_10', 'q_skew', 'h_bollinger', 'lag_25', 'macd', 'q_mean', 'rsi', 'ema_10', 'ema_25'}",
     "output_type": "error",
     "traceback": [
      "\u001B[1;31m---------------------------------------------------------------------------\u001B[0m",
      "\u001B[1;31mValueError\u001B[0m                                Traceback (most recent call last)",
      "Cell \u001B[1;32mIn[3], line 5\u001B[0m\n\u001B[0;32m      2\u001B[0m model, preprocessor, y_scaler, _ \u001B[38;5;241m=\u001B[39m ModelTrainer\u001B[38;5;241m.\u001B[39mload(\u001B[38;5;28mstr\u001B[39m(model_path))\n\u001B[0;32m      4\u001B[0m X_test \u001B[38;5;241m=\u001B[39m pd\u001B[38;5;241m.\u001B[39mread_parquet(Path(cfg\u001B[38;5;241m.\u001B[39mdata\u001B[38;5;241m.\u001B[39mprocessed_dir) \u001B[38;5;241m/\u001B[39m \u001B[38;5;124m\"\u001B[39m\u001B[38;5;124mX_test_30.parquet\u001B[39m\u001B[38;5;124m\"\u001B[39m)\n\u001B[1;32m----> 5\u001B[0m X_test_proc \u001B[38;5;241m=\u001B[39m \u001B[43mpreprocessor\u001B[49m\u001B[38;5;241;43m.\u001B[39;49m\u001B[43mtransform\u001B[49m\u001B[43m(\u001B[49m\u001B[43mX_test\u001B[49m\u001B[43m)\u001B[49m\n\u001B[0;32m      7\u001B[0m feature_names \u001B[38;5;241m=\u001B[39m preprocessor\u001B[38;5;241m.\u001B[39mget_feature_names_out()\n\u001B[0;32m      9\u001B[0m explainer \u001B[38;5;241m=\u001B[39m SHAPExplainer(\n\u001B[0;32m     10\u001B[0m     model\u001B[38;5;241m=\u001B[39mmodel,\n\u001B[0;32m     11\u001B[0m     preprocessor\u001B[38;5;241m=\u001B[39mpreprocessor,\n\u001B[0;32m     12\u001B[0m     background_data\u001B[38;5;241m=\u001B[39mX_test\u001B[38;5;241m.\u001B[39msample(n\u001B[38;5;241m=\u001B[39m\u001B[38;5;241m100\u001B[39m, random_state\u001B[38;5;241m=\u001B[39mcfg\u001B[38;5;241m.\u001B[39mruntime\u001B[38;5;241m.\u001B[39mseed),\n\u001B[0;32m     13\u001B[0m     mode\u001B[38;5;241m=\u001B[39m\u001B[38;5;124m\"\u001B[39m\u001B[38;5;124mlinear\u001B[39m\u001B[38;5;124m\"\u001B[39m,\n\u001B[0;32m     14\u001B[0m )\n",
      "File \u001B[1;32mD:\\IntelliJ\\ml-stock-sent\\.venv\\Lib\\site-packages\\sklearn\\pipeline.py:1093\u001B[0m, in \u001B[0;36mPipeline.transform\u001B[1;34m(self, X, **params)\u001B[0m\n\u001B[0;32m   1091\u001B[0m Xt \u001B[38;5;241m=\u001B[39m X\n\u001B[0;32m   1092\u001B[0m \u001B[38;5;28;01mfor\u001B[39;00m _, name, transform \u001B[38;5;129;01min\u001B[39;00m \u001B[38;5;28mself\u001B[39m\u001B[38;5;241m.\u001B[39m_iter():\n\u001B[1;32m-> 1093\u001B[0m     Xt \u001B[38;5;241m=\u001B[39m \u001B[43mtransform\u001B[49m\u001B[38;5;241;43m.\u001B[39;49m\u001B[43mtransform\u001B[49m\u001B[43m(\u001B[49m\u001B[43mXt\u001B[49m\u001B[43m,\u001B[49m\u001B[43m \u001B[49m\u001B[38;5;241;43m*\u001B[39;49m\u001B[38;5;241;43m*\u001B[39;49m\u001B[43mrouted_params\u001B[49m\u001B[43m[\u001B[49m\u001B[43mname\u001B[49m\u001B[43m]\u001B[49m\u001B[38;5;241;43m.\u001B[39;49m\u001B[43mtransform\u001B[49m\u001B[43m)\u001B[49m\n\u001B[0;32m   1094\u001B[0m \u001B[38;5;28;01mreturn\u001B[39;00m Xt\n",
      "File \u001B[1;32mD:\\IntelliJ\\ml-stock-sent\\.venv\\Lib\\site-packages\\sklearn\\utils\\_set_output.py:316\u001B[0m, in \u001B[0;36m_wrap_method_output.<locals>.wrapped\u001B[1;34m(self, X, *args, **kwargs)\u001B[0m\n\u001B[0;32m    314\u001B[0m \u001B[38;5;129m@wraps\u001B[39m(f)\n\u001B[0;32m    315\u001B[0m \u001B[38;5;28;01mdef\u001B[39;00m\u001B[38;5;250m \u001B[39m\u001B[38;5;21mwrapped\u001B[39m(\u001B[38;5;28mself\u001B[39m, X, \u001B[38;5;241m*\u001B[39margs, \u001B[38;5;241m*\u001B[39m\u001B[38;5;241m*\u001B[39mkwargs):\n\u001B[1;32m--> 316\u001B[0m     data_to_wrap \u001B[38;5;241m=\u001B[39m \u001B[43mf\u001B[49m\u001B[43m(\u001B[49m\u001B[38;5;28;43mself\u001B[39;49m\u001B[43m,\u001B[49m\u001B[43m \u001B[49m\u001B[43mX\u001B[49m\u001B[43m,\u001B[49m\u001B[43m \u001B[49m\u001B[38;5;241;43m*\u001B[39;49m\u001B[43margs\u001B[49m\u001B[43m,\u001B[49m\u001B[43m \u001B[49m\u001B[38;5;241;43m*\u001B[39;49m\u001B[38;5;241;43m*\u001B[39;49m\u001B[43mkwargs\u001B[49m\u001B[43m)\u001B[49m\n\u001B[0;32m    317\u001B[0m     \u001B[38;5;28;01mif\u001B[39;00m \u001B[38;5;28misinstance\u001B[39m(data_to_wrap, \u001B[38;5;28mtuple\u001B[39m):\n\u001B[0;32m    318\u001B[0m         \u001B[38;5;66;03m# only wrap the first output for cross decomposition\u001B[39;00m\n\u001B[0;32m    319\u001B[0m         return_tuple \u001B[38;5;241m=\u001B[39m (\n\u001B[0;32m    320\u001B[0m             _wrap_data_with_container(method, data_to_wrap[\u001B[38;5;241m0\u001B[39m], X, \u001B[38;5;28mself\u001B[39m),\n\u001B[0;32m    321\u001B[0m             \u001B[38;5;241m*\u001B[39mdata_to_wrap[\u001B[38;5;241m1\u001B[39m:],\n\u001B[0;32m    322\u001B[0m         )\n",
      "File \u001B[1;32mD:\\IntelliJ\\ml-stock-sent\\.venv\\Lib\\site-packages\\sklearn\\compose\\_column_transformer.py:1085\u001B[0m, in \u001B[0;36mColumnTransformer.transform\u001B[1;34m(self, X, **params)\u001B[0m\n\u001B[0;32m   1083\u001B[0m     diff \u001B[38;5;241m=\u001B[39m all_names \u001B[38;5;241m-\u001B[39m \u001B[38;5;28mset\u001B[39m(column_names)\n\u001B[0;32m   1084\u001B[0m     \u001B[38;5;28;01mif\u001B[39;00m diff:\n\u001B[1;32m-> 1085\u001B[0m         \u001B[38;5;28;01mraise\u001B[39;00m \u001B[38;5;167;01mValueError\u001B[39;00m(\u001B[38;5;124mf\u001B[39m\u001B[38;5;124m\"\u001B[39m\u001B[38;5;124mcolumns are missing: \u001B[39m\u001B[38;5;132;01m{\u001B[39;00mdiff\u001B[38;5;132;01m}\u001B[39;00m\u001B[38;5;124m\"\u001B[39m)\n\u001B[0;32m   1086\u001B[0m \u001B[38;5;28;01melse\u001B[39;00m:\n\u001B[0;32m   1087\u001B[0m     \u001B[38;5;66;03m# ndarray was used for fitting or transforming, thus we only\u001B[39;00m\n\u001B[0;32m   1088\u001B[0m     \u001B[38;5;66;03m# check that n_features_in_ is consistent\u001B[39;00m\n\u001B[0;32m   1089\u001B[0m     _check_n_features(\u001B[38;5;28mself\u001B[39m, X, reset\u001B[38;5;241m=\u001B[39m\u001B[38;5;28;01mFalse\u001B[39;00m)\n",
      "\u001B[1;31mValueError\u001B[0m: columns are missing: {'ema_5', 'sma_10', 'q_std', 'sma_25', 'sma_5', 'l_bollinger', 'lag_10', 'q_skew', 'h_bollinger', 'lag_25', 'macd', 'q_mean', 'rsi', 'ema_10', 'ema_25'}"
     ]
    }
   ],
   "execution_count": 3
  },
  {
   "metadata": {},
   "cell_type": "code",
   "source": [
    "X_proc = preprocessor.transform(X_test)\n",
    "y_pred_scaled = model.predict(X_proc)\n",
    "print(\"Y scaled prediction std dev per target:\\n\", np.std(y_pred_scaled, axis=0))"
   ],
   "id": "30318c8d2f227478",
   "outputs": [],
   "execution_count": null
  },
  {
   "metadata": {},
   "cell_type": "code",
   "source": "print(\"Feature std dev after preprocessing:\\n\", X_proc.std(axis=0))",
   "id": "d721362f2c6f04e6",
   "outputs": [],
   "execution_count": null
  },
  {
   "metadata": {},
   "cell_type": "code",
   "source": [
    "shap_array = shap_values[0] if isinstance(shap_values, list) else shap_values\n",
    "print(\"SHAP mean abs:\\n\", np.mean(np.abs(shap_array), axis=0))"
   ],
   "id": "7f47aaa32151801c",
   "outputs": [],
   "execution_count": null
  }
 ],
 "metadata": {
  "kernelspec": {
   "display_name": "Python 3",
   "language": "python",
   "name": "python3"
  },
  "language_info": {
   "codemirror_mode": {
    "name": "ipython",
    "version": 2
   },
   "file_extension": ".py",
   "mimetype": "text/x-python",
   "name": "python",
   "nbconvert_exporter": "python",
   "pygments_lexer": "ipython2",
   "version": "2.7.6"
  }
 },
 "nbformat": 4,
 "nbformat_minor": 5
}

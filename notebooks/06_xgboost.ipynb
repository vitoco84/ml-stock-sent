{
 "cells": [
  {
   "metadata": {},
   "cell_type": "markdown",
   "source": "# Train and Tune Linear Regression Model with MultioutputRegressor",
   "id": "950d0a291168f9e"
  },
  {
   "cell_type": "code",
   "id": "initial_id",
   "metadata": {
    "collapsed": true,
    "ExecuteTime": {
     "end_time": "2025-08-24T12:52:29.011954Z",
     "start_time": "2025-08-24T12:52:27.733613Z"
    }
   },
   "source": [
    "from pathlib import Path\n",
    "\n",
    "import optuna.visualization as vis\n",
    "import pandas as pd\n",
    "\n",
    "from config.config import Config\n",
    "from src.models.factory import Experiment\n",
    "from src.models.xgboost import XGBoost\n",
    "from src.plots import plot_forecast_diagnostics, plot_forecast_next_h, plot_test_overlay_h1, prep_h1_overlay, \\\n",
    "    prep_h_overlay\n",
    "from src.runners import run_experiments\n",
    "from src.utils import set_seed"
   ],
   "outputs": [],
   "execution_count": 1
  },
  {
   "metadata": {
    "ExecuteTime": {
     "end_time": "2025-08-24T12:52:30.132422Z",
     "start_time": "2025-08-24T12:52:29.014456Z"
    }
   },
   "cell_type": "code",
   "source": [
    "cfg = Config(Path(\"../config/config.yaml\"))\n",
    "SEED = cfg.runtime.seed\n",
    "HORIZON = cfg.runtime.horizon\n",
    "rng = set_seed(SEED)"
   ],
   "id": "814fc30de23a20b1",
   "outputs": [
    {
     "name": "stderr",
     "output_type": "stream",
     "text": [
      "2025-08-24 14:52:30,129 - INFO - src.utils - Global random seed set to 42\n"
     ]
    }
   ],
   "execution_count": 2
  },
  {
   "metadata": {
    "ExecuteTime": {
     "end_time": "2025-08-24T12:52:30.202109Z",
     "start_time": "2025-08-24T12:52:30.183646Z"
    }
   },
   "cell_type": "code",
   "source": "df_full = pd.read_csv(Path(cfg.data.processed_dir) / \"features_full.csv\")",
   "id": "d7f8651a59ccd39c",
   "outputs": [],
   "execution_count": 3
  },
  {
   "metadata": {
    "ExecuteTime": {
     "end_time": "2025-08-24T12:52:30.208423Z",
     "start_time": "2025-08-24T12:52:30.205620Z"
    }
   },
   "cell_type": "code",
   "source": [
    "experiments = [\n",
    "    Experiment(\n",
    "        name=\"xgboost\",\n",
    "        build=lambda horizon, seed: XGBoost(random_state=SEED),\n",
    "        include_sentiment=True\n",
    "    )\n",
    "]"
   ],
   "id": "36477596de740e2c",
   "outputs": [],
   "execution_count": 4
  },
  {
   "metadata": {
    "ExecuteTime": {
     "end_time": "2025-08-24T13:10:06.140486Z",
     "start_time": "2025-08-24T12:52:30.212426Z"
    }
   },
   "cell_type": "code",
   "source": "results = run_experiments(df_full, Path(cfg.data.processed_dir), experiments, HORIZON, SEED)",
   "id": "e6a091f4a37916f3",
   "outputs": [
    {
     "name": "stderr",
     "output_type": "stream",
     "text": [
      "2025-08-24 14:52:30,234 - INFO - ModelTrainer - Initialized ModelTrainer for model: xgboost\n",
      "[I 2025-08-24 14:52:30,235] A new study created in memory with name: xgboost\n",
      "2025-08-24 14:52:30,235 - INFO - ModelTrainer - Starting model tuning...\n",
      "[I 2025-08-24 14:53:37,125] Trial 0 finished with value: 0.009857235888414055 and parameters: {'n_estimators': 700, 'learning_rate': 0.08927180304353628, 'max_depth': 8, 'subsample': 0.8795975452591109, 'colsample_bytree': 0.7468055921327309, 'min_child_weight': 1.981947943193925, 'reg_alpha': 0.05808361216819946, 'reg_lambda': 4.344263114297182, 'max_bin': 384, 'grow_policy': 'depthwise'}. Best is trial 0 with value: 0.009857235888414055.\n",
      "2025-08-24 14:53:37,127 - INFO - ModelTrainer - Starting model tuning...\n",
      "[I 2025-08-24 14:53:52,488] Trial 1 pruned. \n",
      "2025-08-24 14:53:52,488 - INFO - ModelTrainer - Starting model tuning...\n",
      "[I 2025-08-24 14:54:11,003] Trial 2 pruned. \n",
      "2025-08-24 14:54:11,004 - INFO - ModelTrainer - Starting model tuning...\n",
      "[I 2025-08-24 14:54:39,685] Trial 3 pruned. \n",
      "2025-08-24 14:54:39,686 - INFO - ModelTrainer - Starting model tuning...\n",
      "[I 2025-08-24 14:55:24,724] Trial 4 pruned. \n",
      "2025-08-24 14:55:24,725 - INFO - ModelTrainer - Starting model tuning...\n",
      "[I 2025-08-24 14:56:02,902] Trial 5 finished with value: 0.009512199195325219 and parameters: {'n_estimators': 500, 'learning_rate': 0.011097554561103107, 'max_depth': 5, 'subsample': 0.8166031869068446, 'colsample_bytree': 0.7814047095321688, 'min_child_weight': 8.373006336943329, 'reg_alpha': 0.3567533266935893, 'reg_lambda': 1.4765790974681658, 'max_bin': 320, 'grow_policy': 'lossguide', 'max_leaves': 64}. Best is trial 5 with value: 0.009512199195325219.\n",
      "2025-08-24 14:56:02,903 - INFO - ModelTrainer - Starting model tuning...\n",
      "[I 2025-08-24 14:56:18,989] Trial 6 pruned. \n",
      "2025-08-24 14:56:18,989 - INFO - ModelTrainer - Starting model tuning...\n",
      "[I 2025-08-24 14:56:53,386] Trial 7 pruned. \n",
      "2025-08-24 14:56:53,387 - INFO - ModelTrainer - Starting model tuning...\n",
      "[I 2025-08-24 14:57:10,788] Trial 8 pruned. \n",
      "2025-08-24 14:57:10,789 - INFO - ModelTrainer - Starting model tuning...\n",
      "[I 2025-08-24 14:57:22,430] Trial 9 pruned. \n",
      "2025-08-24 14:57:22,431 - INFO - ModelTrainer - Starting model tuning...\n",
      "[I 2025-08-24 14:58:21,524] Trial 10 pruned. \n",
      "2025-08-24 14:58:21,525 - INFO - ModelTrainer - Starting model tuning...\n",
      "[I 2025-08-24 15:01:17,495] Trial 11 pruned. \n",
      "2025-08-24 15:01:17,496 - INFO - ModelTrainer - Starting model tuning...\n",
      "[I 2025-08-24 15:02:33,079] Trial 12 pruned. \n",
      "2025-08-24 15:02:33,080 - INFO - ModelTrainer - Starting model tuning...\n",
      "[I 2025-08-24 15:02:40,638] Trial 13 pruned. \n",
      "2025-08-24 15:02:40,639 - INFO - ModelTrainer - Starting model tuning...\n",
      "[I 2025-08-24 15:03:10,212] Trial 14 pruned. \n",
      "2025-08-24 15:03:10,213 - INFO - ModelTrainer - Starting model tuning...\n",
      "[I 2025-08-24 15:03:59,100] Trial 15 pruned. \n",
      "2025-08-24 15:03:59,101 - INFO - ModelTrainer - Starting model tuning...\n",
      "[I 2025-08-24 15:04:21,367] Trial 16 pruned. \n",
      "2025-08-24 15:04:21,368 - INFO - ModelTrainer - Starting model tuning...\n",
      "[I 2025-08-24 15:04:38,053] Trial 17 pruned. \n",
      "2025-08-24 15:04:38,054 - INFO - ModelTrainer - Starting model tuning...\n",
      "[I 2025-08-24 15:05:08,699] Trial 18 pruned. \n",
      "2025-08-24 15:05:08,700 - INFO - ModelTrainer - Starting model tuning...\n",
      "[I 2025-08-24 15:05:19,537] Trial 19 pruned. \n",
      "2025-08-24 15:05:19,538 - INFO - ModelTrainer - Starting model tuning...\n",
      "[I 2025-08-24 15:05:35,745] Trial 20 pruned. \n",
      "2025-08-24 15:05:35,745 - INFO - ModelTrainer - Starting model tuning...\n",
      "[I 2025-08-24 15:06:38,426] Trial 21 pruned. \n",
      "2025-08-24 15:06:38,426 - INFO - ModelTrainer - Starting model tuning...\n",
      "[I 2025-08-24 15:07:07,409] Trial 22 pruned. \n",
      "2025-08-24 15:07:07,409 - INFO - ModelTrainer - Starting model tuning...\n",
      "[I 2025-08-24 15:08:15,400] Trial 23 pruned. \n",
      "2025-08-24 15:08:15,401 - INFO - ModelTrainer - Starting model tuning...\n",
      "[I 2025-08-24 15:08:50,308] Trial 24 pruned. \n",
      "2025-08-24 15:08:50,309 - INFO - ModelTrainer - Starting model tuning...\n",
      "[I 2025-08-24 15:09:02,400] Trial 25 pruned. \n",
      "2025-08-24 15:09:02,401 - INFO - ModelTrainer - Starting model tuning...\n",
      "[I 2025-08-24 15:09:09,769] Trial 26 pruned. \n",
      "2025-08-24 15:09:09,770 - INFO - ModelTrainer - Starting model tuning...\n",
      "[I 2025-08-24 15:09:27,868] Trial 27 finished with value: 0.009389543782187667 and parameters: {'n_estimators': 500, 'learning_rate': 0.010242318938703103, 'max_depth': 3, 'subsample': 0.967496230344742, 'colsample_bytree': 0.8003072559450032, 'min_child_weight': 9.081740956687977, 'reg_alpha': 0.22122711070370474, 'reg_lambda': 3.6585778090214838, 'max_bin': 384, 'grow_policy': 'lossguide', 'max_leaves': 320}. Best is trial 27 with value: 0.009389543782187667.\n",
      "2025-08-24 15:09:27,869 - INFO - ModelTrainer - Starting model tuning...\n",
      "[I 2025-08-24 15:09:51,723] Trial 28 finished with value: 0.009518105312554696 and parameters: {'n_estimators': 700, 'learning_rate': 0.01314981250761057, 'max_depth': 3, 'subsample': 0.9158558903524459, 'colsample_bytree': 0.7668022557458023, 'min_child_weight': 6.140950886568256, 'reg_alpha': 0.49053916499510275, 'reg_lambda': 3.7995864955735317, 'max_bin': 448, 'grow_policy': 'depthwise'}. Best is trial 27 with value: 0.009389543782187667.\n",
      "2025-08-24 15:09:51,724 - INFO - ModelTrainer - Starting model tuning...\n",
      "[I 2025-08-24 15:09:59,312] Trial 29 pruned. \n",
      "2025-08-24 15:09:59,313 - INFO - ModelTrainer - Initialized ModelTrainer for model: xgboost\n",
      "2025-08-24 15:09:59,314 - INFO - ModelTrainer - Starting model training...\n",
      "2025-08-24 15:10:05,759 - INFO - ModelTrainer - Evaluating model...\n"
     ]
    }
   ],
   "execution_count": 5
  },
  {
   "metadata": {
    "ExecuteTime": {
     "end_time": "2025-08-24T13:10:06.425667Z",
     "start_time": "2025-08-24T13:10:06.200243Z"
    }
   },
   "cell_type": "code",
   "source": [
    "dates_next, actual_next, pred_next_by_model = prep_h1_overlay(df_full, results)\n",
    "plot_test_overlay_h1(\n",
    "    dates_next=dates_next,\n",
    "    actual_next=actual_next,\n",
    "    pred_next_by_model=pred_next_by_model,\n",
    "    path=Path(cfg.data.fig_dir) / \"xgboost_actual_vs_predicted_adj_close.png\",\n",
    ")"
   ],
   "id": "aa98efe9a477f85c",
   "outputs": [
    {
     "data": {
      "text/plain": [
       "<Figure size 1200x500 with 1 Axes>"
      ],
      "image/png": "[encoded data removed]"
     },
     "metadata": {},
     "output_type": "display_data"
    }
   ],
   "execution_count": 6
  },
  {
   "metadata": {
    "ExecuteTime": {
     "end_time": "2025-08-24T13:10:06.622386Z",
     "start_time": "2025-08-24T13:10:06.429171Z"
    }
   },
   "cell_type": "code",
   "source": [
    "hist_dates, hist_prices, fut_dates, actual_path, anchor_date, paths_by_model = prep_h_overlay(df_full, results, HORIZON)\n",
    "plot_forecast_next_h(\n",
    "    hist_dates=hist_dates,\n",
    "    hist_prices=hist_prices,\n",
    "    fut_dates=fut_dates,\n",
    "    forecast_paths_by_model=paths_by_model,\n",
    "    actual_path=actual_path,\n",
    "    anchor_date=anchor_date,\n",
    "    H=HORIZON,\n",
    "    path=Path(cfg.data.fig_dir) / \"xgboost_forecast.png\",\n",
    ")"
   ],
   "id": "846cfdeed5db8884",
   "outputs": [
    {
     "data": {
      "text/plain": [
       "<Figure size 1200x500 with 1 Axes>"
      ],
      "image/png": "[encoded data removed]"
     },
     "metadata": {},
     "output_type": "display_data"
    }
   ],
   "execution_count": 7
  },
  {
   "metadata": {
    "ExecuteTime": {
     "end_time": "2025-08-24T13:10:07.046069Z",
     "start_time": "2025-08-24T13:10:06.625389Z"
    }
   },
   "cell_type": "code",
   "source": [
    "plot_forecast_diagnostics(\n",
    "    fut_dates=fut_dates,\n",
    "    actual_path=actual_path,\n",
    "    forecast_paths_by_model=paths_by_model,\n",
    "    path=Path(cfg.data.fig_dir) / \"xgboost_forecast_diagnostics.png\",\n",
    ")"
   ],
   "id": "9cdb8006c832d18b",
   "outputs": [
    {
     "data": {
      "text/plain": [
       "<Figure size 1200x1000 with 3 Axes>"
      ],
      "image/png": "[encoded data removed]"
     },
     "metadata": {},
     "output_type": "display_data"
    }
   ],
   "execution_count": 8
  },
  {
   "metadata": {
    "ExecuteTime": {
     "end_time": "2025-08-24T13:10:07.056801Z",
     "start_time": "2025-08-24T13:10:07.049578Z"
    }
   },
   "cell_type": "code",
   "source": "pd.DataFrame(results[0][\"best_params\"], index=[0])",
   "id": "e9fc47bb21f47d58",
   "outputs": [
    {
     "data": {
      "text/plain": [
       "   n_estimators  learning_rate  max_depth  subsample  colsample_bytree  \\\n",
       "0           500       0.010242          3   0.967496          0.800307   \n",
       "\n",
       "   min_child_weight  reg_alpha  reg_lambda  early_stopping_rounds  max_bin  \\\n",
       "0          9.081741   0.221227    3.658578                    100      384   \n",
       "\n",
       "  grow_policy         objective tree_method  max_leaves  random_state  \n",
       "0   lossguide  reg:squarederror        hist         320            42  "
      ],
      "text/html": [
       "<div>\n",
       "<style scoped>\n",
       "    .dataframe tbody tr th:only-of-type {\n",
       "        vertical-align: middle;\n",
       "    }\n",
       "\n",
       "    .dataframe tbody tr th {\n",
       "        vertical-align: top;\n",
       "    }\n",
       "\n",
       "    .dataframe thead th {\n",
       "        text-align: right;\n",
       "    }\n",
       "</style>\n",
       "<table border=\"1\" class=\"dataframe\">\n",
       "  <thead>\n",
       "    <tr style=\"text-align: right;\">\n",
       "      <th></th>\n",
       "      <th>n_estimators</th>\n",
       "      <th>learning_rate</th>\n",
       "      <th>max_depth</th>\n",
       "      <th>subsample</th>\n",
       "      <th>colsample_bytree</th>\n",
       "      <th>min_child_weight</th>\n",
       "      <th>reg_alpha</th>\n",
       "      <th>reg_lambda</th>\n",
       "      <th>early_stopping_rounds</th>\n",
       "      <th>max_bin</th>\n",
       "      <th>grow_policy</th>\n",
       "      <th>objective</th>\n",
       "      <th>tree_method</th>\n",
       "      <th>max_leaves</th>\n",
       "      <th>random_state</th>\n",
       "    </tr>\n",
       "  </thead>\n",
       "  <tbody>\n",
       "    <tr>\n",
       "      <th>0</th>\n",
       "      <td>500</td>\n",
       "      <td>0.010242</td>\n",
       "      <td>3</td>\n",
       "      <td>0.967496</td>\n",
       "      <td>0.800307</td>\n",
       "      <td>9.081741</td>\n",
       "      <td>0.221227</td>\n",
       "      <td>3.658578</td>\n",
       "      <td>100</td>\n",
       "      <td>384</td>\n",
       "      <td>lossguide</td>\n",
       "      <td>reg:squarederror</td>\n",
       "      <td>hist</td>\n",
       "      <td>320</td>\n",
       "      <td>42</td>\n",
       "    </tr>\n",
       "  </tbody>\n",
       "</table>\n",
       "</div>"
      ]
     },
     "execution_count": 9,
     "metadata": {},
     "output_type": "execute_result"
    }
   ],
   "execution_count": 9
  },
  {
   "metadata": {
    "ExecuteTime": {
     "end_time": "2025-08-24T13:10:07.083596Z",
     "start_time": "2025-08-24T13:10:07.079033Z"
    }
   },
   "cell_type": "code",
   "source": "pd.DataFrame(results[0][\"metrics\"][\"test\"], index=[0])",
   "id": "99dd13ab3898375f",
   "outputs": [
    {
     "data": {
      "text/plain": [
       "        mae       mse      rmse     smape        r2\n",
       "0  0.007659  0.000102  0.010104  1.693694 -0.026938"
      ],
      "text/html": [
       "<div>\n",
       "<style scoped>\n",
       "    .dataframe tbody tr th:only-of-type {\n",
       "        vertical-align: middle;\n",
       "    }\n",
       "\n",
       "    .dataframe tbody tr th {\n",
       "        vertical-align: top;\n",
       "    }\n",
       "\n",
       "    .dataframe thead th {\n",
       "        text-align: right;\n",
       "    }\n",
       "</style>\n",
       "<table border=\"1\" class=\"dataframe\">\n",
       "  <thead>\n",
       "    <tr style=\"text-align: right;\">\n",
       "      <th></th>\n",
       "      <th>mae</th>\n",
       "      <th>mse</th>\n",
       "      <th>rmse</th>\n",
       "      <th>smape</th>\n",
       "      <th>r2</th>\n",
       "    </tr>\n",
       "  </thead>\n",
       "  <tbody>\n",
       "    <tr>\n",
       "      <th>0</th>\n",
       "      <td>0.007659</td>\n",
       "      <td>0.000102</td>\n",
       "      <td>0.010104</td>\n",
       "      <td>1.693694</td>\n",
       "      <td>-0.026938</td>\n",
       "    </tr>\n",
       "  </tbody>\n",
       "</table>\n",
       "</div>"
      ]
     },
     "execution_count": 10,
     "metadata": {},
     "output_type": "execute_result"
    }
   ],
   "execution_count": 10
  },
  {
   "metadata": {
    "ExecuteTime": {
     "end_time": "2025-08-24T13:10:09.138630Z",
     "start_time": "2025-08-24T13:10:07.156503Z"
    }
   },
   "cell_type": "code",
   "source": [
    "study = results[0][\"study\"]\n",
    "\n",
    "vis.plot_optimization_history(study).show()\n",
    "vis.plot_param_importances(study).show()\n",
    "vis.plot_slice(study).show()\n",
    "vis.plot_parallel_coordinate(study).show()\n",
    "vis.plot_contour(study).show()\n",
    "vis.plot_edf(study).show()"
   ],
   "id": "cf056c67359b817c",
   "outputs": [
    {
     "data": {
      "application/vnd.plotly.v1+json": {
       "data": [
        {
         "mode": "markers",
         "name": "Objective Value",
         "x": [
          0,
          5,
          27,
          28
         ],
         "y": [
          0.009857235888414055,
          0.009512199195325219,
          0.009389543782187667,
          0.009518105312554696
         ],
         "type": "scatter"
        },
        {
         "mode": "lines",
         "name": "Best Value",
         "x": [
          0,
          1,
          2,
          3,
          4,
          5,
          6,
          7,
          8,
          9,
          10,
          11,
          12,
          13,
          14,
          15,
          16,
          17,
          18,
          19,
          20,
          21,
          22,
          23,
          24,
          25,
          26,
          27,
          28,
          29
         ],
         "y": [
          0.009857235888414055,
          0.009857235888414055,
          0.009857235888414055,
          0.009857235888414055,
          0.009857235888414055,
          0.009512199195325219,
          0.009512199195325219,
          0.009512199195325219,
          0.009512199195325219,
          0.009512199195325219,
          0.009512199195325219,
          0.009512199195325219,
          0.009512199195325219,
          0.009512199195325219,
          0.009512199195325219,
          0.009512199195325219,
          0.009512199195325219,
          0.009512199195325219,
          0.009512199195325219,
          0.009512199195325219,
          0.009512199195325219,
          0.009512199195325219,
          0.009512199195325219,
          0.009512199195325219,
          0.009512199195325219,
          0.009512199195325219,
          0.009512199195325219,
          0.009389543782187667,
          0.009389543782187667,
          0.009389543782187667
         ],
         "type": "scatter"
        },
        {
         "marker": {
          "color": "#cccccc"
         },
         "mode": "markers",
         "name": "Infeasible Trial",
         "showlegend": false,
         "x": [],
         "y": [],
         "type": "scatter"
        }
       ],
       "layout": {
        "title": {
         "text": "Optimization History Plot"
        },
        "xaxis": {
         "title": {
          "text": "Trial"
         }
        },
        "yaxis": {
         "title": {
          "text": "Objective Value"
         }
        },
        "template": {
         "data": {
          "histogram2dcontour": [
           {
            "type": "histogram2dcontour",
            "colorbar": {
             "outlinewidth": 0,
             "ticks": ""
            },
            "colorscale": [
             [
              0.0,
              "#0d0887"
             ],
             [
              0.1111111111111111,
              "#46039f"
             ],
             [
              0.2222222222222222,
              "#7201a8"
             ],
             [
              0.3333333333333333,
              "#9c179e"
             ],
             [
              0.4444444444444444,
              "#bd3786"
             ],
             [
              0.5555555555555556,
              "#d8576b"
             ],
             [
              0.6666666666666666,
              "#ed7953"
             ],
             [
              0.7777777777777778,
              "#fb9f3a"
             ],
             [
              0.8888888888888888,
              "#fdca26"
             ],
             [
              1.0,
              "#f0f921"
             ]
            ]
           }
          ],
          "choropleth": [
           {
            "type": "choropleth",
            "colorbar": {
             "outlinewidth": 0,
             "ticks": ""
            }
           }
          ],
          "histogram2d": [
           {
            "type": "histogram2d",
            "colorbar": {
             "outlinewidth": 0,
             "ticks": ""
            },
            "colorscale": [
             [
              0.0,
              "#0d0887"
             ],
             [
              0.1111111111111111,
              "#46039f"
             ],
             [
              0.2222222222222222,
              "#7201a8"
             ],
             [
              0.3333333333333333,
              "#9c179e"
             ],
             [
              0.4444444444444444,
              "#bd3786"
             ],
             [
              0.5555555555555556,
              "#d8576b"
             ],
             [
              0.6666666666666666,
              "#ed7953"
             ],
             [
              0.7777777777777778,
              "#fb9f3a"
             ],
             [
              0.8888888888888888,
              "#fdca26"
             ],
             [
              1.0,
              "#f0f921"
             ]
            ]
           }
          ],
          "heatmap": [
           {
            "type": "heatmap",
            "colorbar": {
             "outlinewidth": 0,
             "ticks": ""
            },
            "colorscale": [
             [
              0.0,
              "#0d0887"
             ],
             [
              0.1111111111111111,
              "#46039f"
             ],
             [
              0.2222222222222222,
              "#7201a8"
             ],
             [
              0.3333333333333333,
              "#9c179e"
             ],
             [
              0.4444444444444444,
              "#bd3786"
             ],
             [
              0.5555555555555556,
              "#d8576b"
             ],
             [
              0.6666666666666666,
              "#ed7953"
             ],
             [
              0.7777777777777778,
              "#fb9f3a"
             ],
             [
              0.8888888888888888,
              "#fdca26"
             ],
             [
              1.0,
              "#f0f921"
             ]
            ]
           }
          ],
          "contourcarpet": [
           {
            "type": "contourcarpet",
            "colorbar": {
             "outlinewidth": 0,
             "ticks": ""
            }
           }
          ],
          "contour": [
           {
            "type": "contour",
            "colorbar": {
             "outlinewidth": 0,
             "ticks": ""
            },
            "colorscale": [
             [
              0.0,
              "#0d0887"
             ],
             [
              0.1111111111111111,
              "#46039f"
             ],
             [
              0.2222222222222222,
              "#7201a8"
             ],
             [
              0.3333333333333333,
              "#9c179e"
             ],
             [
              0.4444444444444444,
              "#bd3786"
             ],
             [
              0.5555555555555556,
              "#d8576b"
             ],
             [
              0.6666666666666666,
              "#ed7953"
             ],
             [
              0.7777777777777778,
              "#fb9f3a"
             ],
             [
              0.8888888888888888,
              "#fdca26"
             ],
             [
              1.0,
              "#f0f921"
             ]
            ]
           }
          ],
          "surface": [
           {
            "type": "surface",
            "colorbar": {
             "outlinewidth": 0,
             "ticks": ""
            },
            "colorscale": [
             [
              0.0,
              "#0d0887"
             ],
             [
              0.1111111111111111,
              "#46039f"
             ],
             [
              0.2222222222222222,
              "#7201a8"
             ],
             [
              0.3333333333333333,
              "#9c179e"
             ],
             [
              0.4444444444444444,
              "#bd3786"
             ],
             [
              0.5555555555555556,
              "#d8576b"
             ],
             [
              0.6666666666666666,
              "#ed7953"
             ],
             [
              0.7777777777777778,
              "#fb9f3a"
             ],
             [
              0.8888888888888888,
              "#fdca26"
             ],
             [
              1.0,
              "#f0f921"
             ]
            ]
           }
          ],
          "mesh3d": [
           {
            "type": "mesh3d",
            "colorbar": {
             "outlinewidth": 0,
             "ticks": ""
            }
           }
          ],
          "scatter": [
           {
            "fillpattern": {
             "fillmode": "overlay",
             "size": 10,
             "solidity": 0.2
            },
            "type": "scatter"
           }
          ],
          "parcoords": [
           {
            "type": "parcoords",
            "line": {
             "colorbar": {
              "outlinewidth": 0,
              "ticks": ""
             }
            }
           }
          ],
          "scatterpolargl": [
           {
            "type": "scatterpolargl",
            "marker": {
             "colorbar": {
              "outlinewidth": 0,
              "ticks": ""
             }
            }
           }
          ],
          "bar": [
           {
            "error_x": {
             "color": "#2a3f5f"
            },
            "error_y": {
             "color": "#2a3f5f"
            },
            "marker": {
             "line": {
              "color": "#E5ECF6",
              "width": 0.5
             },
             "pattern": {
              "fillmode": "overlay",
              "size": 10,
              "solidity": 0.2
             }
            },
            "type": "bar"
           }
          ],
          "scattergeo": [
           {
            "type": "scattergeo",
            "marker": {
             "colorbar": {
              "outlinewidth": 0,
              "ticks": ""
             }
            }
           }
          ],
          "scatterpolar": [
           {
            "type": "scatterpolar",
            "marker": {
             "colorbar": {
              "outlinewidth": 0,
              "ticks": ""
             }
            }
           }
          ],
          "histogram": [
           {
            "marker": {
             "pattern": {
              "fillmode": "overlay",
              "size": 10,
              "solidity": 0.2
             }
            },
            "type": "histogram"
           }
          ],
          "scattergl": [
           {
            "type": "scattergl",
            "marker": {
             "colorbar": {
              "outlinewidth": 0,
              "ticks": ""
             }
            }
           }
          ],
          "scatter3d": [
           {
            "type": "scatter3d",
            "line": {
             "colorbar": {
              "outlinewidth": 0,
              "ticks": ""
             }
            },
            "marker": {
             "colorbar": {
              "outlinewidth": 0,
              "ticks": ""
             }
            }
           }
          ],
          "scattermap": [
           {
            "type": "scattermap",
            "marker": {
             "colorbar": {
              "outlinewidth": 0,
              "ticks": ""
             }
            }
           }
          ],
          "scattermapbox": [
           {
            "type": "scattermapbox",
            "marker": {
             "colorbar": {
              "outlinewidth": 0,
              "ticks": ""
             }
            }
           }
          ],
          "scatterternary": [
           {
            "type": "scatterternary",
            "marker": {
             "colorbar": {
              "outlinewidth": 0,
              "ticks": ""
             }
            }
           }
          ],
          "scattercarpet": [
           {
            "type": "scattercarpet",
            "marker": {
             "colorbar": {
              "outlinewidth": 0,
              "ticks": ""
             }
            }
           }
          ],
          "carpet": [
           {
            "aaxis": {
             "endlinecolor": "#2a3f5f",
             "gridcolor": "white",
             "linecolor": "white",
             "minorgridcolor": "white",
             "startlinecolor": "#2a3f5f"
            },
            "baxis": {
             "endlinecolor": "#2a3f5f",
             "gridcolor": "white",
             "linecolor": "white",
             "minorgridcolor": "white",
             "startlinecolor": "#2a3f5f"
            },
            "type": "carpet"
           }
          ],
          "table": [
           {
            "cells": {
             "fill": {
              "color": "#EBF0F8"
             },
             "line": {
              "color": "white"
             }
            },
            "header": {
             "fill": {
              "color": "#C8D4E3"
             },
             "line": {
              "color": "white"
             }
            },
            "type": "table"
           }
          ],
          "barpolar": [
           {
            "marker": {
             "line": {
              "color": "#E5ECF6",
              "width": 0.5
             },
             "pattern": {
              "fillmode": "overlay",
              "size": 10,
              "solidity": 0.2
             }
            },
            "type": "barpolar"
           }
          ],
          "pie": [
           {
            "automargin": true,
            "type": "pie"
           }
          ]
         },
         "layout": {
          "autotypenumbers": "strict",
          "colorway": [
           "#636efa",
           "#EF553B",
           "#00cc96",
           "#ab63fa",
           "#FFA15A",
           "#19d3f3",
           "#FF6692",
           "#B6E880",
           "#FF97FF",
           "#FECB52"
          ],
          "font": {
           "color": "#2a3f5f"
          },
          "hovermode": "closest",
          "hoverlabel": {
           "align": "left"
          },
          "paper_bgcolor": "white",
          "plot_bgcolor": "#E5ECF6",
          "polar": {
           "bgcolor": "#E5ECF6",
           "angularaxis": {
            "gridcolor": "white",
            "linecolor": "white",
            "ticks": ""
           },
           "radialaxis": {
            "gridcolor": "white",
            "linecolor": "white",
            "ticks": ""
           }
          },
          "ternary": {
           "bgcolor": "#E5ECF6",
           "aaxis": {
            "gridcolor": "white",
            "linecolor": "white",
            "ticks": ""
           },
           "baxis": {
            "gridcolor": "white",
            "linecolor": "white",
            "ticks": ""
           },
           "caxis": {
            "gridcolor": "white",
            "linecolor": "white",
            "ticks": ""
           }
          },
          "coloraxis": {
           "colorbar": {
            "outlinewidth": 0,
            "ticks": ""
           }
          },
          "colorscale": {
           "sequential": [
            [
             0.0,
             "#0d0887"
            ],
            [
             0.1111111111111111,
             "#46039f"
            ],
            [
             0.2222222222222222,
             "#7201a8"
            ],
            [
             0.3333333333333333,
             "#9c179e"
            ],
            [
             0.4444444444444444,
             "#bd3786"
            ],
            [
             0.5555555555555556,
             "#d8576b"
            ],
            [
             0.6666666666666666,
             "#ed7953"
            ],
            [
             0.7777777777777778,
             "#fb9f3a"
            ],
            [
             0.8888888888888888,
             "#fdca26"
            ],
            [
             1.0,
             "#f0f921"
            ]
           ],
           "sequentialminus": [
            [
             0.0,
             "#0d0887"
            ],
            [
             0.1111111111111111,
             "#46039f"
            ],
            [
             0.2222222222222222,
             "#7201a8"
            ],
            [
             0.3333333333333333,
             "#9c179e"
            ],
            [
             0.4444444444444444,
             "#bd3786"
            ],
            [
             0.5555555555555556,
             "#d8576b"
            ],
            [
             0.6666666666666666,
             "#ed7953"
            ],
            [
             0.7777777777777778,
             "#fb9f3a"
            ],
            [
             0.8888888888888888,
             "#fdca26"
            ],
            [
             1.0,
             "#f0f921"
            ]
           ],
           "diverging": [
            [
             0,
             "#8e0152"
            ],
            [
             0.1,
             "#c51b7d"
            ],
            [
             0.2,
             "#de77ae"
            ],
            [
             0.3,
             "#f1b6da"
            ],
            [
             0.4,
             "#fde0ef"
            ],
            [
             0.5,
             "#f7f7f7"
            ],
            [
             0.6,
             "#e6f5d0"
            ],
            [
             0.7,
             "#b8e186"
            ],
            [
             0.8,
             "#7fbc41"
            ],
            [
             0.9,
             "#4d9221"
            ],
            [
             1,
             "#276419"
            ]
           ]
          },
          "xaxis": {
           "gridcolor": "white",
           "linecolor": "white",
           "ticks": "",
           "title": {
            "standoff": 15
           },
           "zerolinecolor": "white",
           "automargin": true,
           "zerolinewidth": 2
          },
          "yaxis": {
           "gridcolor": "white",
           "linecolor": "white",
           "ticks": "",
           "title": {
            "standoff": 15
           },
           "zerolinecolor": "white",
           "automargin": true,
           "zerolinewidth": 2
          },
          "scene": {
           "xaxis": {
            "backgroundcolor": "#E5ECF6",
            "gridcolor": "white",
            "linecolor": "white",
            "showbackground": true,
            "ticks": "",
            "zerolinecolor": "white",
            "gridwidth": 2
           },
           "yaxis": {
            "backgroundcolor": "#E5ECF6",
            "gridcolor": "white",
            "linecolor": "white",
            "showbackground": true,
            "ticks": "",
            "zerolinecolor": "white",
            "gridwidth": 2
           },
           "zaxis": {
            "backgroundcolor": "#E5ECF6",
            "gridcolor": "white",
            "linecolor": "white",
            "showbackground": true,
            "ticks": "",
            "zerolinecolor": "white",
            "gridwidth": 2
           }
          },
          "shapedefaults": {
           "line": {
            "color": "#2a3f5f"
           }
          },
          "annotationdefaults": {
           "arrowcolor": "#2a3f5f",
           "arrowhead": 0,
           "arrowwidth": 1
          },
          "geo": {
           "bgcolor": "white",
           "landcolor": "#E5ECF6",
           "subunitcolor": "white",
           "showland": true,
           "showlakes": true,
           "lakecolor": "white"
          },
          "title": {
           "x": 0.05
          },
          "mapbox": {
           "style": "light"
          }
         }
        }
       },
       "config": {
        "plotlyServerURL": "https://plot.ly"
       }
      }
     },
     "metadata": {},
     "output_type": "display_data"
    },
    {
     "data": {
      "application/vnd.plotly.v1+json": {
       "data": [
        {
         "cliponaxis": false,
         "hovertemplate": [
          "grow_policy (CategoricalDistribution): 0.0032247613088720786<extra></extra>",
          "max_bin (IntDistribution): 0.017178606930449536<extra></extra>",
          "n_estimators (IntDistribution): 0.03188874675470791<extra></extra>",
          "max_depth (IntDistribution): 0.04727243168313451<extra></extra>",
          "subsample (FloatDistribution): 0.09763914190583896<extra></extra>",
          "reg_alpha (FloatDistribution): 0.1416444105687655<extra></extra>",
          "reg_lambda (FloatDistribution): 0.156014416078457<extra></extra>",
          "colsample_bytree (FloatDistribution): 0.15772477158747053<extra></extra>",
          "min_child_weight (FloatDistribution): 0.15928978643917263<extra></extra>",
          "learning_rate (FloatDistribution): 0.18812292674313122<extra></extra>"
         ],
         "name": "Objective Value",
         "orientation": "h",
         "text": [
          "<0.01",
          "0.02",
          "0.03",
          "0.05",
          "0.10",
          "0.14",
          "0.16",
          "0.16",
          "0.16",
          "0.19"
         ],
         "textposition": "outside",
         "x": [
          0.0032247613088720786,
          0.017178606930449536,
          0.03188874675470791,
          0.04727243168313451,
          0.09763914190583896,
          0.1416444105687655,
          0.156014416078457,
          0.15772477158747053,
          0.15928978643917263,
          0.18812292674313122
         ],
         "y": [
          "grow_policy",
          "max_bin",
          "n_estimators",
          "max_depth",
          "subsample",
          "reg_alpha",
          "reg_lambda",
          "colsample_bytree",
          "min_child_weight",
          "learning_rate"
         ],
         "type": "bar"
        }
       ],
       "layout": {
        "title": {
         "text": "Hyperparameter Importances"
        },
        "xaxis": {
         "title": {
          "text": "Hyperparameter Importance"
         }
        },
        "yaxis": {
         "title": {
          "text": "Hyperparameter"
         }
        },
        "template": {
         "data": {
          "histogram2dcontour": [
           {
            "type": "histogram2dcontour",
            "colorbar": {
             "outlinewidth": 0,
             "ticks": ""
            },
            "colorscale": [
             [
              0.0,
              "#0d0887"
             ],
             [
              0.1111111111111111,
              "#46039f"
             ],
             [
              0.2222222222222222,
              "#7201a8"
             ],
             [
              0.3333333333333333,
              "#9c179e"
             ],
             [
              0.4444444444444444,
              "#bd3786"
             ],
             [
              0.5555555555555556,
              "#d8576b"
             ],
             [
              0.6666666666666666,
              "#ed7953"
             ],
             [
              0.7777777777777778,
              "#fb9f3a"
             ],
             [
              0.8888888888888888,
              "#fdca26"
             ],
             [
              1.0,
              "#f0f921"
             ]
            ]
           }
          ],
          "choropleth": [
           {
            "type": "choropleth",
            "colorbar": {
             "outlinewidth": 0,
             "ticks": ""
            }
           }
          ],
          "histogram2d": [
           {
            "type": "histogram2d",
            "colorbar": {
             "outlinewidth": 0,
             "ticks": ""
            },
            "colorscale": [
             [
              0.0,
              "#0d0887"
             ],
             [
              0.1111111111111111,
              "#46039f"
             ],
             [
              0.2222222222222222,
              "#7201a8"
             ],
             [
              0.3333333333333333,
              "#9c179e"
             ],
             [
              0.4444444444444444,
              "#bd3786"
             ],
             [
              0.5555555555555556,
              "#d8576b"
             ],
             [
              0.6666666666666666,
              "#ed7953"
             ],
             [
              0.7777777777777778,
              "#fb9f3a"
             ],
             [
              0.8888888888888888,
              "#fdca26"
             ],
             [
              1.0,
              "#f0f921"
             ]
            ]
           }
          ],
          "heatmap": [
           {
            "type": "heatmap",
            "colorbar": {
             "outlinewidth": 0,
             "ticks": ""
            },
            "colorscale": [
             [
              0.0,
              "#0d0887"
             ],
             [
              0.1111111111111111,
              "#46039f"
             ],
             [
              0.2222222222222222,
              "#7201a8"
             ],
             [
              0.3333333333333333,
              "#9c179e"
             ],
             [
              0.4444444444444444,
              "#bd3786"
             ],
             [
              0.5555555555555556,
              "#d8576b"
             ],
             [
              0.6666666666666666,
              "#ed7953"
             ],
             [
              0.7777777777777778,
              "#fb9f3a"
             ],
             [
              0.8888888888888888,
              "#fdca26"
             ],
             [
              1.0,
              "#f0f921"
             ]
            ]
           }
          ],
          "contourcarpet": [
           {
            "type": "contourcarpet",
            "colorbar": {
             "outlinewidth": 0,
             "ticks": ""
            }
           }
          ],
          "contour": [
           {
            "type": "contour",
            "colorbar": {
             "outlinewidth": 0,
             "ticks": ""
            },
            "colorscale": [
             [
              0.0,
              "#0d0887"
             ],
             [
              0.1111111111111111,
              "#46039f"
             ],
             [
              0.2222222222222222,
              "#7201a8"
             ],
             [
              0.3333333333333333,
              "#9c179e"
             ],
             [
              0.4444444444444444,
              "#bd3786"
             ],
             [
              0.5555555555555556,
              "#d8576b"
             ],
             [
              0.6666666666666666,
              "#ed7953"
             ],
             [
              0.7777777777777778,
              "#fb9f3a"
             ],
             [
              0.8888888888888888,
              "#fdca26"
             ],
             [
              1.0,
              "#f0f921"
             ]
            ]
           }
          ],
          "surface": [
           {
            "type": "surface",
            "colorbar": {
             "outlinewidth": 0,
             "ticks": ""
            },
            "colorscale": [
             [
              0.0,
              "#0d0887"
             ],
             [
              0.1111111111111111,
              "#46039f"
             ],
             [
              0.2222222222222222,
              "#7201a8"
             ],
             [
              0.3333333333333333,
              "#9c179e"
             ],
             [
              0.4444444444444444,
              "#bd3786"
             ],
             [
              0.5555555555555556,
              "#d8576b"
             ],
             [
              0.6666666666666666,
              "#ed7953"
             ],
             [
              0.7777777777777778,
              "#fb9f3a"
             ],
             [
              0.8888888888888888,
              "#fdca26"
             ],
             [
              1.0,
              "#f0f921"
             ]
            ]
           }
          ],
          "mesh3d": [
           {
            "type": "mesh3d",
            "colorbar": {
             "outlinewidth": 0,
             "ticks": ""
            }
           }
          ],
          "scatter": [
           {
            "fillpattern": {
             "fillmode": "overlay",
             "size": 10,
             "solidity": 0.2
            },
            "type": "scatter"
           }
          ],
          "parcoords": [
           {
            "type": "parcoords",
            "line": {
             "colorbar": {
              "outlinewidth": 0,
              "ticks": ""
             }
            }
           }
          ],
          "scatterpolargl": [
           {
            "type": "scatterpolargl",
            "marker": {
             "colorbar": {
              "outlinewidth": 0,
              "ticks": ""
             }
            }
           }
          ],
          "bar": [
           {
            "error_x": {
             "color": "#2a3f5f"
            },
            "error_y": {
             "color": "#2a3f5f"
            },
            "marker": {
             "line": {
              "color": "#E5ECF6",
              "width": 0.5
             },
             "pattern": {
              "fillmode": "overlay",
              "size": 10,
              "solidity": 0.2
             }
            },
            "type": "bar"
           }
          ],
          "scattergeo": [
           {
            "type": "scattergeo",
            "marker": {
             "colorbar": {
              "outlinewidth": 0,
              "ticks": ""
             }
            }
           }
          ],
          "scatterpolar": [
           {
            "type": "scatterpolar",
            "marker": {
             "colorbar": {
              "outlinewidth": 0,
              "ticks": ""
             }
            }
           }
          ],
          "histogram": [
           {
            "marker": {
             "pattern": {
              "fillmode": "overlay",
              "size": 10,
              "solidity": 0.2
             }
            },
            "type": "histogram"
           }
          ],
          "scattergl": [
           {
            "type": "scattergl",
            "marker": {
             "colorbar": {
              "outlinewidth": 0,
              "ticks": ""
             }
            }
           }
          ],
          "scatter3d": [
           {
            "type": "scatter3d",
            "line": {
             "colorbar": {
              "outlinewidth": 0,
              "ticks": ""
             }
            },
            "marker": {
             "colorbar": {
              "outlinewidth": 0,
              "ticks": ""
             }
            }
           }
          ],
          "scattermap": [
           {
            "type": "scattermap",
            "marker": {
             "colorbar": {
              "outlinewidth": 0,
              "ticks": ""
             }
            }
           }
          ],
          "scattermapbox": [
           {
            "type": "scattermapbox",
            "marker": {
             "colorbar": {
              "outlinewidth": 0,
              "ticks": ""
             }
            }
           }
          ],
          "scatterternary": [
           {
            "type": "scatterternary",
            "marker": {
             "colorbar": {
              "outlinewidth": 0,
              "ticks": ""
             }
            }
           }
          ],
          "scattercarpet": [
           {
            "type": "scattercarpet",
            "marker": {
             "colorbar": {
              "outlinewidth": 0,
              "ticks": ""
             }
            }
           }
          ],
          "carpet": [
           {
            "aaxis": {
             "endlinecolor": "#2a3f5f",
             "gridcolor": "white",
             "linecolor": "white",
             "minorgridcolor": "white",
             "startlinecolor": "#2a3f5f"
            },
            "baxis": {
             "endlinecolor": "#2a3f5f",
             "gridcolor": "white",
             "linecolor": "white",
             "minorgridcolor": "white",
             "startlinecolor": "#2a3f5f"
            },
            "type": "carpet"
           }
          ],
          "table": [
           {
            "cells": {
             "fill": {
              "color": "#EBF0F8"
             },
             "line": {
              "color": "white"
             }
            },
            "header": {
             "fill": {
              "color": "#C8D4E3"
             },
             "line": {
              "color": "white"
             }
            },
            "type": "table"
           }
          ],
          "barpolar": [
           {
            "marker": {
             "line": {
              "color": "#E5ECF6",
              "width": 0.5
             },
             "pattern": {
              "fillmode": "overlay",
              "size": 10,
              "solidity": 0.2
             }
            },
            "type": "barpolar"
           }
          ],
          "pie": [
           {
            "automargin": true,
            "type": "pie"
           }
          ]
         },
         "layout": {
          "autotypenumbers": "strict",
          "colorway": [
           "#636efa",
           "#EF553B",
           "#00cc96",
           "#ab63fa",
           "#FFA15A",
           "#19d3f3",
           "#FF6692",
           "#B6E880",
           "#FF97FF",
           "#FECB52"
          ],
          "font": {
           "color": "#2a3f5f"
          },
          "hovermode": "closest",
          "hoverlabel": {
           "align": "left"
          },
          "paper_bgcolor": "white",
          "plot_bgcolor": "#E5ECF6",
          "polar": {
           "bgcolor": "#E5ECF6",
           "angularaxis": {
            "gridcolor": "white",
            "linecolor": "white",
            "ticks": ""
           },
           "radialaxis": {
            "gridcolor": "white",
            "linecolor": "white",
            "ticks": ""
           }
          },
          "ternary": {
           "bgcolor": "#E5ECF6",
           "aaxis": {
            "gridcolor": "white",
            "linecolor": "white",
            "ticks": ""
           },
           "baxis": {
            "gridcolor": "white",
            "linecolor": "white",
            "ticks": ""
           },
           "caxis": {
            "gridcolor": "white",
            "linecolor": "white",
            "ticks": ""
           }
          },
          "coloraxis": {
           "colorbar": {
            "outlinewidth": 0,
            "ticks": ""
           }
          },
          "colorscale": {
           "sequential": [
            [
             0.0,
             "#0d0887"
            ],
            [
             0.1111111111111111,
             "#46039f"
            ],
            [
             0.2222222222222222,
             "#7201a8"
            ],
            [
             0.3333333333333333,
             "#9c179e"
            ],
            [
             0.4444444444444444,
             "#bd3786"
            ],
            [
             0.5555555555555556,
             "#d8576b"
            ],
            [
             0.6666666666666666,
             "#ed7953"
            ],
            [
             0.7777777777777778,
             "#fb9f3a"
            ],
            [
             0.8888888888888888,
             "#fdca26"
            ],
            [
             1.0,
             "#f0f921"
            ]
           ],
           "sequentialminus": [
            [
             0.0,
             "#0d0887"
            ],
            [
             0.1111111111111111,
             "#46039f"
            ],
            [
             0.2222222222222222,
             "#7201a8"
            ],
            [
             0.3333333333333333,
             "#9c179e"
            ],
            [
             0.4444444444444444,
             "#bd3786"
            ],
            [
             0.5555555555555556,
             "#d8576b"
            ],
            [
             0.6666666666666666,
             "#ed7953"
            ],
            [
             0.7777777777777778,
             "#fb9f3a"
            ],
            [
             0.8888888888888888,
             "#fdca26"
            ],
            [
             1.0,
             "#f0f921"
            ]
           ],
           "diverging": [
            [
             0,
             "#8e0152"
            ],
            [
             0.1,
             "#c51b7d"
            ],
            [
             0.2,
             "#de77ae"
            ],
            [
             0.3,
             "#f1b6da"
            ],
            [
             0.4,
             "#fde0ef"
            ],
            [
             0.5,
             "#f7f7f7"
            ],
            [
             0.6,
             "#e6f5d0"
            ],
            [
             0.7,
             "#b8e186"
            ],
            [
             0.8,
             "#7fbc41"
            ],
            [
             0.9,
             "#4d9221"
            ],
            [
             1,
             "#276419"
            ]
           ]
          },
          "xaxis": {
           "gridcolor": "white",
           "linecolor": "white",
           "ticks": "",
           "title": {
            "standoff": 15
           },
           "zerolinecolor": "white",
           "automargin": true,
           "zerolinewidth": 2
          },
          "yaxis": {
           "gridcolor": "white",
           "linecolor": "white",
           "ticks": "",
           "title": {
            "standoff": 15
           },
           "zerolinecolor": "white",
           "automargin": true,
           "zerolinewidth": 2
          },
          "scene": {
           "xaxis": {
            "backgroundcolor": "#E5ECF6",
            "gridcolor": "white",
            "linecolor": "white",
            "showbackground": true,
            "ticks": "",
            "zerolinecolor": "white",
            "gridwidth": 2
           },
           "yaxis": {
            "backgroundcolor": "#E5ECF6",
            "gridcolor": "white",
            "linecolor": "white",
            "showbackground": true,
            "ticks": "",
            "zerolinecolor": "white",
            "gridwidth": 2
           },
           "zaxis": {
            "backgroundcolor": "#E5ECF6",
            "gridcolor": "white",
            "linecolor": "white",
            "showbackground": true,
            "ticks": "",
            "zerolinecolor": "white",
            "gridwidth": 2
           }
          },
          "shapedefaults": {
           "line": {
            "color": "#2a3f5f"
           }
          },
          "annotationdefaults": {
           "arrowcolor": "#2a3f5f",
           "arrowhead": 0,
           "arrowwidth": 1
          },
          "geo": {
           "bgcolor": "white",
           "landcolor": "#E5ECF6",
           "subunitcolor": "white",
           "showland": true,
           "showlakes": true,
           "lakecolor": "white"
          },
          "title": {
           "x": 0.05
          },
          "mapbox": {
           "style": "light"
          }
         }
        }
       },
       "config": {
        "plotlyServerURL": "https://plot.ly"
       }
      }
     },
     "metadata": {},
     "output_type": "display_data"
    },
    {
     "data": {
      "application/vnd.plotly.v1+json": {
       "data": [
        {
         "marker": {
          "color": [
           0,
           5,
           27,
           28
          ],
          "colorbar": {
           "title": {
            "text": "Trial"
           },
           "x": 1.0,
           "xpad": 40
          },
          "colorscale": [
           [
            0.0,
            "rgb(247,251,255)"
           ],
           [
            0.125,
            "rgb(222,235,247)"
           ],
           [
            0.25,
            "rgb(198,219,239)"
           ],
           [
            0.375,
            "rgb(158,202,225)"
           ],
           [
            0.5,
            "rgb(107,174,214)"
           ],
           [
            0.625,
            "rgb(66,146,198)"
           ],
           [
            0.75,
            "rgb(33,113,181)"
           ],
           [
            0.875,
            "rgb(8,81,156)"
           ],
           [
            1.0,
            "rgb(8,48,107)"
           ]
          ],
          "line": {
           "color": "Grey",
           "width": 0.5
          },
          "showscale": true
         },
         "mode": "markers",
         "name": "Feasible Trial",
         "showlegend": false,
         "x": [
          0.7468055921327309,
          0.7814047095321688,
          0.8003072559450032,
          0.7668022557458023
         ],
         "y": [
          0.009857235888414055,
          0.009512199195325219,
          0.009389543782187667,
          0.009518105312554696
         ],
         "type": "scatter",
         "xaxis": "x",
         "yaxis": "y"
        },
        {
         "marker": {
          "color": [
           0,
           5,
           27,
           28
          ],
          "colorbar": {
           "title": {
            "text": "Trial"
           },
           "x": 1.0,
           "xpad": 40
          },
          "colorscale": [
           [
            0.0,
            "rgb(247,251,255)"
           ],
           [
            0.125,
            "rgb(222,235,247)"
           ],
           [
            0.25,
            "rgb(198,219,239)"
           ],
           [
            0.375,
            "rgb(158,202,225)"
           ],
           [
            0.5,
            "rgb(107,174,214)"
           ],
           [
            0.625,
            "rgb(66,146,198)"
           ],
           [
            0.75,
            "rgb(33,113,181)"
           ],
           [
            0.875,
            "rgb(8,81,156)"
           ],
           [
            1.0,
            "rgb(8,48,107)"
           ]
          ],
          "line": {
           "color": "Grey",
           "width": 0.5
          },
          "showscale": false
         },
         "mode": "markers",
         "name": "Feasible Trial",
         "showlegend": false,
         "x": [
          "depthwise",
          "lossguide",
          "lossguide",
          "depthwise"
         ],
         "y": [
          0.009857235888414055,
          0.009512199195325219,
          0.009389543782187667,
          0.009518105312554696
         ],
         "type": "scatter",
         "xaxis": "x2",
         "yaxis": "y2"
        },
        {
         "marker": {
          "color": [
           0,
           5,
           27,
           28
          ],
          "colorbar": {
           "title": {
            "text": "Trial"
           },
           "x": 1.0,
           "xpad": 40
          },
          "colorscale": [
           [
            0.0,
            "rgb(247,251,255)"
           ],
           [
            0.125,
            "rgb(222,235,247)"
           ],
           [
            0.25,
            "rgb(198,219,239)"
           ],
           [
            0.375,
            "rgb(158,202,225)"
           ],
           [
            0.5,
            "rgb(107,174,214)"
           ],
           [
            0.625,
            "rgb(66,146,198)"
           ],
           [
            0.75,
            "rgb(33,113,181)"
           ],
           [
            0.875,
            "rgb(8,81,156)"
           ],
           [
            1.0,
            "rgb(8,48,107)"
           ]
          ],
          "line": {
           "color": "Grey",
           "width": 0.5
          },
          "showscale": false
         },
         "mode": "markers",
         "name": "Feasible Trial",
         "showlegend": false,
         "x": [
          0.08927180304353628,
          0.011097554561103107,
          0.010242318938703103,
          0.01314981250761057
         ],
         "y": [
          0.009857235888414055,
          0.009512199195325219,
          0.009389543782187667,
          0.009518105312554696
         ],
         "type": "scatter",
         "xaxis": "x3",
         "yaxis": "y3"
        },
        {
         "marker": {
          "color": [
           0,
           5,
           27,
           28
          ],
          "colorbar": {
           "title": {
            "text": "Trial"
           },
           "x": 1.0,
           "xpad": 40
          },
          "colorscale": [
           [
            0.0,
            "rgb(247,251,255)"
           ],
           [
            0.125,
            "rgb(222,235,247)"
           ],
           [
            0.25,
            "rgb(198,219,239)"
           ],
           [
            0.375,
            "rgb(158,202,225)"
           ],
           [
            0.5,
            "rgb(107,174,214)"
           ],
           [
            0.625,
            "rgb(66,146,198)"
           ],
           [
            0.75,
            "rgb(33,113,181)"
           ],
           [
            0.875,
            "rgb(8,81,156)"
           ],
           [
            1.0,
            "rgb(8,48,107)"
           ]
          ],
          "line": {
           "color": "Grey",
           "width": 0.5
          },
          "showscale": false
         },
         "mode": "markers",
         "name": "Feasible Trial",
         "showlegend": false,
         "x": [
          384,
          320,
          384,
          448
         ],
         "y": [
          0.009857235888414055,
          0.009512199195325219,
          0.009389543782187667,
          0.009518105312554696
         ],
         "type": "scatter",
         "xaxis": "x4",
         "yaxis": "y4"
        },
        {
         "marker": {
          "color": [
           0,
           5,
           27,
           28
          ],
          "colorbar": {
           "title": {
            "text": "Trial"
           },
           "x": 1.0,
           "xpad": 40
          },
          "colorscale": [
           [
            0.0,
            "rgb(247,251,255)"
           ],
           [
            0.125,
            "rgb(222,235,247)"
           ],
           [
            0.25,
            "rgb(198,219,239)"
           ],
           [
            0.375,
            "rgb(158,202,225)"
           ],
           [
            0.5,
            "rgb(107,174,214)"
           ],
           [
            0.625,
            "rgb(66,146,198)"
           ],
           [
            0.75,
            "rgb(33,113,181)"
           ],
           [
            0.875,
            "rgb(8,81,156)"
           ],
           [
            1.0,
            "rgb(8,48,107)"
           ]
          ],
          "line": {
           "color": "Grey",
           "width": 0.5
          },
          "showscale": false
         },
         "mode": "markers",
         "name": "Feasible Trial",
         "showlegend": false,
         "x": [
          8,
          5,
          3,
          3
         ],
         "y": [
          0.009857235888414055,
          0.009512199195325219,
          0.009389543782187667,
          0.009518105312554696
         ],
         "type": "scatter",
         "xaxis": "x5",
         "yaxis": "y5"
        },
        {
         "marker": {
          "color": [
           5,
           27
          ],
          "colorbar": {
           "title": {
            "text": "Trial"
           },
           "x": 1.0,
           "xpad": 40
          },
          "colorscale": [
           [
            0.0,
            "rgb(247,251,255)"
           ],
           [
            0.125,
            "rgb(222,235,247)"
           ],
           [
            0.25,
            "rgb(198,219,239)"
           ],
           [
            0.375,
            "rgb(158,202,225)"
           ],
           [
            0.5,
            "rgb(107,174,214)"
           ],
           [
            0.625,
            "rgb(66,146,198)"
           ],
           [
            0.75,
            "rgb(33,113,181)"
           ],
           [
            0.875,
            "rgb(8,81,156)"
           ],
           [
            1.0,
            "rgb(8,48,107)"
           ]
          ],
          "line": {
           "color": "Grey",
           "width": 0.5
          },
          "showscale": false
         },
         "mode": "markers",
         "name": "Feasible Trial",
         "showlegend": false,
         "x": [
          64,
          320
         ],
         "y": [
          0.009512199195325219,
          0.009389543782187667
         ],
         "type": "scatter",
         "xaxis": "x6",
         "yaxis": "y6"
        },
        {
         "marker": {
          "color": [
           0,
           5,
           27,
           28
          ],
          "colorbar": {
           "title": {
            "text": "Trial"
           },
           "x": 1.0,
           "xpad": 40
          },
          "colorscale": [
           [
            0.0,
            "rgb(247,251,255)"
           ],
           [
            0.125,
            "rgb(222,235,247)"
           ],
           [
            0.25,
            "rgb(198,219,239)"
           ],
           [
            0.375,
            "rgb(158,202,225)"
           ],
           [
            0.5,
            "rgb(107,174,214)"
           ],
           [
            0.625,
            "rgb(66,146,198)"
           ],
           [
            0.75,
            "rgb(33,113,181)"
           ],
           [
            0.875,
            "rgb(8,81,156)"
           ],
           [
            1.0,
            "rgb(8,48,107)"
           ]
          ],
          "line": {
           "color": "Grey",
           "width": 0.5
          },
          "showscale": false
         },
         "mode": "markers",
         "name": "Feasible Trial",
         "showlegend": false,
         "x": [
          1.981947943193925,
          8.373006336943329,
          9.081740956687977,
          6.140950886568256
         ],
         "y": [
          0.009857235888414055,
          0.009512199195325219,
          0.009389543782187667,
          0.009518105312554696
         ],
         "type": "scatter",
         "xaxis": "x7",
         "yaxis": "y7"
        },
        {
         "marker": {
          "color": [
           0,
           5,
           27,
           28
          ],
          "colorbar": {
           "title": {
            "text": "Trial"
           },
           "x": 1.0,
           "xpad": 40
          },
          "colorscale": [
           [
            0.0,
            "rgb(247,251,255)"
           ],
           [
            0.125,
            "rgb(222,235,247)"
           ],
           [
            0.25,
            "rgb(198,219,239)"
           ],
           [
            0.375,
            "rgb(158,202,225)"
           ],
           [
            0.5,
            "rgb(107,174,214)"
           ],
           [
            0.625,
            "rgb(66,146,198)"
           ],
           [
            0.75,
            "rgb(33,113,181)"
           ],
           [
            0.875,
            "rgb(8,81,156)"
           ],
           [
            1.0,
            "rgb(8,48,107)"
           ]
          ],
          "line": {
           "color": "Grey",
           "width": 0.5
          },
          "showscale": false
         },
         "mode": "markers",
         "name": "Feasible Trial",
         "showlegend": false,
         "x": [
          700,
          500,
          500,
          700
         ],
         "y": [
          0.009857235888414055,
          0.009512199195325219,
          0.009389543782187667,
          0.009518105312554696
         ],
         "type": "scatter",
         "xaxis": "x8",
         "yaxis": "y8"
        },
        {
         "marker": {
          "color": [
           0,
           5,
           27,
           28
          ],
          "colorbar": {
           "title": {
            "text": "Trial"
           },
           "x": 1.0,
           "xpad": 40
          },
          "colorscale": [
           [
            0.0,
            "rgb(247,251,255)"
           ],
           [
            0.125,
            "rgb(222,235,247)"
           ],
           [
            0.25,
            "rgb(198,219,239)"
           ],
           [
            0.375,
            "rgb(158,202,225)"
           ],
           [
            0.5,
            "rgb(107,174,214)"
           ],
           [
            0.625,
            "rgb(66,146,198)"
           ],
           [
            0.75,
            "rgb(33,113,181)"
           ],
           [
            0.875,
            "rgb(8,81,156)"
           ],
           [
            1.0,
            "rgb(8,48,107)"
           ]
          ],
          "line": {
           "color": "Grey",
           "width": 0.5
          },
          "showscale": false
         },
         "mode": "markers",
         "name": "Feasible Trial",
         "showlegend": false,
         "x": [
          0.05808361216819946,
          0.3567533266935893,
          0.22122711070370474,
          0.49053916499510275
         ],
         "y": [
          0.009857235888414055,
          0.009512199195325219,
          0.009389543782187667,
          0.009518105312554696
         ],
         "type": "scatter",
         "xaxis": "x9",
         "yaxis": "y9"
        },
        {
         "marker": {
          "color": [
           0,
           5,
           27,
           28
          ],
          "colorbar": {
           "title": {
            "text": "Trial"
           },
           "x": 1.0,
           "xpad": 40
          },
          "colorscale": [
           [
            0.0,
            "rgb(247,251,255)"
           ],
           [
            0.125,
            "rgb(222,235,247)"
           ],
           [
            0.25,
            "rgb(198,219,239)"
           ],
           [
            0.375,
            "rgb(158,202,225)"
           ],
           [
            0.5,
            "rgb(107,174,214)"
           ],
           [
            0.625,
            "rgb(66,146,198)"
           ],
           [
            0.75,
            "rgb(33,113,181)"
           ],
           [
            0.875,
            "rgb(8,81,156)"
           ],
           [
            1.0,
            "rgb(8,48,107)"
           ]
          ],
          "line": {
           "color": "Grey",
           "width": 0.5
          },
          "showscale": false
         },
         "mode": "markers",
         "name": "Feasible Trial",
         "showlegend": false,
         "x": [
          4.344263114297182,
          1.4765790974681658,
          3.6585778090214838,
          3.7995864955735317
         ],
         "y": [
          0.009857235888414055,
          0.009512199195325219,
          0.009389543782187667,
          0.009518105312554696
         ],
         "type": "scatter",
         "xaxis": "x10",
         "yaxis": "y10"
        },
        {
         "marker": {
          "color": [
           0,
           5,
           27,
           28
          ],
          "colorbar": {
           "title": {
            "text": "Trial"
           },
           "x": 1.0,
           "xpad": 40
          },
          "colorscale": [
           [
            0.0,
            "rgb(247,251,255)"
           ],
           [
            0.125,
            "rgb(222,235,247)"
           ],
           [
            0.25,
            "rgb(198,219,239)"
           ],
           [
            0.375,
            "rgb(158,202,225)"
           ],
           [
            0.5,
            "rgb(107,174,214)"
           ],
           [
            0.625,
            "rgb(66,146,198)"
           ],
           [
            0.75,
            "rgb(33,113,181)"
           ],
           [
            0.875,
            "rgb(8,81,156)"
           ],
           [
            1.0,
            "rgb(8,48,107)"
           ]
          ],
          "line": {
           "color": "Grey",
           "width": 0.5
          },
          "showscale": false
         },
         "mode": "markers",
         "name": "Feasible Trial",
         "showlegend": false,
         "x": [
          0.8795975452591109,
          0.8166031869068446,
          0.967496230344742,
          0.9158558903524459
         ],
         "y": [
          0.009857235888414055,
          0.009512199195325219,
          0.009389543782187667,
          0.009518105312554696
         ],
         "type": "scatter",
         "xaxis": "x11",
         "yaxis": "y11"
        }
       ],
       "layout": {
        "template": {
         "data": {
          "histogram2dcontour": [
           {
            "type": "histogram2dcontour",
            "colorbar": {
             "outlinewidth": 0,
             "ticks": ""
            },
            "colorscale": [
             [
              0.0,
              "#0d0887"
             ],
             [
              0.1111111111111111,
              "#46039f"
             ],
             [
              0.2222222222222222,
              "#7201a8"
             ],
             [
              0.3333333333333333,
              "#9c179e"
             ],
             [
              0.4444444444444444,
              "#bd3786"
             ],
             [
              0.5555555555555556,
              "#d8576b"
             ],
             [
              0.6666666666666666,
              "#ed7953"
             ],
             [
              0.7777777777777778,
              "#fb9f3a"
             ],
             [
              0.8888888888888888,
              "#fdca26"
             ],
             [
              1.0,
              "#f0f921"
             ]
            ]
           }
          ],
          "choropleth": [
           {
            "type": "choropleth",
            "colorbar": {
             "outlinewidth": 0,
             "ticks": ""
            }
           }
          ],
          "histogram2d": [
           {
            "type": "histogram2d",
            "colorbar": {
             "outlinewidth": 0,
             "ticks": ""
            },
            "colorscale": [
             [
              0.0,
              "#0d0887"
             ],
             [
              0.1111111111111111,
              "#46039f"
             ],
             [
              0.2222222222222222,
              "#7201a8"
             ],
             [
              0.3333333333333333,
              "#9c179e"
             ],
             [
              0.4444444444444444,
              "#bd3786"
             ],
             [
              0.5555555555555556,
              "#d8576b"
             ],
             [
              0.6666666666666666,
              "#ed7953"
             ],
             [
              0.7777777777777778,
              "#fb9f3a"
             ],
             [
              0.8888888888888888,
              "#fdca26"
             ],
             [
              1.0,
              "#f0f921"
             ]
            ]
           }
          ],
          "heatmap": [
           {
            "type": "heatmap",
            "colorbar": {
             "outlinewidth": 0,
             "ticks": ""
            },
            "colorscale": [
             [
              0.0,
              "#0d0887"
             ],
             [
              0.1111111111111111,
              "#46039f"
             ],
             [
              0.2222222222222222,
              "#7201a8"
             ],
             [
              0.3333333333333333,
              "#9c179e"
             ],
             [
              0.4444444444444444,
              "#bd3786"
             ],
             [
              0.5555555555555556,
              "#d8576b"
             ],
             [
              0.6666666666666666,
              "#ed7953"
             ],
             [
              0.7777777777777778,
              "#fb9f3a"
             ],
             [
              0.8888888888888888,
              "#fdca26"
             ],
             [
              1.0,
              "#f0f921"
             ]
            ]
           }
          ],
          "contourcarpet": [
           {
            "type": "contourcarpet",
            "colorbar": {
             "outlinewidth": 0,
             "ticks": ""
            }
           }
          ],
          "contour": [
           {
            "type": "contour",
            "colorbar": {
             "outlinewidth": 0,
             "ticks": ""
            },
            "colorscale": [
             [
              0.0,
              "#0d0887"
             ],
             [
              0.1111111111111111,
              "#46039f"
             ],
             [
              0.2222222222222222,
              "#7201a8"
             ],
             [
              0.3333333333333333,
              "#9c179e"
             ],
             [
              0.4444444444444444,
              "#bd3786"
             ],
             [
              0.5555555555555556,
              "#d8576b"
             ],
             [
              0.6666666666666666,
              "#ed7953"
             ],
             [
              0.7777777777777778,
              "#fb9f3a"
             ],
             [
              0.8888888888888888,
              "#fdca26"
             ],
             [
              1.0,
              "#f0f921"
             ]
            ]
           }
          ],
          "surface": [
           {
            "type": "surface",
            "colorbar": {
             "outlinewidth": 0,
             "ticks": ""
            },
            "colorscale": [
             [
              0.0,
              "#0d0887"
             ],
             [
              0.1111111111111111,
              "#46039f"
             ],
             [
              0.2222222222222222,
              "#7201a8"
             ],
             [
              0.3333333333333333,
              "#9c179e"
             ],
             [
              0.4444444444444444,
              "#bd3786"
             ],
             [
              0.5555555555555556,
              "#d8576b"
             ],
             [
              0.6666666666666666,
              "#ed7953"
             ],
             [
              0.7777777777777778,
              "#fb9f3a"
             ],
             [
              0.8888888888888888,
              "#fdca26"
             ],
             [
              1.0,
              "#f0f921"
             ]
            ]
           }
          ],
          "mesh3d": [
           {
            "type": "mesh3d",
            "colorbar": {
             "outlinewidth": 0,
             "ticks": ""
            }
           }
          ],
          "scatter": [
           {
            "fillpattern": {
             "fillmode": "overlay",
             "size": 10,
             "solidity": 0.2
            },
            "type": "scatter"
           }
          ],
          "parcoords": [
           {
            "type": "parcoords",
            "line": {
             "colorbar": {
              "outlinewidth": 0,
              "ticks": ""
             }
            }
           }
          ],
          "scatterpolargl": [
           {
            "type": "scatterpolargl",
            "marker": {
             "colorbar": {
              "outlinewidth": 0,
              "ticks": ""
             }
            }
           }
          ],
          "bar": [
           {
            "error_x": {
             "color": "#2a3f5f"
            },
            "error_y": {
             "color": "#2a3f5f"
            },
            "marker": {
             "line": {
              "color": "#E5ECF6",
              "width": 0.5
             },
             "pattern": {
              "fillmode": "overlay",
              "size": 10,
              "solidity": 0.2
             }
            },
            "type": "bar"
           }
          ],
          "scattergeo": [
           {
            "type": "scattergeo",
            "marker": {
             "colorbar": {
              "outlinewidth": 0,
              "ticks": ""
             }
            }
           }
          ],
          "scatterpolar": [
           {
            "type": "scatterpolar",
            "marker": {
             "colorbar": {
              "outlinewidth": 0,
              "ticks": ""
             }
            }
           }
          ],
          "histogram": [
           {
            "marker": {
             "pattern": {
              "fillmode": "overlay",
              "size": 10,
              "solidity": 0.2
             }
            },
            "type": "histogram"
           }
          ],
          "scattergl": [
           {
            "type": "scattergl",
            "marker": {
             "colorbar": {
              "outlinewidth": 0,
              "ticks": ""
             }
            }
           }
          ],
          "scatter3d": [
           {
            "type": "scatter3d",
            "line": {
             "colorbar": {
              "outlinewidth": 0,
              "ticks": ""
             }
            },
            "marker": {
             "colorbar": {
              "outlinewidth": 0,
              "ticks": ""
             }
            }
           }
          ],
          "scattermap": [
           {
            "type": "scattermap",
            "marker": {
             "colorbar": {
              "outlinewidth": 0,
              "ticks": ""
             }
            }
           }
          ],
          "scattermapbox": [
           {
            "type": "scattermapbox",
            "marker": {
             "colorbar": {
              "outlinewidth": 0,
              "ticks": ""
             }
            }
           }
          ],
          "scatterternary": [
           {
            "type": "scatterternary",
            "marker": {
             "colorbar": {
              "outlinewidth": 0,
              "ticks": ""
             }
            }
           }
          ],
          "scattercarpet": [
           {
            "type": "scattercarpet",
            "marker": {
             "colorbar": {
              "outlinewidth": 0,
              "ticks": ""
             }
            }
           }
          ],
          "carpet": [
           {
            "aaxis": {
             "endlinecolor": "#2a3f5f",
             "gridcolor": "white",
             "linecolor": "white",
             "minorgridcolor": "white",
             "startlinecolor": "#2a3f5f"
            },
            "baxis": {
             "endlinecolor": "#2a3f5f",
             "gridcolor": "white",
             "linecolor": "white",
             "minorgridcolor": "white",
             "startlinecolor": "#2a3f5f"
            },
            "type": "carpet"
           }
          ],
          "table": [
           {
            "cells": {
             "fill": {
              "color": "#EBF0F8"
             },
             "line": {
              "color": "white"
             }
            },
            "header": {
             "fill": {
              "color": "#C8D4E3"
             },
             "line": {
              "color": "white"
             }
            },
            "type": "table"
           }
          ],
          "barpolar": [
           {
            "marker": {
             "line": {
              "color": "#E5ECF6",
              "width": 0.5
             },
             "pattern": {
              "fillmode": "overlay",
              "size": 10,
              "solidity": 0.2
             }
            },
            "type": "barpolar"
           }
          ],
          "pie": [
           {
            "automargin": true,
            "type": "pie"
           }
          ]
         },
         "layout": {
          "autotypenumbers": "strict",
          "colorway": [
           "#636efa",
           "#EF553B",
           "#00cc96",
           "#ab63fa",
           "#FFA15A",
           "#19d3f3",
           "#FF6692",
           "#B6E880",
           "#FF97FF",
           "#FECB52"
          ],
          "font": {
           "color": "#2a3f5f"
          },
          "hovermode": "closest",
          "hoverlabel": {
           "align": "left"
          },
          "paper_bgcolor": "white",
          "plot_bgcolor": "#E5ECF6",
          "polar": {
           "bgcolor": "#E5ECF6",
           "angularaxis": {
            "gridcolor": "white",
            "linecolor": "white",
            "ticks": ""
           },
           "radialaxis": {
            "gridcolor": "white",
            "linecolor": "white",
            "ticks": ""
           }
          },
          "ternary": {
           "bgcolor": "#E5ECF6",
           "aaxis": {
            "gridcolor": "white",
            "linecolor": "white",
            "ticks": ""
           },
           "baxis": {
            "gridcolor": "white",
            "linecolor": "white",
            "ticks": ""
           },
           "caxis": {
            "gridcolor": "white",
            "linecolor": "white",
            "ticks": ""
           }
          },
          "coloraxis": {
           "colorbar": {
            "outlinewidth": 0,
            "ticks": ""
           }
          },
          "colorscale": {
           "sequential": [
            [
             0.0,
             "#0d0887"
            ],
            [
             0.1111111111111111,
             "#46039f"
            ],
            [
             0.2222222222222222,
             "#7201a8"
            ],
            [
             0.3333333333333333,
             "#9c179e"
            ],
            [
             0.4444444444444444,
             "#bd3786"
            ],
            [
             0.5555555555555556,
             "#d8576b"
            ],
            [
             0.6666666666666666,
             "#ed7953"
            ],
            [
             0.7777777777777778,
             "#fb9f3a"
            ],
            [
             0.8888888888888888,
             "#fdca26"
            ],
            [
             1.0,
             "#f0f921"
            ]
           ],
           "sequentialminus": [
            [
             0.0,
             "#0d0887"
            ],
            [
             0.1111111111111111,
             "#46039f"
            ],
            [
             0.2222222222222222,
             "#7201a8"
            ],
            [
             0.3333333333333333,
             "#9c179e"
            ],
            [
             0.4444444444444444,
             "#bd3786"
            ],
            [
             0.5555555555555556,
             "#d8576b"
            ],
            [
             0.6666666666666666,
             "#ed7953"
            ],
            [
             0.7777777777777778,
             "#fb9f3a"
            ],
            [
             0.8888888888888888,
             "#fdca26"
            ],
            [
             1.0,
             "#f0f921"
            ]
           ],
           "diverging": [
            [
             0,
             "#8e0152"
            ],
            [
             0.1,
             "#c51b7d"
            ],
            [
             0.2,
             "#de77ae"
            ],
            [
             0.3,
             "#f1b6da"
            ],
            [
             0.4,
             "#fde0ef"
            ],
            [
             0.5,
             "#f7f7f7"
            ],
            [
             0.6,
             "#e6f5d0"
            ],
            [
             0.7,
             "#b8e186"
            ],
            [
             0.8,
             "#7fbc41"
            ],
            [
             0.9,
             "#4d9221"
            ],
            [
             1,
             "#276419"
            ]
           ]
          },
          "xaxis": {
           "gridcolor": "white",
           "linecolor": "white",
           "ticks": "",
           "title": {
            "standoff": 15
           },
           "zerolinecolor": "white",
           "automargin": true,
           "zerolinewidth": 2
          },
          "yaxis": {
           "gridcolor": "white",
           "linecolor": "white",
           "ticks": "",
           "title": {
            "standoff": 15
           },
           "zerolinecolor": "white",
           "automargin": true,
           "zerolinewidth": 2
          },
          "scene": {
           "xaxis": {
            "backgroundcolor": "#E5ECF6",
            "gridcolor": "white",
            "linecolor": "white",
            "showbackground": true,
            "ticks": "",
            "zerolinecolor": "white",
            "gridwidth": 2
           },
           "yaxis": {
            "backgroundcolor": "#E5ECF6",
            "gridcolor": "white",
            "linecolor": "white",
            "showbackground": true,
            "ticks": "",
            "zerolinecolor": "white",
            "gridwidth": 2
           },
           "zaxis": {
            "backgroundcolor": "#E5ECF6",
            "gridcolor": "white",
            "linecolor": "white",
            "showbackground": true,
            "ticks": "",
            "zerolinecolor": "white",
            "gridwidth": 2
           }
          },
          "shapedefaults": {
           "line": {
            "color": "#2a3f5f"
           }
          },
          "annotationdefaults": {
           "arrowcolor": "#2a3f5f",
           "arrowhead": 0,
           "arrowwidth": 1
          },
          "geo": {
           "bgcolor": "white",
           "landcolor": "#E5ECF6",
           "subunitcolor": "white",
           "showland": true,
           "showlakes": true,
           "lakecolor": "white"
          },
          "title": {
           "x": 0.05
          },
          "mapbox": {
           "style": "light"
          }
         }
        },
        "xaxis": {
         "anchor": "y",
         "domain": [
          0.0,
          0.07438016528925619
         ],
         "title": {
          "text": "colsample_bytree"
         }
        },
        "yaxis": {
         "anchor": "x",
         "domain": [
          0.0,
          1.0
         ],
         "title": {
          "text": "Objective Value"
         }
        },
        "xaxis2": {
         "anchor": "y2",
         "domain": [
          0.09256198347107437,
          0.16694214876033056
         ],
         "title": {
          "text": "grow_policy"
         },
         "type": "category",
         "categoryorder": "array",
         "categoryarray": [
          "depthwise",
          "lossguide"
         ]
        },
        "yaxis2": {
         "anchor": "x2",
         "domain": [
          0.0,
          1.0
         ],
         "matches": "y",
         "showticklabels": false
        },
        "xaxis3": {
         "anchor": "y3",
         "domain": [
          0.18512396694214875,
          0.25950413223140495
         ],
         "title": {
          "text": "learning_rate"
         },
         "type": "log"
        },
        "yaxis3": {
         "anchor": "x3",
         "domain": [
          0.0,
          1.0
         ],
         "matches": "y",
         "showticklabels": false
        },
        "xaxis4": {
         "anchor": "y4",
         "domain": [
          0.27768595041322314,
          0.3520661157024793
         ],
         "title": {
          "text": "max_bin"
         }
        },
        "yaxis4": {
         "anchor": "x4",
         "domain": [
          0.0,
          1.0
         ],
         "matches": "y",
         "showticklabels": false
        },
        "xaxis5": {
         "anchor": "y5",
         "domain": [
          0.3702479338842975,
          0.44462809917355367
         ],
         "title": {
          "text": "max_depth"
         }
        },
        "yaxis5": {
         "anchor": "x5",
         "domain": [
          0.0,
          1.0
         ],
         "matches": "y",
         "showticklabels": false
        },
        "xaxis6": {
         "anchor": "y6",
         "domain": [
          0.46280991735537186,
          0.5371900826446281
         ],
         "title": {
          "text": "max_leaves"
         }
        },
        "yaxis6": {
         "anchor": "x6",
         "domain": [
          0.0,
          1.0
         ],
         "matches": "y",
         "showticklabels": false
        },
        "xaxis7": {
         "anchor": "y7",
         "domain": [
          0.5553719008264463,
          0.6297520661157024
         ],
         "title": {
          "text": "min_child_weight"
         }
        },
        "yaxis7": {
         "anchor": "x7",
         "domain": [
          0.0,
          1.0
         ],
         "matches": "y",
         "showticklabels": false
        },
        "xaxis8": {
         "anchor": "y8",
         "domain": [
          0.6479338842975206,
          0.7223140495867768
         ],
         "title": {
          "text": "n_estimators"
         }
        },
        "yaxis8": {
         "anchor": "x8",
         "domain": [
          0.0,
          1.0
         ],
         "matches": "y",
         "showticklabels": false
        },
        "xaxis9": {
         "anchor": "y9",
         "domain": [
          0.740495867768595,
          0.8148760330578512
         ],
         "title": {
          "text": "reg_alpha"
         }
        },
        "yaxis9": {
         "anchor": "x9",
         "domain": [
          0.0,
          1.0
         ],
         "matches": "y",
         "showticklabels": false
        },
        "xaxis10": {
         "anchor": "y10",
         "domain": [
          0.8330578512396694,
          0.9074380165289255
         ],
         "title": {
          "text": "reg_lambda"
         }
        },
        "yaxis10": {
         "anchor": "x10",
         "domain": [
          0.0,
          1.0
         ],
         "matches": "y",
         "showticklabels": false
        },
        "xaxis11": {
         "anchor": "y11",
         "domain": [
          0.9256198347107437,
          0.9999999999999999
         ],
         "title": {
          "text": "subsample"
         }
        },
        "yaxis11": {
         "anchor": "x11",
         "domain": [
          0.0,
          1.0
         ],
         "matches": "y",
         "showticklabels": false
        },
        "title": {
         "text": "Slice Plot"
        },
        "width": 3300
       },
       "config": {
        "plotlyServerURL": "https://plot.ly"
       }
      }
     },
     "metadata": {},
     "output_type": "display_data"
    },
    {
     "data": {
      "application/vnd.plotly.v1+json": {
       "data": [
        {
         "dimensions": [
          {
           "label": "Objective Value",
           "range": [
            0.009389543782187667,
            0.009512199195325219
           ],
           "values": [
            0.009512199195325219,
            0.009389543782187667
           ]
          },
          {
           "label": "colsample_bytree",
           "range": [
            0.7814047095321688,
            0.8003072559450032
           ],
           "values": [
            0.7814047095321688,
            0.8003072559450032
           ]
          },
          {
           "label": "grow_policy",
           "range": [
            0,
            0
           ],
           "ticktext": [
            "lossguide"
           ],
           "tickvals": [
            0
           ],
           "values": [
            0,
            0
           ]
          },
          {
           "label": "learning_rate",
           "range": [
            -1.9896017046623145,
            -1.9547727110894615
           ],
           "ticktext": [
            "0.0102",
            "0.0111"
           ],
           "tickvals": [
            -1.9896017046623145,
            -1.9547727110894615
           ],
           "values": [
            -1.9547727110894615,
            -1.9896017046623145
           ]
          },
          {
           "label": "max_bin",
           "range": [
            320,
            384
           ],
           "values": [
            320,
            384
           ]
          },
          {
           "label": "max_depth",
           "range": [
            3,
            5
           ],
           "values": [
            5,
            3
           ]
          },
          {
           "label": "max_leaves",
           "range": [
            64,
            320
           ],
           "values": [
            64,
            320
           ]
          },
          {
           "label": "min_child_weight",
           "range": [
            8.373006336943329,
            9.081740956687977
           ],
           "values": [
            8.373006336943329,
            9.081740956687977
           ]
          },
          {
           "label": "n_estimators",
           "range": [
            500,
            500
           ],
           "values": [
            500,
            500
           ]
          },
          {
           "label": "reg_alpha",
           "range": [
            0.22122711070370474,
            0.3567533266935893
           ],
           "values": [
            0.3567533266935893,
            0.22122711070370474
           ]
          },
          {
           "label": "reg_lambda",
           "range": [
            1.4765790974681658,
            3.6585778090214838
           ],
           "values": [
            1.4765790974681658,
            3.6585778090214838
           ]
          },
          {
           "label": "subsample",
           "range": [
            0.8166031869068446,
            0.967496230344742
           ],
           "values": [
            0.8166031869068446,
            0.967496230344742
           ]
          }
         ],
         "labelangle": 30,
         "labelside": "bottom",
         "line": {
          "color": [
           0.009512199195325219,
           0.009389543782187667
          ],
          "colorbar": {
           "title": {
            "text": "Objective Value"
           }
          },
          "colorscale": [
           [
            0.0,
            "rgb(247,251,255)"
           ],
           [
            0.125,
            "rgb(222,235,247)"
           ],
           [
            0.25,
            "rgb(198,219,239)"
           ],
           [
            0.375,
            "rgb(158,202,225)"
           ],
           [
            0.5,
            "rgb(107,174,214)"
           ],
           [
            0.625,
            "rgb(66,146,198)"
           ],
           [
            0.75,
            "rgb(33,113,181)"
           ],
           [
            0.875,
            "rgb(8,81,156)"
           ],
           [
            1.0,
            "rgb(8,48,107)"
           ]
          ],
          "reversescale": true,
          "showscale": true
         },
         "type": "parcoords"
        }
       ],
       "layout": {
        "title": {
         "text": "Parallel Coordinate Plot"
        },
        "template": {
         "data": {
          "histogram2dcontour": [
           {
            "type": "histogram2dcontour",
            "colorbar": {
             "outlinewidth": 0,
             "ticks": ""
            },
            "colorscale": [
             [
              0.0,
              "#0d0887"
             ],
             [
              0.1111111111111111,
              "#46039f"
             ],
             [
              0.2222222222222222,
              "#7201a8"
             ],
             [
              0.3333333333333333,
              "#9c179e"
             ],
             [
              0.4444444444444444,
              "#bd3786"
             ],
             [
              0.5555555555555556,
              "#d8576b"
             ],
             [
              0.6666666666666666,
              "#ed7953"
             ],
             [
              0.7777777777777778,
              "#fb9f3a"
             ],
             [
              0.8888888888888888,
              "#fdca26"
             ],
             [
              1.0,
              "#f0f921"
             ]
            ]
           }
          ],
          "choropleth": [
           {
            "type": "choropleth",
            "colorbar": {
             "outlinewidth": 0,
             "ticks": ""
            }
           }
          ],
          "histogram2d": [
           {
            "type": "histogram2d",
            "colorbar": {
             "outlinewidth": 0,
             "ticks": ""
            },
            "colorscale": [
             [
              0.0,
              "#0d0887"
             ],
             [
              0.1111111111111111,
              "#46039f"
             ],
             [
              0.2222222222222222,
              "#7201a8"
             ],
             [
              0.3333333333333333,
              "#9c179e"
             ],
             [
              0.4444444444444444,
              "#bd3786"
             ],
             [
              0.5555555555555556,
              "#d8576b"
             ],
             [
              0.6666666666666666,
              "#ed7953"
             ],
             [
              0.7777777777777778,
              "#fb9f3a"
             ],
             [
              0.8888888888888888,
              "#fdca26"
             ],
             [
              1.0,
              "#f0f921"
             ]
            ]
           }
          ],
          "heatmap": [
           {
            "type": "heatmap",
            "colorbar": {
             "outlinewidth": 0,
             "ticks": ""
            },
            "colorscale": [
             [
              0.0,
              "#0d0887"
             ],
             [
              0.1111111111111111,
              "#46039f"
             ],
             [
              0.2222222222222222,
              "#7201a8"
             ],
             [
              0.3333333333333333,
              "#9c179e"
             ],
             [
              0.4444444444444444,
              "#bd3786"
             ],
             [
              0.5555555555555556,
              "#d8576b"
             ],
             [
              0.6666666666666666,
              "#ed7953"
             ],
             [
              0.7777777777777778,
              "#fb9f3a"
             ],
             [
              0.8888888888888888,
              "#fdca26"
             ],
             [
              1.0,
              "#f0f921"
             ]
            ]
           }
          ],
          "contourcarpet": [
           {
            "type": "contourcarpet",
            "colorbar": {
             "outlinewidth": 0,
             "ticks": ""
            }
           }
          ],
          "contour": [
           {
            "type": "contour",
            "colorbar": {
             "outlinewidth": 0,
             "ticks": ""
            },
            "colorscale": [
             [
              0.0,
              "#0d0887"
             ],
             [
              0.1111111111111111,
              "#46039f"
             ],
             [
              0.2222222222222222,
              "#7201a8"
             ],
             [
              0.3333333333333333,
              "#9c179e"
             ],
             [
              0.4444444444444444,
              "#bd3786"
             ],
             [
              0.5555555555555556,
              "#d8576b"
             ],
             [
              0.6666666666666666,
              "#ed7953"
             ],
             [
              0.7777777777777778,
              "#fb9f3a"
             ],
             [
              0.8888888888888888,
              "#fdca26"
             ],
             [
              1.0,
              "#f0f921"
             ]
            ]
           }
          ],
          "surface": [
           {
            "type": "surface",
            "colorbar": {
             "outlinewidth": 0,
             "ticks": ""
            },
            "colorscale": [
             [
              0.0,
              "#0d0887"
             ],
             [
              0.1111111111111111,
              "#46039f"
             ],
             [
              0.2222222222222222,
              "#7201a8"
             ],
             [
              0.3333333333333333,
              "#9c179e"
             ],
             [
              0.4444444444444444,
              "#bd3786"
             ],
             [
              0.5555555555555556,
              "#d8576b"
             ],
             [
              0.6666666666666666,
              "#ed7953"
             ],
             [
              0.7777777777777778,
              "#fb9f3a"
             ],
             [
              0.8888888888888888,
              "#fdca26"
             ],
             [
              1.0,
              "#f0f921"
             ]
            ]
           }
          ],
          "mesh3d": [
           {
            "type": "mesh3d",
            "colorbar": {
             "outlinewidth": 0,
             "ticks": ""
            }
           }
          ],
          "scatter": [
           {
            "fillpattern": {
             "fillmode": "overlay",
             "size": 10,
             "solidity": 0.2
            },
            "type": "scatter"
           }
          ],
          "parcoords": [
           {
            "type": "parcoords",
            "line": {
             "colorbar": {
              "outlinewidth": 0,
              "ticks": ""
             }
            }
           }
          ],
          "scatterpolargl": [
           {
            "type": "scatterpolargl",
            "marker": {
             "colorbar": {
              "outlinewidth": 0,
              "ticks": ""
             }
            }
           }
          ],
          "bar": [
           {
            "error_x": {
             "color": "#2a3f5f"
            },
            "error_y": {
             "color": "#2a3f5f"
            },
            "marker": {
             "line": {
              "color": "#E5ECF6",
              "width": 0.5
             },
             "pattern": {
              "fillmode": "overlay",
              "size": 10,
              "solidity": 0.2
             }
            },
            "type": "bar"
           }
          ],
          "scattergeo": [
           {
            "type": "scattergeo",
            "marker": {
             "colorbar": {
              "outlinewidth": 0,
              "ticks": ""
             }
            }
           }
          ],
          "scatterpolar": [
           {
            "type": "scatterpolar",
            "marker": {
             "colorbar": {
              "outlinewidth": 0,
              "ticks": ""
             }
            }
           }
          ],
          "histogram": [
           {
            "marker": {
             "pattern": {
              "fillmode": "overlay",
              "size": 10,
              "solidity": 0.2
             }
            },
            "type": "histogram"
           }
          ],
          "scattergl": [
           {
            "type": "scattergl",
            "marker": {
             "colorbar": {
              "outlinewidth": 0,
              "ticks": ""
             }
            }
           }
          ],
          "scatter3d": [
           {
            "type": "scatter3d",
            "line": {
             "colorbar": {
              "outlinewidth": 0,
              "ticks": ""
             }
            },
            "marker": {
             "colorbar": {
              "outlinewidth": 0,
              "ticks": ""
             }
            }
           }
          ],
          "scattermap": [
           {
            "type": "scattermap",
            "marker": {
             "colorbar": {
              "outlinewidth": 0,
              "ticks": ""
             }
            }
           }
          ],
          "scattermapbox": [
           {
            "type": "scattermapbox",
            "marker": {
             "colorbar": {
              "outlinewidth": 0,
              "ticks": ""
             }
            }
           }
          ],
          "scatterternary": [
           {
            "type": "scatterternary",
            "marker": {
             "colorbar": {
              "outlinewidth": 0,
              "ticks": ""
             }
            }
           }
          ],
          "scattercarpet": [
           {
            "type": "scattercarpet",
            "marker": {
             "colorbar": {
              "outlinewidth": 0,
              "ticks": ""
             }
            }
           }
          ],
          "carpet": [
           {
            "aaxis": {
             "endlinecolor": "#2a3f5f",
             "gridcolor": "white",
             "linecolor": "white",
             "minorgridcolor": "white",
             "startlinecolor": "#2a3f5f"
            },
            "baxis": {
             "endlinecolor": "#2a3f5f",
             "gridcolor": "white",
             "linecolor": "white",
             "minorgridcolor": "white",
             "startlinecolor": "#2a3f5f"
            },
            "type": "carpet"
           }
          ],
          "table": [
           {
            "cells": {
             "fill": {
              "color": "#EBF0F8"
             },
             "line": {
              "color": "white"
             }
            },
            "header": {
             "fill": {
              "color": "#C8D4E3"
             },
             "line": {
              "color": "white"
             }
            },
            "type": "table"
           }
          ],
          "barpolar": [
           {
            "marker": {
             "line": {
              "color": "#E5ECF6",
              "width": 0.5
             },
             "pattern": {
              "fillmode": "overlay",
              "size": 10,
              "solidity": 0.2
             }
            },
            "type": "barpolar"
           }
          ],
          "pie": [
           {
            "automargin": true,
            "type": "pie"
           }
          ]
         },
         "layout": {
          "autotypenumbers": "strict",
          "colorway": [
           "#636efa",
           "#EF553B",
           "#00cc96",
           "#ab63fa",
           "#FFA15A",
           "#19d3f3",
           "#FF6692",
           "#B6E880",
           "#FF97FF",
           "#FECB52"
          ],
          "font": {
           "color": "#2a3f5f"
          },
          "hovermode": "closest",
          "hoverlabel": {
           "align": "left"
          },
          "paper_bgcolor": "white",
          "plot_bgcolor": "#E5ECF6",
          "polar": {
           "bgcolor": "#E5ECF6",
           "angularaxis": {
            "gridcolor": "white",
            "linecolor": "white",
            "ticks": ""
           },
           "radialaxis": {
            "gridcolor": "white",
            "linecolor": "white",
            "ticks": ""
           }
          },
          "ternary": {
           "bgcolor": "#E5ECF6",
           "aaxis": {
            "gridcolor": "white",
            "linecolor": "white",
            "ticks": ""
           },
           "baxis": {
            "gridcolor": "white",
            "linecolor": "white",
            "ticks": ""
           },
           "caxis": {
            "gridcolor": "white",
            "linecolor": "white",
            "ticks": ""
           }
          },
          "coloraxis": {
           "colorbar": {
            "outlinewidth": 0,
            "ticks": ""
           }
          },
          "colorscale": {
           "sequential": [
            [
             0.0,
             "#0d0887"
            ],
            [
             0.1111111111111111,
             "#46039f"
            ],
            [
             0.2222222222222222,
             "#7201a8"
            ],
            [
             0.3333333333333333,
             "#9c179e"
            ],
            [
             0.4444444444444444,
             "#bd3786"
            ],
            [
             0.5555555555555556,
             "#d8576b"
            ],
            [
             0.6666666666666666,
             "#ed7953"
            ],
            [
             0.7777777777777778,
             "#fb9f3a"
            ],
            [
             0.8888888888888888,
             "#fdca26"
            ],
            [
             1.0,
             "#f0f921"
            ]
           ],
           "sequentialminus": [
            [
             0.0,
             "#0d0887"
            ],
            [
             0.1111111111111111,
             "#46039f"
            ],
            [
             0.2222222222222222,
             "#7201a8"
            ],
            [
             0.3333333333333333,
             "#9c179e"
            ],
            [
             0.4444444444444444,
             "#bd3786"
            ],
            [
             0.5555555555555556,
             "#d8576b"
            ],
            [
             0.6666666666666666,
             "#ed7953"
            ],
            [
             0.7777777777777778,
             "#fb9f3a"
            ],
            [
             0.8888888888888888,
             "#fdca26"
            ],
            [
             1.0,
             "#f0f921"
            ]
           ],
           "diverging": [
            [
             0,
             "#8e0152"
            ],
            [
             0.1,
             "#c51b7d"
            ],
            [
             0.2,
             "#de77ae"
            ],
            [
             0.3,
             "#f1b6da"
            ],
            [
             0.4,
             "#fde0ef"
            ],
            [
             0.5,
             "#f7f7f7"
            ],
            [
             0.6,
             "#e6f5d0"
            ],
            [
             0.7,
             "#b8e186"
            ],
            [
             0.8,
             "#7fbc41"
            ],
            [
             0.9,
             "#4d9221"
            ],
            [
             1,
             "#276419"
            ]
           ]
          },
          "xaxis": {
           "gridcolor": "white",
           "linecolor": "white",
           "ticks": "",
           "title": {
            "standoff": 15
           },
           "zerolinecolor": "white",
           "automargin": true,
           "zerolinewidth": 2
          },
          "yaxis": {
           "gridcolor": "white",
           "linecolor": "white",
           "ticks": "",
           "title": {
            "standoff": 15
           },
           "zerolinecolor": "white",
           "automargin": true,
           "zerolinewidth": 2
          },
          "scene": {
           "xaxis": {
            "backgroundcolor": "#E5ECF6",
            "gridcolor": "white",
            "linecolor": "white",
            "showbackground": true,
            "ticks": "",
            "zerolinecolor": "white",
            "gridwidth": 2
           },
           "yaxis": {
            "backgroundcolor": "#E5ECF6",
            "gridcolor": "white",
            "linecolor": "white",
            "showbackground": true,
            "ticks": "",
            "zerolinecolor": "white",
            "gridwidth": 2
           },
           "zaxis": {
            "backgroundcolor": "#E5ECF6",
            "gridcolor": "white",
            "linecolor": "white",
            "showbackground": true,
            "ticks": "",
            "zerolinecolor": "white",
            "gridwidth": 2
           }
          },
          "shapedefaults": {
           "line": {
            "color": "#2a3f5f"
           }
          },
          "annotationdefaults": {
           "arrowcolor": "#2a3f5f",
           "arrowhead": 0,
           "arrowwidth": 1
          },
          "geo": {
           "bgcolor": "white",
           "landcolor": "#E5ECF6",
           "subunitcolor": "white",
           "showland": true,
           "showlakes": true,
           "lakecolor": "white"
          },
          "title": {
           "x": 0.05
          },
          "mapbox": {
           "style": "light"
          }
         }
        }
       },
       "config": {
        "plotlyServerURL": "https://plot.ly"
       }
      }
     },
     "metadata": {},
     "output_type": "display_data"
    },
    {
     "data": {
      "application/vnd.plotly.v1+json": {
       "data": [
        {
         "type": "scatter",
         "xaxis": "x",
         "yaxis": "y"
        },
        {
         "colorbar": {
          "title": {
           "text": "Objective Value"
          }
         },
         "colorscale": [
          [
           0.0,
           "rgb(247,251,255)"
          ],
          [
           0.125,
           "rgb(222,235,247)"
          ],
          [
           0.25,
           "rgb(198,219,239)"
          ],
          [
           0.375,
           "rgb(158,202,225)"
          ],
          [
           0.5,
           "rgb(107,174,214)"
          ],
          [
           0.625,
           "rgb(66,146,198)"
          ],
          [
           0.75,
           "rgb(33,113,181)"
          ],
          [
           0.875,
           "rgb(8,81,156)"
          ],
          [
           1.0,
           "rgb(8,48,107)"
          ]
         ],
         "connectgaps": true,
         "contours": {
          "coloring": "heatmap"
         },
         "hoverinfo": "none",
         "line": {
          "smoothing": 1.3
         },
         "reversescale": true,
         "showscale": true,
         "x": [
          0.7441305089421173,
          0.7468055921327309,
          0.7668022557458023,
          0.7814047095321688,
          0.8003072559450032,
          0.8029823391356168
         ],
         "y": [
          "depthwise",
          "lossguide"
         ],
         "z": {
          "dtype": "f8",
          "bdata": "AAAAAAAA+H9PVijOBzCEPzxnTHg6foM/AAAAAAAA+H8AAAAAAAD4fwAAAAAAAPh/AAAAAAAA+H8AAAAAAAD4fwAAAAAAAPh/S9qnwyF7gz+rN8A70zqDPwAAAAAAAPh/",
          "shape": "2, 6"
         },
         "type": "contour",
         "xaxis": "x12",
         "yaxis": "y12"
        },
        {
         "marker": {
          "color": "black",
          "line": {
           "color": "Gray",
           "width": 2.0
          }
         },
         "mode": "markers",
         "name": "Feasible Trial",
         "showlegend": false,
         "x": [
          0.7468055921327309,
          0.7814047095321688,
          0.8003072559450032,
          0.7668022557458023
         ],
         "y": [
          "depthwise",
          "lossguide",
          "lossguide",
          "depthwise"
         ],
         "type": "scatter",
         "xaxis": "x12",
         "yaxis": "y12"
        },
        {
         "colorbar": {
          "title": {
           "text": "Objective Value"
          }
         },
         "colorscale": [
          [
           0.0,
           "rgb(247,251,255)"
          ],
          [
           0.125,
           "rgb(222,235,247)"
          ],
          [
           0.25,
           "rgb(198,219,239)"
          ],
          [
           0.375,
           "rgb(158,202,225)"
          ],
          [
           0.5,
           "rgb(107,174,214)"
          ],
          [
           0.625,
           "rgb(66,146,198)"
          ],
          [
           0.75,
           "rgb(33,113,181)"
          ],
          [
           0.875,
           "rgb(8,81,156)"
          ],
          [
           1.0,
           "rgb(8,48,107)"
          ]
         ],
         "connectgaps": true,
         "contours": {
          "coloring": "heatmap"
         },
         "hoverinfo": "none",
         "line": {
          "smoothing": 1.3
         },
         "reversescale": true,
         "showscale": false,
         "x": [
          0.7441305089421173,
          0.7468055921327309,
          0.7668022557458023,
          0.7814047095321688,
          0.8003072559450032,
          0.8029823391356168
         ],
         "y": [
          0.009191417528721072,
          0.010242318938703103,
          0.011097554561103107,
          0.01314981250761057,
          0.08927180304353628,
          0.09947870131542277
         ],
         "z": {
          "dtype": "f8",
          "bdata": "AAAAAAAA+H8AAAAAAAD4fwAAAAAAAPh/AAAAAAAA+H8AAAAAAAD4fwAAAAAAAPh/AAAAAAAA+H8AAAAAAAD4fwAAAAAAAPh/AAAAAAAA+H+rN8A70zqDPwAAAAAAAPh/AAAAAAAA+H8AAAAAAAD4fwAAAAAAAPh/S9qnwyF7gz8AAAAAAAD4fwAAAAAAAPh/AAAAAAAA+H8AAAAAAAD4fzxnTHg6foM/AAAAAAAA+H8AAAAAAAD4fwAAAAAAAPh/AAAAAAAA+H9PVijOBzCEPwAAAAAAAPh/AAAAAAAA+H8AAAAAAAD4fwAAAAAAAPh/AAAAAAAA+H8AAAAAAAD4fwAAAAAAAPh/AAAAAAAA+H8AAAAAAAD4fwAAAAAAAPh/",
          "shape": "6, 6"
         },
         "type": "contour",
         "xaxis": "x23",
         "yaxis": "y23"
        },
        {
         "marker": {
          "color": "black",
          "line": {
           "color": "Gray",
           "width": 2.0
          }
         },
         "mode": "markers",
         "name": "Feasible Trial",
         "showlegend": false,
         "x": [
          0.7468055921327309,
          0.7814047095321688,
          0.8003072559450032,
          0.7668022557458023
         ],
         "y": [
          0.08927180304353628,
          0.011097554561103107,
          0.010242318938703103,
          0.01314981250761057
         ],
         "type": "scatter",
         "xaxis": "x23",
         "yaxis": "y23"
        },
        {
         "colorbar": {
          "title": {
           "text": "Objective Value"
          }
         },
         "colorscale": [
          [
           0.0,
           "rgb(247,251,255)"
          ],
          [
           0.125,
           "rgb(222,235,247)"
          ],
          [
           0.25,
           "rgb(198,219,239)"
          ],
          [
           0.375,
           "rgb(158,202,225)"
          ],
          [
           0.5,
           "rgb(107,174,214)"
          ],
          [
           0.625,
           "rgb(66,146,198)"
          ],
          [
           0.75,
           "rgb(33,113,181)"
          ],
          [
           0.875,
           "rgb(8,81,156)"
          ],
          [
           1.0,
           "rgb(8,48,107)"
          ]
         ],
         "connectgaps": true,
         "contours": {
          "coloring": "heatmap"
         },
         "hoverinfo": "none",
         "line": {
          "smoothing": 1.3
         },
         "reversescale": true,
         "showscale": false,
         "x": [
          0.7441305089421173,
          0.7468055921327309,
          0.7668022557458023,
          0.7814047095321688,
          0.8003072559450032,
          0.8029823391356168
         ],
         "y": [
          313.6,
          320,
          384,
          448,
          454.4
         ],
         "z": {
          "dtype": "f8",
          "bdata": "AAAAAAAA+H8AAAAAAAD4fwAAAAAAAPh/AAAAAAAA+H8AAAAAAAD4fwAAAAAAAPh/AAAAAAAA+H8AAAAAAAD4fwAAAAAAAPh/S9qnwyF7gz8AAAAAAAD4fwAAAAAAAPh/AAAAAAAA+H9PVijOBzCEPwAAAAAAAPh/AAAAAAAA+H+rN8A70zqDPwAAAAAAAPh/AAAAAAAA+H8AAAAAAAD4fzxnTHg6foM/AAAAAAAA+H8AAAAAAAD4fwAAAAAAAPh/AAAAAAAA+H8AAAAAAAD4fwAAAAAAAPh/AAAAAAAA+H8AAAAAAAD4fwAAAAAAAPh/",
          "shape": "5, 6"
         },
         "type": "contour",
         "xaxis": "x34",
         "yaxis": "y34"
        },
        {
         "marker": {
          "color": "black",
          "line": {
           "color": "Gray",
           "width": 2.0
          }
         },
         "mode": "markers",
         "name": "Feasible Trial",
         "showlegend": false,
         "x": [
          0.7468055921327309,
          0.7814047095321688,
          0.8003072559450032,
          0.7668022557458023
         ],
         "y": [
          384,
          320,
          384,
          448
         ],
         "type": "scatter",
         "xaxis": "x34",
         "yaxis": "y34"
        },
        {
         "colorbar": {
          "title": {
           "text": "Objective Value"
          }
         },
         "colorscale": [
          [
           0.0,
           "rgb(247,251,255)"
          ],
          [
           0.125,
           "rgb(222,235,247)"
          ],
          [
           0.25,
           "rgb(198,219,239)"
          ],
          [
           0.375,
           "rgb(158,202,225)"
          ],
          [
           0.5,
           "rgb(107,174,214)"
          ],
          [
           0.625,
           "rgb(66,146,198)"
          ],
          [
           0.75,
           "rgb(33,113,181)"
          ],
          [
           0.875,
           "rgb(8,81,156)"
          ],
          [
           1.0,
           "rgb(8,48,107)"
          ]
         ],
         "connectgaps": true,
         "contours": {
          "coloring": "heatmap"
         },
         "hoverinfo": "none",
         "line": {
          "smoothing": 1.3
         },
         "reversescale": true,
         "showscale": false,
         "x": [
          0.7441305089421173,
          0.7468055921327309,
          0.7668022557458023,
          0.7814047095321688,
          0.8003072559450032,
          0.8029823391356168
         ],
         "y": [
          2.75,
          3,
          5,
          8,
          8.25
         ],
         "z": {
          "dtype": "f8",
          "bdata": "AAAAAAAA+H8AAAAAAAD4fwAAAAAAAPh/AAAAAAAA+H8AAAAAAAD4fwAAAAAAAPh/AAAAAAAA+H8AAAAAAAD4fzxnTHg6foM/AAAAAAAA+H+rN8A70zqDPwAAAAAAAPh/AAAAAAAA+H8AAAAAAAD4fwAAAAAAAPh/S9qnwyF7gz8AAAAAAAD4fwAAAAAAAPh/AAAAAAAA+H9PVijOBzCEPwAAAAAAAPh/AAAAAAAA+H8AAAAAAAD4fwAAAAAAAPh/AAAAAAAA+H8AAAAAAAD4fwAAAAAAAPh/AAAAAAAA+H8AAAAAAAD4fwAAAAAAAPh/",
          "shape": "5, 6"
         },
         "type": "contour",
         "xaxis": "x45",
         "yaxis": "y45"
        },
        {
         "marker": {
          "color": "black",
          "line": {
           "color": "Gray",
           "width": 2.0
          }
         },
         "mode": "markers",
         "name": "Feasible Trial",
         "showlegend": false,
         "x": [
          0.7468055921327309,
          0.7814047095321688,
          0.8003072559450032,
          0.7668022557458023
         ],
         "y": [
          8,
          5,
          3,
          3
         ],
         "type": "scatter",
         "xaxis": "x45",
         "yaxis": "y45"
        },
        {
         "colorbar": {
          "title": {
           "text": "Objective Value"
          }
         },
         "colorscale": [
          [
           0.0,
           "rgb(247,251,255)"
          ],
          [
           0.125,
           "rgb(222,235,247)"
          ],
          [
           0.25,
           "rgb(198,219,239)"
          ],
          [
           0.375,
           "rgb(158,202,225)"
          ],
          [
           0.5,
           "rgb(107,174,214)"
          ],
          [
           0.625,
           "rgb(66,146,198)"
          ],
          [
           0.75,
           "rgb(33,113,181)"
          ],
          [
           0.875,
           "rgb(8,81,156)"
          ],
          [
           1.0,
           "rgb(8,48,107)"
          ]
         ],
         "connectgaps": true,
         "contours": {
          "coloring": "heatmap"
         },
         "hoverinfo": "none",
         "line": {
          "smoothing": 1.3
         },
         "reversescale": true,
         "showscale": false,
         "x": [
          0.7441305089421173,
          0.7468055921327309,
          0.7668022557458023,
          0.7814047095321688,
          0.8003072559450032,
          0.8029823391356168
         ],
         "y": [
          51.2,
          64,
          320,
          332.8
         ],
         "z": {
          "dtype": "f8",
          "bdata": "AAAAAAAA+H8AAAAAAAD4fwAAAAAAAPh/AAAAAAAA+H8AAAAAAAD4fwAAAAAAAPh/AAAAAAAA+H8AAAAAAAD4fwAAAAAAAPh/S9qnwyF7gz8AAAAAAAD4fwAAAAAAAPh/AAAAAAAA+H8AAAAAAAD4fwAAAAAAAPh/AAAAAAAA+H+rN8A70zqDPwAAAAAAAPh/AAAAAAAA+H8AAAAAAAD4fwAAAAAAAPh/AAAAAAAA+H8AAAAAAAD4fwAAAAAAAPh/",
          "shape": "4, 6"
         },
         "type": "contour",
         "xaxis": "x56",
         "yaxis": "y56"
        },
        {
         "marker": {
          "color": "black",
          "line": {
           "color": "Gray",
           "width": 2.0
          }
         },
         "mode": "markers",
         "name": "Feasible Trial",
         "showlegend": false,
         "x": [
          0.7814047095321688,
          0.8003072559450032
         ],
         "y": [
          64,
          320
         ],
         "type": "scatter",
         "xaxis": "x56",
         "yaxis": "y56"
        },
        {
         "colorbar": {
          "title": {
           "text": "Objective Value"
          }
         },
         "colorscale": [
          [
           0.0,
           "rgb(247,251,255)"
          ],
          [
           0.125,
           "rgb(222,235,247)"
          ],
          [
           0.25,
           "rgb(198,219,239)"
          ],
          [
           0.375,
           "rgb(158,202,225)"
          ],
          [
           0.5,
           "rgb(107,174,214)"
          ],
          [
           0.625,
           "rgb(66,146,198)"
          ],
          [
           0.75,
           "rgb(33,113,181)"
          ],
          [
           0.875,
           "rgb(8,81,156)"
          ],
          [
           1.0,
           "rgb(8,48,107)"
          ]
         ],
         "connectgaps": true,
         "contours": {
          "coloring": "heatmap"
         },
         "hoverinfo": "none",
         "line": {
          "smoothing": 1.3
         },
         "reversescale": true,
         "showscale": false,
         "x": [
          0.7441305089421173,
          0.7468055921327309,
          0.7668022557458023,
          0.7814047095321688,
          0.8003072559450032,
          0.8029823391356168
         ],
         "y": [
          1.6269582925192225,
          1.981947943193925,
          6.140950886568256,
          8.373006336943329,
          9.081740956687977,
          9.43673060736268
         ],
         "z": {
          "dtype": "f8",
          "bdata": "AAAAAAAA+H8AAAAAAAD4fwAAAAAAAPh/AAAAAAAA+H8AAAAAAAD4fwAAAAAAAPh/AAAAAAAA+H9PVijOBzCEPwAAAAAAAPh/AAAAAAAA+H8AAAAAAAD4fwAAAAAAAPh/AAAAAAAA+H8AAAAAAAD4fzxnTHg6foM/AAAAAAAA+H8AAAAAAAD4fwAAAAAAAPh/AAAAAAAA+H8AAAAAAAD4fwAAAAAAAPh/S9qnwyF7gz8AAAAAAAD4fwAAAAAAAPh/AAAAAAAA+H8AAAAAAAD4fwAAAAAAAPh/AAAAAAAA+H+rN8A70zqDPwAAAAAAAPh/AAAAAAAA+H8AAAAAAAD4fwAAAAAAAPh/AAAAAAAA+H8AAAAAAAD4fwAAAAAAAPh/",
          "shape": "6, 6"
         },
         "type": "contour",
         "xaxis": "x67",
         "yaxis": "y67"
        },
        {
         "marker": {
          "color": "black",
          "line": {
           "color": "Gray",
           "width": 2.0
          }
         },
         "mode": "markers",
         "name": "Feasible Trial",
         "showlegend": false,
         "x": [
          0.7468055921327309,
          0.7814047095321688,
          0.8003072559450032,
          0.7668022557458023
         ],
         "y": [
          1.981947943193925,
          8.373006336943329,
          9.081740956687977,
          6.140950886568256
         ],
         "type": "scatter",
         "xaxis": "x67",
         "yaxis": "y67"
        },
        {
         "colorbar": {
          "title": {
           "text": "Objective Value"
          }
         },
         "colorscale": [
          [
           0.0,
           "rgb(247,251,255)"
          ],
          [
           0.125,
           "rgb(222,235,247)"
          ],
          [
           0.25,
           "rgb(198,219,239)"
          ],
          [
           0.375,
           "rgb(158,202,225)"
          ],
          [
           0.5,
           "rgb(107,174,214)"
          ],
          [
           0.625,
           "rgb(66,146,198)"
          ],
          [
           0.75,
           "rgb(33,113,181)"
          ],
          [
           0.875,
           "rgb(8,81,156)"
          ],
          [
           1.0,
           "rgb(8,48,107)"
          ]
         ],
         "connectgaps": true,
         "contours": {
          "coloring": "heatmap"
         },
         "hoverinfo": "none",
         "line": {
          "smoothing": 1.3
         },
         "reversescale": true,
         "showscale": false,
         "x": [
          0.7441305089421173,
          0.7468055921327309,
          0.7668022557458023,
          0.7814047095321688,
          0.8003072559450032,
          0.8029823391356168
         ],
         "y": [
          490.0,
          500,
          700,
          710.0
         ],
         "z": {
          "dtype": "f8",
          "bdata": "AAAAAAAA+H8AAAAAAAD4fwAAAAAAAPh/AAAAAAAA+H8AAAAAAAD4fwAAAAAAAPh/AAAAAAAA+H8AAAAAAAD4fwAAAAAAAPh/S9qnwyF7gz+rN8A70zqDPwAAAAAAAPh/AAAAAAAA+H9PVijOBzCEPzxnTHg6foM/AAAAAAAA+H8AAAAAAAD4fwAAAAAAAPh/AAAAAAAA+H8AAAAAAAD4fwAAAAAAAPh/AAAAAAAA+H8AAAAAAAD4fwAAAAAAAPh/",
          "shape": "4, 6"
         },
         "type": "contour",
         "xaxis": "x78",
         "yaxis": "y78"
        },
        {
         "marker": {
          "color": "black",
          "line": {
           "color": "Gray",
           "width": 2.0
          }
         },
         "mode": "markers",
         "name": "Feasible Trial",
         "showlegend": false,
         "x": [
          0.7468055921327309,
          0.7814047095321688,
          0.8003072559450032,
          0.7668022557458023
         ],
         "y": [
          700,
          500,
          500,
          700
         ],
         "type": "scatter",
         "xaxis": "x78",
         "yaxis": "y78"
        },
        {
         "colorbar": {
          "title": {
           "text": "Objective Value"
          }
         },
         "colorscale": [
          [
           0.0,
           "rgb(247,251,255)"
          ],
          [
           0.125,
           "rgb(222,235,247)"
          ],
          [
           0.25,
           "rgb(198,219,239)"
          ],
          [
           0.375,
           "rgb(158,202,225)"
          ],
          [
           0.5,
           "rgb(107,174,214)"
          ],
          [
           0.625,
           "rgb(66,146,198)"
          ],
          [
           0.75,
           "rgb(33,113,181)"
          ],
          [
           0.875,
           "rgb(8,81,156)"
          ],
          [
           1.0,
           "rgb(8,48,107)"
          ]
         ],
         "connectgaps": true,
         "contours": {
          "coloring": "heatmap"
         },
         "hoverinfo": "none",
         "line": {
          "smoothing": 1.3
         },
         "reversescale": true,
         "showscale": false,
         "x": [
          0.7441305089421173,
          0.7468055921327309,
          0.7668022557458023,
          0.7814047095321688,
          0.8003072559450032,
          0.8029823391356168
         ],
         "y": [
          0.036460834526854294,
          0.05808361216819946,
          0.22122711070370474,
          0.3567533266935893,
          0.49053916499510275,
          0.5121619426364479
         ],
         "z": {
          "dtype": "f8",
          "bdata": "AAAAAAAA+H8AAAAAAAD4fwAAAAAAAPh/AAAAAAAA+H8AAAAAAAD4fwAAAAAAAPh/AAAAAAAA+H9PVijOBzCEPwAAAAAAAPh/AAAAAAAA+H8AAAAAAAD4fwAAAAAAAPh/AAAAAAAA+H8AAAAAAAD4fwAAAAAAAPh/AAAAAAAA+H+rN8A70zqDPwAAAAAAAPh/AAAAAAAA+H8AAAAAAAD4fwAAAAAAAPh/S9qnwyF7gz8AAAAAAAD4fwAAAAAAAPh/AAAAAAAA+H8AAAAAAAD4fzxnTHg6foM/AAAAAAAA+H8AAAAAAAD4fwAAAAAAAPh/AAAAAAAA+H8AAAAAAAD4fwAAAAAAAPh/AAAAAAAA+H8AAAAAAAD4fwAAAAAAAPh/",
          "shape": "6, 6"
         },
         "type": "contour",
         "xaxis": "x89",
         "yaxis": "y89"
        },
        {
         "marker": {
          "color": "black",
          "line": {
           "color": "Gray",
           "width": 2.0
          }
         },
         "mode": "markers",
         "name": "Feasible Trial",
         "showlegend": false,
         "x": [
          0.7468055921327309,
          0.7814047095321688,
          0.8003072559450032,
          0.7668022557458023
         ],
         "y": [
          0.05808361216819946,
          0.3567533266935893,
          0.22122711070370474,
          0.49053916499510275
         ],
         "type": "scatter",
         "xaxis": "x89",
         "yaxis": "y89"
        },
        {
         "colorbar": {
          "title": {
           "text": "Objective Value"
          }
         },
         "colorscale": [
          [
           0.0,
           "rgb(247,251,255)"
          ],
          [
           0.125,
           "rgb(222,235,247)"
          ],
          [
           0.25,
           "rgb(198,219,239)"
          ],
          [
           0.375,
           "rgb(158,202,225)"
          ],
          [
           0.5,
           "rgb(107,174,214)"
          ],
          [
           0.625,
           "rgb(66,146,198)"
          ],
          [
           0.75,
           "rgb(33,113,181)"
          ],
          [
           0.875,
           "rgb(8,81,156)"
          ],
          [
           1.0,
           "rgb(8,48,107)"
          ]
         ],
         "connectgaps": true,
         "contours": {
          "coloring": "heatmap"
         },
         "hoverinfo": "none",
         "line": {
          "smoothing": 1.3
         },
         "reversescale": true,
         "showscale": false,
         "x": [
          0.7441305089421173,
          0.7468055921327309,
          0.7668022557458023,
          0.7814047095321688,
          0.8003072559450032,
          0.8029823391356168
         ],
         "y": [
          1.333194896626715,
          1.4765790974681658,
          3.6585778090214838,
          3.7995864955735317,
          4.344263114297182,
          4.487647315138633
         ],
         "z": {
          "dtype": "f8",
          "bdata": "AAAAAAAA+H8AAAAAAAD4fwAAAAAAAPh/AAAAAAAA+H8AAAAAAAD4fwAAAAAAAPh/AAAAAAAA+H8AAAAAAAD4fwAAAAAAAPh/S9qnwyF7gz8AAAAAAAD4fwAAAAAAAPh/AAAAAAAA+H8AAAAAAAD4fwAAAAAAAPh/AAAAAAAA+H+rN8A70zqDPwAAAAAAAPh/AAAAAAAA+H8AAAAAAAD4fzxnTHg6foM/AAAAAAAA+H8AAAAAAAD4fwAAAAAAAPh/AAAAAAAA+H9PVijOBzCEPwAAAAAAAPh/AAAAAAAA+H8AAAAAAAD4fwAAAAAAAPh/AAAAAAAA+H8AAAAAAAD4fwAAAAAAAPh/AAAAAAAA+H8AAAAAAAD4fwAAAAAAAPh/",
          "shape": "6, 6"
         },
         "type": "contour",
         "xaxis": "x100",
         "yaxis": "y100"
        },
        {
         "marker": {
          "color": "black",
          "line": {
           "color": "Gray",
           "width": 2.0
          }
         },
         "mode": "markers",
         "name": "Feasible Trial",
         "showlegend": false,
         "x": [
          0.7468055921327309,
          0.7814047095321688,
          0.8003072559450032,
          0.7668022557458023
         ],
         "y": [
          4.344263114297182,
          1.4765790974681658,
          3.6585778090214838,
          3.7995864955735317
         ],
         "type": "scatter",
         "xaxis": "x100",
         "yaxis": "y100"
        },
        {
         "colorbar": {
          "title": {
           "text": "Objective Value"
          }
         },
         "colorscale": [
          [
           0.0,
           "rgb(247,251,255)"
          ],
          [
           0.125,
           "rgb(222,235,247)"
          ],
          [
           0.25,
           "rgb(198,219,239)"
          ],
          [
           0.375,
           "rgb(158,202,225)"
          ],
          [
           0.5,
           "rgb(107,174,214)"
          ],
          [
           0.625,
           "rgb(66,146,198)"
          ],
          [
           0.75,
           "rgb(33,113,181)"
          ],
          [
           0.875,
           "rgb(8,81,156)"
          ],
          [
           1.0,
           "rgb(8,48,107)"
          ]
         ],
         "connectgaps": true,
         "contours": {
          "coloring": "heatmap"
         },
         "hoverinfo": "none",
         "line": {
          "smoothing": 1.3
         },
         "reversescale": true,
         "showscale": false,
         "x": [
          0.7441305089421173,
          0.7468055921327309,
          0.7668022557458023,
          0.7814047095321688,
          0.8003072559450032,
          0.8029823391356168
         ],
         "y": [
          0.8090585347349498,
          0.8166031869068446,
          0.8795975452591109,
          0.9158558903524459,
          0.967496230344742,
          0.9750408825166368
         ],
         "z": {
          "dtype": "f8",
          "bdata": "AAAAAAAA+H8AAAAAAAD4fwAAAAAAAPh/AAAAAAAA+H8AAAAAAAD4fwAAAAAAAPh/AAAAAAAA+H8AAAAAAAD4fwAAAAAAAPh/S9qnwyF7gz8AAAAAAAD4fwAAAAAAAPh/AAAAAAAA+H9PVijOBzCEPwAAAAAAAPh/AAAAAAAA+H8AAAAAAAD4fwAAAAAAAPh/AAAAAAAA+H8AAAAAAAD4fzxnTHg6foM/AAAAAAAA+H8AAAAAAAD4fwAAAAAAAPh/AAAAAAAA+H8AAAAAAAD4fwAAAAAAAPh/AAAAAAAA+H+rN8A70zqDPwAAAAAAAPh/AAAAAAAA+H8AAAAAAAD4fwAAAAAAAPh/AAAAAAAA+H8AAAAAAAD4fwAAAAAAAPh/",
          "shape": "6, 6"
         },
         "type": "contour",
         "xaxis": "x111",
         "yaxis": "y111"
        },
        {
         "marker": {
          "color": "black",
          "line": {
           "color": "Gray",
           "width": 2.0
          }
         },
         "mode": "markers",
         "name": "Feasible Trial",
         "showlegend": false,
         "x": [
          0.7468055921327309,
          0.7814047095321688,
          0.8003072559450032,
          0.7668022557458023
         ],
         "y": [
          0.8795975452591109,
          0.8166031869068446,
          0.967496230344742,
          0.9158558903524459
         ],
         "type": "scatter",
         "xaxis": "x111",
         "yaxis": "y111"
        },
        {
         "colorbar": {
          "title": {
           "text": "Objective Value"
          }
         },
         "colorscale": [
          [
           0.0,
           "rgb(247,251,255)"
          ],
          [
           0.125,
           "rgb(222,235,247)"
          ],
          [
           0.25,
           "rgb(198,219,239)"
          ],
          [
           0.375,
           "rgb(158,202,225)"
          ],
          [
           0.5,
           "rgb(107,174,214)"
          ],
          [
           0.625,
           "rgb(66,146,198)"
          ],
          [
           0.75,
           "rgb(33,113,181)"
          ],
          [
           0.875,
           "rgb(8,81,156)"
          ],
          [
           1.0,
           "rgb(8,48,107)"
          ]
         ],
         "connectgaps": true,
         "contours": {
          "coloring": "heatmap"
         },
         "hoverinfo": "none",
         "line": {
          "smoothing": 1.3
         },
         "reversescale": true,
         "showscale": false,
         "x": [
          "depthwise",
          "lossguide"
         ],
         "y": [
          0.7441305089421173,
          0.7468055921327309,
          0.7668022557458023,
          0.7814047095321688,
          0.8003072559450032,
          0.8029823391356168
         ],
         "z": {
          "dtype": "f8",
          "bdata": "AAAAAAAA+H8AAAAAAAD4f09WKM4HMIQ/AAAAAAAA+H88Z0x4On6DPwAAAAAAAPh/AAAAAAAA+H9L2qfDIXuDPwAAAAAAAPh/qzfAO9M6gz8AAAAAAAD4fwAAAAAAAPh/",
          "shape": "6, 2"
         },
         "type": "contour",
         "xaxis": "x2",
         "yaxis": "y2"
        },
        {
         "marker": {
          "color": "black",
          "line": {
           "color": "Gray",
           "width": 2.0
          }
         },
         "mode": "markers",
         "name": "Feasible Trial",
         "showlegend": false,
         "x": [
          "depthwise",
          "lossguide",
          "lossguide",
          "depthwise"
         ],
         "y": [
          0.7468055921327309,
          0.7814047095321688,
          0.8003072559450032,
          0.7668022557458023
         ],
         "type": "scatter",
         "xaxis": "x2",
         "yaxis": "y2"
        },
        {
         "type": "scatter",
         "xaxis": "x13",
         "yaxis": "y13"
        },
        {
         "colorbar": {
          "title": {
           "text": "Objective Value"
          }
         },
         "colorscale": [
          [
           0.0,
           "rgb(247,251,255)"
          ],
          [
           0.125,
           "rgb(222,235,247)"
          ],
          [
           0.25,
           "rgb(198,219,239)"
          ],
          [
           0.375,
           "rgb(158,202,225)"
          ],
          [
           0.5,
           "rgb(107,174,214)"
          ],
          [
           0.625,
           "rgb(66,146,198)"
          ],
          [
           0.75,
           "rgb(33,113,181)"
          ],
          [
           0.875,
           "rgb(8,81,156)"
          ],
          [
           1.0,
           "rgb(8,48,107)"
          ]
         ],
         "connectgaps": true,
         "contours": {
          "coloring": "heatmap"
         },
         "hoverinfo": "none",
         "line": {
          "smoothing": 1.3
         },
         "reversescale": true,
         "showscale": false,
         "x": [
          "depthwise",
          "lossguide"
         ],
         "y": [
          0.009191417528721072,
          0.010242318938703103,
          0.011097554561103107,
          0.01314981250761057,
          0.08927180304353628,
          0.09947870131542277
         ],
         "z": {
          "dtype": "f8",
          "bdata": "AAAAAAAA+H8AAAAAAAD4fwAAAAAAAPh/qzfAO9M6gz8AAAAAAAD4f0vap8Mhe4M/PGdMeDp+gz8AAAAAAAD4f09WKM4HMIQ/AAAAAAAA+H8AAAAAAAD4fwAAAAAAAPh/",
          "shape": "6, 2"
         },
         "type": "contour",
         "xaxis": "x24",
         "yaxis": "y24"
        },
        {
         "marker": {
          "color": "black",
          "line": {
           "color": "Gray",
           "width": 2.0
          }
         },
         "mode": "markers",
         "name": "Feasible Trial",
         "showlegend": false,
         "x": [
          "depthwise",
          "lossguide",
          "lossguide",
          "depthwise"
         ],
         "y": [
          0.08927180304353628,
          0.011097554561103107,
          0.010242318938703103,
          0.01314981250761057
         ],
         "type": "scatter",
         "xaxis": "x24",
         "yaxis": "y24"
        },
        {
         "colorbar": {
          "title": {
           "text": "Objective Value"
          }
         },
         "colorscale": [
          [
           0.0,
           "rgb(247,251,255)"
          ],
          [
           0.125,
           "rgb(222,235,247)"
          ],
          [
           0.25,
           "rgb(198,219,239)"
          ],
          [
           0.375,
           "rgb(158,202,225)"
          ],
          [
           0.5,
           "rgb(107,174,214)"
          ],
          [
           0.625,
           "rgb(66,146,198)"
          ],
          [
           0.75,
           "rgb(33,113,181)"
          ],
          [
           0.875,
           "rgb(8,81,156)"
          ],
          [
           1.0,
           "rgb(8,48,107)"
          ]
         ],
         "connectgaps": true,
         "contours": {
          "coloring": "heatmap"
         },
         "hoverinfo": "none",
         "line": {
          "smoothing": 1.3
         },
         "reversescale": true,
         "showscale": false,
         "x": [
          "depthwise",
          "lossguide"
         ],
         "y": [
          313.6,
          320,
          384,
          448,
          454.4
         ],
         "z": {
          "dtype": "f8",
          "bdata": "AAAAAAAA+H8AAAAAAAD4fwAAAAAAAPh/S9qnwyF7gz9PVijOBzCEP6s3wDvTOoM/PGdMeDp+gz8AAAAAAAD4fwAAAAAAAPh/AAAAAAAA+H8=",
          "shape": "5, 2"
         },
         "type": "contour",
         "xaxis": "x35",
         "yaxis": "y35"
        },
        {
         "marker": {
          "color": "black",
          "line": {
           "color": "Gray",
           "width": 2.0
          }
         },
         "mode": "markers",
         "name": "Feasible Trial",
         "showlegend": false,
         "x": [
          "depthwise",
          "lossguide",
          "lossguide",
          "depthwise"
         ],
         "y": [
          384,
          320,
          384,
          448
         ],
         "type": "scatter",
         "xaxis": "x35",
         "yaxis": "y35"
        },
        {
         "colorbar": {
          "title": {
           "text": "Objective Value"
          }
         },
         "colorscale": [
          [
           0.0,
           "rgb(247,251,255)"
          ],
          [
           0.125,
           "rgb(222,235,247)"
          ],
          [
           0.25,
           "rgb(198,219,239)"
          ],
          [
           0.375,
           "rgb(158,202,225)"
          ],
          [
           0.5,
           "rgb(107,174,214)"
          ],
          [
           0.625,
           "rgb(66,146,198)"
          ],
          [
           0.75,
           "rgb(33,113,181)"
          ],
          [
           0.875,
           "rgb(8,81,156)"
          ],
          [
           1.0,
           "rgb(8,48,107)"
          ]
         ],
         "connectgaps": true,
         "contours": {
          "coloring": "heatmap"
         },
         "hoverinfo": "none",
         "line": {
          "smoothing": 1.3
         },
         "reversescale": true,
         "showscale": false,
         "x": [
          "depthwise",
          "lossguide"
         ],
         "y": [
          2.75,
          3,
          5,
          8,
          8.25
         ],
         "z": {
          "dtype": "f8",
          "bdata": "AAAAAAAA+H8AAAAAAAD4fzxnTHg6foM/qzfAO9M6gz8AAAAAAAD4f0vap8Mhe4M/T1YozgcwhD8AAAAAAAD4fwAAAAAAAPh/AAAAAAAA+H8=",
          "shape": "5, 2"
         },
         "type": "contour",
         "xaxis": "x46",
         "yaxis": "y46"
        },
        {
         "marker": {
          "color": "black",
          "line": {
           "color": "Gray",
           "width": 2.0
          }
         },
         "mode": "markers",
         "name": "Feasible Trial",
         "showlegend": false,
         "x": [
          "depthwise",
          "lossguide",
          "lossguide",
          "depthwise"
         ],
         "y": [
          8,
          5,
          3,
          3
         ],
         "type": "scatter",
         "xaxis": "x46",
         "yaxis": "y46"
        },
        {
         "colorbar": {
          "title": {
           "text": "Objective Value"
          }
         },
         "colorscale": [
          [
           0.0,
           "rgb(247,251,255)"
          ],
          [
           0.125,
           "rgb(222,235,247)"
          ],
          [
           0.25,
           "rgb(198,219,239)"
          ],
          [
           0.375,
           "rgb(158,202,225)"
          ],
          [
           0.5,
           "rgb(107,174,214)"
          ],
          [
           0.625,
           "rgb(66,146,198)"
          ],
          [
           0.75,
           "rgb(33,113,181)"
          ],
          [
           0.875,
           "rgb(8,81,156)"
          ],
          [
           1.0,
           "rgb(8,48,107)"
          ]
         ],
         "connectgaps": true,
         "contours": {
          "coloring": "heatmap"
         },
         "hoverinfo": "none",
         "line": {
          "smoothing": 1.3
         },
         "reversescale": true,
         "showscale": false,
         "x": [
          "depthwise",
          "lossguide"
         ],
         "y": [
          51.2,
          64,
          320,
          332.8
         ],
         "z": {
          "dtype": "f8",
          "bdata": "AAAAAAAA+H8AAAAAAAD4fwAAAAAAAPh/S9qnwyF7gz8AAAAAAAD4f6s3wDvTOoM/AAAAAAAA+H8AAAAAAAD4fw==",
          "shape": "4, 2"
         },
         "type": "contour",
         "xaxis": "x57",
         "yaxis": "y57"
        },
        {
         "marker": {
          "color": "black",
          "line": {
           "color": "Gray",
           "width": 2.0
          }
         },
         "mode": "markers",
         "name": "Feasible Trial",
         "showlegend": false,
         "x": [
          "lossguide",
          "lossguide"
         ],
         "y": [
          64,
          320
         ],
         "type": "scatter",
         "xaxis": "x57",
         "yaxis": "y57"
        },
        {
         "colorbar": {
          "title": {
           "text": "Objective Value"
          }
         },
         "colorscale": [
          [
           0.0,
           "rgb(247,251,255)"
          ],
          [
           0.125,
           "rgb(222,235,247)"
          ],
          [
           0.25,
           "rgb(198,219,239)"
          ],
          [
           0.375,
           "rgb(158,202,225)"
          ],
          [
           0.5,
           "rgb(107,174,214)"
          ],
          [
           0.625,
           "rgb(66,146,198)"
          ],
          [
           0.75,
           "rgb(33,113,181)"
          ],
          [
           0.875,
           "rgb(8,81,156)"
          ],
          [
           1.0,
           "rgb(8,48,107)"
          ]
         ],
         "connectgaps": true,
         "contours": {
          "coloring": "heatmap"
         },
         "hoverinfo": "none",
         "line": {
          "smoothing": 1.3
         },
         "reversescale": true,
         "showscale": false,
         "x": [
          "depthwise",
          "lossguide"
         ],
         "y": [
          1.6269582925192225,
          1.981947943193925,
          6.140950886568256,
          8.373006336943329,
          9.081740956687977,
          9.43673060736268
         ],
         "z": {
          "dtype": "f8",
          "bdata": "AAAAAAAA+H8AAAAAAAD4f09WKM4HMIQ/AAAAAAAA+H88Z0x4On6DPwAAAAAAAPh/AAAAAAAA+H9L2qfDIXuDPwAAAAAAAPh/qzfAO9M6gz8AAAAAAAD4fwAAAAAAAPh/",
          "shape": "6, 2"
         },
         "type": "contour",
         "xaxis": "x68",
         "yaxis": "y68"
        },
        {
         "marker": {
          "color": "black",
          "line": {
           "color": "Gray",
           "width": 2.0
          }
         },
         "mode": "markers",
         "name": "Feasible Trial",
         "showlegend": false,
         "x": [
          "depthwise",
          "lossguide",
          "lossguide",
          "depthwise"
         ],
         "y": [
          1.981947943193925,
          8.373006336943329,
          9.081740956687977,
          6.140950886568256
         ],
         "type": "scatter",
         "xaxis": "x68",
         "yaxis": "y68"
        },
        {
         "colorbar": {
          "title": {
           "text": "Objective Value"
          }
         },
         "colorscale": [
          [
           0.0,
           "rgb(247,251,255)"
          ],
          [
           0.125,
           "rgb(222,235,247)"
          ],
          [
           0.25,
           "rgb(198,219,239)"
          ],
          [
           0.375,
           "rgb(158,202,225)"
          ],
          [
           0.5,
           "rgb(107,174,214)"
          ],
          [
           0.625,
           "rgb(66,146,198)"
          ],
          [
           0.75,
           "rgb(33,113,181)"
          ],
          [
           0.875,
           "rgb(8,81,156)"
          ],
          [
           1.0,
           "rgb(8,48,107)"
          ]
         ],
         "connectgaps": true,
         "contours": {
          "coloring": "heatmap"
         },
         "hoverinfo": "none",
         "line": {
          "smoothing": 1.3
         },
         "reversescale": true,
         "showscale": false,
         "x": [
          "depthwise",
          "lossguide"
         ],
         "y": [
          490.0,
          500,
          700,
          710.0
         ],
         "z": {
          "dtype": "f8",
          "bdata": "AAAAAAAA+H8AAAAAAAD4fwAAAAAAAPh/qzfAO9M6gz88Z0x4On6DPwAAAAAAAPh/AAAAAAAA+H8AAAAAAAD4fw==",
          "shape": "4, 2"
         },
         "type": "contour",
         "xaxis": "x79",
         "yaxis": "y79"
        },
        {
         "marker": {
          "color": "black",
          "line": {
           "color": "Gray",
           "width": 2.0
          }
         },
         "mode": "markers",
         "name": "Feasible Trial",
         "showlegend": false,
         "x": [
          "depthwise",
          "lossguide",
          "lossguide",
          "depthwise"
         ],
         "y": [
          700,
          500,
          500,
          700
         ],
         "type": "scatter",
         "xaxis": "x79",
         "yaxis": "y79"
        },
        {
         "colorbar": {
          "title": {
           "text": "Objective Value"
          }
         },
         "colorscale": [
          [
           0.0,
           "rgb(247,251,255)"
          ],
          [
           0.125,
           "rgb(222,235,247)"
          ],
          [
           0.25,
           "rgb(198,219,239)"
          ],
          [
           0.375,
           "rgb(158,202,225)"
          ],
          [
           0.5,
           "rgb(107,174,214)"
          ],
          [
           0.625,
           "rgb(66,146,198)"
          ],
          [
           0.75,
           "rgb(33,113,181)"
          ],
          [
           0.875,
           "rgb(8,81,156)"
          ],
          [
           1.0,
           "rgb(8,48,107)"
          ]
         ],
         "connectgaps": true,
         "contours": {
          "coloring": "heatmap"
         },
         "hoverinfo": "none",
         "line": {
          "smoothing": 1.3
         },
         "reversescale": true,
         "showscale": false,
         "x": [
          "depthwise",
          "lossguide"
         ],
         "y": [
          0.036460834526854294,
          0.05808361216819946,
          0.22122711070370474,
          0.3567533266935893,
          0.49053916499510275,
          0.5121619426364479
         ],
         "z": {
          "dtype": "f8",
          "bdata": "AAAAAAAA+H8AAAAAAAD4f09WKM4HMIQ/AAAAAAAA+H8AAAAAAAD4f6s3wDvTOoM/AAAAAAAA+H9L2qfDIXuDPzxnTHg6foM/AAAAAAAA+H8AAAAAAAD4fwAAAAAAAPh/",
          "shape": "6, 2"
         },
         "type": "contour",
         "xaxis": "x90",
         "yaxis": "y90"
        },
        {
         "marker": {
          "color": "black",
          "line": {
           "color": "Gray",
           "width": 2.0
          }
         },
         "mode": "markers",
         "name": "Feasible Trial",
         "showlegend": false,
         "x": [
          "depthwise",
          "lossguide",
          "lossguide",
          "depthwise"
         ],
         "y": [
          0.05808361216819946,
          0.3567533266935893,
          0.22122711070370474,
          0.49053916499510275
         ],
         "type": "scatter",
         "xaxis": "x90",
         "yaxis": "y90"
        },
        {
         "colorbar": {
          "title": {
           "text": "Objective Value"
          }
         },
         "colorscale": [
          [
           0.0,
           "rgb(247,251,255)"
          ],
          [
           0.125,
           "rgb(222,235,247)"
          ],
          [
           0.25,
           "rgb(198,219,239)"
          ],
          [
           0.375,
           "rgb(158,202,225)"
          ],
          [
           0.5,
           "rgb(107,174,214)"
          ],
          [
           0.625,
           "rgb(66,146,198)"
          ],
          [
           0.75,
           "rgb(33,113,181)"
          ],
          [
           0.875,
           "rgb(8,81,156)"
          ],
          [
           1.0,
           "rgb(8,48,107)"
          ]
         ],
         "connectgaps": true,
         "contours": {
          "coloring": "heatmap"
         },
         "hoverinfo": "none",
         "line": {
          "smoothing": 1.3
         },
         "reversescale": true,
         "showscale": false,
         "x": [
          "depthwise",
          "lossguide"
         ],
         "y": [
          1.333194896626715,
          1.4765790974681658,
          3.6585778090214838,
          3.7995864955735317,
          4.344263114297182,
          4.487647315138633
         ],
         "z": {
          "dtype": "f8",
          "bdata": "AAAAAAAA+H8AAAAAAAD4fwAAAAAAAPh/S9qnwyF7gz8AAAAAAAD4f6s3wDvTOoM/PGdMeDp+gz8AAAAAAAD4f09WKM4HMIQ/AAAAAAAA+H8AAAAAAAD4fwAAAAAAAPh/",
          "shape": "6, 2"
         },
         "type": "contour",
         "xaxis": "x101",
         "yaxis": "y101"
        },
        {
         "marker": {
          "color": "black",
          "line": {
           "color": "Gray",
           "width": 2.0
          }
         },
         "mode": "markers",
         "name": "Feasible Trial",
         "showlegend": false,
         "x": [
          "depthwise",
          "lossguide",
          "lossguide",
          "depthwise"
         ],
         "y": [
          4.344263114297182,
          1.4765790974681658,
          3.6585778090214838,
          3.7995864955735317
         ],
         "type": "scatter",
         "xaxis": "x101",
         "yaxis": "y101"
        },
        {
         "colorbar": {
          "title": {
           "text": "Objective Value"
          }
         },
         "colorscale": [
          [
           0.0,
           "rgb(247,251,255)"
          ],
          [
           0.125,
           "rgb(222,235,247)"
          ],
          [
           0.25,
           "rgb(198,219,239)"
          ],
          [
           0.375,
           "rgb(158,202,225)"
          ],
          [
           0.5,
           "rgb(107,174,214)"
          ],
          [
           0.625,
           "rgb(66,146,198)"
          ],
          [
           0.75,
           "rgb(33,113,181)"
          ],
          [
           0.875,
           "rgb(8,81,156)"
          ],
          [
           1.0,
           "rgb(8,48,107)"
          ]
         ],
         "connectgaps": true,
         "contours": {
          "coloring": "heatmap"
         },
         "hoverinfo": "none",
         "line": {
          "smoothing": 1.3
         },
         "reversescale": true,
         "showscale": false,
         "x": [
          "depthwise",
          "lossguide"
         ],
         "y": [
          0.8090585347349498,
          0.8166031869068446,
          0.8795975452591109,
          0.9158558903524459,
          0.967496230344742,
          0.9750408825166368
         ],
         "z": {
          "dtype": "f8",
          "bdata": "AAAAAAAA+H8AAAAAAAD4fwAAAAAAAPh/S9qnwyF7gz9PVijOBzCEPwAAAAAAAPh/PGdMeDp+gz8AAAAAAAD4fwAAAAAAAPh/qzfAO9M6gz8AAAAAAAD4fwAAAAAAAPh/",
          "shape": "6, 2"
         },
         "type": "contour",
         "xaxis": "x112",
         "yaxis": "y112"
        },
        {
         "marker": {
          "color": "black",
          "line": {
           "color": "Gray",
           "width": 2.0
          }
         },
         "mode": "markers",
         "name": "Feasible Trial",
         "showlegend": false,
         "x": [
          "depthwise",
          "lossguide",
          "lossguide",
          "depthwise"
         ],
         "y": [
          0.8795975452591109,
          0.8166031869068446,
          0.967496230344742,
          0.9158558903524459
         ],
         "type": "scatter",
         "xaxis": "x112",
         "yaxis": "y112"
        },
        {
         "colorbar": {
          "title": {
           "text": "Objective Value"
          }
         },
         "colorscale": [
          [
           0.0,
           "rgb(247,251,255)"
          ],
          [
           0.125,
           "rgb(222,235,247)"
          ],
          [
           0.25,
           "rgb(198,219,239)"
          ],
          [
           0.375,
           "rgb(158,202,225)"
          ],
          [
           0.5,
           "rgb(107,174,214)"
          ],
          [
           0.625,
           "rgb(66,146,198)"
          ],
          [
           0.75,
           "rgb(33,113,181)"
          ],
          [
           0.875,
           "rgb(8,81,156)"
          ],
          [
           1.0,
           "rgb(8,48,107)"
          ]
         ],
         "connectgaps": true,
         "contours": {
          "coloring": "heatmap"
         },
         "hoverinfo": "none",
         "line": {
          "smoothing": 1.3
         },
         "reversescale": true,
         "showscale": false,
         "x": [
          0.009191417528721072,
          0.010242318938703103,
          0.011097554561103107,
          0.01314981250761057,
          0.08927180304353628,
          0.09947870131542277
         ],
         "y": [
          0.7441305089421173,
          0.7468055921327309,
          0.7668022557458023,
          0.7814047095321688,
          0.8003072559450032,
          0.8029823391356168
         ],
         "z": {
          "dtype": "f8",
          "bdata": "AAAAAAAA+H8AAAAAAAD4fwAAAAAAAPh/AAAAAAAA+H8AAAAAAAD4fwAAAAAAAPh/AAAAAAAA+H8AAAAAAAD4fwAAAAAAAPh/AAAAAAAA+H9PVijOBzCEPwAAAAAAAPh/AAAAAAAA+H8AAAAAAAD4fwAAAAAAAPh/PGdMeDp+gz8AAAAAAAD4fwAAAAAAAPh/AAAAAAAA+H8AAAAAAAD4f0vap8Mhe4M/AAAAAAAA+H8AAAAAAAD4fwAAAAAAAPh/AAAAAAAA+H+rN8A70zqDPwAAAAAAAPh/AAAAAAAA+H8AAAAAAAD4fwAAAAAAAPh/AAAAAAAA+H8AAAAAAAD4fwAAAAAAAPh/AAAAAAAA+H8AAAAAAAD4fwAAAAAAAPh/",
          "shape": "6, 6"
         },
         "type": "contour",
         "xaxis": "x3",
         "yaxis": "y3"
        },
        {
         "marker": {
          "color": "black",
          "line": {
           "color": "Gray",
           "width": 2.0
          }
         },
         "mode": "markers",
         "name": "Feasible Trial",
         "showlegend": false,
         "x": [
          0.08927180304353628,
          0.011097554561103107,
          0.010242318938703103,
          0.01314981250761057
         ],
         "y": [
          0.7468055921327309,
          0.7814047095321688,
          0.8003072559450032,
          0.7668022557458023
         ],
         "type": "scatter",
         "xaxis": "x3",
         "yaxis": "y3"
        },
        {
         "colorbar": {
          "title": {
           "text": "Objective Value"
          }
         },
         "colorscale": [
          [
           0.0,
           "rgb(247,251,255)"
          ],
          [
           0.125,
           "rgb(222,235,247)"
          ],
          [
           0.25,
           "rgb(198,219,239)"
          ],
          [
           0.375,
           "rgb(158,202,225)"
          ],
          [
           0.5,
           "rgb(107,174,214)"
          ],
          [
           0.625,
           "rgb(66,146,198)"
          ],
          [
           0.75,
           "rgb(33,113,181)"
          ],
          [
           0.875,
           "rgb(8,81,156)"
          ],
          [
           1.0,
           "rgb(8,48,107)"
          ]
         ],
         "connectgaps": true,
         "contours": {
          "coloring": "heatmap"
         },
         "hoverinfo": "none",
         "line": {
          "smoothing": 1.3
         },
         "reversescale": true,
         "showscale": false,
         "x": [
          0.009191417528721072,
          0.010242318938703103,
          0.011097554561103107,
          0.01314981250761057,
          0.08927180304353628,
          0.09947870131542277
         ],
         "y": [
          "depthwise",
          "lossguide"
         ],
         "z": {
          "dtype": "f8",
          "bdata": "AAAAAAAA+H8AAAAAAAD4fwAAAAAAAPh/PGdMeDp+gz9PVijOBzCEPwAAAAAAAPh/AAAAAAAA+H+rN8A70zqDP0vap8Mhe4M/AAAAAAAA+H8AAAAAAAD4fwAAAAAAAPh/",
          "shape": "2, 6"
         },
         "type": "contour",
         "xaxis": "x14",
         "yaxis": "y14"
        },
        {
         "marker": {
          "color": "black",
          "line": {
           "color": "Gray",
           "width": 2.0
          }
         },
         "mode": "markers",
         "name": "Feasible Trial",
         "showlegend": false,
         "x": [
          0.08927180304353628,
          0.011097554561103107,
          0.010242318938703103,
          0.01314981250761057
         ],
         "y": [
          "depthwise",
          "lossguide",
          "lossguide",
          "depthwise"
         ],
         "type": "scatter",
         "xaxis": "x14",
         "yaxis": "y14"
        },
        {
         "type": "scatter",
         "xaxis": "x25",
         "yaxis": "y25"
        },
        {
         "colorbar": {
          "title": {
           "text": "Objective Value"
          }
         },
         "colorscale": [
          [
           0.0,
           "rgb(247,251,255)"
          ],
          [
           0.125,
           "rgb(222,235,247)"
          ],
          [
           0.25,
           "rgb(198,219,239)"
          ],
          [
           0.375,
           "rgb(158,202,225)"
          ],
          [
           0.5,
           "rgb(107,174,214)"
          ],
          [
           0.625,
           "rgb(66,146,198)"
          ],
          [
           0.75,
           "rgb(33,113,181)"
          ],
          [
           0.875,
           "rgb(8,81,156)"
          ],
          [
           1.0,
           "rgb(8,48,107)"
          ]
         ],
         "connectgaps": true,
         "contours": {
          "coloring": "heatmap"
         },
         "hoverinfo": "none",
         "line": {
          "smoothing": 1.3
         },
         "reversescale": true,
         "showscale": false,
         "x": [
          0.009191417528721072,
          0.010242318938703103,
          0.011097554561103107,
          0.01314981250761057,
          0.08927180304353628,
          0.09947870131542277
         ],
         "y": [
          313.6,
          320,
          384,
          448,
          454.4
         ],
         "z": {
          "dtype": "f8",
          "bdata": "AAAAAAAA+H8AAAAAAAD4fwAAAAAAAPh/AAAAAAAA+H8AAAAAAAD4fwAAAAAAAPh/AAAAAAAA+H8AAAAAAAD4f0vap8Mhe4M/AAAAAAAA+H8AAAAAAAD4fwAAAAAAAPh/AAAAAAAA+H+rN8A70zqDPwAAAAAAAPh/AAAAAAAA+H9PVijOBzCEPwAAAAAAAPh/AAAAAAAA+H8AAAAAAAD4fwAAAAAAAPh/PGdMeDp+gz8AAAAAAAD4fwAAAAAAAPh/AAAAAAAA+H8AAAAAAAD4fwAAAAAAAPh/AAAAAAAA+H8AAAAAAAD4fwAAAAAAAPh/",
          "shape": "5, 6"
         },
         "type": "contour",
         "xaxis": "x36",
         "yaxis": "y36"
        },
        {
         "marker": {
          "color": "black",
          "line": {
           "color": "Gray",
           "width": 2.0
          }
         },
         "mode": "markers",
         "name": "Feasible Trial",
         "showlegend": false,
         "x": [
          0.08927180304353628,
          0.011097554561103107,
          0.010242318938703103,
          0.01314981250761057
         ],
         "y": [
          384,
          320,
          384,
          448
         ],
         "type": "scatter",
         "xaxis": "x36",
         "yaxis": "y36"
        },
        {
         "colorbar": {
          "title": {
           "text": "Objective Value"
          }
         },
         "colorscale": [
          [
           0.0,
           "rgb(247,251,255)"
          ],
          [
           0.125,
           "rgb(222,235,247)"
          ],
          [
           0.25,
           "rgb(198,219,239)"
          ],
          [
           0.375,
           "rgb(158,202,225)"
          ],
          [
           0.5,
           "rgb(107,174,214)"
          ],
          [
           0.625,
           "rgb(66,146,198)"
          ],
          [
           0.75,
           "rgb(33,113,181)"
          ],
          [
           0.875,
           "rgb(8,81,156)"
          ],
          [
           1.0,
           "rgb(8,48,107)"
          ]
         ],
         "connectgaps": true,
         "contours": {
          "coloring": "heatmap"
         },
         "hoverinfo": "none",
         "line": {
          "smoothing": 1.3
         },
         "reversescale": true,
         "showscale": false,
         "x": [
          0.009191417528721072,
          0.010242318938703103,
          0.011097554561103107,
          0.01314981250761057,
          0.08927180304353628,
          0.09947870131542277
         ],
         "y": [
          2.75,
          3,
          5,
          8,
          8.25
         ],
         "z": {
          "dtype": "f8",
          "bdata": "AAAAAAAA+H8AAAAAAAD4fwAAAAAAAPh/AAAAAAAA+H8AAAAAAAD4fwAAAAAAAPh/AAAAAAAA+H+rN8A70zqDPwAAAAAAAPh/PGdMeDp+gz8AAAAAAAD4fwAAAAAAAPh/AAAAAAAA+H8AAAAAAAD4f0vap8Mhe4M/AAAAAAAA+H8AAAAAAAD4fwAAAAAAAPh/AAAAAAAA+H8AAAAAAAD4fwAAAAAAAPh/AAAAAAAA+H9PVijOBzCEPwAAAAAAAPh/AAAAAAAA+H8AAAAAAAD4fwAAAAAAAPh/AAAAAAAA+H8AAAAAAAD4fwAAAAAAAPh/",
          "shape": "5, 6"
         },
         "type": "contour",
         "xaxis": "x47",
         "yaxis": "y47"
        },
        {
         "marker": {
          "color": "black",
          "line": {
           "color": "Gray",
           "width": 2.0
          }
         },
         "mode": "markers",
         "name": "Feasible Trial",
         "showlegend": false,
         "x": [
          0.08927180304353628,
          0.011097554561103107,
          0.010242318938703103,
          0.01314981250761057
         ],
         "y": [
          8,
          5,
          3,
          3
         ],
         "type": "scatter",
         "xaxis": "x47",
         "yaxis": "y47"
        },
        {
         "colorbar": {
          "title": {
           "text": "Objective Value"
          }
         },
         "colorscale": [
          [
           0.0,
           "rgb(247,251,255)"
          ],
          [
           0.125,
           "rgb(222,235,247)"
          ],
          [
           0.25,
           "rgb(198,219,239)"
          ],
          [
           0.375,
           "rgb(158,202,225)"
          ],
          [
           0.5,
           "rgb(107,174,214)"
          ],
          [
           0.625,
           "rgb(66,146,198)"
          ],
          [
           0.75,
           "rgb(33,113,181)"
          ],
          [
           0.875,
           "rgb(8,81,156)"
          ],
          [
           1.0,
           "rgb(8,48,107)"
          ]
         ],
         "connectgaps": true,
         "contours": {
          "coloring": "heatmap"
         },
         "hoverinfo": "none",
         "line": {
          "smoothing": 1.3
         },
         "reversescale": true,
         "showscale": false,
         "x": [
          0.009191417528721072,
          0.010242318938703103,
          0.011097554561103107,
          0.01314981250761057,
          0.08927180304353628,
          0.09947870131542277
         ],
         "y": [
          51.2,
          64,
          320,
          332.8
         ],
         "z": {
          "dtype": "f8",
          "bdata": "AAAAAAAA+H8AAAAAAAD4fwAAAAAAAPh/AAAAAAAA+H8AAAAAAAD4fwAAAAAAAPh/AAAAAAAA+H8AAAAAAAD4f0vap8Mhe4M/AAAAAAAA+H8AAAAAAAD4fwAAAAAAAPh/AAAAAAAA+H+rN8A70zqDPwAAAAAAAPh/AAAAAAAA+H8AAAAAAAD4fwAAAAAAAPh/AAAAAAAA+H8AAAAAAAD4fwAAAAAAAPh/AAAAAAAA+H8AAAAAAAD4fwAAAAAAAPh/",
          "shape": "4, 6"
         },
         "type": "contour",
         "xaxis": "x58",
         "yaxis": "y58"
        },
        {
         "marker": {
          "color": "black",
          "line": {
           "color": "Gray",
           "width": 2.0
          }
         },
         "mode": "markers",
         "name": "Feasible Trial",
         "showlegend": false,
         "x": [
          0.011097554561103107,
          0.010242318938703103
         ],
         "y": [
          64,
          320
         ],
         "type": "scatter",
         "xaxis": "x58",
         "yaxis": "y58"
        },
        {
         "colorbar": {
          "title": {
           "text": "Objective Value"
          }
         },
         "colorscale": [
          [
           0.0,
           "rgb(247,251,255)"
          ],
          [
           0.125,
           "rgb(222,235,247)"
          ],
          [
           0.25,
           "rgb(198,219,239)"
          ],
          [
           0.375,
           "rgb(158,202,225)"
          ],
          [
           0.5,
           "rgb(107,174,214)"
          ],
          [
           0.625,
           "rgb(66,146,198)"
          ],
          [
           0.75,
           "rgb(33,113,181)"
          ],
          [
           0.875,
           "rgb(8,81,156)"
          ],
          [
           1.0,
           "rgb(8,48,107)"
          ]
         ],
         "connectgaps": true,
         "contours": {
          "coloring": "heatmap"
         },
         "hoverinfo": "none",
         "line": {
          "smoothing": 1.3
         },
         "reversescale": true,
         "showscale": false,
         "x": [
          0.009191417528721072,
          0.010242318938703103,
          0.011097554561103107,
          0.01314981250761057,
          0.08927180304353628,
          0.09947870131542277
         ],
         "y": [
          1.6269582925192225,
          1.981947943193925,
          6.140950886568256,
          8.373006336943329,
          9.081740956687977,
          9.43673060736268
         ],
         "z": {
          "dtype": "f8",
          "bdata": "AAAAAAAA+H8AAAAAAAD4fwAAAAAAAPh/AAAAAAAA+H8AAAAAAAD4fwAAAAAAAPh/AAAAAAAA+H8AAAAAAAD4fwAAAAAAAPh/AAAAAAAA+H9PVijOBzCEPwAAAAAAAPh/AAAAAAAA+H8AAAAAAAD4fwAAAAAAAPh/PGdMeDp+gz8AAAAAAAD4fwAAAAAAAPh/AAAAAAAA+H8AAAAAAAD4f0vap8Mhe4M/AAAAAAAA+H8AAAAAAAD4fwAAAAAAAPh/AAAAAAAA+H+rN8A70zqDPwAAAAAAAPh/AAAAAAAA+H8AAAAAAAD4fwAAAAAAAPh/AAAAAAAA+H8AAAAAAAD4fwAAAAAAAPh/AAAAAAAA+H8AAAAAAAD4fwAAAAAAAPh/",
          "shape": "6, 6"
         },
         "type": "contour",
         "xaxis": "x69",
         "yaxis": "y69"
        },
        {
         "marker": {
          "color": "black",
          "line": {
           "color": "Gray",
           "width": 2.0
          }
         },
         "mode": "markers",
         "name": "Feasible Trial",
         "showlegend": false,
         "x": [
          0.08927180304353628,
          0.011097554561103107,
          0.010242318938703103,
          0.01314981250761057
         ],
         "y": [
          1.981947943193925,
          8.373006336943329,
          9.081740956687977,
          6.140950886568256
         ],
         "type": "scatter",
         "xaxis": "x69",
         "yaxis": "y69"
        },
        {
         "colorbar": {
          "title": {
           "text": "Objective Value"
          }
         },
         "colorscale": [
          [
           0.0,
           "rgb(247,251,255)"
          ],
          [
           0.125,
           "rgb(222,235,247)"
          ],
          [
           0.25,
           "rgb(198,219,239)"
          ],
          [
           0.375,
           "rgb(158,202,225)"
          ],
          [
           0.5,
           "rgb(107,174,214)"
          ],
          [
           0.625,
           "rgb(66,146,198)"
          ],
          [
           0.75,
           "rgb(33,113,181)"
          ],
          [
           0.875,
           "rgb(8,81,156)"
          ],
          [
           1.0,
           "rgb(8,48,107)"
          ]
         ],
         "connectgaps": true,
         "contours": {
          "coloring": "heatmap"
         },
         "hoverinfo": "none",
         "line": {
          "smoothing": 1.3
         },
         "reversescale": true,
         "showscale": false,
         "x": [
          0.009191417528721072,
          0.010242318938703103,
          0.011097554561103107,
          0.01314981250761057,
          0.08927180304353628,
          0.09947870131542277
         ],
         "y": [
          490.0,
          500,
          700,
          710.0
         ],
         "z": {
          "dtype": "f8",
          "bdata": "AAAAAAAA+H8AAAAAAAD4fwAAAAAAAPh/AAAAAAAA+H8AAAAAAAD4fwAAAAAAAPh/AAAAAAAA+H+rN8A70zqDP0vap8Mhe4M/AAAAAAAA+H8AAAAAAAD4fwAAAAAAAPh/AAAAAAAA+H8AAAAAAAD4fwAAAAAAAPh/PGdMeDp+gz9PVijOBzCEPwAAAAAAAPh/AAAAAAAA+H8AAAAAAAD4fwAAAAAAAPh/AAAAAAAA+H8AAAAAAAD4fwAAAAAAAPh/",
          "shape": "4, 6"
         },
         "type": "contour",
         "xaxis": "x80",
         "yaxis": "y80"
        },
        {
         "marker": {
          "color": "black",
          "line": {
           "color": "Gray",
           "width": 2.0
          }
         },
         "mode": "markers",
         "name": "Feasible Trial",
         "showlegend": false,
         "x": [
          0.08927180304353628,
          0.011097554561103107,
          0.010242318938703103,
          0.01314981250761057
         ],
         "y": [
          700,
          500,
          500,
          700
         ],
         "type": "scatter",
         "xaxis": "x80",
         "yaxis": "y80"
        },
        {
         "colorbar": {
          "title": {
           "text": "Objective Value"
          }
         },
         "colorscale": [
          [
           0.0,
           "rgb(247,251,255)"
          ],
          [
           0.125,
           "rgb(222,235,247)"
          ],
          [
           0.25,
           "rgb(198,219,239)"
          ],
          [
           0.375,
           "rgb(158,202,225)"
          ],
          [
           0.5,
           "rgb(107,174,214)"
          ],
          [
           0.625,
           "rgb(66,146,198)"
          ],
          [
           0.75,
           "rgb(33,113,181)"
          ],
          [
           0.875,
           "rgb(8,81,156)"
          ],
          [
           1.0,
           "rgb(8,48,107)"
          ]
         ],
         "connectgaps": true,
         "contours": {
          "coloring": "heatmap"
         },
         "hoverinfo": "none",
         "line": {
          "smoothing": 1.3
         },
         "reversescale": true,
         "showscale": false,
         "x": [
          0.009191417528721072,
          0.010242318938703103,
          0.011097554561103107,
          0.01314981250761057,
          0.08927180304353628,
          0.09947870131542277
         ],
         "y": [
          0.036460834526854294,
          0.05808361216819946,
          0.22122711070370474,
          0.3567533266935893,
          0.49053916499510275,
          0.5121619426364479
         ],
         "z": {
          "dtype": "f8",
          "bdata": "AAAAAAAA+H8AAAAAAAD4fwAAAAAAAPh/AAAAAAAA+H8AAAAAAAD4fwAAAAAAAPh/AAAAAAAA+H8AAAAAAAD4fwAAAAAAAPh/AAAAAAAA+H9PVijOBzCEPwAAAAAAAPh/AAAAAAAA+H+rN8A70zqDPwAAAAAAAPh/AAAAAAAA+H8AAAAAAAD4fwAAAAAAAPh/AAAAAAAA+H8AAAAAAAD4f0vap8Mhe4M/AAAAAAAA+H8AAAAAAAD4fwAAAAAAAPh/AAAAAAAA+H8AAAAAAAD4fwAAAAAAAPh/PGdMeDp+gz8AAAAAAAD4fwAAAAAAAPh/AAAAAAAA+H8AAAAAAAD4fwAAAAAAAPh/AAAAAAAA+H8AAAAAAAD4fwAAAAAAAPh/",
          "shape": "6, 6"
         },
         "type": "contour",
         "xaxis": "x91",
         "yaxis": "y91"
        },
        {
         "marker": {
          "color": "black",
          "line": {
           "color": "Gray",
           "width": 2.0
          }
         },
         "mode": "markers",
         "name": "Feasible Trial",
         "showlegend": false,
         "x": [
          0.08927180304353628,
          0.011097554561103107,
          0.010242318938703103,
          0.01314981250761057
         ],
         "y": [
          0.05808361216819946,
          0.3567533266935893,
          0.22122711070370474,
          0.49053916499510275
         ],
         "type": "scatter",
         "xaxis": "x91",
         "yaxis": "y91"
        },
        {
         "colorbar": {
          "title": {
           "text": "Objective Value"
          }
         },
         "colorscale": [
          [
           0.0,
           "rgb(247,251,255)"
          ],
          [
           0.125,
           "rgb(222,235,247)"
          ],
          [
           0.25,
           "rgb(198,219,239)"
          ],
          [
           0.375,
           "rgb(158,202,225)"
          ],
          [
           0.5,
           "rgb(107,174,214)"
          ],
          [
           0.625,
           "rgb(66,146,198)"
          ],
          [
           0.75,
           "rgb(33,113,181)"
          ],
          [
           0.875,
           "rgb(8,81,156)"
          ],
          [
           1.0,
           "rgb(8,48,107)"
          ]
         ],
         "connectgaps": true,
         "contours": {
          "coloring": "heatmap"
         },
         "hoverinfo": "none",
         "line": {
          "smoothing": 1.3
         },
         "reversescale": true,
         "showscale": false,
         "x": [
          0.009191417528721072,
          0.010242318938703103,
          0.011097554561103107,
          0.01314981250761057,
          0.08927180304353628,
          0.09947870131542277
         ],
         "y": [
          1.333194896626715,
          1.4765790974681658,
          3.6585778090214838,
          3.7995864955735317,
          4.344263114297182,
          4.487647315138633
         ],
         "z": {
          "dtype": "f8",
          "bdata": "AAAAAAAA+H8AAAAAAAD4fwAAAAAAAPh/AAAAAAAA+H8AAAAAAAD4fwAAAAAAAPh/AAAAAAAA+H8AAAAAAAD4f0vap8Mhe4M/AAAAAAAA+H8AAAAAAAD4fwAAAAAAAPh/AAAAAAAA+H+rN8A70zqDPwAAAAAAAPh/AAAAAAAA+H8AAAAAAAD4fwAAAAAAAPh/AAAAAAAA+H8AAAAAAAD4fwAAAAAAAPh/PGdMeDp+gz8AAAAAAAD4fwAAAAAAAPh/AAAAAAAA+H8AAAAAAAD4fwAAAAAAAPh/AAAAAAAA+H9PVijOBzCEPwAAAAAAAPh/AAAAAAAA+H8AAAAAAAD4fwAAAAAAAPh/AAAAAAAA+H8AAAAAAAD4fwAAAAAAAPh/",
          "shape": "6, 6"
         },
         "type": "contour",
         "xaxis": "x102",
         "yaxis": "y102"
        },
        {
         "marker": {
          "color": "black",
          "line": {
           "color": "Gray",
           "width": 2.0
          }
         },
         "mode": "markers",
         "name": "Feasible Trial",
         "showlegend": false,
         "x": [
          0.08927180304353628,
          0.011097554561103107,
          0.010242318938703103,
          0.01314981250761057
         ],
         "y": [
          4.344263114297182,
          1.4765790974681658,
          3.6585778090214838,
          3.7995864955735317
         ],
         "type": "scatter",
         "xaxis": "x102",
         "yaxis": "y102"
        },
        {
         "colorbar": {
          "title": {
           "text": "Objective Value"
          }
         },
         "colorscale": [
          [
           0.0,
           "rgb(247,251,255)"
          ],
          [
           0.125,
           "rgb(222,235,247)"
          ],
          [
           0.25,
           "rgb(198,219,239)"
          ],
          [
           0.375,
           "rgb(158,202,225)"
          ],
          [
           0.5,
           "rgb(107,174,214)"
          ],
          [
           0.625,
           "rgb(66,146,198)"
          ],
          [
           0.75,
           "rgb(33,113,181)"
          ],
          [
           0.875,
           "rgb(8,81,156)"
          ],
          [
           1.0,
           "rgb(8,48,107)"
          ]
         ],
         "connectgaps": true,
         "contours": {
          "coloring": "heatmap"
         },
         "hoverinfo": "none",
         "line": {
          "smoothing": 1.3
         },
         "reversescale": true,
         "showscale": false,
         "x": [
          0.009191417528721072,
          0.010242318938703103,
          0.011097554561103107,
          0.01314981250761057,
          0.08927180304353628,
          0.09947870131542277
         ],
         "y": [
          0.8090585347349498,
          0.8166031869068446,
          0.8795975452591109,
          0.9158558903524459,
          0.967496230344742,
          0.9750408825166368
         ],
         "z": {
          "dtype": "f8",
          "bdata": "AAAAAAAA+H8AAAAAAAD4fwAAAAAAAPh/AAAAAAAA+H8AAAAAAAD4fwAAAAAAAPh/AAAAAAAA+H8AAAAAAAD4f0vap8Mhe4M/AAAAAAAA+H8AAAAAAAD4fwAAAAAAAPh/AAAAAAAA+H8AAAAAAAD4fwAAAAAAAPh/AAAAAAAA+H9PVijOBzCEPwAAAAAAAPh/AAAAAAAA+H8AAAAAAAD4fwAAAAAAAPh/PGdMeDp+gz8AAAAAAAD4fwAAAAAAAPh/AAAAAAAA+H+rN8A70zqDPwAAAAAAAPh/AAAAAAAA+H8AAAAAAAD4fwAAAAAAAPh/AAAAAAAA+H8AAAAAAAD4fwAAAAAAAPh/AAAAAAAA+H8AAAAAAAD4fwAAAAAAAPh/",
          "shape": "6, 6"
         },
         "type": "contour",
         "xaxis": "x113",
         "yaxis": "y113"
        },
        {
         "marker": {
          "color": "black",
          "line": {
           "color": "Gray",
           "width": 2.0
          }
         },
         "mode": "markers",
         "name": "Feasible Trial",
         "showlegend": false,
         "x": [
          0.08927180304353628,
          0.011097554561103107,
          0.010242318938703103,
          0.01314981250761057
         ],
         "y": [
          0.8795975452591109,
          0.8166031869068446,
          0.967496230344742,
          0.9158558903524459
         ],
         "type": "scatter",
         "xaxis": "x113",
         "yaxis": "y113"
        },
        {
         "colorbar": {
          "title": {
           "text": "Objective Value"
          }
         },
         "colorscale": [
          [
           0.0,
           "rgb(247,251,255)"
          ],
          [
           0.125,
           "rgb(222,235,247)"
          ],
          [
           0.25,
           "rgb(198,219,239)"
          ],
          [
           0.375,
           "rgb(158,202,225)"
          ],
          [
           0.5,
           "rgb(107,174,214)"
          ],
          [
           0.625,
           "rgb(66,146,198)"
          ],
          [
           0.75,
           "rgb(33,113,181)"
          ],
          [
           0.875,
           "rgb(8,81,156)"
          ],
          [
           1.0,
           "rgb(8,48,107)"
          ]
         ],
         "connectgaps": true,
         "contours": {
          "coloring": "heatmap"
         },
         "hoverinfo": "none",
         "line": {
          "smoothing": 1.3
         },
         "reversescale": true,
         "showscale": false,
         "x": [
          313.6,
          320,
          384,
          448,
          454.4
         ],
         "y": [
          0.7441305089421173,
          0.7468055921327309,
          0.7668022557458023,
          0.7814047095321688,
          0.8003072559450032,
          0.8029823391356168
         ],
         "z": {
          "dtype": "f8",
          "bdata": "AAAAAAAA+H8AAAAAAAD4fwAAAAAAAPh/AAAAAAAA+H8AAAAAAAD4fwAAAAAAAPh/AAAAAAAA+H9PVijOBzCEPwAAAAAAAPh/AAAAAAAA+H8AAAAAAAD4fwAAAAAAAPh/AAAAAAAA+H88Z0x4On6DPwAAAAAAAPh/AAAAAAAA+H9L2qfDIXuDPwAAAAAAAPh/AAAAAAAA+H8AAAAAAAD4fwAAAAAAAPh/AAAAAAAA+H+rN8A70zqDPwAAAAAAAPh/AAAAAAAA+H8AAAAAAAD4fwAAAAAAAPh/AAAAAAAA+H8AAAAAAAD4fwAAAAAAAPh/",
          "shape": "6, 5"
         },
         "type": "contour",
         "xaxis": "x4",
         "yaxis": "y4"
        },
        {
         "marker": {
          "color": "black",
          "line": {
           "color": "Gray",
           "width": 2.0
          }
         },
         "mode": "markers",
         "name": "Feasible Trial",
         "showlegend": false,
         "x": [
          384,
          320,
          384,
          448
         ],
         "y": [
          0.7468055921327309,
          0.7814047095321688,
          0.8003072559450032,
          0.7668022557458023
         ],
         "type": "scatter",
         "xaxis": "x4",
         "yaxis": "y4"
        },
        {
         "colorbar": {
          "title": {
           "text": "Objective Value"
          }
         },
         "colorscale": [
          [
           0.0,
           "rgb(247,251,255)"
          ],
          [
           0.125,
           "rgb(222,235,247)"
          ],
          [
           0.25,
           "rgb(198,219,239)"
          ],
          [
           0.375,
           "rgb(158,202,225)"
          ],
          [
           0.5,
           "rgb(107,174,214)"
          ],
          [
           0.625,
           "rgb(66,146,198)"
          ],
          [
           0.75,
           "rgb(33,113,181)"
          ],
          [
           0.875,
           "rgb(8,81,156)"
          ],
          [
           1.0,
           "rgb(8,48,107)"
          ]
         ],
         "connectgaps": true,
         "contours": {
          "coloring": "heatmap"
         },
         "hoverinfo": "none",
         "line": {
          "smoothing": 1.3
         },
         "reversescale": true,
         "showscale": false,
         "x": [
          313.6,
          320,
          384,
          448,
          454.4
         ],
         "y": [
          "depthwise",
          "lossguide"
         ],
         "z": {
          "dtype": "f8",
          "bdata": "AAAAAAAA+H8AAAAAAAD4f09WKM4HMIQ/PGdMeDp+gz8AAAAAAAD4fwAAAAAAAPh/S9qnwyF7gz+rN8A70zqDPwAAAAAAAPh/AAAAAAAA+H8=",
          "shape": "2, 5"
         },
         "type": "contour",
         "xaxis": "x15",
         "yaxis": "y15"
        },
        {
         "marker": {
          "color": "black",
          "line": {
           "color": "Gray",
           "width": 2.0
          }
         },
         "mode": "markers",
         "name": "Feasible Trial",
         "showlegend": false,
         "x": [
          384,
          320,
          384,
          448
         ],
         "y": [
          "depthwise",
          "lossguide",
          "lossguide",
          "depthwise"
         ],
         "type": "scatter",
         "xaxis": "x15",
         "yaxis": "y15"
        },
        {
         "colorbar": {
          "title": {
           "text": "Objective Value"
          }
         },
         "colorscale": [
          [
           0.0,
           "rgb(247,251,255)"
          ],
          [
           0.125,
           "rgb(222,235,247)"
          ],
          [
           0.25,
           "rgb(198,219,239)"
          ],
          [
           0.375,
           "rgb(158,202,225)"
          ],
          [
           0.5,
           "rgb(107,174,214)"
          ],
          [
           0.625,
           "rgb(66,146,198)"
          ],
          [
           0.75,
           "rgb(33,113,181)"
          ],
          [
           0.875,
           "rgb(8,81,156)"
          ],
          [
           1.0,
           "rgb(8,48,107)"
          ]
         ],
         "connectgaps": true,
         "contours": {
          "coloring": "heatmap"
         },
         "hoverinfo": "none",
         "line": {
          "smoothing": 1.3
         },
         "reversescale": true,
         "showscale": false,
         "x": [
          313.6,
          320,
          384,
          448,
          454.4
         ],
         "y": [
          0.009191417528721072,
          0.010242318938703103,
          0.011097554561103107,
          0.01314981250761057,
          0.08927180304353628,
          0.09947870131542277
         ],
         "z": {
          "dtype": "f8",
          "bdata": "AAAAAAAA+H8AAAAAAAD4fwAAAAAAAPh/AAAAAAAA+H8AAAAAAAD4fwAAAAAAAPh/AAAAAAAA+H+rN8A70zqDPwAAAAAAAPh/AAAAAAAA+H8AAAAAAAD4f0vap8Mhe4M/AAAAAAAA+H8AAAAAAAD4fwAAAAAAAPh/AAAAAAAA+H8AAAAAAAD4fwAAAAAAAPh/PGdMeDp+gz8AAAAAAAD4fwAAAAAAAPh/AAAAAAAA+H9PVijOBzCEPwAAAAAAAPh/AAAAAAAA+H8AAAAAAAD4fwAAAAAAAPh/AAAAAAAA+H8AAAAAAAD4fwAAAAAAAPh/",
          "shape": "6, 5"
         },
         "type": "contour",
         "xaxis": "x26",
         "yaxis": "y26"
        },
        {
         "marker": {
          "color": "black",
          "line": {
           "color": "Gray",
           "width": 2.0
          }
         },
         "mode": "markers",
         "name": "Feasible Trial",
         "showlegend": false,
         "x": [
          384,
          320,
          384,
          448
         ],
         "y": [
          0.08927180304353628,
          0.011097554561103107,
          0.010242318938703103,
          0.01314981250761057
         ],
         "type": "scatter",
         "xaxis": "x26",
         "yaxis": "y26"
        },
        {
         "type": "scatter",
         "xaxis": "x37",
         "yaxis": "y37"
        },
        {
         "colorbar": {
          "title": {
           "text": "Objective Value"
          }
         },
         "colorscale": [
          [
           0.0,
           "rgb(247,251,255)"
          ],
          [
           0.125,
           "rgb(222,235,247)"
          ],
          [
           0.25,
           "rgb(198,219,239)"
          ],
          [
           0.375,
           "rgb(158,202,225)"
          ],
          [
           0.5,
           "rgb(107,174,214)"
          ],
          [
           0.625,
           "rgb(66,146,198)"
          ],
          [
           0.75,
           "rgb(33,113,181)"
          ],
          [
           0.875,
           "rgb(8,81,156)"
          ],
          [
           1.0,
           "rgb(8,48,107)"
          ]
         ],
         "connectgaps": true,
         "contours": {
          "coloring": "heatmap"
         },
         "hoverinfo": "none",
         "line": {
          "smoothing": 1.3
         },
         "reversescale": true,
         "showscale": false,
         "x": [
          313.6,
          320,
          384,
          448,
          454.4
         ],
         "y": [
          2.75,
          3,
          5,
          8,
          8.25
         ],
         "z": {
          "dtype": "f8",
          "bdata": "AAAAAAAA+H8AAAAAAAD4fwAAAAAAAPh/AAAAAAAA+H8AAAAAAAD4fwAAAAAAAPh/AAAAAAAA+H+rN8A70zqDPzxnTHg6foM/AAAAAAAA+H8AAAAAAAD4f0vap8Mhe4M/AAAAAAAA+H8AAAAAAAD4fwAAAAAAAPh/AAAAAAAA+H8AAAAAAAD4f09WKM4HMIQ/AAAAAAAA+H8AAAAAAAD4fwAAAAAAAPh/AAAAAAAA+H8AAAAAAAD4fwAAAAAAAPh/AAAAAAAA+H8=",
          "shape": "5, 5"
         },
         "type": "contour",
         "xaxis": "x48",
         "yaxis": "y48"
        },
        {
         "marker": {
          "color": "black",
          "line": {
           "color": "Gray",
           "width": 2.0
          }
         },
         "mode": "markers",
         "name": "Feasible Trial",
         "showlegend": false,
         "x": [
          384,
          320,
          384,
          448
         ],
         "y": [
          8,
          5,
          3,
          3
         ],
         "type": "scatter",
         "xaxis": "x48",
         "yaxis": "y48"
        },
        {
         "colorbar": {
          "title": {
           "text": "Objective Value"
          }
         },
         "colorscale": [
          [
           0.0,
           "rgb(247,251,255)"
          ],
          [
           0.125,
           "rgb(222,235,247)"
          ],
          [
           0.25,
           "rgb(198,219,239)"
          ],
          [
           0.375,
           "rgb(158,202,225)"
          ],
          [
           0.5,
           "rgb(107,174,214)"
          ],
          [
           0.625,
           "rgb(66,146,198)"
          ],
          [
           0.75,
           "rgb(33,113,181)"
          ],
          [
           0.875,
           "rgb(8,81,156)"
          ],
          [
           1.0,
           "rgb(8,48,107)"
          ]
         ],
         "connectgaps": true,
         "contours": {
          "coloring": "heatmap"
         },
         "hoverinfo": "none",
         "line": {
          "smoothing": 1.3
         },
         "reversescale": true,
         "showscale": false,
         "x": [
          313.6,
          320,
          384,
          448,
          454.4
         ],
         "y": [
          51.2,
          64,
          320,
          332.8
         ],
         "z": {
          "dtype": "f8",
          "bdata": "AAAAAAAA+H8AAAAAAAD4fwAAAAAAAPh/AAAAAAAA+H8AAAAAAAD4fwAAAAAAAPh/S9qnwyF7gz8AAAAAAAD4fwAAAAAAAPh/AAAAAAAA+H8AAAAAAAD4fwAAAAAAAPh/qzfAO9M6gz8AAAAAAAD4fwAAAAAAAPh/AAAAAAAA+H8AAAAAAAD4fwAAAAAAAPh/AAAAAAAA+H8AAAAAAAD4fw==",
          "shape": "4, 5"
         },
         "type": "contour",
         "xaxis": "x59",
         "yaxis": "y59"
        },
        {
         "marker": {
          "color": "black",
          "line": {
           "color": "Gray",
           "width": 2.0
          }
         },
         "mode": "markers",
         "name": "Feasible Trial",
         "showlegend": false,
         "x": [
          320,
          384
         ],
         "y": [
          64,
          320
         ],
         "type": "scatter",
         "xaxis": "x59",
         "yaxis": "y59"
        },
        {
         "colorbar": {
          "title": {
           "text": "Objective Value"
          }
         },
         "colorscale": [
          [
           0.0,
           "rgb(247,251,255)"
          ],
          [
           0.125,
           "rgb(222,235,247)"
          ],
          [
           0.25,
           "rgb(198,219,239)"
          ],
          [
           0.375,
           "rgb(158,202,225)"
          ],
          [
           0.5,
           "rgb(107,174,214)"
          ],
          [
           0.625,
           "rgb(66,146,198)"
          ],
          [
           0.75,
           "rgb(33,113,181)"
          ],
          [
           0.875,
           "rgb(8,81,156)"
          ],
          [
           1.0,
           "rgb(8,48,107)"
          ]
         ],
         "connectgaps": true,
         "contours": {
          "coloring": "heatmap"
         },
         "hoverinfo": "none",
         "line": {
          "smoothing": 1.3
         },
         "reversescale": true,
         "showscale": false,
         "x": [
          313.6,
          320,
          384,
          448,
          454.4
         ],
         "y": [
          1.6269582925192225,
          1.981947943193925,
          6.140950886568256,
          8.373006336943329,
          9.081740956687977,
          9.43673060736268
         ],
         "z": {
          "dtype": "f8",
          "bdata": "AAAAAAAA+H8AAAAAAAD4fwAAAAAAAPh/AAAAAAAA+H8AAAAAAAD4fwAAAAAAAPh/AAAAAAAA+H9PVijOBzCEPwAAAAAAAPh/AAAAAAAA+H8AAAAAAAD4fwAAAAAAAPh/AAAAAAAA+H88Z0x4On6DPwAAAAAAAPh/AAAAAAAA+H9L2qfDIXuDPwAAAAAAAPh/AAAAAAAA+H8AAAAAAAD4fwAAAAAAAPh/AAAAAAAA+H+rN8A70zqDPwAAAAAAAPh/AAAAAAAA+H8AAAAAAAD4fwAAAAAAAPh/AAAAAAAA+H8AAAAAAAD4fwAAAAAAAPh/",
          "shape": "6, 5"
         },
         "type": "contour",
         "xaxis": "x70",
         "yaxis": "y70"
        },
        {
         "marker": {
          "color": "black",
          "line": {
           "color": "Gray",
           "width": 2.0
          }
         },
         "mode": "markers",
         "name": "Feasible Trial",
         "showlegend": false,
         "x": [
          384,
          320,
          384,
          448
         ],
         "y": [
          1.981947943193925,
          8.373006336943329,
          9.081740956687977,
          6.140950886568256
         ],
         "type": "scatter",
         "xaxis": "x70",
         "yaxis": "y70"
        },
        {
         "colorbar": {
          "title": {
           "text": "Objective Value"
          }
         },
         "colorscale": [
          [
           0.0,
           "rgb(247,251,255)"
          ],
          [
           0.125,
           "rgb(222,235,247)"
          ],
          [
           0.25,
           "rgb(198,219,239)"
          ],
          [
           0.375,
           "rgb(158,202,225)"
          ],
          [
           0.5,
           "rgb(107,174,214)"
          ],
          [
           0.625,
           "rgb(66,146,198)"
          ],
          [
           0.75,
           "rgb(33,113,181)"
          ],
          [
           0.875,
           "rgb(8,81,156)"
          ],
          [
           1.0,
           "rgb(8,48,107)"
          ]
         ],
         "connectgaps": true,
         "contours": {
          "coloring": "heatmap"
         },
         "hoverinfo": "none",
         "line": {
          "smoothing": 1.3
         },
         "reversescale": true,
         "showscale": false,
         "x": [
          313.6,
          320,
          384,
          448,
          454.4
         ],
         "y": [
          490.0,
          500,
          700,
          710.0
         ],
         "z": {
          "dtype": "f8",
          "bdata": "AAAAAAAA+H8AAAAAAAD4fwAAAAAAAPh/AAAAAAAA+H8AAAAAAAD4fwAAAAAAAPh/S9qnwyF7gz+rN8A70zqDPwAAAAAAAPh/AAAAAAAA+H8AAAAAAAD4fwAAAAAAAPh/T1YozgcwhD88Z0x4On6DPwAAAAAAAPh/AAAAAAAA+H8AAAAAAAD4fwAAAAAAAPh/AAAAAAAA+H8AAAAAAAD4fw==",
          "shape": "4, 5"
         },
         "type": "contour",
         "xaxis": "x81",
         "yaxis": "y81"
        },
        {
         "marker": {
          "color": "black",
          "line": {
           "color": "Gray",
           "width": 2.0
          }
         },
         "mode": "markers",
         "name": "Feasible Trial",
         "showlegend": false,
         "x": [
          384,
          320,
          384,
          448
         ],
         "y": [
          700,
          500,
          500,
          700
         ],
         "type": "scatter",
         "xaxis": "x81",
         "yaxis": "y81"
        },
        {
         "colorbar": {
          "title": {
           "text": "Objective Value"
          }
         },
         "colorscale": [
          [
           0.0,
           "rgb(247,251,255)"
          ],
          [
           0.125,
           "rgb(222,235,247)"
          ],
          [
           0.25,
           "rgb(198,219,239)"
          ],
          [
           0.375,
           "rgb(158,202,225)"
          ],
          [
           0.5,
           "rgb(107,174,214)"
          ],
          [
           0.625,
           "rgb(66,146,198)"
          ],
          [
           0.75,
           "rgb(33,113,181)"
          ],
          [
           0.875,
           "rgb(8,81,156)"
          ],
          [
           1.0,
           "rgb(8,48,107)"
          ]
         ],
         "connectgaps": true,
         "contours": {
          "coloring": "heatmap"
         },
         "hoverinfo": "none",
         "line": {
          "smoothing": 1.3
         },
         "reversescale": true,
         "showscale": false,
         "x": [
          313.6,
          320,
          384,
          448,
          454.4
         ],
         "y": [
          0.036460834526854294,
          0.05808361216819946,
          0.22122711070370474,
          0.3567533266935893,
          0.49053916499510275,
          0.5121619426364479
         ],
         "z": {
          "dtype": "f8",
          "bdata": "AAAAAAAA+H8AAAAAAAD4fwAAAAAAAPh/AAAAAAAA+H8AAAAAAAD4fwAAAAAAAPh/AAAAAAAA+H9PVijOBzCEPwAAAAAAAPh/AAAAAAAA+H8AAAAAAAD4fwAAAAAAAPh/qzfAO9M6gz8AAAAAAAD4fwAAAAAAAPh/AAAAAAAA+H9L2qfDIXuDPwAAAAAAAPh/AAAAAAAA+H8AAAAAAAD4fwAAAAAAAPh/AAAAAAAA+H8AAAAAAAD4fzxnTHg6foM/AAAAAAAA+H8AAAAAAAD4fwAAAAAAAPh/AAAAAAAA+H8AAAAAAAD4fwAAAAAAAPh/",
          "shape": "6, 5"
         },
         "type": "contour",
         "xaxis": "x92",
         "yaxis": "y92"
        },
        {
         "marker": {
          "color": "black",
          "line": {
           "color": "Gray",
           "width": 2.0
          }
         },
         "mode": "markers",
         "name": "Feasible Trial",
         "showlegend": false,
         "x": [
          384,
          320,
          384,
          448
         ],
         "y": [
          0.05808361216819946,
          0.3567533266935893,
          0.22122711070370474,
          0.49053916499510275
         ],
         "type": "scatter",
         "xaxis": "x92",
         "yaxis": "y92"
        },
        {
         "colorbar": {
          "title": {
           "text": "Objective Value"
          }
         },
         "colorscale": [
          [
           0.0,
           "rgb(247,251,255)"
          ],
          [
           0.125,
           "rgb(222,235,247)"
          ],
          [
           0.25,
           "rgb(198,219,239)"
          ],
          [
           0.375,
           "rgb(158,202,225)"
          ],
          [
           0.5,
           "rgb(107,174,214)"
          ],
          [
           0.625,
           "rgb(66,146,198)"
          ],
          [
           0.75,
           "rgb(33,113,181)"
          ],
          [
           0.875,
           "rgb(8,81,156)"
          ],
          [
           1.0,
           "rgb(8,48,107)"
          ]
         ],
         "connectgaps": true,
         "contours": {
          "coloring": "heatmap"
         },
         "hoverinfo": "none",
         "line": {
          "smoothing": 1.3
         },
         "reversescale": true,
         "showscale": false,
         "x": [
          313.6,
          320,
          384,
          448,
          454.4
         ],
         "y": [
          1.333194896626715,
          1.4765790974681658,
          3.6585778090214838,
          3.7995864955735317,
          4.344263114297182,
          4.487647315138633
         ],
         "z": {
          "dtype": "f8",
          "bdata": "AAAAAAAA+H8AAAAAAAD4fwAAAAAAAPh/AAAAAAAA+H8AAAAAAAD4fwAAAAAAAPh/S9qnwyF7gz8AAAAAAAD4fwAAAAAAAPh/AAAAAAAA+H8AAAAAAAD4fwAAAAAAAPh/qzfAO9M6gz8AAAAAAAD4fwAAAAAAAPh/AAAAAAAA+H8AAAAAAAD4fwAAAAAAAPh/PGdMeDp+gz8AAAAAAAD4fwAAAAAAAPh/AAAAAAAA+H9PVijOBzCEPwAAAAAAAPh/AAAAAAAA+H8AAAAAAAD4fwAAAAAAAPh/AAAAAAAA+H8AAAAAAAD4fwAAAAAAAPh/",
          "shape": "6, 5"
         },
         "type": "contour",
         "xaxis": "x103",
         "yaxis": "y103"
        },
        {
         "marker": {
          "color": "black",
          "line": {
           "color": "Gray",
           "width": 2.0
          }
         },
         "mode": "markers",
         "name": "Feasible Trial",
         "showlegend": false,
         "x": [
          384,
          320,
          384,
          448
         ],
         "y": [
          4.344263114297182,
          1.4765790974681658,
          3.6585778090214838,
          3.7995864955735317
         ],
         "type": "scatter",
         "xaxis": "x103",
         "yaxis": "y103"
        },
        {
         "colorbar": {
          "title": {
           "text": "Objective Value"
          }
         },
         "colorscale": [
          [
           0.0,
           "rgb(247,251,255)"
          ],
          [
           0.125,
           "rgb(222,235,247)"
          ],
          [
           0.25,
           "rgb(198,219,239)"
          ],
          [
           0.375,
           "rgb(158,202,225)"
          ],
          [
           0.5,
           "rgb(107,174,214)"
          ],
          [
           0.625,
           "rgb(66,146,198)"
          ],
          [
           0.75,
           "rgb(33,113,181)"
          ],
          [
           0.875,
           "rgb(8,81,156)"
          ],
          [
           1.0,
           "rgb(8,48,107)"
          ]
         ],
         "connectgaps": true,
         "contours": {
          "coloring": "heatmap"
         },
         "hoverinfo": "none",
         "line": {
          "smoothing": 1.3
         },
         "reversescale": true,
         "showscale": false,
         "x": [
          313.6,
          320,
          384,
          448,
          454.4
         ],
         "y": [
          0.8090585347349498,
          0.8166031869068446,
          0.8795975452591109,
          0.9158558903524459,
          0.967496230344742,
          0.9750408825166368
         ],
         "z": {
          "dtype": "f8",
          "bdata": "AAAAAAAA+H8AAAAAAAD4fwAAAAAAAPh/AAAAAAAA+H8AAAAAAAD4fwAAAAAAAPh/S9qnwyF7gz8AAAAAAAD4fwAAAAAAAPh/AAAAAAAA+H8AAAAAAAD4fwAAAAAAAPh/T1YozgcwhD8AAAAAAAD4fwAAAAAAAPh/AAAAAAAA+H8AAAAAAAD4fwAAAAAAAPh/PGdMeDp+gz8AAAAAAAD4fwAAAAAAAPh/AAAAAAAA+H+rN8A70zqDPwAAAAAAAPh/AAAAAAAA+H8AAAAAAAD4fwAAAAAAAPh/AAAAAAAA+H8AAAAAAAD4fwAAAAAAAPh/",
          "shape": "6, 5"
         },
         "type": "contour",
         "xaxis": "x114",
         "yaxis": "y114"
        },
        {
         "marker": {
          "color": "black",
          "line": {
           "color": "Gray",
           "width": 2.0
          }
         },
         "mode": "markers",
         "name": "Feasible Trial",
         "showlegend": false,
         "x": [
          384,
          320,
          384,
          448
         ],
         "y": [
          0.8795975452591109,
          0.8166031869068446,
          0.967496230344742,
          0.9158558903524459
         ],
         "type": "scatter",
         "xaxis": "x114",
         "yaxis": "y114"
        },
        {
         "colorbar": {
          "title": {
           "text": "Objective Value"
          }
         },
         "colorscale": [
          [
           0.0,
           "rgb(247,251,255)"
          ],
          [
           0.125,
           "rgb(222,235,247)"
          ],
          [
           0.25,
           "rgb(198,219,239)"
          ],
          [
           0.375,
           "rgb(158,202,225)"
          ],
          [
           0.5,
           "rgb(107,174,214)"
          ],
          [
           0.625,
           "rgb(66,146,198)"
          ],
          [
           0.75,
           "rgb(33,113,181)"
          ],
          [
           0.875,
           "rgb(8,81,156)"
          ],
          [
           1.0,
           "rgb(8,48,107)"
          ]
         ],
         "connectgaps": true,
         "contours": {
          "coloring": "heatmap"
         },
         "hoverinfo": "none",
         "line": {
          "smoothing": 1.3
         },
         "reversescale": true,
         "showscale": false,
         "x": [
          2.75,
          3,
          5,
          8,
          8.25
         ],
         "y": [
          0.7441305089421173,
          0.7468055921327309,
          0.7668022557458023,
          0.7814047095321688,
          0.8003072559450032,
          0.8029823391356168
         ],
         "z": {
          "dtype": "f8",
          "bdata": "AAAAAAAA+H8AAAAAAAD4fwAAAAAAAPh/AAAAAAAA+H8AAAAAAAD4fwAAAAAAAPh/AAAAAAAA+H8AAAAAAAD4f09WKM4HMIQ/AAAAAAAA+H8AAAAAAAD4fzxnTHg6foM/AAAAAAAA+H8AAAAAAAD4fwAAAAAAAPh/AAAAAAAA+H8AAAAAAAD4f0vap8Mhe4M/AAAAAAAA+H8AAAAAAAD4fwAAAAAAAPh/qzfAO9M6gz8AAAAAAAD4fwAAAAAAAPh/AAAAAAAA+H8AAAAAAAD4fwAAAAAAAPh/AAAAAAAA+H8AAAAAAAD4fwAAAAAAAPh/",
          "shape": "6, 5"
         },
         "type": "contour",
         "xaxis": "x5",
         "yaxis": "y5"
        },
        {
         "marker": {
          "color": "black",
          "line": {
           "color": "Gray",
           "width": 2.0
          }
         },
         "mode": "markers",
         "name": "Feasible Trial",
         "showlegend": false,
         "x": [
          8,
          5,
          3,
          3
         ],
         "y": [
          0.7468055921327309,
          0.7814047095321688,
          0.8003072559450032,
          0.7668022557458023
         ],
         "type": "scatter",
         "xaxis": "x5",
         "yaxis": "y5"
        },
        {
         "colorbar": {
          "title": {
           "text": "Objective Value"
          }
         },
         "colorscale": [
          [
           0.0,
           "rgb(247,251,255)"
          ],
          [
           0.125,
           "rgb(222,235,247)"
          ],
          [
           0.25,
           "rgb(198,219,239)"
          ],
          [
           0.375,
           "rgb(158,202,225)"
          ],
          [
           0.5,
           "rgb(107,174,214)"
          ],
          [
           0.625,
           "rgb(66,146,198)"
          ],
          [
           0.75,
           "rgb(33,113,181)"
          ],
          [
           0.875,
           "rgb(8,81,156)"
          ],
          [
           1.0,
           "rgb(8,48,107)"
          ]
         ],
         "connectgaps": true,
         "contours": {
          "coloring": "heatmap"
         },
         "hoverinfo": "none",
         "line": {
          "smoothing": 1.3
         },
         "reversescale": true,
         "showscale": false,
         "x": [
          2.75,
          3,
          5,
          8,
          8.25
         ],
         "y": [
          "depthwise",
          "lossguide"
         ],
         "z": {
          "dtype": "f8",
          "bdata": "AAAAAAAA+H88Z0x4On6DPwAAAAAAAPh/T1YozgcwhD8AAAAAAAD4fwAAAAAAAPh/qzfAO9M6gz9L2qfDIXuDPwAAAAAAAPh/AAAAAAAA+H8=",
          "shape": "2, 5"
         },
         "type": "contour",
         "xaxis": "x16",
         "yaxis": "y16"
        },
        {
         "marker": {
          "color": "black",
          "line": {
           "color": "Gray",
           "width": 2.0
          }
         },
         "mode": "markers",
         "name": "Feasible Trial",
         "showlegend": false,
         "x": [
          8,
          5,
          3,
          3
         ],
         "y": [
          "depthwise",
          "lossguide",
          "lossguide",
          "depthwise"
         ],
         "type": "scatter",
         "xaxis": "x16",
         "yaxis": "y16"
        },
        {
         "colorbar": {
          "title": {
           "text": "Objective Value"
          }
         },
         "colorscale": [
          [
           0.0,
           "rgb(247,251,255)"
          ],
          [
           0.125,
           "rgb(222,235,247)"
          ],
          [
           0.25,
           "rgb(198,219,239)"
          ],
          [
           0.375,
           "rgb(158,202,225)"
          ],
          [
           0.5,
           "rgb(107,174,214)"
          ],
          [
           0.625,
           "rgb(66,146,198)"
          ],
          [
           0.75,
           "rgb(33,113,181)"
          ],
          [
           0.875,
           "rgb(8,81,156)"
          ],
          [
           1.0,
           "rgb(8,48,107)"
          ]
         ],
         "connectgaps": true,
         "contours": {
          "coloring": "heatmap"
         },
         "hoverinfo": "none",
         "line": {
          "smoothing": 1.3
         },
         "reversescale": true,
         "showscale": false,
         "x": [
          2.75,
          3,
          5,
          8,
          8.25
         ],
         "y": [
          0.009191417528721072,
          0.010242318938703103,
          0.011097554561103107,
          0.01314981250761057,
          0.08927180304353628,
          0.09947870131542277
         ],
         "z": {
          "dtype": "f8",
          "bdata": "AAAAAAAA+H8AAAAAAAD4fwAAAAAAAPh/AAAAAAAA+H8AAAAAAAD4fwAAAAAAAPh/qzfAO9M6gz8AAAAAAAD4fwAAAAAAAPh/AAAAAAAA+H8AAAAAAAD4fwAAAAAAAPh/S9qnwyF7gz8AAAAAAAD4fwAAAAAAAPh/AAAAAAAA+H88Z0x4On6DPwAAAAAAAPh/AAAAAAAA+H8AAAAAAAD4fwAAAAAAAPh/AAAAAAAA+H8AAAAAAAD4f09WKM4HMIQ/AAAAAAAA+H8AAAAAAAD4fwAAAAAAAPh/AAAAAAAA+H8AAAAAAAD4fwAAAAAAAPh/",
          "shape": "6, 5"
         },
         "type": "contour",
         "xaxis": "x27",
         "yaxis": "y27"
        },
        {
         "marker": {
          "color": "black",
          "line": {
           "color": "Gray",
           "width": 2.0
          }
         },
         "mode": "markers",
         "name": "Feasible Trial",
         "showlegend": false,
         "x": [
          8,
          5,
          3,
          3
         ],
         "y": [
          0.08927180304353628,
          0.011097554561103107,
          0.010242318938703103,
          0.01314981250761057
         ],
         "type": "scatter",
         "xaxis": "x27",
         "yaxis": "y27"
        },
        {
         "colorbar": {
          "title": {
           "text": "Objective Value"
          }
         },
         "colorscale": [
          [
           0.0,
           "rgb(247,251,255)"
          ],
          [
           0.125,
           "rgb(222,235,247)"
          ],
          [
           0.25,
           "rgb(198,219,239)"
          ],
          [
           0.375,
           "rgb(158,202,225)"
          ],
          [
           0.5,
           "rgb(107,174,214)"
          ],
          [
           0.625,
           "rgb(66,146,198)"
          ],
          [
           0.75,
           "rgb(33,113,181)"
          ],
          [
           0.875,
           "rgb(8,81,156)"
          ],
          [
           1.0,
           "rgb(8,48,107)"
          ]
         ],
         "connectgaps": true,
         "contours": {
          "coloring": "heatmap"
         },
         "hoverinfo": "none",
         "line": {
          "smoothing": 1.3
         },
         "reversescale": true,
         "showscale": false,
         "x": [
          2.75,
          3,
          5,
          8,
          8.25
         ],
         "y": [
          313.6,
          320,
          384,
          448,
          454.4
         ],
         "z": {
          "dtype": "f8",
          "bdata": "AAAAAAAA+H8AAAAAAAD4fwAAAAAAAPh/AAAAAAAA+H8AAAAAAAD4fwAAAAAAAPh/AAAAAAAA+H9L2qfDIXuDPwAAAAAAAPh/AAAAAAAA+H8AAAAAAAD4f6s3wDvTOoM/AAAAAAAA+H9PVijOBzCEPwAAAAAAAPh/AAAAAAAA+H88Z0x4On6DPwAAAAAAAPh/AAAAAAAA+H8AAAAAAAD4fwAAAAAAAPh/AAAAAAAA+H8AAAAAAAD4fwAAAAAAAPh/AAAAAAAA+H8=",
          "shape": "5, 5"
         },
         "type": "contour",
         "xaxis": "x38",
         "yaxis": "y38"
        },
        {
         "marker": {
          "color": "black",
          "line": {
           "color": "Gray",
           "width": 2.0
          }
         },
         "mode": "markers",
         "name": "Feasible Trial",
         "showlegend": false,
         "x": [
          8,
          5,
          3,
          3
         ],
         "y": [
          384,
          320,
          384,
          448
         ],
         "type": "scatter",
         "xaxis": "x38",
         "yaxis": "y38"
        },
        {
         "type": "scatter",
         "xaxis": "x49",
         "yaxis": "y49"
        },
        {
         "colorbar": {
          "title": {
           "text": "Objective Value"
          }
         },
         "colorscale": [
          [
           0.0,
           "rgb(247,251,255)"
          ],
          [
           0.125,
           "rgb(222,235,247)"
          ],
          [
           0.25,
           "rgb(198,219,239)"
          ],
          [
           0.375,
           "rgb(158,202,225)"
          ],
          [
           0.5,
           "rgb(107,174,214)"
          ],
          [
           0.625,
           "rgb(66,146,198)"
          ],
          [
           0.75,
           "rgb(33,113,181)"
          ],
          [
           0.875,
           "rgb(8,81,156)"
          ],
          [
           1.0,
           "rgb(8,48,107)"
          ]
         ],
         "connectgaps": true,
         "contours": {
          "coloring": "heatmap"
         },
         "hoverinfo": "none",
         "line": {
          "smoothing": 1.3
         },
         "reversescale": true,
         "showscale": false,
         "x": [
          2.75,
          3,
          5,
          8,
          8.25
         ],
         "y": [
          51.2,
          64,
          320,
          332.8
         ],
         "z": {
          "dtype": "f8",
          "bdata": "AAAAAAAA+H8AAAAAAAD4fwAAAAAAAPh/AAAAAAAA+H8AAAAAAAD4fwAAAAAAAPh/AAAAAAAA+H9L2qfDIXuDPwAAAAAAAPh/AAAAAAAA+H8AAAAAAAD4f6s3wDvTOoM/AAAAAAAA+H8AAAAAAAD4fwAAAAAAAPh/AAAAAAAA+H8AAAAAAAD4fwAAAAAAAPh/AAAAAAAA+H8AAAAAAAD4fw==",
          "shape": "4, 5"
         },
         "type": "contour",
         "xaxis": "x60",
         "yaxis": "y60"
        },
        {
         "marker": {
          "color": "black",
          "line": {
           "color": "Gray",
           "width": 2.0
          }
         },
         "mode": "markers",
         "name": "Feasible Trial",
         "showlegend": false,
         "x": [
          5,
          3
         ],
         "y": [
          64,
          320
         ],
         "type": "scatter",
         "xaxis": "x60",
         "yaxis": "y60"
        },
        {
         "colorbar": {
          "title": {
           "text": "Objective Value"
          }
         },
         "colorscale": [
          [
           0.0,
           "rgb(247,251,255)"
          ],
          [
           0.125,
           "rgb(222,235,247)"
          ],
          [
           0.25,
           "rgb(198,219,239)"
          ],
          [
           0.375,
           "rgb(158,202,225)"
          ],
          [
           0.5,
           "rgb(107,174,214)"
          ],
          [
           0.625,
           "rgb(66,146,198)"
          ],
          [
           0.75,
           "rgb(33,113,181)"
          ],
          [
           0.875,
           "rgb(8,81,156)"
          ],
          [
           1.0,
           "rgb(8,48,107)"
          ]
         ],
         "connectgaps": true,
         "contours": {
          "coloring": "heatmap"
         },
         "hoverinfo": "none",
         "line": {
          "smoothing": 1.3
         },
         "reversescale": true,
         "showscale": false,
         "x": [
          2.75,
          3,
          5,
          8,
          8.25
         ],
         "y": [
          1.6269582925192225,
          1.981947943193925,
          6.140950886568256,
          8.373006336943329,
          9.081740956687977,
          9.43673060736268
         ],
         "z": {
          "dtype": "f8",
          "bdata": "AAAAAAAA+H8AAAAAAAD4fwAAAAAAAPh/AAAAAAAA+H8AAAAAAAD4fwAAAAAAAPh/AAAAAAAA+H8AAAAAAAD4f09WKM4HMIQ/AAAAAAAA+H8AAAAAAAD4fzxnTHg6foM/AAAAAAAA+H8AAAAAAAD4fwAAAAAAAPh/AAAAAAAA+H8AAAAAAAD4f0vap8Mhe4M/AAAAAAAA+H8AAAAAAAD4fwAAAAAAAPh/qzfAO9M6gz8AAAAAAAD4fwAAAAAAAPh/AAAAAAAA+H8AAAAAAAD4fwAAAAAAAPh/AAAAAAAA+H8AAAAAAAD4fwAAAAAAAPh/",
          "shape": "6, 5"
         },
         "type": "contour",
         "xaxis": "x71",
         "yaxis": "y71"
        },
        {
         "marker": {
          "color": "black",
          "line": {
           "color": "Gray",
           "width": 2.0
          }
         },
         "mode": "markers",
         "name": "Feasible Trial",
         "showlegend": false,
         "x": [
          8,
          5,
          3,
          3
         ],
         "y": [
          1.981947943193925,
          8.373006336943329,
          9.081740956687977,
          6.140950886568256
         ],
         "type": "scatter",
         "xaxis": "x71",
         "yaxis": "y71"
        },
        {
         "colorbar": {
          "title": {
           "text": "Objective Value"
          }
         },
         "colorscale": [
          [
           0.0,
           "rgb(247,251,255)"
          ],
          [
           0.125,
           "rgb(222,235,247)"
          ],
          [
           0.25,
           "rgb(198,219,239)"
          ],
          [
           0.375,
           "rgb(158,202,225)"
          ],
          [
           0.5,
           "rgb(107,174,214)"
          ],
          [
           0.625,
           "rgb(66,146,198)"
          ],
          [
           0.75,
           "rgb(33,113,181)"
          ],
          [
           0.875,
           "rgb(8,81,156)"
          ],
          [
           1.0,
           "rgb(8,48,107)"
          ]
         ],
         "connectgaps": true,
         "contours": {
          "coloring": "heatmap"
         },
         "hoverinfo": "none",
         "line": {
          "smoothing": 1.3
         },
         "reversescale": true,
         "showscale": false,
         "x": [
          2.75,
          3,
          5,
          8,
          8.25
         ],
         "y": [
          490.0,
          500,
          700,
          710.0
         ],
         "z": {
          "dtype": "f8",
          "bdata": "AAAAAAAA+H8AAAAAAAD4fwAAAAAAAPh/AAAAAAAA+H8AAAAAAAD4fwAAAAAAAPh/qzfAO9M6gz9L2qfDIXuDPwAAAAAAAPh/AAAAAAAA+H8AAAAAAAD4fzxnTHg6foM/AAAAAAAA+H9PVijOBzCEPwAAAAAAAPh/AAAAAAAA+H8AAAAAAAD4fwAAAAAAAPh/AAAAAAAA+H8AAAAAAAD4fw==",
          "shape": "4, 5"
         },
         "type": "contour",
         "xaxis": "x82",
         "yaxis": "y82"
        },
        {
         "marker": {
          "color": "black",
          "line": {
           "color": "Gray",
           "width": 2.0
          }
         },
         "mode": "markers",
         "name": "Feasible Trial",
         "showlegend": false,
         "x": [
          8,
          5,
          3,
          3
         ],
         "y": [
          700,
          500,
          500,
          700
         ],
         "type": "scatter",
         "xaxis": "x82",
         "yaxis": "y82"
        },
        {
         "colorbar": {
          "title": {
           "text": "Objective Value"
          }
         },
         "colorscale": [
          [
           0.0,
           "rgb(247,251,255)"
          ],
          [
           0.125,
           "rgb(222,235,247)"
          ],
          [
           0.25,
           "rgb(198,219,239)"
          ],
          [
           0.375,
           "rgb(158,202,225)"
          ],
          [
           0.5,
           "rgb(107,174,214)"
          ],
          [
           0.625,
           "rgb(66,146,198)"
          ],
          [
           0.75,
           "rgb(33,113,181)"
          ],
          [
           0.875,
           "rgb(8,81,156)"
          ],
          [
           1.0,
           "rgb(8,48,107)"
          ]
         ],
         "connectgaps": true,
         "contours": {
          "coloring": "heatmap"
         },
         "hoverinfo": "none",
         "line": {
          "smoothing": 1.3
         },
         "reversescale": true,
         "showscale": false,
         "x": [
          2.75,
          3,
          5,
          8,
          8.25
         ],
         "y": [
          0.036460834526854294,
          0.05808361216819946,
          0.22122711070370474,
          0.3567533266935893,
          0.49053916499510275,
          0.5121619426364479
         ],
         "z": {
          "dtype": "f8",
          "bdata": "AAAAAAAA+H8AAAAAAAD4fwAAAAAAAPh/AAAAAAAA+H8AAAAAAAD4fwAAAAAAAPh/AAAAAAAA+H8AAAAAAAD4f09WKM4HMIQ/AAAAAAAA+H8AAAAAAAD4f6s3wDvTOoM/AAAAAAAA+H8AAAAAAAD4fwAAAAAAAPh/AAAAAAAA+H8AAAAAAAD4f0vap8Mhe4M/AAAAAAAA+H8AAAAAAAD4fwAAAAAAAPh/PGdMeDp+gz8AAAAAAAD4fwAAAAAAAPh/AAAAAAAA+H8AAAAAAAD4fwAAAAAAAPh/AAAAAAAA+H8AAAAAAAD4fwAAAAAAAPh/",
          "shape": "6, 5"
         },
         "type": "contour",
         "xaxis": "x93",
         "yaxis": "y93"
        },
        {
         "marker": {
          "color": "black",
          "line": {
           "color": "Gray",
           "width": 2.0
          }
         },
         "mode": "markers",
         "name": "Feasible Trial",
         "showlegend": false,
         "x": [
          8,
          5,
          3,
          3
         ],
         "y": [
          0.05808361216819946,
          0.3567533266935893,
          0.22122711070370474,
          0.49053916499510275
         ],
         "type": "scatter",
         "xaxis": "x93",
         "yaxis": "y93"
        },
        {
         "colorbar": {
          "title": {
           "text": "Objective Value"
          }
         },
         "colorscale": [
          [
           0.0,
           "rgb(247,251,255)"
          ],
          [
           0.125,
           "rgb(222,235,247)"
          ],
          [
           0.25,
           "rgb(198,219,239)"
          ],
          [
           0.375,
           "rgb(158,202,225)"
          ],
          [
           0.5,
           "rgb(107,174,214)"
          ],
          [
           0.625,
           "rgb(66,146,198)"
          ],
          [
           0.75,
           "rgb(33,113,181)"
          ],
          [
           0.875,
           "rgb(8,81,156)"
          ],
          [
           1.0,
           "rgb(8,48,107)"
          ]
         ],
         "connectgaps": true,
         "contours": {
          "coloring": "heatmap"
         },
         "hoverinfo": "none",
         "line": {
          "smoothing": 1.3
         },
         "reversescale": true,
         "showscale": false,
         "x": [
          2.75,
          3,
          5,
          8,
          8.25
         ],
         "y": [
          1.333194896626715,
          1.4765790974681658,
          3.6585778090214838,
          3.7995864955735317,
          4.344263114297182,
          4.487647315138633
         ],
         "z": {
          "dtype": "f8",
          "bdata": "AAAAAAAA+H8AAAAAAAD4fwAAAAAAAPh/AAAAAAAA+H8AAAAAAAD4fwAAAAAAAPh/AAAAAAAA+H9L2qfDIXuDPwAAAAAAAPh/AAAAAAAA+H8AAAAAAAD4f6s3wDvTOoM/AAAAAAAA+H8AAAAAAAD4fwAAAAAAAPh/AAAAAAAA+H88Z0x4On6DPwAAAAAAAPh/AAAAAAAA+H8AAAAAAAD4fwAAAAAAAPh/AAAAAAAA+H8AAAAAAAD4f09WKM4HMIQ/AAAAAAAA+H8AAAAAAAD4fwAAAAAAAPh/AAAAAAAA+H8AAAAAAAD4fwAAAAAAAPh/",
          "shape": "6, 5"
         },
         "type": "contour",
         "xaxis": "x104",
         "yaxis": "y104"
        },
        {
         "marker": {
          "color": "black",
          "line": {
           "color": "Gray",
           "width": 2.0
          }
         },
         "mode": "markers",
         "name": "Feasible Trial",
         "showlegend": false,
         "x": [
          8,
          5,
          3,
          3
         ],
         "y": [
          4.344263114297182,
          1.4765790974681658,
          3.6585778090214838,
          3.7995864955735317
         ],
         "type": "scatter",
         "xaxis": "x104",
         "yaxis": "y104"
        },
        {
         "colorbar": {
          "title": {
           "text": "Objective Value"
          }
         },
         "colorscale": [
          [
           0.0,
           "rgb(247,251,255)"
          ],
          [
           0.125,
           "rgb(222,235,247)"
          ],
          [
           0.25,
           "rgb(198,219,239)"
          ],
          [
           0.375,
           "rgb(158,202,225)"
          ],
          [
           0.5,
           "rgb(107,174,214)"
          ],
          [
           0.625,
           "rgb(66,146,198)"
          ],
          [
           0.75,
           "rgb(33,113,181)"
          ],
          [
           0.875,
           "rgb(8,81,156)"
          ],
          [
           1.0,
           "rgb(8,48,107)"
          ]
         ],
         "connectgaps": true,
         "contours": {
          "coloring": "heatmap"
         },
         "hoverinfo": "none",
         "line": {
          "smoothing": 1.3
         },
         "reversescale": true,
         "showscale": false,
         "x": [
          2.75,
          3,
          5,
          8,
          8.25
         ],
         "y": [
          0.8090585347349498,
          0.8166031869068446,
          0.8795975452591109,
          0.9158558903524459,
          0.967496230344742,
          0.9750408825166368
         ],
         "z": {
          "dtype": "f8",
          "bdata": "AAAAAAAA+H8AAAAAAAD4fwAAAAAAAPh/AAAAAAAA+H8AAAAAAAD4fwAAAAAAAPh/AAAAAAAA+H9L2qfDIXuDPwAAAAAAAPh/AAAAAAAA+H8AAAAAAAD4fwAAAAAAAPh/AAAAAAAA+H9PVijOBzCEPwAAAAAAAPh/AAAAAAAA+H88Z0x4On6DPwAAAAAAAPh/AAAAAAAA+H8AAAAAAAD4fwAAAAAAAPh/qzfAO9M6gz8AAAAAAAD4fwAAAAAAAPh/AAAAAAAA+H8AAAAAAAD4fwAAAAAAAPh/AAAAAAAA+H8AAAAAAAD4fwAAAAAAAPh/",
          "shape": "6, 5"
         },
         "type": "contour",
         "xaxis": "x115",
         "yaxis": "y115"
        },
        {
         "marker": {
          "color": "black",
          "line": {
           "color": "Gray",
           "width": 2.0
          }
         },
         "mode": "markers",
         "name": "Feasible Trial",
         "showlegend": false,
         "x": [
          8,
          5,
          3,
          3
         ],
         "y": [
          0.8795975452591109,
          0.8166031869068446,
          0.967496230344742,
          0.9158558903524459
         ],
         "type": "scatter",
         "xaxis": "x115",
         "yaxis": "y115"
        },
        {
         "colorbar": {
          "title": {
           "text": "Objective Value"
          }
         },
         "colorscale": [
          [
           0.0,
           "rgb(247,251,255)"
          ],
          [
           0.125,
           "rgb(222,235,247)"
          ],
          [
           0.25,
           "rgb(198,219,239)"
          ],
          [
           0.375,
           "rgb(158,202,225)"
          ],
          [
           0.5,
           "rgb(107,174,214)"
          ],
          [
           0.625,
           "rgb(66,146,198)"
          ],
          [
           0.75,
           "rgb(33,113,181)"
          ],
          [
           0.875,
           "rgb(8,81,156)"
          ],
          [
           1.0,
           "rgb(8,48,107)"
          ]
         ],
         "connectgaps": true,
         "contours": {
          "coloring": "heatmap"
         },
         "hoverinfo": "none",
         "line": {
          "smoothing": 1.3
         },
         "reversescale": true,
         "showscale": false,
         "x": [
          51.2,
          64,
          320,
          332.8
         ],
         "y": [
          0.7441305089421173,
          0.7468055921327309,
          0.7668022557458023,
          0.7814047095321688,
          0.8003072559450032,
          0.8029823391356168
         ],
         "z": {
          "dtype": "f8",
          "bdata": "AAAAAAAA+H8AAAAAAAD4fwAAAAAAAPh/AAAAAAAA+H8AAAAAAAD4fwAAAAAAAPh/AAAAAAAA+H8AAAAAAAD4fwAAAAAAAPh/AAAAAAAA+H8AAAAAAAD4fwAAAAAAAPh/AAAAAAAA+H9L2qfDIXuDPwAAAAAAAPh/AAAAAAAA+H8AAAAAAAD4fwAAAAAAAPh/qzfAO9M6gz8AAAAAAAD4fwAAAAAAAPh/AAAAAAAA+H8AAAAAAAD4fwAAAAAAAPh/",
          "shape": "6, 4"
         },
         "type": "contour",
         "xaxis": "x6",
         "yaxis": "y6"
        },
        {
         "marker": {
          "color": "black",
          "line": {
           "color": "Gray",
           "width": 2.0
          }
         },
         "mode": "markers",
         "name": "Feasible Trial",
         "showlegend": false,
         "x": [
          64,
          320
         ],
         "y": [
          0.7814047095321688,
          0.8003072559450032
         ],
         "type": "scatter",
         "xaxis": "x6",
         "yaxis": "y6"
        },
        {
         "colorbar": {
          "title": {
           "text": "Objective Value"
          }
         },
         "colorscale": [
          [
           0.0,
           "rgb(247,251,255)"
          ],
          [
           0.125,
           "rgb(222,235,247)"
          ],
          [
           0.25,
           "rgb(198,219,239)"
          ],
          [
           0.375,
           "rgb(158,202,225)"
          ],
          [
           0.5,
           "rgb(107,174,214)"
          ],
          [
           0.625,
           "rgb(66,146,198)"
          ],
          [
           0.75,
           "rgb(33,113,181)"
          ],
          [
           0.875,
           "rgb(8,81,156)"
          ],
          [
           1.0,
           "rgb(8,48,107)"
          ]
         ],
         "connectgaps": true,
         "contours": {
          "coloring": "heatmap"
         },
         "hoverinfo": "none",
         "line": {
          "smoothing": 1.3
         },
         "reversescale": true,
         "showscale": false,
         "x": [
          51.2,
          64,
          320,
          332.8
         ],
         "y": [
          "depthwise",
          "lossguide"
         ],
         "z": {
          "dtype": "f8",
          "bdata": "AAAAAAAA+H8AAAAAAAD4fwAAAAAAAPh/AAAAAAAA+H8AAAAAAAD4f0vap8Mhe4M/qzfAO9M6gz8AAAAAAAD4fw==",
          "shape": "2, 4"
         },
         "type": "contour",
         "xaxis": "x17",
         "yaxis": "y17"
        },
        {
         "marker": {
          "color": "black",
          "line": {
           "color": "Gray",
           "width": 2.0
          }
         },
         "mode": "markers",
         "name": "Feasible Trial",
         "showlegend": false,
         "x": [
          64,
          320
         ],
         "y": [
          "lossguide",
          "lossguide"
         ],
         "type": "scatter",
         "xaxis": "x17",
         "yaxis": "y17"
        },
        {
         "colorbar": {
          "title": {
           "text": "Objective Value"
          }
         },
         "colorscale": [
          [
           0.0,
           "rgb(247,251,255)"
          ],
          [
           0.125,
           "rgb(222,235,247)"
          ],
          [
           0.25,
           "rgb(198,219,239)"
          ],
          [
           0.375,
           "rgb(158,202,225)"
          ],
          [
           0.5,
           "rgb(107,174,214)"
          ],
          [
           0.625,
           "rgb(66,146,198)"
          ],
          [
           0.75,
           "rgb(33,113,181)"
          ],
          [
           0.875,
           "rgb(8,81,156)"
          ],
          [
           1.0,
           "rgb(8,48,107)"
          ]
         ],
         "connectgaps": true,
         "contours": {
          "coloring": "heatmap"
         },
         "hoverinfo": "none",
         "line": {
          "smoothing": 1.3
         },
         "reversescale": true,
         "showscale": false,
         "x": [
          51.2,
          64,
          320,
          332.8
         ],
         "y": [
          0.009191417528721072,
          0.010242318938703103,
          0.011097554561103107,
          0.01314981250761057,
          0.08927180304353628,
          0.09947870131542277
         ],
         "z": {
          "dtype": "f8",
          "bdata": "AAAAAAAA+H8AAAAAAAD4fwAAAAAAAPh/AAAAAAAA+H8AAAAAAAD4fwAAAAAAAPh/qzfAO9M6gz8AAAAAAAD4fwAAAAAAAPh/S9qnwyF7gz8AAAAAAAD4fwAAAAAAAPh/AAAAAAAA+H8AAAAAAAD4fwAAAAAAAPh/AAAAAAAA+H8AAAAAAAD4fwAAAAAAAPh/AAAAAAAA+H8AAAAAAAD4fwAAAAAAAPh/AAAAAAAA+H8AAAAAAAD4fwAAAAAAAPh/",
          "shape": "6, 4"
         },
         "type": "contour",
         "xaxis": "x28",
         "yaxis": "y28"
        },
        {
         "marker": {
          "color": "black",
          "line": {
           "color": "Gray",
           "width": 2.0
          }
         },
         "mode": "markers",
         "name": "Feasible Trial",
         "showlegend": false,
         "x": [
          64,
          320
         ],
         "y": [
          0.011097554561103107,
          0.010242318938703103
         ],
         "type": "scatter",
         "xaxis": "x28",
         "yaxis": "y28"
        },
        {
         "colorbar": {
          "title": {
           "text": "Objective Value"
          }
         },
         "colorscale": [
          [
           0.0,
           "rgb(247,251,255)"
          ],
          [
           0.125,
           "rgb(222,235,247)"
          ],
          [
           0.25,
           "rgb(198,219,239)"
          ],
          [
           0.375,
           "rgb(158,202,225)"
          ],
          [
           0.5,
           "rgb(107,174,214)"
          ],
          [
           0.625,
           "rgb(66,146,198)"
          ],
          [
           0.75,
           "rgb(33,113,181)"
          ],
          [
           0.875,
           "rgb(8,81,156)"
          ],
          [
           1.0,
           "rgb(8,48,107)"
          ]
         ],
         "connectgaps": true,
         "contours": {
          "coloring": "heatmap"
         },
         "hoverinfo": "none",
         "line": {
          "smoothing": 1.3
         },
         "reversescale": true,
         "showscale": false,
         "x": [
          51.2,
          64,
          320,
          332.8
         ],
         "y": [
          313.6,
          320,
          384,
          448,
          454.4
         ],
         "z": {
          "dtype": "f8",
          "bdata": "AAAAAAAA+H8AAAAAAAD4fwAAAAAAAPh/AAAAAAAA+H8AAAAAAAD4f0vap8Mhe4M/AAAAAAAA+H8AAAAAAAD4fwAAAAAAAPh/AAAAAAAA+H+rN8A70zqDPwAAAAAAAPh/AAAAAAAA+H8AAAAAAAD4fwAAAAAAAPh/AAAAAAAA+H8AAAAAAAD4fwAAAAAAAPh/AAAAAAAA+H8AAAAAAAD4fw==",
          "shape": "5, 4"
         },
         "type": "contour",
         "xaxis": "x39",
         "yaxis": "y39"
        },
        {
         "marker": {
          "color": "black",
          "line": {
           "color": "Gray",
           "width": 2.0
          }
         },
         "mode": "markers",
         "name": "Feasible Trial",
         "showlegend": false,
         "x": [
          64,
          320
         ],
         "y": [
          320,
          384
         ],
         "type": "scatter",
         "xaxis": "x39",
         "yaxis": "y39"
        },
        {
         "colorbar": {
          "title": {
           "text": "Objective Value"
          }
         },
         "colorscale": [
          [
           0.0,
           "rgb(247,251,255)"
          ],
          [
           0.125,
           "rgb(222,235,247)"
          ],
          [
           0.25,
           "rgb(198,219,239)"
          ],
          [
           0.375,
           "rgb(158,202,225)"
          ],
          [
           0.5,
           "rgb(107,174,214)"
          ],
          [
           0.625,
           "rgb(66,146,198)"
          ],
          [
           0.75,
           "rgb(33,113,181)"
          ],
          [
           0.875,
           "rgb(8,81,156)"
          ],
          [
           1.0,
           "rgb(8,48,107)"
          ]
         ],
         "connectgaps": true,
         "contours": {
          "coloring": "heatmap"
         },
         "hoverinfo": "none",
         "line": {
          "smoothing": 1.3
         },
         "reversescale": true,
         "showscale": false,
         "x": [
          51.2,
          64,
          320,
          332.8
         ],
         "y": [
          2.75,
          3,
          5,
          8,
          8.25
         ],
         "z": {
          "dtype": "f8",
          "bdata": "AAAAAAAA+H8AAAAAAAD4fwAAAAAAAPh/AAAAAAAA+H8AAAAAAAD4fwAAAAAAAPh/qzfAO9M6gz8AAAAAAAD4fwAAAAAAAPh/S9qnwyF7gz8AAAAAAAD4fwAAAAAAAPh/AAAAAAAA+H8AAAAAAAD4fwAAAAAAAPh/AAAAAAAA+H8AAAAAAAD4fwAAAAAAAPh/AAAAAAAA+H8AAAAAAAD4fw==",
          "shape": "5, 4"
         },
         "type": "contour",
         "xaxis": "x50",
         "yaxis": "y50"
        },
        {
         "marker": {
          "color": "black",
          "line": {
           "color": "Gray",
           "width": 2.0
          }
         },
         "mode": "markers",
         "name": "Feasible Trial",
         "showlegend": false,
         "x": [
          64,
          320
         ],
         "y": [
          5,
          3
         ],
         "type": "scatter",
         "xaxis": "x50",
         "yaxis": "y50"
        },
        {
         "type": "scatter",
         "xaxis": "x61",
         "yaxis": "y61"
        },
        {
         "colorbar": {
          "title": {
           "text": "Objective Value"
          }
         },
         "colorscale": [
          [
           0.0,
           "rgb(247,251,255)"
          ],
          [
           0.125,
           "rgb(222,235,247)"
          ],
          [
           0.25,
           "rgb(198,219,239)"
          ],
          [
           0.375,
           "rgb(158,202,225)"
          ],
          [
           0.5,
           "rgb(107,174,214)"
          ],
          [
           0.625,
           "rgb(66,146,198)"
          ],
          [
           0.75,
           "rgb(33,113,181)"
          ],
          [
           0.875,
           "rgb(8,81,156)"
          ],
          [
           1.0,
           "rgb(8,48,107)"
          ]
         ],
         "connectgaps": true,
         "contours": {
          "coloring": "heatmap"
         },
         "hoverinfo": "none",
         "line": {
          "smoothing": 1.3
         },
         "reversescale": true,
         "showscale": false,
         "x": [
          51.2,
          64,
          320,
          332.8
         ],
         "y": [
          1.6269582925192225,
          1.981947943193925,
          6.140950886568256,
          8.373006336943329,
          9.081740956687977,
          9.43673060736268
         ],
         "z": {
          "dtype": "f8",
          "bdata": "AAAAAAAA+H8AAAAAAAD4fwAAAAAAAPh/AAAAAAAA+H8AAAAAAAD4fwAAAAAAAPh/AAAAAAAA+H8AAAAAAAD4fwAAAAAAAPh/AAAAAAAA+H8AAAAAAAD4fwAAAAAAAPh/AAAAAAAA+H9L2qfDIXuDPwAAAAAAAPh/AAAAAAAA+H8AAAAAAAD4fwAAAAAAAPh/qzfAO9M6gz8AAAAAAAD4fwAAAAAAAPh/AAAAAAAA+H8AAAAAAAD4fwAAAAAAAPh/",
          "shape": "6, 4"
         },
         "type": "contour",
         "xaxis": "x72",
         "yaxis": "y72"
        },
        {
         "marker": {
          "color": "black",
          "line": {
           "color": "Gray",
           "width": 2.0
          }
         },
         "mode": "markers",
         "name": "Feasible Trial",
         "showlegend": false,
         "x": [
          64,
          320
         ],
         "y": [
          8.373006336943329,
          9.081740956687977
         ],
         "type": "scatter",
         "xaxis": "x72",
         "yaxis": "y72"
        },
        {
         "colorbar": {
          "title": {
           "text": "Objective Value"
          }
         },
         "colorscale": [
          [
           0.0,
           "rgb(247,251,255)"
          ],
          [
           0.125,
           "rgb(222,235,247)"
          ],
          [
           0.25,
           "rgb(198,219,239)"
          ],
          [
           0.375,
           "rgb(158,202,225)"
          ],
          [
           0.5,
           "rgb(107,174,214)"
          ],
          [
           0.625,
           "rgb(66,146,198)"
          ],
          [
           0.75,
           "rgb(33,113,181)"
          ],
          [
           0.875,
           "rgb(8,81,156)"
          ],
          [
           1.0,
           "rgb(8,48,107)"
          ]
         ],
         "connectgaps": true,
         "contours": {
          "coloring": "heatmap"
         },
         "hoverinfo": "none",
         "line": {
          "smoothing": 1.3
         },
         "reversescale": true,
         "showscale": false,
         "x": [
          51.2,
          64,
          320,
          332.8
         ],
         "y": [
          490.0,
          500,
          700,
          710.0
         ],
         "z": {
          "dtype": "f8",
          "bdata": "AAAAAAAA+H8AAAAAAAD4fwAAAAAAAPh/AAAAAAAA+H8AAAAAAAD4f0vap8Mhe4M/qzfAO9M6gz8AAAAAAAD4fwAAAAAAAPh/AAAAAAAA+H8AAAAAAAD4fwAAAAAAAPh/AAAAAAAA+H8AAAAAAAD4fwAAAAAAAPh/AAAAAAAA+H8=",
          "shape": "4, 4"
         },
         "type": "contour",
         "xaxis": "x83",
         "yaxis": "y83"
        },
        {
         "marker": {
          "color": "black",
          "line": {
           "color": "Gray",
           "width": 2.0
          }
         },
         "mode": "markers",
         "name": "Feasible Trial",
         "showlegend": false,
         "x": [
          64,
          320
         ],
         "y": [
          500,
          500
         ],
         "type": "scatter",
         "xaxis": "x83",
         "yaxis": "y83"
        },
        {
         "colorbar": {
          "title": {
           "text": "Objective Value"
          }
         },
         "colorscale": [
          [
           0.0,
           "rgb(247,251,255)"
          ],
          [
           0.125,
           "rgb(222,235,247)"
          ],
          [
           0.25,
           "rgb(198,219,239)"
          ],
          [
           0.375,
           "rgb(158,202,225)"
          ],
          [
           0.5,
           "rgb(107,174,214)"
          ],
          [
           0.625,
           "rgb(66,146,198)"
          ],
          [
           0.75,
           "rgb(33,113,181)"
          ],
          [
           0.875,
           "rgb(8,81,156)"
          ],
          [
           1.0,
           "rgb(8,48,107)"
          ]
         ],
         "connectgaps": true,
         "contours": {
          "coloring": "heatmap"
         },
         "hoverinfo": "none",
         "line": {
          "smoothing": 1.3
         },
         "reversescale": true,
         "showscale": false,
         "x": [
          51.2,
          64,
          320,
          332.8
         ],
         "y": [
          0.036460834526854294,
          0.05808361216819946,
          0.22122711070370474,
          0.3567533266935893,
          0.49053916499510275,
          0.5121619426364479
         ],
         "z": {
          "dtype": "f8",
          "bdata": "AAAAAAAA+H8AAAAAAAD4fwAAAAAAAPh/AAAAAAAA+H8AAAAAAAD4fwAAAAAAAPh/AAAAAAAA+H8AAAAAAAD4fwAAAAAAAPh/AAAAAAAA+H+rN8A70zqDPwAAAAAAAPh/AAAAAAAA+H9L2qfDIXuDPwAAAAAAAPh/AAAAAAAA+H8AAAAAAAD4fwAAAAAAAPh/AAAAAAAA+H8AAAAAAAD4fwAAAAAAAPh/AAAAAAAA+H8AAAAAAAD4fwAAAAAAAPh/",
          "shape": "6, 4"
         },
         "type": "contour",
         "xaxis": "x94",
         "yaxis": "y94"
        },
        {
         "marker": {
          "color": "black",
          "line": {
           "color": "Gray",
           "width": 2.0
          }
         },
         "mode": "markers",
         "name": "Feasible Trial",
         "showlegend": false,
         "x": [
          64,
          320
         ],
         "y": [
          0.3567533266935893,
          0.22122711070370474
         ],
         "type": "scatter",
         "xaxis": "x94",
         "yaxis": "y94"
        },
        {
         "colorbar": {
          "title": {
           "text": "Objective Value"
          }
         },
         "colorscale": [
          [
           0.0,
           "rgb(247,251,255)"
          ],
          [
           0.125,
           "rgb(222,235,247)"
          ],
          [
           0.25,
           "rgb(198,219,239)"
          ],
          [
           0.375,
           "rgb(158,202,225)"
          ],
          [
           0.5,
           "rgb(107,174,214)"
          ],
          [
           0.625,
           "rgb(66,146,198)"
          ],
          [
           0.75,
           "rgb(33,113,181)"
          ],
          [
           0.875,
           "rgb(8,81,156)"
          ],
          [
           1.0,
           "rgb(8,48,107)"
          ]
         ],
         "connectgaps": true,
         "contours": {
          "coloring": "heatmap"
         },
         "hoverinfo": "none",
         "line": {
          "smoothing": 1.3
         },
         "reversescale": true,
         "showscale": false,
         "x": [
          51.2,
          64,
          320,
          332.8
         ],
         "y": [
          1.333194896626715,
          1.4765790974681658,
          3.6585778090214838,
          3.7995864955735317,
          4.344263114297182,
          4.487647315138633
         ],
         "z": {
          "dtype": "f8",
          "bdata": "AAAAAAAA+H8AAAAAAAD4fwAAAAAAAPh/AAAAAAAA+H8AAAAAAAD4f0vap8Mhe4M/AAAAAAAA+H8AAAAAAAD4fwAAAAAAAPh/AAAAAAAA+H+rN8A70zqDPwAAAAAAAPh/AAAAAAAA+H8AAAAAAAD4fwAAAAAAAPh/AAAAAAAA+H8AAAAAAAD4fwAAAAAAAPh/AAAAAAAA+H8AAAAAAAD4fwAAAAAAAPh/AAAAAAAA+H8AAAAAAAD4fwAAAAAAAPh/",
          "shape": "6, 4"
         },
         "type": "contour",
         "xaxis": "x105",
         "yaxis": "y105"
        },
        {
         "marker": {
          "color": "black",
          "line": {
           "color": "Gray",
           "width": 2.0
          }
         },
         "mode": "markers",
         "name": "Feasible Trial",
         "showlegend": false,
         "x": [
          64,
          320
         ],
         "y": [
          1.4765790974681658,
          3.6585778090214838
         ],
         "type": "scatter",
         "xaxis": "x105",
         "yaxis": "y105"
        },
        {
         "colorbar": {
          "title": {
           "text": "Objective Value"
          }
         },
         "colorscale": [
          [
           0.0,
           "rgb(247,251,255)"
          ],
          [
           0.125,
           "rgb(222,235,247)"
          ],
          [
           0.25,
           "rgb(198,219,239)"
          ],
          [
           0.375,
           "rgb(158,202,225)"
          ],
          [
           0.5,
           "rgb(107,174,214)"
          ],
          [
           0.625,
           "rgb(66,146,198)"
          ],
          [
           0.75,
           "rgb(33,113,181)"
          ],
          [
           0.875,
           "rgb(8,81,156)"
          ],
          [
           1.0,
           "rgb(8,48,107)"
          ]
         ],
         "connectgaps": true,
         "contours": {
          "coloring": "heatmap"
         },
         "hoverinfo": "none",
         "line": {
          "smoothing": 1.3
         },
         "reversescale": true,
         "showscale": false,
         "x": [
          51.2,
          64,
          320,
          332.8
         ],
         "y": [
          0.8090585347349498,
          0.8166031869068446,
          0.8795975452591109,
          0.9158558903524459,
          0.967496230344742,
          0.9750408825166368
         ],
         "z": {
          "dtype": "f8",
          "bdata": "AAAAAAAA+H8AAAAAAAD4fwAAAAAAAPh/AAAAAAAA+H8AAAAAAAD4f0vap8Mhe4M/AAAAAAAA+H8AAAAAAAD4fwAAAAAAAPh/AAAAAAAA+H8AAAAAAAD4fwAAAAAAAPh/AAAAAAAA+H8AAAAAAAD4fwAAAAAAAPh/AAAAAAAA+H8AAAAAAAD4fwAAAAAAAPh/qzfAO9M6gz8AAAAAAAD4fwAAAAAAAPh/AAAAAAAA+H8AAAAAAAD4fwAAAAAAAPh/",
          "shape": "6, 4"
         },
         "type": "contour",
         "xaxis": "x116",
         "yaxis": "y116"
        },
        {
         "marker": {
          "color": "black",
          "line": {
           "color": "Gray",
           "width": 2.0
          }
         },
         "mode": "markers",
         "name": "Feasible Trial",
         "showlegend": false,
         "x": [
          64,
          320
         ],
         "y": [
          0.8166031869068446,
          0.967496230344742
         ],
         "type": "scatter",
         "xaxis": "x116",
         "yaxis": "y116"
        },
        {
         "colorbar": {
          "title": {
           "text": "Objective Value"
          }
         },
         "colorscale": [
          [
           0.0,
           "rgb(247,251,255)"
          ],
          [
           0.125,
           "rgb(222,235,247)"
          ],
          [
           0.25,
           "rgb(198,219,239)"
          ],
          [
           0.375,
           "rgb(158,202,225)"
          ],
          [
           0.5,
           "rgb(107,174,214)"
          ],
          [
           0.625,
           "rgb(66,146,198)"
          ],
          [
           0.75,
           "rgb(33,113,181)"
          ],
          [
           0.875,
           "rgb(8,81,156)"
          ],
          [
           1.0,
           "rgb(8,48,107)"
          ]
         ],
         "connectgaps": true,
         "contours": {
          "coloring": "heatmap"
         },
         "hoverinfo": "none",
         "line": {
          "smoothing": 1.3
         },
         "reversescale": true,
         "showscale": false,
         "x": [
          1.6269582925192225,
          1.981947943193925,
          6.140950886568256,
          8.373006336943329,
          9.081740956687977,
          9.43673060736268
         ],
         "y": [
          0.7441305089421173,
          0.7468055921327309,
          0.7668022557458023,
          0.7814047095321688,
          0.8003072559450032,
          0.8029823391356168
         ],
         "z": {
          "dtype": "f8",
          "bdata": "AAAAAAAA+H8AAAAAAAD4fwAAAAAAAPh/AAAAAAAA+H8AAAAAAAD4fwAAAAAAAPh/AAAAAAAA+H9PVijOBzCEPwAAAAAAAPh/AAAAAAAA+H8AAAAAAAD4fwAAAAAAAPh/AAAAAAAA+H8AAAAAAAD4fzxnTHg6foM/AAAAAAAA+H8AAAAAAAD4fwAAAAAAAPh/AAAAAAAA+H8AAAAAAAD4fwAAAAAAAPh/S9qnwyF7gz8AAAAAAAD4fwAAAAAAAPh/AAAAAAAA+H8AAAAAAAD4fwAAAAAAAPh/AAAAAAAA+H+rN8A70zqDPwAAAAAAAPh/AAAAAAAA+H8AAAAAAAD4fwAAAAAAAPh/AAAAAAAA+H8AAAAAAAD4fwAAAAAAAPh/",
          "shape": "6, 6"
         },
         "type": "contour",
         "xaxis": "x7",
         "yaxis": "y7"
        },
        {
         "marker": {
          "color": "black",
          "line": {
           "color": "Gray",
           "width": 2.0
          }
         },
         "mode": "markers",
         "name": "Feasible Trial",
         "showlegend": false,
         "x": [
          1.981947943193925,
          8.373006336943329,
          9.081740956687977,
          6.140950886568256
         ],
         "y": [
          0.7468055921327309,
          0.7814047095321688,
          0.8003072559450032,
          0.7668022557458023
         ],
         "type": "scatter",
         "xaxis": "x7",
         "yaxis": "y7"
        },
        {
         "colorbar": {
          "title": {
           "text": "Objective Value"
          }
         },
         "colorscale": [
          [
           0.0,
           "rgb(247,251,255)"
          ],
          [
           0.125,
           "rgb(222,235,247)"
          ],
          [
           0.25,
           "rgb(198,219,239)"
          ],
          [
           0.375,
           "rgb(158,202,225)"
          ],
          [
           0.5,
           "rgb(107,174,214)"
          ],
          [
           0.625,
           "rgb(66,146,198)"
          ],
          [
           0.75,
           "rgb(33,113,181)"
          ],
          [
           0.875,
           "rgb(8,81,156)"
          ],
          [
           1.0,
           "rgb(8,48,107)"
          ]
         ],
         "connectgaps": true,
         "contours": {
          "coloring": "heatmap"
         },
         "hoverinfo": "none",
         "line": {
          "smoothing": 1.3
         },
         "reversescale": true,
         "showscale": false,
         "x": [
          1.6269582925192225,
          1.981947943193925,
          6.140950886568256,
          8.373006336943329,
          9.081740956687977,
          9.43673060736268
         ],
         "y": [
          "depthwise",
          "lossguide"
         ],
         "z": {
          "dtype": "f8",
          "bdata": "AAAAAAAA+H9PVijOBzCEPzxnTHg6foM/AAAAAAAA+H8AAAAAAAD4fwAAAAAAAPh/AAAAAAAA+H8AAAAAAAD4fwAAAAAAAPh/S9qnwyF7gz+rN8A70zqDPwAAAAAAAPh/",
          "shape": "2, 6"
         },
         "type": "contour",
         "xaxis": "x18",
         "yaxis": "y18"
        },
        {
         "marker": {
          "color": "black",
          "line": {
           "color": "Gray",
           "width": 2.0
          }
         },
         "mode": "markers",
         "name": "Feasible Trial",
         "showlegend": false,
         "x": [
          1.981947943193925,
          8.373006336943329,
          9.081740956687977,
          6.140950886568256
         ],
         "y": [
          "depthwise",
          "lossguide",
          "lossguide",
          "depthwise"
         ],
         "type": "scatter",
         "xaxis": "x18",
         "yaxis": "y18"
        },
        {
         "colorbar": {
          "title": {
           "text": "Objective Value"
          }
         },
         "colorscale": [
          [
           0.0,
           "rgb(247,251,255)"
          ],
          [
           0.125,
           "rgb(222,235,247)"
          ],
          [
           0.25,
           "rgb(198,219,239)"
          ],
          [
           0.375,
           "rgb(158,202,225)"
          ],
          [
           0.5,
           "rgb(107,174,214)"
          ],
          [
           0.625,
           "rgb(66,146,198)"
          ],
          [
           0.75,
           "rgb(33,113,181)"
          ],
          [
           0.875,
           "rgb(8,81,156)"
          ],
          [
           1.0,
           "rgb(8,48,107)"
          ]
         ],
         "connectgaps": true,
         "contours": {
          "coloring": "heatmap"
         },
         "hoverinfo": "none",
         "line": {
          "smoothing": 1.3
         },
         "reversescale": true,
         "showscale": false,
         "x": [
          1.6269582925192225,
          1.981947943193925,
          6.140950886568256,
          8.373006336943329,
          9.081740956687977,
          9.43673060736268
         ],
         "y": [
          0.009191417528721072,
          0.010242318938703103,
          0.011097554561103107,
          0.01314981250761057,
          0.08927180304353628,
          0.09947870131542277
         ],
         "z": {
          "dtype": "f8",
          "bdata": "AAAAAAAA+H8AAAAAAAD4fwAAAAAAAPh/AAAAAAAA+H8AAAAAAAD4fwAAAAAAAPh/AAAAAAAA+H8AAAAAAAD4fwAAAAAAAPh/AAAAAAAA+H+rN8A70zqDPwAAAAAAAPh/AAAAAAAA+H8AAAAAAAD4fwAAAAAAAPh/S9qnwyF7gz8AAAAAAAD4fwAAAAAAAPh/AAAAAAAA+H8AAAAAAAD4fzxnTHg6foM/AAAAAAAA+H8AAAAAAAD4fwAAAAAAAPh/AAAAAAAA+H9PVijOBzCEPwAAAAAAAPh/AAAAAAAA+H8AAAAAAAD4fwAAAAAAAPh/AAAAAAAA+H8AAAAAAAD4fwAAAAAAAPh/AAAAAAAA+H8AAAAAAAD4fwAAAAAAAPh/",
          "shape": "6, 6"
         },
         "type": "contour",
         "xaxis": "x29",
         "yaxis": "y29"
        },
        {
         "marker": {
          "color": "black",
          "line": {
           "color": "Gray",
           "width": 2.0
          }
         },
         "mode": "markers",
         "name": "Feasible Trial",
         "showlegend": false,
         "x": [
          1.981947943193925,
          8.373006336943329,
          9.081740956687977,
          6.140950886568256
         ],
         "y": [
          0.08927180304353628,
          0.011097554561103107,
          0.010242318938703103,
          0.01314981250761057
         ],
         "type": "scatter",
         "xaxis": "x29",
         "yaxis": "y29"
        },
        {
         "colorbar": {
          "title": {
           "text": "Objective Value"
          }
         },
         "colorscale": [
          [
           0.0,
           "rgb(247,251,255)"
          ],
          [
           0.125,
           "rgb(222,235,247)"
          ],
          [
           0.25,
           "rgb(198,219,239)"
          ],
          [
           0.375,
           "rgb(158,202,225)"
          ],
          [
           0.5,
           "rgb(107,174,214)"
          ],
          [
           0.625,
           "rgb(66,146,198)"
          ],
          [
           0.75,
           "rgb(33,113,181)"
          ],
          [
           0.875,
           "rgb(8,81,156)"
          ],
          [
           1.0,
           "rgb(8,48,107)"
          ]
         ],
         "connectgaps": true,
         "contours": {
          "coloring": "heatmap"
         },
         "hoverinfo": "none",
         "line": {
          "smoothing": 1.3
         },
         "reversescale": true,
         "showscale": false,
         "x": [
          1.6269582925192225,
          1.981947943193925,
          6.140950886568256,
          8.373006336943329,
          9.081740956687977,
          9.43673060736268
         ],
         "y": [
          313.6,
          320,
          384,
          448,
          454.4
         ],
         "z": {
          "dtype": "f8",
          "bdata": "AAAAAAAA+H8AAAAAAAD4fwAAAAAAAPh/AAAAAAAA+H8AAAAAAAD4fwAAAAAAAPh/AAAAAAAA+H8AAAAAAAD4fwAAAAAAAPh/S9qnwyF7gz8AAAAAAAD4fwAAAAAAAPh/AAAAAAAA+H9PVijOBzCEPwAAAAAAAPh/AAAAAAAA+H+rN8A70zqDPwAAAAAAAPh/AAAAAAAA+H8AAAAAAAD4fzxnTHg6foM/AAAAAAAA+H8AAAAAAAD4fwAAAAAAAPh/AAAAAAAA+H8AAAAAAAD4fwAAAAAAAPh/AAAAAAAA+H8AAAAAAAD4fwAAAAAAAPh/",
          "shape": "5, 6"
         },
         "type": "contour",
         "xaxis": "x40",
         "yaxis": "y40"
        },
        {
         "marker": {
          "color": "black",
          "line": {
           "color": "Gray",
           "width": 2.0
          }
         },
         "mode": "markers",
         "name": "Feasible Trial",
         "showlegend": false,
         "x": [
          1.981947943193925,
          8.373006336943329,
          9.081740956687977,
          6.140950886568256
         ],
         "y": [
          384,
          320,
          384,
          448
         ],
         "type": "scatter",
         "xaxis": "x40",
         "yaxis": "y40"
        },
        {
         "colorbar": {
          "title": {
           "text": "Objective Value"
          }
         },
         "colorscale": [
          [
           0.0,
           "rgb(247,251,255)"
          ],
          [
           0.125,
           "rgb(222,235,247)"
          ],
          [
           0.25,
           "rgb(198,219,239)"
          ],
          [
           0.375,
           "rgb(158,202,225)"
          ],
          [
           0.5,
           "rgb(107,174,214)"
          ],
          [
           0.625,
           "rgb(66,146,198)"
          ],
          [
           0.75,
           "rgb(33,113,181)"
          ],
          [
           0.875,
           "rgb(8,81,156)"
          ],
          [
           1.0,
           "rgb(8,48,107)"
          ]
         ],
         "connectgaps": true,
         "contours": {
          "coloring": "heatmap"
         },
         "hoverinfo": "none",
         "line": {
          "smoothing": 1.3
         },
         "reversescale": true,
         "showscale": false,
         "x": [
          1.6269582925192225,
          1.981947943193925,
          6.140950886568256,
          8.373006336943329,
          9.081740956687977,
          9.43673060736268
         ],
         "y": [
          2.75,
          3,
          5,
          8,
          8.25
         ],
         "z": {
          "dtype": "f8",
          "bdata": "AAAAAAAA+H8AAAAAAAD4fwAAAAAAAPh/AAAAAAAA+H8AAAAAAAD4fwAAAAAAAPh/AAAAAAAA+H8AAAAAAAD4fzxnTHg6foM/AAAAAAAA+H+rN8A70zqDPwAAAAAAAPh/AAAAAAAA+H8AAAAAAAD4fwAAAAAAAPh/S9qnwyF7gz8AAAAAAAD4fwAAAAAAAPh/AAAAAAAA+H9PVijOBzCEPwAAAAAAAPh/AAAAAAAA+H8AAAAAAAD4fwAAAAAAAPh/AAAAAAAA+H8AAAAAAAD4fwAAAAAAAPh/AAAAAAAA+H8AAAAAAAD4fwAAAAAAAPh/",
          "shape": "5, 6"
         },
         "type": "contour",
         "xaxis": "x51",
         "yaxis": "y51"
        },
        {
         "marker": {
          "color": "black",
          "line": {
           "color": "Gray",
           "width": 2.0
          }
         },
         "mode": "markers",
         "name": "Feasible Trial",
         "showlegend": false,
         "x": [
          1.981947943193925,
          8.373006336943329,
          9.081740956687977,
          6.140950886568256
         ],
         "y": [
          8,
          5,
          3,
          3
         ],
         "type": "scatter",
         "xaxis": "x51",
         "yaxis": "y51"
        },
        {
         "colorbar": {
          "title": {
           "text": "Objective Value"
          }
         },
         "colorscale": [
          [
           0.0,
           "rgb(247,251,255)"
          ],
          [
           0.125,
           "rgb(222,235,247)"
          ],
          [
           0.25,
           "rgb(198,219,239)"
          ],
          [
           0.375,
           "rgb(158,202,225)"
          ],
          [
           0.5,
           "rgb(107,174,214)"
          ],
          [
           0.625,
           "rgb(66,146,198)"
          ],
          [
           0.75,
           "rgb(33,113,181)"
          ],
          [
           0.875,
           "rgb(8,81,156)"
          ],
          [
           1.0,
           "rgb(8,48,107)"
          ]
         ],
         "connectgaps": true,
         "contours": {
          "coloring": "heatmap"
         },
         "hoverinfo": "none",
         "line": {
          "smoothing": 1.3
         },
         "reversescale": true,
         "showscale": false,
         "x": [
          1.6269582925192225,
          1.981947943193925,
          6.140950886568256,
          8.373006336943329,
          9.081740956687977,
          9.43673060736268
         ],
         "y": [
          51.2,
          64,
          320,
          332.8
         ],
         "z": {
          "dtype": "f8",
          "bdata": "AAAAAAAA+H8AAAAAAAD4fwAAAAAAAPh/AAAAAAAA+H8AAAAAAAD4fwAAAAAAAPh/AAAAAAAA+H8AAAAAAAD4fwAAAAAAAPh/S9qnwyF7gz8AAAAAAAD4fwAAAAAAAPh/AAAAAAAA+H8AAAAAAAD4fwAAAAAAAPh/AAAAAAAA+H+rN8A70zqDPwAAAAAAAPh/AAAAAAAA+H8AAAAAAAD4fwAAAAAAAPh/AAAAAAAA+H8AAAAAAAD4fwAAAAAAAPh/",
          "shape": "4, 6"
         },
         "type": "contour",
         "xaxis": "x62",
         "yaxis": "y62"
        },
        {
         "marker": {
          "color": "black",
          "line": {
           "color": "Gray",
           "width": 2.0
          }
         },
         "mode": "markers",
         "name": "Feasible Trial",
         "showlegend": false,
         "x": [
          8.373006336943329,
          9.081740956687977
         ],
         "y": [
          64,
          320
         ],
         "type": "scatter",
         "xaxis": "x62",
         "yaxis": "y62"
        },
        {
         "type": "scatter",
         "xaxis": "x73",
         "yaxis": "y73"
        },
        {
         "colorbar": {
          "title": {
           "text": "Objective Value"
          }
         },
         "colorscale": [
          [
           0.0,
           "rgb(247,251,255)"
          ],
          [
           0.125,
           "rgb(222,235,247)"
          ],
          [
           0.25,
           "rgb(198,219,239)"
          ],
          [
           0.375,
           "rgb(158,202,225)"
          ],
          [
           0.5,
           "rgb(107,174,214)"
          ],
          [
           0.625,
           "rgb(66,146,198)"
          ],
          [
           0.75,
           "rgb(33,113,181)"
          ],
          [
           0.875,
           "rgb(8,81,156)"
          ],
          [
           1.0,
           "rgb(8,48,107)"
          ]
         ],
         "connectgaps": true,
         "contours": {
          "coloring": "heatmap"
         },
         "hoverinfo": "none",
         "line": {
          "smoothing": 1.3
         },
         "reversescale": true,
         "showscale": false,
         "x": [
          1.6269582925192225,
          1.981947943193925,
          6.140950886568256,
          8.373006336943329,
          9.081740956687977,
          9.43673060736268
         ],
         "y": [
          490.0,
          500,
          700,
          710.0
         ],
         "z": {
          "dtype": "f8",
          "bdata": "AAAAAAAA+H8AAAAAAAD4fwAAAAAAAPh/AAAAAAAA+H8AAAAAAAD4fwAAAAAAAPh/AAAAAAAA+H8AAAAAAAD4fwAAAAAAAPh/S9qnwyF7gz+rN8A70zqDPwAAAAAAAPh/AAAAAAAA+H9PVijOBzCEPzxnTHg6foM/AAAAAAAA+H8AAAAAAAD4fwAAAAAAAPh/AAAAAAAA+H8AAAAAAAD4fwAAAAAAAPh/AAAAAAAA+H8AAAAAAAD4fwAAAAAAAPh/",
          "shape": "4, 6"
         },
         "type": "contour",
         "xaxis": "x84",
         "yaxis": "y84"
        },
        {
         "marker": {
          "color": "black",
          "line": {
           "color": "Gray",
           "width": 2.0
          }
         },
         "mode": "markers",
         "name": "Feasible Trial",
         "showlegend": false,
         "x": [
          1.981947943193925,
          8.373006336943329,
          9.081740956687977,
          6.140950886568256
         ],
         "y": [
          700,
          500,
          500,
          700
         ],
         "type": "scatter",
         "xaxis": "x84",
         "yaxis": "y84"
        },
        {
         "colorbar": {
          "title": {
           "text": "Objective Value"
          }
         },
         "colorscale": [
          [
           0.0,
           "rgb(247,251,255)"
          ],
          [
           0.125,
           "rgb(222,235,247)"
          ],
          [
           0.25,
           "rgb(198,219,239)"
          ],
          [
           0.375,
           "rgb(158,202,225)"
          ],
          [
           0.5,
           "rgb(107,174,214)"
          ],
          [
           0.625,
           "rgb(66,146,198)"
          ],
          [
           0.75,
           "rgb(33,113,181)"
          ],
          [
           0.875,
           "rgb(8,81,156)"
          ],
          [
           1.0,
           "rgb(8,48,107)"
          ]
         ],
         "connectgaps": true,
         "contours": {
          "coloring": "heatmap"
         },
         "hoverinfo": "none",
         "line": {
          "smoothing": 1.3
         },
         "reversescale": true,
         "showscale": false,
         "x": [
          1.6269582925192225,
          1.981947943193925,
          6.140950886568256,
          8.373006336943329,
          9.081740956687977,
          9.43673060736268
         ],
         "y": [
          0.036460834526854294,
          0.05808361216819946,
          0.22122711070370474,
          0.3567533266935893,
          0.49053916499510275,
          0.5121619426364479
         ],
         "z": {
          "dtype": "f8",
          "bdata": "AAAAAAAA+H8AAAAAAAD4fwAAAAAAAPh/AAAAAAAA+H8AAAAAAAD4fwAAAAAAAPh/AAAAAAAA+H9PVijOBzCEPwAAAAAAAPh/AAAAAAAA+H8AAAAAAAD4fwAAAAAAAPh/AAAAAAAA+H8AAAAAAAD4fwAAAAAAAPh/AAAAAAAA+H+rN8A70zqDPwAAAAAAAPh/AAAAAAAA+H8AAAAAAAD4fwAAAAAAAPh/S9qnwyF7gz8AAAAAAAD4fwAAAAAAAPh/AAAAAAAA+H8AAAAAAAD4fzxnTHg6foM/AAAAAAAA+H8AAAAAAAD4fwAAAAAAAPh/AAAAAAAA+H8AAAAAAAD4fwAAAAAAAPh/AAAAAAAA+H8AAAAAAAD4fwAAAAAAAPh/",
          "shape": "6, 6"
         },
         "type": "contour",
         "xaxis": "x95",
         "yaxis": "y95"
        },
        {
         "marker": {
          "color": "black",
          "line": {
           "color": "Gray",
           "width": 2.0
          }
         },
         "mode": "markers",
         "name": "Feasible Trial",
         "showlegend": false,
         "x": [
          1.981947943193925,
          8.373006336943329,
          9.081740956687977,
          6.140950886568256
         ],
         "y": [
          0.05808361216819946,
          0.3567533266935893,
          0.22122711070370474,
          0.49053916499510275
         ],
         "type": "scatter",
         "xaxis": "x95",
         "yaxis": "y95"
        },
        {
         "colorbar": {
          "title": {
           "text": "Objective Value"
          }
         },
         "colorscale": [
          [
           0.0,
           "rgb(247,251,255)"
          ],
          [
           0.125,
           "rgb(222,235,247)"
          ],
          [
           0.25,
           "rgb(198,219,239)"
          ],
          [
           0.375,
           "rgb(158,202,225)"
          ],
          [
           0.5,
           "rgb(107,174,214)"
          ],
          [
           0.625,
           "rgb(66,146,198)"
          ],
          [
           0.75,
           "rgb(33,113,181)"
          ],
          [
           0.875,
           "rgb(8,81,156)"
          ],
          [
           1.0,
           "rgb(8,48,107)"
          ]
         ],
         "connectgaps": true,
         "contours": {
          "coloring": "heatmap"
         },
         "hoverinfo": "none",
         "line": {
          "smoothing": 1.3
         },
         "reversescale": true,
         "showscale": false,
         "x": [
          1.6269582925192225,
          1.981947943193925,
          6.140950886568256,
          8.373006336943329,
          9.081740956687977,
          9.43673060736268
         ],
         "y": [
          1.333194896626715,
          1.4765790974681658,
          3.6585778090214838,
          3.7995864955735317,
          4.344263114297182,
          4.487647315138633
         ],
         "z": {
          "dtype": "f8",
          "bdata": "AAAAAAAA+H8AAAAAAAD4fwAAAAAAAPh/AAAAAAAA+H8AAAAAAAD4fwAAAAAAAPh/AAAAAAAA+H8AAAAAAAD4fwAAAAAAAPh/S9qnwyF7gz8AAAAAAAD4fwAAAAAAAPh/AAAAAAAA+H8AAAAAAAD4fwAAAAAAAPh/AAAAAAAA+H+rN8A70zqDPwAAAAAAAPh/AAAAAAAA+H8AAAAAAAD4fzxnTHg6foM/AAAAAAAA+H8AAAAAAAD4fwAAAAAAAPh/AAAAAAAA+H9PVijOBzCEPwAAAAAAAPh/AAAAAAAA+H8AAAAAAAD4fwAAAAAAAPh/AAAAAAAA+H8AAAAAAAD4fwAAAAAAAPh/AAAAAAAA+H8AAAAAAAD4fwAAAAAAAPh/",
          "shape": "6, 6"
         },
         "type": "contour",
         "xaxis": "x106",
         "yaxis": "y106"
        },
        {
         "marker": {
          "color": "black",
          "line": {
           "color": "Gray",
           "width": 2.0
          }
         },
         "mode": "markers",
         "name": "Feasible Trial",
         "showlegend": false,
         "x": [
          1.981947943193925,
          8.373006336943329,
          9.081740956687977,
          6.140950886568256
         ],
         "y": [
          4.344263114297182,
          1.4765790974681658,
          3.6585778090214838,
          3.7995864955735317
         ],
         "type": "scatter",
         "xaxis": "x106",
         "yaxis": "y106"
        },
        {
         "colorbar": {
          "title": {
           "text": "Objective Value"
          }
         },
         "colorscale": [
          [
           0.0,
           "rgb(247,251,255)"
          ],
          [
           0.125,
           "rgb(222,235,247)"
          ],
          [
           0.25,
           "rgb(198,219,239)"
          ],
          [
           0.375,
           "rgb(158,202,225)"
          ],
          [
           0.5,
           "rgb(107,174,214)"
          ],
          [
           0.625,
           "rgb(66,146,198)"
          ],
          [
           0.75,
           "rgb(33,113,181)"
          ],
          [
           0.875,
           "rgb(8,81,156)"
          ],
          [
           1.0,
           "rgb(8,48,107)"
          ]
         ],
         "connectgaps": true,
         "contours": {
          "coloring": "heatmap"
         },
         "hoverinfo": "none",
         "line": {
          "smoothing": 1.3
         },
         "reversescale": true,
         "showscale": false,
         "x": [
          1.6269582925192225,
          1.981947943193925,
          6.140950886568256,
          8.373006336943329,
          9.081740956687977,
          9.43673060736268
         ],
         "y": [
          0.8090585347349498,
          0.8166031869068446,
          0.8795975452591109,
          0.9158558903524459,
          0.967496230344742,
          0.9750408825166368
         ],
         "z": {
          "dtype": "f8",
          "bdata": "AAAAAAAA+H8AAAAAAAD4fwAAAAAAAPh/AAAAAAAA+H8AAAAAAAD4fwAAAAAAAPh/AAAAAAAA+H8AAAAAAAD4fwAAAAAAAPh/S9qnwyF7gz8AAAAAAAD4fwAAAAAAAPh/AAAAAAAA+H9PVijOBzCEPwAAAAAAAPh/AAAAAAAA+H8AAAAAAAD4fwAAAAAAAPh/AAAAAAAA+H8AAAAAAAD4fzxnTHg6foM/AAAAAAAA+H8AAAAAAAD4fwAAAAAAAPh/AAAAAAAA+H8AAAAAAAD4fwAAAAAAAPh/AAAAAAAA+H+rN8A70zqDPwAAAAAAAPh/AAAAAAAA+H8AAAAAAAD4fwAAAAAAAPh/AAAAAAAA+H8AAAAAAAD4fwAAAAAAAPh/",
          "shape": "6, 6"
         },
         "type": "contour",
         "xaxis": "x117",
         "yaxis": "y117"
        },
        {
         "marker": {
          "color": "black",
          "line": {
           "color": "Gray",
           "width": 2.0
          }
         },
         "mode": "markers",
         "name": "Feasible Trial",
         "showlegend": false,
         "x": [
          1.981947943193925,
          8.373006336943329,
          9.081740956687977,
          6.140950886568256
         ],
         "y": [
          0.8795975452591109,
          0.8166031869068446,
          0.967496230344742,
          0.9158558903524459
         ],
         "type": "scatter",
         "xaxis": "x117",
         "yaxis": "y117"
        },
        {
         "colorbar": {
          "title": {
           "text": "Objective Value"
          }
         },
         "colorscale": [
          [
           0.0,
           "rgb(247,251,255)"
          ],
          [
           0.125,
           "rgb(222,235,247)"
          ],
          [
           0.25,
           "rgb(198,219,239)"
          ],
          [
           0.375,
           "rgb(158,202,225)"
          ],
          [
           0.5,
           "rgb(107,174,214)"
          ],
          [
           0.625,
           "rgb(66,146,198)"
          ],
          [
           0.75,
           "rgb(33,113,181)"
          ],
          [
           0.875,
           "rgb(8,81,156)"
          ],
          [
           1.0,
           "rgb(8,48,107)"
          ]
         ],
         "connectgaps": true,
         "contours": {
          "coloring": "heatmap"
         },
         "hoverinfo": "none",
         "line": {
          "smoothing": 1.3
         },
         "reversescale": true,
         "showscale": false,
         "x": [
          490.0,
          500,
          700,
          710.0
         ],
         "y": [
          0.7441305089421173,
          0.7468055921327309,
          0.7668022557458023,
          0.7814047095321688,
          0.8003072559450032,
          0.8029823391356168
         ],
         "z": {
          "dtype": "f8",
          "bdata": "AAAAAAAA+H8AAAAAAAD4fwAAAAAAAPh/AAAAAAAA+H8AAAAAAAD4fwAAAAAAAPh/T1YozgcwhD8AAAAAAAD4fwAAAAAAAPh/AAAAAAAA+H88Z0x4On6DPwAAAAAAAPh/AAAAAAAA+H9L2qfDIXuDPwAAAAAAAPh/AAAAAAAA+H8AAAAAAAD4f6s3wDvTOoM/AAAAAAAA+H8AAAAAAAD4fwAAAAAAAPh/AAAAAAAA+H8AAAAAAAD4fwAAAAAAAPh/",
          "shape": "6, 4"
         },
         "type": "contour",
         "xaxis": "x8",
         "yaxis": "y8"
        },
        {
         "marker": {
          "color": "black",
          "line": {
           "color": "Gray",
           "width": 2.0
          }
         },
         "mode": "markers",
         "name": "Feasible Trial",
         "showlegend": false,
         "x": [
          700,
          500,
          500,
          700
         ],
         "y": [
          0.7468055921327309,
          0.7814047095321688,
          0.8003072559450032,
          0.7668022557458023
         ],
         "type": "scatter",
         "xaxis": "x8",
         "yaxis": "y8"
        },
        {
         "colorbar": {
          "title": {
           "text": "Objective Value"
          }
         },
         "colorscale": [
          [
           0.0,
           "rgb(247,251,255)"
          ],
          [
           0.125,
           "rgb(222,235,247)"
          ],
          [
           0.25,
           "rgb(198,219,239)"
          ],
          [
           0.375,
           "rgb(158,202,225)"
          ],
          [
           0.5,
           "rgb(107,174,214)"
          ],
          [
           0.625,
           "rgb(66,146,198)"
          ],
          [
           0.75,
           "rgb(33,113,181)"
          ],
          [
           0.875,
           "rgb(8,81,156)"
          ],
          [
           1.0,
           "rgb(8,48,107)"
          ]
         ],
         "connectgaps": true,
         "contours": {
          "coloring": "heatmap"
         },
         "hoverinfo": "none",
         "line": {
          "smoothing": 1.3
         },
         "reversescale": true,
         "showscale": false,
         "x": [
          490.0,
          500,
          700,
          710.0
         ],
         "y": [
          "depthwise",
          "lossguide"
         ],
         "z": {
          "dtype": "f8",
          "bdata": "AAAAAAAA+H8AAAAAAAD4fzxnTHg6foM/AAAAAAAA+H8AAAAAAAD4f6s3wDvTOoM/AAAAAAAA+H8AAAAAAAD4fw==",
          "shape": "2, 4"
         },
         "type": "contour",
         "xaxis": "x19",
         "yaxis": "y19"
        },
        {
         "marker": {
          "color": "black",
          "line": {
           "color": "Gray",
           "width": 2.0
          }
         },
         "mode": "markers",
         "name": "Feasible Trial",
         "showlegend": false,
         "x": [
          700,
          500,
          500,
          700
         ],
         "y": [
          "depthwise",
          "lossguide",
          "lossguide",
          "depthwise"
         ],
         "type": "scatter",
         "xaxis": "x19",
         "yaxis": "y19"
        },
        {
         "colorbar": {
          "title": {
           "text": "Objective Value"
          }
         },
         "colorscale": [
          [
           0.0,
           "rgb(247,251,255)"
          ],
          [
           0.125,
           "rgb(222,235,247)"
          ],
          [
           0.25,
           "rgb(198,219,239)"
          ],
          [
           0.375,
           "rgb(158,202,225)"
          ],
          [
           0.5,
           "rgb(107,174,214)"
          ],
          [
           0.625,
           "rgb(66,146,198)"
          ],
          [
           0.75,
           "rgb(33,113,181)"
          ],
          [
           0.875,
           "rgb(8,81,156)"
          ],
          [
           1.0,
           "rgb(8,48,107)"
          ]
         ],
         "connectgaps": true,
         "contours": {
          "coloring": "heatmap"
         },
         "hoverinfo": "none",
         "line": {
          "smoothing": 1.3
         },
         "reversescale": true,
         "showscale": false,
         "x": [
          490.0,
          500,
          700,
          710.0
         ],
         "y": [
          0.009191417528721072,
          0.010242318938703103,
          0.011097554561103107,
          0.01314981250761057,
          0.08927180304353628,
          0.09947870131542277
         ],
         "z": {
          "dtype": "f8",
          "bdata": "AAAAAAAA+H8AAAAAAAD4fwAAAAAAAPh/AAAAAAAA+H8AAAAAAAD4f6s3wDvTOoM/AAAAAAAA+H8AAAAAAAD4fwAAAAAAAPh/S9qnwyF7gz8AAAAAAAD4fwAAAAAAAPh/AAAAAAAA+H8AAAAAAAD4fzxnTHg6foM/AAAAAAAA+H8AAAAAAAD4fwAAAAAAAPh/T1YozgcwhD8AAAAAAAD4fwAAAAAAAPh/AAAAAAAA+H8AAAAAAAD4fwAAAAAAAPh/",
          "shape": "6, 4"
         },
         "type": "contour",
         "xaxis": "x30",
         "yaxis": "y30"
        },
        {
         "marker": {
          "color": "black",
          "line": {
           "color": "Gray",
           "width": 2.0
          }
         },
         "mode": "markers",
         "name": "Feasible Trial",
         "showlegend": false,
         "x": [
          700,
          500,
          500,
          700
         ],
         "y": [
          0.08927180304353628,
          0.011097554561103107,
          0.010242318938703103,
          0.01314981250761057
         ],
         "type": "scatter",
         "xaxis": "x30",
         "yaxis": "y30"
        },
        {
         "colorbar": {
          "title": {
           "text": "Objective Value"
          }
         },
         "colorscale": [
          [
           0.0,
           "rgb(247,251,255)"
          ],
          [
           0.125,
           "rgb(222,235,247)"
          ],
          [
           0.25,
           "rgb(198,219,239)"
          ],
          [
           0.375,
           "rgb(158,202,225)"
          ],
          [
           0.5,
           "rgb(107,174,214)"
          ],
          [
           0.625,
           "rgb(66,146,198)"
          ],
          [
           0.75,
           "rgb(33,113,181)"
          ],
          [
           0.875,
           "rgb(8,81,156)"
          ],
          [
           1.0,
           "rgb(8,48,107)"
          ]
         ],
         "connectgaps": true,
         "contours": {
          "coloring": "heatmap"
         },
         "hoverinfo": "none",
         "line": {
          "smoothing": 1.3
         },
         "reversescale": true,
         "showscale": false,
         "x": [
          490.0,
          500,
          700,
          710.0
         ],
         "y": [
          313.6,
          320,
          384,
          448,
          454.4
         ],
         "z": {
          "dtype": "f8",
          "bdata": "AAAAAAAA+H8AAAAAAAD4fwAAAAAAAPh/AAAAAAAA+H8AAAAAAAD4f0vap8Mhe4M/AAAAAAAA+H8AAAAAAAD4fwAAAAAAAPh/qzfAO9M6gz9PVijOBzCEPwAAAAAAAPh/AAAAAAAA+H8AAAAAAAD4fzxnTHg6foM/AAAAAAAA+H8AAAAAAAD4fwAAAAAAAPh/AAAAAAAA+H8AAAAAAAD4fw==",
          "shape": "5, 4"
         },
         "type": "contour",
         "xaxis": "x41",
         "yaxis": "y41"
        },
        {
         "marker": {
          "color": "black",
          "line": {
           "color": "Gray",
           "width": 2.0
          }
         },
         "mode": "markers",
         "name": "Feasible Trial",
         "showlegend": false,
         "x": [
          700,
          500,
          500,
          700
         ],
         "y": [
          384,
          320,
          384,
          448
         ],
         "type": "scatter",
         "xaxis": "x41",
         "yaxis": "y41"
        },
        {
         "colorbar": {
          "title": {
           "text": "Objective Value"
          }
         },
         "colorscale": [
          [
           0.0,
           "rgb(247,251,255)"
          ],
          [
           0.125,
           "rgb(222,235,247)"
          ],
          [
           0.25,
           "rgb(198,219,239)"
          ],
          [
           0.375,
           "rgb(158,202,225)"
          ],
          [
           0.5,
           "rgb(107,174,214)"
          ],
          [
           0.625,
           "rgb(66,146,198)"
          ],
          [
           0.75,
           "rgb(33,113,181)"
          ],
          [
           0.875,
           "rgb(8,81,156)"
          ],
          [
           1.0,
           "rgb(8,48,107)"
          ]
         ],
         "connectgaps": true,
         "contours": {
          "coloring": "heatmap"
         },
         "hoverinfo": "none",
         "line": {
          "smoothing": 1.3
         },
         "reversescale": true,
         "showscale": false,
         "x": [
          490.0,
          500,
          700,
          710.0
         ],
         "y": [
          2.75,
          3,
          5,
          8,
          8.25
         ],
         "z": {
          "dtype": "f8",
          "bdata": "AAAAAAAA+H8AAAAAAAD4fwAAAAAAAPh/AAAAAAAA+H8AAAAAAAD4f6s3wDvTOoM/PGdMeDp+gz8AAAAAAAD4fwAAAAAAAPh/S9qnwyF7gz8AAAAAAAD4fwAAAAAAAPh/AAAAAAAA+H8AAAAAAAD4f09WKM4HMIQ/AAAAAAAA+H8AAAAAAAD4fwAAAAAAAPh/AAAAAAAA+H8AAAAAAAD4fw==",
          "shape": "5, 4"
         },
         "type": "contour",
         "xaxis": "x52",
         "yaxis": "y52"
        },
        {
         "marker": {
          "color": "black",
          "line": {
           "color": "Gray",
           "width": 2.0
          }
         },
         "mode": "markers",
         "name": "Feasible Trial",
         "showlegend": false,
         "x": [
          700,
          500,
          500,
          700
         ],
         "y": [
          8,
          5,
          3,
          3
         ],
         "type": "scatter",
         "xaxis": "x52",
         "yaxis": "y52"
        },
        {
         "colorbar": {
          "title": {
           "text": "Objective Value"
          }
         },
         "colorscale": [
          [
           0.0,
           "rgb(247,251,255)"
          ],
          [
           0.125,
           "rgb(222,235,247)"
          ],
          [
           0.25,
           "rgb(198,219,239)"
          ],
          [
           0.375,
           "rgb(158,202,225)"
          ],
          [
           0.5,
           "rgb(107,174,214)"
          ],
          [
           0.625,
           "rgb(66,146,198)"
          ],
          [
           0.75,
           "rgb(33,113,181)"
          ],
          [
           0.875,
           "rgb(8,81,156)"
          ],
          [
           1.0,
           "rgb(8,48,107)"
          ]
         ],
         "connectgaps": true,
         "contours": {
          "coloring": "heatmap"
         },
         "hoverinfo": "none",
         "line": {
          "smoothing": 1.3
         },
         "reversescale": true,
         "showscale": false,
         "x": [
          490.0,
          500,
          700,
          710.0
         ],
         "y": [
          51.2,
          64,
          320,
          332.8
         ],
         "z": {
          "dtype": "f8",
          "bdata": "AAAAAAAA+H8AAAAAAAD4fwAAAAAAAPh/AAAAAAAA+H8AAAAAAAD4f0vap8Mhe4M/AAAAAAAA+H8AAAAAAAD4fwAAAAAAAPh/qzfAO9M6gz8AAAAAAAD4fwAAAAAAAPh/AAAAAAAA+H8AAAAAAAD4fwAAAAAAAPh/AAAAAAAA+H8=",
          "shape": "4, 4"
         },
         "type": "contour",
         "xaxis": "x63",
         "yaxis": "y63"
        },
        {
         "marker": {
          "color": "black",
          "line": {
           "color": "Gray",
           "width": 2.0
          }
         },
         "mode": "markers",
         "name": "Feasible Trial",
         "showlegend": false,
         "x": [
          500,
          500
         ],
         "y": [
          64,
          320
         ],
         "type": "scatter",
         "xaxis": "x63",
         "yaxis": "y63"
        },
        {
         "colorbar": {
          "title": {
           "text": "Objective Value"
          }
         },
         "colorscale": [
          [
           0.0,
           "rgb(247,251,255)"
          ],
          [
           0.125,
           "rgb(222,235,247)"
          ],
          [
           0.25,
           "rgb(198,219,239)"
          ],
          [
           0.375,
           "rgb(158,202,225)"
          ],
          [
           0.5,
           "rgb(107,174,214)"
          ],
          [
           0.625,
           "rgb(66,146,198)"
          ],
          [
           0.75,
           "rgb(33,113,181)"
          ],
          [
           0.875,
           "rgb(8,81,156)"
          ],
          [
           1.0,
           "rgb(8,48,107)"
          ]
         ],
         "connectgaps": true,
         "contours": {
          "coloring": "heatmap"
         },
         "hoverinfo": "none",
         "line": {
          "smoothing": 1.3
         },
         "reversescale": true,
         "showscale": false,
         "x": [
          490.0,
          500,
          700,
          710.0
         ],
         "y": [
          1.6269582925192225,
          1.981947943193925,
          6.140950886568256,
          8.373006336943329,
          9.081740956687977,
          9.43673060736268
         ],
         "z": {
          "dtype": "f8",
          "bdata": "AAAAAAAA+H8AAAAAAAD4fwAAAAAAAPh/AAAAAAAA+H8AAAAAAAD4fwAAAAAAAPh/T1YozgcwhD8AAAAAAAD4fwAAAAAAAPh/AAAAAAAA+H88Z0x4On6DPwAAAAAAAPh/AAAAAAAA+H9L2qfDIXuDPwAAAAAAAPh/AAAAAAAA+H8AAAAAAAD4f6s3wDvTOoM/AAAAAAAA+H8AAAAAAAD4fwAAAAAAAPh/AAAAAAAA+H8AAAAAAAD4fwAAAAAAAPh/",
          "shape": "6, 4"
         },
         "type": "contour",
         "xaxis": "x74",
         "yaxis": "y74"
        },
        {
         "marker": {
          "color": "black",
          "line": {
           "color": "Gray",
           "width": 2.0
          }
         },
         "mode": "markers",
         "name": "Feasible Trial",
         "showlegend": false,
         "x": [
          700,
          500,
          500,
          700
         ],
         "y": [
          1.981947943193925,
          8.373006336943329,
          9.081740956687977,
          6.140950886568256
         ],
         "type": "scatter",
         "xaxis": "x74",
         "yaxis": "y74"
        },
        {
         "type": "scatter",
         "xaxis": "x85",
         "yaxis": "y85"
        },
        {
         "colorbar": {
          "title": {
           "text": "Objective Value"
          }
         },
         "colorscale": [
          [
           0.0,
           "rgb(247,251,255)"
          ],
          [
           0.125,
           "rgb(222,235,247)"
          ],
          [
           0.25,
           "rgb(198,219,239)"
          ],
          [
           0.375,
           "rgb(158,202,225)"
          ],
          [
           0.5,
           "rgb(107,174,214)"
          ],
          [
           0.625,
           "rgb(66,146,198)"
          ],
          [
           0.75,
           "rgb(33,113,181)"
          ],
          [
           0.875,
           "rgb(8,81,156)"
          ],
          [
           1.0,
           "rgb(8,48,107)"
          ]
         ],
         "connectgaps": true,
         "contours": {
          "coloring": "heatmap"
         },
         "hoverinfo": "none",
         "line": {
          "smoothing": 1.3
         },
         "reversescale": true,
         "showscale": false,
         "x": [
          490.0,
          500,
          700,
          710.0
         ],
         "y": [
          0.036460834526854294,
          0.05808361216819946,
          0.22122711070370474,
          0.3567533266935893,
          0.49053916499510275,
          0.5121619426364479
         ],
         "z": {
          "dtype": "f8",
          "bdata": "AAAAAAAA+H8AAAAAAAD4fwAAAAAAAPh/AAAAAAAA+H8AAAAAAAD4fwAAAAAAAPh/T1YozgcwhD8AAAAAAAD4fwAAAAAAAPh/qzfAO9M6gz8AAAAAAAD4fwAAAAAAAPh/AAAAAAAA+H9L2qfDIXuDPwAAAAAAAPh/AAAAAAAA+H8AAAAAAAD4fwAAAAAAAPh/PGdMeDp+gz8AAAAAAAD4fwAAAAAAAPh/AAAAAAAA+H8AAAAAAAD4fwAAAAAAAPh/",
          "shape": "6, 4"
         },
         "type": "contour",
         "xaxis": "x96",
         "yaxis": "y96"
        },
        {
         "marker": {
          "color": "black",
          "line": {
           "color": "Gray",
           "width": 2.0
          }
         },
         "mode": "markers",
         "name": "Feasible Trial",
         "showlegend": false,
         "x": [
          700,
          500,
          500,
          700
         ],
         "y": [
          0.05808361216819946,
          0.3567533266935893,
          0.22122711070370474,
          0.49053916499510275
         ],
         "type": "scatter",
         "xaxis": "x96",
         "yaxis": "y96"
        },
        {
         "colorbar": {
          "title": {
           "text": "Objective Value"
          }
         },
         "colorscale": [
          [
           0.0,
           "rgb(247,251,255)"
          ],
          [
           0.125,
           "rgb(222,235,247)"
          ],
          [
           0.25,
           "rgb(198,219,239)"
          ],
          [
           0.375,
           "rgb(158,202,225)"
          ],
          [
           0.5,
           "rgb(107,174,214)"
          ],
          [
           0.625,
           "rgb(66,146,198)"
          ],
          [
           0.75,
           "rgb(33,113,181)"
          ],
          [
           0.875,
           "rgb(8,81,156)"
          ],
          [
           1.0,
           "rgb(8,48,107)"
          ]
         ],
         "connectgaps": true,
         "contours": {
          "coloring": "heatmap"
         },
         "hoverinfo": "none",
         "line": {
          "smoothing": 1.3
         },
         "reversescale": true,
         "showscale": false,
         "x": [
          490.0,
          500,
          700,
          710.0
         ],
         "y": [
          1.333194896626715,
          1.4765790974681658,
          3.6585778090214838,
          3.7995864955735317,
          4.344263114297182,
          4.487647315138633
         ],
         "z": {
          "dtype": "f8",
          "bdata": "AAAAAAAA+H8AAAAAAAD4fwAAAAAAAPh/AAAAAAAA+H8AAAAAAAD4f0vap8Mhe4M/AAAAAAAA+H8AAAAAAAD4fwAAAAAAAPh/qzfAO9M6gz8AAAAAAAD4fwAAAAAAAPh/AAAAAAAA+H8AAAAAAAD4fzxnTHg6foM/AAAAAAAA+H8AAAAAAAD4fwAAAAAAAPh/T1YozgcwhD8AAAAAAAD4fwAAAAAAAPh/AAAAAAAA+H8AAAAAAAD4fwAAAAAAAPh/",
          "shape": "6, 4"
         },
         "type": "contour",
         "xaxis": "x107",
         "yaxis": "y107"
        },
        {
         "marker": {
          "color": "black",
          "line": {
           "color": "Gray",
           "width": 2.0
          }
         },
         "mode": "markers",
         "name": "Feasible Trial",
         "showlegend": false,
         "x": [
          700,
          500,
          500,
          700
         ],
         "y": [
          4.344263114297182,
          1.4765790974681658,
          3.6585778090214838,
          3.7995864955735317
         ],
         "type": "scatter",
         "xaxis": "x107",
         "yaxis": "y107"
        },
        {
         "colorbar": {
          "title": {
           "text": "Objective Value"
          }
         },
         "colorscale": [
          [
           0.0,
           "rgb(247,251,255)"
          ],
          [
           0.125,
           "rgb(222,235,247)"
          ],
          [
           0.25,
           "rgb(198,219,239)"
          ],
          [
           0.375,
           "rgb(158,202,225)"
          ],
          [
           0.5,
           "rgb(107,174,214)"
          ],
          [
           0.625,
           "rgb(66,146,198)"
          ],
          [
           0.75,
           "rgb(33,113,181)"
          ],
          [
           0.875,
           "rgb(8,81,156)"
          ],
          [
           1.0,
           "rgb(8,48,107)"
          ]
         ],
         "connectgaps": true,
         "contours": {
          "coloring": "heatmap"
         },
         "hoverinfo": "none",
         "line": {
          "smoothing": 1.3
         },
         "reversescale": true,
         "showscale": false,
         "x": [
          490.0,
          500,
          700,
          710.0
         ],
         "y": [
          0.8090585347349498,
          0.8166031869068446,
          0.8795975452591109,
          0.9158558903524459,
          0.967496230344742,
          0.9750408825166368
         ],
         "z": {
          "dtype": "f8",
          "bdata": "AAAAAAAA+H8AAAAAAAD4fwAAAAAAAPh/AAAAAAAA+H8AAAAAAAD4f0vap8Mhe4M/AAAAAAAA+H8AAAAAAAD4fwAAAAAAAPh/AAAAAAAA+H9PVijOBzCEPwAAAAAAAPh/AAAAAAAA+H8AAAAAAAD4fzxnTHg6foM/AAAAAAAA+H8AAAAAAAD4f6s3wDvTOoM/AAAAAAAA+H8AAAAAAAD4fwAAAAAAAPh/AAAAAAAA+H8AAAAAAAD4fwAAAAAAAPh/",
          "shape": "6, 4"
         },
         "type": "contour",
         "xaxis": "x118",
         "yaxis": "y118"
        },
        {
         "marker": {
          "color": "black",
          "line": {
           "color": "Gray",
           "width": 2.0
          }
         },
         "mode": "markers",
         "name": "Feasible Trial",
         "showlegend": false,
         "x": [
          700,
          500,
          500,
          700
         ],
         "y": [
          0.8795975452591109,
          0.8166031869068446,
          0.967496230344742,
          0.9158558903524459
         ],
         "type": "scatter",
         "xaxis": "x118",
         "yaxis": "y118"
        },
        {
         "colorbar": {
          "title": {
           "text": "Objective Value"
          }
         },
         "colorscale": [
          [
           0.0,
           "rgb(247,251,255)"
          ],
          [
           0.125,
           "rgb(222,235,247)"
          ],
          [
           0.25,
           "rgb(198,219,239)"
          ],
          [
           0.375,
           "rgb(158,202,225)"
          ],
          [
           0.5,
           "rgb(107,174,214)"
          ],
          [
           0.625,
           "rgb(66,146,198)"
          ],
          [
           0.75,
           "rgb(33,113,181)"
          ],
          [
           0.875,
           "rgb(8,81,156)"
          ],
          [
           1.0,
           "rgb(8,48,107)"
          ]
         ],
         "connectgaps": true,
         "contours": {
          "coloring": "heatmap"
         },
         "hoverinfo": "none",
         "line": {
          "smoothing": 1.3
         },
         "reversescale": true,
         "showscale": false,
         "x": [
          0.036460834526854294,
          0.05808361216819946,
          0.22122711070370474,
          0.3567533266935893,
          0.49053916499510275,
          0.5121619426364479
         ],
         "y": [
          0.7441305089421173,
          0.7468055921327309,
          0.7668022557458023,
          0.7814047095321688,
          0.8003072559450032,
          0.8029823391356168
         ],
         "z": {
          "dtype": "f8",
          "bdata": "AAAAAAAA+H8AAAAAAAD4fwAAAAAAAPh/AAAAAAAA+H8AAAAAAAD4fwAAAAAAAPh/AAAAAAAA+H9PVijOBzCEPwAAAAAAAPh/AAAAAAAA+H8AAAAAAAD4fwAAAAAAAPh/AAAAAAAA+H8AAAAAAAD4fwAAAAAAAPh/AAAAAAAA+H88Z0x4On6DPwAAAAAAAPh/AAAAAAAA+H8AAAAAAAD4fwAAAAAAAPh/S9qnwyF7gz8AAAAAAAD4fwAAAAAAAPh/AAAAAAAA+H8AAAAAAAD4f6s3wDvTOoM/AAAAAAAA+H8AAAAAAAD4fwAAAAAAAPh/AAAAAAAA+H8AAAAAAAD4fwAAAAAAAPh/AAAAAAAA+H8AAAAAAAD4fwAAAAAAAPh/",
          "shape": "6, 6"
         },
         "type": "contour",
         "xaxis": "x9",
         "yaxis": "y9"
        },
        {
         "marker": {
          "color": "black",
          "line": {
           "color": "Gray",
           "width": 2.0
          }
         },
         "mode": "markers",
         "name": "Feasible Trial",
         "showlegend": false,
         "x": [
          0.05808361216819946,
          0.3567533266935893,
          0.22122711070370474,
          0.49053916499510275
         ],
         "y": [
          0.7468055921327309,
          0.7814047095321688,
          0.8003072559450032,
          0.7668022557458023
         ],
         "type": "scatter",
         "xaxis": "x9",
         "yaxis": "y9"
        },
        {
         "colorbar": {
          "title": {
           "text": "Objective Value"
          }
         },
         "colorscale": [
          [
           0.0,
           "rgb(247,251,255)"
          ],
          [
           0.125,
           "rgb(222,235,247)"
          ],
          [
           0.25,
           "rgb(198,219,239)"
          ],
          [
           0.375,
           "rgb(158,202,225)"
          ],
          [
           0.5,
           "rgb(107,174,214)"
          ],
          [
           0.625,
           "rgb(66,146,198)"
          ],
          [
           0.75,
           "rgb(33,113,181)"
          ],
          [
           0.875,
           "rgb(8,81,156)"
          ],
          [
           1.0,
           "rgb(8,48,107)"
          ]
         ],
         "connectgaps": true,
         "contours": {
          "coloring": "heatmap"
         },
         "hoverinfo": "none",
         "line": {
          "smoothing": 1.3
         },
         "reversescale": true,
         "showscale": false,
         "x": [
          0.036460834526854294,
          0.05808361216819946,
          0.22122711070370474,
          0.3567533266935893,
          0.49053916499510275,
          0.5121619426364479
         ],
         "y": [
          "depthwise",
          "lossguide"
         ],
         "z": {
          "dtype": "f8",
          "bdata": "AAAAAAAA+H9PVijOBzCEPwAAAAAAAPh/AAAAAAAA+H88Z0x4On6DPwAAAAAAAPh/AAAAAAAA+H8AAAAAAAD4f6s3wDvTOoM/S9qnwyF7gz8AAAAAAAD4fwAAAAAAAPh/",
          "shape": "2, 6"
         },
         "type": "contour",
         "xaxis": "x20",
         "yaxis": "y20"
        },
        {
         "marker": {
          "color": "black",
          "line": {
           "color": "Gray",
           "width": 2.0
          }
         },
         "mode": "markers",
         "name": "Feasible Trial",
         "showlegend": false,
         "x": [
          0.05808361216819946,
          0.3567533266935893,
          0.22122711070370474,
          0.49053916499510275
         ],
         "y": [
          "depthwise",
          "lossguide",
          "lossguide",
          "depthwise"
         ],
         "type": "scatter",
         "xaxis": "x20",
         "yaxis": "y20"
        },
        {
         "colorbar": {
          "title": {
           "text": "Objective Value"
          }
         },
         "colorscale": [
          [
           0.0,
           "rgb(247,251,255)"
          ],
          [
           0.125,
           "rgb(222,235,247)"
          ],
          [
           0.25,
           "rgb(198,219,239)"
          ],
          [
           0.375,
           "rgb(158,202,225)"
          ],
          [
           0.5,
           "rgb(107,174,214)"
          ],
          [
           0.625,
           "rgb(66,146,198)"
          ],
          [
           0.75,
           "rgb(33,113,181)"
          ],
          [
           0.875,
           "rgb(8,81,156)"
          ],
          [
           1.0,
           "rgb(8,48,107)"
          ]
         ],
         "connectgaps": true,
         "contours": {
          "coloring": "heatmap"
         },
         "hoverinfo": "none",
         "line": {
          "smoothing": 1.3
         },
         "reversescale": true,
         "showscale": false,
         "x": [
          0.036460834526854294,
          0.05808361216819946,
          0.22122711070370474,
          0.3567533266935893,
          0.49053916499510275,
          0.5121619426364479
         ],
         "y": [
          0.009191417528721072,
          0.010242318938703103,
          0.011097554561103107,
          0.01314981250761057,
          0.08927180304353628,
          0.09947870131542277
         ],
         "z": {
          "dtype": "f8",
          "bdata": "AAAAAAAA+H8AAAAAAAD4fwAAAAAAAPh/AAAAAAAA+H8AAAAAAAD4fwAAAAAAAPh/AAAAAAAA+H8AAAAAAAD4f6s3wDvTOoM/AAAAAAAA+H8AAAAAAAD4fwAAAAAAAPh/AAAAAAAA+H8AAAAAAAD4fwAAAAAAAPh/S9qnwyF7gz8AAAAAAAD4fwAAAAAAAPh/AAAAAAAA+H8AAAAAAAD4fwAAAAAAAPh/AAAAAAAA+H88Z0x4On6DPwAAAAAAAPh/AAAAAAAA+H9PVijOBzCEPwAAAAAAAPh/AAAAAAAA+H8AAAAAAAD4fwAAAAAAAPh/AAAAAAAA+H8AAAAAAAD4fwAAAAAAAPh/AAAAAAAA+H8AAAAAAAD4fwAAAAAAAPh/",
          "shape": "6, 6"
         },
         "type": "contour",
         "xaxis": "x31",
         "yaxis": "y31"
        },
        {
         "marker": {
          "color": "black",
          "line": {
           "color": "Gray",
           "width": 2.0
          }
         },
         "mode": "markers",
         "name": "Feasible Trial",
         "showlegend": false,
         "x": [
          0.05808361216819946,
          0.3567533266935893,
          0.22122711070370474,
          0.49053916499510275
         ],
         "y": [
          0.08927180304353628,
          0.011097554561103107,
          0.010242318938703103,
          0.01314981250761057
         ],
         "type": "scatter",
         "xaxis": "x31",
         "yaxis": "y31"
        },
        {
         "colorbar": {
          "title": {
           "text": "Objective Value"
          }
         },
         "colorscale": [
          [
           0.0,
           "rgb(247,251,255)"
          ],
          [
           0.125,
           "rgb(222,235,247)"
          ],
          [
           0.25,
           "rgb(198,219,239)"
          ],
          [
           0.375,
           "rgb(158,202,225)"
          ],
          [
           0.5,
           "rgb(107,174,214)"
          ],
          [
           0.625,
           "rgb(66,146,198)"
          ],
          [
           0.75,
           "rgb(33,113,181)"
          ],
          [
           0.875,
           "rgb(8,81,156)"
          ],
          [
           1.0,
           "rgb(8,48,107)"
          ]
         ],
         "connectgaps": true,
         "contours": {
          "coloring": "heatmap"
         },
         "hoverinfo": "none",
         "line": {
          "smoothing": 1.3
         },
         "reversescale": true,
         "showscale": false,
         "x": [
          0.036460834526854294,
          0.05808361216819946,
          0.22122711070370474,
          0.3567533266935893,
          0.49053916499510275,
          0.5121619426364479
         ],
         "y": [
          313.6,
          320,
          384,
          448,
          454.4
         ],
         "z": {
          "dtype": "f8",
          "bdata": "AAAAAAAA+H8AAAAAAAD4fwAAAAAAAPh/AAAAAAAA+H8AAAAAAAD4fwAAAAAAAPh/AAAAAAAA+H8AAAAAAAD4fwAAAAAAAPh/S9qnwyF7gz8AAAAAAAD4fwAAAAAAAPh/AAAAAAAA+H9PVijOBzCEP6s3wDvTOoM/AAAAAAAA+H8AAAAAAAD4fwAAAAAAAPh/AAAAAAAA+H8AAAAAAAD4fwAAAAAAAPh/AAAAAAAA+H88Z0x4On6DPwAAAAAAAPh/AAAAAAAA+H8AAAAAAAD4fwAAAAAAAPh/AAAAAAAA+H8AAAAAAAD4fwAAAAAAAPh/",
          "shape": "5, 6"
         },
         "type": "contour",
         "xaxis": "x42",
         "yaxis": "y42"
        },
        {
         "marker": {
          "color": "black",
          "line": {
           "color": "Gray",
           "width": 2.0
          }
         },
         "mode": "markers",
         "name": "Feasible Trial",
         "showlegend": false,
         "x": [
          0.05808361216819946,
          0.3567533266935893,
          0.22122711070370474,
          0.49053916499510275
         ],
         "y": [
          384,
          320,
          384,
          448
         ],
         "type": "scatter",
         "xaxis": "x42",
         "yaxis": "y42"
        },
        {
         "colorbar": {
          "title": {
           "text": "Objective Value"
          }
         },
         "colorscale": [
          [
           0.0,
           "rgb(247,251,255)"
          ],
          [
           0.125,
           "rgb(222,235,247)"
          ],
          [
           0.25,
           "rgb(198,219,239)"
          ],
          [
           0.375,
           "rgb(158,202,225)"
          ],
          [
           0.5,
           "rgb(107,174,214)"
          ],
          [
           0.625,
           "rgb(66,146,198)"
          ],
          [
           0.75,
           "rgb(33,113,181)"
          ],
          [
           0.875,
           "rgb(8,81,156)"
          ],
          [
           1.0,
           "rgb(8,48,107)"
          ]
         ],
         "connectgaps": true,
         "contours": {
          "coloring": "heatmap"
         },
         "hoverinfo": "none",
         "line": {
          "smoothing": 1.3
         },
         "reversescale": true,
         "showscale": false,
         "x": [
          0.036460834526854294,
          0.05808361216819946,
          0.22122711070370474,
          0.3567533266935893,
          0.49053916499510275,
          0.5121619426364479
         ],
         "y": [
          2.75,
          3,
          5,
          8,
          8.25
         ],
         "z": {
          "dtype": "f8",
          "bdata": "AAAAAAAA+H8AAAAAAAD4fwAAAAAAAPh/AAAAAAAA+H8AAAAAAAD4fwAAAAAAAPh/AAAAAAAA+H8AAAAAAAD4f6s3wDvTOoM/AAAAAAAA+H88Z0x4On6DPwAAAAAAAPh/AAAAAAAA+H8AAAAAAAD4fwAAAAAAAPh/S9qnwyF7gz8AAAAAAAD4fwAAAAAAAPh/AAAAAAAA+H9PVijOBzCEPwAAAAAAAPh/AAAAAAAA+H8AAAAAAAD4fwAAAAAAAPh/AAAAAAAA+H8AAAAAAAD4fwAAAAAAAPh/AAAAAAAA+H8AAAAAAAD4fwAAAAAAAPh/",
          "shape": "5, 6"
         },
         "type": "contour",
         "xaxis": "x53",
         "yaxis": "y53"
        },
        {
         "marker": {
          "color": "black",
          "line": {
           "color": "Gray",
           "width": 2.0
          }
         },
         "mode": "markers",
         "name": "Feasible Trial",
         "showlegend": false,
         "x": [
          0.05808361216819946,
          0.3567533266935893,
          0.22122711070370474,
          0.49053916499510275
         ],
         "y": [
          8,
          5,
          3,
          3
         ],
         "type": "scatter",
         "xaxis": "x53",
         "yaxis": "y53"
        },
        {
         "colorbar": {
          "title": {
           "text": "Objective Value"
          }
         },
         "colorscale": [
          [
           0.0,
           "rgb(247,251,255)"
          ],
          [
           0.125,
           "rgb(222,235,247)"
          ],
          [
           0.25,
           "rgb(198,219,239)"
          ],
          [
           0.375,
           "rgb(158,202,225)"
          ],
          [
           0.5,
           "rgb(107,174,214)"
          ],
          [
           0.625,
           "rgb(66,146,198)"
          ],
          [
           0.75,
           "rgb(33,113,181)"
          ],
          [
           0.875,
           "rgb(8,81,156)"
          ],
          [
           1.0,
           "rgb(8,48,107)"
          ]
         ],
         "connectgaps": true,
         "contours": {
          "coloring": "heatmap"
         },
         "hoverinfo": "none",
         "line": {
          "smoothing": 1.3
         },
         "reversescale": true,
         "showscale": false,
         "x": [
          0.036460834526854294,
          0.05808361216819946,
          0.22122711070370474,
          0.3567533266935893,
          0.49053916499510275,
          0.5121619426364479
         ],
         "y": [
          51.2,
          64,
          320,
          332.8
         ],
         "z": {
          "dtype": "f8",
          "bdata": "AAAAAAAA+H8AAAAAAAD4fwAAAAAAAPh/AAAAAAAA+H8AAAAAAAD4fwAAAAAAAPh/AAAAAAAA+H8AAAAAAAD4fwAAAAAAAPh/S9qnwyF7gz8AAAAAAAD4fwAAAAAAAPh/AAAAAAAA+H8AAAAAAAD4f6s3wDvTOoM/AAAAAAAA+H8AAAAAAAD4fwAAAAAAAPh/AAAAAAAA+H8AAAAAAAD4fwAAAAAAAPh/AAAAAAAA+H8AAAAAAAD4fwAAAAAAAPh/",
          "shape": "4, 6"
         },
         "type": "contour",
         "xaxis": "x64",
         "yaxis": "y64"
        },
        {
         "marker": {
          "color": "black",
          "line": {
           "color": "Gray",
           "width": 2.0
          }
         },
         "mode": "markers",
         "name": "Feasible Trial",
         "showlegend": false,
         "x": [
          0.3567533266935893,
          0.22122711070370474
         ],
         "y": [
          64,
          320
         ],
         "type": "scatter",
         "xaxis": "x64",
         "yaxis": "y64"
        },
        {
         "colorbar": {
          "title": {
           "text": "Objective Value"
          }
         },
         "colorscale": [
          [
           0.0,
           "rgb(247,251,255)"
          ],
          [
           0.125,
           "rgb(222,235,247)"
          ],
          [
           0.25,
           "rgb(198,219,239)"
          ],
          [
           0.375,
           "rgb(158,202,225)"
          ],
          [
           0.5,
           "rgb(107,174,214)"
          ],
          [
           0.625,
           "rgb(66,146,198)"
          ],
          [
           0.75,
           "rgb(33,113,181)"
          ],
          [
           0.875,
           "rgb(8,81,156)"
          ],
          [
           1.0,
           "rgb(8,48,107)"
          ]
         ],
         "connectgaps": true,
         "contours": {
          "coloring": "heatmap"
         },
         "hoverinfo": "none",
         "line": {
          "smoothing": 1.3
         },
         "reversescale": true,
         "showscale": false,
         "x": [
          0.036460834526854294,
          0.05808361216819946,
          0.22122711070370474,
          0.3567533266935893,
          0.49053916499510275,
          0.5121619426364479
         ],
         "y": [
          1.6269582925192225,
          1.981947943193925,
          6.140950886568256,
          8.373006336943329,
          9.081740956687977,
          9.43673060736268
         ],
         "z": {
          "dtype": "f8",
          "bdata": "AAAAAAAA+H8AAAAAAAD4fwAAAAAAAPh/AAAAAAAA+H8AAAAAAAD4fwAAAAAAAPh/AAAAAAAA+H9PVijOBzCEPwAAAAAAAPh/AAAAAAAA+H8AAAAAAAD4fwAAAAAAAPh/AAAAAAAA+H8AAAAAAAD4fwAAAAAAAPh/AAAAAAAA+H88Z0x4On6DPwAAAAAAAPh/AAAAAAAA+H8AAAAAAAD4fwAAAAAAAPh/S9qnwyF7gz8AAAAAAAD4fwAAAAAAAPh/AAAAAAAA+H8AAAAAAAD4f6s3wDvTOoM/AAAAAAAA+H8AAAAAAAD4fwAAAAAAAPh/AAAAAAAA+H8AAAAAAAD4fwAAAAAAAPh/AAAAAAAA+H8AAAAAAAD4fwAAAAAAAPh/",
          "shape": "6, 6"
         },
         "type": "contour",
         "xaxis": "x75",
         "yaxis": "y75"
        },
        {
         "marker": {
          "color": "black",
          "line": {
           "color": "Gray",
           "width": 2.0
          }
         },
         "mode": "markers",
         "name": "Feasible Trial",
         "showlegend": false,
         "x": [
          0.05808361216819946,
          0.3567533266935893,
          0.22122711070370474,
          0.49053916499510275
         ],
         "y": [
          1.981947943193925,
          8.373006336943329,
          9.081740956687977,
          6.140950886568256
         ],
         "type": "scatter",
         "xaxis": "x75",
         "yaxis": "y75"
        },
        {
         "colorbar": {
          "title": {
           "text": "Objective Value"
          }
         },
         "colorscale": [
          [
           0.0,
           "rgb(247,251,255)"
          ],
          [
           0.125,
           "rgb(222,235,247)"
          ],
          [
           0.25,
           "rgb(198,219,239)"
          ],
          [
           0.375,
           "rgb(158,202,225)"
          ],
          [
           0.5,
           "rgb(107,174,214)"
          ],
          [
           0.625,
           "rgb(66,146,198)"
          ],
          [
           0.75,
           "rgb(33,113,181)"
          ],
          [
           0.875,
           "rgb(8,81,156)"
          ],
          [
           1.0,
           "rgb(8,48,107)"
          ]
         ],
         "connectgaps": true,
         "contours": {
          "coloring": "heatmap"
         },
         "hoverinfo": "none",
         "line": {
          "smoothing": 1.3
         },
         "reversescale": true,
         "showscale": false,
         "x": [
          0.036460834526854294,
          0.05808361216819946,
          0.22122711070370474,
          0.3567533266935893,
          0.49053916499510275,
          0.5121619426364479
         ],
         "y": [
          490.0,
          500,
          700,
          710.0
         ],
         "z": {
          "dtype": "f8",
          "bdata": "AAAAAAAA+H8AAAAAAAD4fwAAAAAAAPh/AAAAAAAA+H8AAAAAAAD4fwAAAAAAAPh/AAAAAAAA+H8AAAAAAAD4f6s3wDvTOoM/S9qnwyF7gz8AAAAAAAD4fwAAAAAAAPh/AAAAAAAA+H9PVijOBzCEPwAAAAAAAPh/AAAAAAAA+H88Z0x4On6DPwAAAAAAAPh/AAAAAAAA+H8AAAAAAAD4fwAAAAAAAPh/AAAAAAAA+H8AAAAAAAD4fwAAAAAAAPh/",
          "shape": "4, 6"
         },
         "type": "contour",
         "xaxis": "x86",
         "yaxis": "y86"
        },
        {
         "marker": {
          "color": "black",
          "line": {
           "color": "Gray",
           "width": 2.0
          }
         },
         "mode": "markers",
         "name": "Feasible Trial",
         "showlegend": false,
         "x": [
          0.05808361216819946,
          0.3567533266935893,
          0.22122711070370474,
          0.49053916499510275
         ],
         "y": [
          700,
          500,
          500,
          700
         ],
         "type": "scatter",
         "xaxis": "x86",
         "yaxis": "y86"
        },
        {
         "type": "scatter",
         "xaxis": "x97",
         "yaxis": "y97"
        },
        {
         "colorbar": {
          "title": {
           "text": "Objective Value"
          }
         },
         "colorscale": [
          [
           0.0,
           "rgb(247,251,255)"
          ],
          [
           0.125,
           "rgb(222,235,247)"
          ],
          [
           0.25,
           "rgb(198,219,239)"
          ],
          [
           0.375,
           "rgb(158,202,225)"
          ],
          [
           0.5,
           "rgb(107,174,214)"
          ],
          [
           0.625,
           "rgb(66,146,198)"
          ],
          [
           0.75,
           "rgb(33,113,181)"
          ],
          [
           0.875,
           "rgb(8,81,156)"
          ],
          [
           1.0,
           "rgb(8,48,107)"
          ]
         ],
         "connectgaps": true,
         "contours": {
          "coloring": "heatmap"
         },
         "hoverinfo": "none",
         "line": {
          "smoothing": 1.3
         },
         "reversescale": true,
         "showscale": false,
         "x": [
          0.036460834526854294,
          0.05808361216819946,
          0.22122711070370474,
          0.3567533266935893,
          0.49053916499510275,
          0.5121619426364479
         ],
         "y": [
          1.333194896626715,
          1.4765790974681658,
          3.6585778090214838,
          3.7995864955735317,
          4.344263114297182,
          4.487647315138633
         ],
         "z": {
          "dtype": "f8",
          "bdata": "AAAAAAAA+H8AAAAAAAD4fwAAAAAAAPh/AAAAAAAA+H8AAAAAAAD4fwAAAAAAAPh/AAAAAAAA+H8AAAAAAAD4fwAAAAAAAPh/S9qnwyF7gz8AAAAAAAD4fwAAAAAAAPh/AAAAAAAA+H8AAAAAAAD4f6s3wDvTOoM/AAAAAAAA+H8AAAAAAAD4fwAAAAAAAPh/AAAAAAAA+H8AAAAAAAD4fwAAAAAAAPh/AAAAAAAA+H88Z0x4On6DPwAAAAAAAPh/AAAAAAAA+H9PVijOBzCEPwAAAAAAAPh/AAAAAAAA+H8AAAAAAAD4fwAAAAAAAPh/AAAAAAAA+H8AAAAAAAD4fwAAAAAAAPh/AAAAAAAA+H8AAAAAAAD4fwAAAAAAAPh/",
          "shape": "6, 6"
         },
         "type": "contour",
         "xaxis": "x108",
         "yaxis": "y108"
        },
        {
         "marker": {
          "color": "black",
          "line": {
           "color": "Gray",
           "width": 2.0
          }
         },
         "mode": "markers",
         "name": "Feasible Trial",
         "showlegend": false,
         "x": [
          0.05808361216819946,
          0.3567533266935893,
          0.22122711070370474,
          0.49053916499510275
         ],
         "y": [
          4.344263114297182,
          1.4765790974681658,
          3.6585778090214838,
          3.7995864955735317
         ],
         "type": "scatter",
         "xaxis": "x108",
         "yaxis": "y108"
        },
        {
         "colorbar": {
          "title": {
           "text": "Objective Value"
          }
         },
         "colorscale": [
          [
           0.0,
           "rgb(247,251,255)"
          ],
          [
           0.125,
           "rgb(222,235,247)"
          ],
          [
           0.25,
           "rgb(198,219,239)"
          ],
          [
           0.375,
           "rgb(158,202,225)"
          ],
          [
           0.5,
           "rgb(107,174,214)"
          ],
          [
           0.625,
           "rgb(66,146,198)"
          ],
          [
           0.75,
           "rgb(33,113,181)"
          ],
          [
           0.875,
           "rgb(8,81,156)"
          ],
          [
           1.0,
           "rgb(8,48,107)"
          ]
         ],
         "connectgaps": true,
         "contours": {
          "coloring": "heatmap"
         },
         "hoverinfo": "none",
         "line": {
          "smoothing": 1.3
         },
         "reversescale": true,
         "showscale": false,
         "x": [
          0.036460834526854294,
          0.05808361216819946,
          0.22122711070370474,
          0.3567533266935893,
          0.49053916499510275,
          0.5121619426364479
         ],
         "y": [
          0.8090585347349498,
          0.8166031869068446,
          0.8795975452591109,
          0.9158558903524459,
          0.967496230344742,
          0.9750408825166368
         ],
         "z": {
          "dtype": "f8",
          "bdata": "AAAAAAAA+H8AAAAAAAD4fwAAAAAAAPh/AAAAAAAA+H8AAAAAAAD4fwAAAAAAAPh/AAAAAAAA+H8AAAAAAAD4fwAAAAAAAPh/S9qnwyF7gz8AAAAAAAD4fwAAAAAAAPh/AAAAAAAA+H9PVijOBzCEPwAAAAAAAPh/AAAAAAAA+H8AAAAAAAD4fwAAAAAAAPh/AAAAAAAA+H8AAAAAAAD4fwAAAAAAAPh/AAAAAAAA+H88Z0x4On6DPwAAAAAAAPh/AAAAAAAA+H8AAAAAAAD4f6s3wDvTOoM/AAAAAAAA+H8AAAAAAAD4fwAAAAAAAPh/AAAAAAAA+H8AAAAAAAD4fwAAAAAAAPh/AAAAAAAA+H8AAAAAAAD4fwAAAAAAAPh/",
          "shape": "6, 6"
         },
         "type": "contour",
         "xaxis": "x119",
         "yaxis": "y119"
        },
        {
         "marker": {
          "color": "black",
          "line": {
           "color": "Gray",
           "width": 2.0
          }
         },
         "mode": "markers",
         "name": "Feasible Trial",
         "showlegend": false,
         "x": [
          0.05808361216819946,
          0.3567533266935893,
          0.22122711070370474,
          0.49053916499510275
         ],
         "y": [
          0.8795975452591109,
          0.8166031869068446,
          0.967496230344742,
          0.9158558903524459
         ],
         "type": "scatter",
         "xaxis": "x119",
         "yaxis": "y119"
        },
        {
         "colorbar": {
          "title": {
           "text": "Objective Value"
          }
         },
         "colorscale": [
          [
           0.0,
           "rgb(247,251,255)"
          ],
          [
           0.125,
           "rgb(222,235,247)"
          ],
          [
           0.25,
           "rgb(198,219,239)"
          ],
          [
           0.375,
           "rgb(158,202,225)"
          ],
          [
           0.5,
           "rgb(107,174,214)"
          ],
          [
           0.625,
           "rgb(66,146,198)"
          ],
          [
           0.75,
           "rgb(33,113,181)"
          ],
          [
           0.875,
           "rgb(8,81,156)"
          ],
          [
           1.0,
           "rgb(8,48,107)"
          ]
         ],
         "connectgaps": true,
         "contours": {
          "coloring": "heatmap"
         },
         "hoverinfo": "none",
         "line": {
          "smoothing": 1.3
         },
         "reversescale": true,
         "showscale": false,
         "x": [
          1.333194896626715,
          1.4765790974681658,
          3.6585778090214838,
          3.7995864955735317,
          4.344263114297182,
          4.487647315138633
         ],
         "y": [
          0.7441305089421173,
          0.7468055921327309,
          0.7668022557458023,
          0.7814047095321688,
          0.8003072559450032,
          0.8029823391356168
         ],
         "z": {
          "dtype": "f8",
          "bdata": "AAAAAAAA+H8AAAAAAAD4fwAAAAAAAPh/AAAAAAAA+H8AAAAAAAD4fwAAAAAAAPh/AAAAAAAA+H8AAAAAAAD4fwAAAAAAAPh/AAAAAAAA+H9PVijOBzCEPwAAAAAAAPh/AAAAAAAA+H8AAAAAAAD4fwAAAAAAAPh/PGdMeDp+gz8AAAAAAAD4fwAAAAAAAPh/AAAAAAAA+H9L2qfDIXuDPwAAAAAAAPh/AAAAAAAA+H8AAAAAAAD4fwAAAAAAAPh/AAAAAAAA+H8AAAAAAAD4f6s3wDvTOoM/AAAAAAAA+H8AAAAAAAD4fwAAAAAAAPh/AAAAAAAA+H8AAAAAAAD4fwAAAAAAAPh/AAAAAAAA+H8AAAAAAAD4fwAAAAAAAPh/",
          "shape": "6, 6"
         },
         "type": "contour",
         "xaxis": "x10",
         "yaxis": "y10"
        },
        {
         "marker": {
          "color": "black",
          "line": {
           "color": "Gray",
           "width": 2.0
          }
         },
         "mode": "markers",
         "name": "Feasible Trial",
         "showlegend": false,
         "x": [
          4.344263114297182,
          1.4765790974681658,
          3.6585778090214838,
          3.7995864955735317
         ],
         "y": [
          0.7468055921327309,
          0.7814047095321688,
          0.8003072559450032,
          0.7668022557458023
         ],
         "type": "scatter",
         "xaxis": "x10",
         "yaxis": "y10"
        },
        {
         "colorbar": {
          "title": {
           "text": "Objective Value"
          }
         },
         "colorscale": [
          [
           0.0,
           "rgb(247,251,255)"
          ],
          [
           0.125,
           "rgb(222,235,247)"
          ],
          [
           0.25,
           "rgb(198,219,239)"
          ],
          [
           0.375,
           "rgb(158,202,225)"
          ],
          [
           0.5,
           "rgb(107,174,214)"
          ],
          [
           0.625,
           "rgb(66,146,198)"
          ],
          [
           0.75,
           "rgb(33,113,181)"
          ],
          [
           0.875,
           "rgb(8,81,156)"
          ],
          [
           1.0,
           "rgb(8,48,107)"
          ]
         ],
         "connectgaps": true,
         "contours": {
          "coloring": "heatmap"
         },
         "hoverinfo": "none",
         "line": {
          "smoothing": 1.3
         },
         "reversescale": true,
         "showscale": false,
         "x": [
          1.333194896626715,
          1.4765790974681658,
          3.6585778090214838,
          3.7995864955735317,
          4.344263114297182,
          4.487647315138633
         ],
         "y": [
          "depthwise",
          "lossguide"
         ],
         "z": {
          "dtype": "f8",
          "bdata": "AAAAAAAA+H8AAAAAAAD4fwAAAAAAAPh/PGdMeDp+gz9PVijOBzCEPwAAAAAAAPh/AAAAAAAA+H9L2qfDIXuDP6s3wDvTOoM/AAAAAAAA+H8AAAAAAAD4fwAAAAAAAPh/",
          "shape": "2, 6"
         },
         "type": "contour",
         "xaxis": "x21",
         "yaxis": "y21"
        },
        {
         "marker": {
          "color": "black",
          "line": {
           "color": "Gray",
           "width": 2.0
          }
         },
         "mode": "markers",
         "name": "Feasible Trial",
         "showlegend": false,
         "x": [
          4.344263114297182,
          1.4765790974681658,
          3.6585778090214838,
          3.7995864955735317
         ],
         "y": [
          "depthwise",
          "lossguide",
          "lossguide",
          "depthwise"
         ],
         "type": "scatter",
         "xaxis": "x21",
         "yaxis": "y21"
        },
        {
         "colorbar": {
          "title": {
           "text": "Objective Value"
          }
         },
         "colorscale": [
          [
           0.0,
           "rgb(247,251,255)"
          ],
          [
           0.125,
           "rgb(222,235,247)"
          ],
          [
           0.25,
           "rgb(198,219,239)"
          ],
          [
           0.375,
           "rgb(158,202,225)"
          ],
          [
           0.5,
           "rgb(107,174,214)"
          ],
          [
           0.625,
           "rgb(66,146,198)"
          ],
          [
           0.75,
           "rgb(33,113,181)"
          ],
          [
           0.875,
           "rgb(8,81,156)"
          ],
          [
           1.0,
           "rgb(8,48,107)"
          ]
         ],
         "connectgaps": true,
         "contours": {
          "coloring": "heatmap"
         },
         "hoverinfo": "none",
         "line": {
          "smoothing": 1.3
         },
         "reversescale": true,
         "showscale": false,
         "x": [
          1.333194896626715,
          1.4765790974681658,
          3.6585778090214838,
          3.7995864955735317,
          4.344263114297182,
          4.487647315138633
         ],
         "y": [
          0.009191417528721072,
          0.010242318938703103,
          0.011097554561103107,
          0.01314981250761057,
          0.08927180304353628,
          0.09947870131542277
         ],
         "z": {
          "dtype": "f8",
          "bdata": "AAAAAAAA+H8AAAAAAAD4fwAAAAAAAPh/AAAAAAAA+H8AAAAAAAD4fwAAAAAAAPh/AAAAAAAA+H8AAAAAAAD4f6s3wDvTOoM/AAAAAAAA+H8AAAAAAAD4fwAAAAAAAPh/AAAAAAAA+H9L2qfDIXuDPwAAAAAAAPh/AAAAAAAA+H8AAAAAAAD4fwAAAAAAAPh/AAAAAAAA+H8AAAAAAAD4fwAAAAAAAPh/PGdMeDp+gz8AAAAAAAD4fwAAAAAAAPh/AAAAAAAA+H8AAAAAAAD4fwAAAAAAAPh/AAAAAAAA+H9PVijOBzCEPwAAAAAAAPh/AAAAAAAA+H8AAAAAAAD4fwAAAAAAAPh/AAAAAAAA+H8AAAAAAAD4fwAAAAAAAPh/",
          "shape": "6, 6"
         },
         "type": "contour",
         "xaxis": "x32",
         "yaxis": "y32"
        },
        {
         "marker": {
          "color": "black",
          "line": {
           "color": "Gray",
           "width": 2.0
          }
         },
         "mode": "markers",
         "name": "Feasible Trial",
         "showlegend": false,
         "x": [
          4.344263114297182,
          1.4765790974681658,
          3.6585778090214838,
          3.7995864955735317
         ],
         "y": [
          0.08927180304353628,
          0.011097554561103107,
          0.010242318938703103,
          0.01314981250761057
         ],
         "type": "scatter",
         "xaxis": "x32",
         "yaxis": "y32"
        },
        {
         "colorbar": {
          "title": {
           "text": "Objective Value"
          }
         },
         "colorscale": [
          [
           0.0,
           "rgb(247,251,255)"
          ],
          [
           0.125,
           "rgb(222,235,247)"
          ],
          [
           0.25,
           "rgb(198,219,239)"
          ],
          [
           0.375,
           "rgb(158,202,225)"
          ],
          [
           0.5,
           "rgb(107,174,214)"
          ],
          [
           0.625,
           "rgb(66,146,198)"
          ],
          [
           0.75,
           "rgb(33,113,181)"
          ],
          [
           0.875,
           "rgb(8,81,156)"
          ],
          [
           1.0,
           "rgb(8,48,107)"
          ]
         ],
         "connectgaps": true,
         "contours": {
          "coloring": "heatmap"
         },
         "hoverinfo": "none",
         "line": {
          "smoothing": 1.3
         },
         "reversescale": true,
         "showscale": false,
         "x": [
          1.333194896626715,
          1.4765790974681658,
          3.6585778090214838,
          3.7995864955735317,
          4.344263114297182,
          4.487647315138633
         ],
         "y": [
          313.6,
          320,
          384,
          448,
          454.4
         ],
         "z": {
          "dtype": "f8",
          "bdata": "AAAAAAAA+H8AAAAAAAD4fwAAAAAAAPh/AAAAAAAA+H8AAAAAAAD4fwAAAAAAAPh/AAAAAAAA+H9L2qfDIXuDPwAAAAAAAPh/AAAAAAAA+H8AAAAAAAD4fwAAAAAAAPh/AAAAAAAA+H8AAAAAAAD4f6s3wDvTOoM/AAAAAAAA+H9PVijOBzCEPwAAAAAAAPh/AAAAAAAA+H8AAAAAAAD4fwAAAAAAAPh/PGdMeDp+gz8AAAAAAAD4fwAAAAAAAPh/AAAAAAAA+H8AAAAAAAD4fwAAAAAAAPh/AAAAAAAA+H8AAAAAAAD4fwAAAAAAAPh/",
          "shape": "5, 6"
         },
         "type": "contour",
         "xaxis": "x43",
         "yaxis": "y43"
        },
        {
         "marker": {
          "color": "black",
          "line": {
           "color": "Gray",
           "width": 2.0
          }
         },
         "mode": "markers",
         "name": "Feasible Trial",
         "showlegend": false,
         "x": [
          4.344263114297182,
          1.4765790974681658,
          3.6585778090214838,
          3.7995864955735317
         ],
         "y": [
          384,
          320,
          384,
          448
         ],
         "type": "scatter",
         "xaxis": "x43",
         "yaxis": "y43"
        },
        {
         "colorbar": {
          "title": {
           "text": "Objective Value"
          }
         },
         "colorscale": [
          [
           0.0,
           "rgb(247,251,255)"
          ],
          [
           0.125,
           "rgb(222,235,247)"
          ],
          [
           0.25,
           "rgb(198,219,239)"
          ],
          [
           0.375,
           "rgb(158,202,225)"
          ],
          [
           0.5,
           "rgb(107,174,214)"
          ],
          [
           0.625,
           "rgb(66,146,198)"
          ],
          [
           0.75,
           "rgb(33,113,181)"
          ],
          [
           0.875,
           "rgb(8,81,156)"
          ],
          [
           1.0,
           "rgb(8,48,107)"
          ]
         ],
         "connectgaps": true,
         "contours": {
          "coloring": "heatmap"
         },
         "hoverinfo": "none",
         "line": {
          "smoothing": 1.3
         },
         "reversescale": true,
         "showscale": false,
         "x": [
          1.333194896626715,
          1.4765790974681658,
          3.6585778090214838,
          3.7995864955735317,
          4.344263114297182,
          4.487647315138633
         ],
         "y": [
          2.75,
          3,
          5,
          8,
          8.25
         ],
         "z": {
          "dtype": "f8",
          "bdata": "AAAAAAAA+H8AAAAAAAD4fwAAAAAAAPh/AAAAAAAA+H8AAAAAAAD4fwAAAAAAAPh/AAAAAAAA+H8AAAAAAAD4f6s3wDvTOoM/PGdMeDp+gz8AAAAAAAD4fwAAAAAAAPh/AAAAAAAA+H9L2qfDIXuDPwAAAAAAAPh/AAAAAAAA+H8AAAAAAAD4fwAAAAAAAPh/AAAAAAAA+H8AAAAAAAD4fwAAAAAAAPh/AAAAAAAA+H9PVijOBzCEPwAAAAAAAPh/AAAAAAAA+H8AAAAAAAD4fwAAAAAAAPh/AAAAAAAA+H8AAAAAAAD4fwAAAAAAAPh/",
          "shape": "5, 6"
         },
         "type": "contour",
         "xaxis": "x54",
         "yaxis": "y54"
        },
        {
         "marker": {
          "color": "black",
          "line": {
           "color": "Gray",
           "width": 2.0
          }
         },
         "mode": "markers",
         "name": "Feasible Trial",
         "showlegend": false,
         "x": [
          4.344263114297182,
          1.4765790974681658,
          3.6585778090214838,
          3.7995864955735317
         ],
         "y": [
          8,
          5,
          3,
          3
         ],
         "type": "scatter",
         "xaxis": "x54",
         "yaxis": "y54"
        },
        {
         "colorbar": {
          "title": {
           "text": "Objective Value"
          }
         },
         "colorscale": [
          [
           0.0,
           "rgb(247,251,255)"
          ],
          [
           0.125,
           "rgb(222,235,247)"
          ],
          [
           0.25,
           "rgb(198,219,239)"
          ],
          [
           0.375,
           "rgb(158,202,225)"
          ],
          [
           0.5,
           "rgb(107,174,214)"
          ],
          [
           0.625,
           "rgb(66,146,198)"
          ],
          [
           0.75,
           "rgb(33,113,181)"
          ],
          [
           0.875,
           "rgb(8,81,156)"
          ],
          [
           1.0,
           "rgb(8,48,107)"
          ]
         ],
         "connectgaps": true,
         "contours": {
          "coloring": "heatmap"
         },
         "hoverinfo": "none",
         "line": {
          "smoothing": 1.3
         },
         "reversescale": true,
         "showscale": false,
         "x": [
          1.333194896626715,
          1.4765790974681658,
          3.6585778090214838,
          3.7995864955735317,
          4.344263114297182,
          4.487647315138633
         ],
         "y": [
          51.2,
          64,
          320,
          332.8
         ],
         "z": {
          "dtype": "f8",
          "bdata": "AAAAAAAA+H8AAAAAAAD4fwAAAAAAAPh/AAAAAAAA+H8AAAAAAAD4fwAAAAAAAPh/AAAAAAAA+H9L2qfDIXuDPwAAAAAAAPh/AAAAAAAA+H8AAAAAAAD4fwAAAAAAAPh/AAAAAAAA+H8AAAAAAAD4f6s3wDvTOoM/AAAAAAAA+H8AAAAAAAD4fwAAAAAAAPh/AAAAAAAA+H8AAAAAAAD4fwAAAAAAAPh/AAAAAAAA+H8AAAAAAAD4fwAAAAAAAPh/",
          "shape": "4, 6"
         },
         "type": "contour",
         "xaxis": "x65",
         "yaxis": "y65"
        },
        {
         "marker": {
          "color": "black",
          "line": {
           "color": "Gray",
           "width": 2.0
          }
         },
         "mode": "markers",
         "name": "Feasible Trial",
         "showlegend": false,
         "x": [
          1.4765790974681658,
          3.6585778090214838
         ],
         "y": [
          64,
          320
         ],
         "type": "scatter",
         "xaxis": "x65",
         "yaxis": "y65"
        },
        {
         "colorbar": {
          "title": {
           "text": "Objective Value"
          }
         },
         "colorscale": [
          [
           0.0,
           "rgb(247,251,255)"
          ],
          [
           0.125,
           "rgb(222,235,247)"
          ],
          [
           0.25,
           "rgb(198,219,239)"
          ],
          [
           0.375,
           "rgb(158,202,225)"
          ],
          [
           0.5,
           "rgb(107,174,214)"
          ],
          [
           0.625,
           "rgb(66,146,198)"
          ],
          [
           0.75,
           "rgb(33,113,181)"
          ],
          [
           0.875,
           "rgb(8,81,156)"
          ],
          [
           1.0,
           "rgb(8,48,107)"
          ]
         ],
         "connectgaps": true,
         "contours": {
          "coloring": "heatmap"
         },
         "hoverinfo": "none",
         "line": {
          "smoothing": 1.3
         },
         "reversescale": true,
         "showscale": false,
         "x": [
          1.333194896626715,
          1.4765790974681658,
          3.6585778090214838,
          3.7995864955735317,
          4.344263114297182,
          4.487647315138633
         ],
         "y": [
          1.6269582925192225,
          1.981947943193925,
          6.140950886568256,
          8.373006336943329,
          9.081740956687977,
          9.43673060736268
         ],
         "z": {
          "dtype": "f8",
          "bdata": "AAAAAAAA+H8AAAAAAAD4fwAAAAAAAPh/AAAAAAAA+H8AAAAAAAD4fwAAAAAAAPh/AAAAAAAA+H8AAAAAAAD4fwAAAAAAAPh/AAAAAAAA+H9PVijOBzCEPwAAAAAAAPh/AAAAAAAA+H8AAAAAAAD4fwAAAAAAAPh/PGdMeDp+gz8AAAAAAAD4fwAAAAAAAPh/AAAAAAAA+H9L2qfDIXuDPwAAAAAAAPh/AAAAAAAA+H8AAAAAAAD4fwAAAAAAAPh/AAAAAAAA+H8AAAAAAAD4f6s3wDvTOoM/AAAAAAAA+H8AAAAAAAD4fwAAAAAAAPh/AAAAAAAA+H8AAAAAAAD4fwAAAAAAAPh/AAAAAAAA+H8AAAAAAAD4fwAAAAAAAPh/",
          "shape": "6, 6"
         },
         "type": "contour",
         "xaxis": "x76",
         "yaxis": "y76"
        },
        {
         "marker": {
          "color": "black",
          "line": {
           "color": "Gray",
           "width": 2.0
          }
         },
         "mode": "markers",
         "name": "Feasible Trial",
         "showlegend": false,
         "x": [
          4.344263114297182,
          1.4765790974681658,
          3.6585778090214838,
          3.7995864955735317
         ],
         "y": [
          1.981947943193925,
          8.373006336943329,
          9.081740956687977,
          6.140950886568256
         ],
         "type": "scatter",
         "xaxis": "x76",
         "yaxis": "y76"
        },
        {
         "colorbar": {
          "title": {
           "text": "Objective Value"
          }
         },
         "colorscale": [
          [
           0.0,
           "rgb(247,251,255)"
          ],
          [
           0.125,
           "rgb(222,235,247)"
          ],
          [
           0.25,
           "rgb(198,219,239)"
          ],
          [
           0.375,
           "rgb(158,202,225)"
          ],
          [
           0.5,
           "rgb(107,174,214)"
          ],
          [
           0.625,
           "rgb(66,146,198)"
          ],
          [
           0.75,
           "rgb(33,113,181)"
          ],
          [
           0.875,
           "rgb(8,81,156)"
          ],
          [
           1.0,
           "rgb(8,48,107)"
          ]
         ],
         "connectgaps": true,
         "contours": {
          "coloring": "heatmap"
         },
         "hoverinfo": "none",
         "line": {
          "smoothing": 1.3
         },
         "reversescale": true,
         "showscale": false,
         "x": [
          1.333194896626715,
          1.4765790974681658,
          3.6585778090214838,
          3.7995864955735317,
          4.344263114297182,
          4.487647315138633
         ],
         "y": [
          490.0,
          500,
          700,
          710.0
         ],
         "z": {
          "dtype": "f8",
          "bdata": "AAAAAAAA+H8AAAAAAAD4fwAAAAAAAPh/AAAAAAAA+H8AAAAAAAD4fwAAAAAAAPh/AAAAAAAA+H9L2qfDIXuDP6s3wDvTOoM/AAAAAAAA+H8AAAAAAAD4fwAAAAAAAPh/AAAAAAAA+H8AAAAAAAD4fwAAAAAAAPh/PGdMeDp+gz9PVijOBzCEPwAAAAAAAPh/AAAAAAAA+H8AAAAAAAD4fwAAAAAAAPh/AAAAAAAA+H8AAAAAAAD4fwAAAAAAAPh/",
          "shape": "4, 6"
         },
         "type": "contour",
         "xaxis": "x87",
         "yaxis": "y87"
        },
        {
         "marker": {
          "color": "black",
          "line": {
           "color": "Gray",
           "width": 2.0
          }
         },
         "mode": "markers",
         "name": "Feasible Trial",
         "showlegend": false,
         "x": [
          4.344263114297182,
          1.4765790974681658,
          3.6585778090214838,
          3.7995864955735317
         ],
         "y": [
          700,
          500,
          500,
          700
         ],
         "type": "scatter",
         "xaxis": "x87",
         "yaxis": "y87"
        },
        {
         "colorbar": {
          "title": {
           "text": "Objective Value"
          }
         },
         "colorscale": [
          [
           0.0,
           "rgb(247,251,255)"
          ],
          [
           0.125,
           "rgb(222,235,247)"
          ],
          [
           0.25,
           "rgb(198,219,239)"
          ],
          [
           0.375,
           "rgb(158,202,225)"
          ],
          [
           0.5,
           "rgb(107,174,214)"
          ],
          [
           0.625,
           "rgb(66,146,198)"
          ],
          [
           0.75,
           "rgb(33,113,181)"
          ],
          [
           0.875,
           "rgb(8,81,156)"
          ],
          [
           1.0,
           "rgb(8,48,107)"
          ]
         ],
         "connectgaps": true,
         "contours": {
          "coloring": "heatmap"
         },
         "hoverinfo": "none",
         "line": {
          "smoothing": 1.3
         },
         "reversescale": true,
         "showscale": false,
         "x": [
          1.333194896626715,
          1.4765790974681658,
          3.6585778090214838,
          3.7995864955735317,
          4.344263114297182,
          4.487647315138633
         ],
         "y": [
          0.036460834526854294,
          0.05808361216819946,
          0.22122711070370474,
          0.3567533266935893,
          0.49053916499510275,
          0.5121619426364479
         ],
         "z": {
          "dtype": "f8",
          "bdata": "AAAAAAAA+H8AAAAAAAD4fwAAAAAAAPh/AAAAAAAA+H8AAAAAAAD4fwAAAAAAAPh/AAAAAAAA+H8AAAAAAAD4fwAAAAAAAPh/AAAAAAAA+H9PVijOBzCEPwAAAAAAAPh/AAAAAAAA+H8AAAAAAAD4f6s3wDvTOoM/AAAAAAAA+H8AAAAAAAD4fwAAAAAAAPh/AAAAAAAA+H9L2qfDIXuDPwAAAAAAAPh/AAAAAAAA+H8AAAAAAAD4fwAAAAAAAPh/AAAAAAAA+H8AAAAAAAD4fwAAAAAAAPh/PGdMeDp+gz8AAAAAAAD4fwAAAAAAAPh/AAAAAAAA+H8AAAAAAAD4fwAAAAAAAPh/AAAAAAAA+H8AAAAAAAD4fwAAAAAAAPh/",
          "shape": "6, 6"
         },
         "type": "contour",
         "xaxis": "x98",
         "yaxis": "y98"
        },
        {
         "marker": {
          "color": "black",
          "line": {
           "color": "Gray",
           "width": 2.0
          }
         },
         "mode": "markers",
         "name": "Feasible Trial",
         "showlegend": false,
         "x": [
          4.344263114297182,
          1.4765790974681658,
          3.6585778090214838,
          3.7995864955735317
         ],
         "y": [
          0.05808361216819946,
          0.3567533266935893,
          0.22122711070370474,
          0.49053916499510275
         ],
         "type": "scatter",
         "xaxis": "x98",
         "yaxis": "y98"
        },
        {
         "type": "scatter",
         "xaxis": "x109",
         "yaxis": "y109"
        },
        {
         "colorbar": {
          "title": {
           "text": "Objective Value"
          }
         },
         "colorscale": [
          [
           0.0,
           "rgb(247,251,255)"
          ],
          [
           0.125,
           "rgb(222,235,247)"
          ],
          [
           0.25,
           "rgb(198,219,239)"
          ],
          [
           0.375,
           "rgb(158,202,225)"
          ],
          [
           0.5,
           "rgb(107,174,214)"
          ],
          [
           0.625,
           "rgb(66,146,198)"
          ],
          [
           0.75,
           "rgb(33,113,181)"
          ],
          [
           0.875,
           "rgb(8,81,156)"
          ],
          [
           1.0,
           "rgb(8,48,107)"
          ]
         ],
         "connectgaps": true,
         "contours": {
          "coloring": "heatmap"
         },
         "hoverinfo": "none",
         "line": {
          "smoothing": 1.3
         },
         "reversescale": true,
         "showscale": false,
         "x": [
          1.333194896626715,
          1.4765790974681658,
          3.6585778090214838,
          3.7995864955735317,
          4.344263114297182,
          4.487647315138633
         ],
         "y": [
          0.8090585347349498,
          0.8166031869068446,
          0.8795975452591109,
          0.9158558903524459,
          0.967496230344742,
          0.9750408825166368
         ],
         "z": {
          "dtype": "f8",
          "bdata": "AAAAAAAA+H8AAAAAAAD4fwAAAAAAAPh/AAAAAAAA+H8AAAAAAAD4fwAAAAAAAPh/AAAAAAAA+H9L2qfDIXuDPwAAAAAAAPh/AAAAAAAA+H8AAAAAAAD4fwAAAAAAAPh/AAAAAAAA+H8AAAAAAAD4fwAAAAAAAPh/AAAAAAAA+H9PVijOBzCEPwAAAAAAAPh/AAAAAAAA+H8AAAAAAAD4fwAAAAAAAPh/PGdMeDp+gz8AAAAAAAD4fwAAAAAAAPh/AAAAAAAA+H8AAAAAAAD4f6s3wDvTOoM/AAAAAAAA+H8AAAAAAAD4fwAAAAAAAPh/AAAAAAAA+H8AAAAAAAD4fwAAAAAAAPh/AAAAAAAA+H8AAAAAAAD4fwAAAAAAAPh/",
          "shape": "6, 6"
         },
         "type": "contour",
         "xaxis": "x120",
         "yaxis": "y120"
        },
        {
         "marker": {
          "color": "black",
          "line": {
           "color": "Gray",
           "width": 2.0
          }
         },
         "mode": "markers",
         "name": "Feasible Trial",
         "showlegend": false,
         "x": [
          4.344263114297182,
          1.4765790974681658,
          3.6585778090214838,
          3.7995864955735317
         ],
         "y": [
          0.8795975452591109,
          0.8166031869068446,
          0.967496230344742,
          0.9158558903524459
         ],
         "type": "scatter",
         "xaxis": "x120",
         "yaxis": "y120"
        },
        {
         "colorbar": {
          "title": {
           "text": "Objective Value"
          }
         },
         "colorscale": [
          [
           0.0,
           "rgb(247,251,255)"
          ],
          [
           0.125,
           "rgb(222,235,247)"
          ],
          [
           0.25,
           "rgb(198,219,239)"
          ],
          [
           0.375,
           "rgb(158,202,225)"
          ],
          [
           0.5,
           "rgb(107,174,214)"
          ],
          [
           0.625,
           "rgb(66,146,198)"
          ],
          [
           0.75,
           "rgb(33,113,181)"
          ],
          [
           0.875,
           "rgb(8,81,156)"
          ],
          [
           1.0,
           "rgb(8,48,107)"
          ]
         ],
         "connectgaps": true,
         "contours": {
          "coloring": "heatmap"
         },
         "hoverinfo": "none",
         "line": {
          "smoothing": 1.3
         },
         "reversescale": true,
         "showscale": false,
         "x": [
          0.8090585347349498,
          0.8166031869068446,
          0.8795975452591109,
          0.9158558903524459,
          0.967496230344742,
          0.9750408825166368
         ],
         "y": [
          0.7441305089421173,
          0.7468055921327309,
          0.7668022557458023,
          0.7814047095321688,
          0.8003072559450032,
          0.8029823391356168
         ],
         "z": {
          "dtype": "f8",
          "bdata": "AAAAAAAA+H8AAAAAAAD4fwAAAAAAAPh/AAAAAAAA+H8AAAAAAAD4fwAAAAAAAPh/AAAAAAAA+H8AAAAAAAD4f09WKM4HMIQ/AAAAAAAA+H8AAAAAAAD4fwAAAAAAAPh/AAAAAAAA+H8AAAAAAAD4fwAAAAAAAPh/PGdMeDp+gz8AAAAAAAD4fwAAAAAAAPh/AAAAAAAA+H9L2qfDIXuDPwAAAAAAAPh/AAAAAAAA+H8AAAAAAAD4fwAAAAAAAPh/AAAAAAAA+H8AAAAAAAD4fwAAAAAAAPh/AAAAAAAA+H+rN8A70zqDPwAAAAAAAPh/AAAAAAAA+H8AAAAAAAD4fwAAAAAAAPh/AAAAAAAA+H8AAAAAAAD4fwAAAAAAAPh/",
          "shape": "6, 6"
         },
         "type": "contour",
         "xaxis": "x11",
         "yaxis": "y11"
        },
        {
         "marker": {
          "color": "black",
          "line": {
           "color": "Gray",
           "width": 2.0
          }
         },
         "mode": "markers",
         "name": "Feasible Trial",
         "showlegend": false,
         "x": [
          0.8795975452591109,
          0.8166031869068446,
          0.967496230344742,
          0.9158558903524459
         ],
         "y": [
          0.7468055921327309,
          0.7814047095321688,
          0.8003072559450032,
          0.7668022557458023
         ],
         "type": "scatter",
         "xaxis": "x11",
         "yaxis": "y11"
        },
        {
         "colorbar": {
          "title": {
           "text": "Objective Value"
          }
         },
         "colorscale": [
          [
           0.0,
           "rgb(247,251,255)"
          ],
          [
           0.125,
           "rgb(222,235,247)"
          ],
          [
           0.25,
           "rgb(198,219,239)"
          ],
          [
           0.375,
           "rgb(158,202,225)"
          ],
          [
           0.5,
           "rgb(107,174,214)"
          ],
          [
           0.625,
           "rgb(66,146,198)"
          ],
          [
           0.75,
           "rgb(33,113,181)"
          ],
          [
           0.875,
           "rgb(8,81,156)"
          ],
          [
           1.0,
           "rgb(8,48,107)"
          ]
         ],
         "connectgaps": true,
         "contours": {
          "coloring": "heatmap"
         },
         "hoverinfo": "none",
         "line": {
          "smoothing": 1.3
         },
         "reversescale": true,
         "showscale": false,
         "x": [
          0.8090585347349498,
          0.8166031869068446,
          0.8795975452591109,
          0.9158558903524459,
          0.967496230344742,
          0.9750408825166368
         ],
         "y": [
          "depthwise",
          "lossguide"
         ],
         "z": {
          "dtype": "f8",
          "bdata": "AAAAAAAA+H8AAAAAAAD4f09WKM4HMIQ/PGdMeDp+gz8AAAAAAAD4fwAAAAAAAPh/AAAAAAAA+H9L2qfDIXuDPwAAAAAAAPh/AAAAAAAA+H+rN8A70zqDPwAAAAAAAPh/",
          "shape": "2, 6"
         },
         "type": "contour",
         "xaxis": "x22",
         "yaxis": "y22"
        },
        {
         "marker": {
          "color": "black",
          "line": {
           "color": "Gray",
           "width": 2.0
          }
         },
         "mode": "markers",
         "name": "Feasible Trial",
         "showlegend": false,
         "x": [
          0.8795975452591109,
          0.8166031869068446,
          0.967496230344742,
          0.9158558903524459
         ],
         "y": [
          "depthwise",
          "lossguide",
          "lossguide",
          "depthwise"
         ],
         "type": "scatter",
         "xaxis": "x22",
         "yaxis": "y22"
        },
        {
         "colorbar": {
          "title": {
           "text": "Objective Value"
          }
         },
         "colorscale": [
          [
           0.0,
           "rgb(247,251,255)"
          ],
          [
           0.125,
           "rgb(222,235,247)"
          ],
          [
           0.25,
           "rgb(198,219,239)"
          ],
          [
           0.375,
           "rgb(158,202,225)"
          ],
          [
           0.5,
           "rgb(107,174,214)"
          ],
          [
           0.625,
           "rgb(66,146,198)"
          ],
          [
           0.75,
           "rgb(33,113,181)"
          ],
          [
           0.875,
           "rgb(8,81,156)"
          ],
          [
           1.0,
           "rgb(8,48,107)"
          ]
         ],
         "connectgaps": true,
         "contours": {
          "coloring": "heatmap"
         },
         "hoverinfo": "none",
         "line": {
          "smoothing": 1.3
         },
         "reversescale": true,
         "showscale": false,
         "x": [
          0.8090585347349498,
          0.8166031869068446,
          0.8795975452591109,
          0.9158558903524459,
          0.967496230344742,
          0.9750408825166368
         ],
         "y": [
          0.009191417528721072,
          0.010242318938703103,
          0.011097554561103107,
          0.01314981250761057,
          0.08927180304353628,
          0.09947870131542277
         ],
         "z": {
          "dtype": "f8",
          "bdata": "AAAAAAAA+H8AAAAAAAD4fwAAAAAAAPh/AAAAAAAA+H8AAAAAAAD4fwAAAAAAAPh/AAAAAAAA+H8AAAAAAAD4fwAAAAAAAPh/AAAAAAAA+H+rN8A70zqDPwAAAAAAAPh/AAAAAAAA+H9L2qfDIXuDPwAAAAAAAPh/AAAAAAAA+H8AAAAAAAD4fwAAAAAAAPh/AAAAAAAA+H8AAAAAAAD4fwAAAAAAAPh/PGdMeDp+gz8AAAAAAAD4fwAAAAAAAPh/AAAAAAAA+H8AAAAAAAD4f09WKM4HMIQ/AAAAAAAA+H8AAAAAAAD4fwAAAAAAAPh/AAAAAAAA+H8AAAAAAAD4fwAAAAAAAPh/AAAAAAAA+H8AAAAAAAD4fwAAAAAAAPh/",
          "shape": "6, 6"
         },
         "type": "contour",
         "xaxis": "x33",
         "yaxis": "y33"
        },
        {
         "marker": {
          "color": "black",
          "line": {
           "color": "Gray",
           "width": 2.0
          }
         },
         "mode": "markers",
         "name": "Feasible Trial",
         "showlegend": false,
         "x": [
          0.8795975452591109,
          0.8166031869068446,
          0.967496230344742,
          0.9158558903524459
         ],
         "y": [
          0.08927180304353628,
          0.011097554561103107,
          0.010242318938703103,
          0.01314981250761057
         ],
         "type": "scatter",
         "xaxis": "x33",
         "yaxis": "y33"
        },
        {
         "colorbar": {
          "title": {
           "text": "Objective Value"
          }
         },
         "colorscale": [
          [
           0.0,
           "rgb(247,251,255)"
          ],
          [
           0.125,
           "rgb(222,235,247)"
          ],
          [
           0.25,
           "rgb(198,219,239)"
          ],
          [
           0.375,
           "rgb(158,202,225)"
          ],
          [
           0.5,
           "rgb(107,174,214)"
          ],
          [
           0.625,
           "rgb(66,146,198)"
          ],
          [
           0.75,
           "rgb(33,113,181)"
          ],
          [
           0.875,
           "rgb(8,81,156)"
          ],
          [
           1.0,
           "rgb(8,48,107)"
          ]
         ],
         "connectgaps": true,
         "contours": {
          "coloring": "heatmap"
         },
         "hoverinfo": "none",
         "line": {
          "smoothing": 1.3
         },
         "reversescale": true,
         "showscale": false,
         "x": [
          0.8090585347349498,
          0.8166031869068446,
          0.8795975452591109,
          0.9158558903524459,
          0.967496230344742,
          0.9750408825166368
         ],
         "y": [
          313.6,
          320,
          384,
          448,
          454.4
         ],
         "z": {
          "dtype": "f8",
          "bdata": "AAAAAAAA+H8AAAAAAAD4fwAAAAAAAPh/AAAAAAAA+H8AAAAAAAD4fwAAAAAAAPh/AAAAAAAA+H9L2qfDIXuDPwAAAAAAAPh/AAAAAAAA+H8AAAAAAAD4fwAAAAAAAPh/AAAAAAAA+H8AAAAAAAD4f09WKM4HMIQ/AAAAAAAA+H+rN8A70zqDPwAAAAAAAPh/AAAAAAAA+H8AAAAAAAD4fwAAAAAAAPh/PGdMeDp+gz8AAAAAAAD4fwAAAAAAAPh/AAAAAAAA+H8AAAAAAAD4fwAAAAAAAPh/AAAAAAAA+H8AAAAAAAD4fwAAAAAAAPh/",
          "shape": "5, 6"
         },
         "type": "contour",
         "xaxis": "x44",
         "yaxis": "y44"
        },
        {
         "marker": {
          "color": "black",
          "line": {
           "color": "Gray",
           "width": 2.0
          }
         },
         "mode": "markers",
         "name": "Feasible Trial",
         "showlegend": false,
         "x": [
          0.8795975452591109,
          0.8166031869068446,
          0.967496230344742,
          0.9158558903524459
         ],
         "y": [
          384,
          320,
          384,
          448
         ],
         "type": "scatter",
         "xaxis": "x44",
         "yaxis": "y44"
        },
        {
         "colorbar": {
          "title": {
           "text": "Objective Value"
          }
         },
         "colorscale": [
          [
           0.0,
           "rgb(247,251,255)"
          ],
          [
           0.125,
           "rgb(222,235,247)"
          ],
          [
           0.25,
           "rgb(198,219,239)"
          ],
          [
           0.375,
           "rgb(158,202,225)"
          ],
          [
           0.5,
           "rgb(107,174,214)"
          ],
          [
           0.625,
           "rgb(66,146,198)"
          ],
          [
           0.75,
           "rgb(33,113,181)"
          ],
          [
           0.875,
           "rgb(8,81,156)"
          ],
          [
           1.0,
           "rgb(8,48,107)"
          ]
         ],
         "connectgaps": true,
         "contours": {
          "coloring": "heatmap"
         },
         "hoverinfo": "none",
         "line": {
          "smoothing": 1.3
         },
         "reversescale": true,
         "showscale": false,
         "x": [
          0.8090585347349498,
          0.8166031869068446,
          0.8795975452591109,
          0.9158558903524459,
          0.967496230344742,
          0.9750408825166368
         ],
         "y": [
          2.75,
          3,
          5,
          8,
          8.25
         ],
         "z": {
          "dtype": "f8",
          "bdata": "AAAAAAAA+H8AAAAAAAD4fwAAAAAAAPh/AAAAAAAA+H8AAAAAAAD4fwAAAAAAAPh/AAAAAAAA+H8AAAAAAAD4fwAAAAAAAPh/PGdMeDp+gz+rN8A70zqDPwAAAAAAAPh/AAAAAAAA+H9L2qfDIXuDPwAAAAAAAPh/AAAAAAAA+H8AAAAAAAD4fwAAAAAAAPh/AAAAAAAA+H8AAAAAAAD4f09WKM4HMIQ/AAAAAAAA+H8AAAAAAAD4fwAAAAAAAPh/AAAAAAAA+H8AAAAAAAD4fwAAAAAAAPh/AAAAAAAA+H8AAAAAAAD4fwAAAAAAAPh/",
          "shape": "5, 6"
         },
         "type": "contour",
         "xaxis": "x55",
         "yaxis": "y55"
        },
        {
         "marker": {
          "color": "black",
          "line": {
           "color": "Gray",
           "width": 2.0
          }
         },
         "mode": "markers",
         "name": "Feasible Trial",
         "showlegend": false,
         "x": [
          0.8795975452591109,
          0.8166031869068446,
          0.967496230344742,
          0.9158558903524459
         ],
         "y": [
          8,
          5,
          3,
          3
         ],
         "type": "scatter",
         "xaxis": "x55",
         "yaxis": "y55"
        },
        {
         "colorbar": {
          "title": {
           "text": "Objective Value"
          }
         },
         "colorscale": [
          [
           0.0,
           "rgb(247,251,255)"
          ],
          [
           0.125,
           "rgb(222,235,247)"
          ],
          [
           0.25,
           "rgb(198,219,239)"
          ],
          [
           0.375,
           "rgb(158,202,225)"
          ],
          [
           0.5,
           "rgb(107,174,214)"
          ],
          [
           0.625,
           "rgb(66,146,198)"
          ],
          [
           0.75,
           "rgb(33,113,181)"
          ],
          [
           0.875,
           "rgb(8,81,156)"
          ],
          [
           1.0,
           "rgb(8,48,107)"
          ]
         ],
         "connectgaps": true,
         "contours": {
          "coloring": "heatmap"
         },
         "hoverinfo": "none",
         "line": {
          "smoothing": 1.3
         },
         "reversescale": true,
         "showscale": false,
         "x": [
          0.8090585347349498,
          0.8166031869068446,
          0.8795975452591109,
          0.9158558903524459,
          0.967496230344742,
          0.9750408825166368
         ],
         "y": [
          51.2,
          64,
          320,
          332.8
         ],
         "z": {
          "dtype": "f8",
          "bdata": "AAAAAAAA+H8AAAAAAAD4fwAAAAAAAPh/AAAAAAAA+H8AAAAAAAD4fwAAAAAAAPh/AAAAAAAA+H9L2qfDIXuDPwAAAAAAAPh/AAAAAAAA+H8AAAAAAAD4fwAAAAAAAPh/AAAAAAAA+H8AAAAAAAD4fwAAAAAAAPh/AAAAAAAA+H+rN8A70zqDPwAAAAAAAPh/AAAAAAAA+H8AAAAAAAD4fwAAAAAAAPh/AAAAAAAA+H8AAAAAAAD4fwAAAAAAAPh/",
          "shape": "4, 6"
         },
         "type": "contour",
         "xaxis": "x66",
         "yaxis": "y66"
        },
        {
         "marker": {
          "color": "black",
          "line": {
           "color": "Gray",
           "width": 2.0
          }
         },
         "mode": "markers",
         "name": "Feasible Trial",
         "showlegend": false,
         "x": [
          0.8166031869068446,
          0.967496230344742
         ],
         "y": [
          64,
          320
         ],
         "type": "scatter",
         "xaxis": "x66",
         "yaxis": "y66"
        },
        {
         "colorbar": {
          "title": {
           "text": "Objective Value"
          }
         },
         "colorscale": [
          [
           0.0,
           "rgb(247,251,255)"
          ],
          [
           0.125,
           "rgb(222,235,247)"
          ],
          [
           0.25,
           "rgb(198,219,239)"
          ],
          [
           0.375,
           "rgb(158,202,225)"
          ],
          [
           0.5,
           "rgb(107,174,214)"
          ],
          [
           0.625,
           "rgb(66,146,198)"
          ],
          [
           0.75,
           "rgb(33,113,181)"
          ],
          [
           0.875,
           "rgb(8,81,156)"
          ],
          [
           1.0,
           "rgb(8,48,107)"
          ]
         ],
         "connectgaps": true,
         "contours": {
          "coloring": "heatmap"
         },
         "hoverinfo": "none",
         "line": {
          "smoothing": 1.3
         },
         "reversescale": true,
         "showscale": false,
         "x": [
          0.8090585347349498,
          0.8166031869068446,
          0.8795975452591109,
          0.9158558903524459,
          0.967496230344742,
          0.9750408825166368
         ],
         "y": [
          1.6269582925192225,
          1.981947943193925,
          6.140950886568256,
          8.373006336943329,
          9.081740956687977,
          9.43673060736268
         ],
         "z": {
          "dtype": "f8",
          "bdata": "AAAAAAAA+H8AAAAAAAD4fwAAAAAAAPh/AAAAAAAA+H8AAAAAAAD4fwAAAAAAAPh/AAAAAAAA+H8AAAAAAAD4f09WKM4HMIQ/AAAAAAAA+H8AAAAAAAD4fwAAAAAAAPh/AAAAAAAA+H8AAAAAAAD4fwAAAAAAAPh/PGdMeDp+gz8AAAAAAAD4fwAAAAAAAPh/AAAAAAAA+H9L2qfDIXuDPwAAAAAAAPh/AAAAAAAA+H8AAAAAAAD4fwAAAAAAAPh/AAAAAAAA+H8AAAAAAAD4fwAAAAAAAPh/AAAAAAAA+H+rN8A70zqDPwAAAAAAAPh/AAAAAAAA+H8AAAAAAAD4fwAAAAAAAPh/AAAAAAAA+H8AAAAAAAD4fwAAAAAAAPh/",
          "shape": "6, 6"
         },
         "type": "contour",
         "xaxis": "x77",
         "yaxis": "y77"
        },
        {
         "marker": {
          "color": "black",
          "line": {
           "color": "Gray",
           "width": 2.0
          }
         },
         "mode": "markers",
         "name": "Feasible Trial",
         "showlegend": false,
         "x": [
          0.8795975452591109,
          0.8166031869068446,
          0.967496230344742,
          0.9158558903524459
         ],
         "y": [
          1.981947943193925,
          8.373006336943329,
          9.081740956687977,
          6.140950886568256
         ],
         "type": "scatter",
         "xaxis": "x77",
         "yaxis": "y77"
        },
        {
         "colorbar": {
          "title": {
           "text": "Objective Value"
          }
         },
         "colorscale": [
          [
           0.0,
           "rgb(247,251,255)"
          ],
          [
           0.125,
           "rgb(222,235,247)"
          ],
          [
           0.25,
           "rgb(198,219,239)"
          ],
          [
           0.375,
           "rgb(158,202,225)"
          ],
          [
           0.5,
           "rgb(107,174,214)"
          ],
          [
           0.625,
           "rgb(66,146,198)"
          ],
          [
           0.75,
           "rgb(33,113,181)"
          ],
          [
           0.875,
           "rgb(8,81,156)"
          ],
          [
           1.0,
           "rgb(8,48,107)"
          ]
         ],
         "connectgaps": true,
         "contours": {
          "coloring": "heatmap"
         },
         "hoverinfo": "none",
         "line": {
          "smoothing": 1.3
         },
         "reversescale": true,
         "showscale": false,
         "x": [
          0.8090585347349498,
          0.8166031869068446,
          0.8795975452591109,
          0.9158558903524459,
          0.967496230344742,
          0.9750408825166368
         ],
         "y": [
          490.0,
          500,
          700,
          710.0
         ],
         "z": {
          "dtype": "f8",
          "bdata": "AAAAAAAA+H8AAAAAAAD4fwAAAAAAAPh/AAAAAAAA+H8AAAAAAAD4fwAAAAAAAPh/AAAAAAAA+H9L2qfDIXuDPwAAAAAAAPh/AAAAAAAA+H+rN8A70zqDPwAAAAAAAPh/AAAAAAAA+H8AAAAAAAD4f09WKM4HMIQ/PGdMeDp+gz8AAAAAAAD4fwAAAAAAAPh/AAAAAAAA+H8AAAAAAAD4fwAAAAAAAPh/AAAAAAAA+H8AAAAAAAD4fwAAAAAAAPh/",
          "shape": "4, 6"
         },
         "type": "contour",
         "xaxis": "x88",
         "yaxis": "y88"
        },
        {
         "marker": {
          "color": "black",
          "line": {
           "color": "Gray",
           "width": 2.0
          }
         },
         "mode": "markers",
         "name": "Feasible Trial",
         "showlegend": false,
         "x": [
          0.8795975452591109,
          0.8166031869068446,
          0.967496230344742,
          0.9158558903524459
         ],
         "y": [
          700,
          500,
          500,
          700
         ],
         "type": "scatter",
         "xaxis": "x88",
         "yaxis": "y88"
        },
        {
         "colorbar": {
          "title": {
           "text": "Objective Value"
          }
         },
         "colorscale": [
          [
           0.0,
           "rgb(247,251,255)"
          ],
          [
           0.125,
           "rgb(222,235,247)"
          ],
          [
           0.25,
           "rgb(198,219,239)"
          ],
          [
           0.375,
           "rgb(158,202,225)"
          ],
          [
           0.5,
           "rgb(107,174,214)"
          ],
          [
           0.625,
           "rgb(66,146,198)"
          ],
          [
           0.75,
           "rgb(33,113,181)"
          ],
          [
           0.875,
           "rgb(8,81,156)"
          ],
          [
           1.0,
           "rgb(8,48,107)"
          ]
         ],
         "connectgaps": true,
         "contours": {
          "coloring": "heatmap"
         },
         "hoverinfo": "none",
         "line": {
          "smoothing": 1.3
         },
         "reversescale": true,
         "showscale": false,
         "x": [
          0.8090585347349498,
          0.8166031869068446,
          0.8795975452591109,
          0.9158558903524459,
          0.967496230344742,
          0.9750408825166368
         ],
         "y": [
          0.036460834526854294,
          0.05808361216819946,
          0.22122711070370474,
          0.3567533266935893,
          0.49053916499510275,
          0.5121619426364479
         ],
         "z": {
          "dtype": "f8",
          "bdata": "AAAAAAAA+H8AAAAAAAD4fwAAAAAAAPh/AAAAAAAA+H8AAAAAAAD4fwAAAAAAAPh/AAAAAAAA+H8AAAAAAAD4f09WKM4HMIQ/AAAAAAAA+H8AAAAAAAD4fwAAAAAAAPh/AAAAAAAA+H8AAAAAAAD4fwAAAAAAAPh/AAAAAAAA+H+rN8A70zqDPwAAAAAAAPh/AAAAAAAA+H9L2qfDIXuDPwAAAAAAAPh/AAAAAAAA+H8AAAAAAAD4fwAAAAAAAPh/AAAAAAAA+H8AAAAAAAD4fwAAAAAAAPh/PGdMeDp+gz8AAAAAAAD4fwAAAAAAAPh/AAAAAAAA+H8AAAAAAAD4fwAAAAAAAPh/AAAAAAAA+H8AAAAAAAD4fwAAAAAAAPh/",
          "shape": "6, 6"
         },
         "type": "contour",
         "xaxis": "x99",
         "yaxis": "y99"
        },
        {
         "marker": {
          "color": "black",
          "line": {
           "color": "Gray",
           "width": 2.0
          }
         },
         "mode": "markers",
         "name": "Feasible Trial",
         "showlegend": false,
         "x": [
          0.8795975452591109,
          0.8166031869068446,
          0.967496230344742,
          0.9158558903524459
         ],
         "y": [
          0.05808361216819946,
          0.3567533266935893,
          0.22122711070370474,
          0.49053916499510275
         ],
         "type": "scatter",
         "xaxis": "x99",
         "yaxis": "y99"
        },
        {
         "colorbar": {
          "title": {
           "text": "Objective Value"
          }
         },
         "colorscale": [
          [
           0.0,
           "rgb(247,251,255)"
          ],
          [
           0.125,
           "rgb(222,235,247)"
          ],
          [
           0.25,
           "rgb(198,219,239)"
          ],
          [
           0.375,
           "rgb(158,202,225)"
          ],
          [
           0.5,
           "rgb(107,174,214)"
          ],
          [
           0.625,
           "rgb(66,146,198)"
          ],
          [
           0.75,
           "rgb(33,113,181)"
          ],
          [
           0.875,
           "rgb(8,81,156)"
          ],
          [
           1.0,
           "rgb(8,48,107)"
          ]
         ],
         "connectgaps": true,
         "contours": {
          "coloring": "heatmap"
         },
         "hoverinfo": "none",
         "line": {
          "smoothing": 1.3
         },
         "reversescale": true,
         "showscale": false,
         "x": [
          0.8090585347349498,
          0.8166031869068446,
          0.8795975452591109,
          0.9158558903524459,
          0.967496230344742,
          0.9750408825166368
         ],
         "y": [
          1.333194896626715,
          1.4765790974681658,
          3.6585778090214838,
          3.7995864955735317,
          4.344263114297182,
          4.487647315138633
         ],
         "z": {
          "dtype": "f8",
          "bdata": "AAAAAAAA+H8AAAAAAAD4fwAAAAAAAPh/AAAAAAAA+H8AAAAAAAD4fwAAAAAAAPh/AAAAAAAA+H9L2qfDIXuDPwAAAAAAAPh/AAAAAAAA+H8AAAAAAAD4fwAAAAAAAPh/AAAAAAAA+H8AAAAAAAD4fwAAAAAAAPh/AAAAAAAA+H+rN8A70zqDPwAAAAAAAPh/AAAAAAAA+H8AAAAAAAD4fwAAAAAAAPh/PGdMeDp+gz8AAAAAAAD4fwAAAAAAAPh/AAAAAAAA+H8AAAAAAAD4f09WKM4HMIQ/AAAAAAAA+H8AAAAAAAD4fwAAAAAAAPh/AAAAAAAA+H8AAAAAAAD4fwAAAAAAAPh/AAAAAAAA+H8AAAAAAAD4fwAAAAAAAPh/",
          "shape": "6, 6"
         },
         "type": "contour",
         "xaxis": "x110",
         "yaxis": "y110"
        },
        {
         "marker": {
          "color": "black",
          "line": {
           "color": "Gray",
           "width": 2.0
          }
         },
         "mode": "markers",
         "name": "Feasible Trial",
         "showlegend": false,
         "x": [
          0.8795975452591109,
          0.8166031869068446,
          0.967496230344742,
          0.9158558903524459
         ],
         "y": [
          4.344263114297182,
          1.4765790974681658,
          3.6585778090214838,
          3.7995864955735317
         ],
         "type": "scatter",
         "xaxis": "x110",
         "yaxis": "y110"
        },
        {
         "type": "scatter",
         "xaxis": "x121",
         "yaxis": "y121"
        }
       ],
       "layout": {
        "template": {
         "data": {
          "histogram2dcontour": [
           {
            "type": "histogram2dcontour",
            "colorbar": {
             "outlinewidth": 0,
             "ticks": ""
            },
            "colorscale": [
             [
              0.0,
              "#0d0887"
             ],
             [
              0.1111111111111111,
              "#46039f"
             ],
             [
              0.2222222222222222,
              "#7201a8"
             ],
             [
              0.3333333333333333,
              "#9c179e"
             ],
             [
              0.4444444444444444,
              "#bd3786"
             ],
             [
              0.5555555555555556,
              "#d8576b"
             ],
             [
              0.6666666666666666,
              "#ed7953"
             ],
             [
              0.7777777777777778,
              "#fb9f3a"
             ],
             [
              0.8888888888888888,
              "#fdca26"
             ],
             [
              1.0,
              "#f0f921"
             ]
            ]
           }
          ],
          "choropleth": [
           {
            "type": "choropleth",
            "colorbar": {
             "outlinewidth": 0,
             "ticks": ""
            }
           }
          ],
          "histogram2d": [
           {
            "type": "histogram2d",
            "colorbar": {
             "outlinewidth": 0,
             "ticks": ""
            },
            "colorscale": [
             [
              0.0,
              "#0d0887"
             ],
             [
              0.1111111111111111,
              "#46039f"
             ],
             [
              0.2222222222222222,
              "#7201a8"
             ],
             [
              0.3333333333333333,
              "#9c179e"
             ],
             [
              0.4444444444444444,
              "#bd3786"
             ],
             [
              0.5555555555555556,
              "#d8576b"
             ],
             [
              0.6666666666666666,
              "#ed7953"
             ],
             [
              0.7777777777777778,
              "#fb9f3a"
             ],
             [
              0.8888888888888888,
              "#fdca26"
             ],
             [
              1.0,
              "#f0f921"
             ]
            ]
           }
          ],
          "heatmap": [
           {
            "type": "heatmap",
            "colorbar": {
             "outlinewidth": 0,
             "ticks": ""
            },
            "colorscale": [
             [
              0.0,
              "#0d0887"
             ],
             [
              0.1111111111111111,
              "#46039f"
             ],
             [
              0.2222222222222222,
              "#7201a8"
             ],
             [
              0.3333333333333333,
              "#9c179e"
             ],
             [
              0.4444444444444444,
              "#bd3786"
             ],
             [
              0.5555555555555556,
              "#d8576b"
             ],
             [
              0.6666666666666666,
              "#ed7953"
             ],
             [
              0.7777777777777778,
              "#fb9f3a"
             ],
             [
              0.8888888888888888,
              "#fdca26"
             ],
             [
              1.0,
              "#f0f921"
             ]
            ]
           }
          ],
          "contourcarpet": [
           {
            "type": "contourcarpet",
            "colorbar": {
             "outlinewidth": 0,
             "ticks": ""
            }
           }
          ],
          "contour": [
           {
            "type": "contour",
            "colorbar": {
             "outlinewidth": 0,
             "ticks": ""
            },
            "colorscale": [
             [
              0.0,
              "#0d0887"
             ],
             [
              0.1111111111111111,
              "#46039f"
             ],
             [
              0.2222222222222222,
              "#7201a8"
             ],
             [
              0.3333333333333333,
              "#9c179e"
             ],
             [
              0.4444444444444444,
              "#bd3786"
             ],
             [
              0.5555555555555556,
              "#d8576b"
             ],
             [
              0.6666666666666666,
              "#ed7953"
             ],
             [
              0.7777777777777778,
              "#fb9f3a"
             ],
             [
              0.8888888888888888,
              "#fdca26"
             ],
             [
              1.0,
              "#f0f921"
             ]
            ]
           }
          ],
          "surface": [
           {
            "type": "surface",
            "colorbar": {
             "outlinewidth": 0,
             "ticks": ""
            },
            "colorscale": [
             [
              0.0,
              "#0d0887"
             ],
             [
              0.1111111111111111,
              "#46039f"
             ],
             [
              0.2222222222222222,
              "#7201a8"
             ],
             [
              0.3333333333333333,
              "#9c179e"
             ],
             [
              0.4444444444444444,
              "#bd3786"
             ],
             [
              0.5555555555555556,
              "#d8576b"
             ],
             [
              0.6666666666666666,
              "#ed7953"
             ],
             [
              0.7777777777777778,
              "#fb9f3a"
             ],
             [
              0.8888888888888888,
              "#fdca26"
             ],
             [
              1.0,
              "#f0f921"
             ]
            ]
           }
          ],
          "mesh3d": [
           {
            "type": "mesh3d",
            "colorbar": {
             "outlinewidth": 0,
             "ticks": ""
            }
           }
          ],
          "scatter": [
           {
            "fillpattern": {
             "fillmode": "overlay",
             "size": 10,
             "solidity": 0.2
            },
            "type": "scatter"
           }
          ],
          "parcoords": [
           {
            "type": "parcoords",
            "line": {
             "colorbar": {
              "outlinewidth": 0,
              "ticks": ""
             }
            }
           }
          ],
          "scatterpolargl": [
           {
            "type": "scatterpolargl",
            "marker": {
             "colorbar": {
              "outlinewidth": 0,
              "ticks": ""
             }
            }
           }
          ],
          "bar": [
           {
            "error_x": {
             "color": "#2a3f5f"
            },
            "error_y": {
             "color": "#2a3f5f"
            },
            "marker": {
             "line": {
              "color": "#E5ECF6",
              "width": 0.5
             },
             "pattern": {
              "fillmode": "overlay",
              "size": 10,
              "solidity": 0.2
             }
            },
            "type": "bar"
           }
          ],
          "scattergeo": [
           {
            "type": "scattergeo",
            "marker": {
             "colorbar": {
              "outlinewidth": 0,
              "ticks": ""
             }
            }
           }
          ],
          "scatterpolar": [
           {
            "type": "scatterpolar",
            "marker": {
             "colorbar": {
              "outlinewidth": 0,
              "ticks": ""
             }
            }
           }
          ],
          "histogram": [
           {
            "marker": {
             "pattern": {
              "fillmode": "overlay",
              "size": 10,
              "solidity": 0.2
             }
            },
            "type": "histogram"
           }
          ],
          "scattergl": [
           {
            "type": "scattergl",
            "marker": {
             "colorbar": {
              "outlinewidth": 0,
              "ticks": ""
             }
            }
           }
          ],
          "scatter3d": [
           {
            "type": "scatter3d",
            "line": {
             "colorbar": {
              "outlinewidth": 0,
              "ticks": ""
             }
            },
            "marker": {
             "colorbar": {
              "outlinewidth": 0,
              "ticks": ""
             }
            }
           }
          ],
          "scattermap": [
           {
            "type": "scattermap",
            "marker": {
             "colorbar": {
              "outlinewidth": 0,
              "ticks": ""
             }
            }
           }
          ],
          "scattermapbox": [
           {
            "type": "scattermapbox",
            "marker": {
             "colorbar": {
              "outlinewidth": 0,
              "ticks": ""
             }
            }
           }
          ],
          "scatterternary": [
           {
            "type": "scatterternary",
            "marker": {
             "colorbar": {
              "outlinewidth": 0,
              "ticks": ""
             }
            }
           }
          ],
          "scattercarpet": [
           {
            "type": "scattercarpet",
            "marker": {
             "colorbar": {
              "outlinewidth": 0,
              "ticks": ""
             }
            }
           }
          ],
          "carpet": [
           {
            "aaxis": {
             "endlinecolor": "#2a3f5f",
             "gridcolor": "white",
             "linecolor": "white",
             "minorgridcolor": "white",
             "startlinecolor": "#2a3f5f"
            },
            "baxis": {
             "endlinecolor": "#2a3f5f",
             "gridcolor": "white",
             "linecolor": "white",
             "minorgridcolor": "white",
             "startlinecolor": "#2a3f5f"
            },
            "type": "carpet"
           }
          ],
          "table": [
           {
            "cells": {
             "fill": {
              "color": "#EBF0F8"
             },
             "line": {
              "color": "white"
             }
            },
            "header": {
             "fill": {
              "color": "#C8D4E3"
             },
             "line": {
              "color": "white"
             }
            },
            "type": "table"
           }
          ],
          "barpolar": [
           {
            "marker": {
             "line": {
              "color": "#E5ECF6",
              "width": 0.5
             },
             "pattern": {
              "fillmode": "overlay",
              "size": 10,
              "solidity": 0.2
             }
            },
            "type": "barpolar"
           }
          ],
          "pie": [
           {
            "automargin": true,
            "type": "pie"
           }
          ]
         },
         "layout": {
          "autotypenumbers": "strict",
          "colorway": [
           "#636efa",
           "#EF553B",
           "#00cc96",
           "#ab63fa",
           "#FFA15A",
           "#19d3f3",
           "#FF6692",
           "#B6E880",
           "#FF97FF",
           "#FECB52"
          ],
          "font": {
           "color": "#2a3f5f"
          },
          "hovermode": "closest",
          "hoverlabel": {
           "align": "left"
          },
          "paper_bgcolor": "white",
          "plot_bgcolor": "#E5ECF6",
          "polar": {
           "bgcolor": "#E5ECF6",
           "angularaxis": {
            "gridcolor": "white",
            "linecolor": "white",
            "ticks": ""
           },
           "radialaxis": {
            "gridcolor": "white",
            "linecolor": "white",
            "ticks": ""
           }
          },
          "ternary": {
           "bgcolor": "#E5ECF6",
           "aaxis": {
            "gridcolor": "white",
            "linecolor": "white",
            "ticks": ""
           },
           "baxis": {
            "gridcolor": "white",
            "linecolor": "white",
            "ticks": ""
           },
           "caxis": {
            "gridcolor": "white",
            "linecolor": "white",
            "ticks": ""
           }
          },
          "coloraxis": {
           "colorbar": {
            "outlinewidth": 0,
            "ticks": ""
           }
          },
          "colorscale": {
           "sequential": [
            [
             0.0,
             "#0d0887"
            ],
            [
             0.1111111111111111,
             "#46039f"
            ],
            [
             0.2222222222222222,
             "#7201a8"
            ],
            [
             0.3333333333333333,
             "#9c179e"
            ],
            [
             0.4444444444444444,
             "#bd3786"
            ],
            [
             0.5555555555555556,
             "#d8576b"
            ],
            [
             0.6666666666666666,
             "#ed7953"
            ],
            [
             0.7777777777777778,
             "#fb9f3a"
            ],
            [
             0.8888888888888888,
             "#fdca26"
            ],
            [
             1.0,
             "#f0f921"
            ]
           ],
           "sequentialminus": [
            [
             0.0,
             "#0d0887"
            ],
            [
             0.1111111111111111,
             "#46039f"
            ],
            [
             0.2222222222222222,
             "#7201a8"
            ],
            [
             0.3333333333333333,
             "#9c179e"
            ],
            [
             0.4444444444444444,
             "#bd3786"
            ],
            [
             0.5555555555555556,
             "#d8576b"
            ],
            [
             0.6666666666666666,
             "#ed7953"
            ],
            [
             0.7777777777777778,
             "#fb9f3a"
            ],
            [
             0.8888888888888888,
             "#fdca26"
            ],
            [
             1.0,
             "#f0f921"
            ]
           ],
           "diverging": [
            [
             0,
             "#8e0152"
            ],
            [
             0.1,
             "#c51b7d"
            ],
            [
             0.2,
             "#de77ae"
            ],
            [
             0.3,
             "#f1b6da"
            ],
            [
             0.4,
             "#fde0ef"
            ],
            [
             0.5,
             "#f7f7f7"
            ],
            [
             0.6,
             "#e6f5d0"
            ],
            [
             0.7,
             "#b8e186"
            ],
            [
             0.8,
             "#7fbc41"
            ],
            [
             0.9,
             "#4d9221"
            ],
            [
             1,
             "#276419"
            ]
           ]
          },
          "xaxis": {
           "gridcolor": "white",
           "linecolor": "white",
           "ticks": "",
           "title": {
            "standoff": 15
           },
           "zerolinecolor": "white",
           "automargin": true,
           "zerolinewidth": 2
          },
          "yaxis": {
           "gridcolor": "white",
           "linecolor": "white",
           "ticks": "",
           "title": {
            "standoff": 15
           },
           "zerolinecolor": "white",
           "automargin": true,
           "zerolinewidth": 2
          },
          "scene": {
           "xaxis": {
            "backgroundcolor": "#E5ECF6",
            "gridcolor": "white",
            "linecolor": "white",
            "showbackground": true,
            "ticks": "",
            "zerolinecolor": "white",
            "gridwidth": 2
           },
           "yaxis": {
            "backgroundcolor": "#E5ECF6",
            "gridcolor": "white",
            "linecolor": "white",
            "showbackground": true,
            "ticks": "",
            "zerolinecolor": "white",
            "gridwidth": 2
           },
           "zaxis": {
            "backgroundcolor": "#E5ECF6",
            "gridcolor": "white",
            "linecolor": "white",
            "showbackground": true,
            "ticks": "",
            "zerolinecolor": "white",
            "gridwidth": 2
           }
          },
          "shapedefaults": {
           "line": {
            "color": "#2a3f5f"
           }
          },
          "annotationdefaults": {
           "arrowcolor": "#2a3f5f",
           "arrowhead": 0,
           "arrowwidth": 1
          },
          "geo": {
           "bgcolor": "white",
           "landcolor": "#E5ECF6",
           "subunitcolor": "white",
           "showland": true,
           "showlakes": true,
           "lakecolor": "white"
          },
          "title": {
           "x": 0.05
          },
          "mapbox": {
           "style": "light"
          }
         }
        },
        "xaxis": {
         "anchor": "y",
         "domain": [
          0.0,
          0.07438016528925619
         ],
         "matches": "x111",
         "showticklabels": false,
         "range": [
          0.7441305089421173,
          0.8029823391356168
         ]
        },
        "yaxis": {
         "anchor": "x",
         "domain": [
          0.9338842975206612,
          1.0
         ],
         "range": [
          0.7441305089421173,
          0.8029823391356168
         ],
         "title": {
          "text": "colsample_bytree"
         }
        },
        "xaxis2": {
         "anchor": "y2",
         "domain": [
          0.09256198347107437,
          0.16694214876033056
         ],
         "matches": "x112",
         "showticklabels": false,
         "range": [
          -0.05,
          1.05
         ],
         "type": "category"
        },
        "yaxis2": {
         "anchor": "x2",
         "domain": [
          0.9338842975206612,
          1.0
         ],
         "matches": "y",
         "showticklabels": false,
         "range": [
          0.7441305089421173,
          0.8029823391356168
         ]
        },
        "xaxis3": {
         "anchor": "y3",
         "domain": [
          0.18512396694214875,
          0.25950413223140495
         ],
         "matches": "x113",
         "showticklabels": false,
         "range": [
          -2.036617505215926,
          -1.002269893036472
         ],
         "type": "log"
        },
        "yaxis3": {
         "anchor": "x3",
         "domain": [
          0.9338842975206612,
          1.0
         ],
         "matches": "y",
         "showticklabels": false,
         "range": [
          0.7441305089421173,
          0.8029823391356168
         ]
        },
        "xaxis4": {
         "anchor": "y4",
         "domain": [
          0.27768595041322314,
          0.3520661157024793
         ],
         "matches": "x114",
         "showticklabels": false,
         "range": [
          313.6,
          454.4
         ]
        },
        "yaxis4": {
         "anchor": "x4",
         "domain": [
          0.9338842975206612,
          1.0
         ],
         "matches": "y",
         "showticklabels": false,
         "range": [
          0.7441305089421173,
          0.8029823391356168
         ]
        },
        "xaxis5": {
         "anchor": "y5",
         "domain": [
          0.3702479338842975,
          0.44462809917355367
         ],
         "matches": "x115",
         "showticklabels": false,
         "range": [
          2.75,
          8.25
         ]
        },
        "yaxis5": {
         "anchor": "x5",
         "domain": [
          0.9338842975206612,
          1.0
         ],
         "matches": "y",
         "showticklabels": false,
         "range": [
          0.7441305089421173,
          0.8029823391356168
         ]
        },
        "xaxis6": {
         "anchor": "y6",
         "domain": [
          0.46280991735537186,
          0.5371900826446281
         ],
         "matches": "x116",
         "showticklabels": false,
         "range": [
          51.2,
          332.8
         ]
        },
        "yaxis6": {
         "anchor": "x6",
         "domain": [
          0.9338842975206612,
          1.0
         ],
         "matches": "y",
         "showticklabels": false,
         "range": [
          0.7441305089421173,
          0.8029823391356168
         ]
        },
        "xaxis7": {
         "anchor": "y7",
         "domain": [
          0.5553719008264463,
          0.6297520661157024
         ],
         "matches": "x117",
         "showticklabels": false,
         "range": [
          1.6269582925192225,
          9.43673060736268
         ]
        },
        "yaxis7": {
         "anchor": "x7",
         "domain": [
          0.9338842975206612,
          1.0
         ],
         "matches": "y",
         "showticklabels": false,
         "range": [
          0.7441305089421173,
          0.8029823391356168
         ]
        },
        "xaxis8": {
         "anchor": "y8",
         "domain": [
          0.6479338842975206,
          0.7223140495867768
         ],
         "matches": "x118",
         "showticklabels": false,
         "range": [
          490.0,
          710.0
         ]
        },
        "yaxis8": {
         "anchor": "x8",
         "domain": [
          0.9338842975206612,
          1.0
         ],
         "matches": "y",
         "showticklabels": false,
         "range": [
          0.7441305089421173,
          0.8029823391356168
         ]
        },
        "xaxis9": {
         "anchor": "y9",
         "domain": [
          0.740495867768595,
          0.8148760330578512
         ],
         "matches": "x119",
         "showticklabels": false,
         "range": [
          0.036460834526854294,
          0.5121619426364479
         ]
        },
        "yaxis9": {
         "anchor": "x9",
         "domain": [
          0.9338842975206612,
          1.0
         ],
         "matches": "y",
         "showticklabels": false,
         "range": [
          0.7441305089421173,
          0.8029823391356168
         ]
        },
        "xaxis10": {
         "anchor": "y10",
         "domain": [
          0.8330578512396694,
          0.9074380165289255
         ],
         "matches": "x120",
         "showticklabels": false,
         "range": [
          1.333194896626715,
          4.487647315138633
         ]
        },
        "yaxis10": {
         "anchor": "x10",
         "domain": [
          0.9338842975206612,
          1.0
         ],
         "matches": "y",
         "showticklabels": false,
         "range": [
          0.7441305089421173,
          0.8029823391356168
         ]
        },
        "xaxis11": {
         "anchor": "y11",
         "domain": [
          0.9256198347107437,
          0.9999999999999999
         ],
         "matches": "x121",
         "showticklabels": false,
         "range": [
          0.8090585347349498,
          0.9750408825166368
         ]
        },
        "yaxis11": {
         "anchor": "x11",
         "domain": [
          0.9338842975206612,
          1.0
         ],
         "matches": "y",
         "showticklabels": false,
         "range": [
          0.7441305089421173,
          0.8029823391356168
         ]
        },
        "xaxis12": {
         "anchor": "y12",
         "domain": [
          0.0,
          0.07438016528925619
         ],
         "matches": "x111",
         "showticklabels": false,
         "range": [
          0.7441305089421173,
          0.8029823391356168
         ]
        },
        "yaxis12": {
         "anchor": "x12",
         "domain": [
          0.8404958677685951,
          0.9066115702479339
         ],
         "range": [
          -0.05,
          1.05
         ],
         "type": "category",
         "title": {
          "text": "grow_policy"
         }
        },
        "xaxis13": {
         "anchor": "y13",
         "domain": [
          0.09256198347107437,
          0.16694214876033056
         ],
         "matches": "x112",
         "showticklabels": false,
         "range": [
          -0.05,
          1.05
         ],
         "type": "category"
        },
        "yaxis13": {
         "anchor": "x13",
         "domain": [
          0.8404958677685951,
          0.9066115702479339
         ],
         "matches": "y12",
         "showticklabels": false,
         "range": [
          -0.05,
          1.05
         ],
         "type": "category"
        },
        "xaxis14": {
         "anchor": "y14",
         "domain": [
          0.18512396694214875,
          0.25950413223140495
         ],
         "matches": "x113",
         "showticklabels": false,
         "range": [
          -2.036617505215926,
          -1.002269893036472
         ],
         "type": "log"
        },
        "yaxis14": {
         "anchor": "x14",
         "domain": [
          0.8404958677685951,
          0.9066115702479339
         ],
         "matches": "y12",
         "showticklabels": false,
         "range": [
          -0.05,
          1.05
         ],
         "type": "category"
        },
        "xaxis15": {
         "anchor": "y15",
         "domain": [
          0.27768595041322314,
          0.3520661157024793
         ],
         "matches": "x114",
         "showticklabels": false,
         "range": [
          313.6,
          454.4
         ]
        },
        "yaxis15": {
         "anchor": "x15",
         "domain": [
          0.8404958677685951,
          0.9066115702479339
         ],
         "matches": "y12",
         "showticklabels": false,
         "range": [
          -0.05,
          1.05
         ],
         "type": "category"
        },
        "xaxis16": {
         "anchor": "y16",
         "domain": [
          0.3702479338842975,
          0.44462809917355367
         ],
         "matches": "x115",
         "showticklabels": false,
         "range": [
          2.75,
          8.25
         ]
        },
        "yaxis16": {
         "anchor": "x16",
         "domain": [
          0.8404958677685951,
          0.9066115702479339
         ],
         "matches": "y12",
         "showticklabels": false,
         "range": [
          -0.05,
          1.05
         ],
         "type": "category"
        },
        "xaxis17": {
         "anchor": "y17",
         "domain": [
          0.46280991735537186,
          0.5371900826446281
         ],
         "matches": "x116",
         "showticklabels": false,
         "range": [
          51.2,
          332.8
         ]
        },
        "yaxis17": {
         "anchor": "x17",
         "domain": [
          0.8404958677685951,
          0.9066115702479339
         ],
         "matches": "y12",
         "showticklabels": false,
         "range": [
          -0.05,
          1.05
         ],
         "type": "category"
        },
        "xaxis18": {
         "anchor": "y18",
         "domain": [
          0.5553719008264463,
          0.6297520661157024
         ],
         "matches": "x117",
         "showticklabels": false,
         "range": [
          1.6269582925192225,
          9.43673060736268
         ]
        },
        "yaxis18": {
         "anchor": "x18",
         "domain": [
          0.8404958677685951,
          0.9066115702479339
         ],
         "matches": "y12",
         "showticklabels": false,
         "range": [
          -0.05,
          1.05
         ],
         "type": "category"
        },
        "xaxis19": {
         "anchor": "y19",
         "domain": [
          0.6479338842975206,
          0.7223140495867768
         ],
         "matches": "x118",
         "showticklabels": false,
         "range": [
          490.0,
          710.0
         ]
        },
        "yaxis19": {
         "anchor": "x19",
         "domain": [
          0.8404958677685951,
          0.9066115702479339
         ],
         "matches": "y12",
         "showticklabels": false,
         "range": [
          -0.05,
          1.05
         ],
         "type": "category"
        },
        "xaxis20": {
         "anchor": "y20",
         "domain": [
          0.740495867768595,
          0.8148760330578512
         ],
         "matches": "x119",
         "showticklabels": false,
         "range": [
          0.036460834526854294,
          0.5121619426364479
         ]
        },
        "yaxis20": {
         "anchor": "x20",
         "domain": [
          0.8404958677685951,
          0.9066115702479339
         ],
         "matches": "y12",
         "showticklabels": false,
         "range": [
          -0.05,
          1.05
         ],
         "type": "category"
        },
        "xaxis21": {
         "anchor": "y21",
         "domain": [
          0.8330578512396694,
          0.9074380165289255
         ],
         "matches": "x120",
         "showticklabels": false,
         "range": [
          1.333194896626715,
          4.487647315138633
         ]
        },
        "yaxis21": {
         "anchor": "x21",
         "domain": [
          0.8404958677685951,
          0.9066115702479339
         ],
         "matches": "y12",
         "showticklabels": false,
         "range": [
          -0.05,
          1.05
         ],
         "type": "category"
        },
        "xaxis22": {
         "anchor": "y22",
         "domain": [
          0.9256198347107437,
          0.9999999999999999
         ],
         "matches": "x121",
         "showticklabels": false,
         "range": [
          0.8090585347349498,
          0.9750408825166368
         ]
        },
        "yaxis22": {
         "anchor": "x22",
         "domain": [
          0.8404958677685951,
          0.9066115702479339
         ],
         "matches": "y12",
         "showticklabels": false,
         "range": [
          -0.05,
          1.05
         ],
         "type": "category"
        },
        "xaxis23": {
         "anchor": "y23",
         "domain": [
          0.0,
          0.07438016528925619
         ],
         "matches": "x111",
         "showticklabels": false,
         "range": [
          0.7441305089421173,
          0.8029823391356168
         ]
        },
        "yaxis23": {
         "anchor": "x23",
         "domain": [
          0.7471074380165289,
          0.8132231404958677
         ],
         "range": [
          -2.036617505215926,
          -1.002269893036472
         ],
         "type": "log",
         "title": {
          "text": "learning_rate"
         }
        },
        "xaxis24": {
         "anchor": "y24",
         "domain": [
          0.09256198347107437,
          0.16694214876033056
         ],
         "matches": "x112",
         "showticklabels": false,
         "range": [
          -0.05,
          1.05
         ],
         "type": "category"
        },
        "yaxis24": {
         "anchor": "x24",
         "domain": [
          0.7471074380165289,
          0.8132231404958677
         ],
         "matches": "y23",
         "showticklabels": false,
         "range": [
          -2.036617505215926,
          -1.002269893036472
         ],
         "type": "log"
        },
        "xaxis25": {
         "anchor": "y25",
         "domain": [
          0.18512396694214875,
          0.25950413223140495
         ],
         "matches": "x113",
         "showticklabels": false,
         "range": [
          -2.036617505215926,
          -1.002269893036472
         ],
         "type": "log"
        },
        "yaxis25": {
         "anchor": "x25",
         "domain": [
          0.7471074380165289,
          0.8132231404958677
         ],
         "matches": "y23",
         "showticklabels": false,
         "range": [
          -2.036617505215926,
          -1.002269893036472
         ],
         "type": "log"
        },
        "xaxis26": {
         "anchor": "y26",
         "domain": [
          0.27768595041322314,
          0.3520661157024793
         ],
         "matches": "x114",
         "showticklabels": false,
         "range": [
          313.6,
          454.4
         ]
        },
        "yaxis26": {
         "anchor": "x26",
         "domain": [
          0.7471074380165289,
          0.8132231404958677
         ],
         "matches": "y23",
         "showticklabels": false,
         "range": [
          -2.036617505215926,
          -1.002269893036472
         ],
         "type": "log"
        },
        "xaxis27": {
         "anchor": "y27",
         "domain": [
          0.3702479338842975,
          0.44462809917355367
         ],
         "matches": "x115",
         "showticklabels": false,
         "range": [
          2.75,
          8.25
         ]
        },
        "yaxis27": {
         "anchor": "x27",
         "domain": [
          0.7471074380165289,
          0.8132231404958677
         ],
         "matches": "y23",
         "showticklabels": false,
         "range": [
          -2.036617505215926,
          -1.002269893036472
         ],
         "type": "log"
        },
        "xaxis28": {
         "anchor": "y28",
         "domain": [
          0.46280991735537186,
          0.5371900826446281
         ],
         "matches": "x116",
         "showticklabels": false,
         "range": [
          51.2,
          332.8
         ]
        },
        "yaxis28": {
         "anchor": "x28",
         "domain": [
          0.7471074380165289,
          0.8132231404958677
         ],
         "matches": "y23",
         "showticklabels": false,
         "range": [
          -2.036617505215926,
          -1.002269893036472
         ],
         "type": "log"
        },
        "xaxis29": {
         "anchor": "y29",
         "domain": [
          0.5553719008264463,
          0.6297520661157024
         ],
         "matches": "x117",
         "showticklabels": false,
         "range": [
          1.6269582925192225,
          9.43673060736268
         ]
        },
        "yaxis29": {
         "anchor": "x29",
         "domain": [
          0.7471074380165289,
          0.8132231404958677
         ],
         "matches": "y23",
         "showticklabels": false,
         "range": [
          -2.036617505215926,
          -1.002269893036472
         ],
         "type": "log"
        },
        "xaxis30": {
         "anchor": "y30",
         "domain": [
          0.6479338842975206,
          0.7223140495867768
         ],
         "matches": "x118",
         "showticklabels": false,
         "range": [
          490.0,
          710.0
         ]
        },
        "yaxis30": {
         "anchor": "x30",
         "domain": [
          0.7471074380165289,
          0.8132231404958677
         ],
         "matches": "y23",
         "showticklabels": false,
         "range": [
          -2.036617505215926,
          -1.002269893036472
         ],
         "type": "log"
        },
        "xaxis31": {
         "anchor": "y31",
         "domain": [
          0.740495867768595,
          0.8148760330578512
         ],
         "matches": "x119",
         "showticklabels": false,
         "range": [
          0.036460834526854294,
          0.5121619426364479
         ]
        },
        "yaxis31": {
         "anchor": "x31",
         "domain": [
          0.7471074380165289,
          0.8132231404958677
         ],
         "matches": "y23",
         "showticklabels": false,
         "range": [
          -2.036617505215926,
          -1.002269893036472
         ],
         "type": "log"
        },
        "xaxis32": {
         "anchor": "y32",
         "domain": [
          0.8330578512396694,
          0.9074380165289255
         ],
         "matches": "x120",
         "showticklabels": false,
         "range": [
          1.333194896626715,
          4.487647315138633
         ]
        },
        "yaxis32": {
         "anchor": "x32",
         "domain": [
          0.7471074380165289,
          0.8132231404958677
         ],
         "matches": "y23",
         "showticklabels": false,
         "range": [
          -2.036617505215926,
          -1.002269893036472
         ],
         "type": "log"
        },
        "xaxis33": {
         "anchor": "y33",
         "domain": [
          0.9256198347107437,
          0.9999999999999999
         ],
         "matches": "x121",
         "showticklabels": false,
         "range": [
          0.8090585347349498,
          0.9750408825166368
         ]
        },
        "yaxis33": {
         "anchor": "x33",
         "domain": [
          0.7471074380165289,
          0.8132231404958677
         ],
         "matches": "y23",
         "showticklabels": false,
         "range": [
          -2.036617505215926,
          -1.002269893036472
         ],
         "type": "log"
        },
        "xaxis34": {
         "anchor": "y34",
         "domain": [
          0.0,
          0.07438016528925619
         ],
         "matches": "x111",
         "showticklabels": false,
         "range": [
          0.7441305089421173,
          0.8029823391356168
         ]
        },
        "yaxis34": {
         "anchor": "x34",
         "domain": [
          0.6537190082644628,
          0.7198347107438017
         ],
         "range": [
          313.6,
          454.4
         ],
         "title": {
          "text": "max_bin"
         }
        },
        "xaxis35": {
         "anchor": "y35",
         "domain": [
          0.09256198347107437,
          0.16694214876033056
         ],
         "matches": "x112",
         "showticklabels": false,
         "range": [
          -0.05,
          1.05
         ],
         "type": "category"
        },
        "yaxis35": {
         "anchor": "x35",
         "domain": [
          0.6537190082644628,
          0.7198347107438017
         ],
         "matches": "y34",
         "showticklabels": false,
         "range": [
          313.6,
          454.4
         ]
        },
        "xaxis36": {
         "anchor": "y36",
         "domain": [
          0.18512396694214875,
          0.25950413223140495
         ],
         "matches": "x113",
         "showticklabels": false,
         "range": [
          -2.036617505215926,
          -1.002269893036472
         ],
         "type": "log"
        },
        "yaxis36": {
         "anchor": "x36",
         "domain": [
          0.6537190082644628,
          0.7198347107438017
         ],
         "matches": "y34",
         "showticklabels": false,
         "range": [
          313.6,
          454.4
         ]
        },
        "xaxis37": {
         "anchor": "y37",
         "domain": [
          0.27768595041322314,
          0.3520661157024793
         ],
         "matches": "x114",
         "showticklabels": false,
         "range": [
          313.6,
          454.4
         ]
        },
        "yaxis37": {
         "anchor": "x37",
         "domain": [
          0.6537190082644628,
          0.7198347107438017
         ],
         "matches": "y34",
         "showticklabels": false,
         "range": [
          313.6,
          454.4
         ]
        },
        "xaxis38": {
         "anchor": "y38",
         "domain": [
          0.3702479338842975,
          0.44462809917355367
         ],
         "matches": "x115",
         "showticklabels": false,
         "range": [
          2.75,
          8.25
         ]
        },
        "yaxis38": {
         "anchor": "x38",
         "domain": [
          0.6537190082644628,
          0.7198347107438017
         ],
         "matches": "y34",
         "showticklabels": false,
         "range": [
          313.6,
          454.4
         ]
        },
        "xaxis39": {
         "anchor": "y39",
         "domain": [
          0.46280991735537186,
          0.5371900826446281
         ],
         "matches": "x116",
         "showticklabels": false,
         "range": [
          51.2,
          332.8
         ]
        },
        "yaxis39": {
         "anchor": "x39",
         "domain": [
          0.6537190082644628,
          0.7198347107438017
         ],
         "matches": "y34",
         "showticklabels": false,
         "range": [
          313.6,
          454.4
         ]
        },
        "xaxis40": {
         "anchor": "y40",
         "domain": [
          0.5553719008264463,
          0.6297520661157024
         ],
         "matches": "x117",
         "showticklabels": false,
         "range": [
          1.6269582925192225,
          9.43673060736268
         ]
        },
        "yaxis40": {
         "anchor": "x40",
         "domain": [
          0.6537190082644628,
          0.7198347107438017
         ],
         "matches": "y34",
         "showticklabels": false,
         "range": [
          313.6,
          454.4
         ]
        },
        "xaxis41": {
         "anchor": "y41",
         "domain": [
          0.6479338842975206,
          0.7223140495867768
         ],
         "matches": "x118",
         "showticklabels": false,
         "range": [
          490.0,
          710.0
         ]
        },
        "yaxis41": {
         "anchor": "x41",
         "domain": [
          0.6537190082644628,
          0.7198347107438017
         ],
         "matches": "y34",
         "showticklabels": false,
         "range": [
          313.6,
          454.4
         ]
        },
        "xaxis42": {
         "anchor": "y42",
         "domain": [
          0.740495867768595,
          0.8148760330578512
         ],
         "matches": "x119",
         "showticklabels": false,
         "range": [
          0.036460834526854294,
          0.5121619426364479
         ]
        },
        "yaxis42": {
         "anchor": "x42",
         "domain": [
          0.6537190082644628,
          0.7198347107438017
         ],
         "matches": "y34",
         "showticklabels": false,
         "range": [
          313.6,
          454.4
         ]
        },
        "xaxis43": {
         "anchor": "y43",
         "domain": [
          0.8330578512396694,
          0.9074380165289255
         ],
         "matches": "x120",
         "showticklabels": false,
         "range": [
          1.333194896626715,
          4.487647315138633
         ]
        },
        "yaxis43": {
         "anchor": "x43",
         "domain": [
          0.6537190082644628,
          0.7198347107438017
         ],
         "matches": "y34",
         "showticklabels": false,
         "range": [
          313.6,
          454.4
         ]
        },
        "xaxis44": {
         "anchor": "y44",
         "domain": [
          0.9256198347107437,
          0.9999999999999999
         ],
         "matches": "x121",
         "showticklabels": false,
         "range": [
          0.8090585347349498,
          0.9750408825166368
         ]
        },
        "yaxis44": {
         "anchor": "x44",
         "domain": [
          0.6537190082644628,
          0.7198347107438017
         ],
         "matches": "y34",
         "showticklabels": false,
         "range": [
          313.6,
          454.4
         ]
        },
        "xaxis45": {
         "anchor": "y45",
         "domain": [
          0.0,
          0.07438016528925619
         ],
         "matches": "x111",
         "showticklabels": false,
         "range": [
          0.7441305089421173,
          0.8029823391356168
         ]
        },
        "yaxis45": {
         "anchor": "x45",
         "domain": [
          0.5603305785123966,
          0.6264462809917355
         ],
         "range": [
          2.75,
          8.25
         ],
         "title": {
          "text": "max_depth"
         }
        },
        "xaxis46": {
         "anchor": "y46",
         "domain": [
          0.09256198347107437,
          0.16694214876033056
         ],
         "matches": "x112",
         "showticklabels": false,
         "range": [
          -0.05,
          1.05
         ],
         "type": "category"
        },
        "yaxis46": {
         "anchor": "x46",
         "domain": [
          0.5603305785123966,
          0.6264462809917355
         ],
         "matches": "y45",
         "showticklabels": false,
         "range": [
          2.75,
          8.25
         ]
        },
        "xaxis47": {
         "anchor": "y47",
         "domain": [
          0.18512396694214875,
          0.25950413223140495
         ],
         "matches": "x113",
         "showticklabels": false,
         "range": [
          -2.036617505215926,
          -1.002269893036472
         ],
         "type": "log"
        },
        "yaxis47": {
         "anchor": "x47",
         "domain": [
          0.5603305785123966,
          0.6264462809917355
         ],
         "matches": "y45",
         "showticklabels": false,
         "range": [
          2.75,
          8.25
         ]
        },
        "xaxis48": {
         "anchor": "y48",
         "domain": [
          0.27768595041322314,
          0.3520661157024793
         ],
         "matches": "x114",
         "showticklabels": false,
         "range": [
          313.6,
          454.4
         ]
        },
        "yaxis48": {
         "anchor": "x48",
         "domain": [
          0.5603305785123966,
          0.6264462809917355
         ],
         "matches": "y45",
         "showticklabels": false,
         "range": [
          2.75,
          8.25
         ]
        },
        "xaxis49": {
         "anchor": "y49",
         "domain": [
          0.3702479338842975,
          0.44462809917355367
         ],
         "matches": "x115",
         "showticklabels": false,
         "range": [
          2.75,
          8.25
         ]
        },
        "yaxis49": {
         "anchor": "x49",
         "domain": [
          0.5603305785123966,
          0.6264462809917355
         ],
         "matches": "y45",
         "showticklabels": false,
         "range": [
          2.75,
          8.25
         ]
        },
        "xaxis50": {
         "anchor": "y50",
         "domain": [
          0.46280991735537186,
          0.5371900826446281
         ],
         "matches": "x116",
         "showticklabels": false,
         "range": [
          51.2,
          332.8
         ]
        },
        "yaxis50": {
         "anchor": "x50",
         "domain": [
          0.5603305785123966,
          0.6264462809917355
         ],
         "matches": "y45",
         "showticklabels": false,
         "range": [
          2.75,
          8.25
         ]
        },
        "xaxis51": {
         "anchor": "y51",
         "domain": [
          0.5553719008264463,
          0.6297520661157024
         ],
         "matches": "x117",
         "showticklabels": false,
         "range": [
          1.6269582925192225,
          9.43673060736268
         ]
        },
        "yaxis51": {
         "anchor": "x51",
         "domain": [
          0.5603305785123966,
          0.6264462809917355
         ],
         "matches": "y45",
         "showticklabels": false,
         "range": [
          2.75,
          8.25
         ]
        },
        "xaxis52": {
         "anchor": "y52",
         "domain": [
          0.6479338842975206,
          0.7223140495867768
         ],
         "matches": "x118",
         "showticklabels": false,
         "range": [
          490.0,
          710.0
         ]
        },
        "yaxis52": {
         "anchor": "x52",
         "domain": [
          0.5603305785123966,
          0.6264462809917355
         ],
         "matches": "y45",
         "showticklabels": false,
         "range": [
          2.75,
          8.25
         ]
        },
        "xaxis53": {
         "anchor": "y53",
         "domain": [
          0.740495867768595,
          0.8148760330578512
         ],
         "matches": "x119",
         "showticklabels": false,
         "range": [
          0.036460834526854294,
          0.5121619426364479
         ]
        },
        "yaxis53": {
         "anchor": "x53",
         "domain": [
          0.5603305785123966,
          0.6264462809917355
         ],
         "matches": "y45",
         "showticklabels": false,
         "range": [
          2.75,
          8.25
         ]
        },
        "xaxis54": {
         "anchor": "y54",
         "domain": [
          0.8330578512396694,
          0.9074380165289255
         ],
         "matches": "x120",
         "showticklabels": false,
         "range": [
          1.333194896626715,
          4.487647315138633
         ]
        },
        "yaxis54": {
         "anchor": "x54",
         "domain": [
          0.5603305785123966,
          0.6264462809917355
         ],
         "matches": "y45",
         "showticklabels": false,
         "range": [
          2.75,
          8.25
         ]
        },
        "xaxis55": {
         "anchor": "y55",
         "domain": [
          0.9256198347107437,
          0.9999999999999999
         ],
         "matches": "x121",
         "showticklabels": false,
         "range": [
          0.8090585347349498,
          0.9750408825166368
         ]
        },
        "yaxis55": {
         "anchor": "x55",
         "domain": [
          0.5603305785123966,
          0.6264462809917355
         ],
         "matches": "y45",
         "showticklabels": false,
         "range": [
          2.75,
          8.25
         ]
        },
        "xaxis56": {
         "anchor": "y56",
         "domain": [
          0.0,
          0.07438016528925619
         ],
         "matches": "x111",
         "showticklabels": false,
         "range": [
          0.7441305089421173,
          0.8029823391356168
         ]
        },
        "yaxis56": {
         "anchor": "x56",
         "domain": [
          0.4669421487603306,
          0.5330578512396694
         ],
         "range": [
          51.2,
          332.8
         ],
         "title": {
          "text": "max_leaves"
         }
        },
        "xaxis57": {
         "anchor": "y57",
         "domain": [
          0.09256198347107437,
          0.16694214876033056
         ],
         "matches": "x112",
         "showticklabels": false,
         "range": [
          -0.05,
          1.05
         ],
         "type": "category"
        },
        "yaxis57": {
         "anchor": "x57",
         "domain": [
          0.4669421487603306,
          0.5330578512396694
         ],
         "matches": "y56",
         "showticklabels": false,
         "range": [
          51.2,
          332.8
         ]
        },
        "xaxis58": {
         "anchor": "y58",
         "domain": [
          0.18512396694214875,
          0.25950413223140495
         ],
         "matches": "x113",
         "showticklabels": false,
         "range": [
          -2.036617505215926,
          -1.002269893036472
         ],
         "type": "log"
        },
        "yaxis58": {
         "anchor": "x58",
         "domain": [
          0.4669421487603306,
          0.5330578512396694
         ],
         "matches": "y56",
         "showticklabels": false,
         "range": [
          51.2,
          332.8
         ]
        },
        "xaxis59": {
         "anchor": "y59",
         "domain": [
          0.27768595041322314,
          0.3520661157024793
         ],
         "matches": "x114",
         "showticklabels": false,
         "range": [
          313.6,
          454.4
         ]
        },
        "yaxis59": {
         "anchor": "x59",
         "domain": [
          0.4669421487603306,
          0.5330578512396694
         ],
         "matches": "y56",
         "showticklabels": false,
         "range": [
          51.2,
          332.8
         ]
        },
        "xaxis60": {
         "anchor": "y60",
         "domain": [
          0.3702479338842975,
          0.44462809917355367
         ],
         "matches": "x115",
         "showticklabels": false,
         "range": [
          2.75,
          8.25
         ]
        },
        "yaxis60": {
         "anchor": "x60",
         "domain": [
          0.4669421487603306,
          0.5330578512396694
         ],
         "matches": "y56",
         "showticklabels": false,
         "range": [
          51.2,
          332.8
         ]
        },
        "xaxis61": {
         "anchor": "y61",
         "domain": [
          0.46280991735537186,
          0.5371900826446281
         ],
         "matches": "x116",
         "showticklabels": false,
         "range": [
          51.2,
          332.8
         ]
        },
        "yaxis61": {
         "anchor": "x61",
         "domain": [
          0.4669421487603306,
          0.5330578512396694
         ],
         "matches": "y56",
         "showticklabels": false,
         "range": [
          51.2,
          332.8
         ]
        },
        "xaxis62": {
         "anchor": "y62",
         "domain": [
          0.5553719008264463,
          0.6297520661157024
         ],
         "matches": "x117",
         "showticklabels": false,
         "range": [
          1.6269582925192225,
          9.43673060736268
         ]
        },
        "yaxis62": {
         "anchor": "x62",
         "domain": [
          0.4669421487603306,
          0.5330578512396694
         ],
         "matches": "y56",
         "showticklabels": false,
         "range": [
          51.2,
          332.8
         ]
        },
        "xaxis63": {
         "anchor": "y63",
         "domain": [
          0.6479338842975206,
          0.7223140495867768
         ],
         "matches": "x118",
         "showticklabels": false,
         "range": [
          490.0,
          710.0
         ]
        },
        "yaxis63": {
         "anchor": "x63",
         "domain": [
          0.4669421487603306,
          0.5330578512396694
         ],
         "matches": "y56",
         "showticklabels": false,
         "range": [
          51.2,
          332.8
         ]
        },
        "xaxis64": {
         "anchor": "y64",
         "domain": [
          0.740495867768595,
          0.8148760330578512
         ],
         "matches": "x119",
         "showticklabels": false,
         "range": [
          0.036460834526854294,
          0.5121619426364479
         ]
        },
        "yaxis64": {
         "anchor": "x64",
         "domain": [
          0.4669421487603306,
          0.5330578512396694
         ],
         "matches": "y56",
         "showticklabels": false,
         "range": [
          51.2,
          332.8
         ]
        },
        "xaxis65": {
         "anchor": "y65",
         "domain": [
          0.8330578512396694,
          0.9074380165289255
         ],
         "matches": "x120",
         "showticklabels": false,
         "range": [
          1.333194896626715,
          4.487647315138633
         ]
        },
        "yaxis65": {
         "anchor": "x65",
         "domain": [
          0.4669421487603306,
          0.5330578512396694
         ],
         "matches": "y56",
         "showticklabels": false,
         "range": [
          51.2,
          332.8
         ]
        },
        "xaxis66": {
         "anchor": "y66",
         "domain": [
          0.9256198347107437,
          0.9999999999999999
         ],
         "matches": "x121",
         "showticklabels": false,
         "range": [
          0.8090585347349498,
          0.9750408825166368
         ]
        },
        "yaxis66": {
         "anchor": "x66",
         "domain": [
          0.4669421487603306,
          0.5330578512396694
         ],
         "matches": "y56",
         "showticklabels": false,
         "range": [
          51.2,
          332.8
         ]
        },
        "xaxis67": {
         "anchor": "y67",
         "domain": [
          0.0,
          0.07438016528925619
         ],
         "matches": "x111",
         "showticklabels": false,
         "range": [
          0.7441305089421173,
          0.8029823391356168
         ]
        },
        "yaxis67": {
         "anchor": "x67",
         "domain": [
          0.37355371900826445,
          0.4396694214876033
         ],
         "range": [
          1.6269582925192225,
          9.43673060736268
         ],
         "title": {
          "text": "min_child_weight"
         }
        },
        "xaxis68": {
         "anchor": "y68",
         "domain": [
          0.09256198347107437,
          0.16694214876033056
         ],
         "matches": "x112",
         "showticklabels": false,
         "range": [
          -0.05,
          1.05
         ],
         "type": "category"
        },
        "yaxis68": {
         "anchor": "x68",
         "domain": [
          0.37355371900826445,
          0.4396694214876033
         ],
         "matches": "y67",
         "showticklabels": false,
         "range": [
          1.6269582925192225,
          9.43673060736268
         ]
        },
        "xaxis69": {
         "anchor": "y69",
         "domain": [
          0.18512396694214875,
          0.25950413223140495
         ],
         "matches": "x113",
         "showticklabels": false,
         "range": [
          -2.036617505215926,
          -1.002269893036472
         ],
         "type": "log"
        },
        "yaxis69": {
         "anchor": "x69",
         "domain": [
          0.37355371900826445,
          0.4396694214876033
         ],
         "matches": "y67",
         "showticklabels": false,
         "range": [
          1.6269582925192225,
          9.43673060736268
         ]
        },
        "xaxis70": {
         "anchor": "y70",
         "domain": [
          0.27768595041322314,
          0.3520661157024793
         ],
         "matches": "x114",
         "showticklabels": false,
         "range": [
          313.6,
          454.4
         ]
        },
        "yaxis70": {
         "anchor": "x70",
         "domain": [
          0.37355371900826445,
          0.4396694214876033
         ],
         "matches": "y67",
         "showticklabels": false,
         "range": [
          1.6269582925192225,
          9.43673060736268
         ]
        },
        "xaxis71": {
         "anchor": "y71",
         "domain": [
          0.3702479338842975,
          0.44462809917355367
         ],
         "matches": "x115",
         "showticklabels": false,
         "range": [
          2.75,
          8.25
         ]
        },
        "yaxis71": {
         "anchor": "x71",
         "domain": [
          0.37355371900826445,
          0.4396694214876033
         ],
         "matches": "y67",
         "showticklabels": false,
         "range": [
          1.6269582925192225,
          9.43673060736268
         ]
        },
        "xaxis72": {
         "anchor": "y72",
         "domain": [
          0.46280991735537186,
          0.5371900826446281
         ],
         "matches": "x116",
         "showticklabels": false,
         "range": [
          51.2,
          332.8
         ]
        },
        "yaxis72": {
         "anchor": "x72",
         "domain": [
          0.37355371900826445,
          0.4396694214876033
         ],
         "matches": "y67",
         "showticklabels": false,
         "range": [
          1.6269582925192225,
          9.43673060736268
         ]
        },
        "xaxis73": {
         "anchor": "y73",
         "domain": [
          0.5553719008264463,
          0.6297520661157024
         ],
         "matches": "x117",
         "showticklabels": false,
         "range": [
          1.6269582925192225,
          9.43673060736268
         ]
        },
        "yaxis73": {
         "anchor": "x73",
         "domain": [
          0.37355371900826445,
          0.4396694214876033
         ],
         "matches": "y67",
         "showticklabels": false,
         "range": [
          1.6269582925192225,
          9.43673060736268
         ]
        },
        "xaxis74": {
         "anchor": "y74",
         "domain": [
          0.6479338842975206,
          0.7223140495867768
         ],
         "matches": "x118",
         "showticklabels": false,
         "range": [
          490.0,
          710.0
         ]
        },
        "yaxis74": {
         "anchor": "x74",
         "domain": [
          0.37355371900826445,
          0.4396694214876033
         ],
         "matches": "y67",
         "showticklabels": false,
         "range": [
          1.6269582925192225,
          9.43673060736268
         ]
        },
        "xaxis75": {
         "anchor": "y75",
         "domain": [
          0.740495867768595,
          0.8148760330578512
         ],
         "matches": "x119",
         "showticklabels": false,
         "range": [
          0.036460834526854294,
          0.5121619426364479
         ]
        },
        "yaxis75": {
         "anchor": "x75",
         "domain": [
          0.37355371900826445,
          0.4396694214876033
         ],
         "matches": "y67",
         "showticklabels": false,
         "range": [
          1.6269582925192225,
          9.43673060736268
         ]
        },
        "xaxis76": {
         "anchor": "y76",
         "domain": [
          0.8330578512396694,
          0.9074380165289255
         ],
         "matches": "x120",
         "showticklabels": false,
         "range": [
          1.333194896626715,
          4.487647315138633
         ]
        },
        "yaxis76": {
         "anchor": "x76",
         "domain": [
          0.37355371900826445,
          0.4396694214876033
         ],
         "matches": "y67",
         "showticklabels": false,
         "range": [
          1.6269582925192225,
          9.43673060736268
         ]
        },
        "xaxis77": {
         "anchor": "y77",
         "domain": [
          0.9256198347107437,
          0.9999999999999999
         ],
         "matches": "x121",
         "showticklabels": false,
         "range": [
          0.8090585347349498,
          0.9750408825166368
         ]
        },
        "yaxis77": {
         "anchor": "x77",
         "domain": [
          0.37355371900826445,
          0.4396694214876033
         ],
         "matches": "y67",
         "showticklabels": false,
         "range": [
          1.6269582925192225,
          9.43673060736268
         ]
        },
        "xaxis78": {
         "anchor": "y78",
         "domain": [
          0.0,
          0.07438016528925619
         ],
         "matches": "x111",
         "showticklabels": false,
         "range": [
          0.7441305089421173,
          0.8029823391356168
         ]
        },
        "yaxis78": {
         "anchor": "x78",
         "domain": [
          0.2801652892561983,
          0.34628099173553717
         ],
         "range": [
          490.0,
          710.0
         ],
         "title": {
          "text": "n_estimators"
         }
        },
        "xaxis79": {
         "anchor": "y79",
         "domain": [
          0.09256198347107437,
          0.16694214876033056
         ],
         "matches": "x112",
         "showticklabels": false,
         "range": [
          -0.05,
          1.05
         ],
         "type": "category"
        },
        "yaxis79": {
         "anchor": "x79",
         "domain": [
          0.2801652892561983,
          0.34628099173553717
         ],
         "matches": "y78",
         "showticklabels": false,
         "range": [
          490.0,
          710.0
         ]
        },
        "xaxis80": {
         "anchor": "y80",
         "domain": [
          0.18512396694214875,
          0.25950413223140495
         ],
         "matches": "x113",
         "showticklabels": false,
         "range": [
          -2.036617505215926,
          -1.002269893036472
         ],
         "type": "log"
        },
        "yaxis80": {
         "anchor": "x80",
         "domain": [
          0.2801652892561983,
          0.34628099173553717
         ],
         "matches": "y78",
         "showticklabels": false,
         "range": [
          490.0,
          710.0
         ]
        },
        "xaxis81": {
         "anchor": "y81",
         "domain": [
          0.27768595041322314,
          0.3520661157024793
         ],
         "matches": "x114",
         "showticklabels": false,
         "range": [
          313.6,
          454.4
         ]
        },
        "yaxis81": {
         "anchor": "x81",
         "domain": [
          0.2801652892561983,
          0.34628099173553717
         ],
         "matches": "y78",
         "showticklabels": false,
         "range": [
          490.0,
          710.0
         ]
        },
        "xaxis82": {
         "anchor": "y82",
         "domain": [
          0.3702479338842975,
          0.44462809917355367
         ],
         "matches": "x115",
         "showticklabels": false,
         "range": [
          2.75,
          8.25
         ]
        },
        "yaxis82": {
         "anchor": "x82",
         "domain": [
          0.2801652892561983,
          0.34628099173553717
         ],
         "matches": "y78",
         "showticklabels": false,
         "range": [
          490.0,
          710.0
         ]
        },
        "xaxis83": {
         "anchor": "y83",
         "domain": [
          0.46280991735537186,
          0.5371900826446281
         ],
         "matches": "x116",
         "showticklabels": false,
         "range": [
          51.2,
          332.8
         ]
        },
        "yaxis83": {
         "anchor": "x83",
         "domain": [
          0.2801652892561983,
          0.34628099173553717
         ],
         "matches": "y78",
         "showticklabels": false,
         "range": [
          490.0,
          710.0
         ]
        },
        "xaxis84": {
         "anchor": "y84",
         "domain": [
          0.5553719008264463,
          0.6297520661157024
         ],
         "matches": "x117",
         "showticklabels": false,
         "range": [
          1.6269582925192225,
          9.43673060736268
         ]
        },
        "yaxis84": {
         "anchor": "x84",
         "domain": [
          0.2801652892561983,
          0.34628099173553717
         ],
         "matches": "y78",
         "showticklabels": false,
         "range": [
          490.0,
          710.0
         ]
        },
        "xaxis85": {
         "anchor": "y85",
         "domain": [
          0.6479338842975206,
          0.7223140495867768
         ],
         "matches": "x118",
         "showticklabels": false,
         "range": [
          490.0,
          710.0
         ]
        },
        "yaxis85": {
         "anchor": "x85",
         "domain": [
          0.2801652892561983,
          0.34628099173553717
         ],
         "matches": "y78",
         "showticklabels": false,
         "range": [
          490.0,
          710.0
         ]
        },
        "xaxis86": {
         "anchor": "y86",
         "domain": [
          0.740495867768595,
          0.8148760330578512
         ],
         "matches": "x119",
         "showticklabels": false,
         "range": [
          0.036460834526854294,
          0.5121619426364479
         ]
        },
        "yaxis86": {
         "anchor": "x86",
         "domain": [
          0.2801652892561983,
          0.34628099173553717
         ],
         "matches": "y78",
         "showticklabels": false,
         "range": [
          490.0,
          710.0
         ]
        },
        "xaxis87": {
         "anchor": "y87",
         "domain": [
          0.8330578512396694,
          0.9074380165289255
         ],
         "matches": "x120",
         "showticklabels": false,
         "range": [
          1.333194896626715,
          4.487647315138633
         ]
        },
        "yaxis87": {
         "anchor": "x87",
         "domain": [
          0.2801652892561983,
          0.34628099173553717
         ],
         "matches": "y78",
         "showticklabels": false,
         "range": [
          490.0,
          710.0
         ]
        },
        "xaxis88": {
         "anchor": "y88",
         "domain": [
          0.9256198347107437,
          0.9999999999999999
         ],
         "matches": "x121",
         "showticklabels": false,
         "range": [
          0.8090585347349498,
          0.9750408825166368
         ]
        },
        "yaxis88": {
         "anchor": "x88",
         "domain": [
          0.2801652892561983,
          0.34628099173553717
         ],
         "matches": "y78",
         "showticklabels": false,
         "range": [
          490.0,
          710.0
         ]
        },
        "xaxis89": {
         "anchor": "y89",
         "domain": [
          0.0,
          0.07438016528925619
         ],
         "matches": "x111",
         "showticklabels": false,
         "range": [
          0.7441305089421173,
          0.8029823391356168
         ]
        },
        "yaxis89": {
         "anchor": "x89",
         "domain": [
          0.18677685950413223,
          0.2528925619834711
         ],
         "range": [
          0.036460834526854294,
          0.5121619426364479
         ],
         "title": {
          "text": "reg_alpha"
         }
        },
        "xaxis90": {
         "anchor": "y90",
         "domain": [
          0.09256198347107437,
          0.16694214876033056
         ],
         "matches": "x112",
         "showticklabels": false,
         "range": [
          -0.05,
          1.05
         ],
         "type": "category"
        },
        "yaxis90": {
         "anchor": "x90",
         "domain": [
          0.18677685950413223,
          0.2528925619834711
         ],
         "matches": "y89",
         "showticklabels": false,
         "range": [
          0.036460834526854294,
          0.5121619426364479
         ]
        },
        "xaxis91": {
         "anchor": "y91",
         "domain": [
          0.18512396694214875,
          0.25950413223140495
         ],
         "matches": "x113",
         "showticklabels": false,
         "range": [
          -2.036617505215926,
          -1.002269893036472
         ],
         "type": "log"
        },
        "yaxis91": {
         "anchor": "x91",
         "domain": [
          0.18677685950413223,
          0.2528925619834711
         ],
         "matches": "y89",
         "showticklabels": false,
         "range": [
          0.036460834526854294,
          0.5121619426364479
         ]
        },
        "xaxis92": {
         "anchor": "y92",
         "domain": [
          0.27768595041322314,
          0.3520661157024793
         ],
         "matches": "x114",
         "showticklabels": false,
         "range": [
          313.6,
          454.4
         ]
        },
        "yaxis92": {
         "anchor": "x92",
         "domain": [
          0.18677685950413223,
          0.2528925619834711
         ],
         "matches": "y89",
         "showticklabels": false,
         "range": [
          0.036460834526854294,
          0.5121619426364479
         ]
        },
        "xaxis93": {
         "anchor": "y93",
         "domain": [
          0.3702479338842975,
          0.44462809917355367
         ],
         "matches": "x115",
         "showticklabels": false,
         "range": [
          2.75,
          8.25
         ]
        },
        "yaxis93": {
         "anchor": "x93",
         "domain": [
          0.18677685950413223,
          0.2528925619834711
         ],
         "matches": "y89",
         "showticklabels": false,
         "range": [
          0.036460834526854294,
          0.5121619426364479
         ]
        },
        "xaxis94": {
         "anchor": "y94",
         "domain": [
          0.46280991735537186,
          0.5371900826446281
         ],
         "matches": "x116",
         "showticklabels": false,
         "range": [
          51.2,
          332.8
         ]
        },
        "yaxis94": {
         "anchor": "x94",
         "domain": [
          0.18677685950413223,
          0.2528925619834711
         ],
         "matches": "y89",
         "showticklabels": false,
         "range": [
          0.036460834526854294,
          0.5121619426364479
         ]
        },
        "xaxis95": {
         "anchor": "y95",
         "domain": [
          0.5553719008264463,
          0.6297520661157024
         ],
         "matches": "x117",
         "showticklabels": false,
         "range": [
          1.6269582925192225,
          9.43673060736268
         ]
        },
        "yaxis95": {
         "anchor": "x95",
         "domain": [
          0.18677685950413223,
          0.2528925619834711
         ],
         "matches": "y89",
         "showticklabels": false,
         "range": [
          0.036460834526854294,
          0.5121619426364479
         ]
        },
        "xaxis96": {
         "anchor": "y96",
         "domain": [
          0.6479338842975206,
          0.7223140495867768
         ],
         "matches": "x118",
         "showticklabels": false,
         "range": [
          490.0,
          710.0
         ]
        },
        "yaxis96": {
         "anchor": "x96",
         "domain": [
          0.18677685950413223,
          0.2528925619834711
         ],
         "matches": "y89",
         "showticklabels": false,
         "range": [
          0.036460834526854294,
          0.5121619426364479
         ]
        },
        "xaxis97": {
         "anchor": "y97",
         "domain": [
          0.740495867768595,
          0.8148760330578512
         ],
         "matches": "x119",
         "showticklabels": false,
         "range": [
          0.036460834526854294,
          0.5121619426364479
         ]
        },
        "yaxis97": {
         "anchor": "x97",
         "domain": [
          0.18677685950413223,
          0.2528925619834711
         ],
         "matches": "y89",
         "showticklabels": false,
         "range": [
          0.036460834526854294,
          0.5121619426364479
         ]
        },
        "xaxis98": {
         "anchor": "y98",
         "domain": [
          0.8330578512396694,
          0.9074380165289255
         ],
         "matches": "x120",
         "showticklabels": false,
         "range": [
          1.333194896626715,
          4.487647315138633
         ]
        },
        "yaxis98": {
         "anchor": "x98",
         "domain": [
          0.18677685950413223,
          0.2528925619834711
         ],
         "matches": "y89",
         "showticklabels": false,
         "range": [
          0.036460834526854294,
          0.5121619426364479
         ]
        },
        "xaxis99": {
         "anchor": "y99",
         "domain": [
          0.9256198347107437,
          0.9999999999999999
         ],
         "matches": "x121",
         "showticklabels": false,
         "range": [
          0.8090585347349498,
          0.9750408825166368
         ]
        },
        "yaxis99": {
         "anchor": "x99",
         "domain": [
          0.18677685950413223,
          0.2528925619834711
         ],
         "matches": "y89",
         "showticklabels": false,
         "range": [
          0.036460834526854294,
          0.5121619426364479
         ]
        },
        "xaxis100": {
         "anchor": "y100",
         "domain": [
          0.0,
          0.07438016528925619
         ],
         "matches": "x111",
         "showticklabels": false,
         "range": [
          0.7441305089421173,
          0.8029823391356168
         ]
        },
        "yaxis100": {
         "anchor": "x100",
         "domain": [
          0.09338842975206611,
          0.15950413223140497
         ],
         "range": [
          1.333194896626715,
          4.487647315138633
         ],
         "title": {
          "text": "reg_lambda"
         }
        },
        "xaxis101": {
         "anchor": "y101",
         "domain": [
          0.09256198347107437,
          0.16694214876033056
         ],
         "matches": "x112",
         "showticklabels": false,
         "range": [
          -0.05,
          1.05
         ],
         "type": "category"
        },
        "yaxis101": {
         "anchor": "x101",
         "domain": [
          0.09338842975206611,
          0.15950413223140497
         ],
         "matches": "y100",
         "showticklabels": false,
         "range": [
          1.333194896626715,
          4.487647315138633
         ]
        },
        "xaxis102": {
         "anchor": "y102",
         "domain": [
          0.18512396694214875,
          0.25950413223140495
         ],
         "matches": "x113",
         "showticklabels": false,
         "range": [
          -2.036617505215926,
          -1.002269893036472
         ],
         "type": "log"
        },
        "yaxis102": {
         "anchor": "x102",
         "domain": [
          0.09338842975206611,
          0.15950413223140497
         ],
         "matches": "y100",
         "showticklabels": false,
         "range": [
          1.333194896626715,
          4.487647315138633
         ]
        },
        "xaxis103": {
         "anchor": "y103",
         "domain": [
          0.27768595041322314,
          0.3520661157024793
         ],
         "matches": "x114",
         "showticklabels": false,
         "range": [
          313.6,
          454.4
         ]
        },
        "yaxis103": {
         "anchor": "x103",
         "domain": [
          0.09338842975206611,
          0.15950413223140497
         ],
         "matches": "y100",
         "showticklabels": false,
         "range": [
          1.333194896626715,
          4.487647315138633
         ]
        },
        "xaxis104": {
         "anchor": "y104",
         "domain": [
          0.3702479338842975,
          0.44462809917355367
         ],
         "matches": "x115",
         "showticklabels": false,
         "range": [
          2.75,
          8.25
         ]
        },
        "yaxis104": {
         "anchor": "x104",
         "domain": [
          0.09338842975206611,
          0.15950413223140497
         ],
         "matches": "y100",
         "showticklabels": false,
         "range": [
          1.333194896626715,
          4.487647315138633
         ]
        },
        "xaxis105": {
         "anchor": "y105",
         "domain": [
          0.46280991735537186,
          0.5371900826446281
         ],
         "matches": "x116",
         "showticklabels": false,
         "range": [
          51.2,
          332.8
         ]
        },
        "yaxis105": {
         "anchor": "x105",
         "domain": [
          0.09338842975206611,
          0.15950413223140497
         ],
         "matches": "y100",
         "showticklabels": false,
         "range": [
          1.333194896626715,
          4.487647315138633
         ]
        },
        "xaxis106": {
         "anchor": "y106",
         "domain": [
          0.5553719008264463,
          0.6297520661157024
         ],
         "matches": "x117",
         "showticklabels": false,
         "range": [
          1.6269582925192225,
          9.43673060736268
         ]
        },
        "yaxis106": {
         "anchor": "x106",
         "domain": [
          0.09338842975206611,
          0.15950413223140497
         ],
         "matches": "y100",
         "showticklabels": false,
         "range": [
          1.333194896626715,
          4.487647315138633
         ]
        },
        "xaxis107": {
         "anchor": "y107",
         "domain": [
          0.6479338842975206,
          0.7223140495867768
         ],
         "matches": "x118",
         "showticklabels": false,
         "range": [
          490.0,
          710.0
         ]
        },
        "yaxis107": {
         "anchor": "x107",
         "domain": [
          0.09338842975206611,
          0.15950413223140497
         ],
         "matches": "y100",
         "showticklabels": false,
         "range": [
          1.333194896626715,
          4.487647315138633
         ]
        },
        "xaxis108": {
         "anchor": "y108",
         "domain": [
          0.740495867768595,
          0.8148760330578512
         ],
         "matches": "x119",
         "showticklabels": false,
         "range": [
          0.036460834526854294,
          0.5121619426364479
         ]
        },
        "yaxis108": {
         "anchor": "x108",
         "domain": [
          0.09338842975206611,
          0.15950413223140497
         ],
         "matches": "y100",
         "showticklabels": false,
         "range": [
          1.333194896626715,
          4.487647315138633
         ]
        },
        "xaxis109": {
         "anchor": "y109",
         "domain": [
          0.8330578512396694,
          0.9074380165289255
         ],
         "matches": "x120",
         "showticklabels": false,
         "range": [
          1.333194896626715,
          4.487647315138633
         ]
        },
        "yaxis109": {
         "anchor": "x109",
         "domain": [
          0.09338842975206611,
          0.15950413223140497
         ],
         "matches": "y100",
         "showticklabels": false,
         "range": [
          1.333194896626715,
          4.487647315138633
         ]
        },
        "xaxis110": {
         "anchor": "y110",
         "domain": [
          0.9256198347107437,
          0.9999999999999999
         ],
         "matches": "x121",
         "showticklabels": false,
         "range": [
          0.8090585347349498,
          0.9750408825166368
         ]
        },
        "yaxis110": {
         "anchor": "x110",
         "domain": [
          0.09338842975206611,
          0.15950413223140497
         ],
         "matches": "y100",
         "showticklabels": false,
         "range": [
          1.333194896626715,
          4.487647315138633
         ]
        },
        "xaxis111": {
         "anchor": "y111",
         "domain": [
          0.0,
          0.07438016528925619
         ],
         "range": [
          0.7441305089421173,
          0.8029823391356168
         ],
         "title": {
          "text": "colsample_bytree"
         }
        },
        "yaxis111": {
         "anchor": "x111",
         "domain": [
          0.0,
          0.06611570247933884
         ],
         "range": [
          0.8090585347349498,
          0.9750408825166368
         ],
         "title": {
          "text": "subsample"
         }
        },
        "xaxis112": {
         "anchor": "y112",
         "domain": [
          0.09256198347107437,
          0.16694214876033056
         ],
         "range": [
          -0.05,
          1.05
         ],
         "type": "category",
         "title": {
          "text": "grow_policy"
         }
        },
        "yaxis112": {
         "anchor": "x112",
         "domain": [
          0.0,
          0.06611570247933884
         ],
         "matches": "y111",
         "showticklabels": false,
         "range": [
          0.8090585347349498,
          0.9750408825166368
         ]
        },
        "xaxis113": {
         "anchor": "y113",
         "domain": [
          0.18512396694214875,
          0.25950413223140495
         ],
         "range": [
          -2.036617505215926,
          -1.002269893036472
         ],
         "type": "log",
         "title": {
          "text": "learning_rate"
         }
        },
        "yaxis113": {
         "anchor": "x113",
         "domain": [
          0.0,
          0.06611570247933884
         ],
         "matches": "y111",
         "showticklabels": false,
         "range": [
          0.8090585347349498,
          0.9750408825166368
         ]
        },
        "xaxis114": {
         "anchor": "y114",
         "domain": [
          0.27768595041322314,
          0.3520661157024793
         ],
         "range": [
          313.6,
          454.4
         ],
         "title": {
          "text": "max_bin"
         }
        },
        "yaxis114": {
         "anchor": "x114",
         "domain": [
          0.0,
          0.06611570247933884
         ],
         "matches": "y111",
         "showticklabels": false,
         "range": [
          0.8090585347349498,
          0.9750408825166368
         ]
        },
        "xaxis115": {
         "anchor": "y115",
         "domain": [
          0.3702479338842975,
          0.44462809917355367
         ],
         "range": [
          2.75,
          8.25
         ],
         "title": {
          "text": "max_depth"
         }
        },
        "yaxis115": {
         "anchor": "x115",
         "domain": [
          0.0,
          0.06611570247933884
         ],
         "matches": "y111",
         "showticklabels": false,
         "range": [
          0.8090585347349498,
          0.9750408825166368
         ]
        },
        "xaxis116": {
         "anchor": "y116",
         "domain": [
          0.46280991735537186,
          0.5371900826446281
         ],
         "range": [
          51.2,
          332.8
         ],
         "title": {
          "text": "max_leaves"
         }
        },
        "yaxis116": {
         "anchor": "x116",
         "domain": [
          0.0,
          0.06611570247933884
         ],
         "matches": "y111",
         "showticklabels": false,
         "range": [
          0.8090585347349498,
          0.9750408825166368
         ]
        },
        "xaxis117": {
         "anchor": "y117",
         "domain": [
          0.5553719008264463,
          0.6297520661157024
         ],
         "range": [
          1.6269582925192225,
          9.43673060736268
         ],
         "title": {
          "text": "min_child_weight"
         }
        },
        "yaxis117": {
         "anchor": "x117",
         "domain": [
          0.0,
          0.06611570247933884
         ],
         "matches": "y111",
         "showticklabels": false,
         "range": [
          0.8090585347349498,
          0.9750408825166368
         ]
        },
        "xaxis118": {
         "anchor": "y118",
         "domain": [
          0.6479338842975206,
          0.7223140495867768
         ],
         "range": [
          490.0,
          710.0
         ],
         "title": {
          "text": "n_estimators"
         }
        },
        "yaxis118": {
         "anchor": "x118",
         "domain": [
          0.0,
          0.06611570247933884
         ],
         "matches": "y111",
         "showticklabels": false,
         "range": [
          0.8090585347349498,
          0.9750408825166368
         ]
        },
        "xaxis119": {
         "anchor": "y119",
         "domain": [
          0.740495867768595,
          0.8148760330578512
         ],
         "range": [
          0.036460834526854294,
          0.5121619426364479
         ],
         "title": {
          "text": "reg_alpha"
         }
        },
        "yaxis119": {
         "anchor": "x119",
         "domain": [
          0.0,
          0.06611570247933884
         ],
         "matches": "y111",
         "showticklabels": false,
         "range": [
          0.8090585347349498,
          0.9750408825166368
         ]
        },
        "xaxis120": {
         "anchor": "y120",
         "domain": [
          0.8330578512396694,
          0.9074380165289255
         ],
         "range": [
          1.333194896626715,
          4.487647315138633
         ],
         "title": {
          "text": "reg_lambda"
         }
        },
        "yaxis120": {
         "anchor": "x120",
         "domain": [
          0.0,
          0.06611570247933884
         ],
         "matches": "y111",
         "showticklabels": false,
         "range": [
          0.8090585347349498,
          0.9750408825166368
         ]
        },
        "xaxis121": {
         "anchor": "y121",
         "domain": [
          0.9256198347107437,
          0.9999999999999999
         ],
         "range": [
          0.8090585347349498,
          0.9750408825166368
         ],
         "title": {
          "text": "subsample"
         }
        },
        "yaxis121": {
         "anchor": "x121",
         "domain": [
          0.0,
          0.06611570247933884
         ],
         "matches": "y111",
         "showticklabels": false,
         "range": [
          0.8090585347349498,
          0.9750408825166368
         ]
        },
        "title": {
         "text": "Contour Plot"
        }
       },
       "config": {
        "plotlyServerURL": "https://plot.ly"
       }
      }
     },
     "metadata": {},
     "output_type": "display_data"
    },
    {
     "data": {
      "application/vnd.plotly.v1+json": {
       "data": [
        {
         "mode": "lines",
         "name": "xgboost",
         "x": {
          "dtype": "f8",
          "bdata": "qzfAO9M6gz/trr5MTT2DPzAmvV3HP4M/cp27bkFCgz+0FLp/u0SDP/eLuJA1R4M/OQO3oa9Jgz97erWyKUyDP73xs8OjToM/AGmy1B1Rgz9C4LDll1ODP4RXr/YRVoM/x86tB4xYgz8JRqwYBluDP0u9qimAXYM/jjSpOvpfgz/Qq6dLdGKDPxIjplzuZIM/VJqkbWhngz+XEaN+4mmDP9mIoY9cbIM/GwCgoNZugz9ed56xUHGDP6DunMLKc4M/4mWb00R2gz8l3ZnkvniDP2dUmPU4e4M/qcuWBrN9gz/rQpUXLYCDPy66kyingoM/cDGSOSGFgz+yqJBKm4eDP/Ufj1sVioM/N5eNbI+Mgz95Dox9CY+DP7yFio6DkYM//vyIn/2Tgz9AdIewd5aDP4PrhcHxmIM/xWKE0mubgz8H2oLj5Z2DP0lRgfRfoIM/jMh/Bdqigz/OP34WVKWDPxC3fCfOp4M/Uy57OEiqgz+VpXlJwqyDP9cceFo8r4M/GpR2a7axgz9cC3V8MLSDP56Cc42qtoM/4PlxniS5gz8jcXCvnruDP2XobsAYvoM/p19t0ZLAgz/q1mviDMODPyxOavOGxYM/bsVoBAHIgz+xPGcVe8qDP/OzZSb1zIM/NStkN2/Pgz94omJI6dGDP7oZYVlj1IM//JBfat3Wgz8+CF57V9mDP4F/XIzR24M/w/ZanUvegz8FblmuxeCDP0jlV78/44M/ilxW0Lnlgz/M01ThM+iDPw9LU/Kt6oM/UcJRAyjtgz+TOVAUou+DP9WwTiUc8oM/GChNNpb0gz9an0tHEPeDP5wWSliK+YM/341IaQT8gz8hBUd6fv6DP2N8RYv4AIQ/pvNDnHIDhD/oakKt7AWEPyriQL5mCIQ/bFk/z+AKhD+v0D3gWg2EP/FHPPHUD4Q/M786Ak8ShD92NjkTyRSEP7itNyRDF4Q/+iQ2Nb0ZhD89nDRGNxyEP38TM1exHoQ/wYoxaCshhD8EAjB5pSOEP0Z5LoofJoQ/iPAsm5kohD/KZyusEyuEPw3fKb2NLYQ/T1YozgcwhD8="
         },
         "y": {
          "dtype": "f8",
          "bdata": "AAAAAAAA0D8AAAAAAADQPwAAAAAAANA/AAAAAAAA0D8AAAAAAADQPwAAAAAAANA/AAAAAAAA0D8AAAAAAADQPwAAAAAAANA/AAAAAAAA0D8AAAAAAADQPwAAAAAAANA/AAAAAAAA0D8AAAAAAADQPwAAAAAAANA/AAAAAAAA0D8AAAAAAADQPwAAAAAAANA/AAAAAAAA0D8AAAAAAADQPwAAAAAAANA/AAAAAAAA0D8AAAAAAADQPwAAAAAAANA/AAAAAAAA0D8AAAAAAADQPwAAAAAAAOA/AAAAAAAA4D8AAAAAAADoPwAAAAAAAOg/AAAAAAAA6D8AAAAAAADoPwAAAAAAAOg/AAAAAAAA6D8AAAAAAADoPwAAAAAAAOg/AAAAAAAA6D8AAAAAAADoPwAAAAAAAOg/AAAAAAAA6D8AAAAAAADoPwAAAAAAAOg/AAAAAAAA6D8AAAAAAADoPwAAAAAAAOg/AAAAAAAA6D8AAAAAAADoPwAAAAAAAOg/AAAAAAAA6D8AAAAAAADoPwAAAAAAAOg/AAAAAAAA6D8AAAAAAADoPwAAAAAAAOg/AAAAAAAA6D8AAAAAAADoPwAAAAAAAOg/AAAAAAAA6D8AAAAAAADoPwAAAAAAAOg/AAAAAAAA6D8AAAAAAADoPwAAAAAAAOg/AAAAAAAA6D8AAAAAAADoPwAAAAAAAOg/AAAAAAAA6D8AAAAAAADoPwAAAAAAAOg/AAAAAAAA6D8AAAAAAADoPwAAAAAAAOg/AAAAAAAA6D8AAAAAAADoPwAAAAAAAOg/AAAAAAAA6D8AAAAAAADoPwAAAAAAAOg/AAAAAAAA6D8AAAAAAADoPwAAAAAAAOg/AAAAAAAA6D8AAAAAAADoPwAAAAAAAOg/AAAAAAAA6D8AAAAAAADoPwAAAAAAAOg/AAAAAAAA6D8AAAAAAADoPwAAAAAAAOg/AAAAAAAA6D8AAAAAAADoPwAAAAAAAOg/AAAAAAAA6D8AAAAAAADoPwAAAAAAAOg/AAAAAAAA6D8AAAAAAADoPwAAAAAAAOg/AAAAAAAA8D8="
         },
         "type": "scatter"
        }
       ],
       "layout": {
        "title": {
         "text": "Empirical Distribution Function Plot"
        },
        "xaxis": {
         "title": {
          "text": "Objective Value"
         }
        },
        "yaxis": {
         "title": {
          "text": "Cumulative Probability"
         },
         "range": [
          0,
          1
         ]
        },
        "template": {
         "data": {
          "histogram2dcontour": [
           {
            "type": "histogram2dcontour",
            "colorbar": {
             "outlinewidth": 0,
             "ticks": ""
            },
            "colorscale": [
             [
              0.0,
              "#0d0887"
             ],
             [
              0.1111111111111111,
              "#46039f"
             ],
             [
              0.2222222222222222,
              "#7201a8"
             ],
             [
              0.3333333333333333,
              "#9c179e"
             ],
             [
              0.4444444444444444,
              "#bd3786"
             ],
             [
              0.5555555555555556,
              "#d8576b"
             ],
             [
              0.6666666666666666,
              "#ed7953"
             ],
             [
              0.7777777777777778,
              "#fb9f3a"
             ],
             [
              0.8888888888888888,
              "#fdca26"
             ],
             [
              1.0,
              "#f0f921"
             ]
            ]
           }
          ],
          "choropleth": [
           {
            "type": "choropleth",
            "colorbar": {
             "outlinewidth": 0,
             "ticks": ""
            }
           }
          ],
          "histogram2d": [
           {
            "type": "histogram2d",
            "colorbar": {
             "outlinewidth": 0,
             "ticks": ""
            },
            "colorscale": [
             [
              0.0,
              "#0d0887"
             ],
             [
              0.1111111111111111,
              "#46039f"
             ],
             [
              0.2222222222222222,
              "#7201a8"
             ],
             [
              0.3333333333333333,
              "#9c179e"
             ],
             [
              0.4444444444444444,
              "#bd3786"
             ],
             [
              0.5555555555555556,
              "#d8576b"
             ],
             [
              0.6666666666666666,
              "#ed7953"
             ],
             [
              0.7777777777777778,
              "#fb9f3a"
             ],
             [
              0.8888888888888888,
              "#fdca26"
             ],
             [
              1.0,
              "#f0f921"
             ]
            ]
           }
          ],
          "heatmap": [
           {
            "type": "heatmap",
            "colorbar": {
             "outlinewidth": 0,
             "ticks": ""
            },
            "colorscale": [
             [
              0.0,
              "#0d0887"
             ],
             [
              0.1111111111111111,
              "#46039f"
             ],
             [
              0.2222222222222222,
              "#7201a8"
             ],
             [
              0.3333333333333333,
              "#9c179e"
             ],
             [
              0.4444444444444444,
              "#bd3786"
             ],
             [
              0.5555555555555556,
              "#d8576b"
             ],
             [
              0.6666666666666666,
              "#ed7953"
             ],
             [
              0.7777777777777778,
              "#fb9f3a"
             ],
             [
              0.8888888888888888,
              "#fdca26"
             ],
             [
              1.0,
              "#f0f921"
             ]
            ]
           }
          ],
          "contourcarpet": [
           {
            "type": "contourcarpet",
            "colorbar": {
             "outlinewidth": 0,
             "ticks": ""
            }
           }
          ],
          "contour": [
           {
            "type": "contour",
            "colorbar": {
             "outlinewidth": 0,
             "ticks": ""
            },
            "colorscale": [
             [
              0.0,
              "#0d0887"
             ],
             [
              0.1111111111111111,
              "#46039f"
             ],
             [
              0.2222222222222222,
              "#7201a8"
             ],
             [
              0.3333333333333333,
              "#9c179e"
             ],
             [
              0.4444444444444444,
              "#bd3786"
             ],
             [
              0.5555555555555556,
              "#d8576b"
             ],
             [
              0.6666666666666666,
              "#ed7953"
             ],
             [
              0.7777777777777778,
              "#fb9f3a"
             ],
             [
              0.8888888888888888,
              "#fdca26"
             ],
             [
              1.0,
              "#f0f921"
             ]
            ]
           }
          ],
          "surface": [
           {
            "type": "surface",
            "colorbar": {
             "outlinewidth": 0,
             "ticks": ""
            },
            "colorscale": [
             [
              0.0,
              "#0d0887"
             ],
             [
              0.1111111111111111,
              "#46039f"
             ],
             [
              0.2222222222222222,
              "#7201a8"
             ],
             [
              0.3333333333333333,
              "#9c179e"
             ],
             [
              0.4444444444444444,
              "#bd3786"
             ],
             [
              0.5555555555555556,
              "#d8576b"
             ],
             [
              0.6666666666666666,
              "#ed7953"
             ],
             [
              0.7777777777777778,
              "#fb9f3a"
             ],
             [
              0.8888888888888888,
              "#fdca26"
             ],
             [
              1.0,
              "#f0f921"
             ]
            ]
           }
          ],
          "mesh3d": [
           {
            "type": "mesh3d",
            "colorbar": {
             "outlinewidth": 0,
             "ticks": ""
            }
           }
          ],
          "scatter": [
           {
            "fillpattern": {
             "fillmode": "overlay",
             "size": 10,
             "solidity": 0.2
            },
            "type": "scatter"
           }
          ],
          "parcoords": [
           {
            "type": "parcoords",
            "line": {
             "colorbar": {
              "outlinewidth": 0,
              "ticks": ""
             }
            }
           }
          ],
          "scatterpolargl": [
           {
            "type": "scatterpolargl",
            "marker": {
             "colorbar": {
              "outlinewidth": 0,
              "ticks": ""
             }
            }
           }
          ],
          "bar": [
           {
            "error_x": {
             "color": "#2a3f5f"
            },
            "error_y": {
             "color": "#2a3f5f"
            },
            "marker": {
             "line": {
              "color": "#E5ECF6",
              "width": 0.5
             },
             "pattern": {
              "fillmode": "overlay",
              "size": 10,
              "solidity": 0.2
             }
            },
            "type": "bar"
           }
          ],
          "scattergeo": [
           {
            "type": "scattergeo",
            "marker": {
             "colorbar": {
              "outlinewidth": 0,
              "ticks": ""
             }
            }
           }
          ],
          "scatterpolar": [
           {
            "type": "scatterpolar",
            "marker": {
             "colorbar": {
              "outlinewidth": 0,
              "ticks": ""
             }
            }
           }
          ],
          "histogram": [
           {
            "marker": {
             "pattern": {
              "fillmode": "overlay",
              "size": 10,
              "solidity": 0.2
             }
            },
            "type": "histogram"
           }
          ],
          "scattergl": [
           {
            "type": "scattergl",
            "marker": {
             "colorbar": {
              "outlinewidth": 0,
              "ticks": ""
             }
            }
           }
          ],
          "scatter3d": [
           {
            "type": "scatter3d",
            "line": {
             "colorbar": {
              "outlinewidth": 0,
              "ticks": ""
             }
            },
            "marker": {
             "colorbar": {
              "outlinewidth": 0,
              "ticks": ""
             }
            }
           }
          ],
          "scattermap": [
           {
            "type": "scattermap",
            "marker": {
             "colorbar": {
              "outlinewidth": 0,
              "ticks": ""
             }
            }
           }
          ],
          "scattermapbox": [
           {
            "type": "scattermapbox",
            "marker": {
             "colorbar": {
              "outlinewidth": 0,
              "ticks": ""
             }
            }
           }
          ],
          "scatterternary": [
           {
            "type": "scatterternary",
            "marker": {
             "colorbar": {
              "outlinewidth": 0,
              "ticks": ""
             }
            }
           }
          ],
          "scattercarpet": [
           {
            "type": "scattercarpet",
            "marker": {
             "colorbar": {
              "outlinewidth": 0,
              "ticks": ""
             }
            }
           }
          ],
          "carpet": [
           {
            "aaxis": {
             "endlinecolor": "#2a3f5f",
             "gridcolor": "white",
             "linecolor": "white",
             "minorgridcolor": "white",
             "startlinecolor": "#2a3f5f"
            },
            "baxis": {
             "endlinecolor": "#2a3f5f",
             "gridcolor": "white",
             "linecolor": "white",
             "minorgridcolor": "white",
             "startlinecolor": "#2a3f5f"
            },
            "type": "carpet"
           }
          ],
          "table": [
           {
            "cells": {
             "fill": {
              "color": "#EBF0F8"
             },
             "line": {
              "color": "white"
             }
            },
            "header": {
             "fill": {
              "color": "#C8D4E3"
             },
             "line": {
              "color": "white"
             }
            },
            "type": "table"
           }
          ],
          "barpolar": [
           {
            "marker": {
             "line": {
              "color": "#E5ECF6",
              "width": 0.5
             },
             "pattern": {
              "fillmode": "overlay",
              "size": 10,
              "solidity": 0.2
             }
            },
            "type": "barpolar"
           }
          ],
          "pie": [
           {
            "automargin": true,
            "type": "pie"
           }
          ]
         },
         "layout": {
          "autotypenumbers": "strict",
          "colorway": [
           "#636efa",
           "#EF553B",
           "#00cc96",
           "#ab63fa",
           "#FFA15A",
           "#19d3f3",
           "#FF6692",
           "#B6E880",
           "#FF97FF",
           "#FECB52"
          ],
          "font": {
           "color": "#2a3f5f"
          },
          "hovermode": "closest",
          "hoverlabel": {
           "align": "left"
          },
          "paper_bgcolor": "white",
          "plot_bgcolor": "#E5ECF6",
          "polar": {
           "bgcolor": "#E5ECF6",
           "angularaxis": {
            "gridcolor": "white",
            "linecolor": "white",
            "ticks": ""
           },
           "radialaxis": {
            "gridcolor": "white",
            "linecolor": "white",
            "ticks": ""
           }
          },
          "ternary": {
           "bgcolor": "#E5ECF6",
           "aaxis": {
            "gridcolor": "white",
            "linecolor": "white",
            "ticks": ""
           },
           "baxis": {
            "gridcolor": "white",
            "linecolor": "white",
            "ticks": ""
           },
           "caxis": {
            "gridcolor": "white",
            "linecolor": "white",
            "ticks": ""
           }
          },
          "coloraxis": {
           "colorbar": {
            "outlinewidth": 0,
            "ticks": ""
           }
          },
          "colorscale": {
           "sequential": [
            [
             0.0,
             "#0d0887"
            ],
            [
             0.1111111111111111,
             "#46039f"
            ],
            [
             0.2222222222222222,
             "#7201a8"
            ],
            [
             0.3333333333333333,
             "#9c179e"
            ],
            [
             0.4444444444444444,
             "#bd3786"
            ],
            [
             0.5555555555555556,
             "#d8576b"
            ],
            [
             0.6666666666666666,
             "#ed7953"
            ],
            [
             0.7777777777777778,
             "#fb9f3a"
            ],
            [
             0.8888888888888888,
             "#fdca26"
            ],
            [
             1.0,
             "#f0f921"
            ]
           ],
           "sequentialminus": [
            [
             0.0,
             "#0d0887"
            ],
            [
             0.1111111111111111,
             "#46039f"
            ],
            [
             0.2222222222222222,
             "#7201a8"
            ],
            [
             0.3333333333333333,
             "#9c179e"
            ],
            [
             0.4444444444444444,
             "#bd3786"
            ],
            [
             0.5555555555555556,
             "#d8576b"
            ],
            [
             0.6666666666666666,
             "#ed7953"
            ],
            [
             0.7777777777777778,
             "#fb9f3a"
            ],
            [
             0.8888888888888888,
             "#fdca26"
            ],
            [
             1.0,
             "#f0f921"
            ]
           ],
           "diverging": [
            [
             0,
             "#8e0152"
            ],
            [
             0.1,
             "#c51b7d"
            ],
            [
             0.2,
             "#de77ae"
            ],
            [
             0.3,
             "#f1b6da"
            ],
            [
             0.4,
             "#fde0ef"
            ],
            [
             0.5,
             "#f7f7f7"
            ],
            [
             0.6,
             "#e6f5d0"
            ],
            [
             0.7,
             "#b8e186"
            ],
            [
             0.8,
             "#7fbc41"
            ],
            [
             0.9,
             "#4d9221"
            ],
            [
             1,
             "#276419"
            ]
           ]
          },
          "xaxis": {
           "gridcolor": "white",
           "linecolor": "white",
           "ticks": "",
           "title": {
            "standoff": 15
           },
           "zerolinecolor": "white",
           "automargin": true,
           "zerolinewidth": 2
          },
          "yaxis": {
           "gridcolor": "white",
           "linecolor": "white",
           "ticks": "",
           "title": {
            "standoff": 15
           },
           "zerolinecolor": "white",
           "automargin": true,
           "zerolinewidth": 2
          },
          "scene": {
           "xaxis": {
            "backgroundcolor": "#E5ECF6",
            "gridcolor": "white",
            "linecolor": "white",
            "showbackground": true,
            "ticks": "",
            "zerolinecolor": "white",
            "gridwidth": 2
           },
           "yaxis": {
            "backgroundcolor": "#E5ECF6",
            "gridcolor": "white",
            "linecolor": "white",
            "showbackground": true,
            "ticks": "",
            "zerolinecolor": "white",
            "gridwidth": 2
           },
           "zaxis": {
            "backgroundcolor": "#E5ECF6",
            "gridcolor": "white",
            "linecolor": "white",
            "showbackground": true,
            "ticks": "",
            "zerolinecolor": "white",
            "gridwidth": 2
           }
          },
          "shapedefaults": {
           "line": {
            "color": "#2a3f5f"
           }
          },
          "annotationdefaults": {
           "arrowcolor": "#2a3f5f",
           "arrowhead": 0,
           "arrowwidth": 1
          },
          "geo": {
           "bgcolor": "white",
           "landcolor": "#E5ECF6",
           "subunitcolor": "white",
           "showland": true,
           "showlakes": true,
           "lakecolor": "white"
          },
          "title": {
           "x": 0.05
          },
          "mapbox": {
           "style": "light"
          }
         }
        }
       },
       "config": {
        "plotlyServerURL": "https://plot.ly"
       }
      }
     },
     "metadata": {},
     "output_type": "display_data"
    }
   ],
   "execution_count": 11
  }
 ],
 "metadata": {
  "kernelspec": {
   "display_name": "Python 3",
   "language": "python",
   "name": "python3"
  },
  "language_info": {
   "codemirror_mode": {
    "name": "ipython",
    "version": 2
   },
   "file_extension": ".py",
   "mimetype": "text/x-python",
   "name": "python",
   "nbconvert_exporter": "python",
   "pygments_lexer": "ipython2",
   "version": "2.7.6"
  }
 },
 "nbformat": 4,
 "nbformat_minor": 5
}

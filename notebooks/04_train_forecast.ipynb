{
 "cells": [
  {
   "metadata": {},
   "cell_type": "markdown",
   "source": "# Train and Tune / Direct Multi-Step",
   "id": "950d0a291168f9e"
  },
  {
   "cell_type": "code",
   "id": "initial_id",
   "metadata": {
    "collapsed": true,
    "ExecuteTime": {
     "end_time": "2025-08-20T14:29:11.886717Z",
     "start_time": "2025-08-20T14:29:10.591033Z"
    }
   },
   "source": [
    "from pathlib import Path\n",
    "\n",
    "import numpy as np\n",
    "import optuna\n",
    "import optuna.visualization as vis\n",
    "import pandas as pd\n",
    "\n",
    "from src.config import Config\n",
    "from src.data import time_series_split\n",
    "from src.models.classical import LinearElasticNet\n",
    "from src.plots import plot_forecast_diagnostics, plot_price_overlay, plot_price_overlay_next_30\n",
    "from src.preprocessing import get_preprocessor\n",
    "from src.train import ModelTrainer\n",
    "from src.utils import set_seed"
   ],
   "outputs": [],
   "execution_count": 1
  },
  {
   "metadata": {
    "ExecuteTime": {
     "end_time": "2025-08-20T14:29:13.016244Z",
     "start_time": "2025-08-20T14:29:11.890217Z"
    }
   },
   "cell_type": "code",
   "source": [
    "cfg = Config(Path(\"../config/config.yaml\"))\n",
    "rng = set_seed(cfg.runtime.seed)\n",
    "horizon = 30"
   ],
   "id": "814fc30de23a20b1",
   "outputs": [
    {
     "name": "stderr",
     "output_type": "stream",
     "text": [
      "2025-08-20 16:29:13,014 - INFO - src.utils - Global random seed set to 42\n"
     ]
    }
   ],
   "execution_count": 2
  },
  {
   "metadata": {
    "ExecuteTime": {
     "end_time": "2025-08-20T14:29:13.092157Z",
     "start_time": "2025-08-20T14:29:13.063875Z"
    }
   },
   "cell_type": "code",
   "source": [
    "df_full = pd.read_csv(Path(cfg.data.processed_dir) / cfg.data.name_features_full)\n",
    "df_full"
   ],
   "id": "d7f8651a59ccd39c",
   "outputs": [
    {
     "data": {
      "text/plain": [
       "            date          open          high           low         close  \\\n",
       "0     2008-09-16  10905.620117  11093.219727  10742.700195  11059.019531   \n",
       "1     2008-09-17  11056.580078  11057.309570  10595.900391  10609.660156   \n",
       "2     2008-09-18  10609.009766  11076.440430  10459.440430  11019.690430   \n",
       "3     2008-09-19  11027.509766  11483.049805  11026.700195  11388.440430   \n",
       "4     2008-09-22  11394.419922  11394.580078  10992.200195  11015.690430   \n",
       "...          ...           ...           ...           ...           ...   \n",
       "1958  2016-06-27  17355.210938  17355.210938  17063.080078  17140.240234   \n",
       "1959  2016-06-28  17190.509766  17409.720703  17190.509766  17409.720703   \n",
       "1960  2016-06-29  17456.019531  17704.509766  17456.019531  17694.679688   \n",
       "1961  2016-06-30  17712.759766  17930.609375  17711.800781  17929.990234   \n",
       "1962  2016-07-01  17924.240234  18002.380859  17916.910156  17949.369141   \n",
       "\n",
       "         volume     adj_close       pos       neu       neg  ...    sma_10  \\\n",
       "0     494760000  11059.019531  0.037859  0.649857  0.312283  ... -0.004057   \n",
       "1     463200000  10609.660156  0.020132  0.695084  0.284784  ... -0.008344   \n",
       "2     488060000  11019.690430  0.076621  0.751735  0.171643  ... -0.001518   \n",
       "3     655110000  11388.440430  0.000513  0.772076  0.227411  ...  0.001482   \n",
       "4     213210000  11015.690430  0.100864  0.619301  0.279835  ... -0.004396   \n",
       "...         ...           ...       ...       ...       ...  ...       ...   \n",
       "1958  138740000  17140.240234  0.065429  0.684537  0.250034  ... -0.003397   \n",
       "1959  112190000  17409.720703  0.086932  0.714076  0.198991  ... -0.001511   \n",
       "1960  106380000  17694.679688  0.114712  0.673349  0.211939  ...  0.000309   \n",
       "1961  133030000  17929.990234  0.040575  0.727080  0.232345  ...  0.001104   \n",
       "1962   82160000  17949.369141  0.043626  0.752016  0.204358  ...  0.001539   \n",
       "\n",
       "        ema_10    lag_25    sma_25    ema_25  quarter  dow    q_mean  \\\n",
       "0    -0.003995  0.004085 -0.002534 -0.002034        3    1 -0.002886   \n",
       "1    -0.010810 -0.011943 -0.003716 -0.005068        3    2 -0.002280   \n",
       "2    -0.001951 -0.009451 -0.001821 -0.001761        3    3 -0.003732   \n",
       "3     0.004389  0.007168 -0.000791  0.000906        3    4 -0.002244   \n",
       "4    -0.002460  0.003778 -0.002273 -0.001724        3    0 -0.001032   \n",
       "...        ...       ...       ...       ...      ...  ...       ...   \n",
       "1958 -0.006286  0.003752 -0.000833 -0.002734        2    0  0.000002   \n",
       "1959 -0.002307 -0.000458 -0.000191 -0.001324        2    1 -0.000028   \n",
       "1960  0.001064  0.012110 -0.000026  0.000027        2    2  0.000003   \n",
       "1961  0.003273  0.008182  0.000175  0.001041        2    3  0.000036   \n",
       "1962  0.002874 -0.001302  0.000271  0.001044        3    4  0.000046   \n",
       "\n",
       "         q_std    q_skew  \n",
       "0     0.016242 -0.717302  \n",
       "1     0.016211 -0.771974  \n",
       "2     0.017596 -0.770069  \n",
       "3     0.018976 -0.421549  \n",
       "4     0.019745 -0.341408  \n",
       "...        ...       ...  \n",
       "1958  0.009594 -0.183067  \n",
       "1959  0.009608 -0.180243  \n",
       "1960  0.009624 -0.180164  \n",
       "1961  0.009641 -0.179361  \n",
       "1962  0.012306 -0.836425  \n",
       "\n",
       "[1963 rows x 77 columns]"
      ],
      "text/html": [
       "<div>\n",
       "<style scoped>\n",
       "    .dataframe tbody tr th:only-of-type {\n",
       "        vertical-align: middle;\n",
       "    }\n",
       "\n",
       "    .dataframe tbody tr th {\n",
       "        vertical-align: top;\n",
       "    }\n",
       "\n",
       "    .dataframe thead th {\n",
       "        text-align: right;\n",
       "    }\n",
       "</style>\n",
       "<table border=\"1\" class=\"dataframe\">\n",
       "  <thead>\n",
       "    <tr style=\"text-align: right;\">\n",
       "      <th></th>\n",
       "      <th>date</th>\n",
       "      <th>open</th>\n",
       "      <th>high</th>\n",
       "      <th>low</th>\n",
       "      <th>close</th>\n",
       "      <th>volume</th>\n",
       "      <th>adj_close</th>\n",
       "      <th>pos</th>\n",
       "      <th>neu</th>\n",
       "      <th>neg</th>\n",
       "      <th>...</th>\n",
       "      <th>sma_10</th>\n",
       "      <th>ema_10</th>\n",
       "      <th>lag_25</th>\n",
       "      <th>sma_25</th>\n",
       "      <th>ema_25</th>\n",
       "      <th>quarter</th>\n",
       "      <th>dow</th>\n",
       "      <th>q_mean</th>\n",
       "      <th>q_std</th>\n",
       "      <th>q_skew</th>\n",
       "    </tr>\n",
       "  </thead>\n",
       "  <tbody>\n",
       "    <tr>\n",
       "      <th>0</th>\n",
       "      <td>2008-09-16</td>\n",
       "      <td>10905.620117</td>\n",
       "      <td>11093.219727</td>\n",
       "      <td>10742.700195</td>\n",
       "      <td>11059.019531</td>\n",
       "      <td>494760000</td>\n",
       "      <td>11059.019531</td>\n",
       "      <td>0.037859</td>\n",
       "      <td>0.649857</td>\n",
       "      <td>0.312283</td>\n",
       "      <td>...</td>\n",
       "      <td>-0.004057</td>\n",
       "      <td>-0.003995</td>\n",
       "      <td>0.004085</td>\n",
       "      <td>-0.002534</td>\n",
       "      <td>-0.002034</td>\n",
       "      <td>3</td>\n",
       "      <td>1</td>\n",
       "      <td>-0.002886</td>\n",
       "      <td>0.016242</td>\n",
       "      <td>-0.717302</td>\n",
       "    </tr>\n",
       "    <tr>\n",
       "      <th>1</th>\n",
       "      <td>2008-09-17</td>\n",
       "      <td>11056.580078</td>\n",
       "      <td>11057.309570</td>\n",
       "      <td>10595.900391</td>\n",
       "      <td>10609.660156</td>\n",
       "      <td>463200000</td>\n",
       "      <td>10609.660156</td>\n",
       "      <td>0.020132</td>\n",
       "      <td>0.695084</td>\n",
       "      <td>0.284784</td>\n",
       "      <td>...</td>\n",
       "      <td>-0.008344</td>\n",
       "      <td>-0.010810</td>\n",
       "      <td>-0.011943</td>\n",
       "      <td>-0.003716</td>\n",
       "      <td>-0.005068</td>\n",
       "      <td>3</td>\n",
       "      <td>2</td>\n",
       "      <td>-0.002280</td>\n",
       "      <td>0.016211</td>\n",
       "      <td>-0.771974</td>\n",
       "    </tr>\n",
       "    <tr>\n",
       "      <th>2</th>\n",
       "      <td>2008-09-18</td>\n",
       "      <td>10609.009766</td>\n",
       "      <td>11076.440430</td>\n",
       "      <td>10459.440430</td>\n",
       "      <td>11019.690430</td>\n",
       "      <td>488060000</td>\n",
       "      <td>11019.690430</td>\n",
       "      <td>0.076621</td>\n",
       "      <td>0.751735</td>\n",
       "      <td>0.171643</td>\n",
       "      <td>...</td>\n",
       "      <td>-0.001518</td>\n",
       "      <td>-0.001951</td>\n",
       "      <td>-0.009451</td>\n",
       "      <td>-0.001821</td>\n",
       "      <td>-0.001761</td>\n",
       "      <td>3</td>\n",
       "      <td>3</td>\n",
       "      <td>-0.003732</td>\n",
       "      <td>0.017596</td>\n",
       "      <td>-0.770069</td>\n",
       "    </tr>\n",
       "    <tr>\n",
       "      <th>3</th>\n",
       "      <td>2008-09-19</td>\n",
       "      <td>11027.509766</td>\n",
       "      <td>11483.049805</td>\n",
       "      <td>11026.700195</td>\n",
       "      <td>11388.440430</td>\n",
       "      <td>655110000</td>\n",
       "      <td>11388.440430</td>\n",
       "      <td>0.000513</td>\n",
       "      <td>0.772076</td>\n",
       "      <td>0.227411</td>\n",
       "      <td>...</td>\n",
       "      <td>0.001482</td>\n",
       "      <td>0.004389</td>\n",
       "      <td>0.007168</td>\n",
       "      <td>-0.000791</td>\n",
       "      <td>0.000906</td>\n",
       "      <td>3</td>\n",
       "      <td>4</td>\n",
       "      <td>-0.002244</td>\n",
       "      <td>0.018976</td>\n",
       "      <td>-0.421549</td>\n",
       "    </tr>\n",
       "    <tr>\n",
       "      <th>4</th>\n",
       "      <td>2008-09-22</td>\n",
       "      <td>11394.419922</td>\n",
       "      <td>11394.580078</td>\n",
       "      <td>10992.200195</td>\n",
       "      <td>11015.690430</td>\n",
       "      <td>213210000</td>\n",
       "      <td>11015.690430</td>\n",
       "      <td>0.100864</td>\n",
       "      <td>0.619301</td>\n",
       "      <td>0.279835</td>\n",
       "      <td>...</td>\n",
       "      <td>-0.004396</td>\n",
       "      <td>-0.002460</td>\n",
       "      <td>0.003778</td>\n",
       "      <td>-0.002273</td>\n",
       "      <td>-0.001724</td>\n",
       "      <td>3</td>\n",
       "      <td>0</td>\n",
       "      <td>-0.001032</td>\n",
       "      <td>0.019745</td>\n",
       "      <td>-0.341408</td>\n",
       "    </tr>\n",
       "    <tr>\n",
       "      <th>...</th>\n",
       "      <td>...</td>\n",
       "      <td>...</td>\n",
       "      <td>...</td>\n",
       "      <td>...</td>\n",
       "      <td>...</td>\n",
       "      <td>...</td>\n",
       "      <td>...</td>\n",
       "      <td>...</td>\n",
       "      <td>...</td>\n",
       "      <td>...</td>\n",
       "      <td>...</td>\n",
       "      <td>...</td>\n",
       "      <td>...</td>\n",
       "      <td>...</td>\n",
       "      <td>...</td>\n",
       "      <td>...</td>\n",
       "      <td>...</td>\n",
       "      <td>...</td>\n",
       "      <td>...</td>\n",
       "      <td>...</td>\n",
       "      <td>...</td>\n",
       "    </tr>\n",
       "    <tr>\n",
       "      <th>1958</th>\n",
       "      <td>2016-06-27</td>\n",
       "      <td>17355.210938</td>\n",
       "      <td>17355.210938</td>\n",
       "      <td>17063.080078</td>\n",
       "      <td>17140.240234</td>\n",
       "      <td>138740000</td>\n",
       "      <td>17140.240234</td>\n",
       "      <td>0.065429</td>\n",
       "      <td>0.684537</td>\n",
       "      <td>0.250034</td>\n",
       "      <td>...</td>\n",
       "      <td>-0.003397</td>\n",
       "      <td>-0.006286</td>\n",
       "      <td>0.003752</td>\n",
       "      <td>-0.000833</td>\n",
       "      <td>-0.002734</td>\n",
       "      <td>2</td>\n",
       "      <td>0</td>\n",
       "      <td>0.000002</td>\n",
       "      <td>0.009594</td>\n",
       "      <td>-0.183067</td>\n",
       "    </tr>\n",
       "    <tr>\n",
       "      <th>1959</th>\n",
       "      <td>2016-06-28</td>\n",
       "      <td>17190.509766</td>\n",
       "      <td>17409.720703</td>\n",
       "      <td>17190.509766</td>\n",
       "      <td>17409.720703</td>\n",
       "      <td>112190000</td>\n",
       "      <td>17409.720703</td>\n",
       "      <td>0.086932</td>\n",
       "      <td>0.714076</td>\n",
       "      <td>0.198991</td>\n",
       "      <td>...</td>\n",
       "      <td>-0.001511</td>\n",
       "      <td>-0.002307</td>\n",
       "      <td>-0.000458</td>\n",
       "      <td>-0.000191</td>\n",
       "      <td>-0.001324</td>\n",
       "      <td>2</td>\n",
       "      <td>1</td>\n",
       "      <td>-0.000028</td>\n",
       "      <td>0.009608</td>\n",
       "      <td>-0.180243</td>\n",
       "    </tr>\n",
       "    <tr>\n",
       "      <th>1960</th>\n",
       "      <td>2016-06-29</td>\n",
       "      <td>17456.019531</td>\n",
       "      <td>17704.509766</td>\n",
       "      <td>17456.019531</td>\n",
       "      <td>17694.679688</td>\n",
       "      <td>106380000</td>\n",
       "      <td>17694.679688</td>\n",
       "      <td>0.114712</td>\n",
       "      <td>0.673349</td>\n",
       "      <td>0.211939</td>\n",
       "      <td>...</td>\n",
       "      <td>0.000309</td>\n",
       "      <td>0.001064</td>\n",
       "      <td>0.012110</td>\n",
       "      <td>-0.000026</td>\n",
       "      <td>0.000027</td>\n",
       "      <td>2</td>\n",
       "      <td>2</td>\n",
       "      <td>0.000003</td>\n",
       "      <td>0.009624</td>\n",
       "      <td>-0.180164</td>\n",
       "    </tr>\n",
       "    <tr>\n",
       "      <th>1961</th>\n",
       "      <td>2016-06-30</td>\n",
       "      <td>17712.759766</td>\n",
       "      <td>17930.609375</td>\n",
       "      <td>17711.800781</td>\n",
       "      <td>17929.990234</td>\n",
       "      <td>133030000</td>\n",
       "      <td>17929.990234</td>\n",
       "      <td>0.040575</td>\n",
       "      <td>0.727080</td>\n",
       "      <td>0.232345</td>\n",
       "      <td>...</td>\n",
       "      <td>0.001104</td>\n",
       "      <td>0.003273</td>\n",
       "      <td>0.008182</td>\n",
       "      <td>0.000175</td>\n",
       "      <td>0.001041</td>\n",
       "      <td>2</td>\n",
       "      <td>3</td>\n",
       "      <td>0.000036</td>\n",
       "      <td>0.009641</td>\n",
       "      <td>-0.179361</td>\n",
       "    </tr>\n",
       "    <tr>\n",
       "      <th>1962</th>\n",
       "      <td>2016-07-01</td>\n",
       "      <td>17924.240234</td>\n",
       "      <td>18002.380859</td>\n",
       "      <td>17916.910156</td>\n",
       "      <td>17949.369141</td>\n",
       "      <td>82160000</td>\n",
       "      <td>17949.369141</td>\n",
       "      <td>0.043626</td>\n",
       "      <td>0.752016</td>\n",
       "      <td>0.204358</td>\n",
       "      <td>...</td>\n",
       "      <td>0.001539</td>\n",
       "      <td>0.002874</td>\n",
       "      <td>-0.001302</td>\n",
       "      <td>0.000271</td>\n",
       "      <td>0.001044</td>\n",
       "      <td>3</td>\n",
       "      <td>4</td>\n",
       "      <td>0.000046</td>\n",
       "      <td>0.012306</td>\n",
       "      <td>-0.836425</td>\n",
       "    </tr>\n",
       "  </tbody>\n",
       "</table>\n",
       "<p>1963 rows × 77 columns</p>\n",
       "</div>"
      ]
     },
     "execution_count": 3,
     "metadata": {},
     "output_type": "execute_result"
    }
   ],
   "execution_count": 3
  },
  {
   "metadata": {
    "ExecuteTime": {
     "end_time": "2025-08-20T14:29:13.121680Z",
     "start_time": "2025-08-20T14:29:13.116886Z"
    }
   },
   "cell_type": "code",
   "source": "train, val, test, forecast = time_series_split(df_full, train_ratio=0.8, val_ratio=0.1, horizon=horizon)",
   "id": "8cef05aa196e294f",
   "outputs": [],
   "execution_count": 4
  },
  {
   "metadata": {
    "ExecuteTime": {
     "end_time": "2025-08-20T14:29:13.167609Z",
     "start_time": "2025-08-20T14:29:13.163604Z"
    }
   },
   "cell_type": "code",
   "source": [
    "drop_cols = [\"open\", \"high\", \"low\", \"close\", \"volume\", \"adj_close\"]\n",
    "target_cols = [c for c in df_full.columns if c == \"target\" or c.startswith(\"target_\")]\n",
    "feature_cols = [c for c in df_full.columns if c not in target_cols + [\"date\"] + drop_cols]\n",
    "\n",
    "X_train, y_train = train[feature_cols], train[target_cols]\n",
    "X_val, y_val = val[feature_cols], val[target_cols]\n",
    "X_test, y_test = test[feature_cols], test[target_cols]\n",
    "X_forecast = forecast[feature_cols]"
   ],
   "id": "5acae1bc061db276",
   "outputs": [],
   "execution_count": 5
  },
  {
   "metadata": {
    "ExecuteTime": {
     "end_time": "2025-08-20T14:29:13.246589Z",
     "start_time": "2025-08-20T14:29:13.233577Z"
    }
   },
   "cell_type": "code",
   "source": "X_test.to_parquet(Path(cfg.data.processed_dir) / \"X_test_30.parquet\", index=False)",
   "id": "c222185a43840bcf",
   "outputs": [],
   "execution_count": 6
  },
  {
   "metadata": {
    "ExecuteTime": {
     "end_time": "2025-08-20T14:29:13.316734Z",
     "start_time": "2025-08-20T14:29:13.314377Z"
    }
   },
   "cell_type": "code",
   "source": "preprocessor, _ = get_preprocessor(X_train)",
   "id": "e6142f580a3e0406",
   "outputs": [],
   "execution_count": 7
  },
  {
   "metadata": {
    "ExecuteTime": {
     "end_time": "2025-08-20T14:29:13.361405Z",
     "start_time": "2025-08-20T14:29:13.358447Z"
    }
   },
   "cell_type": "code",
   "source": [
    "model = LinearElasticNet(\n",
    "    horizon=horizon,\n",
    "    multioutput=True,\n",
    "    random_state=cfg.runtime.seed,\n",
    "    max_iter=2000\n",
    ")\n",
    "\n",
    "trainer = ModelTrainer(\n",
    "    model=model,\n",
    "    name=\"enet_mo_30\",\n",
    "    config={\n",
    "        \"optimization_metric\": \"rmse\",\n",
    "        \"gap\": 0,\n",
    "        \"seed\": cfg.runtime.seed\n",
    "    },\n",
    "    preprocessor=preprocessor,\n",
    "    y_scale=True\n",
    ")"
   ],
   "id": "3a3d28d59ec50447",
   "outputs": [
    {
     "name": "stderr",
     "output_type": "stream",
     "text": [
      "2025-08-20 16:29:13,359 - INFO - ModelTrainer - Initialized ModelTrainer for model: enet_mo_30\n"
     ]
    }
   ],
   "execution_count": 8
  },
  {
   "metadata": {
    "ExecuteTime": {
     "end_time": "2025-08-20T14:29:37.146120Z",
     "start_time": "2025-08-20T14:29:13.426519Z"
    }
   },
   "cell_type": "code",
   "source": [
    "study = optuna.create_study(direction=\"minimize\", sampler=optuna.samplers.TPESampler(seed=cfg.runtime.seed))\n",
    "study.optimize(lambda trial: trainer.objective(trial, X_train, y_train), n_trials=30)\n",
    "best_params = study.best_trial.user_attrs[\"best_params\"]\n",
    "trainer.fit(X_train, y_train, X_val, y_val, best_params=best_params)"
   ],
   "id": "f0351a4d3cb52a6c",
   "outputs": [
    {
     "name": "stderr",
     "output_type": "stream",
     "text": [
      "[I 2025-08-20 16:29:13,428] A new study created in memory with name: no-name-e49c9d39-edef-4681-8356-aad4cf5771ed\n",
      "D:\\IntelliJ\\ml-stock-sent\\.venv\\Lib\\site-packages\\sklearn\\linear_model\\_coordinate_descent.py:695: ConvergenceWarning: Objective did not converge. You might want to increase the number of iterations, check the scale of the features or consider increasing regularisation. Duality gap: 3.912e+01, tolerance: 3.880e-02\n",
      "  model = cd_fast.enet_coordinate_descent(\n",
      "D:\\IntelliJ\\ml-stock-sent\\.venv\\Lib\\site-packages\\sklearn\\linear_model\\_coordinate_descent.py:695: ConvergenceWarning: Objective did not converge. You might want to increase the number of iterations, check the scale of the features or consider increasing regularisation. Duality gap: 1.373e+01, tolerance: 3.880e-02\n",
      "  model = cd_fast.enet_coordinate_descent(\n",
      "D:\\IntelliJ\\ml-stock-sent\\.venv\\Lib\\site-packages\\sklearn\\linear_model\\_coordinate_descent.py:695: ConvergenceWarning: Objective did not converge. You might want to increase the number of iterations, check the scale of the features or consider increasing regularisation. Duality gap: 2.237e+00, tolerance: 3.880e-02\n",
      "  model = cd_fast.enet_coordinate_descent(\n",
      "D:\\IntelliJ\\ml-stock-sent\\.venv\\Lib\\site-packages\\sklearn\\linear_model\\_coordinate_descent.py:695: ConvergenceWarning: Objective did not converge. You might want to increase the number of iterations, check the scale of the features or consider increasing regularisation. Duality gap: 7.868e-02, tolerance: 3.880e-02\n",
      "  model = cd_fast.enet_coordinate_descent(\n",
      "D:\\IntelliJ\\ml-stock-sent\\.venv\\Lib\\site-packages\\sklearn\\linear_model\\_coordinate_descent.py:695: ConvergenceWarning: Objective did not converge. You might want to increase the number of iterations, check the scale of the features or consider increasing regularisation. Duality gap: 1.809e+01, tolerance: 3.880e-02\n",
      "  model = cd_fast.enet_coordinate_descent(\n",
      "D:\\IntelliJ\\ml-stock-sent\\.venv\\Lib\\site-packages\\sklearn\\linear_model\\_coordinate_descent.py:695: ConvergenceWarning: Objective did not converge. You might want to increase the number of iterations, check the scale of the features or consider increasing regularisation. Duality gap: 5.971e+01, tolerance: 3.880e-02\n",
      "  model = cd_fast.enet_coordinate_descent(\n",
      "D:\\IntelliJ\\ml-stock-sent\\.venv\\Lib\\site-packages\\sklearn\\linear_model\\_coordinate_descent.py:695: ConvergenceWarning: Objective did not converge. You might want to increase the number of iterations, check the scale of the features or consider increasing regularisation. Duality gap: 4.494e-01, tolerance: 3.880e-02\n",
      "  model = cd_fast.enet_coordinate_descent(\n",
      "D:\\IntelliJ\\ml-stock-sent\\.venv\\Lib\\site-packages\\sklearn\\linear_model\\_coordinate_descent.py:695: ConvergenceWarning: Objective did not converge. You might want to increase the number of iterations, check the scale of the features or consider increasing regularisation. Duality gap: 9.581e-02, tolerance: 3.880e-02\n",
      "  model = cd_fast.enet_coordinate_descent(\n",
      "D:\\IntelliJ\\ml-stock-sent\\.venv\\Lib\\site-packages\\sklearn\\linear_model\\_coordinate_descent.py:695: ConvergenceWarning: Objective did not converge. You might want to increase the number of iterations, check the scale of the features or consider increasing regularisation. Duality gap: 7.156e+00, tolerance: 3.880e-02\n",
      "  model = cd_fast.enet_coordinate_descent(\n",
      "D:\\IntelliJ\\ml-stock-sent\\.venv\\Lib\\site-packages\\sklearn\\linear_model\\_coordinate_descent.py:695: ConvergenceWarning: Objective did not converge. You might want to increase the number of iterations, check the scale of the features or consider increasing regularisation. Duality gap: 2.255e+01, tolerance: 3.880e-02\n",
      "  model = cd_fast.enet_coordinate_descent(\n",
      "D:\\IntelliJ\\ml-stock-sent\\.venv\\Lib\\site-packages\\sklearn\\linear_model\\_coordinate_descent.py:695: ConvergenceWarning: Objective did not converge. You might want to increase the number of iterations, check the scale of the features or consider increasing regularisation. Duality gap: 2.591e+00, tolerance: 3.880e-02\n",
      "  model = cd_fast.enet_coordinate_descent(\n",
      "D:\\IntelliJ\\ml-stock-sent\\.venv\\Lib\\site-packages\\sklearn\\linear_model\\_coordinate_descent.py:695: ConvergenceWarning: Objective did not converge. You might want to increase the number of iterations, check the scale of the features or consider increasing regularisation. Duality gap: 8.636e-01, tolerance: 3.880e-02\n",
      "  model = cd_fast.enet_coordinate_descent(\n",
      "D:\\IntelliJ\\ml-stock-sent\\.venv\\Lib\\site-packages\\sklearn\\linear_model\\_coordinate_descent.py:695: ConvergenceWarning: Objective did not converge. You might want to increase the number of iterations, check the scale of the features or consider increasing regularisation. Duality gap: 3.307e+01, tolerance: 3.880e-02\n",
      "  model = cd_fast.enet_coordinate_descent(\n",
      "D:\\IntelliJ\\ml-stock-sent\\.venv\\Lib\\site-packages\\sklearn\\linear_model\\_coordinate_descent.py:695: ConvergenceWarning: Objective did not converge. You might want to increase the number of iterations, check the scale of the features or consider increasing regularisation. Duality gap: 5.301e+01, tolerance: 3.880e-02\n",
      "  model = cd_fast.enet_coordinate_descent(\n",
      "D:\\IntelliJ\\ml-stock-sent\\.venv\\Lib\\site-packages\\sklearn\\linear_model\\_coordinate_descent.py:695: ConvergenceWarning: Objective did not converge. You might want to increase the number of iterations, check the scale of the features or consider increasing regularisation. Duality gap: 3.568e+00, tolerance: 3.880e-02\n",
      "  model = cd_fast.enet_coordinate_descent(\n",
      "D:\\IntelliJ\\ml-stock-sent\\.venv\\Lib\\site-packages\\sklearn\\linear_model\\_coordinate_descent.py:695: ConvergenceWarning: Objective did not converge. You might want to increase the number of iterations, check the scale of the features or consider increasing regularisation. Duality gap: 1.188e+01, tolerance: 3.880e-02\n",
      "  model = cd_fast.enet_coordinate_descent(\n",
      "D:\\IntelliJ\\ml-stock-sent\\.venv\\Lib\\site-packages\\sklearn\\linear_model\\_coordinate_descent.py:695: ConvergenceWarning: Objective did not converge. You might want to increase the number of iterations, check the scale of the features or consider increasing regularisation. Duality gap: 6.074e+00, tolerance: 3.880e-02\n",
      "  model = cd_fast.enet_coordinate_descent(\n",
      "D:\\IntelliJ\\ml-stock-sent\\.venv\\Lib\\site-packages\\sklearn\\linear_model\\_coordinate_descent.py:695: ConvergenceWarning: Objective did not converge. You might want to increase the number of iterations, check the scale of the features or consider increasing regularisation. Duality gap: 2.512e+01, tolerance: 3.880e-02\n",
      "  model = cd_fast.enet_coordinate_descent(\n",
      "D:\\IntelliJ\\ml-stock-sent\\.venv\\Lib\\site-packages\\sklearn\\linear_model\\_coordinate_descent.py:695: ConvergenceWarning: Objective did not converge. You might want to increase the number of iterations, check the scale of the features or consider increasing regularisation. Duality gap: 2.840e+01, tolerance: 3.880e-02\n",
      "  model = cd_fast.enet_coordinate_descent(\n",
      "D:\\IntelliJ\\ml-stock-sent\\.venv\\Lib\\site-packages\\sklearn\\linear_model\\_coordinate_descent.py:695: ConvergenceWarning: Objective did not converge. You might want to increase the number of iterations, check the scale of the features or consider increasing regularisation. Duality gap: 5.980e-01, tolerance: 3.880e-02\n",
      "  model = cd_fast.enet_coordinate_descent(\n",
      "D:\\IntelliJ\\ml-stock-sent\\.venv\\Lib\\site-packages\\sklearn\\linear_model\\_coordinate_descent.py:695: ConvergenceWarning: Objective did not converge. You might want to increase the number of iterations, check the scale of the features or consider increasing regularisation. Duality gap: 1.090e+00, tolerance: 3.880e-02\n",
      "  model = cd_fast.enet_coordinate_descent(\n",
      "D:\\IntelliJ\\ml-stock-sent\\.venv\\Lib\\site-packages\\sklearn\\linear_model\\_coordinate_descent.py:695: ConvergenceWarning: Objective did not converge. You might want to increase the number of iterations, check the scale of the features or consider increasing regularisation. Duality gap: 2.857e+01, tolerance: 3.880e-02\n",
      "  model = cd_fast.enet_coordinate_descent(\n",
      "D:\\IntelliJ\\ml-stock-sent\\.venv\\Lib\\site-packages\\sklearn\\linear_model\\_coordinate_descent.py:695: ConvergenceWarning: Objective did not converge. You might want to increase the number of iterations, check the scale of the features or consider increasing regularisation. Duality gap: 1.577e+01, tolerance: 3.880e-02\n",
      "  model = cd_fast.enet_coordinate_descent(\n",
      "D:\\IntelliJ\\ml-stock-sent\\.venv\\Lib\\site-packages\\sklearn\\linear_model\\_coordinate_descent.py:695: ConvergenceWarning: Objective did not converge. You might want to increase the number of iterations, check the scale of the features or consider increasing regularisation. Duality gap: 2.478e+01, tolerance: 3.880e-02\n",
      "  model = cd_fast.enet_coordinate_descent(\n",
      "D:\\IntelliJ\\ml-stock-sent\\.venv\\Lib\\site-packages\\sklearn\\linear_model\\_coordinate_descent.py:695: ConvergenceWarning: Objective did not converge. You might want to increase the number of iterations, check the scale of the features or consider increasing regularisation. Duality gap: 8.423e-01, tolerance: 3.880e-02\n",
      "  model = cd_fast.enet_coordinate_descent(\n",
      "D:\\IntelliJ\\ml-stock-sent\\.venv\\Lib\\site-packages\\sklearn\\linear_model\\_coordinate_descent.py:695: ConvergenceWarning: Objective did not converge. You might want to increase the number of iterations, check the scale of the features or consider increasing regularisation. Duality gap: 1.230e+01, tolerance: 3.880e-02\n",
      "  model = cd_fast.enet_coordinate_descent(\n",
      "D:\\IntelliJ\\ml-stock-sent\\.venv\\Lib\\site-packages\\sklearn\\linear_model\\_coordinate_descent.py:695: ConvergenceWarning: Objective did not converge. You might want to increase the number of iterations, check the scale of the features or consider increasing regularisation. Duality gap: 1.418e+01, tolerance: 3.880e-02\n",
      "  model = cd_fast.enet_coordinate_descent(\n",
      "D:\\IntelliJ\\ml-stock-sent\\.venv\\Lib\\site-packages\\sklearn\\linear_model\\_coordinate_descent.py:695: ConvergenceWarning: Objective did not converge. You might want to increase the number of iterations, check the scale of the features or consider increasing regularisation. Duality gap: 7.079e+00, tolerance: 3.880e-02\n",
      "  model = cd_fast.enet_coordinate_descent(\n",
      "D:\\IntelliJ\\ml-stock-sent\\.venv\\Lib\\site-packages\\sklearn\\linear_model\\_coordinate_descent.py:695: ConvergenceWarning: Objective did not converge. You might want to increase the number of iterations, check the scale of the features or consider increasing regularisation. Duality gap: 9.155e+00, tolerance: 3.880e-02\n",
      "  model = cd_fast.enet_coordinate_descent(\n",
      "D:\\IntelliJ\\ml-stock-sent\\.venv\\Lib\\site-packages\\sklearn\\linear_model\\_coordinate_descent.py:695: ConvergenceWarning: Objective did not converge. You might want to increase the number of iterations, check the scale of the features or consider increasing regularisation. Duality gap: 3.119e+01, tolerance: 7.740e-02\n",
      "  model = cd_fast.enet_coordinate_descent(\n",
      "D:\\IntelliJ\\ml-stock-sent\\.venv\\Lib\\site-packages\\sklearn\\linear_model\\_coordinate_descent.py:695: ConvergenceWarning: Objective did not converge. You might want to increase the number of iterations, check the scale of the features or consider increasing regularisation. Duality gap: 1.829e+01, tolerance: 7.740e-02\n",
      "  model = cd_fast.enet_coordinate_descent(\n",
      "D:\\IntelliJ\\ml-stock-sent\\.venv\\Lib\\site-packages\\sklearn\\linear_model\\_coordinate_descent.py:695: ConvergenceWarning: Objective did not converge. You might want to increase the number of iterations, check the scale of the features or consider increasing regularisation. Duality gap: 4.917e+00, tolerance: 7.740e-02\n",
      "  model = cd_fast.enet_coordinate_descent(\n",
      "D:\\IntelliJ\\ml-stock-sent\\.venv\\Lib\\site-packages\\sklearn\\linear_model\\_coordinate_descent.py:695: ConvergenceWarning: Objective did not converge. You might want to increase the number of iterations, check the scale of the features or consider increasing regularisation. Duality gap: 1.737e+00, tolerance: 7.740e-02\n",
      "  model = cd_fast.enet_coordinate_descent(\n",
      "D:\\IntelliJ\\ml-stock-sent\\.venv\\Lib\\site-packages\\sklearn\\linear_model\\_coordinate_descent.py:695: ConvergenceWarning: Objective did not converge. You might want to increase the number of iterations, check the scale of the features or consider increasing regularisation. Duality gap: 1.158e+01, tolerance: 7.740e-02\n",
      "  model = cd_fast.enet_coordinate_descent(\n",
      "D:\\IntelliJ\\ml-stock-sent\\.venv\\Lib\\site-packages\\sklearn\\linear_model\\_coordinate_descent.py:695: ConvergenceWarning: Objective did not converge. You might want to increase the number of iterations, check the scale of the features or consider increasing regularisation. Duality gap: 7.860e+01, tolerance: 7.740e-02\n",
      "  model = cd_fast.enet_coordinate_descent(\n",
      "D:\\IntelliJ\\ml-stock-sent\\.venv\\Lib\\site-packages\\sklearn\\linear_model\\_coordinate_descent.py:695: ConvergenceWarning: Objective did not converge. You might want to increase the number of iterations, check the scale of the features or consider increasing regularisation. Duality gap: 3.588e+00, tolerance: 7.740e-02\n",
      "  model = cd_fast.enet_coordinate_descent(\n",
      "D:\\IntelliJ\\ml-stock-sent\\.venv\\Lib\\site-packages\\sklearn\\linear_model\\_coordinate_descent.py:695: ConvergenceWarning: Objective did not converge. You might want to increase the number of iterations, check the scale of the features or consider increasing regularisation. Duality gap: 8.390e+00, tolerance: 7.740e-02\n",
      "  model = cd_fast.enet_coordinate_descent(\n",
      "D:\\IntelliJ\\ml-stock-sent\\.venv\\Lib\\site-packages\\sklearn\\linear_model\\_coordinate_descent.py:695: ConvergenceWarning: Objective did not converge. You might want to increase the number of iterations, check the scale of the features or consider increasing regularisation. Duality gap: 6.663e+00, tolerance: 7.740e-02\n",
      "  model = cd_fast.enet_coordinate_descent(\n",
      "D:\\IntelliJ\\ml-stock-sent\\.venv\\Lib\\site-packages\\sklearn\\linear_model\\_coordinate_descent.py:695: ConvergenceWarning: Objective did not converge. You might want to increase the number of iterations, check the scale of the features or consider increasing regularisation. Duality gap: 2.132e+01, tolerance: 7.740e-02\n",
      "  model = cd_fast.enet_coordinate_descent(\n",
      "D:\\IntelliJ\\ml-stock-sent\\.venv\\Lib\\site-packages\\sklearn\\linear_model\\_coordinate_descent.py:695: ConvergenceWarning: Objective did not converge. You might want to increase the number of iterations, check the scale of the features or consider increasing regularisation. Duality gap: 3.118e-01, tolerance: 7.740e-02\n",
      "  model = cd_fast.enet_coordinate_descent(\n",
      "D:\\IntelliJ\\ml-stock-sent\\.venv\\Lib\\site-packages\\sklearn\\linear_model\\_coordinate_descent.py:695: ConvergenceWarning: Objective did not converge. You might want to increase the number of iterations, check the scale of the features or consider increasing regularisation. Duality gap: 1.208e+01, tolerance: 7.740e-02\n",
      "  model = cd_fast.enet_coordinate_descent(\n",
      "D:\\IntelliJ\\ml-stock-sent\\.venv\\Lib\\site-packages\\sklearn\\linear_model\\_coordinate_descent.py:695: ConvergenceWarning: Objective did not converge. You might want to increase the number of iterations, check the scale of the features or consider increasing regularisation. Duality gap: 3.125e+00, tolerance: 7.740e-02\n",
      "  model = cd_fast.enet_coordinate_descent(\n",
      "D:\\IntelliJ\\ml-stock-sent\\.venv\\Lib\\site-packages\\sklearn\\linear_model\\_coordinate_descent.py:695: ConvergenceWarning: Objective did not converge. You might want to increase the number of iterations, check the scale of the features or consider increasing regularisation. Duality gap: 6.959e+01, tolerance: 7.740e-02\n",
      "  model = cd_fast.enet_coordinate_descent(\n",
      "D:\\IntelliJ\\ml-stock-sent\\.venv\\Lib\\site-packages\\sklearn\\linear_model\\_coordinate_descent.py:695: ConvergenceWarning: Objective did not converge. You might want to increase the number of iterations, check the scale of the features or consider increasing regularisation. Duality gap: 1.942e+01, tolerance: 7.740e-02\n",
      "  model = cd_fast.enet_coordinate_descent(\n",
      "D:\\IntelliJ\\ml-stock-sent\\.venv\\Lib\\site-packages\\sklearn\\linear_model\\_coordinate_descent.py:695: ConvergenceWarning: Objective did not converge. You might want to increase the number of iterations, check the scale of the features or consider increasing regularisation. Duality gap: 1.646e+01, tolerance: 7.740e-02\n",
      "  model = cd_fast.enet_coordinate_descent(\n",
      "D:\\IntelliJ\\ml-stock-sent\\.venv\\Lib\\site-packages\\sklearn\\linear_model\\_coordinate_descent.py:695: ConvergenceWarning: Objective did not converge. You might want to increase the number of iterations, check the scale of the features or consider increasing regularisation. Duality gap: 1.250e+01, tolerance: 7.740e-02\n",
      "  model = cd_fast.enet_coordinate_descent(\n",
      "D:\\IntelliJ\\ml-stock-sent\\.venv\\Lib\\site-packages\\sklearn\\linear_model\\_coordinate_descent.py:695: ConvergenceWarning: Objective did not converge. You might want to increase the number of iterations, check the scale of the features or consider increasing regularisation. Duality gap: 4.273e+01, tolerance: 7.740e-02\n",
      "  model = cd_fast.enet_coordinate_descent(\n",
      "D:\\IntelliJ\\ml-stock-sent\\.venv\\Lib\\site-packages\\sklearn\\linear_model\\_coordinate_descent.py:695: ConvergenceWarning: Objective did not converge. You might want to increase the number of iterations, check the scale of the features or consider increasing regularisation. Duality gap: 4.884e-01, tolerance: 7.740e-02\n",
      "  model = cd_fast.enet_coordinate_descent(\n",
      "D:\\IntelliJ\\ml-stock-sent\\.venv\\Lib\\site-packages\\sklearn\\linear_model\\_coordinate_descent.py:695: ConvergenceWarning: Objective did not converge. You might want to increase the number of iterations, check the scale of the features or consider increasing regularisation. Duality gap: 5.309e-01, tolerance: 7.740e-02\n",
      "  model = cd_fast.enet_coordinate_descent(\n",
      "D:\\IntelliJ\\ml-stock-sent\\.venv\\Lib\\site-packages\\sklearn\\linear_model\\_coordinate_descent.py:695: ConvergenceWarning: Objective did not converge. You might want to increase the number of iterations, check the scale of the features or consider increasing regularisation. Duality gap: 2.000e+00, tolerance: 7.740e-02\n",
      "  model = cd_fast.enet_coordinate_descent(\n",
      "D:\\IntelliJ\\ml-stock-sent\\.venv\\Lib\\site-packages\\sklearn\\linear_model\\_coordinate_descent.py:695: ConvergenceWarning: Objective did not converge. You might want to increase the number of iterations, check the scale of the features or consider increasing regularisation. Duality gap: 1.746e+01, tolerance: 7.740e-02\n",
      "  model = cd_fast.enet_coordinate_descent(\n",
      "D:\\IntelliJ\\ml-stock-sent\\.venv\\Lib\\site-packages\\sklearn\\linear_model\\_coordinate_descent.py:695: ConvergenceWarning: Objective did not converge. You might want to increase the number of iterations, check the scale of the features or consider increasing regularisation. Duality gap: 1.149e+01, tolerance: 7.740e-02\n",
      "  model = cd_fast.enet_coordinate_descent(\n",
      "D:\\IntelliJ\\ml-stock-sent\\.venv\\Lib\\site-packages\\sklearn\\linear_model\\_coordinate_descent.py:695: ConvergenceWarning: Objective did not converge. You might want to increase the number of iterations, check the scale of the features or consider increasing regularisation. Duality gap: 1.992e+01, tolerance: 7.740e-02\n",
      "  model = cd_fast.enet_coordinate_descent(\n",
      "D:\\IntelliJ\\ml-stock-sent\\.venv\\Lib\\site-packages\\sklearn\\linear_model\\_coordinate_descent.py:695: ConvergenceWarning: Objective did not converge. You might want to increase the number of iterations, check the scale of the features or consider increasing regularisation. Duality gap: 4.637e+01, tolerance: 7.740e-02\n",
      "  model = cd_fast.enet_coordinate_descent(\n",
      "D:\\IntelliJ\\ml-stock-sent\\.venv\\Lib\\site-packages\\sklearn\\linear_model\\_coordinate_descent.py:695: ConvergenceWarning: Objective did not converge. You might want to increase the number of iterations, check the scale of the features or consider increasing regularisation. Duality gap: 5.988e+01, tolerance: 7.740e-02\n",
      "  model = cd_fast.enet_coordinate_descent(\n",
      "D:\\IntelliJ\\ml-stock-sent\\.venv\\Lib\\site-packages\\sklearn\\linear_model\\_coordinate_descent.py:695: ConvergenceWarning: Objective did not converge. You might want to increase the number of iterations, check the scale of the features or consider increasing regularisation. Duality gap: 1.160e+01, tolerance: 7.740e-02\n",
      "  model = cd_fast.enet_coordinate_descent(\n",
      "D:\\IntelliJ\\ml-stock-sent\\.venv\\Lib\\site-packages\\sklearn\\linear_model\\_coordinate_descent.py:695: ConvergenceWarning: Objective did not converge. You might want to increase the number of iterations, check the scale of the features or consider increasing regularisation. Duality gap: 3.059e+01, tolerance: 1.160e-01\n",
      "  model = cd_fast.enet_coordinate_descent(\n",
      "D:\\IntelliJ\\ml-stock-sent\\.venv\\Lib\\site-packages\\sklearn\\linear_model\\_coordinate_descent.py:695: ConvergenceWarning: Objective did not converge. You might want to increase the number of iterations, check the scale of the features or consider increasing regularisation. Duality gap: 1.159e+01, tolerance: 1.160e-01\n",
      "  model = cd_fast.enet_coordinate_descent(\n",
      "D:\\IntelliJ\\ml-stock-sent\\.venv\\Lib\\site-packages\\sklearn\\linear_model\\_coordinate_descent.py:695: ConvergenceWarning: Objective did not converge. You might want to increase the number of iterations, check the scale of the features or consider increasing regularisation. Duality gap: 1.430e+01, tolerance: 1.160e-01\n",
      "  model = cd_fast.enet_coordinate_descent(\n",
      "D:\\IntelliJ\\ml-stock-sent\\.venv\\Lib\\site-packages\\sklearn\\linear_model\\_coordinate_descent.py:695: ConvergenceWarning: Objective did not converge. You might want to increase the number of iterations, check the scale of the features or consider increasing regularisation. Duality gap: 1.606e+00, tolerance: 1.160e-01\n",
      "  model = cd_fast.enet_coordinate_descent(\n",
      "D:\\IntelliJ\\ml-stock-sent\\.venv\\Lib\\site-packages\\sklearn\\linear_model\\_coordinate_descent.py:695: ConvergenceWarning: Objective did not converge. You might want to increase the number of iterations, check the scale of the features or consider increasing regularisation. Duality gap: 1.011e+01, tolerance: 1.160e-01\n",
      "  model = cd_fast.enet_coordinate_descent(\n",
      "D:\\IntelliJ\\ml-stock-sent\\.venv\\Lib\\site-packages\\sklearn\\linear_model\\_coordinate_descent.py:695: ConvergenceWarning: Objective did not converge. You might want to increase the number of iterations, check the scale of the features or consider increasing regularisation. Duality gap: 1.049e+02, tolerance: 1.160e-01\n",
      "  model = cd_fast.enet_coordinate_descent(\n",
      "D:\\IntelliJ\\ml-stock-sent\\.venv\\Lib\\site-packages\\sklearn\\linear_model\\_coordinate_descent.py:695: ConvergenceWarning: Objective did not converge. You might want to increase the number of iterations, check the scale of the features or consider increasing regularisation. Duality gap: 4.385e+00, tolerance: 1.160e-01\n",
      "  model = cd_fast.enet_coordinate_descent(\n",
      "D:\\IntelliJ\\ml-stock-sent\\.venv\\Lib\\site-packages\\sklearn\\linear_model\\_coordinate_descent.py:695: ConvergenceWarning: Objective did not converge. You might want to increase the number of iterations, check the scale of the features or consider increasing regularisation. Duality gap: 3.357e+01, tolerance: 1.160e-01\n",
      "  model = cd_fast.enet_coordinate_descent(\n",
      "D:\\IntelliJ\\ml-stock-sent\\.venv\\Lib\\site-packages\\sklearn\\linear_model\\_coordinate_descent.py:695: ConvergenceWarning: Objective did not converge. You might want to increase the number of iterations, check the scale of the features or consider increasing regularisation. Duality gap: 4.747e+00, tolerance: 1.160e-01\n",
      "  model = cd_fast.enet_coordinate_descent(\n",
      "D:\\IntelliJ\\ml-stock-sent\\.venv\\Lib\\site-packages\\sklearn\\linear_model\\_coordinate_descent.py:695: ConvergenceWarning: Objective did not converge. You might want to increase the number of iterations, check the scale of the features or consider increasing regularisation. Duality gap: 5.248e+01, tolerance: 1.160e-01\n",
      "  model = cd_fast.enet_coordinate_descent(\n",
      "D:\\IntelliJ\\ml-stock-sent\\.venv\\Lib\\site-packages\\sklearn\\linear_model\\_coordinate_descent.py:695: ConvergenceWarning: Objective did not converge. You might want to increase the number of iterations, check the scale of the features or consider increasing regularisation. Duality gap: 1.955e+00, tolerance: 1.160e-01\n",
      "  model = cd_fast.enet_coordinate_descent(\n",
      "D:\\IntelliJ\\ml-stock-sent\\.venv\\Lib\\site-packages\\sklearn\\linear_model\\_coordinate_descent.py:695: ConvergenceWarning: Objective did not converge. You might want to increase the number of iterations, check the scale of the features or consider increasing regularisation. Duality gap: 1.751e+01, tolerance: 1.160e-01\n",
      "  model = cd_fast.enet_coordinate_descent(\n",
      "D:\\IntelliJ\\ml-stock-sent\\.venv\\Lib\\site-packages\\sklearn\\linear_model\\_coordinate_descent.py:695: ConvergenceWarning: Objective did not converge. You might want to increase the number of iterations, check the scale of the features or consider increasing regularisation. Duality gap: 8.275e+00, tolerance: 1.160e-01\n",
      "  model = cd_fast.enet_coordinate_descent(\n",
      "D:\\IntelliJ\\ml-stock-sent\\.venv\\Lib\\site-packages\\sklearn\\linear_model\\_coordinate_descent.py:695: ConvergenceWarning: Objective did not converge. You might want to increase the number of iterations, check the scale of the features or consider increasing regularisation. Duality gap: 1.050e+02, tolerance: 1.160e-01\n",
      "  model = cd_fast.enet_coordinate_descent(\n",
      "D:\\IntelliJ\\ml-stock-sent\\.venv\\Lib\\site-packages\\sklearn\\linear_model\\_coordinate_descent.py:695: ConvergenceWarning: Objective did not converge. You might want to increase the number of iterations, check the scale of the features or consider increasing regularisation. Duality gap: 2.405e+01, tolerance: 1.160e-01\n",
      "  model = cd_fast.enet_coordinate_descent(\n",
      "D:\\IntelliJ\\ml-stock-sent\\.venv\\Lib\\site-packages\\sklearn\\linear_model\\_coordinate_descent.py:695: ConvergenceWarning: Objective did not converge. You might want to increase the number of iterations, check the scale of the features or consider increasing regularisation. Duality gap: 5.306e+01, tolerance: 1.160e-01\n",
      "  model = cd_fast.enet_coordinate_descent(\n",
      "D:\\IntelliJ\\ml-stock-sent\\.venv\\Lib\\site-packages\\sklearn\\linear_model\\_coordinate_descent.py:695: ConvergenceWarning: Objective did not converge. You might want to increase the number of iterations, check the scale of the features or consider increasing regularisation. Duality gap: 1.056e+01, tolerance: 1.160e-01\n",
      "  model = cd_fast.enet_coordinate_descent(\n",
      "D:\\IntelliJ\\ml-stock-sent\\.venv\\Lib\\site-packages\\sklearn\\linear_model\\_coordinate_descent.py:695: ConvergenceWarning: Objective did not converge. You might want to increase the number of iterations, check the scale of the features or consider increasing regularisation. Duality gap: 6.882e+01, tolerance: 1.160e-01\n",
      "  model = cd_fast.enet_coordinate_descent(\n",
      "D:\\IntelliJ\\ml-stock-sent\\.venv\\Lib\\site-packages\\sklearn\\linear_model\\_coordinate_descent.py:695: ConvergenceWarning: Objective did not converge. You might want to increase the number of iterations, check the scale of the features or consider increasing regularisation. Duality gap: 1.636e-01, tolerance: 1.160e-01\n",
      "  model = cd_fast.enet_coordinate_descent(\n",
      "D:\\IntelliJ\\ml-stock-sent\\.venv\\Lib\\site-packages\\sklearn\\linear_model\\_coordinate_descent.py:695: ConvergenceWarning: Objective did not converge. You might want to increase the number of iterations, check the scale of the features or consider increasing regularisation. Duality gap: 2.710e+01, tolerance: 1.160e-01\n",
      "  model = cd_fast.enet_coordinate_descent(\n",
      "D:\\IntelliJ\\ml-stock-sent\\.venv\\Lib\\site-packages\\sklearn\\linear_model\\_coordinate_descent.py:695: ConvergenceWarning: Objective did not converge. You might want to increase the number of iterations, check the scale of the features or consider increasing regularisation. Duality gap: 1.276e+00, tolerance: 1.160e-01\n",
      "  model = cd_fast.enet_coordinate_descent(\n",
      "D:\\IntelliJ\\ml-stock-sent\\.venv\\Lib\\site-packages\\sklearn\\linear_model\\_coordinate_descent.py:695: ConvergenceWarning: Objective did not converge. You might want to increase the number of iterations, check the scale of the features or consider increasing regularisation. Duality gap: 5.236e+00, tolerance: 1.160e-01\n",
      "  model = cd_fast.enet_coordinate_descent(\n",
      "D:\\IntelliJ\\ml-stock-sent\\.venv\\Lib\\site-packages\\sklearn\\linear_model\\_coordinate_descent.py:695: ConvergenceWarning: Objective did not converge. You might want to increase the number of iterations, check the scale of the features or consider increasing regularisation. Duality gap: 5.522e+01, tolerance: 1.160e-01\n",
      "  model = cd_fast.enet_coordinate_descent(\n",
      "D:\\IntelliJ\\ml-stock-sent\\.venv\\Lib\\site-packages\\sklearn\\linear_model\\_coordinate_descent.py:695: ConvergenceWarning: Objective did not converge. You might want to increase the number of iterations, check the scale of the features or consider increasing regularisation. Duality gap: 7.719e+01, tolerance: 1.160e-01\n",
      "  model = cd_fast.enet_coordinate_descent(\n",
      "D:\\IntelliJ\\ml-stock-sent\\.venv\\Lib\\site-packages\\sklearn\\linear_model\\_coordinate_descent.py:695: ConvergenceWarning: Objective did not converge. You might want to increase the number of iterations, check the scale of the features or consider increasing regularisation. Duality gap: 2.342e+01, tolerance: 1.160e-01\n",
      "  model = cd_fast.enet_coordinate_descent(\n",
      "D:\\IntelliJ\\ml-stock-sent\\.venv\\Lib\\site-packages\\sklearn\\linear_model\\_coordinate_descent.py:695: ConvergenceWarning: Objective did not converge. You might want to increase the number of iterations, check the scale of the features or consider increasing regularisation. Duality gap: 2.842e+00, tolerance: 1.160e-01\n",
      "  model = cd_fast.enet_coordinate_descent(\n",
      "[I 2025-08-20 16:29:14,999] Trial 0 finished with value: 0.010321006286591166 and parameters: {'alpha': 0.0001329291894316216, 'l1_ratio': 0.9507143064099162, 'selection': 'cyclic'}. Best is trial 0 with value: 0.010321006286591166.\n",
      "D:\\IntelliJ\\ml-stock-sent\\.venv\\Lib\\site-packages\\sklearn\\linear_model\\_coordinate_descent.py:695: ConvergenceWarning: Objective did not converge. You might want to increase the number of iterations, check the scale of the features or consider increasing regularisation. Duality gap: 1.676e+02, tolerance: 3.880e-02\n",
      "  model = cd_fast.enet_coordinate_descent(\n",
      "D:\\IntelliJ\\ml-stock-sent\\.venv\\Lib\\site-packages\\sklearn\\linear_model\\_coordinate_descent.py:695: ConvergenceWarning: Objective did not converge. You might want to increase the number of iterations, check the scale of the features or consider increasing regularisation. Duality gap: 1.618e+02, tolerance: 3.880e-02\n",
      "  model = cd_fast.enet_coordinate_descent(\n",
      "D:\\IntelliJ\\ml-stock-sent\\.venv\\Lib\\site-packages\\sklearn\\linear_model\\_coordinate_descent.py:695: ConvergenceWarning: Objective did not converge. You might want to increase the number of iterations, check the scale of the features or consider increasing regularisation. Duality gap: 1.645e+02, tolerance: 3.880e-02\n",
      "  model = cd_fast.enet_coordinate_descent(\n",
      "D:\\IntelliJ\\ml-stock-sent\\.venv\\Lib\\site-packages\\sklearn\\linear_model\\_coordinate_descent.py:695: ConvergenceWarning: Objective did not converge. You might want to increase the number of iterations, check the scale of the features or consider increasing regularisation. Duality gap: 1.666e+02, tolerance: 3.880e-02\n",
      "  model = cd_fast.enet_coordinate_descent(\n",
      "D:\\IntelliJ\\ml-stock-sent\\.venv\\Lib\\site-packages\\sklearn\\linear_model\\_coordinate_descent.py:695: ConvergenceWarning: Objective did not converge. You might want to increase the number of iterations, check the scale of the features or consider increasing regularisation. Duality gap: 1.753e+02, tolerance: 3.880e-02\n",
      "  model = cd_fast.enet_coordinate_descent(\n",
      "D:\\IntelliJ\\ml-stock-sent\\.venv\\Lib\\site-packages\\sklearn\\linear_model\\_coordinate_descent.py:695: ConvergenceWarning: Objective did not converge. You might want to increase the number of iterations, check the scale of the features or consider increasing regularisation. Duality gap: 1.680e+02, tolerance: 3.880e-02\n",
      "  model = cd_fast.enet_coordinate_descent(\n",
      "D:\\IntelliJ\\ml-stock-sent\\.venv\\Lib\\site-packages\\sklearn\\linear_model\\_coordinate_descent.py:695: ConvergenceWarning: Objective did not converge. You might want to increase the number of iterations, check the scale of the features or consider increasing regularisation. Duality gap: 1.590e+02, tolerance: 3.880e-02\n",
      "  model = cd_fast.enet_coordinate_descent(\n",
      "D:\\IntelliJ\\ml-stock-sent\\.venv\\Lib\\site-packages\\sklearn\\linear_model\\_coordinate_descent.py:695: ConvergenceWarning: Objective did not converge. You might want to increase the number of iterations, check the scale of the features or consider increasing regularisation. Duality gap: 1.592e+02, tolerance: 3.880e-02\n",
      "  model = cd_fast.enet_coordinate_descent(\n",
      "D:\\IntelliJ\\ml-stock-sent\\.venv\\Lib\\site-packages\\sklearn\\linear_model\\_coordinate_descent.py:695: ConvergenceWarning: Objective did not converge. You might want to increase the number of iterations, check the scale of the features or consider increasing regularisation. Duality gap: 1.638e+02, tolerance: 3.880e-02\n",
      "  model = cd_fast.enet_coordinate_descent(\n",
      "D:\\IntelliJ\\ml-stock-sent\\.venv\\Lib\\site-packages\\sklearn\\linear_model\\_coordinate_descent.py:695: ConvergenceWarning: Objective did not converge. You might want to increase the number of iterations, check the scale of the features or consider increasing regularisation. Duality gap: 1.664e+02, tolerance: 3.880e-02\n",
      "  model = cd_fast.enet_coordinate_descent(\n",
      "D:\\IntelliJ\\ml-stock-sent\\.venv\\Lib\\site-packages\\sklearn\\linear_model\\_coordinate_descent.py:695: ConvergenceWarning: Objective did not converge. You might want to increase the number of iterations, check the scale of the features or consider increasing regularisation. Duality gap: 1.504e+02, tolerance: 3.880e-02\n",
      "  model = cd_fast.enet_coordinate_descent(\n",
      "D:\\IntelliJ\\ml-stock-sent\\.venv\\Lib\\site-packages\\sklearn\\linear_model\\_coordinate_descent.py:695: ConvergenceWarning: Objective did not converge. You might want to increase the number of iterations, check the scale of the features or consider increasing regularisation. Duality gap: 1.678e+02, tolerance: 3.880e-02\n",
      "  model = cd_fast.enet_coordinate_descent(\n",
      "D:\\IntelliJ\\ml-stock-sent\\.venv\\Lib\\site-packages\\sklearn\\linear_model\\_coordinate_descent.py:695: ConvergenceWarning: Objective did not converge. You might want to increase the number of iterations, check the scale of the features or consider increasing regularisation. Duality gap: 1.657e+02, tolerance: 3.880e-02\n",
      "  model = cd_fast.enet_coordinate_descent(\n",
      "D:\\IntelliJ\\ml-stock-sent\\.venv\\Lib\\site-packages\\sklearn\\linear_model\\_coordinate_descent.py:695: ConvergenceWarning: Objective did not converge. You might want to increase the number of iterations, check the scale of the features or consider increasing regularisation. Duality gap: 1.637e+02, tolerance: 3.880e-02\n",
      "  model = cd_fast.enet_coordinate_descent(\n",
      "D:\\IntelliJ\\ml-stock-sent\\.venv\\Lib\\site-packages\\sklearn\\linear_model\\_coordinate_descent.py:695: ConvergenceWarning: Objective did not converge. You might want to increase the number of iterations, check the scale of the features or consider increasing regularisation. Duality gap: 1.639e+02, tolerance: 3.880e-02\n",
      "  model = cd_fast.enet_coordinate_descent(\n",
      "D:\\IntelliJ\\ml-stock-sent\\.venv\\Lib\\site-packages\\sklearn\\linear_model\\_coordinate_descent.py:695: ConvergenceWarning: Objective did not converge. You might want to increase the number of iterations, check the scale of the features or consider increasing regularisation. Duality gap: 1.443e+02, tolerance: 3.880e-02\n",
      "  model = cd_fast.enet_coordinate_descent(\n",
      "D:\\IntelliJ\\ml-stock-sent\\.venv\\Lib\\site-packages\\sklearn\\linear_model\\_coordinate_descent.py:695: ConvergenceWarning: Objective did not converge. You might want to increase the number of iterations, check the scale of the features or consider increasing regularisation. Duality gap: 1.642e+02, tolerance: 3.880e-02\n",
      "  model = cd_fast.enet_coordinate_descent(\n",
      "D:\\IntelliJ\\ml-stock-sent\\.venv\\Lib\\site-packages\\sklearn\\linear_model\\_coordinate_descent.py:695: ConvergenceWarning: Objective did not converge. You might want to increase the number of iterations, check the scale of the features or consider increasing regularisation. Duality gap: 1.546e+02, tolerance: 3.880e-02\n",
      "  model = cd_fast.enet_coordinate_descent(\n",
      "D:\\IntelliJ\\ml-stock-sent\\.venv\\Lib\\site-packages\\sklearn\\linear_model\\_coordinate_descent.py:695: ConvergenceWarning: Objective did not converge. You might want to increase the number of iterations, check the scale of the features or consider increasing regularisation. Duality gap: 1.666e+02, tolerance: 3.880e-02\n",
      "  model = cd_fast.enet_coordinate_descent(\n",
      "D:\\IntelliJ\\ml-stock-sent\\.venv\\Lib\\site-packages\\sklearn\\linear_model\\_coordinate_descent.py:695: ConvergenceWarning: Objective did not converge. You might want to increase the number of iterations, check the scale of the features or consider increasing regularisation. Duality gap: 1.609e+02, tolerance: 3.880e-02\n",
      "  model = cd_fast.enet_coordinate_descent(\n",
      "D:\\IntelliJ\\ml-stock-sent\\.venv\\Lib\\site-packages\\sklearn\\linear_model\\_coordinate_descent.py:695: ConvergenceWarning: Objective did not converge. You might want to increase the number of iterations, check the scale of the features or consider increasing regularisation. Duality gap: 1.295e+02, tolerance: 3.880e-02\n",
      "  model = cd_fast.enet_coordinate_descent(\n",
      "D:\\IntelliJ\\ml-stock-sent\\.venv\\Lib\\site-packages\\sklearn\\linear_model\\_coordinate_descent.py:695: ConvergenceWarning: Objective did not converge. You might want to increase the number of iterations, check the scale of the features or consider increasing regularisation. Duality gap: 1.539e+02, tolerance: 3.880e-02\n",
      "  model = cd_fast.enet_coordinate_descent(\n",
      "D:\\IntelliJ\\ml-stock-sent\\.venv\\Lib\\site-packages\\sklearn\\linear_model\\_coordinate_descent.py:695: ConvergenceWarning: Objective did not converge. You might want to increase the number of iterations, check the scale of the features or consider increasing regularisation. Duality gap: 1.650e+02, tolerance: 3.880e-02\n",
      "  model = cd_fast.enet_coordinate_descent(\n",
      "D:\\IntelliJ\\ml-stock-sent\\.venv\\Lib\\site-packages\\sklearn\\linear_model\\_coordinate_descent.py:695: ConvergenceWarning: Objective did not converge. You might want to increase the number of iterations, check the scale of the features or consider increasing regularisation. Duality gap: 1.648e+02, tolerance: 3.880e-02\n",
      "  model = cd_fast.enet_coordinate_descent(\n",
      "D:\\IntelliJ\\ml-stock-sent\\.venv\\Lib\\site-packages\\sklearn\\linear_model\\_coordinate_descent.py:695: ConvergenceWarning: Objective did not converge. You might want to increase the number of iterations, check the scale of the features or consider increasing regularisation. Duality gap: 1.634e+02, tolerance: 3.880e-02\n",
      "  model = cd_fast.enet_coordinate_descent(\n",
      "D:\\IntelliJ\\ml-stock-sent\\.venv\\Lib\\site-packages\\sklearn\\linear_model\\_coordinate_descent.py:695: ConvergenceWarning: Objective did not converge. You might want to increase the number of iterations, check the scale of the features or consider increasing regularisation. Duality gap: 1.706e+02, tolerance: 3.880e-02\n",
      "  model = cd_fast.enet_coordinate_descent(\n",
      "D:\\IntelliJ\\ml-stock-sent\\.venv\\Lib\\site-packages\\sklearn\\linear_model\\_coordinate_descent.py:695: ConvergenceWarning: Objective did not converge. You might want to increase the number of iterations, check the scale of the features or consider increasing regularisation. Duality gap: 1.555e+02, tolerance: 3.880e-02\n",
      "  model = cd_fast.enet_coordinate_descent(\n",
      "D:\\IntelliJ\\ml-stock-sent\\.venv\\Lib\\site-packages\\sklearn\\linear_model\\_coordinate_descent.py:695: ConvergenceWarning: Objective did not converge. You might want to increase the number of iterations, check the scale of the features or consider increasing regularisation. Duality gap: 1.657e+02, tolerance: 3.880e-02\n",
      "  model = cd_fast.enet_coordinate_descent(\n",
      "D:\\IntelliJ\\ml-stock-sent\\.venv\\Lib\\site-packages\\sklearn\\linear_model\\_coordinate_descent.py:695: ConvergenceWarning: Objective did not converge. You might want to increase the number of iterations, check the scale of the features or consider increasing regularisation. Duality gap: 1.555e+02, tolerance: 3.880e-02\n",
      "  model = cd_fast.enet_coordinate_descent(\n",
      "D:\\IntelliJ\\ml-stock-sent\\.venv\\Lib\\site-packages\\sklearn\\linear_model\\_coordinate_descent.py:695: ConvergenceWarning: Objective did not converge. You might want to increase the number of iterations, check the scale of the features or consider increasing regularisation. Duality gap: 1.677e+02, tolerance: 3.880e-02\n",
      "  model = cd_fast.enet_coordinate_descent(\n",
      "D:\\IntelliJ\\ml-stock-sent\\.venv\\Lib\\site-packages\\sklearn\\linear_model\\_coordinate_descent.py:695: ConvergenceWarning: Objective did not converge. You might want to increase the number of iterations, check the scale of the features or consider increasing regularisation. Duality gap: 3.495e+02, tolerance: 7.740e-02\n",
      "  model = cd_fast.enet_coordinate_descent(\n",
      "D:\\IntelliJ\\ml-stock-sent\\.venv\\Lib\\site-packages\\sklearn\\linear_model\\_coordinate_descent.py:695: ConvergenceWarning: Objective did not converge. You might want to increase the number of iterations, check the scale of the features or consider increasing regularisation. Duality gap: 3.515e+02, tolerance: 7.740e-02\n",
      "  model = cd_fast.enet_coordinate_descent(\n",
      "D:\\IntelliJ\\ml-stock-sent\\.venv\\Lib\\site-packages\\sklearn\\linear_model\\_coordinate_descent.py:695: ConvergenceWarning: Objective did not converge. You might want to increase the number of iterations, check the scale of the features or consider increasing regularisation. Duality gap: 3.511e+02, tolerance: 7.740e-02\n",
      "  model = cd_fast.enet_coordinate_descent(\n",
      "D:\\IntelliJ\\ml-stock-sent\\.venv\\Lib\\site-packages\\sklearn\\linear_model\\_coordinate_descent.py:695: ConvergenceWarning: Objective did not converge. You might want to increase the number of iterations, check the scale of the features or consider increasing regularisation. Duality gap: 3.504e+02, tolerance: 7.740e-02\n",
      "  model = cd_fast.enet_coordinate_descent(\n",
      "D:\\IntelliJ\\ml-stock-sent\\.venv\\Lib\\site-packages\\sklearn\\linear_model\\_coordinate_descent.py:695: ConvergenceWarning: Objective did not converge. You might want to increase the number of iterations, check the scale of the features or consider increasing regularisation. Duality gap: 3.453e+02, tolerance: 7.740e-02\n",
      "  model = cd_fast.enet_coordinate_descent(\n",
      "D:\\IntelliJ\\ml-stock-sent\\.venv\\Lib\\site-packages\\sklearn\\linear_model\\_coordinate_descent.py:695: ConvergenceWarning: Objective did not converge. You might want to increase the number of iterations, check the scale of the features or consider increasing regularisation. Duality gap: 3.557e+02, tolerance: 7.740e-02\n",
      "  model = cd_fast.enet_coordinate_descent(\n",
      "D:\\IntelliJ\\ml-stock-sent\\.venv\\Lib\\site-packages\\sklearn\\linear_model\\_coordinate_descent.py:695: ConvergenceWarning: Objective did not converge. You might want to increase the number of iterations, check the scale of the features or consider increasing regularisation. Duality gap: 3.510e+02, tolerance: 7.740e-02\n",
      "  model = cd_fast.enet_coordinate_descent(\n",
      "D:\\IntelliJ\\ml-stock-sent\\.venv\\Lib\\site-packages\\sklearn\\linear_model\\_coordinate_descent.py:695: ConvergenceWarning: Objective did not converge. You might want to increase the number of iterations, check the scale of the features or consider increasing regularisation. Duality gap: 3.475e+02, tolerance: 7.740e-02\n",
      "  model = cd_fast.enet_coordinate_descent(\n",
      "D:\\IntelliJ\\ml-stock-sent\\.venv\\Lib\\site-packages\\sklearn\\linear_model\\_coordinate_descent.py:695: ConvergenceWarning: Objective did not converge. You might want to increase the number of iterations, check the scale of the features or consider increasing regularisation. Duality gap: 3.417e+02, tolerance: 7.740e-02\n",
      "  model = cd_fast.enet_coordinate_descent(\n",
      "D:\\IntelliJ\\ml-stock-sent\\.venv\\Lib\\site-packages\\sklearn\\linear_model\\_coordinate_descent.py:695: ConvergenceWarning: Objective did not converge. You might want to increase the number of iterations, check the scale of the features or consider increasing regularisation. Duality gap: 3.541e+02, tolerance: 7.740e-02\n",
      "  model = cd_fast.enet_coordinate_descent(\n",
      "D:\\IntelliJ\\ml-stock-sent\\.venv\\Lib\\site-packages\\sklearn\\linear_model\\_coordinate_descent.py:695: ConvergenceWarning: Objective did not converge. You might want to increase the number of iterations, check the scale of the features or consider increasing regularisation. Duality gap: 3.381e+02, tolerance: 7.740e-02\n",
      "  model = cd_fast.enet_coordinate_descent(\n",
      "D:\\IntelliJ\\ml-stock-sent\\.venv\\Lib\\site-packages\\sklearn\\linear_model\\_coordinate_descent.py:695: ConvergenceWarning: Objective did not converge. You might want to increase the number of iterations, check the scale of the features or consider increasing regularisation. Duality gap: 3.575e+02, tolerance: 7.740e-02\n",
      "  model = cd_fast.enet_coordinate_descent(\n",
      "D:\\IntelliJ\\ml-stock-sent\\.venv\\Lib\\site-packages\\sklearn\\linear_model\\_coordinate_descent.py:695: ConvergenceWarning: Objective did not converge. You might want to increase the number of iterations, check the scale of the features or consider increasing regularisation. Duality gap: 3.455e+02, tolerance: 7.740e-02\n",
      "  model = cd_fast.enet_coordinate_descent(\n",
      "D:\\IntelliJ\\ml-stock-sent\\.venv\\Lib\\site-packages\\sklearn\\linear_model\\_coordinate_descent.py:695: ConvergenceWarning: Objective did not converge. You might want to increase the number of iterations, check the scale of the features or consider increasing regularisation. Duality gap: 3.505e+02, tolerance: 7.740e-02\n",
      "  model = cd_fast.enet_coordinate_descent(\n",
      "D:\\IntelliJ\\ml-stock-sent\\.venv\\Lib\\site-packages\\sklearn\\linear_model\\_coordinate_descent.py:695: ConvergenceWarning: Objective did not converge. You might want to increase the number of iterations, check the scale of the features or consider increasing regularisation. Duality gap: 3.589e+02, tolerance: 7.740e-02\n",
      "  model = cd_fast.enet_coordinate_descent(\n",
      "D:\\IntelliJ\\ml-stock-sent\\.venv\\Lib\\site-packages\\sklearn\\linear_model\\_coordinate_descent.py:695: ConvergenceWarning: Objective did not converge. You might want to increase the number of iterations, check the scale of the features or consider increasing regularisation. Duality gap: 3.347e+02, tolerance: 7.740e-02\n",
      "  model = cd_fast.enet_coordinate_descent(\n",
      "D:\\IntelliJ\\ml-stock-sent\\.venv\\Lib\\site-packages\\sklearn\\linear_model\\_coordinate_descent.py:695: ConvergenceWarning: Objective did not converge. You might want to increase the number of iterations, check the scale of the features or consider increasing regularisation. Duality gap: 3.336e+02, tolerance: 7.740e-02\n",
      "  model = cd_fast.enet_coordinate_descent(\n",
      "D:\\IntelliJ\\ml-stock-sent\\.venv\\Lib\\site-packages\\sklearn\\linear_model\\_coordinate_descent.py:695: ConvergenceWarning: Objective did not converge. You might want to increase the number of iterations, check the scale of the features or consider increasing regularisation. Duality gap: 3.412e+02, tolerance: 7.740e-02\n",
      "  model = cd_fast.enet_coordinate_descent(\n",
      "D:\\IntelliJ\\ml-stock-sent\\.venv\\Lib\\site-packages\\sklearn\\linear_model\\_coordinate_descent.py:695: ConvergenceWarning: Objective did not converge. You might want to increase the number of iterations, check the scale of the features or consider increasing regularisation. Duality gap: 3.433e+02, tolerance: 7.740e-02\n",
      "  model = cd_fast.enet_coordinate_descent(\n",
      "D:\\IntelliJ\\ml-stock-sent\\.venv\\Lib\\site-packages\\sklearn\\linear_model\\_coordinate_descent.py:695: ConvergenceWarning: Objective did not converge. You might want to increase the number of iterations, check the scale of the features or consider increasing regularisation. Duality gap: 3.443e+02, tolerance: 7.740e-02\n",
      "  model = cd_fast.enet_coordinate_descent(\n",
      "D:\\IntelliJ\\ml-stock-sent\\.venv\\Lib\\site-packages\\sklearn\\linear_model\\_coordinate_descent.py:695: ConvergenceWarning: Objective did not converge. You might want to increase the number of iterations, check the scale of the features or consider increasing regularisation. Duality gap: 3.385e+02, tolerance: 7.740e-02\n",
      "  model = cd_fast.enet_coordinate_descent(\n",
      "D:\\IntelliJ\\ml-stock-sent\\.venv\\Lib\\site-packages\\sklearn\\linear_model\\_coordinate_descent.py:695: ConvergenceWarning: Objective did not converge. You might want to increase the number of iterations, check the scale of the features or consider increasing regularisation. Duality gap: 2.834e+02, tolerance: 7.740e-02\n",
      "  model = cd_fast.enet_coordinate_descent(\n",
      "D:\\IntelliJ\\ml-stock-sent\\.venv\\Lib\\site-packages\\sklearn\\linear_model\\_coordinate_descent.py:695: ConvergenceWarning: Objective did not converge. You might want to increase the number of iterations, check the scale of the features or consider increasing regularisation. Duality gap: 3.502e+02, tolerance: 7.740e-02\n",
      "  model = cd_fast.enet_coordinate_descent(\n",
      "D:\\IntelliJ\\ml-stock-sent\\.venv\\Lib\\site-packages\\sklearn\\linear_model\\_coordinate_descent.py:695: ConvergenceWarning: Objective did not converge. You might want to increase the number of iterations, check the scale of the features or consider increasing regularisation. Duality gap: 3.501e+02, tolerance: 7.740e-02\n",
      "  model = cd_fast.enet_coordinate_descent(\n",
      "D:\\IntelliJ\\ml-stock-sent\\.venv\\Lib\\site-packages\\sklearn\\linear_model\\_coordinate_descent.py:695: ConvergenceWarning: Objective did not converge. You might want to increase the number of iterations, check the scale of the features or consider increasing regularisation. Duality gap: 3.517e+02, tolerance: 7.740e-02\n",
      "  model = cd_fast.enet_coordinate_descent(\n",
      "D:\\IntelliJ\\ml-stock-sent\\.venv\\Lib\\site-packages\\sklearn\\linear_model\\_coordinate_descent.py:695: ConvergenceWarning: Objective did not converge. You might want to increase the number of iterations, check the scale of the features or consider increasing regularisation. Duality gap: 3.249e+02, tolerance: 7.740e-02\n",
      "  model = cd_fast.enet_coordinate_descent(\n",
      "D:\\IntelliJ\\ml-stock-sent\\.venv\\Lib\\site-packages\\sklearn\\linear_model\\_coordinate_descent.py:695: ConvergenceWarning: Objective did not converge. You might want to increase the number of iterations, check the scale of the features or consider increasing regularisation. Duality gap: 3.471e+02, tolerance: 7.740e-02\n",
      "  model = cd_fast.enet_coordinate_descent(\n",
      "D:\\IntelliJ\\ml-stock-sent\\.venv\\Lib\\site-packages\\sklearn\\linear_model\\_coordinate_descent.py:695: ConvergenceWarning: Objective did not converge. You might want to increase the number of iterations, check the scale of the features or consider increasing regularisation. Duality gap: 3.539e+02, tolerance: 7.740e-02\n",
      "  model = cd_fast.enet_coordinate_descent(\n",
      "D:\\IntelliJ\\ml-stock-sent\\.venv\\Lib\\site-packages\\sklearn\\linear_model\\_coordinate_descent.py:695: ConvergenceWarning: Objective did not converge. You might want to increase the number of iterations, check the scale of the features or consider increasing regularisation. Duality gap: 3.446e+02, tolerance: 7.740e-02\n",
      "  model = cd_fast.enet_coordinate_descent(\n",
      "D:\\IntelliJ\\ml-stock-sent\\.venv\\Lib\\site-packages\\sklearn\\linear_model\\_coordinate_descent.py:695: ConvergenceWarning: Objective did not converge. You might want to increase the number of iterations, check the scale of the features or consider increasing regularisation. Duality gap: 3.048e+02, tolerance: 7.740e-02\n",
      "  model = cd_fast.enet_coordinate_descent(\n",
      "D:\\IntelliJ\\ml-stock-sent\\.venv\\Lib\\site-packages\\sklearn\\linear_model\\_coordinate_descent.py:695: ConvergenceWarning: Objective did not converge. You might want to increase the number of iterations, check the scale of the features or consider increasing regularisation. Duality gap: 5.318e+02, tolerance: 1.160e-01\n",
      "  model = cd_fast.enet_coordinate_descent(\n",
      "D:\\IntelliJ\\ml-stock-sent\\.venv\\Lib\\site-packages\\sklearn\\linear_model\\_coordinate_descent.py:695: ConvergenceWarning: Objective did not converge. You might want to increase the number of iterations, check the scale of the features or consider increasing regularisation. Duality gap: 5.306e+02, tolerance: 1.160e-01\n",
      "  model = cd_fast.enet_coordinate_descent(\n",
      "D:\\IntelliJ\\ml-stock-sent\\.venv\\Lib\\site-packages\\sklearn\\linear_model\\_coordinate_descent.py:695: ConvergenceWarning: Objective did not converge. You might want to increase the number of iterations, check the scale of the features or consider increasing regularisation. Duality gap: 5.366e+02, tolerance: 1.160e-01\n",
      "  model = cd_fast.enet_coordinate_descent(\n",
      "D:\\IntelliJ\\ml-stock-sent\\.venv\\Lib\\site-packages\\sklearn\\linear_model\\_coordinate_descent.py:695: ConvergenceWarning: Objective did not converge. You might want to increase the number of iterations, check the scale of the features or consider increasing regularisation. Duality gap: 5.251e+02, tolerance: 1.160e-01\n",
      "  model = cd_fast.enet_coordinate_descent(\n",
      "D:\\IntelliJ\\ml-stock-sent\\.venv\\Lib\\site-packages\\sklearn\\linear_model\\_coordinate_descent.py:695: ConvergenceWarning: Objective did not converge. You might want to increase the number of iterations, check the scale of the features or consider increasing regularisation. Duality gap: 5.283e+02, tolerance: 1.160e-01\n",
      "  model = cd_fast.enet_coordinate_descent(\n",
      "D:\\IntelliJ\\ml-stock-sent\\.venv\\Lib\\site-packages\\sklearn\\linear_model\\_coordinate_descent.py:695: ConvergenceWarning: Objective did not converge. You might want to increase the number of iterations, check the scale of the features or consider increasing regularisation. Duality gap: 5.403e+02, tolerance: 1.160e-01\n",
      "  model = cd_fast.enet_coordinate_descent(\n",
      "D:\\IntelliJ\\ml-stock-sent\\.venv\\Lib\\site-packages\\sklearn\\linear_model\\_coordinate_descent.py:695: ConvergenceWarning: Objective did not converge. You might want to increase the number of iterations, check the scale of the features or consider increasing regularisation. Duality gap: 5.415e+02, tolerance: 1.160e-01\n",
      "  model = cd_fast.enet_coordinate_descent(\n",
      "D:\\IntelliJ\\ml-stock-sent\\.venv\\Lib\\site-packages\\sklearn\\linear_model\\_coordinate_descent.py:695: ConvergenceWarning: Objective did not converge. You might want to increase the number of iterations, check the scale of the features or consider increasing regularisation. Duality gap: 5.361e+02, tolerance: 1.160e-01\n",
      "  model = cd_fast.enet_coordinate_descent(\n",
      "D:\\IntelliJ\\ml-stock-sent\\.venv\\Lib\\site-packages\\sklearn\\linear_model\\_coordinate_descent.py:695: ConvergenceWarning: Objective did not converge. You might want to increase the number of iterations, check the scale of the features or consider increasing regularisation. Duality gap: 5.279e+02, tolerance: 1.160e-01\n",
      "  model = cd_fast.enet_coordinate_descent(\n",
      "D:\\IntelliJ\\ml-stock-sent\\.venv\\Lib\\site-packages\\sklearn\\linear_model\\_coordinate_descent.py:695: ConvergenceWarning: Objective did not converge. You might want to increase the number of iterations, check the scale of the features or consider increasing regularisation. Duality gap: 5.400e+02, tolerance: 1.160e-01\n",
      "  model = cd_fast.enet_coordinate_descent(\n",
      "D:\\IntelliJ\\ml-stock-sent\\.venv\\Lib\\site-packages\\sklearn\\linear_model\\_coordinate_descent.py:695: ConvergenceWarning: Objective did not converge. You might want to increase the number of iterations, check the scale of the features or consider increasing regularisation. Duality gap: 5.138e+02, tolerance: 1.160e-01\n",
      "  model = cd_fast.enet_coordinate_descent(\n",
      "D:\\IntelliJ\\ml-stock-sent\\.venv\\Lib\\site-packages\\sklearn\\linear_model\\_coordinate_descent.py:695: ConvergenceWarning: Objective did not converge. You might want to increase the number of iterations, check the scale of the features or consider increasing regularisation. Duality gap: 5.432e+02, tolerance: 1.160e-01\n",
      "  model = cd_fast.enet_coordinate_descent(\n",
      "D:\\IntelliJ\\ml-stock-sent\\.venv\\Lib\\site-packages\\sklearn\\linear_model\\_coordinate_descent.py:695: ConvergenceWarning: Objective did not converge. You might want to increase the number of iterations, check the scale of the features or consider increasing regularisation. Duality gap: 5.258e+02, tolerance: 1.160e-01\n",
      "  model = cd_fast.enet_coordinate_descent(\n",
      "D:\\IntelliJ\\ml-stock-sent\\.venv\\Lib\\site-packages\\sklearn\\linear_model\\_coordinate_descent.py:695: ConvergenceWarning: Objective did not converge. You might want to increase the number of iterations, check the scale of the features or consider increasing regularisation. Duality gap: 5.401e+02, tolerance: 1.160e-01\n",
      "  model = cd_fast.enet_coordinate_descent(\n",
      "D:\\IntelliJ\\ml-stock-sent\\.venv\\Lib\\site-packages\\sklearn\\linear_model\\_coordinate_descent.py:695: ConvergenceWarning: Objective did not converge. You might want to increase the number of iterations, check the scale of the features or consider increasing regularisation. Duality gap: 5.434e+02, tolerance: 1.160e-01\n",
      "  model = cd_fast.enet_coordinate_descent(\n",
      "D:\\IntelliJ\\ml-stock-sent\\.venv\\Lib\\site-packages\\sklearn\\linear_model\\_coordinate_descent.py:695: ConvergenceWarning: Objective did not converge. You might want to increase the number of iterations, check the scale of the features or consider increasing regularisation. Duality gap: 5.154e+02, tolerance: 1.160e-01\n",
      "  model = cd_fast.enet_coordinate_descent(\n",
      "D:\\IntelliJ\\ml-stock-sent\\.venv\\Lib\\site-packages\\sklearn\\linear_model\\_coordinate_descent.py:695: ConvergenceWarning: Objective did not converge. You might want to increase the number of iterations, check the scale of the features or consider increasing regularisation. Duality gap: 4.704e+02, tolerance: 1.160e-01\n",
      "  model = cd_fast.enet_coordinate_descent(\n",
      "D:\\IntelliJ\\ml-stock-sent\\.venv\\Lib\\site-packages\\sklearn\\linear_model\\_coordinate_descent.py:695: ConvergenceWarning: Objective did not converge. You might want to increase the number of iterations, check the scale of the features or consider increasing regularisation. Duality gap: 5.289e+02, tolerance: 1.160e-01\n",
      "  model = cd_fast.enet_coordinate_descent(\n",
      "D:\\IntelliJ\\ml-stock-sent\\.venv\\Lib\\site-packages\\sklearn\\linear_model\\_coordinate_descent.py:695: ConvergenceWarning: Objective did not converge. You might want to increase the number of iterations, check the scale of the features or consider increasing regularisation. Duality gap: 4.877e+02, tolerance: 1.160e-01\n",
      "  model = cd_fast.enet_coordinate_descent(\n",
      "D:\\IntelliJ\\ml-stock-sent\\.venv\\Lib\\site-packages\\sklearn\\linear_model\\_coordinate_descent.py:695: ConvergenceWarning: Objective did not converge. You might want to increase the number of iterations, check the scale of the features or consider increasing regularisation. Duality gap: 5.173e+02, tolerance: 1.160e-01\n",
      "  model = cd_fast.enet_coordinate_descent(\n",
      "D:\\IntelliJ\\ml-stock-sent\\.venv\\Lib\\site-packages\\sklearn\\linear_model\\_coordinate_descent.py:695: ConvergenceWarning: Objective did not converge. You might want to increase the number of iterations, check the scale of the features or consider increasing regularisation. Duality gap: 4.800e+02, tolerance: 1.160e-01\n",
      "  model = cd_fast.enet_coordinate_descent(\n",
      "D:\\IntelliJ\\ml-stock-sent\\.venv\\Lib\\site-packages\\sklearn\\linear_model\\_coordinate_descent.py:695: ConvergenceWarning: Objective did not converge. You might want to increase the number of iterations, check the scale of the features or consider increasing regularisation. Duality gap: 3.478e+02, tolerance: 1.160e-01\n",
      "  model = cd_fast.enet_coordinate_descent(\n",
      "D:\\IntelliJ\\ml-stock-sent\\.venv\\Lib\\site-packages\\sklearn\\linear_model\\_coordinate_descent.py:695: ConvergenceWarning: Objective did not converge. You might want to increase the number of iterations, check the scale of the features or consider increasing regularisation. Duality gap: 5.355e+02, tolerance: 1.160e-01\n",
      "  model = cd_fast.enet_coordinate_descent(\n",
      "D:\\IntelliJ\\ml-stock-sent\\.venv\\Lib\\site-packages\\sklearn\\linear_model\\_coordinate_descent.py:695: ConvergenceWarning: Objective did not converge. You might want to increase the number of iterations, check the scale of the features or consider increasing regularisation. Duality gap: 5.321e+02, tolerance: 1.160e-01\n",
      "  model = cd_fast.enet_coordinate_descent(\n",
      "D:\\IntelliJ\\ml-stock-sent\\.venv\\Lib\\site-packages\\sklearn\\linear_model\\_coordinate_descent.py:695: ConvergenceWarning: Objective did not converge. You might want to increase the number of iterations, check the scale of the features or consider increasing regularisation. Duality gap: 5.321e+02, tolerance: 1.160e-01\n",
      "  model = cd_fast.enet_coordinate_descent(\n",
      "D:\\IntelliJ\\ml-stock-sent\\.venv\\Lib\\site-packages\\sklearn\\linear_model\\_coordinate_descent.py:695: ConvergenceWarning: Objective did not converge. You might want to increase the number of iterations, check the scale of the features or consider increasing regularisation. Duality gap: 4.201e+02, tolerance: 1.160e-01\n",
      "  model = cd_fast.enet_coordinate_descent(\n",
      "D:\\IntelliJ\\ml-stock-sent\\.venv\\Lib\\site-packages\\sklearn\\linear_model\\_coordinate_descent.py:695: ConvergenceWarning: Objective did not converge. You might want to increase the number of iterations, check the scale of the features or consider increasing regularisation. Duality gap: 5.325e+02, tolerance: 1.160e-01\n",
      "  model = cd_fast.enet_coordinate_descent(\n",
      "D:\\IntelliJ\\ml-stock-sent\\.venv\\Lib\\site-packages\\sklearn\\linear_model\\_coordinate_descent.py:695: ConvergenceWarning: Objective did not converge. You might want to increase the number of iterations, check the scale of the features or consider increasing regularisation. Duality gap: 5.439e+02, tolerance: 1.160e-01\n",
      "  model = cd_fast.enet_coordinate_descent(\n",
      "D:\\IntelliJ\\ml-stock-sent\\.venv\\Lib\\site-packages\\sklearn\\linear_model\\_coordinate_descent.py:695: ConvergenceWarning: Objective did not converge. You might want to increase the number of iterations, check the scale of the features or consider increasing regularisation. Duality gap: 5.309e+02, tolerance: 1.160e-01\n",
      "  model = cd_fast.enet_coordinate_descent(\n",
      "D:\\IntelliJ\\ml-stock-sent\\.venv\\Lib\\site-packages\\sklearn\\linear_model\\_coordinate_descent.py:695: ConvergenceWarning: Objective did not converge. You might want to increase the number of iterations, check the scale of the features or consider increasing regularisation. Duality gap: 5.142e+02, tolerance: 1.160e-01\n",
      "  model = cd_fast.enet_coordinate_descent(\n",
      "[I 2025-08-20 16:29:16,417] Trial 1 finished with value: 0.010325856783426072 and parameters: {'alpha': 2.9380279387035334e-05, 'l1_ratio': 0.15599452033620265, 'selection': 'random'}. Best is trial 0 with value: 0.010321006286591166.\n",
      "D:\\IntelliJ\\ml-stock-sent\\.venv\\Lib\\site-packages\\sklearn\\linear_model\\_coordinate_descent.py:695: ConvergenceWarning: Objective did not converge. You might want to increase the number of iterations, check the scale of the features or consider increasing regularisation. Duality gap: 2.605e+01, tolerance: 3.880e-02\n",
      "  model = cd_fast.enet_coordinate_descent(\n",
      "D:\\IntelliJ\\ml-stock-sent\\.venv\\Lib\\site-packages\\sklearn\\linear_model\\_coordinate_descent.py:695: ConvergenceWarning: Objective did not converge. You might want to increase the number of iterations, check the scale of the features or consider increasing regularisation. Duality gap: 1.282e+01, tolerance: 3.880e-02\n",
      "  model = cd_fast.enet_coordinate_descent(\n",
      "D:\\IntelliJ\\ml-stock-sent\\.venv\\Lib\\site-packages\\sklearn\\linear_model\\_coordinate_descent.py:695: ConvergenceWarning: Objective did not converge. You might want to increase the number of iterations, check the scale of the features or consider increasing regularisation. Duality gap: 1.037e+00, tolerance: 3.880e-02\n",
      "  model = cd_fast.enet_coordinate_descent(\n",
      "D:\\IntelliJ\\ml-stock-sent\\.venv\\Lib\\site-packages\\sklearn\\linear_model\\_coordinate_descent.py:695: ConvergenceWarning: Objective did not converge. You might want to increase the number of iterations, check the scale of the features or consider increasing regularisation. Duality gap: 1.812e+00, tolerance: 3.880e-02\n",
      "  model = cd_fast.enet_coordinate_descent(\n",
      "D:\\IntelliJ\\ml-stock-sent\\.venv\\Lib\\site-packages\\sklearn\\linear_model\\_coordinate_descent.py:695: ConvergenceWarning: Objective did not converge. You might want to increase the number of iterations, check the scale of the features or consider increasing regularisation. Duality gap: 1.897e+01, tolerance: 3.880e-02\n",
      "  model = cd_fast.enet_coordinate_descent(\n",
      "D:\\IntelliJ\\ml-stock-sent\\.venv\\Lib\\site-packages\\sklearn\\linear_model\\_coordinate_descent.py:695: ConvergenceWarning: Objective did not converge. You might want to increase the number of iterations, check the scale of the features or consider increasing regularisation. Duality gap: 6.075e+01, tolerance: 3.880e-02\n",
      "  model = cd_fast.enet_coordinate_descent(\n",
      "D:\\IntelliJ\\ml-stock-sent\\.venv\\Lib\\site-packages\\sklearn\\linear_model\\_coordinate_descent.py:695: ConvergenceWarning: Objective did not converge. You might want to increase the number of iterations, check the scale of the features or consider increasing regularisation. Duality gap: 4.358e+00, tolerance: 3.880e-02\n",
      "  model = cd_fast.enet_coordinate_descent(\n",
      "D:\\IntelliJ\\ml-stock-sent\\.venv\\Lib\\site-packages\\sklearn\\linear_model\\_coordinate_descent.py:695: ConvergenceWarning: Objective did not converge. You might want to increase the number of iterations, check the scale of the features or consider increasing regularisation. Duality gap: 2.941e+00, tolerance: 3.880e-02\n",
      "  model = cd_fast.enet_coordinate_descent(\n",
      "D:\\IntelliJ\\ml-stock-sent\\.venv\\Lib\\site-packages\\sklearn\\linear_model\\_coordinate_descent.py:695: ConvergenceWarning: Objective did not converge. You might want to increase the number of iterations, check the scale of the features or consider increasing regularisation. Duality gap: 1.186e+01, tolerance: 3.880e-02\n",
      "  model = cd_fast.enet_coordinate_descent(\n",
      "D:\\IntelliJ\\ml-stock-sent\\.venv\\Lib\\site-packages\\sklearn\\linear_model\\_coordinate_descent.py:695: ConvergenceWarning: Objective did not converge. You might want to increase the number of iterations, check the scale of the features or consider increasing regularisation. Duality gap: 1.532e+00, tolerance: 3.880e-02\n",
      "  model = cd_fast.enet_coordinate_descent(\n",
      "D:\\IntelliJ\\ml-stock-sent\\.venv\\Lib\\site-packages\\sklearn\\linear_model\\_coordinate_descent.py:695: ConvergenceWarning: Objective did not converge. You might want to increase the number of iterations, check the scale of the features or consider increasing regularisation. Duality gap: 2.146e+01, tolerance: 3.880e-02\n",
      "  model = cd_fast.enet_coordinate_descent(\n",
      "D:\\IntelliJ\\ml-stock-sent\\.venv\\Lib\\site-packages\\sklearn\\linear_model\\_coordinate_descent.py:695: ConvergenceWarning: Objective did not converge. You might want to increase the number of iterations, check the scale of the features or consider increasing regularisation. Duality gap: 5.683e+01, tolerance: 3.880e-02\n",
      "  model = cd_fast.enet_coordinate_descent(\n",
      "D:\\IntelliJ\\ml-stock-sent\\.venv\\Lib\\site-packages\\sklearn\\linear_model\\_coordinate_descent.py:695: ConvergenceWarning: Objective did not converge. You might want to increase the number of iterations, check the scale of the features or consider increasing regularisation. Duality gap: 1.911e+01, tolerance: 3.880e-02\n",
      "  model = cd_fast.enet_coordinate_descent(\n",
      "D:\\IntelliJ\\ml-stock-sent\\.venv\\Lib\\site-packages\\sklearn\\linear_model\\_coordinate_descent.py:695: ConvergenceWarning: Objective did not converge. You might want to increase the number of iterations, check the scale of the features or consider increasing regularisation. Duality gap: 2.581e+01, tolerance: 3.880e-02\n",
      "  model = cd_fast.enet_coordinate_descent(\n",
      "D:\\IntelliJ\\ml-stock-sent\\.venv\\Lib\\site-packages\\sklearn\\linear_model\\_coordinate_descent.py:695: ConvergenceWarning: Objective did not converge. You might want to increase the number of iterations, check the scale of the features or consider increasing regularisation. Duality gap: 1.942e+01, tolerance: 3.880e-02\n",
      "  model = cd_fast.enet_coordinate_descent(\n",
      "D:\\IntelliJ\\ml-stock-sent\\.venv\\Lib\\site-packages\\sklearn\\linear_model\\_coordinate_descent.py:695: ConvergenceWarning: Objective did not converge. You might want to increase the number of iterations, check the scale of the features or consider increasing regularisation. Duality gap: 1.256e+01, tolerance: 3.880e-02\n",
      "  model = cd_fast.enet_coordinate_descent(\n",
      "D:\\IntelliJ\\ml-stock-sent\\.venv\\Lib\\site-packages\\sklearn\\linear_model\\_coordinate_descent.py:695: ConvergenceWarning: Objective did not converge. You might want to increase the number of iterations, check the scale of the features or consider increasing regularisation. Duality gap: 1.542e+01, tolerance: 3.880e-02\n",
      "  model = cd_fast.enet_coordinate_descent(\n",
      "D:\\IntelliJ\\ml-stock-sent\\.venv\\Lib\\site-packages\\sklearn\\linear_model\\_coordinate_descent.py:695: ConvergenceWarning: Objective did not converge. You might want to increase the number of iterations, check the scale of the features or consider increasing regularisation. Duality gap: 4.524e+00, tolerance: 3.880e-02\n",
      "  model = cd_fast.enet_coordinate_descent(\n",
      "D:\\IntelliJ\\ml-stock-sent\\.venv\\Lib\\site-packages\\sklearn\\linear_model\\_coordinate_descent.py:695: ConvergenceWarning: Objective did not converge. You might want to increase the number of iterations, check the scale of the features or consider increasing regularisation. Duality gap: 2.660e+01, tolerance: 3.880e-02\n",
      "  model = cd_fast.enet_coordinate_descent(\n",
      "D:\\IntelliJ\\ml-stock-sent\\.venv\\Lib\\site-packages\\sklearn\\linear_model\\_coordinate_descent.py:695: ConvergenceWarning: Objective did not converge. You might want to increase the number of iterations, check the scale of the features or consider increasing regularisation. Duality gap: 2.216e+01, tolerance: 3.880e-02\n",
      "  model = cd_fast.enet_coordinate_descent(\n",
      "D:\\IntelliJ\\ml-stock-sent\\.venv\\Lib\\site-packages\\sklearn\\linear_model\\_coordinate_descent.py:695: ConvergenceWarning: Objective did not converge. You might want to increase the number of iterations, check the scale of the features or consider increasing regularisation. Duality gap: 2.636e+01, tolerance: 3.880e-02\n",
      "  model = cd_fast.enet_coordinate_descent(\n",
      "D:\\IntelliJ\\ml-stock-sent\\.venv\\Lib\\site-packages\\sklearn\\linear_model\\_coordinate_descent.py:695: ConvergenceWarning: Objective did not converge. You might want to increase the number of iterations, check the scale of the features or consider increasing regularisation. Duality gap: 1.095e+01, tolerance: 3.880e-02\n",
      "  model = cd_fast.enet_coordinate_descent(\n",
      "D:\\IntelliJ\\ml-stock-sent\\.venv\\Lib\\site-packages\\sklearn\\linear_model\\_coordinate_descent.py:695: ConvergenceWarning: Objective did not converge. You might want to increase the number of iterations, check the scale of the features or consider increasing regularisation. Duality gap: 1.338e+00, tolerance: 3.880e-02\n",
      "  model = cd_fast.enet_coordinate_descent(\n",
      "D:\\IntelliJ\\ml-stock-sent\\.venv\\Lib\\site-packages\\sklearn\\linear_model\\_coordinate_descent.py:695: ConvergenceWarning: Objective did not converge. You might want to increase the number of iterations, check the scale of the features or consider increasing regularisation. Duality gap: 1.733e+01, tolerance: 7.740e-02\n",
      "  model = cd_fast.enet_coordinate_descent(\n",
      "D:\\IntelliJ\\ml-stock-sent\\.venv\\Lib\\site-packages\\sklearn\\linear_model\\_coordinate_descent.py:695: ConvergenceWarning: Objective did not converge. You might want to increase the number of iterations, check the scale of the features or consider increasing regularisation. Duality gap: 1.029e+01, tolerance: 7.740e-02\n",
      "  model = cd_fast.enet_coordinate_descent(\n",
      "D:\\IntelliJ\\ml-stock-sent\\.venv\\Lib\\site-packages\\sklearn\\linear_model\\_coordinate_descent.py:695: ConvergenceWarning: Objective did not converge. You might want to increase the number of iterations, check the scale of the features or consider increasing regularisation. Duality gap: 3.854e+00, tolerance: 7.740e-02\n",
      "  model = cd_fast.enet_coordinate_descent(\n",
      "D:\\IntelliJ\\ml-stock-sent\\.venv\\Lib\\site-packages\\sklearn\\linear_model\\_coordinate_descent.py:695: ConvergenceWarning: Objective did not converge. You might want to increase the number of iterations, check the scale of the features or consider increasing regularisation. Duality gap: 2.120e+00, tolerance: 7.740e-02\n",
      "  model = cd_fast.enet_coordinate_descent(\n",
      "D:\\IntelliJ\\ml-stock-sent\\.venv\\Lib\\site-packages\\sklearn\\linear_model\\_coordinate_descent.py:695: ConvergenceWarning: Objective did not converge. You might want to increase the number of iterations, check the scale of the features or consider increasing regularisation. Duality gap: 6.969e+00, tolerance: 7.740e-02\n",
      "  model = cd_fast.enet_coordinate_descent(\n",
      "D:\\IntelliJ\\ml-stock-sent\\.venv\\Lib\\site-packages\\sklearn\\linear_model\\_coordinate_descent.py:695: ConvergenceWarning: Objective did not converge. You might want to increase the number of iterations, check the scale of the features or consider increasing regularisation. Duality gap: 9.071e+01, tolerance: 7.740e-02\n",
      "  model = cd_fast.enet_coordinate_descent(\n",
      "D:\\IntelliJ\\ml-stock-sent\\.venv\\Lib\\site-packages\\sklearn\\linear_model\\_coordinate_descent.py:695: ConvergenceWarning: Objective did not converge. You might want to increase the number of iterations, check the scale of the features or consider increasing regularisation. Duality gap: 2.301e+00, tolerance: 7.740e-02\n",
      "  model = cd_fast.enet_coordinate_descent(\n",
      "D:\\IntelliJ\\ml-stock-sent\\.venv\\Lib\\site-packages\\sklearn\\linear_model\\_coordinate_descent.py:695: ConvergenceWarning: Objective did not converge. You might want to increase the number of iterations, check the scale of the features or consider increasing regularisation. Duality gap: 2.611e+01, tolerance: 7.740e-02\n",
      "  model = cd_fast.enet_coordinate_descent(\n",
      "D:\\IntelliJ\\ml-stock-sent\\.venv\\Lib\\site-packages\\sklearn\\linear_model\\_coordinate_descent.py:695: ConvergenceWarning: Objective did not converge. You might want to increase the number of iterations, check the scale of the features or consider increasing regularisation. Duality gap: 9.953e+00, tolerance: 7.740e-02\n",
      "  model = cd_fast.enet_coordinate_descent(\n",
      "D:\\IntelliJ\\ml-stock-sent\\.venv\\Lib\\site-packages\\sklearn\\linear_model\\_coordinate_descent.py:695: ConvergenceWarning: Objective did not converge. You might want to increase the number of iterations, check the scale of the features or consider increasing regularisation. Duality gap: 3.637e+01, tolerance: 7.740e-02\n",
      "  model = cd_fast.enet_coordinate_descent(\n",
      "D:\\IntelliJ\\ml-stock-sent\\.venv\\Lib\\site-packages\\sklearn\\linear_model\\_coordinate_descent.py:695: ConvergenceWarning: Objective did not converge. You might want to increase the number of iterations, check the scale of the features or consider increasing regularisation. Duality gap: 2.614e+01, tolerance: 7.740e-02\n",
      "  model = cd_fast.enet_coordinate_descent(\n",
      "D:\\IntelliJ\\ml-stock-sent\\.venv\\Lib\\site-packages\\sklearn\\linear_model\\_coordinate_descent.py:695: ConvergenceWarning: Objective did not converge. You might want to increase the number of iterations, check the scale of the features or consider increasing regularisation. Duality gap: 4.880e+00, tolerance: 7.740e-02\n",
      "  model = cd_fast.enet_coordinate_descent(\n",
      "D:\\IntelliJ\\ml-stock-sent\\.venv\\Lib\\site-packages\\sklearn\\linear_model\\_coordinate_descent.py:695: ConvergenceWarning: Objective did not converge. You might want to increase the number of iterations, check the scale of the features or consider increasing regularisation. Duality gap: 8.353e+01, tolerance: 7.740e-02\n",
      "  model = cd_fast.enet_coordinate_descent(\n",
      "D:\\IntelliJ\\ml-stock-sent\\.venv\\Lib\\site-packages\\sklearn\\linear_model\\_coordinate_descent.py:695: ConvergenceWarning: Objective did not converge. You might want to increase the number of iterations, check the scale of the features or consider increasing regularisation. Duality gap: 2.268e+01, tolerance: 7.740e-02\n",
      "  model = cd_fast.enet_coordinate_descent(\n",
      "D:\\IntelliJ\\ml-stock-sent\\.venv\\Lib\\site-packages\\sklearn\\linear_model\\_coordinate_descent.py:695: ConvergenceWarning: Objective did not converge. You might want to increase the number of iterations, check the scale of the features or consider increasing regularisation. Duality gap: 5.018e+01, tolerance: 7.740e-02\n",
      "  model = cd_fast.enet_coordinate_descent(\n",
      "D:\\IntelliJ\\ml-stock-sent\\.venv\\Lib\\site-packages\\sklearn\\linear_model\\_coordinate_descent.py:695: ConvergenceWarning: Objective did not converge. You might want to increase the number of iterations, check the scale of the features or consider increasing regularisation. Duality gap: 7.122e-01, tolerance: 7.740e-02\n",
      "  model = cd_fast.enet_coordinate_descent(\n",
      "D:\\IntelliJ\\ml-stock-sent\\.venv\\Lib\\site-packages\\sklearn\\linear_model\\_coordinate_descent.py:695: ConvergenceWarning: Objective did not converge. You might want to increase the number of iterations, check the scale of the features or consider increasing regularisation. Duality gap: 8.351e+01, tolerance: 7.740e-02\n",
      "  model = cd_fast.enet_coordinate_descent(\n",
      "D:\\IntelliJ\\ml-stock-sent\\.venv\\Lib\\site-packages\\sklearn\\linear_model\\_coordinate_descent.py:695: ConvergenceWarning: Objective did not converge. You might want to increase the number of iterations, check the scale of the features or consider increasing regularisation. Duality gap: 7.010e-01, tolerance: 7.740e-02\n",
      "  model = cd_fast.enet_coordinate_descent(\n",
      "D:\\IntelliJ\\ml-stock-sent\\.venv\\Lib\\site-packages\\sklearn\\linear_model\\_coordinate_descent.py:695: ConvergenceWarning: Objective did not converge. You might want to increase the number of iterations, check the scale of the features or consider increasing regularisation. Duality gap: 7.964e-01, tolerance: 7.740e-02\n",
      "  model = cd_fast.enet_coordinate_descent(\n",
      "D:\\IntelliJ\\ml-stock-sent\\.venv\\Lib\\site-packages\\sklearn\\linear_model\\_coordinate_descent.py:695: ConvergenceWarning: Objective did not converge. You might want to increase the number of iterations, check the scale of the features or consider increasing regularisation. Duality gap: 2.447e+00, tolerance: 7.740e-02\n",
      "  model = cd_fast.enet_coordinate_descent(\n",
      "D:\\IntelliJ\\ml-stock-sent\\.venv\\Lib\\site-packages\\sklearn\\linear_model\\_coordinate_descent.py:695: ConvergenceWarning: Objective did not converge. You might want to increase the number of iterations, check the scale of the features or consider increasing regularisation. Duality gap: 1.415e+01, tolerance: 7.740e-02\n",
      "  model = cd_fast.enet_coordinate_descent(\n",
      "D:\\IntelliJ\\ml-stock-sent\\.venv\\Lib\\site-packages\\sklearn\\linear_model\\_coordinate_descent.py:695: ConvergenceWarning: Objective did not converge. You might want to increase the number of iterations, check the scale of the features or consider increasing regularisation. Duality gap: 5.471e+01, tolerance: 7.740e-02\n",
      "  model = cd_fast.enet_coordinate_descent(\n",
      "D:\\IntelliJ\\ml-stock-sent\\.venv\\Lib\\site-packages\\sklearn\\linear_model\\_coordinate_descent.py:695: ConvergenceWarning: Objective did not converge. You might want to increase the number of iterations, check the scale of the features or consider increasing regularisation. Duality gap: 6.893e+01, tolerance: 7.740e-02\n",
      "  model = cd_fast.enet_coordinate_descent(\n",
      "D:\\IntelliJ\\ml-stock-sent\\.venv\\Lib\\site-packages\\sklearn\\linear_model\\_coordinate_descent.py:695: ConvergenceWarning: Objective did not converge. You might want to increase the number of iterations, check the scale of the features or consider increasing regularisation. Duality gap: 2.207e+01, tolerance: 7.740e-02\n",
      "  model = cd_fast.enet_coordinate_descent(\n",
      "D:\\IntelliJ\\ml-stock-sent\\.venv\\Lib\\site-packages\\sklearn\\linear_model\\_coordinate_descent.py:695: ConvergenceWarning: Objective did not converge. You might want to increase the number of iterations, check the scale of the features or consider increasing regularisation. Duality gap: 1.680e+01, tolerance: 1.160e-01\n",
      "  model = cd_fast.enet_coordinate_descent(\n",
      "D:\\IntelliJ\\ml-stock-sent\\.venv\\Lib\\site-packages\\sklearn\\linear_model\\_coordinate_descent.py:695: ConvergenceWarning: Objective did not converge. You might want to increase the number of iterations, check the scale of the features or consider increasing regularisation. Duality gap: 1.468e+01, tolerance: 1.160e-01\n",
      "  model = cd_fast.enet_coordinate_descent(\n",
      "D:\\IntelliJ\\ml-stock-sent\\.venv\\Lib\\site-packages\\sklearn\\linear_model\\_coordinate_descent.py:695: ConvergenceWarning: Objective did not converge. You might want to increase the number of iterations, check the scale of the features or consider increasing regularisation. Duality gap: 8.858e+00, tolerance: 1.160e-01\n",
      "  model = cd_fast.enet_coordinate_descent(\n",
      "D:\\IntelliJ\\ml-stock-sent\\.venv\\Lib\\site-packages\\sklearn\\linear_model\\_coordinate_descent.py:695: ConvergenceWarning: Objective did not converge. You might want to increase the number of iterations, check the scale of the features or consider increasing regularisation. Duality gap: 1.145e+02, tolerance: 1.160e-01\n",
      "  model = cd_fast.enet_coordinate_descent(\n",
      "D:\\IntelliJ\\ml-stock-sent\\.venv\\Lib\\site-packages\\sklearn\\linear_model\\_coordinate_descent.py:695: ConvergenceWarning: Objective did not converge. You might want to increase the number of iterations, check the scale of the features or consider increasing regularisation. Duality gap: 1.726e+01, tolerance: 1.160e-01\n",
      "  model = cd_fast.enet_coordinate_descent(\n",
      "D:\\IntelliJ\\ml-stock-sent\\.venv\\Lib\\site-packages\\sklearn\\linear_model\\_coordinate_descent.py:695: ConvergenceWarning: Objective did not converge. You might want to increase the number of iterations, check the scale of the features or consider increasing regularisation. Duality gap: 5.441e+01, tolerance: 1.160e-01\n",
      "  model = cd_fast.enet_coordinate_descent(\n",
      "D:\\IntelliJ\\ml-stock-sent\\.venv\\Lib\\site-packages\\sklearn\\linear_model\\_coordinate_descent.py:695: ConvergenceWarning: Objective did not converge. You might want to increase the number of iterations, check the scale of the features or consider increasing regularisation. Duality gap: 1.654e+01, tolerance: 1.160e-01\n",
      "  model = cd_fast.enet_coordinate_descent(\n",
      "D:\\IntelliJ\\ml-stock-sent\\.venv\\Lib\\site-packages\\sklearn\\linear_model\\_coordinate_descent.py:695: ConvergenceWarning: Objective did not converge. You might want to increase the number of iterations, check the scale of the features or consider increasing regularisation. Duality gap: 7.283e+01, tolerance: 1.160e-01\n",
      "  model = cd_fast.enet_coordinate_descent(\n",
      "D:\\IntelliJ\\ml-stock-sent\\.venv\\Lib\\site-packages\\sklearn\\linear_model\\_coordinate_descent.py:695: ConvergenceWarning: Objective did not converge. You might want to increase the number of iterations, check the scale of the features or consider increasing regularisation. Duality gap: 4.183e+01, tolerance: 1.160e-01\n",
      "  model = cd_fast.enet_coordinate_descent(\n",
      "D:\\IntelliJ\\ml-stock-sent\\.venv\\Lib\\site-packages\\sklearn\\linear_model\\_coordinate_descent.py:695: ConvergenceWarning: Objective did not converge. You might want to increase the number of iterations, check the scale of the features or consider increasing regularisation. Duality gap: 5.641e+00, tolerance: 1.160e-01\n",
      "  model = cd_fast.enet_coordinate_descent(\n",
      "D:\\IntelliJ\\ml-stock-sent\\.venv\\Lib\\site-packages\\sklearn\\linear_model\\_coordinate_descent.py:695: ConvergenceWarning: Objective did not converge. You might want to increase the number of iterations, check the scale of the features or consider increasing regularisation. Duality gap: 1.274e+02, tolerance: 1.160e-01\n",
      "  model = cd_fast.enet_coordinate_descent(\n",
      "D:\\IntelliJ\\ml-stock-sent\\.venv\\Lib\\site-packages\\sklearn\\linear_model\\_coordinate_descent.py:695: ConvergenceWarning: Objective did not converge. You might want to increase the number of iterations, check the scale of the features or consider increasing regularisation. Duality gap: 4.002e+01, tolerance: 1.160e-01\n",
      "  model = cd_fast.enet_coordinate_descent(\n",
      "D:\\IntelliJ\\ml-stock-sent\\.venv\\Lib\\site-packages\\sklearn\\linear_model\\_coordinate_descent.py:695: ConvergenceWarning: Objective did not converge. You might want to increase the number of iterations, check the scale of the features or consider increasing regularisation. Duality gap: 9.617e+01, tolerance: 1.160e-01\n",
      "  model = cd_fast.enet_coordinate_descent(\n",
      "D:\\IntelliJ\\ml-stock-sent\\.venv\\Lib\\site-packages\\sklearn\\linear_model\\_coordinate_descent.py:695: ConvergenceWarning: Objective did not converge. You might want to increase the number of iterations, check the scale of the features or consider increasing regularisation. Duality gap: 4.410e-01, tolerance: 1.160e-01\n",
      "  model = cd_fast.enet_coordinate_descent(\n",
      "D:\\IntelliJ\\ml-stock-sent\\.venv\\Lib\\site-packages\\sklearn\\linear_model\\_coordinate_descent.py:695: ConvergenceWarning: Objective did not converge. You might want to increase the number of iterations, check the scale of the features or consider increasing regularisation. Duality gap: 1.148e+02, tolerance: 1.160e-01\n",
      "  model = cd_fast.enet_coordinate_descent(\n",
      "D:\\IntelliJ\\ml-stock-sent\\.venv\\Lib\\site-packages\\sklearn\\linear_model\\_coordinate_descent.py:695: ConvergenceWarning: Objective did not converge. You might want to increase the number of iterations, check the scale of the features or consider increasing regularisation. Duality gap: 5.585e+00, tolerance: 1.160e-01\n",
      "  model = cd_fast.enet_coordinate_descent(\n",
      "D:\\IntelliJ\\ml-stock-sent\\.venv\\Lib\\site-packages\\sklearn\\linear_model\\_coordinate_descent.py:695: ConvergenceWarning: Objective did not converge. You might want to increase the number of iterations, check the scale of the features or consider increasing regularisation. Duality gap: 8.374e+00, tolerance: 1.160e-01\n",
      "  model = cd_fast.enet_coordinate_descent(\n",
      "D:\\IntelliJ\\ml-stock-sent\\.venv\\Lib\\site-packages\\sklearn\\linear_model\\_coordinate_descent.py:695: ConvergenceWarning: Objective did not converge. You might want to increase the number of iterations, check the scale of the features or consider increasing regularisation. Duality gap: 7.444e+00, tolerance: 1.160e-01\n",
      "  model = cd_fast.enet_coordinate_descent(\n",
      "D:\\IntelliJ\\ml-stock-sent\\.venv\\Lib\\site-packages\\sklearn\\linear_model\\_coordinate_descent.py:695: ConvergenceWarning: Objective did not converge. You might want to increase the number of iterations, check the scale of the features or consider increasing regularisation. Duality gap: 5.886e+01, tolerance: 1.160e-01\n",
      "  model = cd_fast.enet_coordinate_descent(\n",
      "D:\\IntelliJ\\ml-stock-sent\\.venv\\Lib\\site-packages\\sklearn\\linear_model\\_coordinate_descent.py:695: ConvergenceWarning: Objective did not converge. You might want to increase the number of iterations, check the scale of the features or consider increasing regularisation. Duality gap: 8.523e+01, tolerance: 1.160e-01\n",
      "  model = cd_fast.enet_coordinate_descent(\n",
      "D:\\IntelliJ\\ml-stock-sent\\.venv\\Lib\\site-packages\\sklearn\\linear_model\\_coordinate_descent.py:695: ConvergenceWarning: Objective did not converge. You might want to increase the number of iterations, check the scale of the features or consider increasing regularisation. Duality gap: 4.351e+01, tolerance: 1.160e-01\n",
      "  model = cd_fast.enet_coordinate_descent(\n",
      "[I 2025-08-20 16:29:17,665] Trial 2 finished with value: 0.010237988547303154 and parameters: {'alpha': 0.0006358358856676254, 'l1_ratio': 0.7080725777960455, 'selection': 'random'}. Best is trial 2 with value: 0.010237988547303154.\n",
      "[I 2025-08-20 16:29:18,437] Trial 3 finished with value: 0.01011448329737524 and parameters: {'alpha': 0.00314288089084011, 'l1_ratio': 0.21233911067827616, 'selection': 'random'}. Best is trial 3 with value: 0.01011448329737524.\n",
      "D:\\IntelliJ\\ml-stock-sent\\.venv\\Lib\\site-packages\\sklearn\\linear_model\\_coordinate_descent.py:695: ConvergenceWarning: Objective did not converge. You might want to increase the number of iterations, check the scale of the features or consider increasing regularisation. Duality gap: 9.085e+01, tolerance: 3.880e-02\n",
      "  model = cd_fast.enet_coordinate_descent(\n",
      "D:\\IntelliJ\\ml-stock-sent\\.venv\\Lib\\site-packages\\sklearn\\linear_model\\_coordinate_descent.py:695: ConvergenceWarning: Objective did not converge. You might want to increase the number of iterations, check the scale of the features or consider increasing regularisation. Duality gap: 4.739e+01, tolerance: 3.880e-02\n",
      "  model = cd_fast.enet_coordinate_descent(\n",
      "D:\\IntelliJ\\ml-stock-sent\\.venv\\Lib\\site-packages\\sklearn\\linear_model\\_coordinate_descent.py:695: ConvergenceWarning: Objective did not converge. You might want to increase the number of iterations, check the scale of the features or consider increasing regularisation. Duality gap: 1.419e+01, tolerance: 3.880e-02\n",
      "  model = cd_fast.enet_coordinate_descent(\n",
      "D:\\IntelliJ\\ml-stock-sent\\.venv\\Lib\\site-packages\\sklearn\\linear_model\\_coordinate_descent.py:695: ConvergenceWarning: Objective did not converge. You might want to increase the number of iterations, check the scale of the features or consider increasing regularisation. Duality gap: 1.433e+00, tolerance: 3.880e-02\n",
      "  model = cd_fast.enet_coordinate_descent(\n",
      "D:\\IntelliJ\\ml-stock-sent\\.venv\\Lib\\site-packages\\sklearn\\linear_model\\_coordinate_descent.py:695: ConvergenceWarning: Objective did not converge. You might want to increase the number of iterations, check the scale of the features or consider increasing regularisation. Duality gap: 7.130e+01, tolerance: 3.880e-02\n",
      "  model = cd_fast.enet_coordinate_descent(\n",
      "D:\\IntelliJ\\ml-stock-sent\\.venv\\Lib\\site-packages\\sklearn\\linear_model\\_coordinate_descent.py:695: ConvergenceWarning: Objective did not converge. You might want to increase the number of iterations, check the scale of the features or consider increasing regularisation. Duality gap: 1.075e+02, tolerance: 3.880e-02\n",
      "  model = cd_fast.enet_coordinate_descent(\n",
      "D:\\IntelliJ\\ml-stock-sent\\.venv\\Lib\\site-packages\\sklearn\\linear_model\\_coordinate_descent.py:695: ConvergenceWarning: Objective did not converge. You might want to increase the number of iterations, check the scale of the features or consider increasing regularisation. Duality gap: 2.053e+00, tolerance: 3.880e-02\n",
      "  model = cd_fast.enet_coordinate_descent(\n",
      "D:\\IntelliJ\\ml-stock-sent\\.venv\\Lib\\site-packages\\sklearn\\linear_model\\_coordinate_descent.py:695: ConvergenceWarning: Objective did not converge. You might want to increase the number of iterations, check the scale of the features or consider increasing regularisation. Duality gap: 4.410e-01, tolerance: 3.880e-02\n",
      "  model = cd_fast.enet_coordinate_descent(\n",
      "D:\\IntelliJ\\ml-stock-sent\\.venv\\Lib\\site-packages\\sklearn\\linear_model\\_coordinate_descent.py:695: ConvergenceWarning: Objective did not converge. You might want to increase the number of iterations, check the scale of the features or consider increasing regularisation. Duality gap: 3.811e+01, tolerance: 3.880e-02\n",
      "  model = cd_fast.enet_coordinate_descent(\n",
      "D:\\IntelliJ\\ml-stock-sent\\.venv\\Lib\\site-packages\\sklearn\\linear_model\\_coordinate_descent.py:695: ConvergenceWarning: Objective did not converge. You might want to increase the number of iterations, check the scale of the features or consider increasing regularisation. Duality gap: 6.490e+01, tolerance: 3.880e-02\n",
      "  model = cd_fast.enet_coordinate_descent(\n",
      "D:\\IntelliJ\\ml-stock-sent\\.venv\\Lib\\site-packages\\sklearn\\linear_model\\_coordinate_descent.py:695: ConvergenceWarning: Objective did not converge. You might want to increase the number of iterations, check the scale of the features or consider increasing regularisation. Duality gap: 2.005e+01, tolerance: 3.880e-02\n",
      "  model = cd_fast.enet_coordinate_descent(\n",
      "D:\\IntelliJ\\ml-stock-sent\\.venv\\Lib\\site-packages\\sklearn\\linear_model\\_coordinate_descent.py:695: ConvergenceWarning: Objective did not converge. You might want to increase the number of iterations, check the scale of the features or consider increasing regularisation. Duality gap: 6.599e+00, tolerance: 3.880e-02\n",
      "  model = cd_fast.enet_coordinate_descent(\n",
      "D:\\IntelliJ\\ml-stock-sent\\.venv\\Lib\\site-packages\\sklearn\\linear_model\\_coordinate_descent.py:695: ConvergenceWarning: Objective did not converge. You might want to increase the number of iterations, check the scale of the features or consider increasing regularisation. Duality gap: 8.238e+01, tolerance: 3.880e-02\n",
      "  model = cd_fast.enet_coordinate_descent(\n",
      "D:\\IntelliJ\\ml-stock-sent\\.venv\\Lib\\site-packages\\sklearn\\linear_model\\_coordinate_descent.py:695: ConvergenceWarning: Objective did not converge. You might want to increase the number of iterations, check the scale of the features or consider increasing regularisation. Duality gap: 1.016e+02, tolerance: 3.880e-02\n",
      "  model = cd_fast.enet_coordinate_descent(\n",
      "D:\\IntelliJ\\ml-stock-sent\\.venv\\Lib\\site-packages\\sklearn\\linear_model\\_coordinate_descent.py:695: ConvergenceWarning: Objective did not converge. You might want to increase the number of iterations, check the scale of the features or consider increasing regularisation. Duality gap: 1.531e+01, tolerance: 3.880e-02\n",
      "  model = cd_fast.enet_coordinate_descent(\n",
      "D:\\IntelliJ\\ml-stock-sent\\.venv\\Lib\\site-packages\\sklearn\\linear_model\\_coordinate_descent.py:695: ConvergenceWarning: Objective did not converge. You might want to increase the number of iterations, check the scale of the features or consider increasing regularisation. Duality gap: 4.255e+01, tolerance: 3.880e-02\n",
      "  model = cd_fast.enet_coordinate_descent(\n",
      "D:\\IntelliJ\\ml-stock-sent\\.venv\\Lib\\site-packages\\sklearn\\linear_model\\_coordinate_descent.py:695: ConvergenceWarning: Objective did not converge. You might want to increase the number of iterations, check the scale of the features or consider increasing regularisation. Duality gap: 2.581e+01, tolerance: 3.880e-02\n",
      "  model = cd_fast.enet_coordinate_descent(\n",
      "D:\\IntelliJ\\ml-stock-sent\\.venv\\Lib\\site-packages\\sklearn\\linear_model\\_coordinate_descent.py:695: ConvergenceWarning: Objective did not converge. You might want to increase the number of iterations, check the scale of the features or consider increasing regularisation. Duality gap: 6.814e+01, tolerance: 3.880e-02\n",
      "  model = cd_fast.enet_coordinate_descent(\n",
      "D:\\IntelliJ\\ml-stock-sent\\.venv\\Lib\\site-packages\\sklearn\\linear_model\\_coordinate_descent.py:695: ConvergenceWarning: Objective did not converge. You might want to increase the number of iterations, check the scale of the features or consider increasing regularisation. Duality gap: 7.121e+01, tolerance: 3.880e-02\n",
      "  model = cd_fast.enet_coordinate_descent(\n",
      "D:\\IntelliJ\\ml-stock-sent\\.venv\\Lib\\site-packages\\sklearn\\linear_model\\_coordinate_descent.py:695: ConvergenceWarning: Objective did not converge. You might want to increase the number of iterations, check the scale of the features or consider increasing regularisation. Duality gap: 5.170e+00, tolerance: 3.880e-02\n",
      "  model = cd_fast.enet_coordinate_descent(\n",
      "D:\\IntelliJ\\ml-stock-sent\\.venv\\Lib\\site-packages\\sklearn\\linear_model\\_coordinate_descent.py:695: ConvergenceWarning: Objective did not converge. You might want to increase the number of iterations, check the scale of the features or consider increasing regularisation. Duality gap: 2.113e+01, tolerance: 3.880e-02\n",
      "  model = cd_fast.enet_coordinate_descent(\n",
      "D:\\IntelliJ\\ml-stock-sent\\.venv\\Lib\\site-packages\\sklearn\\linear_model\\_coordinate_descent.py:695: ConvergenceWarning: Objective did not converge. You might want to increase the number of iterations, check the scale of the features or consider increasing regularisation. Duality gap: 7.427e+01, tolerance: 3.880e-02\n",
      "  model = cd_fast.enet_coordinate_descent(\n",
      "D:\\IntelliJ\\ml-stock-sent\\.venv\\Lib\\site-packages\\sklearn\\linear_model\\_coordinate_descent.py:695: ConvergenceWarning: Objective did not converge. You might want to increase the number of iterations, check the scale of the features or consider increasing regularisation. Duality gap: 5.411e+01, tolerance: 3.880e-02\n",
      "  model = cd_fast.enet_coordinate_descent(\n",
      "D:\\IntelliJ\\ml-stock-sent\\.venv\\Lib\\site-packages\\sklearn\\linear_model\\_coordinate_descent.py:695: ConvergenceWarning: Objective did not converge. You might want to increase the number of iterations, check the scale of the features or consider increasing regularisation. Duality gap: 7.984e+01, tolerance: 3.880e-02\n",
      "  model = cd_fast.enet_coordinate_descent(\n",
      "D:\\IntelliJ\\ml-stock-sent\\.venv\\Lib\\site-packages\\sklearn\\linear_model\\_coordinate_descent.py:695: ConvergenceWarning: Objective did not converge. You might want to increase the number of iterations, check the scale of the features or consider increasing regularisation. Duality gap: 1.456e+01, tolerance: 3.880e-02\n",
      "  model = cd_fast.enet_coordinate_descent(\n",
      "D:\\IntelliJ\\ml-stock-sent\\.venv\\Lib\\site-packages\\sklearn\\linear_model\\_coordinate_descent.py:695: ConvergenceWarning: Objective did not converge. You might want to increase the number of iterations, check the scale of the features or consider increasing regularisation. Duality gap: 4.395e+01, tolerance: 3.880e-02\n",
      "  model = cd_fast.enet_coordinate_descent(\n",
      "D:\\IntelliJ\\ml-stock-sent\\.venv\\Lib\\site-packages\\sklearn\\linear_model\\_coordinate_descent.py:695: ConvergenceWarning: Objective did not converge. You might want to increase the number of iterations, check the scale of the features or consider increasing regularisation. Duality gap: 5.031e+01, tolerance: 3.880e-02\n",
      "  model = cd_fast.enet_coordinate_descent(\n",
      "D:\\IntelliJ\\ml-stock-sent\\.venv\\Lib\\site-packages\\sklearn\\linear_model\\_coordinate_descent.py:695: ConvergenceWarning: Objective did not converge. You might want to increase the number of iterations, check the scale of the features or consider increasing regularisation. Duality gap: 2.849e+01, tolerance: 3.880e-02\n",
      "  model = cd_fast.enet_coordinate_descent(\n",
      "D:\\IntelliJ\\ml-stock-sent\\.venv\\Lib\\site-packages\\sklearn\\linear_model\\_coordinate_descent.py:695: ConvergenceWarning: Objective did not converge. You might want to increase the number of iterations, check the scale of the features or consider increasing regularisation. Duality gap: 4.141e+01, tolerance: 3.880e-02\n",
      "  model = cd_fast.enet_coordinate_descent(\n",
      "D:\\IntelliJ\\ml-stock-sent\\.venv\\Lib\\site-packages\\sklearn\\linear_model\\_coordinate_descent.py:695: ConvergenceWarning: Objective did not converge. You might want to increase the number of iterations, check the scale of the features or consider increasing regularisation. Duality gap: 1.075e+02, tolerance: 7.740e-02\n",
      "  model = cd_fast.enet_coordinate_descent(\n",
      "D:\\IntelliJ\\ml-stock-sent\\.venv\\Lib\\site-packages\\sklearn\\linear_model\\_coordinate_descent.py:695: ConvergenceWarning: Objective did not converge. You might want to increase the number of iterations, check the scale of the features or consider increasing regularisation. Duality gap: 7.482e+01, tolerance: 7.740e-02\n",
      "  model = cd_fast.enet_coordinate_descent(\n",
      "D:\\IntelliJ\\ml-stock-sent\\.venv\\Lib\\site-packages\\sklearn\\linear_model\\_coordinate_descent.py:695: ConvergenceWarning: Objective did not converge. You might want to increase the number of iterations, check the scale of the features or consider increasing regularisation. Duality gap: 3.006e+01, tolerance: 7.740e-02\n",
      "  model = cd_fast.enet_coordinate_descent(\n",
      "D:\\IntelliJ\\ml-stock-sent\\.venv\\Lib\\site-packages\\sklearn\\linear_model\\_coordinate_descent.py:695: ConvergenceWarning: Objective did not converge. You might want to increase the number of iterations, check the scale of the features or consider increasing regularisation. Duality gap: 1.523e+01, tolerance: 7.740e-02\n",
      "  model = cd_fast.enet_coordinate_descent(\n",
      "D:\\IntelliJ\\ml-stock-sent\\.venv\\Lib\\site-packages\\sklearn\\linear_model\\_coordinate_descent.py:695: ConvergenceWarning: Objective did not converge. You might want to increase the number of iterations, check the scale of the features or consider increasing regularisation. Duality gap: 5.828e+01, tolerance: 7.740e-02\n",
      "  model = cd_fast.enet_coordinate_descent(\n",
      "D:\\IntelliJ\\ml-stock-sent\\.venv\\Lib\\site-packages\\sklearn\\linear_model\\_coordinate_descent.py:695: ConvergenceWarning: Objective did not converge. You might want to increase the number of iterations, check the scale of the features or consider increasing regularisation. Duality gap: 1.777e+02, tolerance: 7.740e-02\n",
      "  model = cd_fast.enet_coordinate_descent(\n",
      "D:\\IntelliJ\\ml-stock-sent\\.venv\\Lib\\site-packages\\sklearn\\linear_model\\_coordinate_descent.py:695: ConvergenceWarning: Objective did not converge. You might want to increase the number of iterations, check the scale of the features or consider increasing regularisation. Duality gap: 2.300e+01, tolerance: 7.740e-02\n",
      "  model = cd_fast.enet_coordinate_descent(\n",
      "D:\\IntelliJ\\ml-stock-sent\\.venv\\Lib\\site-packages\\sklearn\\linear_model\\_coordinate_descent.py:695: ConvergenceWarning: Objective did not converge. You might want to increase the number of iterations, check the scale of the features or consider increasing regularisation. Duality gap: 5.112e+01, tolerance: 7.740e-02\n",
      "  model = cd_fast.enet_coordinate_descent(\n",
      "D:\\IntelliJ\\ml-stock-sent\\.venv\\Lib\\site-packages\\sklearn\\linear_model\\_coordinate_descent.py:695: ConvergenceWarning: Objective did not converge. You might want to increase the number of iterations, check the scale of the features or consider increasing regularisation. Duality gap: 3.028e+01, tolerance: 7.740e-02\n",
      "  model = cd_fast.enet_coordinate_descent(\n",
      "D:\\IntelliJ\\ml-stock-sent\\.venv\\Lib\\site-packages\\sklearn\\linear_model\\_coordinate_descent.py:695: ConvergenceWarning: Objective did not converge. You might want to increase the number of iterations, check the scale of the features or consider increasing regularisation. Duality gap: 9.151e+01, tolerance: 7.740e-02\n",
      "  model = cd_fast.enet_coordinate_descent(\n",
      "D:\\IntelliJ\\ml-stock-sent\\.venv\\Lib\\site-packages\\sklearn\\linear_model\\_coordinate_descent.py:695: ConvergenceWarning: Objective did not converge. You might want to increase the number of iterations, check the scale of the features or consider increasing regularisation. Duality gap: 4.536e+00, tolerance: 7.740e-02\n",
      "  model = cd_fast.enet_coordinate_descent(\n",
      "D:\\IntelliJ\\ml-stock-sent\\.venv\\Lib\\site-packages\\sklearn\\linear_model\\_coordinate_descent.py:695: ConvergenceWarning: Objective did not converge. You might want to increase the number of iterations, check the scale of the features or consider increasing regularisation. Duality gap: 7.310e+01, tolerance: 7.740e-02\n",
      "  model = cd_fast.enet_coordinate_descent(\n",
      "D:\\IntelliJ\\ml-stock-sent\\.venv\\Lib\\site-packages\\sklearn\\linear_model\\_coordinate_descent.py:695: ConvergenceWarning: Objective did not converge. You might want to increase the number of iterations, check the scale of the features or consider increasing regularisation. Duality gap: 5.187e+01, tolerance: 7.740e-02\n",
      "  model = cd_fast.enet_coordinate_descent(\n",
      "D:\\IntelliJ\\ml-stock-sent\\.venv\\Lib\\site-packages\\sklearn\\linear_model\\_coordinate_descent.py:695: ConvergenceWarning: Objective did not converge. You might want to increase the number of iterations, check the scale of the features or consider increasing regularisation. Duality gap: 1.662e+02, tolerance: 7.740e-02\n",
      "  model = cd_fast.enet_coordinate_descent(\n",
      "D:\\IntelliJ\\ml-stock-sent\\.venv\\Lib\\site-packages\\sklearn\\linear_model\\_coordinate_descent.py:695: ConvergenceWarning: Objective did not converge. You might want to increase the number of iterations, check the scale of the features or consider increasing regularisation. Duality gap: 8.080e+01, tolerance: 7.740e-02\n",
      "  model = cd_fast.enet_coordinate_descent(\n",
      "D:\\IntelliJ\\ml-stock-sent\\.venv\\Lib\\site-packages\\sklearn\\linear_model\\_coordinate_descent.py:695: ConvergenceWarning: Objective did not converge. You might want to increase the number of iterations, check the scale of the features or consider increasing regularisation. Duality gap: 7.452e+01, tolerance: 7.740e-02\n",
      "  model = cd_fast.enet_coordinate_descent(\n",
      "D:\\IntelliJ\\ml-stock-sent\\.venv\\Lib\\site-packages\\sklearn\\linear_model\\_coordinate_descent.py:695: ConvergenceWarning: Objective did not converge. You might want to increase the number of iterations, check the scale of the features or consider increasing regularisation. Duality gap: 5.617e+01, tolerance: 7.740e-02\n",
      "  model = cd_fast.enet_coordinate_descent(\n",
      "D:\\IntelliJ\\ml-stock-sent\\.venv\\Lib\\site-packages\\sklearn\\linear_model\\_coordinate_descent.py:695: ConvergenceWarning: Objective did not converge. You might want to increase the number of iterations, check the scale of the features or consider increasing regularisation. Duality gap: 1.259e+02, tolerance: 7.740e-02\n",
      "  model = cd_fast.enet_coordinate_descent(\n",
      "D:\\IntelliJ\\ml-stock-sent\\.venv\\Lib\\site-packages\\sklearn\\linear_model\\_coordinate_descent.py:695: ConvergenceWarning: Objective did not converge. You might want to increase the number of iterations, check the scale of the features or consider increasing regularisation. Duality gap: 2.300e+01, tolerance: 7.740e-02\n",
      "  model = cd_fast.enet_coordinate_descent(\n",
      "D:\\IntelliJ\\ml-stock-sent\\.venv\\Lib\\site-packages\\sklearn\\linear_model\\_coordinate_descent.py:695: ConvergenceWarning: Objective did not converge. You might want to increase the number of iterations, check the scale of the features or consider increasing regularisation. Duality gap: 2.007e+00, tolerance: 7.740e-02\n",
      "  model = cd_fast.enet_coordinate_descent(\n",
      "D:\\IntelliJ\\ml-stock-sent\\.venv\\Lib\\site-packages\\sklearn\\linear_model\\_coordinate_descent.py:695: ConvergenceWarning: Objective did not converge. You might want to increase the number of iterations, check the scale of the features or consider increasing regularisation. Duality gap: 6.162e+00, tolerance: 7.740e-02\n",
      "  model = cd_fast.enet_coordinate_descent(\n",
      "D:\\IntelliJ\\ml-stock-sent\\.venv\\Lib\\site-packages\\sklearn\\linear_model\\_coordinate_descent.py:695: ConvergenceWarning: Objective did not converge. You might want to increase the number of iterations, check the scale of the features or consider increasing regularisation. Duality gap: 6.371e+00, tolerance: 7.740e-02\n",
      "  model = cd_fast.enet_coordinate_descent(\n",
      "D:\\IntelliJ\\ml-stock-sent\\.venv\\Lib\\site-packages\\sklearn\\linear_model\\_coordinate_descent.py:695: ConvergenceWarning: Objective did not converge. You might want to increase the number of iterations, check the scale of the features or consider increasing regularisation. Duality gap: 7.767e+01, tolerance: 7.740e-02\n",
      "  model = cd_fast.enet_coordinate_descent(\n",
      "D:\\IntelliJ\\ml-stock-sent\\.venv\\Lib\\site-packages\\sklearn\\linear_model\\_coordinate_descent.py:695: ConvergenceWarning: Objective did not converge. You might want to increase the number of iterations, check the scale of the features or consider increasing regularisation. Duality gap: 6.125e+01, tolerance: 7.740e-02\n",
      "  model = cd_fast.enet_coordinate_descent(\n",
      "D:\\IntelliJ\\ml-stock-sent\\.venv\\Lib\\site-packages\\sklearn\\linear_model\\_coordinate_descent.py:695: ConvergenceWarning: Objective did not converge. You might want to increase the number of iterations, check the scale of the features or consider increasing regularisation. Duality gap: 8.511e+01, tolerance: 7.740e-02\n",
      "  model = cd_fast.enet_coordinate_descent(\n",
      "D:\\IntelliJ\\ml-stock-sent\\.venv\\Lib\\site-packages\\sklearn\\linear_model\\_coordinate_descent.py:695: ConvergenceWarning: Objective did not converge. You might want to increase the number of iterations, check the scale of the features or consider increasing regularisation. Duality gap: 1.310e+02, tolerance: 7.740e-02\n",
      "  model = cd_fast.enet_coordinate_descent(\n",
      "D:\\IntelliJ\\ml-stock-sent\\.venv\\Lib\\site-packages\\sklearn\\linear_model\\_coordinate_descent.py:695: ConvergenceWarning: Objective did not converge. You might want to increase the number of iterations, check the scale of the features or consider increasing regularisation. Duality gap: 1.528e+02, tolerance: 7.740e-02\n",
      "  model = cd_fast.enet_coordinate_descent(\n",
      "D:\\IntelliJ\\ml-stock-sent\\.venv\\Lib\\site-packages\\sklearn\\linear_model\\_coordinate_descent.py:695: ConvergenceWarning: Objective did not converge. You might want to increase the number of iterations, check the scale of the features or consider increasing regularisation. Duality gap: 5.117e+01, tolerance: 7.740e-02\n",
      "  model = cd_fast.enet_coordinate_descent(\n",
      "D:\\IntelliJ\\ml-stock-sent\\.venv\\Lib\\site-packages\\sklearn\\linear_model\\_coordinate_descent.py:695: ConvergenceWarning: Objective did not converge. You might want to increase the number of iterations, check the scale of the features or consider increasing regularisation. Duality gap: 2.566e+00, tolerance: 7.740e-02\n",
      "  model = cd_fast.enet_coordinate_descent(\n",
      "D:\\IntelliJ\\ml-stock-sent\\.venv\\Lib\\site-packages\\sklearn\\linear_model\\_coordinate_descent.py:695: ConvergenceWarning: Objective did not converge. You might want to increase the number of iterations, check the scale of the features or consider increasing regularisation. Duality gap: 1.253e+02, tolerance: 1.160e-01\n",
      "  model = cd_fast.enet_coordinate_descent(\n",
      "D:\\IntelliJ\\ml-stock-sent\\.venv\\Lib\\site-packages\\sklearn\\linear_model\\_coordinate_descent.py:695: ConvergenceWarning: Objective did not converge. You might want to increase the number of iterations, check the scale of the features or consider increasing regularisation. Duality gap: 7.892e+01, tolerance: 1.160e-01\n",
      "  model = cd_fast.enet_coordinate_descent(\n",
      "D:\\IntelliJ\\ml-stock-sent\\.venv\\Lib\\site-packages\\sklearn\\linear_model\\_coordinate_descent.py:695: ConvergenceWarning: Objective did not converge. You might want to increase the number of iterations, check the scale of the features or consider increasing regularisation. Duality gap: 7.209e+01, tolerance: 1.160e-01\n",
      "  model = cd_fast.enet_coordinate_descent(\n",
      "D:\\IntelliJ\\ml-stock-sent\\.venv\\Lib\\site-packages\\sklearn\\linear_model\\_coordinate_descent.py:695: ConvergenceWarning: Objective did not converge. You might want to increase the number of iterations, check the scale of the features or consider increasing regularisation. Duality gap: 1.742e+01, tolerance: 1.160e-01\n",
      "  model = cd_fast.enet_coordinate_descent(\n",
      "D:\\IntelliJ\\ml-stock-sent\\.venv\\Lib\\site-packages\\sklearn\\linear_model\\_coordinate_descent.py:695: ConvergenceWarning: Objective did not converge. You might want to increase the number of iterations, check the scale of the features or consider increasing regularisation. Duality gap: 8.156e+01, tolerance: 1.160e-01\n",
      "  model = cd_fast.enet_coordinate_descent(\n",
      "D:\\IntelliJ\\ml-stock-sent\\.venv\\Lib\\site-packages\\sklearn\\linear_model\\_coordinate_descent.py:695: ConvergenceWarning: Objective did not converge. You might want to increase the number of iterations, check the scale of the features or consider increasing regularisation. Duality gap: 2.526e+02, tolerance: 1.160e-01\n",
      "  model = cd_fast.enet_coordinate_descent(\n",
      "D:\\IntelliJ\\ml-stock-sent\\.venv\\Lib\\site-packages\\sklearn\\linear_model\\_coordinate_descent.py:695: ConvergenceWarning: Objective did not converge. You might want to increase the number of iterations, check the scale of the features or consider increasing regularisation. Duality gap: 6.987e+01, tolerance: 1.160e-01\n",
      "  model = cd_fast.enet_coordinate_descent(\n",
      "D:\\IntelliJ\\ml-stock-sent\\.venv\\Lib\\site-packages\\sklearn\\linear_model\\_coordinate_descent.py:695: ConvergenceWarning: Objective did not converge. You might want to increase the number of iterations, check the scale of the features or consider increasing regularisation. Duality gap: 1.248e+02, tolerance: 1.160e-01\n",
      "  model = cd_fast.enet_coordinate_descent(\n",
      "D:\\IntelliJ\\ml-stock-sent\\.venv\\Lib\\site-packages\\sklearn\\linear_model\\_coordinate_descent.py:695: ConvergenceWarning: Objective did not converge. You might want to increase the number of iterations, check the scale of the features or consider increasing regularisation. Duality gap: 7.304e+01, tolerance: 1.160e-01\n",
      "  model = cd_fast.enet_coordinate_descent(\n",
      "D:\\IntelliJ\\ml-stock-sent\\.venv\\Lib\\site-packages\\sklearn\\linear_model\\_coordinate_descent.py:695: ConvergenceWarning: Objective did not converge. You might want to increase the number of iterations, check the scale of the features or consider increasing regularisation. Duality gap: 1.736e+02, tolerance: 1.160e-01\n",
      "  model = cd_fast.enet_coordinate_descent(\n",
      "D:\\IntelliJ\\ml-stock-sent\\.venv\\Lib\\site-packages\\sklearn\\linear_model\\_coordinate_descent.py:695: ConvergenceWarning: Objective did not converge. You might want to increase the number of iterations, check the scale of the features or consider increasing regularisation. Duality gap: 1.759e+01, tolerance: 1.160e-01\n",
      "  model = cd_fast.enet_coordinate_descent(\n",
      "D:\\IntelliJ\\ml-stock-sent\\.venv\\Lib\\site-packages\\sklearn\\linear_model\\_coordinate_descent.py:695: ConvergenceWarning: Objective did not converge. You might want to increase the number of iterations, check the scale of the features or consider increasing regularisation. Duality gap: 1.128e+02, tolerance: 1.160e-01\n",
      "  model = cd_fast.enet_coordinate_descent(\n",
      "D:\\IntelliJ\\ml-stock-sent\\.venv\\Lib\\site-packages\\sklearn\\linear_model\\_coordinate_descent.py:695: ConvergenceWarning: Objective did not converge. You might want to increase the number of iterations, check the scale of the features or consider increasing regularisation. Duality gap: 7.557e+01, tolerance: 1.160e-01\n",
      "  model = cd_fast.enet_coordinate_descent(\n",
      "D:\\IntelliJ\\ml-stock-sent\\.venv\\Lib\\site-packages\\sklearn\\linear_model\\_coordinate_descent.py:695: ConvergenceWarning: Objective did not converge. You might want to increase the number of iterations, check the scale of the features or consider increasing regularisation. Duality gap: 2.536e+02, tolerance: 1.160e-01\n",
      "  model = cd_fast.enet_coordinate_descent(\n",
      "D:\\IntelliJ\\ml-stock-sent\\.venv\\Lib\\site-packages\\sklearn\\linear_model\\_coordinate_descent.py:695: ConvergenceWarning: Objective did not converge. You might want to increase the number of iterations, check the scale of the features or consider increasing regularisation. Duality gap: 1.144e+02, tolerance: 1.160e-01\n",
      "  model = cd_fast.enet_coordinate_descent(\n",
      "D:\\IntelliJ\\ml-stock-sent\\.venv\\Lib\\site-packages\\sklearn\\linear_model\\_coordinate_descent.py:695: ConvergenceWarning: Objective did not converge. You might want to increase the number of iterations, check the scale of the features or consider increasing regularisation. Duality gap: 1.614e+02, tolerance: 1.160e-01\n",
      "  model = cd_fast.enet_coordinate_descent(\n",
      "D:\\IntelliJ\\ml-stock-sent\\.venv\\Lib\\site-packages\\sklearn\\linear_model\\_coordinate_descent.py:695: ConvergenceWarning: Objective did not converge. You might want to increase the number of iterations, check the scale of the features or consider increasing regularisation. Duality gap: 5.533e+01, tolerance: 1.160e-01\n",
      "  model = cd_fast.enet_coordinate_descent(\n",
      "D:\\IntelliJ\\ml-stock-sent\\.venv\\Lib\\site-packages\\sklearn\\linear_model\\_coordinate_descent.py:695: ConvergenceWarning: Objective did not converge. You might want to increase the number of iterations, check the scale of the features or consider increasing regularisation. Duality gap: 1.951e+02, tolerance: 1.160e-01\n",
      "  model = cd_fast.enet_coordinate_descent(\n",
      "D:\\IntelliJ\\ml-stock-sent\\.venv\\Lib\\site-packages\\sklearn\\linear_model\\_coordinate_descent.py:695: ConvergenceWarning: Objective did not converge. You might want to increase the number of iterations, check the scale of the features or consider increasing regularisation. Duality gap: 4.574e+00, tolerance: 1.160e-01\n",
      "  model = cd_fast.enet_coordinate_descent(\n",
      "D:\\IntelliJ\\ml-stock-sent\\.venv\\Lib\\site-packages\\sklearn\\linear_model\\_coordinate_descent.py:695: ConvergenceWarning: Objective did not converge. You might want to increase the number of iterations, check the scale of the features or consider increasing regularisation. Duality gap: 9.402e-01, tolerance: 1.160e-01\n",
      "  model = cd_fast.enet_coordinate_descent(\n",
      "D:\\IntelliJ\\ml-stock-sent\\.venv\\Lib\\site-packages\\sklearn\\linear_model\\_coordinate_descent.py:695: ConvergenceWarning: Objective did not converge. You might want to increase the number of iterations, check the scale of the features or consider increasing regularisation. Duality gap: 1.496e-01, tolerance: 1.160e-01\n",
      "  model = cd_fast.enet_coordinate_descent(\n",
      "D:\\IntelliJ\\ml-stock-sent\\.venv\\Lib\\site-packages\\sklearn\\linear_model\\_coordinate_descent.py:695: ConvergenceWarning: Objective did not converge. You might want to increase the number of iterations, check the scale of the features or consider increasing regularisation. Duality gap: 1.172e+02, tolerance: 1.160e-01\n",
      "  model = cd_fast.enet_coordinate_descent(\n",
      "D:\\IntelliJ\\ml-stock-sent\\.venv\\Lib\\site-packages\\sklearn\\linear_model\\_coordinate_descent.py:695: ConvergenceWarning: Objective did not converge. You might want to increase the number of iterations, check the scale of the features or consider increasing regularisation. Duality gap: 6.350e+01, tolerance: 1.160e-01\n",
      "  model = cd_fast.enet_coordinate_descent(\n",
      "D:\\IntelliJ\\ml-stock-sent\\.venv\\Lib\\site-packages\\sklearn\\linear_model\\_coordinate_descent.py:695: ConvergenceWarning: Objective did not converge. You might want to increase the number of iterations, check the scale of the features or consider increasing regularisation. Duality gap: 5.786e+01, tolerance: 1.160e-01\n",
      "  model = cd_fast.enet_coordinate_descent(\n",
      "D:\\IntelliJ\\ml-stock-sent\\.venv\\Lib\\site-packages\\sklearn\\linear_model\\_coordinate_descent.py:695: ConvergenceWarning: Objective did not converge. You might want to increase the number of iterations, check the scale of the features or consider increasing regularisation. Duality gap: 1.738e+02, tolerance: 1.160e-01\n",
      "  model = cd_fast.enet_coordinate_descent(\n",
      "D:\\IntelliJ\\ml-stock-sent\\.venv\\Lib\\site-packages\\sklearn\\linear_model\\_coordinate_descent.py:695: ConvergenceWarning: Objective did not converge. You might want to increase the number of iterations, check the scale of the features or consider increasing regularisation. Duality gap: 2.136e+02, tolerance: 1.160e-01\n",
      "  model = cd_fast.enet_coordinate_descent(\n",
      "D:\\IntelliJ\\ml-stock-sent\\.venv\\Lib\\site-packages\\sklearn\\linear_model\\_coordinate_descent.py:695: ConvergenceWarning: Objective did not converge. You might want to increase the number of iterations, check the scale of the features or consider increasing regularisation. Duality gap: 1.044e+02, tolerance: 1.160e-01\n",
      "  model = cd_fast.enet_coordinate_descent(\n",
      "D:\\IntelliJ\\ml-stock-sent\\.venv\\Lib\\site-packages\\sklearn\\linear_model\\_coordinate_descent.py:695: ConvergenceWarning: Objective did not converge. You might want to increase the number of iterations, check the scale of the features or consider increasing regularisation. Duality gap: 2.639e+01, tolerance: 1.160e-01\n",
      "  model = cd_fast.enet_coordinate_descent(\n",
      "[I 2025-08-20 16:29:19,992] Trial 4 finished with value: 0.01033138914296413 and parameters: {'alpha': 8.17949947521167e-05, 'l1_ratio': 0.5247564316322378, 'selection': 'cyclic'}. Best is trial 3 with value: 0.01011448329737524.\n",
      "D:\\IntelliJ\\ml-stock-sent\\.venv\\Lib\\site-packages\\sklearn\\linear_model\\_coordinate_descent.py:695: ConvergenceWarning: Objective did not converge. You might want to increase the number of iterations, check the scale of the features or consider increasing regularisation. Duality gap: 8.109e+01, tolerance: 3.880e-02\n",
      "  model = cd_fast.enet_coordinate_descent(\n",
      "D:\\IntelliJ\\ml-stock-sent\\.venv\\Lib\\site-packages\\sklearn\\linear_model\\_coordinate_descent.py:695: ConvergenceWarning: Objective did not converge. You might want to increase the number of iterations, check the scale of the features or consider increasing regularisation. Duality gap: 5.261e+01, tolerance: 3.880e-02\n",
      "  model = cd_fast.enet_coordinate_descent(\n",
      "D:\\IntelliJ\\ml-stock-sent\\.venv\\Lib\\site-packages\\sklearn\\linear_model\\_coordinate_descent.py:695: ConvergenceWarning: Objective did not converge. You might want to increase the number of iterations, check the scale of the features or consider increasing regularisation. Duality gap: 1.229e+01, tolerance: 3.880e-02\n",
      "  model = cd_fast.enet_coordinate_descent(\n",
      "D:\\IntelliJ\\ml-stock-sent\\.venv\\Lib\\site-packages\\sklearn\\linear_model\\_coordinate_descent.py:695: ConvergenceWarning: Objective did not converge. You might want to increase the number of iterations, check the scale of the features or consider increasing regularisation. Duality gap: 2.350e+01, tolerance: 3.880e-02\n",
      "  model = cd_fast.enet_coordinate_descent(\n",
      "D:\\IntelliJ\\ml-stock-sent\\.venv\\Lib\\site-packages\\sklearn\\linear_model\\_coordinate_descent.py:695: ConvergenceWarning: Objective did not converge. You might want to increase the number of iterations, check the scale of the features or consider increasing regularisation. Duality gap: 5.415e+01, tolerance: 3.880e-02\n",
      "  model = cd_fast.enet_coordinate_descent(\n",
      "D:\\IntelliJ\\ml-stock-sent\\.venv\\Lib\\site-packages\\sklearn\\linear_model\\_coordinate_descent.py:695: ConvergenceWarning: Objective did not converge. You might want to increase the number of iterations, check the scale of the features or consider increasing regularisation. Duality gap: 1.083e+02, tolerance: 3.880e-02\n",
      "  model = cd_fast.enet_coordinate_descent(\n",
      "D:\\IntelliJ\\ml-stock-sent\\.venv\\Lib\\site-packages\\sklearn\\linear_model\\_coordinate_descent.py:695: ConvergenceWarning: Objective did not converge. You might want to increase the number of iterations, check the scale of the features or consider increasing regularisation. Duality gap: 6.016e+00, tolerance: 3.880e-02\n",
      "  model = cd_fast.enet_coordinate_descent(\n",
      "D:\\IntelliJ\\ml-stock-sent\\.venv\\Lib\\site-packages\\sklearn\\linear_model\\_coordinate_descent.py:695: ConvergenceWarning: Objective did not converge. You might want to increase the number of iterations, check the scale of the features or consider increasing regularisation. Duality gap: 2.506e+01, tolerance: 3.880e-02\n",
      "  model = cd_fast.enet_coordinate_descent(\n",
      "D:\\IntelliJ\\ml-stock-sent\\.venv\\Lib\\site-packages\\sklearn\\linear_model\\_coordinate_descent.py:695: ConvergenceWarning: Objective did not converge. You might want to increase the number of iterations, check the scale of the features or consider increasing regularisation. Duality gap: 3.870e+01, tolerance: 3.880e-02\n",
      "  model = cd_fast.enet_coordinate_descent(\n",
      "D:\\IntelliJ\\ml-stock-sent\\.venv\\Lib\\site-packages\\sklearn\\linear_model\\_coordinate_descent.py:695: ConvergenceWarning: Objective did not converge. You might want to increase the number of iterations, check the scale of the features or consider increasing regularisation. Duality gap: 6.366e+01, tolerance: 3.880e-02\n",
      "  model = cd_fast.enet_coordinate_descent(\n",
      "D:\\IntelliJ\\ml-stock-sent\\.venv\\Lib\\site-packages\\sklearn\\linear_model\\_coordinate_descent.py:695: ConvergenceWarning: Objective did not converge. You might want to increase the number of iterations, check the scale of the features or consider increasing regularisation. Duality gap: 2.365e+00, tolerance: 3.880e-02\n",
      "  model = cd_fast.enet_coordinate_descent(\n",
      "D:\\IntelliJ\\ml-stock-sent\\.venv\\Lib\\site-packages\\sklearn\\linear_model\\_coordinate_descent.py:695: ConvergenceWarning: Objective did not converge. You might want to increase the number of iterations, check the scale of the features or consider increasing regularisation. Duality gap: 2.292e+01, tolerance: 3.880e-02\n",
      "  model = cd_fast.enet_coordinate_descent(\n",
      "D:\\IntelliJ\\ml-stock-sent\\.venv\\Lib\\site-packages\\sklearn\\linear_model\\_coordinate_descent.py:695: ConvergenceWarning: Objective did not converge. You might want to increase the number of iterations, check the scale of the features or consider increasing regularisation. Duality gap: 6.965e+01, tolerance: 3.880e-02\n",
      "  model = cd_fast.enet_coordinate_descent(\n",
      "D:\\IntelliJ\\ml-stock-sent\\.venv\\Lib\\site-packages\\sklearn\\linear_model\\_coordinate_descent.py:695: ConvergenceWarning: Objective did not converge. You might want to increase the number of iterations, check the scale of the features or consider increasing regularisation. Duality gap: 1.011e+02, tolerance: 3.880e-02\n",
      "  model = cd_fast.enet_coordinate_descent(\n",
      "D:\\IntelliJ\\ml-stock-sent\\.venv\\Lib\\site-packages\\sklearn\\linear_model\\_coordinate_descent.py:695: ConvergenceWarning: Objective did not converge. You might want to increase the number of iterations, check the scale of the features or consider increasing regularisation. Duality gap: 2.699e+01, tolerance: 3.880e-02\n",
      "  model = cd_fast.enet_coordinate_descent(\n",
      "D:\\IntelliJ\\ml-stock-sent\\.venv\\Lib\\site-packages\\sklearn\\linear_model\\_coordinate_descent.py:695: ConvergenceWarning: Objective did not converge. You might want to increase the number of iterations, check the scale of the features or consider increasing regularisation. Duality gap: 5.054e+01, tolerance: 3.880e-02\n",
      "  model = cd_fast.enet_coordinate_descent(\n",
      "D:\\IntelliJ\\ml-stock-sent\\.venv\\Lib\\site-packages\\sklearn\\linear_model\\_coordinate_descent.py:695: ConvergenceWarning: Objective did not converge. You might want to increase the number of iterations, check the scale of the features or consider increasing regularisation. Duality gap: 6.644e+01, tolerance: 3.880e-02\n",
      "  model = cd_fast.enet_coordinate_descent(\n",
      "D:\\IntelliJ\\ml-stock-sent\\.venv\\Lib\\site-packages\\sklearn\\linear_model\\_coordinate_descent.py:695: ConvergenceWarning: Objective did not converge. You might want to increase the number of iterations, check the scale of the features or consider increasing regularisation. Duality gap: 6.300e+01, tolerance: 3.880e-02\n",
      "  model = cd_fast.enet_coordinate_descent(\n",
      "D:\\IntelliJ\\ml-stock-sent\\.venv\\Lib\\site-packages\\sklearn\\linear_model\\_coordinate_descent.py:695: ConvergenceWarning: Objective did not converge. You might want to increase the number of iterations, check the scale of the features or consider increasing regularisation. Duality gap: 3.869e+01, tolerance: 3.880e-02\n",
      "  model = cd_fast.enet_coordinate_descent(\n",
      "D:\\IntelliJ\\ml-stock-sent\\.venv\\Lib\\site-packages\\sklearn\\linear_model\\_coordinate_descent.py:695: ConvergenceWarning: Objective did not converge. You might want to increase the number of iterations, check the scale of the features or consider increasing regularisation. Duality gap: 1.310e+00, tolerance: 3.880e-02\n",
      "  model = cd_fast.enet_coordinate_descent(\n",
      "D:\\IntelliJ\\ml-stock-sent\\.venv\\Lib\\site-packages\\sklearn\\linear_model\\_coordinate_descent.py:695: ConvergenceWarning: Objective did not converge. You might want to increase the number of iterations, check the scale of the features or consider increasing regularisation. Duality gap: 6.101e+01, tolerance: 3.880e-02\n",
      "  model = cd_fast.enet_coordinate_descent(\n",
      "D:\\IntelliJ\\ml-stock-sent\\.venv\\Lib\\site-packages\\sklearn\\linear_model\\_coordinate_descent.py:695: ConvergenceWarning: Objective did not converge. You might want to increase the number of iterations, check the scale of the features or consider increasing regularisation. Duality gap: 4.264e+01, tolerance: 3.880e-02\n",
      "  model = cd_fast.enet_coordinate_descent(\n",
      "D:\\IntelliJ\\ml-stock-sent\\.venv\\Lib\\site-packages\\sklearn\\linear_model\\_coordinate_descent.py:695: ConvergenceWarning: Objective did not converge. You might want to increase the number of iterations, check the scale of the features or consider increasing regularisation. Duality gap: 7.205e+01, tolerance: 3.880e-02\n",
      "  model = cd_fast.enet_coordinate_descent(\n",
      "D:\\IntelliJ\\ml-stock-sent\\.venv\\Lib\\site-packages\\sklearn\\linear_model\\_coordinate_descent.py:695: ConvergenceWarning: Objective did not converge. You might want to increase the number of iterations, check the scale of the features or consider increasing regularisation. Duality gap: 1.362e+01, tolerance: 3.880e-02\n",
      "  model = cd_fast.enet_coordinate_descent(\n",
      "D:\\IntelliJ\\ml-stock-sent\\.venv\\Lib\\site-packages\\sklearn\\linear_model\\_coordinate_descent.py:695: ConvergenceWarning: Objective did not converge. You might want to increase the number of iterations, check the scale of the features or consider increasing regularisation. Duality gap: 6.278e+01, tolerance: 3.880e-02\n",
      "  model = cd_fast.enet_coordinate_descent(\n",
      "D:\\IntelliJ\\ml-stock-sent\\.venv\\Lib\\site-packages\\sklearn\\linear_model\\_coordinate_descent.py:695: ConvergenceWarning: Objective did not converge. You might want to increase the number of iterations, check the scale of the features or consider increasing regularisation. Duality gap: 6.675e+01, tolerance: 3.880e-02\n",
      "  model = cd_fast.enet_coordinate_descent(\n",
      "D:\\IntelliJ\\ml-stock-sent\\.venv\\Lib\\site-packages\\sklearn\\linear_model\\_coordinate_descent.py:695: ConvergenceWarning: Objective did not converge. You might want to increase the number of iterations, check the scale of the features or consider increasing regularisation. Duality gap: 4.422e+01, tolerance: 3.880e-02\n",
      "  model = cd_fast.enet_coordinate_descent(\n",
      "D:\\IntelliJ\\ml-stock-sent\\.venv\\Lib\\site-packages\\sklearn\\linear_model\\_coordinate_descent.py:695: ConvergenceWarning: Objective did not converge. You might want to increase the number of iterations, check the scale of the features or consider increasing regularisation. Duality gap: 3.035e+01, tolerance: 3.880e-02\n",
      "  model = cd_fast.enet_coordinate_descent(\n",
      "D:\\IntelliJ\\ml-stock-sent\\.venv\\Lib\\site-packages\\sklearn\\linear_model\\_coordinate_descent.py:695: ConvergenceWarning: Objective did not converge. You might want to increase the number of iterations, check the scale of the features or consider increasing regularisation. Duality gap: 1.031e+02, tolerance: 7.740e-02\n",
      "  model = cd_fast.enet_coordinate_descent(\n",
      "D:\\IntelliJ\\ml-stock-sent\\.venv\\Lib\\site-packages\\sklearn\\linear_model\\_coordinate_descent.py:695: ConvergenceWarning: Objective did not converge. You might want to increase the number of iterations, check the scale of the features or consider increasing regularisation. Duality gap: 8.857e+01, tolerance: 7.740e-02\n",
      "  model = cd_fast.enet_coordinate_descent(\n",
      "D:\\IntelliJ\\ml-stock-sent\\.venv\\Lib\\site-packages\\sklearn\\linear_model\\_coordinate_descent.py:695: ConvergenceWarning: Objective did not converge. You might want to increase the number of iterations, check the scale of the features or consider increasing regularisation. Duality gap: 5.062e+01, tolerance: 7.740e-02\n",
      "  model = cd_fast.enet_coordinate_descent(\n",
      "D:\\IntelliJ\\ml-stock-sent\\.venv\\Lib\\site-packages\\sklearn\\linear_model\\_coordinate_descent.py:695: ConvergenceWarning: Objective did not converge. You might want to increase the number of iterations, check the scale of the features or consider increasing regularisation. Duality gap: 4.828e+01, tolerance: 7.740e-02\n",
      "  model = cd_fast.enet_coordinate_descent(\n",
      "D:\\IntelliJ\\ml-stock-sent\\.venv\\Lib\\site-packages\\sklearn\\linear_model\\_coordinate_descent.py:695: ConvergenceWarning: Objective did not converge. You might want to increase the number of iterations, check the scale of the features or consider increasing regularisation. Duality gap: 3.060e+01, tolerance: 7.740e-02\n",
      "  model = cd_fast.enet_coordinate_descent(\n",
      "D:\\IntelliJ\\ml-stock-sent\\.venv\\Lib\\site-packages\\sklearn\\linear_model\\_coordinate_descent.py:695: ConvergenceWarning: Objective did not converge. You might want to increase the number of iterations, check the scale of the features or consider increasing regularisation. Duality gap: 1.908e+02, tolerance: 7.740e-02\n",
      "  model = cd_fast.enet_coordinate_descent(\n",
      "D:\\IntelliJ\\ml-stock-sent\\.venv\\Lib\\site-packages\\sklearn\\linear_model\\_coordinate_descent.py:695: ConvergenceWarning: Objective did not converge. You might want to increase the number of iterations, check the scale of the features or consider increasing regularisation. Duality gap: 3.658e+01, tolerance: 7.740e-02\n",
      "  model = cd_fast.enet_coordinate_descent(\n",
      "D:\\IntelliJ\\ml-stock-sent\\.venv\\Lib\\site-packages\\sklearn\\linear_model\\_coordinate_descent.py:695: ConvergenceWarning: Objective did not converge. You might want to increase the number of iterations, check the scale of the features or consider increasing regularisation. Duality gap: 9.072e+01, tolerance: 7.740e-02\n",
      "  model = cd_fast.enet_coordinate_descent(\n",
      "D:\\IntelliJ\\ml-stock-sent\\.venv\\Lib\\site-packages\\sklearn\\linear_model\\_coordinate_descent.py:695: ConvergenceWarning: Objective did not converge. You might want to increase the number of iterations, check the scale of the features or consider increasing regularisation. Duality gap: 6.005e+01, tolerance: 7.740e-02\n",
      "  model = cd_fast.enet_coordinate_descent(\n",
      "D:\\IntelliJ\\ml-stock-sent\\.venv\\Lib\\site-packages\\sklearn\\linear_model\\_coordinate_descent.py:695: ConvergenceWarning: Objective did not converge. You might want to increase the number of iterations, check the scale of the features or consider increasing regularisation. Duality gap: 1.210e+02, tolerance: 7.740e-02\n",
      "  model = cd_fast.enet_coordinate_descent(\n",
      "D:\\IntelliJ\\ml-stock-sent\\.venv\\Lib\\site-packages\\sklearn\\linear_model\\_coordinate_descent.py:695: ConvergenceWarning: Objective did not converge. You might want to increase the number of iterations, check the scale of the features or consider increasing regularisation. Duality gap: 1.844e+01, tolerance: 7.740e-02\n",
      "  model = cd_fast.enet_coordinate_descent(\n",
      "D:\\IntelliJ\\ml-stock-sent\\.venv\\Lib\\site-packages\\sklearn\\linear_model\\_coordinate_descent.py:695: ConvergenceWarning: Objective did not converge. You might want to increase the number of iterations, check the scale of the features or consider increasing regularisation. Duality gap: 9.909e+01, tolerance: 7.740e-02\n",
      "  model = cd_fast.enet_coordinate_descent(\n",
      "D:\\IntelliJ\\ml-stock-sent\\.venv\\Lib\\site-packages\\sklearn\\linear_model\\_coordinate_descent.py:695: ConvergenceWarning: Objective did not converge. You might want to increase the number of iterations, check the scale of the features or consider increasing regularisation. Duality gap: 5.597e+01, tolerance: 7.740e-02\n",
      "  model = cd_fast.enet_coordinate_descent(\n",
      "D:\\IntelliJ\\ml-stock-sent\\.venv\\Lib\\site-packages\\sklearn\\linear_model\\_coordinate_descent.py:695: ConvergenceWarning: Objective did not converge. You might want to increase the number of iterations, check the scale of the features or consider increasing regularisation. Duality gap: 1.828e+02, tolerance: 7.740e-02\n",
      "  model = cd_fast.enet_coordinate_descent(\n",
      "D:\\IntelliJ\\ml-stock-sent\\.venv\\Lib\\site-packages\\sklearn\\linear_model\\_coordinate_descent.py:695: ConvergenceWarning: Objective did not converge. You might want to increase the number of iterations, check the scale of the features or consider increasing regularisation. Duality gap: 9.620e+01, tolerance: 7.740e-02\n",
      "  model = cd_fast.enet_coordinate_descent(\n",
      "D:\\IntelliJ\\ml-stock-sent\\.venv\\Lib\\site-packages\\sklearn\\linear_model\\_coordinate_descent.py:695: ConvergenceWarning: Objective did not converge. You might want to increase the number of iterations, check the scale of the features or consider increasing regularisation. Duality gap: 1.373e+02, tolerance: 7.740e-02\n",
      "  model = cd_fast.enet_coordinate_descent(\n",
      "D:\\IntelliJ\\ml-stock-sent\\.venv\\Lib\\site-packages\\sklearn\\linear_model\\_coordinate_descent.py:695: ConvergenceWarning: Objective did not converge. You might want to increase the number of iterations, check the scale of the features or consider increasing regularisation. Duality gap: 1.478e+01, tolerance: 7.740e-02\n",
      "  model = cd_fast.enet_coordinate_descent(\n",
      "D:\\IntelliJ\\ml-stock-sent\\.venv\\Lib\\site-packages\\sklearn\\linear_model\\_coordinate_descent.py:695: ConvergenceWarning: Objective did not converge. You might want to increase the number of iterations, check the scale of the features or consider increasing regularisation. Duality gap: 1.754e+02, tolerance: 7.740e-02\n",
      "  model = cd_fast.enet_coordinate_descent(\n",
      "D:\\IntelliJ\\ml-stock-sent\\.venv\\Lib\\site-packages\\sklearn\\linear_model\\_coordinate_descent.py:695: ConvergenceWarning: Objective did not converge. You might want to increase the number of iterations, check the scale of the features or consider increasing regularisation. Duality gap: 1.668e+01, tolerance: 7.740e-02\n",
      "  model = cd_fast.enet_coordinate_descent(\n",
      "D:\\IntelliJ\\ml-stock-sent\\.venv\\Lib\\site-packages\\sklearn\\linear_model\\_coordinate_descent.py:695: ConvergenceWarning: Objective did not converge. You might want to increase the number of iterations, check the scale of the features or consider increasing regularisation. Duality gap: 2.499e+00, tolerance: 7.740e-02\n",
      "  model = cd_fast.enet_coordinate_descent(\n",
      "D:\\IntelliJ\\ml-stock-sent\\.venv\\Lib\\site-packages\\sklearn\\linear_model\\_coordinate_descent.py:695: ConvergenceWarning: Objective did not converge. You might want to increase the number of iterations, check the scale of the features or consider increasing regularisation. Duality gap: 2.693e+01, tolerance: 7.740e-02\n",
      "  model = cd_fast.enet_coordinate_descent(\n",
      "D:\\IntelliJ\\ml-stock-sent\\.venv\\Lib\\site-packages\\sklearn\\linear_model\\_coordinate_descent.py:695: ConvergenceWarning: Objective did not converge. You might want to increase the number of iterations, check the scale of the features or consider increasing regularisation. Duality gap: 1.990e+01, tolerance: 7.740e-02\n",
      "  model = cd_fast.enet_coordinate_descent(\n",
      "D:\\IntelliJ\\ml-stock-sent\\.venv\\Lib\\site-packages\\sklearn\\linear_model\\_coordinate_descent.py:695: ConvergenceWarning: Objective did not converge. You might want to increase the number of iterations, check the scale of the features or consider increasing regularisation. Duality gap: 6.980e+01, tolerance: 7.740e-02\n",
      "  model = cd_fast.enet_coordinate_descent(\n",
      "D:\\IntelliJ\\ml-stock-sent\\.venv\\Lib\\site-packages\\sklearn\\linear_model\\_coordinate_descent.py:695: ConvergenceWarning: Objective did not converge. You might want to increase the number of iterations, check the scale of the features or consider increasing regularisation. Duality gap: 4.209e+01, tolerance: 7.740e-02\n",
      "  model = cd_fast.enet_coordinate_descent(\n",
      "D:\\IntelliJ\\ml-stock-sent\\.venv\\Lib\\site-packages\\sklearn\\linear_model\\_coordinate_descent.py:695: ConvergenceWarning: Objective did not converge. You might want to increase the number of iterations, check the scale of the features or consider increasing regularisation. Duality gap: 8.146e+01, tolerance: 7.740e-02\n",
      "  model = cd_fast.enet_coordinate_descent(\n",
      "D:\\IntelliJ\\ml-stock-sent\\.venv\\Lib\\site-packages\\sklearn\\linear_model\\_coordinate_descent.py:695: ConvergenceWarning: Objective did not converge. You might want to increase the number of iterations, check the scale of the features or consider increasing regularisation. Duality gap: 5.331e+00, tolerance: 7.740e-02\n",
      "  model = cd_fast.enet_coordinate_descent(\n",
      "D:\\IntelliJ\\ml-stock-sent\\.venv\\Lib\\site-packages\\sklearn\\linear_model\\_coordinate_descent.py:695: ConvergenceWarning: Objective did not converge. You might want to increase the number of iterations, check the scale of the features or consider increasing regularisation. Duality gap: 1.533e+02, tolerance: 7.740e-02\n",
      "  model = cd_fast.enet_coordinate_descent(\n",
      "D:\\IntelliJ\\ml-stock-sent\\.venv\\Lib\\site-packages\\sklearn\\linear_model\\_coordinate_descent.py:695: ConvergenceWarning: Objective did not converge. You might want to increase the number of iterations, check the scale of the features or consider increasing regularisation. Duality gap: 1.656e+02, tolerance: 7.740e-02\n",
      "  model = cd_fast.enet_coordinate_descent(\n",
      "D:\\IntelliJ\\ml-stock-sent\\.venv\\Lib\\site-packages\\sklearn\\linear_model\\_coordinate_descent.py:695: ConvergenceWarning: Objective did not converge. You might want to increase the number of iterations, check the scale of the features or consider increasing regularisation. Duality gap: 9.543e+01, tolerance: 7.740e-02\n",
      "  model = cd_fast.enet_coordinate_descent(\n",
      "D:\\IntelliJ\\ml-stock-sent\\.venv\\Lib\\site-packages\\sklearn\\linear_model\\_coordinate_descent.py:695: ConvergenceWarning: Objective did not converge. You might want to increase the number of iterations, check the scale of the features or consider increasing regularisation. Duality gap: 1.141e+00, tolerance: 7.740e-02\n",
      "  model = cd_fast.enet_coordinate_descent(\n",
      "D:\\IntelliJ\\ml-stock-sent\\.venv\\Lib\\site-packages\\sklearn\\linear_model\\_coordinate_descent.py:695: ConvergenceWarning: Objective did not converge. You might want to increase the number of iterations, check the scale of the features or consider increasing regularisation. Duality gap: 1.221e+02, tolerance: 1.160e-01\n",
      "  model = cd_fast.enet_coordinate_descent(\n",
      "D:\\IntelliJ\\ml-stock-sent\\.venv\\Lib\\site-packages\\sklearn\\linear_model\\_coordinate_descent.py:695: ConvergenceWarning: Objective did not converge. You might want to increase the number of iterations, check the scale of the features or consider increasing regularisation. Duality gap: 1.035e+02, tolerance: 1.160e-01\n",
      "  model = cd_fast.enet_coordinate_descent(\n",
      "D:\\IntelliJ\\ml-stock-sent\\.venv\\Lib\\site-packages\\sklearn\\linear_model\\_coordinate_descent.py:695: ConvergenceWarning: Objective did not converge. You might want to increase the number of iterations, check the scale of the features or consider increasing regularisation. Duality gap: 9.606e+01, tolerance: 1.160e-01\n",
      "  model = cd_fast.enet_coordinate_descent(\n",
      "D:\\IntelliJ\\ml-stock-sent\\.venv\\Lib\\site-packages\\sklearn\\linear_model\\_coordinate_descent.py:695: ConvergenceWarning: Objective did not converge. You might want to increase the number of iterations, check the scale of the features or consider increasing regularisation. Duality gap: 4.401e+01, tolerance: 1.160e-01\n",
      "  model = cd_fast.enet_coordinate_descent(\n",
      "D:\\IntelliJ\\ml-stock-sent\\.venv\\Lib\\site-packages\\sklearn\\linear_model\\_coordinate_descent.py:695: ConvergenceWarning: Objective did not converge. You might want to increase the number of iterations, check the scale of the features or consider increasing regularisation. Duality gap: 1.667e+01, tolerance: 1.160e-01\n",
      "  model = cd_fast.enet_coordinate_descent(\n",
      "D:\\IntelliJ\\ml-stock-sent\\.venv\\Lib\\site-packages\\sklearn\\linear_model\\_coordinate_descent.py:695: ConvergenceWarning: Objective did not converge. You might want to increase the number of iterations, check the scale of the features or consider increasing regularisation. Duality gap: 2.730e+02, tolerance: 1.160e-01\n",
      "  model = cd_fast.enet_coordinate_descent(\n",
      "D:\\IntelliJ\\ml-stock-sent\\.venv\\Lib\\site-packages\\sklearn\\linear_model\\_coordinate_descent.py:695: ConvergenceWarning: Objective did not converge. You might want to increase the number of iterations, check the scale of the features or consider increasing regularisation. Duality gap: 1.016e+02, tolerance: 1.160e-01\n",
      "  model = cd_fast.enet_coordinate_descent(\n",
      "D:\\IntelliJ\\ml-stock-sent\\.venv\\Lib\\site-packages\\sklearn\\linear_model\\_coordinate_descent.py:695: ConvergenceWarning: Objective did not converge. You might want to increase the number of iterations, check the scale of the features or consider increasing regularisation. Duality gap: 1.765e+02, tolerance: 1.160e-01\n",
      "  model = cd_fast.enet_coordinate_descent(\n",
      "D:\\IntelliJ\\ml-stock-sent\\.venv\\Lib\\site-packages\\sklearn\\linear_model\\_coordinate_descent.py:695: ConvergenceWarning: Objective did not converge. You might want to increase the number of iterations, check the scale of the features or consider increasing regularisation. Duality gap: 1.160e+02, tolerance: 1.160e-01\n",
      "  model = cd_fast.enet_coordinate_descent(\n",
      "D:\\IntelliJ\\ml-stock-sent\\.venv\\Lib\\site-packages\\sklearn\\linear_model\\_coordinate_descent.py:695: ConvergenceWarning: Objective did not converge. You might want to increase the number of iterations, check the scale of the features or consider increasing regularisation. Duality gap: 2.092e+02, tolerance: 1.160e-01\n",
      "  model = cd_fast.enet_coordinate_descent(\n",
      "D:\\IntelliJ\\ml-stock-sent\\.venv\\Lib\\site-packages\\sklearn\\linear_model\\_coordinate_descent.py:695: ConvergenceWarning: Objective did not converge. You might want to increase the number of iterations, check the scale of the features or consider increasing regularisation. Duality gap: 3.887e+01, tolerance: 1.160e-01\n",
      "  model = cd_fast.enet_coordinate_descent(\n",
      "D:\\IntelliJ\\ml-stock-sent\\.venv\\Lib\\site-packages\\sklearn\\linear_model\\_coordinate_descent.py:695: ConvergenceWarning: Objective did not converge. You might want to increase the number of iterations, check the scale of the features or consider increasing regularisation. Duality gap: 1.391e+02, tolerance: 1.160e-01\n",
      "  model = cd_fast.enet_coordinate_descent(\n",
      "D:\\IntelliJ\\ml-stock-sent\\.venv\\Lib\\site-packages\\sklearn\\linear_model\\_coordinate_descent.py:695: ConvergenceWarning: Objective did not converge. You might want to increase the number of iterations, check the scale of the features or consider increasing regularisation. Duality gap: 8.124e+01, tolerance: 1.160e-01\n",
      "  model = cd_fast.enet_coordinate_descent(\n",
      "D:\\IntelliJ\\ml-stock-sent\\.venv\\Lib\\site-packages\\sklearn\\linear_model\\_coordinate_descent.py:695: ConvergenceWarning: Objective did not converge. You might want to increase the number of iterations, check the scale of the features or consider increasing regularisation. Duality gap: 2.782e+02, tolerance: 1.160e-01\n",
      "  model = cd_fast.enet_coordinate_descent(\n",
      "D:\\IntelliJ\\ml-stock-sent\\.venv\\Lib\\site-packages\\sklearn\\linear_model\\_coordinate_descent.py:695: ConvergenceWarning: Objective did not converge. You might want to increase the number of iterations, check the scale of the features or consider increasing regularisation. Duality gap: 1.563e+02, tolerance: 1.160e-01\n",
      "  model = cd_fast.enet_coordinate_descent(\n",
      "D:\\IntelliJ\\ml-stock-sent\\.venv\\Lib\\site-packages\\sklearn\\linear_model\\_coordinate_descent.py:695: ConvergenceWarning: Objective did not converge. You might want to increase the number of iterations, check the scale of the features or consider increasing regularisation. Duality gap: 2.332e+02, tolerance: 1.160e-01\n",
      "  model = cd_fast.enet_coordinate_descent(\n",
      "D:\\IntelliJ\\ml-stock-sent\\.venv\\Lib\\site-packages\\sklearn\\linear_model\\_coordinate_descent.py:695: ConvergenceWarning: Objective did not converge. You might want to increase the number of iterations, check the scale of the features or consider increasing regularisation. Duality gap: 8.273e+00, tolerance: 1.160e-01\n",
      "  model = cd_fast.enet_coordinate_descent(\n",
      "D:\\IntelliJ\\ml-stock-sent\\.venv\\Lib\\site-packages\\sklearn\\linear_model\\_coordinate_descent.py:695: ConvergenceWarning: Objective did not converge. You might want to increase the number of iterations, check the scale of the features or consider increasing regularisation. Duality gap: 2.573e+02, tolerance: 1.160e-01\n",
      "  model = cd_fast.enet_coordinate_descent(\n",
      "D:\\IntelliJ\\ml-stock-sent\\.venv\\Lib\\site-packages\\sklearn\\linear_model\\_coordinate_descent.py:695: ConvergenceWarning: Objective did not converge. You might want to increase the number of iterations, check the scale of the features or consider increasing regularisation. Duality gap: 3.031e+00, tolerance: 1.160e-01\n",
      "  model = cd_fast.enet_coordinate_descent(\n",
      "D:\\IntelliJ\\ml-stock-sent\\.venv\\Lib\\site-packages\\sklearn\\linear_model\\_coordinate_descent.py:695: ConvergenceWarning: Objective did not converge. You might want to increase the number of iterations, check the scale of the features or consider increasing regularisation. Duality gap: 7.846e+00, tolerance: 1.160e-01\n",
      "  model = cd_fast.enet_coordinate_descent(\n",
      "D:\\IntelliJ\\ml-stock-sent\\.venv\\Lib\\site-packages\\sklearn\\linear_model\\_coordinate_descent.py:695: ConvergenceWarning: Objective did not converge. You might want to increase the number of iterations, check the scale of the features or consider increasing regularisation. Duality gap: 1.186e+02, tolerance: 1.160e-01\n",
      "  model = cd_fast.enet_coordinate_descent(\n",
      "D:\\IntelliJ\\ml-stock-sent\\.venv\\Lib\\site-packages\\sklearn\\linear_model\\_coordinate_descent.py:695: ConvergenceWarning: Objective did not converge. You might want to increase the number of iterations, check the scale of the features or consider increasing regularisation. Duality gap: 8.366e+01, tolerance: 1.160e-01\n",
      "  model = cd_fast.enet_coordinate_descent(\n",
      "D:\\IntelliJ\\ml-stock-sent\\.venv\\Lib\\site-packages\\sklearn\\linear_model\\_coordinate_descent.py:695: ConvergenceWarning: Objective did not converge. You might want to increase the number of iterations, check the scale of the features or consider increasing regularisation. Duality gap: 7.463e+01, tolerance: 1.160e-01\n",
      "  model = cd_fast.enet_coordinate_descent(\n",
      "D:\\IntelliJ\\ml-stock-sent\\.venv\\Lib\\site-packages\\sklearn\\linear_model\\_coordinate_descent.py:695: ConvergenceWarning: Objective did not converge. You might want to increase the number of iterations, check the scale of the features or consider increasing regularisation. Duality gap: 6.424e+00, tolerance: 1.160e-01\n",
      "  model = cd_fast.enet_coordinate_descent(\n",
      "D:\\IntelliJ\\ml-stock-sent\\.venv\\Lib\\site-packages\\sklearn\\linear_model\\_coordinate_descent.py:695: ConvergenceWarning: Objective did not converge. You might want to increase the number of iterations, check the scale of the features or consider increasing regularisation. Duality gap: 2.077e+02, tolerance: 1.160e-01\n",
      "  model = cd_fast.enet_coordinate_descent(\n",
      "D:\\IntelliJ\\ml-stock-sent\\.venv\\Lib\\site-packages\\sklearn\\linear_model\\_coordinate_descent.py:695: ConvergenceWarning: Objective did not converge. You might want to increase the number of iterations, check the scale of the features or consider increasing regularisation. Duality gap: 2.338e+02, tolerance: 1.160e-01\n",
      "  model = cd_fast.enet_coordinate_descent(\n",
      "D:\\IntelliJ\\ml-stock-sent\\.venv\\Lib\\site-packages\\sklearn\\linear_model\\_coordinate_descent.py:695: ConvergenceWarning: Objective did not converge. You might want to increase the number of iterations, check the scale of the features or consider increasing regularisation. Duality gap: 1.627e+02, tolerance: 1.160e-01\n",
      "  model = cd_fast.enet_coordinate_descent(\n",
      "D:\\IntelliJ\\ml-stock-sent\\.venv\\Lib\\site-packages\\sklearn\\linear_model\\_coordinate_descent.py:695: ConvergenceWarning: Objective did not converge. You might want to increase the number of iterations, check the scale of the features or consider increasing regularisation. Duality gap: 2.279e+01, tolerance: 1.160e-01\n",
      "  model = cd_fast.enet_coordinate_descent(\n",
      "[I 2025-08-20 16:29:21,397] Trial 5 finished with value: 0.010258160210190272 and parameters: {'alpha': 0.000684792009557478, 'l1_ratio': 0.13949386065204183, 'selection': 'random'}. Best is trial 3 with value: 0.01011448329737524.\n",
      "D:\\IntelliJ\\ml-stock-sent\\.venv\\Lib\\site-packages\\sklearn\\linear_model\\_coordinate_descent.py:695: ConvergenceWarning: Objective did not converge. You might want to increase the number of iterations, check the scale of the features or consider increasing regularisation. Duality gap: 9.828e+01, tolerance: 3.880e-02\n",
      "  model = cd_fast.enet_coordinate_descent(\n",
      "D:\\IntelliJ\\ml-stock-sent\\.venv\\Lib\\site-packages\\sklearn\\linear_model\\_coordinate_descent.py:695: ConvergenceWarning: Objective did not converge. You might want to increase the number of iterations, check the scale of the features or consider increasing regularisation. Duality gap: 6.818e+01, tolerance: 3.880e-02\n",
      "  model = cd_fast.enet_coordinate_descent(\n",
      "D:\\IntelliJ\\ml-stock-sent\\.venv\\Lib\\site-packages\\sklearn\\linear_model\\_coordinate_descent.py:695: ConvergenceWarning: Objective did not converge. You might want to increase the number of iterations, check the scale of the features or consider increasing regularisation. Duality gap: 1.932e+01, tolerance: 3.880e-02\n",
      "  model = cd_fast.enet_coordinate_descent(\n",
      "D:\\IntelliJ\\ml-stock-sent\\.venv\\Lib\\site-packages\\sklearn\\linear_model\\_coordinate_descent.py:695: ConvergenceWarning: Objective did not converge. You might want to increase the number of iterations, check the scale of the features or consider increasing regularisation. Duality gap: 3.295e+01, tolerance: 3.880e-02\n",
      "  model = cd_fast.enet_coordinate_descent(\n",
      "D:\\IntelliJ\\ml-stock-sent\\.venv\\Lib\\site-packages\\sklearn\\linear_model\\_coordinate_descent.py:695: ConvergenceWarning: Objective did not converge. You might want to increase the number of iterations, check the scale of the features or consider increasing regularisation. Duality gap: 7.219e+01, tolerance: 3.880e-02\n",
      "  model = cd_fast.enet_coordinate_descent(\n",
      "D:\\IntelliJ\\ml-stock-sent\\.venv\\Lib\\site-packages\\sklearn\\linear_model\\_coordinate_descent.py:695: ConvergenceWarning: Objective did not converge. You might want to increase the number of iterations, check the scale of the features or consider increasing regularisation. Duality gap: 1.229e+02, tolerance: 3.880e-02\n",
      "  model = cd_fast.enet_coordinate_descent(\n",
      "D:\\IntelliJ\\ml-stock-sent\\.venv\\Lib\\site-packages\\sklearn\\linear_model\\_coordinate_descent.py:695: ConvergenceWarning: Objective did not converge. You might want to increase the number of iterations, check the scale of the features or consider increasing regularisation. Duality gap: 5.240e+00, tolerance: 3.880e-02\n",
      "  model = cd_fast.enet_coordinate_descent(\n",
      "D:\\IntelliJ\\ml-stock-sent\\.venv\\Lib\\site-packages\\sklearn\\linear_model\\_coordinate_descent.py:695: ConvergenceWarning: Objective did not converge. You might want to increase the number of iterations, check the scale of the features or consider increasing regularisation. Duality gap: 3.702e+01, tolerance: 3.880e-02\n",
      "  model = cd_fast.enet_coordinate_descent(\n",
      "D:\\IntelliJ\\ml-stock-sent\\.venv\\Lib\\site-packages\\sklearn\\linear_model\\_coordinate_descent.py:695: ConvergenceWarning: Objective did not converge. You might want to increase the number of iterations, check the scale of the features or consider increasing regularisation. Duality gap: 5.186e+01, tolerance: 3.880e-02\n",
      "  model = cd_fast.enet_coordinate_descent(\n",
      "D:\\IntelliJ\\ml-stock-sent\\.venv\\Lib\\site-packages\\sklearn\\linear_model\\_coordinate_descent.py:695: ConvergenceWarning: Objective did not converge. You might want to increase the number of iterations, check the scale of the features or consider increasing regularisation. Duality gap: 8.383e+01, tolerance: 3.880e-02\n",
      "  model = cd_fast.enet_coordinate_descent(\n",
      "D:\\IntelliJ\\ml-stock-sent\\.venv\\Lib\\site-packages\\sklearn\\linear_model\\_coordinate_descent.py:695: ConvergenceWarning: Objective did not converge. You might want to increase the number of iterations, check the scale of the features or consider increasing regularisation. Duality gap: 3.036e+00, tolerance: 3.880e-02\n",
      "  model = cd_fast.enet_coordinate_descent(\n",
      "D:\\IntelliJ\\ml-stock-sent\\.venv\\Lib\\site-packages\\sklearn\\linear_model\\_coordinate_descent.py:695: ConvergenceWarning: Objective did not converge. You might want to increase the number of iterations, check the scale of the features or consider increasing regularisation. Duality gap: 3.311e+01, tolerance: 3.880e-02\n",
      "  model = cd_fast.enet_coordinate_descent(\n",
      "D:\\IntelliJ\\ml-stock-sent\\.venv\\Lib\\site-packages\\sklearn\\linear_model\\_coordinate_descent.py:695: ConvergenceWarning: Objective did not converge. You might want to increase the number of iterations, check the scale of the features or consider increasing regularisation. Duality gap: 8.835e+01, tolerance: 3.880e-02\n",
      "  model = cd_fast.enet_coordinate_descent(\n",
      "D:\\IntelliJ\\ml-stock-sent\\.venv\\Lib\\site-packages\\sklearn\\linear_model\\_coordinate_descent.py:695: ConvergenceWarning: Objective did not converge. You might want to increase the number of iterations, check the scale of the features or consider increasing regularisation. Duality gap: 1.170e+02, tolerance: 3.880e-02\n",
      "  model = cd_fast.enet_coordinate_descent(\n",
      "D:\\IntelliJ\\ml-stock-sent\\.venv\\Lib\\site-packages\\sklearn\\linear_model\\_coordinate_descent.py:695: ConvergenceWarning: Objective did not converge. You might want to increase the number of iterations, check the scale of the features or consider increasing regularisation. Duality gap: 7.152e+00, tolerance: 3.880e-02\n",
      "  model = cd_fast.enet_coordinate_descent(\n",
      "D:\\IntelliJ\\ml-stock-sent\\.venv\\Lib\\site-packages\\sklearn\\linear_model\\_coordinate_descent.py:695: ConvergenceWarning: Objective did not converge. You might want to increase the number of iterations, check the scale of the features or consider increasing regularisation. Duality gap: 5.695e-02, tolerance: 3.880e-02\n",
      "  model = cd_fast.enet_coordinate_descent(\n",
      "D:\\IntelliJ\\ml-stock-sent\\.venv\\Lib\\site-packages\\sklearn\\linear_model\\_coordinate_descent.py:695: ConvergenceWarning: Objective did not converge. You might want to increase the number of iterations, check the scale of the features or consider increasing regularisation. Duality gap: 6.877e+01, tolerance: 3.880e-02\n",
      "  model = cd_fast.enet_coordinate_descent(\n",
      "D:\\IntelliJ\\ml-stock-sent\\.venv\\Lib\\site-packages\\sklearn\\linear_model\\_coordinate_descent.py:695: ConvergenceWarning: Objective did not converge. You might want to increase the number of iterations, check the scale of the features or consider increasing regularisation. Duality gap: 8.388e+01, tolerance: 3.880e-02\n",
      "  model = cd_fast.enet_coordinate_descent(\n",
      "D:\\IntelliJ\\ml-stock-sent\\.venv\\Lib\\site-packages\\sklearn\\linear_model\\_coordinate_descent.py:695: ConvergenceWarning: Objective did not converge. You might want to increase the number of iterations, check the scale of the features or consider increasing regularisation. Duality gap: 8.172e+01, tolerance: 3.880e-02\n",
      "  model = cd_fast.enet_coordinate_descent(\n",
      "D:\\IntelliJ\\ml-stock-sent\\.venv\\Lib\\site-packages\\sklearn\\linear_model\\_coordinate_descent.py:695: ConvergenceWarning: Objective did not converge. You might want to increase the number of iterations, check the scale of the features or consider increasing regularisation. Duality gap: 5.644e+01, tolerance: 3.880e-02\n",
      "  model = cd_fast.enet_coordinate_descent(\n",
      "D:\\IntelliJ\\ml-stock-sent\\.venv\\Lib\\site-packages\\sklearn\\linear_model\\_coordinate_descent.py:695: ConvergenceWarning: Objective did not converge. You might want to increase the number of iterations, check the scale of the features or consider increasing regularisation. Duality gap: 2.011e+00, tolerance: 3.880e-02\n",
      "  model = cd_fast.enet_coordinate_descent(\n",
      "D:\\IntelliJ\\ml-stock-sent\\.venv\\Lib\\site-packages\\sklearn\\linear_model\\_coordinate_descent.py:695: ConvergenceWarning: Objective did not converge. You might want to increase the number of iterations, check the scale of the features or consider increasing regularisation. Duality gap: 7.861e+01, tolerance: 3.880e-02\n",
      "  model = cd_fast.enet_coordinate_descent(\n",
      "D:\\IntelliJ\\ml-stock-sent\\.venv\\Lib\\site-packages\\sklearn\\linear_model\\_coordinate_descent.py:695: ConvergenceWarning: Objective did not converge. You might want to increase the number of iterations, check the scale of the features or consider increasing regularisation. Duality gap: 5.824e+01, tolerance: 3.880e-02\n",
      "  model = cd_fast.enet_coordinate_descent(\n",
      "D:\\IntelliJ\\ml-stock-sent\\.venv\\Lib\\site-packages\\sklearn\\linear_model\\_coordinate_descent.py:695: ConvergenceWarning: Objective did not converge. You might want to increase the number of iterations, check the scale of the features or consider increasing regularisation. Duality gap: 8.919e+01, tolerance: 3.880e-02\n",
      "  model = cd_fast.enet_coordinate_descent(\n",
      "D:\\IntelliJ\\ml-stock-sent\\.venv\\Lib\\site-packages\\sklearn\\linear_model\\_coordinate_descent.py:695: ConvergenceWarning: Objective did not converge. You might want to increase the number of iterations, check the scale of the features or consider increasing regularisation. Duality gap: 8.046e+00, tolerance: 3.880e-02\n",
      "  model = cd_fast.enet_coordinate_descent(\n",
      "D:\\IntelliJ\\ml-stock-sent\\.venv\\Lib\\site-packages\\sklearn\\linear_model\\_coordinate_descent.py:695: ConvergenceWarning: Objective did not converge. You might want to increase the number of iterations, check the scale of the features or consider increasing regularisation. Duality gap: 7.056e+01, tolerance: 3.880e-02\n",
      "  model = cd_fast.enet_coordinate_descent(\n",
      "D:\\IntelliJ\\ml-stock-sent\\.venv\\Lib\\site-packages\\sklearn\\linear_model\\_coordinate_descent.py:695: ConvergenceWarning: Objective did not converge. You might want to increase the number of iterations, check the scale of the features or consider increasing regularisation. Duality gap: 7.772e+01, tolerance: 3.880e-02\n",
      "  model = cd_fast.enet_coordinate_descent(\n",
      "D:\\IntelliJ\\ml-stock-sent\\.venv\\Lib\\site-packages\\sklearn\\linear_model\\_coordinate_descent.py:695: ConvergenceWarning: Objective did not converge. You might want to increase the number of iterations, check the scale of the features or consider increasing regularisation. Duality gap: 6.080e+01, tolerance: 3.880e-02\n",
      "  model = cd_fast.enet_coordinate_descent(\n",
      "D:\\IntelliJ\\ml-stock-sent\\.venv\\Lib\\site-packages\\sklearn\\linear_model\\_coordinate_descent.py:695: ConvergenceWarning: Objective did not converge. You might want to increase the number of iterations, check the scale of the features or consider increasing regularisation. Duality gap: 3.642e+01, tolerance: 3.880e-02\n",
      "  model = cd_fast.enet_coordinate_descent(\n",
      "D:\\IntelliJ\\ml-stock-sent\\.venv\\Lib\\site-packages\\sklearn\\linear_model\\_coordinate_descent.py:695: ConvergenceWarning: Objective did not converge. You might want to increase the number of iterations, check the scale of the features or consider increasing regularisation. Duality gap: 1.374e+02, tolerance: 7.740e-02\n",
      "  model = cd_fast.enet_coordinate_descent(\n",
      "D:\\IntelliJ\\ml-stock-sent\\.venv\\Lib\\site-packages\\sklearn\\linear_model\\_coordinate_descent.py:695: ConvergenceWarning: Objective did not converge. You might want to increase the number of iterations, check the scale of the features or consider increasing regularisation. Duality gap: 1.175e+02, tolerance: 7.740e-02\n",
      "  model = cd_fast.enet_coordinate_descent(\n",
      "D:\\IntelliJ\\ml-stock-sent\\.venv\\Lib\\site-packages\\sklearn\\linear_model\\_coordinate_descent.py:695: ConvergenceWarning: Objective did not converge. You might want to increase the number of iterations, check the scale of the features or consider increasing regularisation. Duality gap: 7.026e+01, tolerance: 7.740e-02\n",
      "  model = cd_fast.enet_coordinate_descent(\n",
      "D:\\IntelliJ\\ml-stock-sent\\.venv\\Lib\\site-packages\\sklearn\\linear_model\\_coordinate_descent.py:695: ConvergenceWarning: Objective did not converge. You might want to increase the number of iterations, check the scale of the features or consider increasing regularisation. Duality gap: 6.644e+01, tolerance: 7.740e-02\n",
      "  model = cd_fast.enet_coordinate_descent(\n",
      "D:\\IntelliJ\\ml-stock-sent\\.venv\\Lib\\site-packages\\sklearn\\linear_model\\_coordinate_descent.py:695: ConvergenceWarning: Objective did not converge. You might want to increase the number of iterations, check the scale of the features or consider increasing regularisation. Duality gap: 5.046e+01, tolerance: 7.740e-02\n",
      "  model = cd_fast.enet_coordinate_descent(\n",
      "D:\\IntelliJ\\ml-stock-sent\\.venv\\Lib\\site-packages\\sklearn\\linear_model\\_coordinate_descent.py:695: ConvergenceWarning: Objective did not converge. You might want to increase the number of iterations, check the scale of the features or consider increasing regularisation. Duality gap: 2.327e+02, tolerance: 7.740e-02\n",
      "  model = cd_fast.enet_coordinate_descent(\n",
      "D:\\IntelliJ\\ml-stock-sent\\.venv\\Lib\\site-packages\\sklearn\\linear_model\\_coordinate_descent.py:695: ConvergenceWarning: Objective did not converge. You might want to increase the number of iterations, check the scale of the features or consider increasing regularisation. Duality gap: 5.300e+01, tolerance: 7.740e-02\n",
      "  model = cd_fast.enet_coordinate_descent(\n",
      "D:\\IntelliJ\\ml-stock-sent\\.venv\\Lib\\site-packages\\sklearn\\linear_model\\_coordinate_descent.py:695: ConvergenceWarning: Objective did not converge. You might want to increase the number of iterations, check the scale of the features or consider increasing regularisation. Duality gap: 1.280e+02, tolerance: 7.740e-02\n",
      "  model = cd_fast.enet_coordinate_descent(\n",
      "D:\\IntelliJ\\ml-stock-sent\\.venv\\Lib\\site-packages\\sklearn\\linear_model\\_coordinate_descent.py:695: ConvergenceWarning: Objective did not converge. You might want to increase the number of iterations, check the scale of the features or consider increasing regularisation. Duality gap: 7.594e+01, tolerance: 7.740e-02\n",
      "  model = cd_fast.enet_coordinate_descent(\n",
      "D:\\IntelliJ\\ml-stock-sent\\.venv\\Lib\\site-packages\\sklearn\\linear_model\\_coordinate_descent.py:695: ConvergenceWarning: Objective did not converge. You might want to increase the number of iterations, check the scale of the features or consider increasing regularisation. Duality gap: 1.593e+02, tolerance: 7.740e-02\n",
      "  model = cd_fast.enet_coordinate_descent(\n",
      "D:\\IntelliJ\\ml-stock-sent\\.venv\\Lib\\site-packages\\sklearn\\linear_model\\_coordinate_descent.py:695: ConvergenceWarning: Objective did not converge. You might want to increase the number of iterations, check the scale of the features or consider increasing regularisation. Duality gap: 2.241e+01, tolerance: 7.740e-02\n",
      "  model = cd_fast.enet_coordinate_descent(\n",
      "D:\\IntelliJ\\ml-stock-sent\\.venv\\Lib\\site-packages\\sklearn\\linear_model\\_coordinate_descent.py:695: ConvergenceWarning: Objective did not converge. You might want to increase the number of iterations, check the scale of the features or consider increasing regularisation. Duality gap: 1.279e+02, tolerance: 7.740e-02\n",
      "  model = cd_fast.enet_coordinate_descent(\n",
      "D:\\IntelliJ\\ml-stock-sent\\.venv\\Lib\\site-packages\\sklearn\\linear_model\\_coordinate_descent.py:695: ConvergenceWarning: Objective did not converge. You might want to increase the number of iterations, check the scale of the features or consider increasing regularisation. Duality gap: 7.760e+01, tolerance: 7.740e-02\n",
      "  model = cd_fast.enet_coordinate_descent(\n",
      "D:\\IntelliJ\\ml-stock-sent\\.venv\\Lib\\site-packages\\sklearn\\linear_model\\_coordinate_descent.py:695: ConvergenceWarning: Objective did not converge. You might want to increase the number of iterations, check the scale of the features or consider increasing regularisation. Duality gap: 2.179e+02, tolerance: 7.740e-02\n",
      "  model = cd_fast.enet_coordinate_descent(\n",
      "D:\\IntelliJ\\ml-stock-sent\\.venv\\Lib\\site-packages\\sklearn\\linear_model\\_coordinate_descent.py:695: ConvergenceWarning: Objective did not converge. You might want to increase the number of iterations, check the scale of the features or consider increasing regularisation. Duality gap: 1.259e+02, tolerance: 7.740e-02\n",
      "  model = cd_fast.enet_coordinate_descent(\n",
      "D:\\IntelliJ\\ml-stock-sent\\.venv\\Lib\\site-packages\\sklearn\\linear_model\\_coordinate_descent.py:695: ConvergenceWarning: Objective did not converge. You might want to increase the number of iterations, check the scale of the features or consider increasing regularisation. Duality gap: 1.772e+02, tolerance: 7.740e-02\n",
      "  model = cd_fast.enet_coordinate_descent(\n",
      "D:\\IntelliJ\\ml-stock-sent\\.venv\\Lib\\site-packages\\sklearn\\linear_model\\_coordinate_descent.py:695: ConvergenceWarning: Objective did not converge. You might want to increase the number of iterations, check the scale of the features or consider increasing regularisation. Duality gap: 2.537e+01, tolerance: 7.740e-02\n",
      "  model = cd_fast.enet_coordinate_descent(\n",
      "D:\\IntelliJ\\ml-stock-sent\\.venv\\Lib\\site-packages\\sklearn\\linear_model\\_coordinate_descent.py:695: ConvergenceWarning: Objective did not converge. You might want to increase the number of iterations, check the scale of the features or consider increasing regularisation. Duality gap: 2.129e+02, tolerance: 7.740e-02\n",
      "  model = cd_fast.enet_coordinate_descent(\n",
      "D:\\IntelliJ\\ml-stock-sent\\.venv\\Lib\\site-packages\\sklearn\\linear_model\\_coordinate_descent.py:695: ConvergenceWarning: Objective did not converge. You might want to increase the number of iterations, check the scale of the features or consider increasing regularisation. Duality gap: 1.531e+01, tolerance: 7.740e-02\n",
      "  model = cd_fast.enet_coordinate_descent(\n",
      "D:\\IntelliJ\\ml-stock-sent\\.venv\\Lib\\site-packages\\sklearn\\linear_model\\_coordinate_descent.py:695: ConvergenceWarning: Objective did not converge. You might want to increase the number of iterations, check the scale of the features or consider increasing regularisation. Duality gap: 1.681e+01, tolerance: 7.740e-02\n",
      "  model = cd_fast.enet_coordinate_descent(\n",
      "D:\\IntelliJ\\ml-stock-sent\\.venv\\Lib\\site-packages\\sklearn\\linear_model\\_coordinate_descent.py:695: ConvergenceWarning: Objective did not converge. You might want to increase the number of iterations, check the scale of the features or consider increasing regularisation. Duality gap: 3.656e+01, tolerance: 7.740e-02\n",
      "  model = cd_fast.enet_coordinate_descent(\n",
      "D:\\IntelliJ\\ml-stock-sent\\.venv\\Lib\\site-packages\\sklearn\\linear_model\\_coordinate_descent.py:695: ConvergenceWarning: Objective did not converge. You might want to increase the number of iterations, check the scale of the features or consider increasing regularisation. Duality gap: 5.088e+00, tolerance: 7.740e-02\n",
      "  model = cd_fast.enet_coordinate_descent(\n",
      "D:\\IntelliJ\\ml-stock-sent\\.venv\\Lib\\site-packages\\sklearn\\linear_model\\_coordinate_descent.py:695: ConvergenceWarning: Objective did not converge. You might want to increase the number of iterations, check the scale of the features or consider increasing regularisation. Duality gap: 9.851e+01, tolerance: 7.740e-02\n",
      "  model = cd_fast.enet_coordinate_descent(\n",
      "D:\\IntelliJ\\ml-stock-sent\\.venv\\Lib\\site-packages\\sklearn\\linear_model\\_coordinate_descent.py:695: ConvergenceWarning: Objective did not converge. You might want to increase the number of iterations, check the scale of the features or consider increasing regularisation. Duality gap: 7.183e+01, tolerance: 7.740e-02\n",
      "  model = cd_fast.enet_coordinate_descent(\n",
      "D:\\IntelliJ\\ml-stock-sent\\.venv\\Lib\\site-packages\\sklearn\\linear_model\\_coordinate_descent.py:695: ConvergenceWarning: Objective did not converge. You might want to increase the number of iterations, check the scale of the features or consider increasing regularisation. Duality gap: 1.137e+02, tolerance: 7.740e-02\n",
      "  model = cd_fast.enet_coordinate_descent(\n",
      "D:\\IntelliJ\\ml-stock-sent\\.venv\\Lib\\site-packages\\sklearn\\linear_model\\_coordinate_descent.py:695: ConvergenceWarning: Objective did not converge. You might want to increase the number of iterations, check the scale of the features or consider increasing regularisation. Duality gap: 1.908e+02, tolerance: 7.740e-02\n",
      "  model = cd_fast.enet_coordinate_descent(\n",
      "D:\\IntelliJ\\ml-stock-sent\\.venv\\Lib\\site-packages\\sklearn\\linear_model\\_coordinate_descent.py:695: ConvergenceWarning: Objective did not converge. You might want to increase the number of iterations, check the scale of the features or consider increasing regularisation. Duality gap: 2.047e+02, tolerance: 7.740e-02\n",
      "  model = cd_fast.enet_coordinate_descent(\n",
      "D:\\IntelliJ\\ml-stock-sent\\.venv\\Lib\\site-packages\\sklearn\\linear_model\\_coordinate_descent.py:695: ConvergenceWarning: Objective did not converge. You might want to increase the number of iterations, check the scale of the features or consider increasing regularisation. Duality gap: 1.297e+02, tolerance: 7.740e-02\n",
      "  model = cd_fast.enet_coordinate_descent(\n",
      "D:\\IntelliJ\\ml-stock-sent\\.venv\\Lib\\site-packages\\sklearn\\linear_model\\_coordinate_descent.py:695: ConvergenceWarning: Objective did not converge. You might want to increase the number of iterations, check the scale of the features or consider increasing regularisation. Duality gap: 1.543e+02, tolerance: 1.160e-01\n",
      "  model = cd_fast.enet_coordinate_descent(\n",
      "D:\\IntelliJ\\ml-stock-sent\\.venv\\Lib\\site-packages\\sklearn\\linear_model\\_coordinate_descent.py:695: ConvergenceWarning: Objective did not converge. You might want to increase the number of iterations, check the scale of the features or consider increasing regularisation. Duality gap: 1.424e+02, tolerance: 1.160e-01\n",
      "  model = cd_fast.enet_coordinate_descent(\n",
      "D:\\IntelliJ\\ml-stock-sent\\.venv\\Lib\\site-packages\\sklearn\\linear_model\\_coordinate_descent.py:695: ConvergenceWarning: Objective did not converge. You might want to increase the number of iterations, check the scale of the features or consider increasing regularisation. Duality gap: 1.316e+02, tolerance: 1.160e-01\n",
      "  model = cd_fast.enet_coordinate_descent(\n",
      "D:\\IntelliJ\\ml-stock-sent\\.venv\\Lib\\site-packages\\sklearn\\linear_model\\_coordinate_descent.py:695: ConvergenceWarning: Objective did not converge. You might want to increase the number of iterations, check the scale of the features or consider increasing regularisation. Duality gap: 5.281e+01, tolerance: 1.160e-01\n",
      "  model = cd_fast.enet_coordinate_descent(\n",
      "D:\\IntelliJ\\ml-stock-sent\\.venv\\Lib\\site-packages\\sklearn\\linear_model\\_coordinate_descent.py:695: ConvergenceWarning: Objective did not converge. You might want to increase the number of iterations, check the scale of the features or consider increasing regularisation. Duality gap: 3.076e+01, tolerance: 1.160e-01\n",
      "  model = cd_fast.enet_coordinate_descent(\n",
      "D:\\IntelliJ\\ml-stock-sent\\.venv\\Lib\\site-packages\\sklearn\\linear_model\\_coordinate_descent.py:695: ConvergenceWarning: Objective did not converge. You might want to increase the number of iterations, check the scale of the features or consider increasing regularisation. Duality gap: 3.357e+02, tolerance: 1.160e-01\n",
      "  model = cd_fast.enet_coordinate_descent(\n",
      "D:\\IntelliJ\\ml-stock-sent\\.venv\\Lib\\site-packages\\sklearn\\linear_model\\_coordinate_descent.py:695: ConvergenceWarning: Objective did not converge. You might want to increase the number of iterations, check the scale of the features or consider increasing regularisation. Duality gap: 1.460e+02, tolerance: 1.160e-01\n",
      "  model = cd_fast.enet_coordinate_descent(\n",
      "D:\\IntelliJ\\ml-stock-sent\\.venv\\Lib\\site-packages\\sklearn\\linear_model\\_coordinate_descent.py:695: ConvergenceWarning: Objective did not converge. You might want to increase the number of iterations, check the scale of the features or consider increasing regularisation. Duality gap: 2.285e+02, tolerance: 1.160e-01\n",
      "  model = cd_fast.enet_coordinate_descent(\n",
      "D:\\IntelliJ\\ml-stock-sent\\.venv\\Lib\\site-packages\\sklearn\\linear_model\\_coordinate_descent.py:695: ConvergenceWarning: Objective did not converge. You might want to increase the number of iterations, check the scale of the features or consider increasing regularisation. Duality gap: 1.589e+02, tolerance: 1.160e-01\n",
      "  model = cd_fast.enet_coordinate_descent(\n",
      "D:\\IntelliJ\\ml-stock-sent\\.venv\\Lib\\site-packages\\sklearn\\linear_model\\_coordinate_descent.py:695: ConvergenceWarning: Objective did not converge. You might want to increase the number of iterations, check the scale of the features or consider increasing regularisation. Duality gap: 2.462e+02, tolerance: 1.160e-01\n",
      "  model = cd_fast.enet_coordinate_descent(\n",
      "D:\\IntelliJ\\ml-stock-sent\\.venv\\Lib\\site-packages\\sklearn\\linear_model\\_coordinate_descent.py:695: ConvergenceWarning: Objective did not converge. You might want to increase the number of iterations, check the scale of the features or consider increasing regularisation. Duality gap: 4.994e+01, tolerance: 1.160e-01\n",
      "  model = cd_fast.enet_coordinate_descent(\n",
      "D:\\IntelliJ\\ml-stock-sent\\.venv\\Lib\\site-packages\\sklearn\\linear_model\\_coordinate_descent.py:695: ConvergenceWarning: Objective did not converge. You might want to increase the number of iterations, check the scale of the features or consider increasing regularisation. Duality gap: 2.050e+02, tolerance: 1.160e-01\n",
      "  model = cd_fast.enet_coordinate_descent(\n",
      "D:\\IntelliJ\\ml-stock-sent\\.venv\\Lib\\site-packages\\sklearn\\linear_model\\_coordinate_descent.py:695: ConvergenceWarning: Objective did not converge. You might want to increase the number of iterations, check the scale of the features or consider increasing regularisation. Duality gap: 1.113e+02, tolerance: 1.160e-01\n",
      "  model = cd_fast.enet_coordinate_descent(\n",
      "D:\\IntelliJ\\ml-stock-sent\\.venv\\Lib\\site-packages\\sklearn\\linear_model\\_coordinate_descent.py:695: ConvergenceWarning: Objective did not converge. You might want to increase the number of iterations, check the scale of the features or consider increasing regularisation. Duality gap: 3.362e+02, tolerance: 1.160e-01\n",
      "  model = cd_fast.enet_coordinate_descent(\n",
      "D:\\IntelliJ\\ml-stock-sent\\.venv\\Lib\\site-packages\\sklearn\\linear_model\\_coordinate_descent.py:695: ConvergenceWarning: Objective did not converge. You might want to increase the number of iterations, check the scale of the features or consider increasing regularisation. Duality gap: 1.804e+02, tolerance: 1.160e-01\n",
      "  model = cd_fast.enet_coordinate_descent(\n",
      "D:\\IntelliJ\\ml-stock-sent\\.venv\\Lib\\site-packages\\sklearn\\linear_model\\_coordinate_descent.py:695: ConvergenceWarning: Objective did not converge. You might want to increase the number of iterations, check the scale of the features or consider increasing regularisation. Duality gap: 2.890e+02, tolerance: 1.160e-01\n",
      "  model = cd_fast.enet_coordinate_descent(\n",
      "D:\\IntelliJ\\ml-stock-sent\\.venv\\Lib\\site-packages\\sklearn\\linear_model\\_coordinate_descent.py:695: ConvergenceWarning: Objective did not converge. You might want to increase the number of iterations, check the scale of the features or consider increasing regularisation. Duality gap: 1.346e+01, tolerance: 1.160e-01\n",
      "  model = cd_fast.enet_coordinate_descent(\n",
      "D:\\IntelliJ\\ml-stock-sent\\.venv\\Lib\\site-packages\\sklearn\\linear_model\\_coordinate_descent.py:695: ConvergenceWarning: Objective did not converge. You might want to increase the number of iterations, check the scale of the features or consider increasing regularisation. Duality gap: 3.161e+02, tolerance: 1.160e-01\n",
      "  model = cd_fast.enet_coordinate_descent(\n",
      "D:\\IntelliJ\\ml-stock-sent\\.venv\\Lib\\site-packages\\sklearn\\linear_model\\_coordinate_descent.py:695: ConvergenceWarning: Objective did not converge. You might want to increase the number of iterations, check the scale of the features or consider increasing regularisation. Duality gap: 1.377e+00, tolerance: 1.160e-01\n",
      "  model = cd_fast.enet_coordinate_descent(\n",
      "D:\\IntelliJ\\ml-stock-sent\\.venv\\Lib\\site-packages\\sklearn\\linear_model\\_coordinate_descent.py:695: ConvergenceWarning: Objective did not converge. You might want to increase the number of iterations, check the scale of the features or consider increasing regularisation. Duality gap: 1.610e+02, tolerance: 1.160e-01\n",
      "  model = cd_fast.enet_coordinate_descent(\n",
      "D:\\IntelliJ\\ml-stock-sent\\.venv\\Lib\\site-packages\\sklearn\\linear_model\\_coordinate_descent.py:695: ConvergenceWarning: Objective did not converge. You might want to increase the number of iterations, check the scale of the features or consider increasing regularisation. Duality gap: 1.124e+02, tolerance: 1.160e-01\n",
      "  model = cd_fast.enet_coordinate_descent(\n",
      "D:\\IntelliJ\\ml-stock-sent\\.venv\\Lib\\site-packages\\sklearn\\linear_model\\_coordinate_descent.py:695: ConvergenceWarning: Objective did not converge. You might want to increase the number of iterations, check the scale of the features or consider increasing regularisation. Duality gap: 9.273e+01, tolerance: 1.160e-01\n",
      "  model = cd_fast.enet_coordinate_descent(\n",
      "D:\\IntelliJ\\ml-stock-sent\\.venv\\Lib\\site-packages\\sklearn\\linear_model\\_coordinate_descent.py:695: ConvergenceWarning: Objective did not converge. You might want to increase the number of iterations, check the scale of the features or consider increasing regularisation. Duality gap: 2.642e+02, tolerance: 1.160e-01\n",
      "  model = cd_fast.enet_coordinate_descent(\n",
      "D:\\IntelliJ\\ml-stock-sent\\.venv\\Lib\\site-packages\\sklearn\\linear_model\\_coordinate_descent.py:695: ConvergenceWarning: Objective did not converge. You might want to increase the number of iterations, check the scale of the features or consider increasing regularisation. Duality gap: 2.917e+02, tolerance: 1.160e-01\n",
      "  model = cd_fast.enet_coordinate_descent(\n",
      "D:\\IntelliJ\\ml-stock-sent\\.venv\\Lib\\site-packages\\sklearn\\linear_model\\_coordinate_descent.py:695: ConvergenceWarning: Objective did not converge. You might want to increase the number of iterations, check the scale of the features or consider increasing regularisation. Duality gap: 2.188e+02, tolerance: 1.160e-01\n",
      "  model = cd_fast.enet_coordinate_descent(\n",
      "D:\\IntelliJ\\ml-stock-sent\\.venv\\Lib\\site-packages\\sklearn\\linear_model\\_coordinate_descent.py:695: ConvergenceWarning: Objective did not converge. You might want to increase the number of iterations, check the scale of the features or consider increasing regularisation. Duality gap: 2.634e+01, tolerance: 1.160e-01\n",
      "  model = cd_fast.enet_coordinate_descent(\n",
      "[I 2025-08-20 16:29:22,759] Trial 6 finished with value: 0.010291942929742885 and parameters: {'alpha': 0.00023345864076016249, 'l1_ratio': 0.7851759613930136, 'selection': 'random'}. Best is trial 3 with value: 0.01011448329737524.\n",
      "D:\\IntelliJ\\ml-stock-sent\\.venv\\Lib\\site-packages\\sklearn\\linear_model\\_coordinate_descent.py:695: ConvergenceWarning: Objective did not converge. You might want to increase the number of iterations, check the scale of the features or consider increasing regularisation. Duality gap: 1.551e+01, tolerance: 3.880e-02\n",
      "  model = cd_fast.enet_coordinate_descent(\n",
      "D:\\IntelliJ\\ml-stock-sent\\.venv\\Lib\\site-packages\\sklearn\\linear_model\\_coordinate_descent.py:695: ConvergenceWarning: Objective did not converge. You might want to increase the number of iterations, check the scale of the features or consider increasing regularisation. Duality gap: 2.332e+00, tolerance: 3.880e-02\n",
      "  model = cd_fast.enet_coordinate_descent(\n",
      "D:\\IntelliJ\\ml-stock-sent\\.venv\\Lib\\site-packages\\sklearn\\linear_model\\_coordinate_descent.py:695: ConvergenceWarning: Objective did not converge. You might want to increase the number of iterations, check the scale of the features or consider increasing regularisation. Duality gap: 4.561e-01, tolerance: 3.880e-02\n",
      "  model = cd_fast.enet_coordinate_descent(\n",
      "D:\\IntelliJ\\ml-stock-sent\\.venv\\Lib\\site-packages\\sklearn\\linear_model\\_coordinate_descent.py:695: ConvergenceWarning: Objective did not converge. You might want to increase the number of iterations, check the scale of the features or consider increasing regularisation. Duality gap: 1.174e+00, tolerance: 3.880e-02\n",
      "  model = cd_fast.enet_coordinate_descent(\n",
      "D:\\IntelliJ\\ml-stock-sent\\.venv\\Lib\\site-packages\\sklearn\\linear_model\\_coordinate_descent.py:695: ConvergenceWarning: Objective did not converge. You might want to increase the number of iterations, check the scale of the features or consider increasing regularisation. Duality gap: 9.914e+00, tolerance: 3.880e-02\n",
      "  model = cd_fast.enet_coordinate_descent(\n",
      "D:\\IntelliJ\\ml-stock-sent\\.venv\\Lib\\site-packages\\sklearn\\linear_model\\_coordinate_descent.py:695: ConvergenceWarning: Objective did not converge. You might want to increase the number of iterations, check the scale of the features or consider increasing regularisation. Duality gap: 2.044e+01, tolerance: 3.880e-02\n",
      "  model = cd_fast.enet_coordinate_descent(\n",
      "D:\\IntelliJ\\ml-stock-sent\\.venv\\Lib\\site-packages\\sklearn\\linear_model\\_coordinate_descent.py:695: ConvergenceWarning: Objective did not converge. You might want to increase the number of iterations, check the scale of the features or consider increasing regularisation. Duality gap: 1.393e-01, tolerance: 3.880e-02\n",
      "  model = cd_fast.enet_coordinate_descent(\n",
      "D:\\IntelliJ\\ml-stock-sent\\.venv\\Lib\\site-packages\\sklearn\\linear_model\\_coordinate_descent.py:695: ConvergenceWarning: Objective did not converge. You might want to increase the number of iterations, check the scale of the features or consider increasing regularisation. Duality gap: 1.514e+00, tolerance: 3.880e-02\n",
      "  model = cd_fast.enet_coordinate_descent(\n",
      "D:\\IntelliJ\\ml-stock-sent\\.venv\\Lib\\site-packages\\sklearn\\linear_model\\_coordinate_descent.py:695: ConvergenceWarning: Objective did not converge. You might want to increase the number of iterations, check the scale of the features or consider increasing regularisation. Duality gap: 1.876e+00, tolerance: 3.880e-02\n",
      "  model = cd_fast.enet_coordinate_descent(\n",
      "D:\\IntelliJ\\ml-stock-sent\\.venv\\Lib\\site-packages\\sklearn\\linear_model\\_coordinate_descent.py:695: ConvergenceWarning: Objective did not converge. You might want to increase the number of iterations, check the scale of the features or consider increasing regularisation. Duality gap: 4.517e+00, tolerance: 3.880e-02\n",
      "  model = cd_fast.enet_coordinate_descent(\n",
      "D:\\IntelliJ\\ml-stock-sent\\.venv\\Lib\\site-packages\\sklearn\\linear_model\\_coordinate_descent.py:695: ConvergenceWarning: Objective did not converge. You might want to increase the number of iterations, check the scale of the features or consider increasing regularisation. Duality gap: 1.945e+00, tolerance: 3.880e-02\n",
      "  model = cd_fast.enet_coordinate_descent(\n",
      "D:\\IntelliJ\\ml-stock-sent\\.venv\\Lib\\site-packages\\sklearn\\linear_model\\_coordinate_descent.py:695: ConvergenceWarning: Objective did not converge. You might want to increase the number of iterations, check the scale of the features or consider increasing regularisation. Duality gap: 1.261e+01, tolerance: 3.880e-02\n",
      "  model = cd_fast.enet_coordinate_descent(\n",
      "D:\\IntelliJ\\ml-stock-sent\\.venv\\Lib\\site-packages\\sklearn\\linear_model\\_coordinate_descent.py:695: ConvergenceWarning: Objective did not converge. You might want to increase the number of iterations, check the scale of the features or consider increasing regularisation. Duality gap: 1.901e+01, tolerance: 3.880e-02\n",
      "  model = cd_fast.enet_coordinate_descent(\n",
      "D:\\IntelliJ\\ml-stock-sent\\.venv\\Lib\\site-packages\\sklearn\\linear_model\\_coordinate_descent.py:695: ConvergenceWarning: Objective did not converge. You might want to increase the number of iterations, check the scale of the features or consider increasing regularisation. Duality gap: 3.092e-01, tolerance: 3.880e-02\n",
      "  model = cd_fast.enet_coordinate_descent(\n",
      "D:\\IntelliJ\\ml-stock-sent\\.venv\\Lib\\site-packages\\sklearn\\linear_model\\_coordinate_descent.py:695: ConvergenceWarning: Objective did not converge. You might want to increase the number of iterations, check the scale of the features or consider increasing regularisation. Duality gap: 6.491e-01, tolerance: 3.880e-02\n",
      "  model = cd_fast.enet_coordinate_descent(\n",
      "D:\\IntelliJ\\ml-stock-sent\\.venv\\Lib\\site-packages\\sklearn\\linear_model\\_coordinate_descent.py:695: ConvergenceWarning: Objective did not converge. You might want to increase the number of iterations, check the scale of the features or consider increasing regularisation. Duality gap: 2.305e+00, tolerance: 3.880e-02\n",
      "  model = cd_fast.enet_coordinate_descent(\n",
      "D:\\IntelliJ\\ml-stock-sent\\.venv\\Lib\\site-packages\\sklearn\\linear_model\\_coordinate_descent.py:695: ConvergenceWarning: Objective did not converge. You might want to increase the number of iterations, check the scale of the features or consider increasing regularisation. Duality gap: 2.235e-01, tolerance: 3.880e-02\n",
      "  model = cd_fast.enet_coordinate_descent(\n",
      "D:\\IntelliJ\\ml-stock-sent\\.venv\\Lib\\site-packages\\sklearn\\linear_model\\_coordinate_descent.py:695: ConvergenceWarning: Objective did not converge. You might want to increase the number of iterations, check the scale of the features or consider increasing regularisation. Duality gap: 6.180e+00, tolerance: 3.880e-02\n",
      "  model = cd_fast.enet_coordinate_descent(\n",
      "D:\\IntelliJ\\ml-stock-sent\\.venv\\Lib\\site-packages\\sklearn\\linear_model\\_coordinate_descent.py:695: ConvergenceWarning: Objective did not converge. You might want to increase the number of iterations, check the scale of the features or consider increasing regularisation. Duality gap: 1.188e+01, tolerance: 3.880e-02\n",
      "  model = cd_fast.enet_coordinate_descent(\n",
      "D:\\IntelliJ\\ml-stock-sent\\.venv\\Lib\\site-packages\\sklearn\\linear_model\\_coordinate_descent.py:695: ConvergenceWarning: Objective did not converge. You might want to increase the number of iterations, check the scale of the features or consider increasing regularisation. Duality gap: 1.954e-01, tolerance: 3.880e-02\n",
      "  model = cd_fast.enet_coordinate_descent(\n",
      "D:\\IntelliJ\\ml-stock-sent\\.venv\\Lib\\site-packages\\sklearn\\linear_model\\_coordinate_descent.py:695: ConvergenceWarning: Objective did not converge. You might want to increase the number of iterations, check the scale of the features or consider increasing regularisation. Duality gap: 5.449e-01, tolerance: 3.880e-02\n",
      "  model = cd_fast.enet_coordinate_descent(\n",
      "D:\\IntelliJ\\ml-stock-sent\\.venv\\Lib\\site-packages\\sklearn\\linear_model\\_coordinate_descent.py:695: ConvergenceWarning: Objective did not converge. You might want to increase the number of iterations, check the scale of the features or consider increasing regularisation. Duality gap: 9.834e+00, tolerance: 3.880e-02\n",
      "  model = cd_fast.enet_coordinate_descent(\n",
      "D:\\IntelliJ\\ml-stock-sent\\.venv\\Lib\\site-packages\\sklearn\\linear_model\\_coordinate_descent.py:695: ConvergenceWarning: Objective did not converge. You might want to increase the number of iterations, check the scale of the features or consider increasing regularisation. Duality gap: 4.096e+00, tolerance: 3.880e-02\n",
      "  model = cd_fast.enet_coordinate_descent(\n",
      "D:\\IntelliJ\\ml-stock-sent\\.venv\\Lib\\site-packages\\sklearn\\linear_model\\_coordinate_descent.py:695: ConvergenceWarning: Objective did not converge. You might want to increase the number of iterations, check the scale of the features or consider increasing regularisation. Duality gap: 1.142e+01, tolerance: 3.880e-02\n",
      "  model = cd_fast.enet_coordinate_descent(\n",
      "D:\\IntelliJ\\ml-stock-sent\\.venv\\Lib\\site-packages\\sklearn\\linear_model\\_coordinate_descent.py:695: ConvergenceWarning: Objective did not converge. You might want to increase the number of iterations, check the scale of the features or consider increasing regularisation. Duality gap: 1.276e-01, tolerance: 3.880e-02\n",
      "  model = cd_fast.enet_coordinate_descent(\n",
      "D:\\IntelliJ\\ml-stock-sent\\.venv\\Lib\\site-packages\\sklearn\\linear_model\\_coordinate_descent.py:695: ConvergenceWarning: Objective did not converge. You might want to increase the number of iterations, check the scale of the features or consider increasing regularisation. Duality gap: 1.002e+00, tolerance: 3.880e-02\n",
      "  model = cd_fast.enet_coordinate_descent(\n",
      "D:\\IntelliJ\\ml-stock-sent\\.venv\\Lib\\site-packages\\sklearn\\linear_model\\_coordinate_descent.py:695: ConvergenceWarning: Objective did not converge. You might want to increase the number of iterations, check the scale of the features or consider increasing regularisation. Duality gap: 1.662e+00, tolerance: 3.880e-02\n",
      "  model = cd_fast.enet_coordinate_descent(\n",
      "D:\\IntelliJ\\ml-stock-sent\\.venv\\Lib\\site-packages\\sklearn\\linear_model\\_coordinate_descent.py:695: ConvergenceWarning: Objective did not converge. You might want to increase the number of iterations, check the scale of the features or consider increasing regularisation. Duality gap: 3.411e-01, tolerance: 3.880e-02\n",
      "  model = cd_fast.enet_coordinate_descent(\n",
      "D:\\IntelliJ\\ml-stock-sent\\.venv\\Lib\\site-packages\\sklearn\\linear_model\\_coordinate_descent.py:695: ConvergenceWarning: Objective did not converge. You might want to increase the number of iterations, check the scale of the features or consider increasing regularisation. Duality gap: 2.414e+00, tolerance: 3.880e-02\n",
      "  model = cd_fast.enet_coordinate_descent(\n",
      "D:\\IntelliJ\\ml-stock-sent\\.venv\\Lib\\site-packages\\sklearn\\linear_model\\_coordinate_descent.py:695: ConvergenceWarning: Objective did not converge. You might want to increase the number of iterations, check the scale of the features or consider increasing regularisation. Duality gap: 1.001e+01, tolerance: 7.740e-02\n",
      "  model = cd_fast.enet_coordinate_descent(\n",
      "D:\\IntelliJ\\ml-stock-sent\\.venv\\Lib\\site-packages\\sklearn\\linear_model\\_coordinate_descent.py:695: ConvergenceWarning: Objective did not converge. You might want to increase the number of iterations, check the scale of the features or consider increasing regularisation. Duality gap: 4.186e+00, tolerance: 7.740e-02\n",
      "  model = cd_fast.enet_coordinate_descent(\n",
      "D:\\IntelliJ\\ml-stock-sent\\.venv\\Lib\\site-packages\\sklearn\\linear_model\\_coordinate_descent.py:695: ConvergenceWarning: Objective did not converge. You might want to increase the number of iterations, check the scale of the features or consider increasing regularisation. Duality gap: 7.109e-01, tolerance: 7.740e-02\n",
      "  model = cd_fast.enet_coordinate_descent(\n",
      "D:\\IntelliJ\\ml-stock-sent\\.venv\\Lib\\site-packages\\sklearn\\linear_model\\_coordinate_descent.py:695: ConvergenceWarning: Objective did not converge. You might want to increase the number of iterations, check the scale of the features or consider increasing regularisation. Duality gap: 4.622e+00, tolerance: 7.740e-02\n",
      "  model = cd_fast.enet_coordinate_descent(\n",
      "D:\\IntelliJ\\ml-stock-sent\\.venv\\Lib\\site-packages\\sklearn\\linear_model\\_coordinate_descent.py:695: ConvergenceWarning: Objective did not converge. You might want to increase the number of iterations, check the scale of the features or consider increasing regularisation. Duality gap: 2.363e+01, tolerance: 7.740e-02\n",
      "  model = cd_fast.enet_coordinate_descent(\n",
      "D:\\IntelliJ\\ml-stock-sent\\.venv\\Lib\\site-packages\\sklearn\\linear_model\\_coordinate_descent.py:695: ConvergenceWarning: Objective did not converge. You might want to increase the number of iterations, check the scale of the features or consider increasing regularisation. Duality gap: 5.248e-01, tolerance: 7.740e-02\n",
      "  model = cd_fast.enet_coordinate_descent(\n",
      "D:\\IntelliJ\\ml-stock-sent\\.venv\\Lib\\site-packages\\sklearn\\linear_model\\_coordinate_descent.py:695: ConvergenceWarning: Objective did not converge. You might want to increase the number of iterations, check the scale of the features or consider increasing regularisation. Duality gap: 1.221e+00, tolerance: 7.740e-02\n",
      "  model = cd_fast.enet_coordinate_descent(\n",
      "D:\\IntelliJ\\ml-stock-sent\\.venv\\Lib\\site-packages\\sklearn\\linear_model\\_coordinate_descent.py:695: ConvergenceWarning: Objective did not converge. You might want to increase the number of iterations, check the scale of the features or consider increasing regularisation. Duality gap: 1.074e+00, tolerance: 7.740e-02\n",
      "  model = cd_fast.enet_coordinate_descent(\n",
      "D:\\IntelliJ\\ml-stock-sent\\.venv\\Lib\\site-packages\\sklearn\\linear_model\\_coordinate_descent.py:695: ConvergenceWarning: Objective did not converge. You might want to increase the number of iterations, check the scale of the features or consider increasing regularisation. Duality gap: 5.835e+00, tolerance: 7.740e-02\n",
      "  model = cd_fast.enet_coordinate_descent(\n",
      "D:\\IntelliJ\\ml-stock-sent\\.venv\\Lib\\site-packages\\sklearn\\linear_model\\_coordinate_descent.py:695: ConvergenceWarning: Objective did not converge. You might want to increase the number of iterations, check the scale of the features or consider increasing regularisation. Duality gap: 3.809e+00, tolerance: 7.740e-02\n",
      "  model = cd_fast.enet_coordinate_descent(\n",
      "D:\\IntelliJ\\ml-stock-sent\\.venv\\Lib\\site-packages\\sklearn\\linear_model\\_coordinate_descent.py:695: ConvergenceWarning: Objective did not converge. You might want to increase the number of iterations, check the scale of the features or consider increasing regularisation. Duality gap: 3.720e+00, tolerance: 7.740e-02\n",
      "  model = cd_fast.enet_coordinate_descent(\n",
      "D:\\IntelliJ\\ml-stock-sent\\.venv\\Lib\\site-packages\\sklearn\\linear_model\\_coordinate_descent.py:695: ConvergenceWarning: Objective did not converge. You might want to increase the number of iterations, check the scale of the features or consider increasing regularisation. Duality gap: 2.108e+01, tolerance: 7.740e-02\n",
      "  model = cd_fast.enet_coordinate_descent(\n",
      "D:\\IntelliJ\\ml-stock-sent\\.venv\\Lib\\site-packages\\sklearn\\linear_model\\_coordinate_descent.py:695: ConvergenceWarning: Objective did not converge. You might want to increase the number of iterations, check the scale of the features or consider increasing regularisation. Duality gap: 3.718e+00, tolerance: 7.740e-02\n",
      "  model = cd_fast.enet_coordinate_descent(\n",
      "D:\\IntelliJ\\ml-stock-sent\\.venv\\Lib\\site-packages\\sklearn\\linear_model\\_coordinate_descent.py:695: ConvergenceWarning: Objective did not converge. You might want to increase the number of iterations, check the scale of the features or consider increasing regularisation. Duality gap: 1.763e+00, tolerance: 7.740e-02\n",
      "  model = cd_fast.enet_coordinate_descent(\n",
      "D:\\IntelliJ\\ml-stock-sent\\.venv\\Lib\\site-packages\\sklearn\\linear_model\\_coordinate_descent.py:695: ConvergenceWarning: Objective did not converge. You might want to increase the number of iterations, check the scale of the features or consider increasing regularisation. Duality gap: 5.026e+00, tolerance: 7.740e-02\n",
      "  model = cd_fast.enet_coordinate_descent(\n",
      "D:\\IntelliJ\\ml-stock-sent\\.venv\\Lib\\site-packages\\sklearn\\linear_model\\_coordinate_descent.py:695: ConvergenceWarning: Objective did not converge. You might want to increase the number of iterations, check the scale of the features or consider increasing regularisation. Duality gap: 8.095e+00, tolerance: 7.740e-02\n",
      "  model = cd_fast.enet_coordinate_descent(\n",
      "D:\\IntelliJ\\ml-stock-sent\\.venv\\Lib\\site-packages\\sklearn\\linear_model\\_coordinate_descent.py:695: ConvergenceWarning: Objective did not converge. You might want to increase the number of iterations, check the scale of the features or consider increasing regularisation. Duality gap: 1.143e+00, tolerance: 7.740e-02\n",
      "  model = cd_fast.enet_coordinate_descent(\n",
      "D:\\IntelliJ\\ml-stock-sent\\.venv\\Lib\\site-packages\\sklearn\\linear_model\\_coordinate_descent.py:695: ConvergenceWarning: Objective did not converge. You might want to increase the number of iterations, check the scale of the features or consider increasing regularisation. Duality gap: 1.468e-01, tolerance: 7.740e-02\n",
      "  model = cd_fast.enet_coordinate_descent(\n",
      "D:\\IntelliJ\\ml-stock-sent\\.venv\\Lib\\site-packages\\sklearn\\linear_model\\_coordinate_descent.py:695: ConvergenceWarning: Objective did not converge. You might want to increase the number of iterations, check the scale of the features or consider increasing regularisation. Duality gap: 5.658e+00, tolerance: 7.740e-02\n",
      "  model = cd_fast.enet_coordinate_descent(\n",
      "D:\\IntelliJ\\ml-stock-sent\\.venv\\Lib\\site-packages\\sklearn\\linear_model\\_coordinate_descent.py:695: ConvergenceWarning: Objective did not converge. You might want to increase the number of iterations, check the scale of the features or consider increasing regularisation. Duality gap: 5.132e+00, tolerance: 7.740e-02\n",
      "  model = cd_fast.enet_coordinate_descent(\n",
      "D:\\IntelliJ\\ml-stock-sent\\.venv\\Lib\\site-packages\\sklearn\\linear_model\\_coordinate_descent.py:695: ConvergenceWarning: Objective did not converge. You might want to increase the number of iterations, check the scale of the features or consider increasing regularisation. Duality gap: 3.320e+00, tolerance: 7.740e-02\n",
      "  model = cd_fast.enet_coordinate_descent(\n",
      "D:\\IntelliJ\\ml-stock-sent\\.venv\\Lib\\site-packages\\sklearn\\linear_model\\_coordinate_descent.py:695: ConvergenceWarning: Objective did not converge. You might want to increase the number of iterations, check the scale of the features or consider increasing regularisation. Duality gap: 4.867e+00, tolerance: 7.740e-02\n",
      "  model = cd_fast.enet_coordinate_descent(\n",
      "D:\\IntelliJ\\ml-stock-sent\\.venv\\Lib\\site-packages\\sklearn\\linear_model\\_coordinate_descent.py:695: ConvergenceWarning: Objective did not converge. You might want to increase the number of iterations, check the scale of the features or consider increasing regularisation. Duality gap: 1.149e+01, tolerance: 7.740e-02\n",
      "  model = cd_fast.enet_coordinate_descent(\n",
      "D:\\IntelliJ\\ml-stock-sent\\.venv\\Lib\\site-packages\\sklearn\\linear_model\\_coordinate_descent.py:695: ConvergenceWarning: Objective did not converge. You might want to increase the number of iterations, check the scale of the features or consider increasing regularisation. Duality gap: 1.742e+01, tolerance: 7.740e-02\n",
      "  model = cd_fast.enet_coordinate_descent(\n",
      "D:\\IntelliJ\\ml-stock-sent\\.venv\\Lib\\site-packages\\sklearn\\linear_model\\_coordinate_descent.py:695: ConvergenceWarning: Objective did not converge. You might want to increase the number of iterations, check the scale of the features or consider increasing regularisation. Duality gap: 9.880e-01, tolerance: 7.740e-02\n",
      "  model = cd_fast.enet_coordinate_descent(\n",
      "D:\\IntelliJ\\ml-stock-sent\\.venv\\Lib\\site-packages\\sklearn\\linear_model\\_coordinate_descent.py:695: ConvergenceWarning: Objective did not converge. You might want to increase the number of iterations, check the scale of the features or consider increasing regularisation. Duality gap: 9.987e+00, tolerance: 1.160e-01\n",
      "  model = cd_fast.enet_coordinate_descent(\n",
      "D:\\IntelliJ\\ml-stock-sent\\.venv\\Lib\\site-packages\\sklearn\\linear_model\\_coordinate_descent.py:695: ConvergenceWarning: Objective did not converge. You might want to increase the number of iterations, check the scale of the features or consider increasing regularisation. Duality gap: 4.209e+00, tolerance: 1.160e-01\n",
      "  model = cd_fast.enet_coordinate_descent(\n",
      "D:\\IntelliJ\\ml-stock-sent\\.venv\\Lib\\site-packages\\sklearn\\linear_model\\_coordinate_descent.py:695: ConvergenceWarning: Objective did not converge. You might want to increase the number of iterations, check the scale of the features or consider increasing regularisation. Duality gap: 2.920e+00, tolerance: 1.160e-01\n",
      "  model = cd_fast.enet_coordinate_descent(\n",
      "D:\\IntelliJ\\ml-stock-sent\\.venv\\Lib\\site-packages\\sklearn\\linear_model\\_coordinate_descent.py:695: ConvergenceWarning: Objective did not converge. You might want to increase the number of iterations, check the scale of the features or consider increasing regularisation. Duality gap: 1.265e-01, tolerance: 1.160e-01\n",
      "  model = cd_fast.enet_coordinate_descent(\n",
      "D:\\IntelliJ\\ml-stock-sent\\.venv\\Lib\\site-packages\\sklearn\\linear_model\\_coordinate_descent.py:695: ConvergenceWarning: Objective did not converge. You might want to increase the number of iterations, check the scale of the features or consider increasing regularisation. Duality gap: 1.504e+00, tolerance: 1.160e-01\n",
      "  model = cd_fast.enet_coordinate_descent(\n",
      "D:\\IntelliJ\\ml-stock-sent\\.venv\\Lib\\site-packages\\sklearn\\linear_model\\_coordinate_descent.py:695: ConvergenceWarning: Objective did not converge. You might want to increase the number of iterations, check the scale of the features or consider increasing regularisation. Duality gap: 3.166e+01, tolerance: 1.160e-01\n",
      "  model = cd_fast.enet_coordinate_descent(\n",
      "D:\\IntelliJ\\ml-stock-sent\\.venv\\Lib\\site-packages\\sklearn\\linear_model\\_coordinate_descent.py:695: ConvergenceWarning: Objective did not converge. You might want to increase the number of iterations, check the scale of the features or consider increasing regularisation. Duality gap: 3.739e+00, tolerance: 1.160e-01\n",
      "  model = cd_fast.enet_coordinate_descent(\n",
      "D:\\IntelliJ\\ml-stock-sent\\.venv\\Lib\\site-packages\\sklearn\\linear_model\\_coordinate_descent.py:695: ConvergenceWarning: Objective did not converge. You might want to increase the number of iterations, check the scale of the features or consider increasing regularisation. Duality gap: 5.939e+00, tolerance: 1.160e-01\n",
      "  model = cd_fast.enet_coordinate_descent(\n",
      "D:\\IntelliJ\\ml-stock-sent\\.venv\\Lib\\site-packages\\sklearn\\linear_model\\_coordinate_descent.py:695: ConvergenceWarning: Objective did not converge. You might want to increase the number of iterations, check the scale of the features or consider increasing regularisation. Duality gap: 3.415e+00, tolerance: 1.160e-01\n",
      "  model = cd_fast.enet_coordinate_descent(\n",
      "D:\\IntelliJ\\ml-stock-sent\\.venv\\Lib\\site-packages\\sklearn\\linear_model\\_coordinate_descent.py:695: ConvergenceWarning: Objective did not converge. You might want to increase the number of iterations, check the scale of the features or consider increasing regularisation. Duality gap: 1.405e+01, tolerance: 1.160e-01\n",
      "  model = cd_fast.enet_coordinate_descent(\n",
      "D:\\IntelliJ\\ml-stock-sent\\.venv\\Lib\\site-packages\\sklearn\\linear_model\\_coordinate_descent.py:695: ConvergenceWarning: Objective did not converge. You might want to increase the number of iterations, check the scale of the features or consider increasing regularisation. Duality gap: 2.021e-01, tolerance: 1.160e-01\n",
      "  model = cd_fast.enet_coordinate_descent(\n",
      "D:\\IntelliJ\\ml-stock-sent\\.venv\\Lib\\site-packages\\sklearn\\linear_model\\_coordinate_descent.py:695: ConvergenceWarning: Objective did not converge. You might want to increase the number of iterations, check the scale of the features or consider increasing regularisation. Duality gap: 8.443e+00, tolerance: 1.160e-01\n",
      "  model = cd_fast.enet_coordinate_descent(\n",
      "D:\\IntelliJ\\ml-stock-sent\\.venv\\Lib\\site-packages\\sklearn\\linear_model\\_coordinate_descent.py:695: ConvergenceWarning: Objective did not converge. You might want to increase the number of iterations, check the scale of the features or consider increasing regularisation. Duality gap: 4.828e+00, tolerance: 1.160e-01\n",
      "  model = cd_fast.enet_coordinate_descent(\n",
      "D:\\IntelliJ\\ml-stock-sent\\.venv\\Lib\\site-packages\\sklearn\\linear_model\\_coordinate_descent.py:695: ConvergenceWarning: Objective did not converge. You might want to increase the number of iterations, check the scale of the features or consider increasing regularisation. Duality gap: 3.349e+01, tolerance: 1.160e-01\n",
      "  model = cd_fast.enet_coordinate_descent(\n",
      "D:\\IntelliJ\\ml-stock-sent\\.venv\\Lib\\site-packages\\sklearn\\linear_model\\_coordinate_descent.py:695: ConvergenceWarning: Objective did not converge. You might want to increase the number of iterations, check the scale of the features or consider increasing regularisation. Duality gap: 6.470e+00, tolerance: 1.160e-01\n",
      "  model = cd_fast.enet_coordinate_descent(\n",
      "D:\\IntelliJ\\ml-stock-sent\\.venv\\Lib\\site-packages\\sklearn\\linear_model\\_coordinate_descent.py:695: ConvergenceWarning: Objective did not converge. You might want to increase the number of iterations, check the scale of the features or consider increasing regularisation. Duality gap: 7.781e+00, tolerance: 1.160e-01\n",
      "  model = cd_fast.enet_coordinate_descent(\n",
      "D:\\IntelliJ\\ml-stock-sent\\.venv\\Lib\\site-packages\\sklearn\\linear_model\\_coordinate_descent.py:695: ConvergenceWarning: Objective did not converge. You might want to increase the number of iterations, check the scale of the features or consider increasing regularisation. Duality gap: 4.800e+00, tolerance: 1.160e-01\n",
      "  model = cd_fast.enet_coordinate_descent(\n",
      "D:\\IntelliJ\\ml-stock-sent\\.venv\\Lib\\site-packages\\sklearn\\linear_model\\_coordinate_descent.py:695: ConvergenceWarning: Objective did not converge. You might want to increase the number of iterations, check the scale of the features or consider increasing regularisation. Duality gap: 1.409e+01, tolerance: 1.160e-01\n",
      "  model = cd_fast.enet_coordinate_descent(\n",
      "D:\\IntelliJ\\ml-stock-sent\\.venv\\Lib\\site-packages\\sklearn\\linear_model\\_coordinate_descent.py:695: ConvergenceWarning: Objective did not converge. You might want to increase the number of iterations, check the scale of the features or consider increasing regularisation. Duality gap: 2.764e-01, tolerance: 1.160e-01\n",
      "  model = cd_fast.enet_coordinate_descent(\n",
      "D:\\IntelliJ\\ml-stock-sent\\.venv\\Lib\\site-packages\\sklearn\\linear_model\\_coordinate_descent.py:695: ConvergenceWarning: Objective did not converge. You might want to increase the number of iterations, check the scale of the features or consider increasing regularisation. Duality gap: 2.728e-01, tolerance: 1.160e-01\n",
      "  model = cd_fast.enet_coordinate_descent(\n",
      "D:\\IntelliJ\\ml-stock-sent\\.venv\\Lib\\site-packages\\sklearn\\linear_model\\_coordinate_descent.py:695: ConvergenceWarning: Objective did not converge. You might want to increase the number of iterations, check the scale of the features or consider increasing regularisation. Duality gap: 2.009e+00, tolerance: 1.160e-01\n",
      "  model = cd_fast.enet_coordinate_descent(\n",
      "D:\\IntelliJ\\ml-stock-sent\\.venv\\Lib\\site-packages\\sklearn\\linear_model\\_coordinate_descent.py:695: ConvergenceWarning: Objective did not converge. You might want to increase the number of iterations, check the scale of the features or consider increasing regularisation. Duality gap: 7.709e+00, tolerance: 1.160e-01\n",
      "  model = cd_fast.enet_coordinate_descent(\n",
      "D:\\IntelliJ\\ml-stock-sent\\.venv\\Lib\\site-packages\\sklearn\\linear_model\\_coordinate_descent.py:695: ConvergenceWarning: Objective did not converge. You might want to increase the number of iterations, check the scale of the features or consider increasing regularisation. Duality gap: 4.328e+00, tolerance: 1.160e-01\n",
      "  model = cd_fast.enet_coordinate_descent(\n",
      "D:\\IntelliJ\\ml-stock-sent\\.venv\\Lib\\site-packages\\sklearn\\linear_model\\_coordinate_descent.py:695: ConvergenceWarning: Objective did not converge. You might want to increase the number of iterations, check the scale of the features or consider increasing regularisation. Duality gap: 2.834e+00, tolerance: 1.160e-01\n",
      "  model = cd_fast.enet_coordinate_descent(\n",
      "D:\\IntelliJ\\ml-stock-sent\\.venv\\Lib\\site-packages\\sklearn\\linear_model\\_coordinate_descent.py:695: ConvergenceWarning: Objective did not converge. You might want to increase the number of iterations, check the scale of the features or consider increasing regularisation. Duality gap: 1.327e+01, tolerance: 1.160e-01\n",
      "  model = cd_fast.enet_coordinate_descent(\n",
      "D:\\IntelliJ\\ml-stock-sent\\.venv\\Lib\\site-packages\\sklearn\\linear_model\\_coordinate_descent.py:695: ConvergenceWarning: Objective did not converge. You might want to increase the number of iterations, check the scale of the features or consider increasing regularisation. Duality gap: 2.257e+01, tolerance: 1.160e-01\n",
      "  model = cd_fast.enet_coordinate_descent(\n",
      "D:\\IntelliJ\\ml-stock-sent\\.venv\\Lib\\site-packages\\sklearn\\linear_model\\_coordinate_descent.py:695: ConvergenceWarning: Objective did not converge. You might want to increase the number of iterations, check the scale of the features or consider increasing regularisation. Duality gap: 3.985e+00, tolerance: 1.160e-01\n",
      "  model = cd_fast.enet_coordinate_descent(\n",
      "D:\\IntelliJ\\ml-stock-sent\\.venv\\Lib\\site-packages\\sklearn\\linear_model\\_coordinate_descent.py:695: ConvergenceWarning: Objective did not converge. You might want to increase the number of iterations, check the scale of the features or consider increasing regularisation. Duality gap: 9.746e-01, tolerance: 1.160e-01\n",
      "  model = cd_fast.enet_coordinate_descent(\n",
      "[I 2025-08-20 16:29:24,280] Trial 7 finished with value: 0.010271458726812054 and parameters: {'alpha': 0.0005987474910461401, 'l1_ratio': 0.046450412719997725, 'selection': 'cyclic'}. Best is trial 3 with value: 0.01011448329737524.\n",
      "D:\\IntelliJ\\ml-stock-sent\\.venv\\Lib\\site-packages\\sklearn\\linear_model\\_coordinate_descent.py:695: ConvergenceWarning: Objective did not converge. You might want to increase the number of iterations, check the scale of the features or consider increasing regularisation. Duality gap: 1.391e+02, tolerance: 3.880e-02\n",
      "  model = cd_fast.enet_coordinate_descent(\n",
      "D:\\IntelliJ\\ml-stock-sent\\.venv\\Lib\\site-packages\\sklearn\\linear_model\\_coordinate_descent.py:695: ConvergenceWarning: Objective did not converge. You might want to increase the number of iterations, check the scale of the features or consider increasing regularisation. Duality gap: 1.062e+02, tolerance: 3.880e-02\n",
      "  model = cd_fast.enet_coordinate_descent(\n",
      "D:\\IntelliJ\\ml-stock-sent\\.venv\\Lib\\site-packages\\sklearn\\linear_model\\_coordinate_descent.py:695: ConvergenceWarning: Objective did not converge. You might want to increase the number of iterations, check the scale of the features or consider increasing regularisation. Duality gap: 6.467e+01, tolerance: 3.880e-02\n",
      "  model = cd_fast.enet_coordinate_descent(\n",
      "D:\\IntelliJ\\ml-stock-sent\\.venv\\Lib\\site-packages\\sklearn\\linear_model\\_coordinate_descent.py:695: ConvergenceWarning: Objective did not converge. You might want to increase the number of iterations, check the scale of the features or consider increasing regularisation. Duality gap: 1.170e+00, tolerance: 3.880e-02\n",
      "  model = cd_fast.enet_coordinate_descent(\n",
      "D:\\IntelliJ\\ml-stock-sent\\.venv\\Lib\\site-packages\\sklearn\\linear_model\\_coordinate_descent.py:695: ConvergenceWarning: Objective did not converge. You might want to increase the number of iterations, check the scale of the features or consider increasing regularisation. Duality gap: 1.341e+02, tolerance: 3.880e-02\n",
      "  model = cd_fast.enet_coordinate_descent(\n",
      "D:\\IntelliJ\\ml-stock-sent\\.venv\\Lib\\site-packages\\sklearn\\linear_model\\_coordinate_descent.py:695: ConvergenceWarning: Objective did not converge. You might want to increase the number of iterations, check the scale of the features or consider increasing regularisation. Duality gap: 1.465e+02, tolerance: 3.880e-02\n",
      "  model = cd_fast.enet_coordinate_descent(\n",
      "D:\\IntelliJ\\ml-stock-sent\\.venv\\Lib\\site-packages\\sklearn\\linear_model\\_coordinate_descent.py:695: ConvergenceWarning: Objective did not converge. You might want to increase the number of iterations, check the scale of the features or consider increasing regularisation. Duality gap: 1.206e+01, tolerance: 3.880e-02\n",
      "  model = cd_fast.enet_coordinate_descent(\n",
      "D:\\IntelliJ\\ml-stock-sent\\.venv\\Lib\\site-packages\\sklearn\\linear_model\\_coordinate_descent.py:695: ConvergenceWarning: Objective did not converge. You might want to increase the number of iterations, check the scale of the features or consider increasing regularisation. Duality gap: 1.607e+01, tolerance: 3.880e-02\n",
      "  model = cd_fast.enet_coordinate_descent(\n",
      "D:\\IntelliJ\\ml-stock-sent\\.venv\\Lib\\site-packages\\sklearn\\linear_model\\_coordinate_descent.py:695: ConvergenceWarning: Objective did not converge. You might want to increase the number of iterations, check the scale of the features or consider increasing regularisation. Duality gap: 9.928e+01, tolerance: 3.880e-02\n",
      "  model = cd_fast.enet_coordinate_descent(\n",
      "D:\\IntelliJ\\ml-stock-sent\\.venv\\Lib\\site-packages\\sklearn\\linear_model\\_coordinate_descent.py:695: ConvergenceWarning: Objective did not converge. You might want to increase the number of iterations, check the scale of the features or consider increasing regularisation. Duality gap: 1.228e+02, tolerance: 3.880e-02\n",
      "  model = cd_fast.enet_coordinate_descent(\n",
      "D:\\IntelliJ\\ml-stock-sent\\.venv\\Lib\\site-packages\\sklearn\\linear_model\\_coordinate_descent.py:695: ConvergenceWarning: Objective did not converge. You might want to increase the number of iterations, check the scale of the features or consider increasing regularisation. Duality gap: 7.483e+01, tolerance: 3.880e-02\n",
      "  model = cd_fast.enet_coordinate_descent(\n",
      "D:\\IntelliJ\\ml-stock-sent\\.venv\\Lib\\site-packages\\sklearn\\linear_model\\_coordinate_descent.py:695: ConvergenceWarning: Objective did not converge. You might want to increase the number of iterations, check the scale of the features or consider increasing regularisation. Duality gap: 4.257e+01, tolerance: 3.880e-02\n",
      "  model = cd_fast.enet_coordinate_descent(\n",
      "D:\\IntelliJ\\ml-stock-sent\\.venv\\Lib\\site-packages\\sklearn\\linear_model\\_coordinate_descent.py:695: ConvergenceWarning: Objective did not converge. You might want to increase the number of iterations, check the scale of the features or consider increasing regularisation. Duality gap: 1.335e+02, tolerance: 3.880e-02\n",
      "  model = cd_fast.enet_coordinate_descent(\n",
      "D:\\IntelliJ\\ml-stock-sent\\.venv\\Lib\\site-packages\\sklearn\\linear_model\\_coordinate_descent.py:695: ConvergenceWarning: Objective did not converge. You might want to increase the number of iterations, check the scale of the features or consider increasing regularisation. Duality gap: 1.417e+02, tolerance: 3.880e-02\n",
      "  model = cd_fast.enet_coordinate_descent(\n",
      "D:\\IntelliJ\\ml-stock-sent\\.venv\\Lib\\site-packages\\sklearn\\linear_model\\_coordinate_descent.py:695: ConvergenceWarning: Objective did not converge. You might want to increase the number of iterations, check the scale of the features or consider increasing regularisation. Duality gap: 5.019e+00, tolerance: 3.880e-02\n",
      "  model = cd_fast.enet_coordinate_descent(\n",
      "D:\\IntelliJ\\ml-stock-sent\\.venv\\Lib\\site-packages\\sklearn\\linear_model\\_coordinate_descent.py:695: ConvergenceWarning: Objective did not converge. You might want to increase the number of iterations, check the scale of the features or consider increasing regularisation. Duality gap: 5.860e+01, tolerance: 3.880e-02\n",
      "  model = cd_fast.enet_coordinate_descent(\n",
      "D:\\IntelliJ\\ml-stock-sent\\.venv\\Lib\\site-packages\\sklearn\\linear_model\\_coordinate_descent.py:695: ConvergenceWarning: Objective did not converge. You might want to increase the number of iterations, check the scale of the features or consider increasing regularisation. Duality gap: 1.274e+02, tolerance: 3.880e-02\n",
      "  model = cd_fast.enet_coordinate_descent(\n",
      "D:\\IntelliJ\\ml-stock-sent\\.venv\\Lib\\site-packages\\sklearn\\linear_model\\_coordinate_descent.py:695: ConvergenceWarning: Objective did not converge. You might want to increase the number of iterations, check the scale of the features or consider increasing regularisation. Duality gap: 8.320e+01, tolerance: 3.880e-02\n",
      "  model = cd_fast.enet_coordinate_descent(\n",
      "D:\\IntelliJ\\ml-stock-sent\\.venv\\Lib\\site-packages\\sklearn\\linear_model\\_coordinate_descent.py:695: ConvergenceWarning: Objective did not converge. You might want to increase the number of iterations, check the scale of the features or consider increasing regularisation. Duality gap: 1.230e+02, tolerance: 3.880e-02\n",
      "  model = cd_fast.enet_coordinate_descent(\n",
      "D:\\IntelliJ\\ml-stock-sent\\.venv\\Lib\\site-packages\\sklearn\\linear_model\\_coordinate_descent.py:695: ConvergenceWarning: Objective did not converge. You might want to increase the number of iterations, check the scale of the features or consider increasing regularisation. Duality gap: 1.236e+02, tolerance: 3.880e-02\n",
      "  model = cd_fast.enet_coordinate_descent(\n",
      "D:\\IntelliJ\\ml-stock-sent\\.venv\\Lib\\site-packages\\sklearn\\linear_model\\_coordinate_descent.py:695: ConvergenceWarning: Objective did not converge. You might want to increase the number of iterations, check the scale of the features or consider increasing regularisation. Duality gap: 3.258e+01, tolerance: 3.880e-02\n",
      "  model = cd_fast.enet_coordinate_descent(\n",
      "D:\\IntelliJ\\ml-stock-sent\\.venv\\Lib\\site-packages\\sklearn\\linear_model\\_coordinate_descent.py:695: ConvergenceWarning: Objective did not converge. You might want to increase the number of iterations, check the scale of the features or consider increasing regularisation. Duality gap: 8.283e+01, tolerance: 3.880e-02\n",
      "  model = cd_fast.enet_coordinate_descent(\n",
      "D:\\IntelliJ\\ml-stock-sent\\.venv\\Lib\\site-packages\\sklearn\\linear_model\\_coordinate_descent.py:695: ConvergenceWarning: Objective did not converge. You might want to increase the number of iterations, check the scale of the features or consider increasing regularisation. Duality gap: 1.280e+02, tolerance: 3.880e-02\n",
      "  model = cd_fast.enet_coordinate_descent(\n",
      "D:\\IntelliJ\\ml-stock-sent\\.venv\\Lib\\site-packages\\sklearn\\linear_model\\_coordinate_descent.py:695: ConvergenceWarning: Objective did not converge. You might want to increase the number of iterations, check the scale of the features or consider increasing regularisation. Duality gap: 1.142e+02, tolerance: 3.880e-02\n",
      "  model = cd_fast.enet_coordinate_descent(\n",
      "D:\\IntelliJ\\ml-stock-sent\\.venv\\Lib\\site-packages\\sklearn\\linear_model\\_coordinate_descent.py:695: ConvergenceWarning: Objective did not converge. You might want to increase the number of iterations, check the scale of the features or consider increasing regularisation. Duality gap: 1.314e+02, tolerance: 3.880e-02\n",
      "  model = cd_fast.enet_coordinate_descent(\n",
      "D:\\IntelliJ\\ml-stock-sent\\.venv\\Lib\\site-packages\\sklearn\\linear_model\\_coordinate_descent.py:695: ConvergenceWarning: Objective did not converge. You might want to increase the number of iterations, check the scale of the features or consider increasing regularisation. Duality gap: 6.766e+01, tolerance: 3.880e-02\n",
      "  model = cd_fast.enet_coordinate_descent(\n",
      "D:\\IntelliJ\\ml-stock-sent\\.venv\\Lib\\site-packages\\sklearn\\linear_model\\_coordinate_descent.py:695: ConvergenceWarning: Objective did not converge. You might want to increase the number of iterations, check the scale of the features or consider increasing regularisation. Duality gap: 1.018e+02, tolerance: 3.880e-02\n",
      "  model = cd_fast.enet_coordinate_descent(\n",
      "D:\\IntelliJ\\ml-stock-sent\\.venv\\Lib\\site-packages\\sklearn\\linear_model\\_coordinate_descent.py:695: ConvergenceWarning: Objective did not converge. You might want to increase the number of iterations, check the scale of the features or consider increasing regularisation. Duality gap: 1.120e+02, tolerance: 3.880e-02\n",
      "  model = cd_fast.enet_coordinate_descent(\n",
      "D:\\IntelliJ\\ml-stock-sent\\.venv\\Lib\\site-packages\\sklearn\\linear_model\\_coordinate_descent.py:695: ConvergenceWarning: Objective did not converge. You might want to increase the number of iterations, check the scale of the features or consider increasing regularisation. Duality gap: 8.327e+01, tolerance: 3.880e-02\n",
      "  model = cd_fast.enet_coordinate_descent(\n",
      "D:\\IntelliJ\\ml-stock-sent\\.venv\\Lib\\site-packages\\sklearn\\linear_model\\_coordinate_descent.py:695: ConvergenceWarning: Objective did not converge. You might want to increase the number of iterations, check the scale of the features or consider increasing regularisation. Duality gap: 1.043e+02, tolerance: 3.880e-02\n",
      "  model = cd_fast.enet_coordinate_descent(\n",
      "D:\\IntelliJ\\ml-stock-sent\\.venv\\Lib\\site-packages\\sklearn\\linear_model\\_coordinate_descent.py:695: ConvergenceWarning: Objective did not converge. You might want to increase the number of iterations, check the scale of the features or consider increasing regularisation. Duality gap: 2.341e+02, tolerance: 7.740e-02\n",
      "  model = cd_fast.enet_coordinate_descent(\n",
      "D:\\IntelliJ\\ml-stock-sent\\.venv\\Lib\\site-packages\\sklearn\\linear_model\\_coordinate_descent.py:695: ConvergenceWarning: Objective did not converge. You might want to increase the number of iterations, check the scale of the features or consider increasing regularisation. Duality gap: 2.013e+02, tolerance: 7.740e-02\n",
      "  model = cd_fast.enet_coordinate_descent(\n",
      "D:\\IntelliJ\\ml-stock-sent\\.venv\\Lib\\site-packages\\sklearn\\linear_model\\_coordinate_descent.py:695: ConvergenceWarning: Objective did not converge. You might want to increase the number of iterations, check the scale of the features or consider increasing regularisation. Duality gap: 1.294e+02, tolerance: 7.740e-02\n",
      "  model = cd_fast.enet_coordinate_descent(\n",
      "D:\\IntelliJ\\ml-stock-sent\\.venv\\Lib\\site-packages\\sklearn\\linear_model\\_coordinate_descent.py:695: ConvergenceWarning: Objective did not converge. You might want to increase the number of iterations, check the scale of the features or consider increasing regularisation. Duality gap: 9.162e+01, tolerance: 7.740e-02\n",
      "  model = cd_fast.enet_coordinate_descent(\n",
      "D:\\IntelliJ\\ml-stock-sent\\.venv\\Lib\\site-packages\\sklearn\\linear_model\\_coordinate_descent.py:695: ConvergenceWarning: Objective did not converge. You might want to increase the number of iterations, check the scale of the features or consider increasing regularisation. Duality gap: 1.766e+02, tolerance: 7.740e-02\n",
      "  model = cd_fast.enet_coordinate_descent(\n",
      "D:\\IntelliJ\\ml-stock-sent\\.venv\\Lib\\site-packages\\sklearn\\linear_model\\_coordinate_descent.py:695: ConvergenceWarning: Objective did not converge. You might want to increase the number of iterations, check the scale of the features or consider increasing regularisation. Duality gap: 2.851e+02, tolerance: 7.740e-02\n",
      "  model = cd_fast.enet_coordinate_descent(\n",
      "D:\\IntelliJ\\ml-stock-sent\\.venv\\Lib\\site-packages\\sklearn\\linear_model\\_coordinate_descent.py:695: ConvergenceWarning: Objective did not converge. You might want to increase the number of iterations, check the scale of the features or consider increasing regularisation. Duality gap: 1.111e+02, tolerance: 7.740e-02\n",
      "  model = cd_fast.enet_coordinate_descent(\n",
      "D:\\IntelliJ\\ml-stock-sent\\.venv\\Lib\\site-packages\\sklearn\\linear_model\\_coordinate_descent.py:695: ConvergenceWarning: Objective did not converge. You might want to increase the number of iterations, check the scale of the features or consider increasing regularisation. Duality gap: 1.704e+02, tolerance: 7.740e-02\n",
      "  model = cd_fast.enet_coordinate_descent(\n",
      "D:\\IntelliJ\\ml-stock-sent\\.venv\\Lib\\site-packages\\sklearn\\linear_model\\_coordinate_descent.py:695: ConvergenceWarning: Objective did not converge. You might want to increase the number of iterations, check the scale of the features or consider increasing regularisation. Duality gap: 1.365e+02, tolerance: 7.740e-02\n",
      "  model = cd_fast.enet_coordinate_descent(\n",
      "D:\\IntelliJ\\ml-stock-sent\\.venv\\Lib\\site-packages\\sklearn\\linear_model\\_coordinate_descent.py:695: ConvergenceWarning: Objective did not converge. You might want to increase the number of iterations, check the scale of the features or consider increasing regularisation. Duality gap: 2.235e+02, tolerance: 7.740e-02\n",
      "  model = cd_fast.enet_coordinate_descent(\n",
      "D:\\IntelliJ\\ml-stock-sent\\.venv\\Lib\\site-packages\\sklearn\\linear_model\\_coordinate_descent.py:695: ConvergenceWarning: Objective did not converge. You might want to increase the number of iterations, check the scale of the features or consider increasing regularisation. Duality gap: 4.226e+01, tolerance: 7.740e-02\n",
      "  model = cd_fast.enet_coordinate_descent(\n",
      "D:\\IntelliJ\\ml-stock-sent\\.venv\\Lib\\site-packages\\sklearn\\linear_model\\_coordinate_descent.py:695: ConvergenceWarning: Objective did not converge. You might want to increase the number of iterations, check the scale of the features or consider increasing regularisation. Duality gap: 1.913e+02, tolerance: 7.740e-02\n",
      "  model = cd_fast.enet_coordinate_descent(\n",
      "D:\\IntelliJ\\ml-stock-sent\\.venv\\Lib\\site-packages\\sklearn\\linear_model\\_coordinate_descent.py:695: ConvergenceWarning: Objective did not converge. You might want to increase the number of iterations, check the scale of the features or consider increasing regularisation. Duality gap: 1.769e+02, tolerance: 7.740e-02\n",
      "  model = cd_fast.enet_coordinate_descent(\n",
      "D:\\IntelliJ\\ml-stock-sent\\.venv\\Lib\\site-packages\\sklearn\\linear_model\\_coordinate_descent.py:695: ConvergenceWarning: Objective did not converge. You might want to increase the number of iterations, check the scale of the features or consider increasing regularisation. Duality gap: 2.760e+02, tolerance: 7.740e-02\n",
      "  model = cd_fast.enet_coordinate_descent(\n",
      "D:\\IntelliJ\\ml-stock-sent\\.venv\\Lib\\site-packages\\sklearn\\linear_model\\_coordinate_descent.py:695: ConvergenceWarning: Objective did not converge. You might want to increase the number of iterations, check the scale of the features or consider increasing regularisation. Duality gap: 2.121e+02, tolerance: 7.740e-02\n",
      "  model = cd_fast.enet_coordinate_descent(\n",
      "D:\\IntelliJ\\ml-stock-sent\\.venv\\Lib\\site-packages\\sklearn\\linear_model\\_coordinate_descent.py:695: ConvergenceWarning: Objective did not converge. You might want to increase the number of iterations, check the scale of the features or consider increasing regularisation. Duality gap: 2.009e+02, tolerance: 7.740e-02\n",
      "  model = cd_fast.enet_coordinate_descent(\n",
      "D:\\IntelliJ\\ml-stock-sent\\.venv\\Lib\\site-packages\\sklearn\\linear_model\\_coordinate_descent.py:695: ConvergenceWarning: Objective did not converge. You might want to increase the number of iterations, check the scale of the features or consider increasing regularisation. Duality gap: 1.721e+02, tolerance: 7.740e-02\n",
      "  model = cd_fast.enet_coordinate_descent(\n",
      "D:\\IntelliJ\\ml-stock-sent\\.venv\\Lib\\site-packages\\sklearn\\linear_model\\_coordinate_descent.py:695: ConvergenceWarning: Objective did not converge. You might want to increase the number of iterations, check the scale of the features or consider increasing regularisation. Duality gap: 2.471e+02, tolerance: 7.740e-02\n",
      "  model = cd_fast.enet_coordinate_descent(\n",
      "D:\\IntelliJ\\ml-stock-sent\\.venv\\Lib\\site-packages\\sklearn\\linear_model\\_coordinate_descent.py:695: ConvergenceWarning: Objective did not converge. You might want to increase the number of iterations, check the scale of the features or consider increasing regularisation. Duality gap: 1.220e+02, tolerance: 7.740e-02\n",
      "  model = cd_fast.enet_coordinate_descent(\n",
      "D:\\IntelliJ\\ml-stock-sent\\.venv\\Lib\\site-packages\\sklearn\\linear_model\\_coordinate_descent.py:695: ConvergenceWarning: Objective did not converge. You might want to increase the number of iterations, check the scale of the features or consider increasing regularisation. Duality gap: 2.976e+01, tolerance: 7.740e-02\n",
      "  model = cd_fast.enet_coordinate_descent(\n",
      "D:\\IntelliJ\\ml-stock-sent\\.venv\\Lib\\site-packages\\sklearn\\linear_model\\_coordinate_descent.py:695: ConvergenceWarning: Objective did not converge. You might want to increase the number of iterations, check the scale of the features or consider increasing regularisation. Duality gap: 5.198e+01, tolerance: 7.740e-02\n",
      "  model = cd_fast.enet_coordinate_descent(\n",
      "D:\\IntelliJ\\ml-stock-sent\\.venv\\Lib\\site-packages\\sklearn\\linear_model\\_coordinate_descent.py:695: ConvergenceWarning: Objective did not converge. You might want to increase the number of iterations, check the scale of the features or consider increasing regularisation. Duality gap: 4.146e+01, tolerance: 7.740e-02\n",
      "  model = cd_fast.enet_coordinate_descent(\n",
      "D:\\IntelliJ\\ml-stock-sent\\.venv\\Lib\\site-packages\\sklearn\\linear_model\\_coordinate_descent.py:695: ConvergenceWarning: Objective did not converge. You might want to increase the number of iterations, check the scale of the features or consider increasing regularisation. Duality gap: 2.063e+02, tolerance: 7.740e-02\n",
      "  model = cd_fast.enet_coordinate_descent(\n",
      "D:\\IntelliJ\\ml-stock-sent\\.venv\\Lib\\site-packages\\sklearn\\linear_model\\_coordinate_descent.py:695: ConvergenceWarning: Objective did not converge. You might want to increase the number of iterations, check the scale of the features or consider increasing regularisation. Duality gap: 1.873e+02, tolerance: 7.740e-02\n",
      "  model = cd_fast.enet_coordinate_descent(\n",
      "D:\\IntelliJ\\ml-stock-sent\\.venv\\Lib\\site-packages\\sklearn\\linear_model\\_coordinate_descent.py:695: ConvergenceWarning: Objective did not converge. You might want to increase the number of iterations, check the scale of the features or consider increasing regularisation. Duality gap: 2.149e+02, tolerance: 7.740e-02\n",
      "  model = cd_fast.enet_coordinate_descent(\n",
      "D:\\IntelliJ\\ml-stock-sent\\.venv\\Lib\\site-packages\\sklearn\\linear_model\\_coordinate_descent.py:695: ConvergenceWarning: Objective did not converge. You might want to increase the number of iterations, check the scale of the features or consider increasing regularisation. Duality gap: 1.904e+01, tolerance: 7.740e-02\n",
      "  model = cd_fast.enet_coordinate_descent(\n",
      "D:\\IntelliJ\\ml-stock-sent\\.venv\\Lib\\site-packages\\sklearn\\linear_model\\_coordinate_descent.py:695: ConvergenceWarning: Objective did not converge. You might want to increase the number of iterations, check the scale of the features or consider increasing regularisation. Duality gap: 2.513e+02, tolerance: 7.740e-02\n",
      "  model = cd_fast.enet_coordinate_descent(\n",
      "D:\\IntelliJ\\ml-stock-sent\\.venv\\Lib\\site-packages\\sklearn\\linear_model\\_coordinate_descent.py:695: ConvergenceWarning: Objective did not converge. You might want to increase the number of iterations, check the scale of the features or consider increasing regularisation. Duality gap: 2.692e+02, tolerance: 7.740e-02\n",
      "  model = cd_fast.enet_coordinate_descent(\n",
      "D:\\IntelliJ\\ml-stock-sent\\.venv\\Lib\\site-packages\\sklearn\\linear_model\\_coordinate_descent.py:695: ConvergenceWarning: Objective did not converge. You might want to increase the number of iterations, check the scale of the features or consider increasing regularisation. Duality gap: 1.677e+02, tolerance: 7.740e-02\n",
      "  model = cd_fast.enet_coordinate_descent(\n",
      "D:\\IntelliJ\\ml-stock-sent\\.venv\\Lib\\site-packages\\sklearn\\linear_model\\_coordinate_descent.py:695: ConvergenceWarning: Objective did not converge. You might want to increase the number of iterations, check the scale of the features or consider increasing regularisation. Duality gap: 3.152e+01, tolerance: 7.740e-02\n",
      "  model = cd_fast.enet_coordinate_descent(\n",
      "D:\\IntelliJ\\ml-stock-sent\\.venv\\Lib\\site-packages\\sklearn\\linear_model\\_coordinate_descent.py:695: ConvergenceWarning: Objective did not converge. You might want to increase the number of iterations, check the scale of the features or consider increasing regularisation. Duality gap: 3.186e+02, tolerance: 1.160e-01\n",
      "  model = cd_fast.enet_coordinate_descent(\n",
      "D:\\IntelliJ\\ml-stock-sent\\.venv\\Lib\\site-packages\\sklearn\\linear_model\\_coordinate_descent.py:695: ConvergenceWarning: Objective did not converge. You might want to increase the number of iterations, check the scale of the features or consider increasing regularisation. Duality gap: 2.637e+02, tolerance: 1.160e-01\n",
      "  model = cd_fast.enet_coordinate_descent(\n",
      "D:\\IntelliJ\\ml-stock-sent\\.venv\\Lib\\site-packages\\sklearn\\linear_model\\_coordinate_descent.py:695: ConvergenceWarning: Objective did not converge. You might want to increase the number of iterations, check the scale of the features or consider increasing regularisation. Duality gap: 2.480e+02, tolerance: 1.160e-01\n",
      "  model = cd_fast.enet_coordinate_descent(\n",
      "D:\\IntelliJ\\ml-stock-sent\\.venv\\Lib\\site-packages\\sklearn\\linear_model\\_coordinate_descent.py:695: ConvergenceWarning: Objective did not converge. You might want to increase the number of iterations, check the scale of the features or consider increasing regularisation. Duality gap: 1.169e+02, tolerance: 1.160e-01\n",
      "  model = cd_fast.enet_coordinate_descent(\n",
      "D:\\IntelliJ\\ml-stock-sent\\.venv\\Lib\\site-packages\\sklearn\\linear_model\\_coordinate_descent.py:695: ConvergenceWarning: Objective did not converge. You might want to increase the number of iterations, check the scale of the features or consider increasing regularisation. Duality gap: 2.788e+02, tolerance: 1.160e-01\n",
      "  model = cd_fast.enet_coordinate_descent(\n",
      "D:\\IntelliJ\\ml-stock-sent\\.venv\\Lib\\site-packages\\sklearn\\linear_model\\_coordinate_descent.py:695: ConvergenceWarning: Objective did not converge. You might want to increase the number of iterations, check the scale of the features or consider increasing regularisation. Duality gap: 4.233e+02, tolerance: 1.160e-01\n",
      "  model = cd_fast.enet_coordinate_descent(\n",
      "D:\\IntelliJ\\ml-stock-sent\\.venv\\Lib\\site-packages\\sklearn\\linear_model\\_coordinate_descent.py:695: ConvergenceWarning: Objective did not converge. You might want to increase the number of iterations, check the scale of the features or consider increasing regularisation. Duality gap: 2.608e+02, tolerance: 1.160e-01\n",
      "  model = cd_fast.enet_coordinate_descent(\n",
      "D:\\IntelliJ\\ml-stock-sent\\.venv\\Lib\\site-packages\\sklearn\\linear_model\\_coordinate_descent.py:695: ConvergenceWarning: Objective did not converge. You might want to increase the number of iterations, check the scale of the features or consider increasing regularisation. Duality gap: 3.189e+02, tolerance: 1.160e-01\n",
      "  model = cd_fast.enet_coordinate_descent(\n",
      "D:\\IntelliJ\\ml-stock-sent\\.venv\\Lib\\site-packages\\sklearn\\linear_model\\_coordinate_descent.py:695: ConvergenceWarning: Objective did not converge. You might want to increase the number of iterations, check the scale of the features or consider increasing regularisation. Duality gap: 2.596e+02, tolerance: 1.160e-01\n",
      "  model = cd_fast.enet_coordinate_descent(\n",
      "D:\\IntelliJ\\ml-stock-sent\\.venv\\Lib\\site-packages\\sklearn\\linear_model\\_coordinate_descent.py:695: ConvergenceWarning: Objective did not converge. You might want to increase the number of iterations, check the scale of the features or consider increasing regularisation. Duality gap: 3.688e+02, tolerance: 1.160e-01\n",
      "  model = cd_fast.enet_coordinate_descent(\n",
      "D:\\IntelliJ\\ml-stock-sent\\.venv\\Lib\\site-packages\\sklearn\\linear_model\\_coordinate_descent.py:695: ConvergenceWarning: Objective did not converge. You might want to increase the number of iterations, check the scale of the features or consider increasing regularisation. Duality gap: 1.131e+02, tolerance: 1.160e-01\n",
      "  model = cd_fast.enet_coordinate_descent(\n",
      "D:\\IntelliJ\\ml-stock-sent\\.venv\\Lib\\site-packages\\sklearn\\linear_model\\_coordinate_descent.py:695: ConvergenceWarning: Objective did not converge. You might want to increase the number of iterations, check the scale of the features or consider increasing regularisation. Duality gap: 3.220e+02, tolerance: 1.160e-01\n",
      "  model = cd_fast.enet_coordinate_descent(\n",
      "D:\\IntelliJ\\ml-stock-sent\\.venv\\Lib\\site-packages\\sklearn\\linear_model\\_coordinate_descent.py:695: ConvergenceWarning: Objective did not converge. You might want to increase the number of iterations, check the scale of the features or consider increasing regularisation. Duality gap: 2.582e+02, tolerance: 1.160e-01\n",
      "  model = cd_fast.enet_coordinate_descent(\n",
      "D:\\IntelliJ\\ml-stock-sent\\.venv\\Lib\\site-packages\\sklearn\\linear_model\\_coordinate_descent.py:695: ConvergenceWarning: Objective did not converge. You might want to increase the number of iterations, check the scale of the features or consider increasing regularisation. Duality gap: 4.238e+02, tolerance: 1.160e-01\n",
      "  model = cd_fast.enet_coordinate_descent(\n",
      "D:\\IntelliJ\\ml-stock-sent\\.venv\\Lib\\site-packages\\sklearn\\linear_model\\_coordinate_descent.py:695: ConvergenceWarning: Objective did not converge. You might want to increase the number of iterations, check the scale of the features or consider increasing regularisation. Duality gap: 3.146e+02, tolerance: 1.160e-01\n",
      "  model = cd_fast.enet_coordinate_descent(\n",
      "D:\\IntelliJ\\ml-stock-sent\\.venv\\Lib\\site-packages\\sklearn\\linear_model\\_coordinate_descent.py:695: ConvergenceWarning: Objective did not converge. You might want to increase the number of iterations, check the scale of the features or consider increasing regularisation. Duality gap: 3.470e+02, tolerance: 1.160e-01\n",
      "  model = cd_fast.enet_coordinate_descent(\n",
      "D:\\IntelliJ\\ml-stock-sent\\.venv\\Lib\\site-packages\\sklearn\\linear_model\\_coordinate_descent.py:695: ConvergenceWarning: Objective did not converge. You might want to increase the number of iterations, check the scale of the features or consider increasing regularisation. Duality gap: 2.065e+02, tolerance: 1.160e-01\n",
      "  model = cd_fast.enet_coordinate_descent(\n",
      "D:\\IntelliJ\\ml-stock-sent\\.venv\\Lib\\site-packages\\sklearn\\linear_model\\_coordinate_descent.py:695: ConvergenceWarning: Objective did not converge. You might want to increase the number of iterations, check the scale of the features or consider increasing regularisation. Duality gap: 3.801e+02, tolerance: 1.160e-01\n",
      "  model = cd_fast.enet_coordinate_descent(\n",
      "D:\\IntelliJ\\ml-stock-sent\\.venv\\Lib\\site-packages\\sklearn\\linear_model\\_coordinate_descent.py:695: ConvergenceWarning: Objective did not converge. You might want to increase the number of iterations, check the scale of the features or consider increasing regularisation. Duality gap: 8.747e+01, tolerance: 1.160e-01\n",
      "  model = cd_fast.enet_coordinate_descent(\n",
      "D:\\IntelliJ\\ml-stock-sent\\.venv\\Lib\\site-packages\\sklearn\\linear_model\\_coordinate_descent.py:695: ConvergenceWarning: Objective did not converge. You might want to increase the number of iterations, check the scale of the features or consider increasing regularisation. Duality gap: 2.546e+01, tolerance: 1.160e-01\n",
      "  model = cd_fast.enet_coordinate_descent(\n",
      "D:\\IntelliJ\\ml-stock-sent\\.venv\\Lib\\site-packages\\sklearn\\linear_model\\_coordinate_descent.py:695: ConvergenceWarning: Objective did not converge. You might want to increase the number of iterations, check the scale of the features or consider increasing regularisation. Duality gap: 2.917e+00, tolerance: 1.160e-01\n",
      "  model = cd_fast.enet_coordinate_descent(\n",
      "D:\\IntelliJ\\ml-stock-sent\\.venv\\Lib\\site-packages\\sklearn\\linear_model\\_coordinate_descent.py:695: ConvergenceWarning: Objective did not converge. You might want to increase the number of iterations, check the scale of the features or consider increasing regularisation. Duality gap: 3.122e+02, tolerance: 1.160e-01\n",
      "  model = cd_fast.enet_coordinate_descent(\n",
      "D:\\IntelliJ\\ml-stock-sent\\.venv\\Lib\\site-packages\\sklearn\\linear_model\\_coordinate_descent.py:695: ConvergenceWarning: Objective did not converge. You might want to increase the number of iterations, check the scale of the features or consider increasing regularisation. Duality gap: 2.519e+02, tolerance: 1.160e-01\n",
      "  model = cd_fast.enet_coordinate_descent(\n",
      "D:\\IntelliJ\\ml-stock-sent\\.venv\\Lib\\site-packages\\sklearn\\linear_model\\_coordinate_descent.py:695: ConvergenceWarning: Objective did not converge. You might want to increase the number of iterations, check the scale of the features or consider increasing regularisation. Duality gap: 2.299e+02, tolerance: 1.160e-01\n",
      "  model = cd_fast.enet_coordinate_descent(\n",
      "D:\\IntelliJ\\ml-stock-sent\\.venv\\Lib\\site-packages\\sklearn\\linear_model\\_coordinate_descent.py:695: ConvergenceWarning: Objective did not converge. You might want to increase the number of iterations, check the scale of the features or consider increasing regularisation. Duality gap: 3.042e+01, tolerance: 1.160e-01\n",
      "  model = cd_fast.enet_coordinate_descent(\n",
      "D:\\IntelliJ\\ml-stock-sent\\.venv\\Lib\\site-packages\\sklearn\\linear_model\\_coordinate_descent.py:695: ConvergenceWarning: Objective did not converge. You might want to increase the number of iterations, check the scale of the features or consider increasing regularisation. Duality gap: 3.648e+02, tolerance: 1.160e-01\n",
      "  model = cd_fast.enet_coordinate_descent(\n",
      "D:\\IntelliJ\\ml-stock-sent\\.venv\\Lib\\site-packages\\sklearn\\linear_model\\_coordinate_descent.py:695: ConvergenceWarning: Objective did not converge. You might want to increase the number of iterations, check the scale of the features or consider increasing regularisation. Duality gap: 3.997e+02, tolerance: 1.160e-01\n",
      "  model = cd_fast.enet_coordinate_descent(\n",
      "D:\\IntelliJ\\ml-stock-sent\\.venv\\Lib\\site-packages\\sklearn\\linear_model\\_coordinate_descent.py:695: ConvergenceWarning: Objective did not converge. You might want to increase the number of iterations, check the scale of the features or consider increasing regularisation. Duality gap: 2.960e+02, tolerance: 1.160e-01\n",
      "  model = cd_fast.enet_coordinate_descent(\n",
      "D:\\IntelliJ\\ml-stock-sent\\.venv\\Lib\\site-packages\\sklearn\\linear_model\\_coordinate_descent.py:695: ConvergenceWarning: Objective did not converge. You might want to increase the number of iterations, check the scale of the features or consider increasing regularisation. Duality gap: 1.452e+02, tolerance: 1.160e-01\n",
      "  model = cd_fast.enet_coordinate_descent(\n",
      "[I 2025-08-20 16:29:25,733] Trial 8 finished with value: 0.010343820035956993 and parameters: {'alpha': 1.5673095467235405e-05, 'l1_ratio': 0.9488855372533332, 'selection': 'cyclic'}. Best is trial 3 with value: 0.01011448329737524.\n",
      "D:\\IntelliJ\\ml-stock-sent\\.venv\\Lib\\site-packages\\sklearn\\linear_model\\_coordinate_descent.py:695: ConvergenceWarning: Objective did not converge. You might want to increase the number of iterations, check the scale of the features or consider increasing regularisation. Duality gap: 1.468e+02, tolerance: 3.880e-02\n",
      "  model = cd_fast.enet_coordinate_descent(\n",
      "D:\\IntelliJ\\ml-stock-sent\\.venv\\Lib\\site-packages\\sklearn\\linear_model\\_coordinate_descent.py:695: ConvergenceWarning: Objective did not converge. You might want to increase the number of iterations, check the scale of the features or consider increasing regularisation. Duality gap: 1.188e+02, tolerance: 3.880e-02\n",
      "  model = cd_fast.enet_coordinate_descent(\n",
      "D:\\IntelliJ\\ml-stock-sent\\.venv\\Lib\\site-packages\\sklearn\\linear_model\\_coordinate_descent.py:695: ConvergenceWarning: Objective did not converge. You might want to increase the number of iterations, check the scale of the features or consider increasing regularisation. Duality gap: 1.014e+02, tolerance: 3.880e-02\n",
      "  model = cd_fast.enet_coordinate_descent(\n",
      "D:\\IntelliJ\\ml-stock-sent\\.venv\\Lib\\site-packages\\sklearn\\linear_model\\_coordinate_descent.py:695: ConvergenceWarning: Objective did not converge. You might want to increase the number of iterations, check the scale of the features or consider increasing regularisation. Duality gap: 1.741e+01, tolerance: 3.880e-02\n",
      "  model = cd_fast.enet_coordinate_descent(\n",
      "D:\\IntelliJ\\ml-stock-sent\\.venv\\Lib\\site-packages\\sklearn\\linear_model\\_coordinate_descent.py:695: ConvergenceWarning: Objective did not converge. You might want to increase the number of iterations, check the scale of the features or consider increasing regularisation. Duality gap: 1.453e+02, tolerance: 3.880e-02\n",
      "  model = cd_fast.enet_coordinate_descent(\n",
      "D:\\IntelliJ\\ml-stock-sent\\.venv\\Lib\\site-packages\\sklearn\\linear_model\\_coordinate_descent.py:695: ConvergenceWarning: Objective did not converge. You might want to increase the number of iterations, check the scale of the features or consider increasing regularisation. Duality gap: 1.524e+02, tolerance: 3.880e-02\n",
      "  model = cd_fast.enet_coordinate_descent(\n",
      "D:\\IntelliJ\\ml-stock-sent\\.venv\\Lib\\site-packages\\sklearn\\linear_model\\_coordinate_descent.py:695: ConvergenceWarning: Objective did not converge. You might want to increase the number of iterations, check the scale of the features or consider increasing regularisation. Duality gap: 2.259e+01, tolerance: 3.880e-02\n",
      "  model = cd_fast.enet_coordinate_descent(\n",
      "D:\\IntelliJ\\ml-stock-sent\\.venv\\Lib\\site-packages\\sklearn\\linear_model\\_coordinate_descent.py:695: ConvergenceWarning: Objective did not converge. You might want to increase the number of iterations, check the scale of the features or consider increasing regularisation. Duality gap: 1.618e+01, tolerance: 3.880e-02\n",
      "  model = cd_fast.enet_coordinate_descent(\n",
      "D:\\IntelliJ\\ml-stock-sent\\.venv\\Lib\\site-packages\\sklearn\\linear_model\\_coordinate_descent.py:695: ConvergenceWarning: Objective did not converge. You might want to increase the number of iterations, check the scale of the features or consider increasing regularisation. Duality gap: 1.127e+02, tolerance: 3.880e-02\n",
      "  model = cd_fast.enet_coordinate_descent(\n",
      "D:\\IntelliJ\\ml-stock-sent\\.venv\\Lib\\site-packages\\sklearn\\linear_model\\_coordinate_descent.py:695: ConvergenceWarning: Objective did not converge. You might want to increase the number of iterations, check the scale of the features or consider increasing regularisation. Duality gap: 1.330e+02, tolerance: 3.880e-02\n",
      "  model = cd_fast.enet_coordinate_descent(\n",
      "D:\\IntelliJ\\ml-stock-sent\\.venv\\Lib\\site-packages\\sklearn\\linear_model\\_coordinate_descent.py:695: ConvergenceWarning: Objective did not converge. You might want to increase the number of iterations, check the scale of the features or consider increasing regularisation. Duality gap: 9.509e+01, tolerance: 3.880e-02\n",
      "  model = cd_fast.enet_coordinate_descent(\n",
      "D:\\IntelliJ\\ml-stock-sent\\.venv\\Lib\\site-packages\\sklearn\\linear_model\\_coordinate_descent.py:695: ConvergenceWarning: Objective did not converge. You might want to increase the number of iterations, check the scale of the features or consider increasing regularisation. Duality gap: 4.985e+01, tolerance: 3.880e-02\n",
      "  model = cd_fast.enet_coordinate_descent(\n",
      "D:\\IntelliJ\\ml-stock-sent\\.venv\\Lib\\site-packages\\sklearn\\linear_model\\_coordinate_descent.py:695: ConvergenceWarning: Objective did not converge. You might want to increase the number of iterations, check the scale of the features or consider increasing regularisation. Duality gap: 1.421e+02, tolerance: 3.880e-02\n",
      "  model = cd_fast.enet_coordinate_descent(\n",
      "D:\\IntelliJ\\ml-stock-sent\\.venv\\Lib\\site-packages\\sklearn\\linear_model\\_coordinate_descent.py:695: ConvergenceWarning: Objective did not converge. You might want to increase the number of iterations, check the scale of the features or consider increasing regularisation. Duality gap: 1.477e+02, tolerance: 3.880e-02\n",
      "  model = cd_fast.enet_coordinate_descent(\n",
      "D:\\IntelliJ\\ml-stock-sent\\.venv\\Lib\\site-packages\\sklearn\\linear_model\\_coordinate_descent.py:695: ConvergenceWarning: Objective did not converge. You might want to increase the number of iterations, check the scale of the features or consider increasing regularisation. Duality gap: 2.557e+00, tolerance: 3.880e-02\n",
      "  model = cd_fast.enet_coordinate_descent(\n",
      "D:\\IntelliJ\\ml-stock-sent\\.venv\\Lib\\site-packages\\sklearn\\linear_model\\_coordinate_descent.py:695: ConvergenceWarning: Objective did not converge. You might want to increase the number of iterations, check the scale of the features or consider increasing regularisation. Duality gap: 9.442e+01, tolerance: 3.880e-02\n",
      "  model = cd_fast.enet_coordinate_descent(\n",
      "D:\\IntelliJ\\ml-stock-sent\\.venv\\Lib\\site-packages\\sklearn\\linear_model\\_coordinate_descent.py:695: ConvergenceWarning: Objective did not converge. You might want to increase the number of iterations, check the scale of the features or consider increasing regularisation. Duality gap: 1.401e+02, tolerance: 3.880e-02\n",
      "  model = cd_fast.enet_coordinate_descent(\n",
      "D:\\IntelliJ\\ml-stock-sent\\.venv\\Lib\\site-packages\\sklearn\\linear_model\\_coordinate_descent.py:695: ConvergenceWarning: Objective did not converge. You might want to increase the number of iterations, check the scale of the features or consider increasing regularisation. Duality gap: 8.922e+01, tolerance: 3.880e-02\n",
      "  model = cd_fast.enet_coordinate_descent(\n",
      "D:\\IntelliJ\\ml-stock-sent\\.venv\\Lib\\site-packages\\sklearn\\linear_model\\_coordinate_descent.py:695: ConvergenceWarning: Objective did not converge. You might want to increase the number of iterations, check the scale of the features or consider increasing regularisation. Duality gap: 1.348e+02, tolerance: 3.880e-02\n",
      "  model = cd_fast.enet_coordinate_descent(\n",
      "D:\\IntelliJ\\ml-stock-sent\\.venv\\Lib\\site-packages\\sklearn\\linear_model\\_coordinate_descent.py:695: ConvergenceWarning: Objective did not converge. You might want to increase the number of iterations, check the scale of the features or consider increasing regularisation. Duality gap: 1.344e+02, tolerance: 3.880e-02\n",
      "  model = cd_fast.enet_coordinate_descent(\n",
      "D:\\IntelliJ\\ml-stock-sent\\.venv\\Lib\\site-packages\\sklearn\\linear_model\\_coordinate_descent.py:695: ConvergenceWarning: Objective did not converge. You might want to increase the number of iterations, check the scale of the features or consider increasing regularisation. Duality gap: 4.792e+01, tolerance: 3.880e-02\n",
      "  model = cd_fast.enet_coordinate_descent(\n",
      "D:\\IntelliJ\\ml-stock-sent\\.venv\\Lib\\site-packages\\sklearn\\linear_model\\_coordinate_descent.py:695: ConvergenceWarning: Objective did not converge. You might want to increase the number of iterations, check the scale of the features or consider increasing regularisation. Duality gap: 1.017e+02, tolerance: 3.880e-02\n",
      "  model = cd_fast.enet_coordinate_descent(\n",
      "D:\\IntelliJ\\ml-stock-sent\\.venv\\Lib\\site-packages\\sklearn\\linear_model\\_coordinate_descent.py:695: ConvergenceWarning: Objective did not converge. You might want to increase the number of iterations, check the scale of the features or consider increasing regularisation. Duality gap: 1.377e+02, tolerance: 3.880e-02\n",
      "  model = cd_fast.enet_coordinate_descent(\n",
      "D:\\IntelliJ\\ml-stock-sent\\.venv\\Lib\\site-packages\\sklearn\\linear_model\\_coordinate_descent.py:695: ConvergenceWarning: Objective did not converge. You might want to increase the number of iterations, check the scale of the features or consider increasing regularisation. Duality gap: 1.263e+02, tolerance: 3.880e-02\n",
      "  model = cd_fast.enet_coordinate_descent(\n",
      "D:\\IntelliJ\\ml-stock-sent\\.venv\\Lib\\site-packages\\sklearn\\linear_model\\_coordinate_descent.py:695: ConvergenceWarning: Objective did not converge. You might want to increase the number of iterations, check the scale of the features or consider increasing regularisation. Duality gap: 1.398e+02, tolerance: 3.880e-02\n",
      "  model = cd_fast.enet_coordinate_descent(\n",
      "D:\\IntelliJ\\ml-stock-sent\\.venv\\Lib\\site-packages\\sklearn\\linear_model\\_coordinate_descent.py:695: ConvergenceWarning: Objective did not converge. You might want to increase the number of iterations, check the scale of the features or consider increasing regularisation. Duality gap: 8.617e+01, tolerance: 3.880e-02\n",
      "  model = cd_fast.enet_coordinate_descent(\n",
      "D:\\IntelliJ\\ml-stock-sent\\.venv\\Lib\\site-packages\\sklearn\\linear_model\\_coordinate_descent.py:695: ConvergenceWarning: Objective did not converge. You might want to increase the number of iterations, check the scale of the features or consider increasing regularisation. Duality gap: 1.116e+02, tolerance: 3.880e-02\n",
      "  model = cd_fast.enet_coordinate_descent(\n",
      "D:\\IntelliJ\\ml-stock-sent\\.venv\\Lib\\site-packages\\sklearn\\linear_model\\_coordinate_descent.py:695: ConvergenceWarning: Objective did not converge. You might want to increase the number of iterations, check the scale of the features or consider increasing regularisation. Duality gap: 1.224e+02, tolerance: 3.880e-02\n",
      "  model = cd_fast.enet_coordinate_descent(\n",
      "D:\\IntelliJ\\ml-stock-sent\\.venv\\Lib\\site-packages\\sklearn\\linear_model\\_coordinate_descent.py:695: ConvergenceWarning: Objective did not converge. You might want to increase the number of iterations, check the scale of the features or consider increasing regularisation. Duality gap: 9.456e+01, tolerance: 3.880e-02\n",
      "  model = cd_fast.enet_coordinate_descent(\n",
      "D:\\IntelliJ\\ml-stock-sent\\.venv\\Lib\\site-packages\\sklearn\\linear_model\\_coordinate_descent.py:695: ConvergenceWarning: Objective did not converge. You might want to increase the number of iterations, check the scale of the features or consider increasing regularisation. Duality gap: 1.188e+02, tolerance: 3.880e-02\n",
      "  model = cd_fast.enet_coordinate_descent(\n",
      "D:\\IntelliJ\\ml-stock-sent\\.venv\\Lib\\site-packages\\sklearn\\linear_model\\_coordinate_descent.py:695: ConvergenceWarning: Objective did not converge. You might want to increase the number of iterations, check the scale of the features or consider increasing regularisation. Duality gap: 2.613e+02, tolerance: 7.740e-02\n",
      "  model = cd_fast.enet_coordinate_descent(\n",
      "D:\\IntelliJ\\ml-stock-sent\\.venv\\Lib\\site-packages\\sklearn\\linear_model\\_coordinate_descent.py:695: ConvergenceWarning: Objective did not converge. You might want to increase the number of iterations, check the scale of the features or consider increasing regularisation. Duality gap: 2.319e+02, tolerance: 7.740e-02\n",
      "  model = cd_fast.enet_coordinate_descent(\n",
      "D:\\IntelliJ\\ml-stock-sent\\.venv\\Lib\\site-packages\\sklearn\\linear_model\\_coordinate_descent.py:695: ConvergenceWarning: Objective did not converge. You might want to increase the number of iterations, check the scale of the features or consider increasing regularisation. Duality gap: 1.605e+02, tolerance: 7.740e-02\n",
      "  model = cd_fast.enet_coordinate_descent(\n",
      "D:\\IntelliJ\\ml-stock-sent\\.venv\\Lib\\site-packages\\sklearn\\linear_model\\_coordinate_descent.py:695: ConvergenceWarning: Objective did not converge. You might want to increase the number of iterations, check the scale of the features or consider increasing regularisation. Duality gap: 1.147e+02, tolerance: 7.740e-02\n",
      "  model = cd_fast.enet_coordinate_descent(\n",
      "D:\\IntelliJ\\ml-stock-sent\\.venv\\Lib\\site-packages\\sklearn\\linear_model\\_coordinate_descent.py:695: ConvergenceWarning: Objective did not converge. You might want to increase the number of iterations, check the scale of the features or consider increasing regularisation. Duality gap: 2.127e+02, tolerance: 7.740e-02\n",
      "  model = cd_fast.enet_coordinate_descent(\n",
      "D:\\IntelliJ\\ml-stock-sent\\.venv\\Lib\\site-packages\\sklearn\\linear_model\\_coordinate_descent.py:695: ConvergenceWarning: Objective did not converge. You might want to increase the number of iterations, check the scale of the features or consider increasing regularisation. Duality gap: 3.028e+02, tolerance: 7.740e-02\n",
      "  model = cd_fast.enet_coordinate_descent(\n",
      "D:\\IntelliJ\\ml-stock-sent\\.venv\\Lib\\site-packages\\sklearn\\linear_model\\_coordinate_descent.py:695: ConvergenceWarning: Objective did not converge. You might want to increase the number of iterations, check the scale of the features or consider increasing regularisation. Duality gap: 1.419e+02, tolerance: 7.740e-02\n",
      "  model = cd_fast.enet_coordinate_descent(\n",
      "D:\\IntelliJ\\ml-stock-sent\\.venv\\Lib\\site-packages\\sklearn\\linear_model\\_coordinate_descent.py:695: ConvergenceWarning: Objective did not converge. You might want to increase the number of iterations, check the scale of the features or consider increasing regularisation. Duality gap: 1.987e+02, tolerance: 7.740e-02\n",
      "  model = cd_fast.enet_coordinate_descent(\n",
      "D:\\IntelliJ\\ml-stock-sent\\.venv\\Lib\\site-packages\\sklearn\\linear_model\\_coordinate_descent.py:695: ConvergenceWarning: Objective did not converge. You might want to increase the number of iterations, check the scale of the features or consider increasing regularisation. Duality gap: 1.605e+02, tolerance: 7.740e-02\n",
      "  model = cd_fast.enet_coordinate_descent(\n",
      "D:\\IntelliJ\\ml-stock-sent\\.venv\\Lib\\site-packages\\sklearn\\linear_model\\_coordinate_descent.py:695: ConvergenceWarning: Objective did not converge. You might want to increase the number of iterations, check the scale of the features or consider increasing regularisation. Duality gap: 2.511e+02, tolerance: 7.740e-02\n",
      "  model = cd_fast.enet_coordinate_descent(\n",
      "D:\\IntelliJ\\ml-stock-sent\\.venv\\Lib\\site-packages\\sklearn\\linear_model\\_coordinate_descent.py:695: ConvergenceWarning: Objective did not converge. You might want to increase the number of iterations, check the scale of the features or consider increasing regularisation. Duality gap: 5.669e+01, tolerance: 7.740e-02\n",
      "  model = cd_fast.enet_coordinate_descent(\n",
      "D:\\IntelliJ\\ml-stock-sent\\.venv\\Lib\\site-packages\\sklearn\\linear_model\\_coordinate_descent.py:695: ConvergenceWarning: Objective did not converge. You might want to increase the number of iterations, check the scale of the features or consider increasing regularisation. Duality gap: 2.333e+02, tolerance: 7.740e-02\n",
      "  model = cd_fast.enet_coordinate_descent(\n",
      "D:\\IntelliJ\\ml-stock-sent\\.venv\\Lib\\site-packages\\sklearn\\linear_model\\_coordinate_descent.py:695: ConvergenceWarning: Objective did not converge. You might want to increase the number of iterations, check the scale of the features or consider increasing regularisation. Duality gap: 2.113e+02, tolerance: 7.740e-02\n",
      "  model = cd_fast.enet_coordinate_descent(\n",
      "D:\\IntelliJ\\ml-stock-sent\\.venv\\Lib\\site-packages\\sklearn\\linear_model\\_coordinate_descent.py:695: ConvergenceWarning: Objective did not converge. You might want to increase the number of iterations, check the scale of the features or consider increasing regularisation. Duality gap: 2.945e+02, tolerance: 7.740e-02\n",
      "  model = cd_fast.enet_coordinate_descent(\n",
      "D:\\IntelliJ\\ml-stock-sent\\.venv\\Lib\\site-packages\\sklearn\\linear_model\\_coordinate_descent.py:695: ConvergenceWarning: Objective did not converge. You might want to increase the number of iterations, check the scale of the features or consider increasing regularisation. Duality gap: 2.415e+02, tolerance: 7.740e-02\n",
      "  model = cd_fast.enet_coordinate_descent(\n",
      "D:\\IntelliJ\\ml-stock-sent\\.venv\\Lib\\site-packages\\sklearn\\linear_model\\_coordinate_descent.py:695: ConvergenceWarning: Objective did not converge. You might want to increase the number of iterations, check the scale of the features or consider increasing regularisation. Duality gap: 2.242e+02, tolerance: 7.740e-02\n",
      "  model = cd_fast.enet_coordinate_descent(\n",
      "D:\\IntelliJ\\ml-stock-sent\\.venv\\Lib\\site-packages\\sklearn\\linear_model\\_coordinate_descent.py:695: ConvergenceWarning: Objective did not converge. You might want to increase the number of iterations, check the scale of the features or consider increasing regularisation. Duality gap: 2.102e+02, tolerance: 7.740e-02\n",
      "  model = cd_fast.enet_coordinate_descent(\n",
      "D:\\IntelliJ\\ml-stock-sent\\.venv\\Lib\\site-packages\\sklearn\\linear_model\\_coordinate_descent.py:695: ConvergenceWarning: Objective did not converge. You might want to increase the number of iterations, check the scale of the features or consider increasing regularisation. Duality gap: 2.675e+02, tolerance: 7.740e-02\n",
      "  model = cd_fast.enet_coordinate_descent(\n",
      "D:\\IntelliJ\\ml-stock-sent\\.venv\\Lib\\site-packages\\sklearn\\linear_model\\_coordinate_descent.py:695: ConvergenceWarning: Objective did not converge. You might want to increase the number of iterations, check the scale of the features or consider increasing regularisation. Duality gap: 1.591e+02, tolerance: 7.740e-02\n",
      "  model = cd_fast.enet_coordinate_descent(\n",
      "D:\\IntelliJ\\ml-stock-sent\\.venv\\Lib\\site-packages\\sklearn\\linear_model\\_coordinate_descent.py:695: ConvergenceWarning: Objective did not converge. You might want to increase the number of iterations, check the scale of the features or consider increasing regularisation. Duality gap: 3.227e+01, tolerance: 7.740e-02\n",
      "  model = cd_fast.enet_coordinate_descent(\n",
      "D:\\IntelliJ\\ml-stock-sent\\.venv\\Lib\\site-packages\\sklearn\\linear_model\\_coordinate_descent.py:695: ConvergenceWarning: Objective did not converge. You might want to increase the number of iterations, check the scale of the features or consider increasing regularisation. Duality gap: 6.732e+01, tolerance: 7.740e-02\n",
      "  model = cd_fast.enet_coordinate_descent(\n",
      "D:\\IntelliJ\\ml-stock-sent\\.venv\\Lib\\site-packages\\sklearn\\linear_model\\_coordinate_descent.py:695: ConvergenceWarning: Objective did not converge. You might want to increase the number of iterations, check the scale of the features or consider increasing regularisation. Duality gap: 6.216e+01, tolerance: 7.740e-02\n",
      "  model = cd_fast.enet_coordinate_descent(\n",
      "D:\\IntelliJ\\ml-stock-sent\\.venv\\Lib\\site-packages\\sklearn\\linear_model\\_coordinate_descent.py:695: ConvergenceWarning: Objective did not converge. You might want to increase the number of iterations, check the scale of the features or consider increasing regularisation. Duality gap: 2.374e+02, tolerance: 7.740e-02\n",
      "  model = cd_fast.enet_coordinate_descent(\n",
      "D:\\IntelliJ\\ml-stock-sent\\.venv\\Lib\\site-packages\\sklearn\\linear_model\\_coordinate_descent.py:695: ConvergenceWarning: Objective did not converge. You might want to increase the number of iterations, check the scale of the features or consider increasing regularisation. Duality gap: 2.191e+02, tolerance: 7.740e-02\n",
      "  model = cd_fast.enet_coordinate_descent(\n",
      "D:\\IntelliJ\\ml-stock-sent\\.venv\\Lib\\site-packages\\sklearn\\linear_model\\_coordinate_descent.py:695: ConvergenceWarning: Objective did not converge. You might want to increase the number of iterations, check the scale of the features or consider increasing regularisation. Duality gap: 2.446e+02, tolerance: 7.740e-02\n",
      "  model = cd_fast.enet_coordinate_descent(\n",
      "D:\\IntelliJ\\ml-stock-sent\\.venv\\Lib\\site-packages\\sklearn\\linear_model\\_coordinate_descent.py:695: ConvergenceWarning: Objective did not converge. You might want to increase the number of iterations, check the scale of the features or consider increasing regularisation. Duality gap: 4.205e+00, tolerance: 7.740e-02\n",
      "  model = cd_fast.enet_coordinate_descent(\n",
      "D:\\IntelliJ\\ml-stock-sent\\.venv\\Lib\\site-packages\\sklearn\\linear_model\\_coordinate_descent.py:695: ConvergenceWarning: Objective did not converge. You might want to increase the number of iterations, check the scale of the features or consider increasing regularisation. Duality gap: 2.734e+02, tolerance: 7.740e-02\n",
      "  model = cd_fast.enet_coordinate_descent(\n",
      "D:\\IntelliJ\\ml-stock-sent\\.venv\\Lib\\site-packages\\sklearn\\linear_model\\_coordinate_descent.py:695: ConvergenceWarning: Objective did not converge. You might want to increase the number of iterations, check the scale of the features or consider increasing regularisation. Duality gap: 2.899e+02, tolerance: 7.740e-02\n",
      "  model = cd_fast.enet_coordinate_descent(\n",
      "D:\\IntelliJ\\ml-stock-sent\\.venv\\Lib\\site-packages\\sklearn\\linear_model\\_coordinate_descent.py:695: ConvergenceWarning: Objective did not converge. You might want to increase the number of iterations, check the scale of the features or consider increasing regularisation. Duality gap: 1.948e+02, tolerance: 7.740e-02\n",
      "  model = cd_fast.enet_coordinate_descent(\n",
      "D:\\IntelliJ\\ml-stock-sent\\.venv\\Lib\\site-packages\\sklearn\\linear_model\\_coordinate_descent.py:695: ConvergenceWarning: Objective did not converge. You might want to increase the number of iterations, check the scale of the features or consider increasing regularisation. Duality gap: 5.068e+01, tolerance: 7.740e-02\n",
      "  model = cd_fast.enet_coordinate_descent(\n",
      "D:\\IntelliJ\\ml-stock-sent\\.venv\\Lib\\site-packages\\sklearn\\linear_model\\_coordinate_descent.py:695: ConvergenceWarning: Objective did not converge. You might want to increase the number of iterations, check the scale of the features or consider increasing regularisation. Duality gap: 3.670e+02, tolerance: 1.160e-01\n",
      "  model = cd_fast.enet_coordinate_descent(\n",
      "D:\\IntelliJ\\ml-stock-sent\\.venv\\Lib\\site-packages\\sklearn\\linear_model\\_coordinate_descent.py:695: ConvergenceWarning: Objective did not converge. You might want to increase the number of iterations, check the scale of the features or consider increasing regularisation. Duality gap: 3.141e+02, tolerance: 1.160e-01\n",
      "  model = cd_fast.enet_coordinate_descent(\n",
      "D:\\IntelliJ\\ml-stock-sent\\.venv\\Lib\\site-packages\\sklearn\\linear_model\\_coordinate_descent.py:695: ConvergenceWarning: Objective did not converge. You might want to increase the number of iterations, check the scale of the features or consider increasing regularisation. Duality gap: 2.979e+02, tolerance: 1.160e-01\n",
      "  model = cd_fast.enet_coordinate_descent(\n",
      "D:\\IntelliJ\\ml-stock-sent\\.venv\\Lib\\site-packages\\sklearn\\linear_model\\_coordinate_descent.py:695: ConvergenceWarning: Objective did not converge. You might want to increase the number of iterations, check the scale of the features or consider increasing regularisation. Duality gap: 1.534e+02, tolerance: 1.160e-01\n",
      "  model = cd_fast.enet_coordinate_descent(\n",
      "D:\\IntelliJ\\ml-stock-sent\\.venv\\Lib\\site-packages\\sklearn\\linear_model\\_coordinate_descent.py:695: ConvergenceWarning: Objective did not converge. You might want to increase the number of iterations, check the scale of the features or consider increasing regularisation. Duality gap: 3.346e+02, tolerance: 1.160e-01\n",
      "  model = cd_fast.enet_coordinate_descent(\n",
      "D:\\IntelliJ\\ml-stock-sent\\.venv\\Lib\\site-packages\\sklearn\\linear_model\\_coordinate_descent.py:695: ConvergenceWarning: Objective did not converge. You might want to increase the number of iterations, check the scale of the features or consider increasing regularisation. Duality gap: 4.522e+02, tolerance: 1.160e-01\n",
      "  model = cd_fast.enet_coordinate_descent(\n",
      "D:\\IntelliJ\\ml-stock-sent\\.venv\\Lib\\site-packages\\sklearn\\linear_model\\_coordinate_descent.py:695: ConvergenceWarning: Objective did not converge. You might want to increase the number of iterations, check the scale of the features or consider increasing regularisation. Duality gap: 3.112e+02, tolerance: 1.160e-01\n",
      "  model = cd_fast.enet_coordinate_descent(\n",
      "D:\\IntelliJ\\ml-stock-sent\\.venv\\Lib\\site-packages\\sklearn\\linear_model\\_coordinate_descent.py:695: ConvergenceWarning: Objective did not converge. You might want to increase the number of iterations, check the scale of the features or consider increasing regularisation. Duality gap: 3.612e+02, tolerance: 1.160e-01\n",
      "  model = cd_fast.enet_coordinate_descent(\n",
      "D:\\IntelliJ\\ml-stock-sent\\.venv\\Lib\\site-packages\\sklearn\\linear_model\\_coordinate_descent.py:695: ConvergenceWarning: Objective did not converge. You might want to increase the number of iterations, check the scale of the features or consider increasing regularisation. Duality gap: 3.080e+02, tolerance: 1.160e-01\n",
      "  model = cd_fast.enet_coordinate_descent(\n",
      "D:\\IntelliJ\\ml-stock-sent\\.venv\\Lib\\site-packages\\sklearn\\linear_model\\_coordinate_descent.py:695: ConvergenceWarning: Objective did not converge. You might want to increase the number of iterations, check the scale of the features or consider increasing regularisation. Duality gap: 4.072e+02, tolerance: 1.160e-01\n",
      "  model = cd_fast.enet_coordinate_descent(\n",
      "D:\\IntelliJ\\ml-stock-sent\\.venv\\Lib\\site-packages\\sklearn\\linear_model\\_coordinate_descent.py:695: ConvergenceWarning: Objective did not converge. You might want to increase the number of iterations, check the scale of the features or consider increasing regularisation. Duality gap: 1.502e+02, tolerance: 1.160e-01\n",
      "  model = cd_fast.enet_coordinate_descent(\n",
      "D:\\IntelliJ\\ml-stock-sent\\.venv\\Lib\\site-packages\\sklearn\\linear_model\\_coordinate_descent.py:695: ConvergenceWarning: Objective did not converge. You might want to increase the number of iterations, check the scale of the features or consider increasing regularisation. Duality gap: 3.700e+02, tolerance: 1.160e-01\n",
      "  model = cd_fast.enet_coordinate_descent(\n",
      "D:\\IntelliJ\\ml-stock-sent\\.venv\\Lib\\site-packages\\sklearn\\linear_model\\_coordinate_descent.py:695: ConvergenceWarning: Objective did not converge. You might want to increase the number of iterations, check the scale of the features or consider increasing regularisation. Duality gap: 3.106e+02, tolerance: 1.160e-01\n",
      "  model = cd_fast.enet_coordinate_descent(\n",
      "D:\\IntelliJ\\ml-stock-sent\\.venv\\Lib\\site-packages\\sklearn\\linear_model\\_coordinate_descent.py:695: ConvergenceWarning: Objective did not converge. You might want to increase the number of iterations, check the scale of the features or consider increasing regularisation. Duality gap: 4.528e+02, tolerance: 1.160e-01\n",
      "  model = cd_fast.enet_coordinate_descent(\n",
      "D:\\IntelliJ\\ml-stock-sent\\.venv\\Lib\\site-packages\\sklearn\\linear_model\\_coordinate_descent.py:695: ConvergenceWarning: Objective did not converge. You might want to increase the number of iterations, check the scale of the features or consider increasing regularisation. Duality gap: 3.602e+02, tolerance: 1.160e-01\n",
      "  model = cd_fast.enet_coordinate_descent(\n",
      "D:\\IntelliJ\\ml-stock-sent\\.venv\\Lib\\site-packages\\sklearn\\linear_model\\_coordinate_descent.py:695: ConvergenceWarning: Objective did not converge. You might want to increase the number of iterations, check the scale of the features or consider increasing regularisation. Duality gap: 3.806e+02, tolerance: 1.160e-01\n",
      "  model = cd_fast.enet_coordinate_descent(\n",
      "D:\\IntelliJ\\ml-stock-sent\\.venv\\Lib\\site-packages\\sklearn\\linear_model\\_coordinate_descent.py:695: ConvergenceWarning: Objective did not converge. You might want to increase the number of iterations, check the scale of the features or consider increasing regularisation. Duality gap: 2.677e+02, tolerance: 1.160e-01\n",
      "  model = cd_fast.enet_coordinate_descent(\n",
      "D:\\IntelliJ\\ml-stock-sent\\.venv\\Lib\\site-packages\\sklearn\\linear_model\\_coordinate_descent.py:695: ConvergenceWarning: Objective did not converge. You might want to increase the number of iterations, check the scale of the features or consider increasing regularisation. Duality gap: 4.124e+02, tolerance: 1.160e-01\n",
      "  model = cd_fast.enet_coordinate_descent(\n",
      "D:\\IntelliJ\\ml-stock-sent\\.venv\\Lib\\site-packages\\sklearn\\linear_model\\_coordinate_descent.py:695: ConvergenceWarning: Objective did not converge. You might want to increase the number of iterations, check the scale of the features or consider increasing regularisation. Duality gap: 1.341e+02, tolerance: 1.160e-01\n",
      "  model = cd_fast.enet_coordinate_descent(\n",
      "D:\\IntelliJ\\ml-stock-sent\\.venv\\Lib\\site-packages\\sklearn\\linear_model\\_coordinate_descent.py:695: ConvergenceWarning: Objective did not converge. You might want to increase the number of iterations, check the scale of the features or consider increasing regularisation. Duality gap: 2.461e+01, tolerance: 1.160e-01\n",
      "  model = cd_fast.enet_coordinate_descent(\n",
      "D:\\IntelliJ\\ml-stock-sent\\.venv\\Lib\\site-packages\\sklearn\\linear_model\\_coordinate_descent.py:695: ConvergenceWarning: Objective did not converge. You might want to increase the number of iterations, check the scale of the features or consider increasing regularisation. Duality gap: 2.327e-01, tolerance: 1.160e-01\n",
      "  model = cd_fast.enet_coordinate_descent(\n",
      "D:\\IntelliJ\\ml-stock-sent\\.venv\\Lib\\site-packages\\sklearn\\linear_model\\_coordinate_descent.py:695: ConvergenceWarning: Objective did not converge. You might want to increase the number of iterations, check the scale of the features or consider increasing regularisation. Duality gap: 4.710e+01, tolerance: 1.160e-01\n",
      "  model = cd_fast.enet_coordinate_descent(\n",
      "D:\\IntelliJ\\ml-stock-sent\\.venv\\Lib\\site-packages\\sklearn\\linear_model\\_coordinate_descent.py:695: ConvergenceWarning: Objective did not converge. You might want to increase the number of iterations, check the scale of the features or consider increasing regularisation. Duality gap: 3.595e+02, tolerance: 1.160e-01\n",
      "  model = cd_fast.enet_coordinate_descent(\n",
      "D:\\IntelliJ\\ml-stock-sent\\.venv\\Lib\\site-packages\\sklearn\\linear_model\\_coordinate_descent.py:695: ConvergenceWarning: Objective did not converge. You might want to increase the number of iterations, check the scale of the features or consider increasing regularisation. Duality gap: 3.059e+02, tolerance: 1.160e-01\n",
      "  model = cd_fast.enet_coordinate_descent(\n",
      "D:\\IntelliJ\\ml-stock-sent\\.venv\\Lib\\site-packages\\sklearn\\linear_model\\_coordinate_descent.py:695: ConvergenceWarning: Objective did not converge. You might want to increase the number of iterations, check the scale of the features or consider increasing regularisation. Duality gap: 2.828e+02, tolerance: 1.160e-01\n",
      "  model = cd_fast.enet_coordinate_descent(\n",
      "D:\\IntelliJ\\ml-stock-sent\\.venv\\Lib\\site-packages\\sklearn\\linear_model\\_coordinate_descent.py:695: ConvergenceWarning: Objective did not converge. You might want to increase the number of iterations, check the scale of the features or consider increasing regularisation. Duality gap: 3.062e+00, tolerance: 1.160e-01\n",
      "  model = cd_fast.enet_coordinate_descent(\n",
      "D:\\IntelliJ\\ml-stock-sent\\.venv\\Lib\\site-packages\\sklearn\\linear_model\\_coordinate_descent.py:695: ConvergenceWarning: Objective did not converge. You might want to increase the number of iterations, check the scale of the features or consider increasing regularisation. Duality gap: 4.020e+02, tolerance: 1.160e-01\n",
      "  model = cd_fast.enet_coordinate_descent(\n",
      "D:\\IntelliJ\\ml-stock-sent\\.venv\\Lib\\site-packages\\sklearn\\linear_model\\_coordinate_descent.py:695: ConvergenceWarning: Objective did not converge. You might want to increase the number of iterations, check the scale of the features or consider increasing regularisation. Duality gap: 4.342e+02, tolerance: 1.160e-01\n",
      "  model = cd_fast.enet_coordinate_descent(\n",
      "D:\\IntelliJ\\ml-stock-sent\\.venv\\Lib\\site-packages\\sklearn\\linear_model\\_coordinate_descent.py:695: ConvergenceWarning: Objective did not converge. You might want to increase the number of iterations, check the scale of the features or consider increasing regularisation. Duality gap: 3.385e+02, tolerance: 1.160e-01\n",
      "  model = cd_fast.enet_coordinate_descent(\n",
      "D:\\IntelliJ\\ml-stock-sent\\.venv\\Lib\\site-packages\\sklearn\\linear_model\\_coordinate_descent.py:695: ConvergenceWarning: Objective did not converge. You might want to increase the number of iterations, check the scale of the features or consider increasing regularisation. Duality gap: 1.956e+02, tolerance: 1.160e-01\n",
      "  model = cd_fast.enet_coordinate_descent(\n",
      "[I 2025-08-20 16:29:27,215] Trial 9 finished with value: 0.010332117105269606 and parameters: {'alpha': 8.200518402245828e-05, 'l1_ratio': 0.09767211400638387, 'selection': 'cyclic'}. Best is trial 3 with value: 0.01011448329737524.\n",
      "[I 2025-08-20 16:29:27,509] Trial 10 finished with value: 0.00993403367719405 and parameters: {'alpha': 0.006845570267272932, 'l1_ratio': 0.36372767362163116, 'selection': 'random'}. Best is trial 10 with value: 0.00993403367719405.\n",
      "[I 2025-08-20 16:29:27,809] Trial 11 finished with value: 0.009930395606462921 and parameters: {'alpha': 0.007209809176013973, 'l1_ratio': 0.3460352745829427, 'selection': 'random'}. Best is trial 11 with value: 0.009930395606462921.\n",
      "[I 2025-08-20 16:29:28,035] Trial 12 finished with value: 0.00985743871263852 and parameters: {'alpha': 0.009100816964510363, 'l1_ratio': 0.3924528921026325, 'selection': 'random'}. Best is trial 12 with value: 0.00985743871263852.\n",
      "[I 2025-08-20 16:29:28,226] Trial 13 finished with value: 0.009840096829910595 and parameters: {'alpha': 0.009842176801526326, 'l1_ratio': 0.39000535689406096, 'selection': 'random'}. Best is trial 13 with value: 0.009840096829910595.\n",
      "D:\\IntelliJ\\ml-stock-sent\\.venv\\Lib\\site-packages\\sklearn\\linear_model\\_coordinate_descent.py:695: ConvergenceWarning: Objective did not converge. You might want to increase the number of iterations, check the scale of the features or consider increasing regularisation. Duality gap: 2.225e-01, tolerance: 3.880e-02\n",
      "  model = cd_fast.enet_coordinate_descent(\n",
      "D:\\IntelliJ\\ml-stock-sent\\.venv\\Lib\\site-packages\\sklearn\\linear_model\\_coordinate_descent.py:695: ConvergenceWarning: Objective did not converge. You might want to increase the number of iterations, check the scale of the features or consider increasing regularisation. Duality gap: 5.255e-01, tolerance: 3.880e-02\n",
      "  model = cd_fast.enet_coordinate_descent(\n",
      "D:\\IntelliJ\\ml-stock-sent\\.venv\\Lib\\site-packages\\sklearn\\linear_model\\_coordinate_descent.py:695: ConvergenceWarning: Objective did not converge. You might want to increase the number of iterations, check the scale of the features or consider increasing regularisation. Duality gap: 2.186e-01, tolerance: 3.880e-02\n",
      "  model = cd_fast.enet_coordinate_descent(\n",
      "D:\\IntelliJ\\ml-stock-sent\\.venv\\Lib\\site-packages\\sklearn\\linear_model\\_coordinate_descent.py:695: ConvergenceWarning: Objective did not converge. You might want to increase the number of iterations, check the scale of the features or consider increasing regularisation. Duality gap: 1.110e+00, tolerance: 3.880e-02\n",
      "  model = cd_fast.enet_coordinate_descent(\n",
      "D:\\IntelliJ\\ml-stock-sent\\.venv\\Lib\\site-packages\\sklearn\\linear_model\\_coordinate_descent.py:695: ConvergenceWarning: Objective did not converge. You might want to increase the number of iterations, check the scale of the features or consider increasing regularisation. Duality gap: 2.022e-01, tolerance: 3.880e-02\n",
      "  model = cd_fast.enet_coordinate_descent(\n",
      "D:\\IntelliJ\\ml-stock-sent\\.venv\\Lib\\site-packages\\sklearn\\linear_model\\_coordinate_descent.py:695: ConvergenceWarning: Objective did not converge. You might want to increase the number of iterations, check the scale of the features or consider increasing regularisation. Duality gap: 1.729e-01, tolerance: 3.880e-02\n",
      "  model = cd_fast.enet_coordinate_descent(\n",
      "D:\\IntelliJ\\ml-stock-sent\\.venv\\Lib\\site-packages\\sklearn\\linear_model\\_coordinate_descent.py:695: ConvergenceWarning: Objective did not converge. You might want to increase the number of iterations, check the scale of the features or consider increasing regularisation. Duality gap: 1.543e+00, tolerance: 7.740e-02\n",
      "  model = cd_fast.enet_coordinate_descent(\n",
      "D:\\IntelliJ\\ml-stock-sent\\.venv\\Lib\\site-packages\\sklearn\\linear_model\\_coordinate_descent.py:695: ConvergenceWarning: Objective did not converge. You might want to increase the number of iterations, check the scale of the features or consider increasing regularisation. Duality gap: 8.520e-01, tolerance: 7.740e-02\n",
      "  model = cd_fast.enet_coordinate_descent(\n",
      "D:\\IntelliJ\\ml-stock-sent\\.venv\\Lib\\site-packages\\sklearn\\linear_model\\_coordinate_descent.py:695: ConvergenceWarning: Objective did not converge. You might want to increase the number of iterations, check the scale of the features or consider increasing regularisation. Duality gap: 4.684e-01, tolerance: 7.740e-02\n",
      "  model = cd_fast.enet_coordinate_descent(\n",
      "D:\\IntelliJ\\ml-stock-sent\\.venv\\Lib\\site-packages\\sklearn\\linear_model\\_coordinate_descent.py:695: ConvergenceWarning: Objective did not converge. You might want to increase the number of iterations, check the scale of the features or consider increasing regularisation. Duality gap: 3.697e-01, tolerance: 7.740e-02\n",
      "  model = cd_fast.enet_coordinate_descent(\n",
      "D:\\IntelliJ\\ml-stock-sent\\.venv\\Lib\\site-packages\\sklearn\\linear_model\\_coordinate_descent.py:695: ConvergenceWarning: Objective did not converge. You might want to increase the number of iterations, check the scale of the features or consider increasing regularisation. Duality gap: 1.578e+00, tolerance: 1.160e-01\n",
      "  model = cd_fast.enet_coordinate_descent(\n",
      "D:\\IntelliJ\\ml-stock-sent\\.venv\\Lib\\site-packages\\sklearn\\linear_model\\_coordinate_descent.py:695: ConvergenceWarning: Objective did not converge. You might want to increase the number of iterations, check the scale of the features or consider increasing regularisation. Duality gap: 3.410e-01, tolerance: 1.160e-01\n",
      "  model = cd_fast.enet_coordinate_descent(\n",
      "D:\\IntelliJ\\ml-stock-sent\\.venv\\Lib\\site-packages\\sklearn\\linear_model\\_coordinate_descent.py:695: ConvergenceWarning: Objective did not converge. You might want to increase the number of iterations, check the scale of the features or consider increasing regularisation. Duality gap: 3.735e-01, tolerance: 1.160e-01\n",
      "  model = cd_fast.enet_coordinate_descent(\n",
      "D:\\IntelliJ\\ml-stock-sent\\.venv\\Lib\\site-packages\\sklearn\\linear_model\\_coordinate_descent.py:695: ConvergenceWarning: Objective did not converge. You might want to increase the number of iterations, check the scale of the features or consider increasing regularisation. Duality gap: 5.600e-01, tolerance: 1.160e-01\n",
      "  model = cd_fast.enet_coordinate_descent(\n",
      "[I 2025-08-20 16:29:29,050] Trial 14 finished with value: 0.010121587218370877 and parameters: {'alpha': 0.0020546793326754963, 'l1_ratio': 0.49670339719653334, 'selection': 'random'}. Best is trial 13 with value: 0.009840096829910595.\n",
      "D:\\IntelliJ\\ml-stock-sent\\.venv\\Lib\\site-packages\\sklearn\\linear_model\\_coordinate_descent.py:695: ConvergenceWarning: Objective did not converge. You might want to increase the number of iterations, check the scale of the features or consider increasing regularisation. Duality gap: 1.072e-01, tolerance: 3.880e-02\n",
      "  model = cd_fast.enet_coordinate_descent(\n",
      "D:\\IntelliJ\\ml-stock-sent\\.venv\\Lib\\site-packages\\sklearn\\linear_model\\_coordinate_descent.py:695: ConvergenceWarning: Objective did not converge. You might want to increase the number of iterations, check the scale of the features or consider increasing regularisation. Duality gap: 3.017e-01, tolerance: 3.880e-02\n",
      "  model = cd_fast.enet_coordinate_descent(\n",
      "D:\\IntelliJ\\ml-stock-sent\\.venv\\Lib\\site-packages\\sklearn\\linear_model\\_coordinate_descent.py:695: ConvergenceWarning: Objective did not converge. You might want to increase the number of iterations, check the scale of the features or consider increasing regularisation. Duality gap: 5.214e-01, tolerance: 3.880e-02\n",
      "  model = cd_fast.enet_coordinate_descent(\n",
      "D:\\IntelliJ\\ml-stock-sent\\.venv\\Lib\\site-packages\\sklearn\\linear_model\\_coordinate_descent.py:695: ConvergenceWarning: Objective did not converge. You might want to increase the number of iterations, check the scale of the features or consider increasing regularisation. Duality gap: 7.383e-01, tolerance: 7.740e-02\n",
      "  model = cd_fast.enet_coordinate_descent(\n",
      "D:\\IntelliJ\\ml-stock-sent\\.venv\\Lib\\site-packages\\sklearn\\linear_model\\_coordinate_descent.py:695: ConvergenceWarning: Objective did not converge. You might want to increase the number of iterations, check the scale of the features or consider increasing regularisation. Duality gap: 4.157e-01, tolerance: 7.740e-02\n",
      "  model = cd_fast.enet_coordinate_descent(\n",
      "D:\\IntelliJ\\ml-stock-sent\\.venv\\Lib\\site-packages\\sklearn\\linear_model\\_coordinate_descent.py:695: ConvergenceWarning: Objective did not converge. You might want to increase the number of iterations, check the scale of the features or consider increasing regularisation. Duality gap: 3.980e-01, tolerance: 7.740e-02\n",
      "  model = cd_fast.enet_coordinate_descent(\n",
      "D:\\IntelliJ\\ml-stock-sent\\.venv\\Lib\\site-packages\\sklearn\\linear_model\\_coordinate_descent.py:695: ConvergenceWarning: Objective did not converge. You might want to increase the number of iterations, check the scale of the features or consider increasing regularisation. Duality gap: 7.101e-01, tolerance: 1.160e-01\n",
      "  model = cd_fast.enet_coordinate_descent(\n",
      "[I 2025-08-20 16:29:29,796] Trial 15 finished with value: 0.010109603134643467 and parameters: {'alpha': 0.002281520170213832, 'l1_ratio': 0.47006847932799956, 'selection': 'random'}. Best is trial 13 with value: 0.009840096829910595.\n",
      "[I 2025-08-20 16:29:29,971] Trial 16 finished with value: 0.009795888082670517 and parameters: {'alpha': 0.007972986680814802, 'l1_ratio': 0.6343700377248649, 'selection': 'random'}. Best is trial 16 with value: 0.009795888082670517.\n",
      "[I 2025-08-20 16:29:30,366] Trial 17 finished with value: 0.009988360120458587 and parameters: {'alpha': 0.003446907185273602, 'l1_ratio': 0.6761051434807636, 'selection': 'random'}. Best is trial 16 with value: 0.009795888082670517.\n",
      "D:\\IntelliJ\\ml-stock-sent\\.venv\\Lib\\site-packages\\sklearn\\linear_model\\_coordinate_descent.py:695: ConvergenceWarning: Objective did not converge. You might want to increase the number of iterations, check the scale of the features or consider increasing regularisation. Duality gap: 4.470e+00, tolerance: 3.880e-02\n",
      "  model = cd_fast.enet_coordinate_descent(\n",
      "D:\\IntelliJ\\ml-stock-sent\\.venv\\Lib\\site-packages\\sklearn\\linear_model\\_coordinate_descent.py:695: ConvergenceWarning: Objective did not converge. You might want to increase the number of iterations, check the scale of the features or consider increasing regularisation. Duality gap: 2.399e-01, tolerance: 3.880e-02\n",
      "  model = cd_fast.enet_coordinate_descent(\n",
      "D:\\IntelliJ\\ml-stock-sent\\.venv\\Lib\\site-packages\\sklearn\\linear_model\\_coordinate_descent.py:695: ConvergenceWarning: Objective did not converge. You might want to increase the number of iterations, check the scale of the features or consider increasing regularisation. Duality gap: 1.552e+00, tolerance: 3.880e-02\n",
      "  model = cd_fast.enet_coordinate_descent(\n",
      "D:\\IntelliJ\\ml-stock-sent\\.venv\\Lib\\site-packages\\sklearn\\linear_model\\_coordinate_descent.py:695: ConvergenceWarning: Objective did not converge. You might want to increase the number of iterations, check the scale of the features or consider increasing regularisation. Duality gap: 1.495e+01, tolerance: 3.880e-02\n",
      "  model = cd_fast.enet_coordinate_descent(\n",
      "D:\\IntelliJ\\ml-stock-sent\\.venv\\Lib\\site-packages\\sklearn\\linear_model\\_coordinate_descent.py:695: ConvergenceWarning: Objective did not converge. You might want to increase the number of iterations, check the scale of the features or consider increasing regularisation. Duality gap: 1.951e+00, tolerance: 3.880e-02\n",
      "  model = cd_fast.enet_coordinate_descent(\n",
      "D:\\IntelliJ\\ml-stock-sent\\.venv\\Lib\\site-packages\\sklearn\\linear_model\\_coordinate_descent.py:695: ConvergenceWarning: Objective did not converge. You might want to increase the number of iterations, check the scale of the features or consider increasing regularisation. Duality gap: 1.891e+00, tolerance: 3.880e-02\n",
      "  model = cd_fast.enet_coordinate_descent(\n",
      "D:\\IntelliJ\\ml-stock-sent\\.venv\\Lib\\site-packages\\sklearn\\linear_model\\_coordinate_descent.py:695: ConvergenceWarning: Objective did not converge. You might want to increase the number of iterations, check the scale of the features or consider increasing regularisation. Duality gap: 1.101e+01, tolerance: 3.880e-02\n",
      "  model = cd_fast.enet_coordinate_descent(\n",
      "D:\\IntelliJ\\ml-stock-sent\\.venv\\Lib\\site-packages\\sklearn\\linear_model\\_coordinate_descent.py:695: ConvergenceWarning: Objective did not converge. You might want to increase the number of iterations, check the scale of the features or consider increasing regularisation. Duality gap: 2.628e+00, tolerance: 3.880e-02\n",
      "  model = cd_fast.enet_coordinate_descent(\n",
      "D:\\IntelliJ\\ml-stock-sent\\.venv\\Lib\\site-packages\\sklearn\\linear_model\\_coordinate_descent.py:695: ConvergenceWarning: Objective did not converge. You might want to increase the number of iterations, check the scale of the features or consider increasing regularisation. Duality gap: 2.576e+00, tolerance: 3.880e-02\n",
      "  model = cd_fast.enet_coordinate_descent(\n",
      "D:\\IntelliJ\\ml-stock-sent\\.venv\\Lib\\site-packages\\sklearn\\linear_model\\_coordinate_descent.py:695: ConvergenceWarning: Objective did not converge. You might want to increase the number of iterations, check the scale of the features or consider increasing regularisation. Duality gap: 4.415e-01, tolerance: 3.880e-02\n",
      "  model = cd_fast.enet_coordinate_descent(\n",
      "D:\\IntelliJ\\ml-stock-sent\\.venv\\Lib\\site-packages\\sklearn\\linear_model\\_coordinate_descent.py:695: ConvergenceWarning: Objective did not converge. You might want to increase the number of iterations, check the scale of the features or consider increasing regularisation. Duality gap: 1.164e+00, tolerance: 3.880e-02\n",
      "  model = cd_fast.enet_coordinate_descent(\n",
      "D:\\IntelliJ\\ml-stock-sent\\.venv\\Lib\\site-packages\\sklearn\\linear_model\\_coordinate_descent.py:695: ConvergenceWarning: Objective did not converge. You might want to increase the number of iterations, check the scale of the features or consider increasing regularisation. Duality gap: 1.477e-01, tolerance: 3.880e-02\n",
      "  model = cd_fast.enet_coordinate_descent(\n",
      "D:\\IntelliJ\\ml-stock-sent\\.venv\\Lib\\site-packages\\sklearn\\linear_model\\_coordinate_descent.py:695: ConvergenceWarning: Objective did not converge. You might want to increase the number of iterations, check the scale of the features or consider increasing regularisation. Duality gap: 1.976e+00, tolerance: 3.880e-02\n",
      "  model = cd_fast.enet_coordinate_descent(\n",
      "D:\\IntelliJ\\ml-stock-sent\\.venv\\Lib\\site-packages\\sklearn\\linear_model\\_coordinate_descent.py:695: ConvergenceWarning: Objective did not converge. You might want to increase the number of iterations, check the scale of the features or consider increasing regularisation. Duality gap: 1.666e+00, tolerance: 3.880e-02\n",
      "  model = cd_fast.enet_coordinate_descent(\n",
      "D:\\IntelliJ\\ml-stock-sent\\.venv\\Lib\\site-packages\\sklearn\\linear_model\\_coordinate_descent.py:695: ConvergenceWarning: Objective did not converge. You might want to increase the number of iterations, check the scale of the features or consider increasing regularisation. Duality gap: 3.043e+00, tolerance: 3.880e-02\n",
      "  model = cd_fast.enet_coordinate_descent(\n",
      "D:\\IntelliJ\\ml-stock-sent\\.venv\\Lib\\site-packages\\sklearn\\linear_model\\_coordinate_descent.py:695: ConvergenceWarning: Objective did not converge. You might want to increase the number of iterations, check the scale of the features or consider increasing regularisation. Duality gap: 2.393e-01, tolerance: 3.880e-02\n",
      "  model = cd_fast.enet_coordinate_descent(\n",
      "D:\\IntelliJ\\ml-stock-sent\\.venv\\Lib\\site-packages\\sklearn\\linear_model\\_coordinate_descent.py:695: ConvergenceWarning: Objective did not converge. You might want to increase the number of iterations, check the scale of the features or consider increasing regularisation. Duality gap: 7.794e-01, tolerance: 7.740e-02\n",
      "  model = cd_fast.enet_coordinate_descent(\n",
      "D:\\IntelliJ\\ml-stock-sent\\.venv\\Lib\\site-packages\\sklearn\\linear_model\\_coordinate_descent.py:695: ConvergenceWarning: Objective did not converge. You might want to increase the number of iterations, check the scale of the features or consider increasing regularisation. Duality gap: 5.499e-01, tolerance: 7.740e-02\n",
      "  model = cd_fast.enet_coordinate_descent(\n",
      "D:\\IntelliJ\\ml-stock-sent\\.venv\\Lib\\site-packages\\sklearn\\linear_model\\_coordinate_descent.py:695: ConvergenceWarning: Objective did not converge. You might want to increase the number of iterations, check the scale of the features or consider increasing regularisation. Duality gap: 8.066e+00, tolerance: 7.740e-02\n",
      "  model = cd_fast.enet_coordinate_descent(\n",
      "D:\\IntelliJ\\ml-stock-sent\\.venv\\Lib\\site-packages\\sklearn\\linear_model\\_coordinate_descent.py:695: ConvergenceWarning: Objective did not converge. You might want to increase the number of iterations, check the scale of the features or consider increasing regularisation. Duality gap: 1.341e+00, tolerance: 7.740e-02\n",
      "  model = cd_fast.enet_coordinate_descent(\n",
      "D:\\IntelliJ\\ml-stock-sent\\.venv\\Lib\\site-packages\\sklearn\\linear_model\\_coordinate_descent.py:695: ConvergenceWarning: Objective did not converge. You might want to increase the number of iterations, check the scale of the features or consider increasing regularisation. Duality gap: 1.154e+00, tolerance: 7.740e-02\n",
      "  model = cd_fast.enet_coordinate_descent(\n",
      "D:\\IntelliJ\\ml-stock-sent\\.venv\\Lib\\site-packages\\sklearn\\linear_model\\_coordinate_descent.py:695: ConvergenceWarning: Objective did not converge. You might want to increase the number of iterations, check the scale of the features or consider increasing regularisation. Duality gap: 1.457e+00, tolerance: 7.740e-02\n",
      "  model = cd_fast.enet_coordinate_descent(\n",
      "D:\\IntelliJ\\ml-stock-sent\\.venv\\Lib\\site-packages\\sklearn\\linear_model\\_coordinate_descent.py:695: ConvergenceWarning: Objective did not converge. You might want to increase the number of iterations, check the scale of the features or consider increasing regularisation. Duality gap: 7.368e+00, tolerance: 7.740e-02\n",
      "  model = cd_fast.enet_coordinate_descent(\n",
      "D:\\IntelliJ\\ml-stock-sent\\.venv\\Lib\\site-packages\\sklearn\\linear_model\\_coordinate_descent.py:695: ConvergenceWarning: Objective did not converge. You might want to increase the number of iterations, check the scale of the features or consider increasing regularisation. Duality gap: 1.937e+00, tolerance: 7.740e-02\n",
      "  model = cd_fast.enet_coordinate_descent(\n",
      "D:\\IntelliJ\\ml-stock-sent\\.venv\\Lib\\site-packages\\sklearn\\linear_model\\_coordinate_descent.py:695: ConvergenceWarning: Objective did not converge. You might want to increase the number of iterations, check the scale of the features or consider increasing regularisation. Duality gap: 3.594e+00, tolerance: 7.740e-02\n",
      "  model = cd_fast.enet_coordinate_descent(\n",
      "D:\\IntelliJ\\ml-stock-sent\\.venv\\Lib\\site-packages\\sklearn\\linear_model\\_coordinate_descent.py:695: ConvergenceWarning: Objective did not converge. You might want to increase the number of iterations, check the scale of the features or consider increasing regularisation. Duality gap: 3.614e-01, tolerance: 7.740e-02\n",
      "  model = cd_fast.enet_coordinate_descent(\n",
      "D:\\IntelliJ\\ml-stock-sent\\.venv\\Lib\\site-packages\\sklearn\\linear_model\\_coordinate_descent.py:695: ConvergenceWarning: Objective did not converge. You might want to increase the number of iterations, check the scale of the features or consider increasing regularisation. Duality gap: 1.341e+01, tolerance: 7.740e-02\n",
      "  model = cd_fast.enet_coordinate_descent(\n",
      "D:\\IntelliJ\\ml-stock-sent\\.venv\\Lib\\site-packages\\sklearn\\linear_model\\_coordinate_descent.py:695: ConvergenceWarning: Objective did not converge. You might want to increase the number of iterations, check the scale of the features or consider increasing regularisation. Duality gap: 5.569e-01, tolerance: 7.740e-02\n",
      "  model = cd_fast.enet_coordinate_descent(\n",
      "D:\\IntelliJ\\ml-stock-sent\\.venv\\Lib\\site-packages\\sklearn\\linear_model\\_coordinate_descent.py:695: ConvergenceWarning: Objective did not converge. You might want to increase the number of iterations, check the scale of the features or consider increasing regularisation. Duality gap: 3.124e+00, tolerance: 7.740e-02\n",
      "  model = cd_fast.enet_coordinate_descent(\n",
      "D:\\IntelliJ\\ml-stock-sent\\.venv\\Lib\\site-packages\\sklearn\\linear_model\\_coordinate_descent.py:695: ConvergenceWarning: Objective did not converge. You might want to increase the number of iterations, check the scale of the features or consider increasing regularisation. Duality gap: 7.744e+00, tolerance: 7.740e-02\n",
      "  model = cd_fast.enet_coordinate_descent(\n",
      "D:\\IntelliJ\\ml-stock-sent\\.venv\\Lib\\site-packages\\sklearn\\linear_model\\_coordinate_descent.py:695: ConvergenceWarning: Objective did not converge. You might want to increase the number of iterations, check the scale of the features or consider increasing regularisation. Duality gap: 2.839e-01, tolerance: 7.740e-02\n",
      "  model = cd_fast.enet_coordinate_descent(\n",
      "D:\\IntelliJ\\ml-stock-sent\\.venv\\Lib\\site-packages\\sklearn\\linear_model\\_coordinate_descent.py:695: ConvergenceWarning: Objective did not converge. You might want to increase the number of iterations, check the scale of the features or consider increasing regularisation. Duality gap: 1.224e+01, tolerance: 1.160e-01\n",
      "  model = cd_fast.enet_coordinate_descent(\n",
      "D:\\IntelliJ\\ml-stock-sent\\.venv\\Lib\\site-packages\\sklearn\\linear_model\\_coordinate_descent.py:695: ConvergenceWarning: Objective did not converge. You might want to increase the number of iterations, check the scale of the features or consider increasing regularisation. Duality gap: 2.744e+00, tolerance: 1.160e-01\n",
      "  model = cd_fast.enet_coordinate_descent(\n",
      "D:\\IntelliJ\\ml-stock-sent\\.venv\\Lib\\site-packages\\sklearn\\linear_model\\_coordinate_descent.py:695: ConvergenceWarning: Objective did not converge. You might want to increase the number of iterations, check the scale of the features or consider increasing regularisation. Duality gap: 4.487e-01, tolerance: 1.160e-01\n",
      "  model = cd_fast.enet_coordinate_descent(\n",
      "D:\\IntelliJ\\ml-stock-sent\\.venv\\Lib\\site-packages\\sklearn\\linear_model\\_coordinate_descent.py:695: ConvergenceWarning: Objective did not converge. You might want to increase the number of iterations, check the scale of the features or consider increasing regularisation. Duality gap: 4.914e+00, tolerance: 1.160e-01\n",
      "  model = cd_fast.enet_coordinate_descent(\n",
      "D:\\IntelliJ\\ml-stock-sent\\.venv\\Lib\\site-packages\\sklearn\\linear_model\\_coordinate_descent.py:695: ConvergenceWarning: Objective did not converge. You might want to increase the number of iterations, check the scale of the features or consider increasing regularisation. Duality gap: 2.292e+00, tolerance: 1.160e-01\n",
      "  model = cd_fast.enet_coordinate_descent(\n",
      "D:\\IntelliJ\\ml-stock-sent\\.venv\\Lib\\site-packages\\sklearn\\linear_model\\_coordinate_descent.py:695: ConvergenceWarning: Objective did not converge. You might want to increase the number of iterations, check the scale of the features or consider increasing regularisation. Duality gap: 1.628e+01, tolerance: 1.160e-01\n",
      "  model = cd_fast.enet_coordinate_descent(\n",
      "D:\\IntelliJ\\ml-stock-sent\\.venv\\Lib\\site-packages\\sklearn\\linear_model\\_coordinate_descent.py:695: ConvergenceWarning: Objective did not converge. You might want to increase the number of iterations, check the scale of the features or consider increasing regularisation. Duality gap: 1.414e+00, tolerance: 1.160e-01\n",
      "  model = cd_fast.enet_coordinate_descent(\n",
      "D:\\IntelliJ\\ml-stock-sent\\.venv\\Lib\\site-packages\\sklearn\\linear_model\\_coordinate_descent.py:695: ConvergenceWarning: Objective did not converge. You might want to increase the number of iterations, check the scale of the features or consider increasing regularisation. Duality gap: 9.995e+00, tolerance: 1.160e-01\n",
      "  model = cd_fast.enet_coordinate_descent(\n",
      "D:\\IntelliJ\\ml-stock-sent\\.venv\\Lib\\site-packages\\sklearn\\linear_model\\_coordinate_descent.py:695: ConvergenceWarning: Objective did not converge. You might want to increase the number of iterations, check the scale of the features or consider increasing regularisation. Duality gap: 1.469e+01, tolerance: 1.160e-01\n",
      "  model = cd_fast.enet_coordinate_descent(\n",
      "D:\\IntelliJ\\ml-stock-sent\\.venv\\Lib\\site-packages\\sklearn\\linear_model\\_coordinate_descent.py:695: ConvergenceWarning: Objective did not converge. You might want to increase the number of iterations, check the scale of the features or consider increasing regularisation. Duality gap: 6.288e-01, tolerance: 1.160e-01\n",
      "  model = cd_fast.enet_coordinate_descent(\n",
      "D:\\IntelliJ\\ml-stock-sent\\.venv\\Lib\\site-packages\\sklearn\\linear_model\\_coordinate_descent.py:695: ConvergenceWarning: Objective did not converge. You might want to increase the number of iterations, check the scale of the features or consider increasing regularisation. Duality gap: 6.876e+00, tolerance: 1.160e-01\n",
      "  model = cd_fast.enet_coordinate_descent(\n",
      "D:\\IntelliJ\\ml-stock-sent\\.venv\\Lib\\site-packages\\sklearn\\linear_model\\_coordinate_descent.py:695: ConvergenceWarning: Objective did not converge. You might want to increase the number of iterations, check the scale of the features or consider increasing regularisation. Duality gap: 1.495e+00, tolerance: 1.160e-01\n",
      "  model = cd_fast.enet_coordinate_descent(\n",
      "[I 2025-08-20 16:29:31,420] Trial 18 finished with value: 0.010171036794012439 and parameters: {'alpha': 0.0012690764532532696, 'l1_ratio': 0.6467613942262733, 'selection': 'random'}. Best is trial 16 with value: 0.009795888082670517.\n",
      "[I 2025-08-20 16:29:31,919] Trial 19 finished with value: 0.01006265606998325 and parameters: {'alpha': 0.004189623255906908, 'l1_ratio': 0.25494901919994295, 'selection': 'random'}. Best is trial 16 with value: 0.009795888082670517.\n",
      "[I 2025-08-20 16:29:32,050] Trial 20 finished with value: 0.009679050204814374 and parameters: {'alpha': 0.009956055660659066, 'l1_ratio': 0.8002246949192497, 'selection': 'random'}. Best is trial 20 with value: 0.009679050204814374.\n",
      "[I 2025-08-20 16:29:32,181] Trial 21 finished with value: 0.009677655486453862 and parameters: {'alpha': 0.009898109061621465, 'l1_ratio': 0.8095789183531145, 'selection': 'random'}. Best is trial 21 with value: 0.009677655486453862.\n",
      "[I 2025-08-20 16:29:32,398] Trial 22 finished with value: 0.009845853449383817 and parameters: {'alpha': 0.00526281444534713, 'l1_ratio': 0.8335572498953814, 'selection': 'random'}. Best is trial 21 with value: 0.009677655486453862.\n",
      "D:\\IntelliJ\\ml-stock-sent\\.venv\\Lib\\site-packages\\sklearn\\linear_model\\_coordinate_descent.py:695: ConvergenceWarning: Objective did not converge. You might want to increase the number of iterations, check the scale of the features or consider increasing regularisation. Duality gap: 3.420e+00, tolerance: 3.880e-02\n",
      "  model = cd_fast.enet_coordinate_descent(\n",
      "D:\\IntelliJ\\ml-stock-sent\\.venv\\Lib\\site-packages\\sklearn\\linear_model\\_coordinate_descent.py:695: ConvergenceWarning: Objective did not converge. You might want to increase the number of iterations, check the scale of the features or consider increasing regularisation. Duality gap: 1.370e+00, tolerance: 3.880e-02\n",
      "  model = cd_fast.enet_coordinate_descent(\n",
      "D:\\IntelliJ\\ml-stock-sent\\.venv\\Lib\\site-packages\\sklearn\\linear_model\\_coordinate_descent.py:695: ConvergenceWarning: Objective did not converge. You might want to increase the number of iterations, check the scale of the features or consider increasing regularisation. Duality gap: 1.345e+01, tolerance: 3.880e-02\n",
      "  model = cd_fast.enet_coordinate_descent(\n",
      "D:\\IntelliJ\\ml-stock-sent\\.venv\\Lib\\site-packages\\sklearn\\linear_model\\_coordinate_descent.py:695: ConvergenceWarning: Objective did not converge. You might want to increase the number of iterations, check the scale of the features or consider increasing regularisation. Duality gap: 2.249e+00, tolerance: 3.880e-02\n",
      "  model = cd_fast.enet_coordinate_descent(\n",
      "D:\\IntelliJ\\ml-stock-sent\\.venv\\Lib\\site-packages\\sklearn\\linear_model\\_coordinate_descent.py:695: ConvergenceWarning: Objective did not converge. You might want to increase the number of iterations, check the scale of the features or consider increasing regularisation. Duality gap: 4.591e-01, tolerance: 3.880e-02\n",
      "  model = cd_fast.enet_coordinate_descent(\n",
      "D:\\IntelliJ\\ml-stock-sent\\.venv\\Lib\\site-packages\\sklearn\\linear_model\\_coordinate_descent.py:695: ConvergenceWarning: Objective did not converge. You might want to increase the number of iterations, check the scale of the features or consider increasing regularisation. Duality gap: 1.029e+01, tolerance: 3.880e-02\n",
      "  model = cd_fast.enet_coordinate_descent(\n",
      "D:\\IntelliJ\\ml-stock-sent\\.venv\\Lib\\site-packages\\sklearn\\linear_model\\_coordinate_descent.py:695: ConvergenceWarning: Objective did not converge. You might want to increase the number of iterations, check the scale of the features or consider increasing regularisation. Duality gap: 2.516e+00, tolerance: 3.880e-02\n",
      "  model = cd_fast.enet_coordinate_descent(\n",
      "D:\\IntelliJ\\ml-stock-sent\\.venv\\Lib\\site-packages\\sklearn\\linear_model\\_coordinate_descent.py:695: ConvergenceWarning: Objective did not converge. You might want to increase the number of iterations, check the scale of the features or consider increasing regularisation. Duality gap: 1.866e+00, tolerance: 3.880e-02\n",
      "  model = cd_fast.enet_coordinate_descent(\n",
      "D:\\IntelliJ\\ml-stock-sent\\.venv\\Lib\\site-packages\\sklearn\\linear_model\\_coordinate_descent.py:695: ConvergenceWarning: Objective did not converge. You might want to increase the number of iterations, check the scale of the features or consider increasing regularisation. Duality gap: 1.044e+00, tolerance: 3.880e-02\n",
      "  model = cd_fast.enet_coordinate_descent(\n",
      "D:\\IntelliJ\\ml-stock-sent\\.venv\\Lib\\site-packages\\sklearn\\linear_model\\_coordinate_descent.py:695: ConvergenceWarning: Objective did not converge. You might want to increase the number of iterations, check the scale of the features or consider increasing regularisation. Duality gap: 4.246e-01, tolerance: 3.880e-02\n",
      "  model = cd_fast.enet_coordinate_descent(\n",
      "D:\\IntelliJ\\ml-stock-sent\\.venv\\Lib\\site-packages\\sklearn\\linear_model\\_coordinate_descent.py:695: ConvergenceWarning: Objective did not converge. You might want to increase the number of iterations, check the scale of the features or consider increasing regularisation. Duality gap: 9.170e-01, tolerance: 3.880e-02\n",
      "  model = cd_fast.enet_coordinate_descent(\n",
      "D:\\IntelliJ\\ml-stock-sent\\.venv\\Lib\\site-packages\\sklearn\\linear_model\\_coordinate_descent.py:695: ConvergenceWarning: Objective did not converge. You might want to increase the number of iterations, check the scale of the features or consider increasing regularisation. Duality gap: 2.014e+00, tolerance: 3.880e-02\n",
      "  model = cd_fast.enet_coordinate_descent(\n",
      "D:\\IntelliJ\\ml-stock-sent\\.venv\\Lib\\site-packages\\sklearn\\linear_model\\_coordinate_descent.py:695: ConvergenceWarning: Objective did not converge. You might want to increase the number of iterations, check the scale of the features or consider increasing regularisation. Duality gap: 3.519e-01, tolerance: 7.740e-02\n",
      "  model = cd_fast.enet_coordinate_descent(\n",
      "D:\\IntelliJ\\ml-stock-sent\\.venv\\Lib\\site-packages\\sklearn\\linear_model\\_coordinate_descent.py:695: ConvergenceWarning: Objective did not converge. You might want to increase the number of iterations, check the scale of the features or consider increasing regularisation. Duality gap: 6.124e+00, tolerance: 7.740e-02\n",
      "  model = cd_fast.enet_coordinate_descent(\n",
      "D:\\IntelliJ\\ml-stock-sent\\.venv\\Lib\\site-packages\\sklearn\\linear_model\\_coordinate_descent.py:695: ConvergenceWarning: Objective did not converge. You might want to increase the number of iterations, check the scale of the features or consider increasing regularisation. Duality gap: 2.794e-01, tolerance: 7.740e-02\n",
      "  model = cd_fast.enet_coordinate_descent(\n",
      "D:\\IntelliJ\\ml-stock-sent\\.venv\\Lib\\site-packages\\sklearn\\linear_model\\_coordinate_descent.py:695: ConvergenceWarning: Objective did not converge. You might want to increase the number of iterations, check the scale of the features or consider increasing regularisation. Duality gap: 3.441e+00, tolerance: 7.740e-02\n",
      "  model = cd_fast.enet_coordinate_descent(\n",
      "D:\\IntelliJ\\ml-stock-sent\\.venv\\Lib\\site-packages\\sklearn\\linear_model\\_coordinate_descent.py:695: ConvergenceWarning: Objective did not converge. You might want to increase the number of iterations, check the scale of the features or consider increasing regularisation. Duality gap: 5.085e-01, tolerance: 7.740e-02\n",
      "  model = cd_fast.enet_coordinate_descent(\n",
      "D:\\IntelliJ\\ml-stock-sent\\.venv\\Lib\\site-packages\\sklearn\\linear_model\\_coordinate_descent.py:695: ConvergenceWarning: Objective did not converge. You might want to increase the number of iterations, check the scale of the features or consider increasing regularisation. Duality gap: 2.203e+00, tolerance: 7.740e-02\n",
      "  model = cd_fast.enet_coordinate_descent(\n",
      "D:\\IntelliJ\\ml-stock-sent\\.venv\\Lib\\site-packages\\sklearn\\linear_model\\_coordinate_descent.py:695: ConvergenceWarning: Objective did not converge. You might want to increase the number of iterations, check the scale of the features or consider increasing regularisation. Duality gap: 3.168e-01, tolerance: 7.740e-02\n",
      "  model = cd_fast.enet_coordinate_descent(\n",
      "D:\\IntelliJ\\ml-stock-sent\\.venv\\Lib\\site-packages\\sklearn\\linear_model\\_coordinate_descent.py:695: ConvergenceWarning: Objective did not converge. You might want to increase the number of iterations, check the scale of the features or consider increasing regularisation. Duality gap: 1.176e+01, tolerance: 7.740e-02\n",
      "  model = cd_fast.enet_coordinate_descent(\n",
      "D:\\IntelliJ\\ml-stock-sent\\.venv\\Lib\\site-packages\\sklearn\\linear_model\\_coordinate_descent.py:695: ConvergenceWarning: Objective did not converge. You might want to increase the number of iterations, check the scale of the features or consider increasing regularisation. Duality gap: 3.360e-01, tolerance: 7.740e-02\n",
      "  model = cd_fast.enet_coordinate_descent(\n",
      "D:\\IntelliJ\\ml-stock-sent\\.venv\\Lib\\site-packages\\sklearn\\linear_model\\_coordinate_descent.py:695: ConvergenceWarning: Objective did not converge. You might want to increase the number of iterations, check the scale of the features or consider increasing regularisation. Duality gap: 3.209e-01, tolerance: 7.740e-02\n",
      "  model = cd_fast.enet_coordinate_descent(\n",
      "D:\\IntelliJ\\ml-stock-sent\\.venv\\Lib\\site-packages\\sklearn\\linear_model\\_coordinate_descent.py:695: ConvergenceWarning: Objective did not converge. You might want to increase the number of iterations, check the scale of the features or consider increasing regularisation. Duality gap: 4.118e+00, tolerance: 7.740e-02\n",
      "  model = cd_fast.enet_coordinate_descent(\n",
      "D:\\IntelliJ\\ml-stock-sent\\.venv\\Lib\\site-packages\\sklearn\\linear_model\\_coordinate_descent.py:695: ConvergenceWarning: Objective did not converge. You might want to increase the number of iterations, check the scale of the features or consider increasing regularisation. Duality gap: 1.321e+01, tolerance: 1.160e-01\n",
      "  model = cd_fast.enet_coordinate_descent(\n",
      "D:\\IntelliJ\\ml-stock-sent\\.venv\\Lib\\site-packages\\sklearn\\linear_model\\_coordinate_descent.py:695: ConvergenceWarning: Objective did not converge. You might want to increase the number of iterations, check the scale of the features or consider increasing regularisation. Duality gap: 2.536e+00, tolerance: 1.160e-01\n",
      "  model = cd_fast.enet_coordinate_descent(\n",
      "D:\\IntelliJ\\ml-stock-sent\\.venv\\Lib\\site-packages\\sklearn\\linear_model\\_coordinate_descent.py:695: ConvergenceWarning: Objective did not converge. You might want to increase the number of iterations, check the scale of the features or consider increasing regularisation. Duality gap: 1.892e+00, tolerance: 1.160e-01\n",
      "  model = cd_fast.enet_coordinate_descent(\n",
      "D:\\IntelliJ\\ml-stock-sent\\.venv\\Lib\\site-packages\\sklearn\\linear_model\\_coordinate_descent.py:695: ConvergenceWarning: Objective did not converge. You might want to increase the number of iterations, check the scale of the features or consider increasing regularisation. Duality gap: 4.037e-01, tolerance: 1.160e-01\n",
      "  model = cd_fast.enet_coordinate_descent(\n",
      "D:\\IntelliJ\\ml-stock-sent\\.venv\\Lib\\site-packages\\sklearn\\linear_model\\_coordinate_descent.py:695: ConvergenceWarning: Objective did not converge. You might want to increase the number of iterations, check the scale of the features or consider increasing regularisation. Duality gap: 9.168e+00, tolerance: 1.160e-01\n",
      "  model = cd_fast.enet_coordinate_descent(\n",
      "D:\\IntelliJ\\ml-stock-sent\\.venv\\Lib\\site-packages\\sklearn\\linear_model\\_coordinate_descent.py:695: ConvergenceWarning: Objective did not converge. You might want to increase the number of iterations, check the scale of the features or consider increasing regularisation. Duality gap: 7.493e+00, tolerance: 1.160e-01\n",
      "  model = cd_fast.enet_coordinate_descent(\n",
      "D:\\IntelliJ\\ml-stock-sent\\.venv\\Lib\\site-packages\\sklearn\\linear_model\\_coordinate_descent.py:695: ConvergenceWarning: Objective did not converge. You might want to increase the number of iterations, check the scale of the features or consider increasing regularisation. Duality gap: 1.146e+01, tolerance: 1.160e-01\n",
      "  model = cd_fast.enet_coordinate_descent(\n",
      "D:\\IntelliJ\\ml-stock-sent\\.venv\\Lib\\site-packages\\sklearn\\linear_model\\_coordinate_descent.py:695: ConvergenceWarning: Objective did not converge. You might want to increase the number of iterations, check the scale of the features or consider increasing regularisation. Duality gap: 1.845e+00, tolerance: 1.160e-01\n",
      "  model = cd_fast.enet_coordinate_descent(\n",
      "[I 2025-08-20 16:29:33,310] Trial 23 finished with value: 0.01014410653219021 and parameters: {'alpha': 0.0013577274260067336, 'l1_ratio': 0.8261431285889681, 'selection': 'random'}. Best is trial 21 with value: 0.009677655486453862.\n",
      "[I 2025-08-20 16:29:33,632] Trial 24 finished with value: 0.009943077776046931 and parameters: {'alpha': 0.004493353067573287, 'l1_ratio': 0.6168309766996352, 'selection': 'random'}. Best is trial 21 with value: 0.009677655486453862.\n",
      "D:\\IntelliJ\\ml-stock-sent\\.venv\\Lib\\site-packages\\sklearn\\linear_model\\_coordinate_descent.py:695: ConvergenceWarning: Objective did not converge. You might want to increase the number of iterations, check the scale of the features or consider increasing regularisation. Duality gap: 2.594e+00, tolerance: 3.880e-02\n",
      "  model = cd_fast.enet_coordinate_descent(\n",
      "D:\\IntelliJ\\ml-stock-sent\\.venv\\Lib\\site-packages\\sklearn\\linear_model\\_coordinate_descent.py:695: ConvergenceWarning: Objective did not converge. You might want to increase the number of iterations, check the scale of the features or consider increasing regularisation. Duality gap: 1.074e+00, tolerance: 3.880e-02\n",
      "  model = cd_fast.enet_coordinate_descent(\n",
      "D:\\IntelliJ\\ml-stock-sent\\.venv\\Lib\\site-packages\\sklearn\\linear_model\\_coordinate_descent.py:695: ConvergenceWarning: Objective did not converge. You might want to increase the number of iterations, check the scale of the features or consider increasing regularisation. Duality gap: 1.056e+01, tolerance: 3.880e-02\n",
      "  model = cd_fast.enet_coordinate_descent(\n",
      "D:\\IntelliJ\\ml-stock-sent\\.venv\\Lib\\site-packages\\sklearn\\linear_model\\_coordinate_descent.py:695: ConvergenceWarning: Objective did not converge. You might want to increase the number of iterations, check the scale of the features or consider increasing regularisation. Duality gap: 2.014e+00, tolerance: 3.880e-02\n",
      "  model = cd_fast.enet_coordinate_descent(\n",
      "D:\\IntelliJ\\ml-stock-sent\\.venv\\Lib\\site-packages\\sklearn\\linear_model\\_coordinate_descent.py:695: ConvergenceWarning: Objective did not converge. You might want to increase the number of iterations, check the scale of the features or consider increasing regularisation. Duality gap: 3.516e-01, tolerance: 3.880e-02\n",
      "  model = cd_fast.enet_coordinate_descent(\n",
      "D:\\IntelliJ\\ml-stock-sent\\.venv\\Lib\\site-packages\\sklearn\\linear_model\\_coordinate_descent.py:695: ConvergenceWarning: Objective did not converge. You might want to increase the number of iterations, check the scale of the features or consider increasing regularisation. Duality gap: 8.325e+00, tolerance: 3.880e-02\n",
      "  model = cd_fast.enet_coordinate_descent(\n",
      "D:\\IntelliJ\\ml-stock-sent\\.venv\\Lib\\site-packages\\sklearn\\linear_model\\_coordinate_descent.py:695: ConvergenceWarning: Objective did not converge. You might want to increase the number of iterations, check the scale of the features or consider increasing regularisation. Duality gap: 1.928e+00, tolerance: 3.880e-02\n",
      "  model = cd_fast.enet_coordinate_descent(\n",
      "D:\\IntelliJ\\ml-stock-sent\\.venv\\Lib\\site-packages\\sklearn\\linear_model\\_coordinate_descent.py:695: ConvergenceWarning: Objective did not converge. You might want to increase the number of iterations, check the scale of the features or consider increasing regularisation. Duality gap: 1.342e+00, tolerance: 3.880e-02\n",
      "  model = cd_fast.enet_coordinate_descent(\n",
      "D:\\IntelliJ\\ml-stock-sent\\.venv\\Lib\\site-packages\\sklearn\\linear_model\\_coordinate_descent.py:695: ConvergenceWarning: Objective did not converge. You might want to increase the number of iterations, check the scale of the features or consider increasing regularisation. Duality gap: 8.051e-01, tolerance: 3.880e-02\n",
      "  model = cd_fast.enet_coordinate_descent(\n",
      "D:\\IntelliJ\\ml-stock-sent\\.venv\\Lib\\site-packages\\sklearn\\linear_model\\_coordinate_descent.py:695: ConvergenceWarning: Objective did not converge. You might want to increase the number of iterations, check the scale of the features or consider increasing regularisation. Duality gap: 2.720e-01, tolerance: 3.880e-02\n",
      "  model = cd_fast.enet_coordinate_descent(\n",
      "D:\\IntelliJ\\ml-stock-sent\\.venv\\Lib\\site-packages\\sklearn\\linear_model\\_coordinate_descent.py:695: ConvergenceWarning: Objective did not converge. You might want to increase the number of iterations, check the scale of the features or consider increasing regularisation. Duality gap: 6.207e-01, tolerance: 3.880e-02\n",
      "  model = cd_fast.enet_coordinate_descent(\n",
      "D:\\IntelliJ\\ml-stock-sent\\.venv\\Lib\\site-packages\\sklearn\\linear_model\\_coordinate_descent.py:695: ConvergenceWarning: Objective did not converge. You might want to increase the number of iterations, check the scale of the features or consider increasing regularisation. Duality gap: 1.550e+00, tolerance: 3.880e-02\n",
      "  model = cd_fast.enet_coordinate_descent(\n",
      "D:\\IntelliJ\\ml-stock-sent\\.venv\\Lib\\site-packages\\sklearn\\linear_model\\_coordinate_descent.py:695: ConvergenceWarning: Objective did not converge. You might want to increase the number of iterations, check the scale of the features or consider increasing regularisation. Duality gap: 2.523e-01, tolerance: 7.740e-02\n",
      "  model = cd_fast.enet_coordinate_descent(\n",
      "D:\\IntelliJ\\ml-stock-sent\\.venv\\Lib\\site-packages\\sklearn\\linear_model\\_coordinate_descent.py:695: ConvergenceWarning: Objective did not converge. You might want to increase the number of iterations, check the scale of the features or consider increasing regularisation. Duality gap: 5.494e+00, tolerance: 7.740e-02\n",
      "  model = cd_fast.enet_coordinate_descent(\n",
      "D:\\IntelliJ\\ml-stock-sent\\.venv\\Lib\\site-packages\\sklearn\\linear_model\\_coordinate_descent.py:695: ConvergenceWarning: Objective did not converge. You might want to increase the number of iterations, check the scale of the features or consider increasing regularisation. Duality gap: 2.350e-01, tolerance: 7.740e-02\n",
      "  model = cd_fast.enet_coordinate_descent(\n",
      "D:\\IntelliJ\\ml-stock-sent\\.venv\\Lib\\site-packages\\sklearn\\linear_model\\_coordinate_descent.py:695: ConvergenceWarning: Objective did not converge. You might want to increase the number of iterations, check the scale of the features or consider increasing regularisation. Duality gap: 2.432e+00, tolerance: 7.740e-02\n",
      "  model = cd_fast.enet_coordinate_descent(\n",
      "D:\\IntelliJ\\ml-stock-sent\\.venv\\Lib\\site-packages\\sklearn\\linear_model\\_coordinate_descent.py:695: ConvergenceWarning: Objective did not converge. You might want to increase the number of iterations, check the scale of the features or consider increasing regularisation. Duality gap: 3.711e-01, tolerance: 7.740e-02\n",
      "  model = cd_fast.enet_coordinate_descent(\n",
      "D:\\IntelliJ\\ml-stock-sent\\.venv\\Lib\\site-packages\\sklearn\\linear_model\\_coordinate_descent.py:695: ConvergenceWarning: Objective did not converge. You might want to increase the number of iterations, check the scale of the features or consider increasing regularisation. Duality gap: 1.372e+00, tolerance: 7.740e-02\n",
      "  model = cd_fast.enet_coordinate_descent(\n",
      "D:\\IntelliJ\\ml-stock-sent\\.venv\\Lib\\site-packages\\sklearn\\linear_model\\_coordinate_descent.py:695: ConvergenceWarning: Objective did not converge. You might want to increase the number of iterations, check the scale of the features or consider increasing regularisation. Duality gap: 8.916e+00, tolerance: 7.740e-02\n",
      "  model = cd_fast.enet_coordinate_descent(\n",
      "D:\\IntelliJ\\ml-stock-sent\\.venv\\Lib\\site-packages\\sklearn\\linear_model\\_coordinate_descent.py:695: ConvergenceWarning: Objective did not converge. You might want to increase the number of iterations, check the scale of the features or consider increasing regularisation. Duality gap: 2.761e-01, tolerance: 7.740e-02\n",
      "  model = cd_fast.enet_coordinate_descent(\n",
      "D:\\IntelliJ\\ml-stock-sent\\.venv\\Lib\\site-packages\\sklearn\\linear_model\\_coordinate_descent.py:695: ConvergenceWarning: Objective did not converge. You might want to increase the number of iterations, check the scale of the features or consider increasing regularisation. Duality gap: 3.204e+00, tolerance: 7.740e-02\n",
      "  model = cd_fast.enet_coordinate_descent(\n",
      "D:\\IntelliJ\\ml-stock-sent\\.venv\\Lib\\site-packages\\sklearn\\linear_model\\_coordinate_descent.py:695: ConvergenceWarning: Objective did not converge. You might want to increase the number of iterations, check the scale of the features or consider increasing regularisation. Duality gap: 1.160e+01, tolerance: 1.160e-01\n",
      "  model = cd_fast.enet_coordinate_descent(\n",
      "D:\\IntelliJ\\ml-stock-sent\\.venv\\Lib\\site-packages\\sklearn\\linear_model\\_coordinate_descent.py:695: ConvergenceWarning: Objective did not converge. You might want to increase the number of iterations, check the scale of the features or consider increasing regularisation. Duality gap: 1.988e+00, tolerance: 1.160e-01\n",
      "  model = cd_fast.enet_coordinate_descent(\n",
      "D:\\IntelliJ\\ml-stock-sent\\.venv\\Lib\\site-packages\\sklearn\\linear_model\\_coordinate_descent.py:695: ConvergenceWarning: Objective did not converge. You might want to increase the number of iterations, check the scale of the features or consider increasing regularisation. Duality gap: 1.590e+00, tolerance: 1.160e-01\n",
      "  model = cd_fast.enet_coordinate_descent(\n",
      "D:\\IntelliJ\\ml-stock-sent\\.venv\\Lib\\site-packages\\sklearn\\linear_model\\_coordinate_descent.py:695: ConvergenceWarning: Objective did not converge. You might want to increase the number of iterations, check the scale of the features or consider increasing regularisation. Duality gap: 3.363e-01, tolerance: 1.160e-01\n",
      "  model = cd_fast.enet_coordinate_descent(\n",
      "D:\\IntelliJ\\ml-stock-sent\\.venv\\Lib\\site-packages\\sklearn\\linear_model\\_coordinate_descent.py:695: ConvergenceWarning: Objective did not converge. You might want to increase the number of iterations, check the scale of the features or consider increasing regularisation. Duality gap: 6.877e+00, tolerance: 1.160e-01\n",
      "  model = cd_fast.enet_coordinate_descent(\n",
      "D:\\IntelliJ\\ml-stock-sent\\.venv\\Lib\\site-packages\\sklearn\\linear_model\\_coordinate_descent.py:695: ConvergenceWarning: Objective did not converge. You might want to increase the number of iterations, check the scale of the features or consider increasing regularisation. Duality gap: 5.293e+00, tolerance: 1.160e-01\n",
      "  model = cd_fast.enet_coordinate_descent(\n",
      "D:\\IntelliJ\\ml-stock-sent\\.venv\\Lib\\site-packages\\sklearn\\linear_model\\_coordinate_descent.py:695: ConvergenceWarning: Objective did not converge. You might want to increase the number of iterations, check the scale of the features or consider increasing regularisation. Duality gap: 8.542e+00, tolerance: 1.160e-01\n",
      "  model = cd_fast.enet_coordinate_descent(\n",
      "D:\\IntelliJ\\ml-stock-sent\\.venv\\Lib\\site-packages\\sklearn\\linear_model\\_coordinate_descent.py:695: ConvergenceWarning: Objective did not converge. You might want to increase the number of iterations, check the scale of the features or consider increasing regularisation. Duality gap: 1.470e+00, tolerance: 1.160e-01\n",
      "  model = cd_fast.enet_coordinate_descent(\n",
      "[I 2025-08-20 16:29:34,590] Trial 25 finished with value: 0.010141214902605002 and parameters: {'alpha': 0.0014316209975813296, 'l1_ratio': 0.7755967954423949, 'selection': 'random'}. Best is trial 21 with value: 0.009677655486453862.\n",
      "[I 2025-08-20 16:29:34,799] Trial 26 finished with value: 0.00989607202528788 and parameters: {'alpha': 0.0057203040477301105, 'l1_ratio': 0.5825361328690202, 'selection': 'cyclic'}. Best is trial 21 with value: 0.009677655486453862.\n",
      "D:\\IntelliJ\\ml-stock-sent\\.venv\\Lib\\site-packages\\sklearn\\linear_model\\_coordinate_descent.py:695: ConvergenceWarning: Objective did not converge. You might want to increase the number of iterations, check the scale of the features or consider increasing regularisation. Duality gap: 1.279e-01, tolerance: 3.880e-02\n",
      "  model = cd_fast.enet_coordinate_descent(\n",
      "D:\\IntelliJ\\ml-stock-sent\\.venv\\Lib\\site-packages\\sklearn\\linear_model\\_coordinate_descent.py:695: ConvergenceWarning: Objective did not converge. You might want to increase the number of iterations, check the scale of the features or consider increasing regularisation. Duality gap: 8.987e-01, tolerance: 3.880e-02\n",
      "  model = cd_fast.enet_coordinate_descent(\n",
      "D:\\IntelliJ\\ml-stock-sent\\.venv\\Lib\\site-packages\\sklearn\\linear_model\\_coordinate_descent.py:695: ConvergenceWarning: Objective did not converge. You might want to increase the number of iterations, check the scale of the features or consider increasing regularisation. Duality gap: 7.212e-01, tolerance: 3.880e-02\n",
      "  model = cd_fast.enet_coordinate_descent(\n",
      "D:\\IntelliJ\\ml-stock-sent\\.venv\\Lib\\site-packages\\sklearn\\linear_model\\_coordinate_descent.py:695: ConvergenceWarning: Objective did not converge. You might want to increase the number of iterations, check the scale of the features or consider increasing regularisation. Duality gap: 2.697e-01, tolerance: 3.880e-02\n",
      "  model = cd_fast.enet_coordinate_descent(\n",
      "D:\\IntelliJ\\ml-stock-sent\\.venv\\Lib\\site-packages\\sklearn\\linear_model\\_coordinate_descent.py:695: ConvergenceWarning: Objective did not converge. You might want to increase the number of iterations, check the scale of the features or consider increasing regularisation. Duality gap: 5.015e-01, tolerance: 7.740e-02\n",
      "  model = cd_fast.enet_coordinate_descent(\n",
      "D:\\IntelliJ\\ml-stock-sent\\.venv\\Lib\\site-packages\\sklearn\\linear_model\\_coordinate_descent.py:695: ConvergenceWarning: Objective did not converge. You might want to increase the number of iterations, check the scale of the features or consider increasing regularisation. Duality gap: 2.380e-01, tolerance: 7.740e-02\n",
      "  model = cd_fast.enet_coordinate_descent(\n",
      "D:\\IntelliJ\\ml-stock-sent\\.venv\\Lib\\site-packages\\sklearn\\linear_model\\_coordinate_descent.py:695: ConvergenceWarning: Objective did not converge. You might want to increase the number of iterations, check the scale of the features or consider increasing regularisation. Duality gap: 7.033e-01, tolerance: 7.740e-02\n",
      "  model = cd_fast.enet_coordinate_descent(\n",
      "[I 2025-08-20 16:29:35,389] Trial 27 finished with value: 0.010034552608601572 and parameters: {'alpha': 0.002283510801910281, 'l1_ratio': 0.9032732761739438, 'selection': 'random'}. Best is trial 21 with value: 0.009677655486453862.\n",
      "[I 2025-08-20 16:29:35,547] Trial 28 finished with value: 0.009726798392879798 and parameters: {'alpha': 0.009180520181243618, 'l1_ratio': 0.728787832932381, 'selection': 'random'}. Best is trial 21 with value: 0.009677655486453862.\n",
      "D:\\IntelliJ\\ml-stock-sent\\.venv\\Lib\\site-packages\\sklearn\\linear_model\\_coordinate_descent.py:695: ConvergenceWarning: Objective did not converge. You might want to increase the number of iterations, check the scale of the features or consider increasing regularisation. Duality gap: 1.881e+01, tolerance: 3.880e-02\n",
      "  model = cd_fast.enet_coordinate_descent(\n",
      "D:\\IntelliJ\\ml-stock-sent\\.venv\\Lib\\site-packages\\sklearn\\linear_model\\_coordinate_descent.py:695: ConvergenceWarning: Objective did not converge. You might want to increase the number of iterations, check the scale of the features or consider increasing regularisation. Duality gap: 5.060e+00, tolerance: 3.880e-02\n",
      "  model = cd_fast.enet_coordinate_descent(\n",
      "D:\\IntelliJ\\ml-stock-sent\\.venv\\Lib\\site-packages\\sklearn\\linear_model\\_coordinate_descent.py:695: ConvergenceWarning: Objective did not converge. You might want to increase the number of iterations, check the scale of the features or consider increasing regularisation. Duality gap: 6.139e-01, tolerance: 3.880e-02\n",
      "  model = cd_fast.enet_coordinate_descent(\n",
      "D:\\IntelliJ\\ml-stock-sent\\.venv\\Lib\\site-packages\\sklearn\\linear_model\\_coordinate_descent.py:695: ConvergenceWarning: Objective did not converge. You might want to increase the number of iterations, check the scale of the features or consider increasing regularisation. Duality gap: 7.730e-02, tolerance: 3.880e-02\n",
      "  model = cd_fast.enet_coordinate_descent(\n",
      "D:\\IntelliJ\\ml-stock-sent\\.venv\\Lib\\site-packages\\sklearn\\linear_model\\_coordinate_descent.py:695: ConvergenceWarning: Objective did not converge. You might want to increase the number of iterations, check the scale of the features or consider increasing regularisation. Duality gap: 2.777e+00, tolerance: 3.880e-02\n",
      "  model = cd_fast.enet_coordinate_descent(\n",
      "D:\\IntelliJ\\ml-stock-sent\\.venv\\Lib\\site-packages\\sklearn\\linear_model\\_coordinate_descent.py:695: ConvergenceWarning: Objective did not converge. You might want to increase the number of iterations, check the scale of the features or consider increasing regularisation. Duality gap: 3.452e+01, tolerance: 3.880e-02\n",
      "  model = cd_fast.enet_coordinate_descent(\n",
      "D:\\IntelliJ\\ml-stock-sent\\.venv\\Lib\\site-packages\\sklearn\\linear_model\\_coordinate_descent.py:695: ConvergenceWarning: Objective did not converge. You might want to increase the number of iterations, check the scale of the features or consider increasing regularisation. Duality gap: 2.298e-01, tolerance: 3.880e-02\n",
      "  model = cd_fast.enet_coordinate_descent(\n",
      "D:\\IntelliJ\\ml-stock-sent\\.venv\\Lib\\site-packages\\sklearn\\linear_model\\_coordinate_descent.py:695: ConvergenceWarning: Objective did not converge. You might want to increase the number of iterations, check the scale of the features or consider increasing regularisation. Duality gap: 7.023e-02, tolerance: 3.880e-02\n",
      "  model = cd_fast.enet_coordinate_descent(\n",
      "D:\\IntelliJ\\ml-stock-sent\\.venv\\Lib\\site-packages\\sklearn\\linear_model\\_coordinate_descent.py:695: ConvergenceWarning: Objective did not converge. You might want to increase the number of iterations, check the scale of the features or consider increasing regularisation. Duality gap: 2.923e+00, tolerance: 3.880e-02\n",
      "  model = cd_fast.enet_coordinate_descent(\n",
      "D:\\IntelliJ\\ml-stock-sent\\.venv\\Lib\\site-packages\\sklearn\\linear_model\\_coordinate_descent.py:695: ConvergenceWarning: Objective did not converge. You might want to increase the number of iterations, check the scale of the features or consider increasing regularisation. Duality gap: 9.054e+00, tolerance: 3.880e-02\n",
      "  model = cd_fast.enet_coordinate_descent(\n",
      "D:\\IntelliJ\\ml-stock-sent\\.venv\\Lib\\site-packages\\sklearn\\linear_model\\_coordinate_descent.py:695: ConvergenceWarning: Objective did not converge. You might want to increase the number of iterations, check the scale of the features or consider increasing regularisation. Duality gap: 5.484e-01, tolerance: 3.880e-02\n",
      "  model = cd_fast.enet_coordinate_descent(\n",
      "D:\\IntelliJ\\ml-stock-sent\\.venv\\Lib\\site-packages\\sklearn\\linear_model\\_coordinate_descent.py:695: ConvergenceWarning: Objective did not converge. You might want to increase the number of iterations, check the scale of the features or consider increasing regularisation. Duality gap: 1.410e-01, tolerance: 3.880e-02\n",
      "  model = cd_fast.enet_coordinate_descent(\n",
      "D:\\IntelliJ\\ml-stock-sent\\.venv\\Lib\\site-packages\\sklearn\\linear_model\\_coordinate_descent.py:695: ConvergenceWarning: Objective did not converge. You might want to increase the number of iterations, check the scale of the features or consider increasing regularisation. Duality gap: 1.703e+01, tolerance: 3.880e-02\n",
      "  model = cd_fast.enet_coordinate_descent(\n",
      "D:\\IntelliJ\\ml-stock-sent\\.venv\\Lib\\site-packages\\sklearn\\linear_model\\_coordinate_descent.py:695: ConvergenceWarning: Objective did not converge. You might want to increase the number of iterations, check the scale of the features or consider increasing regularisation. Duality gap: 2.704e+01, tolerance: 3.880e-02\n",
      "  model = cd_fast.enet_coordinate_descent(\n",
      "D:\\IntelliJ\\ml-stock-sent\\.venv\\Lib\\site-packages\\sklearn\\linear_model\\_coordinate_descent.py:695: ConvergenceWarning: Objective did not converge. You might want to increase the number of iterations, check the scale of the features or consider increasing regularisation. Duality gap: 4.899e-02, tolerance: 3.880e-02\n",
      "  model = cd_fast.enet_coordinate_descent(\n",
      "D:\\IntelliJ\\ml-stock-sent\\.venv\\Lib\\site-packages\\sklearn\\linear_model\\_coordinate_descent.py:695: ConvergenceWarning: Objective did not converge. You might want to increase the number of iterations, check the scale of the features or consider increasing regularisation. Duality gap: 1.602e+00, tolerance: 3.880e-02\n",
      "  model = cd_fast.enet_coordinate_descent(\n",
      "D:\\IntelliJ\\ml-stock-sent\\.venv\\Lib\\site-packages\\sklearn\\linear_model\\_coordinate_descent.py:695: ConvergenceWarning: Objective did not converge. You might want to increase the number of iterations, check the scale of the features or consider increasing regularisation. Duality gap: 4.452e+00, tolerance: 3.880e-02\n",
      "  model = cd_fast.enet_coordinate_descent(\n",
      "D:\\IntelliJ\\ml-stock-sent\\.venv\\Lib\\site-packages\\sklearn\\linear_model\\_coordinate_descent.py:695: ConvergenceWarning: Objective did not converge. You might want to increase the number of iterations, check the scale of the features or consider increasing regularisation. Duality gap: 1.614e+00, tolerance: 3.880e-02\n",
      "  model = cd_fast.enet_coordinate_descent(\n",
      "D:\\IntelliJ\\ml-stock-sent\\.venv\\Lib\\site-packages\\sklearn\\linear_model\\_coordinate_descent.py:695: ConvergenceWarning: Objective did not converge. You might want to increase the number of iterations, check the scale of the features or consider increasing regularisation. Duality gap: 1.098e+01, tolerance: 3.880e-02\n",
      "  model = cd_fast.enet_coordinate_descent(\n",
      "D:\\IntelliJ\\ml-stock-sent\\.venv\\Lib\\site-packages\\sklearn\\linear_model\\_coordinate_descent.py:695: ConvergenceWarning: Objective did not converge. You might want to increase the number of iterations, check the scale of the features or consider increasing regularisation. Duality gap: 1.391e+01, tolerance: 3.880e-02\n",
      "  model = cd_fast.enet_coordinate_descent(\n",
      "D:\\IntelliJ\\ml-stock-sent\\.venv\\Lib\\site-packages\\sklearn\\linear_model\\_coordinate_descent.py:695: ConvergenceWarning: Objective did not converge. You might want to increase the number of iterations, check the scale of the features or consider increasing regularisation. Duality gap: 1.633e-01, tolerance: 3.880e-02\n",
      "  model = cd_fast.enet_coordinate_descent(\n",
      "D:\\IntelliJ\\ml-stock-sent\\.venv\\Lib\\site-packages\\sklearn\\linear_model\\_coordinate_descent.py:695: ConvergenceWarning: Objective did not converge. You might want to increase the number of iterations, check the scale of the features or consider increasing regularisation. Duality gap: 1.075e+00, tolerance: 3.880e-02\n",
      "  model = cd_fast.enet_coordinate_descent(\n",
      "D:\\IntelliJ\\ml-stock-sent\\.venv\\Lib\\site-packages\\sklearn\\linear_model\\_coordinate_descent.py:695: ConvergenceWarning: Objective did not converge. You might want to increase the number of iterations, check the scale of the features or consider increasing regularisation. Duality gap: 1.261e+01, tolerance: 3.880e-02\n",
      "  model = cd_fast.enet_coordinate_descent(\n",
      "D:\\IntelliJ\\ml-stock-sent\\.venv\\Lib\\site-packages\\sklearn\\linear_model\\_coordinate_descent.py:695: ConvergenceWarning: Objective did not converge. You might want to increase the number of iterations, check the scale of the features or consider increasing regularisation. Duality gap: 5.536e+00, tolerance: 3.880e-02\n",
      "  model = cd_fast.enet_coordinate_descent(\n",
      "D:\\IntelliJ\\ml-stock-sent\\.venv\\Lib\\site-packages\\sklearn\\linear_model\\_coordinate_descent.py:695: ConvergenceWarning: Objective did not converge. You might want to increase the number of iterations, check the scale of the features or consider increasing regularisation. Duality gap: 1.458e+01, tolerance: 3.880e-02\n",
      "  model = cd_fast.enet_coordinate_descent(\n",
      "D:\\IntelliJ\\ml-stock-sent\\.venv\\Lib\\site-packages\\sklearn\\linear_model\\_coordinate_descent.py:695: ConvergenceWarning: Objective did not converge. You might want to increase the number of iterations, check the scale of the features or consider increasing regularisation. Duality gap: 3.880e+00, tolerance: 3.880e-02\n",
      "  model = cd_fast.enet_coordinate_descent(\n",
      "D:\\IntelliJ\\ml-stock-sent\\.venv\\Lib\\site-packages\\sklearn\\linear_model\\_coordinate_descent.py:695: ConvergenceWarning: Objective did not converge. You might want to increase the number of iterations, check the scale of the features or consider increasing regularisation. Duality gap: 4.353e+00, tolerance: 3.880e-02\n",
      "  model = cd_fast.enet_coordinate_descent(\n",
      "D:\\IntelliJ\\ml-stock-sent\\.venv\\Lib\\site-packages\\sklearn\\linear_model\\_coordinate_descent.py:695: ConvergenceWarning: Objective did not converge. You might want to increase the number of iterations, check the scale of the features or consider increasing regularisation. Duality gap: 2.493e+00, tolerance: 3.880e-02\n",
      "  model = cd_fast.enet_coordinate_descent(\n",
      "D:\\IntelliJ\\ml-stock-sent\\.venv\\Lib\\site-packages\\sklearn\\linear_model\\_coordinate_descent.py:695: ConvergenceWarning: Objective did not converge. You might want to increase the number of iterations, check the scale of the features or consider increasing regularisation. Duality gap: 2.290e+00, tolerance: 3.880e-02\n",
      "  model = cd_fast.enet_coordinate_descent(\n",
      "D:\\IntelliJ\\ml-stock-sent\\.venv\\Lib\\site-packages\\sklearn\\linear_model\\_coordinate_descent.py:695: ConvergenceWarning: Objective did not converge. You might want to increase the number of iterations, check the scale of the features or consider increasing regularisation. Duality gap: 1.006e+01, tolerance: 7.740e-02\n",
      "  model = cd_fast.enet_coordinate_descent(\n",
      "D:\\IntelliJ\\ml-stock-sent\\.venv\\Lib\\site-packages\\sklearn\\linear_model\\_coordinate_descent.py:695: ConvergenceWarning: Objective did not converge. You might want to increase the number of iterations, check the scale of the features or consider increasing regularisation. Duality gap: 6.203e+00, tolerance: 7.740e-02\n",
      "  model = cd_fast.enet_coordinate_descent(\n",
      "D:\\IntelliJ\\ml-stock-sent\\.venv\\Lib\\site-packages\\sklearn\\linear_model\\_coordinate_descent.py:695: ConvergenceWarning: Objective did not converge. You might want to increase the number of iterations, check the scale of the features or consider increasing regularisation. Duality gap: 1.245e+00, tolerance: 7.740e-02\n",
      "  model = cd_fast.enet_coordinate_descent(\n",
      "D:\\IntelliJ\\ml-stock-sent\\.venv\\Lib\\site-packages\\sklearn\\linear_model\\_coordinate_descent.py:695: ConvergenceWarning: Objective did not converge. You might want to increase the number of iterations, check the scale of the features or consider increasing regularisation. Duality gap: 1.700e-01, tolerance: 7.740e-02\n",
      "  model = cd_fast.enet_coordinate_descent(\n",
      "D:\\IntelliJ\\ml-stock-sent\\.venv\\Lib\\site-packages\\sklearn\\linear_model\\_coordinate_descent.py:695: ConvergenceWarning: Objective did not converge. You might want to increase the number of iterations, check the scale of the features or consider increasing regularisation. Duality gap: 5.841e+00, tolerance: 7.740e-02\n",
      "  model = cd_fast.enet_coordinate_descent(\n",
      "D:\\IntelliJ\\ml-stock-sent\\.venv\\Lib\\site-packages\\sklearn\\linear_model\\_coordinate_descent.py:695: ConvergenceWarning: Objective did not converge. You might want to increase the number of iterations, check the scale of the features or consider increasing regularisation. Duality gap: 3.919e+01, tolerance: 7.740e-02\n",
      "  model = cd_fast.enet_coordinate_descent(\n",
      "D:\\IntelliJ\\ml-stock-sent\\.venv\\Lib\\site-packages\\sklearn\\linear_model\\_coordinate_descent.py:695: ConvergenceWarning: Objective did not converge. You might want to increase the number of iterations, check the scale of the features or consider increasing regularisation. Duality gap: 8.913e-01, tolerance: 7.740e-02\n",
      "  model = cd_fast.enet_coordinate_descent(\n",
      "D:\\IntelliJ\\ml-stock-sent\\.venv\\Lib\\site-packages\\sklearn\\linear_model\\_coordinate_descent.py:695: ConvergenceWarning: Objective did not converge. You might want to increase the number of iterations, check the scale of the features or consider increasing regularisation. Duality gap: 3.948e+00, tolerance: 7.740e-02\n",
      "  model = cd_fast.enet_coordinate_descent(\n",
      "D:\\IntelliJ\\ml-stock-sent\\.venv\\Lib\\site-packages\\sklearn\\linear_model\\_coordinate_descent.py:695: ConvergenceWarning: Objective did not converge. You might want to increase the number of iterations, check the scale of the features or consider increasing regularisation. Duality gap: 1.521e+00, tolerance: 7.740e-02\n",
      "  model = cd_fast.enet_coordinate_descent(\n",
      "D:\\IntelliJ\\ml-stock-sent\\.venv\\Lib\\site-packages\\sklearn\\linear_model\\_coordinate_descent.py:695: ConvergenceWarning: Objective did not converge. You might want to increase the number of iterations, check the scale of the features or consider increasing regularisation. Duality gap: 2.946e+00, tolerance: 7.740e-02\n",
      "  model = cd_fast.enet_coordinate_descent(\n",
      "D:\\IntelliJ\\ml-stock-sent\\.venv\\Lib\\site-packages\\sklearn\\linear_model\\_coordinate_descent.py:695: ConvergenceWarning: Objective did not converge. You might want to increase the number of iterations, check the scale of the features or consider increasing regularisation. Duality gap: 6.457e+00, tolerance: 7.740e-02\n",
      "  model = cd_fast.enet_coordinate_descent(\n",
      "D:\\IntelliJ\\ml-stock-sent\\.venv\\Lib\\site-packages\\sklearn\\linear_model\\_coordinate_descent.py:695: ConvergenceWarning: Objective did not converge. You might want to increase the number of iterations, check the scale of the features or consider increasing regularisation. Duality gap: 2.407e+00, tolerance: 7.740e-02\n",
      "  model = cd_fast.enet_coordinate_descent(\n",
      "D:\\IntelliJ\\ml-stock-sent\\.venv\\Lib\\site-packages\\sklearn\\linear_model\\_coordinate_descent.py:695: ConvergenceWarning: Objective did not converge. You might want to increase the number of iterations, check the scale of the features or consider increasing regularisation. Duality gap: 3.289e+01, tolerance: 7.740e-02\n",
      "  model = cd_fast.enet_coordinate_descent(\n",
      "D:\\IntelliJ\\ml-stock-sent\\.venv\\Lib\\site-packages\\sklearn\\linear_model\\_coordinate_descent.py:695: ConvergenceWarning: Objective did not converge. You might want to increase the number of iterations, check the scale of the features or consider increasing regularisation. Duality gap: 5.961e+00, tolerance: 7.740e-02\n",
      "  model = cd_fast.enet_coordinate_descent(\n",
      "D:\\IntelliJ\\ml-stock-sent\\.venv\\Lib\\site-packages\\sklearn\\linear_model\\_coordinate_descent.py:695: ConvergenceWarning: Objective did not converge. You might want to increase the number of iterations, check the scale of the features or consider increasing regularisation. Duality gap: 9.275e+00, tolerance: 7.740e-02\n",
      "  model = cd_fast.enet_coordinate_descent(\n",
      "D:\\IntelliJ\\ml-stock-sent\\.venv\\Lib\\site-packages\\sklearn\\linear_model\\_coordinate_descent.py:695: ConvergenceWarning: Objective did not converge. You might want to increase the number of iterations, check the scale of the features or consider increasing regularisation. Duality gap: 4.405e+00, tolerance: 7.740e-02\n",
      "  model = cd_fast.enet_coordinate_descent(\n",
      "D:\\IntelliJ\\ml-stock-sent\\.venv\\Lib\\site-packages\\sklearn\\linear_model\\_coordinate_descent.py:695: ConvergenceWarning: Objective did not converge. You might want to increase the number of iterations, check the scale of the features or consider increasing regularisation. Duality gap: 2.203e+01, tolerance: 7.740e-02\n",
      "  model = cd_fast.enet_coordinate_descent(\n",
      "D:\\IntelliJ\\ml-stock-sent\\.venv\\Lib\\site-packages\\sklearn\\linear_model\\_coordinate_descent.py:695: ConvergenceWarning: Objective did not converge. You might want to increase the number of iterations, check the scale of the features or consider increasing regularisation. Duality gap: 4.527e-01, tolerance: 7.740e-02\n",
      "  model = cd_fast.enet_coordinate_descent(\n",
      "D:\\IntelliJ\\ml-stock-sent\\.venv\\Lib\\site-packages\\sklearn\\linear_model\\_coordinate_descent.py:695: ConvergenceWarning: Objective did not converge. You might want to increase the number of iterations, check the scale of the features or consider increasing regularisation. Duality gap: 5.074e+00, tolerance: 7.740e-02\n",
      "  model = cd_fast.enet_coordinate_descent(\n",
      "D:\\IntelliJ\\ml-stock-sent\\.venv\\Lib\\site-packages\\sklearn\\linear_model\\_coordinate_descent.py:695: ConvergenceWarning: Objective did not converge. You might want to increase the number of iterations, check the scale of the features or consider increasing regularisation. Duality gap: 2.708e+00, tolerance: 7.740e-02\n",
      "  model = cd_fast.enet_coordinate_descent(\n",
      "D:\\IntelliJ\\ml-stock-sent\\.venv\\Lib\\site-packages\\sklearn\\linear_model\\_coordinate_descent.py:695: ConvergenceWarning: Objective did not converge. You might want to increase the number of iterations, check the scale of the features or consider increasing regularisation. Duality gap: 6.104e+00, tolerance: 7.740e-02\n",
      "  model = cd_fast.enet_coordinate_descent(\n",
      "D:\\IntelliJ\\ml-stock-sent\\.venv\\Lib\\site-packages\\sklearn\\linear_model\\_coordinate_descent.py:695: ConvergenceWarning: Objective did not converge. You might want to increase the number of iterations, check the scale of the features or consider increasing regularisation. Duality gap: 1.999e+01, tolerance: 7.740e-02\n",
      "  model = cd_fast.enet_coordinate_descent(\n",
      "D:\\IntelliJ\\ml-stock-sent\\.venv\\Lib\\site-packages\\sklearn\\linear_model\\_coordinate_descent.py:695: ConvergenceWarning: Objective did not converge. You might want to increase the number of iterations, check the scale of the features or consider increasing regularisation. Duality gap: 2.774e+01, tolerance: 7.740e-02\n",
      "  model = cd_fast.enet_coordinate_descent(\n",
      "D:\\IntelliJ\\ml-stock-sent\\.venv\\Lib\\site-packages\\sklearn\\linear_model\\_coordinate_descent.py:695: ConvergenceWarning: Objective did not converge. You might want to increase the number of iterations, check the scale of the features or consider increasing regularisation. Duality gap: 3.863e+00, tolerance: 7.740e-02\n",
      "  model = cd_fast.enet_coordinate_descent(\n",
      "D:\\IntelliJ\\ml-stock-sent\\.venv\\Lib\\site-packages\\sklearn\\linear_model\\_coordinate_descent.py:695: ConvergenceWarning: Objective did not converge. You might want to increase the number of iterations, check the scale of the features or consider increasing regularisation. Duality gap: 9.691e+00, tolerance: 1.160e-01\n",
      "  model = cd_fast.enet_coordinate_descent(\n",
      "D:\\IntelliJ\\ml-stock-sent\\.venv\\Lib\\site-packages\\sklearn\\linear_model\\_coordinate_descent.py:695: ConvergenceWarning: Objective did not converge. You might want to increase the number of iterations, check the scale of the features or consider increasing regularisation. Duality gap: 1.388e+00, tolerance: 1.160e-01\n",
      "  model = cd_fast.enet_coordinate_descent(\n",
      "D:\\IntelliJ\\ml-stock-sent\\.venv\\Lib\\site-packages\\sklearn\\linear_model\\_coordinate_descent.py:695: ConvergenceWarning: Objective did not converge. You might want to increase the number of iterations, check the scale of the features or consider increasing regularisation. Duality gap: 4.232e+00, tolerance: 1.160e-01\n",
      "  model = cd_fast.enet_coordinate_descent(\n",
      "D:\\IntelliJ\\ml-stock-sent\\.venv\\Lib\\site-packages\\sklearn\\linear_model\\_coordinate_descent.py:695: ConvergenceWarning: Objective did not converge. You might want to increase the number of iterations, check the scale of the features or consider increasing regularisation. Duality gap: 1.392e-01, tolerance: 1.160e-01\n",
      "  model = cd_fast.enet_coordinate_descent(\n",
      "D:\\IntelliJ\\ml-stock-sent\\.venv\\Lib\\site-packages\\sklearn\\linear_model\\_coordinate_descent.py:695: ConvergenceWarning: Objective did not converge. You might want to increase the number of iterations, check the scale of the features or consider increasing regularisation. Duality gap: 8.242e-01, tolerance: 1.160e-01\n",
      "  model = cd_fast.enet_coordinate_descent(\n",
      "D:\\IntelliJ\\ml-stock-sent\\.venv\\Lib\\site-packages\\sklearn\\linear_model\\_coordinate_descent.py:695: ConvergenceWarning: Objective did not converge. You might want to increase the number of iterations, check the scale of the features or consider increasing regularisation. Duality gap: 4.985e+01, tolerance: 1.160e-01\n",
      "  model = cd_fast.enet_coordinate_descent(\n",
      "D:\\IntelliJ\\ml-stock-sent\\.venv\\Lib\\site-packages\\sklearn\\linear_model\\_coordinate_descent.py:695: ConvergenceWarning: Objective did not converge. You might want to increase the number of iterations, check the scale of the features or consider increasing regularisation. Duality gap: 5.994e+00, tolerance: 1.160e-01\n",
      "  model = cd_fast.enet_coordinate_descent(\n",
      "D:\\IntelliJ\\ml-stock-sent\\.venv\\Lib\\site-packages\\sklearn\\linear_model\\_coordinate_descent.py:695: ConvergenceWarning: Objective did not converge. You might want to increase the number of iterations, check the scale of the features or consider increasing regularisation. Duality gap: 1.224e+01, tolerance: 1.160e-01\n",
      "  model = cd_fast.enet_coordinate_descent(\n",
      "D:\\IntelliJ\\ml-stock-sent\\.venv\\Lib\\site-packages\\sklearn\\linear_model\\_coordinate_descent.py:695: ConvergenceWarning: Objective did not converge. You might want to increase the number of iterations, check the scale of the features or consider increasing regularisation. Duality gap: 1.920e+00, tolerance: 1.160e-01\n",
      "  model = cd_fast.enet_coordinate_descent(\n",
      "D:\\IntelliJ\\ml-stock-sent\\.venv\\Lib\\site-packages\\sklearn\\linear_model\\_coordinate_descent.py:695: ConvergenceWarning: Objective did not converge. You might want to increase the number of iterations, check the scale of the features or consider increasing regularisation. Duality gap: 1.891e+01, tolerance: 1.160e-01\n",
      "  model = cd_fast.enet_coordinate_descent(\n",
      "D:\\IntelliJ\\ml-stock-sent\\.venv\\Lib\\site-packages\\sklearn\\linear_model\\_coordinate_descent.py:695: ConvergenceWarning: Objective did not converge. You might want to increase the number of iterations, check the scale of the features or consider increasing regularisation. Duality gap: 2.949e-01, tolerance: 1.160e-01\n",
      "  model = cd_fast.enet_coordinate_descent(\n",
      "D:\\IntelliJ\\ml-stock-sent\\.venv\\Lib\\site-packages\\sklearn\\linear_model\\_coordinate_descent.py:695: ConvergenceWarning: Objective did not converge. You might want to increase the number of iterations, check the scale of the features or consider increasing regularisation. Duality gap: 8.587e+00, tolerance: 1.160e-01\n",
      "  model = cd_fast.enet_coordinate_descent(\n",
      "D:\\IntelliJ\\ml-stock-sent\\.venv\\Lib\\site-packages\\sklearn\\linear_model\\_coordinate_descent.py:695: ConvergenceWarning: Objective did not converge. You might want to increase the number of iterations, check the scale of the features or consider increasing regularisation. Duality gap: 5.099e+00, tolerance: 1.160e-01\n",
      "  model = cd_fast.enet_coordinate_descent(\n",
      "D:\\IntelliJ\\ml-stock-sent\\.venv\\Lib\\site-packages\\sklearn\\linear_model\\_coordinate_descent.py:695: ConvergenceWarning: Objective did not converge. You might want to increase the number of iterations, check the scale of the features or consider increasing regularisation. Duality gap: 4.890e+01, tolerance: 1.160e-01\n",
      "  model = cd_fast.enet_coordinate_descent(\n",
      "D:\\IntelliJ\\ml-stock-sent\\.venv\\Lib\\site-packages\\sklearn\\linear_model\\_coordinate_descent.py:695: ConvergenceWarning: Objective did not converge. You might want to increase the number of iterations, check the scale of the features or consider increasing regularisation. Duality gap: 4.166e+00, tolerance: 1.160e-01\n",
      "  model = cd_fast.enet_coordinate_descent(\n",
      "D:\\IntelliJ\\ml-stock-sent\\.venv\\Lib\\site-packages\\sklearn\\linear_model\\_coordinate_descent.py:695: ConvergenceWarning: Objective did not converge. You might want to increase the number of iterations, check the scale of the features or consider increasing regularisation. Duality gap: 2.218e+01, tolerance: 1.160e-01\n",
      "  model = cd_fast.enet_coordinate_descent(\n",
      "D:\\IntelliJ\\ml-stock-sent\\.venv\\Lib\\site-packages\\sklearn\\linear_model\\_coordinate_descent.py:695: ConvergenceWarning: Objective did not converge. You might want to increase the number of iterations, check the scale of the features or consider increasing regularisation. Duality gap: 3.522e+00, tolerance: 1.160e-01\n",
      "  model = cd_fast.enet_coordinate_descent(\n",
      "D:\\IntelliJ\\ml-stock-sent\\.venv\\Lib\\site-packages\\sklearn\\linear_model\\_coordinate_descent.py:695: ConvergenceWarning: Objective did not converge. You might want to increase the number of iterations, check the scale of the features or consider increasing regularisation. Duality gap: 2.803e+01, tolerance: 1.160e-01\n",
      "  model = cd_fast.enet_coordinate_descent(\n",
      "D:\\IntelliJ\\ml-stock-sent\\.venv\\Lib\\site-packages\\sklearn\\linear_model\\_coordinate_descent.py:695: ConvergenceWarning: Objective did not converge. You might want to increase the number of iterations, check the scale of the features or consider increasing regularisation. Duality gap: 8.339e+00, tolerance: 1.160e-01\n",
      "  model = cd_fast.enet_coordinate_descent(\n",
      "D:\\IntelliJ\\ml-stock-sent\\.venv\\Lib\\site-packages\\sklearn\\linear_model\\_coordinate_descent.py:695: ConvergenceWarning: Objective did not converge. You might want to increase the number of iterations, check the scale of the features or consider increasing regularisation. Duality gap: 1.146e+00, tolerance: 1.160e-01\n",
      "  model = cd_fast.enet_coordinate_descent(\n",
      "D:\\IntelliJ\\ml-stock-sent\\.venv\\Lib\\site-packages\\sklearn\\linear_model\\_coordinate_descent.py:695: ConvergenceWarning: Objective did not converge. You might want to increase the number of iterations, check the scale of the features or consider increasing regularisation. Duality gap: 8.057e-01, tolerance: 1.160e-01\n",
      "  model = cd_fast.enet_coordinate_descent(\n",
      "D:\\IntelliJ\\ml-stock-sent\\.venv\\Lib\\site-packages\\sklearn\\linear_model\\_coordinate_descent.py:695: ConvergenceWarning: Objective did not converge. You might want to increase the number of iterations, check the scale of the features or consider increasing regularisation. Duality gap: 2.207e+01, tolerance: 1.160e-01\n",
      "  model = cd_fast.enet_coordinate_descent(\n",
      "D:\\IntelliJ\\ml-stock-sent\\.venv\\Lib\\site-packages\\sklearn\\linear_model\\_coordinate_descent.py:695: ConvergenceWarning: Objective did not converge. You might want to increase the number of iterations, check the scale of the features or consider increasing regularisation. Duality gap: 3.375e+01, tolerance: 1.160e-01\n",
      "  model = cd_fast.enet_coordinate_descent(\n",
      "D:\\IntelliJ\\ml-stock-sent\\.venv\\Lib\\site-packages\\sklearn\\linear_model\\_coordinate_descent.py:695: ConvergenceWarning: Objective did not converge. You might want to increase the number of iterations, check the scale of the features or consider increasing regularisation. Duality gap: 1.000e+01, tolerance: 1.160e-01\n",
      "  model = cd_fast.enet_coordinate_descent(\n",
      "D:\\IntelliJ\\ml-stock-sent\\.venv\\Lib\\site-packages\\sklearn\\linear_model\\_coordinate_descent.py:695: ConvergenceWarning: Objective did not converge. You might want to increase the number of iterations, check the scale of the features or consider increasing regularisation. Duality gap: 4.018e-01, tolerance: 1.160e-01\n",
      "  model = cd_fast.enet_coordinate_descent(\n",
      "[I 2025-08-20 16:29:37,087] Trial 29 finished with value: 0.0103054710343845 and parameters: {'alpha': 0.00022034990793445773, 'l1_ratio': 0.9539880222077562, 'selection': 'cyclic'}. Best is trial 21 with value: 0.009677655486453862.\n",
      "2025-08-20 16:29:37,087 - INFO - ModelTrainer - Starting model training...\n",
      "2025-08-20 16:29:37,096 - INFO - ModelTrainer - Training final model with best params: {'alpha': 0.009898109061621465, 'l1_ratio': 0.8095789183531145, 'selection': 'random', 'random_state': 42}\n"
     ]
    }
   ],
   "execution_count": 9
  },
  {
   "metadata": {
    "ExecuteTime": {
     "end_time": "2025-08-20T14:29:37.245419Z",
     "start_time": "2025-08-20T14:29:37.190178Z"
    }
   },
   "cell_type": "code",
   "source": [
    "best_model = LinearElasticNet(horizon=horizon, **best_params)\n",
    "trainer = ModelTrainer(best_model, name=\"enet_mo_30\", config=best_params, preprocessor=preprocessor)\n",
    "trainer.fit(X_train, y_train)"
   ],
   "id": "d767866c7c70d235",
   "outputs": [
    {
     "name": "stderr",
     "output_type": "stream",
     "text": [
      "2025-08-20 16:29:37,191 - INFO - ModelTrainer - Initialized ModelTrainer for model: enet_mo_30\n",
      "2025-08-20 16:29:37,191 - INFO - ModelTrainer - Starting model training...\n"
     ]
    }
   ],
   "execution_count": 10
  },
  {
   "metadata": {
    "ExecuteTime": {
     "end_time": "2025-08-20T14:29:37.277842Z",
     "start_time": "2025-08-20T14:29:37.249923Z"
    }
   },
   "cell_type": "code",
   "source": [
    "results = {\n",
    "    \"train\": trainer.evaluate(X_train, y_train),\n",
    "    \"val\": trainer.evaluate(X_val, y_val),\n",
    "    \"test\": trainer.evaluate(X_test, y_test)\n",
    "}\n",
    "\n",
    "meta = {\n",
    "    \"model\": \"enet_mo_30\",\n",
    "    \"with_sentiment\": True,\n",
    "    \"horizon\": horizon\n",
    "}\n",
    "\n",
    "flat_rows = []\n",
    "for split, metrics in results.items():\n",
    "    row = {\"split\": split, **meta, **metrics}\n",
    "    flat_rows.append(row)\n",
    "\n",
    "results_df = pd.DataFrame(flat_rows)\n",
    "\n",
    "results_df.to_csv(Path(cfg.data.processed_dir) / cfg.data.results_direct_multi_step, index=False)\n",
    "results_df"
   ],
   "id": "9ac535a39c34e311",
   "outputs": [
    {
     "name": "stderr",
     "output_type": "stream",
     "text": [
      "2025-08-20 16:29:37,251 - INFO - ModelTrainer - Evaluating model...\n",
      "2025-08-20 16:29:37,258 - INFO - ModelTrainer - Evaluating model...\n",
      "2025-08-20 16:29:37,266 - INFO - ModelTrainer - Evaluating model...\n"
     ]
    },
    {
     "data": {
      "text/plain": [
       "   split       model  with_sentiment  horizon       mae       mse      rmse  \\\n",
       "0  train  enet_mo_30            True       30  0.008020  0.000157  0.012543   \n",
       "1    val  enet_mo_30            True       30  0.006841  0.000088  0.009385   \n",
       "2   test  enet_mo_30            True       30  0.007627  0.000100  0.009983   \n",
       "\n",
       "      smape        r2  \n",
       "0  1.624766  0.024794  \n",
       "1  1.652842 -0.036164  \n",
       "2  1.646635 -0.021217  "
      ],
      "text/html": [
       "<div>\n",
       "<style scoped>\n",
       "    .dataframe tbody tr th:only-of-type {\n",
       "        vertical-align: middle;\n",
       "    }\n",
       "\n",
       "    .dataframe tbody tr th {\n",
       "        vertical-align: top;\n",
       "    }\n",
       "\n",
       "    .dataframe thead th {\n",
       "        text-align: right;\n",
       "    }\n",
       "</style>\n",
       "<table border=\"1\" class=\"dataframe\">\n",
       "  <thead>\n",
       "    <tr style=\"text-align: right;\">\n",
       "      <th></th>\n",
       "      <th>split</th>\n",
       "      <th>model</th>\n",
       "      <th>with_sentiment</th>\n",
       "      <th>horizon</th>\n",
       "      <th>mae</th>\n",
       "      <th>mse</th>\n",
       "      <th>rmse</th>\n",
       "      <th>smape</th>\n",
       "      <th>r2</th>\n",
       "    </tr>\n",
       "  </thead>\n",
       "  <tbody>\n",
       "    <tr>\n",
       "      <th>0</th>\n",
       "      <td>train</td>\n",
       "      <td>enet_mo_30</td>\n",
       "      <td>True</td>\n",
       "      <td>30</td>\n",
       "      <td>0.008020</td>\n",
       "      <td>0.000157</td>\n",
       "      <td>0.012543</td>\n",
       "      <td>1.624766</td>\n",
       "      <td>0.024794</td>\n",
       "    </tr>\n",
       "    <tr>\n",
       "      <th>1</th>\n",
       "      <td>val</td>\n",
       "      <td>enet_mo_30</td>\n",
       "      <td>True</td>\n",
       "      <td>30</td>\n",
       "      <td>0.006841</td>\n",
       "      <td>0.000088</td>\n",
       "      <td>0.009385</td>\n",
       "      <td>1.652842</td>\n",
       "      <td>-0.036164</td>\n",
       "    </tr>\n",
       "    <tr>\n",
       "      <th>2</th>\n",
       "      <td>test</td>\n",
       "      <td>enet_mo_30</td>\n",
       "      <td>True</td>\n",
       "      <td>30</td>\n",
       "      <td>0.007627</td>\n",
       "      <td>0.000100</td>\n",
       "      <td>0.009983</td>\n",
       "      <td>1.646635</td>\n",
       "      <td>-0.021217</td>\n",
       "    </tr>\n",
       "  </tbody>\n",
       "</table>\n",
       "</div>"
      ]
     },
     "execution_count": 11,
     "metadata": {},
     "output_type": "execute_result"
    }
   ],
   "execution_count": 11
  },
  {
   "metadata": {
    "ExecuteTime": {
     "end_time": "2025-08-20T14:29:37.308521Z",
     "start_time": "2025-08-20T14:29:37.303623Z"
    }
   },
   "cell_type": "code",
   "source": "model_path = trainer.save()",
   "id": "11a9edddfb89c4e3",
   "outputs": [],
   "execution_count": 12
  },
  {
   "metadata": {
    "ExecuteTime": {
     "end_time": "2025-08-20T14:29:38.282299Z",
     "start_time": "2025-08-20T14:29:37.346639Z"
    }
   },
   "cell_type": "code",
   "source": [
    "vis.plot_optimization_history(study).show()\n",
    "vis.plot_param_importances(study).show()"
   ],
   "id": "cf056c67359b817c",
   "outputs": [
    {
     "data": {
      "application/vnd.plotly.v1+json": {
       "data": [
        {
         "mode": "markers",
         "name": "Objective Value",
         "x": [
          0,
          1,
          2,
          3,
          4,
          5,
          6,
          7,
          8,
          9,
          10,
          11,
          12,
          13,
          14,
          15,
          16,
          17,
          18,
          19,
          20,
          21,
          22,
          23,
          24,
          25,
          26,
          27,
          28,
          29
         ],
         "y": [
          0.010321006286591166,
          0.010325856783426072,
          0.010237988547303154,
          0.01011448329737524,
          0.01033138914296413,
          0.010258160210190272,
          0.010291942929742885,
          0.010271458726812054,
          0.010343820035956993,
          0.010332117105269606,
          0.00993403367719405,
          0.009930395606462921,
          0.00985743871263852,
          0.009840096829910595,
          0.010121587218370877,
          0.010109603134643467,
          0.009795888082670517,
          0.009988360120458587,
          0.010171036794012439,
          0.01006265606998325,
          0.009679050204814374,
          0.009677655486453862,
          0.009845853449383817,
          0.01014410653219021,
          0.009943077776046931,
          0.010141214902605002,
          0.00989607202528788,
          0.010034552608601572,
          0.009726798392879798,
          0.0103054710343845
         ],
         "type": "scatter"
        },
        {
         "mode": "lines",
         "name": "Best Value",
         "x": [
          0,
          1,
          2,
          3,
          4,
          5,
          6,
          7,
          8,
          9,
          10,
          11,
          12,
          13,
          14,
          15,
          16,
          17,
          18,
          19,
          20,
          21,
          22,
          23,
          24,
          25,
          26,
          27,
          28,
          29
         ],
         "y": [
          0.010321006286591166,
          0.010321006286591166,
          0.010237988547303154,
          0.01011448329737524,
          0.01011448329737524,
          0.01011448329737524,
          0.01011448329737524,
          0.01011448329737524,
          0.01011448329737524,
          0.01011448329737524,
          0.00993403367719405,
          0.009930395606462921,
          0.00985743871263852,
          0.009840096829910595,
          0.009840096829910595,
          0.009840096829910595,
          0.009795888082670517,
          0.009795888082670517,
          0.009795888082670517,
          0.009795888082670517,
          0.009679050204814374,
          0.009677655486453862,
          0.009677655486453862,
          0.009677655486453862,
          0.009677655486453862,
          0.009677655486453862,
          0.009677655486453862,
          0.009677655486453862,
          0.009677655486453862,
          0.009677655486453862
         ],
         "type": "scatter"
        },
        {
         "marker": {
          "color": "#cccccc"
         },
         "mode": "markers",
         "name": "Infeasible Trial",
         "showlegend": false,
         "x": [],
         "y": [],
         "type": "scatter"
        }
       ],
       "layout": {
        "title": {
         "text": "Optimization History Plot"
        },
        "xaxis": {
         "title": {
          "text": "Trial"
         }
        },
        "yaxis": {
         "title": {
          "text": "Objective Value"
         }
        },
        "template": {
         "data": {
          "histogram2dcontour": [
           {
            "type": "histogram2dcontour",
            "colorbar": {
             "outlinewidth": 0,
             "ticks": ""
            },
            "colorscale": [
             [
              0.0,
              "#0d0887"
             ],
             [
              0.1111111111111111,
              "#46039f"
             ],
             [
              0.2222222222222222,
              "#7201a8"
             ],
             [
              0.3333333333333333,
              "#9c179e"
             ],
             [
              0.4444444444444444,
              "#bd3786"
             ],
             [
              0.5555555555555556,
              "#d8576b"
             ],
             [
              0.6666666666666666,
              "#ed7953"
             ],
             [
              0.7777777777777778,
              "#fb9f3a"
             ],
             [
              0.8888888888888888,
              "#fdca26"
             ],
             [
              1.0,
              "#f0f921"
             ]
            ]
           }
          ],
          "choropleth": [
           {
            "type": "choropleth",
            "colorbar": {
             "outlinewidth": 0,
             "ticks": ""
            }
           }
          ],
          "histogram2d": [
           {
            "type": "histogram2d",
            "colorbar": {
             "outlinewidth": 0,
             "ticks": ""
            },
            "colorscale": [
             [
              0.0,
              "#0d0887"
             ],
             [
              0.1111111111111111,
              "#46039f"
             ],
             [
              0.2222222222222222,
              "#7201a8"
             ],
             [
              0.3333333333333333,
              "#9c179e"
             ],
             [
              0.4444444444444444,
              "#bd3786"
             ],
             [
              0.5555555555555556,
              "#d8576b"
             ],
             [
              0.6666666666666666,
              "#ed7953"
             ],
             [
              0.7777777777777778,
              "#fb9f3a"
             ],
             [
              0.8888888888888888,
              "#fdca26"
             ],
             [
              1.0,
              "#f0f921"
             ]
            ]
           }
          ],
          "heatmap": [
           {
            "type": "heatmap",
            "colorbar": {
             "outlinewidth": 0,
             "ticks": ""
            },
            "colorscale": [
             [
              0.0,
              "#0d0887"
             ],
             [
              0.1111111111111111,
              "#46039f"
             ],
             [
              0.2222222222222222,
              "#7201a8"
             ],
             [
              0.3333333333333333,
              "#9c179e"
             ],
             [
              0.4444444444444444,
              "#bd3786"
             ],
             [
              0.5555555555555556,
              "#d8576b"
             ],
             [
              0.6666666666666666,
              "#ed7953"
             ],
             [
              0.7777777777777778,
              "#fb9f3a"
             ],
             [
              0.8888888888888888,
              "#fdca26"
             ],
             [
              1.0,
              "#f0f921"
             ]
            ]
           }
          ],
          "contourcarpet": [
           {
            "type": "contourcarpet",
            "colorbar": {
             "outlinewidth": 0,
             "ticks": ""
            }
           }
          ],
          "contour": [
           {
            "type": "contour",
            "colorbar": {
             "outlinewidth": 0,
             "ticks": ""
            },
            "colorscale": [
             [
              0.0,
              "#0d0887"
             ],
             [
              0.1111111111111111,
              "#46039f"
             ],
             [
              0.2222222222222222,
              "#7201a8"
             ],
             [
              0.3333333333333333,
              "#9c179e"
             ],
             [
              0.4444444444444444,
              "#bd3786"
             ],
             [
              0.5555555555555556,
              "#d8576b"
             ],
             [
              0.6666666666666666,
              "#ed7953"
             ],
             [
              0.7777777777777778,
              "#fb9f3a"
             ],
             [
              0.8888888888888888,
              "#fdca26"
             ],
             [
              1.0,
              "#f0f921"
             ]
            ]
           }
          ],
          "surface": [
           {
            "type": "surface",
            "colorbar": {
             "outlinewidth": 0,
             "ticks": ""
            },
            "colorscale": [
             [
              0.0,
              "#0d0887"
             ],
             [
              0.1111111111111111,
              "#46039f"
             ],
             [
              0.2222222222222222,
              "#7201a8"
             ],
             [
              0.3333333333333333,
              "#9c179e"
             ],
             [
              0.4444444444444444,
              "#bd3786"
             ],
             [
              0.5555555555555556,
              "#d8576b"
             ],
             [
              0.6666666666666666,
              "#ed7953"
             ],
             [
              0.7777777777777778,
              "#fb9f3a"
             ],
             [
              0.8888888888888888,
              "#fdca26"
             ],
             [
              1.0,
              "#f0f921"
             ]
            ]
           }
          ],
          "mesh3d": [
           {
            "type": "mesh3d",
            "colorbar": {
             "outlinewidth": 0,
             "ticks": ""
            }
           }
          ],
          "scatter": [
           {
            "fillpattern": {
             "fillmode": "overlay",
             "size": 10,
             "solidity": 0.2
            },
            "type": "scatter"
           }
          ],
          "parcoords": [
           {
            "type": "parcoords",
            "line": {
             "colorbar": {
              "outlinewidth": 0,
              "ticks": ""
             }
            }
           }
          ],
          "scatterpolargl": [
           {
            "type": "scatterpolargl",
            "marker": {
             "colorbar": {
              "outlinewidth": 0,
              "ticks": ""
             }
            }
           }
          ],
          "bar": [
           {
            "error_x": {
             "color": "#2a3f5f"
            },
            "error_y": {
             "color": "#2a3f5f"
            },
            "marker": {
             "line": {
              "color": "#E5ECF6",
              "width": 0.5
             },
             "pattern": {
              "fillmode": "overlay",
              "size": 10,
              "solidity": 0.2
             }
            },
            "type": "bar"
           }
          ],
          "scattergeo": [
           {
            "type": "scattergeo",
            "marker": {
             "colorbar": {
              "outlinewidth": 0,
              "ticks": ""
             }
            }
           }
          ],
          "scatterpolar": [
           {
            "type": "scatterpolar",
            "marker": {
             "colorbar": {
              "outlinewidth": 0,
              "ticks": ""
             }
            }
           }
          ],
          "histogram": [
           {
            "marker": {
             "pattern": {
              "fillmode": "overlay",
              "size": 10,
              "solidity": 0.2
             }
            },
            "type": "histogram"
           }
          ],
          "scattergl": [
           {
            "type": "scattergl",
            "marker": {
             "colorbar": {
              "outlinewidth": 0,
              "ticks": ""
             }
            }
           }
          ],
          "scatter3d": [
           {
            "type": "scatter3d",
            "line": {
             "colorbar": {
              "outlinewidth": 0,
              "ticks": ""
             }
            },
            "marker": {
             "colorbar": {
              "outlinewidth": 0,
              "ticks": ""
             }
            }
           }
          ],
          "scattermap": [
           {
            "type": "scattermap",
            "marker": {
             "colorbar": {
              "outlinewidth": 0,
              "ticks": ""
             }
            }
           }
          ],
          "scattermapbox": [
           {
            "type": "scattermapbox",
            "marker": {
             "colorbar": {
              "outlinewidth": 0,
              "ticks": ""
             }
            }
           }
          ],
          "scatterternary": [
           {
            "type": "scatterternary",
            "marker": {
             "colorbar": {
              "outlinewidth": 0,
              "ticks": ""
             }
            }
           }
          ],
          "scattercarpet": [
           {
            "type": "scattercarpet",
            "marker": {
             "colorbar": {
              "outlinewidth": 0,
              "ticks": ""
             }
            }
           }
          ],
          "carpet": [
           {
            "aaxis": {
             "endlinecolor": "#2a3f5f",
             "gridcolor": "white",
             "linecolor": "white",
             "minorgridcolor": "white",
             "startlinecolor": "#2a3f5f"
            },
            "baxis": {
             "endlinecolor": "#2a3f5f",
             "gridcolor": "white",
             "linecolor": "white",
             "minorgridcolor": "white",
             "startlinecolor": "#2a3f5f"
            },
            "type": "carpet"
           }
          ],
          "table": [
           {
            "cells": {
             "fill": {
              "color": "#EBF0F8"
             },
             "line": {
              "color": "white"
             }
            },
            "header": {
             "fill": {
              "color": "#C8D4E3"
             },
             "line": {
              "color": "white"
             }
            },
            "type": "table"
           }
          ],
          "barpolar": [
           {
            "marker": {
             "line": {
              "color": "#E5ECF6",
              "width": 0.5
             },
             "pattern": {
              "fillmode": "overlay",
              "size": 10,
              "solidity": 0.2
             }
            },
            "type": "barpolar"
           }
          ],
          "pie": [
           {
            "automargin": true,
            "type": "pie"
           }
          ]
         },
         "layout": {
          "autotypenumbers": "strict",
          "colorway": [
           "#636efa",
           "#EF553B",
           "#00cc96",
           "#ab63fa",
           "#FFA15A",
           "#19d3f3",
           "#FF6692",
           "#B6E880",
           "#FF97FF",
           "#FECB52"
          ],
          "font": {
           "color": "#2a3f5f"
          },
          "hovermode": "closest",
          "hoverlabel": {
           "align": "left"
          },
          "paper_bgcolor": "white",
          "plot_bgcolor": "#E5ECF6",
          "polar": {
           "bgcolor": "#E5ECF6",
           "angularaxis": {
            "gridcolor": "white",
            "linecolor": "white",
            "ticks": ""
           },
           "radialaxis": {
            "gridcolor": "white",
            "linecolor": "white",
            "ticks": ""
           }
          },
          "ternary": {
           "bgcolor": "#E5ECF6",
           "aaxis": {
            "gridcolor": "white",
            "linecolor": "white",
            "ticks": ""
           },
           "baxis": {
            "gridcolor": "white",
            "linecolor": "white",
            "ticks": ""
           },
           "caxis": {
            "gridcolor": "white",
            "linecolor": "white",
            "ticks": ""
           }
          },
          "coloraxis": {
           "colorbar": {
            "outlinewidth": 0,
            "ticks": ""
           }
          },
          "colorscale": {
           "sequential": [
            [
             0.0,
             "#0d0887"
            ],
            [
             0.1111111111111111,
             "#46039f"
            ],
            [
             0.2222222222222222,
             "#7201a8"
            ],
            [
             0.3333333333333333,
             "#9c179e"
            ],
            [
             0.4444444444444444,
             "#bd3786"
            ],
            [
             0.5555555555555556,
             "#d8576b"
            ],
            [
             0.6666666666666666,
             "#ed7953"
            ],
            [
             0.7777777777777778,
             "#fb9f3a"
            ],
            [
             0.8888888888888888,
             "#fdca26"
            ],
            [
             1.0,
             "#f0f921"
            ]
           ],
           "sequentialminus": [
            [
             0.0,
             "#0d0887"
            ],
            [
             0.1111111111111111,
             "#46039f"
            ],
            [
             0.2222222222222222,
             "#7201a8"
            ],
            [
             0.3333333333333333,
             "#9c179e"
            ],
            [
             0.4444444444444444,
             "#bd3786"
            ],
            [
             0.5555555555555556,
             "#d8576b"
            ],
            [
             0.6666666666666666,
             "#ed7953"
            ],
            [
             0.7777777777777778,
             "#fb9f3a"
            ],
            [
             0.8888888888888888,
             "#fdca26"
            ],
            [
             1.0,
             "#f0f921"
            ]
           ],
           "diverging": [
            [
             0,
             "#8e0152"
            ],
            [
             0.1,
             "#c51b7d"
            ],
            [
             0.2,
             "#de77ae"
            ],
            [
             0.3,
             "#f1b6da"
            ],
            [
             0.4,
             "#fde0ef"
            ],
            [
             0.5,
             "#f7f7f7"
            ],
            [
             0.6,
             "#e6f5d0"
            ],
            [
             0.7,
             "#b8e186"
            ],
            [
             0.8,
             "#7fbc41"
            ],
            [
             0.9,
             "#4d9221"
            ],
            [
             1,
             "#276419"
            ]
           ]
          },
          "xaxis": {
           "gridcolor": "white",
           "linecolor": "white",
           "ticks": "",
           "title": {
            "standoff": 15
           },
           "zerolinecolor": "white",
           "automargin": true,
           "zerolinewidth": 2
          },
          "yaxis": {
           "gridcolor": "white",
           "linecolor": "white",
           "ticks": "",
           "title": {
            "standoff": 15
           },
           "zerolinecolor": "white",
           "automargin": true,
           "zerolinewidth": 2
          },
          "scene": {
           "xaxis": {
            "backgroundcolor": "#E5ECF6",
            "gridcolor": "white",
            "linecolor": "white",
            "showbackground": true,
            "ticks": "",
            "zerolinecolor": "white",
            "gridwidth": 2
           },
           "yaxis": {
            "backgroundcolor": "#E5ECF6",
            "gridcolor": "white",
            "linecolor": "white",
            "showbackground": true,
            "ticks": "",
            "zerolinecolor": "white",
            "gridwidth": 2
           },
           "zaxis": {
            "backgroundcolor": "#E5ECF6",
            "gridcolor": "white",
            "linecolor": "white",
            "showbackground": true,
            "ticks": "",
            "zerolinecolor": "white",
            "gridwidth": 2
           }
          },
          "shapedefaults": {
           "line": {
            "color": "#2a3f5f"
           }
          },
          "annotationdefaults": {
           "arrowcolor": "#2a3f5f",
           "arrowhead": 0,
           "arrowwidth": 1
          },
          "geo": {
           "bgcolor": "white",
           "landcolor": "#E5ECF6",
           "subunitcolor": "white",
           "showland": true,
           "showlakes": true,
           "lakecolor": "white"
          },
          "title": {
           "x": 0.05
          },
          "mapbox": {
           "style": "light"
          }
         }
        }
       },
       "config": {
        "plotlyServerURL": "https://plot.ly"
       }
      }
     },
     "metadata": {},
     "output_type": "display_data"
    },
    {
     "data": {
      "application/vnd.plotly.v1+json": {
       "data": [
        {
         "cliponaxis": false,
         "hovertemplate": [
          "selection (CategoricalDistribution): 0.002134239307732686<extra></extra>",
          "l1_ratio (FloatDistribution): 0.02775784347934506<extra></extra>",
          "alpha (FloatDistribution): 0.9701079172129222<extra></extra>"
         ],
         "name": "Objective Value",
         "orientation": "h",
         "text": [
          "<0.01",
          "0.03",
          "0.97"
         ],
         "textposition": "outside",
         "x": [
          0.002134239307732686,
          0.02775784347934506,
          0.9701079172129222
         ],
         "y": [
          "selection",
          "l1_ratio",
          "alpha"
         ],
         "type": "bar"
        }
       ],
       "layout": {
        "title": {
         "text": "Hyperparameter Importances"
        },
        "xaxis": {
         "title": {
          "text": "Hyperparameter Importance"
         }
        },
        "yaxis": {
         "title": {
          "text": "Hyperparameter"
         }
        },
        "template": {
         "data": {
          "histogram2dcontour": [
           {
            "type": "histogram2dcontour",
            "colorbar": {
             "outlinewidth": 0,
             "ticks": ""
            },
            "colorscale": [
             [
              0.0,
              "#0d0887"
             ],
             [
              0.1111111111111111,
              "#46039f"
             ],
             [
              0.2222222222222222,
              "#7201a8"
             ],
             [
              0.3333333333333333,
              "#9c179e"
             ],
             [
              0.4444444444444444,
              "#bd3786"
             ],
             [
              0.5555555555555556,
              "#d8576b"
             ],
             [
              0.6666666666666666,
              "#ed7953"
             ],
             [
              0.7777777777777778,
              "#fb9f3a"
             ],
             [
              0.8888888888888888,
              "#fdca26"
             ],
             [
              1.0,
              "#f0f921"
             ]
            ]
           }
          ],
          "choropleth": [
           {
            "type": "choropleth",
            "colorbar": {
             "outlinewidth": 0,
             "ticks": ""
            }
           }
          ],
          "histogram2d": [
           {
            "type": "histogram2d",
            "colorbar": {
             "outlinewidth": 0,
             "ticks": ""
            },
            "colorscale": [
             [
              0.0,
              "#0d0887"
             ],
             [
              0.1111111111111111,
              "#46039f"
             ],
             [
              0.2222222222222222,
              "#7201a8"
             ],
             [
              0.3333333333333333,
              "#9c179e"
             ],
             [
              0.4444444444444444,
              "#bd3786"
             ],
             [
              0.5555555555555556,
              "#d8576b"
             ],
             [
              0.6666666666666666,
              "#ed7953"
             ],
             [
              0.7777777777777778,
              "#fb9f3a"
             ],
             [
              0.8888888888888888,
              "#fdca26"
             ],
             [
              1.0,
              "#f0f921"
             ]
            ]
           }
          ],
          "heatmap": [
           {
            "type": "heatmap",
            "colorbar": {
             "outlinewidth": 0,
             "ticks": ""
            },
            "colorscale": [
             [
              0.0,
              "#0d0887"
             ],
             [
              0.1111111111111111,
              "#46039f"
             ],
             [
              0.2222222222222222,
              "#7201a8"
             ],
             [
              0.3333333333333333,
              "#9c179e"
             ],
             [
              0.4444444444444444,
              "#bd3786"
             ],
             [
              0.5555555555555556,
              "#d8576b"
             ],
             [
              0.6666666666666666,
              "#ed7953"
             ],
             [
              0.7777777777777778,
              "#fb9f3a"
             ],
             [
              0.8888888888888888,
              "#fdca26"
             ],
             [
              1.0,
              "#f0f921"
             ]
            ]
           }
          ],
          "contourcarpet": [
           {
            "type": "contourcarpet",
            "colorbar": {
             "outlinewidth": 0,
             "ticks": ""
            }
           }
          ],
          "contour": [
           {
            "type": "contour",
            "colorbar": {
             "outlinewidth": 0,
             "ticks": ""
            },
            "colorscale": [
             [
              0.0,
              "#0d0887"
             ],
             [
              0.1111111111111111,
              "#46039f"
             ],
             [
              0.2222222222222222,
              "#7201a8"
             ],
             [
              0.3333333333333333,
              "#9c179e"
             ],
             [
              0.4444444444444444,
              "#bd3786"
             ],
             [
              0.5555555555555556,
              "#d8576b"
             ],
             [
              0.6666666666666666,
              "#ed7953"
             ],
             [
              0.7777777777777778,
              "#fb9f3a"
             ],
             [
              0.8888888888888888,
              "#fdca26"
             ],
             [
              1.0,
              "#f0f921"
             ]
            ]
           }
          ],
          "surface": [
           {
            "type": "surface",
            "colorbar": {
             "outlinewidth": 0,
             "ticks": ""
            },
            "colorscale": [
             [
              0.0,
              "#0d0887"
             ],
             [
              0.1111111111111111,
              "#46039f"
             ],
             [
              0.2222222222222222,
              "#7201a8"
             ],
             [
              0.3333333333333333,
              "#9c179e"
             ],
             [
              0.4444444444444444,
              "#bd3786"
             ],
             [
              0.5555555555555556,
              "#d8576b"
             ],
             [
              0.6666666666666666,
              "#ed7953"
             ],
             [
              0.7777777777777778,
              "#fb9f3a"
             ],
             [
              0.8888888888888888,
              "#fdca26"
             ],
             [
              1.0,
              "#f0f921"
             ]
            ]
           }
          ],
          "mesh3d": [
           {
            "type": "mesh3d",
            "colorbar": {
             "outlinewidth": 0,
             "ticks": ""
            }
           }
          ],
          "scatter": [
           {
            "fillpattern": {
             "fillmode": "overlay",
             "size": 10,
             "solidity": 0.2
            },
            "type": "scatter"
           }
          ],
          "parcoords": [
           {
            "type": "parcoords",
            "line": {
             "colorbar": {
              "outlinewidth": 0,
              "ticks": ""
             }
            }
           }
          ],
          "scatterpolargl": [
           {
            "type": "scatterpolargl",
            "marker": {
             "colorbar": {
              "outlinewidth": 0,
              "ticks": ""
             }
            }
           }
          ],
          "bar": [
           {
            "error_x": {
             "color": "#2a3f5f"
            },
            "error_y": {
             "color": "#2a3f5f"
            },
            "marker": {
             "line": {
              "color": "#E5ECF6",
              "width": 0.5
             },
             "pattern": {
              "fillmode": "overlay",
              "size": 10,
              "solidity": 0.2
             }
            },
            "type": "bar"
           }
          ],
          "scattergeo": [
           {
            "type": "scattergeo",
            "marker": {
             "colorbar": {
              "outlinewidth": 0,
              "ticks": ""
             }
            }
           }
          ],
          "scatterpolar": [
           {
            "type": "scatterpolar",
            "marker": {
             "colorbar": {
              "outlinewidth": 0,
              "ticks": ""
             }
            }
           }
          ],
          "histogram": [
           {
            "marker": {
             "pattern": {
              "fillmode": "overlay",
              "size": 10,
              "solidity": 0.2
             }
            },
            "type": "histogram"
           }
          ],
          "scattergl": [
           {
            "type": "scattergl",
            "marker": {
             "colorbar": {
              "outlinewidth": 0,
              "ticks": ""
             }
            }
           }
          ],
          "scatter3d": [
           {
            "type": "scatter3d",
            "line": {
             "colorbar": {
              "outlinewidth": 0,
              "ticks": ""
             }
            },
            "marker": {
             "colorbar": {
              "outlinewidth": 0,
              "ticks": ""
             }
            }
           }
          ],
          "scattermap": [
           {
            "type": "scattermap",
            "marker": {
             "colorbar": {
              "outlinewidth": 0,
              "ticks": ""
             }
            }
           }
          ],
          "scattermapbox": [
           {
            "type": "scattermapbox",
            "marker": {
             "colorbar": {
              "outlinewidth": 0,
              "ticks": ""
             }
            }
           }
          ],
          "scatterternary": [
           {
            "type": "scatterternary",
            "marker": {
             "colorbar": {
              "outlinewidth": 0,
              "ticks": ""
             }
            }
           }
          ],
          "scattercarpet": [
           {
            "type": "scattercarpet",
            "marker": {
             "colorbar": {
              "outlinewidth": 0,
              "ticks": ""
             }
            }
           }
          ],
          "carpet": [
           {
            "aaxis": {
             "endlinecolor": "#2a3f5f",
             "gridcolor": "white",
             "linecolor": "white",
             "minorgridcolor": "white",
             "startlinecolor": "#2a3f5f"
            },
            "baxis": {
             "endlinecolor": "#2a3f5f",
             "gridcolor": "white",
             "linecolor": "white",
             "minorgridcolor": "white",
             "startlinecolor": "#2a3f5f"
            },
            "type": "carpet"
           }
          ],
          "table": [
           {
            "cells": {
             "fill": {
              "color": "#EBF0F8"
             },
             "line": {
              "color": "white"
             }
            },
            "header": {
             "fill": {
              "color": "#C8D4E3"
             },
             "line": {
              "color": "white"
             }
            },
            "type": "table"
           }
          ],
          "barpolar": [
           {
            "marker": {
             "line": {
              "color": "#E5ECF6",
              "width": 0.5
             },
             "pattern": {
              "fillmode": "overlay",
              "size": 10,
              "solidity": 0.2
             }
            },
            "type": "barpolar"
           }
          ],
          "pie": [
           {
            "automargin": true,
            "type": "pie"
           }
          ]
         },
         "layout": {
          "autotypenumbers": "strict",
          "colorway": [
           "#636efa",
           "#EF553B",
           "#00cc96",
           "#ab63fa",
           "#FFA15A",
           "#19d3f3",
           "#FF6692",
           "#B6E880",
           "#FF97FF",
           "#FECB52"
          ],
          "font": {
           "color": "#2a3f5f"
          },
          "hovermode": "closest",
          "hoverlabel": {
           "align": "left"
          },
          "paper_bgcolor": "white",
          "plot_bgcolor": "#E5ECF6",
          "polar": {
           "bgcolor": "#E5ECF6",
           "angularaxis": {
            "gridcolor": "white",
            "linecolor": "white",
            "ticks": ""
           },
           "radialaxis": {
            "gridcolor": "white",
            "linecolor": "white",
            "ticks": ""
           }
          },
          "ternary": {
           "bgcolor": "#E5ECF6",
           "aaxis": {
            "gridcolor": "white",
            "linecolor": "white",
            "ticks": ""
           },
           "baxis": {
            "gridcolor": "white",
            "linecolor": "white",
            "ticks": ""
           },
           "caxis": {
            "gridcolor": "white",
            "linecolor": "white",
            "ticks": ""
           }
          },
          "coloraxis": {
           "colorbar": {
            "outlinewidth": 0,
            "ticks": ""
           }
          },
          "colorscale": {
           "sequential": [
            [
             0.0,
             "#0d0887"
            ],
            [
             0.1111111111111111,
             "#46039f"
            ],
            [
             0.2222222222222222,
             "#7201a8"
            ],
            [
             0.3333333333333333,
             "#9c179e"
            ],
            [
             0.4444444444444444,
             "#bd3786"
            ],
            [
             0.5555555555555556,
             "#d8576b"
            ],
            [
             0.6666666666666666,
             "#ed7953"
            ],
            [
             0.7777777777777778,
             "#fb9f3a"
            ],
            [
             0.8888888888888888,
             "#fdca26"
            ],
            [
             1.0,
             "#f0f921"
            ]
           ],
           "sequentialminus": [
            [
             0.0,
             "#0d0887"
            ],
            [
             0.1111111111111111,
             "#46039f"
            ],
            [
             0.2222222222222222,
             "#7201a8"
            ],
            [
             0.3333333333333333,
             "#9c179e"
            ],
            [
             0.4444444444444444,
             "#bd3786"
            ],
            [
             0.5555555555555556,
             "#d8576b"
            ],
            [
             0.6666666666666666,
             "#ed7953"
            ],
            [
             0.7777777777777778,
             "#fb9f3a"
            ],
            [
             0.8888888888888888,
             "#fdca26"
            ],
            [
             1.0,
             "#f0f921"
            ]
           ],
           "diverging": [
            [
             0,
             "#8e0152"
            ],
            [
             0.1,
             "#c51b7d"
            ],
            [
             0.2,
             "#de77ae"
            ],
            [
             0.3,
             "#f1b6da"
            ],
            [
             0.4,
             "#fde0ef"
            ],
            [
             0.5,
             "#f7f7f7"
            ],
            [
             0.6,
             "#e6f5d0"
            ],
            [
             0.7,
             "#b8e186"
            ],
            [
             0.8,
             "#7fbc41"
            ],
            [
             0.9,
             "#4d9221"
            ],
            [
             1,
             "#276419"
            ]
           ]
          },
          "xaxis": {
           "gridcolor": "white",
           "linecolor": "white",
           "ticks": "",
           "title": {
            "standoff": 15
           },
           "zerolinecolor": "white",
           "automargin": true,
           "zerolinewidth": 2
          },
          "yaxis": {
           "gridcolor": "white",
           "linecolor": "white",
           "ticks": "",
           "title": {
            "standoff": 15
           },
           "zerolinecolor": "white",
           "automargin": true,
           "zerolinewidth": 2
          },
          "scene": {
           "xaxis": {
            "backgroundcolor": "#E5ECF6",
            "gridcolor": "white",
            "linecolor": "white",
            "showbackground": true,
            "ticks": "",
            "zerolinecolor": "white",
            "gridwidth": 2
           },
           "yaxis": {
            "backgroundcolor": "#E5ECF6",
            "gridcolor": "white",
            "linecolor": "white",
            "showbackground": true,
            "ticks": "",
            "zerolinecolor": "white",
            "gridwidth": 2
           },
           "zaxis": {
            "backgroundcolor": "#E5ECF6",
            "gridcolor": "white",
            "linecolor": "white",
            "showbackground": true,
            "ticks": "",
            "zerolinecolor": "white",
            "gridwidth": 2
           }
          },
          "shapedefaults": {
           "line": {
            "color": "#2a3f5f"
           }
          },
          "annotationdefaults": {
           "arrowcolor": "#2a3f5f",
           "arrowhead": 0,
           "arrowwidth": 1
          },
          "geo": {
           "bgcolor": "white",
           "landcolor": "#E5ECF6",
           "subunitcolor": "white",
           "showland": true,
           "showlakes": true,
           "lakecolor": "white"
          },
          "title": {
           "x": 0.05
          },
          "mapbox": {
           "style": "light"
          }
         }
        }
       },
       "config": {
        "plotlyServerURL": "https://plot.ly"
       }
      }
     },
     "metadata": {},
     "output_type": "display_data"
    }
   ],
   "execution_count": 13
  },
  {
   "metadata": {
    "ExecuteTime": {
     "end_time": "2025-08-20T14:29:38.517623Z",
     "start_time": "2025-08-20T14:29:38.335398Z"
    }
   },
   "cell_type": "code",
   "source": [
    "y_pred = trainer.predict(X_test)\n",
    "plot_price_overlay(df_full, X_test, y_pred, Path(cfg.data.fig_dir) / \"pred_vs_actual_adj_close_price_plus_1.png\")"
   ],
   "id": "5324b0fa3aa0749e",
   "outputs": [
    {
     "data": {
      "text/plain": [
       "<Figure size 1200x500 with 1 Axes>"
      ],
      "image/png": "[encoded data removed]"
     },
     "metadata": {},
     "output_type": "display_data"
    }
   ],
   "execution_count": 14
  },
  {
   "metadata": {
    "ExecuteTime": {
     "end_time": "2025-08-20T14:29:38.686825Z",
     "start_time": "2025-08-20T14:29:38.521129Z"
    }
   },
   "cell_type": "code",
   "source": [
    "plot_price_overlay_next_30(df_full, test, y_pred, horizon=horizon, hist_window=200,\n",
    "                           path=Path(cfg.data.fig_dir) / \"pred_vs_actual_adj_close_price_plus_30.png\")"
   ],
   "id": "5db9f24f408af977",
   "outputs": [
    {
     "data": {
      "text/plain": [
       "<Figure size 1200x500 with 1 Axes>"
      ],
      "image/png": "[encoded data removed]"
     },
     "metadata": {},
     "output_type": "display_data"
    }
   ],
   "execution_count": 15
  },
  {
   "metadata": {
    "ExecuteTime": {
     "end_time": "2025-08-20T14:29:38.694419Z",
     "start_time": "2025-08-20T14:29:38.690830Z"
    }
   },
   "cell_type": "code",
   "source": [
    "y_true = np.asarray(y_test)\n",
    "\n",
    "anchor_idx = int(X_test.index[-1])\n",
    "last_price = df_full.loc[anchor_idx, \"adj_close\"]\n",
    "\n",
    "future_rows = df_full.iloc[anchor_idx + 1: anchor_idx + 1 + horizon]\n",
    "future_dates = pd.to_datetime(future_rows[\"date\"].to_numpy())\n",
    "\n",
    "actual_price_path = last_price * np.exp(np.cumsum(y_true[-1]))\n",
    "pred_price_path = last_price * np.exp(np.cumsum(y_pred[-1]))"
   ],
   "id": "980b037902c90b1a",
   "outputs": [],
   "execution_count": 16
  },
  {
   "metadata": {
    "ExecuteTime": {
     "end_time": "2025-08-20T14:29:39.083234Z",
     "start_time": "2025-08-20T14:29:38.700439Z"
    }
   },
   "cell_type": "code",
   "source": [
    "plot_forecast_diagnostics(\n",
    "    future_dates=future_dates,\n",
    "    actual_price_path=actual_price_path,\n",
    "    pred_price_path=pred_price_path,\n",
    "    path=Path(cfg.data.fig_dir) / \"forecast_eval_plus_30.png\"\n",
    ")"
   ],
   "id": "ed7666dc44899ce",
   "outputs": [
    {
     "data": {
      "text/plain": [
       "<Figure size 1000x400 with 1 Axes>"
      ],
      "image/png": "[encoded data removed]"
     },
     "metadata": {},
     "output_type": "display_data"
    },
    {
     "data": {
      "text/plain": [
       "<Figure size 1000x400 with 1 Axes>"
      ],
      "image/png": "[encoded data removed]"
     },
     "metadata": {},
     "output_type": "display_data"
    },
    {
     "data": {
      "text/plain": [
       "<Figure size 1000x400 with 1 Axes>"
      ],
      "image/png": "[encoded data removed]"
     },
     "metadata": {},
     "output_type": "display_data"
    }
   ],
   "execution_count": 17
  }
 ],
 "metadata": {
  "kernelspec": {
   "display_name": "Python 3",
   "language": "python",
   "name": "python3"
  },
  "language_info": {
   "codemirror_mode": {
    "name": "ipython",
    "version": 2
   },
   "file_extension": ".py",
   "mimetype": "text/x-python",
   "name": "python",
   "nbconvert_exporter": "python",
   "pygments_lexer": "ipython2",
   "version": "2.7.6"
  }
 },
 "nbformat": 4,
 "nbformat_minor": 5
}

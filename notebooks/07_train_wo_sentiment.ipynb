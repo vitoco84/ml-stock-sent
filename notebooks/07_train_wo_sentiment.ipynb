{
 "cells": [
  {
   "cell_type": "code",
   "id": "initial_id",
   "metadata": {
    "collapsed": true,
    "ExecuteTime": {
     "end_time": "2025-08-20T14:29:48.608149Z",
     "start_time": "2025-08-20T14:29:47.372765Z"
    }
   },
   "source": [
    "from pathlib import Path\n",
    "\n",
    "import optuna\n",
    "import optuna.visualization as vis\n",
    "import pandas as pd\n",
    "\n",
    "from src.config import Config\n",
    "from src.data import time_series_split\n",
    "from src.models.classical import LinearElasticNet\n",
    "from src.preprocessing import get_preprocessor\n",
    "from src.train import ModelTrainer\n",
    "from src.utils import set_seed"
   ],
   "outputs": [],
   "execution_count": 1
  },
  {
   "metadata": {
    "ExecuteTime": {
     "end_time": "2025-08-20T14:29:49.729727Z",
     "start_time": "2025-08-20T14:29:48.611153Z"
    }
   },
   "cell_type": "code",
   "source": [
    "cfg = Config(Path(\"../config/config.yaml\"))\n",
    "rng = set_seed(cfg.runtime.seed)\n",
    "horizon = 30"
   ],
   "id": "4950ca6a4471af88",
   "outputs": [
    {
     "name": "stderr",
     "output_type": "stream",
     "text": [
      "2025-08-20 16:29:49,727 - INFO - src.utils - Global random seed set to 42\n"
     ]
    }
   ],
   "execution_count": 2
  },
  {
   "metadata": {
    "ExecuteTime": {
     "end_time": "2025-08-20T14:29:49.810582Z",
     "start_time": "2025-08-20T14:29:49.783642Z"
    }
   },
   "cell_type": "code",
   "source": [
    "df_full = pd.read_csv(Path(cfg.data.processed_dir) / cfg.data.name_features_full)\n",
    "df_full"
   ],
   "id": "ab993085317eb140",
   "outputs": [
    {
     "data": {
      "text/plain": [
       "            date          open          high           low         close  \\\n",
       "0     2008-09-16  10905.620117  11093.219727  10742.700195  11059.019531   \n",
       "1     2008-09-17  11056.580078  11057.309570  10595.900391  10609.660156   \n",
       "2     2008-09-18  10609.009766  11076.440430  10459.440430  11019.690430   \n",
       "3     2008-09-19  11027.509766  11483.049805  11026.700195  11388.440430   \n",
       "4     2008-09-22  11394.419922  11394.580078  10992.200195  11015.690430   \n",
       "...          ...           ...           ...           ...           ...   \n",
       "1958  2016-06-27  17355.210938  17355.210938  17063.080078  17140.240234   \n",
       "1959  2016-06-28  17190.509766  17409.720703  17190.509766  17409.720703   \n",
       "1960  2016-06-29  17456.019531  17704.509766  17456.019531  17694.679688   \n",
       "1961  2016-06-30  17712.759766  17930.609375  17711.800781  17929.990234   \n",
       "1962  2016-07-01  17924.240234  18002.380859  17916.910156  17949.369141   \n",
       "\n",
       "         volume     adj_close       pos       neu       neg  ...    sma_10  \\\n",
       "0     494760000  11059.019531  0.037859  0.649857  0.312283  ... -0.004057   \n",
       "1     463200000  10609.660156  0.020132  0.695084  0.284784  ... -0.008344   \n",
       "2     488060000  11019.690430  0.076621  0.751735  0.171643  ... -0.001518   \n",
       "3     655110000  11388.440430  0.000513  0.772076  0.227411  ...  0.001482   \n",
       "4     213210000  11015.690430  0.100864  0.619301  0.279835  ... -0.004396   \n",
       "...         ...           ...       ...       ...       ...  ...       ...   \n",
       "1958  138740000  17140.240234  0.065429  0.684537  0.250034  ... -0.003397   \n",
       "1959  112190000  17409.720703  0.086932  0.714076  0.198991  ... -0.001511   \n",
       "1960  106380000  17694.679688  0.114712  0.673349  0.211939  ...  0.000309   \n",
       "1961  133030000  17929.990234  0.040575  0.727080  0.232345  ...  0.001104   \n",
       "1962   82160000  17949.369141  0.043626  0.752016  0.204358  ...  0.001539   \n",
       "\n",
       "        ema_10    lag_25    sma_25    ema_25  quarter  dow    q_mean  \\\n",
       "0    -0.003995  0.004085 -0.002534 -0.002034        3    1 -0.002886   \n",
       "1    -0.010810 -0.011943 -0.003716 -0.005068        3    2 -0.002280   \n",
       "2    -0.001951 -0.009451 -0.001821 -0.001761        3    3 -0.003732   \n",
       "3     0.004389  0.007168 -0.000791  0.000906        3    4 -0.002244   \n",
       "4    -0.002460  0.003778 -0.002273 -0.001724        3    0 -0.001032   \n",
       "...        ...       ...       ...       ...      ...  ...       ...   \n",
       "1958 -0.006286  0.003752 -0.000833 -0.002734        2    0  0.000002   \n",
       "1959 -0.002307 -0.000458 -0.000191 -0.001324        2    1 -0.000028   \n",
       "1960  0.001064  0.012110 -0.000026  0.000027        2    2  0.000003   \n",
       "1961  0.003273  0.008182  0.000175  0.001041        2    3  0.000036   \n",
       "1962  0.002874 -0.001302  0.000271  0.001044        3    4  0.000046   \n",
       "\n",
       "         q_std    q_skew  \n",
       "0     0.016242 -0.717302  \n",
       "1     0.016211 -0.771974  \n",
       "2     0.017596 -0.770069  \n",
       "3     0.018976 -0.421549  \n",
       "4     0.019745 -0.341408  \n",
       "...        ...       ...  \n",
       "1958  0.009594 -0.183067  \n",
       "1959  0.009608 -0.180243  \n",
       "1960  0.009624 -0.180164  \n",
       "1961  0.009641 -0.179361  \n",
       "1962  0.012306 -0.836425  \n",
       "\n",
       "[1963 rows x 77 columns]"
      ],
      "text/html": [
       "<div>\n",
       "<style scoped>\n",
       "    .dataframe tbody tr th:only-of-type {\n",
       "        vertical-align: middle;\n",
       "    }\n",
       "\n",
       "    .dataframe tbody tr th {\n",
       "        vertical-align: top;\n",
       "    }\n",
       "\n",
       "    .dataframe thead th {\n",
       "        text-align: right;\n",
       "    }\n",
       "</style>\n",
       "<table border=\"1\" class=\"dataframe\">\n",
       "  <thead>\n",
       "    <tr style=\"text-align: right;\">\n",
       "      <th></th>\n",
       "      <th>date</th>\n",
       "      <th>open</th>\n",
       "      <th>high</th>\n",
       "      <th>low</th>\n",
       "      <th>close</th>\n",
       "      <th>volume</th>\n",
       "      <th>adj_close</th>\n",
       "      <th>pos</th>\n",
       "      <th>neu</th>\n",
       "      <th>neg</th>\n",
       "      <th>...</th>\n",
       "      <th>sma_10</th>\n",
       "      <th>ema_10</th>\n",
       "      <th>lag_25</th>\n",
       "      <th>sma_25</th>\n",
       "      <th>ema_25</th>\n",
       "      <th>quarter</th>\n",
       "      <th>dow</th>\n",
       "      <th>q_mean</th>\n",
       "      <th>q_std</th>\n",
       "      <th>q_skew</th>\n",
       "    </tr>\n",
       "  </thead>\n",
       "  <tbody>\n",
       "    <tr>\n",
       "      <th>0</th>\n",
       "      <td>2008-09-16</td>\n",
       "      <td>10905.620117</td>\n",
       "      <td>11093.219727</td>\n",
       "      <td>10742.700195</td>\n",
       "      <td>11059.019531</td>\n",
       "      <td>494760000</td>\n",
       "      <td>11059.019531</td>\n",
       "      <td>0.037859</td>\n",
       "      <td>0.649857</td>\n",
       "      <td>0.312283</td>\n",
       "      <td>...</td>\n",
       "      <td>-0.004057</td>\n",
       "      <td>-0.003995</td>\n",
       "      <td>0.004085</td>\n",
       "      <td>-0.002534</td>\n",
       "      <td>-0.002034</td>\n",
       "      <td>3</td>\n",
       "      <td>1</td>\n",
       "      <td>-0.002886</td>\n",
       "      <td>0.016242</td>\n",
       "      <td>-0.717302</td>\n",
       "    </tr>\n",
       "    <tr>\n",
       "      <th>1</th>\n",
       "      <td>2008-09-17</td>\n",
       "      <td>11056.580078</td>\n",
       "      <td>11057.309570</td>\n",
       "      <td>10595.900391</td>\n",
       "      <td>10609.660156</td>\n",
       "      <td>463200000</td>\n",
       "      <td>10609.660156</td>\n",
       "      <td>0.020132</td>\n",
       "      <td>0.695084</td>\n",
       "      <td>0.284784</td>\n",
       "      <td>...</td>\n",
       "      <td>-0.008344</td>\n",
       "      <td>-0.010810</td>\n",
       "      <td>-0.011943</td>\n",
       "      <td>-0.003716</td>\n",
       "      <td>-0.005068</td>\n",
       "      <td>3</td>\n",
       "      <td>2</td>\n",
       "      <td>-0.002280</td>\n",
       "      <td>0.016211</td>\n",
       "      <td>-0.771974</td>\n",
       "    </tr>\n",
       "    <tr>\n",
       "      <th>2</th>\n",
       "      <td>2008-09-18</td>\n",
       "      <td>10609.009766</td>\n",
       "      <td>11076.440430</td>\n",
       "      <td>10459.440430</td>\n",
       "      <td>11019.690430</td>\n",
       "      <td>488060000</td>\n",
       "      <td>11019.690430</td>\n",
       "      <td>0.076621</td>\n",
       "      <td>0.751735</td>\n",
       "      <td>0.171643</td>\n",
       "      <td>...</td>\n",
       "      <td>-0.001518</td>\n",
       "      <td>-0.001951</td>\n",
       "      <td>-0.009451</td>\n",
       "      <td>-0.001821</td>\n",
       "      <td>-0.001761</td>\n",
       "      <td>3</td>\n",
       "      <td>3</td>\n",
       "      <td>-0.003732</td>\n",
       "      <td>0.017596</td>\n",
       "      <td>-0.770069</td>\n",
       "    </tr>\n",
       "    <tr>\n",
       "      <th>3</th>\n",
       "      <td>2008-09-19</td>\n",
       "      <td>11027.509766</td>\n",
       "      <td>11483.049805</td>\n",
       "      <td>11026.700195</td>\n",
       "      <td>11388.440430</td>\n",
       "      <td>655110000</td>\n",
       "      <td>11388.440430</td>\n",
       "      <td>0.000513</td>\n",
       "      <td>0.772076</td>\n",
       "      <td>0.227411</td>\n",
       "      <td>...</td>\n",
       "      <td>0.001482</td>\n",
       "      <td>0.004389</td>\n",
       "      <td>0.007168</td>\n",
       "      <td>-0.000791</td>\n",
       "      <td>0.000906</td>\n",
       "      <td>3</td>\n",
       "      <td>4</td>\n",
       "      <td>-0.002244</td>\n",
       "      <td>0.018976</td>\n",
       "      <td>-0.421549</td>\n",
       "    </tr>\n",
       "    <tr>\n",
       "      <th>4</th>\n",
       "      <td>2008-09-22</td>\n",
       "      <td>11394.419922</td>\n",
       "      <td>11394.580078</td>\n",
       "      <td>10992.200195</td>\n",
       "      <td>11015.690430</td>\n",
       "      <td>213210000</td>\n",
       "      <td>11015.690430</td>\n",
       "      <td>0.100864</td>\n",
       "      <td>0.619301</td>\n",
       "      <td>0.279835</td>\n",
       "      <td>...</td>\n",
       "      <td>-0.004396</td>\n",
       "      <td>-0.002460</td>\n",
       "      <td>0.003778</td>\n",
       "      <td>-0.002273</td>\n",
       "      <td>-0.001724</td>\n",
       "      <td>3</td>\n",
       "      <td>0</td>\n",
       "      <td>-0.001032</td>\n",
       "      <td>0.019745</td>\n",
       "      <td>-0.341408</td>\n",
       "    </tr>\n",
       "    <tr>\n",
       "      <th>...</th>\n",
       "      <td>...</td>\n",
       "      <td>...</td>\n",
       "      <td>...</td>\n",
       "      <td>...</td>\n",
       "      <td>...</td>\n",
       "      <td>...</td>\n",
       "      <td>...</td>\n",
       "      <td>...</td>\n",
       "      <td>...</td>\n",
       "      <td>...</td>\n",
       "      <td>...</td>\n",
       "      <td>...</td>\n",
       "      <td>...</td>\n",
       "      <td>...</td>\n",
       "      <td>...</td>\n",
       "      <td>...</td>\n",
       "      <td>...</td>\n",
       "      <td>...</td>\n",
       "      <td>...</td>\n",
       "      <td>...</td>\n",
       "      <td>...</td>\n",
       "    </tr>\n",
       "    <tr>\n",
       "      <th>1958</th>\n",
       "      <td>2016-06-27</td>\n",
       "      <td>17355.210938</td>\n",
       "      <td>17355.210938</td>\n",
       "      <td>17063.080078</td>\n",
       "      <td>17140.240234</td>\n",
       "      <td>138740000</td>\n",
       "      <td>17140.240234</td>\n",
       "      <td>0.065429</td>\n",
       "      <td>0.684537</td>\n",
       "      <td>0.250034</td>\n",
       "      <td>...</td>\n",
       "      <td>-0.003397</td>\n",
       "      <td>-0.006286</td>\n",
       "      <td>0.003752</td>\n",
       "      <td>-0.000833</td>\n",
       "      <td>-0.002734</td>\n",
       "      <td>2</td>\n",
       "      <td>0</td>\n",
       "      <td>0.000002</td>\n",
       "      <td>0.009594</td>\n",
       "      <td>-0.183067</td>\n",
       "    </tr>\n",
       "    <tr>\n",
       "      <th>1959</th>\n",
       "      <td>2016-06-28</td>\n",
       "      <td>17190.509766</td>\n",
       "      <td>17409.720703</td>\n",
       "      <td>17190.509766</td>\n",
       "      <td>17409.720703</td>\n",
       "      <td>112190000</td>\n",
       "      <td>17409.720703</td>\n",
       "      <td>0.086932</td>\n",
       "      <td>0.714076</td>\n",
       "      <td>0.198991</td>\n",
       "      <td>...</td>\n",
       "      <td>-0.001511</td>\n",
       "      <td>-0.002307</td>\n",
       "      <td>-0.000458</td>\n",
       "      <td>-0.000191</td>\n",
       "      <td>-0.001324</td>\n",
       "      <td>2</td>\n",
       "      <td>1</td>\n",
       "      <td>-0.000028</td>\n",
       "      <td>0.009608</td>\n",
       "      <td>-0.180243</td>\n",
       "    </tr>\n",
       "    <tr>\n",
       "      <th>1960</th>\n",
       "      <td>2016-06-29</td>\n",
       "      <td>17456.019531</td>\n",
       "      <td>17704.509766</td>\n",
       "      <td>17456.019531</td>\n",
       "      <td>17694.679688</td>\n",
       "      <td>106380000</td>\n",
       "      <td>17694.679688</td>\n",
       "      <td>0.114712</td>\n",
       "      <td>0.673349</td>\n",
       "      <td>0.211939</td>\n",
       "      <td>...</td>\n",
       "      <td>0.000309</td>\n",
       "      <td>0.001064</td>\n",
       "      <td>0.012110</td>\n",
       "      <td>-0.000026</td>\n",
       "      <td>0.000027</td>\n",
       "      <td>2</td>\n",
       "      <td>2</td>\n",
       "      <td>0.000003</td>\n",
       "      <td>0.009624</td>\n",
       "      <td>-0.180164</td>\n",
       "    </tr>\n",
       "    <tr>\n",
       "      <th>1961</th>\n",
       "      <td>2016-06-30</td>\n",
       "      <td>17712.759766</td>\n",
       "      <td>17930.609375</td>\n",
       "      <td>17711.800781</td>\n",
       "      <td>17929.990234</td>\n",
       "      <td>133030000</td>\n",
       "      <td>17929.990234</td>\n",
       "      <td>0.040575</td>\n",
       "      <td>0.727080</td>\n",
       "      <td>0.232345</td>\n",
       "      <td>...</td>\n",
       "      <td>0.001104</td>\n",
       "      <td>0.003273</td>\n",
       "      <td>0.008182</td>\n",
       "      <td>0.000175</td>\n",
       "      <td>0.001041</td>\n",
       "      <td>2</td>\n",
       "      <td>3</td>\n",
       "      <td>0.000036</td>\n",
       "      <td>0.009641</td>\n",
       "      <td>-0.179361</td>\n",
       "    </tr>\n",
       "    <tr>\n",
       "      <th>1962</th>\n",
       "      <td>2016-07-01</td>\n",
       "      <td>17924.240234</td>\n",
       "      <td>18002.380859</td>\n",
       "      <td>17916.910156</td>\n",
       "      <td>17949.369141</td>\n",
       "      <td>82160000</td>\n",
       "      <td>17949.369141</td>\n",
       "      <td>0.043626</td>\n",
       "      <td>0.752016</td>\n",
       "      <td>0.204358</td>\n",
       "      <td>...</td>\n",
       "      <td>0.001539</td>\n",
       "      <td>0.002874</td>\n",
       "      <td>-0.001302</td>\n",
       "      <td>0.000271</td>\n",
       "      <td>0.001044</td>\n",
       "      <td>3</td>\n",
       "      <td>4</td>\n",
       "      <td>0.000046</td>\n",
       "      <td>0.012306</td>\n",
       "      <td>-0.836425</td>\n",
       "    </tr>\n",
       "  </tbody>\n",
       "</table>\n",
       "<p>1963 rows × 77 columns</p>\n",
       "</div>"
      ]
     },
     "execution_count": 3,
     "metadata": {},
     "output_type": "execute_result"
    }
   ],
   "execution_count": 3
  },
  {
   "metadata": {
    "ExecuteTime": {
     "end_time": "2025-08-20T14:29:49.894307Z",
     "start_time": "2025-08-20T14:29:49.889840Z"
    }
   },
   "cell_type": "code",
   "source": "train, val, test, forecast = time_series_split(df_full, train_ratio=0.8, val_ratio=0.1, horizon=horizon)",
   "id": "f722820728e9d6e5",
   "outputs": [],
   "execution_count": 4
  },
  {
   "metadata": {
    "ExecuteTime": {
     "end_time": "2025-08-20T14:29:49.940662Z",
     "start_time": "2025-08-20T14:29:49.936298Z"
    }
   },
   "cell_type": "code",
   "source": [
    "drop_cols = [\"open\", \"high\", \"low\", \"close\", \"volume\", \"adj_close\"]\n",
    "target_cols = [c for c in df_full.columns if c == \"target\" or c.startswith(\"target_\")]\n",
    "sentiment_cols = [\"pos\", \"neg\", \"neu\", \"pos_minus_neg\"] + [c for c in df_full.columns if c.startswith(\"emb_\")]\n",
    "\n",
    "feature_cols = [c for c in df_full.columns if c not in target_cols + [\"date\"] + drop_cols + sentiment_cols]\n",
    "\n",
    "X_train, y_train = train[feature_cols], train[target_cols]\n",
    "X_val, y_val = val[feature_cols], val[target_cols]\n",
    "X_test, y_test = test[feature_cols], test[target_cols]\n",
    "X_forecast = forecast[feature_cols]"
   ],
   "id": "d3a9d216c01dbafa",
   "outputs": [],
   "execution_count": 5
  },
  {
   "metadata": {
    "ExecuteTime": {
     "end_time": "2025-08-20T14:29:54.485554Z",
     "start_time": "2025-08-20T14:29:54.473240Z"
    }
   },
   "cell_type": "code",
   "source": "X_test.to_parquet(Path(cfg.data.processed_dir) / \"X_test_wo_sent_30.parquet\", index=False)",
   "id": "9c69710e7cd458d",
   "outputs": [],
   "execution_count": 6
  },
  {
   "metadata": {
    "ExecuteTime": {
     "end_time": "2025-08-20T14:29:54.800350Z",
     "start_time": "2025-08-20T14:29:54.797629Z"
    }
   },
   "cell_type": "code",
   "source": "preprocessor, _ = get_preprocessor(X_train)",
   "id": "5f4b3fd6eea35c77",
   "outputs": [],
   "execution_count": 7
  },
  {
   "metadata": {
    "ExecuteTime": {
     "end_time": "2025-08-20T14:29:55.389628Z",
     "start_time": "2025-08-20T14:29:55.385580Z"
    }
   },
   "cell_type": "code",
   "source": [
    "model = LinearElasticNet(\n",
    "    horizon=horizon,\n",
    "    multioutput=True,\n",
    "    random_state=cfg.runtime.seed,\n",
    "    max_iter=2000\n",
    ")\n",
    "\n",
    "trainer = ModelTrainer(\n",
    "    model=model,\n",
    "    name=\"enet_mo_wo_sent_30\",\n",
    "    config={\n",
    "        \"optimization_metric\": \"rmse\",\n",
    "        \"gap\": 0,\n",
    "        \"seed\": cfg.runtime.seed\n",
    "    },\n",
    "    preprocessor=preprocessor,\n",
    "    y_scale=True\n",
    ")"
   ],
   "id": "3304676125d0bd0e",
   "outputs": [
    {
     "name": "stderr",
     "output_type": "stream",
     "text": [
      "2025-08-20 16:29:55,387 - INFO - ModelTrainer - Initialized ModelTrainer for model: enet_mo_wo_sent_30\n"
     ]
    }
   ],
   "execution_count": 8
  },
  {
   "metadata": {
    "ExecuteTime": {
     "end_time": "2025-08-20T14:30:12.680204Z",
     "start_time": "2025-08-20T14:29:57.825766Z"
    }
   },
   "cell_type": "code",
   "source": [
    "study = optuna.create_study(direction=\"minimize\", sampler=optuna.samplers.TPESampler(seed=cfg.runtime.seed))\n",
    "study.optimize(lambda trial: trainer.objective(trial, X_train, y_train), n_trials=30)\n",
    "best_params = study.best_trial.user_attrs[\"best_params\"]\n",
    "trainer.fit(X_train, y_train, X_val, y_val, best_params=best_params)"
   ],
   "id": "dc62c1ee85c97fe9",
   "outputs": [
    {
     "name": "stderr",
     "output_type": "stream",
     "text": [
      "[I 2025-08-20 16:29:57,827] A new study created in memory with name: no-name-b8480de4-0a6c-4dc0-8179-c6828f47dfe6\n",
      "D:\\IntelliJ\\ml-stock-sent\\.venv\\Lib\\site-packages\\sklearn\\linear_model\\_coordinate_descent.py:695: ConvergenceWarning: Objective did not converge. You might want to increase the number of iterations, check the scale of the features or consider increasing regularisation. Duality gap: 3.499e+01, tolerance: 3.880e-02\n",
      "  model = cd_fast.enet_coordinate_descent(\n",
      "D:\\IntelliJ\\ml-stock-sent\\.venv\\Lib\\site-packages\\sklearn\\linear_model\\_coordinate_descent.py:695: ConvergenceWarning: Objective did not converge. You might want to increase the number of iterations, check the scale of the features or consider increasing regularisation. Duality gap: 1.816e+01, tolerance: 3.880e-02\n",
      "  model = cd_fast.enet_coordinate_descent(\n",
      "D:\\IntelliJ\\ml-stock-sent\\.venv\\Lib\\site-packages\\sklearn\\linear_model\\_coordinate_descent.py:695: ConvergenceWarning: Objective did not converge. You might want to increase the number of iterations, check the scale of the features or consider increasing regularisation. Duality gap: 1.719e+00, tolerance: 3.880e-02\n",
      "  model = cd_fast.enet_coordinate_descent(\n",
      "D:\\IntelliJ\\ml-stock-sent\\.venv\\Lib\\site-packages\\sklearn\\linear_model\\_coordinate_descent.py:695: ConvergenceWarning: Objective did not converge. You might want to increase the number of iterations, check the scale of the features or consider increasing regularisation. Duality gap: 1.649e+01, tolerance: 3.880e-02\n",
      "  model = cd_fast.enet_coordinate_descent(\n",
      "D:\\IntelliJ\\ml-stock-sent\\.venv\\Lib\\site-packages\\sklearn\\linear_model\\_coordinate_descent.py:695: ConvergenceWarning: Objective did not converge. You might want to increase the number of iterations, check the scale of the features or consider increasing regularisation. Duality gap: 5.000e+01, tolerance: 3.880e-02\n",
      "  model = cd_fast.enet_coordinate_descent(\n",
      "D:\\IntelliJ\\ml-stock-sent\\.venv\\Lib\\site-packages\\sklearn\\linear_model\\_coordinate_descent.py:695: ConvergenceWarning: Objective did not converge. You might want to increase the number of iterations, check the scale of the features or consider increasing regularisation. Duality gap: 9.067e-01, tolerance: 3.880e-02\n",
      "  model = cd_fast.enet_coordinate_descent(\n",
      "D:\\IntelliJ\\ml-stock-sent\\.venv\\Lib\\site-packages\\sklearn\\linear_model\\_coordinate_descent.py:695: ConvergenceWarning: Objective did not converge. You might want to increase the number of iterations, check the scale of the features or consider increasing regularisation. Duality gap: 9.950e+00, tolerance: 3.880e-02\n",
      "  model = cd_fast.enet_coordinate_descent(\n",
      "D:\\IntelliJ\\ml-stock-sent\\.venv\\Lib\\site-packages\\sklearn\\linear_model\\_coordinate_descent.py:695: ConvergenceWarning: Objective did not converge. You might want to increase the number of iterations, check the scale of the features or consider increasing regularisation. Duality gap: 2.437e+01, tolerance: 3.880e-02\n",
      "  model = cd_fast.enet_coordinate_descent(\n",
      "D:\\IntelliJ\\ml-stock-sent\\.venv\\Lib\\site-packages\\sklearn\\linear_model\\_coordinate_descent.py:695: ConvergenceWarning: Objective did not converge. You might want to increase the number of iterations, check the scale of the features or consider increasing regularisation. Duality gap: 5.436e-02, tolerance: 3.880e-02\n",
      "  model = cd_fast.enet_coordinate_descent(\n",
      "D:\\IntelliJ\\ml-stock-sent\\.venv\\Lib\\site-packages\\sklearn\\linear_model\\_coordinate_descent.py:695: ConvergenceWarning: Objective did not converge. You might want to increase the number of iterations, check the scale of the features or consider increasing regularisation. Duality gap: 1.471e+00, tolerance: 3.880e-02\n",
      "  model = cd_fast.enet_coordinate_descent(\n",
      "D:\\IntelliJ\\ml-stock-sent\\.venv\\Lib\\site-packages\\sklearn\\linear_model\\_coordinate_descent.py:695: ConvergenceWarning: Objective did not converge. You might want to increase the number of iterations, check the scale of the features or consider increasing regularisation. Duality gap: 3.136e+01, tolerance: 3.880e-02\n",
      "  model = cd_fast.enet_coordinate_descent(\n",
      "D:\\IntelliJ\\ml-stock-sent\\.venv\\Lib\\site-packages\\sklearn\\linear_model\\_coordinate_descent.py:695: ConvergenceWarning: Objective did not converge. You might want to increase the number of iterations, check the scale of the features or consider increasing regularisation. Duality gap: 4.890e+01, tolerance: 3.880e-02\n",
      "  model = cd_fast.enet_coordinate_descent(\n",
      "D:\\IntelliJ\\ml-stock-sent\\.venv\\Lib\\site-packages\\sklearn\\linear_model\\_coordinate_descent.py:695: ConvergenceWarning: Objective did not converge. You might want to increase the number of iterations, check the scale of the features or consider increasing regularisation. Duality gap: 7.600e+00, tolerance: 3.880e-02\n",
      "  model = cd_fast.enet_coordinate_descent(\n",
      "D:\\IntelliJ\\ml-stock-sent\\.venv\\Lib\\site-packages\\sklearn\\linear_model\\_coordinate_descent.py:695: ConvergenceWarning: Objective did not converge. You might want to increase the number of iterations, check the scale of the features or consider increasing regularisation. Duality gap: 1.223e+01, tolerance: 3.880e-02\n",
      "  model = cd_fast.enet_coordinate_descent(\n",
      "D:\\IntelliJ\\ml-stock-sent\\.venv\\Lib\\site-packages\\sklearn\\linear_model\\_coordinate_descent.py:695: ConvergenceWarning: Objective did not converge. You might want to increase the number of iterations, check the scale of the features or consider increasing regularisation. Duality gap: 2.058e+01, tolerance: 3.880e-02\n",
      "  model = cd_fast.enet_coordinate_descent(\n",
      "D:\\IntelliJ\\ml-stock-sent\\.venv\\Lib\\site-packages\\sklearn\\linear_model\\_coordinate_descent.py:695: ConvergenceWarning: Objective did not converge. You might want to increase the number of iterations, check the scale of the features or consider increasing regularisation. Duality gap: 2.066e+01, tolerance: 3.880e-02\n",
      "  model = cd_fast.enet_coordinate_descent(\n",
      "D:\\IntelliJ\\ml-stock-sent\\.venv\\Lib\\site-packages\\sklearn\\linear_model\\_coordinate_descent.py:695: ConvergenceWarning: Objective did not converge. You might want to increase the number of iterations, check the scale of the features or consider increasing regularisation. Duality gap: 4.290e-01, tolerance: 3.880e-02\n",
      "  model = cd_fast.enet_coordinate_descent(\n",
      "D:\\IntelliJ\\ml-stock-sent\\.venv\\Lib\\site-packages\\sklearn\\linear_model\\_coordinate_descent.py:695: ConvergenceWarning: Objective did not converge. You might want to increase the number of iterations, check the scale of the features or consider increasing regularisation. Duality gap: 2.661e+00, tolerance: 3.880e-02\n",
      "  model = cd_fast.enet_coordinate_descent(\n",
      "D:\\IntelliJ\\ml-stock-sent\\.venv\\Lib\\site-packages\\sklearn\\linear_model\\_coordinate_descent.py:695: ConvergenceWarning: Objective did not converge. You might want to increase the number of iterations, check the scale of the features or consider increasing regularisation. Duality gap: 2.389e+01, tolerance: 3.880e-02\n",
      "  model = cd_fast.enet_coordinate_descent(\n",
      "D:\\IntelliJ\\ml-stock-sent\\.venv\\Lib\\site-packages\\sklearn\\linear_model\\_coordinate_descent.py:695: ConvergenceWarning: Objective did not converge. You might want to increase the number of iterations, check the scale of the features or consider increasing regularisation. Duality gap: 2.364e+01, tolerance: 3.880e-02\n",
      "  model = cd_fast.enet_coordinate_descent(\n",
      "D:\\IntelliJ\\ml-stock-sent\\.venv\\Lib\\site-packages\\sklearn\\linear_model\\_coordinate_descent.py:695: ConvergenceWarning: Objective did not converge. You might want to increase the number of iterations, check the scale of the features or consider increasing regularisation. Duality gap: 1.870e+01, tolerance: 3.880e-02\n",
      "  model = cd_fast.enet_coordinate_descent(\n",
      "D:\\IntelliJ\\ml-stock-sent\\.venv\\Lib\\site-packages\\sklearn\\linear_model\\_coordinate_descent.py:695: ConvergenceWarning: Objective did not converge. You might want to increase the number of iterations, check the scale of the features or consider increasing regularisation. Duality gap: 4.636e-01, tolerance: 3.880e-02\n",
      "  model = cd_fast.enet_coordinate_descent(\n",
      "D:\\IntelliJ\\ml-stock-sent\\.venv\\Lib\\site-packages\\sklearn\\linear_model\\_coordinate_descent.py:695: ConvergenceWarning: Objective did not converge. You might want to increase the number of iterations, check the scale of the features or consider increasing regularisation. Duality gap: 3.134e-01, tolerance: 3.880e-02\n",
      "  model = cd_fast.enet_coordinate_descent(\n",
      "D:\\IntelliJ\\ml-stock-sent\\.venv\\Lib\\site-packages\\sklearn\\linear_model\\_coordinate_descent.py:695: ConvergenceWarning: Objective did not converge. You might want to increase the number of iterations, check the scale of the features or consider increasing regularisation. Duality gap: 1.340e+01, tolerance: 3.880e-02\n",
      "  model = cd_fast.enet_coordinate_descent(\n",
      "D:\\IntelliJ\\ml-stock-sent\\.venv\\Lib\\site-packages\\sklearn\\linear_model\\_coordinate_descent.py:695: ConvergenceWarning: Objective did not converge. You might want to increase the number of iterations, check the scale of the features or consider increasing regularisation. Duality gap: 4.270e+00, tolerance: 3.880e-02\n",
      "  model = cd_fast.enet_coordinate_descent(\n",
      "D:\\IntelliJ\\ml-stock-sent\\.venv\\Lib\\site-packages\\sklearn\\linear_model\\_coordinate_descent.py:695: ConvergenceWarning: Objective did not converge. You might want to increase the number of iterations, check the scale of the features or consider increasing regularisation. Duality gap: 1.072e+01, tolerance: 3.880e-02\n",
      "  model = cd_fast.enet_coordinate_descent(\n",
      "D:\\IntelliJ\\ml-stock-sent\\.venv\\Lib\\site-packages\\sklearn\\linear_model\\_coordinate_descent.py:695: ConvergenceWarning: Objective did not converge. You might want to increase the number of iterations, check the scale of the features or consider increasing regularisation. Duality gap: 2.413e+01, tolerance: 7.740e-02\n",
      "  model = cd_fast.enet_coordinate_descent(\n",
      "D:\\IntelliJ\\ml-stock-sent\\.venv\\Lib\\site-packages\\sklearn\\linear_model\\_coordinate_descent.py:695: ConvergenceWarning: Objective did not converge. You might want to increase the number of iterations, check the scale of the features or consider increasing regularisation. Duality gap: 2.667e+01, tolerance: 7.740e-02\n",
      "  model = cd_fast.enet_coordinate_descent(\n",
      "D:\\IntelliJ\\ml-stock-sent\\.venv\\Lib\\site-packages\\sklearn\\linear_model\\_coordinate_descent.py:695: ConvergenceWarning: Objective did not converge. You might want to increase the number of iterations, check the scale of the features or consider increasing regularisation. Duality gap: 3.000e+00, tolerance: 7.740e-02\n",
      "  model = cd_fast.enet_coordinate_descent(\n",
      "D:\\IntelliJ\\ml-stock-sent\\.venv\\Lib\\site-packages\\sklearn\\linear_model\\_coordinate_descent.py:695: ConvergenceWarning: Objective did not converge. You might want to increase the number of iterations, check the scale of the features or consider increasing regularisation. Duality gap: 3.327e+00, tolerance: 7.740e-02\n",
      "  model = cd_fast.enet_coordinate_descent(\n",
      "D:\\IntelliJ\\ml-stock-sent\\.venv\\Lib\\site-packages\\sklearn\\linear_model\\_coordinate_descent.py:695: ConvergenceWarning: Objective did not converge. You might want to increase the number of iterations, check the scale of the features or consider increasing regularisation. Duality gap: 6.435e+01, tolerance: 7.740e-02\n",
      "  model = cd_fast.enet_coordinate_descent(\n",
      "D:\\IntelliJ\\ml-stock-sent\\.venv\\Lib\\site-packages\\sklearn\\linear_model\\_coordinate_descent.py:695: ConvergenceWarning: Objective did not converge. You might want to increase the number of iterations, check the scale of the features or consider increasing regularisation. Duality gap: 2.544e+00, tolerance: 7.740e-02\n",
      "  model = cd_fast.enet_coordinate_descent(\n",
      "D:\\IntelliJ\\ml-stock-sent\\.venv\\Lib\\site-packages\\sklearn\\linear_model\\_coordinate_descent.py:695: ConvergenceWarning: Objective did not converge. You might want to increase the number of iterations, check the scale of the features or consider increasing regularisation. Duality gap: 1.126e+01, tolerance: 7.740e-02\n",
      "  model = cd_fast.enet_coordinate_descent(\n",
      "D:\\IntelliJ\\ml-stock-sent\\.venv\\Lib\\site-packages\\sklearn\\linear_model\\_coordinate_descent.py:695: ConvergenceWarning: Objective did not converge. You might want to increase the number of iterations, check the scale of the features or consider increasing regularisation. Duality gap: 2.773e+01, tolerance: 7.740e-02\n",
      "  model = cd_fast.enet_coordinate_descent(\n",
      "D:\\IntelliJ\\ml-stock-sent\\.venv\\Lib\\site-packages\\sklearn\\linear_model\\_coordinate_descent.py:695: ConvergenceWarning: Objective did not converge. You might want to increase the number of iterations, check the scale of the features or consider increasing regularisation. Duality gap: 1.138e+01, tolerance: 7.740e-02\n",
      "  model = cd_fast.enet_coordinate_descent(\n",
      "D:\\IntelliJ\\ml-stock-sent\\.venv\\Lib\\site-packages\\sklearn\\linear_model\\_coordinate_descent.py:695: ConvergenceWarning: Objective did not converge. You might want to increase the number of iterations, check the scale of the features or consider increasing regularisation. Duality gap: 1.191e+01, tolerance: 7.740e-02\n",
      "  model = cd_fast.enet_coordinate_descent(\n",
      "D:\\IntelliJ\\ml-stock-sent\\.venv\\Lib\\site-packages\\sklearn\\linear_model\\_coordinate_descent.py:695: ConvergenceWarning: Objective did not converge. You might want to increase the number of iterations, check the scale of the features or consider increasing regularisation. Duality gap: 6.566e+01, tolerance: 7.740e-02\n",
      "  model = cd_fast.enet_coordinate_descent(\n",
      "D:\\IntelliJ\\ml-stock-sent\\.venv\\Lib\\site-packages\\sklearn\\linear_model\\_coordinate_descent.py:695: ConvergenceWarning: Objective did not converge. You might want to increase the number of iterations, check the scale of the features or consider increasing regularisation. Duality gap: 9.418e+00, tolerance: 7.740e-02\n",
      "  model = cd_fast.enet_coordinate_descent(\n",
      "D:\\IntelliJ\\ml-stock-sent\\.venv\\Lib\\site-packages\\sklearn\\linear_model\\_coordinate_descent.py:695: ConvergenceWarning: Objective did not converge. You might want to increase the number of iterations, check the scale of the features or consider increasing regularisation. Duality gap: 2.528e+01, tolerance: 7.740e-02\n",
      "  model = cd_fast.enet_coordinate_descent(\n",
      "D:\\IntelliJ\\ml-stock-sent\\.venv\\Lib\\site-packages\\sklearn\\linear_model\\_coordinate_descent.py:695: ConvergenceWarning: Objective did not converge. You might want to increase the number of iterations, check the scale of the features or consider increasing regularisation. Duality gap: 9.608e+00, tolerance: 7.740e-02\n",
      "  model = cd_fast.enet_coordinate_descent(\n",
      "D:\\IntelliJ\\ml-stock-sent\\.venv\\Lib\\site-packages\\sklearn\\linear_model\\_coordinate_descent.py:695: ConvergenceWarning: Objective did not converge. You might want to increase the number of iterations, check the scale of the features or consider increasing regularisation. Duality gap: 3.892e+01, tolerance: 7.740e-02\n",
      "  model = cd_fast.enet_coordinate_descent(\n",
      "D:\\IntelliJ\\ml-stock-sent\\.venv\\Lib\\site-packages\\sklearn\\linear_model\\_coordinate_descent.py:695: ConvergenceWarning: Objective did not converge. You might want to increase the number of iterations, check the scale of the features or consider increasing regularisation. Duality gap: 5.049e-01, tolerance: 7.740e-02\n",
      "  model = cd_fast.enet_coordinate_descent(\n",
      "D:\\IntelliJ\\ml-stock-sent\\.venv\\Lib\\site-packages\\sklearn\\linear_model\\_coordinate_descent.py:695: ConvergenceWarning: Objective did not converge. You might want to increase the number of iterations, check the scale of the features or consider increasing regularisation. Duality gap: 1.482e-01, tolerance: 7.740e-02\n",
      "  model = cd_fast.enet_coordinate_descent(\n",
      "D:\\IntelliJ\\ml-stock-sent\\.venv\\Lib\\site-packages\\sklearn\\linear_model\\_coordinate_descent.py:695: ConvergenceWarning: Objective did not converge. You might want to increase the number of iterations, check the scale of the features or consider increasing regularisation. Duality gap: 1.210e-01, tolerance: 7.740e-02\n",
      "  model = cd_fast.enet_coordinate_descent(\n",
      "D:\\IntelliJ\\ml-stock-sent\\.venv\\Lib\\site-packages\\sklearn\\linear_model\\_coordinate_descent.py:695: ConvergenceWarning: Objective did not converge. You might want to increase the number of iterations, check the scale of the features or consider increasing regularisation. Duality gap: 1.087e+01, tolerance: 7.740e-02\n",
      "  model = cd_fast.enet_coordinate_descent(\n",
      "D:\\IntelliJ\\ml-stock-sent\\.venv\\Lib\\site-packages\\sklearn\\linear_model\\_coordinate_descent.py:695: ConvergenceWarning: Objective did not converge. You might want to increase the number of iterations, check the scale of the features or consider increasing regularisation. Duality gap: 9.928e+00, tolerance: 7.740e-02\n",
      "  model = cd_fast.enet_coordinate_descent(\n",
      "D:\\IntelliJ\\ml-stock-sent\\.venv\\Lib\\site-packages\\sklearn\\linear_model\\_coordinate_descent.py:695: ConvergenceWarning: Objective did not converge. You might want to increase the number of iterations, check the scale of the features or consider increasing regularisation. Duality gap: 5.828e-01, tolerance: 7.740e-02\n",
      "  model = cd_fast.enet_coordinate_descent(\n",
      "D:\\IntelliJ\\ml-stock-sent\\.venv\\Lib\\site-packages\\sklearn\\linear_model\\_coordinate_descent.py:695: ConvergenceWarning: Objective did not converge. You might want to increase the number of iterations, check the scale of the features or consider increasing regularisation. Duality gap: 3.378e+01, tolerance: 7.740e-02\n",
      "  model = cd_fast.enet_coordinate_descent(\n",
      "D:\\IntelliJ\\ml-stock-sent\\.venv\\Lib\\site-packages\\sklearn\\linear_model\\_coordinate_descent.py:695: ConvergenceWarning: Objective did not converge. You might want to increase the number of iterations, check the scale of the features or consider increasing regularisation. Duality gap: 5.148e+01, tolerance: 7.740e-02\n",
      "  model = cd_fast.enet_coordinate_descent(\n",
      "D:\\IntelliJ\\ml-stock-sent\\.venv\\Lib\\site-packages\\sklearn\\linear_model\\_coordinate_descent.py:695: ConvergenceWarning: Objective did not converge. You might want to increase the number of iterations, check the scale of the features or consider increasing regularisation. Duality gap: 8.799e+00, tolerance: 7.740e-02\n",
      "  model = cd_fast.enet_coordinate_descent(\n",
      "D:\\IntelliJ\\ml-stock-sent\\.venv\\Lib\\site-packages\\sklearn\\linear_model\\_coordinate_descent.py:695: ConvergenceWarning: Objective did not converge. You might want to increase the number of iterations, check the scale of the features or consider increasing regularisation. Duality gap: 4.732e-01, tolerance: 7.740e-02\n",
      "  model = cd_fast.enet_coordinate_descent(\n",
      "D:\\IntelliJ\\ml-stock-sent\\.venv\\Lib\\site-packages\\sklearn\\linear_model\\_coordinate_descent.py:695: ConvergenceWarning: Objective did not converge. You might want to increase the number of iterations, check the scale of the features or consider increasing regularisation. Duality gap: 2.923e+01, tolerance: 1.160e-01\n",
      "  model = cd_fast.enet_coordinate_descent(\n",
      "D:\\IntelliJ\\ml-stock-sent\\.venv\\Lib\\site-packages\\sklearn\\linear_model\\_coordinate_descent.py:695: ConvergenceWarning: Objective did not converge. You might want to increase the number of iterations, check the scale of the features or consider increasing regularisation. Duality gap: 2.696e+01, tolerance: 1.160e-01\n",
      "  model = cd_fast.enet_coordinate_descent(\n",
      "D:\\IntelliJ\\ml-stock-sent\\.venv\\Lib\\site-packages\\sklearn\\linear_model\\_coordinate_descent.py:695: ConvergenceWarning: Objective did not converge. You might want to increase the number of iterations, check the scale of the features or consider increasing regularisation. Duality gap: 9.925e+00, tolerance: 1.160e-01\n",
      "  model = cd_fast.enet_coordinate_descent(\n",
      "D:\\IntelliJ\\ml-stock-sent\\.venv\\Lib\\site-packages\\sklearn\\linear_model\\_coordinate_descent.py:695: ConvergenceWarning: Objective did not converge. You might want to increase the number of iterations, check the scale of the features or consider increasing regularisation. Duality gap: 1.638e+01, tolerance: 1.160e-01\n",
      "  model = cd_fast.enet_coordinate_descent(\n",
      "D:\\IntelliJ\\ml-stock-sent\\.venv\\Lib\\site-packages\\sklearn\\linear_model\\_coordinate_descent.py:695: ConvergenceWarning: Objective did not converge. You might want to increase the number of iterations, check the scale of the features or consider increasing regularisation. Duality gap: 9.417e+01, tolerance: 1.160e-01\n",
      "  model = cd_fast.enet_coordinate_descent(\n",
      "D:\\IntelliJ\\ml-stock-sent\\.venv\\Lib\\site-packages\\sklearn\\linear_model\\_coordinate_descent.py:695: ConvergenceWarning: Objective did not converge. You might want to increase the number of iterations, check the scale of the features or consider increasing regularisation. Duality gap: 1.745e+00, tolerance: 1.160e-01\n",
      "  model = cd_fast.enet_coordinate_descent(\n",
      "D:\\IntelliJ\\ml-stock-sent\\.venv\\Lib\\site-packages\\sklearn\\linear_model\\_coordinate_descent.py:695: ConvergenceWarning: Objective did not converge. You might want to increase the number of iterations, check the scale of the features or consider increasing regularisation. Duality gap: 2.027e+01, tolerance: 1.160e-01\n",
      "  model = cd_fast.enet_coordinate_descent(\n",
      "D:\\IntelliJ\\ml-stock-sent\\.venv\\Lib\\site-packages\\sklearn\\linear_model\\_coordinate_descent.py:695: ConvergenceWarning: Objective did not converge. You might want to increase the number of iterations, check the scale of the features or consider increasing regularisation. Duality gap: 1.986e+01, tolerance: 1.160e-01\n",
      "  model = cd_fast.enet_coordinate_descent(\n",
      "D:\\IntelliJ\\ml-stock-sent\\.venv\\Lib\\site-packages\\sklearn\\linear_model\\_coordinate_descent.py:695: ConvergenceWarning: Objective did not converge. You might want to increase the number of iterations, check the scale of the features or consider increasing regularisation. Duality gap: 5.420e+01, tolerance: 1.160e-01\n",
      "  model = cd_fast.enet_coordinate_descent(\n",
      "D:\\IntelliJ\\ml-stock-sent\\.venv\\Lib\\site-packages\\sklearn\\linear_model\\_coordinate_descent.py:695: ConvergenceWarning: Objective did not converge. You might want to increase the number of iterations, check the scale of the features or consider increasing regularisation. Duality gap: 2.628e+01, tolerance: 1.160e-01\n",
      "  model = cd_fast.enet_coordinate_descent(\n",
      "D:\\IntelliJ\\ml-stock-sent\\.venv\\Lib\\site-packages\\sklearn\\linear_model\\_coordinate_descent.py:695: ConvergenceWarning: Objective did not converge. You might want to increase the number of iterations, check the scale of the features or consider increasing regularisation. Duality gap: 6.535e+00, tolerance: 1.160e-01\n",
      "  model = cd_fast.enet_coordinate_descent(\n",
      "D:\\IntelliJ\\ml-stock-sent\\.venv\\Lib\\site-packages\\sklearn\\linear_model\\_coordinate_descent.py:695: ConvergenceWarning: Objective did not converge. You might want to increase the number of iterations, check the scale of the features or consider increasing regularisation. Duality gap: 1.017e+02, tolerance: 1.160e-01\n",
      "  model = cd_fast.enet_coordinate_descent(\n",
      "D:\\IntelliJ\\ml-stock-sent\\.venv\\Lib\\site-packages\\sklearn\\linear_model\\_coordinate_descent.py:695: ConvergenceWarning: Objective did not converge. You might want to increase the number of iterations, check the scale of the features or consider increasing regularisation. Duality gap: 1.923e+01, tolerance: 1.160e-01\n",
      "  model = cd_fast.enet_coordinate_descent(\n",
      "D:\\IntelliJ\\ml-stock-sent\\.venv\\Lib\\site-packages\\sklearn\\linear_model\\_coordinate_descent.py:695: ConvergenceWarning: Objective did not converge. You might want to increase the number of iterations, check the scale of the features or consider increasing regularisation. Duality gap: 5.635e+01, tolerance: 1.160e-01\n",
      "  model = cd_fast.enet_coordinate_descent(\n",
      "D:\\IntelliJ\\ml-stock-sent\\.venv\\Lib\\site-packages\\sklearn\\linear_model\\_coordinate_descent.py:695: ConvergenceWarning: Objective did not converge. You might want to increase the number of iterations, check the scale of the features or consider increasing regularisation. Duality gap: 7.434e+00, tolerance: 1.160e-01\n",
      "  model = cd_fast.enet_coordinate_descent(\n",
      "D:\\IntelliJ\\ml-stock-sent\\.venv\\Lib\\site-packages\\sklearn\\linear_model\\_coordinate_descent.py:695: ConvergenceWarning: Objective did not converge. You might want to increase the number of iterations, check the scale of the features or consider increasing regularisation. Duality gap: 5.004e+01, tolerance: 1.160e-01\n",
      "  model = cd_fast.enet_coordinate_descent(\n",
      "D:\\IntelliJ\\ml-stock-sent\\.venv\\Lib\\site-packages\\sklearn\\linear_model\\_coordinate_descent.py:695: ConvergenceWarning: Objective did not converge. You might want to increase the number of iterations, check the scale of the features or consider increasing regularisation. Duality gap: 2.004e+00, tolerance: 1.160e-01\n",
      "  model = cd_fast.enet_coordinate_descent(\n",
      "D:\\IntelliJ\\ml-stock-sent\\.venv\\Lib\\site-packages\\sklearn\\linear_model\\_coordinate_descent.py:695: ConvergenceWarning: Objective did not converge. You might want to increase the number of iterations, check the scale of the features or consider increasing regularisation. Duality gap: 1.387e-01, tolerance: 1.160e-01\n",
      "  model = cd_fast.enet_coordinate_descent(\n",
      "D:\\IntelliJ\\ml-stock-sent\\.venv\\Lib\\site-packages\\sklearn\\linear_model\\_coordinate_descent.py:695: ConvergenceWarning: Objective did not converge. You might want to increase the number of iterations, check the scale of the features or consider increasing regularisation. Duality gap: 7.227e-01, tolerance: 1.160e-01\n",
      "  model = cd_fast.enet_coordinate_descent(\n",
      "D:\\IntelliJ\\ml-stock-sent\\.venv\\Lib\\site-packages\\sklearn\\linear_model\\_coordinate_descent.py:695: ConvergenceWarning: Objective did not converge. You might want to increase the number of iterations, check the scale of the features or consider increasing regularisation. Duality gap: 2.490e+01, tolerance: 1.160e-01\n",
      "  model = cd_fast.enet_coordinate_descent(\n",
      "D:\\IntelliJ\\ml-stock-sent\\.venv\\Lib\\site-packages\\sklearn\\linear_model\\_coordinate_descent.py:695: ConvergenceWarning: Objective did not converge. You might want to increase the number of iterations, check the scale of the features or consider increasing regularisation. Duality gap: 1.639e+00, tolerance: 1.160e-01\n",
      "  model = cd_fast.enet_coordinate_descent(\n",
      "D:\\IntelliJ\\ml-stock-sent\\.venv\\Lib\\site-packages\\sklearn\\linear_model\\_coordinate_descent.py:695: ConvergenceWarning: Objective did not converge. You might want to increase the number of iterations, check the scale of the features or consider increasing regularisation. Duality gap: 4.682e+00, tolerance: 1.160e-01\n",
      "  model = cd_fast.enet_coordinate_descent(\n",
      "D:\\IntelliJ\\ml-stock-sent\\.venv\\Lib\\site-packages\\sklearn\\linear_model\\_coordinate_descent.py:695: ConvergenceWarning: Objective did not converge. You might want to increase the number of iterations, check the scale of the features or consider increasing regularisation. Duality gap: 4.985e+01, tolerance: 1.160e-01\n",
      "  model = cd_fast.enet_coordinate_descent(\n",
      "D:\\IntelliJ\\ml-stock-sent\\.venv\\Lib\\site-packages\\sklearn\\linear_model\\_coordinate_descent.py:695: ConvergenceWarning: Objective did not converge. You might want to increase the number of iterations, check the scale of the features or consider increasing regularisation. Duality gap: 7.218e+01, tolerance: 1.160e-01\n",
      "  model = cd_fast.enet_coordinate_descent(\n",
      "D:\\IntelliJ\\ml-stock-sent\\.venv\\Lib\\site-packages\\sklearn\\linear_model\\_coordinate_descent.py:695: ConvergenceWarning: Objective did not converge. You might want to increase the number of iterations, check the scale of the features or consider increasing regularisation. Duality gap: 3.182e+01, tolerance: 1.160e-01\n",
      "  model = cd_fast.enet_coordinate_descent(\n",
      "D:\\IntelliJ\\ml-stock-sent\\.venv\\Lib\\site-packages\\sklearn\\linear_model\\_coordinate_descent.py:695: ConvergenceWarning: Objective did not converge. You might want to increase the number of iterations, check the scale of the features or consider increasing regularisation. Duality gap: 2.063e+00, tolerance: 1.160e-01\n",
      "  model = cd_fast.enet_coordinate_descent(\n",
      "[I 2025-08-20 16:29:58,685] Trial 0 finished with value: 0.009590666070447071 and parameters: {'alpha': 0.0001329291894316216, 'l1_ratio': 0.9507143064099162, 'selection': 'cyclic'}. Best is trial 0 with value: 0.009590666070447071.\n",
      "D:\\IntelliJ\\ml-stock-sent\\.venv\\Lib\\site-packages\\sklearn\\linear_model\\_coordinate_descent.py:695: ConvergenceWarning: Objective did not converge. You might want to increase the number of iterations, check the scale of the features or consider increasing regularisation. Duality gap: 1.703e+02, tolerance: 3.880e-02\n",
      "  model = cd_fast.enet_coordinate_descent(\n",
      "D:\\IntelliJ\\ml-stock-sent\\.venv\\Lib\\site-packages\\sklearn\\linear_model\\_coordinate_descent.py:695: ConvergenceWarning: Objective did not converge. You might want to increase the number of iterations, check the scale of the features or consider increasing regularisation. Duality gap: 1.700e+02, tolerance: 3.880e-02\n",
      "  model = cd_fast.enet_coordinate_descent(\n",
      "D:\\IntelliJ\\ml-stock-sent\\.venv\\Lib\\site-packages\\sklearn\\linear_model\\_coordinate_descent.py:695: ConvergenceWarning: Objective did not converge. You might want to increase the number of iterations, check the scale of the features or consider increasing regularisation. Duality gap: 1.582e+02, tolerance: 3.880e-02\n",
      "  model = cd_fast.enet_coordinate_descent(\n",
      "D:\\IntelliJ\\ml-stock-sent\\.venv\\Lib\\site-packages\\sklearn\\linear_model\\_coordinate_descent.py:695: ConvergenceWarning: Objective did not converge. You might want to increase the number of iterations, check the scale of the features or consider increasing regularisation. Duality gap: 8.979e+01, tolerance: 3.880e-02\n",
      "  model = cd_fast.enet_coordinate_descent(\n",
      "D:\\IntelliJ\\ml-stock-sent\\.venv\\Lib\\site-packages\\sklearn\\linear_model\\_coordinate_descent.py:695: ConvergenceWarning: Objective did not converge. You might want to increase the number of iterations, check the scale of the features or consider increasing regularisation. Duality gap: 1.754e+02, tolerance: 3.880e-02\n",
      "  model = cd_fast.enet_coordinate_descent(\n",
      "D:\\IntelliJ\\ml-stock-sent\\.venv\\Lib\\site-packages\\sklearn\\linear_model\\_coordinate_descent.py:695: ConvergenceWarning: Objective did not converge. You might want to increase the number of iterations, check the scale of the features or consider increasing regularisation. Duality gap: 1.746e+02, tolerance: 3.880e-02\n",
      "  model = cd_fast.enet_coordinate_descent(\n",
      "D:\\IntelliJ\\ml-stock-sent\\.venv\\Lib\\site-packages\\sklearn\\linear_model\\_coordinate_descent.py:695: ConvergenceWarning: Objective did not converge. You might want to increase the number of iterations, check the scale of the features or consider increasing regularisation. Duality gap: 7.522e+01, tolerance: 3.880e-02\n",
      "  model = cd_fast.enet_coordinate_descent(\n",
      "D:\\IntelliJ\\ml-stock-sent\\.venv\\Lib\\site-packages\\sklearn\\linear_model\\_coordinate_descent.py:695: ConvergenceWarning: Objective did not converge. You might want to increase the number of iterations, check the scale of the features or consider increasing regularisation. Duality gap: 1.442e+02, tolerance: 3.880e-02\n",
      "  model = cd_fast.enet_coordinate_descent(\n",
      "D:\\IntelliJ\\ml-stock-sent\\.venv\\Lib\\site-packages\\sklearn\\linear_model\\_coordinate_descent.py:695: ConvergenceWarning: Objective did not converge. You might want to increase the number of iterations, check the scale of the features or consider increasing regularisation. Duality gap: 1.726e+02, tolerance: 3.880e-02\n",
      "  model = cd_fast.enet_coordinate_descent(\n",
      "D:\\IntelliJ\\ml-stock-sent\\.venv\\Lib\\site-packages\\sklearn\\linear_model\\_coordinate_descent.py:695: ConvergenceWarning: Objective did not converge. You might want to increase the number of iterations, check the scale of the features or consider increasing regularisation. Duality gap: 1.743e+02, tolerance: 3.880e-02\n",
      "  model = cd_fast.enet_coordinate_descent(\n",
      "D:\\IntelliJ\\ml-stock-sent\\.venv\\Lib\\site-packages\\sklearn\\linear_model\\_coordinate_descent.py:695: ConvergenceWarning: Objective did not converge. You might want to increase the number of iterations, check the scale of the features or consider increasing regularisation. Duality gap: 2.508e+01, tolerance: 3.880e-02\n",
      "  model = cd_fast.enet_coordinate_descent(\n",
      "D:\\IntelliJ\\ml-stock-sent\\.venv\\Lib\\site-packages\\sklearn\\linear_model\\_coordinate_descent.py:695: ConvergenceWarning: Objective did not converge. You might want to increase the number of iterations, check the scale of the features or consider increasing regularisation. Duality gap: 1.699e+02, tolerance: 3.880e-02\n",
      "  model = cd_fast.enet_coordinate_descent(\n",
      "D:\\IntelliJ\\ml-stock-sent\\.venv\\Lib\\site-packages\\sklearn\\linear_model\\_coordinate_descent.py:695: ConvergenceWarning: Objective did not converge. You might want to increase the number of iterations, check the scale of the features or consider increasing regularisation. Duality gap: 1.747e+02, tolerance: 3.880e-02\n",
      "  model = cd_fast.enet_coordinate_descent(\n",
      "D:\\IntelliJ\\ml-stock-sent\\.venv\\Lib\\site-packages\\sklearn\\linear_model\\_coordinate_descent.py:695: ConvergenceWarning: Objective did not converge. You might want to increase the number of iterations, check the scale of the features or consider increasing regularisation. Duality gap: 1.735e+02, tolerance: 3.880e-02\n",
      "  model = cd_fast.enet_coordinate_descent(\n",
      "D:\\IntelliJ\\ml-stock-sent\\.venv\\Lib\\site-packages\\sklearn\\linear_model\\_coordinate_descent.py:695: ConvergenceWarning: Objective did not converge. You might want to increase the number of iterations, check the scale of the features or consider increasing regularisation. Duality gap: 1.528e+02, tolerance: 3.880e-02\n",
      "  model = cd_fast.enet_coordinate_descent(\n",
      "D:\\IntelliJ\\ml-stock-sent\\.venv\\Lib\\site-packages\\sklearn\\linear_model\\_coordinate_descent.py:695: ConvergenceWarning: Objective did not converge. You might want to increase the number of iterations, check the scale of the features or consider increasing regularisation. Duality gap: 1.435e+02, tolerance: 3.880e-02\n",
      "  model = cd_fast.enet_coordinate_descent(\n",
      "D:\\IntelliJ\\ml-stock-sent\\.venv\\Lib\\site-packages\\sklearn\\linear_model\\_coordinate_descent.py:695: ConvergenceWarning: Objective did not converge. You might want to increase the number of iterations, check the scale of the features or consider increasing regularisation. Duality gap: 1.694e+02, tolerance: 3.880e-02\n",
      "  model = cd_fast.enet_coordinate_descent(\n",
      "D:\\IntelliJ\\ml-stock-sent\\.venv\\Lib\\site-packages\\sklearn\\linear_model\\_coordinate_descent.py:695: ConvergenceWarning: Objective did not converge. You might want to increase the number of iterations, check the scale of the features or consider increasing regularisation. Duality gap: 1.648e+02, tolerance: 3.880e-02\n",
      "  model = cd_fast.enet_coordinate_descent(\n",
      "D:\\IntelliJ\\ml-stock-sent\\.venv\\Lib\\site-packages\\sklearn\\linear_model\\_coordinate_descent.py:695: ConvergenceWarning: Objective did not converge. You might want to increase the number of iterations, check the scale of the features or consider increasing regularisation. Duality gap: 1.746e+02, tolerance: 3.880e-02\n",
      "  model = cd_fast.enet_coordinate_descent(\n",
      "D:\\IntelliJ\\ml-stock-sent\\.venv\\Lib\\site-packages\\sklearn\\linear_model\\_coordinate_descent.py:695: ConvergenceWarning: Objective did not converge. You might want to increase the number of iterations, check the scale of the features or consider increasing regularisation. Duality gap: 1.683e+02, tolerance: 3.880e-02\n",
      "  model = cd_fast.enet_coordinate_descent(\n",
      "D:\\IntelliJ\\ml-stock-sent\\.venv\\Lib\\site-packages\\sklearn\\linear_model\\_coordinate_descent.py:695: ConvergenceWarning: Objective did not converge. You might want to increase the number of iterations, check the scale of the features or consider increasing regularisation. Duality gap: 1.314e+02, tolerance: 3.880e-02\n",
      "  model = cd_fast.enet_coordinate_descent(\n",
      "D:\\IntelliJ\\ml-stock-sent\\.venv\\Lib\\site-packages\\sklearn\\linear_model\\_coordinate_descent.py:695: ConvergenceWarning: Objective did not converge. You might want to increase the number of iterations, check the scale of the features or consider increasing regularisation. Duality gap: 1.661e+02, tolerance: 3.880e-02\n",
      "  model = cd_fast.enet_coordinate_descent(\n",
      "D:\\IntelliJ\\ml-stock-sent\\.venv\\Lib\\site-packages\\sklearn\\linear_model\\_coordinate_descent.py:695: ConvergenceWarning: Objective did not converge. You might want to increase the number of iterations, check the scale of the features or consider increasing regularisation. Duality gap: 1.700e+02, tolerance: 3.880e-02\n",
      "  model = cd_fast.enet_coordinate_descent(\n",
      "D:\\IntelliJ\\ml-stock-sent\\.venv\\Lib\\site-packages\\sklearn\\linear_model\\_coordinate_descent.py:695: ConvergenceWarning: Objective did not converge. You might want to increase the number of iterations, check the scale of the features or consider increasing regularisation. Duality gap: 1.728e+02, tolerance: 3.880e-02\n",
      "  model = cd_fast.enet_coordinate_descent(\n",
      "D:\\IntelliJ\\ml-stock-sent\\.venv\\Lib\\site-packages\\sklearn\\linear_model\\_coordinate_descent.py:695: ConvergenceWarning: Objective did not converge. You might want to increase the number of iterations, check the scale of the features or consider increasing regularisation. Duality gap: 1.717e+02, tolerance: 3.880e-02\n",
      "  model = cd_fast.enet_coordinate_descent(\n",
      "D:\\IntelliJ\\ml-stock-sent\\.venv\\Lib\\site-packages\\sklearn\\linear_model\\_coordinate_descent.py:695: ConvergenceWarning: Objective did not converge. You might want to increase the number of iterations, check the scale of the features or consider increasing regularisation. Duality gap: 1.505e+02, tolerance: 3.880e-02\n",
      "  model = cd_fast.enet_coordinate_descent(\n",
      "D:\\IntelliJ\\ml-stock-sent\\.venv\\Lib\\site-packages\\sklearn\\linear_model\\_coordinate_descent.py:695: ConvergenceWarning: Objective did not converge. You might want to increase the number of iterations, check the scale of the features or consider increasing regularisation. Duality gap: 1.650e+02, tolerance: 3.880e-02\n",
      "  model = cd_fast.enet_coordinate_descent(\n",
      "D:\\IntelliJ\\ml-stock-sent\\.venv\\Lib\\site-packages\\sklearn\\linear_model\\_coordinate_descent.py:695: ConvergenceWarning: Objective did not converge. You might want to increase the number of iterations, check the scale of the features or consider increasing regularisation. Duality gap: 1.709e+02, tolerance: 3.880e-02\n",
      "  model = cd_fast.enet_coordinate_descent(\n",
      "D:\\IntelliJ\\ml-stock-sent\\.venv\\Lib\\site-packages\\sklearn\\linear_model\\_coordinate_descent.py:695: ConvergenceWarning: Objective did not converge. You might want to increase the number of iterations, check the scale of the features or consider increasing regularisation. Duality gap: 1.650e+02, tolerance: 3.880e-02\n",
      "  model = cd_fast.enet_coordinate_descent(\n",
      "D:\\IntelliJ\\ml-stock-sent\\.venv\\Lib\\site-packages\\sklearn\\linear_model\\_coordinate_descent.py:695: ConvergenceWarning: Objective did not converge. You might want to increase the number of iterations, check the scale of the features or consider increasing regularisation. Duality gap: 1.744e+02, tolerance: 3.880e-02\n",
      "  model = cd_fast.enet_coordinate_descent(\n",
      "D:\\IntelliJ\\ml-stock-sent\\.venv\\Lib\\site-packages\\sklearn\\linear_model\\_coordinate_descent.py:695: ConvergenceWarning: Objective did not converge. You might want to increase the number of iterations, check the scale of the features or consider increasing regularisation. Duality gap: 3.480e+02, tolerance: 7.740e-02\n",
      "  model = cd_fast.enet_coordinate_descent(\n",
      "D:\\IntelliJ\\ml-stock-sent\\.venv\\Lib\\site-packages\\sklearn\\linear_model\\_coordinate_descent.py:695: ConvergenceWarning: Objective did not converge. You might want to increase the number of iterations, check the scale of the features or consider increasing regularisation. Duality gap: 3.527e+02, tolerance: 7.740e-02\n",
      "  model = cd_fast.enet_coordinate_descent(\n",
      "D:\\IntelliJ\\ml-stock-sent\\.venv\\Lib\\site-packages\\sklearn\\linear_model\\_coordinate_descent.py:695: ConvergenceWarning: Objective did not converge. You might want to increase the number of iterations, check the scale of the features or consider increasing regularisation. Duality gap: 3.454e+02, tolerance: 7.740e-02\n",
      "  model = cd_fast.enet_coordinate_descent(\n",
      "D:\\IntelliJ\\ml-stock-sent\\.venv\\Lib\\site-packages\\sklearn\\linear_model\\_coordinate_descent.py:695: ConvergenceWarning: Objective did not converge. You might want to increase the number of iterations, check the scale of the features or consider increasing regularisation. Duality gap: 3.320e+02, tolerance: 7.740e-02\n",
      "  model = cd_fast.enet_coordinate_descent(\n",
      "D:\\IntelliJ\\ml-stock-sent\\.venv\\Lib\\site-packages\\sklearn\\linear_model\\_coordinate_descent.py:695: ConvergenceWarning: Objective did not converge. You might want to increase the number of iterations, check the scale of the features or consider increasing regularisation. Duality gap: 3.412e+02, tolerance: 7.740e-02\n",
      "  model = cd_fast.enet_coordinate_descent(\n",
      "D:\\IntelliJ\\ml-stock-sent\\.venv\\Lib\\site-packages\\sklearn\\linear_model\\_coordinate_descent.py:695: ConvergenceWarning: Objective did not converge. You might want to increase the number of iterations, check the scale of the features or consider increasing regularisation. Duality gap: 3.592e+02, tolerance: 7.740e-02\n",
      "  model = cd_fast.enet_coordinate_descent(\n",
      "D:\\IntelliJ\\ml-stock-sent\\.venv\\Lib\\site-packages\\sklearn\\linear_model\\_coordinate_descent.py:695: ConvergenceWarning: Objective did not converge. You might want to increase the number of iterations, check the scale of the features or consider increasing regularisation. Duality gap: 3.167e+02, tolerance: 7.740e-02\n",
      "  model = cd_fast.enet_coordinate_descent(\n",
      "D:\\IntelliJ\\ml-stock-sent\\.venv\\Lib\\site-packages\\sklearn\\linear_model\\_coordinate_descent.py:695: ConvergenceWarning: Objective did not converge. You might want to increase the number of iterations, check the scale of the features or consider increasing regularisation. Duality gap: 3.435e+02, tolerance: 7.740e-02\n",
      "  model = cd_fast.enet_coordinate_descent(\n",
      "D:\\IntelliJ\\ml-stock-sent\\.venv\\Lib\\site-packages\\sklearn\\linear_model\\_coordinate_descent.py:695: ConvergenceWarning: Objective did not converge. You might want to increase the number of iterations, check the scale of the features or consider increasing regularisation. Duality gap: 3.497e+02, tolerance: 7.740e-02\n",
      "  model = cd_fast.enet_coordinate_descent(\n",
      "D:\\IntelliJ\\ml-stock-sent\\.venv\\Lib\\site-packages\\sklearn\\linear_model\\_coordinate_descent.py:695: ConvergenceWarning: Objective did not converge. You might want to increase the number of iterations, check the scale of the features or consider increasing regularisation. Duality gap: 3.574e+02, tolerance: 7.740e-02\n",
      "  model = cd_fast.enet_coordinate_descent(\n",
      "D:\\IntelliJ\\ml-stock-sent\\.venv\\Lib\\site-packages\\sklearn\\linear_model\\_coordinate_descent.py:695: ConvergenceWarning: Objective did not converge. You might want to increase the number of iterations, check the scale of the features or consider increasing regularisation. Duality gap: 3.189e+02, tolerance: 7.740e-02\n",
      "  model = cd_fast.enet_coordinate_descent(\n",
      "D:\\IntelliJ\\ml-stock-sent\\.venv\\Lib\\site-packages\\sklearn\\linear_model\\_coordinate_descent.py:695: ConvergenceWarning: Objective did not converge. You might want to increase the number of iterations, check the scale of the features or consider increasing regularisation. Duality gap: 3.539e+02, tolerance: 7.740e-02\n",
      "  model = cd_fast.enet_coordinate_descent(\n",
      "D:\\IntelliJ\\ml-stock-sent\\.venv\\Lib\\site-packages\\sklearn\\linear_model\\_coordinate_descent.py:695: ConvergenceWarning: Objective did not converge. You might want to increase the number of iterations, check the scale of the features or consider increasing regularisation. Duality gap: 3.503e+02, tolerance: 7.740e-02\n",
      "  model = cd_fast.enet_coordinate_descent(\n",
      "D:\\IntelliJ\\ml-stock-sent\\.venv\\Lib\\site-packages\\sklearn\\linear_model\\_coordinate_descent.py:695: ConvergenceWarning: Objective did not converge. You might want to increase the number of iterations, check the scale of the features or consider increasing regularisation. Duality gap: 3.590e+02, tolerance: 7.740e-02\n",
      "  model = cd_fast.enet_coordinate_descent(\n",
      "D:\\IntelliJ\\ml-stock-sent\\.venv\\Lib\\site-packages\\sklearn\\linear_model\\_coordinate_descent.py:695: ConvergenceWarning: Objective did not converge. You might want to increase the number of iterations, check the scale of the features or consider increasing regularisation. Duality gap: 3.550e+02, tolerance: 7.740e-02\n",
      "  model = cd_fast.enet_coordinate_descent(\n",
      "D:\\IntelliJ\\ml-stock-sent\\.venv\\Lib\\site-packages\\sklearn\\linear_model\\_coordinate_descent.py:695: ConvergenceWarning: Objective did not converge. You might want to increase the number of iterations, check the scale of the features or consider increasing regularisation. Duality gap: 3.363e+02, tolerance: 7.740e-02\n",
      "  model = cd_fast.enet_coordinate_descent(\n",
      "D:\\IntelliJ\\ml-stock-sent\\.venv\\Lib\\site-packages\\sklearn\\linear_model\\_coordinate_descent.py:695: ConvergenceWarning: Objective did not converge. You might want to increase the number of iterations, check the scale of the features or consider increasing regularisation. Duality gap: 3.315e+02, tolerance: 7.740e-02\n",
      "  model = cd_fast.enet_coordinate_descent(\n",
      "D:\\IntelliJ\\ml-stock-sent\\.venv\\Lib\\site-packages\\sklearn\\linear_model\\_coordinate_descent.py:695: ConvergenceWarning: Objective did not converge. You might want to increase the number of iterations, check the scale of the features or consider increasing regularisation. Duality gap: 3.472e+02, tolerance: 7.740e-02\n",
      "  model = cd_fast.enet_coordinate_descent(\n",
      "D:\\IntelliJ\\ml-stock-sent\\.venv\\Lib\\site-packages\\sklearn\\linear_model\\_coordinate_descent.py:695: ConvergenceWarning: Objective did not converge. You might want to increase the number of iterations, check the scale of the features or consider increasing regularisation. Duality gap: 3.367e+02, tolerance: 7.740e-02\n",
      "  model = cd_fast.enet_coordinate_descent(\n",
      "D:\\IntelliJ\\ml-stock-sent\\.venv\\Lib\\site-packages\\sklearn\\linear_model\\_coordinate_descent.py:695: ConvergenceWarning: Objective did not converge. You might want to increase the number of iterations, check the scale of the features or consider increasing regularisation. Duality gap: 3.209e+02, tolerance: 7.740e-02\n",
      "  model = cd_fast.enet_coordinate_descent(\n",
      "D:\\IntelliJ\\ml-stock-sent\\.venv\\Lib\\site-packages\\sklearn\\linear_model\\_coordinate_descent.py:695: ConvergenceWarning: Objective did not converge. You might want to increase the number of iterations, check the scale of the features or consider increasing regularisation. Duality gap: 2.945e+02, tolerance: 7.740e-02\n",
      "  model = cd_fast.enet_coordinate_descent(\n",
      "D:\\IntelliJ\\ml-stock-sent\\.venv\\Lib\\site-packages\\sklearn\\linear_model\\_coordinate_descent.py:695: ConvergenceWarning: Objective did not converge. You might want to increase the number of iterations, check the scale of the features or consider increasing regularisation. Duality gap: 1.133e+02, tolerance: 7.740e-02\n",
      "  model = cd_fast.enet_coordinate_descent(\n",
      "D:\\IntelliJ\\ml-stock-sent\\.venv\\Lib\\site-packages\\sklearn\\linear_model\\_coordinate_descent.py:695: ConvergenceWarning: Objective did not converge. You might want to increase the number of iterations, check the scale of the features or consider increasing regularisation. Duality gap: 3.467e+02, tolerance: 7.740e-02\n",
      "  model = cd_fast.enet_coordinate_descent(\n",
      "D:\\IntelliJ\\ml-stock-sent\\.venv\\Lib\\site-packages\\sklearn\\linear_model\\_coordinate_descent.py:695: ConvergenceWarning: Objective did not converge. You might want to increase the number of iterations, check the scale of the features or consider increasing regularisation. Duality gap: 3.504e+02, tolerance: 7.740e-02\n",
      "  model = cd_fast.enet_coordinate_descent(\n",
      "D:\\IntelliJ\\ml-stock-sent\\.venv\\Lib\\site-packages\\sklearn\\linear_model\\_coordinate_descent.py:695: ConvergenceWarning: Objective did not converge. You might want to increase the number of iterations, check the scale of the features or consider increasing regularisation. Duality gap: 3.508e+02, tolerance: 7.740e-02\n",
      "  model = cd_fast.enet_coordinate_descent(\n",
      "D:\\IntelliJ\\ml-stock-sent\\.venv\\Lib\\site-packages\\sklearn\\linear_model\\_coordinate_descent.py:695: ConvergenceWarning: Objective did not converge. You might want to increase the number of iterations, check the scale of the features or consider increasing regularisation. Duality gap: 2.499e+02, tolerance: 7.740e-02\n",
      "  model = cd_fast.enet_coordinate_descent(\n",
      "D:\\IntelliJ\\ml-stock-sent\\.venv\\Lib\\site-packages\\sklearn\\linear_model\\_coordinate_descent.py:695: ConvergenceWarning: Objective did not converge. You might want to increase the number of iterations, check the scale of the features or consider increasing regularisation. Duality gap: 3.532e+02, tolerance: 7.740e-02\n",
      "  model = cd_fast.enet_coordinate_descent(\n",
      "D:\\IntelliJ\\ml-stock-sent\\.venv\\Lib\\site-packages\\sklearn\\linear_model\\_coordinate_descent.py:695: ConvergenceWarning: Objective did not converge. You might want to increase the number of iterations, check the scale of the features or consider increasing regularisation. Duality gap: 3.590e+02, tolerance: 7.740e-02\n",
      "  model = cd_fast.enet_coordinate_descent(\n",
      "D:\\IntelliJ\\ml-stock-sent\\.venv\\Lib\\site-packages\\sklearn\\linear_model\\_coordinate_descent.py:695: ConvergenceWarning: Objective did not converge. You might want to increase the number of iterations, check the scale of the features or consider increasing regularisation. Duality gap: 3.479e+02, tolerance: 7.740e-02\n",
      "  model = cd_fast.enet_coordinate_descent(\n",
      "D:\\IntelliJ\\ml-stock-sent\\.venv\\Lib\\site-packages\\sklearn\\linear_model\\_coordinate_descent.py:695: ConvergenceWarning: Objective did not converge. You might want to increase the number of iterations, check the scale of the features or consider increasing regularisation. Duality gap: 2.943e+02, tolerance: 7.740e-02\n",
      "  model = cd_fast.enet_coordinate_descent(\n",
      "D:\\IntelliJ\\ml-stock-sent\\.venv\\Lib\\site-packages\\sklearn\\linear_model\\_coordinate_descent.py:695: ConvergenceWarning: Objective did not converge. You might want to increase the number of iterations, check the scale of the features or consider increasing regularisation. Duality gap: 5.246e+02, tolerance: 1.160e-01\n",
      "  model = cd_fast.enet_coordinate_descent(\n",
      "D:\\IntelliJ\\ml-stock-sent\\.venv\\Lib\\site-packages\\sklearn\\linear_model\\_coordinate_descent.py:695: ConvergenceWarning: Objective did not converge. You might want to increase the number of iterations, check the scale of the features or consider increasing regularisation. Duality gap: 5.285e+02, tolerance: 1.160e-01\n",
      "  model = cd_fast.enet_coordinate_descent(\n",
      "D:\\IntelliJ\\ml-stock-sent\\.venv\\Lib\\site-packages\\sklearn\\linear_model\\_coordinate_descent.py:695: ConvergenceWarning: Objective did not converge. You might want to increase the number of iterations, check the scale of the features or consider increasing regularisation. Duality gap: 5.275e+02, tolerance: 1.160e-01\n",
      "  model = cd_fast.enet_coordinate_descent(\n",
      "D:\\IntelliJ\\ml-stock-sent\\.venv\\Lib\\site-packages\\sklearn\\linear_model\\_coordinate_descent.py:695: ConvergenceWarning: Objective did not converge. You might want to increase the number of iterations, check the scale of the features or consider increasing regularisation. Duality gap: 4.857e+02, tolerance: 1.160e-01\n",
      "  model = cd_fast.enet_coordinate_descent(\n",
      "D:\\IntelliJ\\ml-stock-sent\\.venv\\Lib\\site-packages\\sklearn\\linear_model\\_coordinate_descent.py:695: ConvergenceWarning: Objective did not converge. You might want to increase the number of iterations, check the scale of the features or consider increasing regularisation. Duality gap: 5.222e+02, tolerance: 1.160e-01\n",
      "  model = cd_fast.enet_coordinate_descent(\n",
      "D:\\IntelliJ\\ml-stock-sent\\.venv\\Lib\\site-packages\\sklearn\\linear_model\\_coordinate_descent.py:695: ConvergenceWarning: Objective did not converge. You might want to increase the number of iterations, check the scale of the features or consider increasing regularisation. Duality gap: 5.442e+02, tolerance: 1.160e-01\n",
      "  model = cd_fast.enet_coordinate_descent(\n",
      "D:\\IntelliJ\\ml-stock-sent\\.venv\\Lib\\site-packages\\sklearn\\linear_model\\_coordinate_descent.py:695: ConvergenceWarning: Objective did not converge. You might want to increase the number of iterations, check the scale of the features or consider increasing regularisation. Duality gap: 5.193e+02, tolerance: 1.160e-01\n",
      "  model = cd_fast.enet_coordinate_descent(\n",
      "D:\\IntelliJ\\ml-stock-sent\\.venv\\Lib\\site-packages\\sklearn\\linear_model\\_coordinate_descent.py:695: ConvergenceWarning: Objective did not converge. You might want to increase the number of iterations, check the scale of the features or consider increasing regularisation. Duality gap: 5.292e+02, tolerance: 1.160e-01\n",
      "  model = cd_fast.enet_coordinate_descent(\n",
      "D:\\IntelliJ\\ml-stock-sent\\.venv\\Lib\\site-packages\\sklearn\\linear_model\\_coordinate_descent.py:695: ConvergenceWarning: Objective did not converge. You might want to increase the number of iterations, check the scale of the features or consider increasing regularisation. Duality gap: 5.325e+02, tolerance: 1.160e-01\n",
      "  model = cd_fast.enet_coordinate_descent(\n",
      "D:\\IntelliJ\\ml-stock-sent\\.venv\\Lib\\site-packages\\sklearn\\linear_model\\_coordinate_descent.py:695: ConvergenceWarning: Objective did not converge. You might want to increase the number of iterations, check the scale of the features or consider increasing regularisation. Duality gap: 5.419e+02, tolerance: 1.160e-01\n",
      "  model = cd_fast.enet_coordinate_descent(\n",
      "D:\\IntelliJ\\ml-stock-sent\\.venv\\Lib\\site-packages\\sklearn\\linear_model\\_coordinate_descent.py:695: ConvergenceWarning: Objective did not converge. You might want to increase the number of iterations, check the scale of the features or consider increasing regularisation. Duality gap: 4.737e+02, tolerance: 1.160e-01\n",
      "  model = cd_fast.enet_coordinate_descent(\n",
      "D:\\IntelliJ\\ml-stock-sent\\.venv\\Lib\\site-packages\\sklearn\\linear_model\\_coordinate_descent.py:695: ConvergenceWarning: Objective did not converge. You might want to increase the number of iterations, check the scale of the features or consider increasing regularisation. Duality gap: 5.361e+02, tolerance: 1.160e-01\n",
      "  model = cd_fast.enet_coordinate_descent(\n",
      "D:\\IntelliJ\\ml-stock-sent\\.venv\\Lib\\site-packages\\sklearn\\linear_model\\_coordinate_descent.py:695: ConvergenceWarning: Objective did not converge. You might want to increase the number of iterations, check the scale of the features or consider increasing regularisation. Duality gap: 5.265e+02, tolerance: 1.160e-01\n",
      "  model = cd_fast.enet_coordinate_descent(\n",
      "D:\\IntelliJ\\ml-stock-sent\\.venv\\Lib\\site-packages\\sklearn\\linear_model\\_coordinate_descent.py:695: ConvergenceWarning: Objective did not converge. You might want to increase the number of iterations, check the scale of the features or consider increasing regularisation. Duality gap: 5.453e+02, tolerance: 1.160e-01\n",
      "  model = cd_fast.enet_coordinate_descent(\n",
      "D:\\IntelliJ\\ml-stock-sent\\.venv\\Lib\\site-packages\\sklearn\\linear_model\\_coordinate_descent.py:695: ConvergenceWarning: Objective did not converge. You might want to increase the number of iterations, check the scale of the features or consider increasing regularisation. Duality gap: 5.376e+02, tolerance: 1.160e-01\n",
      "  model = cd_fast.enet_coordinate_descent(\n",
      "D:\\IntelliJ\\ml-stock-sent\\.venv\\Lib\\site-packages\\sklearn\\linear_model\\_coordinate_descent.py:695: ConvergenceWarning: Objective did not converge. You might want to increase the number of iterations, check the scale of the features or consider increasing regularisation. Duality gap: 5.150e+02, tolerance: 1.160e-01\n",
      "  model = cd_fast.enet_coordinate_descent(\n",
      "D:\\IntelliJ\\ml-stock-sent\\.venv\\Lib\\site-packages\\sklearn\\linear_model\\_coordinate_descent.py:695: ConvergenceWarning: Objective did not converge. You might want to increase the number of iterations, check the scale of the features or consider increasing regularisation. Duality gap: 4.565e+02, tolerance: 1.160e-01\n",
      "  model = cd_fast.enet_coordinate_descent(\n",
      "D:\\IntelliJ\\ml-stock-sent\\.venv\\Lib\\site-packages\\sklearn\\linear_model\\_coordinate_descent.py:695: ConvergenceWarning: Objective did not converge. You might want to increase the number of iterations, check the scale of the features or consider increasing regularisation. Duality gap: 5.293e+02, tolerance: 1.160e-01\n",
      "  model = cd_fast.enet_coordinate_descent(\n",
      "D:\\IntelliJ\\ml-stock-sent\\.venv\\Lib\\site-packages\\sklearn\\linear_model\\_coordinate_descent.py:695: ConvergenceWarning: Objective did not converge. You might want to increase the number of iterations, check the scale of the features or consider increasing regularisation. Duality gap: 4.892e+02, tolerance: 1.160e-01\n",
      "  model = cd_fast.enet_coordinate_descent(\n",
      "D:\\IntelliJ\\ml-stock-sent\\.venv\\Lib\\site-packages\\sklearn\\linear_model\\_coordinate_descent.py:695: ConvergenceWarning: Objective did not converge. You might want to increase the number of iterations, check the scale of the features or consider increasing regularisation. Duality gap: 4.812e+02, tolerance: 1.160e-01\n",
      "  model = cd_fast.enet_coordinate_descent(\n",
      "D:\\IntelliJ\\ml-stock-sent\\.venv\\Lib\\site-packages\\sklearn\\linear_model\\_coordinate_descent.py:695: ConvergenceWarning: Objective did not converge. You might want to increase the number of iterations, check the scale of the features or consider increasing regularisation. Duality gap: 2.518e+02, tolerance: 1.160e-01\n",
      "  model = cd_fast.enet_coordinate_descent(\n",
      "D:\\IntelliJ\\ml-stock-sent\\.venv\\Lib\\site-packages\\sklearn\\linear_model\\_coordinate_descent.py:695: ConvergenceWarning: Objective did not converge. You might want to increase the number of iterations, check the scale of the features or consider increasing regularisation. Duality gap: 4.156e+02, tolerance: 1.160e-01\n",
      "  model = cd_fast.enet_coordinate_descent(\n",
      "D:\\IntelliJ\\ml-stock-sent\\.venv\\Lib\\site-packages\\sklearn\\linear_model\\_coordinate_descent.py:695: ConvergenceWarning: Objective did not converge. You might want to increase the number of iterations, check the scale of the features or consider increasing regularisation. Duality gap: 5.321e+02, tolerance: 1.160e-01\n",
      "  model = cd_fast.enet_coordinate_descent(\n",
      "D:\\IntelliJ\\ml-stock-sent\\.venv\\Lib\\site-packages\\sklearn\\linear_model\\_coordinate_descent.py:695: ConvergenceWarning: Objective did not converge. You might want to increase the number of iterations, check the scale of the features or consider increasing regularisation. Duality gap: 5.253e+02, tolerance: 1.160e-01\n",
      "  model = cd_fast.enet_coordinate_descent(\n",
      "D:\\IntelliJ\\ml-stock-sent\\.venv\\Lib\\site-packages\\sklearn\\linear_model\\_coordinate_descent.py:695: ConvergenceWarning: Objective did not converge. You might want to increase the number of iterations, check the scale of the features or consider increasing regularisation. Duality gap: 5.125e+02, tolerance: 1.160e-01\n",
      "  model = cd_fast.enet_coordinate_descent(\n",
      "D:\\IntelliJ\\ml-stock-sent\\.venv\\Lib\\site-packages\\sklearn\\linear_model\\_coordinate_descent.py:695: ConvergenceWarning: Objective did not converge. You might want to increase the number of iterations, check the scale of the features or consider increasing regularisation. Duality gap: 8.018e+01, tolerance: 1.160e-01\n",
      "  model = cd_fast.enet_coordinate_descent(\n",
      "D:\\IntelliJ\\ml-stock-sent\\.venv\\Lib\\site-packages\\sklearn\\linear_model\\_coordinate_descent.py:695: ConvergenceWarning: Objective did not converge. You might want to increase the number of iterations, check the scale of the features or consider increasing regularisation. Duality gap: 5.357e+02, tolerance: 1.160e-01\n",
      "  model = cd_fast.enet_coordinate_descent(\n",
      "D:\\IntelliJ\\ml-stock-sent\\.venv\\Lib\\site-packages\\sklearn\\linear_model\\_coordinate_descent.py:695: ConvergenceWarning: Objective did not converge. You might want to increase the number of iterations, check the scale of the features or consider increasing regularisation. Duality gap: 5.453e+02, tolerance: 1.160e-01\n",
      "  model = cd_fast.enet_coordinate_descent(\n",
      "D:\\IntelliJ\\ml-stock-sent\\.venv\\Lib\\site-packages\\sklearn\\linear_model\\_coordinate_descent.py:695: ConvergenceWarning: Objective did not converge. You might want to increase the number of iterations, check the scale of the features or consider increasing regularisation. Duality gap: 5.340e+02, tolerance: 1.160e-01\n",
      "  model = cd_fast.enet_coordinate_descent(\n",
      "D:\\IntelliJ\\ml-stock-sent\\.venv\\Lib\\site-packages\\sklearn\\linear_model\\_coordinate_descent.py:695: ConvergenceWarning: Objective did not converge. You might want to increase the number of iterations, check the scale of the features or consider increasing regularisation. Duality gap: 4.766e+02, tolerance: 1.160e-01\n",
      "  model = cd_fast.enet_coordinate_descent(\n",
      "[I 2025-08-20 16:29:59,554] Trial 1 finished with value: 0.00959464464497415 and parameters: {'alpha': 2.9380279387035334e-05, 'l1_ratio': 0.15599452033620265, 'selection': 'random'}. Best is trial 0 with value: 0.009590666070447071.\n",
      "D:\\IntelliJ\\ml-stock-sent\\.venv\\Lib\\site-packages\\sklearn\\linear_model\\_coordinate_descent.py:695: ConvergenceWarning: Objective did not converge. You might want to increase the number of iterations, check the scale of the features or consider increasing regularisation. Duality gap: 1.461e+01, tolerance: 3.880e-02\n",
      "  model = cd_fast.enet_coordinate_descent(\n",
      "D:\\IntelliJ\\ml-stock-sent\\.venv\\Lib\\site-packages\\sklearn\\linear_model\\_coordinate_descent.py:695: ConvergenceWarning: Objective did not converge. You might want to increase the number of iterations, check the scale of the features or consider increasing regularisation. Duality gap: 9.239e+00, tolerance: 3.880e-02\n",
      "  model = cd_fast.enet_coordinate_descent(\n",
      "D:\\IntelliJ\\ml-stock-sent\\.venv\\Lib\\site-packages\\sklearn\\linear_model\\_coordinate_descent.py:695: ConvergenceWarning: Objective did not converge. You might want to increase the number of iterations, check the scale of the features or consider increasing regularisation. Duality gap: 4.817e-01, tolerance: 3.880e-02\n",
      "  model = cd_fast.enet_coordinate_descent(\n",
      "D:\\IntelliJ\\ml-stock-sent\\.venv\\Lib\\site-packages\\sklearn\\linear_model\\_coordinate_descent.py:695: ConvergenceWarning: Objective did not converge. You might want to increase the number of iterations, check the scale of the features or consider increasing regularisation. Duality gap: 6.341e+00, tolerance: 3.880e-02\n",
      "  model = cd_fast.enet_coordinate_descent(\n",
      "D:\\IntelliJ\\ml-stock-sent\\.venv\\Lib\\site-packages\\sklearn\\linear_model\\_coordinate_descent.py:695: ConvergenceWarning: Objective did not converge. You might want to increase the number of iterations, check the scale of the features or consider increasing regularisation. Duality gap: 3.262e+01, tolerance: 3.880e-02\n",
      "  model = cd_fast.enet_coordinate_descent(\n",
      "D:\\IntelliJ\\ml-stock-sent\\.venv\\Lib\\site-packages\\sklearn\\linear_model\\_coordinate_descent.py:695: ConvergenceWarning: Objective did not converge. You might want to increase the number of iterations, check the scale of the features or consider increasing regularisation. Duality gap: 2.967e+00, tolerance: 3.880e-02\n",
      "  model = cd_fast.enet_coordinate_descent(\n",
      "D:\\IntelliJ\\ml-stock-sent\\.venv\\Lib\\site-packages\\sklearn\\linear_model\\_coordinate_descent.py:695: ConvergenceWarning: Objective did not converge. You might want to increase the number of iterations, check the scale of the features or consider increasing regularisation. Duality gap: 1.059e+01, tolerance: 3.880e-02\n",
      "  model = cd_fast.enet_coordinate_descent(\n",
      "D:\\IntelliJ\\ml-stock-sent\\.venv\\Lib\\site-packages\\sklearn\\linear_model\\_coordinate_descent.py:695: ConvergenceWarning: Objective did not converge. You might want to increase the number of iterations, check the scale of the features or consider increasing regularisation. Duality gap: 2.216e+00, tolerance: 3.880e-02\n",
      "  model = cd_fast.enet_coordinate_descent(\n",
      "D:\\IntelliJ\\ml-stock-sent\\.venv\\Lib\\site-packages\\sklearn\\linear_model\\_coordinate_descent.py:695: ConvergenceWarning: Objective did not converge. You might want to increase the number of iterations, check the scale of the features or consider increasing regularisation. Duality gap: 9.594e+00, tolerance: 3.880e-02\n",
      "  model = cd_fast.enet_coordinate_descent(\n",
      "D:\\IntelliJ\\ml-stock-sent\\.venv\\Lib\\site-packages\\sklearn\\linear_model\\_coordinate_descent.py:695: ConvergenceWarning: Objective did not converge. You might want to increase the number of iterations, check the scale of the features or consider increasing regularisation. Duality gap: 3.252e+01, tolerance: 3.880e-02\n",
      "  model = cd_fast.enet_coordinate_descent(\n",
      "D:\\IntelliJ\\ml-stock-sent\\.venv\\Lib\\site-packages\\sklearn\\linear_model\\_coordinate_descent.py:695: ConvergenceWarning: Objective did not converge. You might want to increase the number of iterations, check the scale of the features or consider increasing regularisation. Duality gap: 5.329e-02, tolerance: 3.880e-02\n",
      "  model = cd_fast.enet_coordinate_descent(\n",
      "D:\\IntelliJ\\ml-stock-sent\\.venv\\Lib\\site-packages\\sklearn\\linear_model\\_coordinate_descent.py:695: ConvergenceWarning: Objective did not converge. You might want to increase the number of iterations, check the scale of the features or consider increasing regularisation. Duality gap: 7.348e+00, tolerance: 3.880e-02\n",
      "  model = cd_fast.enet_coordinate_descent(\n",
      "D:\\IntelliJ\\ml-stock-sent\\.venv\\Lib\\site-packages\\sklearn\\linear_model\\_coordinate_descent.py:695: ConvergenceWarning: Objective did not converge. You might want to increase the number of iterations, check the scale of the features or consider increasing regularisation. Duality gap: 1.400e+01, tolerance: 3.880e-02\n",
      "  model = cd_fast.enet_coordinate_descent(\n",
      "D:\\IntelliJ\\ml-stock-sent\\.venv\\Lib\\site-packages\\sklearn\\linear_model\\_coordinate_descent.py:695: ConvergenceWarning: Objective did not converge. You might want to increase the number of iterations, check the scale of the features or consider increasing regularisation. Duality gap: 9.462e+00, tolerance: 3.880e-02\n",
      "  model = cd_fast.enet_coordinate_descent(\n",
      "D:\\IntelliJ\\ml-stock-sent\\.venv\\Lib\\site-packages\\sklearn\\linear_model\\_coordinate_descent.py:695: ConvergenceWarning: Objective did not converge. You might want to increase the number of iterations, check the scale of the features or consider increasing regularisation. Duality gap: 5.859e+00, tolerance: 3.880e-02\n",
      "  model = cd_fast.enet_coordinate_descent(\n",
      "D:\\IntelliJ\\ml-stock-sent\\.venv\\Lib\\site-packages\\sklearn\\linear_model\\_coordinate_descent.py:695: ConvergenceWarning: Objective did not converge. You might want to increase the number of iterations, check the scale of the features or consider increasing regularisation. Duality gap: 6.769e+00, tolerance: 3.880e-02\n",
      "  model = cd_fast.enet_coordinate_descent(\n",
      "D:\\IntelliJ\\ml-stock-sent\\.venv\\Lib\\site-packages\\sklearn\\linear_model\\_coordinate_descent.py:695: ConvergenceWarning: Objective did not converge. You might want to increase the number of iterations, check the scale of the features or consider increasing regularisation. Duality gap: 5.738e+00, tolerance: 3.880e-02\n",
      "  model = cd_fast.enet_coordinate_descent(\n",
      "D:\\IntelliJ\\ml-stock-sent\\.venv\\Lib\\site-packages\\sklearn\\linear_model\\_coordinate_descent.py:695: ConvergenceWarning: Objective did not converge. You might want to increase the number of iterations, check the scale of the features or consider increasing regularisation. Duality gap: 5.597e+00, tolerance: 3.880e-02\n",
      "  model = cd_fast.enet_coordinate_descent(\n",
      "D:\\IntelliJ\\ml-stock-sent\\.venv\\Lib\\site-packages\\sklearn\\linear_model\\_coordinate_descent.py:695: ConvergenceWarning: Objective did not converge. You might want to increase the number of iterations, check the scale of the features or consider increasing regularisation. Duality gap: 4.963e-01, tolerance: 3.880e-02\n",
      "  model = cd_fast.enet_coordinate_descent(\n",
      "D:\\IntelliJ\\ml-stock-sent\\.venv\\Lib\\site-packages\\sklearn\\linear_model\\_coordinate_descent.py:695: ConvergenceWarning: Objective did not converge. You might want to increase the number of iterations, check the scale of the features or consider increasing regularisation. Duality gap: 1.428e+01, tolerance: 3.880e-02\n",
      "  model = cd_fast.enet_coordinate_descent(\n",
      "D:\\IntelliJ\\ml-stock-sent\\.venv\\Lib\\site-packages\\sklearn\\linear_model\\_coordinate_descent.py:695: ConvergenceWarning: Objective did not converge. You might want to increase the number of iterations, check the scale of the features or consider increasing regularisation. Duality gap: 9.139e+00, tolerance: 3.880e-02\n",
      "  model = cd_fast.enet_coordinate_descent(\n",
      "D:\\IntelliJ\\ml-stock-sent\\.venv\\Lib\\site-packages\\sklearn\\linear_model\\_coordinate_descent.py:695: ConvergenceWarning: Objective did not converge. You might want to increase the number of iterations, check the scale of the features or consider increasing regularisation. Duality gap: 1.645e+00, tolerance: 3.880e-02\n",
      "  model = cd_fast.enet_coordinate_descent(\n",
      "D:\\IntelliJ\\ml-stock-sent\\.venv\\Lib\\site-packages\\sklearn\\linear_model\\_coordinate_descent.py:695: ConvergenceWarning: Objective did not converge. You might want to increase the number of iterations, check the scale of the features or consider increasing regularisation. Duality gap: 7.438e+00, tolerance: 7.740e-02\n",
      "  model = cd_fast.enet_coordinate_descent(\n",
      "D:\\IntelliJ\\ml-stock-sent\\.venv\\Lib\\site-packages\\sklearn\\linear_model\\_coordinate_descent.py:695: ConvergenceWarning: Objective did not converge. You might want to increase the number of iterations, check the scale of the features or consider increasing regularisation. Duality gap: 1.216e+01, tolerance: 7.740e-02\n",
      "  model = cd_fast.enet_coordinate_descent(\n",
      "D:\\IntelliJ\\ml-stock-sent\\.venv\\Lib\\site-packages\\sklearn\\linear_model\\_coordinate_descent.py:695: ConvergenceWarning: Objective did not converge. You might want to increase the number of iterations, check the scale of the features or consider increasing regularisation. Duality gap: 1.492e+00, tolerance: 7.740e-02\n",
      "  model = cd_fast.enet_coordinate_descent(\n",
      "D:\\IntelliJ\\ml-stock-sent\\.venv\\Lib\\site-packages\\sklearn\\linear_model\\_coordinate_descent.py:695: ConvergenceWarning: Objective did not converge. You might want to increase the number of iterations, check the scale of the features or consider increasing regularisation. Duality gap: 8.206e-01, tolerance: 7.740e-02\n",
      "  model = cd_fast.enet_coordinate_descent(\n",
      "D:\\IntelliJ\\ml-stock-sent\\.venv\\Lib\\site-packages\\sklearn\\linear_model\\_coordinate_descent.py:695: ConvergenceWarning: Objective did not converge. You might want to increase the number of iterations, check the scale of the features or consider increasing regularisation. Duality gap: 3.950e+01, tolerance: 7.740e-02\n",
      "  model = cd_fast.enet_coordinate_descent(\n",
      "D:\\IntelliJ\\ml-stock-sent\\.venv\\Lib\\site-packages\\sklearn\\linear_model\\_coordinate_descent.py:695: ConvergenceWarning: Objective did not converge. You might want to increase the number of iterations, check the scale of the features or consider increasing regularisation. Duality gap: 3.371e+00, tolerance: 7.740e-02\n",
      "  model = cd_fast.enet_coordinate_descent(\n",
      "D:\\IntelliJ\\ml-stock-sent\\.venv\\Lib\\site-packages\\sklearn\\linear_model\\_coordinate_descent.py:695: ConvergenceWarning: Objective did not converge. You might want to increase the number of iterations, check the scale of the features or consider increasing regularisation. Duality gap: 1.531e+00, tolerance: 7.740e-02\n",
      "  model = cd_fast.enet_coordinate_descent(\n",
      "D:\\IntelliJ\\ml-stock-sent\\.venv\\Lib\\site-packages\\sklearn\\linear_model\\_coordinate_descent.py:695: ConvergenceWarning: Objective did not converge. You might want to increase the number of iterations, check the scale of the features or consider increasing regularisation. Duality gap: 8.527e+00, tolerance: 7.740e-02\n",
      "  model = cd_fast.enet_coordinate_descent(\n",
      "D:\\IntelliJ\\ml-stock-sent\\.venv\\Lib\\site-packages\\sklearn\\linear_model\\_coordinate_descent.py:695: ConvergenceWarning: Objective did not converge. You might want to increase the number of iterations, check the scale of the features or consider increasing regularisation. Duality gap: 8.601e+00, tolerance: 7.740e-02\n",
      "  model = cd_fast.enet_coordinate_descent(\n",
      "D:\\IntelliJ\\ml-stock-sent\\.venv\\Lib\\site-packages\\sklearn\\linear_model\\_coordinate_descent.py:695: ConvergenceWarning: Objective did not converge. You might want to increase the number of iterations, check the scale of the features or consider increasing regularisation. Duality gap: 6.456e+00, tolerance: 7.740e-02\n",
      "  model = cd_fast.enet_coordinate_descent(\n",
      "D:\\IntelliJ\\ml-stock-sent\\.venv\\Lib\\site-packages\\sklearn\\linear_model\\_coordinate_descent.py:695: ConvergenceWarning: Objective did not converge. You might want to increase the number of iterations, check the scale of the features or consider increasing regularisation. Duality gap: 4.399e+01, tolerance: 7.740e-02\n",
      "  model = cd_fast.enet_coordinate_descent(\n",
      "D:\\IntelliJ\\ml-stock-sent\\.venv\\Lib\\site-packages\\sklearn\\linear_model\\_coordinate_descent.py:695: ConvergenceWarning: Objective did not converge. You might want to increase the number of iterations, check the scale of the features or consider increasing regularisation. Duality gap: 8.237e+00, tolerance: 7.740e-02\n",
      "  model = cd_fast.enet_coordinate_descent(\n",
      "D:\\IntelliJ\\ml-stock-sent\\.venv\\Lib\\site-packages\\sklearn\\linear_model\\_coordinate_descent.py:695: ConvergenceWarning: Objective did not converge. You might want to increase the number of iterations, check the scale of the features or consider increasing regularisation. Duality gap: 2.829e+01, tolerance: 7.740e-02\n",
      "  model = cd_fast.enet_coordinate_descent(\n",
      "D:\\IntelliJ\\ml-stock-sent\\.venv\\Lib\\site-packages\\sklearn\\linear_model\\_coordinate_descent.py:695: ConvergenceWarning: Objective did not converge. You might want to increase the number of iterations, check the scale of the features or consider increasing regularisation. Duality gap: 3.580e+00, tolerance: 7.740e-02\n",
      "  model = cd_fast.enet_coordinate_descent(\n",
      "D:\\IntelliJ\\ml-stock-sent\\.venv\\Lib\\site-packages\\sklearn\\linear_model\\_coordinate_descent.py:695: ConvergenceWarning: Objective did not converge. You might want to increase the number of iterations, check the scale of the features or consider increasing regularisation. Duality gap: 3.764e+01, tolerance: 7.740e-02\n",
      "  model = cd_fast.enet_coordinate_descent(\n",
      "D:\\IntelliJ\\ml-stock-sent\\.venv\\Lib\\site-packages\\sklearn\\linear_model\\_coordinate_descent.py:695: ConvergenceWarning: Objective did not converge. You might want to increase the number of iterations, check the scale of the features or consider increasing regularisation. Duality gap: 3.460e-01, tolerance: 7.740e-02\n",
      "  model = cd_fast.enet_coordinate_descent(\n",
      "D:\\IntelliJ\\ml-stock-sent\\.venv\\Lib\\site-packages\\sklearn\\linear_model\\_coordinate_descent.py:695: ConvergenceWarning: Objective did not converge. You might want to increase the number of iterations, check the scale of the features or consider increasing regularisation. Duality gap: 1.638e+00, tolerance: 7.740e-02\n",
      "  model = cd_fast.enet_coordinate_descent(\n",
      "D:\\IntelliJ\\ml-stock-sent\\.venv\\Lib\\site-packages\\sklearn\\linear_model\\_coordinate_descent.py:695: ConvergenceWarning: Objective did not converge. You might want to increase the number of iterations, check the scale of the features or consider increasing regularisation. Duality gap: 4.354e+00, tolerance: 7.740e-02\n",
      "  model = cd_fast.enet_coordinate_descent(\n",
      "D:\\IntelliJ\\ml-stock-sent\\.venv\\Lib\\site-packages\\sklearn\\linear_model\\_coordinate_descent.py:695: ConvergenceWarning: Objective did not converge. You might want to increase the number of iterations, check the scale of the features or consider increasing regularisation. Duality gap: 1.876e+01, tolerance: 7.740e-02\n",
      "  model = cd_fast.enet_coordinate_descent(\n",
      "D:\\IntelliJ\\ml-stock-sent\\.venv\\Lib\\site-packages\\sklearn\\linear_model\\_coordinate_descent.py:695: ConvergenceWarning: Objective did not converge. You might want to increase the number of iterations, check the scale of the features or consider increasing regularisation. Duality gap: 3.225e+01, tolerance: 7.740e-02\n",
      "  model = cd_fast.enet_coordinate_descent(\n",
      "D:\\IntelliJ\\ml-stock-sent\\.venv\\Lib\\site-packages\\sklearn\\linear_model\\_coordinate_descent.py:695: ConvergenceWarning: Objective did not converge. You might want to increase the number of iterations, check the scale of the features or consider increasing regularisation. Duality gap: 1.396e+01, tolerance: 7.740e-02\n",
      "  model = cd_fast.enet_coordinate_descent(\n",
      "D:\\IntelliJ\\ml-stock-sent\\.venv\\Lib\\site-packages\\sklearn\\linear_model\\_coordinate_descent.py:695: ConvergenceWarning: Objective did not converge. You might want to increase the number of iterations, check the scale of the features or consider increasing regularisation. Duality gap: 5.816e+00, tolerance: 1.160e-01\n",
      "  model = cd_fast.enet_coordinate_descent(\n",
      "D:\\IntelliJ\\ml-stock-sent\\.venv\\Lib\\site-packages\\sklearn\\linear_model\\_coordinate_descent.py:695: ConvergenceWarning: Objective did not converge. You might want to increase the number of iterations, check the scale of the features or consider increasing regularisation. Duality gap: 7.575e+00, tolerance: 1.160e-01\n",
      "  model = cd_fast.enet_coordinate_descent(\n",
      "D:\\IntelliJ\\ml-stock-sent\\.venv\\Lib\\site-packages\\sklearn\\linear_model\\_coordinate_descent.py:695: ConvergenceWarning: Objective did not converge. You might want to increase the number of iterations, check the scale of the features or consider increasing regularisation. Duality gap: 2.901e+00, tolerance: 1.160e-01\n",
      "  model = cd_fast.enet_coordinate_descent(\n",
      "D:\\IntelliJ\\ml-stock-sent\\.venv\\Lib\\site-packages\\sklearn\\linear_model\\_coordinate_descent.py:695: ConvergenceWarning: Objective did not converge. You might want to increase the number of iterations, check the scale of the features or consider increasing regularisation. Duality gap: 4.994e+01, tolerance: 1.160e-01\n",
      "  model = cd_fast.enet_coordinate_descent(\n",
      "D:\\IntelliJ\\ml-stock-sent\\.venv\\Lib\\site-packages\\sklearn\\linear_model\\_coordinate_descent.py:695: ConvergenceWarning: Objective did not converge. You might want to increase the number of iterations, check the scale of the features or consider increasing regularisation. Duality gap: 2.597e+00, tolerance: 1.160e-01\n",
      "  model = cd_fast.enet_coordinate_descent(\n",
      "D:\\IntelliJ\\ml-stock-sent\\.venv\\Lib\\site-packages\\sklearn\\linear_model\\_coordinate_descent.py:695: ConvergenceWarning: Objective did not converge. You might want to increase the number of iterations, check the scale of the features or consider increasing regularisation. Duality gap: 1.368e+01, tolerance: 1.160e-01\n",
      "  model = cd_fast.enet_coordinate_descent(\n",
      "D:\\IntelliJ\\ml-stock-sent\\.venv\\Lib\\site-packages\\sklearn\\linear_model\\_coordinate_descent.py:695: ConvergenceWarning: Objective did not converge. You might want to increase the number of iterations, check the scale of the features or consider increasing regularisation. Duality gap: 4.262e+00, tolerance: 1.160e-01\n",
      "  model = cd_fast.enet_coordinate_descent(\n",
      "D:\\IntelliJ\\ml-stock-sent\\.venv\\Lib\\site-packages\\sklearn\\linear_model\\_coordinate_descent.py:695: ConvergenceWarning: Objective did not converge. You might want to increase the number of iterations, check the scale of the features or consider increasing regularisation. Duality gap: 1.674e+01, tolerance: 1.160e-01\n",
      "  model = cd_fast.enet_coordinate_descent(\n",
      "D:\\IntelliJ\\ml-stock-sent\\.venv\\Lib\\site-packages\\sklearn\\linear_model\\_coordinate_descent.py:695: ConvergenceWarning: Objective did not converge. You might want to increase the number of iterations, check the scale of the features or consider increasing regularisation. Duality gap: 1.429e+01, tolerance: 1.160e-01\n",
      "  model = cd_fast.enet_coordinate_descent(\n",
      "D:\\IntelliJ\\ml-stock-sent\\.venv\\Lib\\site-packages\\sklearn\\linear_model\\_coordinate_descent.py:695: ConvergenceWarning: Objective did not converge. You might want to increase the number of iterations, check the scale of the features or consider increasing regularisation. Duality gap: 2.876e+00, tolerance: 1.160e-01\n",
      "  model = cd_fast.enet_coordinate_descent(\n",
      "D:\\IntelliJ\\ml-stock-sent\\.venv\\Lib\\site-packages\\sklearn\\linear_model\\_coordinate_descent.py:695: ConvergenceWarning: Objective did not converge. You might want to increase the number of iterations, check the scale of the features or consider increasing regularisation. Duality gap: 6.446e+01, tolerance: 1.160e-01\n",
      "  model = cd_fast.enet_coordinate_descent(\n",
      "D:\\IntelliJ\\ml-stock-sent\\.venv\\Lib\\site-packages\\sklearn\\linear_model\\_coordinate_descent.py:695: ConvergenceWarning: Objective did not converge. You might want to increase the number of iterations, check the scale of the features or consider increasing regularisation. Duality gap: 1.340e+01, tolerance: 1.160e-01\n",
      "  model = cd_fast.enet_coordinate_descent(\n",
      "D:\\IntelliJ\\ml-stock-sent\\.venv\\Lib\\site-packages\\sklearn\\linear_model\\_coordinate_descent.py:695: ConvergenceWarning: Objective did not converge. You might want to increase the number of iterations, check the scale of the features or consider increasing regularisation. Duality gap: 5.017e+01, tolerance: 1.160e-01\n",
      "  model = cd_fast.enet_coordinate_descent(\n",
      "D:\\IntelliJ\\ml-stock-sent\\.venv\\Lib\\site-packages\\sklearn\\linear_model\\_coordinate_descent.py:695: ConvergenceWarning: Objective did not converge. You might want to increase the number of iterations, check the scale of the features or consider increasing regularisation. Duality gap: 5.746e-01, tolerance: 1.160e-01\n",
      "  model = cd_fast.enet_coordinate_descent(\n",
      "D:\\IntelliJ\\ml-stock-sent\\.venv\\Lib\\site-packages\\sklearn\\linear_model\\_coordinate_descent.py:695: ConvergenceWarning: Objective did not converge. You might want to increase the number of iterations, check the scale of the features or consider increasing regularisation. Duality gap: 5.364e+01, tolerance: 1.160e-01\n",
      "  model = cd_fast.enet_coordinate_descent(\n",
      "D:\\IntelliJ\\ml-stock-sent\\.venv\\Lib\\site-packages\\sklearn\\linear_model\\_coordinate_descent.py:695: ConvergenceWarning: Objective did not converge. You might want to increase the number of iterations, check the scale of the features or consider increasing regularisation. Duality gap: 4.426e-01, tolerance: 1.160e-01\n",
      "  model = cd_fast.enet_coordinate_descent(\n",
      "D:\\IntelliJ\\ml-stock-sent\\.venv\\Lib\\site-packages\\sklearn\\linear_model\\_coordinate_descent.py:695: ConvergenceWarning: Objective did not converge. You might want to increase the number of iterations, check the scale of the features or consider increasing regularisation. Duality gap: 2.273e+00, tolerance: 1.160e-01\n",
      "  model = cd_fast.enet_coordinate_descent(\n",
      "D:\\IntelliJ\\ml-stock-sent\\.venv\\Lib\\site-packages\\sklearn\\linear_model\\_coordinate_descent.py:695: ConvergenceWarning: Objective did not converge. You might want to increase the number of iterations, check the scale of the features or consider increasing regularisation. Duality gap: 4.389e+00, tolerance: 1.160e-01\n",
      "  model = cd_fast.enet_coordinate_descent(\n",
      "D:\\IntelliJ\\ml-stock-sent\\.venv\\Lib\\site-packages\\sklearn\\linear_model\\_coordinate_descent.py:695: ConvergenceWarning: Objective did not converge. You might want to increase the number of iterations, check the scale of the features or consider increasing regularisation. Duality gap: 7.478e-01, tolerance: 1.160e-01\n",
      "  model = cd_fast.enet_coordinate_descent(\n",
      "D:\\IntelliJ\\ml-stock-sent\\.venv\\Lib\\site-packages\\sklearn\\linear_model\\_coordinate_descent.py:695: ConvergenceWarning: Objective did not converge. You might want to increase the number of iterations, check the scale of the features or consider increasing regularisation. Duality gap: 2.300e+01, tolerance: 1.160e-01\n",
      "  model = cd_fast.enet_coordinate_descent(\n",
      "D:\\IntelliJ\\ml-stock-sent\\.venv\\Lib\\site-packages\\sklearn\\linear_model\\_coordinate_descent.py:695: ConvergenceWarning: Objective did not converge. You might want to increase the number of iterations, check the scale of the features or consider increasing regularisation. Duality gap: 4.022e+01, tolerance: 1.160e-01\n",
      "  model = cd_fast.enet_coordinate_descent(\n",
      "D:\\IntelliJ\\ml-stock-sent\\.venv\\Lib\\site-packages\\sklearn\\linear_model\\_coordinate_descent.py:695: ConvergenceWarning: Objective did not converge. You might want to increase the number of iterations, check the scale of the features or consider increasing regularisation. Duality gap: 2.548e+01, tolerance: 1.160e-01\n",
      "  model = cd_fast.enet_coordinate_descent(\n",
      "[I 2025-08-20 16:30:00,425] Trial 2 finished with value: 0.009511518596003838 and parameters: {'alpha': 0.0006358358856676254, 'l1_ratio': 0.7080725777960455, 'selection': 'random'}. Best is trial 2 with value: 0.009511518596003838.\n",
      "[I 2025-08-20 16:30:00,883] Trial 3 finished with value: 0.009395742036985018 and parameters: {'alpha': 0.00314288089084011, 'l1_ratio': 0.21233911067827616, 'selection': 'random'}. Best is trial 3 with value: 0.009395742036985018.\n",
      "D:\\IntelliJ\\ml-stock-sent\\.venv\\Lib\\site-packages\\sklearn\\linear_model\\_coordinate_descent.py:695: ConvergenceWarning: Objective did not converge. You might want to increase the number of iterations, check the scale of the features or consider increasing regularisation. Duality gap: 8.386e+01, tolerance: 3.880e-02\n",
      "  model = cd_fast.enet_coordinate_descent(\n",
      "D:\\IntelliJ\\ml-stock-sent\\.venv\\Lib\\site-packages\\sklearn\\linear_model\\_coordinate_descent.py:695: ConvergenceWarning: Objective did not converge. You might want to increase the number of iterations, check the scale of the features or consider increasing regularisation. Duality gap: 5.610e+01, tolerance: 3.880e-02\n",
      "  model = cd_fast.enet_coordinate_descent(\n",
      "D:\\IntelliJ\\ml-stock-sent\\.venv\\Lib\\site-packages\\sklearn\\linear_model\\_coordinate_descent.py:695: ConvergenceWarning: Objective did not converge. You might want to increase the number of iterations, check the scale of the features or consider increasing regularisation. Duality gap: 1.111e+01, tolerance: 3.880e-02\n",
      "  model = cd_fast.enet_coordinate_descent(\n",
      "D:\\IntelliJ\\ml-stock-sent\\.venv\\Lib\\site-packages\\sklearn\\linear_model\\_coordinate_descent.py:695: ConvergenceWarning: Objective did not converge. You might want to increase the number of iterations, check the scale of the features or consider increasing regularisation. Duality gap: 2.633e+00, tolerance: 3.880e-02\n",
      "  model = cd_fast.enet_coordinate_descent(\n",
      "D:\\IntelliJ\\ml-stock-sent\\.venv\\Lib\\site-packages\\sklearn\\linear_model\\_coordinate_descent.py:695: ConvergenceWarning: Objective did not converge. You might want to increase the number of iterations, check the scale of the features or consider increasing regularisation. Duality gap: 6.317e+01, tolerance: 3.880e-02\n",
      "  model = cd_fast.enet_coordinate_descent(\n",
      "D:\\IntelliJ\\ml-stock-sent\\.venv\\Lib\\site-packages\\sklearn\\linear_model\\_coordinate_descent.py:695: ConvergenceWarning: Objective did not converge. You might want to increase the number of iterations, check the scale of the features or consider increasing regularisation. Duality gap: 1.001e+02, tolerance: 3.880e-02\n",
      "  model = cd_fast.enet_coordinate_descent(\n",
      "D:\\IntelliJ\\ml-stock-sent\\.venv\\Lib\\site-packages\\sklearn\\linear_model\\_coordinate_descent.py:695: ConvergenceWarning: Objective did not converge. You might want to increase the number of iterations, check the scale of the features or consider increasing regularisation. Duality gap: 8.102e+00, tolerance: 3.880e-02\n",
      "  model = cd_fast.enet_coordinate_descent(\n",
      "D:\\IntelliJ\\ml-stock-sent\\.venv\\Lib\\site-packages\\sklearn\\linear_model\\_coordinate_descent.py:695: ConvergenceWarning: Objective did not converge. You might want to increase the number of iterations, check the scale of the features or consider increasing regularisation. Duality gap: 4.801e+00, tolerance: 3.880e-02\n",
      "  model = cd_fast.enet_coordinate_descent(\n",
      "D:\\IntelliJ\\ml-stock-sent\\.venv\\Lib\\site-packages\\sklearn\\linear_model\\_coordinate_descent.py:695: ConvergenceWarning: Objective did not converge. You might want to increase the number of iterations, check the scale of the features or consider increasing regularisation. Duality gap: 3.974e+01, tolerance: 3.880e-02\n",
      "  model = cd_fast.enet_coordinate_descent(\n",
      "D:\\IntelliJ\\ml-stock-sent\\.venv\\Lib\\site-packages\\sklearn\\linear_model\\_coordinate_descent.py:695: ConvergenceWarning: Objective did not converge. You might want to increase the number of iterations, check the scale of the features or consider increasing regularisation. Duality gap: 6.514e+01, tolerance: 3.880e-02\n",
      "  model = cd_fast.enet_coordinate_descent(\n",
      "D:\\IntelliJ\\ml-stock-sent\\.venv\\Lib\\site-packages\\sklearn\\linear_model\\_coordinate_descent.py:695: ConvergenceWarning: Objective did not converge. You might want to increase the number of iterations, check the scale of the features or consider increasing regularisation. Duality gap: 5.540e+00, tolerance: 3.880e-02\n",
      "  model = cd_fast.enet_coordinate_descent(\n",
      "D:\\IntelliJ\\ml-stock-sent\\.venv\\Lib\\site-packages\\sklearn\\linear_model\\_coordinate_descent.py:695: ConvergenceWarning: Objective did not converge. You might want to increase the number of iterations, check the scale of the features or consider increasing regularisation. Duality gap: 9.460e+00, tolerance: 3.880e-02\n",
      "  model = cd_fast.enet_coordinate_descent(\n",
      "D:\\IntelliJ\\ml-stock-sent\\.venv\\Lib\\site-packages\\sklearn\\linear_model\\_coordinate_descent.py:695: ConvergenceWarning: Objective did not converge. You might want to increase the number of iterations, check the scale of the features or consider increasing regularisation. Duality gap: 7.994e+01, tolerance: 3.880e-02\n",
      "  model = cd_fast.enet_coordinate_descent(\n",
      "D:\\IntelliJ\\ml-stock-sent\\.venv\\Lib\\site-packages\\sklearn\\linear_model\\_coordinate_descent.py:695: ConvergenceWarning: Objective did not converge. You might want to increase the number of iterations, check the scale of the features or consider increasing regularisation. Duality gap: 9.874e+01, tolerance: 3.880e-02\n",
      "  model = cd_fast.enet_coordinate_descent(\n",
      "D:\\IntelliJ\\ml-stock-sent\\.venv\\Lib\\site-packages\\sklearn\\linear_model\\_coordinate_descent.py:695: ConvergenceWarning: Objective did not converge. You might want to increase the number of iterations, check the scale of the features or consider increasing regularisation. Duality gap: 3.252e+00, tolerance: 3.880e-02\n",
      "  model = cd_fast.enet_coordinate_descent(\n",
      "D:\\IntelliJ\\ml-stock-sent\\.venv\\Lib\\site-packages\\sklearn\\linear_model\\_coordinate_descent.py:695: ConvergenceWarning: Objective did not converge. You might want to increase the number of iterations, check the scale of the features or consider increasing regularisation. Duality gap: 3.492e+01, tolerance: 3.880e-02\n",
      "  model = cd_fast.enet_coordinate_descent(\n",
      "D:\\IntelliJ\\ml-stock-sent\\.venv\\Lib\\site-packages\\sklearn\\linear_model\\_coordinate_descent.py:695: ConvergenceWarning: Objective did not converge. You might want to increase the number of iterations, check the scale of the features or consider increasing regularisation. Duality gap: 3.035e+01, tolerance: 3.880e-02\n",
      "  model = cd_fast.enet_coordinate_descent(\n",
      "D:\\IntelliJ\\ml-stock-sent\\.venv\\Lib\\site-packages\\sklearn\\linear_model\\_coordinate_descent.py:695: ConvergenceWarning: Objective did not converge. You might want to increase the number of iterations, check the scale of the features or consider increasing regularisation. Duality gap: 4.124e+01, tolerance: 3.880e-02\n",
      "  model = cd_fast.enet_coordinate_descent(\n",
      "D:\\IntelliJ\\ml-stock-sent\\.venv\\Lib\\site-packages\\sklearn\\linear_model\\_coordinate_descent.py:695: ConvergenceWarning: Objective did not converge. You might want to increase the number of iterations, check the scale of the features or consider increasing regularisation. Duality gap: 6.313e+01, tolerance: 3.880e-02\n",
      "  model = cd_fast.enet_coordinate_descent(\n",
      "D:\\IntelliJ\\ml-stock-sent\\.venv\\Lib\\site-packages\\sklearn\\linear_model\\_coordinate_descent.py:695: ConvergenceWarning: Objective did not converge. You might want to increase the number of iterations, check the scale of the features or consider increasing regularisation. Duality gap: 6.028e+01, tolerance: 3.880e-02\n",
      "  model = cd_fast.enet_coordinate_descent(\n",
      "D:\\IntelliJ\\ml-stock-sent\\.venv\\Lib\\site-packages\\sklearn\\linear_model\\_coordinate_descent.py:695: ConvergenceWarning: Objective did not converge. You might want to increase the number of iterations, check the scale of the features or consider increasing regularisation. Duality gap: 5.060e+00, tolerance: 3.880e-02\n",
      "  model = cd_fast.enet_coordinate_descent(\n",
      "D:\\IntelliJ\\ml-stock-sent\\.venv\\Lib\\site-packages\\sklearn\\linear_model\\_coordinate_descent.py:695: ConvergenceWarning: Objective did not converge. You might want to increase the number of iterations, check the scale of the features or consider increasing regularisation. Duality gap: 2.208e+01, tolerance: 3.880e-02\n",
      "  model = cd_fast.enet_coordinate_descent(\n",
      "D:\\IntelliJ\\ml-stock-sent\\.venv\\Lib\\site-packages\\sklearn\\linear_model\\_coordinate_descent.py:695: ConvergenceWarning: Objective did not converge. You might want to increase the number of iterations, check the scale of the features or consider increasing regularisation. Duality gap: 6.801e+01, tolerance: 3.880e-02\n",
      "  model = cd_fast.enet_coordinate_descent(\n",
      "D:\\IntelliJ\\ml-stock-sent\\.venv\\Lib\\site-packages\\sklearn\\linear_model\\_coordinate_descent.py:695: ConvergenceWarning: Objective did not converge. You might want to increase the number of iterations, check the scale of the features or consider increasing regularisation. Duality gap: 6.858e+01, tolerance: 3.880e-02\n",
      "  model = cd_fast.enet_coordinate_descent(\n",
      "D:\\IntelliJ\\ml-stock-sent\\.venv\\Lib\\site-packages\\sklearn\\linear_model\\_coordinate_descent.py:695: ConvergenceWarning: Objective did not converge. You might want to increase the number of iterations, check the scale of the features or consider increasing regularisation. Duality gap: 5.899e+01, tolerance: 3.880e-02\n",
      "  model = cd_fast.enet_coordinate_descent(\n",
      "D:\\IntelliJ\\ml-stock-sent\\.venv\\Lib\\site-packages\\sklearn\\linear_model\\_coordinate_descent.py:695: ConvergenceWarning: Objective did not converge. You might want to increase the number of iterations, check the scale of the features or consider increasing regularisation. Duality gap: 4.351e+00, tolerance: 3.880e-02\n",
      "  model = cd_fast.enet_coordinate_descent(\n",
      "D:\\IntelliJ\\ml-stock-sent\\.venv\\Lib\\site-packages\\sklearn\\linear_model\\_coordinate_descent.py:695: ConvergenceWarning: Objective did not converge. You might want to increase the number of iterations, check the scale of the features or consider increasing regularisation. Duality gap: 2.682e+00, tolerance: 3.880e-02\n",
      "  model = cd_fast.enet_coordinate_descent(\n",
      "D:\\IntelliJ\\ml-stock-sent\\.venv\\Lib\\site-packages\\sklearn\\linear_model\\_coordinate_descent.py:695: ConvergenceWarning: Objective did not converge. You might want to increase the number of iterations, check the scale of the features or consider increasing regularisation. Duality gap: 4.886e+01, tolerance: 3.880e-02\n",
      "  model = cd_fast.enet_coordinate_descent(\n",
      "D:\\IntelliJ\\ml-stock-sent\\.venv\\Lib\\site-packages\\sklearn\\linear_model\\_coordinate_descent.py:695: ConvergenceWarning: Objective did not converge. You might want to increase the number of iterations, check the scale of the features or consider increasing regularisation. Duality gap: 3.459e+01, tolerance: 3.880e-02\n",
      "  model = cd_fast.enet_coordinate_descent(\n",
      "D:\\IntelliJ\\ml-stock-sent\\.venv\\Lib\\site-packages\\sklearn\\linear_model\\_coordinate_descent.py:695: ConvergenceWarning: Objective did not converge. You might want to increase the number of iterations, check the scale of the features or consider increasing regularisation. Duality gap: 4.659e+01, tolerance: 3.880e-02\n",
      "  model = cd_fast.enet_coordinate_descent(\n",
      "D:\\IntelliJ\\ml-stock-sent\\.venv\\Lib\\site-packages\\sklearn\\linear_model\\_coordinate_descent.py:695: ConvergenceWarning: Objective did not converge. You might want to increase the number of iterations, check the scale of the features or consider increasing regularisation. Duality gap: 9.851e+01, tolerance: 7.740e-02\n",
      "  model = cd_fast.enet_coordinate_descent(\n",
      "D:\\IntelliJ\\ml-stock-sent\\.venv\\Lib\\site-packages\\sklearn\\linear_model\\_coordinate_descent.py:695: ConvergenceWarning: Objective did not converge. You might want to increase the number of iterations, check the scale of the features or consider increasing regularisation. Duality gap: 9.397e+01, tolerance: 7.740e-02\n",
      "  model = cd_fast.enet_coordinate_descent(\n",
      "D:\\IntelliJ\\ml-stock-sent\\.venv\\Lib\\site-packages\\sklearn\\linear_model\\_coordinate_descent.py:695: ConvergenceWarning: Objective did not converge. You might want to increase the number of iterations, check the scale of the features or consider increasing regularisation. Duality gap: 1.975e+01, tolerance: 7.740e-02\n",
      "  model = cd_fast.enet_coordinate_descent(\n",
      "D:\\IntelliJ\\ml-stock-sent\\.venv\\Lib\\site-packages\\sklearn\\linear_model\\_coordinate_descent.py:695: ConvergenceWarning: Objective did not converge. You might want to increase the number of iterations, check the scale of the features or consider increasing regularisation. Duality gap: 1.953e+00, tolerance: 7.740e-02\n",
      "  model = cd_fast.enet_coordinate_descent(\n",
      "D:\\IntelliJ\\ml-stock-sent\\.venv\\Lib\\site-packages\\sklearn\\linear_model\\_coordinate_descent.py:695: ConvergenceWarning: Objective did not converge. You might want to increase the number of iterations, check the scale of the features or consider increasing regularisation. Duality gap: 4.849e+01, tolerance: 7.740e-02\n",
      "  model = cd_fast.enet_coordinate_descent(\n",
      "D:\\IntelliJ\\ml-stock-sent\\.venv\\Lib\\site-packages\\sklearn\\linear_model\\_coordinate_descent.py:695: ConvergenceWarning: Objective did not converge. You might want to increase the number of iterations, check the scale of the features or consider increasing regularisation. Duality gap: 1.602e+02, tolerance: 7.740e-02\n",
      "  model = cd_fast.enet_coordinate_descent(\n",
      "D:\\IntelliJ\\ml-stock-sent\\.venv\\Lib\\site-packages\\sklearn\\linear_model\\_coordinate_descent.py:695: ConvergenceWarning: Objective did not converge. You might want to increase the number of iterations, check the scale of the features or consider increasing regularisation. Duality gap: 1.281e+00, tolerance: 7.740e-02\n",
      "  model = cd_fast.enet_coordinate_descent(\n",
      "D:\\IntelliJ\\ml-stock-sent\\.venv\\Lib\\site-packages\\sklearn\\linear_model\\_coordinate_descent.py:695: ConvergenceWarning: Objective did not converge. You might want to increase the number of iterations, check the scale of the features or consider increasing regularisation. Duality gap: 2.125e+01, tolerance: 7.740e-02\n",
      "  model = cd_fast.enet_coordinate_descent(\n",
      "D:\\IntelliJ\\ml-stock-sent\\.venv\\Lib\\site-packages\\sklearn\\linear_model\\_coordinate_descent.py:695: ConvergenceWarning: Objective did not converge. You might want to increase the number of iterations, check the scale of the features or consider increasing regularisation. Duality gap: 5.545e+01, tolerance: 7.740e-02\n",
      "  model = cd_fast.enet_coordinate_descent(\n",
      "D:\\IntelliJ\\ml-stock-sent\\.venv\\Lib\\site-packages\\sklearn\\linear_model\\_coordinate_descent.py:695: ConvergenceWarning: Objective did not converge. You might want to increase the number of iterations, check the scale of the features or consider increasing regularisation. Duality gap: 9.776e+01, tolerance: 7.740e-02\n",
      "  model = cd_fast.enet_coordinate_descent(\n",
      "D:\\IntelliJ\\ml-stock-sent\\.venv\\Lib\\site-packages\\sklearn\\linear_model\\_coordinate_descent.py:695: ConvergenceWarning: Objective did not converge. You might want to increase the number of iterations, check the scale of the features or consider increasing regularisation. Duality gap: 1.455e+00, tolerance: 7.740e-02\n",
      "  model = cd_fast.enet_coordinate_descent(\n",
      "D:\\IntelliJ\\ml-stock-sent\\.venv\\Lib\\site-packages\\sklearn\\linear_model\\_coordinate_descent.py:695: ConvergenceWarning: Objective did not converge. You might want to increase the number of iterations, check the scale of the features or consider increasing regularisation. Duality gap: 5.493e+01, tolerance: 7.740e-02\n",
      "  model = cd_fast.enet_coordinate_descent(\n",
      "D:\\IntelliJ\\ml-stock-sent\\.venv\\Lib\\site-packages\\sklearn\\linear_model\\_coordinate_descent.py:695: ConvergenceWarning: Objective did not converge. You might want to increase the number of iterations, check the scale of the features or consider increasing regularisation. Duality gap: 7.100e+01, tolerance: 7.740e-02\n",
      "  model = cd_fast.enet_coordinate_descent(\n",
      "D:\\IntelliJ\\ml-stock-sent\\.venv\\Lib\\site-packages\\sklearn\\linear_model\\_coordinate_descent.py:695: ConvergenceWarning: Objective did not converge. You might want to increase the number of iterations, check the scale of the features or consider increasing regularisation. Duality gap: 1.625e+02, tolerance: 7.740e-02\n",
      "  model = cd_fast.enet_coordinate_descent(\n",
      "D:\\IntelliJ\\ml-stock-sent\\.venv\\Lib\\site-packages\\sklearn\\linear_model\\_coordinate_descent.py:695: ConvergenceWarning: Objective did not converge. You might want to increase the number of iterations, check the scale of the features or consider increasing regularisation. Duality gap: 4.747e+01, tolerance: 7.740e-02\n",
      "  model = cd_fast.enet_coordinate_descent(\n",
      "D:\\IntelliJ\\ml-stock-sent\\.venv\\Lib\\site-packages\\sklearn\\linear_model\\_coordinate_descent.py:695: ConvergenceWarning: Objective did not converge. You might want to increase the number of iterations, check the scale of the features or consider increasing regularisation. Duality gap: 8.751e+01, tolerance: 7.740e-02\n",
      "  model = cd_fast.enet_coordinate_descent(\n",
      "D:\\IntelliJ\\ml-stock-sent\\.venv\\Lib\\site-packages\\sklearn\\linear_model\\_coordinate_descent.py:695: ConvergenceWarning: Objective did not converge. You might want to increase the number of iterations, check the scale of the features or consider increasing regularisation. Duality gap: 4.924e+01, tolerance: 7.740e-02\n",
      "  model = cd_fast.enet_coordinate_descent(\n",
      "D:\\IntelliJ\\ml-stock-sent\\.venv\\Lib\\site-packages\\sklearn\\linear_model\\_coordinate_descent.py:695: ConvergenceWarning: Objective did not converge. You might want to increase the number of iterations, check the scale of the features or consider increasing regularisation. Duality gap: 1.180e+02, tolerance: 7.740e-02\n",
      "  model = cd_fast.enet_coordinate_descent(\n",
      "D:\\IntelliJ\\ml-stock-sent\\.venv\\Lib\\site-packages\\sklearn\\linear_model\\_coordinate_descent.py:695: ConvergenceWarning: Objective did not converge. You might want to increase the number of iterations, check the scale of the features or consider increasing regularisation. Duality gap: 2.256e+01, tolerance: 7.740e-02\n",
      "  model = cd_fast.enet_coordinate_descent(\n",
      "D:\\IntelliJ\\ml-stock-sent\\.venv\\Lib\\site-packages\\sklearn\\linear_model\\_coordinate_descent.py:695: ConvergenceWarning: Objective did not converge. You might want to increase the number of iterations, check the scale of the features or consider increasing regularisation. Duality gap: 1.110e-01, tolerance: 7.740e-02\n",
      "  model = cd_fast.enet_coordinate_descent(\n",
      "D:\\IntelliJ\\ml-stock-sent\\.venv\\Lib\\site-packages\\sklearn\\linear_model\\_coordinate_descent.py:695: ConvergenceWarning: Objective did not converge. You might want to increase the number of iterations, check the scale of the features or consider increasing regularisation. Duality gap: 6.767e-01, tolerance: 7.740e-02\n",
      "  model = cd_fast.enet_coordinate_descent(\n",
      "D:\\IntelliJ\\ml-stock-sent\\.venv\\Lib\\site-packages\\sklearn\\linear_model\\_coordinate_descent.py:695: ConvergenceWarning: Objective did not converge. You might want to increase the number of iterations, check the scale of the features or consider increasing regularisation. Duality gap: 5.824e+01, tolerance: 7.740e-02\n",
      "  model = cd_fast.enet_coordinate_descent(\n",
      "D:\\IntelliJ\\ml-stock-sent\\.venv\\Lib\\site-packages\\sklearn\\linear_model\\_coordinate_descent.py:695: ConvergenceWarning: Objective did not converge. You might want to increase the number of iterations, check the scale of the features or consider increasing regularisation. Duality gap: 5.613e+01, tolerance: 7.740e-02\n",
      "  model = cd_fast.enet_coordinate_descent(\n",
      "D:\\IntelliJ\\ml-stock-sent\\.venv\\Lib\\site-packages\\sklearn\\linear_model\\_coordinate_descent.py:695: ConvergenceWarning: Objective did not converge. You might want to increase the number of iterations, check the scale of the features or consider increasing regularisation. Duality gap: 3.865e+01, tolerance: 7.740e-02\n",
      "  model = cd_fast.enet_coordinate_descent(\n",
      "D:\\IntelliJ\\ml-stock-sent\\.venv\\Lib\\site-packages\\sklearn\\linear_model\\_coordinate_descent.py:695: ConvergenceWarning: Objective did not converge. You might want to increase the number of iterations, check the scale of the features or consider increasing regularisation. Duality gap: 1.089e+02, tolerance: 7.740e-02\n",
      "  model = cd_fast.enet_coordinate_descent(\n",
      "D:\\IntelliJ\\ml-stock-sent\\.venv\\Lib\\site-packages\\sklearn\\linear_model\\_coordinate_descent.py:695: ConvergenceWarning: Objective did not converge. You might want to increase the number of iterations, check the scale of the features or consider increasing regularisation. Duality gap: 1.409e+02, tolerance: 7.740e-02\n",
      "  model = cd_fast.enet_coordinate_descent(\n",
      "D:\\IntelliJ\\ml-stock-sent\\.venv\\Lib\\site-packages\\sklearn\\linear_model\\_coordinate_descent.py:695: ConvergenceWarning: Objective did not converge. You might want to increase the number of iterations, check the scale of the features or consider increasing regularisation. Duality gap: 6.236e+01, tolerance: 7.740e-02\n",
      "  model = cd_fast.enet_coordinate_descent(\n",
      "D:\\IntelliJ\\ml-stock-sent\\.venv\\Lib\\site-packages\\sklearn\\linear_model\\_coordinate_descent.py:695: ConvergenceWarning: Objective did not converge. You might want to increase the number of iterations, check the scale of the features or consider increasing regularisation. Duality gap: 7.114e+00, tolerance: 7.740e-02\n",
      "  model = cd_fast.enet_coordinate_descent(\n",
      "D:\\IntelliJ\\ml-stock-sent\\.venv\\Lib\\site-packages\\sklearn\\linear_model\\_coordinate_descent.py:695: ConvergenceWarning: Objective did not converge. You might want to increase the number of iterations, check the scale of the features or consider increasing regularisation. Duality gap: 1.216e+02, tolerance: 1.160e-01\n",
      "  model = cd_fast.enet_coordinate_descent(\n",
      "D:\\IntelliJ\\ml-stock-sent\\.venv\\Lib\\site-packages\\sklearn\\linear_model\\_coordinate_descent.py:695: ConvergenceWarning: Objective did not converge. You might want to increase the number of iterations, check the scale of the features or consider increasing regularisation. Duality gap: 1.117e+02, tolerance: 1.160e-01\n",
      "  model = cd_fast.enet_coordinate_descent(\n",
      "D:\\IntelliJ\\ml-stock-sent\\.venv\\Lib\\site-packages\\sklearn\\linear_model\\_coordinate_descent.py:695: ConvergenceWarning: Objective did not converge. You might want to increase the number of iterations, check the scale of the features or consider increasing regularisation. Duality gap: 5.529e+01, tolerance: 1.160e-01\n",
      "  model = cd_fast.enet_coordinate_descent(\n",
      "D:\\IntelliJ\\ml-stock-sent\\.venv\\Lib\\site-packages\\sklearn\\linear_model\\_coordinate_descent.py:695: ConvergenceWarning: Objective did not converge. You might want to increase the number of iterations, check the scale of the features or consider increasing regularisation. Duality gap: 2.825e+00, tolerance: 1.160e-01\n",
      "  model = cd_fast.enet_coordinate_descent(\n",
      "D:\\IntelliJ\\ml-stock-sent\\.venv\\Lib\\site-packages\\sklearn\\linear_model\\_coordinate_descent.py:695: ConvergenceWarning: Objective did not converge. You might want to increase the number of iterations, check the scale of the features or consider increasing regularisation. Duality gap: 1.031e+02, tolerance: 1.160e-01\n",
      "  model = cd_fast.enet_coordinate_descent(\n",
      "D:\\IntelliJ\\ml-stock-sent\\.venv\\Lib\\site-packages\\sklearn\\linear_model\\_coordinate_descent.py:695: ConvergenceWarning: Objective did not converge. You might want to increase the number of iterations, check the scale of the features or consider increasing regularisation. Duality gap: 2.394e+02, tolerance: 1.160e-01\n",
      "  model = cd_fast.enet_coordinate_descent(\n",
      "D:\\IntelliJ\\ml-stock-sent\\.venv\\Lib\\site-packages\\sklearn\\linear_model\\_coordinate_descent.py:695: ConvergenceWarning: Objective did not converge. You might want to increase the number of iterations, check the scale of the features or consider increasing regularisation. Duality gap: 3.868e+01, tolerance: 1.160e-01\n",
      "  model = cd_fast.enet_coordinate_descent(\n",
      "D:\\IntelliJ\\ml-stock-sent\\.venv\\Lib\\site-packages\\sklearn\\linear_model\\_coordinate_descent.py:695: ConvergenceWarning: Objective did not converge. You might want to increase the number of iterations, check the scale of the features or consider increasing regularisation. Duality gap: 8.898e+01, tolerance: 1.160e-01\n",
      "  model = cd_fast.enet_coordinate_descent(\n",
      "D:\\IntelliJ\\ml-stock-sent\\.venv\\Lib\\site-packages\\sklearn\\linear_model\\_coordinate_descent.py:695: ConvergenceWarning: Objective did not converge. You might want to increase the number of iterations, check the scale of the features or consider increasing regularisation. Duality gap: 1.017e+02, tolerance: 1.160e-01\n",
      "  model = cd_fast.enet_coordinate_descent(\n",
      "D:\\IntelliJ\\ml-stock-sent\\.venv\\Lib\\site-packages\\sklearn\\linear_model\\_coordinate_descent.py:695: ConvergenceWarning: Objective did not converge. You might want to increase the number of iterations, check the scale of the features or consider increasing regularisation. Duality gap: 1.743e+02, tolerance: 1.160e-01\n",
      "  model = cd_fast.enet_coordinate_descent(\n",
      "D:\\IntelliJ\\ml-stock-sent\\.venv\\Lib\\site-packages\\sklearn\\linear_model\\_coordinate_descent.py:695: ConvergenceWarning: Objective did not converge. You might want to increase the number of iterations, check the scale of the features or consider increasing regularisation. Duality gap: 1.942e+00, tolerance: 1.160e-01\n",
      "  model = cd_fast.enet_coordinate_descent(\n",
      "D:\\IntelliJ\\ml-stock-sent\\.venv\\Lib\\site-packages\\sklearn\\linear_model\\_coordinate_descent.py:695: ConvergenceWarning: Objective did not converge. You might want to increase the number of iterations, check the scale of the features or consider increasing regularisation. Duality gap: 1.083e+02, tolerance: 1.160e-01\n",
      "  model = cd_fast.enet_coordinate_descent(\n",
      "D:\\IntelliJ\\ml-stock-sent\\.venv\\Lib\\site-packages\\sklearn\\linear_model\\_coordinate_descent.py:695: ConvergenceWarning: Objective did not converge. You might want to increase the number of iterations, check the scale of the features or consider increasing regularisation. Duality gap: 9.247e+01, tolerance: 1.160e-01\n",
      "  model = cd_fast.enet_coordinate_descent(\n",
      "D:\\IntelliJ\\ml-stock-sent\\.venv\\Lib\\site-packages\\sklearn\\linear_model\\_coordinate_descent.py:695: ConvergenceWarning: Objective did not converge. You might want to increase the number of iterations, check the scale of the features or consider increasing regularisation. Duality gap: 2.505e+02, tolerance: 1.160e-01\n",
      "  model = cd_fast.enet_coordinate_descent(\n",
      "D:\\IntelliJ\\ml-stock-sent\\.venv\\Lib\\site-packages\\sklearn\\linear_model\\_coordinate_descent.py:695: ConvergenceWarning: Objective did not converge. You might want to increase the number of iterations, check the scale of the features or consider increasing regularisation. Duality gap: 1.006e+02, tolerance: 1.160e-01\n",
      "  model = cd_fast.enet_coordinate_descent(\n",
      "D:\\IntelliJ\\ml-stock-sent\\.venv\\Lib\\site-packages\\sklearn\\linear_model\\_coordinate_descent.py:695: ConvergenceWarning: Objective did not converge. You might want to increase the number of iterations, check the scale of the features or consider increasing regularisation. Duality gap: 1.679e+02, tolerance: 1.160e-01\n",
      "  model = cd_fast.enet_coordinate_descent(\n",
      "D:\\IntelliJ\\ml-stock-sent\\.venv\\Lib\\site-packages\\sklearn\\linear_model\\_coordinate_descent.py:695: ConvergenceWarning: Objective did not converge. You might want to increase the number of iterations, check the scale of the features or consider increasing regularisation. Duality gap: 4.556e+01, tolerance: 1.160e-01\n",
      "  model = cd_fast.enet_coordinate_descent(\n",
      "D:\\IntelliJ\\ml-stock-sent\\.venv\\Lib\\site-packages\\sklearn\\linear_model\\_coordinate_descent.py:695: ConvergenceWarning: Objective did not converge. You might want to increase the number of iterations, check the scale of the features or consider increasing regularisation. Duality gap: 1.616e+02, tolerance: 1.160e-01\n",
      "  model = cd_fast.enet_coordinate_descent(\n",
      "D:\\IntelliJ\\ml-stock-sent\\.venv\\Lib\\site-packages\\sklearn\\linear_model\\_coordinate_descent.py:695: ConvergenceWarning: Objective did not converge. You might want to increase the number of iterations, check the scale of the features or consider increasing regularisation. Duality gap: 2.880e+01, tolerance: 1.160e-01\n",
      "  model = cd_fast.enet_coordinate_descent(\n",
      "D:\\IntelliJ\\ml-stock-sent\\.venv\\Lib\\site-packages\\sklearn\\linear_model\\_coordinate_descent.py:695: ConvergenceWarning: Objective did not converge. You might want to increase the number of iterations, check the scale of the features or consider increasing regularisation. Duality gap: 1.919e+00, tolerance: 1.160e-01\n",
      "  model = cd_fast.enet_coordinate_descent(\n",
      "D:\\IntelliJ\\ml-stock-sent\\.venv\\Lib\\site-packages\\sklearn\\linear_model\\_coordinate_descent.py:695: ConvergenceWarning: Objective did not converge. You might want to increase the number of iterations, check the scale of the features or consider increasing regularisation. Duality gap: 4.920e+00, tolerance: 1.160e-01\n",
      "  model = cd_fast.enet_coordinate_descent(\n",
      "D:\\IntelliJ\\ml-stock-sent\\.venv\\Lib\\site-packages\\sklearn\\linear_model\\_coordinate_descent.py:695: ConvergenceWarning: Objective did not converge. You might want to increase the number of iterations, check the scale of the features or consider increasing regularisation. Duality gap: 1.105e+02, tolerance: 1.160e-01\n",
      "  model = cd_fast.enet_coordinate_descent(\n",
      "D:\\IntelliJ\\ml-stock-sent\\.venv\\Lib\\site-packages\\sklearn\\linear_model\\_coordinate_descent.py:695: ConvergenceWarning: Objective did not converge. You might want to increase the number of iterations, check the scale of the features or consider increasing regularisation. Duality gap: 6.450e+01, tolerance: 1.160e-01\n",
      "  model = cd_fast.enet_coordinate_descent(\n",
      "D:\\IntelliJ\\ml-stock-sent\\.venv\\Lib\\site-packages\\sklearn\\linear_model\\_coordinate_descent.py:695: ConvergenceWarning: Objective did not converge. You might want to increase the number of iterations, check the scale of the features or consider increasing regularisation. Duality gap: 4.105e+01, tolerance: 1.160e-01\n",
      "  model = cd_fast.enet_coordinate_descent(\n",
      "D:\\IntelliJ\\ml-stock-sent\\.venv\\Lib\\site-packages\\sklearn\\linear_model\\_coordinate_descent.py:695: ConvergenceWarning: Objective did not converge. You might want to increase the number of iterations, check the scale of the features or consider increasing regularisation. Duality gap: 1.495e-01, tolerance: 1.160e-01\n",
      "  model = cd_fast.enet_coordinate_descent(\n",
      "D:\\IntelliJ\\ml-stock-sent\\.venv\\Lib\\site-packages\\sklearn\\linear_model\\_coordinate_descent.py:695: ConvergenceWarning: Objective did not converge. You might want to increase the number of iterations, check the scale of the features or consider increasing regularisation. Duality gap: 1.639e+02, tolerance: 1.160e-01\n",
      "  model = cd_fast.enet_coordinate_descent(\n",
      "D:\\IntelliJ\\ml-stock-sent\\.venv\\Lib\\site-packages\\sklearn\\linear_model\\_coordinate_descent.py:695: ConvergenceWarning: Objective did not converge. You might want to increase the number of iterations, check the scale of the features or consider increasing regularisation. Duality gap: 2.064e+02, tolerance: 1.160e-01\n",
      "  model = cd_fast.enet_coordinate_descent(\n",
      "D:\\IntelliJ\\ml-stock-sent\\.venv\\Lib\\site-packages\\sklearn\\linear_model\\_coordinate_descent.py:695: ConvergenceWarning: Objective did not converge. You might want to increase the number of iterations, check the scale of the features or consider increasing regularisation. Duality gap: 1.291e+02, tolerance: 1.160e-01\n",
      "  model = cd_fast.enet_coordinate_descent(\n",
      "D:\\IntelliJ\\ml-stock-sent\\.venv\\Lib\\site-packages\\sklearn\\linear_model\\_coordinate_descent.py:695: ConvergenceWarning: Objective did not converge. You might want to increase the number of iterations, check the scale of the features or consider increasing regularisation. Duality gap: 2.081e+01, tolerance: 1.160e-01\n",
      "  model = cd_fast.enet_coordinate_descent(\n",
      "[I 2025-08-20 16:30:01,733] Trial 4 finished with value: 0.009599913053782235 and parameters: {'alpha': 8.17949947521167e-05, 'l1_ratio': 0.5247564316322378, 'selection': 'cyclic'}. Best is trial 3 with value: 0.009395742036985018.\n",
      "D:\\IntelliJ\\ml-stock-sent\\.venv\\Lib\\site-packages\\sklearn\\linear_model\\_coordinate_descent.py:695: ConvergenceWarning: Objective did not converge. You might want to increase the number of iterations, check the scale of the features or consider increasing regularisation. Duality gap: 4.991e+01, tolerance: 3.880e-02\n",
      "  model = cd_fast.enet_coordinate_descent(\n",
      "D:\\IntelliJ\\ml-stock-sent\\.venv\\Lib\\site-packages\\sklearn\\linear_model\\_coordinate_descent.py:695: ConvergenceWarning: Objective did not converge. You might want to increase the number of iterations, check the scale of the features or consider increasing regularisation. Duality gap: 3.682e+01, tolerance: 3.880e-02\n",
      "  model = cd_fast.enet_coordinate_descent(\n",
      "D:\\IntelliJ\\ml-stock-sent\\.venv\\Lib\\site-packages\\sklearn\\linear_model\\_coordinate_descent.py:695: ConvergenceWarning: Objective did not converge. You might want to increase the number of iterations, check the scale of the features or consider increasing regularisation. Duality gap: 4.588e+00, tolerance: 3.880e-02\n",
      "  model = cd_fast.enet_coordinate_descent(\n",
      "D:\\IntelliJ\\ml-stock-sent\\.venv\\Lib\\site-packages\\sklearn\\linear_model\\_coordinate_descent.py:695: ConvergenceWarning: Objective did not converge. You might want to increase the number of iterations, check the scale of the features or consider increasing regularisation. Duality gap: 5.936e-01, tolerance: 3.880e-02\n",
      "  model = cd_fast.enet_coordinate_descent(\n",
      "D:\\IntelliJ\\ml-stock-sent\\.venv\\Lib\\site-packages\\sklearn\\linear_model\\_coordinate_descent.py:695: ConvergenceWarning: Objective did not converge. You might want to increase the number of iterations, check the scale of the features or consider increasing regularisation. Duality gap: 3.258e+01, tolerance: 3.880e-02\n",
      "  model = cd_fast.enet_coordinate_descent(\n",
      "D:\\IntelliJ\\ml-stock-sent\\.venv\\Lib\\site-packages\\sklearn\\linear_model\\_coordinate_descent.py:695: ConvergenceWarning: Objective did not converge. You might want to increase the number of iterations, check the scale of the features or consider increasing regularisation. Duality gap: 7.715e+01, tolerance: 3.880e-02\n",
      "  model = cd_fast.enet_coordinate_descent(\n",
      "D:\\IntelliJ\\ml-stock-sent\\.venv\\Lib\\site-packages\\sklearn\\linear_model\\_coordinate_descent.py:695: ConvergenceWarning: Objective did not converge. You might want to increase the number of iterations, check the scale of the features or consider increasing regularisation. Duality gap: 3.198e-01, tolerance: 3.880e-02\n",
      "  model = cd_fast.enet_coordinate_descent(\n",
      "D:\\IntelliJ\\ml-stock-sent\\.venv\\Lib\\site-packages\\sklearn\\linear_model\\_coordinate_descent.py:695: ConvergenceWarning: Objective did not converge. You might want to increase the number of iterations, check the scale of the features or consider increasing regularisation. Duality gap: 6.881e-01, tolerance: 3.880e-02\n",
      "  model = cd_fast.enet_coordinate_descent(\n",
      "D:\\IntelliJ\\ml-stock-sent\\.venv\\Lib\\site-packages\\sklearn\\linear_model\\_coordinate_descent.py:695: ConvergenceWarning: Objective did not converge. You might want to increase the number of iterations, check the scale of the features or consider increasing regularisation. Duality gap: 2.686e+01, tolerance: 3.880e-02\n",
      "  model = cd_fast.enet_coordinate_descent(\n",
      "D:\\IntelliJ\\ml-stock-sent\\.venv\\Lib\\site-packages\\sklearn\\linear_model\\_coordinate_descent.py:695: ConvergenceWarning: Objective did not converge. You might want to increase the number of iterations, check the scale of the features or consider increasing regularisation. Duality gap: 4.455e+01, tolerance: 3.880e-02\n",
      "  model = cd_fast.enet_coordinate_descent(\n",
      "D:\\IntelliJ\\ml-stock-sent\\.venv\\Lib\\site-packages\\sklearn\\linear_model\\_coordinate_descent.py:695: ConvergenceWarning: Objective did not converge. You might want to increase the number of iterations, check the scale of the features or consider increasing regularisation. Duality gap: 1.380e-01, tolerance: 3.880e-02\n",
      "  model = cd_fast.enet_coordinate_descent(\n",
      "D:\\IntelliJ\\ml-stock-sent\\.venv\\Lib\\site-packages\\sklearn\\linear_model\\_coordinate_descent.py:695: ConvergenceWarning: Objective did not converge. You might want to increase the number of iterations, check the scale of the features or consider increasing regularisation. Duality gap: 1.471e+01, tolerance: 3.880e-02\n",
      "  model = cd_fast.enet_coordinate_descent(\n",
      "D:\\IntelliJ\\ml-stock-sent\\.venv\\Lib\\site-packages\\sklearn\\linear_model\\_coordinate_descent.py:695: ConvergenceWarning: Objective did not converge. You might want to increase the number of iterations, check the scale of the features or consider increasing regularisation. Duality gap: 4.333e+01, tolerance: 3.880e-02\n",
      "  model = cd_fast.enet_coordinate_descent(\n",
      "D:\\IntelliJ\\ml-stock-sent\\.venv\\Lib\\site-packages\\sklearn\\linear_model\\_coordinate_descent.py:695: ConvergenceWarning: Objective did not converge. You might want to increase the number of iterations, check the scale of the features or consider increasing regularisation. Duality gap: 7.497e+01, tolerance: 3.880e-02\n",
      "  model = cd_fast.enet_coordinate_descent(\n",
      "D:\\IntelliJ\\ml-stock-sent\\.venv\\Lib\\site-packages\\sklearn\\linear_model\\_coordinate_descent.py:695: ConvergenceWarning: Objective did not converge. You might want to increase the number of iterations, check the scale of the features or consider increasing regularisation. Duality gap: 5.228e+00, tolerance: 3.880e-02\n",
      "  model = cd_fast.enet_coordinate_descent(\n",
      "D:\\IntelliJ\\ml-stock-sent\\.venv\\Lib\\site-packages\\sklearn\\linear_model\\_coordinate_descent.py:695: ConvergenceWarning: Objective did not converge. You might want to increase the number of iterations, check the scale of the features or consider increasing regularisation. Duality gap: 9.836e+00, tolerance: 3.880e-02\n",
      "  model = cd_fast.enet_coordinate_descent(\n",
      "D:\\IntelliJ\\ml-stock-sent\\.venv\\Lib\\site-packages\\sklearn\\linear_model\\_coordinate_descent.py:695: ConvergenceWarning: Objective did not converge. You might want to increase the number of iterations, check the scale of the features or consider increasing regularisation. Duality gap: 2.603e+01, tolerance: 3.880e-02\n",
      "  model = cd_fast.enet_coordinate_descent(\n",
      "D:\\IntelliJ\\ml-stock-sent\\.venv\\Lib\\site-packages\\sklearn\\linear_model\\_coordinate_descent.py:695: ConvergenceWarning: Objective did not converge. You might want to increase the number of iterations, check the scale of the features or consider increasing regularisation. Duality gap: 4.461e+01, tolerance: 3.880e-02\n",
      "  model = cd_fast.enet_coordinate_descent(\n",
      "D:\\IntelliJ\\ml-stock-sent\\.venv\\Lib\\site-packages\\sklearn\\linear_model\\_coordinate_descent.py:695: ConvergenceWarning: Objective did not converge. You might want to increase the number of iterations, check the scale of the features or consider increasing regularisation. Duality gap: 3.869e+01, tolerance: 3.880e-02\n",
      "  model = cd_fast.enet_coordinate_descent(\n",
      "D:\\IntelliJ\\ml-stock-sent\\.venv\\Lib\\site-packages\\sklearn\\linear_model\\_coordinate_descent.py:695: ConvergenceWarning: Objective did not converge. You might want to increase the number of iterations, check the scale of the features or consider increasing regularisation. Duality gap: 2.260e+01, tolerance: 3.880e-02\n",
      "  model = cd_fast.enet_coordinate_descent(\n",
      "D:\\IntelliJ\\ml-stock-sent\\.venv\\Lib\\site-packages\\sklearn\\linear_model\\_coordinate_descent.py:695: ConvergenceWarning: Objective did not converge. You might want to increase the number of iterations, check the scale of the features or consider increasing regularisation. Duality gap: 6.781e-01, tolerance: 3.880e-02\n",
      "  model = cd_fast.enet_coordinate_descent(\n",
      "D:\\IntelliJ\\ml-stock-sent\\.venv\\Lib\\site-packages\\sklearn\\linear_model\\_coordinate_descent.py:695: ConvergenceWarning: Objective did not converge. You might want to increase the number of iterations, check the scale of the features or consider increasing regularisation. Duality gap: 3.908e+00, tolerance: 3.880e-02\n",
      "  model = cd_fast.enet_coordinate_descent(\n",
      "D:\\IntelliJ\\ml-stock-sent\\.venv\\Lib\\site-packages\\sklearn\\linear_model\\_coordinate_descent.py:695: ConvergenceWarning: Objective did not converge. You might want to increase the number of iterations, check the scale of the features or consider increasing regularisation. Duality gap: 3.528e+01, tolerance: 3.880e-02\n",
      "  model = cd_fast.enet_coordinate_descent(\n",
      "D:\\IntelliJ\\ml-stock-sent\\.venv\\Lib\\site-packages\\sklearn\\linear_model\\_coordinate_descent.py:695: ConvergenceWarning: Objective did not converge. You might want to increase the number of iterations, check the scale of the features or consider increasing regularisation. Duality gap: 3.309e+01, tolerance: 3.880e-02\n",
      "  model = cd_fast.enet_coordinate_descent(\n",
      "D:\\IntelliJ\\ml-stock-sent\\.venv\\Lib\\site-packages\\sklearn\\linear_model\\_coordinate_descent.py:695: ConvergenceWarning: Objective did not converge. You might want to increase the number of iterations, check the scale of the features or consider increasing regularisation. Duality gap: 3.068e+01, tolerance: 3.880e-02\n",
      "  model = cd_fast.enet_coordinate_descent(\n",
      "D:\\IntelliJ\\ml-stock-sent\\.venv\\Lib\\site-packages\\sklearn\\linear_model\\_coordinate_descent.py:695: ConvergenceWarning: Objective did not converge. You might want to increase the number of iterations, check the scale of the features or consider increasing regularisation. Duality gap: 9.737e-01, tolerance: 3.880e-02\n",
      "  model = cd_fast.enet_coordinate_descent(\n",
      "D:\\IntelliJ\\ml-stock-sent\\.venv\\Lib\\site-packages\\sklearn\\linear_model\\_coordinate_descent.py:695: ConvergenceWarning: Objective did not converge. You might want to increase the number of iterations, check the scale of the features or consider increasing regularisation. Duality gap: 1.161e+01, tolerance: 3.880e-02\n",
      "  model = cd_fast.enet_coordinate_descent(\n",
      "D:\\IntelliJ\\ml-stock-sent\\.venv\\Lib\\site-packages\\sklearn\\linear_model\\_coordinate_descent.py:695: ConvergenceWarning: Objective did not converge. You might want to increase the number of iterations, check the scale of the features or consider increasing regularisation. Duality gap: 4.387e+01, tolerance: 3.880e-02\n",
      "  model = cd_fast.enet_coordinate_descent(\n",
      "D:\\IntelliJ\\ml-stock-sent\\.venv\\Lib\\site-packages\\sklearn\\linear_model\\_coordinate_descent.py:695: ConvergenceWarning: Objective did not converge. You might want to increase the number of iterations, check the scale of the features or consider increasing regularisation. Duality gap: 3.189e+01, tolerance: 3.880e-02\n",
      "  model = cd_fast.enet_coordinate_descent(\n",
      "D:\\IntelliJ\\ml-stock-sent\\.venv\\Lib\\site-packages\\sklearn\\linear_model\\_coordinate_descent.py:695: ConvergenceWarning: Objective did not converge. You might want to increase the number of iterations, check the scale of the features or consider increasing regularisation. Duality gap: 1.736e+01, tolerance: 3.880e-02\n",
      "  model = cd_fast.enet_coordinate_descent(\n",
      "D:\\IntelliJ\\ml-stock-sent\\.venv\\Lib\\site-packages\\sklearn\\linear_model\\_coordinate_descent.py:695: ConvergenceWarning: Objective did not converge. You might want to increase the number of iterations, check the scale of the features or consider increasing regularisation. Duality gap: 5.156e+01, tolerance: 7.740e-02\n",
      "  model = cd_fast.enet_coordinate_descent(\n",
      "D:\\IntelliJ\\ml-stock-sent\\.venv\\Lib\\site-packages\\sklearn\\linear_model\\_coordinate_descent.py:695: ConvergenceWarning: Objective did not converge. You might want to increase the number of iterations, check the scale of the features or consider increasing regularisation. Duality gap: 5.966e+01, tolerance: 7.740e-02\n",
      "  model = cd_fast.enet_coordinate_descent(\n",
      "D:\\IntelliJ\\ml-stock-sent\\.venv\\Lib\\site-packages\\sklearn\\linear_model\\_coordinate_descent.py:695: ConvergenceWarning: Objective did not converge. You might want to increase the number of iterations, check the scale of the features or consider increasing regularisation. Duality gap: 2.294e+01, tolerance: 7.740e-02\n",
      "  model = cd_fast.enet_coordinate_descent(\n",
      "D:\\IntelliJ\\ml-stock-sent\\.venv\\Lib\\site-packages\\sklearn\\linear_model\\_coordinate_descent.py:695: ConvergenceWarning: Objective did not converge. You might want to increase the number of iterations, check the scale of the features or consider increasing regularisation. Duality gap: 9.129e+00, tolerance: 7.740e-02\n",
      "  model = cd_fast.enet_coordinate_descent(\n",
      "D:\\IntelliJ\\ml-stock-sent\\.venv\\Lib\\site-packages\\sklearn\\linear_model\\_coordinate_descent.py:695: ConvergenceWarning: Objective did not converge. You might want to increase the number of iterations, check the scale of the features or consider increasing regularisation. Duality gap: 2.726e+01, tolerance: 7.740e-02\n",
      "  model = cd_fast.enet_coordinate_descent(\n",
      "D:\\IntelliJ\\ml-stock-sent\\.venv\\Lib\\site-packages\\sklearn\\linear_model\\_coordinate_descent.py:695: ConvergenceWarning: Objective did not converge. You might want to increase the number of iterations, check the scale of the features or consider increasing regularisation. Duality gap: 1.256e+02, tolerance: 7.740e-02\n",
      "  model = cd_fast.enet_coordinate_descent(\n",
      "D:\\IntelliJ\\ml-stock-sent\\.venv\\Lib\\site-packages\\sklearn\\linear_model\\_coordinate_descent.py:695: ConvergenceWarning: Objective did not converge. You might want to increase the number of iterations, check the scale of the features or consider increasing regularisation. Duality gap: 5.374e+00, tolerance: 7.740e-02\n",
      "  model = cd_fast.enet_coordinate_descent(\n",
      "D:\\IntelliJ\\ml-stock-sent\\.venv\\Lib\\site-packages\\sklearn\\linear_model\\_coordinate_descent.py:695: ConvergenceWarning: Objective did not converge. You might want to increase the number of iterations, check the scale of the features or consider increasing regularisation. Duality gap: 2.894e+01, tolerance: 7.740e-02\n",
      "  model = cd_fast.enet_coordinate_descent(\n",
      "D:\\IntelliJ\\ml-stock-sent\\.venv\\Lib\\site-packages\\sklearn\\linear_model\\_coordinate_descent.py:695: ConvergenceWarning: Objective did not converge. You might want to increase the number of iterations, check the scale of the features or consider increasing regularisation. Duality gap: 3.886e+01, tolerance: 7.740e-02\n",
      "  model = cd_fast.enet_coordinate_descent(\n",
      "D:\\IntelliJ\\ml-stock-sent\\.venv\\Lib\\site-packages\\sklearn\\linear_model\\_coordinate_descent.py:695: ConvergenceWarning: Objective did not converge. You might want to increase the number of iterations, check the scale of the features or consider increasing regularisation. Duality gap: 6.317e+01, tolerance: 7.740e-02\n",
      "  model = cd_fast.enet_coordinate_descent(\n",
      "D:\\IntelliJ\\ml-stock-sent\\.venv\\Lib\\site-packages\\sklearn\\linear_model\\_coordinate_descent.py:695: ConvergenceWarning: Objective did not converge. You might want to increase the number of iterations, check the scale of the features or consider increasing regularisation. Duality gap: 4.991e+00, tolerance: 7.740e-02\n",
      "  model = cd_fast.enet_coordinate_descent(\n",
      "D:\\IntelliJ\\ml-stock-sent\\.venv\\Lib\\site-packages\\sklearn\\linear_model\\_coordinate_descent.py:695: ConvergenceWarning: Objective did not converge. You might want to increase the number of iterations, check the scale of the features or consider increasing regularisation. Duality gap: 4.504e+01, tolerance: 7.740e-02\n",
      "  model = cd_fast.enet_coordinate_descent(\n",
      "D:\\IntelliJ\\ml-stock-sent\\.venv\\Lib\\site-packages\\sklearn\\linear_model\\_coordinate_descent.py:695: ConvergenceWarning: Objective did not converge. You might want to increase the number of iterations, check the scale of the features or consider increasing regularisation. Duality gap: 3.217e+01, tolerance: 7.740e-02\n",
      "  model = cd_fast.enet_coordinate_descent(\n",
      "D:\\IntelliJ\\ml-stock-sent\\.venv\\Lib\\site-packages\\sklearn\\linear_model\\_coordinate_descent.py:695: ConvergenceWarning: Objective did not converge. You might want to increase the number of iterations, check the scale of the features or consider increasing regularisation. Duality gap: 1.236e+02, tolerance: 7.740e-02\n",
      "  model = cd_fast.enet_coordinate_descent(\n",
      "D:\\IntelliJ\\ml-stock-sent\\.venv\\Lib\\site-packages\\sklearn\\linear_model\\_coordinate_descent.py:695: ConvergenceWarning: Objective did not converge. You might want to increase the number of iterations, check the scale of the features or consider increasing regularisation. Duality gap: 4.678e+01, tolerance: 7.740e-02\n",
      "  model = cd_fast.enet_coordinate_descent(\n",
      "D:\\IntelliJ\\ml-stock-sent\\.venv\\Lib\\site-packages\\sklearn\\linear_model\\_coordinate_descent.py:695: ConvergenceWarning: Objective did not converge. You might want to increase the number of iterations, check the scale of the features or consider increasing regularisation. Duality gap: 9.104e+01, tolerance: 7.740e-02\n",
      "  model = cd_fast.enet_coordinate_descent(\n",
      "D:\\IntelliJ\\ml-stock-sent\\.venv\\Lib\\site-packages\\sklearn\\linear_model\\_coordinate_descent.py:695: ConvergenceWarning: Objective did not converge. You might want to increase the number of iterations, check the scale of the features or consider increasing regularisation. Duality gap: 1.622e+01, tolerance: 7.740e-02\n",
      "  model = cd_fast.enet_coordinate_descent(\n",
      "D:\\IntelliJ\\ml-stock-sent\\.venv\\Lib\\site-packages\\sklearn\\linear_model\\_coordinate_descent.py:695: ConvergenceWarning: Objective did not converge. You might want to increase the number of iterations, check the scale of the features or consider increasing regularisation. Duality gap: 1.099e+02, tolerance: 7.740e-02\n",
      "  model = cd_fast.enet_coordinate_descent(\n",
      "D:\\IntelliJ\\ml-stock-sent\\.venv\\Lib\\site-packages\\sklearn\\linear_model\\_coordinate_descent.py:695: ConvergenceWarning: Objective did not converge. You might want to increase the number of iterations, check the scale of the features or consider increasing regularisation. Duality gap: 1.254e+01, tolerance: 7.740e-02\n",
      "  model = cd_fast.enet_coordinate_descent(\n",
      "D:\\IntelliJ\\ml-stock-sent\\.venv\\Lib\\site-packages\\sklearn\\linear_model\\_coordinate_descent.py:695: ConvergenceWarning: Objective did not converge. You might want to increase the number of iterations, check the scale of the features or consider increasing regularisation. Duality gap: 3.233e+00, tolerance: 7.740e-02\n",
      "  model = cd_fast.enet_coordinate_descent(\n",
      "D:\\IntelliJ\\ml-stock-sent\\.venv\\Lib\\site-packages\\sklearn\\linear_model\\_coordinate_descent.py:695: ConvergenceWarning: Objective did not converge. You might want to increase the number of iterations, check the scale of the features or consider increasing regularisation. Duality gap: 2.270e+00, tolerance: 7.740e-02\n",
      "  model = cd_fast.enet_coordinate_descent(\n",
      "D:\\IntelliJ\\ml-stock-sent\\.venv\\Lib\\site-packages\\sklearn\\linear_model\\_coordinate_descent.py:695: ConvergenceWarning: Objective did not converge. You might want to increase the number of iterations, check the scale of the features or consider increasing regularisation. Duality gap: 2.046e-01, tolerance: 7.740e-02\n",
      "  model = cd_fast.enet_coordinate_descent(\n",
      "D:\\IntelliJ\\ml-stock-sent\\.venv\\Lib\\site-packages\\sklearn\\linear_model\\_coordinate_descent.py:695: ConvergenceWarning: Objective did not converge. You might want to increase the number of iterations, check the scale of the features or consider increasing regularisation. Duality gap: 2.363e+01, tolerance: 7.740e-02\n",
      "  model = cd_fast.enet_coordinate_descent(\n",
      "D:\\IntelliJ\\ml-stock-sent\\.venv\\Lib\\site-packages\\sklearn\\linear_model\\_coordinate_descent.py:695: ConvergenceWarning: Objective did not converge. You might want to increase the number of iterations, check the scale of the features or consider increasing regularisation. Duality gap: 2.986e+01, tolerance: 7.740e-02\n",
      "  model = cd_fast.enet_coordinate_descent(\n",
      "D:\\IntelliJ\\ml-stock-sent\\.venv\\Lib\\site-packages\\sklearn\\linear_model\\_coordinate_descent.py:695: ConvergenceWarning: Objective did not converge. You might want to increase the number of iterations, check the scale of the features or consider increasing regularisation. Duality gap: 3.411e+01, tolerance: 7.740e-02\n",
      "  model = cd_fast.enet_coordinate_descent(\n",
      "D:\\IntelliJ\\ml-stock-sent\\.venv\\Lib\\site-packages\\sklearn\\linear_model\\_coordinate_descent.py:695: ConvergenceWarning: Objective did not converge. You might want to increase the number of iterations, check the scale of the features or consider increasing regularisation. Duality gap: 8.022e+01, tolerance: 7.740e-02\n",
      "  model = cd_fast.enet_coordinate_descent(\n",
      "D:\\IntelliJ\\ml-stock-sent\\.venv\\Lib\\site-packages\\sklearn\\linear_model\\_coordinate_descent.py:695: ConvergenceWarning: Objective did not converge. You might want to increase the number of iterations, check the scale of the features or consider increasing regularisation. Duality gap: 1.028e+02, tolerance: 7.740e-02\n",
      "  model = cd_fast.enet_coordinate_descent(\n",
      "D:\\IntelliJ\\ml-stock-sent\\.venv\\Lib\\site-packages\\sklearn\\linear_model\\_coordinate_descent.py:695: ConvergenceWarning: Objective did not converge. You might want to increase the number of iterations, check the scale of the features or consider increasing regularisation. Duality gap: 5.892e+01, tolerance: 7.740e-02\n",
      "  model = cd_fast.enet_coordinate_descent(\n",
      "D:\\IntelliJ\\ml-stock-sent\\.venv\\Lib\\site-packages\\sklearn\\linear_model\\_coordinate_descent.py:695: ConvergenceWarning: Objective did not converge. You might want to increase the number of iterations, check the scale of the features or consider increasing regularisation. Duality gap: 9.859e-01, tolerance: 7.740e-02\n",
      "  model = cd_fast.enet_coordinate_descent(\n",
      "D:\\IntelliJ\\ml-stock-sent\\.venv\\Lib\\site-packages\\sklearn\\linear_model\\_coordinate_descent.py:695: ConvergenceWarning: Objective did not converge. You might want to increase the number of iterations, check the scale of the features or consider increasing regularisation. Duality gap: 5.893e+01, tolerance: 1.160e-01\n",
      "  model = cd_fast.enet_coordinate_descent(\n",
      "D:\\IntelliJ\\ml-stock-sent\\.venv\\Lib\\site-packages\\sklearn\\linear_model\\_coordinate_descent.py:695: ConvergenceWarning: Objective did not converge. You might want to increase the number of iterations, check the scale of the features or consider increasing regularisation. Duality gap: 6.218e+01, tolerance: 1.160e-01\n",
      "  model = cd_fast.enet_coordinate_descent(\n",
      "D:\\IntelliJ\\ml-stock-sent\\.venv\\Lib\\site-packages\\sklearn\\linear_model\\_coordinate_descent.py:695: ConvergenceWarning: Objective did not converge. You might want to increase the number of iterations, check the scale of the features or consider increasing regularisation. Duality gap: 4.319e+01, tolerance: 1.160e-01\n",
      "  model = cd_fast.enet_coordinate_descent(\n",
      "D:\\IntelliJ\\ml-stock-sent\\.venv\\Lib\\site-packages\\sklearn\\linear_model\\_coordinate_descent.py:695: ConvergenceWarning: Objective did not converge. You might want to increase the number of iterations, check the scale of the features or consider increasing regularisation. Duality gap: 3.675e+00, tolerance: 1.160e-01\n",
      "  model = cd_fast.enet_coordinate_descent(\n",
      "D:\\IntelliJ\\ml-stock-sent\\.venv\\Lib\\site-packages\\sklearn\\linear_model\\_coordinate_descent.py:695: ConvergenceWarning: Objective did not converge. You might want to increase the number of iterations, check the scale of the features or consider increasing regularisation. Duality gap: 1.593e+01, tolerance: 1.160e-01\n",
      "  model = cd_fast.enet_coordinate_descent(\n",
      "D:\\IntelliJ\\ml-stock-sent\\.venv\\Lib\\site-packages\\sklearn\\linear_model\\_coordinate_descent.py:695: ConvergenceWarning: Objective did not converge. You might want to increase the number of iterations, check the scale of the features or consider increasing regularisation. Duality gap: 1.835e+02, tolerance: 1.160e-01\n",
      "  model = cd_fast.enet_coordinate_descent(\n",
      "D:\\IntelliJ\\ml-stock-sent\\.venv\\Lib\\site-packages\\sklearn\\linear_model\\_coordinate_descent.py:695: ConvergenceWarning: Objective did not converge. You might want to increase the number of iterations, check the scale of the features or consider increasing regularisation. Duality gap: 3.102e+01, tolerance: 1.160e-01\n",
      "  model = cd_fast.enet_coordinate_descent(\n",
      "D:\\IntelliJ\\ml-stock-sent\\.venv\\Lib\\site-packages\\sklearn\\linear_model\\_coordinate_descent.py:695: ConvergenceWarning: Objective did not converge. You might want to increase the number of iterations, check the scale of the features or consider increasing regularisation. Duality gap: 7.359e+01, tolerance: 1.160e-01\n",
      "  model = cd_fast.enet_coordinate_descent(\n",
      "D:\\IntelliJ\\ml-stock-sent\\.venv\\Lib\\site-packages\\sklearn\\linear_model\\_coordinate_descent.py:695: ConvergenceWarning: Objective did not converge. You might want to increase the number of iterations, check the scale of the features or consider increasing regularisation. Duality gap: 6.362e+01, tolerance: 1.160e-01\n",
      "  model = cd_fast.enet_coordinate_descent(\n",
      "D:\\IntelliJ\\ml-stock-sent\\.venv\\Lib\\site-packages\\sklearn\\linear_model\\_coordinate_descent.py:695: ConvergenceWarning: Objective did not converge. You might want to increase the number of iterations, check the scale of the features or consider increasing regularisation. Duality gap: 1.111e+02, tolerance: 1.160e-01\n",
      "  model = cd_fast.enet_coordinate_descent(\n",
      "D:\\IntelliJ\\ml-stock-sent\\.venv\\Lib\\site-packages\\sklearn\\linear_model\\_coordinate_descent.py:695: ConvergenceWarning: Objective did not converge. You might want to increase the number of iterations, check the scale of the features or consider increasing regularisation. Duality gap: 5.745e+00, tolerance: 1.160e-01\n",
      "  model = cd_fast.enet_coordinate_descent(\n",
      "D:\\IntelliJ\\ml-stock-sent\\.venv\\Lib\\site-packages\\sklearn\\linear_model\\_coordinate_descent.py:695: ConvergenceWarning: Objective did not converge. You might want to increase the number of iterations, check the scale of the features or consider increasing regularisation. Duality gap: 7.305e+01, tolerance: 1.160e-01\n",
      "  model = cd_fast.enet_coordinate_descent(\n",
      "D:\\IntelliJ\\ml-stock-sent\\.venv\\Lib\\site-packages\\sklearn\\linear_model\\_coordinate_descent.py:695: ConvergenceWarning: Objective did not converge. You might want to increase the number of iterations, check the scale of the features or consider increasing regularisation. Duality gap: 5.047e+01, tolerance: 1.160e-01\n",
      "  model = cd_fast.enet_coordinate_descent(\n",
      "D:\\IntelliJ\\ml-stock-sent\\.venv\\Lib\\site-packages\\sklearn\\linear_model\\_coordinate_descent.py:695: ConvergenceWarning: Objective did not converge. You might want to increase the number of iterations, check the scale of the features or consider increasing regularisation. Duality gap: 1.843e+02, tolerance: 1.160e-01\n",
      "  model = cd_fast.enet_coordinate_descent(\n",
      "D:\\IntelliJ\\ml-stock-sent\\.venv\\Lib\\site-packages\\sklearn\\linear_model\\_coordinate_descent.py:695: ConvergenceWarning: Objective did not converge. You might want to increase the number of iterations, check the scale of the features or consider increasing regularisation. Duality gap: 7.716e+01, tolerance: 1.160e-01\n",
      "  model = cd_fast.enet_coordinate_descent(\n",
      "D:\\IntelliJ\\ml-stock-sent\\.venv\\Lib\\site-packages\\sklearn\\linear_model\\_coordinate_descent.py:695: ConvergenceWarning: Objective did not converge. You might want to increase the number of iterations, check the scale of the features or consider increasing regularisation. Duality gap: 1.522e+02, tolerance: 1.160e-01\n",
      "  model = cd_fast.enet_coordinate_descent(\n",
      "D:\\IntelliJ\\ml-stock-sent\\.venv\\Lib\\site-packages\\sklearn\\linear_model\\_coordinate_descent.py:695: ConvergenceWarning: Objective did not converge. You might want to increase the number of iterations, check the scale of the features or consider increasing regularisation. Duality gap: 8.905e+00, tolerance: 1.160e-01\n",
      "  model = cd_fast.enet_coordinate_descent(\n",
      "D:\\IntelliJ\\ml-stock-sent\\.venv\\Lib\\site-packages\\sklearn\\linear_model\\_coordinate_descent.py:695: ConvergenceWarning: Objective did not converge. You might want to increase the number of iterations, check the scale of the features or consider increasing regularisation. Duality gap: 1.621e+02, tolerance: 1.160e-01\n",
      "  model = cd_fast.enet_coordinate_descent(\n",
      "D:\\IntelliJ\\ml-stock-sent\\.venv\\Lib\\site-packages\\sklearn\\linear_model\\_coordinate_descent.py:695: ConvergenceWarning: Objective did not converge. You might want to increase the number of iterations, check the scale of the features or consider increasing regularisation. Duality gap: 3.870e+00, tolerance: 1.160e-01\n",
      "  model = cd_fast.enet_coordinate_descent(\n",
      "D:\\IntelliJ\\ml-stock-sent\\.venv\\Lib\\site-packages\\sklearn\\linear_model\\_coordinate_descent.py:695: ConvergenceWarning: Objective did not converge. You might want to increase the number of iterations, check the scale of the features or consider increasing regularisation. Duality gap: 3.426e+00, tolerance: 1.160e-01\n",
      "  model = cd_fast.enet_coordinate_descent(\n",
      "D:\\IntelliJ\\ml-stock-sent\\.venv\\Lib\\site-packages\\sklearn\\linear_model\\_coordinate_descent.py:695: ConvergenceWarning: Objective did not converge. You might want to increase the number of iterations, check the scale of the features or consider increasing regularisation. Duality gap: 5.885e+01, tolerance: 1.160e-01\n",
      "  model = cd_fast.enet_coordinate_descent(\n",
      "D:\\IntelliJ\\ml-stock-sent\\.venv\\Lib\\site-packages\\sklearn\\linear_model\\_coordinate_descent.py:695: ConvergenceWarning: Objective did not converge. You might want to increase the number of iterations, check the scale of the features or consider increasing regularisation. Duality gap: 4.237e+01, tolerance: 1.160e-01\n",
      "  model = cd_fast.enet_coordinate_descent(\n",
      "D:\\IntelliJ\\ml-stock-sent\\.venv\\Lib\\site-packages\\sklearn\\linear_model\\_coordinate_descent.py:695: ConvergenceWarning: Objective did not converge. You might want to increase the number of iterations, check the scale of the features or consider increasing regularisation. Duality gap: 2.255e+01, tolerance: 1.160e-01\n",
      "  model = cd_fast.enet_coordinate_descent(\n",
      "D:\\IntelliJ\\ml-stock-sent\\.venv\\Lib\\site-packages\\sklearn\\linear_model\\_coordinate_descent.py:695: ConvergenceWarning: Objective did not converge. You might want to increase the number of iterations, check the scale of the features or consider increasing regularisation. Duality gap: 1.146e+02, tolerance: 1.160e-01\n",
      "  model = cd_fast.enet_coordinate_descent(\n",
      "D:\\IntelliJ\\ml-stock-sent\\.venv\\Lib\\site-packages\\sklearn\\linear_model\\_coordinate_descent.py:695: ConvergenceWarning: Objective did not converge. You might want to increase the number of iterations, check the scale of the features or consider increasing regularisation. Duality gap: 1.438e+02, tolerance: 1.160e-01\n",
      "  model = cd_fast.enet_coordinate_descent(\n",
      "D:\\IntelliJ\\ml-stock-sent\\.venv\\Lib\\site-packages\\sklearn\\linear_model\\_coordinate_descent.py:695: ConvergenceWarning: Objective did not converge. You might want to increase the number of iterations, check the scale of the features or consider increasing regularisation. Duality gap: 1.010e+02, tolerance: 1.160e-01\n",
      "  model = cd_fast.enet_coordinate_descent(\n",
      "D:\\IntelliJ\\ml-stock-sent\\.venv\\Lib\\site-packages\\sklearn\\linear_model\\_coordinate_descent.py:695: ConvergenceWarning: Objective did not converge. You might want to increase the number of iterations, check the scale of the features or consider increasing regularisation. Duality gap: 5.327e+00, tolerance: 1.160e-01\n",
      "  model = cd_fast.enet_coordinate_descent(\n",
      "[I 2025-08-20 16:30:02,584] Trial 5 finished with value: 0.009526946767065895 and parameters: {'alpha': 0.000684792009557478, 'l1_ratio': 0.13949386065204183, 'selection': 'random'}. Best is trial 3 with value: 0.009395742036985018.\n",
      "D:\\IntelliJ\\ml-stock-sent\\.venv\\Lib\\site-packages\\sklearn\\linear_model\\_coordinate_descent.py:695: ConvergenceWarning: Objective did not converge. You might want to increase the number of iterations, check the scale of the features or consider increasing regularisation. Duality gap: 6.711e+01, tolerance: 3.880e-02\n",
      "  model = cd_fast.enet_coordinate_descent(\n",
      "D:\\IntelliJ\\ml-stock-sent\\.venv\\Lib\\site-packages\\sklearn\\linear_model\\_coordinate_descent.py:695: ConvergenceWarning: Objective did not converge. You might want to increase the number of iterations, check the scale of the features or consider increasing regularisation. Duality gap: 5.355e+01, tolerance: 3.880e-02\n",
      "  model = cd_fast.enet_coordinate_descent(\n",
      "D:\\IntelliJ\\ml-stock-sent\\.venv\\Lib\\site-packages\\sklearn\\linear_model\\_coordinate_descent.py:695: ConvergenceWarning: Objective did not converge. You might want to increase the number of iterations, check the scale of the features or consider increasing regularisation. Duality gap: 8.624e+00, tolerance: 3.880e-02\n",
      "  model = cd_fast.enet_coordinate_descent(\n",
      "D:\\IntelliJ\\ml-stock-sent\\.venv\\Lib\\site-packages\\sklearn\\linear_model\\_coordinate_descent.py:695: ConvergenceWarning: Objective did not converge. You might want to increase the number of iterations, check the scale of the features or consider increasing regularisation. Duality gap: 1.576e+00, tolerance: 3.880e-02\n",
      "  model = cd_fast.enet_coordinate_descent(\n",
      "D:\\IntelliJ\\ml-stock-sent\\.venv\\Lib\\site-packages\\sklearn\\linear_model\\_coordinate_descent.py:695: ConvergenceWarning: Objective did not converge. You might want to increase the number of iterations, check the scale of the features or consider increasing regularisation. Duality gap: 2.726e+01, tolerance: 3.880e-02\n",
      "  model = cd_fast.enet_coordinate_descent(\n",
      "D:\\IntelliJ\\ml-stock-sent\\.venv\\Lib\\site-packages\\sklearn\\linear_model\\_coordinate_descent.py:695: ConvergenceWarning: Objective did not converge. You might want to increase the number of iterations, check the scale of the features or consider increasing regularisation. Duality gap: 9.838e+01, tolerance: 3.880e-02\n",
      "  model = cd_fast.enet_coordinate_descent(\n",
      "D:\\IntelliJ\\ml-stock-sent\\.venv\\Lib\\site-packages\\sklearn\\linear_model\\_coordinate_descent.py:695: ConvergenceWarning: Objective did not converge. You might want to increase the number of iterations, check the scale of the features or consider increasing regularisation. Duality gap: 1.122e+00, tolerance: 3.880e-02\n",
      "  model = cd_fast.enet_coordinate_descent(\n",
      "D:\\IntelliJ\\ml-stock-sent\\.venv\\Lib\\site-packages\\sklearn\\linear_model\\_coordinate_descent.py:695: ConvergenceWarning: Objective did not converge. You might want to increase the number of iterations, check the scale of the features or consider increasing regularisation. Duality gap: 3.841e+01, tolerance: 3.880e-02\n",
      "  model = cd_fast.enet_coordinate_descent(\n",
      "D:\\IntelliJ\\ml-stock-sent\\.venv\\Lib\\site-packages\\sklearn\\linear_model\\_coordinate_descent.py:695: ConvergenceWarning: Objective did not converge. You might want to increase the number of iterations, check the scale of the features or consider increasing regularisation. Duality gap: 6.294e+01, tolerance: 3.880e-02\n",
      "  model = cd_fast.enet_coordinate_descent(\n",
      "D:\\IntelliJ\\ml-stock-sent\\.venv\\Lib\\site-packages\\sklearn\\linear_model\\_coordinate_descent.py:695: ConvergenceWarning: Objective did not converge. You might want to increase the number of iterations, check the scale of the features or consider increasing regularisation. Duality gap: 5.949e-01, tolerance: 3.880e-02\n",
      "  model = cd_fast.enet_coordinate_descent(\n",
      "D:\\IntelliJ\\ml-stock-sent\\.venv\\Lib\\site-packages\\sklearn\\linear_model\\_coordinate_descent.py:695: ConvergenceWarning: Objective did not converge. You might want to increase the number of iterations, check the scale of the features or consider increasing regularisation. Duality gap: 2.096e+01, tolerance: 3.880e-02\n",
      "  model = cd_fast.enet_coordinate_descent(\n",
      "D:\\IntelliJ\\ml-stock-sent\\.venv\\Lib\\site-packages\\sklearn\\linear_model\\_coordinate_descent.py:695: ConvergenceWarning: Objective did not converge. You might want to increase the number of iterations, check the scale of the features or consider increasing regularisation. Duality gap: 6.118e+01, tolerance: 3.880e-02\n",
      "  model = cd_fast.enet_coordinate_descent(\n",
      "D:\\IntelliJ\\ml-stock-sent\\.venv\\Lib\\site-packages\\sklearn\\linear_model\\_coordinate_descent.py:695: ConvergenceWarning: Objective did not converge. You might want to increase the number of iterations, check the scale of the features or consider increasing regularisation. Duality gap: 9.560e+01, tolerance: 3.880e-02\n",
      "  model = cd_fast.enet_coordinate_descent(\n",
      "D:\\IntelliJ\\ml-stock-sent\\.venv\\Lib\\site-packages\\sklearn\\linear_model\\_coordinate_descent.py:695: ConvergenceWarning: Objective did not converge. You might want to increase the number of iterations, check the scale of the features or consider increasing regularisation. Duality gap: 1.941e+01, tolerance: 3.880e-02\n",
      "  model = cd_fast.enet_coordinate_descent(\n",
      "D:\\IntelliJ\\ml-stock-sent\\.venv\\Lib\\site-packages\\sklearn\\linear_model\\_coordinate_descent.py:695: ConvergenceWarning: Objective did not converge. You might want to increase the number of iterations, check the scale of the features or consider increasing regularisation. Duality gap: 4.108e+01, tolerance: 3.880e-02\n",
      "  model = cd_fast.enet_coordinate_descent(\n",
      "D:\\IntelliJ\\ml-stock-sent\\.venv\\Lib\\site-packages\\sklearn\\linear_model\\_coordinate_descent.py:695: ConvergenceWarning: Objective did not converge. You might want to increase the number of iterations, check the scale of the features or consider increasing regularisation. Duality gap: 6.284e+01, tolerance: 3.880e-02\n",
      "  model = cd_fast.enet_coordinate_descent(\n",
      "D:\\IntelliJ\\ml-stock-sent\\.venv\\Lib\\site-packages\\sklearn\\linear_model\\_coordinate_descent.py:695: ConvergenceWarning: Objective did not converge. You might want to increase the number of iterations, check the scale of the features or consider increasing regularisation. Duality gap: 5.599e+01, tolerance: 3.880e-02\n",
      "  model = cd_fast.enet_coordinate_descent(\n",
      "D:\\IntelliJ\\ml-stock-sent\\.venv\\Lib\\site-packages\\sklearn\\linear_model\\_coordinate_descent.py:695: ConvergenceWarning: Objective did not converge. You might want to increase the number of iterations, check the scale of the features or consider increasing regularisation. Duality gap: 3.592e+01, tolerance: 3.880e-02\n",
      "  model = cd_fast.enet_coordinate_descent(\n",
      "D:\\IntelliJ\\ml-stock-sent\\.venv\\Lib\\site-packages\\sklearn\\linear_model\\_coordinate_descent.py:695: ConvergenceWarning: Objective did not converge. You might want to increase the number of iterations, check the scale of the features or consider increasing regularisation. Duality gap: 1.068e+00, tolerance: 3.880e-02\n",
      "  model = cd_fast.enet_coordinate_descent(\n",
      "D:\\IntelliJ\\ml-stock-sent\\.venv\\Lib\\site-packages\\sklearn\\linear_model\\_coordinate_descent.py:695: ConvergenceWarning: Objective did not converge. You might want to increase the number of iterations, check the scale of the features or consider increasing regularisation. Duality gap: 4.359e+00, tolerance: 3.880e-02\n",
      "  model = cd_fast.enet_coordinate_descent(\n",
      "D:\\IntelliJ\\ml-stock-sent\\.venv\\Lib\\site-packages\\sklearn\\linear_model\\_coordinate_descent.py:695: ConvergenceWarning: Objective did not converge. You might want to increase the number of iterations, check the scale of the features or consider increasing regularisation. Duality gap: 5.024e+01, tolerance: 3.880e-02\n",
      "  model = cd_fast.enet_coordinate_descent(\n",
      "D:\\IntelliJ\\ml-stock-sent\\.venv\\Lib\\site-packages\\sklearn\\linear_model\\_coordinate_descent.py:695: ConvergenceWarning: Objective did not converge. You might want to increase the number of iterations, check the scale of the features or consider increasing regularisation. Duality gap: 4.970e+01, tolerance: 3.880e-02\n",
      "  model = cd_fast.enet_coordinate_descent(\n",
      "D:\\IntelliJ\\ml-stock-sent\\.venv\\Lib\\site-packages\\sklearn\\linear_model\\_coordinate_descent.py:695: ConvergenceWarning: Objective did not converge. You might want to increase the number of iterations, check the scale of the features or consider increasing regularisation. Duality gap: 4.635e+01, tolerance: 3.880e-02\n",
      "  model = cd_fast.enet_coordinate_descent(\n",
      "D:\\IntelliJ\\ml-stock-sent\\.venv\\Lib\\site-packages\\sklearn\\linear_model\\_coordinate_descent.py:695: ConvergenceWarning: Objective did not converge. You might want to increase the number of iterations, check the scale of the features or consider increasing regularisation. Duality gap: 9.083e-01, tolerance: 3.880e-02\n",
      "  model = cd_fast.enet_coordinate_descent(\n",
      "D:\\IntelliJ\\ml-stock-sent\\.venv\\Lib\\site-packages\\sklearn\\linear_model\\_coordinate_descent.py:695: ConvergenceWarning: Objective did not converge. You might want to increase the number of iterations, check the scale of the features or consider increasing regularisation. Duality gap: 2.271e+01, tolerance: 3.880e-02\n",
      "  model = cd_fast.enet_coordinate_descent(\n",
      "D:\\IntelliJ\\ml-stock-sent\\.venv\\Lib\\site-packages\\sklearn\\linear_model\\_coordinate_descent.py:695: ConvergenceWarning: Objective did not converge. You might want to increase the number of iterations, check the scale of the features or consider increasing regularisation. Duality gap: 5.733e+01, tolerance: 3.880e-02\n",
      "  model = cd_fast.enet_coordinate_descent(\n",
      "D:\\IntelliJ\\ml-stock-sent\\.venv\\Lib\\site-packages\\sklearn\\linear_model\\_coordinate_descent.py:695: ConvergenceWarning: Objective did not converge. You might want to increase the number of iterations, check the scale of the features or consider increasing regularisation. Duality gap: 4.853e+01, tolerance: 3.880e-02\n",
      "  model = cd_fast.enet_coordinate_descent(\n",
      "D:\\IntelliJ\\ml-stock-sent\\.venv\\Lib\\site-packages\\sklearn\\linear_model\\_coordinate_descent.py:695: ConvergenceWarning: Objective did not converge. You might want to increase the number of iterations, check the scale of the features or consider increasing regularisation. Duality gap: 2.769e+01, tolerance: 3.880e-02\n",
      "  model = cd_fast.enet_coordinate_descent(\n",
      "D:\\IntelliJ\\ml-stock-sent\\.venv\\Lib\\site-packages\\sklearn\\linear_model\\_coordinate_descent.py:695: ConvergenceWarning: Objective did not converge. You might want to increase the number of iterations, check the scale of the features or consider increasing regularisation. Duality gap: 7.799e+01, tolerance: 7.740e-02\n",
      "  model = cd_fast.enet_coordinate_descent(\n",
      "D:\\IntelliJ\\ml-stock-sent\\.venv\\Lib\\site-packages\\sklearn\\linear_model\\_coordinate_descent.py:695: ConvergenceWarning: Objective did not converge. You might want to increase the number of iterations, check the scale of the features or consider increasing regularisation. Duality gap: 8.922e+01, tolerance: 7.740e-02\n",
      "  model = cd_fast.enet_coordinate_descent(\n",
      "D:\\IntelliJ\\ml-stock-sent\\.venv\\Lib\\site-packages\\sklearn\\linear_model\\_coordinate_descent.py:695: ConvergenceWarning: Objective did not converge. You might want to increase the number of iterations, check the scale of the features or consider increasing regularisation. Duality gap: 3.433e+01, tolerance: 7.740e-02\n",
      "  model = cd_fast.enet_coordinate_descent(\n",
      "D:\\IntelliJ\\ml-stock-sent\\.venv\\Lib\\site-packages\\sklearn\\linear_model\\_coordinate_descent.py:695: ConvergenceWarning: Objective did not converge. You might want to increase the number of iterations, check the scale of the features or consider increasing regularisation. Duality gap: 1.264e+01, tolerance: 7.740e-02\n",
      "  model = cd_fast.enet_coordinate_descent(\n",
      "D:\\IntelliJ\\ml-stock-sent\\.venv\\Lib\\site-packages\\sklearn\\linear_model\\_coordinate_descent.py:695: ConvergenceWarning: Objective did not converge. You might want to increase the number of iterations, check the scale of the features or consider increasing regularisation. Duality gap: 1.549e+00, tolerance: 7.740e-02\n",
      "  model = cd_fast.enet_coordinate_descent(\n",
      "D:\\IntelliJ\\ml-stock-sent\\.venv\\Lib\\site-packages\\sklearn\\linear_model\\_coordinate_descent.py:695: ConvergenceWarning: Objective did not converge. You might want to increase the number of iterations, check the scale of the features or consider increasing regularisation. Duality gap: 1.655e+02, tolerance: 7.740e-02\n",
      "  model = cd_fast.enet_coordinate_descent(\n",
      "D:\\IntelliJ\\ml-stock-sent\\.venv\\Lib\\site-packages\\sklearn\\linear_model\\_coordinate_descent.py:695: ConvergenceWarning: Objective did not converge. You might want to increase the number of iterations, check the scale of the features or consider increasing regularisation. Duality gap: 7.277e+00, tolerance: 7.740e-02\n",
      "  model = cd_fast.enet_coordinate_descent(\n",
      "D:\\IntelliJ\\ml-stock-sent\\.venv\\Lib\\site-packages\\sklearn\\linear_model\\_coordinate_descent.py:695: ConvergenceWarning: Objective did not converge. You might want to increase the number of iterations, check the scale of the features or consider increasing regularisation. Duality gap: 4.726e+01, tolerance: 7.740e-02\n",
      "  model = cd_fast.enet_coordinate_descent(\n",
      "D:\\IntelliJ\\ml-stock-sent\\.venv\\Lib\\site-packages\\sklearn\\linear_model\\_coordinate_descent.py:695: ConvergenceWarning: Objective did not converge. You might want to increase the number of iterations, check the scale of the features or consider increasing regularisation. Duality gap: 5.252e+01, tolerance: 7.740e-02\n",
      "  model = cd_fast.enet_coordinate_descent(\n",
      "D:\\IntelliJ\\ml-stock-sent\\.venv\\Lib\\site-packages\\sklearn\\linear_model\\_coordinate_descent.py:695: ConvergenceWarning: Objective did not converge. You might want to increase the number of iterations, check the scale of the features or consider increasing regularisation. Duality gap: 9.382e+01, tolerance: 7.740e-02\n",
      "  model = cd_fast.enet_coordinate_descent(\n",
      "D:\\IntelliJ\\ml-stock-sent\\.venv\\Lib\\site-packages\\sklearn\\linear_model\\_coordinate_descent.py:695: ConvergenceWarning: Objective did not converge. You might want to increase the number of iterations, check the scale of the features or consider increasing regularisation. Duality gap: 5.013e+00, tolerance: 7.740e-02\n",
      "  model = cd_fast.enet_coordinate_descent(\n",
      "D:\\IntelliJ\\ml-stock-sent\\.venv\\Lib\\site-packages\\sklearn\\linear_model\\_coordinate_descent.py:695: ConvergenceWarning: Objective did not converge. You might want to increase the number of iterations, check the scale of the features or consider increasing regularisation. Duality gap: 6.986e+01, tolerance: 7.740e-02\n",
      "  model = cd_fast.enet_coordinate_descent(\n",
      "D:\\IntelliJ\\ml-stock-sent\\.venv\\Lib\\site-packages\\sklearn\\linear_model\\_coordinate_descent.py:695: ConvergenceWarning: Objective did not converge. You might want to increase the number of iterations, check the scale of the features or consider increasing regularisation. Duality gap: 5.781e+01, tolerance: 7.740e-02\n",
      "  model = cd_fast.enet_coordinate_descent(\n",
      "D:\\IntelliJ\\ml-stock-sent\\.venv\\Lib\\site-packages\\sklearn\\linear_model\\_coordinate_descent.py:695: ConvergenceWarning: Objective did not converge. You might want to increase the number of iterations, check the scale of the features or consider increasing regularisation. Duality gap: 1.620e+02, tolerance: 7.740e-02\n",
      "  model = cd_fast.enet_coordinate_descent(\n",
      "D:\\IntelliJ\\ml-stock-sent\\.venv\\Lib\\site-packages\\sklearn\\linear_model\\_coordinate_descent.py:695: ConvergenceWarning: Objective did not converge. You might want to increase the number of iterations, check the scale of the features or consider increasing regularisation. Duality gap: 6.006e+01, tolerance: 7.740e-02\n",
      "  model = cd_fast.enet_coordinate_descent(\n",
      "D:\\IntelliJ\\ml-stock-sent\\.venv\\Lib\\site-packages\\sklearn\\linear_model\\_coordinate_descent.py:695: ConvergenceWarning: Objective did not converge. You might want to increase the number of iterations, check the scale of the features or consider increasing regularisation. Duality gap: 1.280e+02, tolerance: 7.740e-02\n",
      "  model = cd_fast.enet_coordinate_descent(\n",
      "D:\\IntelliJ\\ml-stock-sent\\.venv\\Lib\\site-packages\\sklearn\\linear_model\\_coordinate_descent.py:695: ConvergenceWarning: Objective did not converge. You might want to increase the number of iterations, check the scale of the features or consider increasing regularisation. Duality gap: 1.842e+01, tolerance: 7.740e-02\n",
      "  model = cd_fast.enet_coordinate_descent(\n",
      "D:\\IntelliJ\\ml-stock-sent\\.venv\\Lib\\site-packages\\sklearn\\linear_model\\_coordinate_descent.py:695: ConvergenceWarning: Objective did not converge. You might want to increase the number of iterations, check the scale of the features or consider increasing regularisation. Duality gap: 1.492e+02, tolerance: 7.740e-02\n",
      "  model = cd_fast.enet_coordinate_descent(\n",
      "D:\\IntelliJ\\ml-stock-sent\\.venv\\Lib\\site-packages\\sklearn\\linear_model\\_coordinate_descent.py:695: ConvergenceWarning: Objective did not converge. You might want to increase the number of iterations, check the scale of the features or consider increasing regularisation. Duality gap: 1.962e+01, tolerance: 7.740e-02\n",
      "  model = cd_fast.enet_coordinate_descent(\n",
      "D:\\IntelliJ\\ml-stock-sent\\.venv\\Lib\\site-packages\\sklearn\\linear_model\\_coordinate_descent.py:695: ConvergenceWarning: Objective did not converge. You might want to increase the number of iterations, check the scale of the features or consider increasing regularisation. Duality gap: 1.633e+00, tolerance: 7.740e-02\n",
      "  model = cd_fast.enet_coordinate_descent(\n",
      "D:\\IntelliJ\\ml-stock-sent\\.venv\\Lib\\site-packages\\sklearn\\linear_model\\_coordinate_descent.py:695: ConvergenceWarning: Objective did not converge. You might want to increase the number of iterations, check the scale of the features or consider increasing regularisation. Duality gap: 4.742e-01, tolerance: 7.740e-02\n",
      "  model = cd_fast.enet_coordinate_descent(\n",
      "D:\\IntelliJ\\ml-stock-sent\\.venv\\Lib\\site-packages\\sklearn\\linear_model\\_coordinate_descent.py:695: ConvergenceWarning: Objective did not converge. You might want to increase the number of iterations, check the scale of the features or consider increasing regularisation. Duality gap: 3.860e+01, tolerance: 7.740e-02\n",
      "  model = cd_fast.enet_coordinate_descent(\n",
      "D:\\IntelliJ\\ml-stock-sent\\.venv\\Lib\\site-packages\\sklearn\\linear_model\\_coordinate_descent.py:695: ConvergenceWarning: Objective did not converge. You might want to increase the number of iterations, check the scale of the features or consider increasing regularisation. Duality gap: 3.113e+01, tolerance: 7.740e-02\n",
      "  model = cd_fast.enet_coordinate_descent(\n",
      "D:\\IntelliJ\\ml-stock-sent\\.venv\\Lib\\site-packages\\sklearn\\linear_model\\_coordinate_descent.py:695: ConvergenceWarning: Objective did not converge. You might want to increase the number of iterations, check the scale of the features or consider increasing regularisation. Duality gap: 5.378e+01, tolerance: 7.740e-02\n",
      "  model = cd_fast.enet_coordinate_descent(\n",
      "D:\\IntelliJ\\ml-stock-sent\\.venv\\Lib\\site-packages\\sklearn\\linear_model\\_coordinate_descent.py:695: ConvergenceWarning: Objective did not converge. You might want to increase the number of iterations, check the scale of the features or consider increasing regularisation. Duality gap: 1.152e+02, tolerance: 7.740e-02\n",
      "  model = cd_fast.enet_coordinate_descent(\n",
      "D:\\IntelliJ\\ml-stock-sent\\.venv\\Lib\\site-packages\\sklearn\\linear_model\\_coordinate_descent.py:695: ConvergenceWarning: Objective did not converge. You might want to increase the number of iterations, check the scale of the features or consider increasing regularisation. Duality gap: 1.421e+02, tolerance: 7.740e-02\n",
      "  model = cd_fast.enet_coordinate_descent(\n",
      "D:\\IntelliJ\\ml-stock-sent\\.venv\\Lib\\site-packages\\sklearn\\linear_model\\_coordinate_descent.py:695: ConvergenceWarning: Objective did not converge. You might want to increase the number of iterations, check the scale of the features or consider increasing regularisation. Duality gap: 9.031e+01, tolerance: 7.740e-02\n",
      "  model = cd_fast.enet_coordinate_descent(\n",
      "D:\\IntelliJ\\ml-stock-sent\\.venv\\Lib\\site-packages\\sklearn\\linear_model\\_coordinate_descent.py:695: ConvergenceWarning: Objective did not converge. You might want to increase the number of iterations, check the scale of the features or consider increasing regularisation. Duality gap: 9.825e-01, tolerance: 7.740e-02\n",
      "  model = cd_fast.enet_coordinate_descent(\n",
      "D:\\IntelliJ\\ml-stock-sent\\.venv\\Lib\\site-packages\\sklearn\\linear_model\\_coordinate_descent.py:695: ConvergenceWarning: Objective did not converge. You might want to increase the number of iterations, check the scale of the features or consider increasing regularisation. Duality gap: 8.195e+01, tolerance: 1.160e-01\n",
      "  model = cd_fast.enet_coordinate_descent(\n",
      "D:\\IntelliJ\\ml-stock-sent\\.venv\\Lib\\site-packages\\sklearn\\linear_model\\_coordinate_descent.py:695: ConvergenceWarning: Objective did not converge. You might want to increase the number of iterations, check the scale of the features or consider increasing regularisation. Duality gap: 9.416e+01, tolerance: 1.160e-01\n",
      "  model = cd_fast.enet_coordinate_descent(\n",
      "D:\\IntelliJ\\ml-stock-sent\\.venv\\Lib\\site-packages\\sklearn\\linear_model\\_coordinate_descent.py:695: ConvergenceWarning: Objective did not converge. You might want to increase the number of iterations, check the scale of the features or consider increasing regularisation. Duality gap: 6.350e+01, tolerance: 1.160e-01\n",
      "  model = cd_fast.enet_coordinate_descent(\n",
      "D:\\IntelliJ\\ml-stock-sent\\.venv\\Lib\\site-packages\\sklearn\\linear_model\\_coordinate_descent.py:695: ConvergenceWarning: Objective did not converge. You might want to increase the number of iterations, check the scale of the features or consider increasing regularisation. Duality gap: 3.038e+00, tolerance: 1.160e-01\n",
      "  model = cd_fast.enet_coordinate_descent(\n",
      "D:\\IntelliJ\\ml-stock-sent\\.venv\\Lib\\site-packages\\sklearn\\linear_model\\_coordinate_descent.py:695: ConvergenceWarning: Objective did not converge. You might want to increase the number of iterations, check the scale of the features or consider increasing regularisation. Duality gap: 3.998e+01, tolerance: 1.160e-01\n",
      "  model = cd_fast.enet_coordinate_descent(\n",
      "D:\\IntelliJ\\ml-stock-sent\\.venv\\Lib\\site-packages\\sklearn\\linear_model\\_coordinate_descent.py:695: ConvergenceWarning: Objective did not converge. You might want to increase the number of iterations, check the scale of the features or consider increasing regularisation. Duality gap: 2.398e+02, tolerance: 1.160e-01\n",
      "  model = cd_fast.enet_coordinate_descent(\n",
      "D:\\IntelliJ\\ml-stock-sent\\.venv\\Lib\\site-packages\\sklearn\\linear_model\\_coordinate_descent.py:695: ConvergenceWarning: Objective did not converge. You might want to increase the number of iterations, check the scale of the features or consider increasing regularisation. Duality gap: 4.885e+01, tolerance: 1.160e-01\n",
      "  model = cd_fast.enet_coordinate_descent(\n",
      "D:\\IntelliJ\\ml-stock-sent\\.venv\\Lib\\site-packages\\sklearn\\linear_model\\_coordinate_descent.py:695: ConvergenceWarning: Objective did not converge. You might want to increase the number of iterations, check the scale of the features or consider increasing regularisation. Duality gap: 1.076e+02, tolerance: 1.160e-01\n",
      "  model = cd_fast.enet_coordinate_descent(\n",
      "D:\\IntelliJ\\ml-stock-sent\\.venv\\Lib\\site-packages\\sklearn\\linear_model\\_coordinate_descent.py:695: ConvergenceWarning: Objective did not converge. You might want to increase the number of iterations, check the scale of the features or consider increasing regularisation. Duality gap: 9.295e+01, tolerance: 1.160e-01\n",
      "  model = cd_fast.enet_coordinate_descent(\n",
      "D:\\IntelliJ\\ml-stock-sent\\.venv\\Lib\\site-packages\\sklearn\\linear_model\\_coordinate_descent.py:695: ConvergenceWarning: Objective did not converge. You might want to increase the number of iterations, check the scale of the features or consider increasing regularisation. Duality gap: 1.621e+02, tolerance: 1.160e-01\n",
      "  model = cd_fast.enet_coordinate_descent(\n",
      "D:\\IntelliJ\\ml-stock-sent\\.venv\\Lib\\site-packages\\sklearn\\linear_model\\_coordinate_descent.py:695: ConvergenceWarning: Objective did not converge. You might want to increase the number of iterations, check the scale of the features or consider increasing regularisation. Duality gap: 4.607e+00, tolerance: 1.160e-01\n",
      "  model = cd_fast.enet_coordinate_descent(\n",
      "D:\\IntelliJ\\ml-stock-sent\\.venv\\Lib\\site-packages\\sklearn\\linear_model\\_coordinate_descent.py:695: ConvergenceWarning: Objective did not converge. You might want to increase the number of iterations, check the scale of the features or consider increasing regularisation. Duality gap: 1.048e+02, tolerance: 1.160e-01\n",
      "  model = cd_fast.enet_coordinate_descent(\n",
      "D:\\IntelliJ\\ml-stock-sent\\.venv\\Lib\\site-packages\\sklearn\\linear_model\\_coordinate_descent.py:695: ConvergenceWarning: Objective did not converge. You might want to increase the number of iterations, check the scale of the features or consider increasing regularisation. Duality gap: 7.369e+01, tolerance: 1.160e-01\n",
      "  model = cd_fast.enet_coordinate_descent(\n",
      "D:\\IntelliJ\\ml-stock-sent\\.venv\\Lib\\site-packages\\sklearn\\linear_model\\_coordinate_descent.py:695: ConvergenceWarning: Objective did not converge. You might want to increase the number of iterations, check the scale of the features or consider increasing regularisation. Duality gap: 2.465e+02, tolerance: 1.160e-01\n",
      "  model = cd_fast.enet_coordinate_descent(\n",
      "D:\\IntelliJ\\ml-stock-sent\\.venv\\Lib\\site-packages\\sklearn\\linear_model\\_coordinate_descent.py:695: ConvergenceWarning: Objective did not converge. You might want to increase the number of iterations, check the scale of the features or consider increasing regularisation. Duality gap: 9.331e+01, tolerance: 1.160e-01\n",
      "  model = cd_fast.enet_coordinate_descent(\n",
      "D:\\IntelliJ\\ml-stock-sent\\.venv\\Lib\\site-packages\\sklearn\\linear_model\\_coordinate_descent.py:695: ConvergenceWarning: Objective did not converge. You might want to increase the number of iterations, check the scale of the features or consider increasing regularisation. Duality gap: 2.078e+02, tolerance: 1.160e-01\n",
      "  model = cd_fast.enet_coordinate_descent(\n",
      "D:\\IntelliJ\\ml-stock-sent\\.venv\\Lib\\site-packages\\sklearn\\linear_model\\_coordinate_descent.py:695: ConvergenceWarning: Objective did not converge. You might want to increase the number of iterations, check the scale of the features or consider increasing regularisation. Duality gap: 9.636e+00, tolerance: 1.160e-01\n",
      "  model = cd_fast.enet_coordinate_descent(\n",
      "D:\\IntelliJ\\ml-stock-sent\\.venv\\Lib\\site-packages\\sklearn\\linear_model\\_coordinate_descent.py:695: ConvergenceWarning: Objective did not converge. You might want to increase the number of iterations, check the scale of the features or consider increasing regularisation. Duality gap: 2.206e+02, tolerance: 1.160e-01\n",
      "  model = cd_fast.enet_coordinate_descent(\n",
      "D:\\IntelliJ\\ml-stock-sent\\.venv\\Lib\\site-packages\\sklearn\\linear_model\\_coordinate_descent.py:695: ConvergenceWarning: Objective did not converge. You might want to increase the number of iterations, check the scale of the features or consider increasing regularisation. Duality gap: 3.330e+00, tolerance: 1.160e-01\n",
      "  model = cd_fast.enet_coordinate_descent(\n",
      "D:\\IntelliJ\\ml-stock-sent\\.venv\\Lib\\site-packages\\sklearn\\linear_model\\_coordinate_descent.py:695: ConvergenceWarning: Objective did not converge. You might want to increase the number of iterations, check the scale of the features or consider increasing regularisation. Duality gap: 6.574e+00, tolerance: 1.160e-01\n",
      "  model = cd_fast.enet_coordinate_descent(\n",
      "D:\\IntelliJ\\ml-stock-sent\\.venv\\Lib\\site-packages\\sklearn\\linear_model\\_coordinate_descent.py:695: ConvergenceWarning: Objective did not converge. You might want to increase the number of iterations, check the scale of the features or consider increasing regularisation. Duality gap: 8.669e+01, tolerance: 1.160e-01\n",
      "  model = cd_fast.enet_coordinate_descent(\n",
      "D:\\IntelliJ\\ml-stock-sent\\.venv\\Lib\\site-packages\\sklearn\\linear_model\\_coordinate_descent.py:695: ConvergenceWarning: Objective did not converge. You might want to increase the number of iterations, check the scale of the features or consider increasing regularisation. Duality gap: 5.063e+01, tolerance: 1.160e-01\n",
      "  model = cd_fast.enet_coordinate_descent(\n",
      "D:\\IntelliJ\\ml-stock-sent\\.venv\\Lib\\site-packages\\sklearn\\linear_model\\_coordinate_descent.py:695: ConvergenceWarning: Objective did not converge. You might want to increase the number of iterations, check the scale of the features or consider increasing regularisation. Duality gap: 3.490e+01, tolerance: 1.160e-01\n",
      "  model = cd_fast.enet_coordinate_descent(\n",
      "D:\\IntelliJ\\ml-stock-sent\\.venv\\Lib\\site-packages\\sklearn\\linear_model\\_coordinate_descent.py:695: ConvergenceWarning: Objective did not converge. You might want to increase the number of iterations, check the scale of the features or consider increasing regularisation. Duality gap: 8.540e-01, tolerance: 1.160e-01\n",
      "  model = cd_fast.enet_coordinate_descent(\n",
      "D:\\IntelliJ\\ml-stock-sent\\.venv\\Lib\\site-packages\\sklearn\\linear_model\\_coordinate_descent.py:695: ConvergenceWarning: Objective did not converge. You might want to increase the number of iterations, check the scale of the features or consider increasing regularisation. Duality gap: 1.646e+02, tolerance: 1.160e-01\n",
      "  model = cd_fast.enet_coordinate_descent(\n",
      "D:\\IntelliJ\\ml-stock-sent\\.venv\\Lib\\site-packages\\sklearn\\linear_model\\_coordinate_descent.py:695: ConvergenceWarning: Objective did not converge. You might want to increase the number of iterations, check the scale of the features or consider increasing regularisation. Duality gap: 2.001e+02, tolerance: 1.160e-01\n",
      "  model = cd_fast.enet_coordinate_descent(\n",
      "D:\\IntelliJ\\ml-stock-sent\\.venv\\Lib\\site-packages\\sklearn\\linear_model\\_coordinate_descent.py:695: ConvergenceWarning: Objective did not converge. You might want to increase the number of iterations, check the scale of the features or consider increasing regularisation. Duality gap: 1.513e+02, tolerance: 1.160e-01\n",
      "  model = cd_fast.enet_coordinate_descent(\n",
      "D:\\IntelliJ\\ml-stock-sent\\.venv\\Lib\\site-packages\\sklearn\\linear_model\\_coordinate_descent.py:695: ConvergenceWarning: Objective did not converge. You might want to increase the number of iterations, check the scale of the features or consider increasing regularisation. Duality gap: 6.831e+00, tolerance: 1.160e-01\n",
      "  model = cd_fast.enet_coordinate_descent(\n",
      "[I 2025-08-20 16:30:03,477] Trial 6 finished with value: 0.009562464551406375 and parameters: {'alpha': 0.00023345864076016249, 'l1_ratio': 0.7851759613930136, 'selection': 'random'}. Best is trial 3 with value: 0.009395742036985018.\n",
      "D:\\IntelliJ\\ml-stock-sent\\.venv\\Lib\\site-packages\\sklearn\\linear_model\\_coordinate_descent.py:695: ConvergenceWarning: Objective did not converge. You might want to increase the number of iterations, check the scale of the features or consider increasing regularisation. Duality gap: 1.151e+01, tolerance: 3.880e-02\n",
      "  model = cd_fast.enet_coordinate_descent(\n",
      "D:\\IntelliJ\\ml-stock-sent\\.venv\\Lib\\site-packages\\sklearn\\linear_model\\_coordinate_descent.py:695: ConvergenceWarning: Objective did not converge. You might want to increase the number of iterations, check the scale of the features or consider increasing regularisation. Duality gap: 3.511e+00, tolerance: 3.880e-02\n",
      "  model = cd_fast.enet_coordinate_descent(\n",
      "D:\\IntelliJ\\ml-stock-sent\\.venv\\Lib\\site-packages\\sklearn\\linear_model\\_coordinate_descent.py:695: ConvergenceWarning: Objective did not converge. You might want to increase the number of iterations, check the scale of the features or consider increasing regularisation. Duality gap: 3.368e-01, tolerance: 3.880e-02\n",
      "  model = cd_fast.enet_coordinate_descent(\n",
      "D:\\IntelliJ\\ml-stock-sent\\.venv\\Lib\\site-packages\\sklearn\\linear_model\\_coordinate_descent.py:695: ConvergenceWarning: Objective did not converge. You might want to increase the number of iterations, check the scale of the features or consider increasing regularisation. Duality gap: 2.120e-01, tolerance: 3.880e-02\n",
      "  model = cd_fast.enet_coordinate_descent(\n",
      "D:\\IntelliJ\\ml-stock-sent\\.venv\\Lib\\site-packages\\sklearn\\linear_model\\_coordinate_descent.py:695: ConvergenceWarning: Objective did not converge. You might want to increase the number of iterations, check the scale of the features or consider increasing regularisation. Duality gap: 6.800e+00, tolerance: 3.880e-02\n",
      "  model = cd_fast.enet_coordinate_descent(\n",
      "D:\\IntelliJ\\ml-stock-sent\\.venv\\Lib\\site-packages\\sklearn\\linear_model\\_coordinate_descent.py:695: ConvergenceWarning: Objective did not converge. You might want to increase the number of iterations, check the scale of the features or consider increasing regularisation. Duality gap: 1.433e+01, tolerance: 3.880e-02\n",
      "  model = cd_fast.enet_coordinate_descent(\n",
      "D:\\IntelliJ\\ml-stock-sent\\.venv\\Lib\\site-packages\\sklearn\\linear_model\\_coordinate_descent.py:695: ConvergenceWarning: Objective did not converge. You might want to increase the number of iterations, check the scale of the features or consider increasing regularisation. Duality gap: 2.823e-01, tolerance: 3.880e-02\n",
      "  model = cd_fast.enet_coordinate_descent(\n",
      "D:\\IntelliJ\\ml-stock-sent\\.venv\\Lib\\site-packages\\sklearn\\linear_model\\_coordinate_descent.py:695: ConvergenceWarning: Objective did not converge. You might want to increase the number of iterations, check the scale of the features or consider increasing regularisation. Duality gap: 2.740e+00, tolerance: 3.880e-02\n",
      "  model = cd_fast.enet_coordinate_descent(\n",
      "D:\\IntelliJ\\ml-stock-sent\\.venv\\Lib\\site-packages\\sklearn\\linear_model\\_coordinate_descent.py:695: ConvergenceWarning: Objective did not converge. You might want to increase the number of iterations, check the scale of the features or consider increasing regularisation. Duality gap: 1.686e+00, tolerance: 3.880e-02\n",
      "  model = cd_fast.enet_coordinate_descent(\n",
      "D:\\IntelliJ\\ml-stock-sent\\.venv\\Lib\\site-packages\\sklearn\\linear_model\\_coordinate_descent.py:695: ConvergenceWarning: Objective did not converge. You might want to increase the number of iterations, check the scale of the features or consider increasing regularisation. Duality gap: 4.972e+00, tolerance: 3.880e-02\n",
      "  model = cd_fast.enet_coordinate_descent(\n",
      "D:\\IntelliJ\\ml-stock-sent\\.venv\\Lib\\site-packages\\sklearn\\linear_model\\_coordinate_descent.py:695: ConvergenceWarning: Objective did not converge. You might want to increase the number of iterations, check the scale of the features or consider increasing regularisation. Duality gap: 6.697e-01, tolerance: 3.880e-02\n",
      "  model = cd_fast.enet_coordinate_descent(\n",
      "D:\\IntelliJ\\ml-stock-sent\\.venv\\Lib\\site-packages\\sklearn\\linear_model\\_coordinate_descent.py:695: ConvergenceWarning: Objective did not converge. You might want to increase the number of iterations, check the scale of the features or consider increasing regularisation. Duality gap: 1.038e+01, tolerance: 3.880e-02\n",
      "  model = cd_fast.enet_coordinate_descent(\n",
      "D:\\IntelliJ\\ml-stock-sent\\.venv\\Lib\\site-packages\\sklearn\\linear_model\\_coordinate_descent.py:695: ConvergenceWarning: Objective did not converge. You might want to increase the number of iterations, check the scale of the features or consider increasing regularisation. Duality gap: 1.460e+01, tolerance: 3.880e-02\n",
      "  model = cd_fast.enet_coordinate_descent(\n",
      "D:\\IntelliJ\\ml-stock-sent\\.venv\\Lib\\site-packages\\sklearn\\linear_model\\_coordinate_descent.py:695: ConvergenceWarning: Objective did not converge. You might want to increase the number of iterations, check the scale of the features or consider increasing regularisation. Duality gap: 3.058e-01, tolerance: 3.880e-02\n",
      "  model = cd_fast.enet_coordinate_descent(\n",
      "D:\\IntelliJ\\ml-stock-sent\\.venv\\Lib\\site-packages\\sklearn\\linear_model\\_coordinate_descent.py:695: ConvergenceWarning: Objective did not converge. You might want to increase the number of iterations, check the scale of the features or consider increasing regularisation. Duality gap: 5.665e+00, tolerance: 3.880e-02\n",
      "  model = cd_fast.enet_coordinate_descent(\n",
      "D:\\IntelliJ\\ml-stock-sent\\.venv\\Lib\\site-packages\\sklearn\\linear_model\\_coordinate_descent.py:695: ConvergenceWarning: Objective did not converge. You might want to increase the number of iterations, check the scale of the features or consider increasing regularisation. Duality gap: 1.192e+00, tolerance: 3.880e-02\n",
      "  model = cd_fast.enet_coordinate_descent(\n",
      "D:\\IntelliJ\\ml-stock-sent\\.venv\\Lib\\site-packages\\sklearn\\linear_model\\_coordinate_descent.py:695: ConvergenceWarning: Objective did not converge. You might want to increase the number of iterations, check the scale of the features or consider increasing regularisation. Duality gap: 5.146e-01, tolerance: 3.880e-02\n",
      "  model = cd_fast.enet_coordinate_descent(\n",
      "D:\\IntelliJ\\ml-stock-sent\\.venv\\Lib\\site-packages\\sklearn\\linear_model\\_coordinate_descent.py:695: ConvergenceWarning: Objective did not converge. You might want to increase the number of iterations, check the scale of the features or consider increasing regularisation. Duality gap: 5.010e+00, tolerance: 3.880e-02\n",
      "  model = cd_fast.enet_coordinate_descent(\n",
      "D:\\IntelliJ\\ml-stock-sent\\.venv\\Lib\\site-packages\\sklearn\\linear_model\\_coordinate_descent.py:695: ConvergenceWarning: Objective did not converge. You might want to increase the number of iterations, check the scale of the features or consider increasing regularisation. Duality gap: 7.352e+00, tolerance: 3.880e-02\n",
      "  model = cd_fast.enet_coordinate_descent(\n",
      "D:\\IntelliJ\\ml-stock-sent\\.venv\\Lib\\site-packages\\sklearn\\linear_model\\_coordinate_descent.py:695: ConvergenceWarning: Objective did not converge. You might want to increase the number of iterations, check the scale of the features or consider increasing regularisation. Duality gap: 1.720e-01, tolerance: 3.880e-02\n",
      "  model = cd_fast.enet_coordinate_descent(\n",
      "D:\\IntelliJ\\ml-stock-sent\\.venv\\Lib\\site-packages\\sklearn\\linear_model\\_coordinate_descent.py:695: ConvergenceWarning: Objective did not converge. You might want to increase the number of iterations, check the scale of the features or consider increasing regularisation. Duality gap: 1.289e+00, tolerance: 3.880e-02\n",
      "  model = cd_fast.enet_coordinate_descent(\n",
      "D:\\IntelliJ\\ml-stock-sent\\.venv\\Lib\\site-packages\\sklearn\\linear_model\\_coordinate_descent.py:695: ConvergenceWarning: Objective did not converge. You might want to increase the number of iterations, check the scale of the features or consider increasing regularisation. Duality gap: 7.627e+00, tolerance: 3.880e-02\n",
      "  model = cd_fast.enet_coordinate_descent(\n",
      "D:\\IntelliJ\\ml-stock-sent\\.venv\\Lib\\site-packages\\sklearn\\linear_model\\_coordinate_descent.py:695: ConvergenceWarning: Objective did not converge. You might want to increase the number of iterations, check the scale of the features or consider increasing regularisation. Duality gap: 6.707e+00, tolerance: 3.880e-02\n",
      "  model = cd_fast.enet_coordinate_descent(\n",
      "D:\\IntelliJ\\ml-stock-sent\\.venv\\Lib\\site-packages\\sklearn\\linear_model\\_coordinate_descent.py:695: ConvergenceWarning: Objective did not converge. You might want to increase the number of iterations, check the scale of the features or consider increasing regularisation. Duality gap: 5.296e+00, tolerance: 3.880e-02\n",
      "  model = cd_fast.enet_coordinate_descent(\n",
      "D:\\IntelliJ\\ml-stock-sent\\.venv\\Lib\\site-packages\\sklearn\\linear_model\\_coordinate_descent.py:695: ConvergenceWarning: Objective did not converge. You might want to increase the number of iterations, check the scale of the features or consider increasing regularisation. Duality gap: 1.426e-01, tolerance: 3.880e-02\n",
      "  model = cd_fast.enet_coordinate_descent(\n",
      "D:\\IntelliJ\\ml-stock-sent\\.venv\\Lib\\site-packages\\sklearn\\linear_model\\_coordinate_descent.py:695: ConvergenceWarning: Objective did not converge. You might want to increase the number of iterations, check the scale of the features or consider increasing regularisation. Duality gap: 3.379e-01, tolerance: 3.880e-02\n",
      "  model = cd_fast.enet_coordinate_descent(\n",
      "D:\\IntelliJ\\ml-stock-sent\\.venv\\Lib\\site-packages\\sklearn\\linear_model\\_coordinate_descent.py:695: ConvergenceWarning: Objective did not converge. You might want to increase the number of iterations, check the scale of the features or consider increasing regularisation. Duality gap: 1.686e+00, tolerance: 3.880e-02\n",
      "  model = cd_fast.enet_coordinate_descent(\n",
      "D:\\IntelliJ\\ml-stock-sent\\.venv\\Lib\\site-packages\\sklearn\\linear_model\\_coordinate_descent.py:695: ConvergenceWarning: Objective did not converge. You might want to increase the number of iterations, check the scale of the features or consider increasing regularisation. Duality gap: 1.456e+00, tolerance: 3.880e-02\n",
      "  model = cd_fast.enet_coordinate_descent(\n",
      "D:\\IntelliJ\\ml-stock-sent\\.venv\\Lib\\site-packages\\sklearn\\linear_model\\_coordinate_descent.py:695: ConvergenceWarning: Objective did not converge. You might want to increase the number of iterations, check the scale of the features or consider increasing regularisation. Duality gap: 3.468e+00, tolerance: 3.880e-02\n",
      "  model = cd_fast.enet_coordinate_descent(\n",
      "D:\\IntelliJ\\ml-stock-sent\\.venv\\Lib\\site-packages\\sklearn\\linear_model\\_coordinate_descent.py:695: ConvergenceWarning: Objective did not converge. You might want to increase the number of iterations, check the scale of the features or consider increasing regularisation. Duality gap: 9.010e+00, tolerance: 7.740e-02\n",
      "  model = cd_fast.enet_coordinate_descent(\n",
      "D:\\IntelliJ\\ml-stock-sent\\.venv\\Lib\\site-packages\\sklearn\\linear_model\\_coordinate_descent.py:695: ConvergenceWarning: Objective did not converge. You might want to increase the number of iterations, check the scale of the features or consider increasing regularisation. Duality gap: 6.703e+00, tolerance: 7.740e-02\n",
      "  model = cd_fast.enet_coordinate_descent(\n",
      "D:\\IntelliJ\\ml-stock-sent\\.venv\\Lib\\site-packages\\sklearn\\linear_model\\_coordinate_descent.py:695: ConvergenceWarning: Objective did not converge. You might want to increase the number of iterations, check the scale of the features or consider increasing regularisation. Duality gap: 2.851e-01, tolerance: 7.740e-02\n",
      "  model = cd_fast.enet_coordinate_descent(\n",
      "D:\\IntelliJ\\ml-stock-sent\\.venv\\Lib\\site-packages\\sklearn\\linear_model\\_coordinate_descent.py:695: ConvergenceWarning: Objective did not converge. You might want to increase the number of iterations, check the scale of the features or consider increasing regularisation. Duality gap: 4.930e+00, tolerance: 7.740e-02\n",
      "  model = cd_fast.enet_coordinate_descent(\n",
      "D:\\IntelliJ\\ml-stock-sent\\.venv\\Lib\\site-packages\\sklearn\\linear_model\\_coordinate_descent.py:695: ConvergenceWarning: Objective did not converge. You might want to increase the number of iterations, check the scale of the features or consider increasing regularisation. Duality gap: 1.802e+01, tolerance: 7.740e-02\n",
      "  model = cd_fast.enet_coordinate_descent(\n",
      "D:\\IntelliJ\\ml-stock-sent\\.venv\\Lib\\site-packages\\sklearn\\linear_model\\_coordinate_descent.py:695: ConvergenceWarning: Objective did not converge. You might want to increase the number of iterations, check the scale of the features or consider increasing regularisation. Duality gap: 1.662e-01, tolerance: 7.740e-02\n",
      "  model = cd_fast.enet_coordinate_descent(\n",
      "D:\\IntelliJ\\ml-stock-sent\\.venv\\Lib\\site-packages\\sklearn\\linear_model\\_coordinate_descent.py:695: ConvergenceWarning: Objective did not converge. You might want to increase the number of iterations, check the scale of the features or consider increasing regularisation. Duality gap: 1.415e+00, tolerance: 7.740e-02\n",
      "  model = cd_fast.enet_coordinate_descent(\n",
      "D:\\IntelliJ\\ml-stock-sent\\.venv\\Lib\\site-packages\\sklearn\\linear_model\\_coordinate_descent.py:695: ConvergenceWarning: Objective did not converge. You might want to increase the number of iterations, check the scale of the features or consider increasing regularisation. Duality gap: 6.707e+00, tolerance: 7.740e-02\n",
      "  model = cd_fast.enet_coordinate_descent(\n",
      "D:\\IntelliJ\\ml-stock-sent\\.venv\\Lib\\site-packages\\sklearn\\linear_model\\_coordinate_descent.py:695: ConvergenceWarning: Objective did not converge. You might want to increase the number of iterations, check the scale of the features or consider increasing regularisation. Duality gap: 2.105e+00, tolerance: 7.740e-02\n",
      "  model = cd_fast.enet_coordinate_descent(\n",
      "D:\\IntelliJ\\ml-stock-sent\\.venv\\Lib\\site-packages\\sklearn\\linear_model\\_coordinate_descent.py:695: ConvergenceWarning: Objective did not converge. You might want to increase the number of iterations, check the scale of the features or consider increasing regularisation. Duality gap: 5.418e+00, tolerance: 7.740e-02\n",
      "  model = cd_fast.enet_coordinate_descent(\n",
      "D:\\IntelliJ\\ml-stock-sent\\.venv\\Lib\\site-packages\\sklearn\\linear_model\\_coordinate_descent.py:695: ConvergenceWarning: Objective did not converge. You might want to increase the number of iterations, check the scale of the features or consider increasing regularisation. Duality gap: 1.982e+01, tolerance: 7.740e-02\n",
      "  model = cd_fast.enet_coordinate_descent(\n",
      "D:\\IntelliJ\\ml-stock-sent\\.venv\\Lib\\site-packages\\sklearn\\linear_model\\_coordinate_descent.py:695: ConvergenceWarning: Objective did not converge. You might want to increase the number of iterations, check the scale of the features or consider increasing regularisation. Duality gap: 2.411e+00, tolerance: 7.740e-02\n",
      "  model = cd_fast.enet_coordinate_descent(\n",
      "D:\\IntelliJ\\ml-stock-sent\\.venv\\Lib\\site-packages\\sklearn\\linear_model\\_coordinate_descent.py:695: ConvergenceWarning: Objective did not converge. You might want to increase the number of iterations, check the scale of the features or consider increasing regularisation. Duality gap: 3.249e+00, tolerance: 7.740e-02\n",
      "  model = cd_fast.enet_coordinate_descent(\n",
      "D:\\IntelliJ\\ml-stock-sent\\.venv\\Lib\\site-packages\\sklearn\\linear_model\\_coordinate_descent.py:695: ConvergenceWarning: Objective did not converge. You might want to increase the number of iterations, check the scale of the features or consider increasing regularisation. Duality gap: 4.040e+00, tolerance: 7.740e-02\n",
      "  model = cd_fast.enet_coordinate_descent(\n",
      "D:\\IntelliJ\\ml-stock-sent\\.venv\\Lib\\site-packages\\sklearn\\linear_model\\_coordinate_descent.py:695: ConvergenceWarning: Objective did not converge. You might want to increase the number of iterations, check the scale of the features or consider increasing regularisation. Duality gap: 7.611e+00, tolerance: 7.740e-02\n",
      "  model = cd_fast.enet_coordinate_descent(\n",
      "D:\\IntelliJ\\ml-stock-sent\\.venv\\Lib\\site-packages\\sklearn\\linear_model\\_coordinate_descent.py:695: ConvergenceWarning: Objective did not converge. You might want to increase the number of iterations, check the scale of the features or consider increasing regularisation. Duality gap: 1.093e+00, tolerance: 7.740e-02\n",
      "  model = cd_fast.enet_coordinate_descent(\n",
      "D:\\IntelliJ\\ml-stock-sent\\.venv\\Lib\\site-packages\\sklearn\\linear_model\\_coordinate_descent.py:695: ConvergenceWarning: Objective did not converge. You might want to increase the number of iterations, check the scale of the features or consider increasing regularisation. Duality gap: 3.192e+00, tolerance: 7.740e-02\n",
      "  model = cd_fast.enet_coordinate_descent(\n",
      "D:\\IntelliJ\\ml-stock-sent\\.venv\\Lib\\site-packages\\sklearn\\linear_model\\_coordinate_descent.py:695: ConvergenceWarning: Objective did not converge. You might want to increase the number of iterations, check the scale of the features or consider increasing regularisation. Duality gap: 2.097e+00, tolerance: 7.740e-02\n",
      "  model = cd_fast.enet_coordinate_descent(\n",
      "D:\\IntelliJ\\ml-stock-sent\\.venv\\Lib\\site-packages\\sklearn\\linear_model\\_coordinate_descent.py:695: ConvergenceWarning: Objective did not converge. You might want to increase the number of iterations, check the scale of the features or consider increasing regularisation. Duality gap: 2.787e+00, tolerance: 7.740e-02\n",
      "  model = cd_fast.enet_coordinate_descent(\n",
      "D:\\IntelliJ\\ml-stock-sent\\.venv\\Lib\\site-packages\\sklearn\\linear_model\\_coordinate_descent.py:695: ConvergenceWarning: Objective did not converge. You might want to increase the number of iterations, check the scale of the features or consider increasing regularisation. Duality gap: 7.803e+00, tolerance: 7.740e-02\n",
      "  model = cd_fast.enet_coordinate_descent(\n",
      "D:\\IntelliJ\\ml-stock-sent\\.venv\\Lib\\site-packages\\sklearn\\linear_model\\_coordinate_descent.py:695: ConvergenceWarning: Objective did not converge. You might want to increase the number of iterations, check the scale of the features or consider increasing regularisation. Duality gap: 1.428e+01, tolerance: 7.740e-02\n",
      "  model = cd_fast.enet_coordinate_descent(\n",
      "D:\\IntelliJ\\ml-stock-sent\\.venv\\Lib\\site-packages\\sklearn\\linear_model\\_coordinate_descent.py:695: ConvergenceWarning: Objective did not converge. You might want to increase the number of iterations, check the scale of the features or consider increasing regularisation. Duality gap: 2.517e+00, tolerance: 7.740e-02\n",
      "  model = cd_fast.enet_coordinate_descent(\n",
      "D:\\IntelliJ\\ml-stock-sent\\.venv\\Lib\\site-packages\\sklearn\\linear_model\\_coordinate_descent.py:695: ConvergenceWarning: Objective did not converge. You might want to increase the number of iterations, check the scale of the features or consider increasing regularisation. Duality gap: 1.905e-01, tolerance: 7.740e-02\n",
      "  model = cd_fast.enet_coordinate_descent(\n",
      "D:\\IntelliJ\\ml-stock-sent\\.venv\\Lib\\site-packages\\sklearn\\linear_model\\_coordinate_descent.py:695: ConvergenceWarning: Objective did not converge. You might want to increase the number of iterations, check the scale of the features or consider increasing regularisation. Duality gap: 9.283e+00, tolerance: 1.160e-01\n",
      "  model = cd_fast.enet_coordinate_descent(\n",
      "D:\\IntelliJ\\ml-stock-sent\\.venv\\Lib\\site-packages\\sklearn\\linear_model\\_coordinate_descent.py:695: ConvergenceWarning: Objective did not converge. You might want to increase the number of iterations, check the scale of the features or consider increasing regularisation. Duality gap: 7.046e+00, tolerance: 1.160e-01\n",
      "  model = cd_fast.enet_coordinate_descent(\n",
      "D:\\IntelliJ\\ml-stock-sent\\.venv\\Lib\\site-packages\\sklearn\\linear_model\\_coordinate_descent.py:695: ConvergenceWarning: Objective did not converge. You might want to increase the number of iterations, check the scale of the features or consider increasing regularisation. Duality gap: 1.710e+00, tolerance: 1.160e-01\n",
      "  model = cd_fast.enet_coordinate_descent(\n",
      "D:\\IntelliJ\\ml-stock-sent\\.venv\\Lib\\site-packages\\sklearn\\linear_model\\_coordinate_descent.py:695: ConvergenceWarning: Objective did not converge. You might want to increase the number of iterations, check the scale of the features or consider increasing regularisation. Duality gap: 6.998e+00, tolerance: 1.160e-01\n",
      "  model = cd_fast.enet_coordinate_descent(\n",
      "D:\\IntelliJ\\ml-stock-sent\\.venv\\Lib\\site-packages\\sklearn\\linear_model\\_coordinate_descent.py:695: ConvergenceWarning: Objective did not converge. You might want to increase the number of iterations, check the scale of the features or consider increasing regularisation. Duality gap: 2.648e+01, tolerance: 1.160e-01\n",
      "  model = cd_fast.enet_coordinate_descent(\n",
      "D:\\IntelliJ\\ml-stock-sent\\.venv\\Lib\\site-packages\\sklearn\\linear_model\\_coordinate_descent.py:695: ConvergenceWarning: Objective did not converge. You might want to increase the number of iterations, check the scale of the features or consider increasing regularisation. Duality gap: 1.351e+00, tolerance: 1.160e-01\n",
      "  model = cd_fast.enet_coordinate_descent(\n",
      "D:\\IntelliJ\\ml-stock-sent\\.venv\\Lib\\site-packages\\sklearn\\linear_model\\_coordinate_descent.py:695: ConvergenceWarning: Objective did not converge. You might want to increase the number of iterations, check the scale of the features or consider increasing regularisation. Duality gap: 3.038e+00, tolerance: 1.160e-01\n",
      "  model = cd_fast.enet_coordinate_descent(\n",
      "D:\\IntelliJ\\ml-stock-sent\\.venv\\Lib\\site-packages\\sklearn\\linear_model\\_coordinate_descent.py:695: ConvergenceWarning: Objective did not converge. You might want to increase the number of iterations, check the scale of the features or consider increasing regularisation. Duality gap: 5.478e+00, tolerance: 1.160e-01\n",
      "  model = cd_fast.enet_coordinate_descent(\n",
      "D:\\IntelliJ\\ml-stock-sent\\.venv\\Lib\\site-packages\\sklearn\\linear_model\\_coordinate_descent.py:695: ConvergenceWarning: Objective did not converge. You might want to increase the number of iterations, check the scale of the features or consider increasing regularisation. Duality gap: 1.433e+01, tolerance: 1.160e-01\n",
      "  model = cd_fast.enet_coordinate_descent(\n",
      "D:\\IntelliJ\\ml-stock-sent\\.venv\\Lib\\site-packages\\sklearn\\linear_model\\_coordinate_descent.py:695: ConvergenceWarning: Objective did not converge. You might want to increase the number of iterations, check the scale of the features or consider increasing regularisation. Duality gap: 5.770e+00, tolerance: 1.160e-01\n",
      "  model = cd_fast.enet_coordinate_descent(\n",
      "D:\\IntelliJ\\ml-stock-sent\\.venv\\Lib\\site-packages\\sklearn\\linear_model\\_coordinate_descent.py:695: ConvergenceWarning: Objective did not converge. You might want to increase the number of iterations, check the scale of the features or consider increasing regularisation. Duality gap: 6.910e+00, tolerance: 1.160e-01\n",
      "  model = cd_fast.enet_coordinate_descent(\n",
      "D:\\IntelliJ\\ml-stock-sent\\.venv\\Lib\\site-packages\\sklearn\\linear_model\\_coordinate_descent.py:695: ConvergenceWarning: Objective did not converge. You might want to increase the number of iterations, check the scale of the features or consider increasing regularisation. Duality gap: 3.227e+01, tolerance: 1.160e-01\n",
      "  model = cd_fast.enet_coordinate_descent(\n",
      "D:\\IntelliJ\\ml-stock-sent\\.venv\\Lib\\site-packages\\sklearn\\linear_model\\_coordinate_descent.py:695: ConvergenceWarning: Objective did not converge. You might want to increase the number of iterations, check the scale of the features or consider increasing regularisation. Duality gap: 3.405e+00, tolerance: 1.160e-01\n",
      "  model = cd_fast.enet_coordinate_descent(\n",
      "D:\\IntelliJ\\ml-stock-sent\\.venv\\Lib\\site-packages\\sklearn\\linear_model\\_coordinate_descent.py:695: ConvergenceWarning: Objective did not converge. You might want to increase the number of iterations, check the scale of the features or consider increasing regularisation. Duality gap: 9.391e+00, tolerance: 1.160e-01\n",
      "  model = cd_fast.enet_coordinate_descent(\n",
      "D:\\IntelliJ\\ml-stock-sent\\.venv\\Lib\\site-packages\\sklearn\\linear_model\\_coordinate_descent.py:695: ConvergenceWarning: Objective did not converge. You might want to increase the number of iterations, check the scale of the features or consider increasing regularisation. Duality gap: 2.832e+00, tolerance: 1.160e-01\n",
      "  model = cd_fast.enet_coordinate_descent(\n",
      "D:\\IntelliJ\\ml-stock-sent\\.venv\\Lib\\site-packages\\sklearn\\linear_model\\_coordinate_descent.py:695: ConvergenceWarning: Objective did not converge. You might want to increase the number of iterations, check the scale of the features or consider increasing regularisation. Duality gap: 1.389e+01, tolerance: 1.160e-01\n",
      "  model = cd_fast.enet_coordinate_descent(\n",
      "D:\\IntelliJ\\ml-stock-sent\\.venv\\Lib\\site-packages\\sklearn\\linear_model\\_coordinate_descent.py:695: ConvergenceWarning: Objective did not converge. You might want to increase the number of iterations, check the scale of the features or consider increasing regularisation. Duality gap: 1.100e+00, tolerance: 1.160e-01\n",
      "  model = cd_fast.enet_coordinate_descent(\n",
      "D:\\IntelliJ\\ml-stock-sent\\.venv\\Lib\\site-packages\\sklearn\\linear_model\\_coordinate_descent.py:695: ConvergenceWarning: Objective did not converge. You might want to increase the number of iterations, check the scale of the features or consider increasing regularisation. Duality gap: 2.592e-01, tolerance: 1.160e-01\n",
      "  model = cd_fast.enet_coordinate_descent(\n",
      "D:\\IntelliJ\\ml-stock-sent\\.venv\\Lib\\site-packages\\sklearn\\linear_model\\_coordinate_descent.py:695: ConvergenceWarning: Objective did not converge. You might want to increase the number of iterations, check the scale of the features or consider increasing regularisation. Duality gap: 1.666e-01, tolerance: 1.160e-01\n",
      "  model = cd_fast.enet_coordinate_descent(\n",
      "D:\\IntelliJ\\ml-stock-sent\\.venv\\Lib\\site-packages\\sklearn\\linear_model\\_coordinate_descent.py:695: ConvergenceWarning: Objective did not converge. You might want to increase the number of iterations, check the scale of the features or consider increasing regularisation. Duality gap: 7.038e+00, tolerance: 1.160e-01\n",
      "  model = cd_fast.enet_coordinate_descent(\n",
      "D:\\IntelliJ\\ml-stock-sent\\.venv\\Lib\\site-packages\\sklearn\\linear_model\\_coordinate_descent.py:695: ConvergenceWarning: Objective did not converge. You might want to increase the number of iterations, check the scale of the features or consider increasing regularisation. Duality gap: 4.308e+00, tolerance: 1.160e-01\n",
      "  model = cd_fast.enet_coordinate_descent(\n",
      "D:\\IntelliJ\\ml-stock-sent\\.venv\\Lib\\site-packages\\sklearn\\linear_model\\_coordinate_descent.py:695: ConvergenceWarning: Objective did not converge. You might want to increase the number of iterations, check the scale of the features or consider increasing regularisation. Duality gap: 1.691e+00, tolerance: 1.160e-01\n",
      "  model = cd_fast.enet_coordinate_descent(\n",
      "D:\\IntelliJ\\ml-stock-sent\\.venv\\Lib\\site-packages\\sklearn\\linear_model\\_coordinate_descent.py:695: ConvergenceWarning: Objective did not converge. You might want to increase the number of iterations, check the scale of the features or consider increasing regularisation. Duality gap: 1.198e+01, tolerance: 1.160e-01\n",
      "  model = cd_fast.enet_coordinate_descent(\n",
      "D:\\IntelliJ\\ml-stock-sent\\.venv\\Lib\\site-packages\\sklearn\\linear_model\\_coordinate_descent.py:695: ConvergenceWarning: Objective did not converge. You might want to increase the number of iterations, check the scale of the features or consider increasing regularisation. Duality gap: 2.091e+01, tolerance: 1.160e-01\n",
      "  model = cd_fast.enet_coordinate_descent(\n",
      "D:\\IntelliJ\\ml-stock-sent\\.venv\\Lib\\site-packages\\sklearn\\linear_model\\_coordinate_descent.py:695: ConvergenceWarning: Objective did not converge. You might want to increase the number of iterations, check the scale of the features or consider increasing regularisation. Duality gap: 7.131e+00, tolerance: 1.160e-01\n",
      "  model = cd_fast.enet_coordinate_descent(\n",
      "D:\\IntelliJ\\ml-stock-sent\\.venv\\Lib\\site-packages\\sklearn\\linear_model\\_coordinate_descent.py:695: ConvergenceWarning: Objective did not converge. You might want to increase the number of iterations, check the scale of the features or consider increasing regularisation. Duality gap: 6.840e-01, tolerance: 1.160e-01\n",
      "  model = cd_fast.enet_coordinate_descent(\n",
      "[I 2025-08-20 16:30:04,500] Trial 7 finished with value: 0.009539031191388355 and parameters: {'alpha': 0.0005987474910461401, 'l1_ratio': 0.046450412719997725, 'selection': 'cyclic'}. Best is trial 3 with value: 0.009395742036985018.\n",
      "D:\\IntelliJ\\ml-stock-sent\\.venv\\Lib\\site-packages\\sklearn\\linear_model\\_coordinate_descent.py:695: ConvergenceWarning: Objective did not converge. You might want to increase the number of iterations, check the scale of the features or consider increasing regularisation. Duality gap: 1.370e+02, tolerance: 3.880e-02\n",
      "  model = cd_fast.enet_coordinate_descent(\n",
      "D:\\IntelliJ\\ml-stock-sent\\.venv\\Lib\\site-packages\\sklearn\\linear_model\\_coordinate_descent.py:695: ConvergenceWarning: Objective did not converge. You might want to increase the number of iterations, check the scale of the features or consider increasing regularisation. Duality gap: 1.182e+02, tolerance: 3.880e-02\n",
      "  model = cd_fast.enet_coordinate_descent(\n",
      "D:\\IntelliJ\\ml-stock-sent\\.venv\\Lib\\site-packages\\sklearn\\linear_model\\_coordinate_descent.py:695: ConvergenceWarning: Objective did not converge. You might want to increase the number of iterations, check the scale of the features or consider increasing regularisation. Duality gap: 5.306e+01, tolerance: 3.880e-02\n",
      "  model = cd_fast.enet_coordinate_descent(\n",
      "D:\\IntelliJ\\ml-stock-sent\\.venv\\Lib\\site-packages\\sklearn\\linear_model\\_coordinate_descent.py:695: ConvergenceWarning: Objective did not converge. You might want to increase the number of iterations, check the scale of the features or consider increasing regularisation. Duality gap: 3.045e+01, tolerance: 3.880e-02\n",
      "  model = cd_fast.enet_coordinate_descent(\n",
      "D:\\IntelliJ\\ml-stock-sent\\.venv\\Lib\\site-packages\\sklearn\\linear_model\\_coordinate_descent.py:695: ConvergenceWarning: Objective did not converge. You might want to increase the number of iterations, check the scale of the features or consider increasing regularisation. Duality gap: 1.286e+02, tolerance: 3.880e-02\n",
      "  model = cd_fast.enet_coordinate_descent(\n",
      "D:\\IntelliJ\\ml-stock-sent\\.venv\\Lib\\site-packages\\sklearn\\linear_model\\_coordinate_descent.py:695: ConvergenceWarning: Objective did not converge. You might want to increase the number of iterations, check the scale of the features or consider increasing regularisation. Duality gap: 1.474e+02, tolerance: 3.880e-02\n",
      "  model = cd_fast.enet_coordinate_descent(\n",
      "D:\\IntelliJ\\ml-stock-sent\\.venv\\Lib\\site-packages\\sklearn\\linear_model\\_coordinate_descent.py:695: ConvergenceWarning: Objective did not converge. You might want to increase the number of iterations, check the scale of the features or consider increasing regularisation. Duality gap: 3.969e+01, tolerance: 3.880e-02\n",
      "  model = cd_fast.enet_coordinate_descent(\n",
      "D:\\IntelliJ\\ml-stock-sent\\.venv\\Lib\\site-packages\\sklearn\\linear_model\\_coordinate_descent.py:695: ConvergenceWarning: Objective did not converge. You might want to increase the number of iterations, check the scale of the features or consider increasing regularisation. Duality gap: 2.582e+01, tolerance: 3.880e-02\n",
      "  model = cd_fast.enet_coordinate_descent(\n",
      "D:\\IntelliJ\\ml-stock-sent\\.venv\\Lib\\site-packages\\sklearn\\linear_model\\_coordinate_descent.py:695: ConvergenceWarning: Objective did not converge. You might want to increase the number of iterations, check the scale of the features or consider increasing regularisation. Duality gap: 1.040e+02, tolerance: 3.880e-02\n",
      "  model = cd_fast.enet_coordinate_descent(\n",
      "D:\\IntelliJ\\ml-stock-sent\\.venv\\Lib\\site-packages\\sklearn\\linear_model\\_coordinate_descent.py:695: ConvergenceWarning: Objective did not converge. You might want to increase the number of iterations, check the scale of the features or consider increasing regularisation. Duality gap: 1.282e+02, tolerance: 3.880e-02\n",
      "  model = cd_fast.enet_coordinate_descent(\n",
      "D:\\IntelliJ\\ml-stock-sent\\.venv\\Lib\\site-packages\\sklearn\\linear_model\\_coordinate_descent.py:695: ConvergenceWarning: Objective did not converge. You might want to increase the number of iterations, check the scale of the features or consider increasing regularisation. Duality gap: 4.466e+01, tolerance: 3.880e-02\n",
      "  model = cd_fast.enet_coordinate_descent(\n",
      "D:\\IntelliJ\\ml-stock-sent\\.venv\\Lib\\site-packages\\sklearn\\linear_model\\_coordinate_descent.py:695: ConvergenceWarning: Objective did not converge. You might want to increase the number of iterations, check the scale of the features or consider increasing regularisation. Duality gap: 5.169e+01, tolerance: 3.880e-02\n",
      "  model = cd_fast.enet_coordinate_descent(\n",
      "D:\\IntelliJ\\ml-stock-sent\\.venv\\Lib\\site-packages\\sklearn\\linear_model\\_coordinate_descent.py:695: ConvergenceWarning: Objective did not converge. You might want to increase the number of iterations, check the scale of the features or consider increasing regularisation. Duality gap: 1.372e+02, tolerance: 3.880e-02\n",
      "  model = cd_fast.enet_coordinate_descent(\n",
      "D:\\IntelliJ\\ml-stock-sent\\.venv\\Lib\\site-packages\\sklearn\\linear_model\\_coordinate_descent.py:695: ConvergenceWarning: Objective did not converge. You might want to increase the number of iterations, check the scale of the features or consider increasing regularisation. Duality gap: 1.461e+02, tolerance: 3.880e-02\n",
      "  model = cd_fast.enet_coordinate_descent(\n",
      "D:\\IntelliJ\\ml-stock-sent\\.venv\\Lib\\site-packages\\sklearn\\linear_model\\_coordinate_descent.py:695: ConvergenceWarning: Objective did not converge. You might want to increase the number of iterations, check the scale of the features or consider increasing regularisation. Duality gap: 1.582e+01, tolerance: 3.880e-02\n",
      "  model = cd_fast.enet_coordinate_descent(\n",
      "D:\\IntelliJ\\ml-stock-sent\\.venv\\Lib\\site-packages\\sklearn\\linear_model\\_coordinate_descent.py:695: ConvergenceWarning: Objective did not converge. You might want to increase the number of iterations, check the scale of the features or consider increasing regularisation. Duality gap: 8.522e+01, tolerance: 3.880e-02\n",
      "  model = cd_fast.enet_coordinate_descent(\n",
      "D:\\IntelliJ\\ml-stock-sent\\.venv\\Lib\\site-packages\\sklearn\\linear_model\\_coordinate_descent.py:695: ConvergenceWarning: Objective did not converge. You might want to increase the number of iterations, check the scale of the features or consider increasing regularisation. Duality gap: 1.173e+02, tolerance: 3.880e-02\n",
      "  model = cd_fast.enet_coordinate_descent(\n",
      "D:\\IntelliJ\\ml-stock-sent\\.venv\\Lib\\site-packages\\sklearn\\linear_model\\_coordinate_descent.py:695: ConvergenceWarning: Objective did not converge. You might want to increase the number of iterations, check the scale of the features or consider increasing regularisation. Duality gap: 1.026e+02, tolerance: 3.880e-02\n",
      "  model = cd_fast.enet_coordinate_descent(\n",
      "D:\\IntelliJ\\ml-stock-sent\\.venv\\Lib\\site-packages\\sklearn\\linear_model\\_coordinate_descent.py:695: ConvergenceWarning: Objective did not converge. You might want to increase the number of iterations, check the scale of the features or consider increasing regularisation. Duality gap: 1.260e+02, tolerance: 3.880e-02\n",
      "  model = cd_fast.enet_coordinate_descent(\n",
      "D:\\IntelliJ\\ml-stock-sent\\.venv\\Lib\\site-packages\\sklearn\\linear_model\\_coordinate_descent.py:695: ConvergenceWarning: Objective did not converge. You might want to increase the number of iterations, check the scale of the features or consider increasing regularisation. Duality gap: 1.206e+02, tolerance: 3.880e-02\n",
      "  model = cd_fast.enet_coordinate_descent(\n",
      "D:\\IntelliJ\\ml-stock-sent\\.venv\\Lib\\site-packages\\sklearn\\linear_model\\_coordinate_descent.py:695: ConvergenceWarning: Objective did not converge. You might want to increase the number of iterations, check the scale of the features or consider increasing regularisation. Duality gap: 3.526e+01, tolerance: 3.880e-02\n",
      "  model = cd_fast.enet_coordinate_descent(\n",
      "D:\\IntelliJ\\ml-stock-sent\\.venv\\Lib\\site-packages\\sklearn\\linear_model\\_coordinate_descent.py:695: ConvergenceWarning: Objective did not converge. You might want to increase the number of iterations, check the scale of the features or consider increasing regularisation. Duality gap: 8.143e+01, tolerance: 3.880e-02\n",
      "  model = cd_fast.enet_coordinate_descent(\n",
      "D:\\IntelliJ\\ml-stock-sent\\.venv\\Lib\\site-packages\\sklearn\\linear_model\\_coordinate_descent.py:695: ConvergenceWarning: Objective did not converge. You might want to increase the number of iterations, check the scale of the features or consider increasing regularisation. Duality gap: 1.272e+02, tolerance: 3.880e-02\n",
      "  model = cd_fast.enet_coordinate_descent(\n",
      "D:\\IntelliJ\\ml-stock-sent\\.venv\\Lib\\site-packages\\sklearn\\linear_model\\_coordinate_descent.py:695: ConvergenceWarning: Objective did not converge. You might want to increase the number of iterations, check the scale of the features or consider increasing regularisation. Duality gap: 1.293e+02, tolerance: 3.880e-02\n",
      "  model = cd_fast.enet_coordinate_descent(\n",
      "D:\\IntelliJ\\ml-stock-sent\\.venv\\Lib\\site-packages\\sklearn\\linear_model\\_coordinate_descent.py:695: ConvergenceWarning: Objective did not converge. You might want to increase the number of iterations, check the scale of the features or consider increasing regularisation. Duality gap: 1.235e+02, tolerance: 3.880e-02\n",
      "  model = cd_fast.enet_coordinate_descent(\n",
      "D:\\IntelliJ\\ml-stock-sent\\.venv\\Lib\\site-packages\\sklearn\\linear_model\\_coordinate_descent.py:695: ConvergenceWarning: Objective did not converge. You might want to increase the number of iterations, check the scale of the features or consider increasing regularisation. Duality gap: 3.311e+01, tolerance: 3.880e-02\n",
      "  model = cd_fast.enet_coordinate_descent(\n",
      "D:\\IntelliJ\\ml-stock-sent\\.venv\\Lib\\site-packages\\sklearn\\linear_model\\_coordinate_descent.py:695: ConvergenceWarning: Objective did not converge. You might want to increase the number of iterations, check the scale of the features or consider increasing regularisation. Duality gap: 2.756e+01, tolerance: 3.880e-02\n",
      "  model = cd_fast.enet_coordinate_descent(\n",
      "D:\\IntelliJ\\ml-stock-sent\\.venv\\Lib\\site-packages\\sklearn\\linear_model\\_coordinate_descent.py:695: ConvergenceWarning: Objective did not converge. You might want to increase the number of iterations, check the scale of the features or consider increasing regularisation. Duality gap: 1.132e+02, tolerance: 3.880e-02\n",
      "  model = cd_fast.enet_coordinate_descent(\n",
      "D:\\IntelliJ\\ml-stock-sent\\.venv\\Lib\\site-packages\\sklearn\\linear_model\\_coordinate_descent.py:695: ConvergenceWarning: Objective did not converge. You might want to increase the number of iterations, check the scale of the features or consider increasing regularisation. Duality gap: 9.976e+01, tolerance: 3.880e-02\n",
      "  model = cd_fast.enet_coordinate_descent(\n",
      "D:\\IntelliJ\\ml-stock-sent\\.venv\\Lib\\site-packages\\sklearn\\linear_model\\_coordinate_descent.py:695: ConvergenceWarning: Objective did not converge. You might want to increase the number of iterations, check the scale of the features or consider increasing regularisation. Duality gap: 1.121e+02, tolerance: 3.880e-02\n",
      "  model = cd_fast.enet_coordinate_descent(\n",
      "D:\\IntelliJ\\ml-stock-sent\\.venv\\Lib\\site-packages\\sklearn\\linear_model\\_coordinate_descent.py:695: ConvergenceWarning: Objective did not converge. You might want to increase the number of iterations, check the scale of the features or consider increasing regularisation. Duality gap: 2.283e+02, tolerance: 7.740e-02\n",
      "  model = cd_fast.enet_coordinate_descent(\n",
      "D:\\IntelliJ\\ml-stock-sent\\.venv\\Lib\\site-packages\\sklearn\\linear_model\\_coordinate_descent.py:695: ConvergenceWarning: Objective did not converge. You might want to increase the number of iterations, check the scale of the features or consider increasing regularisation. Duality gap: 2.239e+02, tolerance: 7.740e-02\n",
      "  model = cd_fast.enet_coordinate_descent(\n",
      "D:\\IntelliJ\\ml-stock-sent\\.venv\\Lib\\site-packages\\sklearn\\linear_model\\_coordinate_descent.py:695: ConvergenceWarning: Objective did not converge. You might want to increase the number of iterations, check the scale of the features or consider increasing regularisation. Duality gap: 1.027e+02, tolerance: 7.740e-02\n",
      "  model = cd_fast.enet_coordinate_descent(\n",
      "D:\\IntelliJ\\ml-stock-sent\\.venv\\Lib\\site-packages\\sklearn\\linear_model\\_coordinate_descent.py:695: ConvergenceWarning: Objective did not converge. You might want to increase the number of iterations, check the scale of the features or consider increasing regularisation. Duality gap: 2.878e+01, tolerance: 7.740e-02\n",
      "  model = cd_fast.enet_coordinate_descent(\n",
      "D:\\IntelliJ\\ml-stock-sent\\.venv\\Lib\\site-packages\\sklearn\\linear_model\\_coordinate_descent.py:695: ConvergenceWarning: Objective did not converge. You might want to increase the number of iterations, check the scale of the features or consider increasing regularisation. Duality gap: 1.836e+02, tolerance: 7.740e-02\n",
      "  model = cd_fast.enet_coordinate_descent(\n",
      "D:\\IntelliJ\\ml-stock-sent\\.venv\\Lib\\site-packages\\sklearn\\linear_model\\_coordinate_descent.py:695: ConvergenceWarning: Objective did not converge. You might want to increase the number of iterations, check the scale of the features or consider increasing regularisation. Duality gap: 2.778e+02, tolerance: 7.740e-02\n",
      "  model = cd_fast.enet_coordinate_descent(\n",
      "D:\\IntelliJ\\ml-stock-sent\\.venv\\Lib\\site-packages\\sklearn\\linear_model\\_coordinate_descent.py:695: ConvergenceWarning: Objective did not converge. You might want to increase the number of iterations, check the scale of the features or consider increasing regularisation. Duality gap: 1.886e+01, tolerance: 7.740e-02\n",
      "  model = cd_fast.enet_coordinate_descent(\n",
      "D:\\IntelliJ\\ml-stock-sent\\.venv\\Lib\\site-packages\\sklearn\\linear_model\\_coordinate_descent.py:695: ConvergenceWarning: Objective did not converge. You might want to increase the number of iterations, check the scale of the features or consider increasing regularisation. Duality gap: 1.095e+02, tolerance: 7.740e-02\n",
      "  model = cd_fast.enet_coordinate_descent(\n",
      "D:\\IntelliJ\\ml-stock-sent\\.venv\\Lib\\site-packages\\sklearn\\linear_model\\_coordinate_descent.py:695: ConvergenceWarning: Objective did not converge. You might want to increase the number of iterations, check the scale of the features or consider increasing regularisation. Duality gap: 1.777e+02, tolerance: 7.740e-02\n",
      "  model = cd_fast.enet_coordinate_descent(\n",
      "D:\\IntelliJ\\ml-stock-sent\\.venv\\Lib\\site-packages\\sklearn\\linear_model\\_coordinate_descent.py:695: ConvergenceWarning: Objective did not converge. You might want to increase the number of iterations, check the scale of the features or consider increasing regularisation. Duality gap: 2.297e+02, tolerance: 7.740e-02\n",
      "  model = cd_fast.enet_coordinate_descent(\n",
      "D:\\IntelliJ\\ml-stock-sent\\.venv\\Lib\\site-packages\\sklearn\\linear_model\\_coordinate_descent.py:695: ConvergenceWarning: Objective did not converge. You might want to increase the number of iterations, check the scale of the features or consider increasing regularisation. Duality gap: 2.044e+01, tolerance: 7.740e-02\n",
      "  model = cd_fast.enet_coordinate_descent(\n",
      "D:\\IntelliJ\\ml-stock-sent\\.venv\\Lib\\site-packages\\sklearn\\linear_model\\_coordinate_descent.py:695: ConvergenceWarning: Objective did not converge. You might want to increase the number of iterations, check the scale of the features or consider increasing regularisation. Duality gap: 1.754e+02, tolerance: 7.740e-02\n",
      "  model = cd_fast.enet_coordinate_descent(\n",
      "D:\\IntelliJ\\ml-stock-sent\\.venv\\Lib\\site-packages\\sklearn\\linear_model\\_coordinate_descent.py:695: ConvergenceWarning: Objective did not converge. You might want to increase the number of iterations, check the scale of the features or consider increasing regularisation. Duality gap: 2.028e+02, tolerance: 7.740e-02\n",
      "  model = cd_fast.enet_coordinate_descent(\n",
      "D:\\IntelliJ\\ml-stock-sent\\.venv\\Lib\\site-packages\\sklearn\\linear_model\\_coordinate_descent.py:695: ConvergenceWarning: Objective did not converge. You might want to increase the number of iterations, check the scale of the features or consider increasing regularisation. Duality gap: 2.793e+02, tolerance: 7.740e-02\n",
      "  model = cd_fast.enet_coordinate_descent(\n",
      "D:\\IntelliJ\\ml-stock-sent\\.venv\\Lib\\site-packages\\sklearn\\linear_model\\_coordinate_descent.py:695: ConvergenceWarning: Objective did not converge. You might want to increase the number of iterations, check the scale of the features or consider increasing regularisation. Duality gap: 1.788e+02, tolerance: 7.740e-02\n",
      "  model = cd_fast.enet_coordinate_descent(\n",
      "D:\\IntelliJ\\ml-stock-sent\\.venv\\Lib\\site-packages\\sklearn\\linear_model\\_coordinate_descent.py:695: ConvergenceWarning: Objective did not converge. You might want to increase the number of iterations, check the scale of the features or consider increasing regularisation. Duality gap: 2.119e+02, tolerance: 7.740e-02\n",
      "  model = cd_fast.enet_coordinate_descent(\n",
      "D:\\IntelliJ\\ml-stock-sent\\.venv\\Lib\\site-packages\\sklearn\\linear_model\\_coordinate_descent.py:695: ConvergenceWarning: Objective did not converge. You might want to increase the number of iterations, check the scale of the features or consider increasing regularisation. Duality gap: 1.649e+02, tolerance: 7.740e-02\n",
      "  model = cd_fast.enet_coordinate_descent(\n",
      "D:\\IntelliJ\\ml-stock-sent\\.venv\\Lib\\site-packages\\sklearn\\linear_model\\_coordinate_descent.py:695: ConvergenceWarning: Objective did not converge. You might want to increase the number of iterations, check the scale of the features or consider increasing regularisation. Duality gap: 2.412e+02, tolerance: 7.740e-02\n",
      "  model = cd_fast.enet_coordinate_descent(\n",
      "D:\\IntelliJ\\ml-stock-sent\\.venv\\Lib\\site-packages\\sklearn\\linear_model\\_coordinate_descent.py:695: ConvergenceWarning: Objective did not converge. You might want to increase the number of iterations, check the scale of the features or consider increasing regularisation. Duality gap: 1.199e+02, tolerance: 7.740e-02\n",
      "  model = cd_fast.enet_coordinate_descent(\n",
      "D:\\IntelliJ\\ml-stock-sent\\.venv\\Lib\\site-packages\\sklearn\\linear_model\\_coordinate_descent.py:695: ConvergenceWarning: Objective did not converge. You might want to increase the number of iterations, check the scale of the features or consider increasing regularisation. Duality gap: 1.378e+00, tolerance: 7.740e-02\n",
      "  model = cd_fast.enet_coordinate_descent(\n",
      "D:\\IntelliJ\\ml-stock-sent\\.venv\\Lib\\site-packages\\sklearn\\linear_model\\_coordinate_descent.py:695: ConvergenceWarning: Objective did not converge. You might want to increase the number of iterations, check the scale of the features or consider increasing regularisation. Duality gap: 5.957e+00, tolerance: 7.740e-02\n",
      "  model = cd_fast.enet_coordinate_descent(\n",
      "D:\\IntelliJ\\ml-stock-sent\\.venv\\Lib\\site-packages\\sklearn\\linear_model\\_coordinate_descent.py:695: ConvergenceWarning: Objective did not converge. You might want to increase the number of iterations, check the scale of the features or consider increasing regularisation. Duality gap: 1.832e+02, tolerance: 7.740e-02\n",
      "  model = cd_fast.enet_coordinate_descent(\n",
      "D:\\IntelliJ\\ml-stock-sent\\.venv\\Lib\\site-packages\\sklearn\\linear_model\\_coordinate_descent.py:695: ConvergenceWarning: Objective did not converge. You might want to increase the number of iterations, check the scale of the features or consider increasing regularisation. Duality gap: 1.815e+02, tolerance: 7.740e-02\n",
      "  model = cd_fast.enet_coordinate_descent(\n",
      "D:\\IntelliJ\\ml-stock-sent\\.venv\\Lib\\site-packages\\sklearn\\linear_model\\_coordinate_descent.py:695: ConvergenceWarning: Objective did not converge. You might want to increase the number of iterations, check the scale of the features or consider increasing regularisation. Duality gap: 1.765e+02, tolerance: 7.740e-02\n",
      "  model = cd_fast.enet_coordinate_descent(\n",
      "D:\\IntelliJ\\ml-stock-sent\\.venv\\Lib\\site-packages\\sklearn\\linear_model\\_coordinate_descent.py:695: ConvergenceWarning: Objective did not converge. You might want to increase the number of iterations, check the scale of the features or consider increasing regularisation. Duality gap: 3.642e-01, tolerance: 7.740e-02\n",
      "  model = cd_fast.enet_coordinate_descent(\n",
      "D:\\IntelliJ\\ml-stock-sent\\.venv\\Lib\\site-packages\\sklearn\\linear_model\\_coordinate_descent.py:695: ConvergenceWarning: Objective did not converge. You might want to increase the number of iterations, check the scale of the features or consider increasing regularisation. Duality gap: 2.379e+02, tolerance: 7.740e-02\n",
      "  model = cd_fast.enet_coordinate_descent(\n",
      "D:\\IntelliJ\\ml-stock-sent\\.venv\\Lib\\site-packages\\sklearn\\linear_model\\_coordinate_descent.py:695: ConvergenceWarning: Objective did not converge. You might want to increase the number of iterations, check the scale of the features or consider increasing regularisation. Duality gap: 2.652e+02, tolerance: 7.740e-02\n",
      "  model = cd_fast.enet_coordinate_descent(\n",
      "D:\\IntelliJ\\ml-stock-sent\\.venv\\Lib\\site-packages\\sklearn\\linear_model\\_coordinate_descent.py:695: ConvergenceWarning: Objective did not converge. You might want to increase the number of iterations, check the scale of the features or consider increasing regularisation. Duality gap: 1.905e+02, tolerance: 7.740e-02\n",
      "  model = cd_fast.enet_coordinate_descent(\n",
      "D:\\IntelliJ\\ml-stock-sent\\.venv\\Lib\\site-packages\\sklearn\\linear_model\\_coordinate_descent.py:695: ConvergenceWarning: Objective did not converge. You might want to increase the number of iterations, check the scale of the features or consider increasing regularisation. Duality gap: 5.569e+01, tolerance: 7.740e-02\n",
      "  model = cd_fast.enet_coordinate_descent(\n",
      "D:\\IntelliJ\\ml-stock-sent\\.venv\\Lib\\site-packages\\sklearn\\linear_model\\_coordinate_descent.py:695: ConvergenceWarning: Objective did not converge. You might want to increase the number of iterations, check the scale of the features or consider increasing regularisation. Duality gap: 3.165e+02, tolerance: 1.160e-01\n",
      "  model = cd_fast.enet_coordinate_descent(\n",
      "D:\\IntelliJ\\ml-stock-sent\\.venv\\Lib\\site-packages\\sklearn\\linear_model\\_coordinate_descent.py:695: ConvergenceWarning: Objective did not converge. You might want to increase the number of iterations, check the scale of the features or consider increasing regularisation. Duality gap: 3.053e+02, tolerance: 1.160e-01\n",
      "  model = cd_fast.enet_coordinate_descent(\n",
      "D:\\IntelliJ\\ml-stock-sent\\.venv\\Lib\\site-packages\\sklearn\\linear_model\\_coordinate_descent.py:695: ConvergenceWarning: Objective did not converge. You might want to increase the number of iterations, check the scale of the features or consider increasing regularisation. Duality gap: 2.182e+02, tolerance: 1.160e-01\n",
      "  model = cd_fast.enet_coordinate_descent(\n",
      "D:\\IntelliJ\\ml-stock-sent\\.venv\\Lib\\site-packages\\sklearn\\linear_model\\_coordinate_descent.py:695: ConvergenceWarning: Objective did not converge. You might want to increase the number of iterations, check the scale of the features or consider increasing regularisation. Duality gap: 4.096e+01, tolerance: 1.160e-01\n",
      "  model = cd_fast.enet_coordinate_descent(\n",
      "D:\\IntelliJ\\ml-stock-sent\\.venv\\Lib\\site-packages\\sklearn\\linear_model\\_coordinate_descent.py:695: ConvergenceWarning: Objective did not converge. You might want to increase the number of iterations, check the scale of the features or consider increasing regularisation. Duality gap: 3.020e+02, tolerance: 1.160e-01\n",
      "  model = cd_fast.enet_coordinate_descent(\n",
      "D:\\IntelliJ\\ml-stock-sent\\.venv\\Lib\\site-packages\\sklearn\\linear_model\\_coordinate_descent.py:695: ConvergenceWarning: Objective did not converge. You might want to increase the number of iterations, check the scale of the features or consider increasing regularisation. Duality gap: 4.193e+02, tolerance: 1.160e-01\n",
      "  model = cd_fast.enet_coordinate_descent(\n",
      "D:\\IntelliJ\\ml-stock-sent\\.venv\\Lib\\site-packages\\sklearn\\linear_model\\_coordinate_descent.py:695: ConvergenceWarning: Objective did not converge. You might want to increase the number of iterations, check the scale of the features or consider increasing regularisation. Duality gap: 1.903e+02, tolerance: 1.160e-01\n",
      "  model = cd_fast.enet_coordinate_descent(\n",
      "D:\\IntelliJ\\ml-stock-sent\\.venv\\Lib\\site-packages\\sklearn\\linear_model\\_coordinate_descent.py:695: ConvergenceWarning: Objective did not converge. You might want to increase the number of iterations, check the scale of the features or consider increasing regularisation. Duality gap: 2.753e+02, tolerance: 1.160e-01\n",
      "  model = cd_fast.enet_coordinate_descent(\n",
      "D:\\IntelliJ\\ml-stock-sent\\.venv\\Lib\\site-packages\\sklearn\\linear_model\\_coordinate_descent.py:695: ConvergenceWarning: Objective did not converge. You might want to increase the number of iterations, check the scale of the features or consider increasing regularisation. Duality gap: 2.962e+02, tolerance: 1.160e-01\n",
      "  model = cd_fast.enet_coordinate_descent(\n",
      "D:\\IntelliJ\\ml-stock-sent\\.venv\\Lib\\site-packages\\sklearn\\linear_model\\_coordinate_descent.py:695: ConvergenceWarning: Objective did not converge. You might want to increase the number of iterations, check the scale of the features or consider increasing regularisation. Duality gap: 3.720e+02, tolerance: 1.160e-01\n",
      "  model = cd_fast.enet_coordinate_descent(\n",
      "D:\\IntelliJ\\ml-stock-sent\\.venv\\Lib\\site-packages\\sklearn\\linear_model\\_coordinate_descent.py:695: ConvergenceWarning: Objective did not converge. You might want to increase the number of iterations, check the scale of the features or consider increasing regularisation. Duality gap: 3.476e+01, tolerance: 1.160e-01\n",
      "  model = cd_fast.enet_coordinate_descent(\n",
      "D:\\IntelliJ\\ml-stock-sent\\.venv\\Lib\\site-packages\\sklearn\\linear_model\\_coordinate_descent.py:695: ConvergenceWarning: Objective did not converge. You might want to increase the number of iterations, check the scale of the features or consider increasing regularisation. Duality gap: 2.980e+02, tolerance: 1.160e-01\n",
      "  model = cd_fast.enet_coordinate_descent(\n",
      "D:\\IntelliJ\\ml-stock-sent\\.venv\\Lib\\site-packages\\sklearn\\linear_model\\_coordinate_descent.py:695: ConvergenceWarning: Objective did not converge. You might want to increase the number of iterations, check the scale of the features or consider increasing regularisation. Duality gap: 2.885e+02, tolerance: 1.160e-01\n",
      "  model = cd_fast.enet_coordinate_descent(\n",
      "D:\\IntelliJ\\ml-stock-sent\\.venv\\Lib\\site-packages\\sklearn\\linear_model\\_coordinate_descent.py:695: ConvergenceWarning: Objective did not converge. You might want to increase the number of iterations, check the scale of the features or consider increasing regularisation. Duality gap: 4.269e+02, tolerance: 1.160e-01\n",
      "  model = cd_fast.enet_coordinate_descent(\n",
      "D:\\IntelliJ\\ml-stock-sent\\.venv\\Lib\\site-packages\\sklearn\\linear_model\\_coordinate_descent.py:695: ConvergenceWarning: Objective did not converge. You might want to increase the number of iterations, check the scale of the features or consider increasing regularisation. Duality gap: 2.983e+02, tolerance: 1.160e-01\n",
      "  model = cd_fast.enet_coordinate_descent(\n",
      "D:\\IntelliJ\\ml-stock-sent\\.venv\\Lib\\site-packages\\sklearn\\linear_model\\_coordinate_descent.py:695: ConvergenceWarning: Objective did not converge. You might want to increase the number of iterations, check the scale of the features or consider increasing regularisation. Duality gap: 3.540e+02, tolerance: 1.160e-01\n",
      "  model = cd_fast.enet_coordinate_descent(\n",
      "D:\\IntelliJ\\ml-stock-sent\\.venv\\Lib\\site-packages\\sklearn\\linear_model\\_coordinate_descent.py:695: ConvergenceWarning: Objective did not converge. You might want to increase the number of iterations, check the scale of the features or consider increasing regularisation. Duality gap: 1.890e+02, tolerance: 1.160e-01\n",
      "  model = cd_fast.enet_coordinate_descent(\n",
      "D:\\IntelliJ\\ml-stock-sent\\.venv\\Lib\\site-packages\\sklearn\\linear_model\\_coordinate_descent.py:695: ConvergenceWarning: Objective did not converge. You might want to increase the number of iterations, check the scale of the features or consider increasing regularisation. Duality gap: 3.744e+02, tolerance: 1.160e-01\n",
      "  model = cd_fast.enet_coordinate_descent(\n",
      "D:\\IntelliJ\\ml-stock-sent\\.venv\\Lib\\site-packages\\sklearn\\linear_model\\_coordinate_descent.py:695: ConvergenceWarning: Objective did not converge. You might want to increase the number of iterations, check the scale of the features or consider increasing regularisation. Duality gap: 1.509e+02, tolerance: 1.160e-01\n",
      "  model = cd_fast.enet_coordinate_descent(\n",
      "D:\\IntelliJ\\ml-stock-sent\\.venv\\Lib\\site-packages\\sklearn\\linear_model\\_coordinate_descent.py:695: ConvergenceWarning: Objective did not converge. You might want to increase the number of iterations, check the scale of the features or consider increasing regularisation. Duality gap: 7.874e+00, tolerance: 1.160e-01\n",
      "  model = cd_fast.enet_coordinate_descent(\n",
      "D:\\IntelliJ\\ml-stock-sent\\.venv\\Lib\\site-packages\\sklearn\\linear_model\\_coordinate_descent.py:695: ConvergenceWarning: Objective did not converge. You might want to increase the number of iterations, check the scale of the features or consider increasing regularisation. Duality gap: 1.375e+01, tolerance: 1.160e-01\n",
      "  model = cd_fast.enet_coordinate_descent(\n",
      "D:\\IntelliJ\\ml-stock-sent\\.venv\\Lib\\site-packages\\sklearn\\linear_model\\_coordinate_descent.py:695: ConvergenceWarning: Objective did not converge. You might want to increase the number of iterations, check the scale of the features or consider increasing regularisation. Duality gap: 4.029e+01, tolerance: 1.160e-01\n",
      "  model = cd_fast.enet_coordinate_descent(\n",
      "D:\\IntelliJ\\ml-stock-sent\\.venv\\Lib\\site-packages\\sklearn\\linear_model\\_coordinate_descent.py:695: ConvergenceWarning: Objective did not converge. You might want to increase the number of iterations, check the scale of the features or consider increasing regularisation. Duality gap: 3.065e+02, tolerance: 1.160e-01\n",
      "  model = cd_fast.enet_coordinate_descent(\n",
      "D:\\IntelliJ\\ml-stock-sent\\.venv\\Lib\\site-packages\\sklearn\\linear_model\\_coordinate_descent.py:695: ConvergenceWarning: Objective did not converge. You might want to increase the number of iterations, check the scale of the features or consider increasing regularisation. Duality gap: 2.537e+02, tolerance: 1.160e-01\n",
      "  model = cd_fast.enet_coordinate_descent(\n",
      "D:\\IntelliJ\\ml-stock-sent\\.venv\\Lib\\site-packages\\sklearn\\linear_model\\_coordinate_descent.py:695: ConvergenceWarning: Objective did not converge. You might want to increase the number of iterations, check the scale of the features or consider increasing regularisation. Duality gap: 1.786e+02, tolerance: 1.160e-01\n",
      "  model = cd_fast.enet_coordinate_descent(\n",
      "D:\\IntelliJ\\ml-stock-sent\\.venv\\Lib\\site-packages\\sklearn\\linear_model\\_coordinate_descent.py:695: ConvergenceWarning: Objective did not converge. You might want to increase the number of iterations, check the scale of the features or consider increasing regularisation. Duality gap: 2.421e+00, tolerance: 1.160e-01\n",
      "  model = cd_fast.enet_coordinate_descent(\n",
      "D:\\IntelliJ\\ml-stock-sent\\.venv\\Lib\\site-packages\\sklearn\\linear_model\\_coordinate_descent.py:695: ConvergenceWarning: Objective did not converge. You might want to increase the number of iterations, check the scale of the features or consider increasing regularisation. Duality gap: 3.603e+02, tolerance: 1.160e-01\n",
      "  model = cd_fast.enet_coordinate_descent(\n",
      "D:\\IntelliJ\\ml-stock-sent\\.venv\\Lib\\site-packages\\sklearn\\linear_model\\_coordinate_descent.py:695: ConvergenceWarning: Objective did not converge. You might want to increase the number of iterations, check the scale of the features or consider increasing regularisation. Duality gap: 3.984e+02, tolerance: 1.160e-01\n",
      "  model = cd_fast.enet_coordinate_descent(\n",
      "D:\\IntelliJ\\ml-stock-sent\\.venv\\Lib\\site-packages\\sklearn\\linear_model\\_coordinate_descent.py:695: ConvergenceWarning: Objective did not converge. You might want to increase the number of iterations, check the scale of the features or consider increasing regularisation. Duality gap: 3.245e+02, tolerance: 1.160e-01\n",
      "  model = cd_fast.enet_coordinate_descent(\n",
      "D:\\IntelliJ\\ml-stock-sent\\.venv\\Lib\\site-packages\\sklearn\\linear_model\\_coordinate_descent.py:695: ConvergenceWarning: Objective did not converge. You might want to increase the number of iterations, check the scale of the features or consider increasing regularisation. Duality gap: 1.263e+02, tolerance: 1.160e-01\n",
      "  model = cd_fast.enet_coordinate_descent(\n",
      "[I 2025-08-20 16:30:05,506] Trial 8 finished with value: 0.009611619597037931 and parameters: {'alpha': 1.5673095467235405e-05, 'l1_ratio': 0.9488855372533332, 'selection': 'cyclic'}. Best is trial 3 with value: 0.009395742036985018.\n",
      "D:\\IntelliJ\\ml-stock-sent\\.venv\\Lib\\site-packages\\sklearn\\linear_model\\_coordinate_descent.py:695: ConvergenceWarning: Objective did not converge. You might want to increase the number of iterations, check the scale of the features or consider increasing regularisation. Duality gap: 1.462e+02, tolerance: 3.880e-02\n",
      "  model = cd_fast.enet_coordinate_descent(\n",
      "D:\\IntelliJ\\ml-stock-sent\\.venv\\Lib\\site-packages\\sklearn\\linear_model\\_coordinate_descent.py:695: ConvergenceWarning: Objective did not converge. You might want to increase the number of iterations, check the scale of the features or consider increasing regularisation. Duality gap: 1.302e+02, tolerance: 3.880e-02\n",
      "  model = cd_fast.enet_coordinate_descent(\n",
      "D:\\IntelliJ\\ml-stock-sent\\.venv\\Lib\\site-packages\\sklearn\\linear_model\\_coordinate_descent.py:695: ConvergenceWarning: Objective did not converge. You might want to increase the number of iterations, check the scale of the features or consider increasing regularisation. Duality gap: 9.126e+01, tolerance: 3.880e-02\n",
      "  model = cd_fast.enet_coordinate_descent(\n",
      "D:\\IntelliJ\\ml-stock-sent\\.venv\\Lib\\site-packages\\sklearn\\linear_model\\_coordinate_descent.py:695: ConvergenceWarning: Objective did not converge. You might want to increase the number of iterations, check the scale of the features or consider increasing regularisation. Duality gap: 5.224e+01, tolerance: 3.880e-02\n",
      "  model = cd_fast.enet_coordinate_descent(\n",
      "D:\\IntelliJ\\ml-stock-sent\\.venv\\Lib\\site-packages\\sklearn\\linear_model\\_coordinate_descent.py:695: ConvergenceWarning: Objective did not converge. You might want to increase the number of iterations, check the scale of the features or consider increasing regularisation. Duality gap: 1.413e+02, tolerance: 3.880e-02\n",
      "  model = cd_fast.enet_coordinate_descent(\n",
      "D:\\IntelliJ\\ml-stock-sent\\.venv\\Lib\\site-packages\\sklearn\\linear_model\\_coordinate_descent.py:695: ConvergenceWarning: Objective did not converge. You might want to increase the number of iterations, check the scale of the features or consider increasing regularisation. Duality gap: 1.547e+02, tolerance: 3.880e-02\n",
      "  model = cd_fast.enet_coordinate_descent(\n",
      "D:\\IntelliJ\\ml-stock-sent\\.venv\\Lib\\site-packages\\sklearn\\linear_model\\_coordinate_descent.py:695: ConvergenceWarning: Objective did not converge. You might want to increase the number of iterations, check the scale of the features or consider increasing regularisation. Duality gap: 5.829e+01, tolerance: 3.880e-02\n",
      "  model = cd_fast.enet_coordinate_descent(\n",
      "D:\\IntelliJ\\ml-stock-sent\\.venv\\Lib\\site-packages\\sklearn\\linear_model\\_coordinate_descent.py:695: ConvergenceWarning: Objective did not converge. You might want to increase the number of iterations, check the scale of the features or consider increasing regularisation. Duality gap: 4.083e+01, tolerance: 3.880e-02\n",
      "  model = cd_fast.enet_coordinate_descent(\n",
      "D:\\IntelliJ\\ml-stock-sent\\.venv\\Lib\\site-packages\\sklearn\\linear_model\\_coordinate_descent.py:695: ConvergenceWarning: Objective did not converge. You might want to increase the number of iterations, check the scale of the features or consider increasing regularisation. Duality gap: 1.182e+02, tolerance: 3.880e-02\n",
      "  model = cd_fast.enet_coordinate_descent(\n",
      "D:\\IntelliJ\\ml-stock-sent\\.venv\\Lib\\site-packages\\sklearn\\linear_model\\_coordinate_descent.py:695: ConvergenceWarning: Objective did not converge. You might want to increase the number of iterations, check the scale of the features or consider increasing regularisation. Duality gap: 1.390e+02, tolerance: 3.880e-02\n",
      "  model = cd_fast.enet_coordinate_descent(\n",
      "D:\\IntelliJ\\ml-stock-sent\\.venv\\Lib\\site-packages\\sklearn\\linear_model\\_coordinate_descent.py:695: ConvergenceWarning: Objective did not converge. You might want to increase the number of iterations, check the scale of the features or consider increasing regularisation. Duality gap: 6.759e+01, tolerance: 3.880e-02\n",
      "  model = cd_fast.enet_coordinate_descent(\n",
      "D:\\IntelliJ\\ml-stock-sent\\.venv\\Lib\\site-packages\\sklearn\\linear_model\\_coordinate_descent.py:695: ConvergenceWarning: Objective did not converge. You might want to increase the number of iterations, check the scale of the features or consider increasing regularisation. Duality gap: 6.132e+01, tolerance: 3.880e-02\n",
      "  model = cd_fast.enet_coordinate_descent(\n",
      "D:\\IntelliJ\\ml-stock-sent\\.venv\\Lib\\site-packages\\sklearn\\linear_model\\_coordinate_descent.py:695: ConvergenceWarning: Objective did not converge. You might want to increase the number of iterations, check the scale of the features or consider increasing regularisation. Duality gap: 1.475e+02, tolerance: 3.880e-02\n",
      "  model = cd_fast.enet_coordinate_descent(\n",
      "D:\\IntelliJ\\ml-stock-sent\\.venv\\Lib\\site-packages\\sklearn\\linear_model\\_coordinate_descent.py:695: ConvergenceWarning: Objective did not converge. You might want to increase the number of iterations, check the scale of the features or consider increasing regularisation. Duality gap: 1.536e+02, tolerance: 3.880e-02\n",
      "  model = cd_fast.enet_coordinate_descent(\n",
      "D:\\IntelliJ\\ml-stock-sent\\.venv\\Lib\\site-packages\\sklearn\\linear_model\\_coordinate_descent.py:695: ConvergenceWarning: Objective did not converge. You might want to increase the number of iterations, check the scale of the features or consider increasing regularisation. Duality gap: 3.137e+01, tolerance: 3.880e-02\n",
      "  model = cd_fast.enet_coordinate_descent(\n",
      "D:\\IntelliJ\\ml-stock-sent\\.venv\\Lib\\site-packages\\sklearn\\linear_model\\_coordinate_descent.py:695: ConvergenceWarning: Objective did not converge. You might want to increase the number of iterations, check the scale of the features or consider increasing regularisation. Duality gap: 1.046e+02, tolerance: 3.880e-02\n",
      "  model = cd_fast.enet_coordinate_descent(\n",
      "D:\\IntelliJ\\ml-stock-sent\\.venv\\Lib\\site-packages\\sklearn\\linear_model\\_coordinate_descent.py:695: ConvergenceWarning: Objective did not converge. You might want to increase the number of iterations, check the scale of the features or consider increasing regularisation. Duality gap: 1.360e+02, tolerance: 3.880e-02\n",
      "  model = cd_fast.enet_coordinate_descent(\n",
      "D:\\IntelliJ\\ml-stock-sent\\.venv\\Lib\\site-packages\\sklearn\\linear_model\\_coordinate_descent.py:695: ConvergenceWarning: Objective did not converge. You might want to increase the number of iterations, check the scale of the features or consider increasing regularisation. Duality gap: 1.130e+02, tolerance: 3.880e-02\n",
      "  model = cd_fast.enet_coordinate_descent(\n",
      "D:\\IntelliJ\\ml-stock-sent\\.venv\\Lib\\site-packages\\sklearn\\linear_model\\_coordinate_descent.py:695: ConvergenceWarning: Objective did not converge. You might want to increase the number of iterations, check the scale of the features or consider increasing regularisation. Duality gap: 1.378e+02, tolerance: 3.880e-02\n",
      "  model = cd_fast.enet_coordinate_descent(\n",
      "D:\\IntelliJ\\ml-stock-sent\\.venv\\Lib\\site-packages\\sklearn\\linear_model\\_coordinate_descent.py:695: ConvergenceWarning: Objective did not converge. You might want to increase the number of iterations, check the scale of the features or consider increasing regularisation. Duality gap: 1.341e+02, tolerance: 3.880e-02\n",
      "  model = cd_fast.enet_coordinate_descent(\n",
      "D:\\IntelliJ\\ml-stock-sent\\.venv\\Lib\\site-packages\\sklearn\\linear_model\\_coordinate_descent.py:695: ConvergenceWarning: Objective did not converge. You might want to increase the number of iterations, check the scale of the features or consider increasing regularisation. Duality gap: 5.681e+01, tolerance: 3.880e-02\n",
      "  model = cd_fast.enet_coordinate_descent(\n",
      "D:\\IntelliJ\\ml-stock-sent\\.venv\\Lib\\site-packages\\sklearn\\linear_model\\_coordinate_descent.py:695: ConvergenceWarning: Objective did not converge. You might want to increase the number of iterations, check the scale of the features or consider increasing regularisation. Duality gap: 1.006e+02, tolerance: 3.880e-02\n",
      "  model = cd_fast.enet_coordinate_descent(\n",
      "D:\\IntelliJ\\ml-stock-sent\\.venv\\Lib\\site-packages\\sklearn\\linear_model\\_coordinate_descent.py:695: ConvergenceWarning: Objective did not converge. You might want to increase the number of iterations, check the scale of the features or consider increasing regularisation. Duality gap: 1.387e+02, tolerance: 3.880e-02\n",
      "  model = cd_fast.enet_coordinate_descent(\n",
      "D:\\IntelliJ\\ml-stock-sent\\.venv\\Lib\\site-packages\\sklearn\\linear_model\\_coordinate_descent.py:695: ConvergenceWarning: Objective did not converge. You might want to increase the number of iterations, check the scale of the features or consider increasing regularisation. Duality gap: 1.407e+02, tolerance: 3.880e-02\n",
      "  model = cd_fast.enet_coordinate_descent(\n",
      "D:\\IntelliJ\\ml-stock-sent\\.venv\\Lib\\site-packages\\sklearn\\linear_model\\_coordinate_descent.py:695: ConvergenceWarning: Objective did not converge. You might want to increase the number of iterations, check the scale of the features or consider increasing regularisation. Duality gap: 1.356e+02, tolerance: 3.880e-02\n",
      "  model = cd_fast.enet_coordinate_descent(\n",
      "D:\\IntelliJ\\ml-stock-sent\\.venv\\Lib\\site-packages\\sklearn\\linear_model\\_coordinate_descent.py:695: ConvergenceWarning: Objective did not converge. You might want to increase the number of iterations, check the scale of the features or consider increasing regularisation. Duality gap: 4.651e+01, tolerance: 3.880e-02\n",
      "  model = cd_fast.enet_coordinate_descent(\n",
      "D:\\IntelliJ\\ml-stock-sent\\.venv\\Lib\\site-packages\\sklearn\\linear_model\\_coordinate_descent.py:695: ConvergenceWarning: Objective did not converge. You might want to increase the number of iterations, check the scale of the features or consider increasing regularisation. Duality gap: 2.546e+01, tolerance: 3.880e-02\n",
      "  model = cd_fast.enet_coordinate_descent(\n",
      "D:\\IntelliJ\\ml-stock-sent\\.venv\\Lib\\site-packages\\sklearn\\linear_model\\_coordinate_descent.py:695: ConvergenceWarning: Objective did not converge. You might want to increase the number of iterations, check the scale of the features or consider increasing regularisation. Duality gap: 1.248e+02, tolerance: 3.880e-02\n",
      "  model = cd_fast.enet_coordinate_descent(\n",
      "D:\\IntelliJ\\ml-stock-sent\\.venv\\Lib\\site-packages\\sklearn\\linear_model\\_coordinate_descent.py:695: ConvergenceWarning: Objective did not converge. You might want to increase the number of iterations, check the scale of the features or consider increasing regularisation. Duality gap: 1.124e+02, tolerance: 3.880e-02\n",
      "  model = cd_fast.enet_coordinate_descent(\n",
      "D:\\IntelliJ\\ml-stock-sent\\.venv\\Lib\\site-packages\\sklearn\\linear_model\\_coordinate_descent.py:695: ConvergenceWarning: Objective did not converge. You might want to increase the number of iterations, check the scale of the features or consider increasing regularisation. Duality gap: 1.282e+02, tolerance: 3.880e-02\n",
      "  model = cd_fast.enet_coordinate_descent(\n",
      "D:\\IntelliJ\\ml-stock-sent\\.venv\\Lib\\site-packages\\sklearn\\linear_model\\_coordinate_descent.py:695: ConvergenceWarning: Objective did not converge. You might want to increase the number of iterations, check the scale of the features or consider increasing regularisation. Duality gap: 2.574e+02, tolerance: 7.740e-02\n",
      "  model = cd_fast.enet_coordinate_descent(\n",
      "D:\\IntelliJ\\ml-stock-sent\\.venv\\Lib\\site-packages\\sklearn\\linear_model\\_coordinate_descent.py:695: ConvergenceWarning: Objective did not converge. You might want to increase the number of iterations, check the scale of the features or consider increasing regularisation. Duality gap: 2.530e+02, tolerance: 7.740e-02\n",
      "  model = cd_fast.enet_coordinate_descent(\n",
      "D:\\IntelliJ\\ml-stock-sent\\.venv\\Lib\\site-packages\\sklearn\\linear_model\\_coordinate_descent.py:695: ConvergenceWarning: Objective did not converge. You might want to increase the number of iterations, check the scale of the features or consider increasing regularisation. Duality gap: 1.306e+02, tolerance: 7.740e-02\n",
      "  model = cd_fast.enet_coordinate_descent(\n",
      "D:\\IntelliJ\\ml-stock-sent\\.venv\\Lib\\site-packages\\sklearn\\linear_model\\_coordinate_descent.py:695: ConvergenceWarning: Objective did not converge. You might want to increase the number of iterations, check the scale of the features or consider increasing regularisation. Duality gap: 3.457e+01, tolerance: 7.740e-02\n",
      "  model = cd_fast.enet_coordinate_descent(\n",
      "D:\\IntelliJ\\ml-stock-sent\\.venv\\Lib\\site-packages\\sklearn\\linear_model\\_coordinate_descent.py:695: ConvergenceWarning: Objective did not converge. You might want to increase the number of iterations, check the scale of the features or consider increasing regularisation. Duality gap: 2.217e+02, tolerance: 7.740e-02\n",
      "  model = cd_fast.enet_coordinate_descent(\n",
      "D:\\IntelliJ\\ml-stock-sent\\.venv\\Lib\\site-packages\\sklearn\\linear_model\\_coordinate_descent.py:695: ConvergenceWarning: Objective did not converge. You might want to increase the number of iterations, check the scale of the features or consider increasing regularisation. Duality gap: 2.984e+02, tolerance: 7.740e-02\n",
      "  model = cd_fast.enet_coordinate_descent(\n",
      "D:\\IntelliJ\\ml-stock-sent\\.venv\\Lib\\site-packages\\sklearn\\linear_model\\_coordinate_descent.py:695: ConvergenceWarning: Objective did not converge. You might want to increase the number of iterations, check the scale of the features or consider increasing regularisation. Duality gap: 2.478e+01, tolerance: 7.740e-02\n",
      "  model = cd_fast.enet_coordinate_descent(\n",
      "D:\\IntelliJ\\ml-stock-sent\\.venv\\Lib\\site-packages\\sklearn\\linear_model\\_coordinate_descent.py:695: ConvergenceWarning: Objective did not converge. You might want to increase the number of iterations, check the scale of the features or consider increasing regularisation. Duality gap: 1.356e+02, tolerance: 7.740e-02\n",
      "  model = cd_fast.enet_coordinate_descent(\n",
      "D:\\IntelliJ\\ml-stock-sent\\.venv\\Lib\\site-packages\\sklearn\\linear_model\\_coordinate_descent.py:695: ConvergenceWarning: Objective did not converge. You might want to increase the number of iterations, check the scale of the features or consider increasing regularisation. Duality gap: 2.104e+02, tolerance: 7.740e-02\n",
      "  model = cd_fast.enet_coordinate_descent(\n",
      "D:\\IntelliJ\\ml-stock-sent\\.venv\\Lib\\site-packages\\sklearn\\linear_model\\_coordinate_descent.py:695: ConvergenceWarning: Objective did not converge. You might want to increase the number of iterations, check the scale of the features or consider increasing regularisation. Duality gap: 2.584e+02, tolerance: 7.740e-02\n",
      "  model = cd_fast.enet_coordinate_descent(\n",
      "D:\\IntelliJ\\ml-stock-sent\\.venv\\Lib\\site-packages\\sklearn\\linear_model\\_coordinate_descent.py:695: ConvergenceWarning: Objective did not converge. You might want to increase the number of iterations, check the scale of the features or consider increasing regularisation. Duality gap: 2.742e+01, tolerance: 7.740e-02\n",
      "  model = cd_fast.enet_coordinate_descent(\n",
      "D:\\IntelliJ\\ml-stock-sent\\.venv\\Lib\\site-packages\\sklearn\\linear_model\\_coordinate_descent.py:695: ConvergenceWarning: Objective did not converge. You might want to increase the number of iterations, check the scale of the features or consider increasing regularisation. Duality gap: 2.097e+02, tolerance: 7.740e-02\n",
      "  model = cd_fast.enet_coordinate_descent(\n",
      "D:\\IntelliJ\\ml-stock-sent\\.venv\\Lib\\site-packages\\sklearn\\linear_model\\_coordinate_descent.py:695: ConvergenceWarning: Objective did not converge. You might want to increase the number of iterations, check the scale of the features or consider increasing regularisation. Duality gap: 2.365e+02, tolerance: 7.740e-02\n",
      "  model = cd_fast.enet_coordinate_descent(\n",
      "D:\\IntelliJ\\ml-stock-sent\\.venv\\Lib\\site-packages\\sklearn\\linear_model\\_coordinate_descent.py:695: ConvergenceWarning: Objective did not converge. You might want to increase the number of iterations, check the scale of the features or consider increasing regularisation. Duality gap: 2.997e+02, tolerance: 7.740e-02\n",
      "  model = cd_fast.enet_coordinate_descent(\n",
      "D:\\IntelliJ\\ml-stock-sent\\.venv\\Lib\\site-packages\\sklearn\\linear_model\\_coordinate_descent.py:695: ConvergenceWarning: Objective did not converge. You might want to increase the number of iterations, check the scale of the features or consider increasing regularisation. Duality gap: 2.106e+02, tolerance: 7.740e-02\n",
      "  model = cd_fast.enet_coordinate_descent(\n",
      "D:\\IntelliJ\\ml-stock-sent\\.venv\\Lib\\site-packages\\sklearn\\linear_model\\_coordinate_descent.py:695: ConvergenceWarning: Objective did not converge. You might want to increase the number of iterations, check the scale of the features or consider increasing regularisation. Duality gap: 2.356e+02, tolerance: 7.740e-02\n",
      "  model = cd_fast.enet_coordinate_descent(\n",
      "D:\\IntelliJ\\ml-stock-sent\\.venv\\Lib\\site-packages\\sklearn\\linear_model\\_coordinate_descent.py:695: ConvergenceWarning: Objective did not converge. You might want to increase the number of iterations, check the scale of the features or consider increasing regularisation. Duality gap: 2.033e+02, tolerance: 7.740e-02\n",
      "  model = cd_fast.enet_coordinate_descent(\n",
      "D:\\IntelliJ\\ml-stock-sent\\.venv\\Lib\\site-packages\\sklearn\\linear_model\\_coordinate_descent.py:695: ConvergenceWarning: Objective did not converge. You might want to increase the number of iterations, check the scale of the features or consider increasing regularisation. Duality gap: 2.660e+02, tolerance: 7.740e-02\n",
      "  model = cd_fast.enet_coordinate_descent(\n",
      "D:\\IntelliJ\\ml-stock-sent\\.venv\\Lib\\site-packages\\sklearn\\linear_model\\_coordinate_descent.py:695: ConvergenceWarning: Objective did not converge. You might want to increase the number of iterations, check the scale of the features or consider increasing regularisation. Duality gap: 1.560e+02, tolerance: 7.740e-02\n",
      "  model = cd_fast.enet_coordinate_descent(\n",
      "D:\\IntelliJ\\ml-stock-sent\\.venv\\Lib\\site-packages\\sklearn\\linear_model\\_coordinate_descent.py:695: ConvergenceWarning: Objective did not converge. You might want to increase the number of iterations, check the scale of the features or consider increasing regularisation. Duality gap: 1.545e+00, tolerance: 7.740e-02\n",
      "  model = cd_fast.enet_coordinate_descent(\n",
      "D:\\IntelliJ\\ml-stock-sent\\.venv\\Lib\\site-packages\\sklearn\\linear_model\\_coordinate_descent.py:695: ConvergenceWarning: Objective did not converge. You might want to increase the number of iterations, check the scale of the features or consider increasing regularisation. Duality gap: 1.064e+01, tolerance: 7.740e-02\n",
      "  model = cd_fast.enet_coordinate_descent(\n",
      "D:\\IntelliJ\\ml-stock-sent\\.venv\\Lib\\site-packages\\sklearn\\linear_model\\_coordinate_descent.py:695: ConvergenceWarning: Objective did not converge. You might want to increase the number of iterations, check the scale of the features or consider increasing regularisation. Duality gap: 2.175e+02, tolerance: 7.740e-02\n",
      "  model = cd_fast.enet_coordinate_descent(\n",
      "D:\\IntelliJ\\ml-stock-sent\\.venv\\Lib\\site-packages\\sklearn\\linear_model\\_coordinate_descent.py:695: ConvergenceWarning: Objective did not converge. You might want to increase the number of iterations, check the scale of the features or consider increasing regularisation. Duality gap: 2.164e+02, tolerance: 7.740e-02\n",
      "  model = cd_fast.enet_coordinate_descent(\n",
      "D:\\IntelliJ\\ml-stock-sent\\.venv\\Lib\\site-packages\\sklearn\\linear_model\\_coordinate_descent.py:695: ConvergenceWarning: Objective did not converge. You might want to increase the number of iterations, check the scale of the features or consider increasing regularisation. Duality gap: 2.056e+02, tolerance: 7.740e-02\n",
      "  model = cd_fast.enet_coordinate_descent(\n",
      "D:\\IntelliJ\\ml-stock-sent\\.venv\\Lib\\site-packages\\sklearn\\linear_model\\_coordinate_descent.py:695: ConvergenceWarning: Objective did not converge. You might want to increase the number of iterations, check the scale of the features or consider increasing regularisation. Duality gap: 9.497e-01, tolerance: 7.740e-02\n",
      "  model = cd_fast.enet_coordinate_descent(\n",
      "D:\\IntelliJ\\ml-stock-sent\\.venv\\Lib\\site-packages\\sklearn\\linear_model\\_coordinate_descent.py:695: ConvergenceWarning: Objective did not converge. You might want to increase the number of iterations, check the scale of the features or consider increasing regularisation. Duality gap: 2.640e+02, tolerance: 7.740e-02\n",
      "  model = cd_fast.enet_coordinate_descent(\n",
      "D:\\IntelliJ\\ml-stock-sent\\.venv\\Lib\\site-packages\\sklearn\\linear_model\\_coordinate_descent.py:695: ConvergenceWarning: Objective did not converge. You might want to increase the number of iterations, check the scale of the features or consider increasing regularisation. Duality gap: 2.883e+02, tolerance: 7.740e-02\n",
      "  model = cd_fast.enet_coordinate_descent(\n",
      "D:\\IntelliJ\\ml-stock-sent\\.venv\\Lib\\site-packages\\sklearn\\linear_model\\_coordinate_descent.py:695: ConvergenceWarning: Objective did not converge. You might want to increase the number of iterations, check the scale of the features or consider increasing regularisation. Duality gap: 2.190e+02, tolerance: 7.740e-02\n",
      "  model = cd_fast.enet_coordinate_descent(\n",
      "D:\\IntelliJ\\ml-stock-sent\\.venv\\Lib\\site-packages\\sklearn\\linear_model\\_coordinate_descent.py:695: ConvergenceWarning: Objective did not converge. You might want to increase the number of iterations, check the scale of the features or consider increasing regularisation. Duality gap: 8.148e+01, tolerance: 7.740e-02\n",
      "  model = cd_fast.enet_coordinate_descent(\n",
      "D:\\IntelliJ\\ml-stock-sent\\.venv\\Lib\\site-packages\\sklearn\\linear_model\\_coordinate_descent.py:695: ConvergenceWarning: Objective did not converge. You might want to increase the number of iterations, check the scale of the features or consider increasing regularisation. Duality gap: 3.652e+02, tolerance: 1.160e-01\n",
      "  model = cd_fast.enet_coordinate_descent(\n",
      "D:\\IntelliJ\\ml-stock-sent\\.venv\\Lib\\site-packages\\sklearn\\linear_model\\_coordinate_descent.py:695: ConvergenceWarning: Objective did not converge. You might want to increase the number of iterations, check the scale of the features or consider increasing regularisation. Duality gap: 3.537e+02, tolerance: 1.160e-01\n",
      "  model = cd_fast.enet_coordinate_descent(\n",
      "D:\\IntelliJ\\ml-stock-sent\\.venv\\Lib\\site-packages\\sklearn\\linear_model\\_coordinate_descent.py:695: ConvergenceWarning: Objective did not converge. You might want to increase the number of iterations, check the scale of the features or consider increasing regularisation. Duality gap: 2.678e+02, tolerance: 1.160e-01\n",
      "  model = cd_fast.enet_coordinate_descent(\n",
      "D:\\IntelliJ\\ml-stock-sent\\.venv\\Lib\\site-packages\\sklearn\\linear_model\\_coordinate_descent.py:695: ConvergenceWarning: Objective did not converge. You might want to increase the number of iterations, check the scale of the features or consider increasing regularisation. Duality gap: 5.371e+01, tolerance: 1.160e-01\n",
      "  model = cd_fast.enet_coordinate_descent(\n",
      "D:\\IntelliJ\\ml-stock-sent\\.venv\\Lib\\site-packages\\sklearn\\linear_model\\_coordinate_descent.py:695: ConvergenceWarning: Objective did not converge. You might want to increase the number of iterations, check the scale of the features or consider increasing regularisation. Duality gap: 3.554e+02, tolerance: 1.160e-01\n",
      "  model = cd_fast.enet_coordinate_descent(\n",
      "D:\\IntelliJ\\ml-stock-sent\\.venv\\Lib\\site-packages\\sklearn\\linear_model\\_coordinate_descent.py:695: ConvergenceWarning: Objective did not converge. You might want to increase the number of iterations, check the scale of the features or consider increasing regularisation. Duality gap: 4.508e+02, tolerance: 1.160e-01\n",
      "  model = cd_fast.enet_coordinate_descent(\n",
      "D:\\IntelliJ\\ml-stock-sent\\.venv\\Lib\\site-packages\\sklearn\\linear_model\\_coordinate_descent.py:695: ConvergenceWarning: Objective did not converge. You might want to increase the number of iterations, check the scale of the features or consider increasing regularisation. Duality gap: 2.404e+02, tolerance: 1.160e-01\n",
      "  model = cd_fast.enet_coordinate_descent(\n",
      "D:\\IntelliJ\\ml-stock-sent\\.venv\\Lib\\site-packages\\sklearn\\linear_model\\_coordinate_descent.py:695: ConvergenceWarning: Objective did not converge. You might want to increase the number of iterations, check the scale of the features or consider increasing regularisation. Duality gap: 3.210e+02, tolerance: 1.160e-01\n",
      "  model = cd_fast.enet_coordinate_descent(\n",
      "D:\\IntelliJ\\ml-stock-sent\\.venv\\Lib\\site-packages\\sklearn\\linear_model\\_coordinate_descent.py:695: ConvergenceWarning: Objective did not converge. You might want to increase the number of iterations, check the scale of the features or consider increasing regularisation. Duality gap: 3.447e+02, tolerance: 1.160e-01\n",
      "  model = cd_fast.enet_coordinate_descent(\n",
      "D:\\IntelliJ\\ml-stock-sent\\.venv\\Lib\\site-packages\\sklearn\\linear_model\\_coordinate_descent.py:695: ConvergenceWarning: Objective did not converge. You might want to increase the number of iterations, check the scale of the features or consider increasing regularisation. Duality gap: 4.121e+02, tolerance: 1.160e-01\n",
      "  model = cd_fast.enet_coordinate_descent(\n",
      "D:\\IntelliJ\\ml-stock-sent\\.venv\\Lib\\site-packages\\sklearn\\linear_model\\_coordinate_descent.py:695: ConvergenceWarning: Objective did not converge. You might want to increase the number of iterations, check the scale of the features or consider increasing regularisation. Duality gap: 4.881e+01, tolerance: 1.160e-01\n",
      "  model = cd_fast.enet_coordinate_descent(\n",
      "D:\\IntelliJ\\ml-stock-sent\\.venv\\Lib\\site-packages\\sklearn\\linear_model\\_coordinate_descent.py:695: ConvergenceWarning: Objective did not converge. You might want to increase the number of iterations, check the scale of the features or consider increasing regularisation. Duality gap: 3.507e+02, tolerance: 1.160e-01\n",
      "  model = cd_fast.enet_coordinate_descent(\n",
      "D:\\IntelliJ\\ml-stock-sent\\.venv\\Lib\\site-packages\\sklearn\\linear_model\\_coordinate_descent.py:695: ConvergenceWarning: Objective did not converge. You might want to increase the number of iterations, check the scale of the features or consider increasing regularisation. Duality gap: 3.409e+02, tolerance: 1.160e-01\n",
      "  model = cd_fast.enet_coordinate_descent(\n",
      "D:\\IntelliJ\\ml-stock-sent\\.venv\\Lib\\site-packages\\sklearn\\linear_model\\_coordinate_descent.py:695: ConvergenceWarning: Objective did not converge. You might want to increase the number of iterations, check the scale of the features or consider increasing regularisation. Duality gap: 4.575e+02, tolerance: 1.160e-01\n",
      "  model = cd_fast.enet_coordinate_descent(\n",
      "D:\\IntelliJ\\ml-stock-sent\\.venv\\Lib\\site-packages\\sklearn\\linear_model\\_coordinate_descent.py:695: ConvergenceWarning: Objective did not converge. You might want to increase the number of iterations, check the scale of the features or consider increasing regularisation. Duality gap: 3.463e+02, tolerance: 1.160e-01\n",
      "  model = cd_fast.enet_coordinate_descent(\n",
      "D:\\IntelliJ\\ml-stock-sent\\.venv\\Lib\\site-packages\\sklearn\\linear_model\\_coordinate_descent.py:695: ConvergenceWarning: Objective did not converge. You might want to increase the number of iterations, check the scale of the features or consider increasing regularisation. Duality gap: 3.883e+02, tolerance: 1.160e-01\n",
      "  model = cd_fast.enet_coordinate_descent(\n",
      "D:\\IntelliJ\\ml-stock-sent\\.venv\\Lib\\site-packages\\sklearn\\linear_model\\_coordinate_descent.py:695: ConvergenceWarning: Objective did not converge. You might want to increase the number of iterations, check the scale of the features or consider increasing regularisation. Duality gap: 2.495e+02, tolerance: 1.160e-01\n",
      "  model = cd_fast.enet_coordinate_descent(\n",
      "D:\\IntelliJ\\ml-stock-sent\\.venv\\Lib\\site-packages\\sklearn\\linear_model\\_coordinate_descent.py:695: ConvergenceWarning: Objective did not converge. You might want to increase the number of iterations, check the scale of the features or consider increasing regularisation. Duality gap: 4.234e+02, tolerance: 1.160e-01\n",
      "  model = cd_fast.enet_coordinate_descent(\n",
      "D:\\IntelliJ\\ml-stock-sent\\.venv\\Lib\\site-packages\\sklearn\\linear_model\\_coordinate_descent.py:695: ConvergenceWarning: Objective did not converge. You might want to increase the number of iterations, check the scale of the features or consider increasing regularisation. Duality gap: 2.155e+02, tolerance: 1.160e-01\n",
      "  model = cd_fast.enet_coordinate_descent(\n",
      "D:\\IntelliJ\\ml-stock-sent\\.venv\\Lib\\site-packages\\sklearn\\linear_model\\_coordinate_descent.py:695: ConvergenceWarning: Objective did not converge. You might want to increase the number of iterations, check the scale of the features or consider increasing regularisation. Duality gap: 4.716e+00, tolerance: 1.160e-01\n",
      "  model = cd_fast.enet_coordinate_descent(\n",
      "D:\\IntelliJ\\ml-stock-sent\\.venv\\Lib\\site-packages\\sklearn\\linear_model\\_coordinate_descent.py:695: ConvergenceWarning: Objective did not converge. You might want to increase the number of iterations, check the scale of the features or consider increasing regularisation. Duality gap: 2.680e+01, tolerance: 1.160e-01\n",
      "  model = cd_fast.enet_coordinate_descent(\n",
      "D:\\IntelliJ\\ml-stock-sent\\.venv\\Lib\\site-packages\\sklearn\\linear_model\\_coordinate_descent.py:695: ConvergenceWarning: Objective did not converge. You might want to increase the number of iterations, check the scale of the features or consider increasing regularisation. Duality gap: 6.035e+01, tolerance: 1.160e-01\n",
      "  model = cd_fast.enet_coordinate_descent(\n",
      "D:\\IntelliJ\\ml-stock-sent\\.venv\\Lib\\site-packages\\sklearn\\linear_model\\_coordinate_descent.py:695: ConvergenceWarning: Objective did not converge. You might want to increase the number of iterations, check the scale of the features or consider increasing regularisation. Duality gap: 3.557e+02, tolerance: 1.160e-01\n",
      "  model = cd_fast.enet_coordinate_descent(\n",
      "D:\\IntelliJ\\ml-stock-sent\\.venv\\Lib\\site-packages\\sklearn\\linear_model\\_coordinate_descent.py:695: ConvergenceWarning: Objective did not converge. You might want to increase the number of iterations, check the scale of the features or consider increasing regularisation. Duality gap: 3.086e+02, tolerance: 1.160e-01\n",
      "  model = cd_fast.enet_coordinate_descent(\n",
      "D:\\IntelliJ\\ml-stock-sent\\.venv\\Lib\\site-packages\\sklearn\\linear_model\\_coordinate_descent.py:695: ConvergenceWarning: Objective did not converge. You might want to increase the number of iterations, check the scale of the features or consider increasing regularisation. Duality gap: 2.426e+02, tolerance: 1.160e-01\n",
      "  model = cd_fast.enet_coordinate_descent(\n",
      "D:\\IntelliJ\\ml-stock-sent\\.venv\\Lib\\site-packages\\sklearn\\linear_model\\_coordinate_descent.py:695: ConvergenceWarning: Objective did not converge. You might want to increase the number of iterations, check the scale of the features or consider increasing regularisation. Duality gap: 5.615e+00, tolerance: 1.160e-01\n",
      "  model = cd_fast.enet_coordinate_descent(\n",
      "D:\\IntelliJ\\ml-stock-sent\\.venv\\Lib\\site-packages\\sklearn\\linear_model\\_coordinate_descent.py:695: ConvergenceWarning: Objective did not converge. You might want to increase the number of iterations, check the scale of the features or consider increasing regularisation. Duality gap: 4.003e+02, tolerance: 1.160e-01\n",
      "  model = cd_fast.enet_coordinate_descent(\n",
      "D:\\IntelliJ\\ml-stock-sent\\.venv\\Lib\\site-packages\\sklearn\\linear_model\\_coordinate_descent.py:695: ConvergenceWarning: Objective did not converge. You might want to increase the number of iterations, check the scale of the features or consider increasing regularisation. Duality gap: 4.347e+02, tolerance: 1.160e-01\n",
      "  model = cd_fast.enet_coordinate_descent(\n",
      "D:\\IntelliJ\\ml-stock-sent\\.venv\\Lib\\site-packages\\sklearn\\linear_model\\_coordinate_descent.py:695: ConvergenceWarning: Objective did not converge. You might want to increase the number of iterations, check the scale of the features or consider increasing regularisation. Duality gap: 3.706e+02, tolerance: 1.160e-01\n",
      "  model = cd_fast.enet_coordinate_descent(\n",
      "D:\\IntelliJ\\ml-stock-sent\\.venv\\Lib\\site-packages\\sklearn\\linear_model\\_coordinate_descent.py:695: ConvergenceWarning: Objective did not converge. You might want to increase the number of iterations, check the scale of the features or consider increasing regularisation. Duality gap: 1.738e+02, tolerance: 1.160e-01\n",
      "  model = cd_fast.enet_coordinate_descent(\n",
      "[I 2025-08-20 16:30:06,513] Trial 9 finished with value: 0.009599763337256338 and parameters: {'alpha': 8.200518402245828e-05, 'l1_ratio': 0.09767211400638387, 'selection': 'cyclic'}. Best is trial 3 with value: 0.009395742036985018.\n",
      "[I 2025-08-20 16:30:06,697] Trial 10 finished with value: 0.00926577704969614 and parameters: {'alpha': 0.006845570267272932, 'l1_ratio': 0.36372767362163116, 'selection': 'random'}. Best is trial 10 with value: 0.00926577704969614.\n",
      "[I 2025-08-20 16:30:06,883] Trial 11 finished with value: 0.009262650063943608 and parameters: {'alpha': 0.007209809176013973, 'l1_ratio': 0.3460352745829427, 'selection': 'random'}. Best is trial 11 with value: 0.009262650063943608.\n",
      "[I 2025-08-20 16:30:07,016] Trial 12 finished with value: 0.009217148596870197 and parameters: {'alpha': 0.009100816964510363, 'l1_ratio': 0.3924528921026325, 'selection': 'random'}. Best is trial 12 with value: 0.009217148596870197.\n",
      "[I 2025-08-20 16:30:07,145] Trial 13 finished with value: 0.009206682734056853 and parameters: {'alpha': 0.009842176801526326, 'l1_ratio': 0.39000535689406096, 'selection': 'random'}. Best is trial 13 with value: 0.009206682734056853.\n",
      "D:\\IntelliJ\\ml-stock-sent\\.venv\\Lib\\site-packages\\sklearn\\linear_model\\_coordinate_descent.py:695: ConvergenceWarning: Objective did not converge. You might want to increase the number of iterations, check the scale of the features or consider increasing regularisation. Duality gap: 8.612e-02, tolerance: 3.880e-02\n",
      "  model = cd_fast.enet_coordinate_descent(\n",
      "D:\\IntelliJ\\ml-stock-sent\\.venv\\Lib\\site-packages\\sklearn\\linear_model\\_coordinate_descent.py:695: ConvergenceWarning: Objective did not converge. You might want to increase the number of iterations, check the scale of the features or consider increasing regularisation. Duality gap: 7.232e-02, tolerance: 3.880e-02\n",
      "  model = cd_fast.enet_coordinate_descent(\n",
      "D:\\IntelliJ\\ml-stock-sent\\.venv\\Lib\\site-packages\\sklearn\\linear_model\\_coordinate_descent.py:695: ConvergenceWarning: Objective did not converge. You might want to increase the number of iterations, check the scale of the features or consider increasing regularisation. Duality gap: 4.735e-01, tolerance: 3.880e-02\n",
      "  model = cd_fast.enet_coordinate_descent(\n",
      "D:\\IntelliJ\\ml-stock-sent\\.venv\\Lib\\site-packages\\sklearn\\linear_model\\_coordinate_descent.py:695: ConvergenceWarning: Objective did not converge. You might want to increase the number of iterations, check the scale of the features or consider increasing regularisation. Duality gap: 2.360e-01, tolerance: 3.880e-02\n",
      "  model = cd_fast.enet_coordinate_descent(\n",
      "D:\\IntelliJ\\ml-stock-sent\\.venv\\Lib\\site-packages\\sklearn\\linear_model\\_coordinate_descent.py:695: ConvergenceWarning: Objective did not converge. You might want to increase the number of iterations, check the scale of the features or consider increasing regularisation. Duality gap: 5.942e-02, tolerance: 3.880e-02\n",
      "  model = cd_fast.enet_coordinate_descent(\n",
      "D:\\IntelliJ\\ml-stock-sent\\.venv\\Lib\\site-packages\\sklearn\\linear_model\\_coordinate_descent.py:695: ConvergenceWarning: Objective did not converge. You might want to increase the number of iterations, check the scale of the features or consider increasing regularisation. Duality gap: 5.805e-02, tolerance: 3.880e-02\n",
      "  model = cd_fast.enet_coordinate_descent(\n",
      "D:\\IntelliJ\\ml-stock-sent\\.venv\\Lib\\site-packages\\sklearn\\linear_model\\_coordinate_descent.py:695: ConvergenceWarning: Objective did not converge. You might want to increase the number of iterations, check the scale of the features or consider increasing regularisation. Duality gap: 4.413e-02, tolerance: 3.880e-02\n",
      "  model = cd_fast.enet_coordinate_descent(\n",
      "D:\\IntelliJ\\ml-stock-sent\\.venv\\Lib\\site-packages\\sklearn\\linear_model\\_coordinate_descent.py:695: ConvergenceWarning: Objective did not converge. You might want to increase the number of iterations, check the scale of the features or consider increasing regularisation. Duality gap: 4.284e-01, tolerance: 7.740e-02\n",
      "  model = cd_fast.enet_coordinate_descent(\n",
      "D:\\IntelliJ\\ml-stock-sent\\.venv\\Lib\\site-packages\\sklearn\\linear_model\\_coordinate_descent.py:695: ConvergenceWarning: Objective did not converge. You might want to increase the number of iterations, check the scale of the features or consider increasing regularisation. Duality gap: 1.988e-01, tolerance: 7.740e-02\n",
      "  model = cd_fast.enet_coordinate_descent(\n",
      "D:\\IntelliJ\\ml-stock-sent\\.venv\\Lib\\site-packages\\sklearn\\linear_model\\_coordinate_descent.py:695: ConvergenceWarning: Objective did not converge. You might want to increase the number of iterations, check the scale of the features or consider increasing regularisation. Duality gap: 2.211e-01, tolerance: 7.740e-02\n",
      "  model = cd_fast.enet_coordinate_descent(\n",
      "D:\\IntelliJ\\ml-stock-sent\\.venv\\Lib\\site-packages\\sklearn\\linear_model\\_coordinate_descent.py:695: ConvergenceWarning: Objective did not converge. You might want to increase the number of iterations, check the scale of the features or consider increasing regularisation. Duality gap: 1.272e-01, tolerance: 7.740e-02\n",
      "  model = cd_fast.enet_coordinate_descent(\n",
      "D:\\IntelliJ\\ml-stock-sent\\.venv\\Lib\\site-packages\\sklearn\\linear_model\\_coordinate_descent.py:695: ConvergenceWarning: Objective did not converge. You might want to increase the number of iterations, check the scale of the features or consider increasing regularisation. Duality gap: 4.262e-01, tolerance: 1.160e-01\n",
      "  model = cd_fast.enet_coordinate_descent(\n",
      "D:\\IntelliJ\\ml-stock-sent\\.venv\\Lib\\site-packages\\sklearn\\linear_model\\_coordinate_descent.py:695: ConvergenceWarning: Objective did not converge. You might want to increase the number of iterations, check the scale of the features or consider increasing regularisation. Duality gap: 2.440e-01, tolerance: 1.160e-01\n",
      "  model = cd_fast.enet_coordinate_descent(\n",
      "D:\\IntelliJ\\ml-stock-sent\\.venv\\Lib\\site-packages\\sklearn\\linear_model\\_coordinate_descent.py:695: ConvergenceWarning: Objective did not converge. You might want to increase the number of iterations, check the scale of the features or consider increasing regularisation. Duality gap: 1.345e-01, tolerance: 1.160e-01\n",
      "  model = cd_fast.enet_coordinate_descent(\n",
      "D:\\IntelliJ\\ml-stock-sent\\.venv\\Lib\\site-packages\\sklearn\\linear_model\\_coordinate_descent.py:695: ConvergenceWarning: Objective did not converge. You might want to increase the number of iterations, check the scale of the features or consider increasing regularisation. Duality gap: 2.093e-01, tolerance: 1.160e-01\n",
      "  model = cd_fast.enet_coordinate_descent(\n",
      "[I 2025-08-20 16:30:07,626] Trial 14 finished with value: 0.00940804655307868 and parameters: {'alpha': 0.0020546793326754963, 'l1_ratio': 0.49670339719653334, 'selection': 'random'}. Best is trial 13 with value: 0.009206682734056853.\n",
      "D:\\IntelliJ\\ml-stock-sent\\.venv\\Lib\\site-packages\\sklearn\\linear_model\\_coordinate_descent.py:695: ConvergenceWarning: Objective did not converge. You might want to increase the number of iterations, check the scale of the features or consider increasing regularisation. Duality gap: 2.150e-01, tolerance: 3.880e-02\n",
      "  model = cd_fast.enet_coordinate_descent(\n",
      "D:\\IntelliJ\\ml-stock-sent\\.venv\\Lib\\site-packages\\sklearn\\linear_model\\_coordinate_descent.py:695: ConvergenceWarning: Objective did not converge. You might want to increase the number of iterations, check the scale of the features or consider increasing regularisation. Duality gap: 1.724e-01, tolerance: 3.880e-02\n",
      "  model = cd_fast.enet_coordinate_descent(\n",
      "D:\\IntelliJ\\ml-stock-sent\\.venv\\Lib\\site-packages\\sklearn\\linear_model\\_coordinate_descent.py:695: ConvergenceWarning: Objective did not converge. You might want to increase the number of iterations, check the scale of the features or consider increasing regularisation. Duality gap: 1.933e-01, tolerance: 7.740e-02\n",
      "  model = cd_fast.enet_coordinate_descent(\n",
      "D:\\IntelliJ\\ml-stock-sent\\.venv\\Lib\\site-packages\\sklearn\\linear_model\\_coordinate_descent.py:695: ConvergenceWarning: Objective did not converge. You might want to increase the number of iterations, check the scale of the features or consider increasing regularisation. Duality gap: 1.169e-01, tolerance: 7.740e-02\n",
      "  model = cd_fast.enet_coordinate_descent(\n",
      "D:\\IntelliJ\\ml-stock-sent\\.venv\\Lib\\site-packages\\sklearn\\linear_model\\_coordinate_descent.py:695: ConvergenceWarning: Objective did not converge. You might want to increase the number of iterations, check the scale of the features or consider increasing regularisation. Duality gap: 8.179e-02, tolerance: 7.740e-02\n",
      "  model = cd_fast.enet_coordinate_descent(\n",
      "D:\\IntelliJ\\ml-stock-sent\\.venv\\Lib\\site-packages\\sklearn\\linear_model\\_coordinate_descent.py:695: ConvergenceWarning: Objective did not converge. You might want to increase the number of iterations, check the scale of the features or consider increasing regularisation. Duality gap: 1.839e-01, tolerance: 1.160e-01\n",
      "  model = cd_fast.enet_coordinate_descent(\n",
      "[I 2025-08-20 16:30:08,117] Trial 15 finished with value: 0.00939833003620895 and parameters: {'alpha': 0.002281520170213832, 'l1_ratio': 0.47006847932799956, 'selection': 'random'}. Best is trial 13 with value: 0.009206682734056853.\n",
      "[I 2025-08-20 16:30:08,234] Trial 16 finished with value: 0.00918614889849593 and parameters: {'alpha': 0.007972986680814802, 'l1_ratio': 0.6343700377248649, 'selection': 'random'}. Best is trial 16 with value: 0.00918614889849593.\n",
      "[I 2025-08-20 16:30:08,458] Trial 17 finished with value: 0.009314079926261425 and parameters: {'alpha': 0.003446907185273602, 'l1_ratio': 0.6761051434807636, 'selection': 'random'}. Best is trial 16 with value: 0.00918614889849593.\n",
      "D:\\IntelliJ\\ml-stock-sent\\.venv\\Lib\\site-packages\\sklearn\\linear_model\\_coordinate_descent.py:695: ConvergenceWarning: Objective did not converge. You might want to increase the number of iterations, check the scale of the features or consider increasing regularisation. Duality gap: 1.793e+00, tolerance: 3.880e-02\n",
      "  model = cd_fast.enet_coordinate_descent(\n",
      "D:\\IntelliJ\\ml-stock-sent\\.venv\\Lib\\site-packages\\sklearn\\linear_model\\_coordinate_descent.py:695: ConvergenceWarning: Objective did not converge. You might want to increase the number of iterations, check the scale of the features or consider increasing regularisation. Duality gap: 5.709e-01, tolerance: 3.880e-02\n",
      "  model = cd_fast.enet_coordinate_descent(\n",
      "D:\\IntelliJ\\ml-stock-sent\\.venv\\Lib\\site-packages\\sklearn\\linear_model\\_coordinate_descent.py:695: ConvergenceWarning: Objective did not converge. You might want to increase the number of iterations, check the scale of the features or consider increasing regularisation. Duality gap: 1.128e+00, tolerance: 3.880e-02\n",
      "  model = cd_fast.enet_coordinate_descent(\n",
      "D:\\IntelliJ\\ml-stock-sent\\.venv\\Lib\\site-packages\\sklearn\\linear_model\\_coordinate_descent.py:695: ConvergenceWarning: Objective did not converge. You might want to increase the number of iterations, check the scale of the features or consider increasing regularisation. Duality gap: 5.221e+00, tolerance: 3.880e-02\n",
      "  model = cd_fast.enet_coordinate_descent(\n",
      "D:\\IntelliJ\\ml-stock-sent\\.venv\\Lib\\site-packages\\sklearn\\linear_model\\_coordinate_descent.py:695: ConvergenceWarning: Objective did not converge. You might want to increase the number of iterations, check the scale of the features or consider increasing regularisation. Duality gap: 2.860e-01, tolerance: 3.880e-02\n",
      "  model = cd_fast.enet_coordinate_descent(\n",
      "D:\\IntelliJ\\ml-stock-sent\\.venv\\Lib\\site-packages\\sklearn\\linear_model\\_coordinate_descent.py:695: ConvergenceWarning: Objective did not converge. You might want to increase the number of iterations, check the scale of the features or consider increasing regularisation. Duality gap: 5.641e-02, tolerance: 3.880e-02\n",
      "  model = cd_fast.enet_coordinate_descent(\n",
      "D:\\IntelliJ\\ml-stock-sent\\.venv\\Lib\\site-packages\\sklearn\\linear_model\\_coordinate_descent.py:695: ConvergenceWarning: Objective did not converge. You might want to increase the number of iterations, check the scale of the features or consider increasing regularisation. Duality gap: 8.283e-01, tolerance: 3.880e-02\n",
      "  model = cd_fast.enet_coordinate_descent(\n",
      "D:\\IntelliJ\\ml-stock-sent\\.venv\\Lib\\site-packages\\sklearn\\linear_model\\_coordinate_descent.py:695: ConvergenceWarning: Objective did not converge. You might want to increase the number of iterations, check the scale of the features or consider increasing regularisation. Duality gap: 5.443e+00, tolerance: 3.880e-02\n",
      "  model = cd_fast.enet_coordinate_descent(\n",
      "D:\\IntelliJ\\ml-stock-sent\\.venv\\Lib\\site-packages\\sklearn\\linear_model\\_coordinate_descent.py:695: ConvergenceWarning: Objective did not converge. You might want to increase the number of iterations, check the scale of the features or consider increasing regularisation. Duality gap: 7.835e-01, tolerance: 3.880e-02\n",
      "  model = cd_fast.enet_coordinate_descent(\n",
      "D:\\IntelliJ\\ml-stock-sent\\.venv\\Lib\\site-packages\\sklearn\\linear_model\\_coordinate_descent.py:695: ConvergenceWarning: Objective did not converge. You might want to increase the number of iterations, check the scale of the features or consider increasing regularisation. Duality gap: 1.297e+00, tolerance: 3.880e-02\n",
      "  model = cd_fast.enet_coordinate_descent(\n",
      "D:\\IntelliJ\\ml-stock-sent\\.venv\\Lib\\site-packages\\sklearn\\linear_model\\_coordinate_descent.py:695: ConvergenceWarning: Objective did not converge. You might want to increase the number of iterations, check the scale of the features or consider increasing regularisation. Duality gap: 4.106e-01, tolerance: 3.880e-02\n",
      "  model = cd_fast.enet_coordinate_descent(\n",
      "D:\\IntelliJ\\ml-stock-sent\\.venv\\Lib\\site-packages\\sklearn\\linear_model\\_coordinate_descent.py:695: ConvergenceWarning: Objective did not converge. You might want to increase the number of iterations, check the scale of the features or consider increasing regularisation. Duality gap: 4.531e-01, tolerance: 3.880e-02\n",
      "  model = cd_fast.enet_coordinate_descent(\n",
      "D:\\IntelliJ\\ml-stock-sent\\.venv\\Lib\\site-packages\\sklearn\\linear_model\\_coordinate_descent.py:695: ConvergenceWarning: Objective did not converge. You might want to increase the number of iterations, check the scale of the features or consider increasing regularisation. Duality gap: 4.829e-02, tolerance: 3.880e-02\n",
      "  model = cd_fast.enet_coordinate_descent(\n",
      "D:\\IntelliJ\\ml-stock-sent\\.venv\\Lib\\site-packages\\sklearn\\linear_model\\_coordinate_descent.py:695: ConvergenceWarning: Objective did not converge. You might want to increase the number of iterations, check the scale of the features or consider increasing regularisation. Duality gap: 1.457e+00, tolerance: 3.880e-02\n",
      "  model = cd_fast.enet_coordinate_descent(\n",
      "D:\\IntelliJ\\ml-stock-sent\\.venv\\Lib\\site-packages\\sklearn\\linear_model\\_coordinate_descent.py:695: ConvergenceWarning: Objective did not converge. You might want to increase the number of iterations, check the scale of the features or consider increasing regularisation. Duality gap: 7.906e-01, tolerance: 3.880e-02\n",
      "  model = cd_fast.enet_coordinate_descent(\n",
      "D:\\IntelliJ\\ml-stock-sent\\.venv\\Lib\\site-packages\\sklearn\\linear_model\\_coordinate_descent.py:695: ConvergenceWarning: Objective did not converge. You might want to increase the number of iterations, check the scale of the features or consider increasing regularisation. Duality gap: 2.891e-01, tolerance: 7.740e-02\n",
      "  model = cd_fast.enet_coordinate_descent(\n",
      "D:\\IntelliJ\\ml-stock-sent\\.venv\\Lib\\site-packages\\sklearn\\linear_model\\_coordinate_descent.py:695: ConvergenceWarning: Objective did not converge. You might want to increase the number of iterations, check the scale of the features or consider increasing regularisation. Duality gap: 4.535e-01, tolerance: 7.740e-02\n",
      "  model = cd_fast.enet_coordinate_descent(\n",
      "D:\\IntelliJ\\ml-stock-sent\\.venv\\Lib\\site-packages\\sklearn\\linear_model\\_coordinate_descent.py:695: ConvergenceWarning: Objective did not converge. You might want to increase the number of iterations, check the scale of the features or consider increasing regularisation. Duality gap: 6.319e-01, tolerance: 7.740e-02\n",
      "  model = cd_fast.enet_coordinate_descent(\n",
      "D:\\IntelliJ\\ml-stock-sent\\.venv\\Lib\\site-packages\\sklearn\\linear_model\\_coordinate_descent.py:695: ConvergenceWarning: Objective did not converge. You might want to increase the number of iterations, check the scale of the features or consider increasing regularisation. Duality gap: 1.045e+01, tolerance: 7.740e-02\n",
      "  model = cd_fast.enet_coordinate_descent(\n",
      "D:\\IntelliJ\\ml-stock-sent\\.venv\\Lib\\site-packages\\sklearn\\linear_model\\_coordinate_descent.py:695: ConvergenceWarning: Objective did not converge. You might want to increase the number of iterations, check the scale of the features or consider increasing regularisation. Duality gap: 4.359e-01, tolerance: 7.740e-02\n",
      "  model = cd_fast.enet_coordinate_descent(\n",
      "D:\\IntelliJ\\ml-stock-sent\\.venv\\Lib\\site-packages\\sklearn\\linear_model\\_coordinate_descent.py:695: ConvergenceWarning: Objective did not converge. You might want to increase the number of iterations, check the scale of the features or consider increasing regularisation. Duality gap: 3.826e-01, tolerance: 7.740e-02\n",
      "  model = cd_fast.enet_coordinate_descent(\n",
      "D:\\IntelliJ\\ml-stock-sent\\.venv\\Lib\\site-packages\\sklearn\\linear_model\\_coordinate_descent.py:695: ConvergenceWarning: Objective did not converge. You might want to increase the number of iterations, check the scale of the features or consider increasing regularisation. Duality gap: 1.647e-01, tolerance: 7.740e-02\n",
      "  model = cd_fast.enet_coordinate_descent(\n",
      "D:\\IntelliJ\\ml-stock-sent\\.venv\\Lib\\site-packages\\sklearn\\linear_model\\_coordinate_descent.py:695: ConvergenceWarning: Objective did not converge. You might want to increase the number of iterations, check the scale of the features or consider increasing regularisation. Duality gap: 3.588e+00, tolerance: 7.740e-02\n",
      "  model = cd_fast.enet_coordinate_descent(\n",
      "D:\\IntelliJ\\ml-stock-sent\\.venv\\Lib\\site-packages\\sklearn\\linear_model\\_coordinate_descent.py:695: ConvergenceWarning: Objective did not converge. You might want to increase the number of iterations, check the scale of the features or consider increasing regularisation. Duality gap: 2.348e-01, tolerance: 7.740e-02\n",
      "  model = cd_fast.enet_coordinate_descent(\n",
      "D:\\IntelliJ\\ml-stock-sent\\.venv\\Lib\\site-packages\\sklearn\\linear_model\\_coordinate_descent.py:695: ConvergenceWarning: Objective did not converge. You might want to increase the number of iterations, check the scale of the features or consider increasing regularisation. Duality gap: 2.266e+00, tolerance: 7.740e-02\n",
      "  model = cd_fast.enet_coordinate_descent(\n",
      "D:\\IntelliJ\\ml-stock-sent\\.venv\\Lib\\site-packages\\sklearn\\linear_model\\_coordinate_descent.py:695: ConvergenceWarning: Objective did not converge. You might want to increase the number of iterations, check the scale of the features or consider increasing regularisation. Duality gap: 3.374e-01, tolerance: 7.740e-02\n",
      "  model = cd_fast.enet_coordinate_descent(\n",
      "D:\\IntelliJ\\ml-stock-sent\\.venv\\Lib\\site-packages\\sklearn\\linear_model\\_coordinate_descent.py:695: ConvergenceWarning: Objective did not converge. You might want to increase the number of iterations, check the scale of the features or consider increasing regularisation. Duality gap: 4.417e+00, tolerance: 7.740e-02\n",
      "  model = cd_fast.enet_coordinate_descent(\n",
      "D:\\IntelliJ\\ml-stock-sent\\.venv\\Lib\\site-packages\\sklearn\\linear_model\\_coordinate_descent.py:695: ConvergenceWarning: Objective did not converge. You might want to increase the number of iterations, check the scale of the features or consider increasing regularisation. Duality gap: 1.211e-01, tolerance: 7.740e-02\n",
      "  model = cd_fast.enet_coordinate_descent(\n",
      "D:\\IntelliJ\\ml-stock-sent\\.venv\\Lib\\site-packages\\sklearn\\linear_model\\_coordinate_descent.py:695: ConvergenceWarning: Objective did not converge. You might want to increase the number of iterations, check the scale of the features or consider increasing regularisation. Duality gap: 6.065e-01, tolerance: 7.740e-02\n",
      "  model = cd_fast.enet_coordinate_descent(\n",
      "D:\\IntelliJ\\ml-stock-sent\\.venv\\Lib\\site-packages\\sklearn\\linear_model\\_coordinate_descent.py:695: ConvergenceWarning: Objective did not converge. You might want to increase the number of iterations, check the scale of the features or consider increasing regularisation. Duality gap: 2.838e+00, tolerance: 7.740e-02\n",
      "  model = cd_fast.enet_coordinate_descent(\n",
      "D:\\IntelliJ\\ml-stock-sent\\.venv\\Lib\\site-packages\\sklearn\\linear_model\\_coordinate_descent.py:695: ConvergenceWarning: Objective did not converge. You might want to increase the number of iterations, check the scale of the features or consider increasing regularisation. Duality gap: 7.885e-01, tolerance: 7.740e-02\n",
      "  model = cd_fast.enet_coordinate_descent(\n",
      "D:\\IntelliJ\\ml-stock-sent\\.venv\\Lib\\site-packages\\sklearn\\linear_model\\_coordinate_descent.py:695: ConvergenceWarning: Objective did not converge. You might want to increase the number of iterations, check the scale of the features or consider increasing regularisation. Duality gap: 7.335e+00, tolerance: 1.160e-01\n",
      "  model = cd_fast.enet_coordinate_descent(\n",
      "D:\\IntelliJ\\ml-stock-sent\\.venv\\Lib\\site-packages\\sklearn\\linear_model\\_coordinate_descent.py:695: ConvergenceWarning: Objective did not converge. You might want to increase the number of iterations, check the scale of the features or consider increasing regularisation. Duality gap: 7.143e-01, tolerance: 1.160e-01\n",
      "  model = cd_fast.enet_coordinate_descent(\n",
      "D:\\IntelliJ\\ml-stock-sent\\.venv\\Lib\\site-packages\\sklearn\\linear_model\\_coordinate_descent.py:695: ConvergenceWarning: Objective did not converge. You might want to increase the number of iterations, check the scale of the features or consider increasing regularisation. Duality gap: 8.191e-01, tolerance: 1.160e-01\n",
      "  model = cd_fast.enet_coordinate_descent(\n",
      "D:\\IntelliJ\\ml-stock-sent\\.venv\\Lib\\site-packages\\sklearn\\linear_model\\_coordinate_descent.py:695: ConvergenceWarning: Objective did not converge. You might want to increase the number of iterations, check the scale of the features or consider increasing regularisation. Duality gap: 6.238e-01, tolerance: 1.160e-01\n",
      "  model = cd_fast.enet_coordinate_descent(\n",
      "D:\\IntelliJ\\ml-stock-sent\\.venv\\Lib\\site-packages\\sklearn\\linear_model\\_coordinate_descent.py:695: ConvergenceWarning: Objective did not converge. You might want to increase the number of iterations, check the scale of the features or consider increasing regularisation. Duality gap: 6.342e+00, tolerance: 1.160e-01\n",
      "  model = cd_fast.enet_coordinate_descent(\n",
      "D:\\IntelliJ\\ml-stock-sent\\.venv\\Lib\\site-packages\\sklearn\\linear_model\\_coordinate_descent.py:695: ConvergenceWarning: Objective did not converge. You might want to increase the number of iterations, check the scale of the features or consider increasing regularisation. Duality gap: 3.273e-01, tolerance: 1.160e-01\n",
      "  model = cd_fast.enet_coordinate_descent(\n",
      "D:\\IntelliJ\\ml-stock-sent\\.venv\\Lib\\site-packages\\sklearn\\linear_model\\_coordinate_descent.py:695: ConvergenceWarning: Objective did not converge. You might want to increase the number of iterations, check the scale of the features or consider increasing regularisation. Duality gap: 4.502e+00, tolerance: 1.160e-01\n",
      "  model = cd_fast.enet_coordinate_descent(\n",
      "D:\\IntelliJ\\ml-stock-sent\\.venv\\Lib\\site-packages\\sklearn\\linear_model\\_coordinate_descent.py:695: ConvergenceWarning: Objective did not converge. You might want to increase the number of iterations, check the scale of the features or consider increasing regularisation. Duality gap: 5.205e+00, tolerance: 1.160e-01\n",
      "  model = cd_fast.enet_coordinate_descent(\n",
      "D:\\IntelliJ\\ml-stock-sent\\.venv\\Lib\\site-packages\\sklearn\\linear_model\\_coordinate_descent.py:695: ConvergenceWarning: Objective did not converge. You might want to increase the number of iterations, check the scale of the features or consider increasing regularisation. Duality gap: 2.332e-01, tolerance: 1.160e-01\n",
      "  model = cd_fast.enet_coordinate_descent(\n",
      "D:\\IntelliJ\\ml-stock-sent\\.venv\\Lib\\site-packages\\sklearn\\linear_model\\_coordinate_descent.py:695: ConvergenceWarning: Objective did not converge. You might want to increase the number of iterations, check the scale of the features or consider increasing regularisation. Duality gap: 2.707e+00, tolerance: 1.160e-01\n",
      "  model = cd_fast.enet_coordinate_descent(\n",
      "D:\\IntelliJ\\ml-stock-sent\\.venv\\Lib\\site-packages\\sklearn\\linear_model\\_coordinate_descent.py:695: ConvergenceWarning: Objective did not converge. You might want to increase the number of iterations, check the scale of the features or consider increasing regularisation. Duality gap: 1.629e+00, tolerance: 1.160e-01\n",
      "  model = cd_fast.enet_coordinate_descent(\n",
      "[I 2025-08-20 16:30:09,130] Trial 18 finished with value: 0.009451241706836287 and parameters: {'alpha': 0.0012690764532532696, 'l1_ratio': 0.6467613942262733, 'selection': 'random'}. Best is trial 16 with value: 0.00918614889849593.\n",
      "[I 2025-08-20 16:30:09,471] Trial 19 finished with value: 0.009355168094727605 and parameters: {'alpha': 0.004189623255906908, 'l1_ratio': 0.25494901919994295, 'selection': 'random'}. Best is trial 16 with value: 0.00918614889849593.\n",
      "[I 2025-08-20 16:30:09,570] Trial 20 finished with value: 0.009129584951687504 and parameters: {'alpha': 0.009956055660659066, 'l1_ratio': 0.8002246949192497, 'selection': 'random'}. Best is trial 20 with value: 0.009129584951687504.\n",
      "[I 2025-08-20 16:30:09,668] Trial 21 finished with value: 0.009129057693361779 and parameters: {'alpha': 0.009898109061621465, 'l1_ratio': 0.8095789183531145, 'selection': 'random'}. Best is trial 21 with value: 0.009129057693361779.\n",
      "[I 2025-08-20 16:30:09,817] Trial 22 finished with value: 0.009219545073420881 and parameters: {'alpha': 0.00526281444534713, 'l1_ratio': 0.8335572498953814, 'selection': 'random'}. Best is trial 21 with value: 0.009129057693361779.\n",
      "D:\\IntelliJ\\ml-stock-sent\\.venv\\Lib\\site-packages\\sklearn\\linear_model\\_coordinate_descent.py:695: ConvergenceWarning: Objective did not converge. You might want to increase the number of iterations, check the scale of the features or consider increasing regularisation. Duality gap: 1.270e+00, tolerance: 3.880e-02\n",
      "  model = cd_fast.enet_coordinate_descent(\n",
      "D:\\IntelliJ\\ml-stock-sent\\.venv\\Lib\\site-packages\\sklearn\\linear_model\\_coordinate_descent.py:695: ConvergenceWarning: Objective did not converge. You might want to increase the number of iterations, check the scale of the features or consider increasing regularisation. Duality gap: 1.554e-01, tolerance: 3.880e-02\n",
      "  model = cd_fast.enet_coordinate_descent(\n",
      "D:\\IntelliJ\\ml-stock-sent\\.venv\\Lib\\site-packages\\sklearn\\linear_model\\_coordinate_descent.py:695: ConvergenceWarning: Objective did not converge. You might want to increase the number of iterations, check the scale of the features or consider increasing regularisation. Duality gap: 1.033e+00, tolerance: 3.880e-02\n",
      "  model = cd_fast.enet_coordinate_descent(\n",
      "D:\\IntelliJ\\ml-stock-sent\\.venv\\Lib\\site-packages\\sklearn\\linear_model\\_coordinate_descent.py:695: ConvergenceWarning: Objective did not converge. You might want to increase the number of iterations, check the scale of the features or consider increasing regularisation. Duality gap: 3.544e+00, tolerance: 3.880e-02\n",
      "  model = cd_fast.enet_coordinate_descent(\n",
      "D:\\IntelliJ\\ml-stock-sent\\.venv\\Lib\\site-packages\\sklearn\\linear_model\\_coordinate_descent.py:695: ConvergenceWarning: Objective did not converge. You might want to increase the number of iterations, check the scale of the features or consider increasing regularisation. Duality gap: 1.928e-01, tolerance: 3.880e-02\n",
      "  model = cd_fast.enet_coordinate_descent(\n",
      "D:\\IntelliJ\\ml-stock-sent\\.venv\\Lib\\site-packages\\sklearn\\linear_model\\_coordinate_descent.py:695: ConvergenceWarning: Objective did not converge. You might want to increase the number of iterations, check the scale of the features or consider increasing regularisation. Duality gap: 7.452e-01, tolerance: 3.880e-02\n",
      "  model = cd_fast.enet_coordinate_descent(\n",
      "D:\\IntelliJ\\ml-stock-sent\\.venv\\Lib\\site-packages\\sklearn\\linear_model\\_coordinate_descent.py:695: ConvergenceWarning: Objective did not converge. You might want to increase the number of iterations, check the scale of the features or consider increasing regularisation. Duality gap: 5.046e+00, tolerance: 3.880e-02\n",
      "  model = cd_fast.enet_coordinate_descent(\n",
      "D:\\IntelliJ\\ml-stock-sent\\.venv\\Lib\\site-packages\\sklearn\\linear_model\\_coordinate_descent.py:695: ConvergenceWarning: Objective did not converge. You might want to increase the number of iterations, check the scale of the features or consider increasing regularisation. Duality gap: 7.486e-01, tolerance: 3.880e-02\n",
      "  model = cd_fast.enet_coordinate_descent(\n",
      "D:\\IntelliJ\\ml-stock-sent\\.venv\\Lib\\site-packages\\sklearn\\linear_model\\_coordinate_descent.py:695: ConvergenceWarning: Objective did not converge. You might want to increase the number of iterations, check the scale of the features or consider increasing regularisation. Duality gap: 1.026e+00, tolerance: 3.880e-02\n",
      "  model = cd_fast.enet_coordinate_descent(\n",
      "D:\\IntelliJ\\ml-stock-sent\\.venv\\Lib\\site-packages\\sklearn\\linear_model\\_coordinate_descent.py:695: ConvergenceWarning: Objective did not converge. You might want to increase the number of iterations, check the scale of the features or consider increasing regularisation. Duality gap: 5.564e-02, tolerance: 3.880e-02\n",
      "  model = cd_fast.enet_coordinate_descent(\n",
      "D:\\IntelliJ\\ml-stock-sent\\.venv\\Lib\\site-packages\\sklearn\\linear_model\\_coordinate_descent.py:695: ConvergenceWarning: Objective did not converge. You might want to increase the number of iterations, check the scale of the features or consider increasing regularisation. Duality gap: 3.331e-01, tolerance: 3.880e-02\n",
      "  model = cd_fast.enet_coordinate_descent(\n",
      "D:\\IntelliJ\\ml-stock-sent\\.venv\\Lib\\site-packages\\sklearn\\linear_model\\_coordinate_descent.py:695: ConvergenceWarning: Objective did not converge. You might want to increase the number of iterations, check the scale of the features or consider increasing regularisation. Duality gap: 1.100e+00, tolerance: 3.880e-02\n",
      "  model = cd_fast.enet_coordinate_descent(\n",
      "D:\\IntelliJ\\ml-stock-sent\\.venv\\Lib\\site-packages\\sklearn\\linear_model\\_coordinate_descent.py:695: ConvergenceWarning: Objective did not converge. You might want to increase the number of iterations, check the scale of the features or consider increasing regularisation. Duality gap: 5.258e-01, tolerance: 3.880e-02\n",
      "  model = cd_fast.enet_coordinate_descent(\n",
      "D:\\IntelliJ\\ml-stock-sent\\.venv\\Lib\\site-packages\\sklearn\\linear_model\\_coordinate_descent.py:695: ConvergenceWarning: Objective did not converge. You might want to increase the number of iterations, check the scale of the features or consider increasing regularisation. Duality gap: 3.520e+00, tolerance: 7.740e-02\n",
      "  model = cd_fast.enet_coordinate_descent(\n",
      "D:\\IntelliJ\\ml-stock-sent\\.venv\\Lib\\site-packages\\sklearn\\linear_model\\_coordinate_descent.py:695: ConvergenceWarning: Objective did not converge. You might want to increase the number of iterations, check the scale of the features or consider increasing regularisation. Duality gap: 1.339e-01, tolerance: 7.740e-02\n",
      "  model = cd_fast.enet_coordinate_descent(\n",
      "D:\\IntelliJ\\ml-stock-sent\\.venv\\Lib\\site-packages\\sklearn\\linear_model\\_coordinate_descent.py:695: ConvergenceWarning: Objective did not converge. You might want to increase the number of iterations, check the scale of the features or consider increasing regularisation. Duality gap: 1.654e+00, tolerance: 7.740e-02\n",
      "  model = cd_fast.enet_coordinate_descent(\n",
      "D:\\IntelliJ\\ml-stock-sent\\.venv\\Lib\\site-packages\\sklearn\\linear_model\\_coordinate_descent.py:695: ConvergenceWarning: Objective did not converge. You might want to increase the number of iterations, check the scale of the features or consider increasing regularisation. Duality gap: 1.828e+00, tolerance: 7.740e-02\n",
      "  model = cd_fast.enet_coordinate_descent(\n",
      "D:\\IntelliJ\\ml-stock-sent\\.venv\\Lib\\site-packages\\sklearn\\linear_model\\_coordinate_descent.py:695: ConvergenceWarning: Objective did not converge. You might want to increase the number of iterations, check the scale of the features or consider increasing regularisation. Duality gap: 3.873e+00, tolerance: 7.740e-02\n",
      "  model = cd_fast.enet_coordinate_descent(\n",
      "D:\\IntelliJ\\ml-stock-sent\\.venv\\Lib\\site-packages\\sklearn\\linear_model\\_coordinate_descent.py:695: ConvergenceWarning: Objective did not converge. You might want to increase the number of iterations, check the scale of the features or consider increasing regularisation. Duality gap: 1.603e+00, tolerance: 7.740e-02\n",
      "  model = cd_fast.enet_coordinate_descent(\n",
      "D:\\IntelliJ\\ml-stock-sent\\.venv\\Lib\\site-packages\\sklearn\\linear_model\\_coordinate_descent.py:695: ConvergenceWarning: Objective did not converge. You might want to increase the number of iterations, check the scale of the features or consider increasing regularisation. Duality gap: 2.596e-01, tolerance: 7.740e-02\n",
      "  model = cd_fast.enet_coordinate_descent(\n",
      "D:\\IntelliJ\\ml-stock-sent\\.venv\\Lib\\site-packages\\sklearn\\linear_model\\_coordinate_descent.py:695: ConvergenceWarning: Objective did not converge. You might want to increase the number of iterations, check the scale of the features or consider increasing regularisation. Duality gap: 5.803e+00, tolerance: 1.160e-01\n",
      "  model = cd_fast.enet_coordinate_descent(\n",
      "D:\\IntelliJ\\ml-stock-sent\\.venv\\Lib\\site-packages\\sklearn\\linear_model\\_coordinate_descent.py:695: ConvergenceWarning: Objective did not converge. You might want to increase the number of iterations, check the scale of the features or consider increasing regularisation. Duality gap: 3.853e-01, tolerance: 1.160e-01\n",
      "  model = cd_fast.enet_coordinate_descent(\n",
      "D:\\IntelliJ\\ml-stock-sent\\.venv\\Lib\\site-packages\\sklearn\\linear_model\\_coordinate_descent.py:695: ConvergenceWarning: Objective did not converge. You might want to increase the number of iterations, check the scale of the features or consider increasing regularisation. Duality gap: 3.928e+00, tolerance: 1.160e-01\n",
      "  model = cd_fast.enet_coordinate_descent(\n",
      "D:\\IntelliJ\\ml-stock-sent\\.venv\\Lib\\site-packages\\sklearn\\linear_model\\_coordinate_descent.py:695: ConvergenceWarning: Objective did not converge. You might want to increase the number of iterations, check the scale of the features or consider increasing regularisation. Duality gap: 3.669e+00, tolerance: 1.160e-01\n",
      "  model = cd_fast.enet_coordinate_descent(\n",
      "D:\\IntelliJ\\ml-stock-sent\\.venv\\Lib\\site-packages\\sklearn\\linear_model\\_coordinate_descent.py:695: ConvergenceWarning: Objective did not converge. You might want to increase the number of iterations, check the scale of the features or consider increasing regularisation. Duality gap: 3.967e+00, tolerance: 1.160e-01\n",
      "  model = cd_fast.enet_coordinate_descent(\n",
      "D:\\IntelliJ\\ml-stock-sent\\.venv\\Lib\\site-packages\\sklearn\\linear_model\\_coordinate_descent.py:695: ConvergenceWarning: Objective did not converge. You might want to increase the number of iterations, check the scale of the features or consider increasing regularisation. Duality gap: 7.871e-01, tolerance: 1.160e-01\n",
      "  model = cd_fast.enet_coordinate_descent(\n",
      "D:\\IntelliJ\\ml-stock-sent\\.venv\\Lib\\site-packages\\sklearn\\linear_model\\_coordinate_descent.py:695: ConvergenceWarning: Objective did not converge. You might want to increase the number of iterations, check the scale of the features or consider increasing regularisation. Duality gap: 6.246e-01, tolerance: 1.160e-01\n",
      "  model = cd_fast.enet_coordinate_descent(\n",
      "[I 2025-08-20 16:30:10,387] Trial 23 finished with value: 0.00943192747889691 and parameters: {'alpha': 0.0013577274260067336, 'l1_ratio': 0.8261431285889681, 'selection': 'random'}. Best is trial 21 with value: 0.009129057693361779.\n",
      "[I 2025-08-20 16:30:10,604] Trial 24 finished with value: 0.009280590859635137 and parameters: {'alpha': 0.004493353067573287, 'l1_ratio': 0.6168309766996352, 'selection': 'random'}. Best is trial 21 with value: 0.009129057693361779.\n",
      "D:\\IntelliJ\\ml-stock-sent\\.venv\\Lib\\site-packages\\sklearn\\linear_model\\_coordinate_descent.py:695: ConvergenceWarning: Objective did not converge. You might want to increase the number of iterations, check the scale of the features or consider increasing regularisation. Duality gap: 9.561e-01, tolerance: 3.880e-02\n",
      "  model = cd_fast.enet_coordinate_descent(\n",
      "D:\\IntelliJ\\ml-stock-sent\\.venv\\Lib\\site-packages\\sklearn\\linear_model\\_coordinate_descent.py:695: ConvergenceWarning: Objective did not converge. You might want to increase the number of iterations, check the scale of the features or consider increasing regularisation. Duality gap: 1.305e-01, tolerance: 3.880e-02\n",
      "  model = cd_fast.enet_coordinate_descent(\n",
      "D:\\IntelliJ\\ml-stock-sent\\.venv\\Lib\\site-packages\\sklearn\\linear_model\\_coordinate_descent.py:695: ConvergenceWarning: Objective did not converge. You might want to increase the number of iterations, check the scale of the features or consider increasing regularisation. Duality gap: 7.771e-01, tolerance: 3.880e-02\n",
      "  model = cd_fast.enet_coordinate_descent(\n",
      "D:\\IntelliJ\\ml-stock-sent\\.venv\\Lib\\site-packages\\sklearn\\linear_model\\_coordinate_descent.py:695: ConvergenceWarning: Objective did not converge. You might want to increase the number of iterations, check the scale of the features or consider increasing regularisation. Duality gap: 2.920e+00, tolerance: 3.880e-02\n",
      "  model = cd_fast.enet_coordinate_descent(\n",
      "D:\\IntelliJ\\ml-stock-sent\\.venv\\Lib\\site-packages\\sklearn\\linear_model\\_coordinate_descent.py:695: ConvergenceWarning: Objective did not converge. You might want to increase the number of iterations, check the scale of the features or consider increasing regularisation. Duality gap: 1.463e-01, tolerance: 3.880e-02\n",
      "  model = cd_fast.enet_coordinate_descent(\n",
      "D:\\IntelliJ\\ml-stock-sent\\.venv\\Lib\\site-packages\\sklearn\\linear_model\\_coordinate_descent.py:695: ConvergenceWarning: Objective did not converge. You might want to increase the number of iterations, check the scale of the features or consider increasing regularisation. Duality gap: 3.284e-01, tolerance: 3.880e-02\n",
      "  model = cd_fast.enet_coordinate_descent(\n",
      "D:\\IntelliJ\\ml-stock-sent\\.venv\\Lib\\site-packages\\sklearn\\linear_model\\_coordinate_descent.py:695: ConvergenceWarning: Objective did not converge. You might want to increase the number of iterations, check the scale of the features or consider increasing regularisation. Duality gap: 3.518e+00, tolerance: 3.880e-02\n",
      "  model = cd_fast.enet_coordinate_descent(\n",
      "D:\\IntelliJ\\ml-stock-sent\\.venv\\Lib\\site-packages\\sklearn\\linear_model\\_coordinate_descent.py:695: ConvergenceWarning: Objective did not converge. You might want to increase the number of iterations, check the scale of the features or consider increasing regularisation. Duality gap: 5.694e-01, tolerance: 3.880e-02\n",
      "  model = cd_fast.enet_coordinate_descent(\n",
      "D:\\IntelliJ\\ml-stock-sent\\.venv\\Lib\\site-packages\\sklearn\\linear_model\\_coordinate_descent.py:695: ConvergenceWarning: Objective did not converge. You might want to increase the number of iterations, check the scale of the features or consider increasing regularisation. Duality gap: 7.554e-01, tolerance: 3.880e-02\n",
      "  model = cd_fast.enet_coordinate_descent(\n",
      "D:\\IntelliJ\\ml-stock-sent\\.venv\\Lib\\site-packages\\sklearn\\linear_model\\_coordinate_descent.py:695: ConvergenceWarning: Objective did not converge. You might want to increase the number of iterations, check the scale of the features or consider increasing regularisation. Duality gap: 2.367e-01, tolerance: 3.880e-02\n",
      "  model = cd_fast.enet_coordinate_descent(\n",
      "D:\\IntelliJ\\ml-stock-sent\\.venv\\Lib\\site-packages\\sklearn\\linear_model\\_coordinate_descent.py:695: ConvergenceWarning: Objective did not converge. You might want to increase the number of iterations, check the scale of the features or consider increasing regularisation. Duality gap: 8.233e-01, tolerance: 3.880e-02\n",
      "  model = cd_fast.enet_coordinate_descent(\n",
      "D:\\IntelliJ\\ml-stock-sent\\.venv\\Lib\\site-packages\\sklearn\\linear_model\\_coordinate_descent.py:695: ConvergenceWarning: Objective did not converge. You might want to increase the number of iterations, check the scale of the features or consider increasing regularisation. Duality gap: 3.984e-01, tolerance: 3.880e-02\n",
      "  model = cd_fast.enet_coordinate_descent(\n",
      "D:\\IntelliJ\\ml-stock-sent\\.venv\\Lib\\site-packages\\sklearn\\linear_model\\_coordinate_descent.py:695: ConvergenceWarning: Objective did not converge. You might want to increase the number of iterations, check the scale of the features or consider increasing regularisation. Duality gap: 4.156e-01, tolerance: 7.740e-02\n",
      "  model = cd_fast.enet_coordinate_descent(\n",
      "D:\\IntelliJ\\ml-stock-sent\\.venv\\Lib\\site-packages\\sklearn\\linear_model\\_coordinate_descent.py:695: ConvergenceWarning: Objective did not converge. You might want to increase the number of iterations, check the scale of the features or consider increasing regularisation. Duality gap: 3.407e+00, tolerance: 7.740e-02\n",
      "  model = cd_fast.enet_coordinate_descent(\n",
      "D:\\IntelliJ\\ml-stock-sent\\.venv\\Lib\\site-packages\\sklearn\\linear_model\\_coordinate_descent.py:695: ConvergenceWarning: Objective did not converge. You might want to increase the number of iterations, check the scale of the features or consider increasing regularisation. Duality gap: 1.042e-01, tolerance: 7.740e-02\n",
      "  model = cd_fast.enet_coordinate_descent(\n",
      "D:\\IntelliJ\\ml-stock-sent\\.venv\\Lib\\site-packages\\sklearn\\linear_model\\_coordinate_descent.py:695: ConvergenceWarning: Objective did not converge. You might want to increase the number of iterations, check the scale of the features or consider increasing regularisation. Duality gap: 1.065e+00, tolerance: 7.740e-02\n",
      "  model = cd_fast.enet_coordinate_descent(\n",
      "D:\\IntelliJ\\ml-stock-sent\\.venv\\Lib\\site-packages\\sklearn\\linear_model\\_coordinate_descent.py:695: ConvergenceWarning: Objective did not converge. You might want to increase the number of iterations, check the scale of the features or consider increasing regularisation. Duality gap: 1.280e+00, tolerance: 7.740e-02\n",
      "  model = cd_fast.enet_coordinate_descent(\n",
      "D:\\IntelliJ\\ml-stock-sent\\.venv\\Lib\\site-packages\\sklearn\\linear_model\\_coordinate_descent.py:695: ConvergenceWarning: Objective did not converge. You might want to increase the number of iterations, check the scale of the features or consider increasing regularisation. Duality gap: 2.885e+00, tolerance: 7.740e-02\n",
      "  model = cd_fast.enet_coordinate_descent(\n",
      "D:\\IntelliJ\\ml-stock-sent\\.venv\\Lib\\site-packages\\sklearn\\linear_model\\_coordinate_descent.py:695: ConvergenceWarning: Objective did not converge. You might want to increase the number of iterations, check the scale of the features or consider increasing regularisation. Duality gap: 1.224e+00, tolerance: 7.740e-02\n",
      "  model = cd_fast.enet_coordinate_descent(\n",
      "D:\\IntelliJ\\ml-stock-sent\\.venv\\Lib\\site-packages\\sklearn\\linear_model\\_coordinate_descent.py:695: ConvergenceWarning: Objective did not converge. You might want to increase the number of iterations, check the scale of the features or consider increasing regularisation. Duality gap: 1.938e-01, tolerance: 7.740e-02\n",
      "  model = cd_fast.enet_coordinate_descent(\n",
      "D:\\IntelliJ\\ml-stock-sent\\.venv\\Lib\\site-packages\\sklearn\\linear_model\\_coordinate_descent.py:695: ConvergenceWarning: Objective did not converge. You might want to increase the number of iterations, check the scale of the features or consider increasing regularisation. Duality gap: 4.424e+00, tolerance: 1.160e-01\n",
      "  model = cd_fast.enet_coordinate_descent(\n",
      "D:\\IntelliJ\\ml-stock-sent\\.venv\\Lib\\site-packages\\sklearn\\linear_model\\_coordinate_descent.py:695: ConvergenceWarning: Objective did not converge. You might want to increase the number of iterations, check the scale of the features or consider increasing regularisation. Duality gap: 3.640e-01, tolerance: 1.160e-01\n",
      "  model = cd_fast.enet_coordinate_descent(\n",
      "D:\\IntelliJ\\ml-stock-sent\\.venv\\Lib\\site-packages\\sklearn\\linear_model\\_coordinate_descent.py:695: ConvergenceWarning: Objective did not converge. You might want to increase the number of iterations, check the scale of the features or consider increasing regularisation. Duality gap: 2.948e+00, tolerance: 1.160e-01\n",
      "  model = cd_fast.enet_coordinate_descent(\n",
      "D:\\IntelliJ\\ml-stock-sent\\.venv\\Lib\\site-packages\\sklearn\\linear_model\\_coordinate_descent.py:695: ConvergenceWarning: Objective did not converge. You might want to increase the number of iterations, check the scale of the features or consider increasing regularisation. Duality gap: 2.624e+00, tolerance: 1.160e-01\n",
      "  model = cd_fast.enet_coordinate_descent(\n",
      "D:\\IntelliJ\\ml-stock-sent\\.venv\\Lib\\site-packages\\sklearn\\linear_model\\_coordinate_descent.py:695: ConvergenceWarning: Objective did not converge. You might want to increase the number of iterations, check the scale of the features or consider increasing regularisation. Duality gap: 2.920e+00, tolerance: 1.160e-01\n",
      "  model = cd_fast.enet_coordinate_descent(\n",
      "D:\\IntelliJ\\ml-stock-sent\\.venv\\Lib\\site-packages\\sklearn\\linear_model\\_coordinate_descent.py:695: ConvergenceWarning: Objective did not converge. You might want to increase the number of iterations, check the scale of the features or consider increasing regularisation. Duality gap: 5.969e-01, tolerance: 1.160e-01\n",
      "  model = cd_fast.enet_coordinate_descent(\n",
      "D:\\IntelliJ\\ml-stock-sent\\.venv\\Lib\\site-packages\\sklearn\\linear_model\\_coordinate_descent.py:695: ConvergenceWarning: Objective did not converge. You might want to increase the number of iterations, check the scale of the features or consider increasing regularisation. Duality gap: 4.767e-01, tolerance: 1.160e-01\n",
      "  model = cd_fast.enet_coordinate_descent(\n",
      "[I 2025-08-20 16:30:11,163] Trial 25 finished with value: 0.009428856089767743 and parameters: {'alpha': 0.0014316209975813296, 'l1_ratio': 0.7755967954423949, 'selection': 'random'}. Best is trial 21 with value: 0.009129057693361779.\n",
      "[I 2025-08-20 16:30:11,302] Trial 26 finished with value: 0.009247538170612383 and parameters: {'alpha': 0.0057203040477301105, 'l1_ratio': 0.5825361328690202, 'selection': 'cyclic'}. Best is trial 21 with value: 0.009129057693361779.\n",
      "D:\\IntelliJ\\ml-stock-sent\\.venv\\Lib\\site-packages\\sklearn\\linear_model\\_coordinate_descent.py:695: ConvergenceWarning: Objective did not converge. You might want to increase the number of iterations, check the scale of the features or consider increasing regularisation. Duality gap: 4.920e-01, tolerance: 3.880e-02\n",
      "  model = cd_fast.enet_coordinate_descent(\n",
      "D:\\IntelliJ\\ml-stock-sent\\.venv\\Lib\\site-packages\\sklearn\\linear_model\\_coordinate_descent.py:695: ConvergenceWarning: Objective did not converge. You might want to increase the number of iterations, check the scale of the features or consider increasing regularisation. Duality gap: 3.268e-01, tolerance: 3.880e-02\n",
      "  model = cd_fast.enet_coordinate_descent(\n",
      "D:\\IntelliJ\\ml-stock-sent\\.venv\\Lib\\site-packages\\sklearn\\linear_model\\_coordinate_descent.py:695: ConvergenceWarning: Objective did not converge. You might want to increase the number of iterations, check the scale of the features or consider increasing regularisation. Duality gap: 9.169e-02, tolerance: 3.880e-02\n",
      "  model = cd_fast.enet_coordinate_descent(\n",
      "D:\\IntelliJ\\ml-stock-sent\\.venv\\Lib\\site-packages\\sklearn\\linear_model\\_coordinate_descent.py:695: ConvergenceWarning: Objective did not converge. You might want to increase the number of iterations, check the scale of the features or consider increasing regularisation. Duality gap: 1.436e-01, tolerance: 7.740e-02\n",
      "  model = cd_fast.enet_coordinate_descent(\n",
      "D:\\IntelliJ\\ml-stock-sent\\.venv\\Lib\\site-packages\\sklearn\\linear_model\\_coordinate_descent.py:695: ConvergenceWarning: Objective did not converge. You might want to increase the number of iterations, check the scale of the features or consider increasing regularisation. Duality gap: 9.731e-02, tolerance: 7.740e-02\n",
      "  model = cd_fast.enet_coordinate_descent(\n",
      "D:\\IntelliJ\\ml-stock-sent\\.venv\\Lib\\site-packages\\sklearn\\linear_model\\_coordinate_descent.py:695: ConvergenceWarning: Objective did not converge. You might want to increase the number of iterations, check the scale of the features or consider increasing regularisation. Duality gap: 2.134e-01, tolerance: 7.740e-02\n",
      "  model = cd_fast.enet_coordinate_descent(\n",
      "[I 2025-08-20 16:30:11,640] Trial 27 finished with value: 0.00935253222990174 and parameters: {'alpha': 0.002283510801910281, 'l1_ratio': 0.9032732761739438, 'selection': 'random'}. Best is trial 21 with value: 0.009129057693361779.\n",
      "[I 2025-08-20 16:30:11,745] Trial 28 finished with value: 0.00915124602357841 and parameters: {'alpha': 0.009180520181243618, 'l1_ratio': 0.728787832932381, 'selection': 'random'}. Best is trial 21 with value: 0.009129057693361779.\n",
      "D:\\IntelliJ\\ml-stock-sent\\.venv\\Lib\\site-packages\\sklearn\\linear_model\\_coordinate_descent.py:695: ConvergenceWarning: Objective did not converge. You might want to increase the number of iterations, check the scale of the features or consider increasing regularisation. Duality gap: 1.613e+01, tolerance: 3.880e-02\n",
      "  model = cd_fast.enet_coordinate_descent(\n",
      "D:\\IntelliJ\\ml-stock-sent\\.venv\\Lib\\site-packages\\sklearn\\linear_model\\_coordinate_descent.py:695: ConvergenceWarning: Objective did not converge. You might want to increase the number of iterations, check the scale of the features or consider increasing regularisation. Duality gap: 7.459e+00, tolerance: 3.880e-02\n",
      "  model = cd_fast.enet_coordinate_descent(\n",
      "D:\\IntelliJ\\ml-stock-sent\\.venv\\Lib\\site-packages\\sklearn\\linear_model\\_coordinate_descent.py:695: ConvergenceWarning: Objective did not converge. You might want to increase the number of iterations, check the scale of the features or consider increasing regularisation. Duality gap: 4.901e-01, tolerance: 3.880e-02\n",
      "  model = cd_fast.enet_coordinate_descent(\n",
      "D:\\IntelliJ\\ml-stock-sent\\.venv\\Lib\\site-packages\\sklearn\\linear_model\\_coordinate_descent.py:695: ConvergenceWarning: Objective did not converge. You might want to increase the number of iterations, check the scale of the features or consider increasing regularisation. Duality gap: 4.082e+00, tolerance: 3.880e-02\n",
      "  model = cd_fast.enet_coordinate_descent(\n",
      "D:\\IntelliJ\\ml-stock-sent\\.venv\\Lib\\site-packages\\sklearn\\linear_model\\_coordinate_descent.py:695: ConvergenceWarning: Objective did not converge. You might want to increase the number of iterations, check the scale of the features or consider increasing regularisation. Duality gap: 2.708e+01, tolerance: 3.880e-02\n",
      "  model = cd_fast.enet_coordinate_descent(\n",
      "D:\\IntelliJ\\ml-stock-sent\\.venv\\Lib\\site-packages\\sklearn\\linear_model\\_coordinate_descent.py:695: ConvergenceWarning: Objective did not converge. You might want to increase the number of iterations, check the scale of the features or consider increasing regularisation. Duality gap: 1.680e+00, tolerance: 3.880e-02\n",
      "  model = cd_fast.enet_coordinate_descent(\n",
      "D:\\IntelliJ\\ml-stock-sent\\.venv\\Lib\\site-packages\\sklearn\\linear_model\\_coordinate_descent.py:695: ConvergenceWarning: Objective did not converge. You might want to increase the number of iterations, check the scale of the features or consider increasing regularisation. Duality gap: 3.335e+00, tolerance: 3.880e-02\n",
      "  model = cd_fast.enet_coordinate_descent(\n",
      "D:\\IntelliJ\\ml-stock-sent\\.venv\\Lib\\site-packages\\sklearn\\linear_model\\_coordinate_descent.py:695: ConvergenceWarning: Objective did not converge. You might want to increase the number of iterations, check the scale of the features or consider increasing regularisation. Duality gap: 1.012e+01, tolerance: 3.880e-02\n",
      "  model = cd_fast.enet_coordinate_descent(\n",
      "D:\\IntelliJ\\ml-stock-sent\\.venv\\Lib\\site-packages\\sklearn\\linear_model\\_coordinate_descent.py:695: ConvergenceWarning: Objective did not converge. You might want to increase the number of iterations, check the scale of the features or consider increasing regularisation. Duality gap: 3.145e-01, tolerance: 3.880e-02\n",
      "  model = cd_fast.enet_coordinate_descent(\n",
      "D:\\IntelliJ\\ml-stock-sent\\.venv\\Lib\\site-packages\\sklearn\\linear_model\\_coordinate_descent.py:695: ConvergenceWarning: Objective did not converge. You might want to increase the number of iterations, check the scale of the features or consider increasing regularisation. Duality gap: 1.421e+01, tolerance: 3.880e-02\n",
      "  model = cd_fast.enet_coordinate_descent(\n",
      "D:\\IntelliJ\\ml-stock-sent\\.venv\\Lib\\site-packages\\sklearn\\linear_model\\_coordinate_descent.py:695: ConvergenceWarning: Objective did not converge. You might want to increase the number of iterations, check the scale of the features or consider increasing regularisation. Duality gap: 2.624e+01, tolerance: 3.880e-02\n",
      "  model = cd_fast.enet_coordinate_descent(\n",
      "D:\\IntelliJ\\ml-stock-sent\\.venv\\Lib\\site-packages\\sklearn\\linear_model\\_coordinate_descent.py:695: ConvergenceWarning: Objective did not converge. You might want to increase the number of iterations, check the scale of the features or consider increasing regularisation. Duality gap: 2.926e+00, tolerance: 3.880e-02\n",
      "  model = cd_fast.enet_coordinate_descent(\n",
      "D:\\IntelliJ\\ml-stock-sent\\.venv\\Lib\\site-packages\\sklearn\\linear_model\\_coordinate_descent.py:695: ConvergenceWarning: Objective did not converge. You might want to increase the number of iterations, check the scale of the features or consider increasing regularisation. Duality gap: 4.782e+00, tolerance: 3.880e-02\n",
      "  model = cd_fast.enet_coordinate_descent(\n",
      "D:\\IntelliJ\\ml-stock-sent\\.venv\\Lib\\site-packages\\sklearn\\linear_model\\_coordinate_descent.py:695: ConvergenceWarning: Objective did not converge. You might want to increase the number of iterations, check the scale of the features or consider increasing regularisation. Duality gap: 5.237e+00, tolerance: 3.880e-02\n",
      "  model = cd_fast.enet_coordinate_descent(\n",
      "D:\\IntelliJ\\ml-stock-sent\\.venv\\Lib\\site-packages\\sklearn\\linear_model\\_coordinate_descent.py:695: ConvergenceWarning: Objective did not converge. You might want to increase the number of iterations, check the scale of the features or consider increasing regularisation. Duality gap: 9.316e+00, tolerance: 3.880e-02\n",
      "  model = cd_fast.enet_coordinate_descent(\n",
      "D:\\IntelliJ\\ml-stock-sent\\.venv\\Lib\\site-packages\\sklearn\\linear_model\\_coordinate_descent.py:695: ConvergenceWarning: Objective did not converge. You might want to increase the number of iterations, check the scale of the features or consider increasing regularisation. Duality gap: 7.875e-02, tolerance: 3.880e-02\n",
      "  model = cd_fast.enet_coordinate_descent(\n",
      "D:\\IntelliJ\\ml-stock-sent\\.venv\\Lib\\site-packages\\sklearn\\linear_model\\_coordinate_descent.py:695: ConvergenceWarning: Objective did not converge. You might want to increase the number of iterations, check the scale of the features or consider increasing regularisation. Duality gap: 2.976e-01, tolerance: 3.880e-02\n",
      "  model = cd_fast.enet_coordinate_descent(\n",
      "D:\\IntelliJ\\ml-stock-sent\\.venv\\Lib\\site-packages\\sklearn\\linear_model\\_coordinate_descent.py:695: ConvergenceWarning: Objective did not converge. You might want to increase the number of iterations, check the scale of the features or consider increasing regularisation. Duality gap: 1.007e+01, tolerance: 3.880e-02\n",
      "  model = cd_fast.enet_coordinate_descent(\n",
      "D:\\IntelliJ\\ml-stock-sent\\.venv\\Lib\\site-packages\\sklearn\\linear_model\\_coordinate_descent.py:695: ConvergenceWarning: Objective did not converge. You might want to increase the number of iterations, check the scale of the features or consider increasing regularisation. Duality gap: 9.674e+00, tolerance: 3.880e-02\n",
      "  model = cd_fast.enet_coordinate_descent(\n",
      "D:\\IntelliJ\\ml-stock-sent\\.venv\\Lib\\site-packages\\sklearn\\linear_model\\_coordinate_descent.py:695: ConvergenceWarning: Objective did not converge. You might want to increase the number of iterations, check the scale of the features or consider increasing regularisation. Duality gap: 4.929e+00, tolerance: 3.880e-02\n",
      "  model = cd_fast.enet_coordinate_descent(\n",
      "D:\\IntelliJ\\ml-stock-sent\\.venv\\Lib\\site-packages\\sklearn\\linear_model\\_coordinate_descent.py:695: ConvergenceWarning: Objective did not converge. You might want to increase the number of iterations, check the scale of the features or consider increasing regularisation. Duality gap: 4.997e-02, tolerance: 3.880e-02\n",
      "  model = cd_fast.enet_coordinate_descent(\n",
      "D:\\IntelliJ\\ml-stock-sent\\.venv\\Lib\\site-packages\\sklearn\\linear_model\\_coordinate_descent.py:695: ConvergenceWarning: Objective did not converge. You might want to increase the number of iterations, check the scale of the features or consider increasing regularisation. Duality gap: 4.150e+00, tolerance: 3.880e-02\n",
      "  model = cd_fast.enet_coordinate_descent(\n",
      "D:\\IntelliJ\\ml-stock-sent\\.venv\\Lib\\site-packages\\sklearn\\linear_model\\_coordinate_descent.py:695: ConvergenceWarning: Objective did not converge. You might want to increase the number of iterations, check the scale of the features or consider increasing regularisation. Duality gap: 1.128e+00, tolerance: 3.880e-02\n",
      "  model = cd_fast.enet_coordinate_descent(\n",
      "D:\\IntelliJ\\ml-stock-sent\\.venv\\Lib\\site-packages\\sklearn\\linear_model\\_coordinate_descent.py:695: ConvergenceWarning: Objective did not converge. You might want to increase the number of iterations, check the scale of the features or consider increasing regularisation. Duality gap: 4.355e+00, tolerance: 3.880e-02\n",
      "  model = cd_fast.enet_coordinate_descent(\n",
      "D:\\IntelliJ\\ml-stock-sent\\.venv\\Lib\\site-packages\\sklearn\\linear_model\\_coordinate_descent.py:695: ConvergenceWarning: Objective did not converge. You might want to increase the number of iterations, check the scale of the features or consider increasing regularisation. Duality gap: 1.086e+01, tolerance: 7.740e-02\n",
      "  model = cd_fast.enet_coordinate_descent(\n",
      "D:\\IntelliJ\\ml-stock-sent\\.venv\\Lib\\site-packages\\sklearn\\linear_model\\_coordinate_descent.py:695: ConvergenceWarning: Objective did not converge. You might want to increase the number of iterations, check the scale of the features or consider increasing regularisation. Duality gap: 1.029e+01, tolerance: 7.740e-02\n",
      "  model = cd_fast.enet_coordinate_descent(\n",
      "D:\\IntelliJ\\ml-stock-sent\\.venv\\Lib\\site-packages\\sklearn\\linear_model\\_coordinate_descent.py:695: ConvergenceWarning: Objective did not converge. You might want to increase the number of iterations, check the scale of the features or consider increasing regularisation. Duality gap: 7.223e-01, tolerance: 7.740e-02\n",
      "  model = cd_fast.enet_coordinate_descent(\n",
      "D:\\IntelliJ\\ml-stock-sent\\.venv\\Lib\\site-packages\\sklearn\\linear_model\\_coordinate_descent.py:695: ConvergenceWarning: Objective did not converge. You might want to increase the number of iterations, check the scale of the features or consider increasing regularisation. Duality gap: 3.027e+01, tolerance: 7.740e-02\n",
      "  model = cd_fast.enet_coordinate_descent(\n",
      "D:\\IntelliJ\\ml-stock-sent\\.venv\\Lib\\site-packages\\sklearn\\linear_model\\_coordinate_descent.py:695: ConvergenceWarning: Objective did not converge. You might want to increase the number of iterations, check the scale of the features or consider increasing regularisation. Duality gap: 5.396e-01, tolerance: 7.740e-02\n",
      "  model = cd_fast.enet_coordinate_descent(\n",
      "D:\\IntelliJ\\ml-stock-sent\\.venv\\Lib\\site-packages\\sklearn\\linear_model\\_coordinate_descent.py:695: ConvergenceWarning: Objective did not converge. You might want to increase the number of iterations, check the scale of the features or consider increasing regularisation. Duality gap: 3.146e+00, tolerance: 7.740e-02\n",
      "  model = cd_fast.enet_coordinate_descent(\n",
      "D:\\IntelliJ\\ml-stock-sent\\.venv\\Lib\\site-packages\\sklearn\\linear_model\\_coordinate_descent.py:695: ConvergenceWarning: Objective did not converge. You might want to increase the number of iterations, check the scale of the features or consider increasing regularisation. Duality gap: 1.046e+01, tolerance: 7.740e-02\n",
      "  model = cd_fast.enet_coordinate_descent(\n",
      "D:\\IntelliJ\\ml-stock-sent\\.venv\\Lib\\site-packages\\sklearn\\linear_model\\_coordinate_descent.py:695: ConvergenceWarning: Objective did not converge. You might want to increase the number of iterations, check the scale of the features or consider increasing regularisation. Duality gap: 1.563e+00, tolerance: 7.740e-02\n",
      "  model = cd_fast.enet_coordinate_descent(\n",
      "D:\\IntelliJ\\ml-stock-sent\\.venv\\Lib\\site-packages\\sklearn\\linear_model\\_coordinate_descent.py:695: ConvergenceWarning: Objective did not converge. You might want to increase the number of iterations, check the scale of the features or consider increasing regularisation. Duality gap: 7.197e-01, tolerance: 7.740e-02\n",
      "  model = cd_fast.enet_coordinate_descent(\n",
      "D:\\IntelliJ\\ml-stock-sent\\.venv\\Lib\\site-packages\\sklearn\\linear_model\\_coordinate_descent.py:695: ConvergenceWarning: Objective did not converge. You might want to increase the number of iterations, check the scale of the features or consider increasing regularisation. Duality gap: 3.079e+01, tolerance: 7.740e-02\n",
      "  model = cd_fast.enet_coordinate_descent(\n",
      "D:\\IntelliJ\\ml-stock-sent\\.venv\\Lib\\site-packages\\sklearn\\linear_model\\_coordinate_descent.py:695: ConvergenceWarning: Objective did not converge. You might want to increase the number of iterations, check the scale of the features or consider increasing regularisation. Duality gap: 7.278e-01, tolerance: 7.740e-02\n",
      "  model = cd_fast.enet_coordinate_descent(\n",
      "D:\\IntelliJ\\ml-stock-sent\\.venv\\Lib\\site-packages\\sklearn\\linear_model\\_coordinate_descent.py:695: ConvergenceWarning: Objective did not converge. You might want to increase the number of iterations, check the scale of the features or consider increasing regularisation. Duality gap: 7.847e+00, tolerance: 7.740e-02\n",
      "  model = cd_fast.enet_coordinate_descent(\n",
      "D:\\IntelliJ\\ml-stock-sent\\.venv\\Lib\\site-packages\\sklearn\\linear_model\\_coordinate_descent.py:695: ConvergenceWarning: Objective did not converge. You might want to increase the number of iterations, check the scale of the features or consider increasing regularisation. Duality gap: 2.709e+00, tolerance: 7.740e-02\n",
      "  model = cd_fast.enet_coordinate_descent(\n",
      "D:\\IntelliJ\\ml-stock-sent\\.venv\\Lib\\site-packages\\sklearn\\linear_model\\_coordinate_descent.py:695: ConvergenceWarning: Objective did not converge. You might want to increase the number of iterations, check the scale of the features or consider increasing regularisation. Duality gap: 1.190e+01, tolerance: 7.740e-02\n",
      "  model = cd_fast.enet_coordinate_descent(\n",
      "D:\\IntelliJ\\ml-stock-sent\\.venv\\Lib\\site-packages\\sklearn\\linear_model\\_coordinate_descent.py:695: ConvergenceWarning: Objective did not converge. You might want to increase the number of iterations, check the scale of the features or consider increasing regularisation. Duality gap: 5.201e-01, tolerance: 7.740e-02\n",
      "  model = cd_fast.enet_coordinate_descent(\n",
      "D:\\IntelliJ\\ml-stock-sent\\.venv\\Lib\\site-packages\\sklearn\\linear_model\\_coordinate_descent.py:695: ConvergenceWarning: Objective did not converge. You might want to increase the number of iterations, check the scale of the features or consider increasing regularisation. Duality gap: 2.692e+00, tolerance: 7.740e-02\n",
      "  model = cd_fast.enet_coordinate_descent(\n",
      "D:\\IntelliJ\\ml-stock-sent\\.venv\\Lib\\site-packages\\sklearn\\linear_model\\_coordinate_descent.py:695: ConvergenceWarning: Objective did not converge. You might want to increase the number of iterations, check the scale of the features or consider increasing regularisation. Duality gap: 1.993e+00, tolerance: 7.740e-02\n",
      "  model = cd_fast.enet_coordinate_descent(\n",
      "D:\\IntelliJ\\ml-stock-sent\\.venv\\Lib\\site-packages\\sklearn\\linear_model\\_coordinate_descent.py:695: ConvergenceWarning: Objective did not converge. You might want to increase the number of iterations, check the scale of the features or consider increasing regularisation. Duality gap: 4.708e+00, tolerance: 7.740e-02\n",
      "  model = cd_fast.enet_coordinate_descent(\n",
      "D:\\IntelliJ\\ml-stock-sent\\.venv\\Lib\\site-packages\\sklearn\\linear_model\\_coordinate_descent.py:695: ConvergenceWarning: Objective did not converge. You might want to increase the number of iterations, check the scale of the features or consider increasing regularisation. Duality gap: 1.359e+01, tolerance: 7.740e-02\n",
      "  model = cd_fast.enet_coordinate_descent(\n",
      "D:\\IntelliJ\\ml-stock-sent\\.venv\\Lib\\site-packages\\sklearn\\linear_model\\_coordinate_descent.py:695: ConvergenceWarning: Objective did not converge. You might want to increase the number of iterations, check the scale of the features or consider increasing regularisation. Duality gap: 2.296e+01, tolerance: 7.740e-02\n",
      "  model = cd_fast.enet_coordinate_descent(\n",
      "D:\\IntelliJ\\ml-stock-sent\\.venv\\Lib\\site-packages\\sklearn\\linear_model\\_coordinate_descent.py:695: ConvergenceWarning: Objective did not converge. You might want to increase the number of iterations, check the scale of the features or consider increasing regularisation. Duality gap: 6.380e+00, tolerance: 7.740e-02\n",
      "  model = cd_fast.enet_coordinate_descent(\n",
      "D:\\IntelliJ\\ml-stock-sent\\.venv\\Lib\\site-packages\\sklearn\\linear_model\\_coordinate_descent.py:695: ConvergenceWarning: Objective did not converge. You might want to increase the number of iterations, check the scale of the features or consider increasing regularisation. Duality gap: 9.162e+00, tolerance: 1.160e-01\n",
      "  model = cd_fast.enet_coordinate_descent(\n",
      "D:\\IntelliJ\\ml-stock-sent\\.venv\\Lib\\site-packages\\sklearn\\linear_model\\_coordinate_descent.py:695: ConvergenceWarning: Objective did not converge. You might want to increase the number of iterations, check the scale of the features or consider increasing regularisation. Duality gap: 9.176e+00, tolerance: 1.160e-01\n",
      "  model = cd_fast.enet_coordinate_descent(\n",
      "D:\\IntelliJ\\ml-stock-sent\\.venv\\Lib\\site-packages\\sklearn\\linear_model\\_coordinate_descent.py:695: ConvergenceWarning: Objective did not converge. You might want to increase the number of iterations, check the scale of the features or consider increasing regularisation. Duality gap: 2.733e+00, tolerance: 1.160e-01\n",
      "  model = cd_fast.enet_coordinate_descent(\n",
      "D:\\IntelliJ\\ml-stock-sent\\.venv\\Lib\\site-packages\\sklearn\\linear_model\\_coordinate_descent.py:695: ConvergenceWarning: Objective did not converge. You might want to increase the number of iterations, check the scale of the features or consider increasing regularisation. Duality gap: 3.958e+00, tolerance: 1.160e-01\n",
      "  model = cd_fast.enet_coordinate_descent(\n",
      "D:\\IntelliJ\\ml-stock-sent\\.venv\\Lib\\site-packages\\sklearn\\linear_model\\_coordinate_descent.py:695: ConvergenceWarning: Objective did not converge. You might want to increase the number of iterations, check the scale of the features or consider increasing regularisation. Duality gap: 4.329e+01, tolerance: 1.160e-01\n",
      "  model = cd_fast.enet_coordinate_descent(\n",
      "D:\\IntelliJ\\ml-stock-sent\\.venv\\Lib\\site-packages\\sklearn\\linear_model\\_coordinate_descent.py:695: ConvergenceWarning: Objective did not converge. You might want to increase the number of iterations, check the scale of the features or consider increasing regularisation. Duality gap: 5.381e-01, tolerance: 1.160e-01\n",
      "  model = cd_fast.enet_coordinate_descent(\n",
      "D:\\IntelliJ\\ml-stock-sent\\.venv\\Lib\\site-packages\\sklearn\\linear_model\\_coordinate_descent.py:695: ConvergenceWarning: Objective did not converge. You might want to increase the number of iterations, check the scale of the features or consider increasing regularisation. Duality gap: 6.562e+00, tolerance: 1.160e-01\n",
      "  model = cd_fast.enet_coordinate_descent(\n",
      "D:\\IntelliJ\\ml-stock-sent\\.venv\\Lib\\site-packages\\sklearn\\linear_model\\_coordinate_descent.py:695: ConvergenceWarning: Objective did not converge. You might want to increase the number of iterations, check the scale of the features or consider increasing regularisation. Duality gap: 7.655e+00, tolerance: 1.160e-01\n",
      "  model = cd_fast.enet_coordinate_descent(\n",
      "D:\\IntelliJ\\ml-stock-sent\\.venv\\Lib\\site-packages\\sklearn\\linear_model\\_coordinate_descent.py:695: ConvergenceWarning: Objective did not converge. You might want to increase the number of iterations, check the scale of the features or consider increasing regularisation. Duality gap: 2.145e+01, tolerance: 1.160e-01\n",
      "  model = cd_fast.enet_coordinate_descent(\n",
      "D:\\IntelliJ\\ml-stock-sent\\.venv\\Lib\\site-packages\\sklearn\\linear_model\\_coordinate_descent.py:695: ConvergenceWarning: Objective did not converge. You might want to increase the number of iterations, check the scale of the features or consider increasing regularisation. Duality gap: 8.839e+00, tolerance: 1.160e-01\n",
      "  model = cd_fast.enet_coordinate_descent(\n",
      "D:\\IntelliJ\\ml-stock-sent\\.venv\\Lib\\site-packages\\sklearn\\linear_model\\_coordinate_descent.py:695: ConvergenceWarning: Objective did not converge. You might want to increase the number of iterations, check the scale of the features or consider increasing regularisation. Duality gap: 7.677e+00, tolerance: 1.160e-01\n",
      "  model = cd_fast.enet_coordinate_descent(\n",
      "D:\\IntelliJ\\ml-stock-sent\\.venv\\Lib\\site-packages\\sklearn\\linear_model\\_coordinate_descent.py:695: ConvergenceWarning: Objective did not converge. You might want to increase the number of iterations, check the scale of the features or consider increasing regularisation. Duality gap: 4.726e+01, tolerance: 1.160e-01\n",
      "  model = cd_fast.enet_coordinate_descent(\n",
      "D:\\IntelliJ\\ml-stock-sent\\.venv\\Lib\\site-packages\\sklearn\\linear_model\\_coordinate_descent.py:695: ConvergenceWarning: Objective did not converge. You might want to increase the number of iterations, check the scale of the features or consider increasing regularisation. Duality gap: 1.144e+00, tolerance: 1.160e-01\n",
      "  model = cd_fast.enet_coordinate_descent(\n",
      "D:\\IntelliJ\\ml-stock-sent\\.venv\\Lib\\site-packages\\sklearn\\linear_model\\_coordinate_descent.py:695: ConvergenceWarning: Objective did not converge. You might want to increase the number of iterations, check the scale of the features or consider increasing regularisation. Duality gap: 2.408e+01, tolerance: 1.160e-01\n",
      "  model = cd_fast.enet_coordinate_descent(\n",
      "D:\\IntelliJ\\ml-stock-sent\\.venv\\Lib\\site-packages\\sklearn\\linear_model\\_coordinate_descent.py:695: ConvergenceWarning: Objective did not converge. You might want to increase the number of iterations, check the scale of the features or consider increasing regularisation. Duality gap: 1.863e+00, tolerance: 1.160e-01\n",
      "  model = cd_fast.enet_coordinate_descent(\n",
      "D:\\IntelliJ\\ml-stock-sent\\.venv\\Lib\\site-packages\\sklearn\\linear_model\\_coordinate_descent.py:695: ConvergenceWarning: Objective did not converge. You might want to increase the number of iterations, check the scale of the features or consider increasing regularisation. Duality gap: 2.727e+01, tolerance: 1.160e-01\n",
      "  model = cd_fast.enet_coordinate_descent(\n",
      "D:\\IntelliJ\\ml-stock-sent\\.venv\\Lib\\site-packages\\sklearn\\linear_model\\_coordinate_descent.py:695: ConvergenceWarning: Objective did not converge. You might want to increase the number of iterations, check the scale of the features or consider increasing regularisation. Duality gap: 2.080e-01, tolerance: 1.160e-01\n",
      "  model = cd_fast.enet_coordinate_descent(\n",
      "D:\\IntelliJ\\ml-stock-sent\\.venv\\Lib\\site-packages\\sklearn\\linear_model\\_coordinate_descent.py:695: ConvergenceWarning: Objective did not converge. You might want to increase the number of iterations, check the scale of the features or consider increasing regularisation. Duality gap: 7.649e+00, tolerance: 1.160e-01\n",
      "  model = cd_fast.enet_coordinate_descent(\n",
      "D:\\IntelliJ\\ml-stock-sent\\.venv\\Lib\\site-packages\\sklearn\\linear_model\\_coordinate_descent.py:695: ConvergenceWarning: Objective did not converge. You might want to increase the number of iterations, check the scale of the features or consider increasing regularisation. Duality gap: 1.842e-01, tolerance: 1.160e-01\n",
      "  model = cd_fast.enet_coordinate_descent(\n",
      "D:\\IntelliJ\\ml-stock-sent\\.venv\\Lib\\site-packages\\sklearn\\linear_model\\_coordinate_descent.py:695: ConvergenceWarning: Objective did not converge. You might want to increase the number of iterations, check the scale of the features or consider increasing regularisation. Duality gap: 1.884e+00, tolerance: 1.160e-01\n",
      "  model = cd_fast.enet_coordinate_descent(\n",
      "D:\\IntelliJ\\ml-stock-sent\\.venv\\Lib\\site-packages\\sklearn\\linear_model\\_coordinate_descent.py:695: ConvergenceWarning: Objective did not converge. You might want to increase the number of iterations, check the scale of the features or consider increasing regularisation. Duality gap: 1.955e+01, tolerance: 1.160e-01\n",
      "  model = cd_fast.enet_coordinate_descent(\n",
      "D:\\IntelliJ\\ml-stock-sent\\.venv\\Lib\\site-packages\\sklearn\\linear_model\\_coordinate_descent.py:695: ConvergenceWarning: Objective did not converge. You might want to increase the number of iterations, check the scale of the features or consider increasing regularisation. Duality gap: 3.034e+01, tolerance: 1.160e-01\n",
      "  model = cd_fast.enet_coordinate_descent(\n",
      "D:\\IntelliJ\\ml-stock-sent\\.venv\\Lib\\site-packages\\sklearn\\linear_model\\_coordinate_descent.py:695: ConvergenceWarning: Objective did not converge. You might want to increase the number of iterations, check the scale of the features or consider increasing regularisation. Duality gap: 1.471e+01, tolerance: 1.160e-01\n",
      "  model = cd_fast.enet_coordinate_descent(\n",
      "D:\\IntelliJ\\ml-stock-sent\\.venv\\Lib\\site-packages\\sklearn\\linear_model\\_coordinate_descent.py:695: ConvergenceWarning: Objective did not converge. You might want to increase the number of iterations, check the scale of the features or consider increasing regularisation. Duality gap: 2.597e-01, tolerance: 1.160e-01\n",
      "  model = cd_fast.enet_coordinate_descent(\n",
      "[I 2025-08-20 16:30:12,639] Trial 29 finished with value: 0.009575548224670511 and parameters: {'alpha': 0.00022034990793445773, 'l1_ratio': 0.9539880222077562, 'selection': 'cyclic'}. Best is trial 21 with value: 0.009129057693361779.\n",
      "2025-08-20 16:30:12,640 - INFO - ModelTrainer - Starting model training...\n",
      "2025-08-20 16:30:12,647 - INFO - ModelTrainer - Training final model with best params: {'alpha': 0.009898109061621465, 'l1_ratio': 0.8095789183531145, 'selection': 'random', 'random_state': 42}\n"
     ]
    }
   ],
   "execution_count": 9
  },
  {
   "metadata": {
    "ExecuteTime": {
     "end_time": "2025-08-20T14:30:18.604961Z",
     "start_time": "2025-08-20T14:30:18.563793Z"
    }
   },
   "cell_type": "code",
   "source": [
    "best_model = LinearElasticNet(horizon=horizon, **best_params)\n",
    "trainer = ModelTrainer(best_model, name=\"enet_mo_wo_sent_30\", config=best_params, preprocessor=preprocessor)\n",
    "trainer.fit(X_train, y_train)"
   ],
   "id": "254127800f4b616d",
   "outputs": [
    {
     "name": "stderr",
     "output_type": "stream",
     "text": [
      "2025-08-20 16:30:18,564 - INFO - ModelTrainer - Initialized ModelTrainer for model: enet_mo_wo_sent_30\n",
      "2025-08-20 16:30:18,565 - INFO - ModelTrainer - Starting model training...\n"
     ]
    }
   ],
   "execution_count": 10
  },
  {
   "metadata": {
    "ExecuteTime": {
     "end_time": "2025-08-20T14:30:19.715110Z",
     "start_time": "2025-08-20T14:30:19.693329Z"
    }
   },
   "cell_type": "code",
   "source": [
    "results = {\n",
    "    \"train\": trainer.evaluate(X_train, y_train),\n",
    "    \"val\": trainer.evaluate(X_val, y_val),\n",
    "    \"test\": trainer.evaluate(X_test, y_test)\n",
    "}\n",
    "\n",
    "meta = {\n",
    "    \"model\": \"enet_mo_wo_sent_30\",\n",
    "    \"with_sentiment\": False,\n",
    "    \"horizon\": horizon\n",
    "}\n",
    "\n",
    "flat_rows = []\n",
    "for split, metrics in results.items():\n",
    "    row = {\"split\": split, **meta, **metrics}\n",
    "    flat_rows.append(row)\n",
    "\n",
    "results_df = pd.DataFrame(flat_rows)\n",
    "\n",
    "results_df.to_csv(Path(cfg.data.processed_dir) / cfg.data.results_direct_multi_step_wo_sent, index=False)\n",
    "results_df"
   ],
   "id": "16fe0b27fe0bc961",
   "outputs": [
    {
     "name": "stderr",
     "output_type": "stream",
     "text": [
      "2025-08-20 16:30:19,695 - INFO - ModelTrainer - Evaluating model...\n",
      "2025-08-20 16:30:19,700 - INFO - ModelTrainer - Evaluating model...\n",
      "2025-08-20 16:30:19,704 - INFO - ModelTrainer - Evaluating model...\n"
     ]
    },
    {
     "data": {
      "text/plain": [
       "   split               model  with_sentiment  horizon       mae       mse  \\\n",
       "0  train  enet_mo_wo_sent_30           False       30  0.008028  0.000159   \n",
       "1    val  enet_mo_wo_sent_30           False       30  0.006771  0.000087   \n",
       "2   test  enet_mo_wo_sent_30           False       30  0.007588  0.000099   \n",
       "\n",
       "       rmse     smape        r2  \n",
       "0  0.012599  1.674789  0.016001  \n",
       "1  0.009320  1.693187 -0.021118  \n",
       "2  0.009966  1.692477 -0.017212  "
      ],
      "text/html": [
       "<div>\n",
       "<style scoped>\n",
       "    .dataframe tbody tr th:only-of-type {\n",
       "        vertical-align: middle;\n",
       "    }\n",
       "\n",
       "    .dataframe tbody tr th {\n",
       "        vertical-align: top;\n",
       "    }\n",
       "\n",
       "    .dataframe thead th {\n",
       "        text-align: right;\n",
       "    }\n",
       "</style>\n",
       "<table border=\"1\" class=\"dataframe\">\n",
       "  <thead>\n",
       "    <tr style=\"text-align: right;\">\n",
       "      <th></th>\n",
       "      <th>split</th>\n",
       "      <th>model</th>\n",
       "      <th>with_sentiment</th>\n",
       "      <th>horizon</th>\n",
       "      <th>mae</th>\n",
       "      <th>mse</th>\n",
       "      <th>rmse</th>\n",
       "      <th>smape</th>\n",
       "      <th>r2</th>\n",
       "    </tr>\n",
       "  </thead>\n",
       "  <tbody>\n",
       "    <tr>\n",
       "      <th>0</th>\n",
       "      <td>train</td>\n",
       "      <td>enet_mo_wo_sent_30</td>\n",
       "      <td>False</td>\n",
       "      <td>30</td>\n",
       "      <td>0.008028</td>\n",
       "      <td>0.000159</td>\n",
       "      <td>0.012599</td>\n",
       "      <td>1.674789</td>\n",
       "      <td>0.016001</td>\n",
       "    </tr>\n",
       "    <tr>\n",
       "      <th>1</th>\n",
       "      <td>val</td>\n",
       "      <td>enet_mo_wo_sent_30</td>\n",
       "      <td>False</td>\n",
       "      <td>30</td>\n",
       "      <td>0.006771</td>\n",
       "      <td>0.000087</td>\n",
       "      <td>0.009320</td>\n",
       "      <td>1.693187</td>\n",
       "      <td>-0.021118</td>\n",
       "    </tr>\n",
       "    <tr>\n",
       "      <th>2</th>\n",
       "      <td>test</td>\n",
       "      <td>enet_mo_wo_sent_30</td>\n",
       "      <td>False</td>\n",
       "      <td>30</td>\n",
       "      <td>0.007588</td>\n",
       "      <td>0.000099</td>\n",
       "      <td>0.009966</td>\n",
       "      <td>1.692477</td>\n",
       "      <td>-0.017212</td>\n",
       "    </tr>\n",
       "  </tbody>\n",
       "</table>\n",
       "</div>"
      ]
     },
     "execution_count": 11,
     "metadata": {},
     "output_type": "execute_result"
    }
   ],
   "execution_count": 11
  },
  {
   "metadata": {
    "ExecuteTime": {
     "end_time": "2025-08-20T14:30:24.511352Z",
     "start_time": "2025-08-20T14:30:24.505849Z"
    }
   },
   "cell_type": "code",
   "source": "model_path = trainer.save()",
   "id": "329d43d831997cc6",
   "outputs": [],
   "execution_count": 12
  },
  {
   "metadata": {
    "ExecuteTime": {
     "end_time": "2025-08-20T14:30:40.197033Z",
     "start_time": "2025-08-20T14:30:39.336122Z"
    }
   },
   "cell_type": "code",
   "source": [
    "vis.plot_optimization_history(study).show()\n",
    "vis.plot_param_importances(study).show()"
   ],
   "id": "783d8aee0e43008c",
   "outputs": [
    {
     "data": {
      "application/vnd.plotly.v1+json": {
       "data": [
        {
         "mode": "markers",
         "name": "Objective Value",
         "x": [
          0,
          1,
          2,
          3,
          4,
          5,
          6,
          7,
          8,
          9,
          10,
          11,
          12,
          13,
          14,
          15,
          16,
          17,
          18,
          19,
          20,
          21,
          22,
          23,
          24,
          25,
          26,
          27,
          28,
          29
         ],
         "y": [
          0.009590666070447071,
          0.00959464464497415,
          0.009511518596003838,
          0.009395742036985018,
          0.009599913053782235,
          0.009526946767065895,
          0.009562464551406375,
          0.009539031191388355,
          0.009611619597037931,
          0.009599763337256338,
          0.00926577704969614,
          0.009262650063943608,
          0.009217148596870197,
          0.009206682734056853,
          0.00940804655307868,
          0.00939833003620895,
          0.00918614889849593,
          0.009314079926261425,
          0.009451241706836287,
          0.009355168094727605,
          0.009129584951687504,
          0.009129057693361779,
          0.009219545073420881,
          0.00943192747889691,
          0.009280590859635137,
          0.009428856089767743,
          0.009247538170612383,
          0.00935253222990174,
          0.00915124602357841,
          0.009575548224670511
         ],
         "type": "scatter"
        },
        {
         "mode": "lines",
         "name": "Best Value",
         "x": [
          0,
          1,
          2,
          3,
          4,
          5,
          6,
          7,
          8,
          9,
          10,
          11,
          12,
          13,
          14,
          15,
          16,
          17,
          18,
          19,
          20,
          21,
          22,
          23,
          24,
          25,
          26,
          27,
          28,
          29
         ],
         "y": [
          0.009590666070447071,
          0.009590666070447071,
          0.009511518596003838,
          0.009395742036985018,
          0.009395742036985018,
          0.009395742036985018,
          0.009395742036985018,
          0.009395742036985018,
          0.009395742036985018,
          0.009395742036985018,
          0.00926577704969614,
          0.009262650063943608,
          0.009217148596870197,
          0.009206682734056853,
          0.009206682734056853,
          0.009206682734056853,
          0.00918614889849593,
          0.00918614889849593,
          0.00918614889849593,
          0.00918614889849593,
          0.009129584951687504,
          0.009129057693361779,
          0.009129057693361779,
          0.009129057693361779,
          0.009129057693361779,
          0.009129057693361779,
          0.009129057693361779,
          0.009129057693361779,
          0.009129057693361779,
          0.009129057693361779
         ],
         "type": "scatter"
        },
        {
         "marker": {
          "color": "#cccccc"
         },
         "mode": "markers",
         "name": "Infeasible Trial",
         "showlegend": false,
         "x": [],
         "y": [],
         "type": "scatter"
        }
       ],
       "layout": {
        "title": {
         "text": "Optimization History Plot"
        },
        "xaxis": {
         "title": {
          "text": "Trial"
         }
        },
        "yaxis": {
         "title": {
          "text": "Objective Value"
         }
        },
        "template": {
         "data": {
          "histogram2dcontour": [
           {
            "type": "histogram2dcontour",
            "colorbar": {
             "outlinewidth": 0,
             "ticks": ""
            },
            "colorscale": [
             [
              0.0,
              "#0d0887"
             ],
             [
              0.1111111111111111,
              "#46039f"
             ],
             [
              0.2222222222222222,
              "#7201a8"
             ],
             [
              0.3333333333333333,
              "#9c179e"
             ],
             [
              0.4444444444444444,
              "#bd3786"
             ],
             [
              0.5555555555555556,
              "#d8576b"
             ],
             [
              0.6666666666666666,
              "#ed7953"
             ],
             [
              0.7777777777777778,
              "#fb9f3a"
             ],
             [
              0.8888888888888888,
              "#fdca26"
             ],
             [
              1.0,
              "#f0f921"
             ]
            ]
           }
          ],
          "choropleth": [
           {
            "type": "choropleth",
            "colorbar": {
             "outlinewidth": 0,
             "ticks": ""
            }
           }
          ],
          "histogram2d": [
           {
            "type": "histogram2d",
            "colorbar": {
             "outlinewidth": 0,
             "ticks": ""
            },
            "colorscale": [
             [
              0.0,
              "#0d0887"
             ],
             [
              0.1111111111111111,
              "#46039f"
             ],
             [
              0.2222222222222222,
              "#7201a8"
             ],
             [
              0.3333333333333333,
              "#9c179e"
             ],
             [
              0.4444444444444444,
              "#bd3786"
             ],
             [
              0.5555555555555556,
              "#d8576b"
             ],
             [
              0.6666666666666666,
              "#ed7953"
             ],
             [
              0.7777777777777778,
              "#fb9f3a"
             ],
             [
              0.8888888888888888,
              "#fdca26"
             ],
             [
              1.0,
              "#f0f921"
             ]
            ]
           }
          ],
          "heatmap": [
           {
            "type": "heatmap",
            "colorbar": {
             "outlinewidth": 0,
             "ticks": ""
            },
            "colorscale": [
             [
              0.0,
              "#0d0887"
             ],
             [
              0.1111111111111111,
              "#46039f"
             ],
             [
              0.2222222222222222,
              "#7201a8"
             ],
             [
              0.3333333333333333,
              "#9c179e"
             ],
             [
              0.4444444444444444,
              "#bd3786"
             ],
             [
              0.5555555555555556,
              "#d8576b"
             ],
             [
              0.6666666666666666,
              "#ed7953"
             ],
             [
              0.7777777777777778,
              "#fb9f3a"
             ],
             [
              0.8888888888888888,
              "#fdca26"
             ],
             [
              1.0,
              "#f0f921"
             ]
            ]
           }
          ],
          "contourcarpet": [
           {
            "type": "contourcarpet",
            "colorbar": {
             "outlinewidth": 0,
             "ticks": ""
            }
           }
          ],
          "contour": [
           {
            "type": "contour",
            "colorbar": {
             "outlinewidth": 0,
             "ticks": ""
            },
            "colorscale": [
             [
              0.0,
              "#0d0887"
             ],
             [
              0.1111111111111111,
              "#46039f"
             ],
             [
              0.2222222222222222,
              "#7201a8"
             ],
             [
              0.3333333333333333,
              "#9c179e"
             ],
             [
              0.4444444444444444,
              "#bd3786"
             ],
             [
              0.5555555555555556,
              "#d8576b"
             ],
             [
              0.6666666666666666,
              "#ed7953"
             ],
             [
              0.7777777777777778,
              "#fb9f3a"
             ],
             [
              0.8888888888888888,
              "#fdca26"
             ],
             [
              1.0,
              "#f0f921"
             ]
            ]
           }
          ],
          "surface": [
           {
            "type": "surface",
            "colorbar": {
             "outlinewidth": 0,
             "ticks": ""
            },
            "colorscale": [
             [
              0.0,
              "#0d0887"
             ],
             [
              0.1111111111111111,
              "#46039f"
             ],
             [
              0.2222222222222222,
              "#7201a8"
             ],
             [
              0.3333333333333333,
              "#9c179e"
             ],
             [
              0.4444444444444444,
              "#bd3786"
             ],
             [
              0.5555555555555556,
              "#d8576b"
             ],
             [
              0.6666666666666666,
              "#ed7953"
             ],
             [
              0.7777777777777778,
              "#fb9f3a"
             ],
             [
              0.8888888888888888,
              "#fdca26"
             ],
             [
              1.0,
              "#f0f921"
             ]
            ]
           }
          ],
          "mesh3d": [
           {
            "type": "mesh3d",
            "colorbar": {
             "outlinewidth": 0,
             "ticks": ""
            }
           }
          ],
          "scatter": [
           {
            "fillpattern": {
             "fillmode": "overlay",
             "size": 10,
             "solidity": 0.2
            },
            "type": "scatter"
           }
          ],
          "parcoords": [
           {
            "type": "parcoords",
            "line": {
             "colorbar": {
              "outlinewidth": 0,
              "ticks": ""
             }
            }
           }
          ],
          "scatterpolargl": [
           {
            "type": "scatterpolargl",
            "marker": {
             "colorbar": {
              "outlinewidth": 0,
              "ticks": ""
             }
            }
           }
          ],
          "bar": [
           {
            "error_x": {
             "color": "#2a3f5f"
            },
            "error_y": {
             "color": "#2a3f5f"
            },
            "marker": {
             "line": {
              "color": "#E5ECF6",
              "width": 0.5
             },
             "pattern": {
              "fillmode": "overlay",
              "size": 10,
              "solidity": 0.2
             }
            },
            "type": "bar"
           }
          ],
          "scattergeo": [
           {
            "type": "scattergeo",
            "marker": {
             "colorbar": {
              "outlinewidth": 0,
              "ticks": ""
             }
            }
           }
          ],
          "scatterpolar": [
           {
            "type": "scatterpolar",
            "marker": {
             "colorbar": {
              "outlinewidth": 0,
              "ticks": ""
             }
            }
           }
          ],
          "histogram": [
           {
            "marker": {
             "pattern": {
              "fillmode": "overlay",
              "size": 10,
              "solidity": 0.2
             }
            },
            "type": "histogram"
           }
          ],
          "scattergl": [
           {
            "type": "scattergl",
            "marker": {
             "colorbar": {
              "outlinewidth": 0,
              "ticks": ""
             }
            }
           }
          ],
          "scatter3d": [
           {
            "type": "scatter3d",
            "line": {
             "colorbar": {
              "outlinewidth": 0,
              "ticks": ""
             }
            },
            "marker": {
             "colorbar": {
              "outlinewidth": 0,
              "ticks": ""
             }
            }
           }
          ],
          "scattermap": [
           {
            "type": "scattermap",
            "marker": {
             "colorbar": {
              "outlinewidth": 0,
              "ticks": ""
             }
            }
           }
          ],
          "scattermapbox": [
           {
            "type": "scattermapbox",
            "marker": {
             "colorbar": {
              "outlinewidth": 0,
              "ticks": ""
             }
            }
           }
          ],
          "scatterternary": [
           {
            "type": "scatterternary",
            "marker": {
             "colorbar": {
              "outlinewidth": 0,
              "ticks": ""
             }
            }
           }
          ],
          "scattercarpet": [
           {
            "type": "scattercarpet",
            "marker": {
             "colorbar": {
              "outlinewidth": 0,
              "ticks": ""
             }
            }
           }
          ],
          "carpet": [
           {
            "aaxis": {
             "endlinecolor": "#2a3f5f",
             "gridcolor": "white",
             "linecolor": "white",
             "minorgridcolor": "white",
             "startlinecolor": "#2a3f5f"
            },
            "baxis": {
             "endlinecolor": "#2a3f5f",
             "gridcolor": "white",
             "linecolor": "white",
             "minorgridcolor": "white",
             "startlinecolor": "#2a3f5f"
            },
            "type": "carpet"
           }
          ],
          "table": [
           {
            "cells": {
             "fill": {
              "color": "#EBF0F8"
             },
             "line": {
              "color": "white"
             }
            },
            "header": {
             "fill": {
              "color": "#C8D4E3"
             },
             "line": {
              "color": "white"
             }
            },
            "type": "table"
           }
          ],
          "barpolar": [
           {
            "marker": {
             "line": {
              "color": "#E5ECF6",
              "width": 0.5
             },
             "pattern": {
              "fillmode": "overlay",
              "size": 10,
              "solidity": 0.2
             }
            },
            "type": "barpolar"
           }
          ],
          "pie": [
           {
            "automargin": true,
            "type": "pie"
           }
          ]
         },
         "layout": {
          "autotypenumbers": "strict",
          "colorway": [
           "#636efa",
           "#EF553B",
           "#00cc96",
           "#ab63fa",
           "#FFA15A",
           "#19d3f3",
           "#FF6692",
           "#B6E880",
           "#FF97FF",
           "#FECB52"
          ],
          "font": {
           "color": "#2a3f5f"
          },
          "hovermode": "closest",
          "hoverlabel": {
           "align": "left"
          },
          "paper_bgcolor": "white",
          "plot_bgcolor": "#E5ECF6",
          "polar": {
           "bgcolor": "#E5ECF6",
           "angularaxis": {
            "gridcolor": "white",
            "linecolor": "white",
            "ticks": ""
           },
           "radialaxis": {
            "gridcolor": "white",
            "linecolor": "white",
            "ticks": ""
           }
          },
          "ternary": {
           "bgcolor": "#E5ECF6",
           "aaxis": {
            "gridcolor": "white",
            "linecolor": "white",
            "ticks": ""
           },
           "baxis": {
            "gridcolor": "white",
            "linecolor": "white",
            "ticks": ""
           },
           "caxis": {
            "gridcolor": "white",
            "linecolor": "white",
            "ticks": ""
           }
          },
          "coloraxis": {
           "colorbar": {
            "outlinewidth": 0,
            "ticks": ""
           }
          },
          "colorscale": {
           "sequential": [
            [
             0.0,
             "#0d0887"
            ],
            [
             0.1111111111111111,
             "#46039f"
            ],
            [
             0.2222222222222222,
             "#7201a8"
            ],
            [
             0.3333333333333333,
             "#9c179e"
            ],
            [
             0.4444444444444444,
             "#bd3786"
            ],
            [
             0.5555555555555556,
             "#d8576b"
            ],
            [
             0.6666666666666666,
             "#ed7953"
            ],
            [
             0.7777777777777778,
             "#fb9f3a"
            ],
            [
             0.8888888888888888,
             "#fdca26"
            ],
            [
             1.0,
             "#f0f921"
            ]
           ],
           "sequentialminus": [
            [
             0.0,
             "#0d0887"
            ],
            [
             0.1111111111111111,
             "#46039f"
            ],
            [
             0.2222222222222222,
             "#7201a8"
            ],
            [
             0.3333333333333333,
             "#9c179e"
            ],
            [
             0.4444444444444444,
             "#bd3786"
            ],
            [
             0.5555555555555556,
             "#d8576b"
            ],
            [
             0.6666666666666666,
             "#ed7953"
            ],
            [
             0.7777777777777778,
             "#fb9f3a"
            ],
            [
             0.8888888888888888,
             "#fdca26"
            ],
            [
             1.0,
             "#f0f921"
            ]
           ],
           "diverging": [
            [
             0,
             "#8e0152"
            ],
            [
             0.1,
             "#c51b7d"
            ],
            [
             0.2,
             "#de77ae"
            ],
            [
             0.3,
             "#f1b6da"
            ],
            [
             0.4,
             "#fde0ef"
            ],
            [
             0.5,
             "#f7f7f7"
            ],
            [
             0.6,
             "#e6f5d0"
            ],
            [
             0.7,
             "#b8e186"
            ],
            [
             0.8,
             "#7fbc41"
            ],
            [
             0.9,
             "#4d9221"
            ],
            [
             1,
             "#276419"
            ]
           ]
          },
          "xaxis": {
           "gridcolor": "white",
           "linecolor": "white",
           "ticks": "",
           "title": {
            "standoff": 15
           },
           "zerolinecolor": "white",
           "automargin": true,
           "zerolinewidth": 2
          },
          "yaxis": {
           "gridcolor": "white",
           "linecolor": "white",
           "ticks": "",
           "title": {
            "standoff": 15
           },
           "zerolinecolor": "white",
           "automargin": true,
           "zerolinewidth": 2
          },
          "scene": {
           "xaxis": {
            "backgroundcolor": "#E5ECF6",
            "gridcolor": "white",
            "linecolor": "white",
            "showbackground": true,
            "ticks": "",
            "zerolinecolor": "white",
            "gridwidth": 2
           },
           "yaxis": {
            "backgroundcolor": "#E5ECF6",
            "gridcolor": "white",
            "linecolor": "white",
            "showbackground": true,
            "ticks": "",
            "zerolinecolor": "white",
            "gridwidth": 2
           },
           "zaxis": {
            "backgroundcolor": "#E5ECF6",
            "gridcolor": "white",
            "linecolor": "white",
            "showbackground": true,
            "ticks": "",
            "zerolinecolor": "white",
            "gridwidth": 2
           }
          },
          "shapedefaults": {
           "line": {
            "color": "#2a3f5f"
           }
          },
          "annotationdefaults": {
           "arrowcolor": "#2a3f5f",
           "arrowhead": 0,
           "arrowwidth": 1
          },
          "geo": {
           "bgcolor": "white",
           "landcolor": "#E5ECF6",
           "subunitcolor": "white",
           "showland": true,
           "showlakes": true,
           "lakecolor": "white"
          },
          "title": {
           "x": 0.05
          },
          "mapbox": {
           "style": "light"
          }
         }
        }
       },
       "config": {
        "plotlyServerURL": "https://plot.ly"
       }
      }
     },
     "metadata": {},
     "output_type": "display_data"
    },
    {
     "data": {
      "application/vnd.plotly.v1+json": {
       "data": [
        {
         "cliponaxis": false,
         "hovertemplate": [
          "selection (CategoricalDistribution): 0.0022819316114332205<extra></extra>",
          "l1_ratio (FloatDistribution): 0.01173885167475338<extra></extra>",
          "alpha (FloatDistribution): 0.9859792167138134<extra></extra>"
         ],
         "name": "Objective Value",
         "orientation": "h",
         "text": [
          "<0.01",
          "0.01",
          "0.99"
         ],
         "textposition": "outside",
         "x": [
          0.0022819316114332205,
          0.01173885167475338,
          0.9859792167138134
         ],
         "y": [
          "selection",
          "l1_ratio",
          "alpha"
         ],
         "type": "bar"
        }
       ],
       "layout": {
        "title": {
         "text": "Hyperparameter Importances"
        },
        "xaxis": {
         "title": {
          "text": "Hyperparameter Importance"
         }
        },
        "yaxis": {
         "title": {
          "text": "Hyperparameter"
         }
        },
        "template": {
         "data": {
          "histogram2dcontour": [
           {
            "type": "histogram2dcontour",
            "colorbar": {
             "outlinewidth": 0,
             "ticks": ""
            },
            "colorscale": [
             [
              0.0,
              "#0d0887"
             ],
             [
              0.1111111111111111,
              "#46039f"
             ],
             [
              0.2222222222222222,
              "#7201a8"
             ],
             [
              0.3333333333333333,
              "#9c179e"
             ],
             [
              0.4444444444444444,
              "#bd3786"
             ],
             [
              0.5555555555555556,
              "#d8576b"
             ],
             [
              0.6666666666666666,
              "#ed7953"
             ],
             [
              0.7777777777777778,
              "#fb9f3a"
             ],
             [
              0.8888888888888888,
              "#fdca26"
             ],
             [
              1.0,
              "#f0f921"
             ]
            ]
           }
          ],
          "choropleth": [
           {
            "type": "choropleth",
            "colorbar": {
             "outlinewidth": 0,
             "ticks": ""
            }
           }
          ],
          "histogram2d": [
           {
            "type": "histogram2d",
            "colorbar": {
             "outlinewidth": 0,
             "ticks": ""
            },
            "colorscale": [
             [
              0.0,
              "#0d0887"
             ],
             [
              0.1111111111111111,
              "#46039f"
             ],
             [
              0.2222222222222222,
              "#7201a8"
             ],
             [
              0.3333333333333333,
              "#9c179e"
             ],
             [
              0.4444444444444444,
              "#bd3786"
             ],
             [
              0.5555555555555556,
              "#d8576b"
             ],
             [
              0.6666666666666666,
              "#ed7953"
             ],
             [
              0.7777777777777778,
              "#fb9f3a"
             ],
             [
              0.8888888888888888,
              "#fdca26"
             ],
             [
              1.0,
              "#f0f921"
             ]
            ]
           }
          ],
          "heatmap": [
           {
            "type": "heatmap",
            "colorbar": {
             "outlinewidth": 0,
             "ticks": ""
            },
            "colorscale": [
             [
              0.0,
              "#0d0887"
             ],
             [
              0.1111111111111111,
              "#46039f"
             ],
             [
              0.2222222222222222,
              "#7201a8"
             ],
             [
              0.3333333333333333,
              "#9c179e"
             ],
             [
              0.4444444444444444,
              "#bd3786"
             ],
             [
              0.5555555555555556,
              "#d8576b"
             ],
             [
              0.6666666666666666,
              "#ed7953"
             ],
             [
              0.7777777777777778,
              "#fb9f3a"
             ],
             [
              0.8888888888888888,
              "#fdca26"
             ],
             [
              1.0,
              "#f0f921"
             ]
            ]
           }
          ],
          "contourcarpet": [
           {
            "type": "contourcarpet",
            "colorbar": {
             "outlinewidth": 0,
             "ticks": ""
            }
           }
          ],
          "contour": [
           {
            "type": "contour",
            "colorbar": {
             "outlinewidth": 0,
             "ticks": ""
            },
            "colorscale": [
             [
              0.0,
              "#0d0887"
             ],
             [
              0.1111111111111111,
              "#46039f"
             ],
             [
              0.2222222222222222,
              "#7201a8"
             ],
             [
              0.3333333333333333,
              "#9c179e"
             ],
             [
              0.4444444444444444,
              "#bd3786"
             ],
             [
              0.5555555555555556,
              "#d8576b"
             ],
             [
              0.6666666666666666,
              "#ed7953"
             ],
             [
              0.7777777777777778,
              "#fb9f3a"
             ],
             [
              0.8888888888888888,
              "#fdca26"
             ],
             [
              1.0,
              "#f0f921"
             ]
            ]
           }
          ],
          "surface": [
           {
            "type": "surface",
            "colorbar": {
             "outlinewidth": 0,
             "ticks": ""
            },
            "colorscale": [
             [
              0.0,
              "#0d0887"
             ],
             [
              0.1111111111111111,
              "#46039f"
             ],
             [
              0.2222222222222222,
              "#7201a8"
             ],
             [
              0.3333333333333333,
              "#9c179e"
             ],
             [
              0.4444444444444444,
              "#bd3786"
             ],
             [
              0.5555555555555556,
              "#d8576b"
             ],
             [
              0.6666666666666666,
              "#ed7953"
             ],
             [
              0.7777777777777778,
              "#fb9f3a"
             ],
             [
              0.8888888888888888,
              "#fdca26"
             ],
             [
              1.0,
              "#f0f921"
             ]
            ]
           }
          ],
          "mesh3d": [
           {
            "type": "mesh3d",
            "colorbar": {
             "outlinewidth": 0,
             "ticks": ""
            }
           }
          ],
          "scatter": [
           {
            "fillpattern": {
             "fillmode": "overlay",
             "size": 10,
             "solidity": 0.2
            },
            "type": "scatter"
           }
          ],
          "parcoords": [
           {
            "type": "parcoords",
            "line": {
             "colorbar": {
              "outlinewidth": 0,
              "ticks": ""
             }
            }
           }
          ],
          "scatterpolargl": [
           {
            "type": "scatterpolargl",
            "marker": {
             "colorbar": {
              "outlinewidth": 0,
              "ticks": ""
             }
            }
           }
          ],
          "bar": [
           {
            "error_x": {
             "color": "#2a3f5f"
            },
            "error_y": {
             "color": "#2a3f5f"
            },
            "marker": {
             "line": {
              "color": "#E5ECF6",
              "width": 0.5
             },
             "pattern": {
              "fillmode": "overlay",
              "size": 10,
              "solidity": 0.2
             }
            },
            "type": "bar"
           }
          ],
          "scattergeo": [
           {
            "type": "scattergeo",
            "marker": {
             "colorbar": {
              "outlinewidth": 0,
              "ticks": ""
             }
            }
           }
          ],
          "scatterpolar": [
           {
            "type": "scatterpolar",
            "marker": {
             "colorbar": {
              "outlinewidth": 0,
              "ticks": ""
             }
            }
           }
          ],
          "histogram": [
           {
            "marker": {
             "pattern": {
              "fillmode": "overlay",
              "size": 10,
              "solidity": 0.2
             }
            },
            "type": "histogram"
           }
          ],
          "scattergl": [
           {
            "type": "scattergl",
            "marker": {
             "colorbar": {
              "outlinewidth": 0,
              "ticks": ""
             }
            }
           }
          ],
          "scatter3d": [
           {
            "type": "scatter3d",
            "line": {
             "colorbar": {
              "outlinewidth": 0,
              "ticks": ""
             }
            },
            "marker": {
             "colorbar": {
              "outlinewidth": 0,
              "ticks": ""
             }
            }
           }
          ],
          "scattermap": [
           {
            "type": "scattermap",
            "marker": {
             "colorbar": {
              "outlinewidth": 0,
              "ticks": ""
             }
            }
           }
          ],
          "scattermapbox": [
           {
            "type": "scattermapbox",
            "marker": {
             "colorbar": {
              "outlinewidth": 0,
              "ticks": ""
             }
            }
           }
          ],
          "scatterternary": [
           {
            "type": "scatterternary",
            "marker": {
             "colorbar": {
              "outlinewidth": 0,
              "ticks": ""
             }
            }
           }
          ],
          "scattercarpet": [
           {
            "type": "scattercarpet",
            "marker": {
             "colorbar": {
              "outlinewidth": 0,
              "ticks": ""
             }
            }
           }
          ],
          "carpet": [
           {
            "aaxis": {
             "endlinecolor": "#2a3f5f",
             "gridcolor": "white",
             "linecolor": "white",
             "minorgridcolor": "white",
             "startlinecolor": "#2a3f5f"
            },
            "baxis": {
             "endlinecolor": "#2a3f5f",
             "gridcolor": "white",
             "linecolor": "white",
             "minorgridcolor": "white",
             "startlinecolor": "#2a3f5f"
            },
            "type": "carpet"
           }
          ],
          "table": [
           {
            "cells": {
             "fill": {
              "color": "#EBF0F8"
             },
             "line": {
              "color": "white"
             }
            },
            "header": {
             "fill": {
              "color": "#C8D4E3"
             },
             "line": {
              "color": "white"
             }
            },
            "type": "table"
           }
          ],
          "barpolar": [
           {
            "marker": {
             "line": {
              "color": "#E5ECF6",
              "width": 0.5
             },
             "pattern": {
              "fillmode": "overlay",
              "size": 10,
              "solidity": 0.2
             }
            },
            "type": "barpolar"
           }
          ],
          "pie": [
           {
            "automargin": true,
            "type": "pie"
           }
          ]
         },
         "layout": {
          "autotypenumbers": "strict",
          "colorway": [
           "#636efa",
           "#EF553B",
           "#00cc96",
           "#ab63fa",
           "#FFA15A",
           "#19d3f3",
           "#FF6692",
           "#B6E880",
           "#FF97FF",
           "#FECB52"
          ],
          "font": {
           "color": "#2a3f5f"
          },
          "hovermode": "closest",
          "hoverlabel": {
           "align": "left"
          },
          "paper_bgcolor": "white",
          "plot_bgcolor": "#E5ECF6",
          "polar": {
           "bgcolor": "#E5ECF6",
           "angularaxis": {
            "gridcolor": "white",
            "linecolor": "white",
            "ticks": ""
           },
           "radialaxis": {
            "gridcolor": "white",
            "linecolor": "white",
            "ticks": ""
           }
          },
          "ternary": {
           "bgcolor": "#E5ECF6",
           "aaxis": {
            "gridcolor": "white",
            "linecolor": "white",
            "ticks": ""
           },
           "baxis": {
            "gridcolor": "white",
            "linecolor": "white",
            "ticks": ""
           },
           "caxis": {
            "gridcolor": "white",
            "linecolor": "white",
            "ticks": ""
           }
          },
          "coloraxis": {
           "colorbar": {
            "outlinewidth": 0,
            "ticks": ""
           }
          },
          "colorscale": {
           "sequential": [
            [
             0.0,
             "#0d0887"
            ],
            [
             0.1111111111111111,
             "#46039f"
            ],
            [
             0.2222222222222222,
             "#7201a8"
            ],
            [
             0.3333333333333333,
             "#9c179e"
            ],
            [
             0.4444444444444444,
             "#bd3786"
            ],
            [
             0.5555555555555556,
             "#d8576b"
            ],
            [
             0.6666666666666666,
             "#ed7953"
            ],
            [
             0.7777777777777778,
             "#fb9f3a"
            ],
            [
             0.8888888888888888,
             "#fdca26"
            ],
            [
             1.0,
             "#f0f921"
            ]
           ],
           "sequentialminus": [
            [
             0.0,
             "#0d0887"
            ],
            [
             0.1111111111111111,
             "#46039f"
            ],
            [
             0.2222222222222222,
             "#7201a8"
            ],
            [
             0.3333333333333333,
             "#9c179e"
            ],
            [
             0.4444444444444444,
             "#bd3786"
            ],
            [
             0.5555555555555556,
             "#d8576b"
            ],
            [
             0.6666666666666666,
             "#ed7953"
            ],
            [
             0.7777777777777778,
             "#fb9f3a"
            ],
            [
             0.8888888888888888,
             "#fdca26"
            ],
            [
             1.0,
             "#f0f921"
            ]
           ],
           "diverging": [
            [
             0,
             "#8e0152"
            ],
            [
             0.1,
             "#c51b7d"
            ],
            [
             0.2,
             "#de77ae"
            ],
            [
             0.3,
             "#f1b6da"
            ],
            [
             0.4,
             "#fde0ef"
            ],
            [
             0.5,
             "#f7f7f7"
            ],
            [
             0.6,
             "#e6f5d0"
            ],
            [
             0.7,
             "#b8e186"
            ],
            [
             0.8,
             "#7fbc41"
            ],
            [
             0.9,
             "#4d9221"
            ],
            [
             1,
             "#276419"
            ]
           ]
          },
          "xaxis": {
           "gridcolor": "white",
           "linecolor": "white",
           "ticks": "",
           "title": {
            "standoff": 15
           },
           "zerolinecolor": "white",
           "automargin": true,
           "zerolinewidth": 2
          },
          "yaxis": {
           "gridcolor": "white",
           "linecolor": "white",
           "ticks": "",
           "title": {
            "standoff": 15
           },
           "zerolinecolor": "white",
           "automargin": true,
           "zerolinewidth": 2
          },
          "scene": {
           "xaxis": {
            "backgroundcolor": "#E5ECF6",
            "gridcolor": "white",
            "linecolor": "white",
            "showbackground": true,
            "ticks": "",
            "zerolinecolor": "white",
            "gridwidth": 2
           },
           "yaxis": {
            "backgroundcolor": "#E5ECF6",
            "gridcolor": "white",
            "linecolor": "white",
            "showbackground": true,
            "ticks": "",
            "zerolinecolor": "white",
            "gridwidth": 2
           },
           "zaxis": {
            "backgroundcolor": "#E5ECF6",
            "gridcolor": "white",
            "linecolor": "white",
            "showbackground": true,
            "ticks": "",
            "zerolinecolor": "white",
            "gridwidth": 2
           }
          },
          "shapedefaults": {
           "line": {
            "color": "#2a3f5f"
           }
          },
          "annotationdefaults": {
           "arrowcolor": "#2a3f5f",
           "arrowhead": 0,
           "arrowwidth": 1
          },
          "geo": {
           "bgcolor": "white",
           "landcolor": "#E5ECF6",
           "subunitcolor": "white",
           "showland": true,
           "showlakes": true,
           "lakecolor": "white"
          },
          "title": {
           "x": 0.05
          },
          "mapbox": {
           "style": "light"
          }
         }
        }
       },
       "config": {
        "plotlyServerURL": "https://plot.ly"
       }
      }
     },
     "metadata": {},
     "output_type": "display_data"
    }
   ],
   "execution_count": 13
  },
  {
   "metadata": {
    "ExecuteTime": {
     "end_time": "2025-08-20T14:34:24.889283Z",
     "start_time": "2025-08-20T14:34:24.845937Z"
    }
   },
   "cell_type": "code",
   "source": [
    "with_sentiment = pd.read_csv(Path(cfg.data.processed_dir) / cfg.data.results_direct_multi_step)\n",
    "without_sentiment = pd.read_csv(Path(cfg.data.processed_dir) / cfg.data.results_direct_multi_step_wo_sent)\n",
    "\n",
    "with_sentiment[\"sentiment\"] = \"with\"\n",
    "without_sentiment[\"sentiment\"] = \"without\"\n",
    "\n",
    "results = pd.concat([with_sentiment, without_sentiment], ignore_index=True)\n",
    "\n",
    "pivot = results.pivot(index=\"split\", columns=\"sentiment\", values=[\"mae\", \"mse\", \"rmse\", \"smape\", \"r2\"]).round(4)\n",
    "display(pivot)"
   ],
   "id": "38f12682f9bd9468",
   "outputs": [
    {
     "data": {
      "text/plain": [
       "              mae             mse            rmse           smape          \\\n",
       "sentiment    with without    with without    with without    with without   \n",
       "split                                                                       \n",
       "test       0.0076  0.0076  0.0001  0.0001  0.0100  0.0100  1.6466  1.6925   \n",
       "train      0.0080  0.0080  0.0002  0.0002  0.0125  0.0126  1.6248  1.6748   \n",
       "val        0.0068  0.0068  0.0001  0.0001  0.0094  0.0093  1.6528  1.6932   \n",
       "\n",
       "               r2          \n",
       "sentiment    with without  \n",
       "split                      \n",
       "test      -0.0212 -0.0172  \n",
       "train      0.0248  0.0160  \n",
       "val       -0.0362 -0.0211  "
      ],
      "text/html": [
       "<div>\n",
       "<style scoped>\n",
       "    .dataframe tbody tr th:only-of-type {\n",
       "        vertical-align: middle;\n",
       "    }\n",
       "\n",
       "    .dataframe tbody tr th {\n",
       "        vertical-align: top;\n",
       "    }\n",
       "\n",
       "    .dataframe thead tr th {\n",
       "        text-align: left;\n",
       "    }\n",
       "\n",
       "    .dataframe thead tr:last-of-type th {\n",
       "        text-align: right;\n",
       "    }\n",
       "</style>\n",
       "<table border=\"1\" class=\"dataframe\">\n",
       "  <thead>\n",
       "    <tr>\n",
       "      <th></th>\n",
       "      <th colspan=\"2\" halign=\"left\">mae</th>\n",
       "      <th colspan=\"2\" halign=\"left\">mse</th>\n",
       "      <th colspan=\"2\" halign=\"left\">rmse</th>\n",
       "      <th colspan=\"2\" halign=\"left\">smape</th>\n",
       "      <th colspan=\"2\" halign=\"left\">r2</th>\n",
       "    </tr>\n",
       "    <tr>\n",
       "      <th>sentiment</th>\n",
       "      <th>with</th>\n",
       "      <th>without</th>\n",
       "      <th>with</th>\n",
       "      <th>without</th>\n",
       "      <th>with</th>\n",
       "      <th>without</th>\n",
       "      <th>with</th>\n",
       "      <th>without</th>\n",
       "      <th>with</th>\n",
       "      <th>without</th>\n",
       "    </tr>\n",
       "    <tr>\n",
       "      <th>split</th>\n",
       "      <th></th>\n",
       "      <th></th>\n",
       "      <th></th>\n",
       "      <th></th>\n",
       "      <th></th>\n",
       "      <th></th>\n",
       "      <th></th>\n",
       "      <th></th>\n",
       "      <th></th>\n",
       "      <th></th>\n",
       "    </tr>\n",
       "  </thead>\n",
       "  <tbody>\n",
       "    <tr>\n",
       "      <th>test</th>\n",
       "      <td>0.0076</td>\n",
       "      <td>0.0076</td>\n",
       "      <td>0.0001</td>\n",
       "      <td>0.0001</td>\n",
       "      <td>0.0100</td>\n",
       "      <td>0.0100</td>\n",
       "      <td>1.6466</td>\n",
       "      <td>1.6925</td>\n",
       "      <td>-0.0212</td>\n",
       "      <td>-0.0172</td>\n",
       "    </tr>\n",
       "    <tr>\n",
       "      <th>train</th>\n",
       "      <td>0.0080</td>\n",
       "      <td>0.0080</td>\n",
       "      <td>0.0002</td>\n",
       "      <td>0.0002</td>\n",
       "      <td>0.0125</td>\n",
       "      <td>0.0126</td>\n",
       "      <td>1.6248</td>\n",
       "      <td>1.6748</td>\n",
       "      <td>0.0248</td>\n",
       "      <td>0.0160</td>\n",
       "    </tr>\n",
       "    <tr>\n",
       "      <th>val</th>\n",
       "      <td>0.0068</td>\n",
       "      <td>0.0068</td>\n",
       "      <td>0.0001</td>\n",
       "      <td>0.0001</td>\n",
       "      <td>0.0094</td>\n",
       "      <td>0.0093</td>\n",
       "      <td>1.6528</td>\n",
       "      <td>1.6932</td>\n",
       "      <td>-0.0362</td>\n",
       "      <td>-0.0211</td>\n",
       "    </tr>\n",
       "  </tbody>\n",
       "</table>\n",
       "</div>"
      ]
     },
     "metadata": {},
     "output_type": "display_data"
    }
   ],
   "execution_count": 16
  }
 ],
 "metadata": {
  "kernelspec": {
   "display_name": "Python 3",
   "language": "python",
   "name": "python3"
  },
  "language_info": {
   "codemirror_mode": {
    "name": "ipython",
    "version": 2
   },
   "file_extension": ".py",
   "mimetype": "text/x-python",
   "name": "python",
   "nbconvert_exporter": "python",
   "pygments_lexer": "ipython2",
   "version": "2.7.6"
  }
 },
 "nbformat": 4,
 "nbformat_minor": 5
}

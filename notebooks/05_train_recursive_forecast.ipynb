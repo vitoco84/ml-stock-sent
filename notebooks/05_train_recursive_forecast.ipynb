{
 "cells": [
  {
   "metadata": {},
   "cell_type": "markdown",
   "source": "# Train and Tune / Recursive Single-Step",
   "id": "1fd02a6227f60974"
  },
  {
   "cell_type": "code",
   "id": "initial_id",
   "metadata": {
    "collapsed": true,
    "ExecuteTime": {
     "end_time": "2025-08-19T10:30:23.489915Z",
     "start_time": "2025-08-19T10:30:20.378566Z"
    }
   },
   "source": [
    "from pathlib import Path\n",
    "\n",
    "import matplotlib.pyplot as plt\n",
    "import numpy as np\n",
    "import optuna\n",
    "import optuna.visualization as vis\n",
    "import pandas as pd\n",
    "\n",
    "from src.config import Config\n",
    "from src.data import time_series_split\n",
    "from src.models.classical import LinearElasticNet\n",
    "from src.plots import plot_price_overlay, plot_price_overlay_next_30\n",
    "from src.preprocessing import get_preprocessor\n",
    "from src.recursive import RecursiveForecaster\n",
    "from src.train import ModelTrainer\n",
    "from src.utils import load_csv, set_seed"
   ],
   "outputs": [],
   "execution_count": 1
  },
  {
   "metadata": {
    "ExecuteTime": {
     "end_time": "2025-08-19T10:30:23.510575Z",
     "start_time": "2025-08-19T10:30:23.492919Z"
    }
   },
   "cell_type": "code",
   "source": [
    "cfg = Config(Path(\"../config/config.yaml\"))\n",
    "rng = set_seed(cfg.runtime.seed)\n",
    "horizon_1 = 1\n",
    "horizon_30 = 30"
   ],
   "id": "dce006aba7d14ee3",
   "outputs": [
    {
     "name": "stderr",
     "output_type": "stream",
     "text": [
      "2025-08-19 12:30:23,508 - INFO - src.utils - Global random seed set to 42\n"
     ]
    }
   ],
   "execution_count": 2
  },
  {
   "metadata": {
    "ExecuteTime": {
     "end_time": "2025-08-19T10:30:23.536950Z",
     "start_time": "2025-08-19T10:30:23.517579Z"
    }
   },
   "cell_type": "code",
   "source": "df_full = load_csv(Path(cfg.data.processed_dir) / cfg.data.name_features_full)",
   "id": "61dbc01f4ef54fc4",
   "outputs": [],
   "execution_count": 3
  },
  {
   "metadata": {
    "ExecuteTime": {
     "end_time": "2025-08-19T10:30:23.544809Z",
     "start_time": "2025-08-19T10:30:23.539958Z"
    }
   },
   "cell_type": "code",
   "source": "train, val, test, forecast = time_series_split(df_full, train_ratio=0.8, val_ratio=0.1, horizon=horizon_30)",
   "id": "b1c79d1b53ead0f6",
   "outputs": [],
   "execution_count": 4
  },
  {
   "metadata": {
    "ExecuteTime": {
     "end_time": "2025-08-19T10:30:23.552357Z",
     "start_time": "2025-08-19T10:30:23.547812Z"
    }
   },
   "cell_type": "code",
   "source": [
    "drop_cols = [\"open\", \"high\", \"low\", \"close\", \"volume\", \"adj_close\"]\n",
    "target_cols = [c for c in df_full.columns if c == \"target\" or c.startswith(\"target_\")]\n",
    "feature_cols = [c for c in df_full.columns if c not in target_cols + [\"date\"] + drop_cols]\n",
    "\n",
    "single_target = \"target\" if \"target\" in train.columns else \"target_1\"\n",
    "\n",
    "X_train, y_train = train[feature_cols], train[[single_target]]\n",
    "X_val, y_val = val[feature_cols], val[[single_target]]\n",
    "X_test, y_test = test[feature_cols], test[[single_target]]"
   ],
   "id": "195c79982d7f79c0",
   "outputs": [],
   "execution_count": 5
  },
  {
   "metadata": {
    "ExecuteTime": {
     "end_time": "2025-08-19T10:30:23.567260Z",
     "start_time": "2025-08-19T10:30:23.554861Z"
    }
   },
   "cell_type": "code",
   "source": "X_test.to_parquet(Path(cfg.data.processed_dir) / \"X_test_1.parquet\", index=False)",
   "id": "cd1f9c63a00a9a45",
   "outputs": [],
   "execution_count": 6
  },
  {
   "metadata": {
    "ExecuteTime": {
     "end_time": "2025-08-19T10:30:23.572821Z",
     "start_time": "2025-08-19T10:30:23.570263Z"
    }
   },
   "cell_type": "code",
   "source": "preprocessor, _ = get_preprocessor(X_train)",
   "id": "b966a015da5fa1cc",
   "outputs": [],
   "execution_count": 7
  },
  {
   "metadata": {
    "ExecuteTime": {
     "end_time": "2025-08-19T10:30:23.578840Z",
     "start_time": "2025-08-19T10:30:23.575329Z"
    }
   },
   "cell_type": "code",
   "source": [
    "model = LinearElasticNet(\n",
    "    horizon=horizon_1,\n",
    "    multioutput=False,\n",
    "    random_state=cfg.runtime.seed,\n",
    "    max_iter=2000\n",
    ")\n",
    "\n",
    "trainer = ModelTrainer(\n",
    "    model=model,\n",
    "    name=\"enet_mo_1\",\n",
    "    config={\"optimization_metric\": \"rmse\", \"gap\": 0},\n",
    "    preprocessor=preprocessor,\n",
    "    y_scale=True\n",
    ")"
   ],
   "id": "fcd9a9737f16125c",
   "outputs": [
    {
     "name": "stderr",
     "output_type": "stream",
     "text": [
      "2025-08-19 12:30:23,576 - INFO - ModelTrainer - Initialized ModelTrainer for model: enet_mo_1\n"
     ]
    }
   ],
   "execution_count": 8
  },
  {
   "metadata": {
    "ExecuteTime": {
     "end_time": "2025-08-19T10:30:24.619093Z",
     "start_time": "2025-08-19T10:30:23.585843Z"
    }
   },
   "cell_type": "code",
   "source": [
    "study = optuna.create_study(direction=\"minimize\")\n",
    "study.optimize(lambda t: trainer.objective(t, X_train, y_train, n_splits=3), n_trials=20)\n",
    "best_params = study.best_trial.user_attrs.get(\"best_params\", {})\n",
    "trainer.fit(X_train, y_train, X_val, y_val, best_params=best_params)"
   ],
   "id": "dec167adb2eec8a3",
   "outputs": [
    {
     "name": "stderr",
     "output_type": "stream",
     "text": [
      "[I 2025-08-19 12:30:23,587] A new study created in memory with name: no-name-b40f9acf-8d0a-4ba3-881e-ec37bb311613\n",
      "[I 2025-08-19 12:30:23,638] Trial 0 finished with value: 0.009970948995634431 and parameters: {'alpha': 0.0020126159430925734, 'l1_ratio': 0.7558081778987198, 'selection': 'cyclic'}. Best is trial 0 with value: 0.009970948995634431.\n",
      "D:\\IntelliJ\\ml-stock-sent\\.venv\\Lib\\site-packages\\sklearn\\linear_model\\_coordinate_descent.py:695: ConvergenceWarning: Objective did not converge. You might want to increase the number of iterations, check the scale of the features or consider increasing regularisation. Duality gap: 2.771e+00, tolerance: 3.880e-02\n",
      "  model = cd_fast.enet_coordinate_descent(\n",
      "D:\\IntelliJ\\ml-stock-sent\\.venv\\Lib\\site-packages\\sklearn\\linear_model\\_coordinate_descent.py:695: ConvergenceWarning: Objective did not converge. You might want to increase the number of iterations, check the scale of the features or consider increasing regularisation. Duality gap: 1.235e+00, tolerance: 7.740e-02\n",
      "  model = cd_fast.enet_coordinate_descent(\n",
      "D:\\IntelliJ\\ml-stock-sent\\.venv\\Lib\\site-packages\\sklearn\\linear_model\\_coordinate_descent.py:695: ConvergenceWarning: Objective did not converge. You might want to increase the number of iterations, check the scale of the features or consider increasing regularisation. Duality gap: 1.055e+00, tolerance: 1.160e-01\n",
      "  model = cd_fast.enet_coordinate_descent(\n",
      "[I 2025-08-19 12:30:23,718] Trial 1 finished with value: 0.010301446166923248 and parameters: {'alpha': 0.0005060933341382463, 'l1_ratio': 0.5682324361653661, 'selection': 'cyclic'}. Best is trial 0 with value: 0.009970948995634431.\n",
      "[I 2025-08-19 12:30:23,747] Trial 2 finished with value: 0.009064900599666866 and parameters: {'alpha': 0.16074185157008736, 'l1_ratio': 0.8138166307114569, 'selection': 'random'}. Best is trial 2 with value: 0.009064900599666866.\n",
      "D:\\IntelliJ\\ml-stock-sent\\.venv\\Lib\\site-packages\\sklearn\\linear_model\\_coordinate_descent.py:695: ConvergenceWarning: Objective did not converge. You might want to increase the number of iterations, check the scale of the features or consider increasing regularisation. Duality gap: 1.649e+02, tolerance: 3.880e-02\n",
      "  model = cd_fast.enet_coordinate_descent(\n",
      "D:\\IntelliJ\\ml-stock-sent\\.venv\\Lib\\site-packages\\sklearn\\linear_model\\_coordinate_descent.py:695: ConvergenceWarning: Objective did not converge. You might want to increase the number of iterations, check the scale of the features or consider increasing regularisation. Duality gap: 3.358e+02, tolerance: 7.740e-02\n",
      "  model = cd_fast.enet_coordinate_descent(\n",
      "D:\\IntelliJ\\ml-stock-sent\\.venv\\Lib\\site-packages\\sklearn\\linear_model\\_coordinate_descent.py:695: ConvergenceWarning: Objective did not converge. You might want to increase the number of iterations, check the scale of the features or consider increasing regularisation. Duality gap: 5.049e+02, tolerance: 1.160e-01\n",
      "  model = cd_fast.enet_coordinate_descent(\n",
      "[I 2025-08-19 12:30:23,826] Trial 3 finished with value: 0.010530120921237021 and parameters: {'alpha': 2.313531183485237e-06, 'l1_ratio': 0.8886762131161677, 'selection': 'cyclic'}. Best is trial 2 with value: 0.009064900599666866.\n",
      "D:\\IntelliJ\\ml-stock-sent\\.venv\\Lib\\site-packages\\sklearn\\linear_model\\_coordinate_descent.py:695: ConvergenceWarning: Objective did not converge. You might want to increase the number of iterations, check the scale of the features or consider increasing regularisation. Duality gap: 1.110e+02, tolerance: 3.880e-02\n",
      "  model = cd_fast.enet_coordinate_descent(\n",
      "D:\\IntelliJ\\ml-stock-sent\\.venv\\Lib\\site-packages\\sklearn\\linear_model\\_coordinate_descent.py:695: ConvergenceWarning: Objective did not converge. You might want to increase the number of iterations, check the scale of the features or consider increasing regularisation. Duality gap: 1.516e+02, tolerance: 7.740e-02\n",
      "  model = cd_fast.enet_coordinate_descent(\n",
      "D:\\IntelliJ\\ml-stock-sent\\.venv\\Lib\\site-packages\\sklearn\\linear_model\\_coordinate_descent.py:695: ConvergenceWarning: Objective did not converge. You might want to increase the number of iterations, check the scale of the features or consider increasing regularisation. Duality gap: 1.846e+02, tolerance: 1.160e-01\n",
      "  model = cd_fast.enet_coordinate_descent(\n",
      "[I 2025-08-19 12:30:23,908] Trial 4 finished with value: 0.010510760080131965 and parameters: {'alpha': 3.8969289745062286e-05, 'l1_ratio': 0.8293277853626192, 'selection': 'cyclic'}. Best is trial 2 with value: 0.009064900599666866.\n",
      "D:\\IntelliJ\\ml-stock-sent\\.venv\\Lib\\site-packages\\sklearn\\linear_model\\_coordinate_descent.py:695: ConvergenceWarning: Objective did not converge. You might want to increase the number of iterations, check the scale of the features or consider increasing regularisation. Duality gap: 1.660e+02, tolerance: 3.880e-02\n",
      "  model = cd_fast.enet_coordinate_descent(\n",
      "D:\\IntelliJ\\ml-stock-sent\\.venv\\Lib\\site-packages\\sklearn\\linear_model\\_coordinate_descent.py:695: ConvergenceWarning: Objective did not converge. You might want to increase the number of iterations, check the scale of the features or consider increasing regularisation. Duality gap: 3.436e+02, tolerance: 7.740e-02\n",
      "  model = cd_fast.enet_coordinate_descent(\n",
      "D:\\IntelliJ\\ml-stock-sent\\.venv\\Lib\\site-packages\\sklearn\\linear_model\\_coordinate_descent.py:695: ConvergenceWarning: Objective did not converge. You might want to increase the number of iterations, check the scale of the features or consider increasing regularisation. Duality gap: 5.205e+02, tolerance: 1.160e-01\n",
      "  model = cd_fast.enet_coordinate_descent(\n",
      "[I 2025-08-19 12:30:23,991] Trial 5 finished with value: 0.01042964706966698 and parameters: {'alpha': 1.2535465854259595e-05, 'l1_ratio': 0.6545335332243287, 'selection': 'random'}. Best is trial 2 with value: 0.009064900599666866.\n",
      "D:\\IntelliJ\\ml-stock-sent\\.venv\\Lib\\site-packages\\sklearn\\linear_model\\_coordinate_descent.py:695: ConvergenceWarning: Objective did not converge. You might want to increase the number of iterations, check the scale of the features or consider increasing regularisation. Duality gap: 1.580e+02, tolerance: 3.880e-02\n",
      "  model = cd_fast.enet_coordinate_descent(\n",
      "D:\\IntelliJ\\ml-stock-sent\\.venv\\Lib\\site-packages\\sklearn\\linear_model\\_coordinate_descent.py:695: ConvergenceWarning: Objective did not converge. You might want to increase the number of iterations, check the scale of the features or consider increasing regularisation. Duality gap: 3.037e+02, tolerance: 7.740e-02\n",
      "  model = cd_fast.enet_coordinate_descent(\n",
      "D:\\IntelliJ\\ml-stock-sent\\.venv\\Lib\\site-packages\\sklearn\\linear_model\\_coordinate_descent.py:695: ConvergenceWarning: Objective did not converge. You might want to increase the number of iterations, check the scale of the features or consider increasing regularisation. Duality gap: 4.439e+02, tolerance: 1.160e-01\n",
      "  model = cd_fast.enet_coordinate_descent(\n",
      "[I 2025-08-19 12:30:24,074] Trial 6 finished with value: 0.010370309349643959 and parameters: {'alpha': 0.00031331305383638827, 'l1_ratio': 0.004823769605423522, 'selection': 'cyclic'}. Best is trial 2 with value: 0.009064900599666866.\n",
      "[I 2025-08-19 12:30:24,104] Trial 7 finished with value: 0.009068638251761517 and parameters: {'alpha': 0.6213291780894767, 'l1_ratio': 0.9524760265418097, 'selection': 'cyclic'}. Best is trial 2 with value: 0.009064900599666866.\n",
      "D:\\IntelliJ\\ml-stock-sent\\.venv\\Lib\\site-packages\\sklearn\\linear_model\\_coordinate_descent.py:695: ConvergenceWarning: Objective did not converge. You might want to increase the number of iterations, check the scale of the features or consider increasing regularisation. Duality gap: 1.231e+02, tolerance: 3.880e-02\n",
      "  model = cd_fast.enet_coordinate_descent(\n",
      "D:\\IntelliJ\\ml-stock-sent\\.venv\\Lib\\site-packages\\sklearn\\linear_model\\_coordinate_descent.py:695: ConvergenceWarning: Objective did not converge. You might want to increase the number of iterations, check the scale of the features or consider increasing regularisation. Duality gap: 1.855e+02, tolerance: 7.740e-02\n",
      "  model = cd_fast.enet_coordinate_descent(\n",
      "D:\\IntelliJ\\ml-stock-sent\\.venv\\Lib\\site-packages\\sklearn\\linear_model\\_coordinate_descent.py:695: ConvergenceWarning: Objective did not converge. You might want to increase the number of iterations, check the scale of the features or consider increasing regularisation. Duality gap: 2.405e+02, tolerance: 1.160e-01\n",
      "  model = cd_fast.enet_coordinate_descent(\n",
      "[I 2025-08-19 12:30:24,189] Trial 8 finished with value: 0.010470320511208874 and parameters: {'alpha': 0.00010047340017934852, 'l1_ratio': 0.17350562410264558, 'selection': 'cyclic'}. Best is trial 2 with value: 0.009064900599666866.\n",
      "D:\\IntelliJ\\ml-stock-sent\\.venv\\Lib\\site-packages\\sklearn\\linear_model\\_coordinate_descent.py:695: ConvergenceWarning: Objective did not converge. You might want to increase the number of iterations, check the scale of the features or consider increasing regularisation. Duality gap: 1.680e+02, tolerance: 3.880e-02\n",
      "  model = cd_fast.enet_coordinate_descent(\n",
      "D:\\IntelliJ\\ml-stock-sent\\.venv\\Lib\\site-packages\\sklearn\\linear_model\\_coordinate_descent.py:695: ConvergenceWarning: Objective did not converge. You might want to increase the number of iterations, check the scale of the features or consider increasing regularisation. Duality gap: 3.510e+02, tolerance: 7.740e-02\n",
      "  model = cd_fast.enet_coordinate_descent(\n",
      "D:\\IntelliJ\\ml-stock-sent\\.venv\\Lib\\site-packages\\sklearn\\linear_model\\_coordinate_descent.py:695: ConvergenceWarning: Objective did not converge. You might want to increase the number of iterations, check the scale of the features or consider increasing regularisation. Duality gap: 5.347e+02, tolerance: 1.160e-01\n",
      "  model = cd_fast.enet_coordinate_descent(\n",
      "[I 2025-08-19 12:30:24,269] Trial 9 finished with value: 0.010423525732355764 and parameters: {'alpha': 2.8540275974250035e-05, 'l1_ratio': 0.13162501982617847, 'selection': 'random'}. Best is trial 2 with value: 0.009064900599666866.\n",
      "[I 2025-08-19 12:30:24,302] Trial 10 finished with value: 0.009068638251761517 and parameters: {'alpha': 0.7310006404358307, 'l1_ratio': 0.39331452583305676, 'selection': 'random'}. Best is trial 2 with value: 0.009064900599666866.\n",
      "[I 2025-08-19 12:30:24,334] Trial 11 finished with value: 0.009068638251761517 and parameters: {'alpha': 0.775747265776192, 'l1_ratio': 0.9995665493511153, 'selection': 'random'}. Best is trial 2 with value: 0.009064900599666866.\n",
      "[I 2025-08-19 12:30:24,368] Trial 12 finished with value: 0.009290312737118224 and parameters: {'alpha': 0.02807907994952841, 'l1_ratio': 0.9984374386910244, 'selection': 'random'}. Best is trial 2 with value: 0.009064900599666866.\n",
      "[I 2025-08-19 12:30:24,401] Trial 13 finished with value: 0.009402729074312251 and parameters: {'alpha': 0.04213931483444053, 'l1_ratio': 0.4246202411493699, 'selection': 'random'}. Best is trial 2 with value: 0.009064900599666866.\n",
      "[I 2025-08-19 12:30:24,434] Trial 14 finished with value: 0.009053994324139801 and parameters: {'alpha': 0.11153652053908407, 'l1_ratio': 0.7048509888809256, 'selection': 'cyclic'}. Best is trial 14 with value: 0.009053994324139801.\n",
      "[I 2025-08-19 12:30:24,467] Trial 15 finished with value: 0.009298805299731754 and parameters: {'alpha': 0.03698993124142935, 'l1_ratio': 0.7351936773342675, 'selection': 'random'}. Best is trial 14 with value: 0.009053994324139801.\n",
      "[I 2025-08-19 12:30:24,506] Trial 16 finished with value: 0.009744572478762868 and parameters: {'alpha': 0.005791695131325896, 'l1_ratio': 0.5380325469525893, 'selection': 'random'}. Best is trial 14 with value: 0.009053994324139801.\n",
      "[I 2025-08-19 12:30:24,537] Trial 17 finished with value: 0.009058763944575566 and parameters: {'alpha': 0.15945094192023074, 'l1_ratio': 0.6762511585962465, 'selection': 'cyclic'}. Best is trial 14 with value: 0.009053994324139801.\n",
      "[I 2025-08-19 12:30:24,572] Trial 18 finished with value: 0.009663921710963383 and parameters: {'alpha': 0.006530735150256622, 'l1_ratio': 0.655080981609017, 'selection': 'cyclic'}. Best is trial 14 with value: 0.009053994324139801.\n",
      "[I 2025-08-19 12:30:24,606] Trial 19 finished with value: 0.009186317205208567 and parameters: {'alpha': 0.09268940380176549, 'l1_ratio': 0.3818014384415631, 'selection': 'cyclic'}. Best is trial 14 with value: 0.009053994324139801.\n",
      "2025-08-19 12:30:24,606 - INFO - ModelTrainer - Starting model training...\n",
      "2025-08-19 12:30:24,616 - INFO - ModelTrainer - Training final model with best params: {'alpha': 0.11153652053908407, 'l1_ratio': 0.7048509888809256, 'selection': 'cyclic'}\n"
     ]
    }
   ],
   "execution_count": 9
  },
  {
   "metadata": {
    "ExecuteTime": {
     "end_time": "2025-08-19T10:30:24.702753Z",
     "start_time": "2025-08-19T10:30:24.691436Z"
    }
   },
   "cell_type": "code",
   "source": [
    "best_model = LinearElasticNet(horizon=horizon_1, **best_params)\n",
    "trainer = ModelTrainer(best_model, name=\"enet_mo_1\", config=best_params, preprocessor=preprocessor)\n",
    "trainer.fit(X_train, y_train)"
   ],
   "id": "fb5faa6e3a93c30e",
   "outputs": [
    {
     "name": "stderr",
     "output_type": "stream",
     "text": [
      "2025-08-19 12:30:24,692 - INFO - ModelTrainer - Initialized ModelTrainer for model: enet_mo_1\n",
      "2025-08-19 12:30:24,692 - INFO - ModelTrainer - Starting model training...\n"
     ]
    }
   ],
   "execution_count": 10
  },
  {
   "metadata": {
    "ExecuteTime": {
     "end_time": "2025-08-19T10:30:24.743376Z",
     "start_time": "2025-08-19T10:30:24.705760Z"
    }
   },
   "cell_type": "code",
   "source": [
    "print(\"train:\", trainer.evaluate(X_train, y_train))\n",
    "print(\"val  :\", trainer.evaluate(X_val, y_val))\n",
    "print(\"test :\", trainer.evaluate(X_test, y_test))"
   ],
   "id": "a5d7a08960728385",
   "outputs": [
    {
     "name": "stderr",
     "output_type": "stream",
     "text": [
      "2025-08-19 12:30:24,706 - INFO - ModelTrainer - Evaluating model...\n",
      "2025-08-19 12:30:24,733 - INFO - ModelTrainer - Evaluating model...\n",
      "2025-08-19 12:30:24,737 - INFO - ModelTrainer - Evaluating model...\n"
     ]
    },
    {
     "name": "stdout",
     "output_type": "stream",
     "text": [
      "train: {'mae': 0.00832808698183925, 'mse': 0.00017557412560951694, 'rmse': 0.013250438694983534, 'smape': 1.7904197822148713, 'r2': 0.0070674753322894635}\n",
      "val  : {'mae': 0.005782411994355792, 'mse': 5.941541900359507e-05, 'rmse': 0.00770813978879438, 'smape': 1.7763069343732265, 'r2': 0.0039889549837553995}\n",
      "test : {'mae': 0.008231181354023351, 'mse': 0.00012038771734636927, 'rmse': 0.010972133673373163, 'smape': 1.8132872725536042, 'r2': -0.0012181656650396278}\n"
     ]
    }
   ],
   "execution_count": 11
  },
  {
   "metadata": {
    "ExecuteTime": {
     "end_time": "2025-08-19T10:30:24.756238Z",
     "start_time": "2025-08-19T10:30:24.752879Z"
    }
   },
   "cell_type": "code",
   "source": "model_path = trainer.save()",
   "id": "d9cc2b6f24ca9bf1",
   "outputs": [],
   "execution_count": 12
  },
  {
   "metadata": {
    "ExecuteTime": {
     "end_time": "2025-08-19T10:30:25.590115Z",
     "start_time": "2025-08-19T10:30:24.758241Z"
    }
   },
   "cell_type": "code",
   "source": [
    "vis.plot_optimization_history(study).show()\n",
    "vis.plot_param_importances(study).show()"
   ],
   "id": "38483f03b8c52fed",
   "outputs": [
    {
     "data": {
      "application/vnd.plotly.v1+json": {
       "data": [
        {
         "mode": "markers",
         "name": "Objective Value",
         "x": [
          0,
          1,
          2,
          3,
          4,
          5,
          6,
          7,
          8,
          9,
          10,
          11,
          12,
          13,
          14,
          15,
          16,
          17,
          18,
          19
         ],
         "y": [
          0.009970948995634431,
          0.010301446166923248,
          0.009064900599666866,
          0.010530120921237021,
          0.010510760080131965,
          0.01042964706966698,
          0.010370309349643959,
          0.009068638251761517,
          0.010470320511208874,
          0.010423525732355764,
          0.009068638251761517,
          0.009068638251761517,
          0.009290312737118224,
          0.009402729074312251,
          0.009053994324139801,
          0.009298805299731754,
          0.009744572478762868,
          0.009058763944575566,
          0.009663921710963383,
          0.009186317205208567
         ],
         "type": "scatter"
        },
        {
         "mode": "lines",
         "name": "Best Value",
         "x": [
          0,
          1,
          2,
          3,
          4,
          5,
          6,
          7,
          8,
          9,
          10,
          11,
          12,
          13,
          14,
          15,
          16,
          17,
          18,
          19
         ],
         "y": [
          0.009970948995634431,
          0.009970948995634431,
          0.009064900599666866,
          0.009064900599666866,
          0.009064900599666866,
          0.009064900599666866,
          0.009064900599666866,
          0.009064900599666866,
          0.009064900599666866,
          0.009064900599666866,
          0.009064900599666866,
          0.009064900599666866,
          0.009064900599666866,
          0.009064900599666866,
          0.009053994324139801,
          0.009053994324139801,
          0.009053994324139801,
          0.009053994324139801,
          0.009053994324139801,
          0.009053994324139801
         ],
         "type": "scatter"
        },
        {
         "marker": {
          "color": "#cccccc"
         },
         "mode": "markers",
         "name": "Infeasible Trial",
         "showlegend": false,
         "x": [],
         "y": [],
         "type": "scatter"
        }
       ],
       "layout": {
        "title": {
         "text": "Optimization History Plot"
        },
        "xaxis": {
         "title": {
          "text": "Trial"
         }
        },
        "yaxis": {
         "title": {
          "text": "Objective Value"
         }
        },
        "template": {
         "data": {
          "histogram2dcontour": [
           {
            "type": "histogram2dcontour",
            "colorbar": {
             "outlinewidth": 0,
             "ticks": ""
            },
            "colorscale": [
             [
              0.0,
              "#0d0887"
             ],
             [
              0.1111111111111111,
              "#46039f"
             ],
             [
              0.2222222222222222,
              "#7201a8"
             ],
             [
              0.3333333333333333,
              "#9c179e"
             ],
             [
              0.4444444444444444,
              "#bd3786"
             ],
             [
              0.5555555555555556,
              "#d8576b"
             ],
             [
              0.6666666666666666,
              "#ed7953"
             ],
             [
              0.7777777777777778,
              "#fb9f3a"
             ],
             [
              0.8888888888888888,
              "#fdca26"
             ],
             [
              1.0,
              "#f0f921"
             ]
            ]
           }
          ],
          "choropleth": [
           {
            "type": "choropleth",
            "colorbar": {
             "outlinewidth": 0,
             "ticks": ""
            }
           }
          ],
          "histogram2d": [
           {
            "type": "histogram2d",
            "colorbar": {
             "outlinewidth": 0,
             "ticks": ""
            },
            "colorscale": [
             [
              0.0,
              "#0d0887"
             ],
             [
              0.1111111111111111,
              "#46039f"
             ],
             [
              0.2222222222222222,
              "#7201a8"
             ],
             [
              0.3333333333333333,
              "#9c179e"
             ],
             [
              0.4444444444444444,
              "#bd3786"
             ],
             [
              0.5555555555555556,
              "#d8576b"
             ],
             [
              0.6666666666666666,
              "#ed7953"
             ],
             [
              0.7777777777777778,
              "#fb9f3a"
             ],
             [
              0.8888888888888888,
              "#fdca26"
             ],
             [
              1.0,
              "#f0f921"
             ]
            ]
           }
          ],
          "heatmap": [
           {
            "type": "heatmap",
            "colorbar": {
             "outlinewidth": 0,
             "ticks": ""
            },
            "colorscale": [
             [
              0.0,
              "#0d0887"
             ],
             [
              0.1111111111111111,
              "#46039f"
             ],
             [
              0.2222222222222222,
              "#7201a8"
             ],
             [
              0.3333333333333333,
              "#9c179e"
             ],
             [
              0.4444444444444444,
              "#bd3786"
             ],
             [
              0.5555555555555556,
              "#d8576b"
             ],
             [
              0.6666666666666666,
              "#ed7953"
             ],
             [
              0.7777777777777778,
              "#fb9f3a"
             ],
             [
              0.8888888888888888,
              "#fdca26"
             ],
             [
              1.0,
              "#f0f921"
             ]
            ]
           }
          ],
          "contourcarpet": [
           {
            "type": "contourcarpet",
            "colorbar": {
             "outlinewidth": 0,
             "ticks": ""
            }
           }
          ],
          "contour": [
           {
            "type": "contour",
            "colorbar": {
             "outlinewidth": 0,
             "ticks": ""
            },
            "colorscale": [
             [
              0.0,
              "#0d0887"
             ],
             [
              0.1111111111111111,
              "#46039f"
             ],
             [
              0.2222222222222222,
              "#7201a8"
             ],
             [
              0.3333333333333333,
              "#9c179e"
             ],
             [
              0.4444444444444444,
              "#bd3786"
             ],
             [
              0.5555555555555556,
              "#d8576b"
             ],
             [
              0.6666666666666666,
              "#ed7953"
             ],
             [
              0.7777777777777778,
              "#fb9f3a"
             ],
             [
              0.8888888888888888,
              "#fdca26"
             ],
             [
              1.0,
              "#f0f921"
             ]
            ]
           }
          ],
          "surface": [
           {
            "type": "surface",
            "colorbar": {
             "outlinewidth": 0,
             "ticks": ""
            },
            "colorscale": [
             [
              0.0,
              "#0d0887"
             ],
             [
              0.1111111111111111,
              "#46039f"
             ],
             [
              0.2222222222222222,
              "#7201a8"
             ],
             [
              0.3333333333333333,
              "#9c179e"
             ],
             [
              0.4444444444444444,
              "#bd3786"
             ],
             [
              0.5555555555555556,
              "#d8576b"
             ],
             [
              0.6666666666666666,
              "#ed7953"
             ],
             [
              0.7777777777777778,
              "#fb9f3a"
             ],
             [
              0.8888888888888888,
              "#fdca26"
             ],
             [
              1.0,
              "#f0f921"
             ]
            ]
           }
          ],
          "mesh3d": [
           {
            "type": "mesh3d",
            "colorbar": {
             "outlinewidth": 0,
             "ticks": ""
            }
           }
          ],
          "scatter": [
           {
            "fillpattern": {
             "fillmode": "overlay",
             "size": 10,
             "solidity": 0.2
            },
            "type": "scatter"
           }
          ],
          "parcoords": [
           {
            "type": "parcoords",
            "line": {
             "colorbar": {
              "outlinewidth": 0,
              "ticks": ""
             }
            }
           }
          ],
          "scatterpolargl": [
           {
            "type": "scatterpolargl",
            "marker": {
             "colorbar": {
              "outlinewidth": 0,
              "ticks": ""
             }
            }
           }
          ],
          "bar": [
           {
            "error_x": {
             "color": "#2a3f5f"
            },
            "error_y": {
             "color": "#2a3f5f"
            },
            "marker": {
             "line": {
              "color": "#E5ECF6",
              "width": 0.5
             },
             "pattern": {
              "fillmode": "overlay",
              "size": 10,
              "solidity": 0.2
             }
            },
            "type": "bar"
           }
          ],
          "scattergeo": [
           {
            "type": "scattergeo",
            "marker": {
             "colorbar": {
              "outlinewidth": 0,
              "ticks": ""
             }
            }
           }
          ],
          "scatterpolar": [
           {
            "type": "scatterpolar",
            "marker": {
             "colorbar": {
              "outlinewidth": 0,
              "ticks": ""
             }
            }
           }
          ],
          "histogram": [
           {
            "marker": {
             "pattern": {
              "fillmode": "overlay",
              "size": 10,
              "solidity": 0.2
             }
            },
            "type": "histogram"
           }
          ],
          "scattergl": [
           {
            "type": "scattergl",
            "marker": {
             "colorbar": {
              "outlinewidth": 0,
              "ticks": ""
             }
            }
           }
          ],
          "scatter3d": [
           {
            "type": "scatter3d",
            "line": {
             "colorbar": {
              "outlinewidth": 0,
              "ticks": ""
             }
            },
            "marker": {
             "colorbar": {
              "outlinewidth": 0,
              "ticks": ""
             }
            }
           }
          ],
          "scattermap": [
           {
            "type": "scattermap",
            "marker": {
             "colorbar": {
              "outlinewidth": 0,
              "ticks": ""
             }
            }
           }
          ],
          "scattermapbox": [
           {
            "type": "scattermapbox",
            "marker": {
             "colorbar": {
              "outlinewidth": 0,
              "ticks": ""
             }
            }
           }
          ],
          "scatterternary": [
           {
            "type": "scatterternary",
            "marker": {
             "colorbar": {
              "outlinewidth": 0,
              "ticks": ""
             }
            }
           }
          ],
          "scattercarpet": [
           {
            "type": "scattercarpet",
            "marker": {
             "colorbar": {
              "outlinewidth": 0,
              "ticks": ""
             }
            }
           }
          ],
          "carpet": [
           {
            "aaxis": {
             "endlinecolor": "#2a3f5f",
             "gridcolor": "white",
             "linecolor": "white",
             "minorgridcolor": "white",
             "startlinecolor": "#2a3f5f"
            },
            "baxis": {
             "endlinecolor": "#2a3f5f",
             "gridcolor": "white",
             "linecolor": "white",
             "minorgridcolor": "white",
             "startlinecolor": "#2a3f5f"
            },
            "type": "carpet"
           }
          ],
          "table": [
           {
            "cells": {
             "fill": {
              "color": "#EBF0F8"
             },
             "line": {
              "color": "white"
             }
            },
            "header": {
             "fill": {
              "color": "#C8D4E3"
             },
             "line": {
              "color": "white"
             }
            },
            "type": "table"
           }
          ],
          "barpolar": [
           {
            "marker": {
             "line": {
              "color": "#E5ECF6",
              "width": 0.5
             },
             "pattern": {
              "fillmode": "overlay",
              "size": 10,
              "solidity": 0.2
             }
            },
            "type": "barpolar"
           }
          ],
          "pie": [
           {
            "automargin": true,
            "type": "pie"
           }
          ]
         },
         "layout": {
          "autotypenumbers": "strict",
          "colorway": [
           "#636efa",
           "#EF553B",
           "#00cc96",
           "#ab63fa",
           "#FFA15A",
           "#19d3f3",
           "#FF6692",
           "#B6E880",
           "#FF97FF",
           "#FECB52"
          ],
          "font": {
           "color": "#2a3f5f"
          },
          "hovermode": "closest",
          "hoverlabel": {
           "align": "left"
          },
          "paper_bgcolor": "white",
          "plot_bgcolor": "#E5ECF6",
          "polar": {
           "bgcolor": "#E5ECF6",
           "angularaxis": {
            "gridcolor": "white",
            "linecolor": "white",
            "ticks": ""
           },
           "radialaxis": {
            "gridcolor": "white",
            "linecolor": "white",
            "ticks": ""
           }
          },
          "ternary": {
           "bgcolor": "#E5ECF6",
           "aaxis": {
            "gridcolor": "white",
            "linecolor": "white",
            "ticks": ""
           },
           "baxis": {
            "gridcolor": "white",
            "linecolor": "white",
            "ticks": ""
           },
           "caxis": {
            "gridcolor": "white",
            "linecolor": "white",
            "ticks": ""
           }
          },
          "coloraxis": {
           "colorbar": {
            "outlinewidth": 0,
            "ticks": ""
           }
          },
          "colorscale": {
           "sequential": [
            [
             0.0,
             "#0d0887"
            ],
            [
             0.1111111111111111,
             "#46039f"
            ],
            [
             0.2222222222222222,
             "#7201a8"
            ],
            [
             0.3333333333333333,
             "#9c179e"
            ],
            [
             0.4444444444444444,
             "#bd3786"
            ],
            [
             0.5555555555555556,
             "#d8576b"
            ],
            [
             0.6666666666666666,
             "#ed7953"
            ],
            [
             0.7777777777777778,
             "#fb9f3a"
            ],
            [
             0.8888888888888888,
             "#fdca26"
            ],
            [
             1.0,
             "#f0f921"
            ]
           ],
           "sequentialminus": [
            [
             0.0,
             "#0d0887"
            ],
            [
             0.1111111111111111,
             "#46039f"
            ],
            [
             0.2222222222222222,
             "#7201a8"
            ],
            [
             0.3333333333333333,
             "#9c179e"
            ],
            [
             0.4444444444444444,
             "#bd3786"
            ],
            [
             0.5555555555555556,
             "#d8576b"
            ],
            [
             0.6666666666666666,
             "#ed7953"
            ],
            [
             0.7777777777777778,
             "#fb9f3a"
            ],
            [
             0.8888888888888888,
             "#fdca26"
            ],
            [
             1.0,
             "#f0f921"
            ]
           ],
           "diverging": [
            [
             0,
             "#8e0152"
            ],
            [
             0.1,
             "#c51b7d"
            ],
            [
             0.2,
             "#de77ae"
            ],
            [
             0.3,
             "#f1b6da"
            ],
            [
             0.4,
             "#fde0ef"
            ],
            [
             0.5,
             "#f7f7f7"
            ],
            [
             0.6,
             "#e6f5d0"
            ],
            [
             0.7,
             "#b8e186"
            ],
            [
             0.8,
             "#7fbc41"
            ],
            [
             0.9,
             "#4d9221"
            ],
            [
             1,
             "#276419"
            ]
           ]
          },
          "xaxis": {
           "gridcolor": "white",
           "linecolor": "white",
           "ticks": "",
           "title": {
            "standoff": 15
           },
           "zerolinecolor": "white",
           "automargin": true,
           "zerolinewidth": 2
          },
          "yaxis": {
           "gridcolor": "white",
           "linecolor": "white",
           "ticks": "",
           "title": {
            "standoff": 15
           },
           "zerolinecolor": "white",
           "automargin": true,
           "zerolinewidth": 2
          },
          "scene": {
           "xaxis": {
            "backgroundcolor": "#E5ECF6",
            "gridcolor": "white",
            "linecolor": "white",
            "showbackground": true,
            "ticks": "",
            "zerolinecolor": "white",
            "gridwidth": 2
           },
           "yaxis": {
            "backgroundcolor": "#E5ECF6",
            "gridcolor": "white",
            "linecolor": "white",
            "showbackground": true,
            "ticks": "",
            "zerolinecolor": "white",
            "gridwidth": 2
           },
           "zaxis": {
            "backgroundcolor": "#E5ECF6",
            "gridcolor": "white",
            "linecolor": "white",
            "showbackground": true,
            "ticks": "",
            "zerolinecolor": "white",
            "gridwidth": 2
           }
          },
          "shapedefaults": {
           "line": {
            "color": "#2a3f5f"
           }
          },
          "annotationdefaults": {
           "arrowcolor": "#2a3f5f",
           "arrowhead": 0,
           "arrowwidth": 1
          },
          "geo": {
           "bgcolor": "white",
           "landcolor": "#E5ECF6",
           "subunitcolor": "white",
           "showland": true,
           "showlakes": true,
           "lakecolor": "white"
          },
          "title": {
           "x": 0.05
          },
          "mapbox": {
           "style": "light"
          }
         }
        }
       },
       "config": {
        "plotlyServerURL": "https://plot.ly"
       }
      }
     },
     "metadata": {},
     "output_type": "display_data"
    },
    {
     "data": {
      "application/vnd.plotly.v1+json": {
       "data": [
        {
         "cliponaxis": false,
         "hovertemplate": [
          "selection (CategoricalDistribution): 0.016106987178614526<extra></extra>",
          "l1_ratio (FloatDistribution): 0.07030291578334855<extra></extra>",
          "alpha (FloatDistribution): 0.913590097038037<extra></extra>"
         ],
         "name": "Objective Value",
         "orientation": "h",
         "text": [
          "0.02",
          "0.07",
          "0.91"
         ],
         "textposition": "outside",
         "x": [
          0.016106987178614526,
          0.07030291578334855,
          0.913590097038037
         ],
         "y": [
          "selection",
          "l1_ratio",
          "alpha"
         ],
         "type": "bar"
        }
       ],
       "layout": {
        "title": {
         "text": "Hyperparameter Importances"
        },
        "xaxis": {
         "title": {
          "text": "Hyperparameter Importance"
         }
        },
        "yaxis": {
         "title": {
          "text": "Hyperparameter"
         }
        },
        "template": {
         "data": {
          "histogram2dcontour": [
           {
            "type": "histogram2dcontour",
            "colorbar": {
             "outlinewidth": 0,
             "ticks": ""
            },
            "colorscale": [
             [
              0.0,
              "#0d0887"
             ],
             [
              0.1111111111111111,
              "#46039f"
             ],
             [
              0.2222222222222222,
              "#7201a8"
             ],
             [
              0.3333333333333333,
              "#9c179e"
             ],
             [
              0.4444444444444444,
              "#bd3786"
             ],
             [
              0.5555555555555556,
              "#d8576b"
             ],
             [
              0.6666666666666666,
              "#ed7953"
             ],
             [
              0.7777777777777778,
              "#fb9f3a"
             ],
             [
              0.8888888888888888,
              "#fdca26"
             ],
             [
              1.0,
              "#f0f921"
             ]
            ]
           }
          ],
          "choropleth": [
           {
            "type": "choropleth",
            "colorbar": {
             "outlinewidth": 0,
             "ticks": ""
            }
           }
          ],
          "histogram2d": [
           {
            "type": "histogram2d",
            "colorbar": {
             "outlinewidth": 0,
             "ticks": ""
            },
            "colorscale": [
             [
              0.0,
              "#0d0887"
             ],
             [
              0.1111111111111111,
              "#46039f"
             ],
             [
              0.2222222222222222,
              "#7201a8"
             ],
             [
              0.3333333333333333,
              "#9c179e"
             ],
             [
              0.4444444444444444,
              "#bd3786"
             ],
             [
              0.5555555555555556,
              "#d8576b"
             ],
             [
              0.6666666666666666,
              "#ed7953"
             ],
             [
              0.7777777777777778,
              "#fb9f3a"
             ],
             [
              0.8888888888888888,
              "#fdca26"
             ],
             [
              1.0,
              "#f0f921"
             ]
            ]
           }
          ],
          "heatmap": [
           {
            "type": "heatmap",
            "colorbar": {
             "outlinewidth": 0,
             "ticks": ""
            },
            "colorscale": [
             [
              0.0,
              "#0d0887"
             ],
             [
              0.1111111111111111,
              "#46039f"
             ],
             [
              0.2222222222222222,
              "#7201a8"
             ],
             [
              0.3333333333333333,
              "#9c179e"
             ],
             [
              0.4444444444444444,
              "#bd3786"
             ],
             [
              0.5555555555555556,
              "#d8576b"
             ],
             [
              0.6666666666666666,
              "#ed7953"
             ],
             [
              0.7777777777777778,
              "#fb9f3a"
             ],
             [
              0.8888888888888888,
              "#fdca26"
             ],
             [
              1.0,
              "#f0f921"
             ]
            ]
           }
          ],
          "contourcarpet": [
           {
            "type": "contourcarpet",
            "colorbar": {
             "outlinewidth": 0,
             "ticks": ""
            }
           }
          ],
          "contour": [
           {
            "type": "contour",
            "colorbar": {
             "outlinewidth": 0,
             "ticks": ""
            },
            "colorscale": [
             [
              0.0,
              "#0d0887"
             ],
             [
              0.1111111111111111,
              "#46039f"
             ],
             [
              0.2222222222222222,
              "#7201a8"
             ],
             [
              0.3333333333333333,
              "#9c179e"
             ],
             [
              0.4444444444444444,
              "#bd3786"
             ],
             [
              0.5555555555555556,
              "#d8576b"
             ],
             [
              0.6666666666666666,
              "#ed7953"
             ],
             [
              0.7777777777777778,
              "#fb9f3a"
             ],
             [
              0.8888888888888888,
              "#fdca26"
             ],
             [
              1.0,
              "#f0f921"
             ]
            ]
           }
          ],
          "surface": [
           {
            "type": "surface",
            "colorbar": {
             "outlinewidth": 0,
             "ticks": ""
            },
            "colorscale": [
             [
              0.0,
              "#0d0887"
             ],
             [
              0.1111111111111111,
              "#46039f"
             ],
             [
              0.2222222222222222,
              "#7201a8"
             ],
             [
              0.3333333333333333,
              "#9c179e"
             ],
             [
              0.4444444444444444,
              "#bd3786"
             ],
             [
              0.5555555555555556,
              "#d8576b"
             ],
             [
              0.6666666666666666,
              "#ed7953"
             ],
             [
              0.7777777777777778,
              "#fb9f3a"
             ],
             [
              0.8888888888888888,
              "#fdca26"
             ],
             [
              1.0,
              "#f0f921"
             ]
            ]
           }
          ],
          "mesh3d": [
           {
            "type": "mesh3d",
            "colorbar": {
             "outlinewidth": 0,
             "ticks": ""
            }
           }
          ],
          "scatter": [
           {
            "fillpattern": {
             "fillmode": "overlay",
             "size": 10,
             "solidity": 0.2
            },
            "type": "scatter"
           }
          ],
          "parcoords": [
           {
            "type": "parcoords",
            "line": {
             "colorbar": {
              "outlinewidth": 0,
              "ticks": ""
             }
            }
           }
          ],
          "scatterpolargl": [
           {
            "type": "scatterpolargl",
            "marker": {
             "colorbar": {
              "outlinewidth": 0,
              "ticks": ""
             }
            }
           }
          ],
          "bar": [
           {
            "error_x": {
             "color": "#2a3f5f"
            },
            "error_y": {
             "color": "#2a3f5f"
            },
            "marker": {
             "line": {
              "color": "#E5ECF6",
              "width": 0.5
             },
             "pattern": {
              "fillmode": "overlay",
              "size": 10,
              "solidity": 0.2
             }
            },
            "type": "bar"
           }
          ],
          "scattergeo": [
           {
            "type": "scattergeo",
            "marker": {
             "colorbar": {
              "outlinewidth": 0,
              "ticks": ""
             }
            }
           }
          ],
          "scatterpolar": [
           {
            "type": "scatterpolar",
            "marker": {
             "colorbar": {
              "outlinewidth": 0,
              "ticks": ""
             }
            }
           }
          ],
          "histogram": [
           {
            "marker": {
             "pattern": {
              "fillmode": "overlay",
              "size": 10,
              "solidity": 0.2
             }
            },
            "type": "histogram"
           }
          ],
          "scattergl": [
           {
            "type": "scattergl",
            "marker": {
             "colorbar": {
              "outlinewidth": 0,
              "ticks": ""
             }
            }
           }
          ],
          "scatter3d": [
           {
            "type": "scatter3d",
            "line": {
             "colorbar": {
              "outlinewidth": 0,
              "ticks": ""
             }
            },
            "marker": {
             "colorbar": {
              "outlinewidth": 0,
              "ticks": ""
             }
            }
           }
          ],
          "scattermap": [
           {
            "type": "scattermap",
            "marker": {
             "colorbar": {
              "outlinewidth": 0,
              "ticks": ""
             }
            }
           }
          ],
          "scattermapbox": [
           {
            "type": "scattermapbox",
            "marker": {
             "colorbar": {
              "outlinewidth": 0,
              "ticks": ""
             }
            }
           }
          ],
          "scatterternary": [
           {
            "type": "scatterternary",
            "marker": {
             "colorbar": {
              "outlinewidth": 0,
              "ticks": ""
             }
            }
           }
          ],
          "scattercarpet": [
           {
            "type": "scattercarpet",
            "marker": {
             "colorbar": {
              "outlinewidth": 0,
              "ticks": ""
             }
            }
           }
          ],
          "carpet": [
           {
            "aaxis": {
             "endlinecolor": "#2a3f5f",
             "gridcolor": "white",
             "linecolor": "white",
             "minorgridcolor": "white",
             "startlinecolor": "#2a3f5f"
            },
            "baxis": {
             "endlinecolor": "#2a3f5f",
             "gridcolor": "white",
             "linecolor": "white",
             "minorgridcolor": "white",
             "startlinecolor": "#2a3f5f"
            },
            "type": "carpet"
           }
          ],
          "table": [
           {
            "cells": {
             "fill": {
              "color": "#EBF0F8"
             },
             "line": {
              "color": "white"
             }
            },
            "header": {
             "fill": {
              "color": "#C8D4E3"
             },
             "line": {
              "color": "white"
             }
            },
            "type": "table"
           }
          ],
          "barpolar": [
           {
            "marker": {
             "line": {
              "color": "#E5ECF6",
              "width": 0.5
             },
             "pattern": {
              "fillmode": "overlay",
              "size": 10,
              "solidity": 0.2
             }
            },
            "type": "barpolar"
           }
          ],
          "pie": [
           {
            "automargin": true,
            "type": "pie"
           }
          ]
         },
         "layout": {
          "autotypenumbers": "strict",
          "colorway": [
           "#636efa",
           "#EF553B",
           "#00cc96",
           "#ab63fa",
           "#FFA15A",
           "#19d3f3",
           "#FF6692",
           "#B6E880",
           "#FF97FF",
           "#FECB52"
          ],
          "font": {
           "color": "#2a3f5f"
          },
          "hovermode": "closest",
          "hoverlabel": {
           "align": "left"
          },
          "paper_bgcolor": "white",
          "plot_bgcolor": "#E5ECF6",
          "polar": {
           "bgcolor": "#E5ECF6",
           "angularaxis": {
            "gridcolor": "white",
            "linecolor": "white",
            "ticks": ""
           },
           "radialaxis": {
            "gridcolor": "white",
            "linecolor": "white",
            "ticks": ""
           }
          },
          "ternary": {
           "bgcolor": "#E5ECF6",
           "aaxis": {
            "gridcolor": "white",
            "linecolor": "white",
            "ticks": ""
           },
           "baxis": {
            "gridcolor": "white",
            "linecolor": "white",
            "ticks": ""
           },
           "caxis": {
            "gridcolor": "white",
            "linecolor": "white",
            "ticks": ""
           }
          },
          "coloraxis": {
           "colorbar": {
            "outlinewidth": 0,
            "ticks": ""
           }
          },
          "colorscale": {
           "sequential": [
            [
             0.0,
             "#0d0887"
            ],
            [
             0.1111111111111111,
             "#46039f"
            ],
            [
             0.2222222222222222,
             "#7201a8"
            ],
            [
             0.3333333333333333,
             "#9c179e"
            ],
            [
             0.4444444444444444,
             "#bd3786"
            ],
            [
             0.5555555555555556,
             "#d8576b"
            ],
            [
             0.6666666666666666,
             "#ed7953"
            ],
            [
             0.7777777777777778,
             "#fb9f3a"
            ],
            [
             0.8888888888888888,
             "#fdca26"
            ],
            [
             1.0,
             "#f0f921"
            ]
           ],
           "sequentialminus": [
            [
             0.0,
             "#0d0887"
            ],
            [
             0.1111111111111111,
             "#46039f"
            ],
            [
             0.2222222222222222,
             "#7201a8"
            ],
            [
             0.3333333333333333,
             "#9c179e"
            ],
            [
             0.4444444444444444,
             "#bd3786"
            ],
            [
             0.5555555555555556,
             "#d8576b"
            ],
            [
             0.6666666666666666,
             "#ed7953"
            ],
            [
             0.7777777777777778,
             "#fb9f3a"
            ],
            [
             0.8888888888888888,
             "#fdca26"
            ],
            [
             1.0,
             "#f0f921"
            ]
           ],
           "diverging": [
            [
             0,
             "#8e0152"
            ],
            [
             0.1,
             "#c51b7d"
            ],
            [
             0.2,
             "#de77ae"
            ],
            [
             0.3,
             "#f1b6da"
            ],
            [
             0.4,
             "#fde0ef"
            ],
            [
             0.5,
             "#f7f7f7"
            ],
            [
             0.6,
             "#e6f5d0"
            ],
            [
             0.7,
             "#b8e186"
            ],
            [
             0.8,
             "#7fbc41"
            ],
            [
             0.9,
             "#4d9221"
            ],
            [
             1,
             "#276419"
            ]
           ]
          },
          "xaxis": {
           "gridcolor": "white",
           "linecolor": "white",
           "ticks": "",
           "title": {
            "standoff": 15
           },
           "zerolinecolor": "white",
           "automargin": true,
           "zerolinewidth": 2
          },
          "yaxis": {
           "gridcolor": "white",
           "linecolor": "white",
           "ticks": "",
           "title": {
            "standoff": 15
           },
           "zerolinecolor": "white",
           "automargin": true,
           "zerolinewidth": 2
          },
          "scene": {
           "xaxis": {
            "backgroundcolor": "#E5ECF6",
            "gridcolor": "white",
            "linecolor": "white",
            "showbackground": true,
            "ticks": "",
            "zerolinecolor": "white",
            "gridwidth": 2
           },
           "yaxis": {
            "backgroundcolor": "#E5ECF6",
            "gridcolor": "white",
            "linecolor": "white",
            "showbackground": true,
            "ticks": "",
            "zerolinecolor": "white",
            "gridwidth": 2
           },
           "zaxis": {
            "backgroundcolor": "#E5ECF6",
            "gridcolor": "white",
            "linecolor": "white",
            "showbackground": true,
            "ticks": "",
            "zerolinecolor": "white",
            "gridwidth": 2
           }
          },
          "shapedefaults": {
           "line": {
            "color": "#2a3f5f"
           }
          },
          "annotationdefaults": {
           "arrowcolor": "#2a3f5f",
           "arrowhead": 0,
           "arrowwidth": 1
          },
          "geo": {
           "bgcolor": "white",
           "landcolor": "#E5ECF6",
           "subunitcolor": "white",
           "showland": true,
           "showlakes": true,
           "lakecolor": "white"
          },
          "title": {
           "x": 0.05
          },
          "mapbox": {
           "style": "light"
          }
         }
        }
       },
       "config": {
        "plotlyServerURL": "https://plot.ly"
       }
      }
     },
     "metadata": {},
     "output_type": "display_data"
    }
   ],
   "execution_count": 13
  },
  {
   "metadata": {},
   "cell_type": "markdown",
   "source": "## Recursive",
   "id": "a6862b2b0e2d1365"
  },
  {
   "metadata": {
    "ExecuteTime": {
     "end_time": "2025-08-19T10:30:26.028383Z",
     "start_time": "2025-08-19T10:30:25.632366Z"
    }
   },
   "cell_type": "code",
   "source": [
    "MODEL_PATH = Path(cfg.model.path_dir) / cfg.model.enet_mo_best_1\n",
    "model, preprocessor, y_scaler, _ = ModelTrainer.load(str(MODEL_PATH))\n",
    "\n",
    "price_cols = [\"date\", \"open\", \"high\", \"low\", \"close\", \"adj_close\", \"volume\"]\n",
    "price_df = df_full[price_cols].dropna(subset=[\"date\", \"adj_close\"]).copy()\n",
    "\n",
    "news_df = pd.DataFrame()\n",
    "\n",
    "forecaster = RecursiveForecaster(\n",
    "    model,\n",
    "    preprocessor,\n",
    "    y_scaler,\n",
    "    sentiment_model=None)\n",
    "\n",
    "lr_path = forecaster.forecast(\n",
    "    price_df=price_df,\n",
    "    news_df=news_df,\n",
    "    horizon=horizon_30\n",
    ")\n",
    "\n",
    "start_price = float(price_df[\"adj_close\"].iloc[-1])\n",
    "price_path = start_price * np.exp(np.cumsum(lr_path))\n",
    "\n",
    "pd.DataFrame({\"h\": np.arange(1, horizon_30 + 1), \"log_return\": lr_path, \"price\": price_path}).head()"
   ],
   "id": "2e830722b374fc39",
   "outputs": [
    {
     "data": {
      "text/plain": [
       "   h  log_return         price\n",
       "0  1    0.000045  17950.182363\n",
       "1  2    0.000146  17952.804738\n",
       "2  3    0.000198  17956.360590\n",
       "3  4    0.000232  17960.528777\n",
       "4  5    0.000254  17965.095964"
      ],
      "text/html": [
       "<div>\n",
       "<style scoped>\n",
       "    .dataframe tbody tr th:only-of-type {\n",
       "        vertical-align: middle;\n",
       "    }\n",
       "\n",
       "    .dataframe tbody tr th {\n",
       "        vertical-align: top;\n",
       "    }\n",
       "\n",
       "    .dataframe thead th {\n",
       "        text-align: right;\n",
       "    }\n",
       "</style>\n",
       "<table border=\"1\" class=\"dataframe\">\n",
       "  <thead>\n",
       "    <tr style=\"text-align: right;\">\n",
       "      <th></th>\n",
       "      <th>h</th>\n",
       "      <th>log_return</th>\n",
       "      <th>price</th>\n",
       "    </tr>\n",
       "  </thead>\n",
       "  <tbody>\n",
       "    <tr>\n",
       "      <th>0</th>\n",
       "      <td>1</td>\n",
       "      <td>0.000045</td>\n",
       "      <td>17950.182363</td>\n",
       "    </tr>\n",
       "    <tr>\n",
       "      <th>1</th>\n",
       "      <td>2</td>\n",
       "      <td>0.000146</td>\n",
       "      <td>17952.804738</td>\n",
       "    </tr>\n",
       "    <tr>\n",
       "      <th>2</th>\n",
       "      <td>3</td>\n",
       "      <td>0.000198</td>\n",
       "      <td>17956.360590</td>\n",
       "    </tr>\n",
       "    <tr>\n",
       "      <th>3</th>\n",
       "      <td>4</td>\n",
       "      <td>0.000232</td>\n",
       "      <td>17960.528777</td>\n",
       "    </tr>\n",
       "    <tr>\n",
       "      <th>4</th>\n",
       "      <td>5</td>\n",
       "      <td>0.000254</td>\n",
       "      <td>17965.095964</td>\n",
       "    </tr>\n",
       "  </tbody>\n",
       "</table>\n",
       "</div>"
      ]
     },
     "execution_count": 14,
     "metadata": {},
     "output_type": "execute_result"
    }
   ],
   "execution_count": 14
  },
  {
   "metadata": {
    "ExecuteTime": {
     "end_time": "2025-08-19T10:30:26.126440Z",
     "start_time": "2025-08-19T10:30:26.058265Z"
    }
   },
   "cell_type": "code",
   "source": [
    "plt.figure(figsize=(10, 4))\n",
    "plt.plot(np.arange(1, horizon_30 + 1), price_path, marker=\"o\")\n",
    "plt.title(f\"Recursive forecast price path (H={horizon_30})\")\n",
    "plt.xlabel(\"Horizon (business days)\")\n",
    "plt.ylabel(\"Price\")\n",
    "plt.grid(True, alpha=0.3)\n",
    "plt.show()"
   ],
   "id": "2df06236616c54f",
   "outputs": [
    {
     "data": {
      "text/plain": [
       "<Figure size 1000x400 with 1 Axes>"
      ],
      "image/png": "[encoded data removed]"
     },
     "metadata": {},
     "output_type": "display_data"
    }
   ],
   "execution_count": 15
  },
  {
   "metadata": {
    "ExecuteTime": {
     "end_time": "2025-08-19T10:30:26.326391Z",
     "start_time": "2025-08-19T10:30:26.146260Z"
    }
   },
   "cell_type": "code",
   "source": [
    "y_pred = trainer.predict(X_test)\n",
    "y_pred = np.asarray(y_pred).reshape(-1, 1)\n",
    "\n",
    "plot_price_overlay(\n",
    "    df_full,\n",
    "    X_test=X_test,\n",
    "    y_pred=y_pred,\n",
    "    path=Path(cfg.data.fig_dir) / \"recursive_pred_vs_actual_adj_close_price_plus_1.png\",\n",
    ")"
   ],
   "id": "bc98bcaa4c204a69",
   "outputs": [
    {
     "data": {
      "text/plain": [
       "<Figure size 1200x500 with 1 Axes>"
      ],
      "image/png": "[encoded data removed]"
     },
     "metadata": {},
     "output_type": "display_data"
    }
   ],
   "execution_count": 16
  },
  {
   "metadata": {
    "ExecuteTime": {
     "end_time": "2025-08-19T10:30:26.494381Z",
     "start_time": "2025-08-19T10:30:26.329896Z"
    }
   },
   "cell_type": "code",
   "source": [
    "anchor_idx = df_full.shape[0] - horizon_30 - 1\n",
    "\n",
    "plot_price_overlay_next_30(\n",
    "    df_full,\n",
    "    lr_path=lr_path,\n",
    "    anchor_idx=anchor_idx,\n",
    "    horizon=len(lr_path),\n",
    "    hist_window=200,\n",
    "    path=Path(cfg.data.fig_dir) / \"recursive_pred_vs_actual_adj_close_plus_30.png\",\n",
    ")"
   ],
   "id": "70692e4669393c2a",
   "outputs": [
    {
     "data": {
      "text/plain": [
       "<Figure size 1200x500 with 1 Axes>"
      ],
      "image/png": "[encoded data removed]"
     },
     "metadata": {},
     "output_type": "display_data"
    }
   ],
   "execution_count": 17
  }
 ],
 "metadata": {
  "kernelspec": {
   "display_name": "Python 3",
   "language": "python",
   "name": "python3"
  },
  "language_info": {
   "codemirror_mode": {
    "name": "ipython",
    "version": 2
   },
   "file_extension": ".py",
   "mimetype": "text/x-python",
   "name": "python",
   "nbconvert_exporter": "python",
   "pygments_lexer": "ipython2",
   "version": "2.7.6"
  }
 },
 "nbformat": 4,
 "nbformat_minor": 5
}
